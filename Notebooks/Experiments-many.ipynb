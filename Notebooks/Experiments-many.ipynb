{
 "cells": [
  {
   "cell_type": "code",
   "execution_count": 1,
   "metadata": {},
   "outputs": [],
   "source": [
    "from Wind.Private.DBConfig import mongoconnection\n",
    "from pymongo import MongoClient\n",
    "import matplotlib\n",
    "import matplotlib.pyplot as plt\n",
    "import numpy as np\n",
    "%matplotlib inline"
   ]
  },
  {
   "cell_type": "code",
   "execution_count": 2,
   "metadata": {},
   "outputs": [],
   "source": [
    "client = MongoClient(mongoconnection.server)\n",
    "db = client[mongoconnection.db]\n",
    "db.authenticate(mongoconnection.user, password=mongoconnection.passwd)\n",
    "col = db[mongoconnection.col]\n"
   ]
  },
  {
   "cell_type": "code",
   "execution_count": 3,
   "metadata": {},
   "outputs": [],
   "source": [
    "colors = {'regdir':'b', 'seq2seq':'r', 'mlps2s': 'g', 'convo': 'c', 'mlpdir': 'y'}\n",
    "\n",
    "def find_exp(query):\n",
    "    return col.find(query)\n",
    "\n",
    "def count_exp(query):\n",
    "    print col.count(query)\n",
    "    \n",
    "    \n",
    "def compare_exp(lexp, n=10):\n",
    "    \n",
    "    fig = plt.figure(figsize=(16, 10), dpi=100)\n",
    "\n",
    "    axes = fig.add_subplot(1, 2, 1)\n",
    "\n",
    "    ldiff = {'regdir':[], 'seq2seq':[], 'mlps2s':[],'convo':[],'mlpdir':[]}\n",
    "    \n",
    "    for exp in lexp:\n",
    "        data = np.array(exp['result'])\n",
    "        ldiff[exp['arch']['mode']].append((np.sum(data[:,1]), exp))\n",
    "        axes.plot(data[:,0], data[:,1],colors[exp['arch']['mode']])\n",
    "\n",
    "    \n",
    "    besta = {}\n",
    "    for type in ldiff:\n",
    "        besta[type] = [b[1] for b in sorted(ldiff[type], reverse=True)[:n]]\n",
    "\n",
    "\n",
    "        for exp in besta[type]:\n",
    "            axes = fig.add_subplot(1, 2, 2)\n",
    "            data = np.array(exp['result'])\n",
    "            axes.plot(data[:,0], data[:,1], colors[exp['arch']['mode']])\n",
    "            axes.plot(data[:,0], data[:,3], colors[exp['arch']['mode']]+'--')\n",
    "            \n",
    "    return besta\n",
    "\n",
    "    "
   ]
  },
  {
   "cell_type": "code",
   "execution_count": 4,
   "metadata": {},
   "outputs": [],
   "source": [
    "query1= {'status':'done', \n",
    "         #'arch.mode':'seq2seq',\n",
    "             #   'data.lag':32, \n",
    "             # 'data.dataset':3, \n",
    "               # 'data.vars': [0,1,2,3],\n",
    "              #  'arch.neurons': 32, \n",
    "               # 'arch.drop':0.1,\n",
    "              #  'arch.rnn':'GRU',\n",
    "               # 'arch.bidirectional':False,\n",
    "               # 'arch.activation':'tanh'\n",
    "               }"
   ]
  },
  {
   "cell_type": "code",
   "execution_count": 5,
   "metadata": {},
   "outputs": [
    {
     "name": "stdout",
     "output_type": "stream",
     "text": [
      "4967\n"
     ]
    }
   ],
   "source": [
    "count_exp(query1)"
   ]
  },
  {
   "cell_type": "code",
   "execution_count": 8,
   "metadata": {},
   "outputs": [],
   "source": [
    "res1= find_exp(query1)\n",
    "\n",
    "#print res1['arch']"
   ]
  },
  {
   "cell_type": "code",
   "execution_count": null,
   "metadata": {},
   "outputs": [],
   "source": [
    "best = compare_exp(res1, n=5)"
   ]
  },
  {
   "cell_type": "code",
   "execution_count": 57,
   "metadata": {
    "scrolled": false
   },
   "outputs": [
    {
     "name": "stdout",
     "output_type": "stream",
     "text": [
      "('ID:', u'1524569826')\n",
      "('DS:', 1)\n",
      "('LAG:', 6)\n",
      "('VARS:', [0, 1, 2, 3, 4, 5])\n",
      "('RNN:', '')\n",
      "('NLY:', 2)\n",
      "('NLYE:', '')\n",
      "('NLYD', '')\n",
      "('NNEUR:', '')\n",
      "('NNEURD:', 0)\n",
      "('DROP:', 0)\n",
      "('BI:', '')\n",
      "('FILT:', '')\n",
      "('STRD:', '')\n",
      "('KERSIZ:', '')\n",
      "('ACT:', u'relu')\n",
      "('MODE:', u'mlpdir')\n",
      "('OPT:', u'adamax')\n",
      "('FULLLY:', [128])\n",
      "[0.88969101 0.75693469 0.6532345  0.56475631 0.49711786 0.4505729\n",
      " 0.41710192 0.39096545 0.37673552 0.356084   0.33199158 0.30459555]\n"
     ]
    }
   ],
   "source": [
    "i=2\n",
    "type = 'mlpdir'\n",
    "\n",
    "print('ID:', best[type][i]['_id'])\n",
    "print('DS:', best[type][i]['data']['dataset'])\n",
    "print('LAG:', best[type][i]['data']['lag'])\n",
    "print('VARS:', best[type][i]['data']['vars'])\n",
    "print('RNN:', best[type][i]['arch']['rnn'] if 'rnn' in best[type][i]['arch'] else '')\n",
    "print('NLY:', best[type][i]['arch']['nlayers'])\n",
    "print('NLYE:', best[type][i]['arch']['nlayersE'] if 'nlayersE' in best[type][i]['arch'] else '')\n",
    "print('NLYD', best[type][i]['arch']['nlayersD'] if 'nlayersD' in best[type][i]['arch'] else '') \n",
    "print('NNEUR:', best[type][i]['arch']['neurons'] if 'neurons' in best[type][i]['arch'] else '')\n",
    "print('NNEURD:', 0 if not 'neuronsD' in  best[type][i]['arch'] else best[type][i]['arch']['neuronsD'])\n",
    "print('DROP:', best[type][i]['arch']['drop'])\n",
    "print('BI:',best[type][i]['arch']['bidirectional'] if 'bidirectional' in best[type][i]['arch'] else '')\n",
    "print('FILT:', best[type][i]['arch']['filters'] if 'filters' in best[type][i]['arch'] else '')\n",
    "print('STRD:', best[type][i]['arch']['strides'] if 'strides' in best[type][i]['arch'] else '')\n",
    "print('KERSIZ:', best[type][i]['arch']['kernel_size'] if 'kernel_size' in best[type][i]['arch'] else '')    \n",
    "print('ACT:', best[type][i]['arch']['activation'])\n",
    "print('MODE:', best[type][i]['arch']['mode'])\n",
    "print('OPT:', best[type][i]['training']['optimizer'])\n",
    "print('FULLLY:', best[type][i]['arch']['full'])\n",
    "\n",
    "print(np.array(best[type][i]['result'])[:,1])"
   ]
  },
  {
   "cell_type": "code",
   "execution_count": 8,
   "metadata": {},
   "outputs": [
    {
     "name": "stdout",
     "output_type": "stream",
     "text": [
      "('mlpdir', array([0.89830886, 0.78454313, 0.71078025, 0.64965822, 0.59802667,\n",
      "       0.55579601, 0.51492255, 0.48673415, 0.45998703, 0.44027631,\n",
      "       0.42744768, 0.41037495]))\n",
      "('mlps2s', array([0.89028615, 0.79685785, 0.72747986, 0.67260415, 0.62832063,\n",
      "       0.58953243, 0.55356872, 0.5201536 , 0.49378728, 0.47363851,\n",
      "       0.45910511, 0.44572036]))\n",
      "('convo', array([0.89823381, 0.79280691, 0.71477543, 0.6507843 , 0.60116633,\n",
      "       0.55752343, 0.51642419, 0.47579219, 0.46441122, 0.42361909,\n",
      "       0.42312017, 0.40932576]))\n",
      "('regdir', array([0.90769386, 0.81398563, 0.74528206, 0.684751  , 0.63929894,\n",
      "       0.60113819, 0.56214923, 0.53505827, 0.50872348, 0.48454918,\n",
      "       0.46870792, 0.45930467]))\n",
      "('seq2seq', array([0.89787923, 0.79823203, 0.72437538, 0.66713222, 0.62014338,\n",
      "       0.58090355, 0.54418795, 0.50974762, 0.48261613, 0.46319924,\n",
      "       0.44873676, 0.43128099]))\n"
     ]
    }
   ],
   "source": [
    "i=0\n",
    "for type in best:\n",
    "    print(type, np.array(best[type][i]['result'])[:,1])  "
   ]
  },
  {
   "cell_type": "code",
   "execution_count": null,
   "metadata": {},
   "outputs": [],
   "source": []
  }
 ],
 "metadata": {
  "kernelspec": {
   "display_name": "Python 2",
   "language": "python",
   "name": "python2"
  },
  "language_info": {
   "codemirror_mode": {
    "name": "ipython",
    "version": 2
   },
   "file_extension": ".py",
   "mimetype": "text/x-python",
   "name": "python",
   "nbconvert_exporter": "python",
   "pygments_lexer": "ipython2",
   "version": "2.7.14"
  },
  "latex_envs": {
   "LaTeX_envs_menu_present": true,
   "autoclose": false,
   "autocomplete": true,
   "bibliofile": "biblio.bib",
   "cite_by": "apalike",
   "current_citInitial": 1,
   "eqLabelWithNumbers": true,
   "eqNumInitial": 1,
   "hotkeys": {
    "equation": "Ctrl-E",
    "itemize": "Ctrl-I"
   },
   "labels_anchors": false,
   "latex_user_defs": false,
   "report_style_numbering": false,
   "user_envs_cfg": false
  },
  "toc": {
   "nav_menu": {},
   "number_sections": true,
   "sideBar": true,
   "skip_h1_title": false,
   "toc_cell": false,
   "toc_position": {},
   "toc_section_display": "block",
   "toc_window_display": false
  }
 },
 "nbformat": 4,
 "nbformat_minor": 2
}
