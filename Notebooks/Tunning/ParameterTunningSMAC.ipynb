{
 "cells": [
  {
   "cell_type": "code",
   "execution_count": 1,
   "metadata": {
    "ExecuteTime": {
     "end_time": "2020-03-12T10:11:54.717276Z",
     "start_time": "2020-03-12T10:11:52.480206Z"
    }
   },
   "outputs": [],
   "source": [
    "%load_ext autoreload\n",
    "%autoreload 2\n",
    "!export PYTHONPATH=/home/bejar/PycharmProjects/Wind/"
   ]
  },
  {
   "cell_type": "code",
   "execution_count": 2,
   "metadata": {
    "ExecuteTime": {
     "end_time": "2020-03-12T10:12:47.688565Z",
     "start_time": "2020-03-12T10:11:54.719799Z"
    }
   },
   "outputs": [
    {
     "data": {
      "text/html": [
       "        <script type=\"text/javascript\">\n",
       "        window.PlotlyConfig = {MathJaxConfig: 'local'};\n",
       "        if (window.MathJax) {MathJax.Hub.Config({SVG: {font: \"STIX-Web\"}});}\n",
       "        if (typeof require !== 'undefined') {\n",
       "        require.undef(\"plotly\");\n",
       "        requirejs.config({\n",
       "            paths: {\n",
       "                'plotly': ['https://cdn.plot.ly/plotly-2.2.0.min']\n",
       "            }\n",
       "        });\n",
       "        require(['plotly'], function(Plotly) {\n",
       "            window._Plotly = Plotly;\n",
       "        });\n",
       "        }\n",
       "        </script>\n",
       "        "
      ]
     },
     "metadata": {},
     "output_type": "display_data"
    }
   ],
   "source": [
    "from Wind.Results import DBResults\n",
    "from plotly.offline import init_notebook_mode\n",
    "init_notebook_mode(connected=True)\n",
    "from IPython.core.interactiveshell import InteractiveShell\n",
    "InteractiveShell.ast_node_interactivity = \"all\"\n",
    "import seaborn as sns\n",
    "from Wind.Private.DBConfig import mongolocaltest, mongolocal, mongolocalmeasures\n",
    "import matplotlib.pyplot as plt\n",
    "import plotly.offline as py\n",
    "import plotly.graph_objs as go\n",
    "import plotly.figure_factory as ff"
   ]
  },
  {
   "cell_type": "markdown",
   "metadata": {},
   "source": [
    "# MLP s2s"
   ]
  },
  {
   "cell_type": "code",
   "execution_count": 15,
   "metadata": {
    "ExecuteTime": {
     "end_time": "2019-09-08T17:54:46.347660Z",
     "start_time": "2019-09-08T17:54:31.797974Z"
    }
   },
   "outputs": [],
   "source": [
    "query={'experiment':'Amlps2ssmac', 'status':'done'}\n",
    "\n",
    "results = DBResults(conn=mongolocaltest)\n",
    "#results = DBResults()\n",
    "\n",
    "results.results_dataframe_retrieve(query, arch=['activation', 'full','drop' ], data=['lag'])"
   ]
  },
  {
   "cell_type": "code",
   "execution_count": 16,
   "metadata": {
    "ExecuteTime": {
     "end_time": "2019-09-08T17:54:46.587759Z",
     "start_time": "2019-09-08T17:54:46.350997Z"
    }
   },
   "outputs": [
    {
     "name": "stdout",
     "output_type": "stream",
     "text": [
      "37050\n",
      "Total=190 Thres=4\n"
     ]
    },
    {
     "data": {
      "text/html": [
       "<style type=\"text/css\">\n",
       "#T_adab4_row0_col0, #T_adab4_row0_col1, #T_adab4_row0_col4, #T_adab4_row0_col5, #T_adab4_row0_col6, #T_adab4_row1_col0, #T_adab4_row1_col2, #T_adab4_row1_col5, #T_adab4_row2_col0, #T_adab4_row2_col5, #T_adab4_row3_col0, #T_adab4_row3_col3, #T_adab4_row3_col5 {\n",
       "  background-color: yellow;\n",
       "}\n",
       "</style>\n",
       "<table id=\"T_adab4_\">\n",
       "  <thead>\n",
       "    <tr>\n",
       "      <th class=\"blank level0\" >&nbsp;</th>\n",
       "      <th class=\"col_heading level0 col0\" >activation</th>\n",
       "      <th class=\"col_heading level0 col1\" >full</th>\n",
       "      <th class=\"col_heading level0 col2\" >drop</th>\n",
       "      <th class=\"col_heading level0 col3\" >lag</th>\n",
       "      <th class=\"col_heading level0 col4\" colspan=\"2\">test</th>\n",
       "      <th class=\"col_heading level0 col6\" >val</th>\n",
       "    </tr>\n",
       "    <tr>\n",
       "      <th class=\"blank level1\" >&nbsp;</th>\n",
       "      <th class=\"col_heading level1 col0\" ></th>\n",
       "      <th class=\"col_heading level1 col1\" ></th>\n",
       "      <th class=\"col_heading level1 col2\" ></th>\n",
       "      <th class=\"col_heading level1 col3\" ></th>\n",
       "      <th class=\"col_heading level1 col4\" >mean</th>\n",
       "      <th class=\"col_heading level1 col5\" >count</th>\n",
       "      <th class=\"col_heading level1 col6\" >mean</th>\n",
       "    </tr>\n",
       "  </thead>\n",
       "  <tbody>\n",
       "    <tr>\n",
       "      <th id=\"T_adab4_level0_row0\" class=\"row_heading level0 row0\" >64</th>\n",
       "      <td id=\"T_adab4_row0_col0\" class=\"data row0 col0\" >['leaky', 0.2]</td>\n",
       "      <td id=\"T_adab4_row0_col1\" class=\"data row0 col1\" >[512, 256]</td>\n",
       "      <td id=\"T_adab4_row0_col2\" class=\"data row0 col2\" >0.3</td>\n",
       "      <td id=\"T_adab4_row0_col3\" class=\"data row0 col3\" >12</td>\n",
       "      <td id=\"T_adab4_row0_col4\" class=\"data row0 col4\" >7.224654</td>\n",
       "      <td id=\"T_adab4_row0_col5\" class=\"data row0 col5\" >675</td>\n",
       "      <td id=\"T_adab4_row0_col6\" class=\"data row0 col6\" >6.919793</td>\n",
       "    </tr>\n",
       "    <tr>\n",
       "      <th id=\"T_adab4_level0_row1\" class=\"row_heading level0 row1\" >70</th>\n",
       "      <td id=\"T_adab4_row1_col0\" class=\"data row1 col0\" >['leaky', 0.2]</td>\n",
       "      <td id=\"T_adab4_row1_col1\" class=\"data row1 col1\" >[1024, 512]</td>\n",
       "      <td id=\"T_adab4_row1_col2\" class=\"data row1 col2\" >0.4</td>\n",
       "      <td id=\"T_adab4_row1_col3\" class=\"data row1 col3\" >12</td>\n",
       "      <td id=\"T_adab4_row1_col4\" class=\"data row1 col4\" >7.224224</td>\n",
       "      <td id=\"T_adab4_row1_col5\" class=\"data row1 col5\" >675</td>\n",
       "      <td id=\"T_adab4_row1_col6\" class=\"data row1 col6\" >6.917029</td>\n",
       "    </tr>\n",
       "    <tr>\n",
       "      <th id=\"T_adab4_level0_row2\" class=\"row_heading level0 row2\" >72</th>\n",
       "      <td id=\"T_adab4_row2_col0\" class=\"data row2 col0\" >['leaky', 0.2]</td>\n",
       "      <td id=\"T_adab4_row2_col1\" class=\"data row2 col1\" >[1024, 512]</td>\n",
       "      <td id=\"T_adab4_row2_col2\" class=\"data row2 col2\" >0.3</td>\n",
       "      <td id=\"T_adab4_row2_col3\" class=\"data row2 col3\" >12</td>\n",
       "      <td id=\"T_adab4_row2_col4\" class=\"data row2 col4\" >7.220621</td>\n",
       "      <td id=\"T_adab4_row2_col5\" class=\"data row2 col5\" >675</td>\n",
       "      <td id=\"T_adab4_row2_col6\" class=\"data row2 col6\" >6.903030</td>\n",
       "    </tr>\n",
       "    <tr>\n",
       "      <th id=\"T_adab4_level0_row3\" class=\"row_heading level0 row3\" >73</th>\n",
       "      <td id=\"T_adab4_row3_col0\" class=\"data row3 col0\" >['leaky', 0.2]</td>\n",
       "      <td id=\"T_adab4_row3_col1\" class=\"data row3 col1\" >[1024, 512]</td>\n",
       "      <td id=\"T_adab4_row3_col2\" class=\"data row3 col2\" >0.3</td>\n",
       "      <td id=\"T_adab4_row3_col3\" class=\"data row3 col3\" >6</td>\n",
       "      <td id=\"T_adab4_row3_col4\" class=\"data row3 col4\" >7.220561</td>\n",
       "      <td id=\"T_adab4_row3_col5\" class=\"data row3 col5\" >675</td>\n",
       "      <td id=\"T_adab4_row3_col6\" class=\"data row3 col6\" >6.908850</td>\n",
       "    </tr>\n",
       "  </tbody>\n",
       "</table>\n"
      ],
      "text/plain": [
       "<pandas.io.formats.style.Styler at 0x7f776e943eb0>"
      ]
     },
     "execution_count": 16,
     "metadata": {},
     "output_type": "execute_result"
    }
   ],
   "source": [
    "results.results_dataframe_aggregate(threshold=7.22)"
   ]
  },
  {
   "cell_type": "code",
   "execution_count": 17,
   "metadata": {
    "ExecuteTime": {
     "end_time": "2019-06-13T10:07:03.706286Z",
     "start_time": "2019-06-13T10:07:02.661550Z"
    }
   },
   "outputs": [
    {
     "data": {
      "application/vnd.plotly.v1+json": {
       "config": {
        "linkText": "Export to plot.ly",
        "plotlyServerURL": "https://plot.ly",
        "showLink": false
       },
       "data": [
        {
         "marker": {
          "size": 20
         },
         "mode": "markers",
         "name": "['elu', 0.3]",
         "text": [
          "full:[256, 128, 64]-drop:0.5-lag:12-activation:['elu', 0.3]-activation:['elu', 0.3]",
          "full:[512, 256, 128]-drop:0.4-lag:18-activation:['elu', 0.3]-activation:['elu', 0.3]",
          "full:[512, 256, 128]-drop:0.3-lag:18-activation:['elu', 0.3]-activation:['elu', 0.3]",
          "full:[512, 256]-drop:0.5-lag:18-activation:['elu', 0.3]-activation:['elu', 0.3]",
          "full:[512, 256]-drop:0.3-lag:12-activation:['elu', 0.3]-activation:['elu', 0.3]",
          "full:[512, 256]-drop:0.2-lag:12-activation:['elu', 0.3]-activation:['elu', 0.3]",
          "full:[512, 256]-drop:0.2-lag:6-activation:['elu', 0.3]-activation:['elu', 0.3]",
          "full:[1024, 512]-drop:0.5-lag:12-activation:['elu', 0.3]-activation:['elu', 0.3]",
          "full:[1024, 512]-drop:0.4-lag:6-activation:['elu', 0.3]-activation:['elu', 0.3]",
          "full:[1024, 512]-drop:0.2-lag:6-activation:['elu', 0.3]-activation:['elu', 0.3]",
          "full:[4096]-drop:0.5-lag:12-activation:['elu', 0.3]-activation:['elu', 0.3]",
          "full:[4096]-drop:0.0-lag:6-activation:['elu', 0.3]-activation:['elu', 0.3]",
          "full:[4096]-drop:0.1-lag:12-activation:['elu', 0.3]-activation:['elu', 0.3]",
          "full:[2048, 1024]-drop:0.5-lag:6-activation:['elu', 0.3]-activation:['elu', 0.3]",
          "full:[2048, 1024]-drop:0.4-lag:12-activation:['elu', 0.3]-activation:['elu', 0.3]",
          "full:[2048, 1024]-drop:0.4-lag:6-activation:['elu', 0.3]-activation:['elu', 0.3]",
          "full:[2048, 1024]-drop:0.3-lag:6-activation:['elu', 0.3]-activation:['elu', 0.3]",
          "full:[2048, 1024]-drop:0.2-lag:12-activation:['elu', 0.3]-activation:['elu', 0.3]",
          "full:[128, 64]-drop:0.3-lag:12-activation:['elu', 0.3]-activation:['elu', 0.3]",
          "full:[128, 64]-drop:0.05-lag:24-activation:['elu', 0.3]-activation:['elu', 0.3]",
          "full:[64, 32, 16]-drop:0.0-lag:6-activation:['elu', 0.3]-activation:['elu', 0.3]",
          "full:[256]-drop:0.4-lag:6-activation:['elu', 0.3]-activation:['elu', 0.3]",
          "full:[4096, 2048]-drop:0.5-lag:12-activation:['elu', 0.3]-activation:['elu', 0.3]",
          "full:[4096, 2048]-drop:0.5-lag:6-activation:['elu', 0.3]-activation:['elu', 0.3]",
          "full:[4096, 2048]-drop:0.3-lag:12-activation:['elu', 0.3]-activation:['elu', 0.3]",
          "full:[32, 16]-drop:0.4-lag:12-activation:['elu', 0.3]-activation:['elu', 0.3]",
          "full:[32, 16]-drop:0.0-lag:18-activation:['elu', 0.3]-activation:['elu', 0.3]",
          "full:[2048, 1024, 512]-drop:0.05-lag:6-activation:['elu', 0.3]-activation:['elu', 0.3]"
         ],
         "type": "scatter",
         "x": [
          7.143518349649244,
          7.205922897675731,
          7.214015607550884,
          7.21002251006739,
          7.20637746041914,
          7.198056326564891,
          7.155704519560935
         ],
         "y": [
          200,
          675,
          675,
          675,
          675,
          675,
          300
         ]
        },
        {
         "marker": {
          "size": 20
         },
         "mode": "markers",
         "name": "['elu', 0.4]",
         "text": [
          "full:[256, 128, 64]-drop:0.5-lag:6-activation:['elu', 0.4]-activation:['elu', 0.4]",
          "full:[256, 128, 64]-drop:0.0-lag:6-activation:['elu', 0.4]-activation:['elu', 0.4]",
          "full:[512, 256]-drop:0.5-lag:18-activation:['elu', 0.4]-activation:['elu', 0.4]",
          "full:[512, 256]-drop:0.3-lag:12-activation:['elu', 0.4]-activation:['elu', 0.4]",
          "full:[512, 256]-drop:0.3-lag:6-activation:['elu', 0.4]-activation:['elu', 0.4]",
          "full:[512, 256]-drop:0.2-lag:6-activation:['elu', 0.4]-activation:['elu', 0.4]",
          "full:[1024, 512]-drop:0.4-lag:12-activation:['elu', 0.4]-activation:['elu', 0.4]",
          "full:[1024, 512]-drop:0.3-lag:6-activation:['elu', 0.4]-activation:['elu', 0.4]",
          "full:[1024, 512]-drop:0.2-lag:12-activation:['elu', 0.4]-activation:['elu', 0.4]",
          "full:[1024, 512]-drop:0.2-lag:6-activation:['elu', 0.4]-activation:['elu', 0.4]",
          "full:[2048, 1024]-drop:0.5-lag:18-activation:['elu', 0.4]-activation:['elu', 0.4]",
          "full:[2048, 1024]-drop:0.5-lag:6-activation:['elu', 0.4]-activation:['elu', 0.4]",
          "full:[2048, 1024]-drop:0.4-lag:12-activation:['elu', 0.4]-activation:['elu', 0.4]",
          "full:[2048, 1024]-drop:0.4-lag:6-activation:['elu', 0.4]-activation:['elu', 0.4]",
          "full:[2048, 1024]-drop:0.3-lag:12-activation:['elu', 0.4]-activation:['elu', 0.4]",
          "full:[2048, 1024]-drop:0.2-lag:12-activation:['elu', 0.4]-activation:['elu', 0.4]",
          "full:[2048, 1024]-drop:0.1-lag:18-activation:['elu', 0.4]-activation:['elu', 0.4]",
          "full:[128, 64]-drop:0.4-lag:6-activation:['elu', 0.4]-activation:['elu', 0.4]",
          "full:[256]-drop:0.05-lag:6-activation:['elu', 0.4]-activation:['elu', 0.4]",
          "full:[4096, 2048]-drop:0.3-lag:24-activation:['elu', 0.4]-activation:['elu', 0.4]",
          "full:[4096, 2048]-drop:0.0-lag:24-activation:['elu', 0.4]-activation:['elu', 0.4]",
          "full:[32, 16]-drop:0.5-lag:18-activation:['elu', 0.4]-activation:['elu', 0.4]",
          "full:[512]-drop:0.4-lag:12-activation:['elu', 0.4]-activation:['elu', 0.4]",
          "full:[512]-drop:0.0-lag:24-activation:['elu', 0.4]-activation:['elu', 0.4]",
          "full:[1024, 512, 256]-drop:0.4-lag:24-activation:['elu', 0.4]-activation:['elu', 0.4]"
         ],
         "type": "scatter",
         "x": [
          7.147508470423283,
          7.130610881215895,
          7.206123550892476,
          7.134053545141117,
          7.161403053172675
         ],
         "y": [
          200,
          150,
          675,
          150,
          325
         ]
        },
        {
         "marker": {
          "size": 20
         },
         "mode": "markers",
         "name": "['leaky', 0.1]",
         "text": [
          "full:[256, 128, 64]-drop:0.4-lag:12-activation:['leaky', 0.1]-activation:['leaky', 0.1]",
          "full:[256, 128, 64]-drop:0.05-lag:6-activation:['leaky', 0.1]-activation:['leaky', 0.1]",
          "full:[512, 256, 128]-drop:0.4-lag:18-activation:['leaky', 0.1]-activation:['leaky', 0.1]",
          "full:[512, 256]-drop:0.5-lag:12-activation:['leaky', 0.1]-activation:['leaky', 0.1]",
          "full:[512, 256]-drop:0.4-lag:12-activation:['leaky', 0.1]-activation:['leaky', 0.1]",
          "full:[512, 256]-drop:0.4-lag:6-activation:['leaky', 0.1]-activation:['leaky', 0.1]",
          "full:[512, 256]-drop:0.3-lag:12-activation:['leaky', 0.1]-activation:['leaky', 0.1]",
          "full:[512, 256]-drop:0.3-lag:6-activation:['leaky', 0.1]-activation:['leaky', 0.1]",
          "full:[512, 256]-drop:0.2-lag:12-activation:['leaky', 0.1]-activation:['leaky', 0.1]",
          "full:[512, 256]-drop:0.2-lag:6-activation:['leaky', 0.1]-activation:['leaky', 0.1]",
          "full:[1024, 512]-drop:0.5-lag:12-activation:['leaky', 0.1]-activation:['leaky', 0.1]",
          "full:[1024, 512]-drop:0.5-lag:6-activation:['leaky', 0.1]-activation:['leaky', 0.1]",
          "full:[1024, 512]-drop:0.4-lag:12-activation:['leaky', 0.1]-activation:['leaky', 0.1]",
          "full:[1024, 512]-drop:0.4-lag:6-activation:['leaky', 0.1]-activation:['leaky', 0.1]",
          "full:[1024, 512]-drop:0.3-lag:12-activation:['leaky', 0.1]-activation:['leaky', 0.1]",
          "full:[1024, 512]-drop:0.3-lag:6-activation:['leaky', 0.1]-activation:['leaky', 0.1]",
          "full:[1024, 512]-drop:0.2-lag:6-activation:['leaky', 0.1]-activation:['leaky', 0.1]",
          "full:[2048, 1024]-drop:0.5-lag:12-activation:['leaky', 0.1]-activation:['leaky', 0.1]",
          "full:[2048, 1024]-drop:0.5-lag:18-activation:['leaky', 0.1]-activation:['leaky', 0.1]",
          "full:[2048, 1024]-drop:0.5-lag:6-activation:['leaky', 0.1]-activation:['leaky', 0.1]",
          "full:[2048, 1024]-drop:0.4-lag:12-activation:['leaky', 0.1]-activation:['leaky', 0.1]",
          "full:[2048, 1024]-drop:0.4-lag:6-activation:['leaky', 0.1]-activation:['leaky', 0.1]",
          "full:[2048, 1024]-drop:0.3-lag:12-activation:['leaky', 0.1]-activation:['leaky', 0.1]",
          "full:[2048, 1024]-drop:0.2-lag:6-activation:['leaky', 0.1]-activation:['leaky', 0.1]",
          "full:[2048, 1024]-drop:0.0-lag:6-activation:['leaky', 0.1]-activation:['leaky', 0.1]",
          "full:[128, 64]-drop:0.5-lag:24-activation:['leaky', 0.1]-activation:['leaky', 0.1]",
          "full:[128, 64]-drop:0.3-lag:24-activation:['leaky', 0.1]-activation:['leaky', 0.1]",
          "full:[64, 32, 16]-drop:0.05-lag:6-activation:['leaky', 0.1]-activation:['leaky', 0.1]",
          "full:[256]-drop:0.1-lag:12-activation:['leaky', 0.1]-activation:['leaky', 0.1]",
          "full:[256]-drop:0.1-lag:6-activation:['leaky', 0.1]-activation:['leaky', 0.1]",
          "full:[4096, 2048]-drop:0.5-lag:12-activation:['leaky', 0.1]-activation:['leaky', 0.1]",
          "full:[4096, 2048]-drop:0.5-lag:18-activation:['leaky', 0.1]-activation:['leaky', 0.1]",
          "full:[4096, 2048]-drop:0.5-lag:6-activation:['leaky', 0.1]-activation:['leaky', 0.1]",
          "full:[4096, 2048]-drop:0.4-lag:12-activation:['leaky', 0.1]-activation:['leaky', 0.1]",
          "full:[4096, 2048]-drop:0.4-lag:6-activation:['leaky', 0.1]-activation:['leaky', 0.1]",
          "full:[4096, 2048]-drop:0.3-lag:6-activation:['leaky', 0.1]-activation:['leaky', 0.1]",
          "full:[4096, 2048]-drop:0.2-lag:12-activation:['leaky', 0.1]-activation:['leaky', 0.1]",
          "full:[32, 16]-drop:0.3-lag:12-activation:['leaky', 0.1]-activation:['leaky', 0.1]",
          "full:[2048, 1024, 512]-drop:0.5-lag:18-activation:['leaky', 0.1]-activation:['leaky', 0.1]",
          "full:[1024, 512, 256]-drop:0.5-lag:18-activation:['leaky', 0.1]-activation:['leaky', 0.1]",
          "full:[2048]-drop:0.5-lag:24-activation:['leaky', 0.1]-activation:['leaky', 0.1]",
          "full:[32]-drop:0.3-lag:18-activation:['leaky', 0.1]-activation:['leaky', 0.1]",
          "full:[32]-drop:0.05-lag:18-activation:['leaky', 0.1]-activation:['leaky', 0.1]",
          "full:[32, 16, 8]-drop:0.1-lag:6-activation:['leaky', 0.1]-activation:['leaky', 0.1]",
          "full:[256, 128]-drop:0.0-lag:24-activation:['leaky', 0.1]-activation:['leaky', 0.1]",
          "full:[1024]-drop:0.3-lag:6-activation:['leaky', 0.1]-activation:['leaky', 0.1]",
          "full:[64]-drop:0.2-lag:6-activation:['leaky', 0.1]-activation:['leaky', 0.1]"
         ],
         "type": "scatter",
         "x": [
          7.141532859911323,
          7.153039810614695,
          7.193660082371475,
          7.155726618788768,
          7.186674977976579,
          7.167541482521736,
          7.143054682943904,
          7.194095893424051,
          7.187094609081544,
          7.17068168030754,
          7.156442382438616
         ],
         "y": [
          300,
          250,
          675,
          600,
          675,
          675,
          250,
          675,
          675,
          675,
          300
         ]
        },
        {
         "marker": {
          "size": 20
         },
         "mode": "markers",
         "name": "['leaky', 0.2]",
         "text": [
          "full:[256, 128, 64]-drop:0.1-lag:18-activation:['leaky', 0.2]-activation:['leaky', 0.2]",
          "full:[512, 256]-drop:0.5-lag:12-activation:['leaky', 0.2]-activation:['leaky', 0.2]",
          "full:[512, 256]-drop:0.5-lag:6-activation:['leaky', 0.2]-activation:['leaky', 0.2]",
          "full:[512, 256]-drop:0.4-lag:12-activation:['leaky', 0.2]-activation:['leaky', 0.2]",
          "full:[512, 256]-drop:0.4-lag:6-activation:['leaky', 0.2]-activation:['leaky', 0.2]",
          "full:[512, 256]-drop:0.3-lag:12-activation:['leaky', 0.2]-activation:['leaky', 0.2]",
          "full:[512, 256]-drop:0.3-lag:6-activation:['leaky', 0.2]-activation:['leaky', 0.2]",
          "full:[512, 256]-drop:0.2-lag:12-activation:['leaky', 0.2]-activation:['leaky', 0.2]",
          "full:[512, 256]-drop:0.2-lag:6-activation:['leaky', 0.2]-activation:['leaky', 0.2]",
          "full:[1024, 512]-drop:0.5-lag:12-activation:['leaky', 0.2]-activation:['leaky', 0.2]",
          "full:[1024, 512]-drop:0.5-lag:6-activation:['leaky', 0.2]-activation:['leaky', 0.2]",
          "full:[1024, 512]-drop:0.4-lag:12-activation:['leaky', 0.2]-activation:['leaky', 0.2]",
          "full:[1024, 512]-drop:0.4-lag:6-activation:['leaky', 0.2]-activation:['leaky', 0.2]",
          "full:[1024, 512]-drop:0.3-lag:12-activation:['leaky', 0.2]-activation:['leaky', 0.2]",
          "full:[1024, 512]-drop:0.3-lag:6-activation:['leaky', 0.2]-activation:['leaky', 0.2]",
          "full:[1024, 512]-drop:0.2-lag:12-activation:['leaky', 0.2]-activation:['leaky', 0.2]",
          "full:[1024, 512]-drop:0.2-lag:6-activation:['leaky', 0.2]-activation:['leaky', 0.2]",
          "full:[4096]-drop:0.4-lag:18-activation:['leaky', 0.2]-activation:['leaky', 0.2]",
          "full:[2048, 1024]-drop:0.5-lag:12-activation:['leaky', 0.2]-activation:['leaky', 0.2]",
          "full:[2048, 1024]-drop:0.5-lag:18-activation:['leaky', 0.2]-activation:['leaky', 0.2]",
          "full:[2048, 1024]-drop:0.5-lag:6-activation:['leaky', 0.2]-activation:['leaky', 0.2]",
          "full:[2048, 1024]-drop:0.4-lag:12-activation:['leaky', 0.2]-activation:['leaky', 0.2]",
          "full:[2048, 1024]-drop:0.4-lag:18-activation:['leaky', 0.2]-activation:['leaky', 0.2]",
          "full:[2048, 1024]-drop:0.4-lag:6-activation:['leaky', 0.2]-activation:['leaky', 0.2]",
          "full:[2048, 1024]-drop:0.3-lag:12-activation:['leaky', 0.2]-activation:['leaky', 0.2]",
          "full:[2048, 1024]-drop:0.3-lag:6-activation:['leaky', 0.2]-activation:['leaky', 0.2]",
          "full:[2048, 1024]-drop:0.2-lag:12-activation:['leaky', 0.2]-activation:['leaky', 0.2]",
          "full:[2048, 1024]-drop:0.2-lag:6-activation:['leaky', 0.2]-activation:['leaky', 0.2]",
          "full:[4096, 2048]-drop:0.5-lag:12-activation:['leaky', 0.2]-activation:['leaky', 0.2]",
          "full:[4096, 2048]-drop:0.5-lag:18-activation:['leaky', 0.2]-activation:['leaky', 0.2]",
          "full:[4096, 2048]-drop:0.5-lag:6-activation:['leaky', 0.2]-activation:['leaky', 0.2]",
          "full:[4096, 2048]-drop:0.4-lag:12-activation:['leaky', 0.2]-activation:['leaky', 0.2]",
          "full:[4096, 2048]-drop:0.4-lag:6-activation:['leaky', 0.2]-activation:['leaky', 0.2]",
          "full:[4096, 2048]-drop:0.3-lag:6-activation:['leaky', 0.2]-activation:['leaky', 0.2]",
          "full:[4096, 2048]-drop:0.2-lag:12-activation:['leaky', 0.2]-activation:['leaky', 0.2]",
          "full:[4096, 2048]-drop:0.2-lag:6-activation:['leaky', 0.2]-activation:['leaky', 0.2]",
          "full:[32, 16]-drop:0.5-lag:6-activation:['leaky', 0.2]-activation:['leaky', 0.2]",
          "full:[32, 16]-drop:0.4-lag:24-activation:['leaky', 0.2]-activation:['leaky', 0.2]",
          "full:[2048, 1024, 512]-drop:0.5-lag:18-activation:['leaky', 0.2]-activation:['leaky', 0.2]",
          "full:[512]-drop:0.1-lag:24-activation:['leaky', 0.2]-activation:['leaky', 0.2]",
          "full:[1024, 512, 256]-drop:0.5-lag:18-activation:['leaky', 0.2]-activation:['leaky', 0.2]",
          "full:[4096, 2048, 1024]-drop:0.0-lag:24-activation:['leaky', 0.2]-activation:['leaky', 0.2]",
          "full:[32]-drop:0.2-lag:24-activation:['leaky', 0.2]-activation:['leaky', 0.2]",
          "full:[32, 16, 8]-drop:0.0-lag:18-activation:['leaky', 0.2]-activation:['leaky', 0.2]"
         ],
         "type": "scatter",
         "x": [
          7.224653961632228,
          7.212205527974897,
          7.217451857731889,
          7.215807030784778,
          7.217221344112072,
          7.132613660500986,
          7.2242236456570215,
          7.217537588337716,
          7.220620660435452,
          7.220561333905549,
          7.198322571583254,
          7.203908501138071,
          7.214263814168561,
          7.1532356697602655,
          7.209431479079747,
          7.212222843811053,
          7.144716375729461,
          7.215572194406234,
          7.160452580801223,
          7.203210723767823,
          7.181345964722078,
          7.19212876024281,
          7.1455628367851
         ],
         "y": [
          675,
          675,
          675,
          675,
          675,
          150,
          675,
          675,
          675,
          675,
          675,
          675,
          675,
          200,
          675,
          675,
          200,
          675,
          250,
          675,
          675,
          675,
          525
         ]
        },
        {
         "marker": {
          "size": 20
         },
         "mode": "markers",
         "name": "['prelu', 0.0]",
         "text": [
          "full:[256, 128, 64]-drop:0.4-lag:12-activation:['prelu', 0.0]-activation:['prelu', 0.0]",
          "full:[1024, 512]-drop:0.05-lag:18-activation:['prelu', 0.0]-activation:['prelu', 0.0]",
          "full:[2048, 1024]-drop:0.4-lag:24-activation:['prelu', 0.0]-activation:['prelu', 0.0]",
          "full:[2048, 1024]-drop:0.3-lag:12-activation:['prelu', 0.0]-activation:['prelu', 0.0]",
          "full:[64, 32, 16]-drop:0.4-lag:18-activation:['prelu', 0.0]-activation:['prelu', 0.0]",
          "full:[4096, 2048]-drop:0.0-lag:24-activation:['prelu', 0.0]-activation:['prelu', 0.0]",
          "full:[4096, 2048]-drop:0.1-lag:6-activation:['prelu', 0.0]-activation:['prelu', 0.0]",
          "full:[2048, 1024, 512]-drop:0.2-lag:24-activation:['prelu', 0.0]-activation:['prelu', 0.0]",
          "full:[512]-drop:0.1-lag:24-activation:['prelu', 0.0]-activation:['prelu', 0.0]",
          "full:[1024, 512, 256]-drop:0.1-lag:18-activation:['prelu', 0.0]-activation:['prelu', 0.0]",
          "full:[4096, 2048, 1024]-drop:0.1-lag:12-activation:['prelu', 0.0]-activation:['prelu', 0.0]",
          "full:[4096, 2048, 1024]-drop:0.05-lag:6-activation:['prelu', 0.0]-activation:['prelu', 0.0]",
          "full:[32, 16, 8]-drop:0.5-lag:12-activation:['prelu', 0.0]-activation:['prelu', 0.0]",
          "full:[32, 16, 8]-drop:0.3-lag:24-activation:['prelu', 0.0]-activation:['prelu', 0.0]",
          "full:[256, 128]-drop:0.05-lag:18-activation:['prelu', 0.0]-activation:['prelu', 0.0]",
          "full:[64]-drop:0.2-lag:18-activation:['prelu', 0.0]-activation:['prelu', 0.0]"
         ],
         "type": "scatter",
         "x": [],
         "y": []
        },
        {
         "marker": {
          "size": 20
         },
         "mode": "markers",
         "name": "hard_sigmoid",
         "text": [
          "full:[256, 128, 64]-drop:0.5-lag:12-activation:hard_sigmoid-activation:hard_sigmoid",
          "full:[64, 32]-drop:0.05-lag:18-activation:hard_sigmoid-activation:hard_sigmoid",
          "full:[2048]-drop:0.0-lag:24-activation:hard_sigmoid-activation:hard_sigmoid",
          "full:[128, 64, 32]-drop:0.4-lag:6-activation:hard_sigmoid-activation:hard_sigmoid",
          "full:[128]-drop:0.5-lag:18-activation:hard_sigmoid-activation:hard_sigmoid"
         ],
         "type": "scatter",
         "x": [],
         "y": []
        },
        {
         "marker": {
          "size": 20
         },
         "mode": "markers",
         "name": "linear",
         "text": [
          "full:[512, 256, 128]-drop:0.0-lag:18-activation:linear-activation:linear",
          "full:[512, 256]-drop:0.0-lag:12-activation:linear-activation:linear",
          "full:[512]-drop:0.5-lag:6-activation:linear-activation:linear",
          "full:[1024, 512, 256]-drop:0.1-lag:24-activation:linear-activation:linear",
          "full:[64, 32]-drop:0.0-lag:6-activation:linear-activation:linear",
          "full:[2048]-drop:0.2-lag:12-activation:linear-activation:linear"
         ],
         "type": "scatter",
         "x": [],
         "y": []
        },
        {
         "marker": {
          "size": 20
         },
         "mode": "markers",
         "name": "relu",
         "text": [
          "full:[512, 256, 128]-drop:0.0-lag:18-activation:relu-activation:relu",
          "full:[512, 256]-drop:0.3-lag:6-activation:relu-activation:relu",
          "full:[512, 256]-drop:0.2-lag:12-activation:relu-activation:relu",
          "full:[512, 256]-drop:0.2-lag:6-activation:relu-activation:relu",
          "full:[1024, 512]-drop:0.5-lag:6-activation:relu-activation:relu",
          "full:[1024, 512]-drop:0.4-lag:18-activation:relu-activation:relu",
          "full:[1024, 512]-drop:0.3-lag:6-activation:relu-activation:relu",
          "full:[1024, 512]-drop:0.0-lag:6-activation:relu-activation:relu",
          "full:[2048, 1024]-drop:0.5-lag:6-activation:relu-activation:relu",
          "full:[2048, 1024]-drop:0.3-lag:6-activation:relu-activation:relu",
          "full:[2048, 1024]-drop:0.2-lag:12-activation:relu-activation:relu",
          "full:[4096, 2048]-drop:0.5-lag:12-activation:relu-activation:relu",
          "full:[32, 16]-drop:0.05-lag:24-activation:relu-activation:relu",
          "full:[32, 16, 8]-drop:0.3-lag:24-activation:relu-activation:relu",
          "full:[128, 64, 32]-drop:0.5-lag:24-activation:relu-activation:relu",
          "full:[256, 128]-drop:0.1-lag:12-activation:relu-activation:relu"
         ],
         "type": "scatter",
         "x": [],
         "y": []
        },
        {
         "marker": {
          "size": 20
         },
         "mode": "markers",
         "name": "tanh",
         "text": [
          "full:[512, 256, 128]-drop:0.5-lag:12-activation:tanh-activation:tanh",
          "full:[32, 16]-drop:0.5-lag:12-activation:tanh-activation:tanh",
          "full:[32, 16, 8]-drop:0.3-lag:24-activation:tanh-activation:tanh"
         ],
         "type": "scatter",
         "x": [],
         "y": []
        }
       ],
       "layout": {
        "template": {
         "data": {
          "bar": [
           {
            "error_x": {
             "color": "#2a3f5f"
            },
            "error_y": {
             "color": "#2a3f5f"
            },
            "marker": {
             "line": {
              "color": "#E5ECF6",
              "width": 0.5
             },
             "pattern": {
              "fillmode": "overlay",
              "size": 10,
              "solidity": 0.2
             }
            },
            "type": "bar"
           }
          ],
          "barpolar": [
           {
            "marker": {
             "line": {
              "color": "#E5ECF6",
              "width": 0.5
             },
             "pattern": {
              "fillmode": "overlay",
              "size": 10,
              "solidity": 0.2
             }
            },
            "type": "barpolar"
           }
          ],
          "carpet": [
           {
            "aaxis": {
             "endlinecolor": "#2a3f5f",
             "gridcolor": "white",
             "linecolor": "white",
             "minorgridcolor": "white",
             "startlinecolor": "#2a3f5f"
            },
            "baxis": {
             "endlinecolor": "#2a3f5f",
             "gridcolor": "white",
             "linecolor": "white",
             "minorgridcolor": "white",
             "startlinecolor": "#2a3f5f"
            },
            "type": "carpet"
           }
          ],
          "choropleth": [
           {
            "colorbar": {
             "outlinewidth": 0,
             "ticks": ""
            },
            "type": "choropleth"
           }
          ],
          "contour": [
           {
            "colorbar": {
             "outlinewidth": 0,
             "ticks": ""
            },
            "colorscale": [
             [
              0,
              "#0d0887"
             ],
             [
              0.1111111111111111,
              "#46039f"
             ],
             [
              0.2222222222222222,
              "#7201a8"
             ],
             [
              0.3333333333333333,
              "#9c179e"
             ],
             [
              0.4444444444444444,
              "#bd3786"
             ],
             [
              0.5555555555555556,
              "#d8576b"
             ],
             [
              0.6666666666666666,
              "#ed7953"
             ],
             [
              0.7777777777777778,
              "#fb9f3a"
             ],
             [
              0.8888888888888888,
              "#fdca26"
             ],
             [
              1,
              "#f0f921"
             ]
            ],
            "type": "contour"
           }
          ],
          "contourcarpet": [
           {
            "colorbar": {
             "outlinewidth": 0,
             "ticks": ""
            },
            "type": "contourcarpet"
           }
          ],
          "heatmap": [
           {
            "colorbar": {
             "outlinewidth": 0,
             "ticks": ""
            },
            "colorscale": [
             [
              0,
              "#0d0887"
             ],
             [
              0.1111111111111111,
              "#46039f"
             ],
             [
              0.2222222222222222,
              "#7201a8"
             ],
             [
              0.3333333333333333,
              "#9c179e"
             ],
             [
              0.4444444444444444,
              "#bd3786"
             ],
             [
              0.5555555555555556,
              "#d8576b"
             ],
             [
              0.6666666666666666,
              "#ed7953"
             ],
             [
              0.7777777777777778,
              "#fb9f3a"
             ],
             [
              0.8888888888888888,
              "#fdca26"
             ],
             [
              1,
              "#f0f921"
             ]
            ],
            "type": "heatmap"
           }
          ],
          "heatmapgl": [
           {
            "colorbar": {
             "outlinewidth": 0,
             "ticks": ""
            },
            "colorscale": [
             [
              0,
              "#0d0887"
             ],
             [
              0.1111111111111111,
              "#46039f"
             ],
             [
              0.2222222222222222,
              "#7201a8"
             ],
             [
              0.3333333333333333,
              "#9c179e"
             ],
             [
              0.4444444444444444,
              "#bd3786"
             ],
             [
              0.5555555555555556,
              "#d8576b"
             ],
             [
              0.6666666666666666,
              "#ed7953"
             ],
             [
              0.7777777777777778,
              "#fb9f3a"
             ],
             [
              0.8888888888888888,
              "#fdca26"
             ],
             [
              1,
              "#f0f921"
             ]
            ],
            "type": "heatmapgl"
           }
          ],
          "histogram": [
           {
            "marker": {
             "pattern": {
              "fillmode": "overlay",
              "size": 10,
              "solidity": 0.2
             }
            },
            "type": "histogram"
           }
          ],
          "histogram2d": [
           {
            "colorbar": {
             "outlinewidth": 0,
             "ticks": ""
            },
            "colorscale": [
             [
              0,
              "#0d0887"
             ],
             [
              0.1111111111111111,
              "#46039f"
             ],
             [
              0.2222222222222222,
              "#7201a8"
             ],
             [
              0.3333333333333333,
              "#9c179e"
             ],
             [
              0.4444444444444444,
              "#bd3786"
             ],
             [
              0.5555555555555556,
              "#d8576b"
             ],
             [
              0.6666666666666666,
              "#ed7953"
             ],
             [
              0.7777777777777778,
              "#fb9f3a"
             ],
             [
              0.8888888888888888,
              "#fdca26"
             ],
             [
              1,
              "#f0f921"
             ]
            ],
            "type": "histogram2d"
           }
          ],
          "histogram2dcontour": [
           {
            "colorbar": {
             "outlinewidth": 0,
             "ticks": ""
            },
            "colorscale": [
             [
              0,
              "#0d0887"
             ],
             [
              0.1111111111111111,
              "#46039f"
             ],
             [
              0.2222222222222222,
              "#7201a8"
             ],
             [
              0.3333333333333333,
              "#9c179e"
             ],
             [
              0.4444444444444444,
              "#bd3786"
             ],
             [
              0.5555555555555556,
              "#d8576b"
             ],
             [
              0.6666666666666666,
              "#ed7953"
             ],
             [
              0.7777777777777778,
              "#fb9f3a"
             ],
             [
              0.8888888888888888,
              "#fdca26"
             ],
             [
              1,
              "#f0f921"
             ]
            ],
            "type": "histogram2dcontour"
           }
          ],
          "mesh3d": [
           {
            "colorbar": {
             "outlinewidth": 0,
             "ticks": ""
            },
            "type": "mesh3d"
           }
          ],
          "parcoords": [
           {
            "line": {
             "colorbar": {
              "outlinewidth": 0,
              "ticks": ""
             }
            },
            "type": "parcoords"
           }
          ],
          "pie": [
           {
            "automargin": true,
            "type": "pie"
           }
          ],
          "scatter": [
           {
            "marker": {
             "colorbar": {
              "outlinewidth": 0,
              "ticks": ""
             }
            },
            "type": "scatter"
           }
          ],
          "scatter3d": [
           {
            "line": {
             "colorbar": {
              "outlinewidth": 0,
              "ticks": ""
             }
            },
            "marker": {
             "colorbar": {
              "outlinewidth": 0,
              "ticks": ""
             }
            },
            "type": "scatter3d"
           }
          ],
          "scattercarpet": [
           {
            "marker": {
             "colorbar": {
              "outlinewidth": 0,
              "ticks": ""
             }
            },
            "type": "scattercarpet"
           }
          ],
          "scattergeo": [
           {
            "marker": {
             "colorbar": {
              "outlinewidth": 0,
              "ticks": ""
             }
            },
            "type": "scattergeo"
           }
          ],
          "scattergl": [
           {
            "marker": {
             "colorbar": {
              "outlinewidth": 0,
              "ticks": ""
             }
            },
            "type": "scattergl"
           }
          ],
          "scattermapbox": [
           {
            "marker": {
             "colorbar": {
              "outlinewidth": 0,
              "ticks": ""
             }
            },
            "type": "scattermapbox"
           }
          ],
          "scatterpolar": [
           {
            "marker": {
             "colorbar": {
              "outlinewidth": 0,
              "ticks": ""
             }
            },
            "type": "scatterpolar"
           }
          ],
          "scatterpolargl": [
           {
            "marker": {
             "colorbar": {
              "outlinewidth": 0,
              "ticks": ""
             }
            },
            "type": "scatterpolargl"
           }
          ],
          "scatterternary": [
           {
            "marker": {
             "colorbar": {
              "outlinewidth": 0,
              "ticks": ""
             }
            },
            "type": "scatterternary"
           }
          ],
          "surface": [
           {
            "colorbar": {
             "outlinewidth": 0,
             "ticks": ""
            },
            "colorscale": [
             [
              0,
              "#0d0887"
             ],
             [
              0.1111111111111111,
              "#46039f"
             ],
             [
              0.2222222222222222,
              "#7201a8"
             ],
             [
              0.3333333333333333,
              "#9c179e"
             ],
             [
              0.4444444444444444,
              "#bd3786"
             ],
             [
              0.5555555555555556,
              "#d8576b"
             ],
             [
              0.6666666666666666,
              "#ed7953"
             ],
             [
              0.7777777777777778,
              "#fb9f3a"
             ],
             [
              0.8888888888888888,
              "#fdca26"
             ],
             [
              1,
              "#f0f921"
             ]
            ],
            "type": "surface"
           }
          ],
          "table": [
           {
            "cells": {
             "fill": {
              "color": "#EBF0F8"
             },
             "line": {
              "color": "white"
             }
            },
            "header": {
             "fill": {
              "color": "#C8D4E3"
             },
             "line": {
              "color": "white"
             }
            },
            "type": "table"
           }
          ]
         },
         "layout": {
          "annotationdefaults": {
           "arrowcolor": "#2a3f5f",
           "arrowhead": 0,
           "arrowwidth": 1
          },
          "autotypenumbers": "strict",
          "coloraxis": {
           "colorbar": {
            "outlinewidth": 0,
            "ticks": ""
           }
          },
          "colorscale": {
           "diverging": [
            [
             0,
             "#8e0152"
            ],
            [
             0.1,
             "#c51b7d"
            ],
            [
             0.2,
             "#de77ae"
            ],
            [
             0.3,
             "#f1b6da"
            ],
            [
             0.4,
             "#fde0ef"
            ],
            [
             0.5,
             "#f7f7f7"
            ],
            [
             0.6,
             "#e6f5d0"
            ],
            [
             0.7,
             "#b8e186"
            ],
            [
             0.8,
             "#7fbc41"
            ],
            [
             0.9,
             "#4d9221"
            ],
            [
             1,
             "#276419"
            ]
           ],
           "sequential": [
            [
             0,
             "#0d0887"
            ],
            [
             0.1111111111111111,
             "#46039f"
            ],
            [
             0.2222222222222222,
             "#7201a8"
            ],
            [
             0.3333333333333333,
             "#9c179e"
            ],
            [
             0.4444444444444444,
             "#bd3786"
            ],
            [
             0.5555555555555556,
             "#d8576b"
            ],
            [
             0.6666666666666666,
             "#ed7953"
            ],
            [
             0.7777777777777778,
             "#fb9f3a"
            ],
            [
             0.8888888888888888,
             "#fdca26"
            ],
            [
             1,
             "#f0f921"
            ]
           ],
           "sequentialminus": [
            [
             0,
             "#0d0887"
            ],
            [
             0.1111111111111111,
             "#46039f"
            ],
            [
             0.2222222222222222,
             "#7201a8"
            ],
            [
             0.3333333333333333,
             "#9c179e"
            ],
            [
             0.4444444444444444,
             "#bd3786"
            ],
            [
             0.5555555555555556,
             "#d8576b"
            ],
            [
             0.6666666666666666,
             "#ed7953"
            ],
            [
             0.7777777777777778,
             "#fb9f3a"
            ],
            [
             0.8888888888888888,
             "#fdca26"
            ],
            [
             1,
             "#f0f921"
            ]
           ]
          },
          "colorway": [
           "#636efa",
           "#EF553B",
           "#00cc96",
           "#ab63fa",
           "#FFA15A",
           "#19d3f3",
           "#FF6692",
           "#B6E880",
           "#FF97FF",
           "#FECB52"
          ],
          "font": {
           "color": "#2a3f5f"
          },
          "geo": {
           "bgcolor": "white",
           "lakecolor": "white",
           "landcolor": "#E5ECF6",
           "showlakes": true,
           "showland": true,
           "subunitcolor": "white"
          },
          "hoverlabel": {
           "align": "left"
          },
          "hovermode": "closest",
          "mapbox": {
           "style": "light"
          },
          "paper_bgcolor": "white",
          "plot_bgcolor": "#E5ECF6",
          "polar": {
           "angularaxis": {
            "gridcolor": "white",
            "linecolor": "white",
            "ticks": ""
           },
           "bgcolor": "#E5ECF6",
           "radialaxis": {
            "gridcolor": "white",
            "linecolor": "white",
            "ticks": ""
           }
          },
          "scene": {
           "xaxis": {
            "backgroundcolor": "#E5ECF6",
            "gridcolor": "white",
            "gridwidth": 2,
            "linecolor": "white",
            "showbackground": true,
            "ticks": "",
            "zerolinecolor": "white"
           },
           "yaxis": {
            "backgroundcolor": "#E5ECF6",
            "gridcolor": "white",
            "gridwidth": 2,
            "linecolor": "white",
            "showbackground": true,
            "ticks": "",
            "zerolinecolor": "white"
           },
           "zaxis": {
            "backgroundcolor": "#E5ECF6",
            "gridcolor": "white",
            "gridwidth": 2,
            "linecolor": "white",
            "showbackground": true,
            "ticks": "",
            "zerolinecolor": "white"
           }
          },
          "shapedefaults": {
           "line": {
            "color": "#2a3f5f"
           }
          },
          "ternary": {
           "aaxis": {
            "gridcolor": "white",
            "linecolor": "white",
            "ticks": ""
           },
           "baxis": {
            "gridcolor": "white",
            "linecolor": "white",
            "ticks": ""
           },
           "bgcolor": "#E5ECF6",
           "caxis": {
            "gridcolor": "white",
            "linecolor": "white",
            "ticks": ""
           }
          },
          "title": {
           "x": 0.05
          },
          "xaxis": {
           "automargin": true,
           "gridcolor": "white",
           "linecolor": "white",
           "ticks": "",
           "title": {
            "standoff": 15
           },
           "zerolinecolor": "white",
           "zerolinewidth": 2
          },
          "yaxis": {
           "automargin": true,
           "gridcolor": "white",
           "linecolor": "white",
           "ticks": "",
           "title": {
            "standoff": 15
           },
           "zerolinecolor": "white",
           "zerolinewidth": 2
          }
         }
        }
       }
      },
      "text/html": [
       "<div>                            <div id=\"ad9c8ced-2664-4db6-bb6a-b990c130b9db\" class=\"plotly-graph-div\" style=\"height:525px; width:100%;\"></div>            <script type=\"text/javascript\">                require([\"plotly\"], function(Plotly) {                    window.PLOTLYENV=window.PLOTLYENV || {};                                    if (document.getElementById(\"ad9c8ced-2664-4db6-bb6a-b990c130b9db\")) {                    Plotly.newPlot(                        \"ad9c8ced-2664-4db6-bb6a-b990c130b9db\",                        [{\"marker\":{\"size\":20},\"mode\":\"markers\",\"name\":\"['elu', 0.3]\",\"text\":[\"full:[256, 128, 64]-drop:0.5-lag:12-activation:['elu', 0.3]-activation:['elu', 0.3]\",\"full:[512, 256, 128]-drop:0.4-lag:18-activation:['elu', 0.3]-activation:['elu', 0.3]\",\"full:[512, 256, 128]-drop:0.3-lag:18-activation:['elu', 0.3]-activation:['elu', 0.3]\",\"full:[512, 256]-drop:0.5-lag:18-activation:['elu', 0.3]-activation:['elu', 0.3]\",\"full:[512, 256]-drop:0.3-lag:12-activation:['elu', 0.3]-activation:['elu', 0.3]\",\"full:[512, 256]-drop:0.2-lag:12-activation:['elu', 0.3]-activation:['elu', 0.3]\",\"full:[512, 256]-drop:0.2-lag:6-activation:['elu', 0.3]-activation:['elu', 0.3]\",\"full:[1024, 512]-drop:0.5-lag:12-activation:['elu', 0.3]-activation:['elu', 0.3]\",\"full:[1024, 512]-drop:0.4-lag:6-activation:['elu', 0.3]-activation:['elu', 0.3]\",\"full:[1024, 512]-drop:0.2-lag:6-activation:['elu', 0.3]-activation:['elu', 0.3]\",\"full:[4096]-drop:0.5-lag:12-activation:['elu', 0.3]-activation:['elu', 0.3]\",\"full:[4096]-drop:0.0-lag:6-activation:['elu', 0.3]-activation:['elu', 0.3]\",\"full:[4096]-drop:0.1-lag:12-activation:['elu', 0.3]-activation:['elu', 0.3]\",\"full:[2048, 1024]-drop:0.5-lag:6-activation:['elu', 0.3]-activation:['elu', 0.3]\",\"full:[2048, 1024]-drop:0.4-lag:12-activation:['elu', 0.3]-activation:['elu', 0.3]\",\"full:[2048, 1024]-drop:0.4-lag:6-activation:['elu', 0.3]-activation:['elu', 0.3]\",\"full:[2048, 1024]-drop:0.3-lag:6-activation:['elu', 0.3]-activation:['elu', 0.3]\",\"full:[2048, 1024]-drop:0.2-lag:12-activation:['elu', 0.3]-activation:['elu', 0.3]\",\"full:[128, 64]-drop:0.3-lag:12-activation:['elu', 0.3]-activation:['elu', 0.3]\",\"full:[128, 64]-drop:0.05-lag:24-activation:['elu', 0.3]-activation:['elu', 0.3]\",\"full:[64, 32, 16]-drop:0.0-lag:6-activation:['elu', 0.3]-activation:['elu', 0.3]\",\"full:[256]-drop:0.4-lag:6-activation:['elu', 0.3]-activation:['elu', 0.3]\",\"full:[4096, 2048]-drop:0.5-lag:12-activation:['elu', 0.3]-activation:['elu', 0.3]\",\"full:[4096, 2048]-drop:0.5-lag:6-activation:['elu', 0.3]-activation:['elu', 0.3]\",\"full:[4096, 2048]-drop:0.3-lag:12-activation:['elu', 0.3]-activation:['elu', 0.3]\",\"full:[32, 16]-drop:0.4-lag:12-activation:['elu', 0.3]-activation:['elu', 0.3]\",\"full:[32, 16]-drop:0.0-lag:18-activation:['elu', 0.3]-activation:['elu', 0.3]\",\"full:[2048, 1024, 512]-drop:0.05-lag:6-activation:['elu', 0.3]-activation:['elu', 0.3]\"],\"type\":\"scatter\",\"x\":[7.143518349649244,7.205922897675731,7.214015607550884,7.21002251006739,7.20637746041914,7.198056326564891,7.155704519560935],\"y\":[200,675,675,675,675,675,300]},{\"marker\":{\"size\":20},\"mode\":\"markers\",\"name\":\"['elu', 0.4]\",\"text\":[\"full:[256, 128, 64]-drop:0.5-lag:6-activation:['elu', 0.4]-activation:['elu', 0.4]\",\"full:[256, 128, 64]-drop:0.0-lag:6-activation:['elu', 0.4]-activation:['elu', 0.4]\",\"full:[512, 256]-drop:0.5-lag:18-activation:['elu', 0.4]-activation:['elu', 0.4]\",\"full:[512, 256]-drop:0.3-lag:12-activation:['elu', 0.4]-activation:['elu', 0.4]\",\"full:[512, 256]-drop:0.3-lag:6-activation:['elu', 0.4]-activation:['elu', 0.4]\",\"full:[512, 256]-drop:0.2-lag:6-activation:['elu', 0.4]-activation:['elu', 0.4]\",\"full:[1024, 512]-drop:0.4-lag:12-activation:['elu', 0.4]-activation:['elu', 0.4]\",\"full:[1024, 512]-drop:0.3-lag:6-activation:['elu', 0.4]-activation:['elu', 0.4]\",\"full:[1024, 512]-drop:0.2-lag:12-activation:['elu', 0.4]-activation:['elu', 0.4]\",\"full:[1024, 512]-drop:0.2-lag:6-activation:['elu', 0.4]-activation:['elu', 0.4]\",\"full:[2048, 1024]-drop:0.5-lag:18-activation:['elu', 0.4]-activation:['elu', 0.4]\",\"full:[2048, 1024]-drop:0.5-lag:6-activation:['elu', 0.4]-activation:['elu', 0.4]\",\"full:[2048, 1024]-drop:0.4-lag:12-activation:['elu', 0.4]-activation:['elu', 0.4]\",\"full:[2048, 1024]-drop:0.4-lag:6-activation:['elu', 0.4]-activation:['elu', 0.4]\",\"full:[2048, 1024]-drop:0.3-lag:12-activation:['elu', 0.4]-activation:['elu', 0.4]\",\"full:[2048, 1024]-drop:0.2-lag:12-activation:['elu', 0.4]-activation:['elu', 0.4]\",\"full:[2048, 1024]-drop:0.1-lag:18-activation:['elu', 0.4]-activation:['elu', 0.4]\",\"full:[128, 64]-drop:0.4-lag:6-activation:['elu', 0.4]-activation:['elu', 0.4]\",\"full:[256]-drop:0.05-lag:6-activation:['elu', 0.4]-activation:['elu', 0.4]\",\"full:[4096, 2048]-drop:0.3-lag:24-activation:['elu', 0.4]-activation:['elu', 0.4]\",\"full:[4096, 2048]-drop:0.0-lag:24-activation:['elu', 0.4]-activation:['elu', 0.4]\",\"full:[32, 16]-drop:0.5-lag:18-activation:['elu', 0.4]-activation:['elu', 0.4]\",\"full:[512]-drop:0.4-lag:12-activation:['elu', 0.4]-activation:['elu', 0.4]\",\"full:[512]-drop:0.0-lag:24-activation:['elu', 0.4]-activation:['elu', 0.4]\",\"full:[1024, 512, 256]-drop:0.4-lag:24-activation:['elu', 0.4]-activation:['elu', 0.4]\"],\"type\":\"scatter\",\"x\":[7.147508470423283,7.130610881215895,7.206123550892476,7.134053545141117,7.161403053172675],\"y\":[200,150,675,150,325]},{\"marker\":{\"size\":20},\"mode\":\"markers\",\"name\":\"['leaky', 0.1]\",\"text\":[\"full:[256, 128, 64]-drop:0.4-lag:12-activation:['leaky', 0.1]-activation:['leaky', 0.1]\",\"full:[256, 128, 64]-drop:0.05-lag:6-activation:['leaky', 0.1]-activation:['leaky', 0.1]\",\"full:[512, 256, 128]-drop:0.4-lag:18-activation:['leaky', 0.1]-activation:['leaky', 0.1]\",\"full:[512, 256]-drop:0.5-lag:12-activation:['leaky', 0.1]-activation:['leaky', 0.1]\",\"full:[512, 256]-drop:0.4-lag:12-activation:['leaky', 0.1]-activation:['leaky', 0.1]\",\"full:[512, 256]-drop:0.4-lag:6-activation:['leaky', 0.1]-activation:['leaky', 0.1]\",\"full:[512, 256]-drop:0.3-lag:12-activation:['leaky', 0.1]-activation:['leaky', 0.1]\",\"full:[512, 256]-drop:0.3-lag:6-activation:['leaky', 0.1]-activation:['leaky', 0.1]\",\"full:[512, 256]-drop:0.2-lag:12-activation:['leaky', 0.1]-activation:['leaky', 0.1]\",\"full:[512, 256]-drop:0.2-lag:6-activation:['leaky', 0.1]-activation:['leaky', 0.1]\",\"full:[1024, 512]-drop:0.5-lag:12-activation:['leaky', 0.1]-activation:['leaky', 0.1]\",\"full:[1024, 512]-drop:0.5-lag:6-activation:['leaky', 0.1]-activation:['leaky', 0.1]\",\"full:[1024, 512]-drop:0.4-lag:12-activation:['leaky', 0.1]-activation:['leaky', 0.1]\",\"full:[1024, 512]-drop:0.4-lag:6-activation:['leaky', 0.1]-activation:['leaky', 0.1]\",\"full:[1024, 512]-drop:0.3-lag:12-activation:['leaky', 0.1]-activation:['leaky', 0.1]\",\"full:[1024, 512]-drop:0.3-lag:6-activation:['leaky', 0.1]-activation:['leaky', 0.1]\",\"full:[1024, 512]-drop:0.2-lag:6-activation:['leaky', 0.1]-activation:['leaky', 0.1]\",\"full:[2048, 1024]-drop:0.5-lag:12-activation:['leaky', 0.1]-activation:['leaky', 0.1]\",\"full:[2048, 1024]-drop:0.5-lag:18-activation:['leaky', 0.1]-activation:['leaky', 0.1]\",\"full:[2048, 1024]-drop:0.5-lag:6-activation:['leaky', 0.1]-activation:['leaky', 0.1]\",\"full:[2048, 1024]-drop:0.4-lag:12-activation:['leaky', 0.1]-activation:['leaky', 0.1]\",\"full:[2048, 1024]-drop:0.4-lag:6-activation:['leaky', 0.1]-activation:['leaky', 0.1]\",\"full:[2048, 1024]-drop:0.3-lag:12-activation:['leaky', 0.1]-activation:['leaky', 0.1]\",\"full:[2048, 1024]-drop:0.2-lag:6-activation:['leaky', 0.1]-activation:['leaky', 0.1]\",\"full:[2048, 1024]-drop:0.0-lag:6-activation:['leaky', 0.1]-activation:['leaky', 0.1]\",\"full:[128, 64]-drop:0.5-lag:24-activation:['leaky', 0.1]-activation:['leaky', 0.1]\",\"full:[128, 64]-drop:0.3-lag:24-activation:['leaky', 0.1]-activation:['leaky', 0.1]\",\"full:[64, 32, 16]-drop:0.05-lag:6-activation:['leaky', 0.1]-activation:['leaky', 0.1]\",\"full:[256]-drop:0.1-lag:12-activation:['leaky', 0.1]-activation:['leaky', 0.1]\",\"full:[256]-drop:0.1-lag:6-activation:['leaky', 0.1]-activation:['leaky', 0.1]\",\"full:[4096, 2048]-drop:0.5-lag:12-activation:['leaky', 0.1]-activation:['leaky', 0.1]\",\"full:[4096, 2048]-drop:0.5-lag:18-activation:['leaky', 0.1]-activation:['leaky', 0.1]\",\"full:[4096, 2048]-drop:0.5-lag:6-activation:['leaky', 0.1]-activation:['leaky', 0.1]\",\"full:[4096, 2048]-drop:0.4-lag:12-activation:['leaky', 0.1]-activation:['leaky', 0.1]\",\"full:[4096, 2048]-drop:0.4-lag:6-activation:['leaky', 0.1]-activation:['leaky', 0.1]\",\"full:[4096, 2048]-drop:0.3-lag:6-activation:['leaky', 0.1]-activation:['leaky', 0.1]\",\"full:[4096, 2048]-drop:0.2-lag:12-activation:['leaky', 0.1]-activation:['leaky', 0.1]\",\"full:[32, 16]-drop:0.3-lag:12-activation:['leaky', 0.1]-activation:['leaky', 0.1]\",\"full:[2048, 1024, 512]-drop:0.5-lag:18-activation:['leaky', 0.1]-activation:['leaky', 0.1]\",\"full:[1024, 512, 256]-drop:0.5-lag:18-activation:['leaky', 0.1]-activation:['leaky', 0.1]\",\"full:[2048]-drop:0.5-lag:24-activation:['leaky', 0.1]-activation:['leaky', 0.1]\",\"full:[32]-drop:0.3-lag:18-activation:['leaky', 0.1]-activation:['leaky', 0.1]\",\"full:[32]-drop:0.05-lag:18-activation:['leaky', 0.1]-activation:['leaky', 0.1]\",\"full:[32, 16, 8]-drop:0.1-lag:6-activation:['leaky', 0.1]-activation:['leaky', 0.1]\",\"full:[256, 128]-drop:0.0-lag:24-activation:['leaky', 0.1]-activation:['leaky', 0.1]\",\"full:[1024]-drop:0.3-lag:6-activation:['leaky', 0.1]-activation:['leaky', 0.1]\",\"full:[64]-drop:0.2-lag:6-activation:['leaky', 0.1]-activation:['leaky', 0.1]\"],\"type\":\"scatter\",\"x\":[7.141532859911323,7.153039810614695,7.193660082371475,7.155726618788768,7.186674977976579,7.167541482521736,7.143054682943904,7.194095893424051,7.187094609081544,7.17068168030754,7.156442382438616],\"y\":[300,250,675,600,675,675,250,675,675,675,300]},{\"marker\":{\"size\":20},\"mode\":\"markers\",\"name\":\"['leaky', 0.2]\",\"text\":[\"full:[256, 128, 64]-drop:0.1-lag:18-activation:['leaky', 0.2]-activation:['leaky', 0.2]\",\"full:[512, 256]-drop:0.5-lag:12-activation:['leaky', 0.2]-activation:['leaky', 0.2]\",\"full:[512, 256]-drop:0.5-lag:6-activation:['leaky', 0.2]-activation:['leaky', 0.2]\",\"full:[512, 256]-drop:0.4-lag:12-activation:['leaky', 0.2]-activation:['leaky', 0.2]\",\"full:[512, 256]-drop:0.4-lag:6-activation:['leaky', 0.2]-activation:['leaky', 0.2]\",\"full:[512, 256]-drop:0.3-lag:12-activation:['leaky', 0.2]-activation:['leaky', 0.2]\",\"full:[512, 256]-drop:0.3-lag:6-activation:['leaky', 0.2]-activation:['leaky', 0.2]\",\"full:[512, 256]-drop:0.2-lag:12-activation:['leaky', 0.2]-activation:['leaky', 0.2]\",\"full:[512, 256]-drop:0.2-lag:6-activation:['leaky', 0.2]-activation:['leaky', 0.2]\",\"full:[1024, 512]-drop:0.5-lag:12-activation:['leaky', 0.2]-activation:['leaky', 0.2]\",\"full:[1024, 512]-drop:0.5-lag:6-activation:['leaky', 0.2]-activation:['leaky', 0.2]\",\"full:[1024, 512]-drop:0.4-lag:12-activation:['leaky', 0.2]-activation:['leaky', 0.2]\",\"full:[1024, 512]-drop:0.4-lag:6-activation:['leaky', 0.2]-activation:['leaky', 0.2]\",\"full:[1024, 512]-drop:0.3-lag:12-activation:['leaky', 0.2]-activation:['leaky', 0.2]\",\"full:[1024, 512]-drop:0.3-lag:6-activation:['leaky', 0.2]-activation:['leaky', 0.2]\",\"full:[1024, 512]-drop:0.2-lag:12-activation:['leaky', 0.2]-activation:['leaky', 0.2]\",\"full:[1024, 512]-drop:0.2-lag:6-activation:['leaky', 0.2]-activation:['leaky', 0.2]\",\"full:[4096]-drop:0.4-lag:18-activation:['leaky', 0.2]-activation:['leaky', 0.2]\",\"full:[2048, 1024]-drop:0.5-lag:12-activation:['leaky', 0.2]-activation:['leaky', 0.2]\",\"full:[2048, 1024]-drop:0.5-lag:18-activation:['leaky', 0.2]-activation:['leaky', 0.2]\",\"full:[2048, 1024]-drop:0.5-lag:6-activation:['leaky', 0.2]-activation:['leaky', 0.2]\",\"full:[2048, 1024]-drop:0.4-lag:12-activation:['leaky', 0.2]-activation:['leaky', 0.2]\",\"full:[2048, 1024]-drop:0.4-lag:18-activation:['leaky', 0.2]-activation:['leaky', 0.2]\",\"full:[2048, 1024]-drop:0.4-lag:6-activation:['leaky', 0.2]-activation:['leaky', 0.2]\",\"full:[2048, 1024]-drop:0.3-lag:12-activation:['leaky', 0.2]-activation:['leaky', 0.2]\",\"full:[2048, 1024]-drop:0.3-lag:6-activation:['leaky', 0.2]-activation:['leaky', 0.2]\",\"full:[2048, 1024]-drop:0.2-lag:12-activation:['leaky', 0.2]-activation:['leaky', 0.2]\",\"full:[2048, 1024]-drop:0.2-lag:6-activation:['leaky', 0.2]-activation:['leaky', 0.2]\",\"full:[4096, 2048]-drop:0.5-lag:12-activation:['leaky', 0.2]-activation:['leaky', 0.2]\",\"full:[4096, 2048]-drop:0.5-lag:18-activation:['leaky', 0.2]-activation:['leaky', 0.2]\",\"full:[4096, 2048]-drop:0.5-lag:6-activation:['leaky', 0.2]-activation:['leaky', 0.2]\",\"full:[4096, 2048]-drop:0.4-lag:12-activation:['leaky', 0.2]-activation:['leaky', 0.2]\",\"full:[4096, 2048]-drop:0.4-lag:6-activation:['leaky', 0.2]-activation:['leaky', 0.2]\",\"full:[4096, 2048]-drop:0.3-lag:6-activation:['leaky', 0.2]-activation:['leaky', 0.2]\",\"full:[4096, 2048]-drop:0.2-lag:12-activation:['leaky', 0.2]-activation:['leaky', 0.2]\",\"full:[4096, 2048]-drop:0.2-lag:6-activation:['leaky', 0.2]-activation:['leaky', 0.2]\",\"full:[32, 16]-drop:0.5-lag:6-activation:['leaky', 0.2]-activation:['leaky', 0.2]\",\"full:[32, 16]-drop:0.4-lag:24-activation:['leaky', 0.2]-activation:['leaky', 0.2]\",\"full:[2048, 1024, 512]-drop:0.5-lag:18-activation:['leaky', 0.2]-activation:['leaky', 0.2]\",\"full:[512]-drop:0.1-lag:24-activation:['leaky', 0.2]-activation:['leaky', 0.2]\",\"full:[1024, 512, 256]-drop:0.5-lag:18-activation:['leaky', 0.2]-activation:['leaky', 0.2]\",\"full:[4096, 2048, 1024]-drop:0.0-lag:24-activation:['leaky', 0.2]-activation:['leaky', 0.2]\",\"full:[32]-drop:0.2-lag:24-activation:['leaky', 0.2]-activation:['leaky', 0.2]\",\"full:[32, 16, 8]-drop:0.0-lag:18-activation:['leaky', 0.2]-activation:['leaky', 0.2]\"],\"type\":\"scatter\",\"x\":[7.224653961632228,7.212205527974897,7.217451857731889,7.215807030784778,7.217221344112072,7.132613660500986,7.2242236456570215,7.217537588337716,7.220620660435452,7.220561333905549,7.198322571583254,7.203908501138071,7.214263814168561,7.1532356697602655,7.209431479079747,7.212222843811053,7.144716375729461,7.215572194406234,7.160452580801223,7.203210723767823,7.181345964722078,7.19212876024281,7.1455628367851],\"y\":[675,675,675,675,675,150,675,675,675,675,675,675,675,200,675,675,200,675,250,675,675,675,525]},{\"marker\":{\"size\":20},\"mode\":\"markers\",\"name\":\"['prelu', 0.0]\",\"text\":[\"full:[256, 128, 64]-drop:0.4-lag:12-activation:['prelu', 0.0]-activation:['prelu', 0.0]\",\"full:[1024, 512]-drop:0.05-lag:18-activation:['prelu', 0.0]-activation:['prelu', 0.0]\",\"full:[2048, 1024]-drop:0.4-lag:24-activation:['prelu', 0.0]-activation:['prelu', 0.0]\",\"full:[2048, 1024]-drop:0.3-lag:12-activation:['prelu', 0.0]-activation:['prelu', 0.0]\",\"full:[64, 32, 16]-drop:0.4-lag:18-activation:['prelu', 0.0]-activation:['prelu', 0.0]\",\"full:[4096, 2048]-drop:0.0-lag:24-activation:['prelu', 0.0]-activation:['prelu', 0.0]\",\"full:[4096, 2048]-drop:0.1-lag:6-activation:['prelu', 0.0]-activation:['prelu', 0.0]\",\"full:[2048, 1024, 512]-drop:0.2-lag:24-activation:['prelu', 0.0]-activation:['prelu', 0.0]\",\"full:[512]-drop:0.1-lag:24-activation:['prelu', 0.0]-activation:['prelu', 0.0]\",\"full:[1024, 512, 256]-drop:0.1-lag:18-activation:['prelu', 0.0]-activation:['prelu', 0.0]\",\"full:[4096, 2048, 1024]-drop:0.1-lag:12-activation:['prelu', 0.0]-activation:['prelu', 0.0]\",\"full:[4096, 2048, 1024]-drop:0.05-lag:6-activation:['prelu', 0.0]-activation:['prelu', 0.0]\",\"full:[32, 16, 8]-drop:0.5-lag:12-activation:['prelu', 0.0]-activation:['prelu', 0.0]\",\"full:[32, 16, 8]-drop:0.3-lag:24-activation:['prelu', 0.0]-activation:['prelu', 0.0]\",\"full:[256, 128]-drop:0.05-lag:18-activation:['prelu', 0.0]-activation:['prelu', 0.0]\",\"full:[64]-drop:0.2-lag:18-activation:['prelu', 0.0]-activation:['prelu', 0.0]\"],\"type\":\"scatter\",\"x\":[],\"y\":[]},{\"marker\":{\"size\":20},\"mode\":\"markers\",\"name\":\"hard_sigmoid\",\"text\":[\"full:[256, 128, 64]-drop:0.5-lag:12-activation:hard_sigmoid-activation:hard_sigmoid\",\"full:[64, 32]-drop:0.05-lag:18-activation:hard_sigmoid-activation:hard_sigmoid\",\"full:[2048]-drop:0.0-lag:24-activation:hard_sigmoid-activation:hard_sigmoid\",\"full:[128, 64, 32]-drop:0.4-lag:6-activation:hard_sigmoid-activation:hard_sigmoid\",\"full:[128]-drop:0.5-lag:18-activation:hard_sigmoid-activation:hard_sigmoid\"],\"type\":\"scatter\",\"x\":[],\"y\":[]},{\"marker\":{\"size\":20},\"mode\":\"markers\",\"name\":\"linear\",\"text\":[\"full:[512, 256, 128]-drop:0.0-lag:18-activation:linear-activation:linear\",\"full:[512, 256]-drop:0.0-lag:12-activation:linear-activation:linear\",\"full:[512]-drop:0.5-lag:6-activation:linear-activation:linear\",\"full:[1024, 512, 256]-drop:0.1-lag:24-activation:linear-activation:linear\",\"full:[64, 32]-drop:0.0-lag:6-activation:linear-activation:linear\",\"full:[2048]-drop:0.2-lag:12-activation:linear-activation:linear\"],\"type\":\"scatter\",\"x\":[],\"y\":[]},{\"marker\":{\"size\":20},\"mode\":\"markers\",\"name\":\"relu\",\"text\":[\"full:[512, 256, 128]-drop:0.0-lag:18-activation:relu-activation:relu\",\"full:[512, 256]-drop:0.3-lag:6-activation:relu-activation:relu\",\"full:[512, 256]-drop:0.2-lag:12-activation:relu-activation:relu\",\"full:[512, 256]-drop:0.2-lag:6-activation:relu-activation:relu\",\"full:[1024, 512]-drop:0.5-lag:6-activation:relu-activation:relu\",\"full:[1024, 512]-drop:0.4-lag:18-activation:relu-activation:relu\",\"full:[1024, 512]-drop:0.3-lag:6-activation:relu-activation:relu\",\"full:[1024, 512]-drop:0.0-lag:6-activation:relu-activation:relu\",\"full:[2048, 1024]-drop:0.5-lag:6-activation:relu-activation:relu\",\"full:[2048, 1024]-drop:0.3-lag:6-activation:relu-activation:relu\",\"full:[2048, 1024]-drop:0.2-lag:12-activation:relu-activation:relu\",\"full:[4096, 2048]-drop:0.5-lag:12-activation:relu-activation:relu\",\"full:[32, 16]-drop:0.05-lag:24-activation:relu-activation:relu\",\"full:[32, 16, 8]-drop:0.3-lag:24-activation:relu-activation:relu\",\"full:[128, 64, 32]-drop:0.5-lag:24-activation:relu-activation:relu\",\"full:[256, 128]-drop:0.1-lag:12-activation:relu-activation:relu\"],\"type\":\"scatter\",\"x\":[],\"y\":[]},{\"marker\":{\"size\":20},\"mode\":\"markers\",\"name\":\"tanh\",\"text\":[\"full:[512, 256, 128]-drop:0.5-lag:12-activation:tanh-activation:tanh\",\"full:[32, 16]-drop:0.5-lag:12-activation:tanh-activation:tanh\",\"full:[32, 16, 8]-drop:0.3-lag:24-activation:tanh-activation:tanh\"],\"type\":\"scatter\",\"x\":[],\"y\":[]}],                        {\"template\":{\"data\":{\"bar\":[{\"error_x\":{\"color\":\"#2a3f5f\"},\"error_y\":{\"color\":\"#2a3f5f\"},\"marker\":{\"line\":{\"color\":\"#E5ECF6\",\"width\":0.5},\"pattern\":{\"fillmode\":\"overlay\",\"size\":10,\"solidity\":0.2}},\"type\":\"bar\"}],\"barpolar\":[{\"marker\":{\"line\":{\"color\":\"#E5ECF6\",\"width\":0.5},\"pattern\":{\"fillmode\":\"overlay\",\"size\":10,\"solidity\":0.2}},\"type\":\"barpolar\"}],\"carpet\":[{\"aaxis\":{\"endlinecolor\":\"#2a3f5f\",\"gridcolor\":\"white\",\"linecolor\":\"white\",\"minorgridcolor\":\"white\",\"startlinecolor\":\"#2a3f5f\"},\"baxis\":{\"endlinecolor\":\"#2a3f5f\",\"gridcolor\":\"white\",\"linecolor\":\"white\",\"minorgridcolor\":\"white\",\"startlinecolor\":\"#2a3f5f\"},\"type\":\"carpet\"}],\"choropleth\":[{\"colorbar\":{\"outlinewidth\":0,\"ticks\":\"\"},\"type\":\"choropleth\"}],\"contour\":[{\"colorbar\":{\"outlinewidth\":0,\"ticks\":\"\"},\"colorscale\":[[0.0,\"#0d0887\"],[0.1111111111111111,\"#46039f\"],[0.2222222222222222,\"#7201a8\"],[0.3333333333333333,\"#9c179e\"],[0.4444444444444444,\"#bd3786\"],[0.5555555555555556,\"#d8576b\"],[0.6666666666666666,\"#ed7953\"],[0.7777777777777778,\"#fb9f3a\"],[0.8888888888888888,\"#fdca26\"],[1.0,\"#f0f921\"]],\"type\":\"contour\"}],\"contourcarpet\":[{\"colorbar\":{\"outlinewidth\":0,\"ticks\":\"\"},\"type\":\"contourcarpet\"}],\"heatmap\":[{\"colorbar\":{\"outlinewidth\":0,\"ticks\":\"\"},\"colorscale\":[[0.0,\"#0d0887\"],[0.1111111111111111,\"#46039f\"],[0.2222222222222222,\"#7201a8\"],[0.3333333333333333,\"#9c179e\"],[0.4444444444444444,\"#bd3786\"],[0.5555555555555556,\"#d8576b\"],[0.6666666666666666,\"#ed7953\"],[0.7777777777777778,\"#fb9f3a\"],[0.8888888888888888,\"#fdca26\"],[1.0,\"#f0f921\"]],\"type\":\"heatmap\"}],\"heatmapgl\":[{\"colorbar\":{\"outlinewidth\":0,\"ticks\":\"\"},\"colorscale\":[[0.0,\"#0d0887\"],[0.1111111111111111,\"#46039f\"],[0.2222222222222222,\"#7201a8\"],[0.3333333333333333,\"#9c179e\"],[0.4444444444444444,\"#bd3786\"],[0.5555555555555556,\"#d8576b\"],[0.6666666666666666,\"#ed7953\"],[0.7777777777777778,\"#fb9f3a\"],[0.8888888888888888,\"#fdca26\"],[1.0,\"#f0f921\"]],\"type\":\"heatmapgl\"}],\"histogram\":[{\"marker\":{\"pattern\":{\"fillmode\":\"overlay\",\"size\":10,\"solidity\":0.2}},\"type\":\"histogram\"}],\"histogram2d\":[{\"colorbar\":{\"outlinewidth\":0,\"ticks\":\"\"},\"colorscale\":[[0.0,\"#0d0887\"],[0.1111111111111111,\"#46039f\"],[0.2222222222222222,\"#7201a8\"],[0.3333333333333333,\"#9c179e\"],[0.4444444444444444,\"#bd3786\"],[0.5555555555555556,\"#d8576b\"],[0.6666666666666666,\"#ed7953\"],[0.7777777777777778,\"#fb9f3a\"],[0.8888888888888888,\"#fdca26\"],[1.0,\"#f0f921\"]],\"type\":\"histogram2d\"}],\"histogram2dcontour\":[{\"colorbar\":{\"outlinewidth\":0,\"ticks\":\"\"},\"colorscale\":[[0.0,\"#0d0887\"],[0.1111111111111111,\"#46039f\"],[0.2222222222222222,\"#7201a8\"],[0.3333333333333333,\"#9c179e\"],[0.4444444444444444,\"#bd3786\"],[0.5555555555555556,\"#d8576b\"],[0.6666666666666666,\"#ed7953\"],[0.7777777777777778,\"#fb9f3a\"],[0.8888888888888888,\"#fdca26\"],[1.0,\"#f0f921\"]],\"type\":\"histogram2dcontour\"}],\"mesh3d\":[{\"colorbar\":{\"outlinewidth\":0,\"ticks\":\"\"},\"type\":\"mesh3d\"}],\"parcoords\":[{\"line\":{\"colorbar\":{\"outlinewidth\":0,\"ticks\":\"\"}},\"type\":\"parcoords\"}],\"pie\":[{\"automargin\":true,\"type\":\"pie\"}],\"scatter\":[{\"marker\":{\"colorbar\":{\"outlinewidth\":0,\"ticks\":\"\"}},\"type\":\"scatter\"}],\"scatter3d\":[{\"line\":{\"colorbar\":{\"outlinewidth\":0,\"ticks\":\"\"}},\"marker\":{\"colorbar\":{\"outlinewidth\":0,\"ticks\":\"\"}},\"type\":\"scatter3d\"}],\"scattercarpet\":[{\"marker\":{\"colorbar\":{\"outlinewidth\":0,\"ticks\":\"\"}},\"type\":\"scattercarpet\"}],\"scattergeo\":[{\"marker\":{\"colorbar\":{\"outlinewidth\":0,\"ticks\":\"\"}},\"type\":\"scattergeo\"}],\"scattergl\":[{\"marker\":{\"colorbar\":{\"outlinewidth\":0,\"ticks\":\"\"}},\"type\":\"scattergl\"}],\"scattermapbox\":[{\"marker\":{\"colorbar\":{\"outlinewidth\":0,\"ticks\":\"\"}},\"type\":\"scattermapbox\"}],\"scatterpolar\":[{\"marker\":{\"colorbar\":{\"outlinewidth\":0,\"ticks\":\"\"}},\"type\":\"scatterpolar\"}],\"scatterpolargl\":[{\"marker\":{\"colorbar\":{\"outlinewidth\":0,\"ticks\":\"\"}},\"type\":\"scatterpolargl\"}],\"scatterternary\":[{\"marker\":{\"colorbar\":{\"outlinewidth\":0,\"ticks\":\"\"}},\"type\":\"scatterternary\"}],\"surface\":[{\"colorbar\":{\"outlinewidth\":0,\"ticks\":\"\"},\"colorscale\":[[0.0,\"#0d0887\"],[0.1111111111111111,\"#46039f\"],[0.2222222222222222,\"#7201a8\"],[0.3333333333333333,\"#9c179e\"],[0.4444444444444444,\"#bd3786\"],[0.5555555555555556,\"#d8576b\"],[0.6666666666666666,\"#ed7953\"],[0.7777777777777778,\"#fb9f3a\"],[0.8888888888888888,\"#fdca26\"],[1.0,\"#f0f921\"]],\"type\":\"surface\"}],\"table\":[{\"cells\":{\"fill\":{\"color\":\"#EBF0F8\"},\"line\":{\"color\":\"white\"}},\"header\":{\"fill\":{\"color\":\"#C8D4E3\"},\"line\":{\"color\":\"white\"}},\"type\":\"table\"}]},\"layout\":{\"annotationdefaults\":{\"arrowcolor\":\"#2a3f5f\",\"arrowhead\":0,\"arrowwidth\":1},\"autotypenumbers\":\"strict\",\"coloraxis\":{\"colorbar\":{\"outlinewidth\":0,\"ticks\":\"\"}},\"colorscale\":{\"diverging\":[[0,\"#8e0152\"],[0.1,\"#c51b7d\"],[0.2,\"#de77ae\"],[0.3,\"#f1b6da\"],[0.4,\"#fde0ef\"],[0.5,\"#f7f7f7\"],[0.6,\"#e6f5d0\"],[0.7,\"#b8e186\"],[0.8,\"#7fbc41\"],[0.9,\"#4d9221\"],[1,\"#276419\"]],\"sequential\":[[0.0,\"#0d0887\"],[0.1111111111111111,\"#46039f\"],[0.2222222222222222,\"#7201a8\"],[0.3333333333333333,\"#9c179e\"],[0.4444444444444444,\"#bd3786\"],[0.5555555555555556,\"#d8576b\"],[0.6666666666666666,\"#ed7953\"],[0.7777777777777778,\"#fb9f3a\"],[0.8888888888888888,\"#fdca26\"],[1.0,\"#f0f921\"]],\"sequentialminus\":[[0.0,\"#0d0887\"],[0.1111111111111111,\"#46039f\"],[0.2222222222222222,\"#7201a8\"],[0.3333333333333333,\"#9c179e\"],[0.4444444444444444,\"#bd3786\"],[0.5555555555555556,\"#d8576b\"],[0.6666666666666666,\"#ed7953\"],[0.7777777777777778,\"#fb9f3a\"],[0.8888888888888888,\"#fdca26\"],[1.0,\"#f0f921\"]]},\"colorway\":[\"#636efa\",\"#EF553B\",\"#00cc96\",\"#ab63fa\",\"#FFA15A\",\"#19d3f3\",\"#FF6692\",\"#B6E880\",\"#FF97FF\",\"#FECB52\"],\"font\":{\"color\":\"#2a3f5f\"},\"geo\":{\"bgcolor\":\"white\",\"lakecolor\":\"white\",\"landcolor\":\"#E5ECF6\",\"showlakes\":true,\"showland\":true,\"subunitcolor\":\"white\"},\"hoverlabel\":{\"align\":\"left\"},\"hovermode\":\"closest\",\"mapbox\":{\"style\":\"light\"},\"paper_bgcolor\":\"white\",\"plot_bgcolor\":\"#E5ECF6\",\"polar\":{\"angularaxis\":{\"gridcolor\":\"white\",\"linecolor\":\"white\",\"ticks\":\"\"},\"bgcolor\":\"#E5ECF6\",\"radialaxis\":{\"gridcolor\":\"white\",\"linecolor\":\"white\",\"ticks\":\"\"}},\"scene\":{\"xaxis\":{\"backgroundcolor\":\"#E5ECF6\",\"gridcolor\":\"white\",\"gridwidth\":2,\"linecolor\":\"white\",\"showbackground\":true,\"ticks\":\"\",\"zerolinecolor\":\"white\"},\"yaxis\":{\"backgroundcolor\":\"#E5ECF6\",\"gridcolor\":\"white\",\"gridwidth\":2,\"linecolor\":\"white\",\"showbackground\":true,\"ticks\":\"\",\"zerolinecolor\":\"white\"},\"zaxis\":{\"backgroundcolor\":\"#E5ECF6\",\"gridcolor\":\"white\",\"gridwidth\":2,\"linecolor\":\"white\",\"showbackground\":true,\"ticks\":\"\",\"zerolinecolor\":\"white\"}},\"shapedefaults\":{\"line\":{\"color\":\"#2a3f5f\"}},\"ternary\":{\"aaxis\":{\"gridcolor\":\"white\",\"linecolor\":\"white\",\"ticks\":\"\"},\"baxis\":{\"gridcolor\":\"white\",\"linecolor\":\"white\",\"ticks\":\"\"},\"bgcolor\":\"#E5ECF6\",\"caxis\":{\"gridcolor\":\"white\",\"linecolor\":\"white\",\"ticks\":\"\"}},\"title\":{\"x\":0.05},\"xaxis\":{\"automargin\":true,\"gridcolor\":\"white\",\"linecolor\":\"white\",\"ticks\":\"\",\"title\":{\"standoff\":15},\"zerolinecolor\":\"white\",\"zerolinewidth\":2},\"yaxis\":{\"automargin\":true,\"gridcolor\":\"white\",\"linecolor\":\"white\",\"ticks\":\"\",\"title\":{\"standoff\":15},\"zerolinecolor\":\"white\",\"zerolinewidth\":2}}}},                        {\"responsive\": true}                    ).then(function(){\n",
       "                            \n",
       "var gd = document.getElementById('ad9c8ced-2664-4db6-bb6a-b990c130b9db');\n",
       "var x = new MutationObserver(function (mutations, observer) {{\n",
       "        var display = window.getComputedStyle(gd).display;\n",
       "        if (!display || display === 'none') {{\n",
       "            console.log([gd, 'removed!']);\n",
       "            Plotly.purge(gd);\n",
       "            observer.disconnect();\n",
       "        }}\n",
       "}});\n",
       "\n",
       "// Listen for the removal of the full notebook cells\n",
       "var notebookContainer = gd.closest('#notebook-container');\n",
       "if (notebookContainer) {{\n",
       "    x.observe(notebookContainer, {childList: true});\n",
       "}}\n",
       "\n",
       "// Listen for the clearing of the current output cell\n",
       "var outputEl = gd.closest('.output');\n",
       "if (outputEl) {{\n",
       "    x.observe(outputEl, {childList: true});\n",
       "}}\n",
       "\n",
       "                        })                };                });            </script>        </div>"
      ]
     },
     "metadata": {},
     "output_type": "display_data"
    }
   ],
   "source": [
    "results.results_dataframe_graph(facet='activation',att=['full', 'drop', 'lag', 'activation'],count=True, threshold=7.13)"
   ]
  },
  {
   "cell_type": "markdown",
   "metadata": {},
   "source": [
    "# MLP Many"
   ]
  },
  {
   "cell_type": "code",
   "execution_count": 3,
   "metadata": {},
   "outputs": [],
   "source": [
    "query={'experiment':'MLP_many', 'status':'done'}\n",
    "\n",
    "results = DBResults(conn=mongolocaltest)\n",
    "#results = DBResults()\n",
    "\n",
    "results.results_dataframe_retrieve(query, arch=['activation', 'full','drop' ], data=['lag','radius','corr','nneighbors'])"
   ]
  },
  {
   "cell_type": "code",
   "execution_count": 4,
   "metadata": {},
   "outputs": [
    {
     "name": "stdout",
     "output_type": "stream",
     "text": [
      "32450\n",
      "Total=365 Thres=15\n"
     ]
    },
    {
     "data": {
      "text/html": [
       "<style type=\"text/css\">\n",
       "#T_ee933_row0_col0, #T_ee933_row0_col2, #T_ee933_row0_col3, #T_ee933_row0_col5, #T_ee933_row0_col6, #T_ee933_row0_col7, #T_ee933_row0_col8, #T_ee933_row1_col0, #T_ee933_row1_col2, #T_ee933_row1_col3, #T_ee933_row1_col5, #T_ee933_row1_col6, #T_ee933_row1_col8, #T_ee933_row2_col0, #T_ee933_row2_col2, #T_ee933_row2_col3, #T_ee933_row2_col4, #T_ee933_row2_col5, #T_ee933_row2_col6, #T_ee933_row2_col8, #T_ee933_row3_col0, #T_ee933_row3_col2, #T_ee933_row3_col5, #T_ee933_row3_col6, #T_ee933_row3_col8, #T_ee933_row4_col0, #T_ee933_row4_col2, #T_ee933_row4_col5, #T_ee933_row4_col6, #T_ee933_row4_col8, #T_ee933_row5_col0, #T_ee933_row5_col2, #T_ee933_row5_col4, #T_ee933_row5_col5, #T_ee933_row5_col6, #T_ee933_row5_col8, #T_ee933_row5_col9, #T_ee933_row6_col0, #T_ee933_row6_col3, #T_ee933_row6_col5, #T_ee933_row6_col6, #T_ee933_row6_col8, #T_ee933_row7_col0, #T_ee933_row7_col3, #T_ee933_row7_col4, #T_ee933_row7_col5, #T_ee933_row7_col6, #T_ee933_row7_col8, #T_ee933_row8_col0, #T_ee933_row8_col5, #T_ee933_row8_col6, #T_ee933_row8_col8, #T_ee933_row9_col0, #T_ee933_row9_col4, #T_ee933_row9_col5, #T_ee933_row9_col6, #T_ee933_row9_col8, #T_ee933_row10_col0, #T_ee933_row10_col1, #T_ee933_row10_col2, #T_ee933_row10_col3, #T_ee933_row10_col5, #T_ee933_row10_col6, #T_ee933_row10_col8, #T_ee933_row11_col0, #T_ee933_row11_col1, #T_ee933_row11_col2, #T_ee933_row11_col3, #T_ee933_row11_col4, #T_ee933_row11_col5, #T_ee933_row11_col6, #T_ee933_row11_col8, #T_ee933_row12_col0, #T_ee933_row12_col1, #T_ee933_row12_col3, #T_ee933_row12_col5, #T_ee933_row12_col6, #T_ee933_row12_col8, #T_ee933_row13_col0, #T_ee933_row13_col1, #T_ee933_row13_col3, #T_ee933_row13_col4, #T_ee933_row13_col5, #T_ee933_row13_col6, #T_ee933_row13_col8, #T_ee933_row14_col0, #T_ee933_row14_col1, #T_ee933_row14_col4, #T_ee933_row14_col5, #T_ee933_row14_col6, #T_ee933_row14_col8 {\n",
       "  background-color: yellow;\n",
       "}\n",
       "</style>\n",
       "<table id=\"T_ee933_\">\n",
       "  <thead>\n",
       "    <tr>\n",
       "      <th class=\"blank level0\" >&nbsp;</th>\n",
       "      <th class=\"col_heading level0 col0\" >activation</th>\n",
       "      <th class=\"col_heading level0 col1\" >full</th>\n",
       "      <th class=\"col_heading level0 col2\" >drop</th>\n",
       "      <th class=\"col_heading level0 col3\" >lag</th>\n",
       "      <th class=\"col_heading level0 col4\" >radius</th>\n",
       "      <th class=\"col_heading level0 col5\" >corr</th>\n",
       "      <th class=\"col_heading level0 col6\" >nneighbors</th>\n",
       "      <th class=\"col_heading level0 col7\" colspan=\"2\">test</th>\n",
       "      <th class=\"col_heading level0 col9\" >val</th>\n",
       "    </tr>\n",
       "    <tr>\n",
       "      <th class=\"blank level1\" >&nbsp;</th>\n",
       "      <th class=\"col_heading level1 col0\" ></th>\n",
       "      <th class=\"col_heading level1 col1\" ></th>\n",
       "      <th class=\"col_heading level1 col2\" ></th>\n",
       "      <th class=\"col_heading level1 col3\" ></th>\n",
       "      <th class=\"col_heading level1 col4\" ></th>\n",
       "      <th class=\"col_heading level1 col5\" ></th>\n",
       "      <th class=\"col_heading level1 col6\" ></th>\n",
       "      <th class=\"col_heading level1 col7\" >mean</th>\n",
       "      <th class=\"col_heading level1 col8\" >count</th>\n",
       "      <th class=\"col_heading level1 col9\" >mean</th>\n",
       "    </tr>\n",
       "  </thead>\n",
       "  <tbody>\n",
       "    <tr>\n",
       "      <th id=\"T_ee933_level0_row0\" class=\"row_heading level0 row0\" >86</th>\n",
       "      <td id=\"T_ee933_row0_col0\" class=\"data row0 col0\" >['leaky', 0.2]</td>\n",
       "      <td id=\"T_ee933_row0_col1\" class=\"data row0 col1\" >[1024, 512]</td>\n",
       "      <td id=\"T_ee933_row0_col2\" class=\"data row0 col2\" >0.3</td>\n",
       "      <td id=\"T_ee933_row0_col3\" class=\"data row0 col3\" >6</td>\n",
       "      <td id=\"T_ee933_row0_col4\" class=\"data row0 col4\" >1.5</td>\n",
       "      <td id=\"T_ee933_row0_col5\" class=\"data row0 col5\" >[0.7, 0.9]</td>\n",
       "      <td id=\"T_ee933_row0_col6\" class=\"data row0 col6\" >250</td>\n",
       "      <td id=\"T_ee933_row0_col7\" class=\"data row0 col7\" >7.634734</td>\n",
       "      <td id=\"T_ee933_row0_col8\" class=\"data row0 col8\" >500</td>\n",
       "      <td id=\"T_ee933_row0_col9\" class=\"data row0 col9\" >7.339057</td>\n",
       "    </tr>\n",
       "    <tr>\n",
       "      <th id=\"T_ee933_level0_row1\" class=\"row_heading level0 row1\" >88</th>\n",
       "      <td id=\"T_ee933_row1_col0\" class=\"data row1 col0\" >['leaky', 0.2]</td>\n",
       "      <td id=\"T_ee933_row1_col1\" class=\"data row1 col1\" >[1024, 512]</td>\n",
       "      <td id=\"T_ee933_row1_col2\" class=\"data row1 col2\" >0.3</td>\n",
       "      <td id=\"T_ee933_row1_col3\" class=\"data row1 col3\" >6</td>\n",
       "      <td id=\"T_ee933_row1_col4\" class=\"data row1 col4\" >1</td>\n",
       "      <td id=\"T_ee933_row1_col5\" class=\"data row1 col5\" >[0.7, 0.9]</td>\n",
       "      <td id=\"T_ee933_row1_col6\" class=\"data row1 col6\" >250</td>\n",
       "      <td id=\"T_ee933_row1_col7\" class=\"data row1 col7\" >7.624341</td>\n",
       "      <td id=\"T_ee933_row1_col8\" class=\"data row1 col8\" >500</td>\n",
       "      <td id=\"T_ee933_row1_col9\" class=\"data row1 col9\" >7.326427</td>\n",
       "    </tr>\n",
       "    <tr>\n",
       "      <th id=\"T_ee933_level0_row2\" class=\"row_heading level0 row2\" >90</th>\n",
       "      <td id=\"T_ee933_row2_col0\" class=\"data row2 col0\" >['leaky', 0.2]</td>\n",
       "      <td id=\"T_ee933_row2_col1\" class=\"data row2 col1\" >[1024, 512]</td>\n",
       "      <td id=\"T_ee933_row2_col2\" class=\"data row2 col2\" >0.3</td>\n",
       "      <td id=\"T_ee933_row2_col3\" class=\"data row2 col3\" >6</td>\n",
       "      <td id=\"T_ee933_row2_col4\" class=\"data row2 col4\" >2</td>\n",
       "      <td id=\"T_ee933_row2_col5\" class=\"data row2 col5\" >[0.7, 0.9]</td>\n",
       "      <td id=\"T_ee933_row2_col6\" class=\"data row2 col6\" >250</td>\n",
       "      <td id=\"T_ee933_row2_col7\" class=\"data row2 col7\" >7.634340</td>\n",
       "      <td id=\"T_ee933_row2_col8\" class=\"data row2 col8\" >500</td>\n",
       "      <td id=\"T_ee933_row2_col9\" class=\"data row2 col9\" >7.337375</td>\n",
       "    </tr>\n",
       "    <tr>\n",
       "      <th id=\"T_ee933_level0_row3\" class=\"row_heading level0 row3\" >92</th>\n",
       "      <td id=\"T_ee933_row3_col0\" class=\"data row3 col0\" >['leaky', 0.2]</td>\n",
       "      <td id=\"T_ee933_row3_col1\" class=\"data row3 col1\" >[1024, 512]</td>\n",
       "      <td id=\"T_ee933_row3_col2\" class=\"data row3 col2\" >0.3</td>\n",
       "      <td id=\"T_ee933_row3_col3\" class=\"data row3 col3\" >3</td>\n",
       "      <td id=\"T_ee933_row3_col4\" class=\"data row3 col4\" >1.5</td>\n",
       "      <td id=\"T_ee933_row3_col5\" class=\"data row3 col5\" >[0.7, 0.9]</td>\n",
       "      <td id=\"T_ee933_row3_col6\" class=\"data row3 col6\" >250</td>\n",
       "      <td id=\"T_ee933_row3_col7\" class=\"data row3 col7\" >7.630856</td>\n",
       "      <td id=\"T_ee933_row3_col8\" class=\"data row3 col8\" >500</td>\n",
       "      <td id=\"T_ee933_row3_col9\" class=\"data row3 col9\" >7.338906</td>\n",
       "    </tr>\n",
       "    <tr>\n",
       "      <th id=\"T_ee933_level0_row4\" class=\"row_heading level0 row4\" >94</th>\n",
       "      <td id=\"T_ee933_row4_col0\" class=\"data row4 col0\" >['leaky', 0.2]</td>\n",
       "      <td id=\"T_ee933_row4_col1\" class=\"data row4 col1\" >[1024, 512]</td>\n",
       "      <td id=\"T_ee933_row4_col2\" class=\"data row4 col2\" >0.3</td>\n",
       "      <td id=\"T_ee933_row4_col3\" class=\"data row4 col3\" >3</td>\n",
       "      <td id=\"T_ee933_row4_col4\" class=\"data row4 col4\" >1</td>\n",
       "      <td id=\"T_ee933_row4_col5\" class=\"data row4 col5\" >[0.7, 0.9]</td>\n",
       "      <td id=\"T_ee933_row4_col6\" class=\"data row4 col6\" >250</td>\n",
       "      <td id=\"T_ee933_row4_col7\" class=\"data row4 col7\" >7.621608</td>\n",
       "      <td id=\"T_ee933_row4_col8\" class=\"data row4 col8\" >500</td>\n",
       "      <td id=\"T_ee933_row4_col9\" class=\"data row4 col9\" >7.329941</td>\n",
       "    </tr>\n",
       "    <tr>\n",
       "      <th id=\"T_ee933_level0_row5\" class=\"row_heading level0 row5\" >96</th>\n",
       "      <td id=\"T_ee933_row5_col0\" class=\"data row5 col0\" >['leaky', 0.2]</td>\n",
       "      <td id=\"T_ee933_row5_col1\" class=\"data row5 col1\" >[1024, 512]</td>\n",
       "      <td id=\"T_ee933_row5_col2\" class=\"data row5 col2\" >0.3</td>\n",
       "      <td id=\"T_ee933_row5_col3\" class=\"data row5 col3\" >3</td>\n",
       "      <td id=\"T_ee933_row5_col4\" class=\"data row5 col4\" >2</td>\n",
       "      <td id=\"T_ee933_row5_col5\" class=\"data row5 col5\" >[0.7, 0.9]</td>\n",
       "      <td id=\"T_ee933_row5_col6\" class=\"data row5 col6\" >250</td>\n",
       "      <td id=\"T_ee933_row5_col7\" class=\"data row5 col7\" >7.630314</td>\n",
       "      <td id=\"T_ee933_row5_col8\" class=\"data row5 col8\" >500</td>\n",
       "      <td id=\"T_ee933_row5_col9\" class=\"data row5 col9\" >7.340468</td>\n",
       "    </tr>\n",
       "    <tr>\n",
       "      <th id=\"T_ee933_level0_row6\" class=\"row_heading level0 row6\" >116</th>\n",
       "      <td id=\"T_ee933_row6_col0\" class=\"data row6 col0\" >['leaky', 0.2]</td>\n",
       "      <td id=\"T_ee933_row6_col1\" class=\"data row6 col1\" >[1024, 512]</td>\n",
       "      <td id=\"T_ee933_row6_col2\" class=\"data row6 col2\" >0.2</td>\n",
       "      <td id=\"T_ee933_row6_col3\" class=\"data row6 col3\" >6</td>\n",
       "      <td id=\"T_ee933_row6_col4\" class=\"data row6 col4\" >1.5</td>\n",
       "      <td id=\"T_ee933_row6_col5\" class=\"data row6 col5\" >[0.7, 0.9]</td>\n",
       "      <td id=\"T_ee933_row6_col6\" class=\"data row6 col6\" >250</td>\n",
       "      <td id=\"T_ee933_row6_col7\" class=\"data row6 col7\" >7.619713</td>\n",
       "      <td id=\"T_ee933_row6_col8\" class=\"data row6 col8\" >500</td>\n",
       "      <td id=\"T_ee933_row6_col9\" class=\"data row6 col9\" >7.310718</td>\n",
       "    </tr>\n",
       "    <tr>\n",
       "      <th id=\"T_ee933_level0_row7\" class=\"row_heading level0 row7\" >121</th>\n",
       "      <td id=\"T_ee933_row7_col0\" class=\"data row7 col0\" >['leaky', 0.2]</td>\n",
       "      <td id=\"T_ee933_row7_col1\" class=\"data row7 col1\" >[1024, 512]</td>\n",
       "      <td id=\"T_ee933_row7_col2\" class=\"data row7 col2\" >0.2</td>\n",
       "      <td id=\"T_ee933_row7_col3\" class=\"data row7 col3\" >6</td>\n",
       "      <td id=\"T_ee933_row7_col4\" class=\"data row7 col4\" >2</td>\n",
       "      <td id=\"T_ee933_row7_col5\" class=\"data row7 col5\" >[0.7, 0.9]</td>\n",
       "      <td id=\"T_ee933_row7_col6\" class=\"data row7 col6\" >250</td>\n",
       "      <td id=\"T_ee933_row7_col7\" class=\"data row7 col7\" >7.619181</td>\n",
       "      <td id=\"T_ee933_row7_col8\" class=\"data row7 col8\" >500</td>\n",
       "      <td id=\"T_ee933_row7_col9\" class=\"data row7 col9\" >7.309443</td>\n",
       "    </tr>\n",
       "    <tr>\n",
       "      <th id=\"T_ee933_level0_row8\" class=\"row_heading level0 row8\" >123</th>\n",
       "      <td id=\"T_ee933_row8_col0\" class=\"data row8 col0\" >['leaky', 0.2]</td>\n",
       "      <td id=\"T_ee933_row8_col1\" class=\"data row8 col1\" >[1024, 512]</td>\n",
       "      <td id=\"T_ee933_row8_col2\" class=\"data row8 col2\" >0.2</td>\n",
       "      <td id=\"T_ee933_row8_col3\" class=\"data row8 col3\" >3</td>\n",
       "      <td id=\"T_ee933_row8_col4\" class=\"data row8 col4\" >1.5</td>\n",
       "      <td id=\"T_ee933_row8_col5\" class=\"data row8 col5\" >[0.7, 0.9]</td>\n",
       "      <td id=\"T_ee933_row8_col6\" class=\"data row8 col6\" >250</td>\n",
       "      <td id=\"T_ee933_row8_col7\" class=\"data row8 col7\" >7.624221</td>\n",
       "      <td id=\"T_ee933_row8_col8\" class=\"data row8 col8\" >500</td>\n",
       "      <td id=\"T_ee933_row8_col9\" class=\"data row8 col9\" >7.326701</td>\n",
       "    </tr>\n",
       "    <tr>\n",
       "      <th id=\"T_ee933_level0_row9\" class=\"row_heading level0 row9\" >128</th>\n",
       "      <td id=\"T_ee933_row9_col0\" class=\"data row9 col0\" >['leaky', 0.2]</td>\n",
       "      <td id=\"T_ee933_row9_col1\" class=\"data row9 col1\" >[1024, 512]</td>\n",
       "      <td id=\"T_ee933_row9_col2\" class=\"data row9 col2\" >0.2</td>\n",
       "      <td id=\"T_ee933_row9_col3\" class=\"data row9 col3\" >3</td>\n",
       "      <td id=\"T_ee933_row9_col4\" class=\"data row9 col4\" >2</td>\n",
       "      <td id=\"T_ee933_row9_col5\" class=\"data row9 col5\" >[0.7, 0.9]</td>\n",
       "      <td id=\"T_ee933_row9_col6\" class=\"data row9 col6\" >250</td>\n",
       "      <td id=\"T_ee933_row9_col7\" class=\"data row9 col7\" >7.625531</td>\n",
       "      <td id=\"T_ee933_row9_col8\" class=\"data row9 col8\" >500</td>\n",
       "      <td id=\"T_ee933_row9_col9\" class=\"data row9 col9\" >7.325134</td>\n",
       "    </tr>\n",
       "    <tr>\n",
       "      <th id=\"T_ee933_level0_row10\" class=\"row_heading level0 row10\" >172</th>\n",
       "      <td id=\"T_ee933_row10_col0\" class=\"data row10 col0\" >['leaky', 0.2]</td>\n",
       "      <td id=\"T_ee933_row10_col1\" class=\"data row10 col1\" >[512, 256]</td>\n",
       "      <td id=\"T_ee933_row10_col2\" class=\"data row10 col2\" >0.3</td>\n",
       "      <td id=\"T_ee933_row10_col3\" class=\"data row10 col3\" >6</td>\n",
       "      <td id=\"T_ee933_row10_col4\" class=\"data row10 col4\" >1.5</td>\n",
       "      <td id=\"T_ee933_row10_col5\" class=\"data row10 col5\" >[0.7, 0.9]</td>\n",
       "      <td id=\"T_ee933_row10_col6\" class=\"data row10 col6\" >250</td>\n",
       "      <td id=\"T_ee933_row10_col7\" class=\"data row10 col7\" >7.623034</td>\n",
       "      <td id=\"T_ee933_row10_col8\" class=\"data row10 col8\" >500</td>\n",
       "      <td id=\"T_ee933_row10_col9\" class=\"data row10 col9\" >7.331916</td>\n",
       "    </tr>\n",
       "    <tr>\n",
       "      <th id=\"T_ee933_level0_row11\" class=\"row_heading level0 row11\" >176</th>\n",
       "      <td id=\"T_ee933_row11_col0\" class=\"data row11 col0\" >['leaky', 0.2]</td>\n",
       "      <td id=\"T_ee933_row11_col1\" class=\"data row11 col1\" >[512, 256]</td>\n",
       "      <td id=\"T_ee933_row11_col2\" class=\"data row11 col2\" >0.3</td>\n",
       "      <td id=\"T_ee933_row11_col3\" class=\"data row11 col3\" >6</td>\n",
       "      <td id=\"T_ee933_row11_col4\" class=\"data row11 col4\" >2</td>\n",
       "      <td id=\"T_ee933_row11_col5\" class=\"data row11 col5\" >[0.7, 0.9]</td>\n",
       "      <td id=\"T_ee933_row11_col6\" class=\"data row11 col6\" >250</td>\n",
       "      <td id=\"T_ee933_row11_col7\" class=\"data row11 col7\" >7.623054</td>\n",
       "      <td id=\"T_ee933_row11_col8\" class=\"data row11 col8\" >500</td>\n",
       "      <td id=\"T_ee933_row11_col9\" class=\"data row11 col9\" >7.334064</td>\n",
       "    </tr>\n",
       "    <tr>\n",
       "      <th id=\"T_ee933_level0_row12\" class=\"row_heading level0 row12\" >208</th>\n",
       "      <td id=\"T_ee933_row12_col0\" class=\"data row12 col0\" >['leaky', 0.2]</td>\n",
       "      <td id=\"T_ee933_row12_col1\" class=\"data row12 col1\" >[512, 256]</td>\n",
       "      <td id=\"T_ee933_row12_col2\" class=\"data row12 col2\" >0.2</td>\n",
       "      <td id=\"T_ee933_row12_col3\" class=\"data row12 col3\" >6</td>\n",
       "      <td id=\"T_ee933_row12_col4\" class=\"data row12 col4\" >1</td>\n",
       "      <td id=\"T_ee933_row12_col5\" class=\"data row12 col5\" >[0.7, 0.9]</td>\n",
       "      <td id=\"T_ee933_row12_col6\" class=\"data row12 col6\" >250</td>\n",
       "      <td id=\"T_ee933_row12_col7\" class=\"data row12 col7\" >7.621939</td>\n",
       "      <td id=\"T_ee933_row12_col8\" class=\"data row12 col8\" >500</td>\n",
       "      <td id=\"T_ee933_row12_col9\" class=\"data row12 col9\" >7.322563</td>\n",
       "    </tr>\n",
       "    <tr>\n",
       "      <th id=\"T_ee933_level0_row13\" class=\"row_heading level0 row13\" >211</th>\n",
       "      <td id=\"T_ee933_row13_col0\" class=\"data row13 col0\" >['leaky', 0.2]</td>\n",
       "      <td id=\"T_ee933_row13_col1\" class=\"data row13 col1\" >[512, 256]</td>\n",
       "      <td id=\"T_ee933_row13_col2\" class=\"data row13 col2\" >0.2</td>\n",
       "      <td id=\"T_ee933_row13_col3\" class=\"data row13 col3\" >6</td>\n",
       "      <td id=\"T_ee933_row13_col4\" class=\"data row13 col4\" >2</td>\n",
       "      <td id=\"T_ee933_row13_col5\" class=\"data row13 col5\" >[0.7, 0.9]</td>\n",
       "      <td id=\"T_ee933_row13_col6\" class=\"data row13 col6\" >250</td>\n",
       "      <td id=\"T_ee933_row13_col7\" class=\"data row13 col7\" >7.628848</td>\n",
       "      <td id=\"T_ee933_row13_col8\" class=\"data row13 col8\" >500</td>\n",
       "      <td id=\"T_ee933_row13_col9\" class=\"data row13 col9\" >7.332662</td>\n",
       "    </tr>\n",
       "    <tr>\n",
       "      <th id=\"T_ee933_level0_row14\" class=\"row_heading level0 row14\" >218</th>\n",
       "      <td id=\"T_ee933_row14_col0\" class=\"data row14 col0\" >['leaky', 0.2]</td>\n",
       "      <td id=\"T_ee933_row14_col1\" class=\"data row14 col1\" >[512, 256]</td>\n",
       "      <td id=\"T_ee933_row14_col2\" class=\"data row14 col2\" >0.2</td>\n",
       "      <td id=\"T_ee933_row14_col3\" class=\"data row14 col3\" >3</td>\n",
       "      <td id=\"T_ee933_row14_col4\" class=\"data row14 col4\" >2</td>\n",
       "      <td id=\"T_ee933_row14_col5\" class=\"data row14 col5\" >[0.7, 0.9]</td>\n",
       "      <td id=\"T_ee933_row14_col6\" class=\"data row14 col6\" >250</td>\n",
       "      <td id=\"T_ee933_row14_col7\" class=\"data row14 col7\" >7.623650</td>\n",
       "      <td id=\"T_ee933_row14_col8\" class=\"data row14 col8\" >500</td>\n",
       "      <td id=\"T_ee933_row14_col9\" class=\"data row14 col9\" >7.333034</td>\n",
       "    </tr>\n",
       "  </tbody>\n",
       "</table>\n"
      ],
      "text/plain": [
       "<pandas.io.formats.style.Styler at 0x7f8f48654700>"
      ]
     },
     "execution_count": 4,
     "metadata": {},
     "output_type": "execute_result"
    }
   ],
   "source": [
    "results.results_dataframe_aggregate(threshold=7.57)"
   ]
  },
  {
   "cell_type": "code",
   "execution_count": 5,
   "metadata": {},
   "outputs": [
    {
     "data": {
      "application/vnd.plotly.v1+json": {
       "config": {
        "linkText": "Export to plot.ly",
        "plotlyServerURL": "https://plot.ly",
        "showLink": false
       },
       "data": [
        {
         "marker": {
          "size": 20
         },
         "mode": "markers",
         "name": "['elu', 0.3]",
         "text": [
          "full:[1024, 512]-drop:0.3-lag:12-activation:['elu', 0.3]-activation:['elu', 0.3]",
          "full:[1024, 512]-drop:0.3-lag:15-activation:['elu', 0.3]-activation:['elu', 0.3]",
          "full:[1024, 512]-drop:0.3-lag:6-activation:['elu', 0.3]-activation:['elu', 0.3]",
          "full:[1024, 512]-drop:0.3-lag:6-activation:['elu', 0.3]-activation:['elu', 0.3]",
          "full:[1024, 512]-drop:0.3-lag:3-activation:['elu', 0.3]-activation:['elu', 0.3]",
          "full:[1024, 512]-drop:0.1-lag:6-activation:['elu', 0.3]-activation:['elu', 0.3]",
          "full:[1024, 512]-drop:0.1-lag:3-activation:['elu', 0.3]-activation:['elu', 0.3]",
          "full:[1024, 512]-drop:0.1-lag:3-activation:['elu', 0.3]-activation:['elu', 0.3]",
          "full:[1024, 512]-drop:0.1-lag:9-activation:['elu', 0.3]-activation:['elu', 0.3]",
          "full:[1024, 512]-drop:0.2-lag:15-activation:['elu', 0.3]-activation:['elu', 0.3]",
          "full:[1024, 512]-drop:0.2-lag:15-activation:['elu', 0.3]-activation:['elu', 0.3]",
          "full:[1024, 512]-drop:0.2-lag:6-activation:['elu', 0.3]-activation:['elu', 0.3]",
          "full:[1024, 512]-drop:0.2-lag:3-activation:['elu', 0.3]-activation:['elu', 0.3]",
          "full:[1024]-drop:0.3-lag:15-activation:['elu', 0.3]-activation:['elu', 0.3]",
          "full:[1024]-drop:0.3-lag:15-activation:['elu', 0.3]-activation:['elu', 0.3]",
          "full:[1024]-drop:0.3-lag:9-activation:['elu', 0.3]-activation:['elu', 0.3]",
          "full:[1024]-drop:0.3-lag:9-activation:['elu', 0.3]-activation:['elu', 0.3]",
          "full:[1024]-drop:0.1-lag:12-activation:['elu', 0.3]-activation:['elu', 0.3]",
          "full:[1024]-drop:0.1-lag:3-activation:['elu', 0.3]-activation:['elu', 0.3]",
          "full:[1024]-drop:0.2-lag:12-activation:['elu', 0.3]-activation:['elu', 0.3]",
          "full:[1024]-drop:0.2-lag:15-activation:['elu', 0.3]-activation:['elu', 0.3]",
          "full:[1024]-drop:0.2-lag:3-activation:['elu', 0.3]-activation:['elu', 0.3]",
          "full:[1024]-drop:0.2-lag:3-activation:['elu', 0.3]-activation:['elu', 0.3]",
          "full:[1024]-drop:0.2-lag:3-activation:['elu', 0.3]-activation:['elu', 0.3]",
          "full:[512]-drop:0.3-lag:12-activation:['elu', 0.3]-activation:['elu', 0.3]",
          "full:[512]-drop:0.3-lag:12-activation:['elu', 0.3]-activation:['elu', 0.3]",
          "full:[512]-drop:0.3-lag:15-activation:['elu', 0.3]-activation:['elu', 0.3]",
          "full:[512]-drop:0.3-lag:15-activation:['elu', 0.3]-activation:['elu', 0.3]",
          "full:[512]-drop:0.3-lag:15-activation:['elu', 0.3]-activation:['elu', 0.3]",
          "full:[512]-drop:0.3-lag:6-activation:['elu', 0.3]-activation:['elu', 0.3]",
          "full:[512]-drop:0.3-lag:6-activation:['elu', 0.3]-activation:['elu', 0.3]",
          "full:[512]-drop:0.3-lag:9-activation:['elu', 0.3]-activation:['elu', 0.3]",
          "full:[512]-drop:0.1-lag:12-activation:['elu', 0.3]-activation:['elu', 0.3]",
          "full:[512]-drop:0.1-lag:12-activation:['elu', 0.3]-activation:['elu', 0.3]",
          "full:[512]-drop:0.1-lag:15-activation:['elu', 0.3]-activation:['elu', 0.3]",
          "full:[512]-drop:0.1-lag:6-activation:['elu', 0.3]-activation:['elu', 0.3]",
          "full:[512]-drop:0.1-lag:9-activation:['elu', 0.3]-activation:['elu', 0.3]",
          "full:[512]-drop:0.2-lag:15-activation:['elu', 0.3]-activation:['elu', 0.3]",
          "full:[512]-drop:0.2-lag:6-activation:['elu', 0.3]-activation:['elu', 0.3]",
          "full:[512]-drop:0.2-lag:3-activation:['elu', 0.3]-activation:['elu', 0.3]",
          "full:[512]-drop:0.2-lag:9-activation:['elu', 0.3]-activation:['elu', 0.3]",
          "full:[512, 256]-drop:0.3-lag:12-activation:['elu', 0.3]-activation:['elu', 0.3]",
          "full:[512, 256]-drop:0.3-lag:15-activation:['elu', 0.3]-activation:['elu', 0.3]",
          "full:[512, 256]-drop:0.3-lag:3-activation:['elu', 0.3]-activation:['elu', 0.3]",
          "full:[512, 256]-drop:0.3-lag:3-activation:['elu', 0.3]-activation:['elu', 0.3]",
          "full:[512, 256]-drop:0.1-lag:12-activation:['elu', 0.3]-activation:['elu', 0.3]",
          "full:[512, 256]-drop:0.1-lag:15-activation:['elu', 0.3]-activation:['elu', 0.3]",
          "full:[512, 256]-drop:0.1-lag:6-activation:['elu', 0.3]-activation:['elu', 0.3]",
          "full:[512, 256]-drop:0.1-lag:6-activation:['elu', 0.3]-activation:['elu', 0.3]",
          "full:[512, 256]-drop:0.1-lag:6-activation:['elu', 0.3]-activation:['elu', 0.3]",
          "full:[512, 256]-drop:0.1-lag:3-activation:['elu', 0.3]-activation:['elu', 0.3]",
          "full:[512, 256]-drop:0.1-lag:9-activation:['elu', 0.3]-activation:['elu', 0.3]",
          "full:[512, 256]-drop:0.2-lag:15-activation:['elu', 0.3]-activation:['elu', 0.3]",
          "full:[512, 256]-drop:0.2-lag:15-activation:['elu', 0.3]-activation:['elu', 0.3]",
          "full:[512, 256]-drop:0.2-lag:3-activation:['elu', 0.3]-activation:['elu', 0.3]",
          "full:[512, 256]-drop:0.2-lag:3-activation:['elu', 0.3]-activation:['elu', 0.3]",
          "full:[256, 128]-drop:0.3-lag:12-activation:['elu', 0.3]-activation:['elu', 0.3]",
          "full:[256, 128]-drop:0.3-lag:6-activation:['elu', 0.3]-activation:['elu', 0.3]",
          "full:[256, 128]-drop:0.3-lag:9-activation:['elu', 0.3]-activation:['elu', 0.3]",
          "full:[256, 128]-drop:0.1-lag:15-activation:['elu', 0.3]-activation:['elu', 0.3]",
          "full:[256, 128]-drop:0.1-lag:3-activation:['elu', 0.3]-activation:['elu', 0.3]",
          "full:[256, 128]-drop:0.1-lag:3-activation:['elu', 0.3]-activation:['elu', 0.3]",
          "full:[256, 128]-drop:0.1-lag:3-activation:['elu', 0.3]-activation:['elu', 0.3]",
          "full:[256, 128]-drop:0.2-lag:12-activation:['elu', 0.3]-activation:['elu', 0.3]",
          "full:[256, 128]-drop:0.2-lag:6-activation:['elu', 0.3]-activation:['elu', 0.3]",
          "full:[256]-drop:0.3-lag:3-activation:['elu', 0.3]-activation:['elu', 0.3]",
          "full:[256]-drop:0.3-lag:9-activation:['elu', 0.3]-activation:['elu', 0.3]",
          "full:[256]-drop:0.2-lag:15-activation:['elu', 0.3]-activation:['elu', 0.3]",
          "full:[256]-drop:0.2-lag:15-activation:['elu', 0.3]-activation:['elu', 0.3]",
          "full:[256]-drop:0.2-lag:3-activation:['elu', 0.3]-activation:['elu', 0.3]",
          "full:[128, 64]-drop:0.3-lag:12-activation:['elu', 0.3]-activation:['elu', 0.3]",
          "full:[128, 64]-drop:0.3-lag:6-activation:['elu', 0.3]-activation:['elu', 0.3]",
          "full:[128, 64]-drop:0.3-lag:3-activation:['elu', 0.3]-activation:['elu', 0.3]",
          "full:[128, 64]-drop:0.3-lag:9-activation:['elu', 0.3]-activation:['elu', 0.3]",
          "full:[128, 64]-drop:0.1-lag:12-activation:['elu', 0.3]-activation:['elu', 0.3]",
          "full:[128, 64]-drop:0.1-lag:12-activation:['elu', 0.3]-activation:['elu', 0.3]",
          "full:[128, 64]-drop:0.1-lag:12-activation:['elu', 0.3]-activation:['elu', 0.3]",
          "full:[128, 64]-drop:0.1-lag:9-activation:['elu', 0.3]-activation:['elu', 0.3]",
          "full:[128, 64]-drop:0.2-lag:6-activation:['elu', 0.3]-activation:['elu', 0.3]",
          "full:[128, 64]-drop:0.2-lag:3-activation:['elu', 0.3]-activation:['elu', 0.3]",
          "full:[128, 64]-drop:0.2-lag:9-activation:['elu', 0.3]-activation:['elu', 0.3]",
          "full:[128, 64]-drop:0.2-lag:9-activation:['elu', 0.3]-activation:['elu', 0.3]",
          "full:[128, 64]-drop:0.2-lag:9-activation:['elu', 0.3]-activation:['elu', 0.3]"
         ],
         "type": "scatter",
         "x": [],
         "y": []
        },
        {
         "marker": {
          "size": 20
         },
         "mode": "markers",
         "name": "['leaky', 0.2]",
         "text": [
          "full:[1024, 512]-drop:0.3-lag:12-activation:['leaky', 0.2]-activation:['leaky', 0.2]",
          "full:[1024, 512]-drop:0.3-lag:6-activation:['leaky', 0.2]-activation:['leaky', 0.2]",
          "full:[1024, 512]-drop:0.3-lag:6-activation:['leaky', 0.2]-activation:['leaky', 0.2]",
          "full:[1024, 512]-drop:0.3-lag:6-activation:['leaky', 0.2]-activation:['leaky', 0.2]",
          "full:[1024, 512]-drop:0.3-lag:6-activation:['leaky', 0.2]-activation:['leaky', 0.2]",
          "full:[1024, 512]-drop:0.3-lag:6-activation:['leaky', 0.2]-activation:['leaky', 0.2]",
          "full:[1024, 512]-drop:0.3-lag:6-activation:['leaky', 0.2]-activation:['leaky', 0.2]",
          "full:[1024, 512]-drop:0.3-lag:6-activation:['leaky', 0.2]-activation:['leaky', 0.2]",
          "full:[1024, 512]-drop:0.3-lag:3-activation:['leaky', 0.2]-activation:['leaky', 0.2]",
          "full:[1024, 512]-drop:0.3-lag:3-activation:['leaky', 0.2]-activation:['leaky', 0.2]",
          "full:[1024, 512]-drop:0.3-lag:3-activation:['leaky', 0.2]-activation:['leaky', 0.2]",
          "full:[1024, 512]-drop:0.3-lag:3-activation:['leaky', 0.2]-activation:['leaky', 0.2]",
          "full:[1024, 512]-drop:0.3-lag:3-activation:['leaky', 0.2]-activation:['leaky', 0.2]",
          "full:[1024, 512]-drop:0.3-lag:3-activation:['leaky', 0.2]-activation:['leaky', 0.2]",
          "full:[1024, 512]-drop:0.3-lag:9-activation:['leaky', 0.2]-activation:['leaky', 0.2]",
          "full:[1024, 512]-drop:0.3-lag:9-activation:['leaky', 0.2]-activation:['leaky', 0.2]",
          "full:[1024, 512]-drop:0.1-lag:15-activation:['leaky', 0.2]-activation:['leaky', 0.2]",
          "full:[1024, 512]-drop:0.1-lag:15-activation:['leaky', 0.2]-activation:['leaky', 0.2]",
          "full:[1024, 512]-drop:0.1-lag:6-activation:['leaky', 0.2]-activation:['leaky', 0.2]",
          "full:[1024, 512]-drop:0.1-lag:6-activation:['leaky', 0.2]-activation:['leaky', 0.2]",
          "full:[1024, 512]-drop:0.1-lag:3-activation:['leaky', 0.2]-activation:['leaky', 0.2]",
          "full:[1024, 512]-drop:0.1-lag:3-activation:['leaky', 0.2]-activation:['leaky', 0.2]",
          "full:[1024, 512]-drop:0.1-lag:3-activation:['leaky', 0.2]-activation:['leaky', 0.2]",
          "full:[1024, 512]-drop:0.1-lag:3-activation:['leaky', 0.2]-activation:['leaky', 0.2]",
          "full:[1024, 512]-drop:0.1-lag:9-activation:['leaky', 0.2]-activation:['leaky', 0.2]",
          "full:[1024, 512]-drop:0.1-lag:9-activation:['leaky', 0.2]-activation:['leaky', 0.2]",
          "full:[1024, 512]-drop:0.1-lag:9-activation:['leaky', 0.2]-activation:['leaky', 0.2]",
          "full:[1024, 512]-drop:0.1-lag:9-activation:['leaky', 0.2]-activation:['leaky', 0.2]",
          "full:[1024, 512]-drop:0.2-lag:12-activation:['leaky', 0.2]-activation:['leaky', 0.2]",
          "full:[1024, 512]-drop:0.2-lag:15-activation:['leaky', 0.2]-activation:['leaky', 0.2]",
          "full:[1024, 512]-drop:0.2-lag:15-activation:['leaky', 0.2]-activation:['leaky', 0.2]",
          "full:[1024, 512]-drop:0.2-lag:15-activation:['leaky', 0.2]-activation:['leaky', 0.2]",
          "full:[1024, 512]-drop:0.2-lag:6-activation:['leaky', 0.2]-activation:['leaky', 0.2]",
          "full:[1024, 512]-drop:0.2-lag:6-activation:['leaky', 0.2]-activation:['leaky', 0.2]",
          "full:[1024, 512]-drop:0.2-lag:6-activation:['leaky', 0.2]-activation:['leaky', 0.2]",
          "full:[1024, 512]-drop:0.2-lag:6-activation:['leaky', 0.2]-activation:['leaky', 0.2]",
          "full:[1024, 512]-drop:0.2-lag:6-activation:['leaky', 0.2]-activation:['leaky', 0.2]",
          "full:[1024, 512]-drop:0.2-lag:6-activation:['leaky', 0.2]-activation:['leaky', 0.2]",
          "full:[1024, 512]-drop:0.2-lag:6-activation:['leaky', 0.2]-activation:['leaky', 0.2]",
          "full:[1024, 512]-drop:0.2-lag:3-activation:['leaky', 0.2]-activation:['leaky', 0.2]",
          "full:[1024, 512]-drop:0.2-lag:3-activation:['leaky', 0.2]-activation:['leaky', 0.2]",
          "full:[1024, 512]-drop:0.2-lag:3-activation:['leaky', 0.2]-activation:['leaky', 0.2]",
          "full:[1024, 512]-drop:0.2-lag:3-activation:['leaky', 0.2]-activation:['leaky', 0.2]",
          "full:[1024, 512]-drop:0.2-lag:3-activation:['leaky', 0.2]-activation:['leaky', 0.2]",
          "full:[1024, 512]-drop:0.2-lag:3-activation:['leaky', 0.2]-activation:['leaky', 0.2]",
          "full:[1024, 512]-drop:0.2-lag:3-activation:['leaky', 0.2]-activation:['leaky', 0.2]",
          "full:[1024, 512]-drop:0.2-lag:3-activation:['leaky', 0.2]-activation:['leaky', 0.2]",
          "full:[1024, 512]-drop:0.2-lag:9-activation:['leaky', 0.2]-activation:['leaky', 0.2]",
          "full:[1024, 512]-drop:0.2-lag:9-activation:['leaky', 0.2]-activation:['leaky', 0.2]",
          "full:[1024, 512]-drop:0.2-lag:9-activation:['leaky', 0.2]-activation:['leaky', 0.2]",
          "full:[1024, 512]-drop:0.2-lag:9-activation:['leaky', 0.2]-activation:['leaky', 0.2]",
          "full:[1024, 512]-drop:0.2-lag:9-activation:['leaky', 0.2]-activation:['leaky', 0.2]",
          "full:[1024]-drop:0.3-lag:12-activation:['leaky', 0.2]-activation:['leaky', 0.2]",
          "full:[1024]-drop:0.3-lag:15-activation:['leaky', 0.2]-activation:['leaky', 0.2]",
          "full:[1024]-drop:0.3-lag:15-activation:['leaky', 0.2]-activation:['leaky', 0.2]",
          "full:[1024]-drop:0.3-lag:3-activation:['leaky', 0.2]-activation:['leaky', 0.2]",
          "full:[1024]-drop:0.3-lag:3-activation:['leaky', 0.2]-activation:['leaky', 0.2]",
          "full:[1024]-drop:0.3-lag:9-activation:['leaky', 0.2]-activation:['leaky', 0.2]",
          "full:[1024]-drop:0.1-lag:12-activation:['leaky', 0.2]-activation:['leaky', 0.2]",
          "full:[1024]-drop:0.1-lag:12-activation:['leaky', 0.2]-activation:['leaky', 0.2]",
          "full:[1024]-drop:0.1-lag:15-activation:['leaky', 0.2]-activation:['leaky', 0.2]",
          "full:[1024]-drop:0.2-lag:3-activation:['leaky', 0.2]-activation:['leaky', 0.2]",
          "full:[1024]-drop:0.2-lag:3-activation:['leaky', 0.2]-activation:['leaky', 0.2]",
          "full:[512]-drop:0.3-lag:12-activation:['leaky', 0.2]-activation:['leaky', 0.2]",
          "full:[512]-drop:0.3-lag:15-activation:['leaky', 0.2]-activation:['leaky', 0.2]",
          "full:[512]-drop:0.3-lag:15-activation:['leaky', 0.2]-activation:['leaky', 0.2]",
          "full:[512]-drop:0.3-lag:15-activation:['leaky', 0.2]-activation:['leaky', 0.2]",
          "full:[512]-drop:0.3-lag:15-activation:['leaky', 0.2]-activation:['leaky', 0.2]",
          "full:[512]-drop:0.3-lag:6-activation:['leaky', 0.2]-activation:['leaky', 0.2]",
          "full:[512]-drop:0.3-lag:9-activation:['leaky', 0.2]-activation:['leaky', 0.2]",
          "full:[512]-drop:0.1-lag:15-activation:['leaky', 0.2]-activation:['leaky', 0.2]",
          "full:[512]-drop:0.1-lag:15-activation:['leaky', 0.2]-activation:['leaky', 0.2]",
          "full:[512]-drop:0.1-lag:15-activation:['leaky', 0.2]-activation:['leaky', 0.2]",
          "full:[512]-drop:0.1-lag:15-activation:['leaky', 0.2]-activation:['leaky', 0.2]",
          "full:[512]-drop:0.1-lag:6-activation:['leaky', 0.2]-activation:['leaky', 0.2]",
          "full:[512]-drop:0.1-lag:6-activation:['leaky', 0.2]-activation:['leaky', 0.2]",
          "full:[512]-drop:0.1-lag:3-activation:['leaky', 0.2]-activation:['leaky', 0.2]",
          "full:[512]-drop:0.1-lag:3-activation:['leaky', 0.2]-activation:['leaky', 0.2]",
          "full:[512]-drop:0.2-lag:15-activation:['leaky', 0.2]-activation:['leaky', 0.2]",
          "full:[512]-drop:0.2-lag:6-activation:['leaky', 0.2]-activation:['leaky', 0.2]",
          "full:[512]-drop:0.2-lag:6-activation:['leaky', 0.2]-activation:['leaky', 0.2]",
          "full:[512]-drop:0.2-lag:3-activation:['leaky', 0.2]-activation:['leaky', 0.2]",
          "full:[512]-drop:0.2-lag:9-activation:['leaky', 0.2]-activation:['leaky', 0.2]",
          "full:[512, 256]-drop:0.3-lag:12-activation:['leaky', 0.2]-activation:['leaky', 0.2]",
          "full:[512, 256]-drop:0.3-lag:12-activation:['leaky', 0.2]-activation:['leaky', 0.2]",
          "full:[512, 256]-drop:0.3-lag:15-activation:['leaky', 0.2]-activation:['leaky', 0.2]",
          "full:[512, 256]-drop:0.3-lag:15-activation:['leaky', 0.2]-activation:['leaky', 0.2]",
          "full:[512, 256]-drop:0.3-lag:6-activation:['leaky', 0.2]-activation:['leaky', 0.2]",
          "full:[512, 256]-drop:0.3-lag:6-activation:['leaky', 0.2]-activation:['leaky', 0.2]",
          "full:[512, 256]-drop:0.3-lag:6-activation:['leaky', 0.2]-activation:['leaky', 0.2]",
          "full:[512, 256]-drop:0.3-lag:6-activation:['leaky', 0.2]-activation:['leaky', 0.2]",
          "full:[512, 256]-drop:0.3-lag:6-activation:['leaky', 0.2]-activation:['leaky', 0.2]",
          "full:[512, 256]-drop:0.3-lag:6-activation:['leaky', 0.2]-activation:['leaky', 0.2]",
          "full:[512, 256]-drop:0.3-lag:6-activation:['leaky', 0.2]-activation:['leaky', 0.2]",
          "full:[512, 256]-drop:0.3-lag:6-activation:['leaky', 0.2]-activation:['leaky', 0.2]",
          "full:[512, 256]-drop:0.3-lag:6-activation:['leaky', 0.2]-activation:['leaky', 0.2]",
          "full:[512, 256]-drop:0.3-lag:3-activation:['leaky', 0.2]-activation:['leaky', 0.2]",
          "full:[512, 256]-drop:0.3-lag:3-activation:['leaky', 0.2]-activation:['leaky', 0.2]",
          "full:[512, 256]-drop:0.3-lag:3-activation:['leaky', 0.2]-activation:['leaky', 0.2]",
          "full:[512, 256]-drop:0.3-lag:3-activation:['leaky', 0.2]-activation:['leaky', 0.2]",
          "full:[512, 256]-drop:0.3-lag:3-activation:['leaky', 0.2]-activation:['leaky', 0.2]",
          "full:[512, 256]-drop:0.3-lag:3-activation:['leaky', 0.2]-activation:['leaky', 0.2]",
          "full:[512, 256]-drop:0.3-lag:3-activation:['leaky', 0.2]-activation:['leaky', 0.2]",
          "full:[512, 256]-drop:0.3-lag:3-activation:['leaky', 0.2]-activation:['leaky', 0.2]",
          "full:[512, 256]-drop:0.3-lag:3-activation:['leaky', 0.2]-activation:['leaky', 0.2]",
          "full:[512, 256]-drop:0.3-lag:9-activation:['leaky', 0.2]-activation:['leaky', 0.2]",
          "full:[512, 256]-drop:0.3-lag:9-activation:['leaky', 0.2]-activation:['leaky', 0.2]",
          "full:[512, 256]-drop:0.1-lag:12-activation:['leaky', 0.2]-activation:['leaky', 0.2]",
          "full:[512, 256]-drop:0.1-lag:15-activation:['leaky', 0.2]-activation:['leaky', 0.2]",
          "full:[512, 256]-drop:0.1-lag:6-activation:['leaky', 0.2]-activation:['leaky', 0.2]",
          "full:[512, 256]-drop:0.1-lag:6-activation:['leaky', 0.2]-activation:['leaky', 0.2]",
          "full:[512, 256]-drop:0.1-lag:6-activation:['leaky', 0.2]-activation:['leaky', 0.2]",
          "full:[512, 256]-drop:0.1-lag:3-activation:['leaky', 0.2]-activation:['leaky', 0.2]",
          "full:[512, 256]-drop:0.1-lag:3-activation:['leaky', 0.2]-activation:['leaky', 0.2]",
          "full:[512, 256]-drop:0.1-lag:3-activation:['leaky', 0.2]-activation:['leaky', 0.2]",
          "full:[512, 256]-drop:0.1-lag:3-activation:['leaky', 0.2]-activation:['leaky', 0.2]",
          "full:[512, 256]-drop:0.1-lag:3-activation:['leaky', 0.2]-activation:['leaky', 0.2]",
          "full:[512, 256]-drop:0.1-lag:9-activation:['leaky', 0.2]-activation:['leaky', 0.2]",
          "full:[512, 256]-drop:0.1-lag:9-activation:['leaky', 0.2]-activation:['leaky', 0.2]",
          "full:[512, 256]-drop:0.2-lag:15-activation:['leaky', 0.2]-activation:['leaky', 0.2]",
          "full:[512, 256]-drop:0.2-lag:15-activation:['leaky', 0.2]-activation:['leaky', 0.2]",
          "full:[512, 256]-drop:0.2-lag:6-activation:['leaky', 0.2]-activation:['leaky', 0.2]",
          "full:[512, 256]-drop:0.2-lag:6-activation:['leaky', 0.2]-activation:['leaky', 0.2]",
          "full:[512, 256]-drop:0.2-lag:6-activation:['leaky', 0.2]-activation:['leaky', 0.2]",
          "full:[512, 256]-drop:0.2-lag:6-activation:['leaky', 0.2]-activation:['leaky', 0.2]",
          "full:[512, 256]-drop:0.2-lag:6-activation:['leaky', 0.2]-activation:['leaky', 0.2]",
          "full:[512, 256]-drop:0.2-lag:6-activation:['leaky', 0.2]-activation:['leaky', 0.2]",
          "full:[512, 256]-drop:0.2-lag:6-activation:['leaky', 0.2]-activation:['leaky', 0.2]",
          "full:[512, 256]-drop:0.2-lag:6-activation:['leaky', 0.2]-activation:['leaky', 0.2]",
          "full:[512, 256]-drop:0.2-lag:3-activation:['leaky', 0.2]-activation:['leaky', 0.2]",
          "full:[512, 256]-drop:0.2-lag:3-activation:['leaky', 0.2]-activation:['leaky', 0.2]",
          "full:[512, 256]-drop:0.2-lag:3-activation:['leaky', 0.2]-activation:['leaky', 0.2]",
          "full:[512, 256]-drop:0.2-lag:3-activation:['leaky', 0.2]-activation:['leaky', 0.2]",
          "full:[512, 256]-drop:0.2-lag:3-activation:['leaky', 0.2]-activation:['leaky', 0.2]",
          "full:[512, 256]-drop:0.2-lag:3-activation:['leaky', 0.2]-activation:['leaky', 0.2]",
          "full:[512, 256]-drop:0.2-lag:3-activation:['leaky', 0.2]-activation:['leaky', 0.2]",
          "full:[512, 256]-drop:0.2-lag:9-activation:['leaky', 0.2]-activation:['leaky', 0.2]",
          "full:[256, 128]-drop:0.3-lag:15-activation:['leaky', 0.2]-activation:['leaky', 0.2]",
          "full:[256, 128]-drop:0.3-lag:15-activation:['leaky', 0.2]-activation:['leaky', 0.2]",
          "full:[256, 128]-drop:0.3-lag:15-activation:['leaky', 0.2]-activation:['leaky', 0.2]",
          "full:[256, 128]-drop:0.3-lag:6-activation:['leaky', 0.2]-activation:['leaky', 0.2]",
          "full:[256, 128]-drop:0.3-lag:6-activation:['leaky', 0.2]-activation:['leaky', 0.2]",
          "full:[256, 128]-drop:0.3-lag:6-activation:['leaky', 0.2]-activation:['leaky', 0.2]",
          "full:[256, 128]-drop:0.3-lag:6-activation:['leaky', 0.2]-activation:['leaky', 0.2]",
          "full:[256, 128]-drop:0.3-lag:6-activation:['leaky', 0.2]-activation:['leaky', 0.2]",
          "full:[256, 128]-drop:0.3-lag:3-activation:['leaky', 0.2]-activation:['leaky', 0.2]",
          "full:[256, 128]-drop:0.3-lag:3-activation:['leaky', 0.2]-activation:['leaky', 0.2]",
          "full:[256, 128]-drop:0.3-lag:3-activation:['leaky', 0.2]-activation:['leaky', 0.2]",
          "full:[256, 128]-drop:0.3-lag:9-activation:['leaky', 0.2]-activation:['leaky', 0.2]",
          "full:[256, 128]-drop:0.3-lag:9-activation:['leaky', 0.2]-activation:['leaky', 0.2]",
          "full:[256, 128]-drop:0.3-lag:9-activation:['leaky', 0.2]-activation:['leaky', 0.2]",
          "full:[256, 128]-drop:0.3-lag:9-activation:['leaky', 0.2]-activation:['leaky', 0.2]",
          "full:[256, 128]-drop:0.1-lag:15-activation:['leaky', 0.2]-activation:['leaky', 0.2]",
          "full:[256, 128]-drop:0.1-lag:6-activation:['leaky', 0.2]-activation:['leaky', 0.2]",
          "full:[256, 128]-drop:0.1-lag:3-activation:['leaky', 0.2]-activation:['leaky', 0.2]",
          "full:[256, 128]-drop:0.1-lag:3-activation:['leaky', 0.2]-activation:['leaky', 0.2]",
          "full:[256, 128]-drop:0.1-lag:3-activation:['leaky', 0.2]-activation:['leaky', 0.2]",
          "full:[256, 128]-drop:0.1-lag:3-activation:['leaky', 0.2]-activation:['leaky', 0.2]",
          "full:[256, 128]-drop:0.2-lag:12-activation:['leaky', 0.2]-activation:['leaky', 0.2]",
          "full:[256, 128]-drop:0.2-lag:6-activation:['leaky', 0.2]-activation:['leaky', 0.2]",
          "full:[256, 128]-drop:0.2-lag:6-activation:['leaky', 0.2]-activation:['leaky', 0.2]",
          "full:[256, 128]-drop:0.2-lag:6-activation:['leaky', 0.2]-activation:['leaky', 0.2]",
          "full:[256, 128]-drop:0.2-lag:6-activation:['leaky', 0.2]-activation:['leaky', 0.2]",
          "full:[256, 128]-drop:0.2-lag:3-activation:['leaky', 0.2]-activation:['leaky', 0.2]",
          "full:[256, 128]-drop:0.2-lag:3-activation:['leaky', 0.2]-activation:['leaky', 0.2]",
          "full:[256, 128]-drop:0.2-lag:9-activation:['leaky', 0.2]-activation:['leaky', 0.2]",
          "full:[256, 128]-drop:0.2-lag:9-activation:['leaky', 0.2]-activation:['leaky', 0.2]",
          "full:[256]-drop:0.3-lag:3-activation:['leaky', 0.2]-activation:['leaky', 0.2]",
          "full:[256]-drop:0.3-lag:9-activation:['leaky', 0.2]-activation:['leaky', 0.2]",
          "full:[256]-drop:0.1-lag:12-activation:['leaky', 0.2]-activation:['leaky', 0.2]",
          "full:[256]-drop:0.1-lag:15-activation:['leaky', 0.2]-activation:['leaky', 0.2]",
          "full:[256]-drop:0.1-lag:6-activation:['leaky', 0.2]-activation:['leaky', 0.2]",
          "full:[256]-drop:0.1-lag:3-activation:['leaky', 0.2]-activation:['leaky', 0.2]",
          "full:[256]-drop:0.2-lag:15-activation:['leaky', 0.2]-activation:['leaky', 0.2]",
          "full:[256]-drop:0.2-lag:6-activation:['leaky', 0.2]-activation:['leaky', 0.2]",
          "full:[256]-drop:0.2-lag:6-activation:['leaky', 0.2]-activation:['leaky', 0.2]",
          "full:[256]-drop:0.2-lag:3-activation:['leaky', 0.2]-activation:['leaky', 0.2]",
          "full:[128, 64]-drop:0.3-lag:12-activation:['leaky', 0.2]-activation:['leaky', 0.2]",
          "full:[128, 64]-drop:0.3-lag:15-activation:['leaky', 0.2]-activation:['leaky', 0.2]",
          "full:[128, 64]-drop:0.3-lag:3-activation:['leaky', 0.2]-activation:['leaky', 0.2]",
          "full:[128, 64]-drop:0.3-lag:9-activation:['leaky', 0.2]-activation:['leaky', 0.2]",
          "full:[128, 64]-drop:0.1-lag:12-activation:['leaky', 0.2]-activation:['leaky', 0.2]",
          "full:[128, 64]-drop:0.2-lag:15-activation:['leaky', 0.2]-activation:['leaky', 0.2]",
          "full:[128, 64]-drop:0.2-lag:3-activation:['leaky', 0.2]-activation:['leaky', 0.2]",
          "full:[128, 64]-drop:0.2-lag:3-activation:['leaky', 0.2]-activation:['leaky', 0.2]"
         ],
         "type": "scatter",
         "x": [
          7.5486904443394645,
          7.634734146134249,
          7.6243411031295105,
          7.548486600869939,
          7.634339554681588,
          7.630856303969532,
          7.62160846592412,
          7.538003137873229,
          7.630314080339533,
          7.619712551277893,
          7.517005400334164,
          7.554859983464985,
          7.619181005693907,
          7.62422123113172,
          7.512838819985975,
          7.557937422585648,
          7.625530856412928,
          7.536655265981077,
          7.623034054516558,
          7.558983336327404,
          7.523221005445014,
          7.623053695760642,
          7.5442149621236485,
          7.541300420646545,
          7.546605421744365,
          7.544854742136482,
          7.5494345298704335,
          7.538717958711318,
          7.528608217577196,
          7.621938599305147,
          7.546111502810458,
          7.628847962961782,
          7.623650497648112,
          7.501886595287237,
          7.548543116493068
         ],
         "y": [
          200,
          500,
          500,
          200,
          500,
          500,
          500,
          200,
          500,
          500,
          250,
          250,
          500,
          500,
          250,
          250,
          500,
          200,
          500,
          250,
          250,
          500,
          250,
          250,
          250,
          250,
          200,
          250,
          250,
          500,
          200,
          500,
          500,
          250,
          200
         ]
        },
        {
         "marker": {
          "size": 20
         },
         "mode": "markers",
         "name": "relu",
         "text": [
          "full:[1024, 512]-drop:0.3-lag:12-activation:relu-activation:relu",
          "full:[1024, 512]-drop:0.1-lag:6-activation:relu-activation:relu",
          "full:[1024, 512]-drop:0.1-lag:9-activation:relu-activation:relu",
          "full:[1024, 512]-drop:0.1-lag:9-activation:relu-activation:relu",
          "full:[1024, 512]-drop:0.2-lag:12-activation:relu-activation:relu",
          "full:[1024, 512]-drop:0.2-lag:15-activation:relu-activation:relu",
          "full:[1024, 512]-drop:0.2-lag:6-activation:relu-activation:relu",
          "full:[1024, 512]-drop:0.2-lag:6-activation:relu-activation:relu",
          "full:[1024]-drop:0.3-lag:12-activation:relu-activation:relu",
          "full:[1024]-drop:0.3-lag:12-activation:relu-activation:relu",
          "full:[1024]-drop:0.3-lag:12-activation:relu-activation:relu",
          "full:[1024]-drop:0.3-lag:15-activation:relu-activation:relu",
          "full:[1024]-drop:0.3-lag:15-activation:relu-activation:relu",
          "full:[1024]-drop:0.3-lag:6-activation:relu-activation:relu",
          "full:[1024]-drop:0.3-lag:6-activation:relu-activation:relu",
          "full:[1024]-drop:0.3-lag:3-activation:relu-activation:relu",
          "full:[1024]-drop:0.3-lag:9-activation:relu-activation:relu",
          "full:[1024]-drop:0.1-lag:12-activation:relu-activation:relu",
          "full:[1024]-drop:0.1-lag:12-activation:relu-activation:relu",
          "full:[1024]-drop:0.1-lag:6-activation:relu-activation:relu",
          "full:[1024]-drop:0.1-lag:3-activation:relu-activation:relu",
          "full:[1024]-drop:0.1-lag:3-activation:relu-activation:relu",
          "full:[1024]-drop:0.1-lag:9-activation:relu-activation:relu",
          "full:[1024]-drop:0.1-lag:9-activation:relu-activation:relu",
          "full:[1024]-drop:0.2-lag:6-activation:relu-activation:relu",
          "full:[1024]-drop:0.2-lag:6-activation:relu-activation:relu",
          "full:[512]-drop:0.3-lag:3-activation:relu-activation:relu",
          "full:[512]-drop:0.1-lag:6-activation:relu-activation:relu",
          "full:[512]-drop:0.1-lag:3-activation:relu-activation:relu",
          "full:[512]-drop:0.2-lag:12-activation:relu-activation:relu",
          "full:[512]-drop:0.2-lag:3-activation:relu-activation:relu",
          "full:[512]-drop:0.2-lag:3-activation:relu-activation:relu",
          "full:[512, 256]-drop:0.3-lag:12-activation:relu-activation:relu",
          "full:[512, 256]-drop:0.3-lag:12-activation:relu-activation:relu",
          "full:[512, 256]-drop:0.3-lag:12-activation:relu-activation:relu",
          "full:[512, 256]-drop:0.3-lag:15-activation:relu-activation:relu",
          "full:[512, 256]-drop:0.3-lag:6-activation:relu-activation:relu",
          "full:[512, 256]-drop:0.3-lag:6-activation:relu-activation:relu",
          "full:[512, 256]-drop:0.3-lag:3-activation:relu-activation:relu",
          "full:[512, 256]-drop:0.3-lag:3-activation:relu-activation:relu",
          "full:[512, 256]-drop:0.1-lag:15-activation:relu-activation:relu",
          "full:[512, 256]-drop:0.1-lag:6-activation:relu-activation:relu",
          "full:[512, 256]-drop:0.2-lag:3-activation:relu-activation:relu",
          "full:[256, 128]-drop:0.3-lag:12-activation:relu-activation:relu",
          "full:[256, 128]-drop:0.3-lag:15-activation:relu-activation:relu",
          "full:[256, 128]-drop:0.3-lag:15-activation:relu-activation:relu",
          "full:[256, 128]-drop:0.3-lag:6-activation:relu-activation:relu",
          "full:[256, 128]-drop:0.3-lag:6-activation:relu-activation:relu",
          "full:[256, 128]-drop:0.3-lag:3-activation:relu-activation:relu",
          "full:[256, 128]-drop:0.3-lag:3-activation:relu-activation:relu",
          "full:[256, 128]-drop:0.1-lag:12-activation:relu-activation:relu",
          "full:[256, 128]-drop:0.1-lag:15-activation:relu-activation:relu",
          "full:[256, 128]-drop:0.1-lag:6-activation:relu-activation:relu",
          "full:[256, 128]-drop:0.1-lag:6-activation:relu-activation:relu",
          "full:[256, 128]-drop:0.1-lag:6-activation:relu-activation:relu",
          "full:[256, 128]-drop:0.1-lag:3-activation:relu-activation:relu",
          "full:[256, 128]-drop:0.1-lag:3-activation:relu-activation:relu",
          "full:[256, 128]-drop:0.1-lag:9-activation:relu-activation:relu",
          "full:[256, 128]-drop:0.2-lag:15-activation:relu-activation:relu",
          "full:[256, 128]-drop:0.2-lag:15-activation:relu-activation:relu",
          "full:[256, 128]-drop:0.2-lag:9-activation:relu-activation:relu",
          "full:[256, 128]-drop:0.2-lag:9-activation:relu-activation:relu",
          "full:[256]-drop:0.3-lag:15-activation:relu-activation:relu",
          "full:[256]-drop:0.3-lag:15-activation:relu-activation:relu",
          "full:[256]-drop:0.3-lag:6-activation:relu-activation:relu",
          "full:[256]-drop:0.3-lag:6-activation:relu-activation:relu",
          "full:[256]-drop:0.3-lag:3-activation:relu-activation:relu",
          "full:[256]-drop:0.3-lag:9-activation:relu-activation:relu",
          "full:[256]-drop:0.1-lag:6-activation:relu-activation:relu",
          "full:[256]-drop:0.1-lag:6-activation:relu-activation:relu",
          "full:[256]-drop:0.1-lag:3-activation:relu-activation:relu",
          "full:[256]-drop:0.1-lag:9-activation:relu-activation:relu",
          "full:[256]-drop:0.1-lag:9-activation:relu-activation:relu",
          "full:[256]-drop:0.2-lag:6-activation:relu-activation:relu",
          "full:[256]-drop:0.2-lag:3-activation:relu-activation:relu",
          "full:[256]-drop:0.2-lag:3-activation:relu-activation:relu",
          "full:[256]-drop:0.2-lag:3-activation:relu-activation:relu",
          "full:[256]-drop:0.2-lag:9-activation:relu-activation:relu",
          "full:[128, 64]-drop:0.3-lag:12-activation:relu-activation:relu",
          "full:[128, 64]-drop:0.3-lag:12-activation:relu-activation:relu",
          "full:[128, 64]-drop:0.3-lag:6-activation:relu-activation:relu",
          "full:[128, 64]-drop:0.3-lag:6-activation:relu-activation:relu",
          "full:[128, 64]-drop:0.3-lag:3-activation:relu-activation:relu",
          "full:[128, 64]-drop:0.3-lag:3-activation:relu-activation:relu",
          "full:[128, 64]-drop:0.3-lag:9-activation:relu-activation:relu",
          "full:[128, 64]-drop:0.3-lag:9-activation:relu-activation:relu",
          "full:[128, 64]-drop:0.3-lag:9-activation:relu-activation:relu",
          "full:[128, 64]-drop:0.1-lag:12-activation:relu-activation:relu",
          "full:[128, 64]-drop:0.1-lag:12-activation:relu-activation:relu",
          "full:[128, 64]-drop:0.1-lag:12-activation:relu-activation:relu",
          "full:[128, 64]-drop:0.1-lag:15-activation:relu-activation:relu",
          "full:[128, 64]-drop:0.1-lag:15-activation:relu-activation:relu",
          "full:[128, 64]-drop:0.1-lag:15-activation:relu-activation:relu",
          "full:[128, 64]-drop:0.1-lag:3-activation:relu-activation:relu",
          "full:[128, 64]-drop:0.2-lag:15-activation:relu-activation:relu",
          "full:[128, 64]-drop:0.2-lag:6-activation:relu-activation:relu",
          "full:[128, 64]-drop:0.2-lag:3-activation:relu-activation:relu"
         ],
         "type": "scatter",
         "x": [],
         "y": []
        }
       ],
       "layout": {
        "template": {
         "data": {
          "bar": [
           {
            "error_x": {
             "color": "#2a3f5f"
            },
            "error_y": {
             "color": "#2a3f5f"
            },
            "marker": {
             "line": {
              "color": "#E5ECF6",
              "width": 0.5
             },
             "pattern": {
              "fillmode": "overlay",
              "size": 10,
              "solidity": 0.2
             }
            },
            "type": "bar"
           }
          ],
          "barpolar": [
           {
            "marker": {
             "line": {
              "color": "#E5ECF6",
              "width": 0.5
             },
             "pattern": {
              "fillmode": "overlay",
              "size": 10,
              "solidity": 0.2
             }
            },
            "type": "barpolar"
           }
          ],
          "carpet": [
           {
            "aaxis": {
             "endlinecolor": "#2a3f5f",
             "gridcolor": "white",
             "linecolor": "white",
             "minorgridcolor": "white",
             "startlinecolor": "#2a3f5f"
            },
            "baxis": {
             "endlinecolor": "#2a3f5f",
             "gridcolor": "white",
             "linecolor": "white",
             "minorgridcolor": "white",
             "startlinecolor": "#2a3f5f"
            },
            "type": "carpet"
           }
          ],
          "choropleth": [
           {
            "colorbar": {
             "outlinewidth": 0,
             "ticks": ""
            },
            "type": "choropleth"
           }
          ],
          "contour": [
           {
            "colorbar": {
             "outlinewidth": 0,
             "ticks": ""
            },
            "colorscale": [
             [
              0,
              "#0d0887"
             ],
             [
              0.1111111111111111,
              "#46039f"
             ],
             [
              0.2222222222222222,
              "#7201a8"
             ],
             [
              0.3333333333333333,
              "#9c179e"
             ],
             [
              0.4444444444444444,
              "#bd3786"
             ],
             [
              0.5555555555555556,
              "#d8576b"
             ],
             [
              0.6666666666666666,
              "#ed7953"
             ],
             [
              0.7777777777777778,
              "#fb9f3a"
             ],
             [
              0.8888888888888888,
              "#fdca26"
             ],
             [
              1,
              "#f0f921"
             ]
            ],
            "type": "contour"
           }
          ],
          "contourcarpet": [
           {
            "colorbar": {
             "outlinewidth": 0,
             "ticks": ""
            },
            "type": "contourcarpet"
           }
          ],
          "heatmap": [
           {
            "colorbar": {
             "outlinewidth": 0,
             "ticks": ""
            },
            "colorscale": [
             [
              0,
              "#0d0887"
             ],
             [
              0.1111111111111111,
              "#46039f"
             ],
             [
              0.2222222222222222,
              "#7201a8"
             ],
             [
              0.3333333333333333,
              "#9c179e"
             ],
             [
              0.4444444444444444,
              "#bd3786"
             ],
             [
              0.5555555555555556,
              "#d8576b"
             ],
             [
              0.6666666666666666,
              "#ed7953"
             ],
             [
              0.7777777777777778,
              "#fb9f3a"
             ],
             [
              0.8888888888888888,
              "#fdca26"
             ],
             [
              1,
              "#f0f921"
             ]
            ],
            "type": "heatmap"
           }
          ],
          "heatmapgl": [
           {
            "colorbar": {
             "outlinewidth": 0,
             "ticks": ""
            },
            "colorscale": [
             [
              0,
              "#0d0887"
             ],
             [
              0.1111111111111111,
              "#46039f"
             ],
             [
              0.2222222222222222,
              "#7201a8"
             ],
             [
              0.3333333333333333,
              "#9c179e"
             ],
             [
              0.4444444444444444,
              "#bd3786"
             ],
             [
              0.5555555555555556,
              "#d8576b"
             ],
             [
              0.6666666666666666,
              "#ed7953"
             ],
             [
              0.7777777777777778,
              "#fb9f3a"
             ],
             [
              0.8888888888888888,
              "#fdca26"
             ],
             [
              1,
              "#f0f921"
             ]
            ],
            "type": "heatmapgl"
           }
          ],
          "histogram": [
           {
            "marker": {
             "pattern": {
              "fillmode": "overlay",
              "size": 10,
              "solidity": 0.2
             }
            },
            "type": "histogram"
           }
          ],
          "histogram2d": [
           {
            "colorbar": {
             "outlinewidth": 0,
             "ticks": ""
            },
            "colorscale": [
             [
              0,
              "#0d0887"
             ],
             [
              0.1111111111111111,
              "#46039f"
             ],
             [
              0.2222222222222222,
              "#7201a8"
             ],
             [
              0.3333333333333333,
              "#9c179e"
             ],
             [
              0.4444444444444444,
              "#bd3786"
             ],
             [
              0.5555555555555556,
              "#d8576b"
             ],
             [
              0.6666666666666666,
              "#ed7953"
             ],
             [
              0.7777777777777778,
              "#fb9f3a"
             ],
             [
              0.8888888888888888,
              "#fdca26"
             ],
             [
              1,
              "#f0f921"
             ]
            ],
            "type": "histogram2d"
           }
          ],
          "histogram2dcontour": [
           {
            "colorbar": {
             "outlinewidth": 0,
             "ticks": ""
            },
            "colorscale": [
             [
              0,
              "#0d0887"
             ],
             [
              0.1111111111111111,
              "#46039f"
             ],
             [
              0.2222222222222222,
              "#7201a8"
             ],
             [
              0.3333333333333333,
              "#9c179e"
             ],
             [
              0.4444444444444444,
              "#bd3786"
             ],
             [
              0.5555555555555556,
              "#d8576b"
             ],
             [
              0.6666666666666666,
              "#ed7953"
             ],
             [
              0.7777777777777778,
              "#fb9f3a"
             ],
             [
              0.8888888888888888,
              "#fdca26"
             ],
             [
              1,
              "#f0f921"
             ]
            ],
            "type": "histogram2dcontour"
           }
          ],
          "mesh3d": [
           {
            "colorbar": {
             "outlinewidth": 0,
             "ticks": ""
            },
            "type": "mesh3d"
           }
          ],
          "parcoords": [
           {
            "line": {
             "colorbar": {
              "outlinewidth": 0,
              "ticks": ""
             }
            },
            "type": "parcoords"
           }
          ],
          "pie": [
           {
            "automargin": true,
            "type": "pie"
           }
          ],
          "scatter": [
           {
            "marker": {
             "colorbar": {
              "outlinewidth": 0,
              "ticks": ""
             }
            },
            "type": "scatter"
           }
          ],
          "scatter3d": [
           {
            "line": {
             "colorbar": {
              "outlinewidth": 0,
              "ticks": ""
             }
            },
            "marker": {
             "colorbar": {
              "outlinewidth": 0,
              "ticks": ""
             }
            },
            "type": "scatter3d"
           }
          ],
          "scattercarpet": [
           {
            "marker": {
             "colorbar": {
              "outlinewidth": 0,
              "ticks": ""
             }
            },
            "type": "scattercarpet"
           }
          ],
          "scattergeo": [
           {
            "marker": {
             "colorbar": {
              "outlinewidth": 0,
              "ticks": ""
             }
            },
            "type": "scattergeo"
           }
          ],
          "scattergl": [
           {
            "marker": {
             "colorbar": {
              "outlinewidth": 0,
              "ticks": ""
             }
            },
            "type": "scattergl"
           }
          ],
          "scattermapbox": [
           {
            "marker": {
             "colorbar": {
              "outlinewidth": 0,
              "ticks": ""
             }
            },
            "type": "scattermapbox"
           }
          ],
          "scatterpolar": [
           {
            "marker": {
             "colorbar": {
              "outlinewidth": 0,
              "ticks": ""
             }
            },
            "type": "scatterpolar"
           }
          ],
          "scatterpolargl": [
           {
            "marker": {
             "colorbar": {
              "outlinewidth": 0,
              "ticks": ""
             }
            },
            "type": "scatterpolargl"
           }
          ],
          "scatterternary": [
           {
            "marker": {
             "colorbar": {
              "outlinewidth": 0,
              "ticks": ""
             }
            },
            "type": "scatterternary"
           }
          ],
          "surface": [
           {
            "colorbar": {
             "outlinewidth": 0,
             "ticks": ""
            },
            "colorscale": [
             [
              0,
              "#0d0887"
             ],
             [
              0.1111111111111111,
              "#46039f"
             ],
             [
              0.2222222222222222,
              "#7201a8"
             ],
             [
              0.3333333333333333,
              "#9c179e"
             ],
             [
              0.4444444444444444,
              "#bd3786"
             ],
             [
              0.5555555555555556,
              "#d8576b"
             ],
             [
              0.6666666666666666,
              "#ed7953"
             ],
             [
              0.7777777777777778,
              "#fb9f3a"
             ],
             [
              0.8888888888888888,
              "#fdca26"
             ],
             [
              1,
              "#f0f921"
             ]
            ],
            "type": "surface"
           }
          ],
          "table": [
           {
            "cells": {
             "fill": {
              "color": "#EBF0F8"
             },
             "line": {
              "color": "white"
             }
            },
            "header": {
             "fill": {
              "color": "#C8D4E3"
             },
             "line": {
              "color": "white"
             }
            },
            "type": "table"
           }
          ]
         },
         "layout": {
          "annotationdefaults": {
           "arrowcolor": "#2a3f5f",
           "arrowhead": 0,
           "arrowwidth": 1
          },
          "autotypenumbers": "strict",
          "coloraxis": {
           "colorbar": {
            "outlinewidth": 0,
            "ticks": ""
           }
          },
          "colorscale": {
           "diverging": [
            [
             0,
             "#8e0152"
            ],
            [
             0.1,
             "#c51b7d"
            ],
            [
             0.2,
             "#de77ae"
            ],
            [
             0.3,
             "#f1b6da"
            ],
            [
             0.4,
             "#fde0ef"
            ],
            [
             0.5,
             "#f7f7f7"
            ],
            [
             0.6,
             "#e6f5d0"
            ],
            [
             0.7,
             "#b8e186"
            ],
            [
             0.8,
             "#7fbc41"
            ],
            [
             0.9,
             "#4d9221"
            ],
            [
             1,
             "#276419"
            ]
           ],
           "sequential": [
            [
             0,
             "#0d0887"
            ],
            [
             0.1111111111111111,
             "#46039f"
            ],
            [
             0.2222222222222222,
             "#7201a8"
            ],
            [
             0.3333333333333333,
             "#9c179e"
            ],
            [
             0.4444444444444444,
             "#bd3786"
            ],
            [
             0.5555555555555556,
             "#d8576b"
            ],
            [
             0.6666666666666666,
             "#ed7953"
            ],
            [
             0.7777777777777778,
             "#fb9f3a"
            ],
            [
             0.8888888888888888,
             "#fdca26"
            ],
            [
             1,
             "#f0f921"
            ]
           ],
           "sequentialminus": [
            [
             0,
             "#0d0887"
            ],
            [
             0.1111111111111111,
             "#46039f"
            ],
            [
             0.2222222222222222,
             "#7201a8"
            ],
            [
             0.3333333333333333,
             "#9c179e"
            ],
            [
             0.4444444444444444,
             "#bd3786"
            ],
            [
             0.5555555555555556,
             "#d8576b"
            ],
            [
             0.6666666666666666,
             "#ed7953"
            ],
            [
             0.7777777777777778,
             "#fb9f3a"
            ],
            [
             0.8888888888888888,
             "#fdca26"
            ],
            [
             1,
             "#f0f921"
            ]
           ]
          },
          "colorway": [
           "#636efa",
           "#EF553B",
           "#00cc96",
           "#ab63fa",
           "#FFA15A",
           "#19d3f3",
           "#FF6692",
           "#B6E880",
           "#FF97FF",
           "#FECB52"
          ],
          "font": {
           "color": "#2a3f5f"
          },
          "geo": {
           "bgcolor": "white",
           "lakecolor": "white",
           "landcolor": "#E5ECF6",
           "showlakes": true,
           "showland": true,
           "subunitcolor": "white"
          },
          "hoverlabel": {
           "align": "left"
          },
          "hovermode": "closest",
          "mapbox": {
           "style": "light"
          },
          "paper_bgcolor": "white",
          "plot_bgcolor": "#E5ECF6",
          "polar": {
           "angularaxis": {
            "gridcolor": "white",
            "linecolor": "white",
            "ticks": ""
           },
           "bgcolor": "#E5ECF6",
           "radialaxis": {
            "gridcolor": "white",
            "linecolor": "white",
            "ticks": ""
           }
          },
          "scene": {
           "xaxis": {
            "backgroundcolor": "#E5ECF6",
            "gridcolor": "white",
            "gridwidth": 2,
            "linecolor": "white",
            "showbackground": true,
            "ticks": "",
            "zerolinecolor": "white"
           },
           "yaxis": {
            "backgroundcolor": "#E5ECF6",
            "gridcolor": "white",
            "gridwidth": 2,
            "linecolor": "white",
            "showbackground": true,
            "ticks": "",
            "zerolinecolor": "white"
           },
           "zaxis": {
            "backgroundcolor": "#E5ECF6",
            "gridcolor": "white",
            "gridwidth": 2,
            "linecolor": "white",
            "showbackground": true,
            "ticks": "",
            "zerolinecolor": "white"
           }
          },
          "shapedefaults": {
           "line": {
            "color": "#2a3f5f"
           }
          },
          "ternary": {
           "aaxis": {
            "gridcolor": "white",
            "linecolor": "white",
            "ticks": ""
           },
           "baxis": {
            "gridcolor": "white",
            "linecolor": "white",
            "ticks": ""
           },
           "bgcolor": "#E5ECF6",
           "caxis": {
            "gridcolor": "white",
            "linecolor": "white",
            "ticks": ""
           }
          },
          "title": {
           "x": 0.05
          },
          "xaxis": {
           "automargin": true,
           "gridcolor": "white",
           "linecolor": "white",
           "ticks": "",
           "title": {
            "standoff": 15
           },
           "zerolinecolor": "white",
           "zerolinewidth": 2
          },
          "yaxis": {
           "automargin": true,
           "gridcolor": "white",
           "linecolor": "white",
           "ticks": "",
           "title": {
            "standoff": 15
           },
           "zerolinecolor": "white",
           "zerolinewidth": 2
          }
         }
        }
       }
      },
      "text/html": [
       "<div>                            <div id=\"082819a6-81d9-4ff9-a9f4-7da1ca4e2ee5\" class=\"plotly-graph-div\" style=\"height:525px; width:100%;\"></div>            <script type=\"text/javascript\">                require([\"plotly\"], function(Plotly) {                    window.PLOTLYENV=window.PLOTLYENV || {};                                    if (document.getElementById(\"082819a6-81d9-4ff9-a9f4-7da1ca4e2ee5\")) {                    Plotly.newPlot(                        \"082819a6-81d9-4ff9-a9f4-7da1ca4e2ee5\",                        [{\"marker\":{\"size\":20},\"mode\":\"markers\",\"name\":\"['elu', 0.3]\",\"text\":[\"full:[1024, 512]-drop:0.3-lag:12-activation:['elu', 0.3]-activation:['elu', 0.3]\",\"full:[1024, 512]-drop:0.3-lag:15-activation:['elu', 0.3]-activation:['elu', 0.3]\",\"full:[1024, 512]-drop:0.3-lag:6-activation:['elu', 0.3]-activation:['elu', 0.3]\",\"full:[1024, 512]-drop:0.3-lag:6-activation:['elu', 0.3]-activation:['elu', 0.3]\",\"full:[1024, 512]-drop:0.3-lag:3-activation:['elu', 0.3]-activation:['elu', 0.3]\",\"full:[1024, 512]-drop:0.1-lag:6-activation:['elu', 0.3]-activation:['elu', 0.3]\",\"full:[1024, 512]-drop:0.1-lag:3-activation:['elu', 0.3]-activation:['elu', 0.3]\",\"full:[1024, 512]-drop:0.1-lag:3-activation:['elu', 0.3]-activation:['elu', 0.3]\",\"full:[1024, 512]-drop:0.1-lag:9-activation:['elu', 0.3]-activation:['elu', 0.3]\",\"full:[1024, 512]-drop:0.2-lag:15-activation:['elu', 0.3]-activation:['elu', 0.3]\",\"full:[1024, 512]-drop:0.2-lag:15-activation:['elu', 0.3]-activation:['elu', 0.3]\",\"full:[1024, 512]-drop:0.2-lag:6-activation:['elu', 0.3]-activation:['elu', 0.3]\",\"full:[1024, 512]-drop:0.2-lag:3-activation:['elu', 0.3]-activation:['elu', 0.3]\",\"full:[1024]-drop:0.3-lag:15-activation:['elu', 0.3]-activation:['elu', 0.3]\",\"full:[1024]-drop:0.3-lag:15-activation:['elu', 0.3]-activation:['elu', 0.3]\",\"full:[1024]-drop:0.3-lag:9-activation:['elu', 0.3]-activation:['elu', 0.3]\",\"full:[1024]-drop:0.3-lag:9-activation:['elu', 0.3]-activation:['elu', 0.3]\",\"full:[1024]-drop:0.1-lag:12-activation:['elu', 0.3]-activation:['elu', 0.3]\",\"full:[1024]-drop:0.1-lag:3-activation:['elu', 0.3]-activation:['elu', 0.3]\",\"full:[1024]-drop:0.2-lag:12-activation:['elu', 0.3]-activation:['elu', 0.3]\",\"full:[1024]-drop:0.2-lag:15-activation:['elu', 0.3]-activation:['elu', 0.3]\",\"full:[1024]-drop:0.2-lag:3-activation:['elu', 0.3]-activation:['elu', 0.3]\",\"full:[1024]-drop:0.2-lag:3-activation:['elu', 0.3]-activation:['elu', 0.3]\",\"full:[1024]-drop:0.2-lag:3-activation:['elu', 0.3]-activation:['elu', 0.3]\",\"full:[512]-drop:0.3-lag:12-activation:['elu', 0.3]-activation:['elu', 0.3]\",\"full:[512]-drop:0.3-lag:12-activation:['elu', 0.3]-activation:['elu', 0.3]\",\"full:[512]-drop:0.3-lag:15-activation:['elu', 0.3]-activation:['elu', 0.3]\",\"full:[512]-drop:0.3-lag:15-activation:['elu', 0.3]-activation:['elu', 0.3]\",\"full:[512]-drop:0.3-lag:15-activation:['elu', 0.3]-activation:['elu', 0.3]\",\"full:[512]-drop:0.3-lag:6-activation:['elu', 0.3]-activation:['elu', 0.3]\",\"full:[512]-drop:0.3-lag:6-activation:['elu', 0.3]-activation:['elu', 0.3]\",\"full:[512]-drop:0.3-lag:9-activation:['elu', 0.3]-activation:['elu', 0.3]\",\"full:[512]-drop:0.1-lag:12-activation:['elu', 0.3]-activation:['elu', 0.3]\",\"full:[512]-drop:0.1-lag:12-activation:['elu', 0.3]-activation:['elu', 0.3]\",\"full:[512]-drop:0.1-lag:15-activation:['elu', 0.3]-activation:['elu', 0.3]\",\"full:[512]-drop:0.1-lag:6-activation:['elu', 0.3]-activation:['elu', 0.3]\",\"full:[512]-drop:0.1-lag:9-activation:['elu', 0.3]-activation:['elu', 0.3]\",\"full:[512]-drop:0.2-lag:15-activation:['elu', 0.3]-activation:['elu', 0.3]\",\"full:[512]-drop:0.2-lag:6-activation:['elu', 0.3]-activation:['elu', 0.3]\",\"full:[512]-drop:0.2-lag:3-activation:['elu', 0.3]-activation:['elu', 0.3]\",\"full:[512]-drop:0.2-lag:9-activation:['elu', 0.3]-activation:['elu', 0.3]\",\"full:[512, 256]-drop:0.3-lag:12-activation:['elu', 0.3]-activation:['elu', 0.3]\",\"full:[512, 256]-drop:0.3-lag:15-activation:['elu', 0.3]-activation:['elu', 0.3]\",\"full:[512, 256]-drop:0.3-lag:3-activation:['elu', 0.3]-activation:['elu', 0.3]\",\"full:[512, 256]-drop:0.3-lag:3-activation:['elu', 0.3]-activation:['elu', 0.3]\",\"full:[512, 256]-drop:0.1-lag:12-activation:['elu', 0.3]-activation:['elu', 0.3]\",\"full:[512, 256]-drop:0.1-lag:15-activation:['elu', 0.3]-activation:['elu', 0.3]\",\"full:[512, 256]-drop:0.1-lag:6-activation:['elu', 0.3]-activation:['elu', 0.3]\",\"full:[512, 256]-drop:0.1-lag:6-activation:['elu', 0.3]-activation:['elu', 0.3]\",\"full:[512, 256]-drop:0.1-lag:6-activation:['elu', 0.3]-activation:['elu', 0.3]\",\"full:[512, 256]-drop:0.1-lag:3-activation:['elu', 0.3]-activation:['elu', 0.3]\",\"full:[512, 256]-drop:0.1-lag:9-activation:['elu', 0.3]-activation:['elu', 0.3]\",\"full:[512, 256]-drop:0.2-lag:15-activation:['elu', 0.3]-activation:['elu', 0.3]\",\"full:[512, 256]-drop:0.2-lag:15-activation:['elu', 0.3]-activation:['elu', 0.3]\",\"full:[512, 256]-drop:0.2-lag:3-activation:['elu', 0.3]-activation:['elu', 0.3]\",\"full:[512, 256]-drop:0.2-lag:3-activation:['elu', 0.3]-activation:['elu', 0.3]\",\"full:[256, 128]-drop:0.3-lag:12-activation:['elu', 0.3]-activation:['elu', 0.3]\",\"full:[256, 128]-drop:0.3-lag:6-activation:['elu', 0.3]-activation:['elu', 0.3]\",\"full:[256, 128]-drop:0.3-lag:9-activation:['elu', 0.3]-activation:['elu', 0.3]\",\"full:[256, 128]-drop:0.1-lag:15-activation:['elu', 0.3]-activation:['elu', 0.3]\",\"full:[256, 128]-drop:0.1-lag:3-activation:['elu', 0.3]-activation:['elu', 0.3]\",\"full:[256, 128]-drop:0.1-lag:3-activation:['elu', 0.3]-activation:['elu', 0.3]\",\"full:[256, 128]-drop:0.1-lag:3-activation:['elu', 0.3]-activation:['elu', 0.3]\",\"full:[256, 128]-drop:0.2-lag:12-activation:['elu', 0.3]-activation:['elu', 0.3]\",\"full:[256, 128]-drop:0.2-lag:6-activation:['elu', 0.3]-activation:['elu', 0.3]\",\"full:[256]-drop:0.3-lag:3-activation:['elu', 0.3]-activation:['elu', 0.3]\",\"full:[256]-drop:0.3-lag:9-activation:['elu', 0.3]-activation:['elu', 0.3]\",\"full:[256]-drop:0.2-lag:15-activation:['elu', 0.3]-activation:['elu', 0.3]\",\"full:[256]-drop:0.2-lag:15-activation:['elu', 0.3]-activation:['elu', 0.3]\",\"full:[256]-drop:0.2-lag:3-activation:['elu', 0.3]-activation:['elu', 0.3]\",\"full:[128, 64]-drop:0.3-lag:12-activation:['elu', 0.3]-activation:['elu', 0.3]\",\"full:[128, 64]-drop:0.3-lag:6-activation:['elu', 0.3]-activation:['elu', 0.3]\",\"full:[128, 64]-drop:0.3-lag:3-activation:['elu', 0.3]-activation:['elu', 0.3]\",\"full:[128, 64]-drop:0.3-lag:9-activation:['elu', 0.3]-activation:['elu', 0.3]\",\"full:[128, 64]-drop:0.1-lag:12-activation:['elu', 0.3]-activation:['elu', 0.3]\",\"full:[128, 64]-drop:0.1-lag:12-activation:['elu', 0.3]-activation:['elu', 0.3]\",\"full:[128, 64]-drop:0.1-lag:12-activation:['elu', 0.3]-activation:['elu', 0.3]\",\"full:[128, 64]-drop:0.1-lag:9-activation:['elu', 0.3]-activation:['elu', 0.3]\",\"full:[128, 64]-drop:0.2-lag:6-activation:['elu', 0.3]-activation:['elu', 0.3]\",\"full:[128, 64]-drop:0.2-lag:3-activation:['elu', 0.3]-activation:['elu', 0.3]\",\"full:[128, 64]-drop:0.2-lag:9-activation:['elu', 0.3]-activation:['elu', 0.3]\",\"full:[128, 64]-drop:0.2-lag:9-activation:['elu', 0.3]-activation:['elu', 0.3]\",\"full:[128, 64]-drop:0.2-lag:9-activation:['elu', 0.3]-activation:['elu', 0.3]\"],\"type\":\"scatter\",\"x\":[],\"y\":[]},{\"marker\":{\"size\":20},\"mode\":\"markers\",\"name\":\"['leaky', 0.2]\",\"text\":[\"full:[1024, 512]-drop:0.3-lag:12-activation:['leaky', 0.2]-activation:['leaky', 0.2]\",\"full:[1024, 512]-drop:0.3-lag:6-activation:['leaky', 0.2]-activation:['leaky', 0.2]\",\"full:[1024, 512]-drop:0.3-lag:6-activation:['leaky', 0.2]-activation:['leaky', 0.2]\",\"full:[1024, 512]-drop:0.3-lag:6-activation:['leaky', 0.2]-activation:['leaky', 0.2]\",\"full:[1024, 512]-drop:0.3-lag:6-activation:['leaky', 0.2]-activation:['leaky', 0.2]\",\"full:[1024, 512]-drop:0.3-lag:6-activation:['leaky', 0.2]-activation:['leaky', 0.2]\",\"full:[1024, 512]-drop:0.3-lag:6-activation:['leaky', 0.2]-activation:['leaky', 0.2]\",\"full:[1024, 512]-drop:0.3-lag:6-activation:['leaky', 0.2]-activation:['leaky', 0.2]\",\"full:[1024, 512]-drop:0.3-lag:3-activation:['leaky', 0.2]-activation:['leaky', 0.2]\",\"full:[1024, 512]-drop:0.3-lag:3-activation:['leaky', 0.2]-activation:['leaky', 0.2]\",\"full:[1024, 512]-drop:0.3-lag:3-activation:['leaky', 0.2]-activation:['leaky', 0.2]\",\"full:[1024, 512]-drop:0.3-lag:3-activation:['leaky', 0.2]-activation:['leaky', 0.2]\",\"full:[1024, 512]-drop:0.3-lag:3-activation:['leaky', 0.2]-activation:['leaky', 0.2]\",\"full:[1024, 512]-drop:0.3-lag:3-activation:['leaky', 0.2]-activation:['leaky', 0.2]\",\"full:[1024, 512]-drop:0.3-lag:9-activation:['leaky', 0.2]-activation:['leaky', 0.2]\",\"full:[1024, 512]-drop:0.3-lag:9-activation:['leaky', 0.2]-activation:['leaky', 0.2]\",\"full:[1024, 512]-drop:0.1-lag:15-activation:['leaky', 0.2]-activation:['leaky', 0.2]\",\"full:[1024, 512]-drop:0.1-lag:15-activation:['leaky', 0.2]-activation:['leaky', 0.2]\",\"full:[1024, 512]-drop:0.1-lag:6-activation:['leaky', 0.2]-activation:['leaky', 0.2]\",\"full:[1024, 512]-drop:0.1-lag:6-activation:['leaky', 0.2]-activation:['leaky', 0.2]\",\"full:[1024, 512]-drop:0.1-lag:3-activation:['leaky', 0.2]-activation:['leaky', 0.2]\",\"full:[1024, 512]-drop:0.1-lag:3-activation:['leaky', 0.2]-activation:['leaky', 0.2]\",\"full:[1024, 512]-drop:0.1-lag:3-activation:['leaky', 0.2]-activation:['leaky', 0.2]\",\"full:[1024, 512]-drop:0.1-lag:3-activation:['leaky', 0.2]-activation:['leaky', 0.2]\",\"full:[1024, 512]-drop:0.1-lag:9-activation:['leaky', 0.2]-activation:['leaky', 0.2]\",\"full:[1024, 512]-drop:0.1-lag:9-activation:['leaky', 0.2]-activation:['leaky', 0.2]\",\"full:[1024, 512]-drop:0.1-lag:9-activation:['leaky', 0.2]-activation:['leaky', 0.2]\",\"full:[1024, 512]-drop:0.1-lag:9-activation:['leaky', 0.2]-activation:['leaky', 0.2]\",\"full:[1024, 512]-drop:0.2-lag:12-activation:['leaky', 0.2]-activation:['leaky', 0.2]\",\"full:[1024, 512]-drop:0.2-lag:15-activation:['leaky', 0.2]-activation:['leaky', 0.2]\",\"full:[1024, 512]-drop:0.2-lag:15-activation:['leaky', 0.2]-activation:['leaky', 0.2]\",\"full:[1024, 512]-drop:0.2-lag:15-activation:['leaky', 0.2]-activation:['leaky', 0.2]\",\"full:[1024, 512]-drop:0.2-lag:6-activation:['leaky', 0.2]-activation:['leaky', 0.2]\",\"full:[1024, 512]-drop:0.2-lag:6-activation:['leaky', 0.2]-activation:['leaky', 0.2]\",\"full:[1024, 512]-drop:0.2-lag:6-activation:['leaky', 0.2]-activation:['leaky', 0.2]\",\"full:[1024, 512]-drop:0.2-lag:6-activation:['leaky', 0.2]-activation:['leaky', 0.2]\",\"full:[1024, 512]-drop:0.2-lag:6-activation:['leaky', 0.2]-activation:['leaky', 0.2]\",\"full:[1024, 512]-drop:0.2-lag:6-activation:['leaky', 0.2]-activation:['leaky', 0.2]\",\"full:[1024, 512]-drop:0.2-lag:6-activation:['leaky', 0.2]-activation:['leaky', 0.2]\",\"full:[1024, 512]-drop:0.2-lag:3-activation:['leaky', 0.2]-activation:['leaky', 0.2]\",\"full:[1024, 512]-drop:0.2-lag:3-activation:['leaky', 0.2]-activation:['leaky', 0.2]\",\"full:[1024, 512]-drop:0.2-lag:3-activation:['leaky', 0.2]-activation:['leaky', 0.2]\",\"full:[1024, 512]-drop:0.2-lag:3-activation:['leaky', 0.2]-activation:['leaky', 0.2]\",\"full:[1024, 512]-drop:0.2-lag:3-activation:['leaky', 0.2]-activation:['leaky', 0.2]\",\"full:[1024, 512]-drop:0.2-lag:3-activation:['leaky', 0.2]-activation:['leaky', 0.2]\",\"full:[1024, 512]-drop:0.2-lag:3-activation:['leaky', 0.2]-activation:['leaky', 0.2]\",\"full:[1024, 512]-drop:0.2-lag:3-activation:['leaky', 0.2]-activation:['leaky', 0.2]\",\"full:[1024, 512]-drop:0.2-lag:9-activation:['leaky', 0.2]-activation:['leaky', 0.2]\",\"full:[1024, 512]-drop:0.2-lag:9-activation:['leaky', 0.2]-activation:['leaky', 0.2]\",\"full:[1024, 512]-drop:0.2-lag:9-activation:['leaky', 0.2]-activation:['leaky', 0.2]\",\"full:[1024, 512]-drop:0.2-lag:9-activation:['leaky', 0.2]-activation:['leaky', 0.2]\",\"full:[1024, 512]-drop:0.2-lag:9-activation:['leaky', 0.2]-activation:['leaky', 0.2]\",\"full:[1024]-drop:0.3-lag:12-activation:['leaky', 0.2]-activation:['leaky', 0.2]\",\"full:[1024]-drop:0.3-lag:15-activation:['leaky', 0.2]-activation:['leaky', 0.2]\",\"full:[1024]-drop:0.3-lag:15-activation:['leaky', 0.2]-activation:['leaky', 0.2]\",\"full:[1024]-drop:0.3-lag:3-activation:['leaky', 0.2]-activation:['leaky', 0.2]\",\"full:[1024]-drop:0.3-lag:3-activation:['leaky', 0.2]-activation:['leaky', 0.2]\",\"full:[1024]-drop:0.3-lag:9-activation:['leaky', 0.2]-activation:['leaky', 0.2]\",\"full:[1024]-drop:0.1-lag:12-activation:['leaky', 0.2]-activation:['leaky', 0.2]\",\"full:[1024]-drop:0.1-lag:12-activation:['leaky', 0.2]-activation:['leaky', 0.2]\",\"full:[1024]-drop:0.1-lag:15-activation:['leaky', 0.2]-activation:['leaky', 0.2]\",\"full:[1024]-drop:0.2-lag:3-activation:['leaky', 0.2]-activation:['leaky', 0.2]\",\"full:[1024]-drop:0.2-lag:3-activation:['leaky', 0.2]-activation:['leaky', 0.2]\",\"full:[512]-drop:0.3-lag:12-activation:['leaky', 0.2]-activation:['leaky', 0.2]\",\"full:[512]-drop:0.3-lag:15-activation:['leaky', 0.2]-activation:['leaky', 0.2]\",\"full:[512]-drop:0.3-lag:15-activation:['leaky', 0.2]-activation:['leaky', 0.2]\",\"full:[512]-drop:0.3-lag:15-activation:['leaky', 0.2]-activation:['leaky', 0.2]\",\"full:[512]-drop:0.3-lag:15-activation:['leaky', 0.2]-activation:['leaky', 0.2]\",\"full:[512]-drop:0.3-lag:6-activation:['leaky', 0.2]-activation:['leaky', 0.2]\",\"full:[512]-drop:0.3-lag:9-activation:['leaky', 0.2]-activation:['leaky', 0.2]\",\"full:[512]-drop:0.1-lag:15-activation:['leaky', 0.2]-activation:['leaky', 0.2]\",\"full:[512]-drop:0.1-lag:15-activation:['leaky', 0.2]-activation:['leaky', 0.2]\",\"full:[512]-drop:0.1-lag:15-activation:['leaky', 0.2]-activation:['leaky', 0.2]\",\"full:[512]-drop:0.1-lag:15-activation:['leaky', 0.2]-activation:['leaky', 0.2]\",\"full:[512]-drop:0.1-lag:6-activation:['leaky', 0.2]-activation:['leaky', 0.2]\",\"full:[512]-drop:0.1-lag:6-activation:['leaky', 0.2]-activation:['leaky', 0.2]\",\"full:[512]-drop:0.1-lag:3-activation:['leaky', 0.2]-activation:['leaky', 0.2]\",\"full:[512]-drop:0.1-lag:3-activation:['leaky', 0.2]-activation:['leaky', 0.2]\",\"full:[512]-drop:0.2-lag:15-activation:['leaky', 0.2]-activation:['leaky', 0.2]\",\"full:[512]-drop:0.2-lag:6-activation:['leaky', 0.2]-activation:['leaky', 0.2]\",\"full:[512]-drop:0.2-lag:6-activation:['leaky', 0.2]-activation:['leaky', 0.2]\",\"full:[512]-drop:0.2-lag:3-activation:['leaky', 0.2]-activation:['leaky', 0.2]\",\"full:[512]-drop:0.2-lag:9-activation:['leaky', 0.2]-activation:['leaky', 0.2]\",\"full:[512, 256]-drop:0.3-lag:12-activation:['leaky', 0.2]-activation:['leaky', 0.2]\",\"full:[512, 256]-drop:0.3-lag:12-activation:['leaky', 0.2]-activation:['leaky', 0.2]\",\"full:[512, 256]-drop:0.3-lag:15-activation:['leaky', 0.2]-activation:['leaky', 0.2]\",\"full:[512, 256]-drop:0.3-lag:15-activation:['leaky', 0.2]-activation:['leaky', 0.2]\",\"full:[512, 256]-drop:0.3-lag:6-activation:['leaky', 0.2]-activation:['leaky', 0.2]\",\"full:[512, 256]-drop:0.3-lag:6-activation:['leaky', 0.2]-activation:['leaky', 0.2]\",\"full:[512, 256]-drop:0.3-lag:6-activation:['leaky', 0.2]-activation:['leaky', 0.2]\",\"full:[512, 256]-drop:0.3-lag:6-activation:['leaky', 0.2]-activation:['leaky', 0.2]\",\"full:[512, 256]-drop:0.3-lag:6-activation:['leaky', 0.2]-activation:['leaky', 0.2]\",\"full:[512, 256]-drop:0.3-lag:6-activation:['leaky', 0.2]-activation:['leaky', 0.2]\",\"full:[512, 256]-drop:0.3-lag:6-activation:['leaky', 0.2]-activation:['leaky', 0.2]\",\"full:[512, 256]-drop:0.3-lag:6-activation:['leaky', 0.2]-activation:['leaky', 0.2]\",\"full:[512, 256]-drop:0.3-lag:6-activation:['leaky', 0.2]-activation:['leaky', 0.2]\",\"full:[512, 256]-drop:0.3-lag:3-activation:['leaky', 0.2]-activation:['leaky', 0.2]\",\"full:[512, 256]-drop:0.3-lag:3-activation:['leaky', 0.2]-activation:['leaky', 0.2]\",\"full:[512, 256]-drop:0.3-lag:3-activation:['leaky', 0.2]-activation:['leaky', 0.2]\",\"full:[512, 256]-drop:0.3-lag:3-activation:['leaky', 0.2]-activation:['leaky', 0.2]\",\"full:[512, 256]-drop:0.3-lag:3-activation:['leaky', 0.2]-activation:['leaky', 0.2]\",\"full:[512, 256]-drop:0.3-lag:3-activation:['leaky', 0.2]-activation:['leaky', 0.2]\",\"full:[512, 256]-drop:0.3-lag:3-activation:['leaky', 0.2]-activation:['leaky', 0.2]\",\"full:[512, 256]-drop:0.3-lag:3-activation:['leaky', 0.2]-activation:['leaky', 0.2]\",\"full:[512, 256]-drop:0.3-lag:3-activation:['leaky', 0.2]-activation:['leaky', 0.2]\",\"full:[512, 256]-drop:0.3-lag:9-activation:['leaky', 0.2]-activation:['leaky', 0.2]\",\"full:[512, 256]-drop:0.3-lag:9-activation:['leaky', 0.2]-activation:['leaky', 0.2]\",\"full:[512, 256]-drop:0.1-lag:12-activation:['leaky', 0.2]-activation:['leaky', 0.2]\",\"full:[512, 256]-drop:0.1-lag:15-activation:['leaky', 0.2]-activation:['leaky', 0.2]\",\"full:[512, 256]-drop:0.1-lag:6-activation:['leaky', 0.2]-activation:['leaky', 0.2]\",\"full:[512, 256]-drop:0.1-lag:6-activation:['leaky', 0.2]-activation:['leaky', 0.2]\",\"full:[512, 256]-drop:0.1-lag:6-activation:['leaky', 0.2]-activation:['leaky', 0.2]\",\"full:[512, 256]-drop:0.1-lag:3-activation:['leaky', 0.2]-activation:['leaky', 0.2]\",\"full:[512, 256]-drop:0.1-lag:3-activation:['leaky', 0.2]-activation:['leaky', 0.2]\",\"full:[512, 256]-drop:0.1-lag:3-activation:['leaky', 0.2]-activation:['leaky', 0.2]\",\"full:[512, 256]-drop:0.1-lag:3-activation:['leaky', 0.2]-activation:['leaky', 0.2]\",\"full:[512, 256]-drop:0.1-lag:3-activation:['leaky', 0.2]-activation:['leaky', 0.2]\",\"full:[512, 256]-drop:0.1-lag:9-activation:['leaky', 0.2]-activation:['leaky', 0.2]\",\"full:[512, 256]-drop:0.1-lag:9-activation:['leaky', 0.2]-activation:['leaky', 0.2]\",\"full:[512, 256]-drop:0.2-lag:15-activation:['leaky', 0.2]-activation:['leaky', 0.2]\",\"full:[512, 256]-drop:0.2-lag:15-activation:['leaky', 0.2]-activation:['leaky', 0.2]\",\"full:[512, 256]-drop:0.2-lag:6-activation:['leaky', 0.2]-activation:['leaky', 0.2]\",\"full:[512, 256]-drop:0.2-lag:6-activation:['leaky', 0.2]-activation:['leaky', 0.2]\",\"full:[512, 256]-drop:0.2-lag:6-activation:['leaky', 0.2]-activation:['leaky', 0.2]\",\"full:[512, 256]-drop:0.2-lag:6-activation:['leaky', 0.2]-activation:['leaky', 0.2]\",\"full:[512, 256]-drop:0.2-lag:6-activation:['leaky', 0.2]-activation:['leaky', 0.2]\",\"full:[512, 256]-drop:0.2-lag:6-activation:['leaky', 0.2]-activation:['leaky', 0.2]\",\"full:[512, 256]-drop:0.2-lag:6-activation:['leaky', 0.2]-activation:['leaky', 0.2]\",\"full:[512, 256]-drop:0.2-lag:6-activation:['leaky', 0.2]-activation:['leaky', 0.2]\",\"full:[512, 256]-drop:0.2-lag:3-activation:['leaky', 0.2]-activation:['leaky', 0.2]\",\"full:[512, 256]-drop:0.2-lag:3-activation:['leaky', 0.2]-activation:['leaky', 0.2]\",\"full:[512, 256]-drop:0.2-lag:3-activation:['leaky', 0.2]-activation:['leaky', 0.2]\",\"full:[512, 256]-drop:0.2-lag:3-activation:['leaky', 0.2]-activation:['leaky', 0.2]\",\"full:[512, 256]-drop:0.2-lag:3-activation:['leaky', 0.2]-activation:['leaky', 0.2]\",\"full:[512, 256]-drop:0.2-lag:3-activation:['leaky', 0.2]-activation:['leaky', 0.2]\",\"full:[512, 256]-drop:0.2-lag:3-activation:['leaky', 0.2]-activation:['leaky', 0.2]\",\"full:[512, 256]-drop:0.2-lag:9-activation:['leaky', 0.2]-activation:['leaky', 0.2]\",\"full:[256, 128]-drop:0.3-lag:15-activation:['leaky', 0.2]-activation:['leaky', 0.2]\",\"full:[256, 128]-drop:0.3-lag:15-activation:['leaky', 0.2]-activation:['leaky', 0.2]\",\"full:[256, 128]-drop:0.3-lag:15-activation:['leaky', 0.2]-activation:['leaky', 0.2]\",\"full:[256, 128]-drop:0.3-lag:6-activation:['leaky', 0.2]-activation:['leaky', 0.2]\",\"full:[256, 128]-drop:0.3-lag:6-activation:['leaky', 0.2]-activation:['leaky', 0.2]\",\"full:[256, 128]-drop:0.3-lag:6-activation:['leaky', 0.2]-activation:['leaky', 0.2]\",\"full:[256, 128]-drop:0.3-lag:6-activation:['leaky', 0.2]-activation:['leaky', 0.2]\",\"full:[256, 128]-drop:0.3-lag:6-activation:['leaky', 0.2]-activation:['leaky', 0.2]\",\"full:[256, 128]-drop:0.3-lag:3-activation:['leaky', 0.2]-activation:['leaky', 0.2]\",\"full:[256, 128]-drop:0.3-lag:3-activation:['leaky', 0.2]-activation:['leaky', 0.2]\",\"full:[256, 128]-drop:0.3-lag:3-activation:['leaky', 0.2]-activation:['leaky', 0.2]\",\"full:[256, 128]-drop:0.3-lag:9-activation:['leaky', 0.2]-activation:['leaky', 0.2]\",\"full:[256, 128]-drop:0.3-lag:9-activation:['leaky', 0.2]-activation:['leaky', 0.2]\",\"full:[256, 128]-drop:0.3-lag:9-activation:['leaky', 0.2]-activation:['leaky', 0.2]\",\"full:[256, 128]-drop:0.3-lag:9-activation:['leaky', 0.2]-activation:['leaky', 0.2]\",\"full:[256, 128]-drop:0.1-lag:15-activation:['leaky', 0.2]-activation:['leaky', 0.2]\",\"full:[256, 128]-drop:0.1-lag:6-activation:['leaky', 0.2]-activation:['leaky', 0.2]\",\"full:[256, 128]-drop:0.1-lag:3-activation:['leaky', 0.2]-activation:['leaky', 0.2]\",\"full:[256, 128]-drop:0.1-lag:3-activation:['leaky', 0.2]-activation:['leaky', 0.2]\",\"full:[256, 128]-drop:0.1-lag:3-activation:['leaky', 0.2]-activation:['leaky', 0.2]\",\"full:[256, 128]-drop:0.1-lag:3-activation:['leaky', 0.2]-activation:['leaky', 0.2]\",\"full:[256, 128]-drop:0.2-lag:12-activation:['leaky', 0.2]-activation:['leaky', 0.2]\",\"full:[256, 128]-drop:0.2-lag:6-activation:['leaky', 0.2]-activation:['leaky', 0.2]\",\"full:[256, 128]-drop:0.2-lag:6-activation:['leaky', 0.2]-activation:['leaky', 0.2]\",\"full:[256, 128]-drop:0.2-lag:6-activation:['leaky', 0.2]-activation:['leaky', 0.2]\",\"full:[256, 128]-drop:0.2-lag:6-activation:['leaky', 0.2]-activation:['leaky', 0.2]\",\"full:[256, 128]-drop:0.2-lag:3-activation:['leaky', 0.2]-activation:['leaky', 0.2]\",\"full:[256, 128]-drop:0.2-lag:3-activation:['leaky', 0.2]-activation:['leaky', 0.2]\",\"full:[256, 128]-drop:0.2-lag:9-activation:['leaky', 0.2]-activation:['leaky', 0.2]\",\"full:[256, 128]-drop:0.2-lag:9-activation:['leaky', 0.2]-activation:['leaky', 0.2]\",\"full:[256]-drop:0.3-lag:3-activation:['leaky', 0.2]-activation:['leaky', 0.2]\",\"full:[256]-drop:0.3-lag:9-activation:['leaky', 0.2]-activation:['leaky', 0.2]\",\"full:[256]-drop:0.1-lag:12-activation:['leaky', 0.2]-activation:['leaky', 0.2]\",\"full:[256]-drop:0.1-lag:15-activation:['leaky', 0.2]-activation:['leaky', 0.2]\",\"full:[256]-drop:0.1-lag:6-activation:['leaky', 0.2]-activation:['leaky', 0.2]\",\"full:[256]-drop:0.1-lag:3-activation:['leaky', 0.2]-activation:['leaky', 0.2]\",\"full:[256]-drop:0.2-lag:15-activation:['leaky', 0.2]-activation:['leaky', 0.2]\",\"full:[256]-drop:0.2-lag:6-activation:['leaky', 0.2]-activation:['leaky', 0.2]\",\"full:[256]-drop:0.2-lag:6-activation:['leaky', 0.2]-activation:['leaky', 0.2]\",\"full:[256]-drop:0.2-lag:3-activation:['leaky', 0.2]-activation:['leaky', 0.2]\",\"full:[128, 64]-drop:0.3-lag:12-activation:['leaky', 0.2]-activation:['leaky', 0.2]\",\"full:[128, 64]-drop:0.3-lag:15-activation:['leaky', 0.2]-activation:['leaky', 0.2]\",\"full:[128, 64]-drop:0.3-lag:3-activation:['leaky', 0.2]-activation:['leaky', 0.2]\",\"full:[128, 64]-drop:0.3-lag:9-activation:['leaky', 0.2]-activation:['leaky', 0.2]\",\"full:[128, 64]-drop:0.1-lag:12-activation:['leaky', 0.2]-activation:['leaky', 0.2]\",\"full:[128, 64]-drop:0.2-lag:15-activation:['leaky', 0.2]-activation:['leaky', 0.2]\",\"full:[128, 64]-drop:0.2-lag:3-activation:['leaky', 0.2]-activation:['leaky', 0.2]\",\"full:[128, 64]-drop:0.2-lag:3-activation:['leaky', 0.2]-activation:['leaky', 0.2]\"],\"type\":\"scatter\",\"x\":[7.5486904443394645,7.634734146134249,7.6243411031295105,7.548486600869939,7.634339554681588,7.630856303969532,7.62160846592412,7.538003137873229,7.630314080339533,7.619712551277893,7.517005400334164,7.554859983464985,7.619181005693907,7.62422123113172,7.512838819985975,7.557937422585648,7.625530856412928,7.536655265981077,7.623034054516558,7.558983336327404,7.523221005445014,7.623053695760642,7.5442149621236485,7.541300420646545,7.546605421744365,7.544854742136482,7.5494345298704335,7.538717958711318,7.528608217577196,7.621938599305147,7.546111502810458,7.628847962961782,7.623650497648112,7.501886595287237,7.548543116493068],\"y\":[200,500,500,200,500,500,500,200,500,500,250,250,500,500,250,250,500,200,500,250,250,500,250,250,250,250,200,250,250,500,200,500,500,250,200]},{\"marker\":{\"size\":20},\"mode\":\"markers\",\"name\":\"relu\",\"text\":[\"full:[1024, 512]-drop:0.3-lag:12-activation:relu-activation:relu\",\"full:[1024, 512]-drop:0.1-lag:6-activation:relu-activation:relu\",\"full:[1024, 512]-drop:0.1-lag:9-activation:relu-activation:relu\",\"full:[1024, 512]-drop:0.1-lag:9-activation:relu-activation:relu\",\"full:[1024, 512]-drop:0.2-lag:12-activation:relu-activation:relu\",\"full:[1024, 512]-drop:0.2-lag:15-activation:relu-activation:relu\",\"full:[1024, 512]-drop:0.2-lag:6-activation:relu-activation:relu\",\"full:[1024, 512]-drop:0.2-lag:6-activation:relu-activation:relu\",\"full:[1024]-drop:0.3-lag:12-activation:relu-activation:relu\",\"full:[1024]-drop:0.3-lag:12-activation:relu-activation:relu\",\"full:[1024]-drop:0.3-lag:12-activation:relu-activation:relu\",\"full:[1024]-drop:0.3-lag:15-activation:relu-activation:relu\",\"full:[1024]-drop:0.3-lag:15-activation:relu-activation:relu\",\"full:[1024]-drop:0.3-lag:6-activation:relu-activation:relu\",\"full:[1024]-drop:0.3-lag:6-activation:relu-activation:relu\",\"full:[1024]-drop:0.3-lag:3-activation:relu-activation:relu\",\"full:[1024]-drop:0.3-lag:9-activation:relu-activation:relu\",\"full:[1024]-drop:0.1-lag:12-activation:relu-activation:relu\",\"full:[1024]-drop:0.1-lag:12-activation:relu-activation:relu\",\"full:[1024]-drop:0.1-lag:6-activation:relu-activation:relu\",\"full:[1024]-drop:0.1-lag:3-activation:relu-activation:relu\",\"full:[1024]-drop:0.1-lag:3-activation:relu-activation:relu\",\"full:[1024]-drop:0.1-lag:9-activation:relu-activation:relu\",\"full:[1024]-drop:0.1-lag:9-activation:relu-activation:relu\",\"full:[1024]-drop:0.2-lag:6-activation:relu-activation:relu\",\"full:[1024]-drop:0.2-lag:6-activation:relu-activation:relu\",\"full:[512]-drop:0.3-lag:3-activation:relu-activation:relu\",\"full:[512]-drop:0.1-lag:6-activation:relu-activation:relu\",\"full:[512]-drop:0.1-lag:3-activation:relu-activation:relu\",\"full:[512]-drop:0.2-lag:12-activation:relu-activation:relu\",\"full:[512]-drop:0.2-lag:3-activation:relu-activation:relu\",\"full:[512]-drop:0.2-lag:3-activation:relu-activation:relu\",\"full:[512, 256]-drop:0.3-lag:12-activation:relu-activation:relu\",\"full:[512, 256]-drop:0.3-lag:12-activation:relu-activation:relu\",\"full:[512, 256]-drop:0.3-lag:12-activation:relu-activation:relu\",\"full:[512, 256]-drop:0.3-lag:15-activation:relu-activation:relu\",\"full:[512, 256]-drop:0.3-lag:6-activation:relu-activation:relu\",\"full:[512, 256]-drop:0.3-lag:6-activation:relu-activation:relu\",\"full:[512, 256]-drop:0.3-lag:3-activation:relu-activation:relu\",\"full:[512, 256]-drop:0.3-lag:3-activation:relu-activation:relu\",\"full:[512, 256]-drop:0.1-lag:15-activation:relu-activation:relu\",\"full:[512, 256]-drop:0.1-lag:6-activation:relu-activation:relu\",\"full:[512, 256]-drop:0.2-lag:3-activation:relu-activation:relu\",\"full:[256, 128]-drop:0.3-lag:12-activation:relu-activation:relu\",\"full:[256, 128]-drop:0.3-lag:15-activation:relu-activation:relu\",\"full:[256, 128]-drop:0.3-lag:15-activation:relu-activation:relu\",\"full:[256, 128]-drop:0.3-lag:6-activation:relu-activation:relu\",\"full:[256, 128]-drop:0.3-lag:6-activation:relu-activation:relu\",\"full:[256, 128]-drop:0.3-lag:3-activation:relu-activation:relu\",\"full:[256, 128]-drop:0.3-lag:3-activation:relu-activation:relu\",\"full:[256, 128]-drop:0.1-lag:12-activation:relu-activation:relu\",\"full:[256, 128]-drop:0.1-lag:15-activation:relu-activation:relu\",\"full:[256, 128]-drop:0.1-lag:6-activation:relu-activation:relu\",\"full:[256, 128]-drop:0.1-lag:6-activation:relu-activation:relu\",\"full:[256, 128]-drop:0.1-lag:6-activation:relu-activation:relu\",\"full:[256, 128]-drop:0.1-lag:3-activation:relu-activation:relu\",\"full:[256, 128]-drop:0.1-lag:3-activation:relu-activation:relu\",\"full:[256, 128]-drop:0.1-lag:9-activation:relu-activation:relu\",\"full:[256, 128]-drop:0.2-lag:15-activation:relu-activation:relu\",\"full:[256, 128]-drop:0.2-lag:15-activation:relu-activation:relu\",\"full:[256, 128]-drop:0.2-lag:9-activation:relu-activation:relu\",\"full:[256, 128]-drop:0.2-lag:9-activation:relu-activation:relu\",\"full:[256]-drop:0.3-lag:15-activation:relu-activation:relu\",\"full:[256]-drop:0.3-lag:15-activation:relu-activation:relu\",\"full:[256]-drop:0.3-lag:6-activation:relu-activation:relu\",\"full:[256]-drop:0.3-lag:6-activation:relu-activation:relu\",\"full:[256]-drop:0.3-lag:3-activation:relu-activation:relu\",\"full:[256]-drop:0.3-lag:9-activation:relu-activation:relu\",\"full:[256]-drop:0.1-lag:6-activation:relu-activation:relu\",\"full:[256]-drop:0.1-lag:6-activation:relu-activation:relu\",\"full:[256]-drop:0.1-lag:3-activation:relu-activation:relu\",\"full:[256]-drop:0.1-lag:9-activation:relu-activation:relu\",\"full:[256]-drop:0.1-lag:9-activation:relu-activation:relu\",\"full:[256]-drop:0.2-lag:6-activation:relu-activation:relu\",\"full:[256]-drop:0.2-lag:3-activation:relu-activation:relu\",\"full:[256]-drop:0.2-lag:3-activation:relu-activation:relu\",\"full:[256]-drop:0.2-lag:3-activation:relu-activation:relu\",\"full:[256]-drop:0.2-lag:9-activation:relu-activation:relu\",\"full:[128, 64]-drop:0.3-lag:12-activation:relu-activation:relu\",\"full:[128, 64]-drop:0.3-lag:12-activation:relu-activation:relu\",\"full:[128, 64]-drop:0.3-lag:6-activation:relu-activation:relu\",\"full:[128, 64]-drop:0.3-lag:6-activation:relu-activation:relu\",\"full:[128, 64]-drop:0.3-lag:3-activation:relu-activation:relu\",\"full:[128, 64]-drop:0.3-lag:3-activation:relu-activation:relu\",\"full:[128, 64]-drop:0.3-lag:9-activation:relu-activation:relu\",\"full:[128, 64]-drop:0.3-lag:9-activation:relu-activation:relu\",\"full:[128, 64]-drop:0.3-lag:9-activation:relu-activation:relu\",\"full:[128, 64]-drop:0.1-lag:12-activation:relu-activation:relu\",\"full:[128, 64]-drop:0.1-lag:12-activation:relu-activation:relu\",\"full:[128, 64]-drop:0.1-lag:12-activation:relu-activation:relu\",\"full:[128, 64]-drop:0.1-lag:15-activation:relu-activation:relu\",\"full:[128, 64]-drop:0.1-lag:15-activation:relu-activation:relu\",\"full:[128, 64]-drop:0.1-lag:15-activation:relu-activation:relu\",\"full:[128, 64]-drop:0.1-lag:3-activation:relu-activation:relu\",\"full:[128, 64]-drop:0.2-lag:15-activation:relu-activation:relu\",\"full:[128, 64]-drop:0.2-lag:6-activation:relu-activation:relu\",\"full:[128, 64]-drop:0.2-lag:3-activation:relu-activation:relu\"],\"type\":\"scatter\",\"x\":[],\"y\":[]}],                        {\"template\":{\"data\":{\"bar\":[{\"error_x\":{\"color\":\"#2a3f5f\"},\"error_y\":{\"color\":\"#2a3f5f\"},\"marker\":{\"line\":{\"color\":\"#E5ECF6\",\"width\":0.5},\"pattern\":{\"fillmode\":\"overlay\",\"size\":10,\"solidity\":0.2}},\"type\":\"bar\"}],\"barpolar\":[{\"marker\":{\"line\":{\"color\":\"#E5ECF6\",\"width\":0.5},\"pattern\":{\"fillmode\":\"overlay\",\"size\":10,\"solidity\":0.2}},\"type\":\"barpolar\"}],\"carpet\":[{\"aaxis\":{\"endlinecolor\":\"#2a3f5f\",\"gridcolor\":\"white\",\"linecolor\":\"white\",\"minorgridcolor\":\"white\",\"startlinecolor\":\"#2a3f5f\"},\"baxis\":{\"endlinecolor\":\"#2a3f5f\",\"gridcolor\":\"white\",\"linecolor\":\"white\",\"minorgridcolor\":\"white\",\"startlinecolor\":\"#2a3f5f\"},\"type\":\"carpet\"}],\"choropleth\":[{\"colorbar\":{\"outlinewidth\":0,\"ticks\":\"\"},\"type\":\"choropleth\"}],\"contour\":[{\"colorbar\":{\"outlinewidth\":0,\"ticks\":\"\"},\"colorscale\":[[0.0,\"#0d0887\"],[0.1111111111111111,\"#46039f\"],[0.2222222222222222,\"#7201a8\"],[0.3333333333333333,\"#9c179e\"],[0.4444444444444444,\"#bd3786\"],[0.5555555555555556,\"#d8576b\"],[0.6666666666666666,\"#ed7953\"],[0.7777777777777778,\"#fb9f3a\"],[0.8888888888888888,\"#fdca26\"],[1.0,\"#f0f921\"]],\"type\":\"contour\"}],\"contourcarpet\":[{\"colorbar\":{\"outlinewidth\":0,\"ticks\":\"\"},\"type\":\"contourcarpet\"}],\"heatmap\":[{\"colorbar\":{\"outlinewidth\":0,\"ticks\":\"\"},\"colorscale\":[[0.0,\"#0d0887\"],[0.1111111111111111,\"#46039f\"],[0.2222222222222222,\"#7201a8\"],[0.3333333333333333,\"#9c179e\"],[0.4444444444444444,\"#bd3786\"],[0.5555555555555556,\"#d8576b\"],[0.6666666666666666,\"#ed7953\"],[0.7777777777777778,\"#fb9f3a\"],[0.8888888888888888,\"#fdca26\"],[1.0,\"#f0f921\"]],\"type\":\"heatmap\"}],\"heatmapgl\":[{\"colorbar\":{\"outlinewidth\":0,\"ticks\":\"\"},\"colorscale\":[[0.0,\"#0d0887\"],[0.1111111111111111,\"#46039f\"],[0.2222222222222222,\"#7201a8\"],[0.3333333333333333,\"#9c179e\"],[0.4444444444444444,\"#bd3786\"],[0.5555555555555556,\"#d8576b\"],[0.6666666666666666,\"#ed7953\"],[0.7777777777777778,\"#fb9f3a\"],[0.8888888888888888,\"#fdca26\"],[1.0,\"#f0f921\"]],\"type\":\"heatmapgl\"}],\"histogram\":[{\"marker\":{\"pattern\":{\"fillmode\":\"overlay\",\"size\":10,\"solidity\":0.2}},\"type\":\"histogram\"}],\"histogram2d\":[{\"colorbar\":{\"outlinewidth\":0,\"ticks\":\"\"},\"colorscale\":[[0.0,\"#0d0887\"],[0.1111111111111111,\"#46039f\"],[0.2222222222222222,\"#7201a8\"],[0.3333333333333333,\"#9c179e\"],[0.4444444444444444,\"#bd3786\"],[0.5555555555555556,\"#d8576b\"],[0.6666666666666666,\"#ed7953\"],[0.7777777777777778,\"#fb9f3a\"],[0.8888888888888888,\"#fdca26\"],[1.0,\"#f0f921\"]],\"type\":\"histogram2d\"}],\"histogram2dcontour\":[{\"colorbar\":{\"outlinewidth\":0,\"ticks\":\"\"},\"colorscale\":[[0.0,\"#0d0887\"],[0.1111111111111111,\"#46039f\"],[0.2222222222222222,\"#7201a8\"],[0.3333333333333333,\"#9c179e\"],[0.4444444444444444,\"#bd3786\"],[0.5555555555555556,\"#d8576b\"],[0.6666666666666666,\"#ed7953\"],[0.7777777777777778,\"#fb9f3a\"],[0.8888888888888888,\"#fdca26\"],[1.0,\"#f0f921\"]],\"type\":\"histogram2dcontour\"}],\"mesh3d\":[{\"colorbar\":{\"outlinewidth\":0,\"ticks\":\"\"},\"type\":\"mesh3d\"}],\"parcoords\":[{\"line\":{\"colorbar\":{\"outlinewidth\":0,\"ticks\":\"\"}},\"type\":\"parcoords\"}],\"pie\":[{\"automargin\":true,\"type\":\"pie\"}],\"scatter\":[{\"marker\":{\"colorbar\":{\"outlinewidth\":0,\"ticks\":\"\"}},\"type\":\"scatter\"}],\"scatter3d\":[{\"line\":{\"colorbar\":{\"outlinewidth\":0,\"ticks\":\"\"}},\"marker\":{\"colorbar\":{\"outlinewidth\":0,\"ticks\":\"\"}},\"type\":\"scatter3d\"}],\"scattercarpet\":[{\"marker\":{\"colorbar\":{\"outlinewidth\":0,\"ticks\":\"\"}},\"type\":\"scattercarpet\"}],\"scattergeo\":[{\"marker\":{\"colorbar\":{\"outlinewidth\":0,\"ticks\":\"\"}},\"type\":\"scattergeo\"}],\"scattergl\":[{\"marker\":{\"colorbar\":{\"outlinewidth\":0,\"ticks\":\"\"}},\"type\":\"scattergl\"}],\"scattermapbox\":[{\"marker\":{\"colorbar\":{\"outlinewidth\":0,\"ticks\":\"\"}},\"type\":\"scattermapbox\"}],\"scatterpolar\":[{\"marker\":{\"colorbar\":{\"outlinewidth\":0,\"ticks\":\"\"}},\"type\":\"scatterpolar\"}],\"scatterpolargl\":[{\"marker\":{\"colorbar\":{\"outlinewidth\":0,\"ticks\":\"\"}},\"type\":\"scatterpolargl\"}],\"scatterternary\":[{\"marker\":{\"colorbar\":{\"outlinewidth\":0,\"ticks\":\"\"}},\"type\":\"scatterternary\"}],\"surface\":[{\"colorbar\":{\"outlinewidth\":0,\"ticks\":\"\"},\"colorscale\":[[0.0,\"#0d0887\"],[0.1111111111111111,\"#46039f\"],[0.2222222222222222,\"#7201a8\"],[0.3333333333333333,\"#9c179e\"],[0.4444444444444444,\"#bd3786\"],[0.5555555555555556,\"#d8576b\"],[0.6666666666666666,\"#ed7953\"],[0.7777777777777778,\"#fb9f3a\"],[0.8888888888888888,\"#fdca26\"],[1.0,\"#f0f921\"]],\"type\":\"surface\"}],\"table\":[{\"cells\":{\"fill\":{\"color\":\"#EBF0F8\"},\"line\":{\"color\":\"white\"}},\"header\":{\"fill\":{\"color\":\"#C8D4E3\"},\"line\":{\"color\":\"white\"}},\"type\":\"table\"}]},\"layout\":{\"annotationdefaults\":{\"arrowcolor\":\"#2a3f5f\",\"arrowhead\":0,\"arrowwidth\":1},\"autotypenumbers\":\"strict\",\"coloraxis\":{\"colorbar\":{\"outlinewidth\":0,\"ticks\":\"\"}},\"colorscale\":{\"diverging\":[[0,\"#8e0152\"],[0.1,\"#c51b7d\"],[0.2,\"#de77ae\"],[0.3,\"#f1b6da\"],[0.4,\"#fde0ef\"],[0.5,\"#f7f7f7\"],[0.6,\"#e6f5d0\"],[0.7,\"#b8e186\"],[0.8,\"#7fbc41\"],[0.9,\"#4d9221\"],[1,\"#276419\"]],\"sequential\":[[0.0,\"#0d0887\"],[0.1111111111111111,\"#46039f\"],[0.2222222222222222,\"#7201a8\"],[0.3333333333333333,\"#9c179e\"],[0.4444444444444444,\"#bd3786\"],[0.5555555555555556,\"#d8576b\"],[0.6666666666666666,\"#ed7953\"],[0.7777777777777778,\"#fb9f3a\"],[0.8888888888888888,\"#fdca26\"],[1.0,\"#f0f921\"]],\"sequentialminus\":[[0.0,\"#0d0887\"],[0.1111111111111111,\"#46039f\"],[0.2222222222222222,\"#7201a8\"],[0.3333333333333333,\"#9c179e\"],[0.4444444444444444,\"#bd3786\"],[0.5555555555555556,\"#d8576b\"],[0.6666666666666666,\"#ed7953\"],[0.7777777777777778,\"#fb9f3a\"],[0.8888888888888888,\"#fdca26\"],[1.0,\"#f0f921\"]]},\"colorway\":[\"#636efa\",\"#EF553B\",\"#00cc96\",\"#ab63fa\",\"#FFA15A\",\"#19d3f3\",\"#FF6692\",\"#B6E880\",\"#FF97FF\",\"#FECB52\"],\"font\":{\"color\":\"#2a3f5f\"},\"geo\":{\"bgcolor\":\"white\",\"lakecolor\":\"white\",\"landcolor\":\"#E5ECF6\",\"showlakes\":true,\"showland\":true,\"subunitcolor\":\"white\"},\"hoverlabel\":{\"align\":\"left\"},\"hovermode\":\"closest\",\"mapbox\":{\"style\":\"light\"},\"paper_bgcolor\":\"white\",\"plot_bgcolor\":\"#E5ECF6\",\"polar\":{\"angularaxis\":{\"gridcolor\":\"white\",\"linecolor\":\"white\",\"ticks\":\"\"},\"bgcolor\":\"#E5ECF6\",\"radialaxis\":{\"gridcolor\":\"white\",\"linecolor\":\"white\",\"ticks\":\"\"}},\"scene\":{\"xaxis\":{\"backgroundcolor\":\"#E5ECF6\",\"gridcolor\":\"white\",\"gridwidth\":2,\"linecolor\":\"white\",\"showbackground\":true,\"ticks\":\"\",\"zerolinecolor\":\"white\"},\"yaxis\":{\"backgroundcolor\":\"#E5ECF6\",\"gridcolor\":\"white\",\"gridwidth\":2,\"linecolor\":\"white\",\"showbackground\":true,\"ticks\":\"\",\"zerolinecolor\":\"white\"},\"zaxis\":{\"backgroundcolor\":\"#E5ECF6\",\"gridcolor\":\"white\",\"gridwidth\":2,\"linecolor\":\"white\",\"showbackground\":true,\"ticks\":\"\",\"zerolinecolor\":\"white\"}},\"shapedefaults\":{\"line\":{\"color\":\"#2a3f5f\"}},\"ternary\":{\"aaxis\":{\"gridcolor\":\"white\",\"linecolor\":\"white\",\"ticks\":\"\"},\"baxis\":{\"gridcolor\":\"white\",\"linecolor\":\"white\",\"ticks\":\"\"},\"bgcolor\":\"#E5ECF6\",\"caxis\":{\"gridcolor\":\"white\",\"linecolor\":\"white\",\"ticks\":\"\"}},\"title\":{\"x\":0.05},\"xaxis\":{\"automargin\":true,\"gridcolor\":\"white\",\"linecolor\":\"white\",\"ticks\":\"\",\"title\":{\"standoff\":15},\"zerolinecolor\":\"white\",\"zerolinewidth\":2},\"yaxis\":{\"automargin\":true,\"gridcolor\":\"white\",\"linecolor\":\"white\",\"ticks\":\"\",\"title\":{\"standoff\":15},\"zerolinecolor\":\"white\",\"zerolinewidth\":2}}}},                        {\"responsive\": true}                    ).then(function(){\n",
       "                            \n",
       "var gd = document.getElementById('082819a6-81d9-4ff9-a9f4-7da1ca4e2ee5');\n",
       "var x = new MutationObserver(function (mutations, observer) {{\n",
       "        var display = window.getComputedStyle(gd).display;\n",
       "        if (!display || display === 'none') {{\n",
       "            console.log([gd, 'removed!']);\n",
       "            Plotly.purge(gd);\n",
       "            observer.disconnect();\n",
       "        }}\n",
       "}});\n",
       "\n",
       "// Listen for the removal of the full notebook cells\n",
       "var notebookContainer = gd.closest('#notebook-container');\n",
       "if (notebookContainer) {{\n",
       "    x.observe(notebookContainer, {childList: true});\n",
       "}}\n",
       "\n",
       "// Listen for the clearing of the current output cell\n",
       "var outputEl = gd.closest('.output');\n",
       "if (outputEl) {{\n",
       "    x.observe(outputEl, {childList: true});\n",
       "}}\n",
       "\n",
       "                        })                };                });            </script>        </div>"
      ]
     },
     "metadata": {},
     "output_type": "display_data"
    }
   ],
   "source": [
    "results.results_dataframe_graph(facet='activation',att=['full', 'drop', 'lag', 'activation'],count=True, threshold=7.5)"
   ]
  },
  {
   "cell_type": "markdown",
   "metadata": {
    "ExecuteTime": {
     "end_time": "2019-07-22T06:28:36.630704Z",
     "start_time": "2019-07-22T06:28:36.580848Z"
    }
   },
   "source": [
    "# MLP s2s sjoint"
   ]
  },
  {
   "cell_type": "code",
   "execution_count": null,
   "metadata": {
    "ExecuteTime": {
     "end_time": "2019-07-25T08:31:22.282174Z",
     "start_time": "2019-07-25T08:29:23.186425Z"
    }
   },
   "outputs": [],
   "source": [
    "query={'experiment':'mlps2ssjointsmac', 'status':'done'}\n",
    "\n",
    "results = DBResults(conn=mongolocaltest)\n",
    "#results = DBResults()\n",
    "\n",
    "results.results_dataframe_retrieve(query, arch=['activation', 'full','drop' ], data=['lag','slice'])"
   ]
  },
  {
   "cell_type": "code",
   "execution_count": null,
   "metadata": {
    "ExecuteTime": {
     "end_time": "2019-07-25T08:31:24.910286Z",
     "start_time": "2019-07-25T08:31:22.285166Z"
    },
    "scrolled": false
   },
   "outputs": [],
   "source": [
    "results.results_dataframe_aggregate(threshold=6.55)"
   ]
  },
  {
   "cell_type": "code",
   "execution_count": null,
   "metadata": {
    "ExecuteTime": {
     "end_time": "2019-07-25T08:32:03.319924Z",
     "start_time": "2019-07-25T08:31:24.913419Z"
    }
   },
   "outputs": [],
   "source": [
    "results.results_dataframe_graph(facet='slice',att=['full', 'drop', 'lag', 'activation', 'slice'],count=True, threshold=6)"
   ]
  },
  {
   "cell_type": "markdown",
   "metadata": {},
   "source": [
    "# MLP Dir Reg"
   ]
  },
  {
   "cell_type": "code",
   "execution_count": null,
   "metadata": {
    "ExecuteTime": {
     "end_time": "2019-07-22T08:51:39.210218Z",
     "start_time": "2019-07-22T08:51:31.272009Z"
    }
   },
   "outputs": [],
   "source": [
    "query={'experiment':'mlpdirregsmac','status':'done'}\n",
    "\n",
    "results = DBResults(conn=mongolocaltest)\n",
    "#results = DBResults()\n",
    "results.results_dataframe_retrieve(query, arch=['activation','drop', 'full'], data=['lag'])\n"
   ]
  },
  {
   "cell_type": "code",
   "execution_count": null,
   "metadata": {
    "ExecuteTime": {
     "end_time": "2019-07-22T08:51:39.859719Z",
     "start_time": "2019-07-22T08:51:39.212970Z"
    }
   },
   "outputs": [],
   "source": [
    "results.results_dataframe_aggregate(threshold=6.97)"
   ]
  },
  {
   "cell_type": "code",
   "execution_count": null,
   "metadata": {
    "ExecuteTime": {
     "end_time": "2019-07-22T08:51:40.728165Z",
     "start_time": "2019-07-22T08:51:39.883541Z"
    },
    "scrolled": false
   },
   "outputs": [],
   "source": [
    "results.results_dataframe_graph(facet='activation',att=['drop','full', 'activation','lag'], count=True, threshold=6.9)"
   ]
  },
  {
   "cell_type": "markdown",
   "metadata": {},
   "source": [
    "# RNN S2S"
   ]
  },
  {
   "cell_type": "code",
   "execution_count": null,
   "metadata": {
    "ExecuteTime": {
     "end_time": "2019-08-02T06:53:29.607227Z",
     "start_time": "2019-08-02T06:53:17.654132Z"
    }
   },
   "outputs": [],
   "source": [
    "query={'experiment':'rnns2ssmac', 'status':'done'}\n",
    "\n",
    "results = DBResults(conn=mongolocaltest)\n",
    "#results = DBResults()\n",
    "\n",
    "results.results_dataframe_retrieve(query, arch=['neurons', 'nlayers', 'activation','drop','activation_full', 'full', 'fulldrop'], data=['lag'])"
   ]
  },
  {
   "cell_type": "code",
   "execution_count": null,
   "metadata": {
    "ExecuteTime": {
     "end_time": "2019-08-02T06:53:30.680657Z",
     "start_time": "2019-08-02T06:53:29.610813Z"
    }
   },
   "outputs": [],
   "source": [
    "results.results_dataframe_aggregate(threshold=7.15)"
   ]
  },
  {
   "cell_type": "code",
   "execution_count": null,
   "metadata": {
    "ExecuteTime": {
     "end_time": "2019-08-02T06:53:31.490223Z",
     "start_time": "2019-08-02T06:53:30.683850Z"
    }
   },
   "outputs": [],
   "source": [
    "results.results_dataframe_graph(facet='activation',att=['neurons','nlayers','activation', 'drop', 'activation_full','fulldrop', 'lag'], count=True, threshold=7.05)"
   ]
  },
  {
   "cell_type": "markdown",
   "metadata": {},
   "source": [
    "# RNN ED S2S"
   ]
  },
  {
   "cell_type": "code",
   "execution_count": null,
   "metadata": {
    "ExecuteTime": {
     "end_time": "2019-08-02T04:20:00.670227Z",
     "start_time": "2019-08-02T04:19:48.143285Z"
    }
   },
   "outputs": [],
   "source": [
    "query={'experiment':'rnns2sedbayesian', 'status':'done'}\n",
    "\n",
    "results = DBResults(conn=mongolocaltest)\n",
    "#results = DBResults()\n",
    "\n",
    "results.results_dataframe_retrieve(query, arch=['neuronsE', 'neuronsD','nlayersE','nlayersD','activation', 'drop','activation_full', 'full', 'fulldrop'], data=['lag'])"
   ]
  },
  {
   "cell_type": "code",
   "execution_count": null,
   "metadata": {
    "ExecuteTime": {
     "end_time": "2019-08-02T04:20:01.926146Z",
     "start_time": "2019-08-02T04:20:00.673691Z"
    }
   },
   "outputs": [],
   "source": [
    "results.results_dataframe_aggregate(threshold=6.95)"
   ]
  },
  {
   "cell_type": "code",
   "execution_count": null,
   "metadata": {
    "ExecuteTime": {
     "end_time": "2019-08-02T04:20:03.187542Z",
     "start_time": "2019-08-02T04:20:01.930326Z"
    },
    "scrolled": false
   },
   "outputs": [],
   "source": [
    "results.results_dataframe_graph(facet='activation_full',att=['neuronsE','neuronsD','nlayersE','nlayersD', 'activation','fulldrop', 'drop', 'activation_full','lag'], count=True, threshold=6.7)"
   ]
  },
  {
   "cell_type": "markdown",
   "metadata": {},
   "source": [
    "# RNN ED S2S (bis)"
   ]
  },
  {
   "cell_type": "code",
   "execution_count": null,
   "metadata": {
    "ExecuteTime": {
     "end_time": "2019-09-25T04:43:35.949350Z",
     "start_time": "2019-09-25T04:39:32.728877Z"
    }
   },
   "outputs": [],
   "source": [
    "query={'experiment':'rnneds2ssmac', 'status':'done'}\n",
    "\n",
    "results = DBResults(conn=mongolocaltest)\n",
    "#results = DBResults()\n",
    "\n",
    "results.results_dataframe_retrieve(query, arch=['neuronsE', 'neuronsD','nlayersE','nlayersD','activation', 'drop','activation_full', 'full', 'fulldrop'], data=['lag'])"
   ]
  },
  {
   "cell_type": "code",
   "execution_count": null,
   "metadata": {
    "ExecuteTime": {
     "end_time": "2019-09-25T04:43:36.783458Z",
     "start_time": "2019-09-25T04:43:35.951663Z"
    }
   },
   "outputs": [],
   "source": [
    "results.results_dataframe_aggregate(threshold=7.05)"
   ]
  },
  {
   "cell_type": "code",
   "execution_count": null,
   "metadata": {
    "ExecuteTime": {
     "end_time": "2019-09-25T04:43:39.653018Z",
     "start_time": "2019-09-25T04:43:36.787258Z"
    },
    "scrolled": true
   },
   "outputs": [],
   "source": [
    "results.results_dataframe_graph(facet='activation_full',att=['neuronsE','neuronsD','nlayersE','nlayersD', 'activation','fulldrop', 'drop', 'activation_full','lag'], count=True, threshold=6.95)"
   ]
  },
  {
   "cell_type": "markdown",
   "metadata": {},
   "source": [
    "# RNN ED S2S (redundant encoder output)"
   ]
  },
  {
   "cell_type": "code",
   "execution_count": null,
   "metadata": {
    "ExecuteTime": {
     "end_time": "2020-03-12T16:10:06.025734Z",
     "start_time": "2020-03-12T16:09:58.049975Z"
    }
   },
   "outputs": [],
   "source": [
    "query={'experiment':'RNN_ED_VAR_smac', 'status':'done'}\n",
    "\n",
    "results = DBResults(conn=mongolocaltest)\n",
    "#results = DBResults()\n",
    "\n",
    "results.results_dataframe_retrieve(query, arch=['neuronsE', 'neuronsD','nlayersE','nlayersD','activation', 'drop','activation_full', 'full', 'fulldrop'], data=['lag'])"
   ]
  },
  {
   "cell_type": "code",
   "execution_count": null,
   "metadata": {
    "ExecuteTime": {
     "end_time": "2020-03-12T16:10:06.561084Z",
     "start_time": "2020-03-12T16:10:06.042477Z"
    }
   },
   "outputs": [],
   "source": [
    "results.results_dataframe_aggregate(threshold=6.9)"
   ]
  },
  {
   "cell_type": "code",
   "execution_count": null,
   "metadata": {
    "ExecuteTime": {
     "end_time": "2020-03-12T16:10:07.435885Z",
     "start_time": "2020-03-12T16:10:06.564340Z"
    },
    "scrolled": false
   },
   "outputs": [],
   "source": [
    "results.results_dataframe_graph(facet='activation_full',att=['neuronsE','neuronsD','nlayersE','nlayersD', 'activation','fulldrop', 'drop', 'activation_full','lag'], count=True, threshold=6.75)"
   ]
  },
  {
   "cell_type": "markdown",
   "metadata": {},
   "source": [
    "# CNN s2s Angle"
   ]
  },
  {
   "cell_type": "code",
   "execution_count": 6,
   "metadata": {
    "ExecuteTime": {
     "end_time": "2019-09-08T17:55:16.552178Z",
     "start_time": "2019-09-08T17:55:04.719614Z"
    }
   },
   "outputs": [],
   "source": [
    "query={'experiment':'Acnns2ssmac', 'status':'done'}\n",
    "\n",
    "results = DBResults(conn=mongolocaltest)\n",
    "#results = DBResults()\n",
    "results.results_dataframe_retrieve(query, arch=['filters','strides','kernel_size', 'activation','drop', 'activation_full','full','fulldrop'], data=['lag'])\n"
   ]
  },
  {
   "cell_type": "code",
   "execution_count": 7,
   "metadata": {
    "ExecuteTime": {
     "end_time": "2019-09-08T17:55:16.972836Z",
     "start_time": "2019-09-08T17:55:16.555898Z"
    }
   },
   "outputs": [
    {
     "name": "stdout",
     "output_type": "stream",
     "text": [
      "26650\n",
      "Total=216 Thres=20\n"
     ]
    },
    {
     "data": {
      "text/html": [
       "<style type=\"text/css\">\n",
       "#T_fc899_row0_col1, #T_fc899_row0_col2, #T_fc899_row0_col3, #T_fc899_row0_col5, #T_fc899_row0_col7, #T_fc899_row0_col8, #T_fc899_row0_col10, #T_fc899_row1_col1, #T_fc899_row1_col3, #T_fc899_row1_col7, #T_fc899_row1_col8, #T_fc899_row1_col10, #T_fc899_row2_col1, #T_fc899_row2_col3, #T_fc899_row2_col5, #T_fc899_row2_col6, #T_fc899_row2_col7, #T_fc899_row2_col8, #T_fc899_row2_col10, #T_fc899_row3_col1, #T_fc899_row3_col3, #T_fc899_row3_col5, #T_fc899_row3_col7, #T_fc899_row3_col8, #T_fc899_row3_col10, #T_fc899_row4_col1, #T_fc899_row4_col3, #T_fc899_row4_col5, #T_fc899_row4_col6, #T_fc899_row4_col7, #T_fc899_row4_col8, #T_fc899_row4_col10, #T_fc899_row5_col1, #T_fc899_row5_col3, #T_fc899_row5_col5, #T_fc899_row5_col7, #T_fc899_row5_col8, #T_fc899_row5_col10, #T_fc899_row5_col11, #T_fc899_row6_col1, #T_fc899_row6_col3, #T_fc899_row6_col7, #T_fc899_row6_col8, #T_fc899_row6_col10, #T_fc899_row7_col1, #T_fc899_row7_col3, #T_fc899_row7_col5, #T_fc899_row7_col6, #T_fc899_row7_col7, #T_fc899_row7_col8, #T_fc899_row7_col9, #T_fc899_row7_col10, #T_fc899_row8_col1, #T_fc899_row8_col3, #T_fc899_row8_col5, #T_fc899_row8_col7, #T_fc899_row8_col8, #T_fc899_row8_col10, #T_fc899_row9_col1, #T_fc899_row9_col3, #T_fc899_row9_col7, #T_fc899_row9_col8, #T_fc899_row9_col10, #T_fc899_row10_col1, #T_fc899_row10_col2, #T_fc899_row10_col3, #T_fc899_row10_col7, #T_fc899_row10_col8, #T_fc899_row10_col10, #T_fc899_row11_col1, #T_fc899_row11_col2, #T_fc899_row11_col3, #T_fc899_row11_col5, #T_fc899_row11_col6, #T_fc899_row11_col7, #T_fc899_row11_col8, #T_fc899_row11_col10, #T_fc899_row12_col1, #T_fc899_row12_col3, #T_fc899_row12_col4, #T_fc899_row12_col5, #T_fc899_row12_col7, #T_fc899_row12_col8, #T_fc899_row12_col10, #T_fc899_row13_col1, #T_fc899_row13_col3, #T_fc899_row13_col5, #T_fc899_row13_col6, #T_fc899_row13_col7, #T_fc899_row13_col8, #T_fc899_row13_col10, #T_fc899_row14_col1, #T_fc899_row14_col3, #T_fc899_row14_col5, #T_fc899_row14_col7, #T_fc899_row14_col8, #T_fc899_row14_col10, #T_fc899_row15_col1, #T_fc899_row15_col3, #T_fc899_row15_col7, #T_fc899_row15_col8, #T_fc899_row15_col10, #T_fc899_row16_col1, #T_fc899_row16_col3, #T_fc899_row16_col5, #T_fc899_row16_col6, #T_fc899_row16_col7, #T_fc899_row16_col8, #T_fc899_row16_col10, #T_fc899_row17_col1, #T_fc899_row17_col3, #T_fc899_row17_col5, #T_fc899_row17_col7, #T_fc899_row17_col8, #T_fc899_row17_col10, #T_fc899_row18_col1, #T_fc899_row18_col5, #T_fc899_row18_col7, #T_fc899_row18_col8, #T_fc899_row18_col10, #T_fc899_row19_col0, #T_fc899_row19_col1, #T_fc899_row19_col3, #T_fc899_row19_col5, #T_fc899_row19_col7, #T_fc899_row19_col8, #T_fc899_row19_col10 {\n",
       "  background-color: yellow;\n",
       "}\n",
       "</style>\n",
       "<table id=\"T_fc899_\">\n",
       "  <thead>\n",
       "    <tr>\n",
       "      <th class=\"blank level0\" >&nbsp;</th>\n",
       "      <th class=\"col_heading level0 col0\" >filters</th>\n",
       "      <th class=\"col_heading level0 col1\" >strides</th>\n",
       "      <th class=\"col_heading level0 col2\" >kernel_size</th>\n",
       "      <th class=\"col_heading level0 col3\" >activation</th>\n",
       "      <th class=\"col_heading level0 col4\" >drop</th>\n",
       "      <th class=\"col_heading level0 col5\" >activation_full</th>\n",
       "      <th class=\"col_heading level0 col6\" >full</th>\n",
       "      <th class=\"col_heading level0 col7\" >fulldrop</th>\n",
       "      <th class=\"col_heading level0 col8\" >lag</th>\n",
       "      <th class=\"col_heading level0 col9\" colspan=\"2\">test</th>\n",
       "      <th class=\"col_heading level0 col11\" >val</th>\n",
       "    </tr>\n",
       "    <tr>\n",
       "      <th class=\"blank level1\" >&nbsp;</th>\n",
       "      <th class=\"col_heading level1 col0\" ></th>\n",
       "      <th class=\"col_heading level1 col1\" ></th>\n",
       "      <th class=\"col_heading level1 col2\" ></th>\n",
       "      <th class=\"col_heading level1 col3\" ></th>\n",
       "      <th class=\"col_heading level1 col4\" ></th>\n",
       "      <th class=\"col_heading level1 col5\" ></th>\n",
       "      <th class=\"col_heading level1 col6\" ></th>\n",
       "      <th class=\"col_heading level1 col7\" ></th>\n",
       "      <th class=\"col_heading level1 col8\" ></th>\n",
       "      <th class=\"col_heading level1 col9\" >mean</th>\n",
       "      <th class=\"col_heading level1 col10\" >count</th>\n",
       "      <th class=\"col_heading level1 col11\" >mean</th>\n",
       "    </tr>\n",
       "  </thead>\n",
       "  <tbody>\n",
       "    <tr>\n",
       "      <th id=\"T_fc899_level0_row0\" class=\"row_heading level0 row0\" >33</th>\n",
       "      <td id=\"T_fc899_row0_col0\" class=\"data row0 col0\" >[128]</td>\n",
       "      <td id=\"T_fc899_row0_col1\" class=\"data row0 col1\" >[1]</td>\n",
       "      <td id=\"T_fc899_row0_col2\" class=\"data row0 col2\" >[9]</td>\n",
       "      <td id=\"T_fc899_row0_col3\" class=\"data row0 col3\" >['elu', 0.4]</td>\n",
       "      <td id=\"T_fc899_row0_col4\" class=\"data row0 col4\" >0.3</td>\n",
       "      <td id=\"T_fc899_row0_col5\" class=\"data row0 col5\" >['elu', 0.4]</td>\n",
       "      <td id=\"T_fc899_row0_col6\" class=\"data row0 col6\" >[256, 128]</td>\n",
       "      <td id=\"T_fc899_row0_col7\" class=\"data row0 col7\" >0.2</td>\n",
       "      <td id=\"T_fc899_row0_col8\" class=\"data row0 col8\" >6</td>\n",
       "      <td id=\"T_fc899_row0_col9\" class=\"data row0 col9\" >7.179894</td>\n",
       "      <td id=\"T_fc899_row0_col10\" class=\"data row0 col10\" >300</td>\n",
       "      <td id=\"T_fc899_row0_col11\" class=\"data row0 col11\" >6.871679</td>\n",
       "    </tr>\n",
       "    <tr>\n",
       "      <th id=\"T_fc899_level0_row1\" class=\"row_heading level0 row1\" >40</th>\n",
       "      <td id=\"T_fc899_row1_col0\" class=\"data row1 col0\" >[128]</td>\n",
       "      <td id=\"T_fc899_row1_col1\" class=\"data row1 col1\" >[1]</td>\n",
       "      <td id=\"T_fc899_row1_col2\" class=\"data row1 col2\" >[7]</td>\n",
       "      <td id=\"T_fc899_row1_col3\" class=\"data row1 col3\" >['elu', 0.4]</td>\n",
       "      <td id=\"T_fc899_row1_col4\" class=\"data row1 col4\" >0.4</td>\n",
       "      <td id=\"T_fc899_row1_col5\" class=\"data row1 col5\" >['elu', 0.3]</td>\n",
       "      <td id=\"T_fc899_row1_col6\" class=\"data row1 col6\" >[256, 128]</td>\n",
       "      <td id=\"T_fc899_row1_col7\" class=\"data row1 col7\" >0.2</td>\n",
       "      <td id=\"T_fc899_row1_col8\" class=\"data row1 col8\" >6</td>\n",
       "      <td id=\"T_fc899_row1_col9\" class=\"data row1 col9\" >7.173433</td>\n",
       "      <td id=\"T_fc899_row1_col10\" class=\"data row1 col10\" >300</td>\n",
       "      <td id=\"T_fc899_row1_col11\" class=\"data row1 col11\" >6.869003</td>\n",
       "    </tr>\n",
       "    <tr>\n",
       "      <th id=\"T_fc899_level0_row2\" class=\"row_heading level0 row2\" >42</th>\n",
       "      <td id=\"T_fc899_row2_col0\" class=\"data row2 col0\" >[128]</td>\n",
       "      <td id=\"T_fc899_row2_col1\" class=\"data row2 col1\" >[1]</td>\n",
       "      <td id=\"T_fc899_row2_col2\" class=\"data row2 col2\" >[7]</td>\n",
       "      <td id=\"T_fc899_row2_col3\" class=\"data row2 col3\" >['elu', 0.4]</td>\n",
       "      <td id=\"T_fc899_row2_col4\" class=\"data row2 col4\" >0.3</td>\n",
       "      <td id=\"T_fc899_row2_col5\" class=\"data row2 col5\" >['elu', 0.4]</td>\n",
       "      <td id=\"T_fc899_row2_col6\" class=\"data row2 col6\" >[512, 256]</td>\n",
       "      <td id=\"T_fc899_row2_col7\" class=\"data row2 col7\" >0.2</td>\n",
       "      <td id=\"T_fc899_row2_col8\" class=\"data row2 col8\" >6</td>\n",
       "      <td id=\"T_fc899_row2_col9\" class=\"data row2 col9\" >7.186973</td>\n",
       "      <td id=\"T_fc899_row2_col10\" class=\"data row2 col10\" >300</td>\n",
       "      <td id=\"T_fc899_row2_col11\" class=\"data row2 col11\" >6.870208</td>\n",
       "    </tr>\n",
       "    <tr>\n",
       "      <th id=\"T_fc899_level0_row3\" class=\"row_heading level0 row3\" >43</th>\n",
       "      <td id=\"T_fc899_row3_col0\" class=\"data row3 col0\" >[128]</td>\n",
       "      <td id=\"T_fc899_row3_col1\" class=\"data row3 col1\" >[1]</td>\n",
       "      <td id=\"T_fc899_row3_col2\" class=\"data row3 col2\" >[7]</td>\n",
       "      <td id=\"T_fc899_row3_col3\" class=\"data row3 col3\" >['elu', 0.4]</td>\n",
       "      <td id=\"T_fc899_row3_col4\" class=\"data row3 col4\" >0.3</td>\n",
       "      <td id=\"T_fc899_row3_col5\" class=\"data row3 col5\" >['elu', 0.4]</td>\n",
       "      <td id=\"T_fc899_row3_col6\" class=\"data row3 col6\" >[256, 128]</td>\n",
       "      <td id=\"T_fc899_row3_col7\" class=\"data row3 col7\" >0.2</td>\n",
       "      <td id=\"T_fc899_row3_col8\" class=\"data row3 col8\" >6</td>\n",
       "      <td id=\"T_fc899_row3_col9\" class=\"data row3 col9\" >7.181295</td>\n",
       "      <td id=\"T_fc899_row3_col10\" class=\"data row3 col10\" >300</td>\n",
       "      <td id=\"T_fc899_row3_col11\" class=\"data row3 col11\" >6.873188</td>\n",
       "    </tr>\n",
       "    <tr>\n",
       "      <th id=\"T_fc899_level0_row4\" class=\"row_heading level0 row4\" >50</th>\n",
       "      <td id=\"T_fc899_row4_col0\" class=\"data row4 col0\" >[128]</td>\n",
       "      <td id=\"T_fc899_row4_col1\" class=\"data row4 col1\" >[1]</td>\n",
       "      <td id=\"T_fc899_row4_col2\" class=\"data row4 col2\" >[5]</td>\n",
       "      <td id=\"T_fc899_row4_col3\" class=\"data row4 col3\" >['elu', 0.4]</td>\n",
       "      <td id=\"T_fc899_row4_col4\" class=\"data row4 col4\" >0.4</td>\n",
       "      <td id=\"T_fc899_row4_col5\" class=\"data row4 col5\" >['elu', 0.4]</td>\n",
       "      <td id=\"T_fc899_row4_col6\" class=\"data row4 col6\" >[512, 256]</td>\n",
       "      <td id=\"T_fc899_row4_col7\" class=\"data row4 col7\" >0.2</td>\n",
       "      <td id=\"T_fc899_row4_col8\" class=\"data row4 col8\" >6</td>\n",
       "      <td id=\"T_fc899_row4_col9\" class=\"data row4 col9\" >7.187119</td>\n",
       "      <td id=\"T_fc899_row4_col10\" class=\"data row4 col10\" >300</td>\n",
       "      <td id=\"T_fc899_row4_col11\" class=\"data row4 col11\" >6.874866</td>\n",
       "    </tr>\n",
       "    <tr>\n",
       "      <th id=\"T_fc899_level0_row5\" class=\"row_heading level0 row5\" >52</th>\n",
       "      <td id=\"T_fc899_row5_col0\" class=\"data row5 col0\" >[128]</td>\n",
       "      <td id=\"T_fc899_row5_col1\" class=\"data row5 col1\" >[1]</td>\n",
       "      <td id=\"T_fc899_row5_col2\" class=\"data row5 col2\" >[5]</td>\n",
       "      <td id=\"T_fc899_row5_col3\" class=\"data row5 col3\" >['elu', 0.4]</td>\n",
       "      <td id=\"T_fc899_row5_col4\" class=\"data row5 col4\" >0.4</td>\n",
       "      <td id=\"T_fc899_row5_col5\" class=\"data row5 col5\" >['elu', 0.4]</td>\n",
       "      <td id=\"T_fc899_row5_col6\" class=\"data row5 col6\" >[256, 128]</td>\n",
       "      <td id=\"T_fc899_row5_col7\" class=\"data row5 col7\" >0.2</td>\n",
       "      <td id=\"T_fc899_row5_col8\" class=\"data row5 col8\" >6</td>\n",
       "      <td id=\"T_fc899_row5_col9\" class=\"data row5 col9\" >7.185357</td>\n",
       "      <td id=\"T_fc899_row5_col10\" class=\"data row5 col10\" >300</td>\n",
       "      <td id=\"T_fc899_row5_col11\" class=\"data row5 col11\" >6.880254</td>\n",
       "    </tr>\n",
       "    <tr>\n",
       "      <th id=\"T_fc899_level0_row6\" class=\"row_heading level0 row6\" >53</th>\n",
       "      <td id=\"T_fc899_row6_col0\" class=\"data row6 col0\" >[128]</td>\n",
       "      <td id=\"T_fc899_row6_col1\" class=\"data row6 col1\" >[1]</td>\n",
       "      <td id=\"T_fc899_row6_col2\" class=\"data row6 col2\" >[5]</td>\n",
       "      <td id=\"T_fc899_row6_col3\" class=\"data row6 col3\" >['elu', 0.4]</td>\n",
       "      <td id=\"T_fc899_row6_col4\" class=\"data row6 col4\" >0.4</td>\n",
       "      <td id=\"T_fc899_row6_col5\" class=\"data row6 col5\" >['elu', 0.3]</td>\n",
       "      <td id=\"T_fc899_row6_col6\" class=\"data row6 col6\" >[256, 128]</td>\n",
       "      <td id=\"T_fc899_row6_col7\" class=\"data row6 col7\" >0.2</td>\n",
       "      <td id=\"T_fc899_row6_col8\" class=\"data row6 col8\" >6</td>\n",
       "      <td id=\"T_fc899_row6_col9\" class=\"data row6 col9\" >7.178568</td>\n",
       "      <td id=\"T_fc899_row6_col10\" class=\"data row6 col10\" >300</td>\n",
       "      <td id=\"T_fc899_row6_col11\" class=\"data row6 col11\" >6.875717</td>\n",
       "    </tr>\n",
       "    <tr>\n",
       "      <th id=\"T_fc899_level0_row7\" class=\"row_heading level0 row7\" >54</th>\n",
       "      <td id=\"T_fc899_row7_col0\" class=\"data row7 col0\" >[128]</td>\n",
       "      <td id=\"T_fc899_row7_col1\" class=\"data row7 col1\" >[1]</td>\n",
       "      <td id=\"T_fc899_row7_col2\" class=\"data row7 col2\" >[5]</td>\n",
       "      <td id=\"T_fc899_row7_col3\" class=\"data row7 col3\" >['elu', 0.4]</td>\n",
       "      <td id=\"T_fc899_row7_col4\" class=\"data row7 col4\" >0.3</td>\n",
       "      <td id=\"T_fc899_row7_col5\" class=\"data row7 col5\" >['elu', 0.4]</td>\n",
       "      <td id=\"T_fc899_row7_col6\" class=\"data row7 col6\" >[512, 256]</td>\n",
       "      <td id=\"T_fc899_row7_col7\" class=\"data row7 col7\" >0.2</td>\n",
       "      <td id=\"T_fc899_row7_col8\" class=\"data row7 col8\" >6</td>\n",
       "      <td id=\"T_fc899_row7_col9\" class=\"data row7 col9\" >7.195007</td>\n",
       "      <td id=\"T_fc899_row7_col10\" class=\"data row7 col10\" >300</td>\n",
       "      <td id=\"T_fc899_row7_col11\" class=\"data row7 col11\" >6.878897</td>\n",
       "    </tr>\n",
       "    <tr>\n",
       "      <th id=\"T_fc899_level0_row8\" class=\"row_heading level0 row8\" >55</th>\n",
       "      <td id=\"T_fc899_row8_col0\" class=\"data row8 col0\" >[128]</td>\n",
       "      <td id=\"T_fc899_row8_col1\" class=\"data row8 col1\" >[1]</td>\n",
       "      <td id=\"T_fc899_row8_col2\" class=\"data row8 col2\" >[5]</td>\n",
       "      <td id=\"T_fc899_row8_col3\" class=\"data row8 col3\" >['elu', 0.4]</td>\n",
       "      <td id=\"T_fc899_row8_col4\" class=\"data row8 col4\" >0.3</td>\n",
       "      <td id=\"T_fc899_row8_col5\" class=\"data row8 col5\" >['elu', 0.4]</td>\n",
       "      <td id=\"T_fc899_row8_col6\" class=\"data row8 col6\" >[256, 128]</td>\n",
       "      <td id=\"T_fc899_row8_col7\" class=\"data row8 col7\" >0.2</td>\n",
       "      <td id=\"T_fc899_row8_col8\" class=\"data row8 col8\" >6</td>\n",
       "      <td id=\"T_fc899_row8_col9\" class=\"data row8 col9\" >7.184799</td>\n",
       "      <td id=\"T_fc899_row8_col10\" class=\"data row8 col10\" >300</td>\n",
       "      <td id=\"T_fc899_row8_col11\" class=\"data row8 col11\" >6.877789</td>\n",
       "    </tr>\n",
       "    <tr>\n",
       "      <th id=\"T_fc899_level0_row9\" class=\"row_heading level0 row9\" >58</th>\n",
       "      <td id=\"T_fc899_row9_col0\" class=\"data row9 col0\" >[128]</td>\n",
       "      <td id=\"T_fc899_row9_col1\" class=\"data row9 col1\" >[1]</td>\n",
       "      <td id=\"T_fc899_row9_col2\" class=\"data row9 col2\" >[5]</td>\n",
       "      <td id=\"T_fc899_row9_col3\" class=\"data row9 col3\" >['elu', 0.4]</td>\n",
       "      <td id=\"T_fc899_row9_col4\" class=\"data row9 col4\" >0.3</td>\n",
       "      <td id=\"T_fc899_row9_col5\" class=\"data row9 col5\" >['elu', 0.3]</td>\n",
       "      <td id=\"T_fc899_row9_col6\" class=\"data row9 col6\" >[256, 128]</td>\n",
       "      <td id=\"T_fc899_row9_col7\" class=\"data row9 col7\" >0.2</td>\n",
       "      <td id=\"T_fc899_row9_col8\" class=\"data row9 col8\" >6</td>\n",
       "      <td id=\"T_fc899_row9_col9\" class=\"data row9 col9\" >7.180236</td>\n",
       "      <td id=\"T_fc899_row9_col10\" class=\"data row9 col10\" >300</td>\n",
       "      <td id=\"T_fc899_row9_col11\" class=\"data row9 col11\" >6.871317</td>\n",
       "    </tr>\n",
       "    <tr>\n",
       "      <th id=\"T_fc899_level0_row10\" class=\"row_heading level0 row10\" >103</th>\n",
       "      <td id=\"T_fc899_row10_col0\" class=\"data row10 col0\" >[256]</td>\n",
       "      <td id=\"T_fc899_row10_col1\" class=\"data row10 col1\" >[1]</td>\n",
       "      <td id=\"T_fc899_row10_col2\" class=\"data row10 col2\" >[9]</td>\n",
       "      <td id=\"T_fc899_row10_col3\" class=\"data row10 col3\" >['elu', 0.4]</td>\n",
       "      <td id=\"T_fc899_row10_col4\" class=\"data row10 col4\" >0.4</td>\n",
       "      <td id=\"T_fc899_row10_col5\" class=\"data row10 col5\" >['elu', 0.3]</td>\n",
       "      <td id=\"T_fc899_row10_col6\" class=\"data row10 col6\" >[256, 128]</td>\n",
       "      <td id=\"T_fc899_row10_col7\" class=\"data row10 col7\" >0.2</td>\n",
       "      <td id=\"T_fc899_row10_col8\" class=\"data row10 col8\" >6</td>\n",
       "      <td id=\"T_fc899_row10_col9\" class=\"data row10 col9\" >7.171937</td>\n",
       "      <td id=\"T_fc899_row10_col10\" class=\"data row10 col10\" >300</td>\n",
       "      <td id=\"T_fc899_row10_col11\" class=\"data row10 col11\" >6.863229</td>\n",
       "    </tr>\n",
       "    <tr>\n",
       "      <th id=\"T_fc899_level0_row11\" class=\"row_heading level0 row11\" >104</th>\n",
       "      <td id=\"T_fc899_row11_col0\" class=\"data row11 col0\" >[256]</td>\n",
       "      <td id=\"T_fc899_row11_col1\" class=\"data row11 col1\" >[1]</td>\n",
       "      <td id=\"T_fc899_row11_col2\" class=\"data row11 col2\" >[9]</td>\n",
       "      <td id=\"T_fc899_row11_col3\" class=\"data row11 col3\" >['elu', 0.4]</td>\n",
       "      <td id=\"T_fc899_row11_col4\" class=\"data row11 col4\" >0.3</td>\n",
       "      <td id=\"T_fc899_row11_col5\" class=\"data row11 col5\" >['elu', 0.4]</td>\n",
       "      <td id=\"T_fc899_row11_col6\" class=\"data row11 col6\" >[512, 256]</td>\n",
       "      <td id=\"T_fc899_row11_col7\" class=\"data row11 col7\" >0.2</td>\n",
       "      <td id=\"T_fc899_row11_col8\" class=\"data row11 col8\" >6</td>\n",
       "      <td id=\"T_fc899_row11_col9\" class=\"data row11 col9\" >7.177593</td>\n",
       "      <td id=\"T_fc899_row11_col10\" class=\"data row11 col10\" >300</td>\n",
       "      <td id=\"T_fc899_row11_col11\" class=\"data row11 col11\" >6.859130</td>\n",
       "    </tr>\n",
       "    <tr>\n",
       "      <th id=\"T_fc899_level0_row12\" class=\"row_heading level0 row12\" >130</th>\n",
       "      <td id=\"T_fc899_row12_col0\" class=\"data row12 col0\" >[256]</td>\n",
       "      <td id=\"T_fc899_row12_col1\" class=\"data row12 col1\" >[1]</td>\n",
       "      <td id=\"T_fc899_row12_col2\" class=\"data row12 col2\" >[5]</td>\n",
       "      <td id=\"T_fc899_row12_col3\" class=\"data row12 col3\" >['elu', 0.4]</td>\n",
       "      <td id=\"T_fc899_row12_col4\" class=\"data row12 col4\" >0.5</td>\n",
       "      <td id=\"T_fc899_row12_col5\" class=\"data row12 col5\" >['elu', 0.4]</td>\n",
       "      <td id=\"T_fc899_row12_col6\" class=\"data row12 col6\" >[256, 128]</td>\n",
       "      <td id=\"T_fc899_row12_col7\" class=\"data row12 col7\" >0.2</td>\n",
       "      <td id=\"T_fc899_row12_col8\" class=\"data row12 col8\" >6</td>\n",
       "      <td id=\"T_fc899_row12_col9\" class=\"data row12 col9\" >7.176657</td>\n",
       "      <td id=\"T_fc899_row12_col10\" class=\"data row12 col10\" >300</td>\n",
       "      <td id=\"T_fc899_row12_col11\" class=\"data row12 col11\" >6.872945</td>\n",
       "    </tr>\n",
       "    <tr>\n",
       "      <th id=\"T_fc899_level0_row13\" class=\"row_heading level0 row13\" >131</th>\n",
       "      <td id=\"T_fc899_row13_col0\" class=\"data row13 col0\" >[256]</td>\n",
       "      <td id=\"T_fc899_row13_col1\" class=\"data row13 col1\" >[1]</td>\n",
       "      <td id=\"T_fc899_row13_col2\" class=\"data row13 col2\" >[5]</td>\n",
       "      <td id=\"T_fc899_row13_col3\" class=\"data row13 col3\" >['elu', 0.4]</td>\n",
       "      <td id=\"T_fc899_row13_col4\" class=\"data row13 col4\" >0.4</td>\n",
       "      <td id=\"T_fc899_row13_col5\" class=\"data row13 col5\" >['elu', 0.4]</td>\n",
       "      <td id=\"T_fc899_row13_col6\" class=\"data row13 col6\" >[512, 256]</td>\n",
       "      <td id=\"T_fc899_row13_col7\" class=\"data row13 col7\" >0.2</td>\n",
       "      <td id=\"T_fc899_row13_col8\" class=\"data row13 col8\" >6</td>\n",
       "      <td id=\"T_fc899_row13_col9\" class=\"data row13 col9\" >7.184866</td>\n",
       "      <td id=\"T_fc899_row13_col10\" class=\"data row13 col10\" >300</td>\n",
       "      <td id=\"T_fc899_row13_col11\" class=\"data row13 col11\" >6.871360</td>\n",
       "    </tr>\n",
       "    <tr>\n",
       "      <th id=\"T_fc899_level0_row14\" class=\"row_heading level0 row14\" >133</th>\n",
       "      <td id=\"T_fc899_row14_col0\" class=\"data row14 col0\" >[256]</td>\n",
       "      <td id=\"T_fc899_row14_col1\" class=\"data row14 col1\" >[1]</td>\n",
       "      <td id=\"T_fc899_row14_col2\" class=\"data row14 col2\" >[5]</td>\n",
       "      <td id=\"T_fc899_row14_col3\" class=\"data row14 col3\" >['elu', 0.4]</td>\n",
       "      <td id=\"T_fc899_row14_col4\" class=\"data row14 col4\" >0.4</td>\n",
       "      <td id=\"T_fc899_row14_col5\" class=\"data row14 col5\" >['elu', 0.4]</td>\n",
       "      <td id=\"T_fc899_row14_col6\" class=\"data row14 col6\" >[256, 128]</td>\n",
       "      <td id=\"T_fc899_row14_col7\" class=\"data row14 col7\" >0.2</td>\n",
       "      <td id=\"T_fc899_row14_col8\" class=\"data row14 col8\" >6</td>\n",
       "      <td id=\"T_fc899_row14_col9\" class=\"data row14 col9\" >7.183405</td>\n",
       "      <td id=\"T_fc899_row14_col10\" class=\"data row14 col10\" >300</td>\n",
       "      <td id=\"T_fc899_row14_col11\" class=\"data row14 col11\" >6.871960</td>\n",
       "    </tr>\n",
       "    <tr>\n",
       "      <th id=\"T_fc899_level0_row15\" class=\"row_heading level0 row15\" >134</th>\n",
       "      <td id=\"T_fc899_row15_col0\" class=\"data row15 col0\" >[256]</td>\n",
       "      <td id=\"T_fc899_row15_col1\" class=\"data row15 col1\" >[1]</td>\n",
       "      <td id=\"T_fc899_row15_col2\" class=\"data row15 col2\" >[5]</td>\n",
       "      <td id=\"T_fc899_row15_col3\" class=\"data row15 col3\" >['elu', 0.4]</td>\n",
       "      <td id=\"T_fc899_row15_col4\" class=\"data row15 col4\" >0.4</td>\n",
       "      <td id=\"T_fc899_row15_col5\" class=\"data row15 col5\" >['elu', 0.3]</td>\n",
       "      <td id=\"T_fc899_row15_col6\" class=\"data row15 col6\" >[256, 128]</td>\n",
       "      <td id=\"T_fc899_row15_col7\" class=\"data row15 col7\" >0.2</td>\n",
       "      <td id=\"T_fc899_row15_col8\" class=\"data row15 col8\" >6</td>\n",
       "      <td id=\"T_fc899_row15_col9\" class=\"data row15 col9\" >7.175652</td>\n",
       "      <td id=\"T_fc899_row15_col10\" class=\"data row15 col10\" >300</td>\n",
       "      <td id=\"T_fc899_row15_col11\" class=\"data row15 col11\" >6.871315</td>\n",
       "    </tr>\n",
       "    <tr>\n",
       "      <th id=\"T_fc899_level0_row16\" class=\"row_heading level0 row16\" >135</th>\n",
       "      <td id=\"T_fc899_row16_col0\" class=\"data row16 col0\" >[256]</td>\n",
       "      <td id=\"T_fc899_row16_col1\" class=\"data row16 col1\" >[1]</td>\n",
       "      <td id=\"T_fc899_row16_col2\" class=\"data row16 col2\" >[5]</td>\n",
       "      <td id=\"T_fc899_row16_col3\" class=\"data row16 col3\" >['elu', 0.4]</td>\n",
       "      <td id=\"T_fc899_row16_col4\" class=\"data row16 col4\" >0.3</td>\n",
       "      <td id=\"T_fc899_row16_col5\" class=\"data row16 col5\" >['elu', 0.4]</td>\n",
       "      <td id=\"T_fc899_row16_col6\" class=\"data row16 col6\" >[512, 256]</td>\n",
       "      <td id=\"T_fc899_row16_col7\" class=\"data row16 col7\" >0.2</td>\n",
       "      <td id=\"T_fc899_row16_col8\" class=\"data row16 col8\" >6</td>\n",
       "      <td id=\"T_fc899_row16_col9\" class=\"data row16 col9\" >7.184678</td>\n",
       "      <td id=\"T_fc899_row16_col10\" class=\"data row16 col10\" >300</td>\n",
       "      <td id=\"T_fc899_row16_col11\" class=\"data row16 col11\" >6.868009</td>\n",
       "    </tr>\n",
       "    <tr>\n",
       "      <th id=\"T_fc899_level0_row17\" class=\"row_heading level0 row17\" >141</th>\n",
       "      <td id=\"T_fc899_row17_col0\" class=\"data row17 col0\" >[256]</td>\n",
       "      <td id=\"T_fc899_row17_col1\" class=\"data row17 col1\" >[1]</td>\n",
       "      <td id=\"T_fc899_row17_col2\" class=\"data row17 col2\" >[5]</td>\n",
       "      <td id=\"T_fc899_row17_col3\" class=\"data row17 col3\" >['elu', 0.4]</td>\n",
       "      <td id=\"T_fc899_row17_col4\" class=\"data row17 col4\" >0.3</td>\n",
       "      <td id=\"T_fc899_row17_col5\" class=\"data row17 col5\" >['elu', 0.4]</td>\n",
       "      <td id=\"T_fc899_row17_col6\" class=\"data row17 col6\" >[256, 128]</td>\n",
       "      <td id=\"T_fc899_row17_col7\" class=\"data row17 col7\" >0.2</td>\n",
       "      <td id=\"T_fc899_row17_col8\" class=\"data row17 col8\" >6</td>\n",
       "      <td id=\"T_fc899_row17_col9\" class=\"data row17 col9\" >7.178886</td>\n",
       "      <td id=\"T_fc899_row17_col10\" class=\"data row17 col10\" >300</td>\n",
       "      <td id=\"T_fc899_row17_col11\" class=\"data row17 col11\" >6.868138</td>\n",
       "    </tr>\n",
       "    <tr>\n",
       "      <th id=\"T_fc899_level0_row18\" class=\"row_heading level0 row18\" >153</th>\n",
       "      <td id=\"T_fc899_row18_col0\" class=\"data row18 col0\" >[256]</td>\n",
       "      <td id=\"T_fc899_row18_col1\" class=\"data row18 col1\" >[1]</td>\n",
       "      <td id=\"T_fc899_row18_col2\" class=\"data row18 col2\" >[5]</td>\n",
       "      <td id=\"T_fc899_row18_col3\" class=\"data row18 col3\" >['elu', 0.3]</td>\n",
       "      <td id=\"T_fc899_row18_col4\" class=\"data row18 col4\" >0.3</td>\n",
       "      <td id=\"T_fc899_row18_col5\" class=\"data row18 col5\" >['elu', 0.4]</td>\n",
       "      <td id=\"T_fc899_row18_col6\" class=\"data row18 col6\" >[256, 128]</td>\n",
       "      <td id=\"T_fc899_row18_col7\" class=\"data row18 col7\" >0.2</td>\n",
       "      <td id=\"T_fc899_row18_col8\" class=\"data row18 col8\" >6</td>\n",
       "      <td id=\"T_fc899_row18_col9\" class=\"data row18 col9\" >7.170902</td>\n",
       "      <td id=\"T_fc899_row18_col10\" class=\"data row18 col10\" >300</td>\n",
       "      <td id=\"T_fc899_row18_col11\" class=\"data row18 col11\" >6.858482</td>\n",
       "    </tr>\n",
       "    <tr>\n",
       "      <th id=\"T_fc899_level0_row19\" class=\"row_heading level0 row19\" >174</th>\n",
       "      <td id=\"T_fc899_row19_col0\" class=\"data row19 col0\" >[64]</td>\n",
       "      <td id=\"T_fc899_row19_col1\" class=\"data row19 col1\" >[1]</td>\n",
       "      <td id=\"T_fc899_row19_col2\" class=\"data row19 col2\" >[5]</td>\n",
       "      <td id=\"T_fc899_row19_col3\" class=\"data row19 col3\" >['elu', 0.4]</td>\n",
       "      <td id=\"T_fc899_row19_col4\" class=\"data row19 col4\" >0.3</td>\n",
       "      <td id=\"T_fc899_row19_col5\" class=\"data row19 col5\" >['elu', 0.4]</td>\n",
       "      <td id=\"T_fc899_row19_col6\" class=\"data row19 col6\" >[256, 128]</td>\n",
       "      <td id=\"T_fc899_row19_col7\" class=\"data row19 col7\" >0.2</td>\n",
       "      <td id=\"T_fc899_row19_col8\" class=\"data row19 col8\" >6</td>\n",
       "      <td id=\"T_fc899_row19_col9\" class=\"data row19 col9\" >7.178869</td>\n",
       "      <td id=\"T_fc899_row19_col10\" class=\"data row19 col10\" >300</td>\n",
       "      <td id=\"T_fc899_row19_col11\" class=\"data row19 col11\" >6.874709</td>\n",
       "    </tr>\n",
       "  </tbody>\n",
       "</table>\n"
      ],
      "text/plain": [
       "<pandas.io.formats.style.Styler at 0x7fa95dfdea60>"
      ]
     },
     "execution_count": 7,
     "metadata": {},
     "output_type": "execute_result"
    }
   ],
   "source": [
    "results.results_dataframe_aggregate(threshold=7.17)"
   ]
  },
  {
   "cell_type": "code",
   "execution_count": 8,
   "metadata": {
    "ExecuteTime": {
     "end_time": "2019-08-01T04:11:25.125651Z",
     "start_time": "2019-08-01T04:11:22.043871Z"
    }
   },
   "outputs": [
    {
     "data": {
      "application/vnd.plotly.v1+json": {
       "config": {
        "linkText": "Export to plot.ly",
        "plotlyServerURL": "https://plot.ly",
        "showLink": false
       },
       "data": [
        {
         "marker": {
          "size": 20
         },
         "mode": "markers",
         "name": "['elu', 0.3]",
         "text": [
          "filters:[32]-strides:[2]-kernel_size:[9]-drop:0.2-full:[512, 256]-fulldrop:0.3-activation_full:['elu', 0.4]-lag:18-activation:['elu', 0.3]",
          "filters:[32]-strides:[3]-kernel_size:[9]-drop:0.3-full:[32, 16]-fulldrop:0.1-activation_full:['elu', 0.4]-lag:18-activation:['elu', 0.3]",
          "filters:[128]-strides:[1]-kernel_size:[7]-drop:0.2-full:[512]-fulldrop:0.2-activation_full:relu-lag:18-activation:['elu', 0.3]",
          "filters:[512]-strides:[2]-kernel_size:[7]-drop:0.3-full:[1024, 512]-fulldrop:0.2-activation_full:relu-lag:6-activation:['elu', 0.3]",
          "filters:[512]-strides:[1]-kernel_size:[9]-drop:0.5-full:[256]-fulldrop:0.0-activation_full:linear-lag:6-activation:['elu', 0.3]",
          "filters:[256]-strides:[2]-kernel_size:[1]-drop:0.3-full:[64, 32, 16]-fulldrop:0.0-activation_full:relu-lag:18-activation:['elu', 0.3]",
          "filters:[256]-strides:[1]-kernel_size:[5]-drop:0.3-full:[256, 128]-fulldrop:0.2-activation_full:['elu', 0.4]-lag:6-activation:['elu', 0.3]",
          "filters:[64]-strides:[1]-kernel_size:[9]-drop:0.1-full:[64, 32]-fulldrop:0.5-activation_full:['prelu', 0.0]-lag:6-activation:['elu', 0.3]",
          "filters:[64]-strides:[3]-kernel_size:[7]-drop:0.3-full:[1024, 512, 256]-fulldrop:0.2-activation_full:['leaky', 0.1]-lag:12-activation:['elu', 0.3]",
          "filters:[1024]-strides:[2]-kernel_size:[7]-drop:0.0-full:[64, 32]-fulldrop:0.4-activation_full:['prelu', 0.0]-lag:6-activation:['elu', 0.3]",
          "filters:[1024]-strides:[1]-kernel_size:[7]-drop:0.4-full:[32, 16]-fulldrop:0.2-activation_full:relu-lag:12-activation:['elu', 0.3]",
          "filters:[1024]-strides:[1]-kernel_size:[5]-drop:0.1-full:[1024, 512]-fulldrop:0.4-activation_full:['prelu', 0.0]-lag:6-activation:['elu', 0.3]"
         ],
         "type": "scatter",
         "x": [
          7.170901984339493
         ],
         "y": [
          300
         ]
        },
        {
         "marker": {
          "size": 20
         },
         "mode": "markers",
         "name": "['elu', 0.4]",
         "text": [
          "filters:[32]-strides:[2]-kernel_size:[9]-drop:0.5-full:[512]-fulldrop:0.1-activation_full:['leaky', 0.2]-lag:18-activation:['elu', 0.4]",
          "filters:[32]-strides:[2]-kernel_size:[3]-drop:0.2-full:[512, 256]-fulldrop:0.2-activation_full:tanh-lag:6-activation:['elu', 0.4]",
          "filters:[32]-strides:[1]-kernel_size:[5]-drop:0.5-full:[256, 128]-fulldrop:0.2-activation_full:['elu', 0.4]-lag:6-activation:['elu', 0.4]",
          "filters:[32]-strides:[1]-kernel_size:[5]-drop:0.4-full:[256, 128]-fulldrop:0.2-activation_full:['elu', 0.4]-lag:6-activation:['elu', 0.4]",
          "filters:[32]-strides:[1]-kernel_size:[5]-drop:0.4-full:[256, 128]-fulldrop:0.2-activation_full:['elu', 0.3]-lag:6-activation:['elu', 0.4]",
          "filters:[32]-strides:[3]-kernel_size:[5]-drop:0.4-full:[128, 64]-fulldrop:0.3-activation_full:relu-lag:6-activation:['elu', 0.4]",
          "filters:[128]-strides:[2]-kernel_size:[5]-drop:0.4-full:[256]-fulldrop:0.3-activation_full:['leaky', 0.1]-lag:12-activation:['elu', 0.4]",
          "filters:[128]-strides:[1]-kernel_size:[9]-drop:0.3-full:[512, 256]-fulldrop:0.2-activation_full:['elu', 0.4]-lag:6-activation:['elu', 0.4]",
          "filters:[128]-strides:[1]-kernel_size:[9]-drop:0.3-full:[256, 128]-fulldrop:0.2-activation_full:['elu', 0.4]-lag:6-activation:['elu', 0.4]",
          "filters:[128]-strides:[1]-kernel_size:[9]-drop:0.3-full:[256, 128]-fulldrop:0.2-activation_full:['elu', 0.3]-lag:6-activation:['elu', 0.4]",
          "filters:[128]-strides:[1]-kernel_size:[3]-drop:0.0-full:[1024]-fulldrop:0.5-activation_full:['leaky', 0.1]-lag:12-activation:['elu', 0.4]",
          "filters:[128]-strides:[1]-kernel_size:[3]-drop:0.0-full:[1024]-fulldrop:0.4-activation_full:['leaky', 0.1]-lag:12-activation:['elu', 0.4]",
          "filters:[128]-strides:[1]-kernel_size:[7]-drop:0.4-full:[256, 128]-fulldrop:0.2-activation_full:['elu', 0.3]-lag:6-activation:['elu', 0.4]",
          "filters:[128]-strides:[1]-kernel_size:[7]-drop:0.3-full:[512, 256, 128]-fulldrop:0.4-activation_full:['leaky', 0.2]-lag:6-activation:['elu', 0.4]",
          "filters:[128]-strides:[1]-kernel_size:[7]-drop:0.3-full:[512, 256]-fulldrop:0.2-activation_full:['elu', 0.4]-lag:6-activation:['elu', 0.4]",
          "filters:[128]-strides:[1]-kernel_size:[7]-drop:0.3-full:[256, 128]-fulldrop:0.2-activation_full:['elu', 0.4]-lag:6-activation:['elu', 0.4]",
          "filters:[128]-strides:[1]-kernel_size:[7]-drop:0.3-full:[256, 128]-fulldrop:0.2-activation_full:['elu', 0.3]-lag:6-activation:['elu', 0.4]",
          "filters:[128]-strides:[1]-kernel_size:[1]-drop:0.2-full:[4096, 2048, 1024]-fulldrop:0.3-activation_full:hard_sigmoid-lag:6-activation:['elu', 0.4]",
          "filters:[128]-strides:[1]-kernel_size:[5]-drop:0.5-full:[256, 128]-fulldrop:0.2-activation_full:['elu', 0.4]-lag:6-activation:['elu', 0.4]",
          "filters:[128]-strides:[1]-kernel_size:[5]-drop:0.4-full:[512, 256]-fulldrop:0.2-activation_full:['elu', 0.4]-lag:6-activation:['elu', 0.4]",
          "filters:[128]-strides:[1]-kernel_size:[5]-drop:0.4-full:[256, 128]-fulldrop:0.2-activation_full:['elu', 0.4]-lag:18-activation:['elu', 0.4]",
          "filters:[128]-strides:[1]-kernel_size:[5]-drop:0.4-full:[256, 128]-fulldrop:0.2-activation_full:['elu', 0.4]-lag:6-activation:['elu', 0.4]",
          "filters:[128]-strides:[1]-kernel_size:[5]-drop:0.4-full:[256, 128]-fulldrop:0.2-activation_full:['elu', 0.3]-lag:6-activation:['elu', 0.4]",
          "filters:[128]-strides:[1]-kernel_size:[5]-drop:0.3-full:[512, 256]-fulldrop:0.2-activation_full:['elu', 0.4]-lag:6-activation:['elu', 0.4]",
          "filters:[128]-strides:[1]-kernel_size:[5]-drop:0.3-full:[256, 128]-fulldrop:0.2-activation_full:['elu', 0.4]-lag:6-activation:['elu', 0.4]",
          "filters:[128]-strides:[1]-kernel_size:[5]-drop:0.3-full:[64, 32]-fulldrop:0.2-activation_full:['elu', 0.4]-lag:6-activation:['elu', 0.4]",
          "filters:[128]-strides:[1]-kernel_size:[5]-drop:0.3-full:[512, 256]-fulldrop:0.2-activation_full:['elu', 0.3]-lag:6-activation:['elu', 0.4]",
          "filters:[128]-strides:[1]-kernel_size:[5]-drop:0.3-full:[256, 128]-fulldrop:0.2-activation_full:['elu', 0.3]-lag:6-activation:['elu', 0.4]",
          "filters:[128]-strides:[3]-kernel_size:[7]-drop:0.1-full:[128, 64, 32]-fulldrop:0.0-activation_full:linear-lag:12-activation:['elu', 0.4]",
          "filters:[128]-strides:[3]-kernel_size:[1]-drop:0.4-full:[4096, 2048, 1024]-fulldrop:0.0-activation_full:['leaky', 0.1]-lag:6-activation:['elu', 0.4]",
          "filters:[512]-strides:[1]-kernel_size:[1]-drop:0.5-full:[1024, 512, 256]-fulldrop:0.5-activation_full:['leaky', 0.1]-lag:6-activation:['elu', 0.4]",
          "filters:[512]-strides:[1]-kernel_size:[5]-drop:0.5-full:[1024]-fulldrop:0.2-activation_full:['leaky', 0.1]-lag:6-activation:['elu', 0.4]",
          "filters:[512]-strides:[1]-kernel_size:[5]-drop:0.2-full:[2048, 1024, 512]-fulldrop:0.0-activation_full:['leaky', 0.2]-lag:6-activation:['elu', 0.4]",
          "filters:[512]-strides:[1]-kernel_size:[5]-drop:0.3-full:[512, 256]-fulldrop:0.2-activation_full:['elu', 0.4]-lag:6-activation:['elu', 0.4]",
          "filters:[512]-strides:[1]-kernel_size:[5]-drop:0.3-full:[256, 128]-fulldrop:0.2-activation_full:['elu', 0.4]-lag:6-activation:['elu', 0.4]",
          "filters:[256]-strides:[2]-kernel_size:[9]-drop:0.2-full:[4096]-fulldrop:0.3-activation_full:linear-lag:18-activation:['elu', 0.4]",
          "filters:[256]-strides:[2]-kernel_size:[9]-drop:0.0-full:[32, 16, 8]-fulldrop:0.1-activation_full:linear-lag:6-activation:['elu', 0.4]",
          "filters:[256]-strides:[1]-kernel_size:[9]-drop:0.1-full:[128]-fulldrop:0.4-activation_full:['prelu', 0.0]-lag:6-activation:['elu', 0.4]",
          "filters:[256]-strides:[1]-kernel_size:[9]-drop:0.2-full:[1024]-fulldrop:0.3-activation_full:['leaky', 0.1]-lag:6-activation:['elu', 0.4]",
          "filters:[256]-strides:[1]-kernel_size:[9]-drop:0.4-full:[256, 128]-fulldrop:0.2-activation_full:['elu', 0.3]-lag:6-activation:['elu', 0.4]",
          "filters:[256]-strides:[1]-kernel_size:[9]-drop:0.3-full:[512, 256]-fulldrop:0.2-activation_full:['elu', 0.4]-lag:6-activation:['elu', 0.4]",
          "filters:[256]-strides:[1]-kernel_size:[9]-drop:0.3-full:[256, 128]-fulldrop:0.2-activation_full:['elu', 0.4]-lag:6-activation:['elu', 0.4]",
          "filters:[256]-strides:[1]-kernel_size:[3]-drop:0.2-full:[32]-fulldrop:0.1-activation_full:['leaky', 0.1]-lag:6-activation:['elu', 0.4]",
          "filters:[256]-strides:[1]-kernel_size:[3]-drop:0.2-full:[32]-fulldrop:0.4-activation_full:['leaky', 0.1]-lag:6-activation:['elu', 0.4]",
          "filters:[256]-strides:[1]-kernel_size:[7]-drop:0.4-full:[512]-fulldrop:0.2-activation_full:['elu', 0.3]-lag:6-activation:['elu', 0.4]",
          "filters:[256]-strides:[1]-kernel_size:[7]-drop:0.4-full:[256, 128]-fulldrop:0.2-activation_full:['elu', 0.3]-lag:6-activation:['elu', 0.4]",
          "filters:[256]-strides:[1]-kernel_size:[7]-drop:0.4-full:[256, 128]-fulldrop:0.2-activation_full:['elu', 0.3]-lag:12-activation:['elu', 0.4]",
          "filters:[256]-strides:[1]-kernel_size:[7]-drop:0.3-full:[512, 256]-fulldrop:0.2-activation_full:['elu', 0.4]-lag:6-activation:['elu', 0.4]",
          "filters:[256]-strides:[1]-kernel_size:[7]-drop:0.3-full:[256, 128]-fulldrop:0.2-activation_full:['elu', 0.4]-lag:6-activation:['elu', 0.4]",
          "filters:[256]-strides:[1]-kernel_size:[7]-drop:0.3-full:[256, 128]-fulldrop:0.2-activation_full:['elu', 0.3]-lag:6-activation:['elu', 0.4]",
          "filters:[256]-strides:[1]-kernel_size:[1]-drop:0.4-full:[256, 128]-fulldrop:0.2-activation_full:['elu', 0.3]-lag:6-activation:['elu', 0.4]",
          "filters:[256]-strides:[1]-kernel_size:[5]-drop:0.5-full:[256, 128]-fulldrop:0.2-activation_full:['elu', 0.4]-lag:6-activation:['elu', 0.4]",
          "filters:[256]-strides:[1]-kernel_size:[5]-drop:0.4-full:[512, 256]-fulldrop:0.2-activation_full:['elu', 0.4]-lag:6-activation:['elu', 0.4]",
          "filters:[256]-strides:[1]-kernel_size:[5]-drop:0.4-full:[256, 128]-fulldrop:0.2-activation_full:['elu', 0.4]-lag:18-activation:['elu', 0.4]",
          "filters:[256]-strides:[1]-kernel_size:[5]-drop:0.4-full:[256, 128]-fulldrop:0.2-activation_full:['elu', 0.4]-lag:6-activation:['elu', 0.4]",
          "filters:[256]-strides:[1]-kernel_size:[5]-drop:0.4-full:[256, 128]-fulldrop:0.2-activation_full:['elu', 0.3]-lag:6-activation:['elu', 0.4]",
          "filters:[256]-strides:[1]-kernel_size:[5]-drop:0.3-full:[512, 256]-fulldrop:0.2-activation_full:['elu', 0.4]-lag:6-activation:['elu', 0.4]",
          "filters:[256]-strides:[1]-kernel_size:[5]-drop:0.3-full:[1024, 512, 256]-fulldrop:0.2-activation_full:['elu', 0.4]-lag:6-activation:['elu', 0.4]",
          "filters:[256]-strides:[1]-kernel_size:[5]-drop:0.3-full:[128, 64, 32]-fulldrop:0.2-activation_full:['elu', 0.4]-lag:6-activation:['elu', 0.4]",
          "filters:[256]-strides:[1]-kernel_size:[5]-drop:0.3-full:[256, 128]-fulldrop:0.1-activation_full:['elu', 0.4]-lag:6-activation:['elu', 0.4]",
          "filters:[256]-strides:[1]-kernel_size:[5]-drop:0.3-full:[256, 128]-fulldrop:0.0-activation_full:['elu', 0.4]-lag:6-activation:['elu', 0.4]",
          "filters:[256]-strides:[1]-kernel_size:[5]-drop:0.3-full:[256, 128]-fulldrop:0.3-activation_full:['elu', 0.4]-lag:6-activation:['elu', 0.4]",
          "filters:[256]-strides:[1]-kernel_size:[5]-drop:0.3-full:[256, 128]-fulldrop:0.2-activation_full:['elu', 0.4]-lag:6-activation:['elu', 0.4]",
          "filters:[256]-strides:[1]-kernel_size:[5]-drop:0.3-full:[256, 128]-fulldrop:0.5-activation_full:['elu', 0.4]-lag:6-activation:['elu', 0.4]",
          "filters:[256]-strides:[1]-kernel_size:[5]-drop:0.3-full:[2048, 1024, 512]-fulldrop:0.2-activation_full:['elu', 0.4]-lag:6-activation:['elu', 0.4]",
          "filters:[256]-strides:[1]-kernel_size:[5]-drop:0.3-full:[64, 32, 16]-fulldrop:0.2-activation_full:['elu', 0.4]-lag:6-activation:['elu', 0.4]",
          "filters:[256]-strides:[1]-kernel_size:[5]-drop:0.3-full:[4096, 2048]-fulldrop:0.2-activation_full:['elu', 0.4]-lag:6-activation:['elu', 0.4]",
          "filters:[256]-strides:[1]-kernel_size:[5]-drop:0.3-full:[32, 16, 8]-fulldrop:0.2-activation_full:['elu', 0.4]-lag:6-activation:['elu', 0.4]",
          "filters:[256]-strides:[1]-kernel_size:[5]-drop:0.3-full:[512, 256, 128]-fulldrop:0.2-activation_full:['elu', 0.4]-lag:6-activation:['elu', 0.4]",
          "filters:[256]-strides:[1]-kernel_size:[5]-drop:0.3-full:[4096, 2048, 1024]-fulldrop:0.2-activation_full:['elu', 0.4]-lag:6-activation:['elu', 0.4]",
          "filters:[256]-strides:[1]-kernel_size:[5]-drop:0.3-full:[256, 128, 64]-fulldrop:0.2-activation_full:['elu', 0.4]-lag:6-activation:['elu', 0.4]",
          "filters:[256]-strides:[1]-kernel_size:[5]-drop:0.3-full:[512, 256]-fulldrop:0.2-activation_full:['elu', 0.3]-lag:6-activation:['elu', 0.4]",
          "filters:[256]-strides:[1]-kernel_size:[5]-drop:0.3-full:[256, 128]-fulldrop:0.2-activation_full:['elu', 0.3]-lag:6-activation:['elu', 0.4]",
          "filters:[256]-strides:[1]-kernel_size:[5]-drop:0.3-full:[256, 128]-fulldrop:0.2-activation_full:linear-lag:6-activation:['elu', 0.4]",
          "filters:[256]-strides:[3]-kernel_size:[3]-drop:0.5-full:[128, 64, 32]-fulldrop:0.3-activation_full:linear-lag:6-activation:['elu', 0.4]",
          "filters:[64]-strides:[1]-kernel_size:[5]-drop:0.3-full:[256, 128]-fulldrop:0.2-activation_full:['elu', 0.4]-lag:6-activation:['elu', 0.4]",
          "filters:[1024]-strides:[1]-kernel_size:[9]-drop:0.2-full:[512, 256]-fulldrop:0.1-activation_full:['elu', 0.4]-lag:12-activation:['elu', 0.4]",
          "filters:[1024]-strides:[1]-kernel_size:[5]-drop:0.5-full:[256, 128]-fulldrop:0.2-activation_full:['elu', 0.4]-lag:6-activation:['elu', 0.4]",
          "filters:[1024]-strides:[1]-kernel_size:[5]-drop:0.4-full:[256, 128, 64]-fulldrop:0.3-activation_full:['elu', 0.3]-lag:18-activation:['elu', 0.4]",
          "filters:[1024]-strides:[1]-kernel_size:[5]-drop:0.3-full:[256, 128]-fulldrop:0.2-activation_full:['elu', 0.4]-lag:6-activation:['elu', 0.4]",
          "filters:[1024]-strides:[1]-kernel_size:[5]-drop:0.0-full:[2048, 1024, 512]-fulldrop:0.2-activation_full:['elu', 0.3]-lag:18-activation:['elu', 0.4]",
          "filters:[16]-strides:[1]-kernel_size:[5]-drop:0.5-full:[256, 128]-fulldrop:0.2-activation_full:['elu', 0.4]-lag:6-activation:['elu', 0.4]",
          "filters:[16]-strides:[1]-kernel_size:[5]-drop:0.4-full:[256, 128]-fulldrop:0.2-activation_full:['elu', 0.4]-lag:6-activation:['elu', 0.4]"
         ],
         "type": "scatter",
         "x": [
          7.1297597398547,
          7.179893935616236,
          7.121020753628824,
          7.173432672465291,
          7.186972513782271,
          7.181294912004719,
          7.117023657972756,
          7.120024702910125,
          7.187118756205159,
          7.185357220646151,
          7.178568297142427,
          7.195007192255751,
          7.184798782732892,
          7.119284248529651,
          7.180236304322619,
          7.109931932777832,
          7.169500492511916,
          7.153498718687478,
          7.171937180432014,
          7.177593280073462,
          7.121575453435991,
          7.167818291154836,
          7.16944520742412,
          7.119641341661471,
          7.121825279914471,
          7.119739699491183,
          7.114915890873138,
          7.176657193052169,
          7.184865536221633,
          7.18340475765933,
          7.175651716700263,
          7.184678399470364,
          7.151060289409124,
          7.168525842549754,
          7.16378848760163,
          7.178885890681357,
          7.112298654893042,
          7.110503188420023,
          7.168859308602873,
          7.169093944913147,
          7.113539049788788,
          7.1172942378332555,
          7.178868699923252,
          7.1532851918840725
         ],
         "y": [
          150,
          300,
          150,
          300,
          300,
          300,
          150,
          150,
          300,
          300,
          300,
          300,
          300,
          150,
          300,
          150,
          300,
          300,
          300,
          300,
          150,
          300,
          300,
          200,
          150,
          150,
          150,
          300,
          300,
          300,
          300,
          300,
          300,
          300,
          300,
          300,
          200,
          200,
          300,
          300,
          150,
          150,
          300,
          300
         ]
        },
        {
         "marker": {
          "size": 20
         },
         "mode": "markers",
         "name": "['leaky', 0.1]",
         "text": [
          "filters:[32]-strides:[2]-kernel_size:[7]-drop:0.2-full:[2048]-fulldrop:0.5-activation_full:hard_sigmoid-lag:18-activation:['leaky', 0.1]",
          "filters:[32]-strides:[1]-kernel_size:[7]-drop:0.4-full:[128, 64, 32]-fulldrop:0.1-activation_full:hard_sigmoid-lag:6-activation:['leaky', 0.1]",
          "filters:[32]-strides:[1]-kernel_size:[1]-drop:0.5-full:[4096]-fulldrop:0.3-activation_full:['prelu', 0.0]-lag:6-activation:['leaky', 0.1]",
          "filters:[32]-strides:[3]-kernel_size:[3]-drop:0.2-full:[512]-fulldrop:0.3-activation_full:['prelu', 0.0]-lag:12-activation:['leaky', 0.1]",
          "filters:[32]-strides:[3]-kernel_size:[7]-drop:0.0-full:[256]-fulldrop:0.4-activation_full:hard_sigmoid-lag:12-activation:['leaky', 0.1]",
          "filters:[128]-strides:[2]-kernel_size:[5]-drop:0.3-full:[32]-fulldrop:0.3-activation_full:['prelu', 0.0]-lag:6-activation:['leaky', 0.1]",
          "filters:[128]-strides:[1]-kernel_size:[3]-drop:0.1-full:[2048, 1024]-fulldrop:0.2-activation_full:['elu', 0.4]-lag:18-activation:['leaky', 0.1]",
          "filters:[512]-strides:[1]-kernel_size:[9]-drop:0.5-full:[1024]-fulldrop:0.3-activation_full:hard_sigmoid-lag:12-activation:['leaky', 0.1]",
          "filters:[512]-strides:[3]-kernel_size:[3]-drop:0.5-full:[2048, 1024, 512]-fulldrop:0.2-activation_full:hard_sigmoid-lag:18-activation:['leaky', 0.1]",
          "filters:[512]-strides:[3]-kernel_size:[7]-drop:0.3-full:[128, 64, 32]-fulldrop:0.1-activation_full:['leaky', 0.2]-lag:18-activation:['leaky', 0.1]",
          "filters:[512]-strides:[3]-kernel_size:[5]-drop:0.0-full:[128, 64, 32]-fulldrop:0.4-activation_full:hard_sigmoid-lag:12-activation:['leaky', 0.1]",
          "filters:[256]-strides:[1]-kernel_size:[9]-drop:0.1-full:[32]-fulldrop:0.4-activation_full:['leaky', 0.1]-lag:6-activation:['leaky', 0.1]",
          "filters:[256]-strides:[1]-kernel_size:[9]-drop:0.1-full:[128]-fulldrop:0.5-activation_full:['leaky', 0.1]-lag:6-activation:['leaky', 0.1]",
          "filters:[256]-strides:[1]-kernel_size:[9]-drop:0.1-full:[128]-fulldrop:0.4-activation_full:['leaky', 0.1]-lag:6-activation:['leaky', 0.1]",
          "filters:[256]-strides:[1]-kernel_size:[9]-drop:0.1-full:[128]-fulldrop:0.4-activation_full:['elu', 0.3]-lag:12-activation:['leaky', 0.1]",
          "filters:[256]-strides:[1]-kernel_size:[9]-drop:0.1-full:[128]-fulldrop:0.4-activation_full:relu-lag:6-activation:['leaky', 0.1]",
          "filters:[256]-strides:[1]-kernel_size:[9]-drop:0.1-full:[256]-fulldrop:0.4-activation_full:['prelu', 0.0]-lag:6-activation:['leaky', 0.1]",
          "filters:[256]-strides:[1]-kernel_size:[9]-drop:0.1-full:[128]-fulldrop:0.3-activation_full:['prelu', 0.0]-lag:6-activation:['leaky', 0.1]",
          "filters:[256]-strides:[1]-kernel_size:[9]-drop:0.1-full:[128]-fulldrop:0.3-activation_full:['prelu', 0.0]-lag:12-activation:['leaky', 0.1]",
          "filters:[256]-strides:[1]-kernel_size:[9]-drop:0.1-full:[128]-fulldrop:0.4-activation_full:['prelu', 0.0]-lag:6-activation:['leaky', 0.1]",
          "filters:[256]-strides:[1]-kernel_size:[9]-drop:0.1-full:[128]-fulldrop:0.4-activation_full:['prelu', 0.0]-lag:12-activation:['leaky', 0.1]",
          "filters:[256]-strides:[1]-kernel_size:[9]-drop:0.3-full:[1024]-fulldrop:0.4-activation_full:['leaky', 0.2]-lag:6-activation:['leaky', 0.1]",
          "filters:[256]-strides:[1]-kernel_size:[3]-drop:0.1-full:[128]-fulldrop:0.4-activation_full:relu-lag:6-activation:['leaky', 0.1]",
          "filters:[256]-strides:[1]-kernel_size:[7]-drop:0.1-full:[128]-fulldrop:0.4-activation_full:['prelu', 0.0]-lag:6-activation:['leaky', 0.1]",
          "filters:[256]-strides:[1]-kernel_size:[5]-drop:0.1-full:[128]-fulldrop:0.4-activation_full:['prelu', 0.0]-lag:6-activation:['leaky', 0.1]",
          "filters:[64]-strides:[2]-kernel_size:[9]-drop:0.5-full:[128]-fulldrop:0.5-activation_full:relu-lag:12-activation:['leaky', 0.1]",
          "filters:[64]-strides:[3]-kernel_size:[5]-drop:0.3-full:[64, 32]-fulldrop:0.3-activation_full:['elu', 0.3]-lag:6-activation:['leaky', 0.1]",
          "filters:[1024]-strides:[1]-kernel_size:[7]-drop:0.5-full:[32, 16]-fulldrop:0.4-activation_full:hard_sigmoid-lag:12-activation:['leaky', 0.1]",
          "filters:[1024]-strides:[3]-kernel_size:[9]-drop:0.5-full:[64]-fulldrop:0.1-activation_full:relu-lag:12-activation:['leaky', 0.1]",
          "filters:[16]-strides:[2]-kernel_size:[5]-drop:0.0-full:[512, 256, 128]-fulldrop:0.4-activation_full:['elu', 0.4]-lag:12-activation:['leaky', 0.1]"
         ],
         "type": "scatter",
         "x": [
          7.12246076003065
         ],
         "y": [
          200
         ]
        },
        {
         "marker": {
          "size": 20
         },
         "mode": "markers",
         "name": "['leaky', 0.2]",
         "text": [
          "filters:[32]-strides:[2]-kernel_size:[7]-drop:0.1-full:[128, 64, 32]-fulldrop:0.1-activation_full:relu-lag:12-activation:['leaky', 0.2]",
          "filters:[32]-strides:[2]-kernel_size:[1]-drop:0.5-full:[256, 128]-fulldrop:0.1-activation_full:relu-lag:12-activation:['leaky', 0.2]",
          "filters:[32]-strides:[3]-kernel_size:[3]-drop:0.4-full:[2048, 1024, 512]-fulldrop:0.2-activation_full:linear-lag:12-activation:['leaky', 0.2]",
          "filters:[32]-strides:[3]-kernel_size:[7]-drop:0.5-full:[128, 64]-fulldrop:0.5-activation_full:relu-lag:6-activation:['leaky', 0.2]",
          "filters:[32]-strides:[3]-kernel_size:[1]-drop:0.2-full:[64, 32, 16]-fulldrop:0.4-activation_full:linear-lag:6-activation:['leaky', 0.2]",
          "filters:[32]-strides:[3]-kernel_size:[5]-drop:0.2-full:[128, 64, 32]-fulldrop:0.5-activation_full:['leaky', 0.2]-lag:18-activation:['leaky', 0.2]",
          "filters:[128]-strides:[1]-kernel_size:[3]-drop:0.4-full:[32, 16, 8]-fulldrop:0.1-activation_full:hard_sigmoid-lag:18-activation:['leaky', 0.2]",
          "filters:[128]-strides:[3]-kernel_size:[9]-drop:0.3-full:[256, 128]-fulldrop:0.2-activation_full:['leaky', 0.1]-lag:12-activation:['leaky', 0.2]",
          "filters:[128]-strides:[3]-kernel_size:[7]-drop:0.3-full:[512, 256, 128]-fulldrop:0.1-activation_full:relu-lag:6-activation:['leaky', 0.2]",
          "filters:[128]-strides:[3]-kernel_size:[5]-drop:0.3-full:[2048]-fulldrop:0.1-activation_full:['leaky', 0.1]-lag:6-activation:['leaky', 0.2]",
          "filters:[256]-strides:[2]-kernel_size:[1]-drop:0.2-full:[2048, 1024, 512]-fulldrop:0.3-activation_full:linear-lag:18-activation:['leaky', 0.2]",
          "filters:[256]-strides:[1]-kernel_size:[9]-drop:0.1-full:[128]-fulldrop:0.4-activation_full:['prelu', 0.0]-lag:6-activation:['leaky', 0.2]",
          "filters:[64]-strides:[3]-kernel_size:[7]-drop:0.1-full:[1024, 512]-fulldrop:0.0-activation_full:linear-lag:12-activation:['leaky', 0.2]",
          "filters:[1024]-strides:[1]-kernel_size:[9]-drop:0.2-full:[256, 128, 64]-fulldrop:0.5-activation_full:hard_sigmoid-lag:18-activation:['leaky', 0.2]",
          "filters:[1024]-strides:[1]-kernel_size:[5]-drop:0.3-full:[2048, 1024]-fulldrop:0.0-activation_full:['leaky', 0.2]-lag:12-activation:['leaky', 0.2]",
          "filters:[1024]-strides:[3]-kernel_size:[5]-drop:0.1-full:[64, 32]-fulldrop:0.1-activation_full:['leaky', 0.1]-lag:6-activation:['leaky', 0.2]",
          "filters:[1024]-strides:[3]-kernel_size:[5]-drop:0.1-full:[4096]-fulldrop:0.5-activation_full:['prelu', 0.0]-lag:6-activation:['leaky', 0.2]",
          "filters:[16]-strides:[1]-kernel_size:[9]-drop:0.5-full:[2048, 1024, 512]-fulldrop:0.4-activation_full:['leaky', 0.1]-lag:6-activation:['leaky', 0.2]"
         ],
         "type": "scatter",
         "x": [],
         "y": []
        },
        {
         "marker": {
          "size": 20
         },
         "mode": "markers",
         "name": "['prelu', 0.0]",
         "text": [
          "filters:[32]-strides:[2]-kernel_size:[7]-drop:0.2-full:[32]-fulldrop:0.1-activation_full:['elu', 0.4]-lag:6-activation:['prelu', 0.0]",
          "filters:[32]-strides:[1]-kernel_size:[1]-drop:0.2-full:[64]-fulldrop:0.2-activation_full:['leaky', 0.1]-lag:18-activation:['prelu', 0.0]",
          "filters:[32]-strides:[3]-kernel_size:[5]-drop:0.4-full:[32]-fulldrop:0.4-activation_full:['prelu', 0.0]-lag:6-activation:['prelu', 0.0]",
          "filters:[128]-strides:[1]-kernel_size:[7]-drop:0.0-full:[512]-fulldrop:0.4-activation_full:['leaky', 0.2]-lag:6-activation:['prelu', 0.0]",
          "filters:[128]-strides:[3]-kernel_size:[5]-drop:0.2-full:[32, 16]-fulldrop:0.3-activation_full:['prelu', 0.0]-lag:18-activation:['prelu', 0.0]",
          "filters:[512]-strides:[2]-kernel_size:[5]-drop:0.4-full:[1024, 512]-fulldrop:0.3-activation_full:['elu', 0.4]-lag:18-activation:['prelu', 0.0]",
          "filters:[512]-strides:[1]-kernel_size:[9]-drop:0.1-full:[4096]-fulldrop:0.4-activation_full:['leaky', 0.1]-lag:6-activation:['prelu', 0.0]",
          "filters:[512]-strides:[1]-kernel_size:[3]-drop:0.4-full:[2048, 1024]-fulldrop:0.0-activation_full:['leaky', 0.2]-lag:12-activation:['prelu', 0.0]",
          "filters:[512]-strides:[1]-kernel_size:[7]-drop:0.5-full:[512]-fulldrop:0.4-activation_full:['leaky', 0.2]-lag:6-activation:['prelu', 0.0]",
          "filters:[512]-strides:[1]-kernel_size:[7]-drop:0.2-full:[512]-fulldrop:0.4-activation_full:['leaky', 0.2]-lag:6-activation:['prelu', 0.0]",
          "filters:[512]-strides:[1]-kernel_size:[7]-drop:0.4-full:[512]-fulldrop:0.4-activation_full:['leaky', 0.2]-lag:6-activation:['prelu', 0.0]",
          "filters:[512]-strides:[1]-kernel_size:[7]-drop:0.3-full:[512]-fulldrop:0.4-activation_full:['leaky', 0.2]-lag:6-activation:['prelu', 0.0]",
          "filters:[512]-strides:[1]-kernel_size:[1]-drop:0.0-full:[64]-fulldrop:0.1-activation_full:['leaky', 0.1]-lag:6-activation:['prelu', 0.0]",
          "filters:[256]-strides:[3]-kernel_size:[9]-drop:0.1-full:[1024, 512, 256]-fulldrop:0.0-activation_full:['leaky', 0.1]-lag:18-activation:['prelu', 0.0]",
          "filters:[64]-strides:[2]-kernel_size:[7]-drop:0.2-full:[512, 256]-fulldrop:0.4-activation_full:linear-lag:18-activation:['prelu', 0.0]",
          "filters:[64]-strides:[1]-kernel_size:[3]-drop:0.2-full:[128, 64]-fulldrop:0.5-activation_full:['leaky', 0.2]-lag:6-activation:['prelu', 0.0]",
          "filters:[64]-strides:[3]-kernel_size:[1]-drop:0.2-full:[256]-fulldrop:0.3-activation_full:['leaky', 0.1]-lag:18-activation:['prelu', 0.0]",
          "filters:[1024]-strides:[2]-kernel_size:[3]-drop:0.5-full:[1024, 512]-fulldrop:0.0-activation_full:relu-lag:6-activation:['prelu', 0.0]",
          "filters:[1024]-strides:[2]-kernel_size:[1]-drop:0.4-full:[32, 16]-fulldrop:0.4-activation_full:['leaky', 0.2]-lag:18-activation:['prelu', 0.0]",
          "filters:[1024]-strides:[1]-kernel_size:[3]-drop:0.2-full:[256, 128, 64]-fulldrop:0.5-activation_full:['elu', 0.4]-lag:18-activation:['prelu', 0.0]",
          "filters:[1024]-strides:[1]-kernel_size:[7]-drop:0.3-full:[64, 32, 16]-fulldrop:0.0-activation_full:['leaky', 0.1]-lag:6-activation:['prelu', 0.0]",
          "filters:[16]-strides:[2]-kernel_size:[9]-drop:0.3-full:[4096, 2048, 1024]-fulldrop:0.0-activation_full:['prelu', 0.0]-lag:18-activation:['prelu', 0.0]",
          "filters:[16]-strides:[3]-kernel_size:[1]-drop:0.3-full:[64, 32]-fulldrop:0.4-activation_full:relu-lag:12-activation:['prelu', 0.0]"
         ],
         "type": "scatter",
         "x": [],
         "y": []
        },
        {
         "marker": {
          "size": 20
         },
         "mode": "markers",
         "name": "hard_sigmoid",
         "text": [
          "filters:[32]-strides:[2]-kernel_size:[9]-drop:0.1-full:[2048]-fulldrop:0.0-activation_full:['leaky', 0.1]-lag:18-activation:hard_sigmoid",
          "filters:[128]-strides:[2]-kernel_size:[9]-drop:0.1-full:[256]-fulldrop:0.0-activation_full:['elu', 0.3]-lag:18-activation:hard_sigmoid",
          "filters:[128]-strides:[1]-kernel_size:[5]-drop:0.3-full:[128, 64]-fulldrop:0.0-activation_full:tanh-lag:12-activation:hard_sigmoid",
          "filters:[512]-strides:[2]-kernel_size:[3]-drop:0.1-full:[2048]-fulldrop:0.0-activation_full:['elu', 0.3]-lag:6-activation:hard_sigmoid",
          "filters:[512]-strides:[1]-kernel_size:[9]-drop:0.5-full:[128, 64, 32]-fulldrop:0.5-activation_full:linear-lag:6-activation:hard_sigmoid",
          "filters:[512]-strides:[1]-kernel_size:[3]-drop:0.5-full:[4096, 2048]-fulldrop:0.5-activation_full:['elu', 0.3]-lag:12-activation:hard_sigmoid",
          "filters:[256]-strides:[2]-kernel_size:[7]-drop:0.1-full:[4096, 2048, 1024]-fulldrop:0.2-activation_full:['elu', 0.4]-lag:6-activation:hard_sigmoid",
          "filters:[1024]-strides:[3]-kernel_size:[5]-drop:0.3-full:[2048, 1024]-fulldrop:0.2-activation_full:relu-lag:12-activation:hard_sigmoid",
          "filters:[16]-strides:[1]-kernel_size:[5]-drop:0.5-full:[128, 64]-fulldrop:0.4-activation_full:hard_sigmoid-lag:6-activation:hard_sigmoid",
          "filters:[16]-strides:[3]-kernel_size:[1]-drop:0.4-full:[128, 64]-fulldrop:0.3-activation_full:['leaky', 0.1]-lag:18-activation:hard_sigmoid"
         ],
         "type": "scatter",
         "x": [],
         "y": []
        },
        {
         "marker": {
          "size": 20
         },
         "mode": "markers",
         "name": "linear",
         "text": [
          "filters:[32]-strides:[2]-kernel_size:[3]-drop:0.1-full:[1024, 512, 256]-fulldrop:0.1-activation_full:['elu', 0.3]-lag:18-activation:linear",
          "filters:[32]-strides:[1]-kernel_size:[7]-drop:0.5-full:[64]-fulldrop:0.1-activation_full:relu-lag:12-activation:linear",
          "filters:[32]-strides:[1]-kernel_size:[7]-drop:0.4-full:[1024, 512]-fulldrop:0.2-activation_full:relu-lag:6-activation:linear",
          "filters:[128]-strides:[1]-kernel_size:[9]-drop:0.3-full:[1024]-fulldrop:0.2-activation_full:['leaky', 0.2]-lag:18-activation:linear",
          "filters:[128]-strides:[1]-kernel_size:[5]-drop:0.0-full:[2048, 1024]-fulldrop:0.3-activation_full:['prelu', 0.0]-lag:12-activation:linear",
          "filters:[512]-strides:[1]-kernel_size:[7]-drop:0.4-full:[1024]-fulldrop:0.2-activation_full:relu-lag:6-activation:linear",
          "filters:[512]-strides:[1]-kernel_size:[7]-drop:0.4-full:[256]-fulldrop:0.2-activation_full:relu-lag:6-activation:linear",
          "filters:[512]-strides:[1]-kernel_size:[5]-drop:0.0-full:[64]-fulldrop:0.3-activation_full:linear-lag:6-activation:linear",
          "filters:[512]-strides:[3]-kernel_size:[3]-drop:0.5-full:[128, 64, 32]-fulldrop:0.5-activation_full:relu-lag:12-activation:linear",
          "filters:[512]-strides:[3]-kernel_size:[3]-drop:0.2-full:[2048, 1024, 512]-fulldrop:0.2-activation_full:linear-lag:12-activation:linear",
          "filters:[512]-strides:[3]-kernel_size:[7]-drop:0.2-full:[4096, 2048]-fulldrop:0.4-activation_full:hard_sigmoid-lag:12-activation:linear",
          "filters:[256]-strides:[3]-kernel_size:[3]-drop:0.2-full:[256, 128, 64]-fulldrop:0.4-activation_full:['leaky', 0.1]-lag:18-activation:linear",
          "filters:[256]-strides:[3]-kernel_size:[7]-drop:0.2-full:[1024]-fulldrop:0.2-activation_full:['elu', 0.3]-lag:6-activation:linear",
          "filters:[64]-strides:[3]-kernel_size:[9]-drop:0.0-full:[32, 16, 8]-fulldrop:0.2-activation_full:['leaky', 0.2]-lag:18-activation:linear",
          "filters:[64]-strides:[3]-kernel_size:[7]-drop:0.4-full:[2048, 1024, 512]-fulldrop:0.1-activation_full:['leaky', 0.1]-lag:12-activation:linear",
          "filters:[1024]-strides:[3]-kernel_size:[3]-drop:0.1-full:[512]-fulldrop:0.0-activation_full:['elu', 0.4]-lag:12-activation:linear",
          "filters:[16]-strides:[2]-kernel_size:[3]-drop:0.5-full:[64, 32, 16]-fulldrop:0.3-activation_full:relu-lag:6-activation:linear",
          "filters:[16]-strides:[1]-kernel_size:[9]-drop:0.4-full:[32, 16]-fulldrop:0.0-activation_full:['prelu', 0.0]-lag:6-activation:linear"
         ],
         "type": "scatter",
         "x": [],
         "y": []
        },
        {
         "marker": {
          "size": 20
         },
         "mode": "markers",
         "name": "relu",
         "text": [
          "filters:[32]-strides:[1]-kernel_size:[1]-drop:0.5-full:[1024]-fulldrop:0.0-activation_full:['elu', 0.3]-lag:18-activation:relu",
          "filters:[128]-strides:[2]-kernel_size:[3]-drop:0.0-full:[4096, 2048]-fulldrop:0.1-activation_full:['leaky', 0.2]-lag:18-activation:relu",
          "filters:[128]-strides:[1]-kernel_size:[1]-drop:0.2-full:[512, 256]-fulldrop:0.5-activation_full:['elu', 0.3]-lag:18-activation:relu",
          "filters:[512]-strides:[3]-kernel_size:[5]-drop:0.0-full:[256]-fulldrop:0.4-activation_full:['leaky', 0.1]-lag:12-activation:relu",
          "filters:[256]-strides:[1]-kernel_size:[7]-drop:0.4-full:[1024, 512, 256]-fulldrop:0.2-activation_full:['elu', 0.4]-lag:18-activation:relu",
          "filters:[256]-strides:[1]-kernel_size:[5]-drop:0.4-full:[1024, 512, 256]-fulldrop:0.3-activation_full:['leaky', 0.2]-lag:12-activation:relu",
          "filters:[256]-strides:[1]-kernel_size:[5]-drop:0.3-full:[1024, 512, 256]-fulldrop:0.2-activation_full:['elu', 0.4]-lag:6-activation:relu",
          "filters:[256]-strides:[1]-kernel_size:[5]-drop:0.3-full:[256, 128]-fulldrop:0.2-activation_full:['elu', 0.4]-lag:6-activation:relu",
          "filters:[256]-strides:[3]-kernel_size:[9]-drop:0.4-full:[1024, 512]-fulldrop:0.1-activation_full:hard_sigmoid-lag:18-activation:relu",
          "filters:[256]-strides:[3]-kernel_size:[3]-drop:0.0-full:[1024, 512, 256]-fulldrop:0.3-activation_full:linear-lag:18-activation:relu",
          "filters:[64]-strides:[2]-kernel_size:[7]-drop:0.0-full:[4096, 2048, 1024]-fulldrop:0.0-activation_full:['prelu', 0.0]-lag:18-activation:relu",
          "filters:[64]-strides:[2]-kernel_size:[1]-drop:0.5-full:[4096, 2048, 1024]-fulldrop:0.5-activation_full:['leaky', 0.2]-lag:18-activation:relu",
          "filters:[64]-strides:[1]-kernel_size:[9]-drop:0.4-full:[2048]-fulldrop:0.3-activation_full:['elu', 0.3]-lag:6-activation:relu",
          "filters:[64]-strides:[1]-kernel_size:[7]-drop:0.5-full:[64, 32, 16]-fulldrop:0.1-activation_full:relu-lag:6-activation:relu",
          "filters:[64]-strides:[1]-kernel_size:[1]-drop:0.1-full:[256, 128]-fulldrop:0.3-activation_full:['prelu', 0.0]-lag:6-activation:relu",
          "filters:[64]-strides:[3]-kernel_size:[1]-drop:0.2-full:[1024, 512, 256]-fulldrop:0.3-activation_full:linear-lag:12-activation:relu",
          "filters:[1024]-strides:[2]-kernel_size:[3]-drop:0.0-full:[512, 256]-fulldrop:0.1-activation_full:['elu', 0.3]-lag:18-activation:relu",
          "filters:[1024]-strides:[1]-kernel_size:[3]-drop:0.4-full:[32, 16, 8]-fulldrop:0.5-activation_full:['elu', 0.4]-lag:18-activation:relu",
          "filters:[16]-strides:[3]-kernel_size:[3]-drop:0.2-full:[512, 256, 128]-fulldrop:0.3-activation_full:['prelu', 0.0]-lag:6-activation:relu",
          "filters:[16]-strides:[3]-kernel_size:[5]-drop:0.1-full:[256, 128, 64]-fulldrop:0.2-activation_full:linear-lag:18-activation:relu"
         ],
         "type": "scatter",
         "x": [],
         "y": []
        },
        {
         "marker": {
          "size": 20
         },
         "mode": "markers",
         "name": "tanh",
         "text": [
          "filters:[128]-strides:[2]-kernel_size:[5]-drop:0.4-full:[2048]-fulldrop:0.5-activation_full:['prelu', 0.0]-lag:12-activation:tanh",
          "filters:[64]-strides:[2]-kernel_size:[5]-drop:0.1-full:[512, 256]-fulldrop:0.0-activation_full:['elu', 0.3]-lag:6-activation:tanh"
         ],
         "type": "scatter",
         "x": [],
         "y": []
        }
       ],
       "layout": {
        "template": {
         "data": {
          "bar": [
           {
            "error_x": {
             "color": "#2a3f5f"
            },
            "error_y": {
             "color": "#2a3f5f"
            },
            "marker": {
             "line": {
              "color": "#E5ECF6",
              "width": 0.5
             },
             "pattern": {
              "fillmode": "overlay",
              "size": 10,
              "solidity": 0.2
             }
            },
            "type": "bar"
           }
          ],
          "barpolar": [
           {
            "marker": {
             "line": {
              "color": "#E5ECF6",
              "width": 0.5
             },
             "pattern": {
              "fillmode": "overlay",
              "size": 10,
              "solidity": 0.2
             }
            },
            "type": "barpolar"
           }
          ],
          "carpet": [
           {
            "aaxis": {
             "endlinecolor": "#2a3f5f",
             "gridcolor": "white",
             "linecolor": "white",
             "minorgridcolor": "white",
             "startlinecolor": "#2a3f5f"
            },
            "baxis": {
             "endlinecolor": "#2a3f5f",
             "gridcolor": "white",
             "linecolor": "white",
             "minorgridcolor": "white",
             "startlinecolor": "#2a3f5f"
            },
            "type": "carpet"
           }
          ],
          "choropleth": [
           {
            "colorbar": {
             "outlinewidth": 0,
             "ticks": ""
            },
            "type": "choropleth"
           }
          ],
          "contour": [
           {
            "colorbar": {
             "outlinewidth": 0,
             "ticks": ""
            },
            "colorscale": [
             [
              0,
              "#0d0887"
             ],
             [
              0.1111111111111111,
              "#46039f"
             ],
             [
              0.2222222222222222,
              "#7201a8"
             ],
             [
              0.3333333333333333,
              "#9c179e"
             ],
             [
              0.4444444444444444,
              "#bd3786"
             ],
             [
              0.5555555555555556,
              "#d8576b"
             ],
             [
              0.6666666666666666,
              "#ed7953"
             ],
             [
              0.7777777777777778,
              "#fb9f3a"
             ],
             [
              0.8888888888888888,
              "#fdca26"
             ],
             [
              1,
              "#f0f921"
             ]
            ],
            "type": "contour"
           }
          ],
          "contourcarpet": [
           {
            "colorbar": {
             "outlinewidth": 0,
             "ticks": ""
            },
            "type": "contourcarpet"
           }
          ],
          "heatmap": [
           {
            "colorbar": {
             "outlinewidth": 0,
             "ticks": ""
            },
            "colorscale": [
             [
              0,
              "#0d0887"
             ],
             [
              0.1111111111111111,
              "#46039f"
             ],
             [
              0.2222222222222222,
              "#7201a8"
             ],
             [
              0.3333333333333333,
              "#9c179e"
             ],
             [
              0.4444444444444444,
              "#bd3786"
             ],
             [
              0.5555555555555556,
              "#d8576b"
             ],
             [
              0.6666666666666666,
              "#ed7953"
             ],
             [
              0.7777777777777778,
              "#fb9f3a"
             ],
             [
              0.8888888888888888,
              "#fdca26"
             ],
             [
              1,
              "#f0f921"
             ]
            ],
            "type": "heatmap"
           }
          ],
          "heatmapgl": [
           {
            "colorbar": {
             "outlinewidth": 0,
             "ticks": ""
            },
            "colorscale": [
             [
              0,
              "#0d0887"
             ],
             [
              0.1111111111111111,
              "#46039f"
             ],
             [
              0.2222222222222222,
              "#7201a8"
             ],
             [
              0.3333333333333333,
              "#9c179e"
             ],
             [
              0.4444444444444444,
              "#bd3786"
             ],
             [
              0.5555555555555556,
              "#d8576b"
             ],
             [
              0.6666666666666666,
              "#ed7953"
             ],
             [
              0.7777777777777778,
              "#fb9f3a"
             ],
             [
              0.8888888888888888,
              "#fdca26"
             ],
             [
              1,
              "#f0f921"
             ]
            ],
            "type": "heatmapgl"
           }
          ],
          "histogram": [
           {
            "marker": {
             "pattern": {
              "fillmode": "overlay",
              "size": 10,
              "solidity": 0.2
             }
            },
            "type": "histogram"
           }
          ],
          "histogram2d": [
           {
            "colorbar": {
             "outlinewidth": 0,
             "ticks": ""
            },
            "colorscale": [
             [
              0,
              "#0d0887"
             ],
             [
              0.1111111111111111,
              "#46039f"
             ],
             [
              0.2222222222222222,
              "#7201a8"
             ],
             [
              0.3333333333333333,
              "#9c179e"
             ],
             [
              0.4444444444444444,
              "#bd3786"
             ],
             [
              0.5555555555555556,
              "#d8576b"
             ],
             [
              0.6666666666666666,
              "#ed7953"
             ],
             [
              0.7777777777777778,
              "#fb9f3a"
             ],
             [
              0.8888888888888888,
              "#fdca26"
             ],
             [
              1,
              "#f0f921"
             ]
            ],
            "type": "histogram2d"
           }
          ],
          "histogram2dcontour": [
           {
            "colorbar": {
             "outlinewidth": 0,
             "ticks": ""
            },
            "colorscale": [
             [
              0,
              "#0d0887"
             ],
             [
              0.1111111111111111,
              "#46039f"
             ],
             [
              0.2222222222222222,
              "#7201a8"
             ],
             [
              0.3333333333333333,
              "#9c179e"
             ],
             [
              0.4444444444444444,
              "#bd3786"
             ],
             [
              0.5555555555555556,
              "#d8576b"
             ],
             [
              0.6666666666666666,
              "#ed7953"
             ],
             [
              0.7777777777777778,
              "#fb9f3a"
             ],
             [
              0.8888888888888888,
              "#fdca26"
             ],
             [
              1,
              "#f0f921"
             ]
            ],
            "type": "histogram2dcontour"
           }
          ],
          "mesh3d": [
           {
            "colorbar": {
             "outlinewidth": 0,
             "ticks": ""
            },
            "type": "mesh3d"
           }
          ],
          "parcoords": [
           {
            "line": {
             "colorbar": {
              "outlinewidth": 0,
              "ticks": ""
             }
            },
            "type": "parcoords"
           }
          ],
          "pie": [
           {
            "automargin": true,
            "type": "pie"
           }
          ],
          "scatter": [
           {
            "marker": {
             "colorbar": {
              "outlinewidth": 0,
              "ticks": ""
             }
            },
            "type": "scatter"
           }
          ],
          "scatter3d": [
           {
            "line": {
             "colorbar": {
              "outlinewidth": 0,
              "ticks": ""
             }
            },
            "marker": {
             "colorbar": {
              "outlinewidth": 0,
              "ticks": ""
             }
            },
            "type": "scatter3d"
           }
          ],
          "scattercarpet": [
           {
            "marker": {
             "colorbar": {
              "outlinewidth": 0,
              "ticks": ""
             }
            },
            "type": "scattercarpet"
           }
          ],
          "scattergeo": [
           {
            "marker": {
             "colorbar": {
              "outlinewidth": 0,
              "ticks": ""
             }
            },
            "type": "scattergeo"
           }
          ],
          "scattergl": [
           {
            "marker": {
             "colorbar": {
              "outlinewidth": 0,
              "ticks": ""
             }
            },
            "type": "scattergl"
           }
          ],
          "scattermapbox": [
           {
            "marker": {
             "colorbar": {
              "outlinewidth": 0,
              "ticks": ""
             }
            },
            "type": "scattermapbox"
           }
          ],
          "scatterpolar": [
           {
            "marker": {
             "colorbar": {
              "outlinewidth": 0,
              "ticks": ""
             }
            },
            "type": "scatterpolar"
           }
          ],
          "scatterpolargl": [
           {
            "marker": {
             "colorbar": {
              "outlinewidth": 0,
              "ticks": ""
             }
            },
            "type": "scatterpolargl"
           }
          ],
          "scatterternary": [
           {
            "marker": {
             "colorbar": {
              "outlinewidth": 0,
              "ticks": ""
             }
            },
            "type": "scatterternary"
           }
          ],
          "surface": [
           {
            "colorbar": {
             "outlinewidth": 0,
             "ticks": ""
            },
            "colorscale": [
             [
              0,
              "#0d0887"
             ],
             [
              0.1111111111111111,
              "#46039f"
             ],
             [
              0.2222222222222222,
              "#7201a8"
             ],
             [
              0.3333333333333333,
              "#9c179e"
             ],
             [
              0.4444444444444444,
              "#bd3786"
             ],
             [
              0.5555555555555556,
              "#d8576b"
             ],
             [
              0.6666666666666666,
              "#ed7953"
             ],
             [
              0.7777777777777778,
              "#fb9f3a"
             ],
             [
              0.8888888888888888,
              "#fdca26"
             ],
             [
              1,
              "#f0f921"
             ]
            ],
            "type": "surface"
           }
          ],
          "table": [
           {
            "cells": {
             "fill": {
              "color": "#EBF0F8"
             },
             "line": {
              "color": "white"
             }
            },
            "header": {
             "fill": {
              "color": "#C8D4E3"
             },
             "line": {
              "color": "white"
             }
            },
            "type": "table"
           }
          ]
         },
         "layout": {
          "annotationdefaults": {
           "arrowcolor": "#2a3f5f",
           "arrowhead": 0,
           "arrowwidth": 1
          },
          "autotypenumbers": "strict",
          "coloraxis": {
           "colorbar": {
            "outlinewidth": 0,
            "ticks": ""
           }
          },
          "colorscale": {
           "diverging": [
            [
             0,
             "#8e0152"
            ],
            [
             0.1,
             "#c51b7d"
            ],
            [
             0.2,
             "#de77ae"
            ],
            [
             0.3,
             "#f1b6da"
            ],
            [
             0.4,
             "#fde0ef"
            ],
            [
             0.5,
             "#f7f7f7"
            ],
            [
             0.6,
             "#e6f5d0"
            ],
            [
             0.7,
             "#b8e186"
            ],
            [
             0.8,
             "#7fbc41"
            ],
            [
             0.9,
             "#4d9221"
            ],
            [
             1,
             "#276419"
            ]
           ],
           "sequential": [
            [
             0,
             "#0d0887"
            ],
            [
             0.1111111111111111,
             "#46039f"
            ],
            [
             0.2222222222222222,
             "#7201a8"
            ],
            [
             0.3333333333333333,
             "#9c179e"
            ],
            [
             0.4444444444444444,
             "#bd3786"
            ],
            [
             0.5555555555555556,
             "#d8576b"
            ],
            [
             0.6666666666666666,
             "#ed7953"
            ],
            [
             0.7777777777777778,
             "#fb9f3a"
            ],
            [
             0.8888888888888888,
             "#fdca26"
            ],
            [
             1,
             "#f0f921"
            ]
           ],
           "sequentialminus": [
            [
             0,
             "#0d0887"
            ],
            [
             0.1111111111111111,
             "#46039f"
            ],
            [
             0.2222222222222222,
             "#7201a8"
            ],
            [
             0.3333333333333333,
             "#9c179e"
            ],
            [
             0.4444444444444444,
             "#bd3786"
            ],
            [
             0.5555555555555556,
             "#d8576b"
            ],
            [
             0.6666666666666666,
             "#ed7953"
            ],
            [
             0.7777777777777778,
             "#fb9f3a"
            ],
            [
             0.8888888888888888,
             "#fdca26"
            ],
            [
             1,
             "#f0f921"
            ]
           ]
          },
          "colorway": [
           "#636efa",
           "#EF553B",
           "#00cc96",
           "#ab63fa",
           "#FFA15A",
           "#19d3f3",
           "#FF6692",
           "#B6E880",
           "#FF97FF",
           "#FECB52"
          ],
          "font": {
           "color": "#2a3f5f"
          },
          "geo": {
           "bgcolor": "white",
           "lakecolor": "white",
           "landcolor": "#E5ECF6",
           "showlakes": true,
           "showland": true,
           "subunitcolor": "white"
          },
          "hoverlabel": {
           "align": "left"
          },
          "hovermode": "closest",
          "mapbox": {
           "style": "light"
          },
          "paper_bgcolor": "white",
          "plot_bgcolor": "#E5ECF6",
          "polar": {
           "angularaxis": {
            "gridcolor": "white",
            "linecolor": "white",
            "ticks": ""
           },
           "bgcolor": "#E5ECF6",
           "radialaxis": {
            "gridcolor": "white",
            "linecolor": "white",
            "ticks": ""
           }
          },
          "scene": {
           "xaxis": {
            "backgroundcolor": "#E5ECF6",
            "gridcolor": "white",
            "gridwidth": 2,
            "linecolor": "white",
            "showbackground": true,
            "ticks": "",
            "zerolinecolor": "white"
           },
           "yaxis": {
            "backgroundcolor": "#E5ECF6",
            "gridcolor": "white",
            "gridwidth": 2,
            "linecolor": "white",
            "showbackground": true,
            "ticks": "",
            "zerolinecolor": "white"
           },
           "zaxis": {
            "backgroundcolor": "#E5ECF6",
            "gridcolor": "white",
            "gridwidth": 2,
            "linecolor": "white",
            "showbackground": true,
            "ticks": "",
            "zerolinecolor": "white"
           }
          },
          "shapedefaults": {
           "line": {
            "color": "#2a3f5f"
           }
          },
          "ternary": {
           "aaxis": {
            "gridcolor": "white",
            "linecolor": "white",
            "ticks": ""
           },
           "baxis": {
            "gridcolor": "white",
            "linecolor": "white",
            "ticks": ""
           },
           "bgcolor": "#E5ECF6",
           "caxis": {
            "gridcolor": "white",
            "linecolor": "white",
            "ticks": ""
           }
          },
          "title": {
           "x": 0.05
          },
          "xaxis": {
           "automargin": true,
           "gridcolor": "white",
           "linecolor": "white",
           "ticks": "",
           "title": {
            "standoff": 15
           },
           "zerolinecolor": "white",
           "zerolinewidth": 2
          },
          "yaxis": {
           "automargin": true,
           "gridcolor": "white",
           "linecolor": "white",
           "ticks": "",
           "title": {
            "standoff": 15
           },
           "zerolinecolor": "white",
           "zerolinewidth": 2
          }
         }
        }
       }
      },
      "text/html": [
       "<div>                            <div id=\"29cc692e-b90d-4d67-9c9e-5addb1f70864\" class=\"plotly-graph-div\" style=\"height:525px; width:100%;\"></div>            <script type=\"text/javascript\">                require([\"plotly\"], function(Plotly) {                    window.PLOTLYENV=window.PLOTLYENV || {};                                    if (document.getElementById(\"29cc692e-b90d-4d67-9c9e-5addb1f70864\")) {                    Plotly.newPlot(                        \"29cc692e-b90d-4d67-9c9e-5addb1f70864\",                        [{\"marker\":{\"size\":20},\"mode\":\"markers\",\"name\":\"['elu', 0.3]\",\"text\":[\"filters:[32]-strides:[2]-kernel_size:[9]-drop:0.2-full:[512, 256]-fulldrop:0.3-activation_full:['elu', 0.4]-lag:18-activation:['elu', 0.3]\",\"filters:[32]-strides:[3]-kernel_size:[9]-drop:0.3-full:[32, 16]-fulldrop:0.1-activation_full:['elu', 0.4]-lag:18-activation:['elu', 0.3]\",\"filters:[128]-strides:[1]-kernel_size:[7]-drop:0.2-full:[512]-fulldrop:0.2-activation_full:relu-lag:18-activation:['elu', 0.3]\",\"filters:[512]-strides:[2]-kernel_size:[7]-drop:0.3-full:[1024, 512]-fulldrop:0.2-activation_full:relu-lag:6-activation:['elu', 0.3]\",\"filters:[512]-strides:[1]-kernel_size:[9]-drop:0.5-full:[256]-fulldrop:0.0-activation_full:linear-lag:6-activation:['elu', 0.3]\",\"filters:[256]-strides:[2]-kernel_size:[1]-drop:0.3-full:[64, 32, 16]-fulldrop:0.0-activation_full:relu-lag:18-activation:['elu', 0.3]\",\"filters:[256]-strides:[1]-kernel_size:[5]-drop:0.3-full:[256, 128]-fulldrop:0.2-activation_full:['elu', 0.4]-lag:6-activation:['elu', 0.3]\",\"filters:[64]-strides:[1]-kernel_size:[9]-drop:0.1-full:[64, 32]-fulldrop:0.5-activation_full:['prelu', 0.0]-lag:6-activation:['elu', 0.3]\",\"filters:[64]-strides:[3]-kernel_size:[7]-drop:0.3-full:[1024, 512, 256]-fulldrop:0.2-activation_full:['leaky', 0.1]-lag:12-activation:['elu', 0.3]\",\"filters:[1024]-strides:[2]-kernel_size:[7]-drop:0.0-full:[64, 32]-fulldrop:0.4-activation_full:['prelu', 0.0]-lag:6-activation:['elu', 0.3]\",\"filters:[1024]-strides:[1]-kernel_size:[7]-drop:0.4-full:[32, 16]-fulldrop:0.2-activation_full:relu-lag:12-activation:['elu', 0.3]\",\"filters:[1024]-strides:[1]-kernel_size:[5]-drop:0.1-full:[1024, 512]-fulldrop:0.4-activation_full:['prelu', 0.0]-lag:6-activation:['elu', 0.3]\"],\"type\":\"scatter\",\"x\":[7.170901984339493],\"y\":[300]},{\"marker\":{\"size\":20},\"mode\":\"markers\",\"name\":\"['elu', 0.4]\",\"text\":[\"filters:[32]-strides:[2]-kernel_size:[9]-drop:0.5-full:[512]-fulldrop:0.1-activation_full:['leaky', 0.2]-lag:18-activation:['elu', 0.4]\",\"filters:[32]-strides:[2]-kernel_size:[3]-drop:0.2-full:[512, 256]-fulldrop:0.2-activation_full:tanh-lag:6-activation:['elu', 0.4]\",\"filters:[32]-strides:[1]-kernel_size:[5]-drop:0.5-full:[256, 128]-fulldrop:0.2-activation_full:['elu', 0.4]-lag:6-activation:['elu', 0.4]\",\"filters:[32]-strides:[1]-kernel_size:[5]-drop:0.4-full:[256, 128]-fulldrop:0.2-activation_full:['elu', 0.4]-lag:6-activation:['elu', 0.4]\",\"filters:[32]-strides:[1]-kernel_size:[5]-drop:0.4-full:[256, 128]-fulldrop:0.2-activation_full:['elu', 0.3]-lag:6-activation:['elu', 0.4]\",\"filters:[32]-strides:[3]-kernel_size:[5]-drop:0.4-full:[128, 64]-fulldrop:0.3-activation_full:relu-lag:6-activation:['elu', 0.4]\",\"filters:[128]-strides:[2]-kernel_size:[5]-drop:0.4-full:[256]-fulldrop:0.3-activation_full:['leaky', 0.1]-lag:12-activation:['elu', 0.4]\",\"filters:[128]-strides:[1]-kernel_size:[9]-drop:0.3-full:[512, 256]-fulldrop:0.2-activation_full:['elu', 0.4]-lag:6-activation:['elu', 0.4]\",\"filters:[128]-strides:[1]-kernel_size:[9]-drop:0.3-full:[256, 128]-fulldrop:0.2-activation_full:['elu', 0.4]-lag:6-activation:['elu', 0.4]\",\"filters:[128]-strides:[1]-kernel_size:[9]-drop:0.3-full:[256, 128]-fulldrop:0.2-activation_full:['elu', 0.3]-lag:6-activation:['elu', 0.4]\",\"filters:[128]-strides:[1]-kernel_size:[3]-drop:0.0-full:[1024]-fulldrop:0.5-activation_full:['leaky', 0.1]-lag:12-activation:['elu', 0.4]\",\"filters:[128]-strides:[1]-kernel_size:[3]-drop:0.0-full:[1024]-fulldrop:0.4-activation_full:['leaky', 0.1]-lag:12-activation:['elu', 0.4]\",\"filters:[128]-strides:[1]-kernel_size:[7]-drop:0.4-full:[256, 128]-fulldrop:0.2-activation_full:['elu', 0.3]-lag:6-activation:['elu', 0.4]\",\"filters:[128]-strides:[1]-kernel_size:[7]-drop:0.3-full:[512, 256, 128]-fulldrop:0.4-activation_full:['leaky', 0.2]-lag:6-activation:['elu', 0.4]\",\"filters:[128]-strides:[1]-kernel_size:[7]-drop:0.3-full:[512, 256]-fulldrop:0.2-activation_full:['elu', 0.4]-lag:6-activation:['elu', 0.4]\",\"filters:[128]-strides:[1]-kernel_size:[7]-drop:0.3-full:[256, 128]-fulldrop:0.2-activation_full:['elu', 0.4]-lag:6-activation:['elu', 0.4]\",\"filters:[128]-strides:[1]-kernel_size:[7]-drop:0.3-full:[256, 128]-fulldrop:0.2-activation_full:['elu', 0.3]-lag:6-activation:['elu', 0.4]\",\"filters:[128]-strides:[1]-kernel_size:[1]-drop:0.2-full:[4096, 2048, 1024]-fulldrop:0.3-activation_full:hard_sigmoid-lag:6-activation:['elu', 0.4]\",\"filters:[128]-strides:[1]-kernel_size:[5]-drop:0.5-full:[256, 128]-fulldrop:0.2-activation_full:['elu', 0.4]-lag:6-activation:['elu', 0.4]\",\"filters:[128]-strides:[1]-kernel_size:[5]-drop:0.4-full:[512, 256]-fulldrop:0.2-activation_full:['elu', 0.4]-lag:6-activation:['elu', 0.4]\",\"filters:[128]-strides:[1]-kernel_size:[5]-drop:0.4-full:[256, 128]-fulldrop:0.2-activation_full:['elu', 0.4]-lag:18-activation:['elu', 0.4]\",\"filters:[128]-strides:[1]-kernel_size:[5]-drop:0.4-full:[256, 128]-fulldrop:0.2-activation_full:['elu', 0.4]-lag:6-activation:['elu', 0.4]\",\"filters:[128]-strides:[1]-kernel_size:[5]-drop:0.4-full:[256, 128]-fulldrop:0.2-activation_full:['elu', 0.3]-lag:6-activation:['elu', 0.4]\",\"filters:[128]-strides:[1]-kernel_size:[5]-drop:0.3-full:[512, 256]-fulldrop:0.2-activation_full:['elu', 0.4]-lag:6-activation:['elu', 0.4]\",\"filters:[128]-strides:[1]-kernel_size:[5]-drop:0.3-full:[256, 128]-fulldrop:0.2-activation_full:['elu', 0.4]-lag:6-activation:['elu', 0.4]\",\"filters:[128]-strides:[1]-kernel_size:[5]-drop:0.3-full:[64, 32]-fulldrop:0.2-activation_full:['elu', 0.4]-lag:6-activation:['elu', 0.4]\",\"filters:[128]-strides:[1]-kernel_size:[5]-drop:0.3-full:[512, 256]-fulldrop:0.2-activation_full:['elu', 0.3]-lag:6-activation:['elu', 0.4]\",\"filters:[128]-strides:[1]-kernel_size:[5]-drop:0.3-full:[256, 128]-fulldrop:0.2-activation_full:['elu', 0.3]-lag:6-activation:['elu', 0.4]\",\"filters:[128]-strides:[3]-kernel_size:[7]-drop:0.1-full:[128, 64, 32]-fulldrop:0.0-activation_full:linear-lag:12-activation:['elu', 0.4]\",\"filters:[128]-strides:[3]-kernel_size:[1]-drop:0.4-full:[4096, 2048, 1024]-fulldrop:0.0-activation_full:['leaky', 0.1]-lag:6-activation:['elu', 0.4]\",\"filters:[512]-strides:[1]-kernel_size:[1]-drop:0.5-full:[1024, 512, 256]-fulldrop:0.5-activation_full:['leaky', 0.1]-lag:6-activation:['elu', 0.4]\",\"filters:[512]-strides:[1]-kernel_size:[5]-drop:0.5-full:[1024]-fulldrop:0.2-activation_full:['leaky', 0.1]-lag:6-activation:['elu', 0.4]\",\"filters:[512]-strides:[1]-kernel_size:[5]-drop:0.2-full:[2048, 1024, 512]-fulldrop:0.0-activation_full:['leaky', 0.2]-lag:6-activation:['elu', 0.4]\",\"filters:[512]-strides:[1]-kernel_size:[5]-drop:0.3-full:[512, 256]-fulldrop:0.2-activation_full:['elu', 0.4]-lag:6-activation:['elu', 0.4]\",\"filters:[512]-strides:[1]-kernel_size:[5]-drop:0.3-full:[256, 128]-fulldrop:0.2-activation_full:['elu', 0.4]-lag:6-activation:['elu', 0.4]\",\"filters:[256]-strides:[2]-kernel_size:[9]-drop:0.2-full:[4096]-fulldrop:0.3-activation_full:linear-lag:18-activation:['elu', 0.4]\",\"filters:[256]-strides:[2]-kernel_size:[9]-drop:0.0-full:[32, 16, 8]-fulldrop:0.1-activation_full:linear-lag:6-activation:['elu', 0.4]\",\"filters:[256]-strides:[1]-kernel_size:[9]-drop:0.1-full:[128]-fulldrop:0.4-activation_full:['prelu', 0.0]-lag:6-activation:['elu', 0.4]\",\"filters:[256]-strides:[1]-kernel_size:[9]-drop:0.2-full:[1024]-fulldrop:0.3-activation_full:['leaky', 0.1]-lag:6-activation:['elu', 0.4]\",\"filters:[256]-strides:[1]-kernel_size:[9]-drop:0.4-full:[256, 128]-fulldrop:0.2-activation_full:['elu', 0.3]-lag:6-activation:['elu', 0.4]\",\"filters:[256]-strides:[1]-kernel_size:[9]-drop:0.3-full:[512, 256]-fulldrop:0.2-activation_full:['elu', 0.4]-lag:6-activation:['elu', 0.4]\",\"filters:[256]-strides:[1]-kernel_size:[9]-drop:0.3-full:[256, 128]-fulldrop:0.2-activation_full:['elu', 0.4]-lag:6-activation:['elu', 0.4]\",\"filters:[256]-strides:[1]-kernel_size:[3]-drop:0.2-full:[32]-fulldrop:0.1-activation_full:['leaky', 0.1]-lag:6-activation:['elu', 0.4]\",\"filters:[256]-strides:[1]-kernel_size:[3]-drop:0.2-full:[32]-fulldrop:0.4-activation_full:['leaky', 0.1]-lag:6-activation:['elu', 0.4]\",\"filters:[256]-strides:[1]-kernel_size:[7]-drop:0.4-full:[512]-fulldrop:0.2-activation_full:['elu', 0.3]-lag:6-activation:['elu', 0.4]\",\"filters:[256]-strides:[1]-kernel_size:[7]-drop:0.4-full:[256, 128]-fulldrop:0.2-activation_full:['elu', 0.3]-lag:6-activation:['elu', 0.4]\",\"filters:[256]-strides:[1]-kernel_size:[7]-drop:0.4-full:[256, 128]-fulldrop:0.2-activation_full:['elu', 0.3]-lag:12-activation:['elu', 0.4]\",\"filters:[256]-strides:[1]-kernel_size:[7]-drop:0.3-full:[512, 256]-fulldrop:0.2-activation_full:['elu', 0.4]-lag:6-activation:['elu', 0.4]\",\"filters:[256]-strides:[1]-kernel_size:[7]-drop:0.3-full:[256, 128]-fulldrop:0.2-activation_full:['elu', 0.4]-lag:6-activation:['elu', 0.4]\",\"filters:[256]-strides:[1]-kernel_size:[7]-drop:0.3-full:[256, 128]-fulldrop:0.2-activation_full:['elu', 0.3]-lag:6-activation:['elu', 0.4]\",\"filters:[256]-strides:[1]-kernel_size:[1]-drop:0.4-full:[256, 128]-fulldrop:0.2-activation_full:['elu', 0.3]-lag:6-activation:['elu', 0.4]\",\"filters:[256]-strides:[1]-kernel_size:[5]-drop:0.5-full:[256, 128]-fulldrop:0.2-activation_full:['elu', 0.4]-lag:6-activation:['elu', 0.4]\",\"filters:[256]-strides:[1]-kernel_size:[5]-drop:0.4-full:[512, 256]-fulldrop:0.2-activation_full:['elu', 0.4]-lag:6-activation:['elu', 0.4]\",\"filters:[256]-strides:[1]-kernel_size:[5]-drop:0.4-full:[256, 128]-fulldrop:0.2-activation_full:['elu', 0.4]-lag:18-activation:['elu', 0.4]\",\"filters:[256]-strides:[1]-kernel_size:[5]-drop:0.4-full:[256, 128]-fulldrop:0.2-activation_full:['elu', 0.4]-lag:6-activation:['elu', 0.4]\",\"filters:[256]-strides:[1]-kernel_size:[5]-drop:0.4-full:[256, 128]-fulldrop:0.2-activation_full:['elu', 0.3]-lag:6-activation:['elu', 0.4]\",\"filters:[256]-strides:[1]-kernel_size:[5]-drop:0.3-full:[512, 256]-fulldrop:0.2-activation_full:['elu', 0.4]-lag:6-activation:['elu', 0.4]\",\"filters:[256]-strides:[1]-kernel_size:[5]-drop:0.3-full:[1024, 512, 256]-fulldrop:0.2-activation_full:['elu', 0.4]-lag:6-activation:['elu', 0.4]\",\"filters:[256]-strides:[1]-kernel_size:[5]-drop:0.3-full:[128, 64, 32]-fulldrop:0.2-activation_full:['elu', 0.4]-lag:6-activation:['elu', 0.4]\",\"filters:[256]-strides:[1]-kernel_size:[5]-drop:0.3-full:[256, 128]-fulldrop:0.1-activation_full:['elu', 0.4]-lag:6-activation:['elu', 0.4]\",\"filters:[256]-strides:[1]-kernel_size:[5]-drop:0.3-full:[256, 128]-fulldrop:0.0-activation_full:['elu', 0.4]-lag:6-activation:['elu', 0.4]\",\"filters:[256]-strides:[1]-kernel_size:[5]-drop:0.3-full:[256, 128]-fulldrop:0.3-activation_full:['elu', 0.4]-lag:6-activation:['elu', 0.4]\",\"filters:[256]-strides:[1]-kernel_size:[5]-drop:0.3-full:[256, 128]-fulldrop:0.2-activation_full:['elu', 0.4]-lag:6-activation:['elu', 0.4]\",\"filters:[256]-strides:[1]-kernel_size:[5]-drop:0.3-full:[256, 128]-fulldrop:0.5-activation_full:['elu', 0.4]-lag:6-activation:['elu', 0.4]\",\"filters:[256]-strides:[1]-kernel_size:[5]-drop:0.3-full:[2048, 1024, 512]-fulldrop:0.2-activation_full:['elu', 0.4]-lag:6-activation:['elu', 0.4]\",\"filters:[256]-strides:[1]-kernel_size:[5]-drop:0.3-full:[64, 32, 16]-fulldrop:0.2-activation_full:['elu', 0.4]-lag:6-activation:['elu', 0.4]\",\"filters:[256]-strides:[1]-kernel_size:[5]-drop:0.3-full:[4096, 2048]-fulldrop:0.2-activation_full:['elu', 0.4]-lag:6-activation:['elu', 0.4]\",\"filters:[256]-strides:[1]-kernel_size:[5]-drop:0.3-full:[32, 16, 8]-fulldrop:0.2-activation_full:['elu', 0.4]-lag:6-activation:['elu', 0.4]\",\"filters:[256]-strides:[1]-kernel_size:[5]-drop:0.3-full:[512, 256, 128]-fulldrop:0.2-activation_full:['elu', 0.4]-lag:6-activation:['elu', 0.4]\",\"filters:[256]-strides:[1]-kernel_size:[5]-drop:0.3-full:[4096, 2048, 1024]-fulldrop:0.2-activation_full:['elu', 0.4]-lag:6-activation:['elu', 0.4]\",\"filters:[256]-strides:[1]-kernel_size:[5]-drop:0.3-full:[256, 128, 64]-fulldrop:0.2-activation_full:['elu', 0.4]-lag:6-activation:['elu', 0.4]\",\"filters:[256]-strides:[1]-kernel_size:[5]-drop:0.3-full:[512, 256]-fulldrop:0.2-activation_full:['elu', 0.3]-lag:6-activation:['elu', 0.4]\",\"filters:[256]-strides:[1]-kernel_size:[5]-drop:0.3-full:[256, 128]-fulldrop:0.2-activation_full:['elu', 0.3]-lag:6-activation:['elu', 0.4]\",\"filters:[256]-strides:[1]-kernel_size:[5]-drop:0.3-full:[256, 128]-fulldrop:0.2-activation_full:linear-lag:6-activation:['elu', 0.4]\",\"filters:[256]-strides:[3]-kernel_size:[3]-drop:0.5-full:[128, 64, 32]-fulldrop:0.3-activation_full:linear-lag:6-activation:['elu', 0.4]\",\"filters:[64]-strides:[1]-kernel_size:[5]-drop:0.3-full:[256, 128]-fulldrop:0.2-activation_full:['elu', 0.4]-lag:6-activation:['elu', 0.4]\",\"filters:[1024]-strides:[1]-kernel_size:[9]-drop:0.2-full:[512, 256]-fulldrop:0.1-activation_full:['elu', 0.4]-lag:12-activation:['elu', 0.4]\",\"filters:[1024]-strides:[1]-kernel_size:[5]-drop:0.5-full:[256, 128]-fulldrop:0.2-activation_full:['elu', 0.4]-lag:6-activation:['elu', 0.4]\",\"filters:[1024]-strides:[1]-kernel_size:[5]-drop:0.4-full:[256, 128, 64]-fulldrop:0.3-activation_full:['elu', 0.3]-lag:18-activation:['elu', 0.4]\",\"filters:[1024]-strides:[1]-kernel_size:[5]-drop:0.3-full:[256, 128]-fulldrop:0.2-activation_full:['elu', 0.4]-lag:6-activation:['elu', 0.4]\",\"filters:[1024]-strides:[1]-kernel_size:[5]-drop:0.0-full:[2048, 1024, 512]-fulldrop:0.2-activation_full:['elu', 0.3]-lag:18-activation:['elu', 0.4]\",\"filters:[16]-strides:[1]-kernel_size:[5]-drop:0.5-full:[256, 128]-fulldrop:0.2-activation_full:['elu', 0.4]-lag:6-activation:['elu', 0.4]\",\"filters:[16]-strides:[1]-kernel_size:[5]-drop:0.4-full:[256, 128]-fulldrop:0.2-activation_full:['elu', 0.4]-lag:6-activation:['elu', 0.4]\"],\"type\":\"scatter\",\"x\":[7.1297597398547,7.179893935616236,7.121020753628824,7.173432672465291,7.186972513782271,7.181294912004719,7.117023657972756,7.120024702910125,7.187118756205159,7.185357220646151,7.178568297142427,7.195007192255751,7.184798782732892,7.119284248529651,7.180236304322619,7.109931932777832,7.169500492511916,7.153498718687478,7.171937180432014,7.177593280073462,7.121575453435991,7.167818291154836,7.16944520742412,7.119641341661471,7.121825279914471,7.119739699491183,7.114915890873138,7.176657193052169,7.184865536221633,7.18340475765933,7.175651716700263,7.184678399470364,7.151060289409124,7.168525842549754,7.16378848760163,7.178885890681357,7.112298654893042,7.110503188420023,7.168859308602873,7.169093944913147,7.113539049788788,7.1172942378332555,7.178868699923252,7.1532851918840725],\"y\":[150,300,150,300,300,300,150,150,300,300,300,300,300,150,300,150,300,300,300,300,150,300,300,200,150,150,150,300,300,300,300,300,300,300,300,300,200,200,300,300,150,150,300,300]},{\"marker\":{\"size\":20},\"mode\":\"markers\",\"name\":\"['leaky', 0.1]\",\"text\":[\"filters:[32]-strides:[2]-kernel_size:[7]-drop:0.2-full:[2048]-fulldrop:0.5-activation_full:hard_sigmoid-lag:18-activation:['leaky', 0.1]\",\"filters:[32]-strides:[1]-kernel_size:[7]-drop:0.4-full:[128, 64, 32]-fulldrop:0.1-activation_full:hard_sigmoid-lag:6-activation:['leaky', 0.1]\",\"filters:[32]-strides:[1]-kernel_size:[1]-drop:0.5-full:[4096]-fulldrop:0.3-activation_full:['prelu', 0.0]-lag:6-activation:['leaky', 0.1]\",\"filters:[32]-strides:[3]-kernel_size:[3]-drop:0.2-full:[512]-fulldrop:0.3-activation_full:['prelu', 0.0]-lag:12-activation:['leaky', 0.1]\",\"filters:[32]-strides:[3]-kernel_size:[7]-drop:0.0-full:[256]-fulldrop:0.4-activation_full:hard_sigmoid-lag:12-activation:['leaky', 0.1]\",\"filters:[128]-strides:[2]-kernel_size:[5]-drop:0.3-full:[32]-fulldrop:0.3-activation_full:['prelu', 0.0]-lag:6-activation:['leaky', 0.1]\",\"filters:[128]-strides:[1]-kernel_size:[3]-drop:0.1-full:[2048, 1024]-fulldrop:0.2-activation_full:['elu', 0.4]-lag:18-activation:['leaky', 0.1]\",\"filters:[512]-strides:[1]-kernel_size:[9]-drop:0.5-full:[1024]-fulldrop:0.3-activation_full:hard_sigmoid-lag:12-activation:['leaky', 0.1]\",\"filters:[512]-strides:[3]-kernel_size:[3]-drop:0.5-full:[2048, 1024, 512]-fulldrop:0.2-activation_full:hard_sigmoid-lag:18-activation:['leaky', 0.1]\",\"filters:[512]-strides:[3]-kernel_size:[7]-drop:0.3-full:[128, 64, 32]-fulldrop:0.1-activation_full:['leaky', 0.2]-lag:18-activation:['leaky', 0.1]\",\"filters:[512]-strides:[3]-kernel_size:[5]-drop:0.0-full:[128, 64, 32]-fulldrop:0.4-activation_full:hard_sigmoid-lag:12-activation:['leaky', 0.1]\",\"filters:[256]-strides:[1]-kernel_size:[9]-drop:0.1-full:[32]-fulldrop:0.4-activation_full:['leaky', 0.1]-lag:6-activation:['leaky', 0.1]\",\"filters:[256]-strides:[1]-kernel_size:[9]-drop:0.1-full:[128]-fulldrop:0.5-activation_full:['leaky', 0.1]-lag:6-activation:['leaky', 0.1]\",\"filters:[256]-strides:[1]-kernel_size:[9]-drop:0.1-full:[128]-fulldrop:0.4-activation_full:['leaky', 0.1]-lag:6-activation:['leaky', 0.1]\",\"filters:[256]-strides:[1]-kernel_size:[9]-drop:0.1-full:[128]-fulldrop:0.4-activation_full:['elu', 0.3]-lag:12-activation:['leaky', 0.1]\",\"filters:[256]-strides:[1]-kernel_size:[9]-drop:0.1-full:[128]-fulldrop:0.4-activation_full:relu-lag:6-activation:['leaky', 0.1]\",\"filters:[256]-strides:[1]-kernel_size:[9]-drop:0.1-full:[256]-fulldrop:0.4-activation_full:['prelu', 0.0]-lag:6-activation:['leaky', 0.1]\",\"filters:[256]-strides:[1]-kernel_size:[9]-drop:0.1-full:[128]-fulldrop:0.3-activation_full:['prelu', 0.0]-lag:6-activation:['leaky', 0.1]\",\"filters:[256]-strides:[1]-kernel_size:[9]-drop:0.1-full:[128]-fulldrop:0.3-activation_full:['prelu', 0.0]-lag:12-activation:['leaky', 0.1]\",\"filters:[256]-strides:[1]-kernel_size:[9]-drop:0.1-full:[128]-fulldrop:0.4-activation_full:['prelu', 0.0]-lag:6-activation:['leaky', 0.1]\",\"filters:[256]-strides:[1]-kernel_size:[9]-drop:0.1-full:[128]-fulldrop:0.4-activation_full:['prelu', 0.0]-lag:12-activation:['leaky', 0.1]\",\"filters:[256]-strides:[1]-kernel_size:[9]-drop:0.3-full:[1024]-fulldrop:0.4-activation_full:['leaky', 0.2]-lag:6-activation:['leaky', 0.1]\",\"filters:[256]-strides:[1]-kernel_size:[3]-drop:0.1-full:[128]-fulldrop:0.4-activation_full:relu-lag:6-activation:['leaky', 0.1]\",\"filters:[256]-strides:[1]-kernel_size:[7]-drop:0.1-full:[128]-fulldrop:0.4-activation_full:['prelu', 0.0]-lag:6-activation:['leaky', 0.1]\",\"filters:[256]-strides:[1]-kernel_size:[5]-drop:0.1-full:[128]-fulldrop:0.4-activation_full:['prelu', 0.0]-lag:6-activation:['leaky', 0.1]\",\"filters:[64]-strides:[2]-kernel_size:[9]-drop:0.5-full:[128]-fulldrop:0.5-activation_full:relu-lag:12-activation:['leaky', 0.1]\",\"filters:[64]-strides:[3]-kernel_size:[5]-drop:0.3-full:[64, 32]-fulldrop:0.3-activation_full:['elu', 0.3]-lag:6-activation:['leaky', 0.1]\",\"filters:[1024]-strides:[1]-kernel_size:[7]-drop:0.5-full:[32, 16]-fulldrop:0.4-activation_full:hard_sigmoid-lag:12-activation:['leaky', 0.1]\",\"filters:[1024]-strides:[3]-kernel_size:[9]-drop:0.5-full:[64]-fulldrop:0.1-activation_full:relu-lag:12-activation:['leaky', 0.1]\",\"filters:[16]-strides:[2]-kernel_size:[5]-drop:0.0-full:[512, 256, 128]-fulldrop:0.4-activation_full:['elu', 0.4]-lag:12-activation:['leaky', 0.1]\"],\"type\":\"scatter\",\"x\":[7.12246076003065],\"y\":[200]},{\"marker\":{\"size\":20},\"mode\":\"markers\",\"name\":\"['leaky', 0.2]\",\"text\":[\"filters:[32]-strides:[2]-kernel_size:[7]-drop:0.1-full:[128, 64, 32]-fulldrop:0.1-activation_full:relu-lag:12-activation:['leaky', 0.2]\",\"filters:[32]-strides:[2]-kernel_size:[1]-drop:0.5-full:[256, 128]-fulldrop:0.1-activation_full:relu-lag:12-activation:['leaky', 0.2]\",\"filters:[32]-strides:[3]-kernel_size:[3]-drop:0.4-full:[2048, 1024, 512]-fulldrop:0.2-activation_full:linear-lag:12-activation:['leaky', 0.2]\",\"filters:[32]-strides:[3]-kernel_size:[7]-drop:0.5-full:[128, 64]-fulldrop:0.5-activation_full:relu-lag:6-activation:['leaky', 0.2]\",\"filters:[32]-strides:[3]-kernel_size:[1]-drop:0.2-full:[64, 32, 16]-fulldrop:0.4-activation_full:linear-lag:6-activation:['leaky', 0.2]\",\"filters:[32]-strides:[3]-kernel_size:[5]-drop:0.2-full:[128, 64, 32]-fulldrop:0.5-activation_full:['leaky', 0.2]-lag:18-activation:['leaky', 0.2]\",\"filters:[128]-strides:[1]-kernel_size:[3]-drop:0.4-full:[32, 16, 8]-fulldrop:0.1-activation_full:hard_sigmoid-lag:18-activation:['leaky', 0.2]\",\"filters:[128]-strides:[3]-kernel_size:[9]-drop:0.3-full:[256, 128]-fulldrop:0.2-activation_full:['leaky', 0.1]-lag:12-activation:['leaky', 0.2]\",\"filters:[128]-strides:[3]-kernel_size:[7]-drop:0.3-full:[512, 256, 128]-fulldrop:0.1-activation_full:relu-lag:6-activation:['leaky', 0.2]\",\"filters:[128]-strides:[3]-kernel_size:[5]-drop:0.3-full:[2048]-fulldrop:0.1-activation_full:['leaky', 0.1]-lag:6-activation:['leaky', 0.2]\",\"filters:[256]-strides:[2]-kernel_size:[1]-drop:0.2-full:[2048, 1024, 512]-fulldrop:0.3-activation_full:linear-lag:18-activation:['leaky', 0.2]\",\"filters:[256]-strides:[1]-kernel_size:[9]-drop:0.1-full:[128]-fulldrop:0.4-activation_full:['prelu', 0.0]-lag:6-activation:['leaky', 0.2]\",\"filters:[64]-strides:[3]-kernel_size:[7]-drop:0.1-full:[1024, 512]-fulldrop:0.0-activation_full:linear-lag:12-activation:['leaky', 0.2]\",\"filters:[1024]-strides:[1]-kernel_size:[9]-drop:0.2-full:[256, 128, 64]-fulldrop:0.5-activation_full:hard_sigmoid-lag:18-activation:['leaky', 0.2]\",\"filters:[1024]-strides:[1]-kernel_size:[5]-drop:0.3-full:[2048, 1024]-fulldrop:0.0-activation_full:['leaky', 0.2]-lag:12-activation:['leaky', 0.2]\",\"filters:[1024]-strides:[3]-kernel_size:[5]-drop:0.1-full:[64, 32]-fulldrop:0.1-activation_full:['leaky', 0.1]-lag:6-activation:['leaky', 0.2]\",\"filters:[1024]-strides:[3]-kernel_size:[5]-drop:0.1-full:[4096]-fulldrop:0.5-activation_full:['prelu', 0.0]-lag:6-activation:['leaky', 0.2]\",\"filters:[16]-strides:[1]-kernel_size:[9]-drop:0.5-full:[2048, 1024, 512]-fulldrop:0.4-activation_full:['leaky', 0.1]-lag:6-activation:['leaky', 0.2]\"],\"type\":\"scatter\",\"x\":[],\"y\":[]},{\"marker\":{\"size\":20},\"mode\":\"markers\",\"name\":\"['prelu', 0.0]\",\"text\":[\"filters:[32]-strides:[2]-kernel_size:[7]-drop:0.2-full:[32]-fulldrop:0.1-activation_full:['elu', 0.4]-lag:6-activation:['prelu', 0.0]\",\"filters:[32]-strides:[1]-kernel_size:[1]-drop:0.2-full:[64]-fulldrop:0.2-activation_full:['leaky', 0.1]-lag:18-activation:['prelu', 0.0]\",\"filters:[32]-strides:[3]-kernel_size:[5]-drop:0.4-full:[32]-fulldrop:0.4-activation_full:['prelu', 0.0]-lag:6-activation:['prelu', 0.0]\",\"filters:[128]-strides:[1]-kernel_size:[7]-drop:0.0-full:[512]-fulldrop:0.4-activation_full:['leaky', 0.2]-lag:6-activation:['prelu', 0.0]\",\"filters:[128]-strides:[3]-kernel_size:[5]-drop:0.2-full:[32, 16]-fulldrop:0.3-activation_full:['prelu', 0.0]-lag:18-activation:['prelu', 0.0]\",\"filters:[512]-strides:[2]-kernel_size:[5]-drop:0.4-full:[1024, 512]-fulldrop:0.3-activation_full:['elu', 0.4]-lag:18-activation:['prelu', 0.0]\",\"filters:[512]-strides:[1]-kernel_size:[9]-drop:0.1-full:[4096]-fulldrop:0.4-activation_full:['leaky', 0.1]-lag:6-activation:['prelu', 0.0]\",\"filters:[512]-strides:[1]-kernel_size:[3]-drop:0.4-full:[2048, 1024]-fulldrop:0.0-activation_full:['leaky', 0.2]-lag:12-activation:['prelu', 0.0]\",\"filters:[512]-strides:[1]-kernel_size:[7]-drop:0.5-full:[512]-fulldrop:0.4-activation_full:['leaky', 0.2]-lag:6-activation:['prelu', 0.0]\",\"filters:[512]-strides:[1]-kernel_size:[7]-drop:0.2-full:[512]-fulldrop:0.4-activation_full:['leaky', 0.2]-lag:6-activation:['prelu', 0.0]\",\"filters:[512]-strides:[1]-kernel_size:[7]-drop:0.4-full:[512]-fulldrop:0.4-activation_full:['leaky', 0.2]-lag:6-activation:['prelu', 0.0]\",\"filters:[512]-strides:[1]-kernel_size:[7]-drop:0.3-full:[512]-fulldrop:0.4-activation_full:['leaky', 0.2]-lag:6-activation:['prelu', 0.0]\",\"filters:[512]-strides:[1]-kernel_size:[1]-drop:0.0-full:[64]-fulldrop:0.1-activation_full:['leaky', 0.1]-lag:6-activation:['prelu', 0.0]\",\"filters:[256]-strides:[3]-kernel_size:[9]-drop:0.1-full:[1024, 512, 256]-fulldrop:0.0-activation_full:['leaky', 0.1]-lag:18-activation:['prelu', 0.0]\",\"filters:[64]-strides:[2]-kernel_size:[7]-drop:0.2-full:[512, 256]-fulldrop:0.4-activation_full:linear-lag:18-activation:['prelu', 0.0]\",\"filters:[64]-strides:[1]-kernel_size:[3]-drop:0.2-full:[128, 64]-fulldrop:0.5-activation_full:['leaky', 0.2]-lag:6-activation:['prelu', 0.0]\",\"filters:[64]-strides:[3]-kernel_size:[1]-drop:0.2-full:[256]-fulldrop:0.3-activation_full:['leaky', 0.1]-lag:18-activation:['prelu', 0.0]\",\"filters:[1024]-strides:[2]-kernel_size:[3]-drop:0.5-full:[1024, 512]-fulldrop:0.0-activation_full:relu-lag:6-activation:['prelu', 0.0]\",\"filters:[1024]-strides:[2]-kernel_size:[1]-drop:0.4-full:[32, 16]-fulldrop:0.4-activation_full:['leaky', 0.2]-lag:18-activation:['prelu', 0.0]\",\"filters:[1024]-strides:[1]-kernel_size:[3]-drop:0.2-full:[256, 128, 64]-fulldrop:0.5-activation_full:['elu', 0.4]-lag:18-activation:['prelu', 0.0]\",\"filters:[1024]-strides:[1]-kernel_size:[7]-drop:0.3-full:[64, 32, 16]-fulldrop:0.0-activation_full:['leaky', 0.1]-lag:6-activation:['prelu', 0.0]\",\"filters:[16]-strides:[2]-kernel_size:[9]-drop:0.3-full:[4096, 2048, 1024]-fulldrop:0.0-activation_full:['prelu', 0.0]-lag:18-activation:['prelu', 0.0]\",\"filters:[16]-strides:[3]-kernel_size:[1]-drop:0.3-full:[64, 32]-fulldrop:0.4-activation_full:relu-lag:12-activation:['prelu', 0.0]\"],\"type\":\"scatter\",\"x\":[],\"y\":[]},{\"marker\":{\"size\":20},\"mode\":\"markers\",\"name\":\"hard_sigmoid\",\"text\":[\"filters:[32]-strides:[2]-kernel_size:[9]-drop:0.1-full:[2048]-fulldrop:0.0-activation_full:['leaky', 0.1]-lag:18-activation:hard_sigmoid\",\"filters:[128]-strides:[2]-kernel_size:[9]-drop:0.1-full:[256]-fulldrop:0.0-activation_full:['elu', 0.3]-lag:18-activation:hard_sigmoid\",\"filters:[128]-strides:[1]-kernel_size:[5]-drop:0.3-full:[128, 64]-fulldrop:0.0-activation_full:tanh-lag:12-activation:hard_sigmoid\",\"filters:[512]-strides:[2]-kernel_size:[3]-drop:0.1-full:[2048]-fulldrop:0.0-activation_full:['elu', 0.3]-lag:6-activation:hard_sigmoid\",\"filters:[512]-strides:[1]-kernel_size:[9]-drop:0.5-full:[128, 64, 32]-fulldrop:0.5-activation_full:linear-lag:6-activation:hard_sigmoid\",\"filters:[512]-strides:[1]-kernel_size:[3]-drop:0.5-full:[4096, 2048]-fulldrop:0.5-activation_full:['elu', 0.3]-lag:12-activation:hard_sigmoid\",\"filters:[256]-strides:[2]-kernel_size:[7]-drop:0.1-full:[4096, 2048, 1024]-fulldrop:0.2-activation_full:['elu', 0.4]-lag:6-activation:hard_sigmoid\",\"filters:[1024]-strides:[3]-kernel_size:[5]-drop:0.3-full:[2048, 1024]-fulldrop:0.2-activation_full:relu-lag:12-activation:hard_sigmoid\",\"filters:[16]-strides:[1]-kernel_size:[5]-drop:0.5-full:[128, 64]-fulldrop:0.4-activation_full:hard_sigmoid-lag:6-activation:hard_sigmoid\",\"filters:[16]-strides:[3]-kernel_size:[1]-drop:0.4-full:[128, 64]-fulldrop:0.3-activation_full:['leaky', 0.1]-lag:18-activation:hard_sigmoid\"],\"type\":\"scatter\",\"x\":[],\"y\":[]},{\"marker\":{\"size\":20},\"mode\":\"markers\",\"name\":\"linear\",\"text\":[\"filters:[32]-strides:[2]-kernel_size:[3]-drop:0.1-full:[1024, 512, 256]-fulldrop:0.1-activation_full:['elu', 0.3]-lag:18-activation:linear\",\"filters:[32]-strides:[1]-kernel_size:[7]-drop:0.5-full:[64]-fulldrop:0.1-activation_full:relu-lag:12-activation:linear\",\"filters:[32]-strides:[1]-kernel_size:[7]-drop:0.4-full:[1024, 512]-fulldrop:0.2-activation_full:relu-lag:6-activation:linear\",\"filters:[128]-strides:[1]-kernel_size:[9]-drop:0.3-full:[1024]-fulldrop:0.2-activation_full:['leaky', 0.2]-lag:18-activation:linear\",\"filters:[128]-strides:[1]-kernel_size:[5]-drop:0.0-full:[2048, 1024]-fulldrop:0.3-activation_full:['prelu', 0.0]-lag:12-activation:linear\",\"filters:[512]-strides:[1]-kernel_size:[7]-drop:0.4-full:[1024]-fulldrop:0.2-activation_full:relu-lag:6-activation:linear\",\"filters:[512]-strides:[1]-kernel_size:[7]-drop:0.4-full:[256]-fulldrop:0.2-activation_full:relu-lag:6-activation:linear\",\"filters:[512]-strides:[1]-kernel_size:[5]-drop:0.0-full:[64]-fulldrop:0.3-activation_full:linear-lag:6-activation:linear\",\"filters:[512]-strides:[3]-kernel_size:[3]-drop:0.5-full:[128, 64, 32]-fulldrop:0.5-activation_full:relu-lag:12-activation:linear\",\"filters:[512]-strides:[3]-kernel_size:[3]-drop:0.2-full:[2048, 1024, 512]-fulldrop:0.2-activation_full:linear-lag:12-activation:linear\",\"filters:[512]-strides:[3]-kernel_size:[7]-drop:0.2-full:[4096, 2048]-fulldrop:0.4-activation_full:hard_sigmoid-lag:12-activation:linear\",\"filters:[256]-strides:[3]-kernel_size:[3]-drop:0.2-full:[256, 128, 64]-fulldrop:0.4-activation_full:['leaky', 0.1]-lag:18-activation:linear\",\"filters:[256]-strides:[3]-kernel_size:[7]-drop:0.2-full:[1024]-fulldrop:0.2-activation_full:['elu', 0.3]-lag:6-activation:linear\",\"filters:[64]-strides:[3]-kernel_size:[9]-drop:0.0-full:[32, 16, 8]-fulldrop:0.2-activation_full:['leaky', 0.2]-lag:18-activation:linear\",\"filters:[64]-strides:[3]-kernel_size:[7]-drop:0.4-full:[2048, 1024, 512]-fulldrop:0.1-activation_full:['leaky', 0.1]-lag:12-activation:linear\",\"filters:[1024]-strides:[3]-kernel_size:[3]-drop:0.1-full:[512]-fulldrop:0.0-activation_full:['elu', 0.4]-lag:12-activation:linear\",\"filters:[16]-strides:[2]-kernel_size:[3]-drop:0.5-full:[64, 32, 16]-fulldrop:0.3-activation_full:relu-lag:6-activation:linear\",\"filters:[16]-strides:[1]-kernel_size:[9]-drop:0.4-full:[32, 16]-fulldrop:0.0-activation_full:['prelu', 0.0]-lag:6-activation:linear\"],\"type\":\"scatter\",\"x\":[],\"y\":[]},{\"marker\":{\"size\":20},\"mode\":\"markers\",\"name\":\"relu\",\"text\":[\"filters:[32]-strides:[1]-kernel_size:[1]-drop:0.5-full:[1024]-fulldrop:0.0-activation_full:['elu', 0.3]-lag:18-activation:relu\",\"filters:[128]-strides:[2]-kernel_size:[3]-drop:0.0-full:[4096, 2048]-fulldrop:0.1-activation_full:['leaky', 0.2]-lag:18-activation:relu\",\"filters:[128]-strides:[1]-kernel_size:[1]-drop:0.2-full:[512, 256]-fulldrop:0.5-activation_full:['elu', 0.3]-lag:18-activation:relu\",\"filters:[512]-strides:[3]-kernel_size:[5]-drop:0.0-full:[256]-fulldrop:0.4-activation_full:['leaky', 0.1]-lag:12-activation:relu\",\"filters:[256]-strides:[1]-kernel_size:[7]-drop:0.4-full:[1024, 512, 256]-fulldrop:0.2-activation_full:['elu', 0.4]-lag:18-activation:relu\",\"filters:[256]-strides:[1]-kernel_size:[5]-drop:0.4-full:[1024, 512, 256]-fulldrop:0.3-activation_full:['leaky', 0.2]-lag:12-activation:relu\",\"filters:[256]-strides:[1]-kernel_size:[5]-drop:0.3-full:[1024, 512, 256]-fulldrop:0.2-activation_full:['elu', 0.4]-lag:6-activation:relu\",\"filters:[256]-strides:[1]-kernel_size:[5]-drop:0.3-full:[256, 128]-fulldrop:0.2-activation_full:['elu', 0.4]-lag:6-activation:relu\",\"filters:[256]-strides:[3]-kernel_size:[9]-drop:0.4-full:[1024, 512]-fulldrop:0.1-activation_full:hard_sigmoid-lag:18-activation:relu\",\"filters:[256]-strides:[3]-kernel_size:[3]-drop:0.0-full:[1024, 512, 256]-fulldrop:0.3-activation_full:linear-lag:18-activation:relu\",\"filters:[64]-strides:[2]-kernel_size:[7]-drop:0.0-full:[4096, 2048, 1024]-fulldrop:0.0-activation_full:['prelu', 0.0]-lag:18-activation:relu\",\"filters:[64]-strides:[2]-kernel_size:[1]-drop:0.5-full:[4096, 2048, 1024]-fulldrop:0.5-activation_full:['leaky', 0.2]-lag:18-activation:relu\",\"filters:[64]-strides:[1]-kernel_size:[9]-drop:0.4-full:[2048]-fulldrop:0.3-activation_full:['elu', 0.3]-lag:6-activation:relu\",\"filters:[64]-strides:[1]-kernel_size:[7]-drop:0.5-full:[64, 32, 16]-fulldrop:0.1-activation_full:relu-lag:6-activation:relu\",\"filters:[64]-strides:[1]-kernel_size:[1]-drop:0.1-full:[256, 128]-fulldrop:0.3-activation_full:['prelu', 0.0]-lag:6-activation:relu\",\"filters:[64]-strides:[3]-kernel_size:[1]-drop:0.2-full:[1024, 512, 256]-fulldrop:0.3-activation_full:linear-lag:12-activation:relu\",\"filters:[1024]-strides:[2]-kernel_size:[3]-drop:0.0-full:[512, 256]-fulldrop:0.1-activation_full:['elu', 0.3]-lag:18-activation:relu\",\"filters:[1024]-strides:[1]-kernel_size:[3]-drop:0.4-full:[32, 16, 8]-fulldrop:0.5-activation_full:['elu', 0.4]-lag:18-activation:relu\",\"filters:[16]-strides:[3]-kernel_size:[3]-drop:0.2-full:[512, 256, 128]-fulldrop:0.3-activation_full:['prelu', 0.0]-lag:6-activation:relu\",\"filters:[16]-strides:[3]-kernel_size:[5]-drop:0.1-full:[256, 128, 64]-fulldrop:0.2-activation_full:linear-lag:18-activation:relu\"],\"type\":\"scatter\",\"x\":[],\"y\":[]},{\"marker\":{\"size\":20},\"mode\":\"markers\",\"name\":\"tanh\",\"text\":[\"filters:[128]-strides:[2]-kernel_size:[5]-drop:0.4-full:[2048]-fulldrop:0.5-activation_full:['prelu', 0.0]-lag:12-activation:tanh\",\"filters:[64]-strides:[2]-kernel_size:[5]-drop:0.1-full:[512, 256]-fulldrop:0.0-activation_full:['elu', 0.3]-lag:6-activation:tanh\"],\"type\":\"scatter\",\"x\":[],\"y\":[]}],                        {\"template\":{\"data\":{\"bar\":[{\"error_x\":{\"color\":\"#2a3f5f\"},\"error_y\":{\"color\":\"#2a3f5f\"},\"marker\":{\"line\":{\"color\":\"#E5ECF6\",\"width\":0.5},\"pattern\":{\"fillmode\":\"overlay\",\"size\":10,\"solidity\":0.2}},\"type\":\"bar\"}],\"barpolar\":[{\"marker\":{\"line\":{\"color\":\"#E5ECF6\",\"width\":0.5},\"pattern\":{\"fillmode\":\"overlay\",\"size\":10,\"solidity\":0.2}},\"type\":\"barpolar\"}],\"carpet\":[{\"aaxis\":{\"endlinecolor\":\"#2a3f5f\",\"gridcolor\":\"white\",\"linecolor\":\"white\",\"minorgridcolor\":\"white\",\"startlinecolor\":\"#2a3f5f\"},\"baxis\":{\"endlinecolor\":\"#2a3f5f\",\"gridcolor\":\"white\",\"linecolor\":\"white\",\"minorgridcolor\":\"white\",\"startlinecolor\":\"#2a3f5f\"},\"type\":\"carpet\"}],\"choropleth\":[{\"colorbar\":{\"outlinewidth\":0,\"ticks\":\"\"},\"type\":\"choropleth\"}],\"contour\":[{\"colorbar\":{\"outlinewidth\":0,\"ticks\":\"\"},\"colorscale\":[[0.0,\"#0d0887\"],[0.1111111111111111,\"#46039f\"],[0.2222222222222222,\"#7201a8\"],[0.3333333333333333,\"#9c179e\"],[0.4444444444444444,\"#bd3786\"],[0.5555555555555556,\"#d8576b\"],[0.6666666666666666,\"#ed7953\"],[0.7777777777777778,\"#fb9f3a\"],[0.8888888888888888,\"#fdca26\"],[1.0,\"#f0f921\"]],\"type\":\"contour\"}],\"contourcarpet\":[{\"colorbar\":{\"outlinewidth\":0,\"ticks\":\"\"},\"type\":\"contourcarpet\"}],\"heatmap\":[{\"colorbar\":{\"outlinewidth\":0,\"ticks\":\"\"},\"colorscale\":[[0.0,\"#0d0887\"],[0.1111111111111111,\"#46039f\"],[0.2222222222222222,\"#7201a8\"],[0.3333333333333333,\"#9c179e\"],[0.4444444444444444,\"#bd3786\"],[0.5555555555555556,\"#d8576b\"],[0.6666666666666666,\"#ed7953\"],[0.7777777777777778,\"#fb9f3a\"],[0.8888888888888888,\"#fdca26\"],[1.0,\"#f0f921\"]],\"type\":\"heatmap\"}],\"heatmapgl\":[{\"colorbar\":{\"outlinewidth\":0,\"ticks\":\"\"},\"colorscale\":[[0.0,\"#0d0887\"],[0.1111111111111111,\"#46039f\"],[0.2222222222222222,\"#7201a8\"],[0.3333333333333333,\"#9c179e\"],[0.4444444444444444,\"#bd3786\"],[0.5555555555555556,\"#d8576b\"],[0.6666666666666666,\"#ed7953\"],[0.7777777777777778,\"#fb9f3a\"],[0.8888888888888888,\"#fdca26\"],[1.0,\"#f0f921\"]],\"type\":\"heatmapgl\"}],\"histogram\":[{\"marker\":{\"pattern\":{\"fillmode\":\"overlay\",\"size\":10,\"solidity\":0.2}},\"type\":\"histogram\"}],\"histogram2d\":[{\"colorbar\":{\"outlinewidth\":0,\"ticks\":\"\"},\"colorscale\":[[0.0,\"#0d0887\"],[0.1111111111111111,\"#46039f\"],[0.2222222222222222,\"#7201a8\"],[0.3333333333333333,\"#9c179e\"],[0.4444444444444444,\"#bd3786\"],[0.5555555555555556,\"#d8576b\"],[0.6666666666666666,\"#ed7953\"],[0.7777777777777778,\"#fb9f3a\"],[0.8888888888888888,\"#fdca26\"],[1.0,\"#f0f921\"]],\"type\":\"histogram2d\"}],\"histogram2dcontour\":[{\"colorbar\":{\"outlinewidth\":0,\"ticks\":\"\"},\"colorscale\":[[0.0,\"#0d0887\"],[0.1111111111111111,\"#46039f\"],[0.2222222222222222,\"#7201a8\"],[0.3333333333333333,\"#9c179e\"],[0.4444444444444444,\"#bd3786\"],[0.5555555555555556,\"#d8576b\"],[0.6666666666666666,\"#ed7953\"],[0.7777777777777778,\"#fb9f3a\"],[0.8888888888888888,\"#fdca26\"],[1.0,\"#f0f921\"]],\"type\":\"histogram2dcontour\"}],\"mesh3d\":[{\"colorbar\":{\"outlinewidth\":0,\"ticks\":\"\"},\"type\":\"mesh3d\"}],\"parcoords\":[{\"line\":{\"colorbar\":{\"outlinewidth\":0,\"ticks\":\"\"}},\"type\":\"parcoords\"}],\"pie\":[{\"automargin\":true,\"type\":\"pie\"}],\"scatter\":[{\"marker\":{\"colorbar\":{\"outlinewidth\":0,\"ticks\":\"\"}},\"type\":\"scatter\"}],\"scatter3d\":[{\"line\":{\"colorbar\":{\"outlinewidth\":0,\"ticks\":\"\"}},\"marker\":{\"colorbar\":{\"outlinewidth\":0,\"ticks\":\"\"}},\"type\":\"scatter3d\"}],\"scattercarpet\":[{\"marker\":{\"colorbar\":{\"outlinewidth\":0,\"ticks\":\"\"}},\"type\":\"scattercarpet\"}],\"scattergeo\":[{\"marker\":{\"colorbar\":{\"outlinewidth\":0,\"ticks\":\"\"}},\"type\":\"scattergeo\"}],\"scattergl\":[{\"marker\":{\"colorbar\":{\"outlinewidth\":0,\"ticks\":\"\"}},\"type\":\"scattergl\"}],\"scattermapbox\":[{\"marker\":{\"colorbar\":{\"outlinewidth\":0,\"ticks\":\"\"}},\"type\":\"scattermapbox\"}],\"scatterpolar\":[{\"marker\":{\"colorbar\":{\"outlinewidth\":0,\"ticks\":\"\"}},\"type\":\"scatterpolar\"}],\"scatterpolargl\":[{\"marker\":{\"colorbar\":{\"outlinewidth\":0,\"ticks\":\"\"}},\"type\":\"scatterpolargl\"}],\"scatterternary\":[{\"marker\":{\"colorbar\":{\"outlinewidth\":0,\"ticks\":\"\"}},\"type\":\"scatterternary\"}],\"surface\":[{\"colorbar\":{\"outlinewidth\":0,\"ticks\":\"\"},\"colorscale\":[[0.0,\"#0d0887\"],[0.1111111111111111,\"#46039f\"],[0.2222222222222222,\"#7201a8\"],[0.3333333333333333,\"#9c179e\"],[0.4444444444444444,\"#bd3786\"],[0.5555555555555556,\"#d8576b\"],[0.6666666666666666,\"#ed7953\"],[0.7777777777777778,\"#fb9f3a\"],[0.8888888888888888,\"#fdca26\"],[1.0,\"#f0f921\"]],\"type\":\"surface\"}],\"table\":[{\"cells\":{\"fill\":{\"color\":\"#EBF0F8\"},\"line\":{\"color\":\"white\"}},\"header\":{\"fill\":{\"color\":\"#C8D4E3\"},\"line\":{\"color\":\"white\"}},\"type\":\"table\"}]},\"layout\":{\"annotationdefaults\":{\"arrowcolor\":\"#2a3f5f\",\"arrowhead\":0,\"arrowwidth\":1},\"autotypenumbers\":\"strict\",\"coloraxis\":{\"colorbar\":{\"outlinewidth\":0,\"ticks\":\"\"}},\"colorscale\":{\"diverging\":[[0,\"#8e0152\"],[0.1,\"#c51b7d\"],[0.2,\"#de77ae\"],[0.3,\"#f1b6da\"],[0.4,\"#fde0ef\"],[0.5,\"#f7f7f7\"],[0.6,\"#e6f5d0\"],[0.7,\"#b8e186\"],[0.8,\"#7fbc41\"],[0.9,\"#4d9221\"],[1,\"#276419\"]],\"sequential\":[[0.0,\"#0d0887\"],[0.1111111111111111,\"#46039f\"],[0.2222222222222222,\"#7201a8\"],[0.3333333333333333,\"#9c179e\"],[0.4444444444444444,\"#bd3786\"],[0.5555555555555556,\"#d8576b\"],[0.6666666666666666,\"#ed7953\"],[0.7777777777777778,\"#fb9f3a\"],[0.8888888888888888,\"#fdca26\"],[1.0,\"#f0f921\"]],\"sequentialminus\":[[0.0,\"#0d0887\"],[0.1111111111111111,\"#46039f\"],[0.2222222222222222,\"#7201a8\"],[0.3333333333333333,\"#9c179e\"],[0.4444444444444444,\"#bd3786\"],[0.5555555555555556,\"#d8576b\"],[0.6666666666666666,\"#ed7953\"],[0.7777777777777778,\"#fb9f3a\"],[0.8888888888888888,\"#fdca26\"],[1.0,\"#f0f921\"]]},\"colorway\":[\"#636efa\",\"#EF553B\",\"#00cc96\",\"#ab63fa\",\"#FFA15A\",\"#19d3f3\",\"#FF6692\",\"#B6E880\",\"#FF97FF\",\"#FECB52\"],\"font\":{\"color\":\"#2a3f5f\"},\"geo\":{\"bgcolor\":\"white\",\"lakecolor\":\"white\",\"landcolor\":\"#E5ECF6\",\"showlakes\":true,\"showland\":true,\"subunitcolor\":\"white\"},\"hoverlabel\":{\"align\":\"left\"},\"hovermode\":\"closest\",\"mapbox\":{\"style\":\"light\"},\"paper_bgcolor\":\"white\",\"plot_bgcolor\":\"#E5ECF6\",\"polar\":{\"angularaxis\":{\"gridcolor\":\"white\",\"linecolor\":\"white\",\"ticks\":\"\"},\"bgcolor\":\"#E5ECF6\",\"radialaxis\":{\"gridcolor\":\"white\",\"linecolor\":\"white\",\"ticks\":\"\"}},\"scene\":{\"xaxis\":{\"backgroundcolor\":\"#E5ECF6\",\"gridcolor\":\"white\",\"gridwidth\":2,\"linecolor\":\"white\",\"showbackground\":true,\"ticks\":\"\",\"zerolinecolor\":\"white\"},\"yaxis\":{\"backgroundcolor\":\"#E5ECF6\",\"gridcolor\":\"white\",\"gridwidth\":2,\"linecolor\":\"white\",\"showbackground\":true,\"ticks\":\"\",\"zerolinecolor\":\"white\"},\"zaxis\":{\"backgroundcolor\":\"#E5ECF6\",\"gridcolor\":\"white\",\"gridwidth\":2,\"linecolor\":\"white\",\"showbackground\":true,\"ticks\":\"\",\"zerolinecolor\":\"white\"}},\"shapedefaults\":{\"line\":{\"color\":\"#2a3f5f\"}},\"ternary\":{\"aaxis\":{\"gridcolor\":\"white\",\"linecolor\":\"white\",\"ticks\":\"\"},\"baxis\":{\"gridcolor\":\"white\",\"linecolor\":\"white\",\"ticks\":\"\"},\"bgcolor\":\"#E5ECF6\",\"caxis\":{\"gridcolor\":\"white\",\"linecolor\":\"white\",\"ticks\":\"\"}},\"title\":{\"x\":0.05},\"xaxis\":{\"automargin\":true,\"gridcolor\":\"white\",\"linecolor\":\"white\",\"ticks\":\"\",\"title\":{\"standoff\":15},\"zerolinecolor\":\"white\",\"zerolinewidth\":2},\"yaxis\":{\"automargin\":true,\"gridcolor\":\"white\",\"linecolor\":\"white\",\"ticks\":\"\",\"title\":{\"standoff\":15},\"zerolinecolor\":\"white\",\"zerolinewidth\":2}}}},                        {\"responsive\": true}                    ).then(function(){\n",
       "                            \n",
       "var gd = document.getElementById('29cc692e-b90d-4d67-9c9e-5addb1f70864');\n",
       "var x = new MutationObserver(function (mutations, observer) {{\n",
       "        var display = window.getComputedStyle(gd).display;\n",
       "        if (!display || display === 'none') {{\n",
       "            console.log([gd, 'removed!']);\n",
       "            Plotly.purge(gd);\n",
       "            observer.disconnect();\n",
       "        }}\n",
       "}});\n",
       "\n",
       "// Listen for the removal of the full notebook cells\n",
       "var notebookContainer = gd.closest('#notebook-container');\n",
       "if (notebookContainer) {{\n",
       "    x.observe(notebookContainer, {childList: true});\n",
       "}}\n",
       "\n",
       "// Listen for the clearing of the current output cell\n",
       "var outputEl = gd.closest('.output');\n",
       "if (outputEl) {{\n",
       "    x.observe(outputEl, {childList: true});\n",
       "}}\n",
       "\n",
       "                        })                };                });            </script>        </div>"
      ]
     },
     "metadata": {},
     "output_type": "display_data"
    }
   ],
   "source": [
    "results.results_dataframe_graph(facet='activation',att=['filters','strides','kernel_size','drop','full','fulldrop', 'activation_full','lag'], count=True, threshold=7.1)"
   ]
  },
  {
   "cell_type": "markdown",
   "metadata": {},
   "source": [
    "# CNN s2s 5min"
   ]
  },
  {
   "cell_type": "code",
   "execution_count": null,
   "metadata": {
    "ExecuteTime": {
     "end_time": "2019-11-11T07:40:04.830827Z",
     "start_time": "2019-11-11T07:39:44.943847Z"
    }
   },
   "outputs": [],
   "source": [
    "query={'experiment':'cnn_12_smac', 'status':'done'}\n",
    "\n",
    "results = DBResults(conn=mongolocaltest)\n",
    "#results = DBResults()\n",
    "results.results_dataframe_retrieve(query, arch=['filters','strides','kernel_size', 'activation','drop', 'activation_full','full','fulldrop'], data=['lag'])\n"
   ]
  },
  {
   "cell_type": "code",
   "execution_count": null,
   "metadata": {
    "ExecuteTime": {
     "end_time": "2019-11-11T07:40:05.458405Z",
     "start_time": "2019-11-11T07:40:04.834217Z"
    }
   },
   "outputs": [],
   "source": [
    "results.results_dataframe_aggregate(threshold=7.32)"
   ]
  },
  {
   "cell_type": "code",
   "execution_count": null,
   "metadata": {
    "ExecuteTime": {
     "end_time": "2019-11-11T07:40:07.753727Z",
     "start_time": "2019-11-11T07:40:05.460961Z"
    }
   },
   "outputs": [],
   "source": [
    "results.results_dataframe_graph(facet='activation',att=['filters','strides','kernel_size','drop','full','fulldrop', 'activation_full','lag'], count=True, threshold=7.2)"
   ]
  },
  {
   "cell_type": "markdown",
   "metadata": {},
   "source": [
    "# CNN s2s 2 Layers"
   ]
  },
  {
   "cell_type": "code",
   "execution_count": null,
   "metadata": {
    "ExecuteTime": {
     "end_time": "2019-05-21T04:15:18.561316Z",
     "start_time": "2019-05-21T04:12:03.749365Z"
    },
    "code_folding": []
   },
   "outputs": [],
   "source": [
    "query={'experiment':'cnn2layerss2ssmac', 'status':'done'}\n",
    "\n",
    "results = DBResults(conn=mongolocalmeasures)\n",
    "#results = DBResults()\n",
    "results.results_dataframe_retrieve(query, arch=['filters','strides','kernel_size', 'activation','drop', 'activation_full','full','fulldrop'], data=['lag'])\n"
   ]
  },
  {
   "cell_type": "code",
   "execution_count": null,
   "metadata": {
    "ExecuteTime": {
     "end_time": "2019-05-21T04:16:20.695367Z",
     "start_time": "2019-05-21T04:15:22.167556Z"
    }
   },
   "outputs": [],
   "source": [
    "results.results_dataframe_aggregate(threshold=7.1)"
   ]
  },
  {
   "cell_type": "code",
   "execution_count": null,
   "metadata": {
    "ExecuteTime": {
     "end_time": "2019-05-21T04:16:23.616560Z",
     "start_time": "2019-05-21T04:16:20.721297Z"
    }
   },
   "outputs": [],
   "source": [
    "results.results_dataframe_graph(facet='activation',att=['filters','strides','kernel_size','drop','full','fulldrop', 'activation_full','lag'], count=True, threshold=7)"
   ]
  },
  {
   "cell_type": "markdown",
   "metadata": {},
   "source": [
    "# CNN s2s 2 Layers (indep)"
   ]
  },
  {
   "cell_type": "code",
   "execution_count": null,
   "metadata": {
    "ExecuteTime": {
     "end_time": "2019-09-08T17:57:10.328403Z",
     "start_time": "2019-09-08T17:56:07.821121Z"
    }
   },
   "outputs": [],
   "source": [
    "query={'experiment':'cnn2ls2ssmac', 'status':'done'}\n",
    "\n",
    "results = DBResults(conn=mongolocaltest)\n",
    "#results = DBResults()\n",
    "results.results_dataframe_retrieve(query, arch=['filters','strides','kernel_size','drop', 'filters2','strides2','kernel_size2','drop2', 'activation', 'activation_full','full','fulldrop'], data=['lag'])\n"
   ]
  },
  {
   "cell_type": "code",
   "execution_count": null,
   "metadata": {
    "ExecuteTime": {
     "end_time": "2019-09-08T17:57:15.179899Z",
     "start_time": "2019-09-08T17:57:10.331509Z"
    }
   },
   "outputs": [],
   "source": [
    "results.results_dataframe_aggregate(threshold=7.2)"
   ]
  },
  {
   "cell_type": "code",
   "execution_count": null,
   "metadata": {
    "ExecuteTime": {
     "end_time": "2019-08-17T04:17:06.558712Z",
     "start_time": "2019-08-17T04:17:05.523400Z"
    }
   },
   "outputs": [],
   "source": [
    "results.results_dataframe_graph(facet='activation_full',att=['filters','strides','kernel_size','drop', 'filters2','strides2','kernel_size2','drop2','full','fulldrop', 'activation_full','lag'], count=True, threshold=7.1)"
   ]
  },
  {
   "cell_type": "markdown",
   "metadata": {},
   "source": [
    "# CNN s2s 3 Layers (indep)"
   ]
  },
  {
   "cell_type": "code",
   "execution_count": null,
   "metadata": {
    "ExecuteTime": {
     "end_time": "2019-08-22T15:29:25.712893Z",
     "start_time": "2019-08-22T15:28:15.371692Z"
    }
   },
   "outputs": [],
   "source": [
    "query={'experiment':'cnn3ls2ssmac', 'status':'done'}\n",
    "\n",
    "results = DBResults(conn=mongolocaltest)\n",
    "#results = DBResults()\n",
    "results.results_dataframe_retrieve(query, arch=['filters','strides','kernel_size','drop', 'filters2','strides2','kernel_size2','drop2', 'filters3','strides3','kernel_size3','drop3', 'activation', 'activation_full','full','fulldrop'], data=['lag'])\n"
   ]
  },
  {
   "cell_type": "code",
   "execution_count": null,
   "metadata": {
    "ExecuteTime": {
     "end_time": "2019-08-22T15:29:32.278864Z",
     "start_time": "2019-08-22T15:29:25.717223Z"
    },
    "scrolled": false
   },
   "outputs": [],
   "source": [
    "results.results_dataframe_aggregate(threshold=7.17)"
   ]
  },
  {
   "cell_type": "code",
   "execution_count": null,
   "metadata": {
    "ExecuteTime": {
     "end_time": "2019-08-22T15:29:33.337960Z",
     "start_time": "2019-08-22T15:29:32.282023Z"
    },
    "scrolled": false
   },
   "outputs": [],
   "source": [
    "results.results_dataframe_graph(facet='activation_full',att=['filters','strides','kernel_size','drop', 'filters2','strides2','kernel_size2','drop2', 'filters3','strides3','kernel_size3','drop3','full','fulldrop', 'activation_full','lag'], count=True, threshold=7.12)"
   ]
  },
  {
   "cell_type": "markdown",
   "metadata": {},
   "source": [
    "# CNN s2s 4 Layers (indep)"
   ]
  },
  {
   "cell_type": "code",
   "execution_count": null,
   "metadata": {
    "ExecuteTime": {
     "end_time": "2019-08-28T08:56:34.607926Z",
     "start_time": "2019-08-28T08:55:07.665829Z"
    }
   },
   "outputs": [],
   "source": [
    "query={'experiment':'cnn4ls2ssmac', 'status':'done'}\n",
    "\n",
    "results = DBResults(conn=mongolocaltest)\n",
    "#results = DBResults()\n",
    "results.results_dataframe_retrieve(query, arch=['filters','strides','kernel_size','drop', 'filters2','strides2','kernel_size2','drop2', 'filters3','strides3','kernel_size3','drop3', 'filters4','strides4','kernel_size4','drop4', 'activation', 'activation_full','full','fulldrop'], data=['lag'])\n"
   ]
  },
  {
   "cell_type": "code",
   "execution_count": null,
   "metadata": {
    "ExecuteTime": {
     "end_time": "2019-08-28T08:56:44.214816Z",
     "start_time": "2019-08-28T08:56:34.655572Z"
    }
   },
   "outputs": [],
   "source": [
    "results.results_dataframe_aggregate(threshold=7.09)"
   ]
  },
  {
   "cell_type": "code",
   "execution_count": null,
   "metadata": {
    "ExecuteTime": {
     "end_time": "2019-08-28T08:56:46.065411Z",
     "start_time": "2019-08-28T08:56:44.217525Z"
    },
    "scrolled": false
   },
   "outputs": [],
   "source": [
    "results.results_dataframe_graph(facet='kernel_size4',att=['filters','strides','kernel_size','drop', 'filters2','strides2','kernel_size2','drop2', 'filters3','strides3','kernel_size3','drop3', 'filters4','strides4','kernel_size4','drop4','full','fulldrop', 'activation_full','lag'], count=True, threshold=7.03)"
   ]
  },
  {
   "cell_type": "markdown",
   "metadata": {},
   "source": [
    "# CNN 2D s2s Angle"
   ]
  },
  {
   "cell_type": "code",
   "execution_count": null,
   "metadata": {
    "ExecuteTime": {
     "end_time": "2019-05-20T07:01:01.476695Z",
     "start_time": "2019-05-20T07:00:48.130360Z"
    }
   },
   "outputs": [],
   "source": [
    "query={'experiment':'cnn2ds2ssmac', 'status':'done'}\n",
    "\n",
    "results = DBResults(conn=mongolocaltest)\n",
    "#results = DBResults()\n",
    "results.results_dataframe_retrieve(query, arch=['filters','strides','kernel_size', 'activation','drop', 'activation_full','full','fulldrop'], data=['lag'])\n"
   ]
  },
  {
   "cell_type": "code",
   "execution_count": null,
   "metadata": {
    "ExecuteTime": {
     "end_time": "2019-05-20T07:01:02.943962Z",
     "start_time": "2019-05-20T07:01:01.480858Z"
    }
   },
   "outputs": [],
   "source": [
    "results.results_dataframe_aggregate(threshold=7.14)"
   ]
  },
  {
   "cell_type": "code",
   "execution_count": null,
   "metadata": {
    "ExecuteTime": {
     "end_time": "2019-05-20T07:01:04.083898Z",
     "start_time": "2019-05-20T07:01:02.948295Z"
    }
   },
   "outputs": [],
   "source": [
    "results.results_dataframe_graph(facet='activation',att=['filters','strides','kernel_size','drop','full','fulldrop', 'activation_full','lag'], count=True, threshold=6.8)"
   ]
  },
  {
   "cell_type": "markdown",
   "metadata": {},
   "source": [
    "# CNN CI s2s Angle"
   ]
  },
  {
   "cell_type": "code",
   "execution_count": null,
   "metadata": {
    "ExecuteTime": {
     "end_time": "2019-05-20T09:22:57.163317Z",
     "start_time": "2019-05-20T09:22:34.750579Z"
    }
   },
   "outputs": [],
   "source": [
    "query={'experiment':'cnncis2ssmac', 'status':'done'}\n",
    "\n",
    "results = DBResults(conn=mongolocaltest)\n",
    "#results = DBResults()\n",
    "results.results_dataframe_retrieve(query, arch=['filters','strides','kernel_size', 'activation','drop', 'activation_full','full','fulldrop'], data=['lag'])\n"
   ]
  },
  {
   "cell_type": "code",
   "execution_count": null,
   "metadata": {
    "ExecuteTime": {
     "end_time": "2019-05-20T09:23:10.146215Z",
     "start_time": "2019-05-20T09:22:57.167565Z"
    }
   },
   "outputs": [],
   "source": [
    "results.results_dataframe_aggregate(threshold=7.1)"
   ]
  },
  {
   "cell_type": "code",
   "execution_count": null,
   "metadata": {
    "ExecuteTime": {
     "end_time": "2019-05-20T09:23:11.347249Z",
     "start_time": "2019-05-20T09:23:10.152271Z"
    }
   },
   "outputs": [],
   "source": [
    "results.results_dataframe_graph(facet='activation',att=['filters','strides','kernel_size','drop','full','fulldrop', 'activation_full','lag'], count=True, threshold=7)"
   ]
  },
  {
   "cell_type": "markdown",
   "metadata": {
    "ExecuteTime": {
     "end_time": "2019-08-28T06:25:55.858603Z",
     "start_time": "2019-08-28T06:25:55.808541Z"
    }
   },
   "source": [
    "# CNN CI 2H s2s"
   ]
  },
  {
   "cell_type": "code",
   "execution_count": null,
   "metadata": {
    "ExecuteTime": {
     "end_time": "2019-09-03T12:25:49.692661Z",
     "start_time": "2019-09-03T12:24:43.461431Z"
    }
   },
   "outputs": [],
   "source": [
    "query={'experiment':'cnnci2hs2ssmac', 'status':'done'}\n",
    "\n",
    "results = DBResults(conn=mongolocaltest)\n",
    "#results = DBResults()\n",
    "results.results_dataframe_retrieve(query, arch=['filters','strides','kernel_size', 'activation','drop','filters2','strides2','kernel_size2','drop2', 'activation_full','full','fulldrop'], data=['lag'])\n"
   ]
  },
  {
   "cell_type": "code",
   "execution_count": null,
   "metadata": {
    "ExecuteTime": {
     "end_time": "2019-09-03T12:25:51.312476Z",
     "start_time": "2019-09-03T12:25:49.696226Z"
    },
    "scrolled": false
   },
   "outputs": [],
   "source": [
    "results.results_dataframe_aggregate(threshold=7.23)"
   ]
  },
  {
   "cell_type": "code",
   "execution_count": null,
   "metadata": {
    "ExecuteTime": {
     "end_time": "2019-09-03T12:25:52.648449Z",
     "start_time": "2019-09-03T12:25:51.315272Z"
    },
    "scrolled": false
   },
   "outputs": [],
   "source": [
    "results.results_dataframe_graph(facet='activation',att=['filters','strides','kernel_size','drop','filters2','strides2','kernel_size2','drop2','full','fulldrop', 'activation_full','lag'], count=True, threshold=7.21)"
   ]
  },
  {
   "cell_type": "markdown",
   "metadata": {
    "ExecuteTime": {
     "end_time": "2019-08-28T06:25:55.858603Z",
     "start_time": "2019-08-28T06:25:55.808541Z"
    }
   },
   "source": [
    "# CNN CI 3H s2s"
   ]
  },
  {
   "cell_type": "code",
   "execution_count": null,
   "metadata": {
    "ExecuteTime": {
     "end_time": "2019-09-09T10:02:32.618612Z",
     "start_time": "2019-09-09T10:01:34.411335Z"
    }
   },
   "outputs": [],
   "source": [
    "query={'experiment':'cnnci3hs2ssmac', 'status':'done'}\n",
    "\n",
    "results = DBResults(conn=mongolocaltest)\n",
    "#results = DBResults()\n",
    "results.results_dataframe_retrieve(query, arch=['filters','strides','kernel_size', 'activation','drop','filters2','strides2','kernel_size2','drop2','filters3','strides3','kernel_size3','drop3', 'activation_full','full','fulldrop'], data=['lag'])\n"
   ]
  },
  {
   "cell_type": "code",
   "execution_count": null,
   "metadata": {
    "ExecuteTime": {
     "end_time": "2019-09-09T10:03:08.052355Z",
     "start_time": "2019-09-09T10:02:32.947870Z"
    },
    "scrolled": false
   },
   "outputs": [],
   "source": [
    "results.results_dataframe_aggregate(threshold=7.175)\n"
   ]
  },
  {
   "cell_type": "code",
   "execution_count": null,
   "metadata": {
    "ExecuteTime": {
     "end_time": "2019-09-09T10:03:12.243448Z",
     "start_time": "2019-09-09T10:03:08.054885Z"
    },
    "scrolled": false
   },
   "outputs": [],
   "source": [
    "results.results_dataframe_graph(facet='activation_full',att=['filters','strides','kernel_size','drop','filters2','strides2','kernel_size2','drop2','filters3','strides3','kernel_size3','drop3','full','fulldrop', 'activation_full','lag'], count=True, threshold=7.14)"
   ]
  },
  {
   "cell_type": "markdown",
   "metadata": {},
   "source": [
    "# CNN s2s Skip"
   ]
  },
  {
   "cell_type": "code",
   "execution_count": null,
   "metadata": {
    "ExecuteTime": {
     "end_time": "2019-09-01T17:18:13.420725Z",
     "start_time": "2019-09-01T17:17:43.100855Z"
    }
   },
   "outputs": [],
   "source": [
    "query={'experiment':'cnnskips2ssmac','status':'done'}\n",
    "\n",
    "results = DBResults(conn=mongolocaltest)\n",
    "#results = DBResults()\n",
    "results.results_dataframe_retrieve(query, arch=['filters','strides','kernel_size', 'activation','drop', 'activation_full','full','fulldrop'], data=['lag'])\n"
   ]
  },
  {
   "cell_type": "code",
   "execution_count": null,
   "metadata": {
    "ExecuteTime": {
     "end_time": "2019-09-01T17:18:15.724347Z",
     "start_time": "2019-09-01T17:18:13.423980Z"
    },
    "scrolled": true
   },
   "outputs": [],
   "source": [
    "results.results_dataframe_aggregate(threshold=7.22)"
   ]
  },
  {
   "cell_type": "code",
   "execution_count": null,
   "metadata": {
    "ExecuteTime": {
     "end_time": "2019-05-28T04:51:10.804755Z",
     "start_time": "2019-05-28T04:51:09.561629Z"
    }
   },
   "outputs": [],
   "source": [
    "results.results_dataframe_graph(facet='activation',att=['filters','strides','kernel_size','drop','full','fulldrop', 'activation_full','lag'], count=True, threshold=7.2)"
   ]
  },
  {
   "cell_type": "markdown",
   "metadata": {},
   "source": [
    "# CNN s2s sep"
   ]
  },
  {
   "cell_type": "code",
   "execution_count": 3,
   "metadata": {
    "ExecuteTime": {
     "end_time": "2019-07-07T04:32:23.857091Z",
     "start_time": "2019-07-07T04:31:43.253788Z"
    }
   },
   "outputs": [],
   "source": [
    "query={'experiment':'cnnseps2ssmac','status':'done'}\n",
    "\n",
    "results = DBResults(conn=mongolocaltest)\n",
    "#results = DBResults()\n",
    "results.results_dataframe_retrieve(query, arch=['filters','strides','kernel_size', 'activation','drop', 'activation_full','full','fulldrop', 'depth_multiplier'], data=['lag'])\n"
   ]
  },
  {
   "cell_type": "code",
   "execution_count": 4,
   "metadata": {
    "ExecuteTime": {
     "end_time": "2019-07-07T04:32:27.010414Z",
     "start_time": "2019-07-07T04:32:23.859956Z"
    }
   },
   "outputs": [
    {
     "name": "stdout",
     "output_type": "stream",
     "text": [
      "116300\n",
      "Total=515 Thres=15\n"
     ]
    },
    {
     "data": {
      "text/html": [
       "<style type=\"text/css\">\n",
       "#T_cf3fe_row0_col2, #T_cf3fe_row0_col3, #T_cf3fe_row0_col4, #T_cf3fe_row0_col5, #T_cf3fe_row0_col6, #T_cf3fe_row0_col8, #T_cf3fe_row0_col9, #T_cf3fe_row0_col11, #T_cf3fe_row1_col1, #T_cf3fe_row1_col2, #T_cf3fe_row1_col3, #T_cf3fe_row1_col4, #T_cf3fe_row1_col5, #T_cf3fe_row1_col6, #T_cf3fe_row1_col8, #T_cf3fe_row1_col9, #T_cf3fe_row1_col11, #T_cf3fe_row2_col1, #T_cf3fe_row2_col2, #T_cf3fe_row2_col4, #T_cf3fe_row2_col5, #T_cf3fe_row2_col6, #T_cf3fe_row2_col8, #T_cf3fe_row2_col9, #T_cf3fe_row2_col11, #T_cf3fe_row2_col12, #T_cf3fe_row3_col1, #T_cf3fe_row3_col2, #T_cf3fe_row3_col3, #T_cf3fe_row3_col4, #T_cf3fe_row3_col5, #T_cf3fe_row3_col6, #T_cf3fe_row3_col8, #T_cf3fe_row3_col9, #T_cf3fe_row3_col11, #T_cf3fe_row4_col1, #T_cf3fe_row4_col2, #T_cf3fe_row4_col3, #T_cf3fe_row4_col4, #T_cf3fe_row4_col5, #T_cf3fe_row4_col6, #T_cf3fe_row4_col8, #T_cf3fe_row4_col9, #T_cf3fe_row4_col11, #T_cf3fe_row5_col1, #T_cf3fe_row5_col2, #T_cf3fe_row5_col4, #T_cf3fe_row5_col5, #T_cf3fe_row5_col6, #T_cf3fe_row5_col8, #T_cf3fe_row5_col9, #T_cf3fe_row6_col1, #T_cf3fe_row6_col2, #T_cf3fe_row6_col4, #T_cf3fe_row6_col5, #T_cf3fe_row6_col6, #T_cf3fe_row6_col8, #T_cf3fe_row6_col9, #T_cf3fe_row7_col0, #T_cf3fe_row7_col2, #T_cf3fe_row7_col3, #T_cf3fe_row7_col4, #T_cf3fe_row7_col5, #T_cf3fe_row7_col8, #T_cf3fe_row7_col9, #T_cf3fe_row8_col0, #T_cf3fe_row8_col2, #T_cf3fe_row8_col3, #T_cf3fe_row8_col4, #T_cf3fe_row8_col5, #T_cf3fe_row8_col6, #T_cf3fe_row8_col8, #T_cf3fe_row8_col9, #T_cf3fe_row8_col11, #T_cf3fe_row9_col0, #T_cf3fe_row9_col1, #T_cf3fe_row9_col2, #T_cf3fe_row9_col3, #T_cf3fe_row9_col4, #T_cf3fe_row9_col5, #T_cf3fe_row9_col8, #T_cf3fe_row9_col9, #T_cf3fe_row9_col11, #T_cf3fe_row10_col0, #T_cf3fe_row10_col1, #T_cf3fe_row10_col2, #T_cf3fe_row10_col3, #T_cf3fe_row10_col4, #T_cf3fe_row10_col5, #T_cf3fe_row10_col8, #T_cf3fe_row10_col9, #T_cf3fe_row10_col10, #T_cf3fe_row10_col11, #T_cf3fe_row11_col0, #T_cf3fe_row11_col1, #T_cf3fe_row11_col2, #T_cf3fe_row11_col3, #T_cf3fe_row11_col4, #T_cf3fe_row11_col5, #T_cf3fe_row11_col6, #T_cf3fe_row11_col8, #T_cf3fe_row11_col9, #T_cf3fe_row11_col11, #T_cf3fe_row12_col0, #T_cf3fe_row12_col1, #T_cf3fe_row12_col2, #T_cf3fe_row12_col4, #T_cf3fe_row12_col7, #T_cf3fe_row12_col8, #T_cf3fe_row12_col9, #T_cf3fe_row13_col0, #T_cf3fe_row13_col1, #T_cf3fe_row13_col2, #T_cf3fe_row13_col4, #T_cf3fe_row13_col6, #T_cf3fe_row13_col7, #T_cf3fe_row13_col8, #T_cf3fe_row13_col9, #T_cf3fe_row14_col0, #T_cf3fe_row14_col1, #T_cf3fe_row14_col2, #T_cf3fe_row14_col4, #T_cf3fe_row14_col5, #T_cf3fe_row14_col6, #T_cf3fe_row14_col8, #T_cf3fe_row14_col9, #T_cf3fe_row14_col11 {\n",
       "  background-color: yellow;\n",
       "}\n",
       "</style>\n",
       "<table id=\"T_cf3fe_\">\n",
       "  <thead>\n",
       "    <tr>\n",
       "      <th class=\"blank level0\" >&nbsp;</th>\n",
       "      <th class=\"col_heading level0 col0\" >filters</th>\n",
       "      <th class=\"col_heading level0 col1\" >strides</th>\n",
       "      <th class=\"col_heading level0 col2\" >kernel_size</th>\n",
       "      <th class=\"col_heading level0 col3\" >activation</th>\n",
       "      <th class=\"col_heading level0 col4\" >drop</th>\n",
       "      <th class=\"col_heading level0 col5\" >activation_full</th>\n",
       "      <th class=\"col_heading level0 col6\" >full</th>\n",
       "      <th class=\"col_heading level0 col7\" >fulldrop</th>\n",
       "      <th class=\"col_heading level0 col8\" >depth_multiplier</th>\n",
       "      <th class=\"col_heading level0 col9\" >lag</th>\n",
       "      <th class=\"col_heading level0 col10\" colspan=\"2\">test</th>\n",
       "      <th class=\"col_heading level0 col12\" >val</th>\n",
       "    </tr>\n",
       "    <tr>\n",
       "      <th class=\"blank level1\" >&nbsp;</th>\n",
       "      <th class=\"col_heading level1 col0\" ></th>\n",
       "      <th class=\"col_heading level1 col1\" ></th>\n",
       "      <th class=\"col_heading level1 col2\" ></th>\n",
       "      <th class=\"col_heading level1 col3\" ></th>\n",
       "      <th class=\"col_heading level1 col4\" ></th>\n",
       "      <th class=\"col_heading level1 col5\" ></th>\n",
       "      <th class=\"col_heading level1 col6\" ></th>\n",
       "      <th class=\"col_heading level1 col7\" ></th>\n",
       "      <th class=\"col_heading level1 col8\" ></th>\n",
       "      <th class=\"col_heading level1 col9\" ></th>\n",
       "      <th class=\"col_heading level1 col10\" >mean</th>\n",
       "      <th class=\"col_heading level1 col11\" >count</th>\n",
       "      <th class=\"col_heading level1 col12\" >mean</th>\n",
       "    </tr>\n",
       "  </thead>\n",
       "  <tbody>\n",
       "    <tr>\n",
       "      <th id=\"T_cf3fe_level0_row0\" class=\"row_heading level0 row0\" >64</th>\n",
       "      <td id=\"T_cf3fe_row0_col0\" class=\"data row0 col0\" >[256]</td>\n",
       "      <td id=\"T_cf3fe_row0_col1\" class=\"data row0 col1\" >[2]</td>\n",
       "      <td id=\"T_cf3fe_row0_col2\" class=\"data row0 col2\" >[9]</td>\n",
       "      <td id=\"T_cf3fe_row0_col3\" class=\"data row0 col3\" >['elu', 0.4]</td>\n",
       "      <td id=\"T_cf3fe_row0_col4\" class=\"data row0 col4\" >0.5</td>\n",
       "      <td id=\"T_cf3fe_row0_col5\" class=\"data row0 col5\" >['leaky', 0.2]</td>\n",
       "      <td id=\"T_cf3fe_row0_col6\" class=\"data row0 col6\" >[512]</td>\n",
       "      <td id=\"T_cf3fe_row0_col7\" class=\"data row0 col7\" >0.2</td>\n",
       "      <td id=\"T_cf3fe_row0_col8\" class=\"data row0 col8\" >5</td>\n",
       "      <td id=\"T_cf3fe_row0_col9\" class=\"data row0 col9\" >12</td>\n",
       "      <td id=\"T_cf3fe_row0_col10\" class=\"data row0 col10\" >7.294308</td>\n",
       "      <td id=\"T_cf3fe_row0_col11\" class=\"data row0 col11\" >1000</td>\n",
       "      <td id=\"T_cf3fe_row0_col12\" class=\"data row0 col12\" >6.994861</td>\n",
       "    </tr>\n",
       "    <tr>\n",
       "      <th id=\"T_cf3fe_level0_row1\" class=\"row_heading level0 row1\" >117</th>\n",
       "      <td id=\"T_cf3fe_row1_col0\" class=\"data row1 col0\" >[256]</td>\n",
       "      <td id=\"T_cf3fe_row1_col1\" class=\"data row1 col1\" >[3]</td>\n",
       "      <td id=\"T_cf3fe_row1_col2\" class=\"data row1 col2\" >[9]</td>\n",
       "      <td id=\"T_cf3fe_row1_col3\" class=\"data row1 col3\" >['elu', 0.4]</td>\n",
       "      <td id=\"T_cf3fe_row1_col4\" class=\"data row1 col4\" >0.5</td>\n",
       "      <td id=\"T_cf3fe_row1_col5\" class=\"data row1 col5\" >['leaky', 0.2]</td>\n",
       "      <td id=\"T_cf3fe_row1_col6\" class=\"data row1 col6\" >[512]</td>\n",
       "      <td id=\"T_cf3fe_row1_col7\" class=\"data row1 col7\" >0.2</td>\n",
       "      <td id=\"T_cf3fe_row1_col8\" class=\"data row1 col8\" >5</td>\n",
       "      <td id=\"T_cf3fe_row1_col9\" class=\"data row1 col9\" >12</td>\n",
       "      <td id=\"T_cf3fe_row1_col10\" class=\"data row1 col10\" >7.298010</td>\n",
       "      <td id=\"T_cf3fe_row1_col11\" class=\"data row1 col11\" >1000</td>\n",
       "      <td id=\"T_cf3fe_row1_col12\" class=\"data row1 col12\" >7.000761</td>\n",
       "    </tr>\n",
       "    <tr>\n",
       "      <th id=\"T_cf3fe_level0_row2\" class=\"row_heading level0 row2\" >131</th>\n",
       "      <td id=\"T_cf3fe_row2_col0\" class=\"data row2 col0\" >[256]</td>\n",
       "      <td id=\"T_cf3fe_row2_col1\" class=\"data row2 col1\" >[3]</td>\n",
       "      <td id=\"T_cf3fe_row2_col2\" class=\"data row2 col2\" >[9]</td>\n",
       "      <td id=\"T_cf3fe_row2_col3\" class=\"data row2 col3\" >['elu', 0.3]</td>\n",
       "      <td id=\"T_cf3fe_row2_col4\" class=\"data row2 col4\" >0.5</td>\n",
       "      <td id=\"T_cf3fe_row2_col5\" class=\"data row2 col5\" >['leaky', 0.2]</td>\n",
       "      <td id=\"T_cf3fe_row2_col6\" class=\"data row2 col6\" >[512]</td>\n",
       "      <td id=\"T_cf3fe_row2_col7\" class=\"data row2 col7\" >0.2</td>\n",
       "      <td id=\"T_cf3fe_row2_col8\" class=\"data row2 col8\" >5</td>\n",
       "      <td id=\"T_cf3fe_row2_col9\" class=\"data row2 col9\" >12</td>\n",
       "      <td id=\"T_cf3fe_row2_col10\" class=\"data row2 col10\" >7.297907</td>\n",
       "      <td id=\"T_cf3fe_row2_col11\" class=\"data row2 col11\" >1000</td>\n",
       "      <td id=\"T_cf3fe_row2_col12\" class=\"data row2 col12\" >7.001005</td>\n",
       "    </tr>\n",
       "    <tr>\n",
       "      <th id=\"T_cf3fe_level0_row3\" class=\"row_heading level0 row3\" >283</th>\n",
       "      <td id=\"T_cf3fe_row3_col0\" class=\"data row3 col0\" >[1024]</td>\n",
       "      <td id=\"T_cf3fe_row3_col1\" class=\"data row3 col1\" >[3]</td>\n",
       "      <td id=\"T_cf3fe_row3_col2\" class=\"data row3 col2\" >[9]</td>\n",
       "      <td id=\"T_cf3fe_row3_col3\" class=\"data row3 col3\" >['elu', 0.4]</td>\n",
       "      <td id=\"T_cf3fe_row3_col4\" class=\"data row3 col4\" >0.5</td>\n",
       "      <td id=\"T_cf3fe_row3_col5\" class=\"data row3 col5\" >['leaky', 0.2]</td>\n",
       "      <td id=\"T_cf3fe_row3_col6\" class=\"data row3 col6\" >[512]</td>\n",
       "      <td id=\"T_cf3fe_row3_col7\" class=\"data row3 col7\" >0.3</td>\n",
       "      <td id=\"T_cf3fe_row3_col8\" class=\"data row3 col8\" >5</td>\n",
       "      <td id=\"T_cf3fe_row3_col9\" class=\"data row3 col9\" >12</td>\n",
       "      <td id=\"T_cf3fe_row3_col10\" class=\"data row3 col10\" >7.294395</td>\n",
       "      <td id=\"T_cf3fe_row3_col11\" class=\"data row3 col11\" >1000</td>\n",
       "      <td id=\"T_cf3fe_row3_col12\" class=\"data row3 col12\" >6.984590</td>\n",
       "    </tr>\n",
       "    <tr>\n",
       "      <th id=\"T_cf3fe_level0_row4\" class=\"row_heading level0 row4\" >287</th>\n",
       "      <td id=\"T_cf3fe_row4_col0\" class=\"data row4 col0\" >[1024]</td>\n",
       "      <td id=\"T_cf3fe_row4_col1\" class=\"data row4 col1\" >[3]</td>\n",
       "      <td id=\"T_cf3fe_row4_col2\" class=\"data row4 col2\" >[9]</td>\n",
       "      <td id=\"T_cf3fe_row4_col3\" class=\"data row4 col3\" >['elu', 0.4]</td>\n",
       "      <td id=\"T_cf3fe_row4_col4\" class=\"data row4 col4\" >0.5</td>\n",
       "      <td id=\"T_cf3fe_row4_col5\" class=\"data row4 col5\" >['leaky', 0.2]</td>\n",
       "      <td id=\"T_cf3fe_row4_col6\" class=\"data row4 col6\" >[512]</td>\n",
       "      <td id=\"T_cf3fe_row4_col7\" class=\"data row4 col7\" >0.4</td>\n",
       "      <td id=\"T_cf3fe_row4_col8\" class=\"data row4 col8\" >5</td>\n",
       "      <td id=\"T_cf3fe_row4_col9\" class=\"data row4 col9\" >12</td>\n",
       "      <td id=\"T_cf3fe_row4_col10\" class=\"data row4 col10\" >7.297478</td>\n",
       "      <td id=\"T_cf3fe_row4_col11\" class=\"data row4 col11\" >1000</td>\n",
       "      <td id=\"T_cf3fe_row4_col12\" class=\"data row4 col12\" >6.993367</td>\n",
       "    </tr>\n",
       "    <tr>\n",
       "      <th id=\"T_cf3fe_level0_row5\" class=\"row_heading level0 row5\" >298</th>\n",
       "      <td id=\"T_cf3fe_row5_col0\" class=\"data row5 col0\" >[1024]</td>\n",
       "      <td id=\"T_cf3fe_row5_col1\" class=\"data row5 col1\" >[3]</td>\n",
       "      <td id=\"T_cf3fe_row5_col2\" class=\"data row5 col2\" >[9]</td>\n",
       "      <td id=\"T_cf3fe_row5_col3\" class=\"data row5 col3\" >['elu', 0.3]</td>\n",
       "      <td id=\"T_cf3fe_row5_col4\" class=\"data row5 col4\" >0.5</td>\n",
       "      <td id=\"T_cf3fe_row5_col5\" class=\"data row5 col5\" >['leaky', 0.2]</td>\n",
       "      <td id=\"T_cf3fe_row5_col6\" class=\"data row5 col6\" >[512]</td>\n",
       "      <td id=\"T_cf3fe_row5_col7\" class=\"data row5 col7\" >0.3</td>\n",
       "      <td id=\"T_cf3fe_row5_col8\" class=\"data row5 col8\" >5</td>\n",
       "      <td id=\"T_cf3fe_row5_col9\" class=\"data row5 col9\" >12</td>\n",
       "      <td id=\"T_cf3fe_row5_col10\" class=\"data row5 col10\" >7.287642</td>\n",
       "      <td id=\"T_cf3fe_row5_col11\" class=\"data row5 col11\" >900</td>\n",
       "      <td id=\"T_cf3fe_row5_col12\" class=\"data row5 col12\" >6.977249</td>\n",
       "    </tr>\n",
       "    <tr>\n",
       "      <th id=\"T_cf3fe_level0_row6\" class=\"row_heading level0 row6\" >305</th>\n",
       "      <td id=\"T_cf3fe_row6_col0\" class=\"data row6 col0\" >[1024]</td>\n",
       "      <td id=\"T_cf3fe_row6_col1\" class=\"data row6 col1\" >[3]</td>\n",
       "      <td id=\"T_cf3fe_row6_col2\" class=\"data row6 col2\" >[9]</td>\n",
       "      <td id=\"T_cf3fe_row6_col3\" class=\"data row6 col3\" >['elu', 0.3]</td>\n",
       "      <td id=\"T_cf3fe_row6_col4\" class=\"data row6 col4\" >0.5</td>\n",
       "      <td id=\"T_cf3fe_row6_col5\" class=\"data row6 col5\" >['leaky', 0.2]</td>\n",
       "      <td id=\"T_cf3fe_row6_col6\" class=\"data row6 col6\" >[512]</td>\n",
       "      <td id=\"T_cf3fe_row6_col7\" class=\"data row6 col7\" >0.4</td>\n",
       "      <td id=\"T_cf3fe_row6_col8\" class=\"data row6 col8\" >5</td>\n",
       "      <td id=\"T_cf3fe_row6_col9\" class=\"data row6 col9\" >12</td>\n",
       "      <td id=\"T_cf3fe_row6_col10\" class=\"data row6 col10\" >7.289349</td>\n",
       "      <td id=\"T_cf3fe_row6_col11\" class=\"data row6 col11\" >900</td>\n",
       "      <td id=\"T_cf3fe_row6_col12\" class=\"data row6 col12\" >6.982978</td>\n",
       "    </tr>\n",
       "    <tr>\n",
       "      <th id=\"T_cf3fe_level0_row7\" class=\"row_heading level0 row7\" >386</th>\n",
       "      <td id=\"T_cf3fe_row7_col0\" class=\"data row7 col0\" >[512]</td>\n",
       "      <td id=\"T_cf3fe_row7_col1\" class=\"data row7 col1\" >[2]</td>\n",
       "      <td id=\"T_cf3fe_row7_col2\" class=\"data row7 col2\" >[9]</td>\n",
       "      <td id=\"T_cf3fe_row7_col3\" class=\"data row7 col3\" >['elu', 0.4]</td>\n",
       "      <td id=\"T_cf3fe_row7_col4\" class=\"data row7 col4\" >0.5</td>\n",
       "      <td id=\"T_cf3fe_row7_col5\" class=\"data row7 col5\" >['leaky', 0.2]</td>\n",
       "      <td id=\"T_cf3fe_row7_col6\" class=\"data row7 col6\" >[1024]</td>\n",
       "      <td id=\"T_cf3fe_row7_col7\" class=\"data row7 col7\" >0.4</td>\n",
       "      <td id=\"T_cf3fe_row7_col8\" class=\"data row7 col8\" >5</td>\n",
       "      <td id=\"T_cf3fe_row7_col9\" class=\"data row7 col9\" >12</td>\n",
       "      <td id=\"T_cf3fe_row7_col10\" class=\"data row7 col10\" >7.287571</td>\n",
       "      <td id=\"T_cf3fe_row7_col11\" class=\"data row7 col11\" >900</td>\n",
       "      <td id=\"T_cf3fe_row7_col12\" class=\"data row7 col12\" >6.982383</td>\n",
       "    </tr>\n",
       "    <tr>\n",
       "      <th id=\"T_cf3fe_level0_row8\" class=\"row_heading level0 row8\" >387</th>\n",
       "      <td id=\"T_cf3fe_row8_col0\" class=\"data row8 col0\" >[512]</td>\n",
       "      <td id=\"T_cf3fe_row8_col1\" class=\"data row8 col1\" >[2]</td>\n",
       "      <td id=\"T_cf3fe_row8_col2\" class=\"data row8 col2\" >[9]</td>\n",
       "      <td id=\"T_cf3fe_row8_col3\" class=\"data row8 col3\" >['elu', 0.4]</td>\n",
       "      <td id=\"T_cf3fe_row8_col4\" class=\"data row8 col4\" >0.5</td>\n",
       "      <td id=\"T_cf3fe_row8_col5\" class=\"data row8 col5\" >['leaky', 0.2]</td>\n",
       "      <td id=\"T_cf3fe_row8_col6\" class=\"data row8 col6\" >[512]</td>\n",
       "      <td id=\"T_cf3fe_row8_col7\" class=\"data row8 col7\" >0.3</td>\n",
       "      <td id=\"T_cf3fe_row8_col8\" class=\"data row8 col8\" >5</td>\n",
       "      <td id=\"T_cf3fe_row8_col9\" class=\"data row8 col9\" >12</td>\n",
       "      <td id=\"T_cf3fe_row8_col10\" class=\"data row8 col10\" >7.296785</td>\n",
       "      <td id=\"T_cf3fe_row8_col11\" class=\"data row8 col11\" >1000</td>\n",
       "      <td id=\"T_cf3fe_row8_col12\" class=\"data row8 col12\" >6.994643</td>\n",
       "    </tr>\n",
       "    <tr>\n",
       "      <th id=\"T_cf3fe_level0_row9\" class=\"row_heading level0 row9\" >418</th>\n",
       "      <td id=\"T_cf3fe_row9_col0\" class=\"data row9 col0\" >[512]</td>\n",
       "      <td id=\"T_cf3fe_row9_col1\" class=\"data row9 col1\" >[3]</td>\n",
       "      <td id=\"T_cf3fe_row9_col2\" class=\"data row9 col2\" >[9]</td>\n",
       "      <td id=\"T_cf3fe_row9_col3\" class=\"data row9 col3\" >['elu', 0.4]</td>\n",
       "      <td id=\"T_cf3fe_row9_col4\" class=\"data row9 col4\" >0.5</td>\n",
       "      <td id=\"T_cf3fe_row9_col5\" class=\"data row9 col5\" >['leaky', 0.2]</td>\n",
       "      <td id=\"T_cf3fe_row9_col6\" class=\"data row9 col6\" >[1024]</td>\n",
       "      <td id=\"T_cf3fe_row9_col7\" class=\"data row9 col7\" >0.3</td>\n",
       "      <td id=\"T_cf3fe_row9_col8\" class=\"data row9 col8\" >5</td>\n",
       "      <td id=\"T_cf3fe_row9_col9\" class=\"data row9 col9\" >12</td>\n",
       "      <td id=\"T_cf3fe_row9_col10\" class=\"data row9 col10\" >7.298333</td>\n",
       "      <td id=\"T_cf3fe_row9_col11\" class=\"data row9 col11\" >1000</td>\n",
       "      <td id=\"T_cf3fe_row9_col12\" class=\"data row9 col12\" >6.992579</td>\n",
       "    </tr>\n",
       "    <tr>\n",
       "      <th id=\"T_cf3fe_level0_row10\" class=\"row_heading level0 row10\" >420</th>\n",
       "      <td id=\"T_cf3fe_row10_col0\" class=\"data row10 col0\" >[512]</td>\n",
       "      <td id=\"T_cf3fe_row10_col1\" class=\"data row10 col1\" >[3]</td>\n",
       "      <td id=\"T_cf3fe_row10_col2\" class=\"data row10 col2\" >[9]</td>\n",
       "      <td id=\"T_cf3fe_row10_col3\" class=\"data row10 col3\" >['elu', 0.4]</td>\n",
       "      <td id=\"T_cf3fe_row10_col4\" class=\"data row10 col4\" >0.5</td>\n",
       "      <td id=\"T_cf3fe_row10_col5\" class=\"data row10 col5\" >['leaky', 0.2]</td>\n",
       "      <td id=\"T_cf3fe_row10_col6\" class=\"data row10 col6\" >[1024]</td>\n",
       "      <td id=\"T_cf3fe_row10_col7\" class=\"data row10 col7\" >0.4</td>\n",
       "      <td id=\"T_cf3fe_row10_col8\" class=\"data row10 col8\" >5</td>\n",
       "      <td id=\"T_cf3fe_row10_col9\" class=\"data row10 col9\" >12</td>\n",
       "      <td id=\"T_cf3fe_row10_col10\" class=\"data row10 col10\" >7.300237</td>\n",
       "      <td id=\"T_cf3fe_row10_col11\" class=\"data row10 col11\" >1000</td>\n",
       "      <td id=\"T_cf3fe_row10_col12\" class=\"data row10 col12\" >6.997395</td>\n",
       "    </tr>\n",
       "    <tr>\n",
       "      <th id=\"T_cf3fe_level0_row11\" class=\"row_heading level0 row11\" >421</th>\n",
       "      <td id=\"T_cf3fe_row11_col0\" class=\"data row11 col0\" >[512]</td>\n",
       "      <td id=\"T_cf3fe_row11_col1\" class=\"data row11 col1\" >[3]</td>\n",
       "      <td id=\"T_cf3fe_row11_col2\" class=\"data row11 col2\" >[9]</td>\n",
       "      <td id=\"T_cf3fe_row11_col3\" class=\"data row11 col3\" >['elu', 0.4]</td>\n",
       "      <td id=\"T_cf3fe_row11_col4\" class=\"data row11 col4\" >0.5</td>\n",
       "      <td id=\"T_cf3fe_row11_col5\" class=\"data row11 col5\" >['leaky', 0.2]</td>\n",
       "      <td id=\"T_cf3fe_row11_col6\" class=\"data row11 col6\" >[512]</td>\n",
       "      <td id=\"T_cf3fe_row11_col7\" class=\"data row11 col7\" >0.2</td>\n",
       "      <td id=\"T_cf3fe_row11_col8\" class=\"data row11 col8\" >5</td>\n",
       "      <td id=\"T_cf3fe_row11_col9\" class=\"data row11 col9\" >12</td>\n",
       "      <td id=\"T_cf3fe_row11_col10\" class=\"data row11 col10\" >7.299425</td>\n",
       "      <td id=\"T_cf3fe_row11_col11\" class=\"data row11 col11\" >1000</td>\n",
       "      <td id=\"T_cf3fe_row11_col12\" class=\"data row11 col12\" >6.994271</td>\n",
       "    </tr>\n",
       "    <tr>\n",
       "      <th id=\"T_cf3fe_level0_row12\" class=\"row_heading level0 row12\" >424</th>\n",
       "      <td id=\"T_cf3fe_row12_col0\" class=\"data row12 col0\" >[512]</td>\n",
       "      <td id=\"T_cf3fe_row12_col1\" class=\"data row12 col1\" >[3]</td>\n",
       "      <td id=\"T_cf3fe_row12_col2\" class=\"data row12 col2\" >[9]</td>\n",
       "      <td id=\"T_cf3fe_row12_col3\" class=\"data row12 col3\" >['elu', 0.3]</td>\n",
       "      <td id=\"T_cf3fe_row12_col4\" class=\"data row12 col4\" >0.5</td>\n",
       "      <td id=\"T_cf3fe_row12_col5\" class=\"data row12 col5\" >['leaky', 0.1]</td>\n",
       "      <td id=\"T_cf3fe_row12_col6\" class=\"data row12 col6\" >[1024]</td>\n",
       "      <td id=\"T_cf3fe_row12_col7\" class=\"data row12 col7\" >0.5</td>\n",
       "      <td id=\"T_cf3fe_row12_col8\" class=\"data row12 col8\" >5</td>\n",
       "      <td id=\"T_cf3fe_row12_col9\" class=\"data row12 col9\" >12</td>\n",
       "      <td id=\"T_cf3fe_row12_col10\" class=\"data row12 col10\" >7.288165</td>\n",
       "      <td id=\"T_cf3fe_row12_col11\" class=\"data row12 col11\" >900</td>\n",
       "      <td id=\"T_cf3fe_row12_col12\" class=\"data row12 col12\" >6.993089</td>\n",
       "    </tr>\n",
       "    <tr>\n",
       "      <th id=\"T_cf3fe_level0_row13\" class=\"row_heading level0 row13\" >427</th>\n",
       "      <td id=\"T_cf3fe_row13_col0\" class=\"data row13 col0\" >[512]</td>\n",
       "      <td id=\"T_cf3fe_row13_col1\" class=\"data row13 col1\" >[3]</td>\n",
       "      <td id=\"T_cf3fe_row13_col2\" class=\"data row13 col2\" >[9]</td>\n",
       "      <td id=\"T_cf3fe_row13_col3\" class=\"data row13 col3\" >['elu', 0.3]</td>\n",
       "      <td id=\"T_cf3fe_row13_col4\" class=\"data row13 col4\" >0.5</td>\n",
       "      <td id=\"T_cf3fe_row13_col5\" class=\"data row13 col5\" >['leaky', 0.1]</td>\n",
       "      <td id=\"T_cf3fe_row13_col6\" class=\"data row13 col6\" >[512]</td>\n",
       "      <td id=\"T_cf3fe_row13_col7\" class=\"data row13 col7\" >0.5</td>\n",
       "      <td id=\"T_cf3fe_row13_col8\" class=\"data row13 col8\" >5</td>\n",
       "      <td id=\"T_cf3fe_row13_col9\" class=\"data row13 col9\" >12</td>\n",
       "      <td id=\"T_cf3fe_row13_col10\" class=\"data row13 col10\" >7.288058</td>\n",
       "      <td id=\"T_cf3fe_row13_col11\" class=\"data row13 col11\" >900</td>\n",
       "      <td id=\"T_cf3fe_row13_col12\" class=\"data row13 col12\" >6.997827</td>\n",
       "    </tr>\n",
       "    <tr>\n",
       "      <th id=\"T_cf3fe_level0_row14\" class=\"row_heading level0 row14\" >431</th>\n",
       "      <td id=\"T_cf3fe_row14_col0\" class=\"data row14 col0\" >[512]</td>\n",
       "      <td id=\"T_cf3fe_row14_col1\" class=\"data row14 col1\" >[3]</td>\n",
       "      <td id=\"T_cf3fe_row14_col2\" class=\"data row14 col2\" >[9]</td>\n",
       "      <td id=\"T_cf3fe_row14_col3\" class=\"data row14 col3\" >['elu', 0.3]</td>\n",
       "      <td id=\"T_cf3fe_row14_col4\" class=\"data row14 col4\" >0.5</td>\n",
       "      <td id=\"T_cf3fe_row14_col5\" class=\"data row14 col5\" >['leaky', 0.2]</td>\n",
       "      <td id=\"T_cf3fe_row14_col6\" class=\"data row14 col6\" >[512]</td>\n",
       "      <td id=\"T_cf3fe_row14_col7\" class=\"data row14 col7\" >0.2</td>\n",
       "      <td id=\"T_cf3fe_row14_col8\" class=\"data row14 col8\" >5</td>\n",
       "      <td id=\"T_cf3fe_row14_col9\" class=\"data row14 col9\" >12</td>\n",
       "      <td id=\"T_cf3fe_row14_col10\" class=\"data row14 col10\" >7.295970</td>\n",
       "      <td id=\"T_cf3fe_row14_col11\" class=\"data row14 col11\" >1000</td>\n",
       "      <td id=\"T_cf3fe_row14_col12\" class=\"data row14 col12\" >6.992562</td>\n",
       "    </tr>\n",
       "  </tbody>\n",
       "</table>\n"
      ],
      "text/plain": [
       "<pandas.io.formats.style.Styler at 0x7fdbba85eaf0>"
      ]
     },
     "execution_count": 4,
     "metadata": {},
     "output_type": "execute_result"
    }
   ],
   "source": [
    "results.results_dataframe_aggregate(threshold=7.285)"
   ]
  },
  {
   "cell_type": "code",
   "execution_count": 5,
   "metadata": {
    "ExecuteTime": {
     "end_time": "2019-07-07T04:33:20.531227Z",
     "start_time": "2019-07-07T04:33:19.496266Z"
    },
    "scrolled": false
   },
   "outputs": [
    {
     "data": {
      "application/vnd.plotly.v1+json": {
       "config": {
        "linkText": "Export to plot.ly",
        "plotlyServerURL": "https://plot.ly",
        "showLink": false
       },
       "data": [
        {
         "marker": {
          "size": 20
         },
         "mode": "markers",
         "name": "['elu', 0.3]",
         "text": [
          "filters:[64]-strides:[1]-kernel_size:[1]-drop:0.5-full:[128]-fulldrop:0.4-activation_full:relu-depth_multiplier:4-lag:24-activation:['elu', 0.3]",
          "filters:[64]-strides:[2]-kernel_size:[7]-drop:0.1-full:[256, 128, 64]-fulldrop:0.4-activation_full:linear-depth_multiplier:1-lag:24-activation:['elu', 0.3]",
          "filters:[64]-strides:[2]-kernel_size:[1]-drop:0.5-full:[512]-fulldrop:0.5-activation_full:['leaky', 0.1]-depth_multiplier:5-lag:6-activation:['elu', 0.3]",
          "filters:[64]-strides:[3]-kernel_size:[7]-drop:0.1-full:[256, 128, 64]-fulldrop:0.0-activation_full:['elu', 0.3]-depth_multiplier:4-lag:6-activation:['elu', 0.3]",
          "filters:[64]-strides:[3]-kernel_size:[7]-drop:0.4-full:[32, 16]-fulldrop:0.5-activation_full:tanh-depth_multiplier:5-lag:24-activation:['elu', 0.3]",
          "filters:[64]-strides:[3]-kernel_size:[3]-drop:0.1-full:[2048]-fulldrop:0.0-activation_full:['leaky', 0.1]-depth_multiplier:3-lag:6-activation:['elu', 0.3]",
          "filters:[64]-strides:[3]-kernel_size:[1]-drop:0.4-full:[2048, 1024]-fulldrop:0.5-activation_full:tanh-depth_multiplier:4-lag:6-activation:['elu', 0.3]",
          "filters:[256]-strides:[2]-kernel_size:[1]-drop:0.3-full:[1024]-fulldrop:0.4-activation_full:['elu', 0.4]-depth_multiplier:5-lag:30-activation:['elu', 0.3]",
          "filters:[256]-strides:[2]-kernel_size:[9]-drop:0.5-full:[512]-fulldrop:0.2-activation_full:['leaky', 0.2]-depth_multiplier:5-lag:12-activation:['elu', 0.3]",
          "filters:[256]-strides:[3]-kernel_size:[7]-drop:0.4-full:[1024]-fulldrop:0.5-activation_full:['leaky', 0.1]-depth_multiplier:5-lag:12-activation:['elu', 0.3]",
          "filters:[256]-strides:[3]-kernel_size:[7]-drop:0.5-full:[1024]-fulldrop:0.5-activation_full:['leaky', 0.1]-depth_multiplier:5-lag:12-activation:['elu', 0.3]",
          "filters:[256]-strides:[3]-kernel_size:[7]-drop:0.5-full:[512]-fulldrop:0.4-activation_full:['leaky', 0.1]-depth_multiplier:5-lag:12-activation:['elu', 0.3]",
          "filters:[256]-strides:[3]-kernel_size:[7]-drop:0.5-full:[512]-fulldrop:0.0-activation_full:['leaky', 0.2]-depth_multiplier:5-lag:12-activation:['elu', 0.3]",
          "filters:[256]-strides:[3]-kernel_size:[7]-drop:0.5-full:[512]-fulldrop:0.2-activation_full:['leaky', 0.2]-depth_multiplier:5-lag:12-activation:['elu', 0.3]",
          "filters:[256]-strides:[3]-kernel_size:[7]-drop:0.5-full:[512]-fulldrop:0.1-activation_full:['leaky', 0.2]-depth_multiplier:5-lag:12-activation:['elu', 0.3]",
          "filters:[256]-strides:[3]-kernel_size:[7]-drop:0.5-full:[512]-fulldrop:0.4-activation_full:['leaky', 0.2]-depth_multiplier:5-lag:12-activation:['elu', 0.3]",
          "filters:[256]-strides:[3]-kernel_size:[3]-drop:0.1-full:[2048, 1024, 512]-fulldrop:0.0-activation_full:['prelu', 0.0]-depth_multiplier:5-lag:30-activation:['elu', 0.3]",
          "filters:[256]-strides:[3]-kernel_size:[1]-drop:0.4-full:[2048, 1024, 512]-fulldrop:0.5-activation_full:['leaky', 0.1]-depth_multiplier:2-lag:12-activation:['elu', 0.3]",
          "filters:[256]-strides:[3]-kernel_size:[9]-drop:0.4-full:[1024, 512, 256]-fulldrop:0.0-activation_full:relu-depth_multiplier:4-lag:6-activation:['elu', 0.3]",
          "filters:[256]-strides:[3]-kernel_size:[9]-drop:0.4-full:[1024]-fulldrop:0.5-activation_full:['leaky', 0.1]-depth_multiplier:5-lag:12-activation:['elu', 0.3]",
          "filters:[256]-strides:[3]-kernel_size:[9]-drop:0.4-full:[1024]-fulldrop:0.5-activation_full:['leaky', 0.1]-depth_multiplier:5-lag:6-activation:['elu', 0.3]",
          "filters:[256]-strides:[3]-kernel_size:[9]-drop:0.4-full:[1024]-fulldrop:0.0-activation_full:['leaky', 0.2]-depth_multiplier:5-lag:12-activation:['elu', 0.3]",
          "filters:[256]-strides:[3]-kernel_size:[9]-drop:0.4-full:[512]-fulldrop:0.2-activation_full:['leaky', 0.2]-depth_multiplier:5-lag:12-activation:['elu', 0.3]",
          "filters:[256]-strides:[3]-kernel_size:[9]-drop:0.5-full:[1024]-fulldrop:0.5-activation_full:['leaky', 0.1]-depth_multiplier:5-lag:12-activation:['elu', 0.3]",
          "filters:[256]-strides:[3]-kernel_size:[9]-drop:0.5-full:[1024]-fulldrop:0.3-activation_full:['leaky', 0.1]-depth_multiplier:5-lag:12-activation:['elu', 0.3]",
          "filters:[256]-strides:[3]-kernel_size:[9]-drop:0.5-full:[1024]-fulldrop:0.4-activation_full:['leaky', 0.1]-depth_multiplier:5-lag:6-activation:['elu', 0.3]",
          "filters:[256]-strides:[3]-kernel_size:[9]-drop:0.5-full:[512]-fulldrop:0.2-activation_full:['elu', 0.4]-depth_multiplier:5-lag:12-activation:['elu', 0.3]",
          "filters:[256]-strides:[3]-kernel_size:[9]-drop:0.5-full:[1024]-fulldrop:0.2-activation_full:['leaky', 0.2]-depth_multiplier:5-lag:12-activation:['elu', 0.3]",
          "filters:[256]-strides:[3]-kernel_size:[9]-drop:0.5-full:[512]-fulldrop:0.0-activation_full:['leaky', 0.2]-depth_multiplier:5-lag:12-activation:['elu', 0.3]",
          "filters:[256]-strides:[3]-kernel_size:[9]-drop:0.5-full:[512]-fulldrop:0.2-activation_full:['leaky', 0.2]-depth_multiplier:5-lag:12-activation:['elu', 0.3]",
          "filters:[256]-strides:[3]-kernel_size:[9]-drop:0.5-full:[512]-fulldrop:0.1-activation_full:['leaky', 0.2]-depth_multiplier:5-lag:12-activation:['elu', 0.3]",
          "filters:[256]-strides:[3]-kernel_size:[9]-drop:0.5-full:[512]-fulldrop:0.4-activation_full:['leaky', 0.2]-depth_multiplier:5-lag:12-activation:['elu', 0.3]",
          "filters:[1024]-strides:[1]-kernel_size:[5]-drop:0.1-full:[128, 64]-fulldrop:0.5-activation_full:tanh-depth_multiplier:1-lag:24-activation:['elu', 0.3]",
          "filters:[1024]-strides:[1]-kernel_size:[1]-drop:0.3-full:[1024]-fulldrop:0.1-activation_full:['leaky', 0.2]-depth_multiplier:3-lag:24-activation:['elu', 0.3]",
          "filters:[1024]-strides:[1]-kernel_size:[9]-drop:0.1-full:[2048, 1024]-fulldrop:0.0-activation_full:tanh-depth_multiplier:1-lag:30-activation:['elu', 0.3]",
          "filters:[1024]-strides:[3]-kernel_size:[7]-drop:0.5-full:[1024]-fulldrop:0.4-activation_full:['leaky', 0.1]-depth_multiplier:5-lag:6-activation:['elu', 0.3]",
          "filters:[1024]-strides:[3]-kernel_size:[7]-drop:0.5-full:[512]-fulldrop:0.4-activation_full:['leaky', 0.1]-depth_multiplier:5-lag:12-activation:['elu', 0.3]",
          "filters:[1024]-strides:[3]-kernel_size:[7]-drop:0.5-full:[512]-fulldrop:0.4-activation_full:['leaky', 0.1]-depth_multiplier:5-lag:6-activation:['elu', 0.3]",
          "filters:[1024]-strides:[3]-kernel_size:[7]-drop:0.5-full:[32, 16, 8]-fulldrop:0.5-activation_full:['leaky', 0.2]-depth_multiplier:1-lag:30-activation:['elu', 0.3]",
          "filters:[1024]-strides:[3]-kernel_size:[7]-drop:0.5-full:[512]-fulldrop:0.5-activation_full:['leaky', 0.2]-depth_multiplier:5-lag:12-activation:['elu', 0.3]",
          "filters:[1024]-strides:[3]-kernel_size:[7]-drop:0.5-full:[512]-fulldrop:0.1-activation_full:['leaky', 0.2]-depth_multiplier:5-lag:6-activation:['elu', 0.3]",
          "filters:[1024]-strides:[3]-kernel_size:[7]-drop:0.5-full:[512]-fulldrop:0.4-activation_full:['leaky', 0.2]-depth_multiplier:5-lag:12-activation:['elu', 0.3]",
          "filters:[1024]-strides:[3]-kernel_size:[9]-drop:0.2-full:[256]-fulldrop:0.1-activation_full:linear-depth_multiplier:5-lag:30-activation:['elu', 0.3]",
          "filters:[1024]-strides:[3]-kernel_size:[9]-drop:0.5-full:[512]-fulldrop:0.3-activation_full:['leaky', 0.1]-depth_multiplier:5-lag:12-activation:['elu', 0.3]",
          "filters:[1024]-strides:[3]-kernel_size:[9]-drop:0.5-full:[512]-fulldrop:0.3-activation_full:['leaky', 0.1]-depth_multiplier:5-lag:6-activation:['elu', 0.3]",
          "filters:[1024]-strides:[3]-kernel_size:[9]-drop:0.5-full:[512]-fulldrop:0.4-activation_full:['leaky', 0.1]-depth_multiplier:5-lag:6-activation:['elu', 0.3]",
          "filters:[1024]-strides:[3]-kernel_size:[9]-drop:0.5-full:[512]-fulldrop:0.5-activation_full:['leaky', 0.2]-depth_multiplier:5-lag:12-activation:['elu', 0.3]",
          "filters:[1024]-strides:[3]-kernel_size:[9]-drop:0.5-full:[512]-fulldrop:0.3-activation_full:['leaky', 0.2]-depth_multiplier:5-lag:12-activation:['elu', 0.3]",
          "filters:[1024]-strides:[3]-kernel_size:[9]-drop:0.5-full:[512]-fulldrop:0.3-activation_full:['leaky', 0.2]-depth_multiplier:5-lag:6-activation:['elu', 0.3]",
          "filters:[1024]-strides:[3]-kernel_size:[9]-drop:0.5-full:[512]-fulldrop:0.0-activation_full:['leaky', 0.2]-depth_multiplier:5-lag:12-activation:['elu', 0.3]",
          "filters:[1024]-strides:[3]-kernel_size:[9]-drop:0.5-full:[512]-fulldrop:0.2-activation_full:['leaky', 0.2]-depth_multiplier:5-lag:12-activation:['elu', 0.3]",
          "filters:[1024]-strides:[3]-kernel_size:[9]-drop:0.5-full:[512]-fulldrop:0.2-activation_full:['leaky', 0.2]-depth_multiplier:5-lag:6-activation:['elu', 0.3]",
          "filters:[1024]-strides:[3]-kernel_size:[9]-drop:0.5-full:[512]-fulldrop:0.1-activation_full:['leaky', 0.2]-depth_multiplier:5-lag:12-activation:['elu', 0.3]",
          "filters:[1024]-strides:[3]-kernel_size:[9]-drop:0.5-full:[512]-fulldrop:0.1-activation_full:['leaky', 0.2]-depth_multiplier:5-lag:6-activation:['elu', 0.3]",
          "filters:[1024]-strides:[3]-kernel_size:[9]-drop:0.5-full:[512]-fulldrop:0.4-activation_full:['leaky', 0.2]-depth_multiplier:5-lag:12-activation:['elu', 0.3]",
          "filters:[1024]-strides:[3]-kernel_size:[9]-drop:0.5-full:[512]-fulldrop:0.4-activation_full:['leaky', 0.2]-depth_multiplier:5-lag:6-activation:['elu', 0.3]",
          "filters:[32]-strides:[1]-kernel_size:[5]-drop:0.5-full:[64, 32, 16]-fulldrop:0.2-activation_full:['prelu', 0.0]-depth_multiplier:3-lag:12-activation:['elu', 0.3]",
          "filters:[32]-strides:[1]-kernel_size:[1]-drop:0.4-full:[64, 32, 16]-fulldrop:0.4-activation_full:['elu', 0.4]-depth_multiplier:3-lag:6-activation:['elu', 0.3]",
          "filters:[32]-strides:[3]-kernel_size:[7]-drop:0.1-full:[256, 128, 64]-fulldrop:0.0-activation_full:['prelu', 0.0]-depth_multiplier:5-lag:12-activation:['elu', 0.3]",
          "filters:[32]-strides:[3]-kernel_size:[1]-drop:0.0-full:[2048, 1024]-fulldrop:0.2-activation_full:['elu', 0.4]-depth_multiplier:3-lag:30-activation:['elu', 0.3]",
          "filters:[512]-strides:[1]-kernel_size:[7]-drop:0.4-full:[128]-fulldrop:0.2-activation_full:linear-depth_multiplier:5-lag:18-activation:['elu', 0.3]",
          "filters:[512]-strides:[2]-kernel_size:[1]-drop:0.2-full:[32, 16, 8]-fulldrop:0.2-activation_full:['leaky', 0.2]-depth_multiplier:3-lag:6-activation:['elu', 0.3]",
          "filters:[512]-strides:[3]-kernel_size:[5]-drop:0.0-full:[128, 64, 32]-fulldrop:0.5-activation_full:['elu', 0.3]-depth_multiplier:2-lag:12-activation:['elu', 0.3]",
          "filters:[512]-strides:[3]-kernel_size:[7]-drop:0.5-full:[1024]-fulldrop:0.5-activation_full:['leaky', 0.1]-depth_multiplier:5-lag:12-activation:['elu', 0.3]",
          "filters:[512]-strides:[3]-kernel_size:[7]-drop:0.5-full:[512]-fulldrop:0.5-activation_full:['leaky', 0.1]-depth_multiplier:5-lag:12-activation:['elu', 0.3]",
          "filters:[512]-strides:[3]-kernel_size:[7]-drop:0.5-full:[512]-fulldrop:0.4-activation_full:['leaky', 0.1]-depth_multiplier:5-lag:12-activation:['elu', 0.3]",
          "filters:[512]-strides:[3]-kernel_size:[7]-drop:0.5-full:[512]-fulldrop:0.2-activation_full:['leaky', 0.2]-depth_multiplier:5-lag:12-activation:['elu', 0.3]",
          "filters:[512]-strides:[3]-kernel_size:[7]-drop:0.5-full:[512]-fulldrop:0.1-activation_full:['leaky', 0.2]-depth_multiplier:5-lag:12-activation:['elu', 0.3]",
          "filters:[512]-strides:[3]-kernel_size:[3]-drop:0.1-full:[128, 64]-fulldrop:0.3-activation_full:hard_sigmoid-depth_multiplier:3-lag:30-activation:['elu', 0.3]",
          "filters:[512]-strides:[3]-kernel_size:[9]-drop:0.4-full:[128, 64]-fulldrop:0.1-activation_full:relu-depth_multiplier:3-lag:24-activation:['elu', 0.3]",
          "filters:[512]-strides:[3]-kernel_size:[9]-drop:0.4-full:[512]-fulldrop:0.2-activation_full:['leaky', 0.2]-depth_multiplier:5-lag:12-activation:['elu', 0.3]",
          "filters:[512]-strides:[3]-kernel_size:[9]-drop:0.5-full:[1024]-fulldrop:0.5-activation_full:['leaky', 0.1]-depth_multiplier:5-lag:12-activation:['elu', 0.3]",
          "filters:[512]-strides:[3]-kernel_size:[9]-drop:0.5-full:[1024]-fulldrop:0.2-activation_full:['leaky', 0.1]-depth_multiplier:5-lag:6-activation:['elu', 0.3]",
          "filters:[512]-strides:[3]-kernel_size:[9]-drop:0.5-full:[1024]-fulldrop:0.4-activation_full:['leaky', 0.1]-depth_multiplier:5-lag:6-activation:['elu', 0.3]",
          "filters:[512]-strides:[3]-kernel_size:[9]-drop:0.5-full:[512]-fulldrop:0.5-activation_full:['leaky', 0.1]-depth_multiplier:5-lag:12-activation:['elu', 0.3]",
          "filters:[512]-strides:[3]-kernel_size:[9]-drop:0.5-full:[1024]-fulldrop:0.1-activation_full:['leaky', 0.2]-depth_multiplier:5-lag:12-activation:['elu', 0.3]",
          "filters:[512]-strides:[3]-kernel_size:[9]-drop:0.5-full:[1024]-fulldrop:0.1-activation_full:['leaky', 0.2]-depth_multiplier:5-lag:6-activation:['elu', 0.3]",
          "filters:[512]-strides:[3]-kernel_size:[9]-drop:0.5-full:[512]-fulldrop:0.0-activation_full:['leaky', 0.2]-depth_multiplier:5-lag:12-activation:['elu', 0.3]",
          "filters:[512]-strides:[3]-kernel_size:[9]-drop:0.5-full:[512]-fulldrop:0.2-activation_full:['leaky', 0.2]-depth_multiplier:5-lag:12-activation:['elu', 0.3]",
          "filters:[512]-strides:[3]-kernel_size:[9]-drop:0.5-full:[512]-fulldrop:0.1-activation_full:['leaky', 0.2]-depth_multiplier:5-lag:12-activation:['elu', 0.3]",
          "filters:[16]-strides:[1]-kernel_size:[5]-drop:0.3-full:[1024, 512, 256]-fulldrop:0.0-activation_full:['leaky', 0.1]-depth_multiplier:1-lag:6-activation:['elu', 0.3]",
          "filters:[16]-strides:[2]-kernel_size:[7]-drop:0.3-full:[4096, 2048]-fulldrop:0.3-activation_full:['prelu', 0.0]-depth_multiplier:1-lag:18-activation:['elu', 0.3]",
          "filters:[16]-strides:[3]-kernel_size:[1]-drop:0.4-full:[512, 256, 128]-fulldrop:0.3-activation_full:['prelu', 0.0]-depth_multiplier:2-lag:12-activation:['elu', 0.3]",
          "filters:[16]-strides:[3]-kernel_size:[9]-drop:0.2-full:[512, 256]-fulldrop:0.0-activation_full:hard_sigmoid-depth_multiplier:4-lag:18-activation:['elu', 0.3]",
          "filters:[128]-strides:[2]-kernel_size:[3]-drop:0.5-full:[1024, 512]-fulldrop:0.3-activation_full:['leaky', 0.1]-depth_multiplier:3-lag:30-activation:['elu', 0.3]",
          "filters:[128]-strides:[2]-kernel_size:[1]-drop:0.4-full:[128, 64, 32]-fulldrop:0.5-activation_full:linear-depth_multiplier:5-lag:18-activation:['elu', 0.3]",
          "filters:[128]-strides:[2]-kernel_size:[9]-drop:0.5-full:[256, 128]-fulldrop:0.0-activation_full:['prelu', 0.0]-depth_multiplier:5-lag:18-activation:['elu', 0.3]"
         ],
         "type": "scatter",
         "x": [
          7.283708584416399,
          7.272815258708703,
          7.275607451207718,
          7.27550895290887,
          7.281303633310873,
          7.250904658126284,
          7.276090061543141,
          7.280096304293411,
          7.24579469456968,
          7.282663629882907,
          7.283065066252155,
          7.274598622700303,
          7.24226205076989,
          7.281881055882875,
          7.281423591970444,
          7.297907171049377,
          7.279766945517824,
          7.282836077875476,
          7.251007318440616,
          7.251693330744834,
          7.246398535666164,
          7.278530520910303,
          7.249733177667443,
          7.280683305191164,
          7.27390272837786,
          7.2750742467179315,
          7.283596263535353,
          7.287641700910342,
          7.276758556764679,
          7.274517448643722,
          7.278641966211592,
          7.247726566585261,
          7.249178806919269,
          7.289349191996275,
          7.2521204287303105,
          7.275693817516641,
          7.27729783135884,
          7.2762761852961875,
          7.279603825011086,
          7.244465960939838,
          7.274746438671059,
          7.2881650936731655,
          7.2497532068137325,
          7.278173254178127,
          7.288058062195905,
          7.244528421621054,
          7.24666018219475,
          7.295969674746627,
          7.2510599427412705
         ],
         "y": [
          800,
          800,
          800,
          800,
          800,
          600,
          800,
          800,
          600,
          800,
          800,
          800,
          600,
          800,
          800,
          1000,
          800,
          800,
          600,
          400,
          600,
          800,
          400,
          800,
          800,
          800,
          800,
          900,
          800,
          800,
          800,
          400,
          600,
          900,
          600,
          800,
          800,
          800,
          800,
          600,
          800,
          900,
          600,
          800,
          900,
          400,
          600,
          1000,
          600
         ]
        },
        {
         "marker": {
          "size": 20
         },
         "mode": "markers",
         "name": "['elu', 0.4]",
         "text": [
          "filters:[64]-strides:[1]-kernel_size:[5]-drop:0.2-full:[32, 16, 8]-fulldrop:0.3-activation_full:['elu', 0.4]-depth_multiplier:5-lag:12-activation:['elu', 0.4]",
          "filters:[64]-strides:[3]-kernel_size:[3]-drop:0.3-full:[4096, 2048, 1024]-fulldrop:0.5-activation_full:tanh-depth_multiplier:2-lag:30-activation:['elu', 0.4]",
          "filters:[256]-strides:[1]-kernel_size:[7]-drop:0.3-full:[128, 64, 32]-fulldrop:0.5-activation_full:['prelu', 0.0]-depth_multiplier:5-lag:12-activation:['elu', 0.4]",
          "filters:[256]-strides:[2]-kernel_size:[9]-drop:0.5-full:[512]-fulldrop:0.2-activation_full:['leaky', 0.2]-depth_multiplier:5-lag:12-activation:['elu', 0.4]",
          "filters:[256]-strides:[3]-kernel_size:[9]-drop:0.5-full:[512]-fulldrop:0.2-activation_full:['elu', 0.4]-depth_multiplier:5-lag:12-activation:['elu', 0.4]",
          "filters:[256]-strides:[3]-kernel_size:[9]-drop:0.5-full:[512]-fulldrop:0.2-activation_full:['leaky', 0.2]-depth_multiplier:5-lag:12-activation:['elu', 0.4]",
          "filters:[256]-strides:[3]-kernel_size:[9]-drop:0.5-full:[512]-fulldrop:0.4-activation_full:['leaky', 0.2]-depth_multiplier:5-lag:12-activation:['elu', 0.4]",
          "filters:[1024]-strides:[1]-kernel_size:[5]-drop:0.0-full:[256, 128, 64]-fulldrop:0.3-activation_full:relu-depth_multiplier:5-lag:6-activation:['elu', 0.4]",
          "filters:[1024]-strides:[1]-kernel_size:[3]-drop:0.0-full:[64, 32, 16]-fulldrop:0.5-activation_full:['leaky', 0.1]-depth_multiplier:2-lag:18-activation:['elu', 0.4]",
          "filters:[1024]-strides:[3]-kernel_size:[7]-drop:0.4-full:[128]-fulldrop:0.1-activation_full:hard_sigmoid-depth_multiplier:4-lag:12-activation:['elu', 0.4]",
          "filters:[1024]-strides:[3]-kernel_size:[7]-drop:0.5-full:[512]-fulldrop:0.0-activation_full:['leaky', 0.2]-depth_multiplier:5-lag:12-activation:['elu', 0.4]",
          "filters:[1024]-strides:[3]-kernel_size:[7]-drop:0.5-full:[512]-fulldrop:0.2-activation_full:['leaky', 0.2]-depth_multiplier:5-lag:12-activation:['elu', 0.4]",
          "filters:[1024]-strides:[3]-kernel_size:[7]-drop:0.5-full:[512]-fulldrop:0.1-activation_full:['leaky', 0.2]-depth_multiplier:5-lag:12-activation:['elu', 0.4]",
          "filters:[1024]-strides:[3]-kernel_size:[7]-drop:0.5-full:[512]-fulldrop:0.4-activation_full:['leaky', 0.2]-depth_multiplier:5-lag:12-activation:['elu', 0.4]",
          "filters:[1024]-strides:[3]-kernel_size:[7]-drop:0.0-full:[128, 64]-fulldrop:0.5-activation_full:['leaky', 0.2]-depth_multiplier:3-lag:12-activation:['elu', 0.4]",
          "filters:[1024]-strides:[3]-kernel_size:[9]-drop:0.5-full:[1024]-fulldrop:0.4-activation_full:relu-depth_multiplier:5-lag:6-activation:['elu', 0.4]",
          "filters:[1024]-strides:[3]-kernel_size:[9]-drop:0.5-full:[512]-fulldrop:0.4-activation_full:relu-depth_multiplier:5-lag:12-activation:['elu', 0.4]",
          "filters:[1024]-strides:[3]-kernel_size:[9]-drop:0.5-full:[512]-fulldrop:0.4-activation_full:relu-depth_multiplier:5-lag:6-activation:['elu', 0.4]",
          "filters:[1024]-strides:[3]-kernel_size:[9]-drop:0.5-full:[512]-fulldrop:0.3-activation_full:['leaky', 0.1]-depth_multiplier:5-lag:12-activation:['elu', 0.4]",
          "filters:[1024]-strides:[3]-kernel_size:[9]-drop:0.5-full:[512]-fulldrop:0.4-activation_full:['elu', 0.3]-depth_multiplier:5-lag:12-activation:['elu', 0.4]",
          "filters:[1024]-strides:[3]-kernel_size:[9]-drop:0.5-full:[1024]-fulldrop:0.1-activation_full:['leaky', 0.2]-depth_multiplier:5-lag:12-activation:['elu', 0.4]",
          "filters:[1024]-strides:[3]-kernel_size:[9]-drop:0.5-full:[512]-fulldrop:0.3-activation_full:['leaky', 0.2]-depth_multiplier:5-lag:12-activation:['elu', 0.4]",
          "filters:[1024]-strides:[3]-kernel_size:[9]-drop:0.5-full:[512]-fulldrop:0.0-activation_full:['leaky', 0.2]-depth_multiplier:5-lag:12-activation:['elu', 0.4]",
          "filters:[1024]-strides:[3]-kernel_size:[9]-drop:0.5-full:[512]-fulldrop:0.2-activation_full:['leaky', 0.2]-depth_multiplier:5-lag:12-activation:['elu', 0.4]",
          "filters:[1024]-strides:[3]-kernel_size:[9]-drop:0.5-full:[512]-fulldrop:0.1-activation_full:['leaky', 0.2]-depth_multiplier:5-lag:12-activation:['elu', 0.4]",
          "filters:[1024]-strides:[3]-kernel_size:[9]-drop:0.5-full:[512]-fulldrop:0.4-activation_full:['leaky', 0.2]-depth_multiplier:5-lag:12-activation:['elu', 0.4]",
          "filters:[1024]-strides:[3]-kernel_size:[9]-drop:0.3-full:[512]-fulldrop:0.4-activation_full:['leaky', 0.2]-depth_multiplier:5-lag:6-activation:['elu', 0.4]",
          "filters:[32]-strides:[1]-kernel_size:[7]-drop:0.1-full:[2048, 1024]-fulldrop:0.5-activation_full:hard_sigmoid-depth_multiplier:3-lag:24-activation:['elu', 0.4]",
          "filters:[32]-strides:[1]-kernel_size:[3]-drop:0.1-full:[2048]-fulldrop:0.3-activation_full:['prelu', 0.0]-depth_multiplier:3-lag:24-activation:['elu', 0.4]",
          "filters:[32]-strides:[1]-kernel_size:[9]-drop:0.3-full:[128, 64, 32]-fulldrop:0.0-activation_full:hard_sigmoid-depth_multiplier:5-lag:12-activation:['elu', 0.4]",
          "filters:[32]-strides:[2]-kernel_size:[1]-drop:0.0-full:[512]-fulldrop:0.2-activation_full:['prelu', 0.0]-depth_multiplier:4-lag:24-activation:['elu', 0.4]",
          "filters:[32]-strides:[2]-kernel_size:[9]-drop:0.4-full:[256, 128, 64]-fulldrop:0.5-activation_full:hard_sigmoid-depth_multiplier:2-lag:24-activation:['elu', 0.4]",
          "filters:[512]-strides:[1]-kernel_size:[5]-drop:0.3-full:[1024]-fulldrop:0.0-activation_full:['elu', 0.3]-depth_multiplier:4-lag:18-activation:['elu', 0.4]",
          "filters:[512]-strides:[2]-kernel_size:[1]-drop:0.4-full:[256, 128, 64]-fulldrop:0.0-activation_full:['leaky', 0.1]-depth_multiplier:1-lag:12-activation:['elu', 0.4]",
          "filters:[512]-strides:[2]-kernel_size:[9]-drop:0.5-full:[1024]-fulldrop:0.4-activation_full:['leaky', 0.2]-depth_multiplier:5-lag:12-activation:['elu', 0.4]",
          "filters:[512]-strides:[2]-kernel_size:[9]-drop:0.5-full:[512]-fulldrop:0.3-activation_full:['leaky', 0.2]-depth_multiplier:5-lag:12-activation:['elu', 0.4]",
          "filters:[512]-strides:[2]-kernel_size:[9]-drop:0.5-full:[512]-fulldrop:0.2-activation_full:['leaky', 0.2]-depth_multiplier:5-lag:12-activation:['elu', 0.4]",
          "filters:[512]-strides:[3]-kernel_size:[7]-drop:0.0-full:[128, 64]-fulldrop:0.1-activation_full:['leaky', 0.2]-depth_multiplier:3-lag:12-activation:['elu', 0.4]",
          "filters:[512]-strides:[3]-kernel_size:[9]-drop:0.5-full:[512]-fulldrop:0.2-activation_full:['elu', 0.4]-depth_multiplier:5-lag:12-activation:['elu', 0.4]",
          "filters:[512]-strides:[3]-kernel_size:[9]-drop:0.5-full:[1024]-fulldrop:0.3-activation_full:['leaky', 0.2]-depth_multiplier:5-lag:12-activation:['elu', 0.4]",
          "filters:[512]-strides:[3]-kernel_size:[9]-drop:0.5-full:[1024]-fulldrop:0.2-activation_full:['leaky', 0.2]-depth_multiplier:5-lag:12-activation:['elu', 0.4]",
          "filters:[512]-strides:[3]-kernel_size:[9]-drop:0.5-full:[1024]-fulldrop:0.4-activation_full:['leaky', 0.2]-depth_multiplier:5-lag:12-activation:['elu', 0.4]",
          "filters:[512]-strides:[3]-kernel_size:[9]-drop:0.5-full:[512]-fulldrop:0.2-activation_full:['leaky', 0.2]-depth_multiplier:5-lag:12-activation:['elu', 0.4]",
          "filters:[16]-strides:[1]-kernel_size:[1]-drop:0.3-full:[32]-fulldrop:0.3-activation_full:linear-depth_multiplier:2-lag:12-activation:['elu', 0.4]",
          "filters:[16]-strides:[1]-kernel_size:[1]-drop:0.0-full:[4096]-fulldrop:0.3-activation_full:tanh-depth_multiplier:1-lag:18-activation:['elu', 0.4]",
          "filters:[16]-strides:[1]-kernel_size:[9]-drop:0.4-full:[4096, 2048]-fulldrop:0.0-activation_full:tanh-depth_multiplier:5-lag:30-activation:['elu', 0.4]",
          "filters:[16]-strides:[2]-kernel_size:[9]-drop:0.3-full:[64, 32]-fulldrop:0.5-activation_full:linear-depth_multiplier:5-lag:12-activation:['elu', 0.4]",
          "filters:[16]-strides:[3]-kernel_size:[1]-drop:0.4-full:[512, 256, 128]-fulldrop:0.0-activation_full:['elu', 0.3]-depth_multiplier:2-lag:6-activation:['elu', 0.4]",
          "filters:[16]-strides:[3]-kernel_size:[1]-drop:0.2-full:[1024]-fulldrop:0.0-activation_full:linear-depth_multiplier:1-lag:18-activation:['elu', 0.4]",
          "filters:[128]-strides:[1]-kernel_size:[5]-drop:0.0-full:[2048]-fulldrop:0.1-activation_full:['elu', 0.3]-depth_multiplier:1-lag:6-activation:['elu', 0.4]",
          "filters:[128]-strides:[1]-kernel_size:[9]-drop:0.2-full:[2048, 1024]-fulldrop:0.3-activation_full:tanh-depth_multiplier:4-lag:24-activation:['elu', 0.4]",
          "filters:[128]-strides:[2]-kernel_size:[1]-drop:0.3-full:[256, 128]-fulldrop:0.5-activation_full:['leaky', 0.2]-depth_multiplier:5-lag:30-activation:['elu', 0.4]",
          "filters:[128]-strides:[3]-kernel_size:[5]-drop:0.2-full:[4096]-fulldrop:0.1-activation_full:linear-depth_multiplier:2-lag:6-activation:['elu', 0.4]",
          "filters:[128]-strides:[3]-kernel_size:[7]-drop:0.3-full:[1024, 512]-fulldrop:0.1-activation_full:hard_sigmoid-depth_multiplier:1-lag:18-activation:['elu', 0.4]",
          "filters:[128]-strides:[3]-kernel_size:[1]-drop:0.2-full:[64, 32, 16]-fulldrop:0.0-activation_full:relu-depth_multiplier:2-lag:6-activation:['elu', 0.4]"
         ],
         "type": "scatter",
         "x": [
          7.294307577443815,
          7.274684432986199,
          7.298009989360517,
          7.277779043598894,
          7.273336334873734,
          7.245548436904016,
          7.282711195316528,
          7.245055935532558,
          7.244776144847856,
          7.25129470314987,
          7.282071069085726,
          7.231729985518174,
          7.294395189100392,
          7.279969669319833,
          7.245145517983375,
          7.297478137128755,
          7.2301676353332365,
          7.287571065863411,
          7.296785408189583,
          7.280697893084225,
          7.279419922426092,
          7.298332685423798,
          7.277046117261469,
          7.300236583101117,
          7.299424888110978
         ],
         "y": [
          1000,
          800,
          1000,
          800,
          800,
          400,
          800,
          600,
          600,
          600,
          800,
          400,
          1000,
          800,
          600,
          1000,
          250,
          900,
          1000,
          800,
          800,
          1000,
          800,
          1000,
          1000
         ]
        },
        {
         "marker": {
          "size": 20
         },
         "mode": "markers",
         "name": "['leaky', 0.1]",
         "text": [
          "filters:[64]-strides:[2]-kernel_size:[7]-drop:0.5-full:[64]-fulldrop:0.0-activation_full:relu-depth_multiplier:2-lag:6-activation:['leaky', 0.1]",
          "filters:[64]-strides:[3]-kernel_size:[3]-drop:0.1-full:[1024]-fulldrop:0.3-activation_full:['elu', 0.4]-depth_multiplier:1-lag:30-activation:['leaky', 0.1]",
          "filters:[256]-strides:[1]-kernel_size:[7]-drop:0.5-full:[1024, 512]-fulldrop:0.0-activation_full:hard_sigmoid-depth_multiplier:4-lag:30-activation:['leaky', 0.1]",
          "filters:[256]-strides:[3]-kernel_size:[7]-drop:0.2-full:[64, 32]-fulldrop:0.2-activation_full:tanh-depth_multiplier:5-lag:18-activation:['leaky', 0.1]",
          "filters:[1024]-strides:[1]-kernel_size:[5]-drop:0.5-full:[64]-fulldrop:0.3-activation_full:['elu', 0.4]-depth_multiplier:5-lag:12-activation:['leaky', 0.1]",
          "filters:[1024]-strides:[1]-kernel_size:[7]-drop:0.2-full:[1024, 512, 256]-fulldrop:0.0-activation_full:['leaky', 0.1]-depth_multiplier:2-lag:24-activation:['leaky', 0.1]",
          "filters:[1024]-strides:[1]-kernel_size:[7]-drop:0.2-full:[4096]-fulldrop:0.1-activation_full:['leaky', 0.1]-depth_multiplier:3-lag:6-activation:['leaky', 0.1]",
          "filters:[1024]-strides:[2]-kernel_size:[5]-drop:0.5-full:[1024]-fulldrop:0.2-activation_full:['prelu', 0.0]-depth_multiplier:4-lag:30-activation:['leaky', 0.1]",
          "filters:[1024]-strides:[2]-kernel_size:[7]-drop:0.5-full:[512]-fulldrop:0.4-activation_full:['leaky', 0.1]-depth_multiplier:3-lag:12-activation:['leaky', 0.1]",
          "filters:[1024]-strides:[2]-kernel_size:[3]-drop:0.4-full:[32, 16]-fulldrop:0.3-activation_full:['leaky', 0.2]-depth_multiplier:1-lag:24-activation:['leaky', 0.1]",
          "filters:[1024]-strides:[3]-kernel_size:[3]-drop:0.5-full:[512, 256]-fulldrop:0.2-activation_full:['elu', 0.4]-depth_multiplier:2-lag:6-activation:['leaky', 0.1]",
          "filters:[1024]-strides:[3]-kernel_size:[9]-drop:0.5-full:[2048, 1024, 512]-fulldrop:0.5-activation_full:tanh-depth_multiplier:1-lag:6-activation:['leaky', 0.1]",
          "filters:[32]-strides:[1]-kernel_size:[7]-drop:0.4-full:[256, 128]-fulldrop:0.4-activation_full:['elu', 0.4]-depth_multiplier:5-lag:24-activation:['leaky', 0.1]",
          "filters:[32]-strides:[1]-kernel_size:[9]-drop:0.4-full:[2048, 1024, 512]-fulldrop:0.3-activation_full:['prelu', 0.0]-depth_multiplier:5-lag:30-activation:['leaky', 0.1]",
          "filters:[32]-strides:[2]-kernel_size:[7]-drop:0.0-full:[32]-fulldrop:0.5-activation_full:linear-depth_multiplier:3-lag:12-activation:['leaky', 0.1]",
          "filters:[512]-strides:[1]-kernel_size:[1]-drop:0.5-full:[2048]-fulldrop:0.5-activation_full:['prelu', 0.0]-depth_multiplier:3-lag:24-activation:['leaky', 0.1]",
          "filters:[512]-strides:[1]-kernel_size:[1]-drop:0.0-full:[512, 256, 128]-fulldrop:0.2-activation_full:linear-depth_multiplier:4-lag:24-activation:['leaky', 0.1]",
          "filters:[512]-strides:[2]-kernel_size:[3]-drop:0.5-full:[512, 256, 128]-fulldrop:0.0-activation_full:['leaky', 0.2]-depth_multiplier:1-lag:24-activation:['leaky', 0.1]",
          "filters:[512]-strides:[2]-kernel_size:[1]-drop:0.2-full:[512, 256]-fulldrop:0.5-activation_full:['elu', 0.3]-depth_multiplier:2-lag:24-activation:['leaky', 0.1]",
          "filters:[512]-strides:[2]-kernel_size:[9]-drop:0.5-full:[4096, 2048, 1024]-fulldrop:0.5-activation_full:['elu', 0.3]-depth_multiplier:1-lag:18-activation:['leaky', 0.1]",
          "filters:[16]-strides:[1]-kernel_size:[7]-drop:0.1-full:[512]-fulldrop:0.4-activation_full:tanh-depth_multiplier:4-lag:12-activation:['leaky', 0.1]",
          "filters:[16]-strides:[2]-kernel_size:[7]-drop:0.3-full:[1024]-fulldrop:0.5-activation_full:hard_sigmoid-depth_multiplier:4-lag:30-activation:['leaky', 0.1]",
          "filters:[16]-strides:[2]-kernel_size:[1]-drop:0.0-full:[512, 256]-fulldrop:0.1-activation_full:['leaky', 0.1]-depth_multiplier:1-lag:24-activation:['leaky', 0.1]",
          "filters:[16]-strides:[2]-kernel_size:[9]-drop:0.2-full:[64]-fulldrop:0.2-activation_full:['prelu', 0.0]-depth_multiplier:5-lag:18-activation:['leaky', 0.1]",
          "filters:[16]-strides:[3]-kernel_size:[9]-drop:0.5-full:[1024, 512]-fulldrop:0.5-activation_full:['elu', 0.4]-depth_multiplier:5-lag:12-activation:['leaky', 0.1]",
          "filters:[128]-strides:[1]-kernel_size:[3]-drop:0.5-full:[32, 16]-fulldrop:0.0-activation_full:hard_sigmoid-depth_multiplier:4-lag:30-activation:['leaky', 0.1]",
          "filters:[128]-strides:[1]-kernel_size:[1]-drop:0.5-full:[64]-fulldrop:0.5-activation_full:['leaky', 0.2]-depth_multiplier:2-lag:30-activation:['leaky', 0.1]",
          "filters:[128]-strides:[2]-kernel_size:[1]-drop:0.3-full:[4096, 2048, 1024]-fulldrop:0.3-activation_full:['leaky', 0.1]-depth_multiplier:5-lag:30-activation:['leaky', 0.1]",
          "filters:[128]-strides:[3]-kernel_size:[5]-drop:0.0-full:[32, 16]-fulldrop:0.2-activation_full:['leaky', 0.1]-depth_multiplier:3-lag:12-activation:['leaky', 0.1]",
          "filters:[128]-strides:[3]-kernel_size:[3]-drop:0.4-full:[2048, 1024]-fulldrop:0.1-activation_full:['leaky', 0.1]-depth_multiplier:4-lag:30-activation:['leaky', 0.1]"
         ],
         "type": "scatter",
         "x": [],
         "y": []
        },
        {
         "marker": {
          "size": 20
         },
         "mode": "markers",
         "name": "['leaky', 0.2]",
         "text": [
          "filters:[64]-strides:[1]-kernel_size:[5]-drop:0.1-full:[64, 32, 16]-fulldrop:0.5-activation_full:relu-depth_multiplier:4-lag:12-activation:['leaky', 0.2]",
          "filters:[64]-strides:[1]-kernel_size:[5]-drop:0.4-full:[32, 16]-fulldrop:0.3-activation_full:linear-depth_multiplier:4-lag:12-activation:['leaky', 0.2]",
          "filters:[64]-strides:[1]-kernel_size:[9]-drop:0.5-full:[32]-fulldrop:0.0-activation_full:['leaky', 0.1]-depth_multiplier:2-lag:6-activation:['leaky', 0.2]",
          "filters:[64]-strides:[1]-kernel_size:[9]-drop:0.3-full:[256]-fulldrop:0.0-activation_full:['leaky', 0.2]-depth_multiplier:3-lag:12-activation:['leaky', 0.2]",
          "filters:[64]-strides:[2]-kernel_size:[9]-drop:0.4-full:[512]-fulldrop:0.5-activation_full:relu-depth_multiplier:1-lag:18-activation:['leaky', 0.2]",
          "filters:[256]-strides:[2]-kernel_size:[7]-drop:0.5-full:[512]-fulldrop:0.4-activation_full:['leaky', 0.1]-depth_multiplier:3-lag:12-activation:['leaky', 0.2]",
          "filters:[256]-strides:[2]-kernel_size:[7]-drop:0.5-full:[512]-fulldrop:0.4-activation_full:['prelu', 0.0]-depth_multiplier:3-lag:12-activation:['leaky', 0.2]",
          "filters:[256]-strides:[2]-kernel_size:[9]-drop:0.4-full:[512]-fulldrop:0.4-activation_full:['prelu', 0.0]-depth_multiplier:5-lag:12-activation:['leaky', 0.2]",
          "filters:[256]-strides:[2]-kernel_size:[9]-drop:0.5-full:[1024]-fulldrop:0.4-activation_full:['leaky', 0.1]-depth_multiplier:5-lag:12-activation:['leaky', 0.2]",
          "filters:[256]-strides:[2]-kernel_size:[9]-drop:0.5-full:[2048]-fulldrop:0.4-activation_full:['prelu', 0.0]-depth_multiplier:5-lag:12-activation:['leaky', 0.2]",
          "filters:[256]-strides:[2]-kernel_size:[9]-drop:0.5-full:[512]-fulldrop:0.4-activation_full:['prelu', 0.0]-depth_multiplier:5-lag:12-activation:['leaky', 0.2]",
          "filters:[256]-strides:[2]-kernel_size:[9]-drop:0.5-full:[512]-fulldrop:0.4-activation_full:['prelu', 0.0]-depth_multiplier:1-lag:12-activation:['leaky', 0.2]",
          "filters:[256]-strides:[2]-kernel_size:[9]-drop:0.3-full:[512]-fulldrop:0.4-activation_full:['prelu', 0.0]-depth_multiplier:5-lag:12-activation:['leaky', 0.2]",
          "filters:[256]-strides:[3]-kernel_size:[5]-drop:0.2-full:[128, 64, 32]-fulldrop:0.3-activation_full:['elu', 0.3]-depth_multiplier:5-lag:12-activation:['leaky', 0.2]",
          "filters:[256]-strides:[3]-kernel_size:[7]-drop:0.1-full:[2048, 1024, 512]-fulldrop:0.2-activation_full:tanh-depth_multiplier:3-lag:18-activation:['leaky', 0.2]",
          "filters:[256]-strides:[3]-kernel_size:[7]-drop:0.5-full:[2048]-fulldrop:0.4-activation_full:['leaky', 0.1]-depth_multiplier:5-lag:6-activation:['leaky', 0.2]",
          "filters:[256]-strides:[3]-kernel_size:[7]-drop:0.5-full:[1024]-fulldrop:0.4-activation_full:['prelu', 0.0]-depth_multiplier:5-lag:6-activation:['leaky', 0.2]",
          "filters:[256]-strides:[3]-kernel_size:[7]-drop:0.5-full:[512]-fulldrop:0.4-activation_full:['prelu', 0.0]-depth_multiplier:5-lag:6-activation:['leaky', 0.2]",
          "filters:[256]-strides:[3]-kernel_size:[9]-drop:0.4-full:[1024]-fulldrop:0.5-activation_full:['leaky', 0.1]-depth_multiplier:5-lag:12-activation:['leaky', 0.2]",
          "filters:[256]-strides:[3]-kernel_size:[9]-drop:0.4-full:[1024]-fulldrop:0.4-activation_full:['leaky', 0.1]-depth_multiplier:5-lag:12-activation:['leaky', 0.2]",
          "filters:[256]-strides:[3]-kernel_size:[9]-drop:0.4-full:[1024]-fulldrop:0.4-activation_full:['leaky', 0.1]-depth_multiplier:3-lag:6-activation:['leaky', 0.2]",
          "filters:[256]-strides:[3]-kernel_size:[9]-drop:0.4-full:[512]-fulldrop:0.4-activation_full:['leaky', 0.1]-depth_multiplier:4-lag:6-activation:['leaky', 0.2]",
          "filters:[256]-strides:[3]-kernel_size:[9]-drop:0.4-full:[512]-fulldrop:0.4-activation_full:['leaky', 0.1]-depth_multiplier:5-lag:6-activation:['leaky', 0.2]",
          "filters:[256]-strides:[3]-kernel_size:[9]-drop:0.4-full:[512]-fulldrop:0.4-activation_full:['prelu', 0.0]-depth_multiplier:5-lag:12-activation:['leaky', 0.2]",
          "filters:[256]-strides:[3]-kernel_size:[9]-drop:0.5-full:[1024]-fulldrop:0.4-activation_full:relu-depth_multiplier:5-lag:6-activation:['leaky', 0.2]",
          "filters:[256]-strides:[3]-kernel_size:[9]-drop:0.5-full:[2048]-fulldrop:0.4-activation_full:['leaky', 0.1]-depth_multiplier:4-lag:6-activation:['leaky', 0.2]",
          "filters:[256]-strides:[3]-kernel_size:[9]-drop:0.5-full:[2048]-fulldrop:0.4-activation_full:['leaky', 0.1]-depth_multiplier:5-lag:12-activation:['leaky', 0.2]",
          "filters:[256]-strides:[3]-kernel_size:[9]-drop:0.5-full:[2048]-fulldrop:0.4-activation_full:['leaky', 0.1]-depth_multiplier:5-lag:6-activation:['leaky', 0.2]",
          "filters:[256]-strides:[3]-kernel_size:[9]-drop:0.5-full:[2048]-fulldrop:0.4-activation_full:['leaky', 0.1]-depth_multiplier:3-lag:12-activation:['leaky', 0.2]",
          "filters:[256]-strides:[3]-kernel_size:[9]-drop:0.5-full:[1024]-fulldrop:0.5-activation_full:['leaky', 0.1]-depth_multiplier:3-lag:12-activation:['leaky', 0.2]",
          "filters:[256]-strides:[3]-kernel_size:[9]-drop:0.5-full:[1024]-fulldrop:0.4-activation_full:['leaky', 0.1]-depth_multiplier:5-lag:6-activation:['leaky', 0.2]",
          "filters:[256]-strides:[3]-kernel_size:[9]-drop:0.5-full:[512]-fulldrop:0.5-activation_full:['leaky', 0.1]-depth_multiplier:3-lag:12-activation:['leaky', 0.2]",
          "filters:[256]-strides:[3]-kernel_size:[9]-drop:0.5-full:[512]-fulldrop:0.5-activation_full:['leaky', 0.1]-depth_multiplier:1-lag:12-activation:['leaky', 0.2]",
          "filters:[256]-strides:[3]-kernel_size:[9]-drop:0.5-full:[512]-fulldrop:0.4-activation_full:['leaky', 0.1]-depth_multiplier:5-lag:6-activation:['leaky', 0.2]",
          "filters:[256]-strides:[3]-kernel_size:[9]-drop:0.5-full:[512]-fulldrop:0.4-activation_full:['leaky', 0.1]-depth_multiplier:3-lag:12-activation:['leaky', 0.2]",
          "filters:[256]-strides:[3]-kernel_size:[9]-drop:0.5-full:[512]-fulldrop:0.4-activation_full:['leaky', 0.1]-depth_multiplier:1-lag:12-activation:['leaky', 0.2]",
          "filters:[256]-strides:[3]-kernel_size:[9]-drop:0.5-full:[512]-fulldrop:0.4-activation_full:['leaky', 0.1]-depth_multiplier:1-lag:6-activation:['leaky', 0.2]",
          "filters:[256]-strides:[3]-kernel_size:[9]-drop:0.5-full:[1024]-fulldrop:0.4-activation_full:['elu', 0.4]-depth_multiplier:5-lag:6-activation:['leaky', 0.2]",
          "filters:[256]-strides:[3]-kernel_size:[9]-drop:0.5-full:[2048]-fulldrop:0.4-activation_full:['prelu', 0.0]-depth_multiplier:5-lag:12-activation:['leaky', 0.2]",
          "filters:[256]-strides:[3]-kernel_size:[9]-drop:0.5-full:[512]-fulldrop:0.4-activation_full:['prelu', 0.0]-depth_multiplier:5-lag:12-activation:['leaky', 0.2]",
          "filters:[256]-strides:[3]-kernel_size:[9]-drop:0.5-full:[512]-fulldrop:0.4-activation_full:['prelu', 0.0]-depth_multiplier:2-lag:12-activation:['leaky', 0.2]",
          "filters:[256]-strides:[3]-kernel_size:[9]-drop:0.5-full:[512]-fulldrop:0.4-activation_full:['prelu', 0.0]-depth_multiplier:2-lag:6-activation:['leaky', 0.2]",
          "filters:[256]-strides:[3]-kernel_size:[9]-drop:0.3-full:[2048]-fulldrop:0.5-activation_full:['leaky', 0.1]-depth_multiplier:5-lag:6-activation:['leaky', 0.2]",
          "filters:[256]-strides:[3]-kernel_size:[9]-drop:0.3-full:[2048]-fulldrop:0.4-activation_full:['leaky', 0.1]-depth_multiplier:5-lag:6-activation:['leaky', 0.2]",
          "filters:[256]-strides:[3]-kernel_size:[9]-drop:0.3-full:[512]-fulldrop:0.5-activation_full:['prelu', 0.0]-depth_multiplier:5-lag:12-activation:['leaky', 0.2]",
          "filters:[256]-strides:[3]-kernel_size:[9]-drop:0.3-full:[512]-fulldrop:0.4-activation_full:['prelu', 0.0]-depth_multiplier:5-lag:12-activation:['leaky', 0.2]",
          "filters:[1024]-strides:[1]-kernel_size:[7]-drop:0.4-full:[32]-fulldrop:0.1-activation_full:relu-depth_multiplier:4-lag:12-activation:['leaky', 0.2]",
          "filters:[1024]-strides:[1]-kernel_size:[3]-drop:0.3-full:[512, 256]-fulldrop:0.1-activation_full:['elu', 0.4]-depth_multiplier:4-lag:12-activation:['leaky', 0.2]",
          "filters:[1024]-strides:[1]-kernel_size:[9]-drop:0.5-full:[512]-fulldrop:0.5-activation_full:['leaky', 0.2]-depth_multiplier:5-lag:12-activation:['leaky', 0.2]",
          "filters:[1024]-strides:[2]-kernel_size:[7]-drop:0.5-full:[512]-fulldrop:0.4-activation_full:['leaky', 0.1]-depth_multiplier:3-lag:12-activation:['leaky', 0.2]",
          "filters:[1024]-strides:[2]-kernel_size:[7]-drop:0.5-full:[512]-fulldrop:0.4-activation_full:['leaky', 0.1]-depth_multiplier:3-lag:6-activation:['leaky', 0.2]",
          "filters:[1024]-strides:[2]-kernel_size:[9]-drop:0.4-full:[512, 256, 128]-fulldrop:0.4-activation_full:relu-depth_multiplier:1-lag:6-activation:['leaky', 0.2]",
          "filters:[1024]-strides:[2]-kernel_size:[9]-drop:0.5-full:[2048]-fulldrop:0.4-activation_full:hard_sigmoid-depth_multiplier:5-lag:12-activation:['leaky', 0.2]",
          "filters:[1024]-strides:[3]-kernel_size:[7]-drop:0.5-full:[512]-fulldrop:0.3-activation_full:['prelu', 0.0]-depth_multiplier:5-lag:12-activation:['leaky', 0.2]",
          "filters:[1024]-strides:[3]-kernel_size:[7]-drop:0.5-full:[512]-fulldrop:0.3-activation_full:['prelu', 0.0]-depth_multiplier:3-lag:12-activation:['leaky', 0.2]",
          "filters:[1024]-strides:[3]-kernel_size:[1]-drop:0.2-full:[256, 128]-fulldrop:0.0-activation_full:['prelu', 0.0]-depth_multiplier:1-lag:18-activation:['leaky', 0.2]",
          "filters:[1024]-strides:[3]-kernel_size:[1]-drop:0.3-full:[2048, 1024]-fulldrop:0.1-activation_full:relu-depth_multiplier:3-lag:12-activation:['leaky', 0.2]",
          "filters:[1024]-strides:[3]-kernel_size:[9]-drop:0.4-full:[512]-fulldrop:0.5-activation_full:['leaky', 0.2]-depth_multiplier:5-lag:12-activation:['leaky', 0.2]",
          "filters:[1024]-strides:[3]-kernel_size:[9]-drop:0.5-full:[2048]-fulldrop:0.5-activation_full:['leaky', 0.1]-depth_multiplier:3-lag:12-activation:['leaky', 0.2]",
          "filters:[1024]-strides:[3]-kernel_size:[9]-drop:0.5-full:[2048]-fulldrop:0.4-activation_full:['leaky', 0.1]-depth_multiplier:3-lag:12-activation:['leaky', 0.2]",
          "filters:[1024]-strides:[3]-kernel_size:[9]-drop:0.5-full:[2048]-fulldrop:0.4-activation_full:['leaky', 0.1]-depth_multiplier:3-lag:6-activation:['leaky', 0.2]",
          "filters:[1024]-strides:[3]-kernel_size:[9]-drop:0.5-full:[512]-fulldrop:0.4-activation_full:['leaky', 0.1]-depth_multiplier:5-lag:12-activation:['leaky', 0.2]",
          "filters:[1024]-strides:[3]-kernel_size:[9]-drop:0.5-full:[512]-fulldrop:0.4-activation_full:['leaky', 0.1]-depth_multiplier:3-lag:12-activation:['leaky', 0.2]",
          "filters:[1024]-strides:[3]-kernel_size:[9]-drop:0.5-full:[512]-fulldrop:0.4-activation_full:['leaky', 0.1]-depth_multiplier:3-lag:6-activation:['leaky', 0.2]",
          "filters:[1024]-strides:[3]-kernel_size:[9]-drop:0.5-full:[512]-fulldrop:0.4-activation_full:['leaky', 0.1]-depth_multiplier:1-lag:6-activation:['leaky', 0.2]",
          "filters:[1024]-strides:[3]-kernel_size:[9]-drop:0.5-full:[2048]-fulldrop:0.5-activation_full:['leaky', 0.2]-depth_multiplier:5-lag:12-activation:['leaky', 0.2]",
          "filters:[1024]-strides:[3]-kernel_size:[9]-drop:0.5-full:[2048]-fulldrop:0.4-activation_full:['leaky', 0.2]-depth_multiplier:5-lag:12-activation:['leaky', 0.2]",
          "filters:[1024]-strides:[3]-kernel_size:[9]-drop:0.5-full:[512]-fulldrop:0.5-activation_full:['leaky', 0.2]-depth_multiplier:5-lag:12-activation:['leaky', 0.2]",
          "filters:[1024]-strides:[3]-kernel_size:[9]-drop:0.5-full:[512]-fulldrop:0.4-activation_full:['leaky', 0.2]-depth_multiplier:5-lag:12-activation:['leaky', 0.2]",
          "filters:[1024]-strides:[3]-kernel_size:[9]-drop:0.5-full:[2048]-fulldrop:0.4-activation_full:hard_sigmoid-depth_multiplier:4-lag:12-activation:['leaky', 0.2]",
          "filters:[1024]-strides:[3]-kernel_size:[9]-drop:0.5-full:[2048]-fulldrop:0.4-activation_full:hard_sigmoid-depth_multiplier:5-lag:12-activation:['leaky', 0.2]",
          "filters:[1024]-strides:[3]-kernel_size:[9]-drop:0.5-full:[2048]-fulldrop:0.4-activation_full:hard_sigmoid-depth_multiplier:3-lag:6-activation:['leaky', 0.2]",
          "filters:[1024]-strides:[3]-kernel_size:[9]-drop:0.5-full:[512]-fulldrop:0.4-activation_full:['prelu', 0.0]-depth_multiplier:2-lag:12-activation:['leaky', 0.2]",
          "filters:[1024]-strides:[3]-kernel_size:[9]-drop:0.3-full:[512]-fulldrop:0.4-activation_full:['leaky', 0.1]-depth_multiplier:3-lag:12-activation:['leaky', 0.2]",
          "filters:[32]-strides:[1]-kernel_size:[5]-drop:0.3-full:[4096, 2048, 1024]-fulldrop:0.1-activation_full:['prelu', 0.0]-depth_multiplier:4-lag:6-activation:['leaky', 0.2]",
          "filters:[32]-strides:[1]-kernel_size:[7]-drop:0.4-full:[2048, 1024]-fulldrop:0.1-activation_full:relu-depth_multiplier:4-lag:6-activation:['leaky', 0.2]",
          "filters:[32]-strides:[3]-kernel_size:[9]-drop:0.5-full:[4096, 2048, 1024]-fulldrop:0.0-activation_full:['elu', 0.3]-depth_multiplier:1-lag:24-activation:['leaky', 0.2]",
          "filters:[512]-strides:[1]-kernel_size:[3]-drop:0.4-full:[4096, 2048, 1024]-fulldrop:0.3-activation_full:tanh-depth_multiplier:3-lag:18-activation:['leaky', 0.2]",
          "filters:[512]-strides:[1]-kernel_size:[3]-drop:0.0-full:[256, 128, 64]-fulldrop:0.3-activation_full:tanh-depth_multiplier:5-lag:6-activation:['leaky', 0.2]",
          "filters:[512]-strides:[2]-kernel_size:[7]-drop:0.0-full:[512, 256]-fulldrop:0.1-activation_full:tanh-depth_multiplier:2-lag:6-activation:['leaky', 0.2]",
          "filters:[512]-strides:[3]-kernel_size:[9]-drop:0.4-full:[512]-fulldrop:0.4-activation_full:['prelu', 0.0]-depth_multiplier:5-lag:12-activation:['leaky', 0.2]",
          "filters:[512]-strides:[3]-kernel_size:[9]-drop:0.2-full:[512, 256]-fulldrop:0.3-activation_full:tanh-depth_multiplier:1-lag:12-activation:['leaky', 0.2]",
          "filters:[512]-strides:[3]-kernel_size:[9]-drop:0.2-full:[1024]-fulldrop:0.5-activation_full:tanh-depth_multiplier:1-lag:18-activation:['leaky', 0.2]",
          "filters:[512]-strides:[3]-kernel_size:[9]-drop:0.5-full:[1024]-fulldrop:0.5-activation_full:['leaky', 0.1]-depth_multiplier:5-lag:12-activation:['leaky', 0.2]",
          "filters:[512]-strides:[3]-kernel_size:[9]-drop:0.5-full:[512]-fulldrop:0.5-activation_full:['leaky', 0.1]-depth_multiplier:3-lag:12-activation:['leaky', 0.2]",
          "filters:[512]-strides:[3]-kernel_size:[9]-drop:0.5-full:[512]-fulldrop:0.5-activation_full:['leaky', 0.1]-depth_multiplier:1-lag:12-activation:['leaky', 0.2]",
          "filters:[512]-strides:[3]-kernel_size:[9]-drop:0.5-full:[2048]-fulldrop:0.4-activation_full:hard_sigmoid-depth_multiplier:5-lag:12-activation:['leaky', 0.2]",
          "filters:[512]-strides:[3]-kernel_size:[9]-drop:0.5-full:[2048]-fulldrop:0.4-activation_full:['prelu', 0.0]-depth_multiplier:5-lag:12-activation:['leaky', 0.2]",
          "filters:[512]-strides:[3]-kernel_size:[9]-drop:0.5-full:[2048]-fulldrop:0.4-activation_full:['prelu', 0.0]-depth_multiplier:3-lag:12-activation:['leaky', 0.2]",
          "filters:[512]-strides:[3]-kernel_size:[9]-drop:0.5-full:[512]-fulldrop:0.4-activation_full:['prelu', 0.0]-depth_multiplier:5-lag:12-activation:['leaky', 0.2]",
          "filters:[512]-strides:[3]-kernel_size:[9]-drop:0.5-full:[512]-fulldrop:0.4-activation_full:['prelu', 0.0]-depth_multiplier:3-lag:12-activation:['leaky', 0.2]",
          "filters:[512]-strides:[3]-kernel_size:[9]-drop:0.5-full:[512]-fulldrop:0.4-activation_full:['prelu', 0.0]-depth_multiplier:2-lag:12-activation:['leaky', 0.2]",
          "filters:[16]-strides:[1]-kernel_size:[7]-drop:0.2-full:[4096]-fulldrop:0.1-activation_full:['leaky', 0.1]-depth_multiplier:5-lag:24-activation:['leaky', 0.2]",
          "filters:[16]-strides:[1]-kernel_size:[9]-drop:0.4-full:[64, 32]-fulldrop:0.3-activation_full:['leaky', 0.2]-depth_multiplier:1-lag:12-activation:['leaky', 0.2]",
          "filters:[16]-strides:[2]-kernel_size:[7]-drop:0.5-full:[128, 64, 32]-fulldrop:0.2-activation_full:tanh-depth_multiplier:1-lag:12-activation:['leaky', 0.2]",
          "filters:[16]-strides:[3]-kernel_size:[9]-drop:0.1-full:[4096, 2048, 1024]-fulldrop:0.5-activation_full:['leaky', 0.2]-depth_multiplier:5-lag:18-activation:['leaky', 0.2]",
          "filters:[128]-strides:[1]-kernel_size:[3]-drop:0.4-full:[4096]-fulldrop:0.5-activation_full:['leaky', 0.1]-depth_multiplier:2-lag:18-activation:['leaky', 0.2]",
          "filters:[128]-strides:[2]-kernel_size:[7]-drop:0.3-full:[512, 256]-fulldrop:0.1-activation_full:tanh-depth_multiplier:2-lag:6-activation:['leaky', 0.2]",
          "filters:[128]-strides:[2]-kernel_size:[9]-drop:0.4-full:[256, 128]-fulldrop:0.5-activation_full:['elu', 0.3]-depth_multiplier:1-lag:18-activation:['leaky', 0.2]",
          "filters:[128]-strides:[2]-kernel_size:[9]-drop:0.3-full:[32, 16, 8]-fulldrop:0.0-activation_full:['prelu', 0.0]-depth_multiplier:4-lag:12-activation:['leaky', 0.2]",
          "filters:[128]-strides:[2]-kernel_size:[9]-drop:0.0-full:[256, 128, 64]-fulldrop:0.5-activation_full:['elu', 0.3]-depth_multiplier:1-lag:18-activation:['leaky', 0.2]",
          "filters:[128]-strides:[3]-kernel_size:[7]-drop:0.3-full:[128]-fulldrop:0.4-activation_full:relu-depth_multiplier:1-lag:18-activation:['leaky', 0.2]",
          "filters:[128]-strides:[3]-kernel_size:[1]-drop:0.2-full:[32, 16, 8]-fulldrop:0.3-activation_full:relu-depth_multiplier:3-lag:6-activation:['leaky', 0.2]"
         ],
         "type": "scatter",
         "x": [
          7.249830280012137,
          7.231101197280529,
          7.249274011142056,
          7.230029633590761,
          7.260841591009763,
          7.244547830465223,
          7.2450262726876264,
          7.248312318195421,
          7.2458339451299825,
          7.244806389254316,
          7.245284405265553,
          7.250633192700924,
          7.24484121227981,
          7.230049510346175,
          7.249014698935711,
          7.276206106865776,
          7.276749637223051,
          7.249381694965799,
          7.243994487421663
         ],
         "y": [
          400,
          250,
          600,
          250,
          800,
          600,
          600,
          600,
          600,
          600,
          600,
          400,
          600,
          250,
          400,
          800,
          800,
          600,
          600
         ]
        },
        {
         "marker": {
          "size": 20
         },
         "mode": "markers",
         "name": "['prelu', 0.0]",
         "text": [
          "filters:[64]-strides:[2]-kernel_size:[1]-drop:0.0-full:[1024]-fulldrop:0.5-activation_full:['elu', 0.3]-depth_multiplier:5-lag:18-activation:['prelu', 0.0]",
          "filters:[64]-strides:[2]-kernel_size:[9]-drop:0.3-full:[256]-fulldrop:0.5-activation_full:['elu', 0.4]-depth_multiplier:1-lag:24-activation:['prelu', 0.0]",
          "filters:[64]-strides:[3]-kernel_size:[7]-drop:0.4-full:[4096, 2048]-fulldrop:0.4-activation_full:linear-depth_multiplier:2-lag:6-activation:['prelu', 0.0]",
          "filters:[256]-strides:[1]-kernel_size:[7]-drop:0.0-full:[256]-fulldrop:0.0-activation_full:['leaky', 0.1]-depth_multiplier:4-lag:6-activation:['prelu', 0.0]",
          "filters:[256]-strides:[1]-kernel_size:[3]-drop:0.1-full:[2048, 1024]-fulldrop:0.4-activation_full:linear-depth_multiplier:2-lag:6-activation:['prelu', 0.0]",
          "filters:[256]-strides:[1]-kernel_size:[3]-drop:0.4-full:[128]-fulldrop:0.0-activation_full:tanh-depth_multiplier:2-lag:6-activation:['prelu', 0.0]",
          "filters:[256]-strides:[1]-kernel_size:[3]-drop:0.3-full:[512]-fulldrop:0.3-activation_full:['prelu', 0.0]-depth_multiplier:2-lag:18-activation:['prelu', 0.0]",
          "filters:[256]-strides:[2]-kernel_size:[7]-drop:0.5-full:[512]-fulldrop:0.4-activation_full:['leaky', 0.1]-depth_multiplier:3-lag:12-activation:['prelu', 0.0]",
          "filters:[256]-strides:[2]-kernel_size:[7]-drop:0.5-full:[512]-fulldrop:0.4-activation_full:['leaky', 0.2]-depth_multiplier:3-lag:12-activation:['prelu', 0.0]",
          "filters:[1024]-strides:[1]-kernel_size:[1]-drop:0.5-full:[512, 256]-fulldrop:0.1-activation_full:hard_sigmoid-depth_multiplier:1-lag:24-activation:['prelu', 0.0]",
          "filters:[1024]-strides:[2]-kernel_size:[9]-drop:0.0-full:[256]-fulldrop:0.5-activation_full:['elu', 0.4]-depth_multiplier:1-lag:24-activation:['prelu', 0.0]",
          "filters:[1024]-strides:[3]-kernel_size:[3]-drop:0.2-full:[256, 128, 64]-fulldrop:0.5-activation_full:['elu', 0.4]-depth_multiplier:2-lag:30-activation:['prelu', 0.0]",
          "filters:[32]-strides:[1]-kernel_size:[5]-drop:0.2-full:[512, 256]-fulldrop:0.2-activation_full:['leaky', 0.2]-depth_multiplier:5-lag:30-activation:['prelu', 0.0]",
          "filters:[32]-strides:[1]-kernel_size:[5]-drop:0.3-full:[64]-fulldrop:0.5-activation_full:linear-depth_multiplier:3-lag:24-activation:['prelu', 0.0]",
          "filters:[32]-strides:[2]-kernel_size:[5]-drop:0.1-full:[1024, 512]-fulldrop:0.1-activation_full:hard_sigmoid-depth_multiplier:1-lag:24-activation:['prelu', 0.0]",
          "filters:[32]-strides:[2]-kernel_size:[5]-drop:0.2-full:[4096, 2048]-fulldrop:0.4-activation_full:hard_sigmoid-depth_multiplier:3-lag:12-activation:['prelu', 0.0]",
          "filters:[32]-strides:[3]-kernel_size:[5]-drop:0.0-full:[4096]-fulldrop:0.1-activation_full:['leaky', 0.2]-depth_multiplier:2-lag:18-activation:['prelu', 0.0]",
          "filters:[512]-strides:[1]-kernel_size:[5]-drop:0.1-full:[128]-fulldrop:0.3-activation_full:tanh-depth_multiplier:4-lag:30-activation:['prelu', 0.0]",
          "filters:[512]-strides:[1]-kernel_size:[7]-drop:0.4-full:[4096, 2048]-fulldrop:0.3-activation_full:hard_sigmoid-depth_multiplier:3-lag:18-activation:['prelu', 0.0]",
          "filters:[512]-strides:[2]-kernel_size:[7]-drop:0.5-full:[4096, 2048, 1024]-fulldrop:0.3-activation_full:['elu', 0.3]-depth_multiplier:3-lag:18-activation:['prelu', 0.0]",
          "filters:[512]-strides:[3]-kernel_size:[5]-drop:0.1-full:[1024, 512, 256]-fulldrop:0.4-activation_full:['prelu', 0.0]-depth_multiplier:3-lag:12-activation:['prelu', 0.0]",
          "filters:[16]-strides:[2]-kernel_size:[1]-drop:0.3-full:[256, 128, 64]-fulldrop:0.1-activation_full:hard_sigmoid-depth_multiplier:5-lag:12-activation:['prelu', 0.0]",
          "filters:[128]-strides:[1]-kernel_size:[5]-drop:0.0-full:[4096, 2048, 1024]-fulldrop:0.4-activation_full:['prelu', 0.0]-depth_multiplier:4-lag:30-activation:['prelu', 0.0]",
          "filters:[128]-strides:[1]-kernel_size:[1]-drop:0.2-full:[256]-fulldrop:0.5-activation_full:['prelu', 0.0]-depth_multiplier:5-lag:24-activation:['prelu', 0.0]",
          "filters:[128]-strides:[1]-kernel_size:[1]-drop:0.0-full:[32, 16, 8]-fulldrop:0.2-activation_full:['elu', 0.3]-depth_multiplier:5-lag:24-activation:['prelu', 0.0]",
          "filters:[128]-strides:[2]-kernel_size:[9]-drop:0.0-full:[2048, 1024]-fulldrop:0.0-activation_full:relu-depth_multiplier:5-lag:18-activation:['prelu', 0.0]"
         ],
         "type": "scatter",
         "x": [],
         "y": []
        },
        {
         "marker": {
          "size": 20
         },
         "mode": "markers",
         "name": "hard_sigmoid",
         "text": [
          "filters:[64]-strides:[1]-kernel_size:[7]-drop:0.5-full:[64, 32, 16]-fulldrop:0.1-activation_full:tanh-depth_multiplier:3-lag:30-activation:hard_sigmoid",
          "filters:[64]-strides:[1]-kernel_size:[9]-drop:0.1-full:[2048, 1024, 512]-fulldrop:0.4-activation_full:hard_sigmoid-depth_multiplier:2-lag:12-activation:hard_sigmoid",
          "filters:[64]-strides:[2]-kernel_size:[5]-drop:0.2-full:[128]-fulldrop:0.3-activation_full:hard_sigmoid-depth_multiplier:4-lag:18-activation:hard_sigmoid",
          "filters:[64]-strides:[3]-kernel_size:[9]-drop:0.2-full:[32]-fulldrop:0.0-activation_full:linear-depth_multiplier:2-lag:18-activation:hard_sigmoid",
          "filters:[256]-strides:[1]-kernel_size:[9]-drop:0.2-full:[64]-fulldrop:0.0-activation_full:['leaky', 0.2]-depth_multiplier:5-lag:24-activation:hard_sigmoid",
          "filters:[1024]-strides:[2]-kernel_size:[3]-drop:0.4-full:[2048, 1024]-fulldrop:0.0-activation_full:['elu', 0.4]-depth_multiplier:4-lag:24-activation:hard_sigmoid",
          "filters:[1024]-strides:[2]-kernel_size:[3]-drop:0.0-full:[64, 32, 16]-fulldrop:0.2-activation_full:['leaky', 0.2]-depth_multiplier:2-lag:24-activation:hard_sigmoid",
          "filters:[1024]-strides:[2]-kernel_size:[9]-drop:0.0-full:[256, 128, 64]-fulldrop:0.5-activation_full:['prelu', 0.0]-depth_multiplier:4-lag:18-activation:hard_sigmoid",
          "filters:[1024]-strides:[3]-kernel_size:[7]-drop:0.0-full:[2048, 1024]-fulldrop:0.4-activation_full:tanh-depth_multiplier:1-lag:30-activation:hard_sigmoid",
          "filters:[1024]-strides:[3]-kernel_size:[3]-drop:0.4-full:[128, 64]-fulldrop:0.3-activation_full:['prelu', 0.0]-depth_multiplier:4-lag:6-activation:hard_sigmoid",
          "filters:[1024]-strides:[3]-kernel_size:[3]-drop:0.3-full:[256]-fulldrop:0.1-activation_full:tanh-depth_multiplier:3-lag:6-activation:hard_sigmoid",
          "filters:[1024]-strides:[3]-kernel_size:[9]-drop:0.5-full:[512]-fulldrop:0.4-activation_full:['leaky', 0.2]-depth_multiplier:5-lag:12-activation:hard_sigmoid",
          "filters:[1024]-strides:[3]-kernel_size:[9]-drop:0.5-full:[512]-fulldrop:0.4-activation_full:['prelu', 0.0]-depth_multiplier:5-lag:12-activation:hard_sigmoid",
          "filters:[32]-strides:[1]-kernel_size:[5]-drop:0.2-full:[128]-fulldrop:0.4-activation_full:['leaky', 0.2]-depth_multiplier:1-lag:6-activation:hard_sigmoid",
          "filters:[32]-strides:[1]-kernel_size:[7]-drop:0.4-full:[64, 32, 16]-fulldrop:0.2-activation_full:linear-depth_multiplier:3-lag:30-activation:hard_sigmoid",
          "filters:[32]-strides:[2]-kernel_size:[7]-drop:0.1-full:[4096]-fulldrop:0.0-activation_full:linear-depth_multiplier:4-lag:30-activation:hard_sigmoid",
          "filters:[32]-strides:[2]-kernel_size:[3]-drop:0.2-full:[32, 16, 8]-fulldrop:0.3-activation_full:hard_sigmoid-depth_multiplier:2-lag:30-activation:hard_sigmoid",
          "filters:[32]-strides:[3]-kernel_size:[1]-drop:0.2-full:[4096]-fulldrop:0.1-activation_full:tanh-depth_multiplier:3-lag:24-activation:hard_sigmoid",
          "filters:[512]-strides:[1]-kernel_size:[3]-drop:0.5-full:[512]-fulldrop:0.3-activation_full:['leaky', 0.1]-depth_multiplier:4-lag:24-activation:hard_sigmoid",
          "filters:[512]-strides:[1]-kernel_size:[1]-drop:0.4-full:[128]-fulldrop:0.2-activation_full:['leaky', 0.1]-depth_multiplier:5-lag:12-activation:hard_sigmoid",
          "filters:[512]-strides:[1]-kernel_size:[9]-drop:0.2-full:[2048, 1024]-fulldrop:0.5-activation_full:linear-depth_multiplier:2-lag:12-activation:hard_sigmoid",
          "filters:[512]-strides:[2]-kernel_size:[9]-drop:0.0-full:[4096]-fulldrop:0.2-activation_full:tanh-depth_multiplier:5-lag:24-activation:hard_sigmoid",
          "filters:[512]-strides:[3]-kernel_size:[1]-drop:0.5-full:[4096, 2048]-fulldrop:0.3-activation_full:linear-depth_multiplier:1-lag:12-activation:hard_sigmoid",
          "filters:[16]-strides:[1]-kernel_size:[1]-drop:0.4-full:[4096, 2048, 1024]-fulldrop:0.2-activation_full:relu-depth_multiplier:4-lag:6-activation:hard_sigmoid",
          "filters:[128]-strides:[1]-kernel_size:[5]-drop:0.5-full:[2048, 1024]-fulldrop:0.2-activation_full:['leaky', 0.2]-depth_multiplier:1-lag:18-activation:hard_sigmoid",
          "filters:[128]-strides:[1]-kernel_size:[5]-drop:0.0-full:[32]-fulldrop:0.3-activation_full:linear-depth_multiplier:2-lag:6-activation:hard_sigmoid",
          "filters:[128]-strides:[1]-kernel_size:[7]-drop:0.1-full:[256, 128, 64]-fulldrop:0.4-activation_full:linear-depth_multiplier:1-lag:30-activation:hard_sigmoid",
          "filters:[128]-strides:[1]-kernel_size:[3]-drop:0.4-full:[512, 256]-fulldrop:0.5-activation_full:linear-depth_multiplier:4-lag:30-activation:hard_sigmoid",
          "filters:[128]-strides:[1]-kernel_size:[9]-drop:0.5-full:[512, 256, 128]-fulldrop:0.5-activation_full:['prelu', 0.0]-depth_multiplier:2-lag:12-activation:hard_sigmoid",
          "filters:[128]-strides:[2]-kernel_size:[9]-drop:0.1-full:[32, 16]-fulldrop:0.4-activation_full:['elu', 0.4]-depth_multiplier:2-lag:12-activation:hard_sigmoid"
         ],
         "type": "scatter",
         "x": [],
         "y": []
        },
        {
         "marker": {
          "size": 20
         },
         "mode": "markers",
         "name": "linear",
         "text": [
          "filters:[64]-strides:[1]-kernel_size:[5]-drop:0.2-full:[32, 16, 8]-fulldrop:0.0-activation_full:['leaky', 0.1]-depth_multiplier:4-lag:18-activation:linear",
          "filters:[64]-strides:[2]-kernel_size:[7]-drop:0.4-full:[4096, 2048]-fulldrop:0.4-activation_full:tanh-depth_multiplier:3-lag:30-activation:linear",
          "filters:[64]-strides:[2]-kernel_size:[1]-drop:0.2-full:[512, 256]-fulldrop:0.5-activation_full:['leaky', 0.2]-depth_multiplier:2-lag:6-activation:linear",
          "filters:[64]-strides:[3]-kernel_size:[5]-drop:0.0-full:[512, 256]-fulldrop:0.4-activation_full:relu-depth_multiplier:2-lag:30-activation:linear",
          "filters:[256]-strides:[1]-kernel_size:[5]-drop:0.5-full:[512, 256, 128]-fulldrop:0.3-activation_full:['leaky', 0.1]-depth_multiplier:4-lag:18-activation:linear",
          "filters:[256]-strides:[1]-kernel_size:[3]-drop:0.2-full:[32]-fulldrop:0.4-activation_full:hard_sigmoid-depth_multiplier:5-lag:30-activation:linear",
          "filters:[256]-strides:[2]-kernel_size:[7]-drop:0.1-full:[4096, 2048, 1024]-fulldrop:0.3-activation_full:linear-depth_multiplier:3-lag:12-activation:linear",
          "filters:[256]-strides:[3]-kernel_size:[7]-drop:0.2-full:[4096, 2048, 1024]-fulldrop:0.0-activation_full:['leaky', 0.1]-depth_multiplier:3-lag:6-activation:linear",
          "filters:[256]-strides:[3]-kernel_size:[3]-drop:0.5-full:[512, 256]-fulldrop:0.5-activation_full:['prelu', 0.0]-depth_multiplier:3-lag:6-activation:linear",
          "filters:[1024]-strides:[1]-kernel_size:[9]-drop:0.0-full:[1024, 512, 256]-fulldrop:0.1-activation_full:['prelu', 0.0]-depth_multiplier:5-lag:18-activation:linear",
          "filters:[1024]-strides:[2]-kernel_size:[5]-drop:0.5-full:[512]-fulldrop:0.0-activation_full:['elu', 0.3]-depth_multiplier:1-lag:18-activation:linear",
          "filters:[1024]-strides:[2]-kernel_size:[9]-drop:0.5-full:[1024, 512]-fulldrop:0.3-activation_full:['elu', 0.4]-depth_multiplier:4-lag:6-activation:linear",
          "filters:[1024]-strides:[3]-kernel_size:[5]-drop:0.3-full:[256, 128, 64]-fulldrop:0.4-activation_full:linear-depth_multiplier:5-lag:12-activation:linear",
          "filters:[1024]-strides:[3]-kernel_size:[9]-drop:0.5-full:[512]-fulldrop:0.4-activation_full:['leaky', 0.1]-depth_multiplier:3-lag:12-activation:linear",
          "filters:[32]-strides:[1]-kernel_size:[1]-drop:0.0-full:[512]-fulldrop:0.5-activation_full:['leaky', 0.1]-depth_multiplier:4-lag:18-activation:linear",
          "filters:[32]-strides:[3]-kernel_size:[1]-drop:0.1-full:[1024]-fulldrop:0.4-activation_full:['elu', 0.4]-depth_multiplier:2-lag:6-activation:linear",
          "filters:[512]-strides:[1]-kernel_size:[1]-drop:0.2-full:[512]-fulldrop:0.2-activation_full:['elu', 0.3]-depth_multiplier:4-lag:6-activation:linear",
          "filters:[512]-strides:[3]-kernel_size:[1]-drop:0.3-full:[512]-fulldrop:0.3-activation_full:['elu', 0.4]-depth_multiplier:1-lag:24-activation:linear",
          "filters:[16]-strides:[1]-kernel_size:[5]-drop:0.4-full:[2048, 1024]-fulldrop:0.2-activation_full:['elu', 0.3]-depth_multiplier:2-lag:24-activation:linear",
          "filters:[16]-strides:[1]-kernel_size:[7]-drop:0.5-full:[512, 256]-fulldrop:0.0-activation_full:['elu', 0.3]-depth_multiplier:2-lag:12-activation:linear",
          "filters:[16]-strides:[1]-kernel_size:[9]-drop:0.2-full:[512, 256]-fulldrop:0.0-activation_full:tanh-depth_multiplier:1-lag:18-activation:linear",
          "filters:[16]-strides:[2]-kernel_size:[7]-drop:0.3-full:[32, 16]-fulldrop:0.3-activation_full:tanh-depth_multiplier:3-lag:30-activation:linear",
          "filters:[16]-strides:[2]-kernel_size:[9]-drop:0.1-full:[1024, 512, 256]-fulldrop:0.4-activation_full:['leaky', 0.1]-depth_multiplier:5-lag:24-activation:linear",
          "filters:[128]-strides:[2]-kernel_size:[1]-drop:0.1-full:[1024, 512]-fulldrop:0.5-activation_full:['leaky', 0.1]-depth_multiplier:3-lag:12-activation:linear",
          "filters:[128]-strides:[2]-kernel_size:[1]-drop:0.3-full:[1024]-fulldrop:0.5-activation_full:['prelu', 0.0]-depth_multiplier:3-lag:30-activation:linear"
         ],
         "type": "scatter",
         "x": [
          7.241367422830537
         ],
         "y": [
          600
         ]
        },
        {
         "marker": {
          "size": 20
         },
         "mode": "markers",
         "name": "relu",
         "text": [
          "filters:[64]-strides:[1]-kernel_size:[7]-drop:0.5-full:[2048]-fulldrop:0.2-activation_full:['elu', 0.3]-depth_multiplier:3-lag:12-activation:relu",
          "filters:[64]-strides:[1]-kernel_size:[3]-drop:0.1-full:[1024, 512, 256]-fulldrop:0.5-activation_full:linear-depth_multiplier:5-lag:30-activation:relu",
          "filters:[64]-strides:[1]-kernel_size:[1]-drop:0.5-full:[32, 16, 8]-fulldrop:0.3-activation_full:['leaky', 0.2]-depth_multiplier:5-lag:30-activation:relu",
          "filters:[64]-strides:[2]-kernel_size:[1]-drop:0.4-full:[2048, 1024]-fulldrop:0.2-activation_full:['prelu', 0.0]-depth_multiplier:1-lag:18-activation:relu",
          "filters:[64]-strides:[3]-kernel_size:[1]-drop:0.4-full:[128]-fulldrop:0.3-activation_full:hard_sigmoid-depth_multiplier:5-lag:6-activation:relu",
          "filters:[256]-strides:[3]-kernel_size:[9]-drop:0.5-full:[1024]-fulldrop:0.4-activation_full:['leaky', 0.1]-depth_multiplier:5-lag:6-activation:relu",
          "filters:[1024]-strides:[2]-kernel_size:[7]-drop:0.4-full:[4096, 2048]-fulldrop:0.2-activation_full:['leaky', 0.1]-depth_multiplier:2-lag:6-activation:relu",
          "filters:[1024]-strides:[2]-kernel_size:[3]-drop:0.2-full:[32, 16, 8]-fulldrop:0.3-activation_full:['leaky', 0.2]-depth_multiplier:2-lag:12-activation:relu",
          "filters:[1024]-strides:[2]-kernel_size:[3]-drop:0.5-full:[32, 16, 8]-fulldrop:0.3-activation_full:['leaky', 0.2]-depth_multiplier:4-lag:6-activation:relu",
          "filters:[1024]-strides:[3]-kernel_size:[3]-drop:0.5-full:[1024]-fulldrop:0.1-activation_full:['elu', 0.3]-depth_multiplier:2-lag:12-activation:relu",
          "filters:[1024]-strides:[3]-kernel_size:[1]-drop:0.5-full:[2048, 1024]-fulldrop:0.4-activation_full:relu-depth_multiplier:1-lag:24-activation:relu",
          "filters:[1024]-strides:[3]-kernel_size:[9]-drop:0.5-full:[512]-fulldrop:0.5-activation_full:['leaky', 0.2]-depth_multiplier:5-lag:12-activation:relu",
          "filters:[1024]-strides:[3]-kernel_size:[9]-drop:0.5-full:[512]-fulldrop:0.4-activation_full:['leaky', 0.2]-depth_multiplier:5-lag:12-activation:relu",
          "filters:[32]-strides:[1]-kernel_size:[3]-drop:0.1-full:[64, 32, 16]-fulldrop:0.3-activation_full:['elu', 0.4]-depth_multiplier:2-lag:24-activation:relu",
          "filters:[32]-strides:[2]-kernel_size:[5]-drop:0.0-full:[256]-fulldrop:0.5-activation_full:tanh-depth_multiplier:3-lag:30-activation:relu",
          "filters:[32]-strides:[2]-kernel_size:[7]-drop:0.2-full:[1024, 512]-fulldrop:0.2-activation_full:['leaky', 0.2]-depth_multiplier:4-lag:6-activation:relu",
          "filters:[32]-strides:[2]-kernel_size:[3]-drop:0.1-full:[64, 32]-fulldrop:0.0-activation_full:hard_sigmoid-depth_multiplier:4-lag:6-activation:relu",
          "filters:[512]-strides:[2]-kernel_size:[7]-drop:0.1-full:[64]-fulldrop:0.1-activation_full:['elu', 0.3]-depth_multiplier:4-lag:12-activation:relu",
          "filters:[16]-strides:[2]-kernel_size:[7]-drop:0.5-full:[128, 64, 32]-fulldrop:0.5-activation_full:['elu', 0.4]-depth_multiplier:3-lag:18-activation:relu",
          "filters:[16]-strides:[2]-kernel_size:[3]-drop:0.3-full:[64, 32]-fulldrop:0.4-activation_full:['elu', 0.4]-depth_multiplier:4-lag:12-activation:relu",
          "filters:[16]-strides:[2]-kernel_size:[9]-drop:0.5-full:[32, 16]-fulldrop:0.1-activation_full:relu-depth_multiplier:2-lag:6-activation:relu",
          "filters:[16]-strides:[2]-kernel_size:[9]-drop:0.0-full:[2048, 1024]-fulldrop:0.3-activation_full:['leaky', 0.2]-depth_multiplier:4-lag:18-activation:relu",
          "filters:[16]-strides:[3]-kernel_size:[7]-drop:0.1-full:[256]-fulldrop:0.0-activation_full:['leaky', 0.1]-depth_multiplier:5-lag:12-activation:relu",
          "filters:[16]-strides:[3]-kernel_size:[7]-drop:0.5-full:[512, 256, 128]-fulldrop:0.2-activation_full:['elu', 0.3]-depth_multiplier:5-lag:6-activation:relu",
          "filters:[16]-strides:[3]-kernel_size:[7]-drop:0.3-full:[2048, 1024]-fulldrop:0.3-activation_full:['leaky', 0.1]-depth_multiplier:4-lag:24-activation:relu",
          "filters:[16]-strides:[3]-kernel_size:[9]-drop:0.0-full:[128, 64, 32]-fulldrop:0.0-activation_full:['elu', 0.3]-depth_multiplier:2-lag:6-activation:relu",
          "filters:[128]-strides:[1]-kernel_size:[5]-drop:0.0-full:[1024, 512, 256]-fulldrop:0.5-activation_full:relu-depth_multiplier:4-lag:18-activation:relu",
          "filters:[128]-strides:[2]-kernel_size:[1]-drop:0.1-full:[2048, 1024, 512]-fulldrop:0.0-activation_full:['leaky', 0.1]-depth_multiplier:4-lag:30-activation:relu",
          "filters:[128]-strides:[3]-kernel_size:[7]-drop:0.3-full:[256, 128]-fulldrop:0.2-activation_full:['elu', 0.4]-depth_multiplier:4-lag:24-activation:relu"
         ],
         "type": "scatter",
         "x": [],
         "y": []
        },
        {
         "marker": {
          "size": 20
         },
         "mode": "markers",
         "name": "tanh",
         "text": [
          "filters:[64]-strides:[1]-kernel_size:[9]-drop:0.4-full:[1024, 512, 256]-fulldrop:0.3-activation_full:tanh-depth_multiplier:3-lag:18-activation:tanh",
          "filters:[64]-strides:[2]-kernel_size:[3]-drop:0.4-full:[1024, 512, 256]-fulldrop:0.3-activation_full:tanh-depth_multiplier:3-lag:24-activation:tanh",
          "filters:[64]-strides:[2]-kernel_size:[9]-drop:0.5-full:[64, 32, 16]-fulldrop:0.3-activation_full:['prelu', 0.0]-depth_multiplier:3-lag:18-activation:tanh",
          "filters:[64]-strides:[2]-kernel_size:[9]-drop:0.5-full:[64, 32, 16]-fulldrop:0.0-activation_full:['prelu', 0.0]-depth_multiplier:5-lag:18-activation:tanh",
          "filters:[64]-strides:[3]-kernel_size:[5]-drop:0.2-full:[128, 64, 32]-fulldrop:0.3-activation_full:['leaky', 0.2]-depth_multiplier:5-lag:12-activation:tanh",
          "filters:[64]-strides:[3]-kernel_size:[7]-drop:0.1-full:[256, 128, 64]-fulldrop:0.0-activation_full:hard_sigmoid-depth_multiplier:4-lag:12-activation:tanh",
          "filters:[64]-strides:[3]-kernel_size:[7]-drop:0.3-full:[64, 32, 16]-fulldrop:0.0-activation_full:['leaky', 0.2]-depth_multiplier:2-lag:12-activation:tanh",
          "filters:[64]-strides:[3]-kernel_size:[1]-drop:0.0-full:[4096, 2048]-fulldrop:0.4-activation_full:['leaky', 0.2]-depth_multiplier:5-lag:12-activation:tanh",
          "filters:[256]-strides:[1]-kernel_size:[1]-drop:0.2-full:[1024]-fulldrop:0.1-activation_full:hard_sigmoid-depth_multiplier:2-lag:18-activation:tanh",
          "filters:[256]-strides:[1]-kernel_size:[9]-drop:0.3-full:[256]-fulldrop:0.0-activation_full:hard_sigmoid-depth_multiplier:2-lag:12-activation:tanh",
          "filters:[256]-strides:[2]-kernel_size:[7]-drop:0.2-full:[1024]-fulldrop:0.1-activation_full:hard_sigmoid-depth_multiplier:2-lag:18-activation:tanh",
          "filters:[256]-strides:[2]-kernel_size:[9]-drop:0.5-full:[64, 32, 16]-fulldrop:0.3-activation_full:['prelu', 0.0]-depth_multiplier:5-lag:18-activation:tanh",
          "filters:[256]-strides:[3]-kernel_size:[5]-drop:0.1-full:[1024, 512, 256]-fulldrop:0.0-activation_full:tanh-depth_multiplier:5-lag:6-activation:tanh",
          "filters:[256]-strides:[3]-kernel_size:[7]-drop:0.2-full:[64, 32, 16]-fulldrop:0.1-activation_full:['leaky', 0.2]-depth_multiplier:2-lag:12-activation:tanh",
          "filters:[256]-strides:[3]-kernel_size:[7]-drop:0.2-full:[4096, 2048]-fulldrop:0.1-activation_full:['leaky', 0.2]-depth_multiplier:2-lag:12-activation:tanh",
          "filters:[256]-strides:[3]-kernel_size:[3]-drop:0.0-full:[1024]-fulldrop:0.3-activation_full:['leaky', 0.1]-depth_multiplier:3-lag:30-activation:tanh",
          "filters:[256]-strides:[3]-kernel_size:[9]-drop:0.5-full:[32, 16, 8]-fulldrop:0.0-activation_full:tanh-depth_multiplier:5-lag:30-activation:tanh",
          "filters:[1024]-strides:[1]-kernel_size:[3]-drop:0.4-full:[1024, 512, 256]-fulldrop:0.1-activation_full:tanh-depth_multiplier:3-lag:18-activation:tanh",
          "filters:[1024]-strides:[1]-kernel_size:[3]-drop:0.4-full:[4096]-fulldrop:0.3-activation_full:tanh-depth_multiplier:4-lag:18-activation:tanh",
          "filters:[1024]-strides:[1]-kernel_size:[3]-drop:0.3-full:[512, 256]-fulldrop:0.4-activation_full:['elu', 0.4]-depth_multiplier:4-lag:12-activation:tanh",
          "filters:[1024]-strides:[2]-kernel_size:[5]-drop:0.5-full:[4096, 2048]-fulldrop:0.2-activation_full:relu-depth_multiplier:3-lag:24-activation:tanh",
          "filters:[1024]-strides:[2]-kernel_size:[7]-drop:0.1-full:[512]-fulldrop:0.3-activation_full:hard_sigmoid-depth_multiplier:5-lag:12-activation:tanh",
          "filters:[1024]-strides:[2]-kernel_size:[7]-drop:0.1-full:[512]-fulldrop:0.4-activation_full:hard_sigmoid-depth_multiplier:5-lag:12-activation:tanh",
          "filters:[1024]-strides:[2]-kernel_size:[7]-drop:0.2-full:[512]-fulldrop:0.4-activation_full:hard_sigmoid-depth_multiplier:3-lag:12-activation:tanh",
          "filters:[1024]-strides:[2]-kernel_size:[7]-drop:0.5-full:[512]-fulldrop:0.4-activation_full:['leaky', 0.1]-depth_multiplier:3-lag:12-activation:tanh",
          "filters:[1024]-strides:[2]-kernel_size:[7]-drop:0.5-full:[512]-fulldrop:0.5-activation_full:hard_sigmoid-depth_multiplier:5-lag:12-activation:tanh",
          "filters:[1024]-strides:[2]-kernel_size:[7]-drop:0.5-full:[512]-fulldrop:0.4-activation_full:hard_sigmoid-depth_multiplier:5-lag:12-activation:tanh",
          "filters:[1024]-strides:[2]-kernel_size:[7]-drop:0.3-full:[512]-fulldrop:0.3-activation_full:hard_sigmoid-depth_multiplier:3-lag:12-activation:tanh",
          "filters:[1024]-strides:[2]-kernel_size:[9]-drop:0.2-full:[1024, 512, 256]-fulldrop:0.2-activation_full:hard_sigmoid-depth_multiplier:5-lag:24-activation:tanh",
          "filters:[1024]-strides:[2]-kernel_size:[9]-drop:0.2-full:[64, 32, 16]-fulldrop:0.0-activation_full:['prelu', 0.0]-depth_multiplier:5-lag:12-activation:tanh",
          "filters:[1024]-strides:[2]-kernel_size:[9]-drop:0.5-full:[1024]-fulldrop:0.4-activation_full:['leaky', 0.1]-depth_multiplier:4-lag:12-activation:tanh",
          "filters:[1024]-strides:[2]-kernel_size:[9]-drop:0.5-full:[64, 32, 16]-fulldrop:0.0-activation_full:['prelu', 0.0]-depth_multiplier:5-lag:12-activation:tanh",
          "filters:[1024]-strides:[3]-kernel_size:[7]-drop:0.1-full:[512]-fulldrop:0.4-activation_full:linear-depth_multiplier:5-lag:12-activation:tanh",
          "filters:[1024]-strides:[3]-kernel_size:[7]-drop:0.1-full:[512]-fulldrop:0.4-activation_full:['leaky', 0.1]-depth_multiplier:5-lag:12-activation:tanh",
          "filters:[1024]-strides:[3]-kernel_size:[7]-drop:0.1-full:[512]-fulldrop:0.3-activation_full:['elu', 0.4]-depth_multiplier:5-lag:12-activation:tanh",
          "filters:[1024]-strides:[3]-kernel_size:[7]-drop:0.1-full:[512]-fulldrop:0.4-activation_full:['elu', 0.4]-depth_multiplier:4-lag:12-activation:tanh",
          "filters:[1024]-strides:[3]-kernel_size:[7]-drop:0.1-full:[512]-fulldrop:0.4-activation_full:['elu', 0.4]-depth_multiplier:5-lag:12-activation:tanh",
          "filters:[1024]-strides:[3]-kernel_size:[7]-drop:0.1-full:[512]-fulldrop:0.4-activation_full:['elu', 0.4]-depth_multiplier:5-lag:6-activation:tanh",
          "filters:[1024]-strides:[3]-kernel_size:[7]-drop:0.1-full:[512]-fulldrop:0.4-activation_full:['elu', 0.4]-depth_multiplier:3-lag:12-activation:tanh",
          "filters:[1024]-strides:[3]-kernel_size:[7]-drop:0.1-full:[512]-fulldrop:0.4-activation_full:['elu', 0.3]-depth_multiplier:5-lag:12-activation:tanh",
          "filters:[1024]-strides:[3]-kernel_size:[7]-drop:0.1-full:[512]-fulldrop:0.3-activation_full:['leaky', 0.2]-depth_multiplier:5-lag:12-activation:tanh",
          "filters:[1024]-strides:[3]-kernel_size:[7]-drop:0.1-full:[512]-fulldrop:0.4-activation_full:['leaky', 0.2]-depth_multiplier:5-lag:12-activation:tanh",
          "filters:[1024]-strides:[3]-kernel_size:[7]-drop:0.1-full:[2048]-fulldrop:0.3-activation_full:hard_sigmoid-depth_multiplier:5-lag:12-activation:tanh",
          "filters:[1024]-strides:[3]-kernel_size:[7]-drop:0.1-full:[2048]-fulldrop:0.3-activation_full:hard_sigmoid-depth_multiplier:5-lag:6-activation:tanh",
          "filters:[1024]-strides:[3]-kernel_size:[7]-drop:0.1-full:[2048]-fulldrop:0.4-activation_full:hard_sigmoid-depth_multiplier:5-lag:12-activation:tanh",
          "filters:[1024]-strides:[3]-kernel_size:[7]-drop:0.1-full:[2048]-fulldrop:0.4-activation_full:hard_sigmoid-depth_multiplier:5-lag:6-activation:tanh",
          "filters:[1024]-strides:[3]-kernel_size:[7]-drop:0.1-full:[1024]-fulldrop:0.3-activation_full:hard_sigmoid-depth_multiplier:5-lag:12-activation:tanh",
          "filters:[1024]-strides:[3]-kernel_size:[7]-drop:0.1-full:[512]-fulldrop:0.3-activation_full:hard_sigmoid-depth_multiplier:4-lag:12-activation:tanh",
          "filters:[1024]-strides:[3]-kernel_size:[7]-drop:0.1-full:[512]-fulldrop:0.3-activation_full:hard_sigmoid-depth_multiplier:5-lag:12-activation:tanh",
          "filters:[1024]-strides:[3]-kernel_size:[7]-drop:0.1-full:[512]-fulldrop:0.3-activation_full:hard_sigmoid-depth_multiplier:5-lag:6-activation:tanh",
          "filters:[1024]-strides:[3]-kernel_size:[7]-drop:0.1-full:[512]-fulldrop:0.3-activation_full:hard_sigmoid-depth_multiplier:3-lag:12-activation:tanh",
          "filters:[1024]-strides:[3]-kernel_size:[7]-drop:0.1-full:[512]-fulldrop:0.4-activation_full:hard_sigmoid-depth_multiplier:4-lag:12-activation:tanh",
          "filters:[1024]-strides:[3]-kernel_size:[7]-drop:0.1-full:[512]-fulldrop:0.4-activation_full:hard_sigmoid-depth_multiplier:4-lag:6-activation:tanh",
          "filters:[1024]-strides:[3]-kernel_size:[7]-drop:0.1-full:[512]-fulldrop:0.4-activation_full:hard_sigmoid-depth_multiplier:5-lag:12-activation:tanh",
          "filters:[1024]-strides:[3]-kernel_size:[7]-drop:0.1-full:[512]-fulldrop:0.4-activation_full:hard_sigmoid-depth_multiplier:5-lag:6-activation:tanh",
          "filters:[1024]-strides:[3]-kernel_size:[7]-drop:0.1-full:[512]-fulldrop:0.4-activation_full:hard_sigmoid-depth_multiplier:3-lag:12-activation:tanh",
          "filters:[1024]-strides:[3]-kernel_size:[7]-drop:0.1-full:[512]-fulldrop:0.4-activation_full:['prelu', 0.0]-depth_multiplier:5-lag:12-activation:tanh",
          "filters:[1024]-strides:[3]-kernel_size:[7]-drop:0.1-full:[512]-fulldrop:0.4-activation_full:['prelu', 0.0]-depth_multiplier:5-lag:6-activation:tanh",
          "filters:[1024]-strides:[3]-kernel_size:[7]-drop:0.4-full:[128]-fulldrop:0.3-activation_full:hard_sigmoid-depth_multiplier:4-lag:12-activation:tanh",
          "filters:[1024]-strides:[3]-kernel_size:[7]-drop:0.4-full:[512]-fulldrop:0.3-activation_full:hard_sigmoid-depth_multiplier:5-lag:6-activation:tanh",
          "filters:[1024]-strides:[3]-kernel_size:[7]-drop:0.2-full:[512]-fulldrop:0.3-activation_full:tanh-depth_multiplier:5-lag:12-activation:tanh",
          "filters:[1024]-strides:[3]-kernel_size:[7]-drop:0.2-full:[64, 32, 16]-fulldrop:0.1-activation_full:['leaky', 0.2]-depth_multiplier:2-lag:12-activation:tanh",
          "filters:[1024]-strides:[3]-kernel_size:[7]-drop:0.2-full:[2048]-fulldrop:0.3-activation_full:hard_sigmoid-depth_multiplier:5-lag:6-activation:tanh",
          "filters:[1024]-strides:[3]-kernel_size:[7]-drop:0.2-full:[512, 256]-fulldrop:0.3-activation_full:hard_sigmoid-depth_multiplier:5-lag:12-activation:tanh",
          "filters:[1024]-strides:[3]-kernel_size:[7]-drop:0.2-full:[512, 256]-fulldrop:0.3-activation_full:hard_sigmoid-depth_multiplier:5-lag:6-activation:tanh",
          "filters:[1024]-strides:[3]-kernel_size:[7]-drop:0.2-full:[512]-fulldrop:0.3-activation_full:hard_sigmoid-depth_multiplier:4-lag:12-activation:tanh",
          "filters:[1024]-strides:[3]-kernel_size:[7]-drop:0.2-full:[512]-fulldrop:0.3-activation_full:hard_sigmoid-depth_multiplier:5-lag:12-activation:tanh",
          "filters:[1024]-strides:[3]-kernel_size:[7]-drop:0.2-full:[512]-fulldrop:0.3-activation_full:hard_sigmoid-depth_multiplier:5-lag:30-activation:tanh",
          "filters:[1024]-strides:[3]-kernel_size:[7]-drop:0.2-full:[512]-fulldrop:0.3-activation_full:hard_sigmoid-depth_multiplier:3-lag:12-activation:tanh",
          "filters:[1024]-strides:[3]-kernel_size:[7]-drop:0.2-full:[512]-fulldrop:0.4-activation_full:hard_sigmoid-depth_multiplier:5-lag:12-activation:tanh",
          "filters:[1024]-strides:[3]-kernel_size:[7]-drop:0.2-full:[4096]-fulldrop:0.2-activation_full:hard_sigmoid-depth_multiplier:5-lag:12-activation:tanh",
          "filters:[1024]-strides:[3]-kernel_size:[7]-drop:0.2-full:[256, 128]-fulldrop:0.3-activation_full:hard_sigmoid-depth_multiplier:5-lag:12-activation:tanh",
          "filters:[1024]-strides:[3]-kernel_size:[7]-drop:0.5-full:[512]-fulldrop:0.4-activation_full:linear-depth_multiplier:5-lag:12-activation:tanh",
          "filters:[1024]-strides:[3]-kernel_size:[7]-drop:0.5-full:[512]-fulldrop:0.4-activation_full:['leaky', 0.2]-depth_multiplier:4-lag:12-activation:tanh",
          "filters:[1024]-strides:[3]-kernel_size:[7]-drop:0.5-full:[512]-fulldrop:0.4-activation_full:['leaky', 0.2]-depth_multiplier:5-lag:12-activation:tanh",
          "filters:[1024]-strides:[3]-kernel_size:[7]-drop:0.5-full:[2048]-fulldrop:0.5-activation_full:hard_sigmoid-depth_multiplier:5-lag:12-activation:tanh",
          "filters:[1024]-strides:[3]-kernel_size:[7]-drop:0.5-full:[2048]-fulldrop:0.4-activation_full:hard_sigmoid-depth_multiplier:5-lag:12-activation:tanh",
          "filters:[1024]-strides:[3]-kernel_size:[7]-drop:0.5-full:[512]-fulldrop:0.5-activation_full:hard_sigmoid-depth_multiplier:5-lag:12-activation:tanh",
          "filters:[1024]-strides:[3]-kernel_size:[7]-drop:0.5-full:[512]-fulldrop:0.3-activation_full:hard_sigmoid-depth_multiplier:5-lag:12-activation:tanh",
          "filters:[1024]-strides:[3]-kernel_size:[7]-drop:0.5-full:[512]-fulldrop:0.3-activation_full:hard_sigmoid-depth_multiplier:3-lag:12-activation:tanh",
          "filters:[1024]-strides:[3]-kernel_size:[7]-drop:0.5-full:[512]-fulldrop:0.3-activation_full:hard_sigmoid-depth_multiplier:3-lag:6-activation:tanh",
          "filters:[1024]-strides:[3]-kernel_size:[7]-drop:0.5-full:[512]-fulldrop:0.4-activation_full:hard_sigmoid-depth_multiplier:4-lag:12-activation:tanh",
          "filters:[1024]-strides:[3]-kernel_size:[7]-drop:0.5-full:[512]-fulldrop:0.4-activation_full:hard_sigmoid-depth_multiplier:5-lag:12-activation:tanh",
          "filters:[1024]-strides:[3]-kernel_size:[7]-drop:0.5-full:[512]-fulldrop:0.4-activation_full:hard_sigmoid-depth_multiplier:5-lag:6-activation:tanh",
          "filters:[1024]-strides:[3]-kernel_size:[7]-drop:0.5-full:[512]-fulldrop:0.4-activation_full:hard_sigmoid-depth_multiplier:3-lag:12-activation:tanh",
          "filters:[1024]-strides:[3]-kernel_size:[7]-drop:0.3-full:[512]-fulldrop:0.3-activation_full:hard_sigmoid-depth_multiplier:5-lag:12-activation:tanh",
          "filters:[1024]-strides:[3]-kernel_size:[7]-drop:0.3-full:[512]-fulldrop:0.3-activation_full:hard_sigmoid-depth_multiplier:5-lag:6-activation:tanh",
          "filters:[1024]-strides:[3]-kernel_size:[9]-drop:0.2-full:[64, 32]-fulldrop:0.3-activation_full:hard_sigmoid-depth_multiplier:5-lag:12-activation:tanh",
          "filters:[1024]-strides:[3]-kernel_size:[9]-drop:0.5-full:[2048]-fulldrop:0.4-activation_full:['leaky', 0.1]-depth_multiplier:4-lag:12-activation:tanh",
          "filters:[1024]-strides:[3]-kernel_size:[9]-drop:0.5-full:[1024]-fulldrop:0.4-activation_full:['leaky', 0.1]-depth_multiplier:4-lag:12-activation:tanh",
          "filters:[1024]-strides:[3]-kernel_size:[9]-drop:0.5-full:[512]-fulldrop:0.4-activation_full:['leaky', 0.1]-depth_multiplier:4-lag:12-activation:tanh",
          "filters:[1024]-strides:[3]-kernel_size:[9]-drop:0.5-full:[512]-fulldrop:0.4-activation_full:['leaky', 0.1]-depth_multiplier:3-lag:12-activation:tanh",
          "filters:[1024]-strides:[3]-kernel_size:[9]-drop:0.5-full:[2048]-fulldrop:0.3-activation_full:hard_sigmoid-depth_multiplier:5-lag:12-activation:tanh",
          "filters:[1024]-strides:[3]-kernel_size:[9]-drop:0.5-full:[2048]-fulldrop:0.4-activation_full:hard_sigmoid-depth_multiplier:5-lag:12-activation:tanh",
          "filters:[1024]-strides:[3]-kernel_size:[9]-drop:0.5-full:[512]-fulldrop:0.3-activation_full:hard_sigmoid-depth_multiplier:5-lag:12-activation:tanh",
          "filters:[1024]-strides:[3]-kernel_size:[9]-drop:0.5-full:[512]-fulldrop:0.4-activation_full:['prelu', 0.0]-depth_multiplier:5-lag:12-activation:tanh",
          "filters:[1024]-strides:[3]-kernel_size:[9]-drop:0.0-full:[256, 128]-fulldrop:0.0-activation_full:['elu', 0.4]-depth_multiplier:5-lag:18-activation:tanh",
          "filters:[32]-strides:[1]-kernel_size:[5]-drop:0.4-full:[512, 256, 128]-fulldrop:0.3-activation_full:tanh-depth_multiplier:3-lag:18-activation:tanh",
          "filters:[32]-strides:[1]-kernel_size:[7]-drop:0.4-full:[1024, 512, 256]-fulldrop:0.3-activation_full:tanh-depth_multiplier:3-lag:18-activation:tanh",
          "filters:[32]-strides:[1]-kernel_size:[3]-drop:0.4-full:[1024, 512, 256]-fulldrop:0.3-activation_full:tanh-depth_multiplier:4-lag:18-activation:tanh",
          "filters:[32]-strides:[1]-kernel_size:[3]-drop:0.4-full:[1024, 512, 256]-fulldrop:0.3-activation_full:tanh-depth_multiplier:5-lag:18-activation:tanh",
          "filters:[32]-strides:[1]-kernel_size:[3]-drop:0.4-full:[1024, 512, 256]-fulldrop:0.3-activation_full:tanh-depth_multiplier:3-lag:18-activation:tanh",
          "filters:[32]-strides:[1]-kernel_size:[3]-drop:0.4-full:[256, 128, 64]-fulldrop:0.3-activation_full:tanh-depth_multiplier:3-lag:18-activation:tanh",
          "filters:[32]-strides:[1]-kernel_size:[3]-drop:0.2-full:[1024, 512, 256]-fulldrop:0.3-activation_full:tanh-depth_multiplier:3-lag:18-activation:tanh",
          "filters:[32]-strides:[1]-kernel_size:[3]-drop:0.5-full:[1024, 512, 256]-fulldrop:0.3-activation_full:tanh-depth_multiplier:3-lag:18-activation:tanh",
          "filters:[32]-strides:[1]-kernel_size:[9]-drop:0.1-full:[64]-fulldrop:0.2-activation_full:['leaky', 0.2]-depth_multiplier:1-lag:6-activation:tanh",
          "filters:[32]-strides:[1]-kernel_size:[9]-drop:0.4-full:[1024, 512, 256]-fulldrop:0.3-activation_full:tanh-depth_multiplier:3-lag:18-activation:tanh",
          "filters:[32]-strides:[3]-kernel_size:[5]-drop:0.3-full:[4096, 2048]-fulldrop:0.3-activation_full:hard_sigmoid-depth_multiplier:1-lag:12-activation:tanh",
          "filters:[32]-strides:[3]-kernel_size:[7]-drop:0.2-full:[64, 32, 16]-fulldrop:0.1-activation_full:['leaky', 0.2]-depth_multiplier:2-lag:12-activation:tanh",
          "filters:[512]-strides:[1]-kernel_size:[7]-drop:0.1-full:[1024, 512, 256]-fulldrop:0.1-activation_full:linear-depth_multiplier:1-lag:18-activation:tanh",
          "filters:[512]-strides:[1]-kernel_size:[7]-drop:0.1-full:[2048, 1024]-fulldrop:0.4-activation_full:['leaky', 0.2]-depth_multiplier:5-lag:24-activation:tanh",
          "filters:[512]-strides:[1]-kernel_size:[7]-drop:0.1-full:[2048, 1024]-fulldrop:0.4-activation_full:hard_sigmoid-depth_multiplier:5-lag:6-activation:tanh",
          "filters:[512]-strides:[1]-kernel_size:[3]-drop:0.5-full:[64]-fulldrop:0.3-activation_full:tanh-depth_multiplier:5-lag:18-activation:tanh",
          "filters:[512]-strides:[1]-kernel_size:[1]-drop:0.4-full:[64]-fulldrop:0.3-activation_full:['prelu', 0.0]-depth_multiplier:4-lag:6-activation:tanh",
          "filters:[512]-strides:[2]-kernel_size:[1]-drop:0.4-full:[1024, 512, 256]-fulldrop:0.5-activation_full:['elu', 0.3]-depth_multiplier:2-lag:18-activation:tanh",
          "filters:[512]-strides:[3]-kernel_size:[7]-drop:0.1-full:[2048, 1024]-fulldrop:0.4-activation_full:['leaky', 0.2]-depth_multiplier:5-lag:24-activation:tanh",
          "filters:[512]-strides:[3]-kernel_size:[7]-drop:0.0-full:[128, 64]-fulldrop:0.1-activation_full:['leaky', 0.2]-depth_multiplier:3-lag:12-activation:tanh",
          "filters:[512]-strides:[3]-kernel_size:[1]-drop:0.1-full:[512, 256]-fulldrop:0.3-activation_full:['elu', 0.4]-depth_multiplier:2-lag:12-activation:tanh",
          "filters:[16]-strides:[1]-kernel_size:[1]-drop:0.2-full:[2048]-fulldrop:0.5-activation_full:['elu', 0.3]-depth_multiplier:1-lag:24-activation:tanh",
          "filters:[16]-strides:[1]-kernel_size:[1]-drop:0.5-full:[128, 64, 32]-fulldrop:0.2-activation_full:hard_sigmoid-depth_multiplier:4-lag:24-activation:tanh",
          "filters:[16]-strides:[1]-kernel_size:[9]-drop:0.5-full:[64, 32]-fulldrop:0.0-activation_full:['elu', 0.3]-depth_multiplier:5-lag:24-activation:tanh",
          "filters:[16]-strides:[2]-kernel_size:[5]-drop:0.0-full:[128, 64]-fulldrop:0.1-activation_full:['leaky', 0.1]-depth_multiplier:3-lag:30-activation:tanh",
          "filters:[16]-strides:[2]-kernel_size:[3]-drop:0.0-full:[32, 16, 8]-fulldrop:0.3-activation_full:['leaky', 0.2]-depth_multiplier:5-lag:30-activation:tanh",
          "filters:[16]-strides:[2]-kernel_size:[1]-drop:0.3-full:[64]-fulldrop:0.1-activation_full:relu-depth_multiplier:4-lag:30-activation:tanh",
          "filters:[16]-strides:[3]-kernel_size:[3]-drop:0.2-full:[512]-fulldrop:0.4-activation_full:['prelu', 0.0]-depth_multiplier:3-lag:6-activation:tanh",
          "filters:[16]-strides:[3]-kernel_size:[9]-drop:0.1-full:[64]-fulldrop:0.2-activation_full:hard_sigmoid-depth_multiplier:5-lag:12-activation:tanh",
          "filters:[16]-strides:[3]-kernel_size:[9]-drop:0.4-full:[4096, 2048]-fulldrop:0.0-activation_full:linear-depth_multiplier:1-lag:30-activation:tanh",
          "filters:[128]-strides:[1]-kernel_size:[3]-drop:0.2-full:[128]-fulldrop:0.5-activation_full:linear-depth_multiplier:4-lag:30-activation:tanh",
          "filters:[128]-strides:[2]-kernel_size:[7]-drop:0.5-full:[64]-fulldrop:0.2-activation_full:['leaky', 0.2]-depth_multiplier:5-lag:30-activation:tanh",
          "filters:[128]-strides:[2]-kernel_size:[1]-drop:0.2-full:[256, 128]-fulldrop:0.4-activation_full:['elu', 0.3]-depth_multiplier:1-lag:18-activation:tanh"
         ],
         "type": "scatter",
         "x": [],
         "y": []
        }
       ],
       "layout": {
        "template": {
         "data": {
          "bar": [
           {
            "error_x": {
             "color": "#2a3f5f"
            },
            "error_y": {
             "color": "#2a3f5f"
            },
            "marker": {
             "line": {
              "color": "#E5ECF6",
              "width": 0.5
             },
             "pattern": {
              "fillmode": "overlay",
              "size": 10,
              "solidity": 0.2
             }
            },
            "type": "bar"
           }
          ],
          "barpolar": [
           {
            "marker": {
             "line": {
              "color": "#E5ECF6",
              "width": 0.5
             },
             "pattern": {
              "fillmode": "overlay",
              "size": 10,
              "solidity": 0.2
             }
            },
            "type": "barpolar"
           }
          ],
          "carpet": [
           {
            "aaxis": {
             "endlinecolor": "#2a3f5f",
             "gridcolor": "white",
             "linecolor": "white",
             "minorgridcolor": "white",
             "startlinecolor": "#2a3f5f"
            },
            "baxis": {
             "endlinecolor": "#2a3f5f",
             "gridcolor": "white",
             "linecolor": "white",
             "minorgridcolor": "white",
             "startlinecolor": "#2a3f5f"
            },
            "type": "carpet"
           }
          ],
          "choropleth": [
           {
            "colorbar": {
             "outlinewidth": 0,
             "ticks": ""
            },
            "type": "choropleth"
           }
          ],
          "contour": [
           {
            "colorbar": {
             "outlinewidth": 0,
             "ticks": ""
            },
            "colorscale": [
             [
              0,
              "#0d0887"
             ],
             [
              0.1111111111111111,
              "#46039f"
             ],
             [
              0.2222222222222222,
              "#7201a8"
             ],
             [
              0.3333333333333333,
              "#9c179e"
             ],
             [
              0.4444444444444444,
              "#bd3786"
             ],
             [
              0.5555555555555556,
              "#d8576b"
             ],
             [
              0.6666666666666666,
              "#ed7953"
             ],
             [
              0.7777777777777778,
              "#fb9f3a"
             ],
             [
              0.8888888888888888,
              "#fdca26"
             ],
             [
              1,
              "#f0f921"
             ]
            ],
            "type": "contour"
           }
          ],
          "contourcarpet": [
           {
            "colorbar": {
             "outlinewidth": 0,
             "ticks": ""
            },
            "type": "contourcarpet"
           }
          ],
          "heatmap": [
           {
            "colorbar": {
             "outlinewidth": 0,
             "ticks": ""
            },
            "colorscale": [
             [
              0,
              "#0d0887"
             ],
             [
              0.1111111111111111,
              "#46039f"
             ],
             [
              0.2222222222222222,
              "#7201a8"
             ],
             [
              0.3333333333333333,
              "#9c179e"
             ],
             [
              0.4444444444444444,
              "#bd3786"
             ],
             [
              0.5555555555555556,
              "#d8576b"
             ],
             [
              0.6666666666666666,
              "#ed7953"
             ],
             [
              0.7777777777777778,
              "#fb9f3a"
             ],
             [
              0.8888888888888888,
              "#fdca26"
             ],
             [
              1,
              "#f0f921"
             ]
            ],
            "type": "heatmap"
           }
          ],
          "heatmapgl": [
           {
            "colorbar": {
             "outlinewidth": 0,
             "ticks": ""
            },
            "colorscale": [
             [
              0,
              "#0d0887"
             ],
             [
              0.1111111111111111,
              "#46039f"
             ],
             [
              0.2222222222222222,
              "#7201a8"
             ],
             [
              0.3333333333333333,
              "#9c179e"
             ],
             [
              0.4444444444444444,
              "#bd3786"
             ],
             [
              0.5555555555555556,
              "#d8576b"
             ],
             [
              0.6666666666666666,
              "#ed7953"
             ],
             [
              0.7777777777777778,
              "#fb9f3a"
             ],
             [
              0.8888888888888888,
              "#fdca26"
             ],
             [
              1,
              "#f0f921"
             ]
            ],
            "type": "heatmapgl"
           }
          ],
          "histogram": [
           {
            "marker": {
             "pattern": {
              "fillmode": "overlay",
              "size": 10,
              "solidity": 0.2
             }
            },
            "type": "histogram"
           }
          ],
          "histogram2d": [
           {
            "colorbar": {
             "outlinewidth": 0,
             "ticks": ""
            },
            "colorscale": [
             [
              0,
              "#0d0887"
             ],
             [
              0.1111111111111111,
              "#46039f"
             ],
             [
              0.2222222222222222,
              "#7201a8"
             ],
             [
              0.3333333333333333,
              "#9c179e"
             ],
             [
              0.4444444444444444,
              "#bd3786"
             ],
             [
              0.5555555555555556,
              "#d8576b"
             ],
             [
              0.6666666666666666,
              "#ed7953"
             ],
             [
              0.7777777777777778,
              "#fb9f3a"
             ],
             [
              0.8888888888888888,
              "#fdca26"
             ],
             [
              1,
              "#f0f921"
             ]
            ],
            "type": "histogram2d"
           }
          ],
          "histogram2dcontour": [
           {
            "colorbar": {
             "outlinewidth": 0,
             "ticks": ""
            },
            "colorscale": [
             [
              0,
              "#0d0887"
             ],
             [
              0.1111111111111111,
              "#46039f"
             ],
             [
              0.2222222222222222,
              "#7201a8"
             ],
             [
              0.3333333333333333,
              "#9c179e"
             ],
             [
              0.4444444444444444,
              "#bd3786"
             ],
             [
              0.5555555555555556,
              "#d8576b"
             ],
             [
              0.6666666666666666,
              "#ed7953"
             ],
             [
              0.7777777777777778,
              "#fb9f3a"
             ],
             [
              0.8888888888888888,
              "#fdca26"
             ],
             [
              1,
              "#f0f921"
             ]
            ],
            "type": "histogram2dcontour"
           }
          ],
          "mesh3d": [
           {
            "colorbar": {
             "outlinewidth": 0,
             "ticks": ""
            },
            "type": "mesh3d"
           }
          ],
          "parcoords": [
           {
            "line": {
             "colorbar": {
              "outlinewidth": 0,
              "ticks": ""
             }
            },
            "type": "parcoords"
           }
          ],
          "pie": [
           {
            "automargin": true,
            "type": "pie"
           }
          ],
          "scatter": [
           {
            "marker": {
             "colorbar": {
              "outlinewidth": 0,
              "ticks": ""
             }
            },
            "type": "scatter"
           }
          ],
          "scatter3d": [
           {
            "line": {
             "colorbar": {
              "outlinewidth": 0,
              "ticks": ""
             }
            },
            "marker": {
             "colorbar": {
              "outlinewidth": 0,
              "ticks": ""
             }
            },
            "type": "scatter3d"
           }
          ],
          "scattercarpet": [
           {
            "marker": {
             "colorbar": {
              "outlinewidth": 0,
              "ticks": ""
             }
            },
            "type": "scattercarpet"
           }
          ],
          "scattergeo": [
           {
            "marker": {
             "colorbar": {
              "outlinewidth": 0,
              "ticks": ""
             }
            },
            "type": "scattergeo"
           }
          ],
          "scattergl": [
           {
            "marker": {
             "colorbar": {
              "outlinewidth": 0,
              "ticks": ""
             }
            },
            "type": "scattergl"
           }
          ],
          "scattermapbox": [
           {
            "marker": {
             "colorbar": {
              "outlinewidth": 0,
              "ticks": ""
             }
            },
            "type": "scattermapbox"
           }
          ],
          "scatterpolar": [
           {
            "marker": {
             "colorbar": {
              "outlinewidth": 0,
              "ticks": ""
             }
            },
            "type": "scatterpolar"
           }
          ],
          "scatterpolargl": [
           {
            "marker": {
             "colorbar": {
              "outlinewidth": 0,
              "ticks": ""
             }
            },
            "type": "scatterpolargl"
           }
          ],
          "scatterternary": [
           {
            "marker": {
             "colorbar": {
              "outlinewidth": 0,
              "ticks": ""
             }
            },
            "type": "scatterternary"
           }
          ],
          "surface": [
           {
            "colorbar": {
             "outlinewidth": 0,
             "ticks": ""
            },
            "colorscale": [
             [
              0,
              "#0d0887"
             ],
             [
              0.1111111111111111,
              "#46039f"
             ],
             [
              0.2222222222222222,
              "#7201a8"
             ],
             [
              0.3333333333333333,
              "#9c179e"
             ],
             [
              0.4444444444444444,
              "#bd3786"
             ],
             [
              0.5555555555555556,
              "#d8576b"
             ],
             [
              0.6666666666666666,
              "#ed7953"
             ],
             [
              0.7777777777777778,
              "#fb9f3a"
             ],
             [
              0.8888888888888888,
              "#fdca26"
             ],
             [
              1,
              "#f0f921"
             ]
            ],
            "type": "surface"
           }
          ],
          "table": [
           {
            "cells": {
             "fill": {
              "color": "#EBF0F8"
             },
             "line": {
              "color": "white"
             }
            },
            "header": {
             "fill": {
              "color": "#C8D4E3"
             },
             "line": {
              "color": "white"
             }
            },
            "type": "table"
           }
          ]
         },
         "layout": {
          "annotationdefaults": {
           "arrowcolor": "#2a3f5f",
           "arrowhead": 0,
           "arrowwidth": 1
          },
          "autotypenumbers": "strict",
          "coloraxis": {
           "colorbar": {
            "outlinewidth": 0,
            "ticks": ""
           }
          },
          "colorscale": {
           "diverging": [
            [
             0,
             "#8e0152"
            ],
            [
             0.1,
             "#c51b7d"
            ],
            [
             0.2,
             "#de77ae"
            ],
            [
             0.3,
             "#f1b6da"
            ],
            [
             0.4,
             "#fde0ef"
            ],
            [
             0.5,
             "#f7f7f7"
            ],
            [
             0.6,
             "#e6f5d0"
            ],
            [
             0.7,
             "#b8e186"
            ],
            [
             0.8,
             "#7fbc41"
            ],
            [
             0.9,
             "#4d9221"
            ],
            [
             1,
             "#276419"
            ]
           ],
           "sequential": [
            [
             0,
             "#0d0887"
            ],
            [
             0.1111111111111111,
             "#46039f"
            ],
            [
             0.2222222222222222,
             "#7201a8"
            ],
            [
             0.3333333333333333,
             "#9c179e"
            ],
            [
             0.4444444444444444,
             "#bd3786"
            ],
            [
             0.5555555555555556,
             "#d8576b"
            ],
            [
             0.6666666666666666,
             "#ed7953"
            ],
            [
             0.7777777777777778,
             "#fb9f3a"
            ],
            [
             0.8888888888888888,
             "#fdca26"
            ],
            [
             1,
             "#f0f921"
            ]
           ],
           "sequentialminus": [
            [
             0,
             "#0d0887"
            ],
            [
             0.1111111111111111,
             "#46039f"
            ],
            [
             0.2222222222222222,
             "#7201a8"
            ],
            [
             0.3333333333333333,
             "#9c179e"
            ],
            [
             0.4444444444444444,
             "#bd3786"
            ],
            [
             0.5555555555555556,
             "#d8576b"
            ],
            [
             0.6666666666666666,
             "#ed7953"
            ],
            [
             0.7777777777777778,
             "#fb9f3a"
            ],
            [
             0.8888888888888888,
             "#fdca26"
            ],
            [
             1,
             "#f0f921"
            ]
           ]
          },
          "colorway": [
           "#636efa",
           "#EF553B",
           "#00cc96",
           "#ab63fa",
           "#FFA15A",
           "#19d3f3",
           "#FF6692",
           "#B6E880",
           "#FF97FF",
           "#FECB52"
          ],
          "font": {
           "color": "#2a3f5f"
          },
          "geo": {
           "bgcolor": "white",
           "lakecolor": "white",
           "landcolor": "#E5ECF6",
           "showlakes": true,
           "showland": true,
           "subunitcolor": "white"
          },
          "hoverlabel": {
           "align": "left"
          },
          "hovermode": "closest",
          "mapbox": {
           "style": "light"
          },
          "paper_bgcolor": "white",
          "plot_bgcolor": "#E5ECF6",
          "polar": {
           "angularaxis": {
            "gridcolor": "white",
            "linecolor": "white",
            "ticks": ""
           },
           "bgcolor": "#E5ECF6",
           "radialaxis": {
            "gridcolor": "white",
            "linecolor": "white",
            "ticks": ""
           }
          },
          "scene": {
           "xaxis": {
            "backgroundcolor": "#E5ECF6",
            "gridcolor": "white",
            "gridwidth": 2,
            "linecolor": "white",
            "showbackground": true,
            "ticks": "",
            "zerolinecolor": "white"
           },
           "yaxis": {
            "backgroundcolor": "#E5ECF6",
            "gridcolor": "white",
            "gridwidth": 2,
            "linecolor": "white",
            "showbackground": true,
            "ticks": "",
            "zerolinecolor": "white"
           },
           "zaxis": {
            "backgroundcolor": "#E5ECF6",
            "gridcolor": "white",
            "gridwidth": 2,
            "linecolor": "white",
            "showbackground": true,
            "ticks": "",
            "zerolinecolor": "white"
           }
          },
          "shapedefaults": {
           "line": {
            "color": "#2a3f5f"
           }
          },
          "ternary": {
           "aaxis": {
            "gridcolor": "white",
            "linecolor": "white",
            "ticks": ""
           },
           "baxis": {
            "gridcolor": "white",
            "linecolor": "white",
            "ticks": ""
           },
           "bgcolor": "#E5ECF6",
           "caxis": {
            "gridcolor": "white",
            "linecolor": "white",
            "ticks": ""
           }
          },
          "title": {
           "x": 0.05
          },
          "xaxis": {
           "automargin": true,
           "gridcolor": "white",
           "linecolor": "white",
           "ticks": "",
           "title": {
            "standoff": 15
           },
           "zerolinecolor": "white",
           "zerolinewidth": 2
          },
          "yaxis": {
           "automargin": true,
           "gridcolor": "white",
           "linecolor": "white",
           "ticks": "",
           "title": {
            "standoff": 15
           },
           "zerolinecolor": "white",
           "zerolinewidth": 2
          }
         }
        }
       }
      },
      "text/html": [
       "<div>                            <div id=\"c8c3054e-c655-4dd0-bf0f-b64a0e91e511\" class=\"plotly-graph-div\" style=\"height:525px; width:100%;\"></div>            <script type=\"text/javascript\">                require([\"plotly\"], function(Plotly) {                    window.PLOTLYENV=window.PLOTLYENV || {};                                    if (document.getElementById(\"c8c3054e-c655-4dd0-bf0f-b64a0e91e511\")) {                    Plotly.newPlot(                        \"c8c3054e-c655-4dd0-bf0f-b64a0e91e511\",                        [{\"marker\":{\"size\":20},\"mode\":\"markers\",\"name\":\"['elu', 0.3]\",\"text\":[\"filters:[64]-strides:[1]-kernel_size:[1]-drop:0.5-full:[128]-fulldrop:0.4-activation_full:relu-depth_multiplier:4-lag:24-activation:['elu', 0.3]\",\"filters:[64]-strides:[2]-kernel_size:[7]-drop:0.1-full:[256, 128, 64]-fulldrop:0.4-activation_full:linear-depth_multiplier:1-lag:24-activation:['elu', 0.3]\",\"filters:[64]-strides:[2]-kernel_size:[1]-drop:0.5-full:[512]-fulldrop:0.5-activation_full:['leaky', 0.1]-depth_multiplier:5-lag:6-activation:['elu', 0.3]\",\"filters:[64]-strides:[3]-kernel_size:[7]-drop:0.1-full:[256, 128, 64]-fulldrop:0.0-activation_full:['elu', 0.3]-depth_multiplier:4-lag:6-activation:['elu', 0.3]\",\"filters:[64]-strides:[3]-kernel_size:[7]-drop:0.4-full:[32, 16]-fulldrop:0.5-activation_full:tanh-depth_multiplier:5-lag:24-activation:['elu', 0.3]\",\"filters:[64]-strides:[3]-kernel_size:[3]-drop:0.1-full:[2048]-fulldrop:0.0-activation_full:['leaky', 0.1]-depth_multiplier:3-lag:6-activation:['elu', 0.3]\",\"filters:[64]-strides:[3]-kernel_size:[1]-drop:0.4-full:[2048, 1024]-fulldrop:0.5-activation_full:tanh-depth_multiplier:4-lag:6-activation:['elu', 0.3]\",\"filters:[256]-strides:[2]-kernel_size:[1]-drop:0.3-full:[1024]-fulldrop:0.4-activation_full:['elu', 0.4]-depth_multiplier:5-lag:30-activation:['elu', 0.3]\",\"filters:[256]-strides:[2]-kernel_size:[9]-drop:0.5-full:[512]-fulldrop:0.2-activation_full:['leaky', 0.2]-depth_multiplier:5-lag:12-activation:['elu', 0.3]\",\"filters:[256]-strides:[3]-kernel_size:[7]-drop:0.4-full:[1024]-fulldrop:0.5-activation_full:['leaky', 0.1]-depth_multiplier:5-lag:12-activation:['elu', 0.3]\",\"filters:[256]-strides:[3]-kernel_size:[7]-drop:0.5-full:[1024]-fulldrop:0.5-activation_full:['leaky', 0.1]-depth_multiplier:5-lag:12-activation:['elu', 0.3]\",\"filters:[256]-strides:[3]-kernel_size:[7]-drop:0.5-full:[512]-fulldrop:0.4-activation_full:['leaky', 0.1]-depth_multiplier:5-lag:12-activation:['elu', 0.3]\",\"filters:[256]-strides:[3]-kernel_size:[7]-drop:0.5-full:[512]-fulldrop:0.0-activation_full:['leaky', 0.2]-depth_multiplier:5-lag:12-activation:['elu', 0.3]\",\"filters:[256]-strides:[3]-kernel_size:[7]-drop:0.5-full:[512]-fulldrop:0.2-activation_full:['leaky', 0.2]-depth_multiplier:5-lag:12-activation:['elu', 0.3]\",\"filters:[256]-strides:[3]-kernel_size:[7]-drop:0.5-full:[512]-fulldrop:0.1-activation_full:['leaky', 0.2]-depth_multiplier:5-lag:12-activation:['elu', 0.3]\",\"filters:[256]-strides:[3]-kernel_size:[7]-drop:0.5-full:[512]-fulldrop:0.4-activation_full:['leaky', 0.2]-depth_multiplier:5-lag:12-activation:['elu', 0.3]\",\"filters:[256]-strides:[3]-kernel_size:[3]-drop:0.1-full:[2048, 1024, 512]-fulldrop:0.0-activation_full:['prelu', 0.0]-depth_multiplier:5-lag:30-activation:['elu', 0.3]\",\"filters:[256]-strides:[3]-kernel_size:[1]-drop:0.4-full:[2048, 1024, 512]-fulldrop:0.5-activation_full:['leaky', 0.1]-depth_multiplier:2-lag:12-activation:['elu', 0.3]\",\"filters:[256]-strides:[3]-kernel_size:[9]-drop:0.4-full:[1024, 512, 256]-fulldrop:0.0-activation_full:relu-depth_multiplier:4-lag:6-activation:['elu', 0.3]\",\"filters:[256]-strides:[3]-kernel_size:[9]-drop:0.4-full:[1024]-fulldrop:0.5-activation_full:['leaky', 0.1]-depth_multiplier:5-lag:12-activation:['elu', 0.3]\",\"filters:[256]-strides:[3]-kernel_size:[9]-drop:0.4-full:[1024]-fulldrop:0.5-activation_full:['leaky', 0.1]-depth_multiplier:5-lag:6-activation:['elu', 0.3]\",\"filters:[256]-strides:[3]-kernel_size:[9]-drop:0.4-full:[1024]-fulldrop:0.0-activation_full:['leaky', 0.2]-depth_multiplier:5-lag:12-activation:['elu', 0.3]\",\"filters:[256]-strides:[3]-kernel_size:[9]-drop:0.4-full:[512]-fulldrop:0.2-activation_full:['leaky', 0.2]-depth_multiplier:5-lag:12-activation:['elu', 0.3]\",\"filters:[256]-strides:[3]-kernel_size:[9]-drop:0.5-full:[1024]-fulldrop:0.5-activation_full:['leaky', 0.1]-depth_multiplier:5-lag:12-activation:['elu', 0.3]\",\"filters:[256]-strides:[3]-kernel_size:[9]-drop:0.5-full:[1024]-fulldrop:0.3-activation_full:['leaky', 0.1]-depth_multiplier:5-lag:12-activation:['elu', 0.3]\",\"filters:[256]-strides:[3]-kernel_size:[9]-drop:0.5-full:[1024]-fulldrop:0.4-activation_full:['leaky', 0.1]-depth_multiplier:5-lag:6-activation:['elu', 0.3]\",\"filters:[256]-strides:[3]-kernel_size:[9]-drop:0.5-full:[512]-fulldrop:0.2-activation_full:['elu', 0.4]-depth_multiplier:5-lag:12-activation:['elu', 0.3]\",\"filters:[256]-strides:[3]-kernel_size:[9]-drop:0.5-full:[1024]-fulldrop:0.2-activation_full:['leaky', 0.2]-depth_multiplier:5-lag:12-activation:['elu', 0.3]\",\"filters:[256]-strides:[3]-kernel_size:[9]-drop:0.5-full:[512]-fulldrop:0.0-activation_full:['leaky', 0.2]-depth_multiplier:5-lag:12-activation:['elu', 0.3]\",\"filters:[256]-strides:[3]-kernel_size:[9]-drop:0.5-full:[512]-fulldrop:0.2-activation_full:['leaky', 0.2]-depth_multiplier:5-lag:12-activation:['elu', 0.3]\",\"filters:[256]-strides:[3]-kernel_size:[9]-drop:0.5-full:[512]-fulldrop:0.1-activation_full:['leaky', 0.2]-depth_multiplier:5-lag:12-activation:['elu', 0.3]\",\"filters:[256]-strides:[3]-kernel_size:[9]-drop:0.5-full:[512]-fulldrop:0.4-activation_full:['leaky', 0.2]-depth_multiplier:5-lag:12-activation:['elu', 0.3]\",\"filters:[1024]-strides:[1]-kernel_size:[5]-drop:0.1-full:[128, 64]-fulldrop:0.5-activation_full:tanh-depth_multiplier:1-lag:24-activation:['elu', 0.3]\",\"filters:[1024]-strides:[1]-kernel_size:[1]-drop:0.3-full:[1024]-fulldrop:0.1-activation_full:['leaky', 0.2]-depth_multiplier:3-lag:24-activation:['elu', 0.3]\",\"filters:[1024]-strides:[1]-kernel_size:[9]-drop:0.1-full:[2048, 1024]-fulldrop:0.0-activation_full:tanh-depth_multiplier:1-lag:30-activation:['elu', 0.3]\",\"filters:[1024]-strides:[3]-kernel_size:[7]-drop:0.5-full:[1024]-fulldrop:0.4-activation_full:['leaky', 0.1]-depth_multiplier:5-lag:6-activation:['elu', 0.3]\",\"filters:[1024]-strides:[3]-kernel_size:[7]-drop:0.5-full:[512]-fulldrop:0.4-activation_full:['leaky', 0.1]-depth_multiplier:5-lag:12-activation:['elu', 0.3]\",\"filters:[1024]-strides:[3]-kernel_size:[7]-drop:0.5-full:[512]-fulldrop:0.4-activation_full:['leaky', 0.1]-depth_multiplier:5-lag:6-activation:['elu', 0.3]\",\"filters:[1024]-strides:[3]-kernel_size:[7]-drop:0.5-full:[32, 16, 8]-fulldrop:0.5-activation_full:['leaky', 0.2]-depth_multiplier:1-lag:30-activation:['elu', 0.3]\",\"filters:[1024]-strides:[3]-kernel_size:[7]-drop:0.5-full:[512]-fulldrop:0.5-activation_full:['leaky', 0.2]-depth_multiplier:5-lag:12-activation:['elu', 0.3]\",\"filters:[1024]-strides:[3]-kernel_size:[7]-drop:0.5-full:[512]-fulldrop:0.1-activation_full:['leaky', 0.2]-depth_multiplier:5-lag:6-activation:['elu', 0.3]\",\"filters:[1024]-strides:[3]-kernel_size:[7]-drop:0.5-full:[512]-fulldrop:0.4-activation_full:['leaky', 0.2]-depth_multiplier:5-lag:12-activation:['elu', 0.3]\",\"filters:[1024]-strides:[3]-kernel_size:[9]-drop:0.2-full:[256]-fulldrop:0.1-activation_full:linear-depth_multiplier:5-lag:30-activation:['elu', 0.3]\",\"filters:[1024]-strides:[3]-kernel_size:[9]-drop:0.5-full:[512]-fulldrop:0.3-activation_full:['leaky', 0.1]-depth_multiplier:5-lag:12-activation:['elu', 0.3]\",\"filters:[1024]-strides:[3]-kernel_size:[9]-drop:0.5-full:[512]-fulldrop:0.3-activation_full:['leaky', 0.1]-depth_multiplier:5-lag:6-activation:['elu', 0.3]\",\"filters:[1024]-strides:[3]-kernel_size:[9]-drop:0.5-full:[512]-fulldrop:0.4-activation_full:['leaky', 0.1]-depth_multiplier:5-lag:6-activation:['elu', 0.3]\",\"filters:[1024]-strides:[3]-kernel_size:[9]-drop:0.5-full:[512]-fulldrop:0.5-activation_full:['leaky', 0.2]-depth_multiplier:5-lag:12-activation:['elu', 0.3]\",\"filters:[1024]-strides:[3]-kernel_size:[9]-drop:0.5-full:[512]-fulldrop:0.3-activation_full:['leaky', 0.2]-depth_multiplier:5-lag:12-activation:['elu', 0.3]\",\"filters:[1024]-strides:[3]-kernel_size:[9]-drop:0.5-full:[512]-fulldrop:0.3-activation_full:['leaky', 0.2]-depth_multiplier:5-lag:6-activation:['elu', 0.3]\",\"filters:[1024]-strides:[3]-kernel_size:[9]-drop:0.5-full:[512]-fulldrop:0.0-activation_full:['leaky', 0.2]-depth_multiplier:5-lag:12-activation:['elu', 0.3]\",\"filters:[1024]-strides:[3]-kernel_size:[9]-drop:0.5-full:[512]-fulldrop:0.2-activation_full:['leaky', 0.2]-depth_multiplier:5-lag:12-activation:['elu', 0.3]\",\"filters:[1024]-strides:[3]-kernel_size:[9]-drop:0.5-full:[512]-fulldrop:0.2-activation_full:['leaky', 0.2]-depth_multiplier:5-lag:6-activation:['elu', 0.3]\",\"filters:[1024]-strides:[3]-kernel_size:[9]-drop:0.5-full:[512]-fulldrop:0.1-activation_full:['leaky', 0.2]-depth_multiplier:5-lag:12-activation:['elu', 0.3]\",\"filters:[1024]-strides:[3]-kernel_size:[9]-drop:0.5-full:[512]-fulldrop:0.1-activation_full:['leaky', 0.2]-depth_multiplier:5-lag:6-activation:['elu', 0.3]\",\"filters:[1024]-strides:[3]-kernel_size:[9]-drop:0.5-full:[512]-fulldrop:0.4-activation_full:['leaky', 0.2]-depth_multiplier:5-lag:12-activation:['elu', 0.3]\",\"filters:[1024]-strides:[3]-kernel_size:[9]-drop:0.5-full:[512]-fulldrop:0.4-activation_full:['leaky', 0.2]-depth_multiplier:5-lag:6-activation:['elu', 0.3]\",\"filters:[32]-strides:[1]-kernel_size:[5]-drop:0.5-full:[64, 32, 16]-fulldrop:0.2-activation_full:['prelu', 0.0]-depth_multiplier:3-lag:12-activation:['elu', 0.3]\",\"filters:[32]-strides:[1]-kernel_size:[1]-drop:0.4-full:[64, 32, 16]-fulldrop:0.4-activation_full:['elu', 0.4]-depth_multiplier:3-lag:6-activation:['elu', 0.3]\",\"filters:[32]-strides:[3]-kernel_size:[7]-drop:0.1-full:[256, 128, 64]-fulldrop:0.0-activation_full:['prelu', 0.0]-depth_multiplier:5-lag:12-activation:['elu', 0.3]\",\"filters:[32]-strides:[3]-kernel_size:[1]-drop:0.0-full:[2048, 1024]-fulldrop:0.2-activation_full:['elu', 0.4]-depth_multiplier:3-lag:30-activation:['elu', 0.3]\",\"filters:[512]-strides:[1]-kernel_size:[7]-drop:0.4-full:[128]-fulldrop:0.2-activation_full:linear-depth_multiplier:5-lag:18-activation:['elu', 0.3]\",\"filters:[512]-strides:[2]-kernel_size:[1]-drop:0.2-full:[32, 16, 8]-fulldrop:0.2-activation_full:['leaky', 0.2]-depth_multiplier:3-lag:6-activation:['elu', 0.3]\",\"filters:[512]-strides:[3]-kernel_size:[5]-drop:0.0-full:[128, 64, 32]-fulldrop:0.5-activation_full:['elu', 0.3]-depth_multiplier:2-lag:12-activation:['elu', 0.3]\",\"filters:[512]-strides:[3]-kernel_size:[7]-drop:0.5-full:[1024]-fulldrop:0.5-activation_full:['leaky', 0.1]-depth_multiplier:5-lag:12-activation:['elu', 0.3]\",\"filters:[512]-strides:[3]-kernel_size:[7]-drop:0.5-full:[512]-fulldrop:0.5-activation_full:['leaky', 0.1]-depth_multiplier:5-lag:12-activation:['elu', 0.3]\",\"filters:[512]-strides:[3]-kernel_size:[7]-drop:0.5-full:[512]-fulldrop:0.4-activation_full:['leaky', 0.1]-depth_multiplier:5-lag:12-activation:['elu', 0.3]\",\"filters:[512]-strides:[3]-kernel_size:[7]-drop:0.5-full:[512]-fulldrop:0.2-activation_full:['leaky', 0.2]-depth_multiplier:5-lag:12-activation:['elu', 0.3]\",\"filters:[512]-strides:[3]-kernel_size:[7]-drop:0.5-full:[512]-fulldrop:0.1-activation_full:['leaky', 0.2]-depth_multiplier:5-lag:12-activation:['elu', 0.3]\",\"filters:[512]-strides:[3]-kernel_size:[3]-drop:0.1-full:[128, 64]-fulldrop:0.3-activation_full:hard_sigmoid-depth_multiplier:3-lag:30-activation:['elu', 0.3]\",\"filters:[512]-strides:[3]-kernel_size:[9]-drop:0.4-full:[128, 64]-fulldrop:0.1-activation_full:relu-depth_multiplier:3-lag:24-activation:['elu', 0.3]\",\"filters:[512]-strides:[3]-kernel_size:[9]-drop:0.4-full:[512]-fulldrop:0.2-activation_full:['leaky', 0.2]-depth_multiplier:5-lag:12-activation:['elu', 0.3]\",\"filters:[512]-strides:[3]-kernel_size:[9]-drop:0.5-full:[1024]-fulldrop:0.5-activation_full:['leaky', 0.1]-depth_multiplier:5-lag:12-activation:['elu', 0.3]\",\"filters:[512]-strides:[3]-kernel_size:[9]-drop:0.5-full:[1024]-fulldrop:0.2-activation_full:['leaky', 0.1]-depth_multiplier:5-lag:6-activation:['elu', 0.3]\",\"filters:[512]-strides:[3]-kernel_size:[9]-drop:0.5-full:[1024]-fulldrop:0.4-activation_full:['leaky', 0.1]-depth_multiplier:5-lag:6-activation:['elu', 0.3]\",\"filters:[512]-strides:[3]-kernel_size:[9]-drop:0.5-full:[512]-fulldrop:0.5-activation_full:['leaky', 0.1]-depth_multiplier:5-lag:12-activation:['elu', 0.3]\",\"filters:[512]-strides:[3]-kernel_size:[9]-drop:0.5-full:[1024]-fulldrop:0.1-activation_full:['leaky', 0.2]-depth_multiplier:5-lag:12-activation:['elu', 0.3]\",\"filters:[512]-strides:[3]-kernel_size:[9]-drop:0.5-full:[1024]-fulldrop:0.1-activation_full:['leaky', 0.2]-depth_multiplier:5-lag:6-activation:['elu', 0.3]\",\"filters:[512]-strides:[3]-kernel_size:[9]-drop:0.5-full:[512]-fulldrop:0.0-activation_full:['leaky', 0.2]-depth_multiplier:5-lag:12-activation:['elu', 0.3]\",\"filters:[512]-strides:[3]-kernel_size:[9]-drop:0.5-full:[512]-fulldrop:0.2-activation_full:['leaky', 0.2]-depth_multiplier:5-lag:12-activation:['elu', 0.3]\",\"filters:[512]-strides:[3]-kernel_size:[9]-drop:0.5-full:[512]-fulldrop:0.1-activation_full:['leaky', 0.2]-depth_multiplier:5-lag:12-activation:['elu', 0.3]\",\"filters:[16]-strides:[1]-kernel_size:[5]-drop:0.3-full:[1024, 512, 256]-fulldrop:0.0-activation_full:['leaky', 0.1]-depth_multiplier:1-lag:6-activation:['elu', 0.3]\",\"filters:[16]-strides:[2]-kernel_size:[7]-drop:0.3-full:[4096, 2048]-fulldrop:0.3-activation_full:['prelu', 0.0]-depth_multiplier:1-lag:18-activation:['elu', 0.3]\",\"filters:[16]-strides:[3]-kernel_size:[1]-drop:0.4-full:[512, 256, 128]-fulldrop:0.3-activation_full:['prelu', 0.0]-depth_multiplier:2-lag:12-activation:['elu', 0.3]\",\"filters:[16]-strides:[3]-kernel_size:[9]-drop:0.2-full:[512, 256]-fulldrop:0.0-activation_full:hard_sigmoid-depth_multiplier:4-lag:18-activation:['elu', 0.3]\",\"filters:[128]-strides:[2]-kernel_size:[3]-drop:0.5-full:[1024, 512]-fulldrop:0.3-activation_full:['leaky', 0.1]-depth_multiplier:3-lag:30-activation:['elu', 0.3]\",\"filters:[128]-strides:[2]-kernel_size:[1]-drop:0.4-full:[128, 64, 32]-fulldrop:0.5-activation_full:linear-depth_multiplier:5-lag:18-activation:['elu', 0.3]\",\"filters:[128]-strides:[2]-kernel_size:[9]-drop:0.5-full:[256, 128]-fulldrop:0.0-activation_full:['prelu', 0.0]-depth_multiplier:5-lag:18-activation:['elu', 0.3]\"],\"type\":\"scatter\",\"x\":[7.283708584416399,7.272815258708703,7.275607451207718,7.27550895290887,7.281303633310873,7.250904658126284,7.276090061543141,7.280096304293411,7.24579469456968,7.282663629882907,7.283065066252155,7.274598622700303,7.24226205076989,7.281881055882875,7.281423591970444,7.297907171049377,7.279766945517824,7.282836077875476,7.251007318440616,7.251693330744834,7.246398535666164,7.278530520910303,7.249733177667443,7.280683305191164,7.27390272837786,7.2750742467179315,7.283596263535353,7.287641700910342,7.276758556764679,7.274517448643722,7.278641966211592,7.247726566585261,7.249178806919269,7.289349191996275,7.2521204287303105,7.275693817516641,7.27729783135884,7.2762761852961875,7.279603825011086,7.244465960939838,7.274746438671059,7.2881650936731655,7.2497532068137325,7.278173254178127,7.288058062195905,7.244528421621054,7.24666018219475,7.295969674746627,7.2510599427412705],\"y\":[800,800,800,800,800,600,800,800,600,800,800,800,600,800,800,1000,800,800,600,400,600,800,400,800,800,800,800,900,800,800,800,400,600,900,600,800,800,800,800,600,800,900,600,800,900,400,600,1000,600]},{\"marker\":{\"size\":20},\"mode\":\"markers\",\"name\":\"['elu', 0.4]\",\"text\":[\"filters:[64]-strides:[1]-kernel_size:[5]-drop:0.2-full:[32, 16, 8]-fulldrop:0.3-activation_full:['elu', 0.4]-depth_multiplier:5-lag:12-activation:['elu', 0.4]\",\"filters:[64]-strides:[3]-kernel_size:[3]-drop:0.3-full:[4096, 2048, 1024]-fulldrop:0.5-activation_full:tanh-depth_multiplier:2-lag:30-activation:['elu', 0.4]\",\"filters:[256]-strides:[1]-kernel_size:[7]-drop:0.3-full:[128, 64, 32]-fulldrop:0.5-activation_full:['prelu', 0.0]-depth_multiplier:5-lag:12-activation:['elu', 0.4]\",\"filters:[256]-strides:[2]-kernel_size:[9]-drop:0.5-full:[512]-fulldrop:0.2-activation_full:['leaky', 0.2]-depth_multiplier:5-lag:12-activation:['elu', 0.4]\",\"filters:[256]-strides:[3]-kernel_size:[9]-drop:0.5-full:[512]-fulldrop:0.2-activation_full:['elu', 0.4]-depth_multiplier:5-lag:12-activation:['elu', 0.4]\",\"filters:[256]-strides:[3]-kernel_size:[9]-drop:0.5-full:[512]-fulldrop:0.2-activation_full:['leaky', 0.2]-depth_multiplier:5-lag:12-activation:['elu', 0.4]\",\"filters:[256]-strides:[3]-kernel_size:[9]-drop:0.5-full:[512]-fulldrop:0.4-activation_full:['leaky', 0.2]-depth_multiplier:5-lag:12-activation:['elu', 0.4]\",\"filters:[1024]-strides:[1]-kernel_size:[5]-drop:0.0-full:[256, 128, 64]-fulldrop:0.3-activation_full:relu-depth_multiplier:5-lag:6-activation:['elu', 0.4]\",\"filters:[1024]-strides:[1]-kernel_size:[3]-drop:0.0-full:[64, 32, 16]-fulldrop:0.5-activation_full:['leaky', 0.1]-depth_multiplier:2-lag:18-activation:['elu', 0.4]\",\"filters:[1024]-strides:[3]-kernel_size:[7]-drop:0.4-full:[128]-fulldrop:0.1-activation_full:hard_sigmoid-depth_multiplier:4-lag:12-activation:['elu', 0.4]\",\"filters:[1024]-strides:[3]-kernel_size:[7]-drop:0.5-full:[512]-fulldrop:0.0-activation_full:['leaky', 0.2]-depth_multiplier:5-lag:12-activation:['elu', 0.4]\",\"filters:[1024]-strides:[3]-kernel_size:[7]-drop:0.5-full:[512]-fulldrop:0.2-activation_full:['leaky', 0.2]-depth_multiplier:5-lag:12-activation:['elu', 0.4]\",\"filters:[1024]-strides:[3]-kernel_size:[7]-drop:0.5-full:[512]-fulldrop:0.1-activation_full:['leaky', 0.2]-depth_multiplier:5-lag:12-activation:['elu', 0.4]\",\"filters:[1024]-strides:[3]-kernel_size:[7]-drop:0.5-full:[512]-fulldrop:0.4-activation_full:['leaky', 0.2]-depth_multiplier:5-lag:12-activation:['elu', 0.4]\",\"filters:[1024]-strides:[3]-kernel_size:[7]-drop:0.0-full:[128, 64]-fulldrop:0.5-activation_full:['leaky', 0.2]-depth_multiplier:3-lag:12-activation:['elu', 0.4]\",\"filters:[1024]-strides:[3]-kernel_size:[9]-drop:0.5-full:[1024]-fulldrop:0.4-activation_full:relu-depth_multiplier:5-lag:6-activation:['elu', 0.4]\",\"filters:[1024]-strides:[3]-kernel_size:[9]-drop:0.5-full:[512]-fulldrop:0.4-activation_full:relu-depth_multiplier:5-lag:12-activation:['elu', 0.4]\",\"filters:[1024]-strides:[3]-kernel_size:[9]-drop:0.5-full:[512]-fulldrop:0.4-activation_full:relu-depth_multiplier:5-lag:6-activation:['elu', 0.4]\",\"filters:[1024]-strides:[3]-kernel_size:[9]-drop:0.5-full:[512]-fulldrop:0.3-activation_full:['leaky', 0.1]-depth_multiplier:5-lag:12-activation:['elu', 0.4]\",\"filters:[1024]-strides:[3]-kernel_size:[9]-drop:0.5-full:[512]-fulldrop:0.4-activation_full:['elu', 0.3]-depth_multiplier:5-lag:12-activation:['elu', 0.4]\",\"filters:[1024]-strides:[3]-kernel_size:[9]-drop:0.5-full:[1024]-fulldrop:0.1-activation_full:['leaky', 0.2]-depth_multiplier:5-lag:12-activation:['elu', 0.4]\",\"filters:[1024]-strides:[3]-kernel_size:[9]-drop:0.5-full:[512]-fulldrop:0.3-activation_full:['leaky', 0.2]-depth_multiplier:5-lag:12-activation:['elu', 0.4]\",\"filters:[1024]-strides:[3]-kernel_size:[9]-drop:0.5-full:[512]-fulldrop:0.0-activation_full:['leaky', 0.2]-depth_multiplier:5-lag:12-activation:['elu', 0.4]\",\"filters:[1024]-strides:[3]-kernel_size:[9]-drop:0.5-full:[512]-fulldrop:0.2-activation_full:['leaky', 0.2]-depth_multiplier:5-lag:12-activation:['elu', 0.4]\",\"filters:[1024]-strides:[3]-kernel_size:[9]-drop:0.5-full:[512]-fulldrop:0.1-activation_full:['leaky', 0.2]-depth_multiplier:5-lag:12-activation:['elu', 0.4]\",\"filters:[1024]-strides:[3]-kernel_size:[9]-drop:0.5-full:[512]-fulldrop:0.4-activation_full:['leaky', 0.2]-depth_multiplier:5-lag:12-activation:['elu', 0.4]\",\"filters:[1024]-strides:[3]-kernel_size:[9]-drop:0.3-full:[512]-fulldrop:0.4-activation_full:['leaky', 0.2]-depth_multiplier:5-lag:6-activation:['elu', 0.4]\",\"filters:[32]-strides:[1]-kernel_size:[7]-drop:0.1-full:[2048, 1024]-fulldrop:0.5-activation_full:hard_sigmoid-depth_multiplier:3-lag:24-activation:['elu', 0.4]\",\"filters:[32]-strides:[1]-kernel_size:[3]-drop:0.1-full:[2048]-fulldrop:0.3-activation_full:['prelu', 0.0]-depth_multiplier:3-lag:24-activation:['elu', 0.4]\",\"filters:[32]-strides:[1]-kernel_size:[9]-drop:0.3-full:[128, 64, 32]-fulldrop:0.0-activation_full:hard_sigmoid-depth_multiplier:5-lag:12-activation:['elu', 0.4]\",\"filters:[32]-strides:[2]-kernel_size:[1]-drop:0.0-full:[512]-fulldrop:0.2-activation_full:['prelu', 0.0]-depth_multiplier:4-lag:24-activation:['elu', 0.4]\",\"filters:[32]-strides:[2]-kernel_size:[9]-drop:0.4-full:[256, 128, 64]-fulldrop:0.5-activation_full:hard_sigmoid-depth_multiplier:2-lag:24-activation:['elu', 0.4]\",\"filters:[512]-strides:[1]-kernel_size:[5]-drop:0.3-full:[1024]-fulldrop:0.0-activation_full:['elu', 0.3]-depth_multiplier:4-lag:18-activation:['elu', 0.4]\",\"filters:[512]-strides:[2]-kernel_size:[1]-drop:0.4-full:[256, 128, 64]-fulldrop:0.0-activation_full:['leaky', 0.1]-depth_multiplier:1-lag:12-activation:['elu', 0.4]\",\"filters:[512]-strides:[2]-kernel_size:[9]-drop:0.5-full:[1024]-fulldrop:0.4-activation_full:['leaky', 0.2]-depth_multiplier:5-lag:12-activation:['elu', 0.4]\",\"filters:[512]-strides:[2]-kernel_size:[9]-drop:0.5-full:[512]-fulldrop:0.3-activation_full:['leaky', 0.2]-depth_multiplier:5-lag:12-activation:['elu', 0.4]\",\"filters:[512]-strides:[2]-kernel_size:[9]-drop:0.5-full:[512]-fulldrop:0.2-activation_full:['leaky', 0.2]-depth_multiplier:5-lag:12-activation:['elu', 0.4]\",\"filters:[512]-strides:[3]-kernel_size:[7]-drop:0.0-full:[128, 64]-fulldrop:0.1-activation_full:['leaky', 0.2]-depth_multiplier:3-lag:12-activation:['elu', 0.4]\",\"filters:[512]-strides:[3]-kernel_size:[9]-drop:0.5-full:[512]-fulldrop:0.2-activation_full:['elu', 0.4]-depth_multiplier:5-lag:12-activation:['elu', 0.4]\",\"filters:[512]-strides:[3]-kernel_size:[9]-drop:0.5-full:[1024]-fulldrop:0.3-activation_full:['leaky', 0.2]-depth_multiplier:5-lag:12-activation:['elu', 0.4]\",\"filters:[512]-strides:[3]-kernel_size:[9]-drop:0.5-full:[1024]-fulldrop:0.2-activation_full:['leaky', 0.2]-depth_multiplier:5-lag:12-activation:['elu', 0.4]\",\"filters:[512]-strides:[3]-kernel_size:[9]-drop:0.5-full:[1024]-fulldrop:0.4-activation_full:['leaky', 0.2]-depth_multiplier:5-lag:12-activation:['elu', 0.4]\",\"filters:[512]-strides:[3]-kernel_size:[9]-drop:0.5-full:[512]-fulldrop:0.2-activation_full:['leaky', 0.2]-depth_multiplier:5-lag:12-activation:['elu', 0.4]\",\"filters:[16]-strides:[1]-kernel_size:[1]-drop:0.3-full:[32]-fulldrop:0.3-activation_full:linear-depth_multiplier:2-lag:12-activation:['elu', 0.4]\",\"filters:[16]-strides:[1]-kernel_size:[1]-drop:0.0-full:[4096]-fulldrop:0.3-activation_full:tanh-depth_multiplier:1-lag:18-activation:['elu', 0.4]\",\"filters:[16]-strides:[1]-kernel_size:[9]-drop:0.4-full:[4096, 2048]-fulldrop:0.0-activation_full:tanh-depth_multiplier:5-lag:30-activation:['elu', 0.4]\",\"filters:[16]-strides:[2]-kernel_size:[9]-drop:0.3-full:[64, 32]-fulldrop:0.5-activation_full:linear-depth_multiplier:5-lag:12-activation:['elu', 0.4]\",\"filters:[16]-strides:[3]-kernel_size:[1]-drop:0.4-full:[512, 256, 128]-fulldrop:0.0-activation_full:['elu', 0.3]-depth_multiplier:2-lag:6-activation:['elu', 0.4]\",\"filters:[16]-strides:[3]-kernel_size:[1]-drop:0.2-full:[1024]-fulldrop:0.0-activation_full:linear-depth_multiplier:1-lag:18-activation:['elu', 0.4]\",\"filters:[128]-strides:[1]-kernel_size:[5]-drop:0.0-full:[2048]-fulldrop:0.1-activation_full:['elu', 0.3]-depth_multiplier:1-lag:6-activation:['elu', 0.4]\",\"filters:[128]-strides:[1]-kernel_size:[9]-drop:0.2-full:[2048, 1024]-fulldrop:0.3-activation_full:tanh-depth_multiplier:4-lag:24-activation:['elu', 0.4]\",\"filters:[128]-strides:[2]-kernel_size:[1]-drop:0.3-full:[256, 128]-fulldrop:0.5-activation_full:['leaky', 0.2]-depth_multiplier:5-lag:30-activation:['elu', 0.4]\",\"filters:[128]-strides:[3]-kernel_size:[5]-drop:0.2-full:[4096]-fulldrop:0.1-activation_full:linear-depth_multiplier:2-lag:6-activation:['elu', 0.4]\",\"filters:[128]-strides:[3]-kernel_size:[7]-drop:0.3-full:[1024, 512]-fulldrop:0.1-activation_full:hard_sigmoid-depth_multiplier:1-lag:18-activation:['elu', 0.4]\",\"filters:[128]-strides:[3]-kernel_size:[1]-drop:0.2-full:[64, 32, 16]-fulldrop:0.0-activation_full:relu-depth_multiplier:2-lag:6-activation:['elu', 0.4]\"],\"type\":\"scatter\",\"x\":[7.294307577443815,7.274684432986199,7.298009989360517,7.277779043598894,7.273336334873734,7.245548436904016,7.282711195316528,7.245055935532558,7.244776144847856,7.25129470314987,7.282071069085726,7.231729985518174,7.294395189100392,7.279969669319833,7.245145517983375,7.297478137128755,7.2301676353332365,7.287571065863411,7.296785408189583,7.280697893084225,7.279419922426092,7.298332685423798,7.277046117261469,7.300236583101117,7.299424888110978],\"y\":[1000,800,1000,800,800,400,800,600,600,600,800,400,1000,800,600,1000,250,900,1000,800,800,1000,800,1000,1000]},{\"marker\":{\"size\":20},\"mode\":\"markers\",\"name\":\"['leaky', 0.1]\",\"text\":[\"filters:[64]-strides:[2]-kernel_size:[7]-drop:0.5-full:[64]-fulldrop:0.0-activation_full:relu-depth_multiplier:2-lag:6-activation:['leaky', 0.1]\",\"filters:[64]-strides:[3]-kernel_size:[3]-drop:0.1-full:[1024]-fulldrop:0.3-activation_full:['elu', 0.4]-depth_multiplier:1-lag:30-activation:['leaky', 0.1]\",\"filters:[256]-strides:[1]-kernel_size:[7]-drop:0.5-full:[1024, 512]-fulldrop:0.0-activation_full:hard_sigmoid-depth_multiplier:4-lag:30-activation:['leaky', 0.1]\",\"filters:[256]-strides:[3]-kernel_size:[7]-drop:0.2-full:[64, 32]-fulldrop:0.2-activation_full:tanh-depth_multiplier:5-lag:18-activation:['leaky', 0.1]\",\"filters:[1024]-strides:[1]-kernel_size:[5]-drop:0.5-full:[64]-fulldrop:0.3-activation_full:['elu', 0.4]-depth_multiplier:5-lag:12-activation:['leaky', 0.1]\",\"filters:[1024]-strides:[1]-kernel_size:[7]-drop:0.2-full:[1024, 512, 256]-fulldrop:0.0-activation_full:['leaky', 0.1]-depth_multiplier:2-lag:24-activation:['leaky', 0.1]\",\"filters:[1024]-strides:[1]-kernel_size:[7]-drop:0.2-full:[4096]-fulldrop:0.1-activation_full:['leaky', 0.1]-depth_multiplier:3-lag:6-activation:['leaky', 0.1]\",\"filters:[1024]-strides:[2]-kernel_size:[5]-drop:0.5-full:[1024]-fulldrop:0.2-activation_full:['prelu', 0.0]-depth_multiplier:4-lag:30-activation:['leaky', 0.1]\",\"filters:[1024]-strides:[2]-kernel_size:[7]-drop:0.5-full:[512]-fulldrop:0.4-activation_full:['leaky', 0.1]-depth_multiplier:3-lag:12-activation:['leaky', 0.1]\",\"filters:[1024]-strides:[2]-kernel_size:[3]-drop:0.4-full:[32, 16]-fulldrop:0.3-activation_full:['leaky', 0.2]-depth_multiplier:1-lag:24-activation:['leaky', 0.1]\",\"filters:[1024]-strides:[3]-kernel_size:[3]-drop:0.5-full:[512, 256]-fulldrop:0.2-activation_full:['elu', 0.4]-depth_multiplier:2-lag:6-activation:['leaky', 0.1]\",\"filters:[1024]-strides:[3]-kernel_size:[9]-drop:0.5-full:[2048, 1024, 512]-fulldrop:0.5-activation_full:tanh-depth_multiplier:1-lag:6-activation:['leaky', 0.1]\",\"filters:[32]-strides:[1]-kernel_size:[7]-drop:0.4-full:[256, 128]-fulldrop:0.4-activation_full:['elu', 0.4]-depth_multiplier:5-lag:24-activation:['leaky', 0.1]\",\"filters:[32]-strides:[1]-kernel_size:[9]-drop:0.4-full:[2048, 1024, 512]-fulldrop:0.3-activation_full:['prelu', 0.0]-depth_multiplier:5-lag:30-activation:['leaky', 0.1]\",\"filters:[32]-strides:[2]-kernel_size:[7]-drop:0.0-full:[32]-fulldrop:0.5-activation_full:linear-depth_multiplier:3-lag:12-activation:['leaky', 0.1]\",\"filters:[512]-strides:[1]-kernel_size:[1]-drop:0.5-full:[2048]-fulldrop:0.5-activation_full:['prelu', 0.0]-depth_multiplier:3-lag:24-activation:['leaky', 0.1]\",\"filters:[512]-strides:[1]-kernel_size:[1]-drop:0.0-full:[512, 256, 128]-fulldrop:0.2-activation_full:linear-depth_multiplier:4-lag:24-activation:['leaky', 0.1]\",\"filters:[512]-strides:[2]-kernel_size:[3]-drop:0.5-full:[512, 256, 128]-fulldrop:0.0-activation_full:['leaky', 0.2]-depth_multiplier:1-lag:24-activation:['leaky', 0.1]\",\"filters:[512]-strides:[2]-kernel_size:[1]-drop:0.2-full:[512, 256]-fulldrop:0.5-activation_full:['elu', 0.3]-depth_multiplier:2-lag:24-activation:['leaky', 0.1]\",\"filters:[512]-strides:[2]-kernel_size:[9]-drop:0.5-full:[4096, 2048, 1024]-fulldrop:0.5-activation_full:['elu', 0.3]-depth_multiplier:1-lag:18-activation:['leaky', 0.1]\",\"filters:[16]-strides:[1]-kernel_size:[7]-drop:0.1-full:[512]-fulldrop:0.4-activation_full:tanh-depth_multiplier:4-lag:12-activation:['leaky', 0.1]\",\"filters:[16]-strides:[2]-kernel_size:[7]-drop:0.3-full:[1024]-fulldrop:0.5-activation_full:hard_sigmoid-depth_multiplier:4-lag:30-activation:['leaky', 0.1]\",\"filters:[16]-strides:[2]-kernel_size:[1]-drop:0.0-full:[512, 256]-fulldrop:0.1-activation_full:['leaky', 0.1]-depth_multiplier:1-lag:24-activation:['leaky', 0.1]\",\"filters:[16]-strides:[2]-kernel_size:[9]-drop:0.2-full:[64]-fulldrop:0.2-activation_full:['prelu', 0.0]-depth_multiplier:5-lag:18-activation:['leaky', 0.1]\",\"filters:[16]-strides:[3]-kernel_size:[9]-drop:0.5-full:[1024, 512]-fulldrop:0.5-activation_full:['elu', 0.4]-depth_multiplier:5-lag:12-activation:['leaky', 0.1]\",\"filters:[128]-strides:[1]-kernel_size:[3]-drop:0.5-full:[32, 16]-fulldrop:0.0-activation_full:hard_sigmoid-depth_multiplier:4-lag:30-activation:['leaky', 0.1]\",\"filters:[128]-strides:[1]-kernel_size:[1]-drop:0.5-full:[64]-fulldrop:0.5-activation_full:['leaky', 0.2]-depth_multiplier:2-lag:30-activation:['leaky', 0.1]\",\"filters:[128]-strides:[2]-kernel_size:[1]-drop:0.3-full:[4096, 2048, 1024]-fulldrop:0.3-activation_full:['leaky', 0.1]-depth_multiplier:5-lag:30-activation:['leaky', 0.1]\",\"filters:[128]-strides:[3]-kernel_size:[5]-drop:0.0-full:[32, 16]-fulldrop:0.2-activation_full:['leaky', 0.1]-depth_multiplier:3-lag:12-activation:['leaky', 0.1]\",\"filters:[128]-strides:[3]-kernel_size:[3]-drop:0.4-full:[2048, 1024]-fulldrop:0.1-activation_full:['leaky', 0.1]-depth_multiplier:4-lag:30-activation:['leaky', 0.1]\"],\"type\":\"scatter\",\"x\":[],\"y\":[]},{\"marker\":{\"size\":20},\"mode\":\"markers\",\"name\":\"['leaky', 0.2]\",\"text\":[\"filters:[64]-strides:[1]-kernel_size:[5]-drop:0.1-full:[64, 32, 16]-fulldrop:0.5-activation_full:relu-depth_multiplier:4-lag:12-activation:['leaky', 0.2]\",\"filters:[64]-strides:[1]-kernel_size:[5]-drop:0.4-full:[32, 16]-fulldrop:0.3-activation_full:linear-depth_multiplier:4-lag:12-activation:['leaky', 0.2]\",\"filters:[64]-strides:[1]-kernel_size:[9]-drop:0.5-full:[32]-fulldrop:0.0-activation_full:['leaky', 0.1]-depth_multiplier:2-lag:6-activation:['leaky', 0.2]\",\"filters:[64]-strides:[1]-kernel_size:[9]-drop:0.3-full:[256]-fulldrop:0.0-activation_full:['leaky', 0.2]-depth_multiplier:3-lag:12-activation:['leaky', 0.2]\",\"filters:[64]-strides:[2]-kernel_size:[9]-drop:0.4-full:[512]-fulldrop:0.5-activation_full:relu-depth_multiplier:1-lag:18-activation:['leaky', 0.2]\",\"filters:[256]-strides:[2]-kernel_size:[7]-drop:0.5-full:[512]-fulldrop:0.4-activation_full:['leaky', 0.1]-depth_multiplier:3-lag:12-activation:['leaky', 0.2]\",\"filters:[256]-strides:[2]-kernel_size:[7]-drop:0.5-full:[512]-fulldrop:0.4-activation_full:['prelu', 0.0]-depth_multiplier:3-lag:12-activation:['leaky', 0.2]\",\"filters:[256]-strides:[2]-kernel_size:[9]-drop:0.4-full:[512]-fulldrop:0.4-activation_full:['prelu', 0.0]-depth_multiplier:5-lag:12-activation:['leaky', 0.2]\",\"filters:[256]-strides:[2]-kernel_size:[9]-drop:0.5-full:[1024]-fulldrop:0.4-activation_full:['leaky', 0.1]-depth_multiplier:5-lag:12-activation:['leaky', 0.2]\",\"filters:[256]-strides:[2]-kernel_size:[9]-drop:0.5-full:[2048]-fulldrop:0.4-activation_full:['prelu', 0.0]-depth_multiplier:5-lag:12-activation:['leaky', 0.2]\",\"filters:[256]-strides:[2]-kernel_size:[9]-drop:0.5-full:[512]-fulldrop:0.4-activation_full:['prelu', 0.0]-depth_multiplier:5-lag:12-activation:['leaky', 0.2]\",\"filters:[256]-strides:[2]-kernel_size:[9]-drop:0.5-full:[512]-fulldrop:0.4-activation_full:['prelu', 0.0]-depth_multiplier:1-lag:12-activation:['leaky', 0.2]\",\"filters:[256]-strides:[2]-kernel_size:[9]-drop:0.3-full:[512]-fulldrop:0.4-activation_full:['prelu', 0.0]-depth_multiplier:5-lag:12-activation:['leaky', 0.2]\",\"filters:[256]-strides:[3]-kernel_size:[5]-drop:0.2-full:[128, 64, 32]-fulldrop:0.3-activation_full:['elu', 0.3]-depth_multiplier:5-lag:12-activation:['leaky', 0.2]\",\"filters:[256]-strides:[3]-kernel_size:[7]-drop:0.1-full:[2048, 1024, 512]-fulldrop:0.2-activation_full:tanh-depth_multiplier:3-lag:18-activation:['leaky', 0.2]\",\"filters:[256]-strides:[3]-kernel_size:[7]-drop:0.5-full:[2048]-fulldrop:0.4-activation_full:['leaky', 0.1]-depth_multiplier:5-lag:6-activation:['leaky', 0.2]\",\"filters:[256]-strides:[3]-kernel_size:[7]-drop:0.5-full:[1024]-fulldrop:0.4-activation_full:['prelu', 0.0]-depth_multiplier:5-lag:6-activation:['leaky', 0.2]\",\"filters:[256]-strides:[3]-kernel_size:[7]-drop:0.5-full:[512]-fulldrop:0.4-activation_full:['prelu', 0.0]-depth_multiplier:5-lag:6-activation:['leaky', 0.2]\",\"filters:[256]-strides:[3]-kernel_size:[9]-drop:0.4-full:[1024]-fulldrop:0.5-activation_full:['leaky', 0.1]-depth_multiplier:5-lag:12-activation:['leaky', 0.2]\",\"filters:[256]-strides:[3]-kernel_size:[9]-drop:0.4-full:[1024]-fulldrop:0.4-activation_full:['leaky', 0.1]-depth_multiplier:5-lag:12-activation:['leaky', 0.2]\",\"filters:[256]-strides:[3]-kernel_size:[9]-drop:0.4-full:[1024]-fulldrop:0.4-activation_full:['leaky', 0.1]-depth_multiplier:3-lag:6-activation:['leaky', 0.2]\",\"filters:[256]-strides:[3]-kernel_size:[9]-drop:0.4-full:[512]-fulldrop:0.4-activation_full:['leaky', 0.1]-depth_multiplier:4-lag:6-activation:['leaky', 0.2]\",\"filters:[256]-strides:[3]-kernel_size:[9]-drop:0.4-full:[512]-fulldrop:0.4-activation_full:['leaky', 0.1]-depth_multiplier:5-lag:6-activation:['leaky', 0.2]\",\"filters:[256]-strides:[3]-kernel_size:[9]-drop:0.4-full:[512]-fulldrop:0.4-activation_full:['prelu', 0.0]-depth_multiplier:5-lag:12-activation:['leaky', 0.2]\",\"filters:[256]-strides:[3]-kernel_size:[9]-drop:0.5-full:[1024]-fulldrop:0.4-activation_full:relu-depth_multiplier:5-lag:6-activation:['leaky', 0.2]\",\"filters:[256]-strides:[3]-kernel_size:[9]-drop:0.5-full:[2048]-fulldrop:0.4-activation_full:['leaky', 0.1]-depth_multiplier:4-lag:6-activation:['leaky', 0.2]\",\"filters:[256]-strides:[3]-kernel_size:[9]-drop:0.5-full:[2048]-fulldrop:0.4-activation_full:['leaky', 0.1]-depth_multiplier:5-lag:12-activation:['leaky', 0.2]\",\"filters:[256]-strides:[3]-kernel_size:[9]-drop:0.5-full:[2048]-fulldrop:0.4-activation_full:['leaky', 0.1]-depth_multiplier:5-lag:6-activation:['leaky', 0.2]\",\"filters:[256]-strides:[3]-kernel_size:[9]-drop:0.5-full:[2048]-fulldrop:0.4-activation_full:['leaky', 0.1]-depth_multiplier:3-lag:12-activation:['leaky', 0.2]\",\"filters:[256]-strides:[3]-kernel_size:[9]-drop:0.5-full:[1024]-fulldrop:0.5-activation_full:['leaky', 0.1]-depth_multiplier:3-lag:12-activation:['leaky', 0.2]\",\"filters:[256]-strides:[3]-kernel_size:[9]-drop:0.5-full:[1024]-fulldrop:0.4-activation_full:['leaky', 0.1]-depth_multiplier:5-lag:6-activation:['leaky', 0.2]\",\"filters:[256]-strides:[3]-kernel_size:[9]-drop:0.5-full:[512]-fulldrop:0.5-activation_full:['leaky', 0.1]-depth_multiplier:3-lag:12-activation:['leaky', 0.2]\",\"filters:[256]-strides:[3]-kernel_size:[9]-drop:0.5-full:[512]-fulldrop:0.5-activation_full:['leaky', 0.1]-depth_multiplier:1-lag:12-activation:['leaky', 0.2]\",\"filters:[256]-strides:[3]-kernel_size:[9]-drop:0.5-full:[512]-fulldrop:0.4-activation_full:['leaky', 0.1]-depth_multiplier:5-lag:6-activation:['leaky', 0.2]\",\"filters:[256]-strides:[3]-kernel_size:[9]-drop:0.5-full:[512]-fulldrop:0.4-activation_full:['leaky', 0.1]-depth_multiplier:3-lag:12-activation:['leaky', 0.2]\",\"filters:[256]-strides:[3]-kernel_size:[9]-drop:0.5-full:[512]-fulldrop:0.4-activation_full:['leaky', 0.1]-depth_multiplier:1-lag:12-activation:['leaky', 0.2]\",\"filters:[256]-strides:[3]-kernel_size:[9]-drop:0.5-full:[512]-fulldrop:0.4-activation_full:['leaky', 0.1]-depth_multiplier:1-lag:6-activation:['leaky', 0.2]\",\"filters:[256]-strides:[3]-kernel_size:[9]-drop:0.5-full:[1024]-fulldrop:0.4-activation_full:['elu', 0.4]-depth_multiplier:5-lag:6-activation:['leaky', 0.2]\",\"filters:[256]-strides:[3]-kernel_size:[9]-drop:0.5-full:[2048]-fulldrop:0.4-activation_full:['prelu', 0.0]-depth_multiplier:5-lag:12-activation:['leaky', 0.2]\",\"filters:[256]-strides:[3]-kernel_size:[9]-drop:0.5-full:[512]-fulldrop:0.4-activation_full:['prelu', 0.0]-depth_multiplier:5-lag:12-activation:['leaky', 0.2]\",\"filters:[256]-strides:[3]-kernel_size:[9]-drop:0.5-full:[512]-fulldrop:0.4-activation_full:['prelu', 0.0]-depth_multiplier:2-lag:12-activation:['leaky', 0.2]\",\"filters:[256]-strides:[3]-kernel_size:[9]-drop:0.5-full:[512]-fulldrop:0.4-activation_full:['prelu', 0.0]-depth_multiplier:2-lag:6-activation:['leaky', 0.2]\",\"filters:[256]-strides:[3]-kernel_size:[9]-drop:0.3-full:[2048]-fulldrop:0.5-activation_full:['leaky', 0.1]-depth_multiplier:5-lag:6-activation:['leaky', 0.2]\",\"filters:[256]-strides:[3]-kernel_size:[9]-drop:0.3-full:[2048]-fulldrop:0.4-activation_full:['leaky', 0.1]-depth_multiplier:5-lag:6-activation:['leaky', 0.2]\",\"filters:[256]-strides:[3]-kernel_size:[9]-drop:0.3-full:[512]-fulldrop:0.5-activation_full:['prelu', 0.0]-depth_multiplier:5-lag:12-activation:['leaky', 0.2]\",\"filters:[256]-strides:[3]-kernel_size:[9]-drop:0.3-full:[512]-fulldrop:0.4-activation_full:['prelu', 0.0]-depth_multiplier:5-lag:12-activation:['leaky', 0.2]\",\"filters:[1024]-strides:[1]-kernel_size:[7]-drop:0.4-full:[32]-fulldrop:0.1-activation_full:relu-depth_multiplier:4-lag:12-activation:['leaky', 0.2]\",\"filters:[1024]-strides:[1]-kernel_size:[3]-drop:0.3-full:[512, 256]-fulldrop:0.1-activation_full:['elu', 0.4]-depth_multiplier:4-lag:12-activation:['leaky', 0.2]\",\"filters:[1024]-strides:[1]-kernel_size:[9]-drop:0.5-full:[512]-fulldrop:0.5-activation_full:['leaky', 0.2]-depth_multiplier:5-lag:12-activation:['leaky', 0.2]\",\"filters:[1024]-strides:[2]-kernel_size:[7]-drop:0.5-full:[512]-fulldrop:0.4-activation_full:['leaky', 0.1]-depth_multiplier:3-lag:12-activation:['leaky', 0.2]\",\"filters:[1024]-strides:[2]-kernel_size:[7]-drop:0.5-full:[512]-fulldrop:0.4-activation_full:['leaky', 0.1]-depth_multiplier:3-lag:6-activation:['leaky', 0.2]\",\"filters:[1024]-strides:[2]-kernel_size:[9]-drop:0.4-full:[512, 256, 128]-fulldrop:0.4-activation_full:relu-depth_multiplier:1-lag:6-activation:['leaky', 0.2]\",\"filters:[1024]-strides:[2]-kernel_size:[9]-drop:0.5-full:[2048]-fulldrop:0.4-activation_full:hard_sigmoid-depth_multiplier:5-lag:12-activation:['leaky', 0.2]\",\"filters:[1024]-strides:[3]-kernel_size:[7]-drop:0.5-full:[512]-fulldrop:0.3-activation_full:['prelu', 0.0]-depth_multiplier:5-lag:12-activation:['leaky', 0.2]\",\"filters:[1024]-strides:[3]-kernel_size:[7]-drop:0.5-full:[512]-fulldrop:0.3-activation_full:['prelu', 0.0]-depth_multiplier:3-lag:12-activation:['leaky', 0.2]\",\"filters:[1024]-strides:[3]-kernel_size:[1]-drop:0.2-full:[256, 128]-fulldrop:0.0-activation_full:['prelu', 0.0]-depth_multiplier:1-lag:18-activation:['leaky', 0.2]\",\"filters:[1024]-strides:[3]-kernel_size:[1]-drop:0.3-full:[2048, 1024]-fulldrop:0.1-activation_full:relu-depth_multiplier:3-lag:12-activation:['leaky', 0.2]\",\"filters:[1024]-strides:[3]-kernel_size:[9]-drop:0.4-full:[512]-fulldrop:0.5-activation_full:['leaky', 0.2]-depth_multiplier:5-lag:12-activation:['leaky', 0.2]\",\"filters:[1024]-strides:[3]-kernel_size:[9]-drop:0.5-full:[2048]-fulldrop:0.5-activation_full:['leaky', 0.1]-depth_multiplier:3-lag:12-activation:['leaky', 0.2]\",\"filters:[1024]-strides:[3]-kernel_size:[9]-drop:0.5-full:[2048]-fulldrop:0.4-activation_full:['leaky', 0.1]-depth_multiplier:3-lag:12-activation:['leaky', 0.2]\",\"filters:[1024]-strides:[3]-kernel_size:[9]-drop:0.5-full:[2048]-fulldrop:0.4-activation_full:['leaky', 0.1]-depth_multiplier:3-lag:6-activation:['leaky', 0.2]\",\"filters:[1024]-strides:[3]-kernel_size:[9]-drop:0.5-full:[512]-fulldrop:0.4-activation_full:['leaky', 0.1]-depth_multiplier:5-lag:12-activation:['leaky', 0.2]\",\"filters:[1024]-strides:[3]-kernel_size:[9]-drop:0.5-full:[512]-fulldrop:0.4-activation_full:['leaky', 0.1]-depth_multiplier:3-lag:12-activation:['leaky', 0.2]\",\"filters:[1024]-strides:[3]-kernel_size:[9]-drop:0.5-full:[512]-fulldrop:0.4-activation_full:['leaky', 0.1]-depth_multiplier:3-lag:6-activation:['leaky', 0.2]\",\"filters:[1024]-strides:[3]-kernel_size:[9]-drop:0.5-full:[512]-fulldrop:0.4-activation_full:['leaky', 0.1]-depth_multiplier:1-lag:6-activation:['leaky', 0.2]\",\"filters:[1024]-strides:[3]-kernel_size:[9]-drop:0.5-full:[2048]-fulldrop:0.5-activation_full:['leaky', 0.2]-depth_multiplier:5-lag:12-activation:['leaky', 0.2]\",\"filters:[1024]-strides:[3]-kernel_size:[9]-drop:0.5-full:[2048]-fulldrop:0.4-activation_full:['leaky', 0.2]-depth_multiplier:5-lag:12-activation:['leaky', 0.2]\",\"filters:[1024]-strides:[3]-kernel_size:[9]-drop:0.5-full:[512]-fulldrop:0.5-activation_full:['leaky', 0.2]-depth_multiplier:5-lag:12-activation:['leaky', 0.2]\",\"filters:[1024]-strides:[3]-kernel_size:[9]-drop:0.5-full:[512]-fulldrop:0.4-activation_full:['leaky', 0.2]-depth_multiplier:5-lag:12-activation:['leaky', 0.2]\",\"filters:[1024]-strides:[3]-kernel_size:[9]-drop:0.5-full:[2048]-fulldrop:0.4-activation_full:hard_sigmoid-depth_multiplier:4-lag:12-activation:['leaky', 0.2]\",\"filters:[1024]-strides:[3]-kernel_size:[9]-drop:0.5-full:[2048]-fulldrop:0.4-activation_full:hard_sigmoid-depth_multiplier:5-lag:12-activation:['leaky', 0.2]\",\"filters:[1024]-strides:[3]-kernel_size:[9]-drop:0.5-full:[2048]-fulldrop:0.4-activation_full:hard_sigmoid-depth_multiplier:3-lag:6-activation:['leaky', 0.2]\",\"filters:[1024]-strides:[3]-kernel_size:[9]-drop:0.5-full:[512]-fulldrop:0.4-activation_full:['prelu', 0.0]-depth_multiplier:2-lag:12-activation:['leaky', 0.2]\",\"filters:[1024]-strides:[3]-kernel_size:[9]-drop:0.3-full:[512]-fulldrop:0.4-activation_full:['leaky', 0.1]-depth_multiplier:3-lag:12-activation:['leaky', 0.2]\",\"filters:[32]-strides:[1]-kernel_size:[5]-drop:0.3-full:[4096, 2048, 1024]-fulldrop:0.1-activation_full:['prelu', 0.0]-depth_multiplier:4-lag:6-activation:['leaky', 0.2]\",\"filters:[32]-strides:[1]-kernel_size:[7]-drop:0.4-full:[2048, 1024]-fulldrop:0.1-activation_full:relu-depth_multiplier:4-lag:6-activation:['leaky', 0.2]\",\"filters:[32]-strides:[3]-kernel_size:[9]-drop:0.5-full:[4096, 2048, 1024]-fulldrop:0.0-activation_full:['elu', 0.3]-depth_multiplier:1-lag:24-activation:['leaky', 0.2]\",\"filters:[512]-strides:[1]-kernel_size:[3]-drop:0.4-full:[4096, 2048, 1024]-fulldrop:0.3-activation_full:tanh-depth_multiplier:3-lag:18-activation:['leaky', 0.2]\",\"filters:[512]-strides:[1]-kernel_size:[3]-drop:0.0-full:[256, 128, 64]-fulldrop:0.3-activation_full:tanh-depth_multiplier:5-lag:6-activation:['leaky', 0.2]\",\"filters:[512]-strides:[2]-kernel_size:[7]-drop:0.0-full:[512, 256]-fulldrop:0.1-activation_full:tanh-depth_multiplier:2-lag:6-activation:['leaky', 0.2]\",\"filters:[512]-strides:[3]-kernel_size:[9]-drop:0.4-full:[512]-fulldrop:0.4-activation_full:['prelu', 0.0]-depth_multiplier:5-lag:12-activation:['leaky', 0.2]\",\"filters:[512]-strides:[3]-kernel_size:[9]-drop:0.2-full:[512, 256]-fulldrop:0.3-activation_full:tanh-depth_multiplier:1-lag:12-activation:['leaky', 0.2]\",\"filters:[512]-strides:[3]-kernel_size:[9]-drop:0.2-full:[1024]-fulldrop:0.5-activation_full:tanh-depth_multiplier:1-lag:18-activation:['leaky', 0.2]\",\"filters:[512]-strides:[3]-kernel_size:[9]-drop:0.5-full:[1024]-fulldrop:0.5-activation_full:['leaky', 0.1]-depth_multiplier:5-lag:12-activation:['leaky', 0.2]\",\"filters:[512]-strides:[3]-kernel_size:[9]-drop:0.5-full:[512]-fulldrop:0.5-activation_full:['leaky', 0.1]-depth_multiplier:3-lag:12-activation:['leaky', 0.2]\",\"filters:[512]-strides:[3]-kernel_size:[9]-drop:0.5-full:[512]-fulldrop:0.5-activation_full:['leaky', 0.1]-depth_multiplier:1-lag:12-activation:['leaky', 0.2]\",\"filters:[512]-strides:[3]-kernel_size:[9]-drop:0.5-full:[2048]-fulldrop:0.4-activation_full:hard_sigmoid-depth_multiplier:5-lag:12-activation:['leaky', 0.2]\",\"filters:[512]-strides:[3]-kernel_size:[9]-drop:0.5-full:[2048]-fulldrop:0.4-activation_full:['prelu', 0.0]-depth_multiplier:5-lag:12-activation:['leaky', 0.2]\",\"filters:[512]-strides:[3]-kernel_size:[9]-drop:0.5-full:[2048]-fulldrop:0.4-activation_full:['prelu', 0.0]-depth_multiplier:3-lag:12-activation:['leaky', 0.2]\",\"filters:[512]-strides:[3]-kernel_size:[9]-drop:0.5-full:[512]-fulldrop:0.4-activation_full:['prelu', 0.0]-depth_multiplier:5-lag:12-activation:['leaky', 0.2]\",\"filters:[512]-strides:[3]-kernel_size:[9]-drop:0.5-full:[512]-fulldrop:0.4-activation_full:['prelu', 0.0]-depth_multiplier:3-lag:12-activation:['leaky', 0.2]\",\"filters:[512]-strides:[3]-kernel_size:[9]-drop:0.5-full:[512]-fulldrop:0.4-activation_full:['prelu', 0.0]-depth_multiplier:2-lag:12-activation:['leaky', 0.2]\",\"filters:[16]-strides:[1]-kernel_size:[7]-drop:0.2-full:[4096]-fulldrop:0.1-activation_full:['leaky', 0.1]-depth_multiplier:5-lag:24-activation:['leaky', 0.2]\",\"filters:[16]-strides:[1]-kernel_size:[9]-drop:0.4-full:[64, 32]-fulldrop:0.3-activation_full:['leaky', 0.2]-depth_multiplier:1-lag:12-activation:['leaky', 0.2]\",\"filters:[16]-strides:[2]-kernel_size:[7]-drop:0.5-full:[128, 64, 32]-fulldrop:0.2-activation_full:tanh-depth_multiplier:1-lag:12-activation:['leaky', 0.2]\",\"filters:[16]-strides:[3]-kernel_size:[9]-drop:0.1-full:[4096, 2048, 1024]-fulldrop:0.5-activation_full:['leaky', 0.2]-depth_multiplier:5-lag:18-activation:['leaky', 0.2]\",\"filters:[128]-strides:[1]-kernel_size:[3]-drop:0.4-full:[4096]-fulldrop:0.5-activation_full:['leaky', 0.1]-depth_multiplier:2-lag:18-activation:['leaky', 0.2]\",\"filters:[128]-strides:[2]-kernel_size:[7]-drop:0.3-full:[512, 256]-fulldrop:0.1-activation_full:tanh-depth_multiplier:2-lag:6-activation:['leaky', 0.2]\",\"filters:[128]-strides:[2]-kernel_size:[9]-drop:0.4-full:[256, 128]-fulldrop:0.5-activation_full:['elu', 0.3]-depth_multiplier:1-lag:18-activation:['leaky', 0.2]\",\"filters:[128]-strides:[2]-kernel_size:[9]-drop:0.3-full:[32, 16, 8]-fulldrop:0.0-activation_full:['prelu', 0.0]-depth_multiplier:4-lag:12-activation:['leaky', 0.2]\",\"filters:[128]-strides:[2]-kernel_size:[9]-drop:0.0-full:[256, 128, 64]-fulldrop:0.5-activation_full:['elu', 0.3]-depth_multiplier:1-lag:18-activation:['leaky', 0.2]\",\"filters:[128]-strides:[3]-kernel_size:[7]-drop:0.3-full:[128]-fulldrop:0.4-activation_full:relu-depth_multiplier:1-lag:18-activation:['leaky', 0.2]\",\"filters:[128]-strides:[3]-kernel_size:[1]-drop:0.2-full:[32, 16, 8]-fulldrop:0.3-activation_full:relu-depth_multiplier:3-lag:6-activation:['leaky', 0.2]\"],\"type\":\"scatter\",\"x\":[7.249830280012137,7.231101197280529,7.249274011142056,7.230029633590761,7.260841591009763,7.244547830465223,7.2450262726876264,7.248312318195421,7.2458339451299825,7.244806389254316,7.245284405265553,7.250633192700924,7.24484121227981,7.230049510346175,7.249014698935711,7.276206106865776,7.276749637223051,7.249381694965799,7.243994487421663],\"y\":[400,250,600,250,800,600,600,600,600,600,600,400,600,250,400,800,800,600,600]},{\"marker\":{\"size\":20},\"mode\":\"markers\",\"name\":\"['prelu', 0.0]\",\"text\":[\"filters:[64]-strides:[2]-kernel_size:[1]-drop:0.0-full:[1024]-fulldrop:0.5-activation_full:['elu', 0.3]-depth_multiplier:5-lag:18-activation:['prelu', 0.0]\",\"filters:[64]-strides:[2]-kernel_size:[9]-drop:0.3-full:[256]-fulldrop:0.5-activation_full:['elu', 0.4]-depth_multiplier:1-lag:24-activation:['prelu', 0.0]\",\"filters:[64]-strides:[3]-kernel_size:[7]-drop:0.4-full:[4096, 2048]-fulldrop:0.4-activation_full:linear-depth_multiplier:2-lag:6-activation:['prelu', 0.0]\",\"filters:[256]-strides:[1]-kernel_size:[7]-drop:0.0-full:[256]-fulldrop:0.0-activation_full:['leaky', 0.1]-depth_multiplier:4-lag:6-activation:['prelu', 0.0]\",\"filters:[256]-strides:[1]-kernel_size:[3]-drop:0.1-full:[2048, 1024]-fulldrop:0.4-activation_full:linear-depth_multiplier:2-lag:6-activation:['prelu', 0.0]\",\"filters:[256]-strides:[1]-kernel_size:[3]-drop:0.4-full:[128]-fulldrop:0.0-activation_full:tanh-depth_multiplier:2-lag:6-activation:['prelu', 0.0]\",\"filters:[256]-strides:[1]-kernel_size:[3]-drop:0.3-full:[512]-fulldrop:0.3-activation_full:['prelu', 0.0]-depth_multiplier:2-lag:18-activation:['prelu', 0.0]\",\"filters:[256]-strides:[2]-kernel_size:[7]-drop:0.5-full:[512]-fulldrop:0.4-activation_full:['leaky', 0.1]-depth_multiplier:3-lag:12-activation:['prelu', 0.0]\",\"filters:[256]-strides:[2]-kernel_size:[7]-drop:0.5-full:[512]-fulldrop:0.4-activation_full:['leaky', 0.2]-depth_multiplier:3-lag:12-activation:['prelu', 0.0]\",\"filters:[1024]-strides:[1]-kernel_size:[1]-drop:0.5-full:[512, 256]-fulldrop:0.1-activation_full:hard_sigmoid-depth_multiplier:1-lag:24-activation:['prelu', 0.0]\",\"filters:[1024]-strides:[2]-kernel_size:[9]-drop:0.0-full:[256]-fulldrop:0.5-activation_full:['elu', 0.4]-depth_multiplier:1-lag:24-activation:['prelu', 0.0]\",\"filters:[1024]-strides:[3]-kernel_size:[3]-drop:0.2-full:[256, 128, 64]-fulldrop:0.5-activation_full:['elu', 0.4]-depth_multiplier:2-lag:30-activation:['prelu', 0.0]\",\"filters:[32]-strides:[1]-kernel_size:[5]-drop:0.2-full:[512, 256]-fulldrop:0.2-activation_full:['leaky', 0.2]-depth_multiplier:5-lag:30-activation:['prelu', 0.0]\",\"filters:[32]-strides:[1]-kernel_size:[5]-drop:0.3-full:[64]-fulldrop:0.5-activation_full:linear-depth_multiplier:3-lag:24-activation:['prelu', 0.0]\",\"filters:[32]-strides:[2]-kernel_size:[5]-drop:0.1-full:[1024, 512]-fulldrop:0.1-activation_full:hard_sigmoid-depth_multiplier:1-lag:24-activation:['prelu', 0.0]\",\"filters:[32]-strides:[2]-kernel_size:[5]-drop:0.2-full:[4096, 2048]-fulldrop:0.4-activation_full:hard_sigmoid-depth_multiplier:3-lag:12-activation:['prelu', 0.0]\",\"filters:[32]-strides:[3]-kernel_size:[5]-drop:0.0-full:[4096]-fulldrop:0.1-activation_full:['leaky', 0.2]-depth_multiplier:2-lag:18-activation:['prelu', 0.0]\",\"filters:[512]-strides:[1]-kernel_size:[5]-drop:0.1-full:[128]-fulldrop:0.3-activation_full:tanh-depth_multiplier:4-lag:30-activation:['prelu', 0.0]\",\"filters:[512]-strides:[1]-kernel_size:[7]-drop:0.4-full:[4096, 2048]-fulldrop:0.3-activation_full:hard_sigmoid-depth_multiplier:3-lag:18-activation:['prelu', 0.0]\",\"filters:[512]-strides:[2]-kernel_size:[7]-drop:0.5-full:[4096, 2048, 1024]-fulldrop:0.3-activation_full:['elu', 0.3]-depth_multiplier:3-lag:18-activation:['prelu', 0.0]\",\"filters:[512]-strides:[3]-kernel_size:[5]-drop:0.1-full:[1024, 512, 256]-fulldrop:0.4-activation_full:['prelu', 0.0]-depth_multiplier:3-lag:12-activation:['prelu', 0.0]\",\"filters:[16]-strides:[2]-kernel_size:[1]-drop:0.3-full:[256, 128, 64]-fulldrop:0.1-activation_full:hard_sigmoid-depth_multiplier:5-lag:12-activation:['prelu', 0.0]\",\"filters:[128]-strides:[1]-kernel_size:[5]-drop:0.0-full:[4096, 2048, 1024]-fulldrop:0.4-activation_full:['prelu', 0.0]-depth_multiplier:4-lag:30-activation:['prelu', 0.0]\",\"filters:[128]-strides:[1]-kernel_size:[1]-drop:0.2-full:[256]-fulldrop:0.5-activation_full:['prelu', 0.0]-depth_multiplier:5-lag:24-activation:['prelu', 0.0]\",\"filters:[128]-strides:[1]-kernel_size:[1]-drop:0.0-full:[32, 16, 8]-fulldrop:0.2-activation_full:['elu', 0.3]-depth_multiplier:5-lag:24-activation:['prelu', 0.0]\",\"filters:[128]-strides:[2]-kernel_size:[9]-drop:0.0-full:[2048, 1024]-fulldrop:0.0-activation_full:relu-depth_multiplier:5-lag:18-activation:['prelu', 0.0]\"],\"type\":\"scatter\",\"x\":[],\"y\":[]},{\"marker\":{\"size\":20},\"mode\":\"markers\",\"name\":\"hard_sigmoid\",\"text\":[\"filters:[64]-strides:[1]-kernel_size:[7]-drop:0.5-full:[64, 32, 16]-fulldrop:0.1-activation_full:tanh-depth_multiplier:3-lag:30-activation:hard_sigmoid\",\"filters:[64]-strides:[1]-kernel_size:[9]-drop:0.1-full:[2048, 1024, 512]-fulldrop:0.4-activation_full:hard_sigmoid-depth_multiplier:2-lag:12-activation:hard_sigmoid\",\"filters:[64]-strides:[2]-kernel_size:[5]-drop:0.2-full:[128]-fulldrop:0.3-activation_full:hard_sigmoid-depth_multiplier:4-lag:18-activation:hard_sigmoid\",\"filters:[64]-strides:[3]-kernel_size:[9]-drop:0.2-full:[32]-fulldrop:0.0-activation_full:linear-depth_multiplier:2-lag:18-activation:hard_sigmoid\",\"filters:[256]-strides:[1]-kernel_size:[9]-drop:0.2-full:[64]-fulldrop:0.0-activation_full:['leaky', 0.2]-depth_multiplier:5-lag:24-activation:hard_sigmoid\",\"filters:[1024]-strides:[2]-kernel_size:[3]-drop:0.4-full:[2048, 1024]-fulldrop:0.0-activation_full:['elu', 0.4]-depth_multiplier:4-lag:24-activation:hard_sigmoid\",\"filters:[1024]-strides:[2]-kernel_size:[3]-drop:0.0-full:[64, 32, 16]-fulldrop:0.2-activation_full:['leaky', 0.2]-depth_multiplier:2-lag:24-activation:hard_sigmoid\",\"filters:[1024]-strides:[2]-kernel_size:[9]-drop:0.0-full:[256, 128, 64]-fulldrop:0.5-activation_full:['prelu', 0.0]-depth_multiplier:4-lag:18-activation:hard_sigmoid\",\"filters:[1024]-strides:[3]-kernel_size:[7]-drop:0.0-full:[2048, 1024]-fulldrop:0.4-activation_full:tanh-depth_multiplier:1-lag:30-activation:hard_sigmoid\",\"filters:[1024]-strides:[3]-kernel_size:[3]-drop:0.4-full:[128, 64]-fulldrop:0.3-activation_full:['prelu', 0.0]-depth_multiplier:4-lag:6-activation:hard_sigmoid\",\"filters:[1024]-strides:[3]-kernel_size:[3]-drop:0.3-full:[256]-fulldrop:0.1-activation_full:tanh-depth_multiplier:3-lag:6-activation:hard_sigmoid\",\"filters:[1024]-strides:[3]-kernel_size:[9]-drop:0.5-full:[512]-fulldrop:0.4-activation_full:['leaky', 0.2]-depth_multiplier:5-lag:12-activation:hard_sigmoid\",\"filters:[1024]-strides:[3]-kernel_size:[9]-drop:0.5-full:[512]-fulldrop:0.4-activation_full:['prelu', 0.0]-depth_multiplier:5-lag:12-activation:hard_sigmoid\",\"filters:[32]-strides:[1]-kernel_size:[5]-drop:0.2-full:[128]-fulldrop:0.4-activation_full:['leaky', 0.2]-depth_multiplier:1-lag:6-activation:hard_sigmoid\",\"filters:[32]-strides:[1]-kernel_size:[7]-drop:0.4-full:[64, 32, 16]-fulldrop:0.2-activation_full:linear-depth_multiplier:3-lag:30-activation:hard_sigmoid\",\"filters:[32]-strides:[2]-kernel_size:[7]-drop:0.1-full:[4096]-fulldrop:0.0-activation_full:linear-depth_multiplier:4-lag:30-activation:hard_sigmoid\",\"filters:[32]-strides:[2]-kernel_size:[3]-drop:0.2-full:[32, 16, 8]-fulldrop:0.3-activation_full:hard_sigmoid-depth_multiplier:2-lag:30-activation:hard_sigmoid\",\"filters:[32]-strides:[3]-kernel_size:[1]-drop:0.2-full:[4096]-fulldrop:0.1-activation_full:tanh-depth_multiplier:3-lag:24-activation:hard_sigmoid\",\"filters:[512]-strides:[1]-kernel_size:[3]-drop:0.5-full:[512]-fulldrop:0.3-activation_full:['leaky', 0.1]-depth_multiplier:4-lag:24-activation:hard_sigmoid\",\"filters:[512]-strides:[1]-kernel_size:[1]-drop:0.4-full:[128]-fulldrop:0.2-activation_full:['leaky', 0.1]-depth_multiplier:5-lag:12-activation:hard_sigmoid\",\"filters:[512]-strides:[1]-kernel_size:[9]-drop:0.2-full:[2048, 1024]-fulldrop:0.5-activation_full:linear-depth_multiplier:2-lag:12-activation:hard_sigmoid\",\"filters:[512]-strides:[2]-kernel_size:[9]-drop:0.0-full:[4096]-fulldrop:0.2-activation_full:tanh-depth_multiplier:5-lag:24-activation:hard_sigmoid\",\"filters:[512]-strides:[3]-kernel_size:[1]-drop:0.5-full:[4096, 2048]-fulldrop:0.3-activation_full:linear-depth_multiplier:1-lag:12-activation:hard_sigmoid\",\"filters:[16]-strides:[1]-kernel_size:[1]-drop:0.4-full:[4096, 2048, 1024]-fulldrop:0.2-activation_full:relu-depth_multiplier:4-lag:6-activation:hard_sigmoid\",\"filters:[128]-strides:[1]-kernel_size:[5]-drop:0.5-full:[2048, 1024]-fulldrop:0.2-activation_full:['leaky', 0.2]-depth_multiplier:1-lag:18-activation:hard_sigmoid\",\"filters:[128]-strides:[1]-kernel_size:[5]-drop:0.0-full:[32]-fulldrop:0.3-activation_full:linear-depth_multiplier:2-lag:6-activation:hard_sigmoid\",\"filters:[128]-strides:[1]-kernel_size:[7]-drop:0.1-full:[256, 128, 64]-fulldrop:0.4-activation_full:linear-depth_multiplier:1-lag:30-activation:hard_sigmoid\",\"filters:[128]-strides:[1]-kernel_size:[3]-drop:0.4-full:[512, 256]-fulldrop:0.5-activation_full:linear-depth_multiplier:4-lag:30-activation:hard_sigmoid\",\"filters:[128]-strides:[1]-kernel_size:[9]-drop:0.5-full:[512, 256, 128]-fulldrop:0.5-activation_full:['prelu', 0.0]-depth_multiplier:2-lag:12-activation:hard_sigmoid\",\"filters:[128]-strides:[2]-kernel_size:[9]-drop:0.1-full:[32, 16]-fulldrop:0.4-activation_full:['elu', 0.4]-depth_multiplier:2-lag:12-activation:hard_sigmoid\"],\"type\":\"scatter\",\"x\":[],\"y\":[]},{\"marker\":{\"size\":20},\"mode\":\"markers\",\"name\":\"linear\",\"text\":[\"filters:[64]-strides:[1]-kernel_size:[5]-drop:0.2-full:[32, 16, 8]-fulldrop:0.0-activation_full:['leaky', 0.1]-depth_multiplier:4-lag:18-activation:linear\",\"filters:[64]-strides:[2]-kernel_size:[7]-drop:0.4-full:[4096, 2048]-fulldrop:0.4-activation_full:tanh-depth_multiplier:3-lag:30-activation:linear\",\"filters:[64]-strides:[2]-kernel_size:[1]-drop:0.2-full:[512, 256]-fulldrop:0.5-activation_full:['leaky', 0.2]-depth_multiplier:2-lag:6-activation:linear\",\"filters:[64]-strides:[3]-kernel_size:[5]-drop:0.0-full:[512, 256]-fulldrop:0.4-activation_full:relu-depth_multiplier:2-lag:30-activation:linear\",\"filters:[256]-strides:[1]-kernel_size:[5]-drop:0.5-full:[512, 256, 128]-fulldrop:0.3-activation_full:['leaky', 0.1]-depth_multiplier:4-lag:18-activation:linear\",\"filters:[256]-strides:[1]-kernel_size:[3]-drop:0.2-full:[32]-fulldrop:0.4-activation_full:hard_sigmoid-depth_multiplier:5-lag:30-activation:linear\",\"filters:[256]-strides:[2]-kernel_size:[7]-drop:0.1-full:[4096, 2048, 1024]-fulldrop:0.3-activation_full:linear-depth_multiplier:3-lag:12-activation:linear\",\"filters:[256]-strides:[3]-kernel_size:[7]-drop:0.2-full:[4096, 2048, 1024]-fulldrop:0.0-activation_full:['leaky', 0.1]-depth_multiplier:3-lag:6-activation:linear\",\"filters:[256]-strides:[3]-kernel_size:[3]-drop:0.5-full:[512, 256]-fulldrop:0.5-activation_full:['prelu', 0.0]-depth_multiplier:3-lag:6-activation:linear\",\"filters:[1024]-strides:[1]-kernel_size:[9]-drop:0.0-full:[1024, 512, 256]-fulldrop:0.1-activation_full:['prelu', 0.0]-depth_multiplier:5-lag:18-activation:linear\",\"filters:[1024]-strides:[2]-kernel_size:[5]-drop:0.5-full:[512]-fulldrop:0.0-activation_full:['elu', 0.3]-depth_multiplier:1-lag:18-activation:linear\",\"filters:[1024]-strides:[2]-kernel_size:[9]-drop:0.5-full:[1024, 512]-fulldrop:0.3-activation_full:['elu', 0.4]-depth_multiplier:4-lag:6-activation:linear\",\"filters:[1024]-strides:[3]-kernel_size:[5]-drop:0.3-full:[256, 128, 64]-fulldrop:0.4-activation_full:linear-depth_multiplier:5-lag:12-activation:linear\",\"filters:[1024]-strides:[3]-kernel_size:[9]-drop:0.5-full:[512]-fulldrop:0.4-activation_full:['leaky', 0.1]-depth_multiplier:3-lag:12-activation:linear\",\"filters:[32]-strides:[1]-kernel_size:[1]-drop:0.0-full:[512]-fulldrop:0.5-activation_full:['leaky', 0.1]-depth_multiplier:4-lag:18-activation:linear\",\"filters:[32]-strides:[3]-kernel_size:[1]-drop:0.1-full:[1024]-fulldrop:0.4-activation_full:['elu', 0.4]-depth_multiplier:2-lag:6-activation:linear\",\"filters:[512]-strides:[1]-kernel_size:[1]-drop:0.2-full:[512]-fulldrop:0.2-activation_full:['elu', 0.3]-depth_multiplier:4-lag:6-activation:linear\",\"filters:[512]-strides:[3]-kernel_size:[1]-drop:0.3-full:[512]-fulldrop:0.3-activation_full:['elu', 0.4]-depth_multiplier:1-lag:24-activation:linear\",\"filters:[16]-strides:[1]-kernel_size:[5]-drop:0.4-full:[2048, 1024]-fulldrop:0.2-activation_full:['elu', 0.3]-depth_multiplier:2-lag:24-activation:linear\",\"filters:[16]-strides:[1]-kernel_size:[7]-drop:0.5-full:[512, 256]-fulldrop:0.0-activation_full:['elu', 0.3]-depth_multiplier:2-lag:12-activation:linear\",\"filters:[16]-strides:[1]-kernel_size:[9]-drop:0.2-full:[512, 256]-fulldrop:0.0-activation_full:tanh-depth_multiplier:1-lag:18-activation:linear\",\"filters:[16]-strides:[2]-kernel_size:[7]-drop:0.3-full:[32, 16]-fulldrop:0.3-activation_full:tanh-depth_multiplier:3-lag:30-activation:linear\",\"filters:[16]-strides:[2]-kernel_size:[9]-drop:0.1-full:[1024, 512, 256]-fulldrop:0.4-activation_full:['leaky', 0.1]-depth_multiplier:5-lag:24-activation:linear\",\"filters:[128]-strides:[2]-kernel_size:[1]-drop:0.1-full:[1024, 512]-fulldrop:0.5-activation_full:['leaky', 0.1]-depth_multiplier:3-lag:12-activation:linear\",\"filters:[128]-strides:[2]-kernel_size:[1]-drop:0.3-full:[1024]-fulldrop:0.5-activation_full:['prelu', 0.0]-depth_multiplier:3-lag:30-activation:linear\"],\"type\":\"scatter\",\"x\":[7.241367422830537],\"y\":[600]},{\"marker\":{\"size\":20},\"mode\":\"markers\",\"name\":\"relu\",\"text\":[\"filters:[64]-strides:[1]-kernel_size:[7]-drop:0.5-full:[2048]-fulldrop:0.2-activation_full:['elu', 0.3]-depth_multiplier:3-lag:12-activation:relu\",\"filters:[64]-strides:[1]-kernel_size:[3]-drop:0.1-full:[1024, 512, 256]-fulldrop:0.5-activation_full:linear-depth_multiplier:5-lag:30-activation:relu\",\"filters:[64]-strides:[1]-kernel_size:[1]-drop:0.5-full:[32, 16, 8]-fulldrop:0.3-activation_full:['leaky', 0.2]-depth_multiplier:5-lag:30-activation:relu\",\"filters:[64]-strides:[2]-kernel_size:[1]-drop:0.4-full:[2048, 1024]-fulldrop:0.2-activation_full:['prelu', 0.0]-depth_multiplier:1-lag:18-activation:relu\",\"filters:[64]-strides:[3]-kernel_size:[1]-drop:0.4-full:[128]-fulldrop:0.3-activation_full:hard_sigmoid-depth_multiplier:5-lag:6-activation:relu\",\"filters:[256]-strides:[3]-kernel_size:[9]-drop:0.5-full:[1024]-fulldrop:0.4-activation_full:['leaky', 0.1]-depth_multiplier:5-lag:6-activation:relu\",\"filters:[1024]-strides:[2]-kernel_size:[7]-drop:0.4-full:[4096, 2048]-fulldrop:0.2-activation_full:['leaky', 0.1]-depth_multiplier:2-lag:6-activation:relu\",\"filters:[1024]-strides:[2]-kernel_size:[3]-drop:0.2-full:[32, 16, 8]-fulldrop:0.3-activation_full:['leaky', 0.2]-depth_multiplier:2-lag:12-activation:relu\",\"filters:[1024]-strides:[2]-kernel_size:[3]-drop:0.5-full:[32, 16, 8]-fulldrop:0.3-activation_full:['leaky', 0.2]-depth_multiplier:4-lag:6-activation:relu\",\"filters:[1024]-strides:[3]-kernel_size:[3]-drop:0.5-full:[1024]-fulldrop:0.1-activation_full:['elu', 0.3]-depth_multiplier:2-lag:12-activation:relu\",\"filters:[1024]-strides:[3]-kernel_size:[1]-drop:0.5-full:[2048, 1024]-fulldrop:0.4-activation_full:relu-depth_multiplier:1-lag:24-activation:relu\",\"filters:[1024]-strides:[3]-kernel_size:[9]-drop:0.5-full:[512]-fulldrop:0.5-activation_full:['leaky', 0.2]-depth_multiplier:5-lag:12-activation:relu\",\"filters:[1024]-strides:[3]-kernel_size:[9]-drop:0.5-full:[512]-fulldrop:0.4-activation_full:['leaky', 0.2]-depth_multiplier:5-lag:12-activation:relu\",\"filters:[32]-strides:[1]-kernel_size:[3]-drop:0.1-full:[64, 32, 16]-fulldrop:0.3-activation_full:['elu', 0.4]-depth_multiplier:2-lag:24-activation:relu\",\"filters:[32]-strides:[2]-kernel_size:[5]-drop:0.0-full:[256]-fulldrop:0.5-activation_full:tanh-depth_multiplier:3-lag:30-activation:relu\",\"filters:[32]-strides:[2]-kernel_size:[7]-drop:0.2-full:[1024, 512]-fulldrop:0.2-activation_full:['leaky', 0.2]-depth_multiplier:4-lag:6-activation:relu\",\"filters:[32]-strides:[2]-kernel_size:[3]-drop:0.1-full:[64, 32]-fulldrop:0.0-activation_full:hard_sigmoid-depth_multiplier:4-lag:6-activation:relu\",\"filters:[512]-strides:[2]-kernel_size:[7]-drop:0.1-full:[64]-fulldrop:0.1-activation_full:['elu', 0.3]-depth_multiplier:4-lag:12-activation:relu\",\"filters:[16]-strides:[2]-kernel_size:[7]-drop:0.5-full:[128, 64, 32]-fulldrop:0.5-activation_full:['elu', 0.4]-depth_multiplier:3-lag:18-activation:relu\",\"filters:[16]-strides:[2]-kernel_size:[3]-drop:0.3-full:[64, 32]-fulldrop:0.4-activation_full:['elu', 0.4]-depth_multiplier:4-lag:12-activation:relu\",\"filters:[16]-strides:[2]-kernel_size:[9]-drop:0.5-full:[32, 16]-fulldrop:0.1-activation_full:relu-depth_multiplier:2-lag:6-activation:relu\",\"filters:[16]-strides:[2]-kernel_size:[9]-drop:0.0-full:[2048, 1024]-fulldrop:0.3-activation_full:['leaky', 0.2]-depth_multiplier:4-lag:18-activation:relu\",\"filters:[16]-strides:[3]-kernel_size:[7]-drop:0.1-full:[256]-fulldrop:0.0-activation_full:['leaky', 0.1]-depth_multiplier:5-lag:12-activation:relu\",\"filters:[16]-strides:[3]-kernel_size:[7]-drop:0.5-full:[512, 256, 128]-fulldrop:0.2-activation_full:['elu', 0.3]-depth_multiplier:5-lag:6-activation:relu\",\"filters:[16]-strides:[3]-kernel_size:[7]-drop:0.3-full:[2048, 1024]-fulldrop:0.3-activation_full:['leaky', 0.1]-depth_multiplier:4-lag:24-activation:relu\",\"filters:[16]-strides:[3]-kernel_size:[9]-drop:0.0-full:[128, 64, 32]-fulldrop:0.0-activation_full:['elu', 0.3]-depth_multiplier:2-lag:6-activation:relu\",\"filters:[128]-strides:[1]-kernel_size:[5]-drop:0.0-full:[1024, 512, 256]-fulldrop:0.5-activation_full:relu-depth_multiplier:4-lag:18-activation:relu\",\"filters:[128]-strides:[2]-kernel_size:[1]-drop:0.1-full:[2048, 1024, 512]-fulldrop:0.0-activation_full:['leaky', 0.1]-depth_multiplier:4-lag:30-activation:relu\",\"filters:[128]-strides:[3]-kernel_size:[7]-drop:0.3-full:[256, 128]-fulldrop:0.2-activation_full:['elu', 0.4]-depth_multiplier:4-lag:24-activation:relu\"],\"type\":\"scatter\",\"x\":[],\"y\":[]},{\"marker\":{\"size\":20},\"mode\":\"markers\",\"name\":\"tanh\",\"text\":[\"filters:[64]-strides:[1]-kernel_size:[9]-drop:0.4-full:[1024, 512, 256]-fulldrop:0.3-activation_full:tanh-depth_multiplier:3-lag:18-activation:tanh\",\"filters:[64]-strides:[2]-kernel_size:[3]-drop:0.4-full:[1024, 512, 256]-fulldrop:0.3-activation_full:tanh-depth_multiplier:3-lag:24-activation:tanh\",\"filters:[64]-strides:[2]-kernel_size:[9]-drop:0.5-full:[64, 32, 16]-fulldrop:0.3-activation_full:['prelu', 0.0]-depth_multiplier:3-lag:18-activation:tanh\",\"filters:[64]-strides:[2]-kernel_size:[9]-drop:0.5-full:[64, 32, 16]-fulldrop:0.0-activation_full:['prelu', 0.0]-depth_multiplier:5-lag:18-activation:tanh\",\"filters:[64]-strides:[3]-kernel_size:[5]-drop:0.2-full:[128, 64, 32]-fulldrop:0.3-activation_full:['leaky', 0.2]-depth_multiplier:5-lag:12-activation:tanh\",\"filters:[64]-strides:[3]-kernel_size:[7]-drop:0.1-full:[256, 128, 64]-fulldrop:0.0-activation_full:hard_sigmoid-depth_multiplier:4-lag:12-activation:tanh\",\"filters:[64]-strides:[3]-kernel_size:[7]-drop:0.3-full:[64, 32, 16]-fulldrop:0.0-activation_full:['leaky', 0.2]-depth_multiplier:2-lag:12-activation:tanh\",\"filters:[64]-strides:[3]-kernel_size:[1]-drop:0.0-full:[4096, 2048]-fulldrop:0.4-activation_full:['leaky', 0.2]-depth_multiplier:5-lag:12-activation:tanh\",\"filters:[256]-strides:[1]-kernel_size:[1]-drop:0.2-full:[1024]-fulldrop:0.1-activation_full:hard_sigmoid-depth_multiplier:2-lag:18-activation:tanh\",\"filters:[256]-strides:[1]-kernel_size:[9]-drop:0.3-full:[256]-fulldrop:0.0-activation_full:hard_sigmoid-depth_multiplier:2-lag:12-activation:tanh\",\"filters:[256]-strides:[2]-kernel_size:[7]-drop:0.2-full:[1024]-fulldrop:0.1-activation_full:hard_sigmoid-depth_multiplier:2-lag:18-activation:tanh\",\"filters:[256]-strides:[2]-kernel_size:[9]-drop:0.5-full:[64, 32, 16]-fulldrop:0.3-activation_full:['prelu', 0.0]-depth_multiplier:5-lag:18-activation:tanh\",\"filters:[256]-strides:[3]-kernel_size:[5]-drop:0.1-full:[1024, 512, 256]-fulldrop:0.0-activation_full:tanh-depth_multiplier:5-lag:6-activation:tanh\",\"filters:[256]-strides:[3]-kernel_size:[7]-drop:0.2-full:[64, 32, 16]-fulldrop:0.1-activation_full:['leaky', 0.2]-depth_multiplier:2-lag:12-activation:tanh\",\"filters:[256]-strides:[3]-kernel_size:[7]-drop:0.2-full:[4096, 2048]-fulldrop:0.1-activation_full:['leaky', 0.2]-depth_multiplier:2-lag:12-activation:tanh\",\"filters:[256]-strides:[3]-kernel_size:[3]-drop:0.0-full:[1024]-fulldrop:0.3-activation_full:['leaky', 0.1]-depth_multiplier:3-lag:30-activation:tanh\",\"filters:[256]-strides:[3]-kernel_size:[9]-drop:0.5-full:[32, 16, 8]-fulldrop:0.0-activation_full:tanh-depth_multiplier:5-lag:30-activation:tanh\",\"filters:[1024]-strides:[1]-kernel_size:[3]-drop:0.4-full:[1024, 512, 256]-fulldrop:0.1-activation_full:tanh-depth_multiplier:3-lag:18-activation:tanh\",\"filters:[1024]-strides:[1]-kernel_size:[3]-drop:0.4-full:[4096]-fulldrop:0.3-activation_full:tanh-depth_multiplier:4-lag:18-activation:tanh\",\"filters:[1024]-strides:[1]-kernel_size:[3]-drop:0.3-full:[512, 256]-fulldrop:0.4-activation_full:['elu', 0.4]-depth_multiplier:4-lag:12-activation:tanh\",\"filters:[1024]-strides:[2]-kernel_size:[5]-drop:0.5-full:[4096, 2048]-fulldrop:0.2-activation_full:relu-depth_multiplier:3-lag:24-activation:tanh\",\"filters:[1024]-strides:[2]-kernel_size:[7]-drop:0.1-full:[512]-fulldrop:0.3-activation_full:hard_sigmoid-depth_multiplier:5-lag:12-activation:tanh\",\"filters:[1024]-strides:[2]-kernel_size:[7]-drop:0.1-full:[512]-fulldrop:0.4-activation_full:hard_sigmoid-depth_multiplier:5-lag:12-activation:tanh\",\"filters:[1024]-strides:[2]-kernel_size:[7]-drop:0.2-full:[512]-fulldrop:0.4-activation_full:hard_sigmoid-depth_multiplier:3-lag:12-activation:tanh\",\"filters:[1024]-strides:[2]-kernel_size:[7]-drop:0.5-full:[512]-fulldrop:0.4-activation_full:['leaky', 0.1]-depth_multiplier:3-lag:12-activation:tanh\",\"filters:[1024]-strides:[2]-kernel_size:[7]-drop:0.5-full:[512]-fulldrop:0.5-activation_full:hard_sigmoid-depth_multiplier:5-lag:12-activation:tanh\",\"filters:[1024]-strides:[2]-kernel_size:[7]-drop:0.5-full:[512]-fulldrop:0.4-activation_full:hard_sigmoid-depth_multiplier:5-lag:12-activation:tanh\",\"filters:[1024]-strides:[2]-kernel_size:[7]-drop:0.3-full:[512]-fulldrop:0.3-activation_full:hard_sigmoid-depth_multiplier:3-lag:12-activation:tanh\",\"filters:[1024]-strides:[2]-kernel_size:[9]-drop:0.2-full:[1024, 512, 256]-fulldrop:0.2-activation_full:hard_sigmoid-depth_multiplier:5-lag:24-activation:tanh\",\"filters:[1024]-strides:[2]-kernel_size:[9]-drop:0.2-full:[64, 32, 16]-fulldrop:0.0-activation_full:['prelu', 0.0]-depth_multiplier:5-lag:12-activation:tanh\",\"filters:[1024]-strides:[2]-kernel_size:[9]-drop:0.5-full:[1024]-fulldrop:0.4-activation_full:['leaky', 0.1]-depth_multiplier:4-lag:12-activation:tanh\",\"filters:[1024]-strides:[2]-kernel_size:[9]-drop:0.5-full:[64, 32, 16]-fulldrop:0.0-activation_full:['prelu', 0.0]-depth_multiplier:5-lag:12-activation:tanh\",\"filters:[1024]-strides:[3]-kernel_size:[7]-drop:0.1-full:[512]-fulldrop:0.4-activation_full:linear-depth_multiplier:5-lag:12-activation:tanh\",\"filters:[1024]-strides:[3]-kernel_size:[7]-drop:0.1-full:[512]-fulldrop:0.4-activation_full:['leaky', 0.1]-depth_multiplier:5-lag:12-activation:tanh\",\"filters:[1024]-strides:[3]-kernel_size:[7]-drop:0.1-full:[512]-fulldrop:0.3-activation_full:['elu', 0.4]-depth_multiplier:5-lag:12-activation:tanh\",\"filters:[1024]-strides:[3]-kernel_size:[7]-drop:0.1-full:[512]-fulldrop:0.4-activation_full:['elu', 0.4]-depth_multiplier:4-lag:12-activation:tanh\",\"filters:[1024]-strides:[3]-kernel_size:[7]-drop:0.1-full:[512]-fulldrop:0.4-activation_full:['elu', 0.4]-depth_multiplier:5-lag:12-activation:tanh\",\"filters:[1024]-strides:[3]-kernel_size:[7]-drop:0.1-full:[512]-fulldrop:0.4-activation_full:['elu', 0.4]-depth_multiplier:5-lag:6-activation:tanh\",\"filters:[1024]-strides:[3]-kernel_size:[7]-drop:0.1-full:[512]-fulldrop:0.4-activation_full:['elu', 0.4]-depth_multiplier:3-lag:12-activation:tanh\",\"filters:[1024]-strides:[3]-kernel_size:[7]-drop:0.1-full:[512]-fulldrop:0.4-activation_full:['elu', 0.3]-depth_multiplier:5-lag:12-activation:tanh\",\"filters:[1024]-strides:[3]-kernel_size:[7]-drop:0.1-full:[512]-fulldrop:0.3-activation_full:['leaky', 0.2]-depth_multiplier:5-lag:12-activation:tanh\",\"filters:[1024]-strides:[3]-kernel_size:[7]-drop:0.1-full:[512]-fulldrop:0.4-activation_full:['leaky', 0.2]-depth_multiplier:5-lag:12-activation:tanh\",\"filters:[1024]-strides:[3]-kernel_size:[7]-drop:0.1-full:[2048]-fulldrop:0.3-activation_full:hard_sigmoid-depth_multiplier:5-lag:12-activation:tanh\",\"filters:[1024]-strides:[3]-kernel_size:[7]-drop:0.1-full:[2048]-fulldrop:0.3-activation_full:hard_sigmoid-depth_multiplier:5-lag:6-activation:tanh\",\"filters:[1024]-strides:[3]-kernel_size:[7]-drop:0.1-full:[2048]-fulldrop:0.4-activation_full:hard_sigmoid-depth_multiplier:5-lag:12-activation:tanh\",\"filters:[1024]-strides:[3]-kernel_size:[7]-drop:0.1-full:[2048]-fulldrop:0.4-activation_full:hard_sigmoid-depth_multiplier:5-lag:6-activation:tanh\",\"filters:[1024]-strides:[3]-kernel_size:[7]-drop:0.1-full:[1024]-fulldrop:0.3-activation_full:hard_sigmoid-depth_multiplier:5-lag:12-activation:tanh\",\"filters:[1024]-strides:[3]-kernel_size:[7]-drop:0.1-full:[512]-fulldrop:0.3-activation_full:hard_sigmoid-depth_multiplier:4-lag:12-activation:tanh\",\"filters:[1024]-strides:[3]-kernel_size:[7]-drop:0.1-full:[512]-fulldrop:0.3-activation_full:hard_sigmoid-depth_multiplier:5-lag:12-activation:tanh\",\"filters:[1024]-strides:[3]-kernel_size:[7]-drop:0.1-full:[512]-fulldrop:0.3-activation_full:hard_sigmoid-depth_multiplier:5-lag:6-activation:tanh\",\"filters:[1024]-strides:[3]-kernel_size:[7]-drop:0.1-full:[512]-fulldrop:0.3-activation_full:hard_sigmoid-depth_multiplier:3-lag:12-activation:tanh\",\"filters:[1024]-strides:[3]-kernel_size:[7]-drop:0.1-full:[512]-fulldrop:0.4-activation_full:hard_sigmoid-depth_multiplier:4-lag:12-activation:tanh\",\"filters:[1024]-strides:[3]-kernel_size:[7]-drop:0.1-full:[512]-fulldrop:0.4-activation_full:hard_sigmoid-depth_multiplier:4-lag:6-activation:tanh\",\"filters:[1024]-strides:[3]-kernel_size:[7]-drop:0.1-full:[512]-fulldrop:0.4-activation_full:hard_sigmoid-depth_multiplier:5-lag:12-activation:tanh\",\"filters:[1024]-strides:[3]-kernel_size:[7]-drop:0.1-full:[512]-fulldrop:0.4-activation_full:hard_sigmoid-depth_multiplier:5-lag:6-activation:tanh\",\"filters:[1024]-strides:[3]-kernel_size:[7]-drop:0.1-full:[512]-fulldrop:0.4-activation_full:hard_sigmoid-depth_multiplier:3-lag:12-activation:tanh\",\"filters:[1024]-strides:[3]-kernel_size:[7]-drop:0.1-full:[512]-fulldrop:0.4-activation_full:['prelu', 0.0]-depth_multiplier:5-lag:12-activation:tanh\",\"filters:[1024]-strides:[3]-kernel_size:[7]-drop:0.1-full:[512]-fulldrop:0.4-activation_full:['prelu', 0.0]-depth_multiplier:5-lag:6-activation:tanh\",\"filters:[1024]-strides:[3]-kernel_size:[7]-drop:0.4-full:[128]-fulldrop:0.3-activation_full:hard_sigmoid-depth_multiplier:4-lag:12-activation:tanh\",\"filters:[1024]-strides:[3]-kernel_size:[7]-drop:0.4-full:[512]-fulldrop:0.3-activation_full:hard_sigmoid-depth_multiplier:5-lag:6-activation:tanh\",\"filters:[1024]-strides:[3]-kernel_size:[7]-drop:0.2-full:[512]-fulldrop:0.3-activation_full:tanh-depth_multiplier:5-lag:12-activation:tanh\",\"filters:[1024]-strides:[3]-kernel_size:[7]-drop:0.2-full:[64, 32, 16]-fulldrop:0.1-activation_full:['leaky', 0.2]-depth_multiplier:2-lag:12-activation:tanh\",\"filters:[1024]-strides:[3]-kernel_size:[7]-drop:0.2-full:[2048]-fulldrop:0.3-activation_full:hard_sigmoid-depth_multiplier:5-lag:6-activation:tanh\",\"filters:[1024]-strides:[3]-kernel_size:[7]-drop:0.2-full:[512, 256]-fulldrop:0.3-activation_full:hard_sigmoid-depth_multiplier:5-lag:12-activation:tanh\",\"filters:[1024]-strides:[3]-kernel_size:[7]-drop:0.2-full:[512, 256]-fulldrop:0.3-activation_full:hard_sigmoid-depth_multiplier:5-lag:6-activation:tanh\",\"filters:[1024]-strides:[3]-kernel_size:[7]-drop:0.2-full:[512]-fulldrop:0.3-activation_full:hard_sigmoid-depth_multiplier:4-lag:12-activation:tanh\",\"filters:[1024]-strides:[3]-kernel_size:[7]-drop:0.2-full:[512]-fulldrop:0.3-activation_full:hard_sigmoid-depth_multiplier:5-lag:12-activation:tanh\",\"filters:[1024]-strides:[3]-kernel_size:[7]-drop:0.2-full:[512]-fulldrop:0.3-activation_full:hard_sigmoid-depth_multiplier:5-lag:30-activation:tanh\",\"filters:[1024]-strides:[3]-kernel_size:[7]-drop:0.2-full:[512]-fulldrop:0.3-activation_full:hard_sigmoid-depth_multiplier:3-lag:12-activation:tanh\",\"filters:[1024]-strides:[3]-kernel_size:[7]-drop:0.2-full:[512]-fulldrop:0.4-activation_full:hard_sigmoid-depth_multiplier:5-lag:12-activation:tanh\",\"filters:[1024]-strides:[3]-kernel_size:[7]-drop:0.2-full:[4096]-fulldrop:0.2-activation_full:hard_sigmoid-depth_multiplier:5-lag:12-activation:tanh\",\"filters:[1024]-strides:[3]-kernel_size:[7]-drop:0.2-full:[256, 128]-fulldrop:0.3-activation_full:hard_sigmoid-depth_multiplier:5-lag:12-activation:tanh\",\"filters:[1024]-strides:[3]-kernel_size:[7]-drop:0.5-full:[512]-fulldrop:0.4-activation_full:linear-depth_multiplier:5-lag:12-activation:tanh\",\"filters:[1024]-strides:[3]-kernel_size:[7]-drop:0.5-full:[512]-fulldrop:0.4-activation_full:['leaky', 0.2]-depth_multiplier:4-lag:12-activation:tanh\",\"filters:[1024]-strides:[3]-kernel_size:[7]-drop:0.5-full:[512]-fulldrop:0.4-activation_full:['leaky', 0.2]-depth_multiplier:5-lag:12-activation:tanh\",\"filters:[1024]-strides:[3]-kernel_size:[7]-drop:0.5-full:[2048]-fulldrop:0.5-activation_full:hard_sigmoid-depth_multiplier:5-lag:12-activation:tanh\",\"filters:[1024]-strides:[3]-kernel_size:[7]-drop:0.5-full:[2048]-fulldrop:0.4-activation_full:hard_sigmoid-depth_multiplier:5-lag:12-activation:tanh\",\"filters:[1024]-strides:[3]-kernel_size:[7]-drop:0.5-full:[512]-fulldrop:0.5-activation_full:hard_sigmoid-depth_multiplier:5-lag:12-activation:tanh\",\"filters:[1024]-strides:[3]-kernel_size:[7]-drop:0.5-full:[512]-fulldrop:0.3-activation_full:hard_sigmoid-depth_multiplier:5-lag:12-activation:tanh\",\"filters:[1024]-strides:[3]-kernel_size:[7]-drop:0.5-full:[512]-fulldrop:0.3-activation_full:hard_sigmoid-depth_multiplier:3-lag:12-activation:tanh\",\"filters:[1024]-strides:[3]-kernel_size:[7]-drop:0.5-full:[512]-fulldrop:0.3-activation_full:hard_sigmoid-depth_multiplier:3-lag:6-activation:tanh\",\"filters:[1024]-strides:[3]-kernel_size:[7]-drop:0.5-full:[512]-fulldrop:0.4-activation_full:hard_sigmoid-depth_multiplier:4-lag:12-activation:tanh\",\"filters:[1024]-strides:[3]-kernel_size:[7]-drop:0.5-full:[512]-fulldrop:0.4-activation_full:hard_sigmoid-depth_multiplier:5-lag:12-activation:tanh\",\"filters:[1024]-strides:[3]-kernel_size:[7]-drop:0.5-full:[512]-fulldrop:0.4-activation_full:hard_sigmoid-depth_multiplier:5-lag:6-activation:tanh\",\"filters:[1024]-strides:[3]-kernel_size:[7]-drop:0.5-full:[512]-fulldrop:0.4-activation_full:hard_sigmoid-depth_multiplier:3-lag:12-activation:tanh\",\"filters:[1024]-strides:[3]-kernel_size:[7]-drop:0.3-full:[512]-fulldrop:0.3-activation_full:hard_sigmoid-depth_multiplier:5-lag:12-activation:tanh\",\"filters:[1024]-strides:[3]-kernel_size:[7]-drop:0.3-full:[512]-fulldrop:0.3-activation_full:hard_sigmoid-depth_multiplier:5-lag:6-activation:tanh\",\"filters:[1024]-strides:[3]-kernel_size:[9]-drop:0.2-full:[64, 32]-fulldrop:0.3-activation_full:hard_sigmoid-depth_multiplier:5-lag:12-activation:tanh\",\"filters:[1024]-strides:[3]-kernel_size:[9]-drop:0.5-full:[2048]-fulldrop:0.4-activation_full:['leaky', 0.1]-depth_multiplier:4-lag:12-activation:tanh\",\"filters:[1024]-strides:[3]-kernel_size:[9]-drop:0.5-full:[1024]-fulldrop:0.4-activation_full:['leaky', 0.1]-depth_multiplier:4-lag:12-activation:tanh\",\"filters:[1024]-strides:[3]-kernel_size:[9]-drop:0.5-full:[512]-fulldrop:0.4-activation_full:['leaky', 0.1]-depth_multiplier:4-lag:12-activation:tanh\",\"filters:[1024]-strides:[3]-kernel_size:[9]-drop:0.5-full:[512]-fulldrop:0.4-activation_full:['leaky', 0.1]-depth_multiplier:3-lag:12-activation:tanh\",\"filters:[1024]-strides:[3]-kernel_size:[9]-drop:0.5-full:[2048]-fulldrop:0.3-activation_full:hard_sigmoid-depth_multiplier:5-lag:12-activation:tanh\",\"filters:[1024]-strides:[3]-kernel_size:[9]-drop:0.5-full:[2048]-fulldrop:0.4-activation_full:hard_sigmoid-depth_multiplier:5-lag:12-activation:tanh\",\"filters:[1024]-strides:[3]-kernel_size:[9]-drop:0.5-full:[512]-fulldrop:0.3-activation_full:hard_sigmoid-depth_multiplier:5-lag:12-activation:tanh\",\"filters:[1024]-strides:[3]-kernel_size:[9]-drop:0.5-full:[512]-fulldrop:0.4-activation_full:['prelu', 0.0]-depth_multiplier:5-lag:12-activation:tanh\",\"filters:[1024]-strides:[3]-kernel_size:[9]-drop:0.0-full:[256, 128]-fulldrop:0.0-activation_full:['elu', 0.4]-depth_multiplier:5-lag:18-activation:tanh\",\"filters:[32]-strides:[1]-kernel_size:[5]-drop:0.4-full:[512, 256, 128]-fulldrop:0.3-activation_full:tanh-depth_multiplier:3-lag:18-activation:tanh\",\"filters:[32]-strides:[1]-kernel_size:[7]-drop:0.4-full:[1024, 512, 256]-fulldrop:0.3-activation_full:tanh-depth_multiplier:3-lag:18-activation:tanh\",\"filters:[32]-strides:[1]-kernel_size:[3]-drop:0.4-full:[1024, 512, 256]-fulldrop:0.3-activation_full:tanh-depth_multiplier:4-lag:18-activation:tanh\",\"filters:[32]-strides:[1]-kernel_size:[3]-drop:0.4-full:[1024, 512, 256]-fulldrop:0.3-activation_full:tanh-depth_multiplier:5-lag:18-activation:tanh\",\"filters:[32]-strides:[1]-kernel_size:[3]-drop:0.4-full:[1024, 512, 256]-fulldrop:0.3-activation_full:tanh-depth_multiplier:3-lag:18-activation:tanh\",\"filters:[32]-strides:[1]-kernel_size:[3]-drop:0.4-full:[256, 128, 64]-fulldrop:0.3-activation_full:tanh-depth_multiplier:3-lag:18-activation:tanh\",\"filters:[32]-strides:[1]-kernel_size:[3]-drop:0.2-full:[1024, 512, 256]-fulldrop:0.3-activation_full:tanh-depth_multiplier:3-lag:18-activation:tanh\",\"filters:[32]-strides:[1]-kernel_size:[3]-drop:0.5-full:[1024, 512, 256]-fulldrop:0.3-activation_full:tanh-depth_multiplier:3-lag:18-activation:tanh\",\"filters:[32]-strides:[1]-kernel_size:[9]-drop:0.1-full:[64]-fulldrop:0.2-activation_full:['leaky', 0.2]-depth_multiplier:1-lag:6-activation:tanh\",\"filters:[32]-strides:[1]-kernel_size:[9]-drop:0.4-full:[1024, 512, 256]-fulldrop:0.3-activation_full:tanh-depth_multiplier:3-lag:18-activation:tanh\",\"filters:[32]-strides:[3]-kernel_size:[5]-drop:0.3-full:[4096, 2048]-fulldrop:0.3-activation_full:hard_sigmoid-depth_multiplier:1-lag:12-activation:tanh\",\"filters:[32]-strides:[3]-kernel_size:[7]-drop:0.2-full:[64, 32, 16]-fulldrop:0.1-activation_full:['leaky', 0.2]-depth_multiplier:2-lag:12-activation:tanh\",\"filters:[512]-strides:[1]-kernel_size:[7]-drop:0.1-full:[1024, 512, 256]-fulldrop:0.1-activation_full:linear-depth_multiplier:1-lag:18-activation:tanh\",\"filters:[512]-strides:[1]-kernel_size:[7]-drop:0.1-full:[2048, 1024]-fulldrop:0.4-activation_full:['leaky', 0.2]-depth_multiplier:5-lag:24-activation:tanh\",\"filters:[512]-strides:[1]-kernel_size:[7]-drop:0.1-full:[2048, 1024]-fulldrop:0.4-activation_full:hard_sigmoid-depth_multiplier:5-lag:6-activation:tanh\",\"filters:[512]-strides:[1]-kernel_size:[3]-drop:0.5-full:[64]-fulldrop:0.3-activation_full:tanh-depth_multiplier:5-lag:18-activation:tanh\",\"filters:[512]-strides:[1]-kernel_size:[1]-drop:0.4-full:[64]-fulldrop:0.3-activation_full:['prelu', 0.0]-depth_multiplier:4-lag:6-activation:tanh\",\"filters:[512]-strides:[2]-kernel_size:[1]-drop:0.4-full:[1024, 512, 256]-fulldrop:0.5-activation_full:['elu', 0.3]-depth_multiplier:2-lag:18-activation:tanh\",\"filters:[512]-strides:[3]-kernel_size:[7]-drop:0.1-full:[2048, 1024]-fulldrop:0.4-activation_full:['leaky', 0.2]-depth_multiplier:5-lag:24-activation:tanh\",\"filters:[512]-strides:[3]-kernel_size:[7]-drop:0.0-full:[128, 64]-fulldrop:0.1-activation_full:['leaky', 0.2]-depth_multiplier:3-lag:12-activation:tanh\",\"filters:[512]-strides:[3]-kernel_size:[1]-drop:0.1-full:[512, 256]-fulldrop:0.3-activation_full:['elu', 0.4]-depth_multiplier:2-lag:12-activation:tanh\",\"filters:[16]-strides:[1]-kernel_size:[1]-drop:0.2-full:[2048]-fulldrop:0.5-activation_full:['elu', 0.3]-depth_multiplier:1-lag:24-activation:tanh\",\"filters:[16]-strides:[1]-kernel_size:[1]-drop:0.5-full:[128, 64, 32]-fulldrop:0.2-activation_full:hard_sigmoid-depth_multiplier:4-lag:24-activation:tanh\",\"filters:[16]-strides:[1]-kernel_size:[9]-drop:0.5-full:[64, 32]-fulldrop:0.0-activation_full:['elu', 0.3]-depth_multiplier:5-lag:24-activation:tanh\",\"filters:[16]-strides:[2]-kernel_size:[5]-drop:0.0-full:[128, 64]-fulldrop:0.1-activation_full:['leaky', 0.1]-depth_multiplier:3-lag:30-activation:tanh\",\"filters:[16]-strides:[2]-kernel_size:[3]-drop:0.0-full:[32, 16, 8]-fulldrop:0.3-activation_full:['leaky', 0.2]-depth_multiplier:5-lag:30-activation:tanh\",\"filters:[16]-strides:[2]-kernel_size:[1]-drop:0.3-full:[64]-fulldrop:0.1-activation_full:relu-depth_multiplier:4-lag:30-activation:tanh\",\"filters:[16]-strides:[3]-kernel_size:[3]-drop:0.2-full:[512]-fulldrop:0.4-activation_full:['prelu', 0.0]-depth_multiplier:3-lag:6-activation:tanh\",\"filters:[16]-strides:[3]-kernel_size:[9]-drop:0.1-full:[64]-fulldrop:0.2-activation_full:hard_sigmoid-depth_multiplier:5-lag:12-activation:tanh\",\"filters:[16]-strides:[3]-kernel_size:[9]-drop:0.4-full:[4096, 2048]-fulldrop:0.0-activation_full:linear-depth_multiplier:1-lag:30-activation:tanh\",\"filters:[128]-strides:[1]-kernel_size:[3]-drop:0.2-full:[128]-fulldrop:0.5-activation_full:linear-depth_multiplier:4-lag:30-activation:tanh\",\"filters:[128]-strides:[2]-kernel_size:[7]-drop:0.5-full:[64]-fulldrop:0.2-activation_full:['leaky', 0.2]-depth_multiplier:5-lag:30-activation:tanh\",\"filters:[128]-strides:[2]-kernel_size:[1]-drop:0.2-full:[256, 128]-fulldrop:0.4-activation_full:['elu', 0.3]-depth_multiplier:1-lag:18-activation:tanh\"],\"type\":\"scatter\",\"x\":[],\"y\":[]}],                        {\"template\":{\"data\":{\"bar\":[{\"error_x\":{\"color\":\"#2a3f5f\"},\"error_y\":{\"color\":\"#2a3f5f\"},\"marker\":{\"line\":{\"color\":\"#E5ECF6\",\"width\":0.5},\"pattern\":{\"fillmode\":\"overlay\",\"size\":10,\"solidity\":0.2}},\"type\":\"bar\"}],\"barpolar\":[{\"marker\":{\"line\":{\"color\":\"#E5ECF6\",\"width\":0.5},\"pattern\":{\"fillmode\":\"overlay\",\"size\":10,\"solidity\":0.2}},\"type\":\"barpolar\"}],\"carpet\":[{\"aaxis\":{\"endlinecolor\":\"#2a3f5f\",\"gridcolor\":\"white\",\"linecolor\":\"white\",\"minorgridcolor\":\"white\",\"startlinecolor\":\"#2a3f5f\"},\"baxis\":{\"endlinecolor\":\"#2a3f5f\",\"gridcolor\":\"white\",\"linecolor\":\"white\",\"minorgridcolor\":\"white\",\"startlinecolor\":\"#2a3f5f\"},\"type\":\"carpet\"}],\"choropleth\":[{\"colorbar\":{\"outlinewidth\":0,\"ticks\":\"\"},\"type\":\"choropleth\"}],\"contour\":[{\"colorbar\":{\"outlinewidth\":0,\"ticks\":\"\"},\"colorscale\":[[0.0,\"#0d0887\"],[0.1111111111111111,\"#46039f\"],[0.2222222222222222,\"#7201a8\"],[0.3333333333333333,\"#9c179e\"],[0.4444444444444444,\"#bd3786\"],[0.5555555555555556,\"#d8576b\"],[0.6666666666666666,\"#ed7953\"],[0.7777777777777778,\"#fb9f3a\"],[0.8888888888888888,\"#fdca26\"],[1.0,\"#f0f921\"]],\"type\":\"contour\"}],\"contourcarpet\":[{\"colorbar\":{\"outlinewidth\":0,\"ticks\":\"\"},\"type\":\"contourcarpet\"}],\"heatmap\":[{\"colorbar\":{\"outlinewidth\":0,\"ticks\":\"\"},\"colorscale\":[[0.0,\"#0d0887\"],[0.1111111111111111,\"#46039f\"],[0.2222222222222222,\"#7201a8\"],[0.3333333333333333,\"#9c179e\"],[0.4444444444444444,\"#bd3786\"],[0.5555555555555556,\"#d8576b\"],[0.6666666666666666,\"#ed7953\"],[0.7777777777777778,\"#fb9f3a\"],[0.8888888888888888,\"#fdca26\"],[1.0,\"#f0f921\"]],\"type\":\"heatmap\"}],\"heatmapgl\":[{\"colorbar\":{\"outlinewidth\":0,\"ticks\":\"\"},\"colorscale\":[[0.0,\"#0d0887\"],[0.1111111111111111,\"#46039f\"],[0.2222222222222222,\"#7201a8\"],[0.3333333333333333,\"#9c179e\"],[0.4444444444444444,\"#bd3786\"],[0.5555555555555556,\"#d8576b\"],[0.6666666666666666,\"#ed7953\"],[0.7777777777777778,\"#fb9f3a\"],[0.8888888888888888,\"#fdca26\"],[1.0,\"#f0f921\"]],\"type\":\"heatmapgl\"}],\"histogram\":[{\"marker\":{\"pattern\":{\"fillmode\":\"overlay\",\"size\":10,\"solidity\":0.2}},\"type\":\"histogram\"}],\"histogram2d\":[{\"colorbar\":{\"outlinewidth\":0,\"ticks\":\"\"},\"colorscale\":[[0.0,\"#0d0887\"],[0.1111111111111111,\"#46039f\"],[0.2222222222222222,\"#7201a8\"],[0.3333333333333333,\"#9c179e\"],[0.4444444444444444,\"#bd3786\"],[0.5555555555555556,\"#d8576b\"],[0.6666666666666666,\"#ed7953\"],[0.7777777777777778,\"#fb9f3a\"],[0.8888888888888888,\"#fdca26\"],[1.0,\"#f0f921\"]],\"type\":\"histogram2d\"}],\"histogram2dcontour\":[{\"colorbar\":{\"outlinewidth\":0,\"ticks\":\"\"},\"colorscale\":[[0.0,\"#0d0887\"],[0.1111111111111111,\"#46039f\"],[0.2222222222222222,\"#7201a8\"],[0.3333333333333333,\"#9c179e\"],[0.4444444444444444,\"#bd3786\"],[0.5555555555555556,\"#d8576b\"],[0.6666666666666666,\"#ed7953\"],[0.7777777777777778,\"#fb9f3a\"],[0.8888888888888888,\"#fdca26\"],[1.0,\"#f0f921\"]],\"type\":\"histogram2dcontour\"}],\"mesh3d\":[{\"colorbar\":{\"outlinewidth\":0,\"ticks\":\"\"},\"type\":\"mesh3d\"}],\"parcoords\":[{\"line\":{\"colorbar\":{\"outlinewidth\":0,\"ticks\":\"\"}},\"type\":\"parcoords\"}],\"pie\":[{\"automargin\":true,\"type\":\"pie\"}],\"scatter\":[{\"marker\":{\"colorbar\":{\"outlinewidth\":0,\"ticks\":\"\"}},\"type\":\"scatter\"}],\"scatter3d\":[{\"line\":{\"colorbar\":{\"outlinewidth\":0,\"ticks\":\"\"}},\"marker\":{\"colorbar\":{\"outlinewidth\":0,\"ticks\":\"\"}},\"type\":\"scatter3d\"}],\"scattercarpet\":[{\"marker\":{\"colorbar\":{\"outlinewidth\":0,\"ticks\":\"\"}},\"type\":\"scattercarpet\"}],\"scattergeo\":[{\"marker\":{\"colorbar\":{\"outlinewidth\":0,\"ticks\":\"\"}},\"type\":\"scattergeo\"}],\"scattergl\":[{\"marker\":{\"colorbar\":{\"outlinewidth\":0,\"ticks\":\"\"}},\"type\":\"scattergl\"}],\"scattermapbox\":[{\"marker\":{\"colorbar\":{\"outlinewidth\":0,\"ticks\":\"\"}},\"type\":\"scattermapbox\"}],\"scatterpolar\":[{\"marker\":{\"colorbar\":{\"outlinewidth\":0,\"ticks\":\"\"}},\"type\":\"scatterpolar\"}],\"scatterpolargl\":[{\"marker\":{\"colorbar\":{\"outlinewidth\":0,\"ticks\":\"\"}},\"type\":\"scatterpolargl\"}],\"scatterternary\":[{\"marker\":{\"colorbar\":{\"outlinewidth\":0,\"ticks\":\"\"}},\"type\":\"scatterternary\"}],\"surface\":[{\"colorbar\":{\"outlinewidth\":0,\"ticks\":\"\"},\"colorscale\":[[0.0,\"#0d0887\"],[0.1111111111111111,\"#46039f\"],[0.2222222222222222,\"#7201a8\"],[0.3333333333333333,\"#9c179e\"],[0.4444444444444444,\"#bd3786\"],[0.5555555555555556,\"#d8576b\"],[0.6666666666666666,\"#ed7953\"],[0.7777777777777778,\"#fb9f3a\"],[0.8888888888888888,\"#fdca26\"],[1.0,\"#f0f921\"]],\"type\":\"surface\"}],\"table\":[{\"cells\":{\"fill\":{\"color\":\"#EBF0F8\"},\"line\":{\"color\":\"white\"}},\"header\":{\"fill\":{\"color\":\"#C8D4E3\"},\"line\":{\"color\":\"white\"}},\"type\":\"table\"}]},\"layout\":{\"annotationdefaults\":{\"arrowcolor\":\"#2a3f5f\",\"arrowhead\":0,\"arrowwidth\":1},\"autotypenumbers\":\"strict\",\"coloraxis\":{\"colorbar\":{\"outlinewidth\":0,\"ticks\":\"\"}},\"colorscale\":{\"diverging\":[[0,\"#8e0152\"],[0.1,\"#c51b7d\"],[0.2,\"#de77ae\"],[0.3,\"#f1b6da\"],[0.4,\"#fde0ef\"],[0.5,\"#f7f7f7\"],[0.6,\"#e6f5d0\"],[0.7,\"#b8e186\"],[0.8,\"#7fbc41\"],[0.9,\"#4d9221\"],[1,\"#276419\"]],\"sequential\":[[0.0,\"#0d0887\"],[0.1111111111111111,\"#46039f\"],[0.2222222222222222,\"#7201a8\"],[0.3333333333333333,\"#9c179e\"],[0.4444444444444444,\"#bd3786\"],[0.5555555555555556,\"#d8576b\"],[0.6666666666666666,\"#ed7953\"],[0.7777777777777778,\"#fb9f3a\"],[0.8888888888888888,\"#fdca26\"],[1.0,\"#f0f921\"]],\"sequentialminus\":[[0.0,\"#0d0887\"],[0.1111111111111111,\"#46039f\"],[0.2222222222222222,\"#7201a8\"],[0.3333333333333333,\"#9c179e\"],[0.4444444444444444,\"#bd3786\"],[0.5555555555555556,\"#d8576b\"],[0.6666666666666666,\"#ed7953\"],[0.7777777777777778,\"#fb9f3a\"],[0.8888888888888888,\"#fdca26\"],[1.0,\"#f0f921\"]]},\"colorway\":[\"#636efa\",\"#EF553B\",\"#00cc96\",\"#ab63fa\",\"#FFA15A\",\"#19d3f3\",\"#FF6692\",\"#B6E880\",\"#FF97FF\",\"#FECB52\"],\"font\":{\"color\":\"#2a3f5f\"},\"geo\":{\"bgcolor\":\"white\",\"lakecolor\":\"white\",\"landcolor\":\"#E5ECF6\",\"showlakes\":true,\"showland\":true,\"subunitcolor\":\"white\"},\"hoverlabel\":{\"align\":\"left\"},\"hovermode\":\"closest\",\"mapbox\":{\"style\":\"light\"},\"paper_bgcolor\":\"white\",\"plot_bgcolor\":\"#E5ECF6\",\"polar\":{\"angularaxis\":{\"gridcolor\":\"white\",\"linecolor\":\"white\",\"ticks\":\"\"},\"bgcolor\":\"#E5ECF6\",\"radialaxis\":{\"gridcolor\":\"white\",\"linecolor\":\"white\",\"ticks\":\"\"}},\"scene\":{\"xaxis\":{\"backgroundcolor\":\"#E5ECF6\",\"gridcolor\":\"white\",\"gridwidth\":2,\"linecolor\":\"white\",\"showbackground\":true,\"ticks\":\"\",\"zerolinecolor\":\"white\"},\"yaxis\":{\"backgroundcolor\":\"#E5ECF6\",\"gridcolor\":\"white\",\"gridwidth\":2,\"linecolor\":\"white\",\"showbackground\":true,\"ticks\":\"\",\"zerolinecolor\":\"white\"},\"zaxis\":{\"backgroundcolor\":\"#E5ECF6\",\"gridcolor\":\"white\",\"gridwidth\":2,\"linecolor\":\"white\",\"showbackground\":true,\"ticks\":\"\",\"zerolinecolor\":\"white\"}},\"shapedefaults\":{\"line\":{\"color\":\"#2a3f5f\"}},\"ternary\":{\"aaxis\":{\"gridcolor\":\"white\",\"linecolor\":\"white\",\"ticks\":\"\"},\"baxis\":{\"gridcolor\":\"white\",\"linecolor\":\"white\",\"ticks\":\"\"},\"bgcolor\":\"#E5ECF6\",\"caxis\":{\"gridcolor\":\"white\",\"linecolor\":\"white\",\"ticks\":\"\"}},\"title\":{\"x\":0.05},\"xaxis\":{\"automargin\":true,\"gridcolor\":\"white\",\"linecolor\":\"white\",\"ticks\":\"\",\"title\":{\"standoff\":15},\"zerolinecolor\":\"white\",\"zerolinewidth\":2},\"yaxis\":{\"automargin\":true,\"gridcolor\":\"white\",\"linecolor\":\"white\",\"ticks\":\"\",\"title\":{\"standoff\":15},\"zerolinecolor\":\"white\",\"zerolinewidth\":2}}}},                        {\"responsive\": true}                    ).then(function(){\n",
       "                            \n",
       "var gd = document.getElementById('c8c3054e-c655-4dd0-bf0f-b64a0e91e511');\n",
       "var x = new MutationObserver(function (mutations, observer) {{\n",
       "        var display = window.getComputedStyle(gd).display;\n",
       "        if (!display || display === 'none') {{\n",
       "            console.log([gd, 'removed!']);\n",
       "            Plotly.purge(gd);\n",
       "            observer.disconnect();\n",
       "        }}\n",
       "}});\n",
       "\n",
       "// Listen for the removal of the full notebook cells\n",
       "var notebookContainer = gd.closest('#notebook-container');\n",
       "if (notebookContainer) {{\n",
       "    x.observe(notebookContainer, {childList: true});\n",
       "}}\n",
       "\n",
       "// Listen for the clearing of the current output cell\n",
       "var outputEl = gd.closest('.output');\n",
       "if (outputEl) {{\n",
       "    x.observe(outputEl, {childList: true});\n",
       "}}\n",
       "\n",
       "                        })                };                });            </script>        </div>"
      ]
     },
     "metadata": {},
     "output_type": "display_data"
    }
   ],
   "source": [
    "results.results_dataframe_graph(facet='activation',att=['filters','strides','kernel_size','drop','full','fulldrop', 'activation_full', 'depth_multiplier','lag'], count=True, threshold=7.23)"
   ]
  },
  {
   "cell_type": "markdown",
   "metadata": {},
   "source": [
    "# CNN s2s sep many"
   ]
  },
  {
   "cell_type": "code",
   "execution_count": 3,
   "metadata": {},
   "outputs": [],
   "source": [
    "query={'experiment':'CNN_sep_many','status':'done'}\n",
    "\n",
    "results = DBResults(conn=mongolocaltest)\n",
    "#results = DBResults()\n",
    "results.results_dataframe_retrieve(query, arch=['filters','strides','kernel_size', 'activation','drop', 'activation_full','full','fulldrop', 'depth_multiplier'], data=['lag','radius','corr','nneighbors'])\n"
   ]
  },
  {
   "cell_type": "code",
   "execution_count": 4,
   "metadata": {},
   "outputs": [
    {
     "name": "stdout",
     "output_type": "stream",
     "text": [
      "8765\n",
      "Total=162 Thres=15\n"
     ]
    },
    {
     "data": {
      "text/html": [
       "<style type=\"text/css\">\n",
       "#T_0e666_row0_col0, #T_0e666_row0_col1, #T_0e666_row0_col2, #T_0e666_row0_col3, #T_0e666_row0_col4, #T_0e666_row0_col6, #T_0e666_row0_col7, #T_0e666_row0_col9, #T_0e666_row0_col10, #T_0e666_row0_col11, #T_0e666_row0_col12, #T_0e666_row0_col14, #T_0e666_row1_col0, #T_0e666_row1_col1, #T_0e666_row1_col2, #T_0e666_row1_col3, #T_0e666_row1_col4, #T_0e666_row1_col5, #T_0e666_row1_col6, #T_0e666_row1_col7, #T_0e666_row1_col11, #T_0e666_row1_col12, #T_0e666_row1_col14, #T_0e666_row2_col0, #T_0e666_row2_col1, #T_0e666_row2_col2, #T_0e666_row2_col3, #T_0e666_row2_col4, #T_0e666_row2_col5, #T_0e666_row2_col6, #T_0e666_row2_col7, #T_0e666_row2_col9, #T_0e666_row2_col10, #T_0e666_row2_col11, #T_0e666_row2_col12, #T_0e666_row2_col14, #T_0e666_row3_col0, #T_0e666_row3_col1, #T_0e666_row3_col3, #T_0e666_row3_col4, #T_0e666_row3_col6, #T_0e666_row3_col7, #T_0e666_row3_col9, #T_0e666_row3_col11, #T_0e666_row3_col12, #T_0e666_row4_col0, #T_0e666_row4_col1, #T_0e666_row4_col3, #T_0e666_row4_col4, #T_0e666_row4_col6, #T_0e666_row4_col7, #T_0e666_row4_col8, #T_0e666_row4_col9, #T_0e666_row4_col11, #T_0e666_row4_col12, #T_0e666_row4_col14, #T_0e666_row5_col0, #T_0e666_row5_col1, #T_0e666_row5_col3, #T_0e666_row5_col4, #T_0e666_row5_col5, #T_0e666_row5_col6, #T_0e666_row5_col7, #T_0e666_row5_col10, #T_0e666_row5_col11, #T_0e666_row5_col12, #T_0e666_row5_col14, #T_0e666_row6_col0, #T_0e666_row6_col1, #T_0e666_row6_col3, #T_0e666_row6_col4, #T_0e666_row6_col5, #T_0e666_row6_col6, #T_0e666_row6_col7, #T_0e666_row6_col11, #T_0e666_row6_col12, #T_0e666_row6_col14, #T_0e666_row7_col0, #T_0e666_row7_col1, #T_0e666_row7_col3, #T_0e666_row7_col4, #T_0e666_row7_col5, #T_0e666_row7_col6, #T_0e666_row7_col7, #T_0e666_row7_col11, #T_0e666_row7_col12, #T_0e666_row7_col14, #T_0e666_row7_col15, #T_0e666_row8_col0, #T_0e666_row8_col1, #T_0e666_row8_col3, #T_0e666_row8_col4, #T_0e666_row8_col5, #T_0e666_row8_col6, #T_0e666_row8_col7, #T_0e666_row8_col9, #T_0e666_row8_col11, #T_0e666_row8_col12, #T_0e666_row8_col14, #T_0e666_row9_col0, #T_0e666_row9_col1, #T_0e666_row9_col3, #T_0e666_row9_col4, #T_0e666_row9_col5, #T_0e666_row9_col6, #T_0e666_row9_col7, #T_0e666_row9_col8, #T_0e666_row9_col11, #T_0e666_row9_col12, #T_0e666_row9_col14, #T_0e666_row10_col0, #T_0e666_row10_col1, #T_0e666_row10_col3, #T_0e666_row10_col4, #T_0e666_row10_col5, #T_0e666_row10_col6, #T_0e666_row10_col7, #T_0e666_row10_col8, #T_0e666_row10_col9, #T_0e666_row10_col11, #T_0e666_row10_col12, #T_0e666_row10_col14, #T_0e666_row11_col0, #T_0e666_row11_col1, #T_0e666_row11_col3, #T_0e666_row11_col4, #T_0e666_row11_col5, #T_0e666_row11_col7, #T_0e666_row11_col8, #T_0e666_row11_col11, #T_0e666_row11_col12, #T_0e666_row12_col0, #T_0e666_row12_col1, #T_0e666_row12_col3, #T_0e666_row12_col4, #T_0e666_row12_col6, #T_0e666_row12_col7, #T_0e666_row12_col9, #T_0e666_row12_col11, #T_0e666_row12_col12, #T_0e666_row12_col14, #T_0e666_row13_col0, #T_0e666_row13_col1, #T_0e666_row13_col3, #T_0e666_row13_col4, #T_0e666_row13_col5, #T_0e666_row13_col6, #T_0e666_row13_col7, #T_0e666_row13_col9, #T_0e666_row13_col11, #T_0e666_row13_col12, #T_0e666_row13_col13, #T_0e666_row13_col14, #T_0e666_row14_col1, #T_0e666_row14_col2, #T_0e666_row14_col3, #T_0e666_row14_col4, #T_0e666_row14_col5, #T_0e666_row14_col6, #T_0e666_row14_col7, #T_0e666_row14_col9, #T_0e666_row14_col11, #T_0e666_row14_col12, #T_0e666_row14_col14 {\n",
       "  background-color: yellow;\n",
       "}\n",
       "</style>\n",
       "<table id=\"T_0e666_\">\n",
       "  <thead>\n",
       "    <tr>\n",
       "      <th class=\"blank level0\" >&nbsp;</th>\n",
       "      <th class=\"col_heading level0 col0\" >filters</th>\n",
       "      <th class=\"col_heading level0 col1\" >strides</th>\n",
       "      <th class=\"col_heading level0 col2\" >kernel_size</th>\n",
       "      <th class=\"col_heading level0 col3\" >activation</th>\n",
       "      <th class=\"col_heading level0 col4\" >drop</th>\n",
       "      <th class=\"col_heading level0 col5\" >activation_full</th>\n",
       "      <th class=\"col_heading level0 col6\" >full</th>\n",
       "      <th class=\"col_heading level0 col7\" >fulldrop</th>\n",
       "      <th class=\"col_heading level0 col8\" >depth_multiplier</th>\n",
       "      <th class=\"col_heading level0 col9\" >lag</th>\n",
       "      <th class=\"col_heading level0 col10\" >radius</th>\n",
       "      <th class=\"col_heading level0 col11\" >corr</th>\n",
       "      <th class=\"col_heading level0 col12\" >nneighbors</th>\n",
       "      <th class=\"col_heading level0 col13\" colspan=\"2\">test</th>\n",
       "      <th class=\"col_heading level0 col15\" >val</th>\n",
       "    </tr>\n",
       "    <tr>\n",
       "      <th class=\"blank level1\" >&nbsp;</th>\n",
       "      <th class=\"col_heading level1 col0\" ></th>\n",
       "      <th class=\"col_heading level1 col1\" ></th>\n",
       "      <th class=\"col_heading level1 col2\" ></th>\n",
       "      <th class=\"col_heading level1 col3\" ></th>\n",
       "      <th class=\"col_heading level1 col4\" ></th>\n",
       "      <th class=\"col_heading level1 col5\" ></th>\n",
       "      <th class=\"col_heading level1 col6\" ></th>\n",
       "      <th class=\"col_heading level1 col7\" ></th>\n",
       "      <th class=\"col_heading level1 col8\" ></th>\n",
       "      <th class=\"col_heading level1 col9\" ></th>\n",
       "      <th class=\"col_heading level1 col10\" ></th>\n",
       "      <th class=\"col_heading level1 col11\" ></th>\n",
       "      <th class=\"col_heading level1 col12\" ></th>\n",
       "      <th class=\"col_heading level1 col13\" >mean</th>\n",
       "      <th class=\"col_heading level1 col14\" >count</th>\n",
       "      <th class=\"col_heading level1 col15\" >mean</th>\n",
       "    </tr>\n",
       "  </thead>\n",
       "  <tbody>\n",
       "    <tr>\n",
       "      <th id=\"T_0e666_level0_row0\" class=\"row_heading level0 row0\" >28</th>\n",
       "      <td id=\"T_0e666_row0_col0\" class=\"data row0 col0\" >[512]</td>\n",
       "      <td id=\"T_0e666_row0_col1\" class=\"data row0 col1\" >[3]</td>\n",
       "      <td id=\"T_0e666_row0_col2\" class=\"data row0 col2\" >[9]</td>\n",
       "      <td id=\"T_0e666_row0_col3\" class=\"data row0 col3\" >['leaky', 0.2]</td>\n",
       "      <td id=\"T_0e666_row0_col4\" class=\"data row0 col4\" >0.5</td>\n",
       "      <td id=\"T_0e666_row0_col5\" class=\"data row0 col5\" >['elu', 0.4]</td>\n",
       "      <td id=\"T_0e666_row0_col6\" class=\"data row0 col6\" >[512]</td>\n",
       "      <td id=\"T_0e666_row0_col7\" class=\"data row0 col7\" >0.0</td>\n",
       "      <td id=\"T_0e666_row0_col8\" class=\"data row0 col8\" >5</td>\n",
       "      <td id=\"T_0e666_row0_col9\" class=\"data row0 col9\" >6</td>\n",
       "      <td id=\"T_0e666_row0_col10\" class=\"data row0 col10\" >2</td>\n",
       "      <td id=\"T_0e666_row0_col11\" class=\"data row0 col11\" >[0.75, 0.95]</td>\n",
       "      <td id=\"T_0e666_row0_col12\" class=\"data row0 col12\" >300</td>\n",
       "      <td id=\"T_0e666_row0_col13\" class=\"data row0 col13\" >7.653971</td>\n",
       "      <td id=\"T_0e666_row0_col14\" class=\"data row0 col14\" >100</td>\n",
       "      <td id=\"T_0e666_row0_col15\" class=\"data row0 col15\" >7.421524</td>\n",
       "    </tr>\n",
       "    <tr>\n",
       "      <th id=\"T_0e666_level0_row1\" class=\"row_heading level0 row1\" >29</th>\n",
       "      <td id=\"T_0e666_row1_col0\" class=\"data row1 col0\" >[512]</td>\n",
       "      <td id=\"T_0e666_row1_col1\" class=\"data row1 col1\" >[3]</td>\n",
       "      <td id=\"T_0e666_row1_col2\" class=\"data row1 col2\" >[9]</td>\n",
       "      <td id=\"T_0e666_row1_col3\" class=\"data row1 col3\" >['leaky', 0.2]</td>\n",
       "      <td id=\"T_0e666_row1_col4\" class=\"data row1 col4\" >0.5</td>\n",
       "      <td id=\"T_0e666_row1_col5\" class=\"data row1 col5\" >['leaky', 0.2]</td>\n",
       "      <td id=\"T_0e666_row1_col6\" class=\"data row1 col6\" >[512]</td>\n",
       "      <td id=\"T_0e666_row1_col7\" class=\"data row1 col7\" >0.0</td>\n",
       "      <td id=\"T_0e666_row1_col8\" class=\"data row1 col8\" >5</td>\n",
       "      <td id=\"T_0e666_row1_col9\" class=\"data row1 col9\" >3</td>\n",
       "      <td id=\"T_0e666_row1_col10\" class=\"data row1 col10\" >1.5</td>\n",
       "      <td id=\"T_0e666_row1_col11\" class=\"data row1 col11\" >[0.75, 0.95]</td>\n",
       "      <td id=\"T_0e666_row1_col12\" class=\"data row1 col12\" >300</td>\n",
       "      <td id=\"T_0e666_row1_col13\" class=\"data row1 col13\" >7.650630</td>\n",
       "      <td id=\"T_0e666_row1_col14\" class=\"data row1 col14\" >100</td>\n",
       "      <td id=\"T_0e666_row1_col15\" class=\"data row1 col15\" >7.434136</td>\n",
       "    </tr>\n",
       "    <tr>\n",
       "      <th id=\"T_0e666_level0_row2\" class=\"row_heading level0 row2\" >30</th>\n",
       "      <td id=\"T_0e666_row2_col0\" class=\"data row2 col0\" >[512]</td>\n",
       "      <td id=\"T_0e666_row2_col1\" class=\"data row2 col1\" >[3]</td>\n",
       "      <td id=\"T_0e666_row2_col2\" class=\"data row2 col2\" >[9]</td>\n",
       "      <td id=\"T_0e666_row2_col3\" class=\"data row2 col3\" >['leaky', 0.2]</td>\n",
       "      <td id=\"T_0e666_row2_col4\" class=\"data row2 col4\" >0.5</td>\n",
       "      <td id=\"T_0e666_row2_col5\" class=\"data row2 col5\" >['leaky', 0.2]</td>\n",
       "      <td id=\"T_0e666_row2_col6\" class=\"data row2 col6\" >[512]</td>\n",
       "      <td id=\"T_0e666_row2_col7\" class=\"data row2 col7\" >0.0</td>\n",
       "      <td id=\"T_0e666_row2_col8\" class=\"data row2 col8\" >5</td>\n",
       "      <td id=\"T_0e666_row2_col9\" class=\"data row2 col9\" >6</td>\n",
       "      <td id=\"T_0e666_row2_col10\" class=\"data row2 col10\" >2</td>\n",
       "      <td id=\"T_0e666_row2_col11\" class=\"data row2 col11\" >[0.75, 0.95]</td>\n",
       "      <td id=\"T_0e666_row2_col12\" class=\"data row2 col12\" >300</td>\n",
       "      <td id=\"T_0e666_row2_col13\" class=\"data row2 col13\" >7.653073</td>\n",
       "      <td id=\"T_0e666_row2_col14\" class=\"data row2 col14\" >100</td>\n",
       "      <td id=\"T_0e666_row2_col15\" class=\"data row2 col15\" >7.424967</td>\n",
       "    </tr>\n",
       "    <tr>\n",
       "      <th id=\"T_0e666_level0_row3\" class=\"row_heading level0 row3\" >49</th>\n",
       "      <td id=\"T_0e666_row3_col0\" class=\"data row3 col0\" >[512]</td>\n",
       "      <td id=\"T_0e666_row3_col1\" class=\"data row3 col1\" >[3]</td>\n",
       "      <td id=\"T_0e666_row3_col2\" class=\"data row3 col2\" >[7]</td>\n",
       "      <td id=\"T_0e666_row3_col3\" class=\"data row3 col3\" >['leaky', 0.2]</td>\n",
       "      <td id=\"T_0e666_row3_col4\" class=\"data row3 col4\" >0.5</td>\n",
       "      <td id=\"T_0e666_row3_col5\" class=\"data row3 col5\" >['elu', 0.4]</td>\n",
       "      <td id=\"T_0e666_row3_col6\" class=\"data row3 col6\" >[512]</td>\n",
       "      <td id=\"T_0e666_row3_col7\" class=\"data row3 col7\" >0.0</td>\n",
       "      <td id=\"T_0e666_row3_col8\" class=\"data row3 col8\" >4</td>\n",
       "      <td id=\"T_0e666_row3_col9\" class=\"data row3 col9\" >6</td>\n",
       "      <td id=\"T_0e666_row3_col10\" class=\"data row3 col10\" >1.5</td>\n",
       "      <td id=\"T_0e666_row3_col11\" class=\"data row3 col11\" >[0.75, 0.95]</td>\n",
       "      <td id=\"T_0e666_row3_col12\" class=\"data row3 col12\" >300</td>\n",
       "      <td id=\"T_0e666_row3_col13\" class=\"data row3 col13\" >7.654403</td>\n",
       "      <td id=\"T_0e666_row3_col14\" class=\"data row3 col14\" >79</td>\n",
       "      <td id=\"T_0e666_row3_col15\" class=\"data row3 col15\" >7.412164</td>\n",
       "    </tr>\n",
       "    <tr>\n",
       "      <th id=\"T_0e666_level0_row4\" class=\"row_heading level0 row4\" >51</th>\n",
       "      <td id=\"T_0e666_row4_col0\" class=\"data row4 col0\" >[512]</td>\n",
       "      <td id=\"T_0e666_row4_col1\" class=\"data row4 col1\" >[3]</td>\n",
       "      <td id=\"T_0e666_row4_col2\" class=\"data row4 col2\" >[7]</td>\n",
       "      <td id=\"T_0e666_row4_col3\" class=\"data row4 col3\" >['leaky', 0.2]</td>\n",
       "      <td id=\"T_0e666_row4_col4\" class=\"data row4 col4\" >0.5</td>\n",
       "      <td id=\"T_0e666_row4_col5\" class=\"data row4 col5\" >['elu', 0.4]</td>\n",
       "      <td id=\"T_0e666_row4_col6\" class=\"data row4 col6\" >[512]</td>\n",
       "      <td id=\"T_0e666_row4_col7\" class=\"data row4 col7\" >0.0</td>\n",
       "      <td id=\"T_0e666_row4_col8\" class=\"data row4 col8\" >6</td>\n",
       "      <td id=\"T_0e666_row4_col9\" class=\"data row4 col9\" >6</td>\n",
       "      <td id=\"T_0e666_row4_col10\" class=\"data row4 col10\" >1.5</td>\n",
       "      <td id=\"T_0e666_row4_col11\" class=\"data row4 col11\" >[0.75, 0.95]</td>\n",
       "      <td id=\"T_0e666_row4_col12\" class=\"data row4 col12\" >300</td>\n",
       "      <td id=\"T_0e666_row4_col13\" class=\"data row4 col13\" >7.654095</td>\n",
       "      <td id=\"T_0e666_row4_col14\" class=\"data row4 col14\" >100</td>\n",
       "      <td id=\"T_0e666_row4_col15\" class=\"data row4 col15\" >7.428782</td>\n",
       "    </tr>\n",
       "    <tr>\n",
       "      <th id=\"T_0e666_level0_row5\" class=\"row_heading level0 row5\" >54</th>\n",
       "      <td id=\"T_0e666_row5_col0\" class=\"data row5 col0\" >[512]</td>\n",
       "      <td id=\"T_0e666_row5_col1\" class=\"data row5 col1\" >[3]</td>\n",
       "      <td id=\"T_0e666_row5_col2\" class=\"data row5 col2\" >[7]</td>\n",
       "      <td id=\"T_0e666_row5_col3\" class=\"data row5 col3\" >['leaky', 0.2]</td>\n",
       "      <td id=\"T_0e666_row5_col4\" class=\"data row5 col4\" >0.5</td>\n",
       "      <td id=\"T_0e666_row5_col5\" class=\"data row5 col5\" >['leaky', 0.2]</td>\n",
       "      <td id=\"T_0e666_row5_col6\" class=\"data row5 col6\" >[512]</td>\n",
       "      <td id=\"T_0e666_row5_col7\" class=\"data row5 col7\" >0.0</td>\n",
       "      <td id=\"T_0e666_row5_col8\" class=\"data row5 col8\" >5</td>\n",
       "      <td id=\"T_0e666_row5_col9\" class=\"data row5 col9\" >3</td>\n",
       "      <td id=\"T_0e666_row5_col10\" class=\"data row5 col10\" >2</td>\n",
       "      <td id=\"T_0e666_row5_col11\" class=\"data row5 col11\" >[0.75, 0.95]</td>\n",
       "      <td id=\"T_0e666_row5_col12\" class=\"data row5 col12\" >300</td>\n",
       "      <td id=\"T_0e666_row5_col13\" class=\"data row5 col13\" >7.652338</td>\n",
       "      <td id=\"T_0e666_row5_col14\" class=\"data row5 col14\" >100</td>\n",
       "      <td id=\"T_0e666_row5_col15\" class=\"data row5 col15\" >7.434976</td>\n",
       "    </tr>\n",
       "    <tr>\n",
       "      <th id=\"T_0e666_level0_row6\" class=\"row_heading level0 row6\" >55</th>\n",
       "      <td id=\"T_0e666_row6_col0\" class=\"data row6 col0\" >[512]</td>\n",
       "      <td id=\"T_0e666_row6_col1\" class=\"data row6 col1\" >[3]</td>\n",
       "      <td id=\"T_0e666_row6_col2\" class=\"data row6 col2\" >[7]</td>\n",
       "      <td id=\"T_0e666_row6_col3\" class=\"data row6 col3\" >['leaky', 0.2]</td>\n",
       "      <td id=\"T_0e666_row6_col4\" class=\"data row6 col4\" >0.5</td>\n",
       "      <td id=\"T_0e666_row6_col5\" class=\"data row6 col5\" >['leaky', 0.2]</td>\n",
       "      <td id=\"T_0e666_row6_col6\" class=\"data row6 col6\" >[512]</td>\n",
       "      <td id=\"T_0e666_row6_col7\" class=\"data row6 col7\" >0.0</td>\n",
       "      <td id=\"T_0e666_row6_col8\" class=\"data row6 col8\" >5</td>\n",
       "      <td id=\"T_0e666_row6_col9\" class=\"data row6 col9\" >3</td>\n",
       "      <td id=\"T_0e666_row6_col10\" class=\"data row6 col10\" >1.5</td>\n",
       "      <td id=\"T_0e666_row6_col11\" class=\"data row6 col11\" >[0.75, 0.95]</td>\n",
       "      <td id=\"T_0e666_row6_col12\" class=\"data row6 col12\" >300</td>\n",
       "      <td id=\"T_0e666_row6_col13\" class=\"data row6 col13\" >7.653567</td>\n",
       "      <td id=\"T_0e666_row6_col14\" class=\"data row6 col14\" >100</td>\n",
       "      <td id=\"T_0e666_row6_col15\" class=\"data row6 col15\" >7.440950</td>\n",
       "    </tr>\n",
       "    <tr>\n",
       "      <th id=\"T_0e666_level0_row7\" class=\"row_heading level0 row7\" >58</th>\n",
       "      <td id=\"T_0e666_row7_col0\" class=\"data row7 col0\" >[512]</td>\n",
       "      <td id=\"T_0e666_row7_col1\" class=\"data row7 col1\" >[3]</td>\n",
       "      <td id=\"T_0e666_row7_col2\" class=\"data row7 col2\" >[7]</td>\n",
       "      <td id=\"T_0e666_row7_col3\" class=\"data row7 col3\" >['leaky', 0.2]</td>\n",
       "      <td id=\"T_0e666_row7_col4\" class=\"data row7 col4\" >0.5</td>\n",
       "      <td id=\"T_0e666_row7_col5\" class=\"data row7 col5\" >['leaky', 0.2]</td>\n",
       "      <td id=\"T_0e666_row7_col6\" class=\"data row7 col6\" >[512]</td>\n",
       "      <td id=\"T_0e666_row7_col7\" class=\"data row7 col7\" >0.0</td>\n",
       "      <td id=\"T_0e666_row7_col8\" class=\"data row7 col8\" >4</td>\n",
       "      <td id=\"T_0e666_row7_col9\" class=\"data row7 col9\" >3</td>\n",
       "      <td id=\"T_0e666_row7_col10\" class=\"data row7 col10\" >1.5</td>\n",
       "      <td id=\"T_0e666_row7_col11\" class=\"data row7 col11\" >[0.75, 0.95]</td>\n",
       "      <td id=\"T_0e666_row7_col12\" class=\"data row7 col12\" >300</td>\n",
       "      <td id=\"T_0e666_row7_col13\" class=\"data row7 col13\" >7.654872</td>\n",
       "      <td id=\"T_0e666_row7_col14\" class=\"data row7 col14\" >100</td>\n",
       "      <td id=\"T_0e666_row7_col15\" class=\"data row7 col15\" >7.442498</td>\n",
       "    </tr>\n",
       "    <tr>\n",
       "      <th id=\"T_0e666_level0_row8\" class=\"row_heading level0 row8\" >59</th>\n",
       "      <td id=\"T_0e666_row8_col0\" class=\"data row8 col0\" >[512]</td>\n",
       "      <td id=\"T_0e666_row8_col1\" class=\"data row8 col1\" >[3]</td>\n",
       "      <td id=\"T_0e666_row8_col2\" class=\"data row8 col2\" >[7]</td>\n",
       "      <td id=\"T_0e666_row8_col3\" class=\"data row8 col3\" >['leaky', 0.2]</td>\n",
       "      <td id=\"T_0e666_row8_col4\" class=\"data row8 col4\" >0.5</td>\n",
       "      <td id=\"T_0e666_row8_col5\" class=\"data row8 col5\" >['leaky', 0.2]</td>\n",
       "      <td id=\"T_0e666_row8_col6\" class=\"data row8 col6\" >[512]</td>\n",
       "      <td id=\"T_0e666_row8_col7\" class=\"data row8 col7\" >0.0</td>\n",
       "      <td id=\"T_0e666_row8_col8\" class=\"data row8 col8\" >4</td>\n",
       "      <td id=\"T_0e666_row8_col9\" class=\"data row8 col9\" >6</td>\n",
       "      <td id=\"T_0e666_row8_col10\" class=\"data row8 col10\" >1.5</td>\n",
       "      <td id=\"T_0e666_row8_col11\" class=\"data row8 col11\" >[0.75, 0.95]</td>\n",
       "      <td id=\"T_0e666_row8_col12\" class=\"data row8 col12\" >300</td>\n",
       "      <td id=\"T_0e666_row8_col13\" class=\"data row8 col13\" >7.652120</td>\n",
       "      <td id=\"T_0e666_row8_col14\" class=\"data row8 col14\" >100</td>\n",
       "      <td id=\"T_0e666_row8_col15\" class=\"data row8 col15\" >7.427693</td>\n",
       "    </tr>\n",
       "    <tr>\n",
       "      <th id=\"T_0e666_level0_row9\" class=\"row_heading level0 row9\" >61</th>\n",
       "      <td id=\"T_0e666_row9_col0\" class=\"data row9 col0\" >[512]</td>\n",
       "      <td id=\"T_0e666_row9_col1\" class=\"data row9 col1\" >[3]</td>\n",
       "      <td id=\"T_0e666_row9_col2\" class=\"data row9 col2\" >[7]</td>\n",
       "      <td id=\"T_0e666_row9_col3\" class=\"data row9 col3\" >['leaky', 0.2]</td>\n",
       "      <td id=\"T_0e666_row9_col4\" class=\"data row9 col4\" >0.5</td>\n",
       "      <td id=\"T_0e666_row9_col5\" class=\"data row9 col5\" >['leaky', 0.2]</td>\n",
       "      <td id=\"T_0e666_row9_col6\" class=\"data row9 col6\" >[512]</td>\n",
       "      <td id=\"T_0e666_row9_col7\" class=\"data row9 col7\" >0.0</td>\n",
       "      <td id=\"T_0e666_row9_col8\" class=\"data row9 col8\" >6</td>\n",
       "      <td id=\"T_0e666_row9_col9\" class=\"data row9 col9\" >3</td>\n",
       "      <td id=\"T_0e666_row9_col10\" class=\"data row9 col10\" >1.5</td>\n",
       "      <td id=\"T_0e666_row9_col11\" class=\"data row9 col11\" >[0.75, 0.95]</td>\n",
       "      <td id=\"T_0e666_row9_col12\" class=\"data row9 col12\" >300</td>\n",
       "      <td id=\"T_0e666_row9_col13\" class=\"data row9 col13\" >7.656631</td>\n",
       "      <td id=\"T_0e666_row9_col14\" class=\"data row9 col14\" >100</td>\n",
       "      <td id=\"T_0e666_row9_col15\" class=\"data row9 col15\" >7.439589</td>\n",
       "    </tr>\n",
       "    <tr>\n",
       "      <th id=\"T_0e666_level0_row10\" class=\"row_heading level0 row10\" >64</th>\n",
       "      <td id=\"T_0e666_row10_col0\" class=\"data row10 col0\" >[512]</td>\n",
       "      <td id=\"T_0e666_row10_col1\" class=\"data row10 col1\" >[3]</td>\n",
       "      <td id=\"T_0e666_row10_col2\" class=\"data row10 col2\" >[7]</td>\n",
       "      <td id=\"T_0e666_row10_col3\" class=\"data row10 col3\" >['leaky', 0.2]</td>\n",
       "      <td id=\"T_0e666_row10_col4\" class=\"data row10 col4\" >0.5</td>\n",
       "      <td id=\"T_0e666_row10_col5\" class=\"data row10 col5\" >['leaky', 0.2]</td>\n",
       "      <td id=\"T_0e666_row10_col6\" class=\"data row10 col6\" >[512]</td>\n",
       "      <td id=\"T_0e666_row10_col7\" class=\"data row10 col7\" >0.0</td>\n",
       "      <td id=\"T_0e666_row10_col8\" class=\"data row10 col8\" >6</td>\n",
       "      <td id=\"T_0e666_row10_col9\" class=\"data row10 col9\" >6</td>\n",
       "      <td id=\"T_0e666_row10_col10\" class=\"data row10 col10\" >1.5</td>\n",
       "      <td id=\"T_0e666_row10_col11\" class=\"data row10 col11\" >[0.75, 0.95]</td>\n",
       "      <td id=\"T_0e666_row10_col12\" class=\"data row10 col12\" >300</td>\n",
       "      <td id=\"T_0e666_row10_col13\" class=\"data row10 col13\" >7.652155</td>\n",
       "      <td id=\"T_0e666_row10_col14\" class=\"data row10 col14\" >100</td>\n",
       "      <td id=\"T_0e666_row10_col15\" class=\"data row10 col15\" >7.423689</td>\n",
       "    </tr>\n",
       "    <tr>\n",
       "      <th id=\"T_0e666_level0_row11\" class=\"row_heading level0 row11\" >66</th>\n",
       "      <td id=\"T_0e666_row11_col0\" class=\"data row11 col0\" >[512]</td>\n",
       "      <td id=\"T_0e666_row11_col1\" class=\"data row11 col1\" >[3]</td>\n",
       "      <td id=\"T_0e666_row11_col2\" class=\"data row11 col2\" >[7]</td>\n",
       "      <td id=\"T_0e666_row11_col3\" class=\"data row11 col3\" >['leaky', 0.2]</td>\n",
       "      <td id=\"T_0e666_row11_col4\" class=\"data row11 col4\" >0.5</td>\n",
       "      <td id=\"T_0e666_row11_col5\" class=\"data row11 col5\" >['leaky', 0.2]</td>\n",
       "      <td id=\"T_0e666_row11_col6\" class=\"data row11 col6\" >[1024]</td>\n",
       "      <td id=\"T_0e666_row11_col7\" class=\"data row11 col7\" >0.0</td>\n",
       "      <td id=\"T_0e666_row11_col8\" class=\"data row11 col8\" >6</td>\n",
       "      <td id=\"T_0e666_row11_col9\" class=\"data row11 col9\" >3</td>\n",
       "      <td id=\"T_0e666_row11_col10\" class=\"data row11 col10\" >1.5</td>\n",
       "      <td id=\"T_0e666_row11_col11\" class=\"data row11 col11\" >[0.75, 0.95]</td>\n",
       "      <td id=\"T_0e666_row11_col12\" class=\"data row11 col12\" >300</td>\n",
       "      <td id=\"T_0e666_row11_col13\" class=\"data row11 col13\" >7.651252</td>\n",
       "      <td id=\"T_0e666_row11_col14\" class=\"data row11 col14\" >99</td>\n",
       "      <td id=\"T_0e666_row11_col15\" class=\"data row11 col15\" >7.439978</td>\n",
       "    </tr>\n",
       "    <tr>\n",
       "      <th id=\"T_0e666_level0_row12\" class=\"row_heading level0 row12\" >74</th>\n",
       "      <td id=\"T_0e666_row12_col0\" class=\"data row12 col0\" >[512]</td>\n",
       "      <td id=\"T_0e666_row12_col1\" class=\"data row12 col1\" >[3]</td>\n",
       "      <td id=\"T_0e666_row12_col2\" class=\"data row12 col2\" >[5]</td>\n",
       "      <td id=\"T_0e666_row12_col3\" class=\"data row12 col3\" >['leaky', 0.2]</td>\n",
       "      <td id=\"T_0e666_row12_col4\" class=\"data row12 col4\" >0.5</td>\n",
       "      <td id=\"T_0e666_row12_col5\" class=\"data row12 col5\" >['elu', 0.4]</td>\n",
       "      <td id=\"T_0e666_row12_col6\" class=\"data row12 col6\" >[512]</td>\n",
       "      <td id=\"T_0e666_row12_col7\" class=\"data row12 col7\" >0.0</td>\n",
       "      <td id=\"T_0e666_row12_col8\" class=\"data row12 col8\" >5</td>\n",
       "      <td id=\"T_0e666_row12_col9\" class=\"data row12 col9\" >6</td>\n",
       "      <td id=\"T_0e666_row12_col10\" class=\"data row12 col10\" >1.5</td>\n",
       "      <td id=\"T_0e666_row12_col11\" class=\"data row12 col11\" >[0.75, 0.95]</td>\n",
       "      <td id=\"T_0e666_row12_col12\" class=\"data row12 col12\" >300</td>\n",
       "      <td id=\"T_0e666_row12_col13\" class=\"data row12 col13\" >7.658258</td>\n",
       "      <td id=\"T_0e666_row12_col14\" class=\"data row12 col14\" >100</td>\n",
       "      <td id=\"T_0e666_row12_col15\" class=\"data row12 col15\" >7.430996</td>\n",
       "    </tr>\n",
       "    <tr>\n",
       "      <th id=\"T_0e666_level0_row13\" class=\"row_heading level0 row13\" >76</th>\n",
       "      <td id=\"T_0e666_row13_col0\" class=\"data row13 col0\" >[512]</td>\n",
       "      <td id=\"T_0e666_row13_col1\" class=\"data row13 col1\" >[3]</td>\n",
       "      <td id=\"T_0e666_row13_col2\" class=\"data row13 col2\" >[5]</td>\n",
       "      <td id=\"T_0e666_row13_col3\" class=\"data row13 col3\" >['leaky', 0.2]</td>\n",
       "      <td id=\"T_0e666_row13_col4\" class=\"data row13 col4\" >0.5</td>\n",
       "      <td id=\"T_0e666_row13_col5\" class=\"data row13 col5\" >['leaky', 0.2]</td>\n",
       "      <td id=\"T_0e666_row13_col6\" class=\"data row13 col6\" >[512]</td>\n",
       "      <td id=\"T_0e666_row13_col7\" class=\"data row13 col7\" >0.0</td>\n",
       "      <td id=\"T_0e666_row13_col8\" class=\"data row13 col8\" >5</td>\n",
       "      <td id=\"T_0e666_row13_col9\" class=\"data row13 col9\" >6</td>\n",
       "      <td id=\"T_0e666_row13_col10\" class=\"data row13 col10\" >1.5</td>\n",
       "      <td id=\"T_0e666_row13_col11\" class=\"data row13 col11\" >[0.75, 0.95]</td>\n",
       "      <td id=\"T_0e666_row13_col12\" class=\"data row13 col12\" >300</td>\n",
       "      <td id=\"T_0e666_row13_col13\" class=\"data row13 col13\" >7.658587</td>\n",
       "      <td id=\"T_0e666_row13_col14\" class=\"data row13 col14\" >100</td>\n",
       "      <td id=\"T_0e666_row13_col15\" class=\"data row13 col15\" >7.432786</td>\n",
       "    </tr>\n",
       "    <tr>\n",
       "      <th id=\"T_0e666_level0_row14\" class=\"row_heading level0 row14\" >104</th>\n",
       "      <td id=\"T_0e666_row14_col0\" class=\"data row14 col0\" >[256]</td>\n",
       "      <td id=\"T_0e666_row14_col1\" class=\"data row14 col1\" >[3]</td>\n",
       "      <td id=\"T_0e666_row14_col2\" class=\"data row14 col2\" >[9]</td>\n",
       "      <td id=\"T_0e666_row14_col3\" class=\"data row14 col3\" >['leaky', 0.2]</td>\n",
       "      <td id=\"T_0e666_row14_col4\" class=\"data row14 col4\" >0.5</td>\n",
       "      <td id=\"T_0e666_row14_col5\" class=\"data row14 col5\" >['leaky', 0.2]</td>\n",
       "      <td id=\"T_0e666_row14_col6\" class=\"data row14 col6\" >[512]</td>\n",
       "      <td id=\"T_0e666_row14_col7\" class=\"data row14 col7\" >0.0</td>\n",
       "      <td id=\"T_0e666_row14_col8\" class=\"data row14 col8\" >5</td>\n",
       "      <td id=\"T_0e666_row14_col9\" class=\"data row14 col9\" >6</td>\n",
       "      <td id=\"T_0e666_row14_col10\" class=\"data row14 col10\" >1.5</td>\n",
       "      <td id=\"T_0e666_row14_col11\" class=\"data row14 col11\" >[0.75, 0.95]</td>\n",
       "      <td id=\"T_0e666_row14_col12\" class=\"data row14 col12\" >300</td>\n",
       "      <td id=\"T_0e666_row14_col13\" class=\"data row14 col13\" >7.651349</td>\n",
       "      <td id=\"T_0e666_row14_col14\" class=\"data row14 col14\" >100</td>\n",
       "      <td id=\"T_0e666_row14_col15\" class=\"data row14 col15\" >7.433043</td>\n",
       "    </tr>\n",
       "  </tbody>\n",
       "</table>\n"
      ],
      "text/plain": [
       "<pandas.io.formats.style.Styler at 0x7fd8052b1a90>"
      ]
     },
     "execution_count": 4,
     "metadata": {},
     "output_type": "execute_result"
    }
   ],
   "source": [
    "results.results_dataframe_aggregate(threshold=7.65)"
   ]
  },
  {
   "cell_type": "code",
   "execution_count": 5,
   "metadata": {},
   "outputs": [
    {
     "data": {
      "application/vnd.plotly.v1+json": {
       "config": {
        "linkText": "Export to plot.ly",
        "plotlyServerURL": "https://plot.ly",
        "showLink": false
       },
       "data": [
        {
         "marker": {
          "size": 20
         },
         "mode": "markers",
         "name": "['elu', 0.4]",
         "text": [
          "filters:[512]-strides:[1]-kernel_size:[9]-drop:0.5-full:[512]-fulldrop:0.5-activation_full:['elu', 0.4]-depth_multiplier:5-lag:3-radius:0.5-corr:[0.75, 0.85]-nneighbors:200-activation:['elu', 0.4]",
          "filters:[512]-strides:[1]-kernel_size:[9]-drop:0.25-full:[512]-fulldrop:0.5-activation_full:['leaky', 0.2]-depth_multiplier:4-lag:12-radius:0.5-corr:[0.8, 0.9]-nneighbors:250-activation:['elu', 0.4]",
          "filters:[512]-strides:[1]-kernel_size:[9]-drop:0.25-full:[512]-fulldrop:0.25-activation_full:['leaky', 0.2]-depth_multiplier:4-lag:9-radius:1-corr:[0.85, 0.95]-nneighbors:200-activation:['elu', 0.4]",
          "filters:[512]-strides:[1]-kernel_size:[7]-drop:0.5-full:[512]-fulldrop:0.5-activation_full:['leaky', 0.2]-depth_multiplier:6-lag:12-radius:2-corr:[0.7, 0.9]-nneighbors:150-activation:['elu', 0.4]",
          "filters:[512]-strides:[1]-kernel_size:[3]-drop:0.5-full:[512]-fulldrop:0.0-activation_full:['elu', 0.4]-depth_multiplier:5-lag:9-radius:1.5-corr:[0.7, 0.8]-nneighbors:150-activation:['elu', 0.4]",
          "filters:[512]-strides:[1]-kernel_size:[3]-drop:0.5-full:[1024]-fulldrop:0.0-activation_full:['elu', 0.4]-depth_multiplier:5-lag:6-radius:1.5-corr:[0.8, 0.9]-nneighbors:300-activation:['elu', 0.4]",
          "filters:[512]-strides:[1]-kernel_size:[3]-drop:0.25-full:[512]-fulldrop:0.25-activation_full:['elu', 0.4]-depth_multiplier:5-lag:6-radius:0.5-corr:[0.75, 0.95]-nneighbors:150-activation:['elu', 0.4]",
          "filters:[512]-strides:[1]-kernel_size:[3]-drop:0.25-full:[512]-fulldrop:0.25-activation_full:['elu', 0.4]-depth_multiplier:4-lag:3-radius:0.5-corr:[0.7, 0.9]-nneighbors:150-activation:['elu', 0.4]",
          "filters:[512]-strides:[1]-kernel_size:[3]-drop:0.0-full:[512]-fulldrop:0.5-activation_full:['elu', 0.4]-depth_multiplier:4-lag:6-radius:0.5-corr:[0.7, 0.9]-nneighbors:150-activation:['elu', 0.4]",
          "filters:[512]-strides:[1]-kernel_size:[5]-drop:0.0-full:[512]-fulldrop:0.25-activation_full:['leaky', 0.2]-depth_multiplier:6-lag:6-radius:1.5-corr:[0.85, 0.95]-nneighbors:200-activation:['elu', 0.4]",
          "filters:[512]-strides:[2]-kernel_size:[9]-drop:0.25-full:[512]-fulldrop:0.25-activation_full:['elu', 0.4]-depth_multiplier:6-lag:12-radius:1-corr:[0.85, 0.95]-nneighbors:150-activation:['elu', 0.4]",
          "filters:[512]-strides:[2]-kernel_size:[3]-drop:0.0-full:[1024]-fulldrop:0.0-activation_full:['leaky', 0.2]-depth_multiplier:5-lag:9-radius:1-corr:[0.7, 0.9]-nneighbors:300-activation:['elu', 0.4]",
          "filters:[512]-strides:[3]-kernel_size:[9]-drop:0.5-full:[1024]-fulldrop:0.25-activation_full:['elu', 0.4]-depth_multiplier:4-lag:3-radius:0.5-corr:[0.7, 0.8]-nneighbors:150-activation:['elu', 0.4]",
          "filters:[512]-strides:[3]-kernel_size:[9]-drop:0.5-full:[512]-fulldrop:0.0-activation_full:['leaky', 0.2]-depth_multiplier:5-lag:3-radius:1.5-corr:[0.75, 0.95]-nneighbors:300-activation:['elu', 0.4]",
          "filters:[512]-strides:[3]-kernel_size:[9]-drop:0.5-full:[512]-fulldrop:0.0-activation_full:['leaky', 0.2]-depth_multiplier:5-lag:6-radius:2-corr:[0.75, 0.95]-nneighbors:300-activation:['elu', 0.4]",
          "filters:[512]-strides:[3]-kernel_size:[9]-drop:0.25-full:[1024]-fulldrop:0.25-activation_full:['elu', 0.4]-depth_multiplier:4-lag:9-radius:0.5-corr:[0.7, 0.9]-nneighbors:250-activation:['elu', 0.4]",
          "filters:[512]-strides:[3]-kernel_size:[9]-drop:0.0-full:[512]-fulldrop:0.5-activation_full:['elu', 0.4]-depth_multiplier:4-lag:3-radius:1-corr:[0.7, 0.9]-nneighbors:150-activation:['elu', 0.4]",
          "filters:[512]-strides:[3]-kernel_size:[7]-drop:0.5-full:[512]-fulldrop:0.0-activation_full:['leaky', 0.2]-depth_multiplier:5-lag:3-radius:2-corr:[0.75, 0.95]-nneighbors:300-activation:['elu', 0.4]",
          "filters:[512]-strides:[3]-kernel_size:[7]-drop:0.5-full:[512]-fulldrop:0.0-activation_full:['leaky', 0.2]-depth_multiplier:5-lag:3-radius:1.5-corr:[0.75, 0.95]-nneighbors:300-activation:['elu', 0.4]",
          "filters:[512]-strides:[3]-kernel_size:[7]-drop:0.5-full:[512]-fulldrop:0.0-activation_full:['leaky', 0.2]-depth_multiplier:5-lag:6-radius:1.5-corr:[0.7, 0.8]-nneighbors:300-activation:['elu', 0.4]",
          "filters:[512]-strides:[3]-kernel_size:[7]-drop:0.5-full:[512]-fulldrop:0.0-activation_full:['leaky', 0.2]-depth_multiplier:4-lag:3-radius:1.5-corr:[0.75, 0.95]-nneighbors:300-activation:['elu', 0.4]",
          "filters:[512]-strides:[3]-kernel_size:[7]-drop:0.5-full:[512]-fulldrop:0.0-activation_full:['leaky', 0.2]-depth_multiplier:4-lag:6-radius:1.5-corr:[0.75, 0.95]-nneighbors:300-activation:['elu', 0.4]",
          "filters:[512]-strides:[3]-kernel_size:[7]-drop:0.5-full:[512]-fulldrop:0.0-activation_full:['leaky', 0.2]-depth_multiplier:6-lag:3-radius:1.5-corr:[0.75, 0.95]-nneighbors:300-activation:['elu', 0.4]",
          "filters:[512]-strides:[3]-kernel_size:[7]-drop:0.5-full:[512]-fulldrop:0.0-activation_full:['leaky', 0.2]-depth_multiplier:6-lag:6-radius:1.5-corr:[0.75, 0.95]-nneighbors:300-activation:['elu', 0.4]",
          "filters:[512]-strides:[3]-kernel_size:[7]-drop:0.25-full:[512]-fulldrop:0.5-activation_full:['elu', 0.4]-depth_multiplier:5-lag:12-radius:0.5-corr:[0.85, 0.95]-nneighbors:200-activation:['elu', 0.4]",
          "filters:[512]-strides:[3]-kernel_size:[7]-drop:0.0-full:[512]-fulldrop:0.25-activation_full:['leaky', 0.2]-depth_multiplier:4-lag:9-radius:1-corr:[0.7, 0.9]-nneighbors:300-activation:['elu', 0.4]",
          "filters:[512]-strides:[3]-kernel_size:[3]-drop:0.25-full:[1024]-fulldrop:0.5-activation_full:['leaky', 0.2]-depth_multiplier:4-lag:12-radius:2-corr:[0.75, 0.85]-nneighbors:300-activation:['elu', 0.4]",
          "filters:[512]-strides:[3]-kernel_size:[3]-drop:0.0-full:[1024]-fulldrop:0.25-activation_full:['leaky', 0.2]-depth_multiplier:5-lag:6-radius:0.5-corr:[0.75, 0.85]-nneighbors:200-activation:['elu', 0.4]",
          "filters:[512]-strides:[3]-kernel_size:[5]-drop:0.5-full:[512]-fulldrop:0.0-activation_full:['leaky', 0.2]-depth_multiplier:5-lag:6-radius:1.5-corr:[0.75, 0.95]-nneighbors:300-activation:['elu', 0.4]",
          "filters:[256]-strides:[1]-kernel_size:[9]-drop:0.5-full:[512]-fulldrop:0.5-activation_full:['leaky', 0.2]-depth_multiplier:6-lag:9-radius:1.5-corr:[0.8, 0.9]-nneighbors:150-activation:['elu', 0.4]",
          "filters:[256]-strides:[1]-kernel_size:[9]-drop:0.0-full:[512]-fulldrop:0.25-activation_full:['leaky', 0.2]-depth_multiplier:4-lag:12-radius:1-corr:[0.85, 0.95]-nneighbors:300-activation:['elu', 0.4]",
          "filters:[256]-strides:[1]-kernel_size:[9]-drop:0.0-full:[512]-fulldrop:0.0-activation_full:['leaky', 0.2]-depth_multiplier:4-lag:9-radius:1-corr:[0.75, 0.85]-nneighbors:150-activation:['elu', 0.4]",
          "filters:[256]-strides:[1]-kernel_size:[7]-drop:0.0-full:[512]-fulldrop:0.0-activation_full:['elu', 0.4]-depth_multiplier:5-lag:3-radius:0.5-corr:[0.75, 0.85]-nneighbors:200-activation:['elu', 0.4]",
          "filters:[256]-strides:[2]-kernel_size:[9]-drop:0.25-full:[1024]-fulldrop:0.0-activation_full:['leaky', 0.2]-depth_multiplier:4-lag:9-radius:2-corr:[0.85, 0.95]-nneighbors:300-activation:['elu', 0.4]",
          "filters:[256]-strides:[2]-kernel_size:[5]-drop:0.25-full:[1024]-fulldrop:0.25-activation_full:['leaky', 0.2]-depth_multiplier:5-lag:9-radius:0.5-corr:[0.75, 0.95]-nneighbors:150-activation:['elu', 0.4]",
          "filters:[256]-strides:[3]-kernel_size:[9]-drop:0.25-full:[1024]-fulldrop:0.0-activation_full:['leaky', 0.2]-depth_multiplier:6-lag:9-radius:1-corr:[0.8, 0.9]-nneighbors:250-activation:['elu', 0.4]",
          "filters:[256]-strides:[3]-kernel_size:[7]-drop:0.25-full:[1024]-fulldrop:0.5-activation_full:['elu', 0.4]-depth_multiplier:4-lag:6-radius:0.5-corr:[0.8, 0.9]-nneighbors:200-activation:['elu', 0.4]",
          "filters:[256]-strides:[3]-kernel_size:[7]-drop:0.25-full:[1024]-fulldrop:0.25-activation_full:['elu', 0.4]-depth_multiplier:5-lag:6-radius:1-corr:[0.75, 0.85]-nneighbors:200-activation:['elu', 0.4]",
          "filters:[256]-strides:[3]-kernel_size:[7]-drop:0.0-full:[512]-fulldrop:0.25-activation_full:['elu', 0.4]-depth_multiplier:4-lag:6-radius:1-corr:[0.7, 0.9]-nneighbors:150-activation:['elu', 0.4]",
          "filters:[256]-strides:[3]-kernel_size:[3]-drop:0.0-full:[512]-fulldrop:0.5-activation_full:['leaky', 0.2]-depth_multiplier:5-lag:3-radius:1.5-corr:[0.7, 0.8]-nneighbors:150-activation:['elu', 0.4]",
          "filters:[256]-strides:[3]-kernel_size:[3]-drop:0.0-full:[512]-fulldrop:0.0-activation_full:['leaky', 0.2]-depth_multiplier:6-lag:12-radius:1-corr:[0.8, 0.9]-nneighbors:250-activation:['elu', 0.4]",
          "filters:[256]-strides:[3]-kernel_size:[5]-drop:0.5-full:[1024]-fulldrop:0.5-activation_full:['elu', 0.4]-depth_multiplier:4-lag:12-radius:1-corr:[0.75, 0.85]-nneighbors:200-activation:['elu', 0.4]",
          "filters:[256]-strides:[3]-kernel_size:[5]-drop:0.5-full:[512]-fulldrop:0.5-activation_full:['leaky', 0.2]-depth_multiplier:5-lag:6-radius:1.5-corr:[0.85, 0.95]-nneighbors:200-activation:['elu', 0.4]",
          "filters:[1024]-strides:[1]-kernel_size:[9]-drop:0.5-full:[512]-fulldrop:0.5-activation_full:['elu', 0.4]-depth_multiplier:6-lag:6-radius:0.5-corr:[0.75, 0.85]-nneighbors:200-activation:['elu', 0.4]",
          "filters:[1024]-strides:[1]-kernel_size:[9]-drop:0.25-full:[512]-fulldrop:0.25-activation_full:['elu', 0.4]-depth_multiplier:5-lag:9-radius:1.5-corr:[0.7, 0.8]-nneighbors:150-activation:['elu', 0.4]",
          "filters:[1024]-strides:[1]-kernel_size:[7]-drop:0.5-full:[512]-fulldrop:0.25-activation_full:['elu', 0.4]-depth_multiplier:4-lag:6-radius:2-corr:[0.8, 0.9]-nneighbors:250-activation:['elu', 0.4]",
          "filters:[1024]-strides:[1]-kernel_size:[7]-drop:0.25-full:[1024]-fulldrop:0.5-activation_full:['leaky', 0.2]-depth_multiplier:4-lag:9-radius:0.5-corr:[0.75, 0.85]-nneighbors:300-activation:['elu', 0.4]",
          "filters:[1024]-strides:[1]-kernel_size:[7]-drop:0.25-full:[1024]-fulldrop:0.0-activation_full:['leaky', 0.2]-depth_multiplier:5-lag:3-radius:1.5-corr:[0.85, 0.95]-nneighbors:250-activation:['elu', 0.4]",
          "filters:[1024]-strides:[1]-kernel_size:[7]-drop:0.0-full:[512]-fulldrop:0.0-activation_full:['elu', 0.4]-depth_multiplier:5-lag:12-radius:2-corr:[0.75, 0.85]-nneighbors:300-activation:['elu', 0.4]",
          "filters:[1024]-strides:[1]-kernel_size:[5]-drop:0.5-full:[512]-fulldrop:0.5-activation_full:['leaky', 0.2]-depth_multiplier:6-lag:3-radius:1.5-corr:[0.75, 0.85]-nneighbors:200-activation:['elu', 0.4]",
          "filters:[1024]-strides:[1]-kernel_size:[5]-drop:0.25-full:[1024]-fulldrop:0.25-activation_full:['elu', 0.4]-depth_multiplier:4-lag:12-radius:0.5-corr:[0.85, 0.95]-nneighbors:250-activation:['elu', 0.4]",
          "filters:[1024]-strides:[1]-kernel_size:[5]-drop:0.25-full:[1024]-fulldrop:0.0-activation_full:['leaky', 0.2]-depth_multiplier:4-lag:9-radius:2-corr:[0.75, 0.85]-nneighbors:200-activation:['elu', 0.4]",
          "filters:[1024]-strides:[2]-kernel_size:[9]-drop:0.0-full:[512]-fulldrop:0.5-activation_full:['elu', 0.4]-depth_multiplier:5-lag:9-radius:1-corr:[0.8, 0.9]-nneighbors:300-activation:['elu', 0.4]",
          "filters:[1024]-strides:[2]-kernel_size:[7]-drop:0.5-full:[1024]-fulldrop:0.25-activation_full:['leaky', 0.2]-depth_multiplier:6-lag:9-radius:2-corr:[0.75, 0.85]-nneighbors:200-activation:['elu', 0.4]",
          "filters:[1024]-strides:[2]-kernel_size:[3]-drop:0.5-full:[512]-fulldrop:0.5-activation_full:['elu', 0.4]-depth_multiplier:4-lag:6-radius:0.5-corr:[0.75, 0.85]-nneighbors:250-activation:['elu', 0.4]",
          "filters:[1024]-strides:[2]-kernel_size:[5]-drop:0.25-full:[1024]-fulldrop:0.5-activation_full:['leaky', 0.2]-depth_multiplier:6-lag:3-radius:2-corr:[0.85, 0.95]-nneighbors:300-activation:['elu', 0.4]",
          "filters:[1024]-strides:[3]-kernel_size:[9]-drop:0.5-full:[512]-fulldrop:0.25-activation_full:['leaky', 0.2]-depth_multiplier:5-lag:12-radius:2-corr:[0.7, 0.9]-nneighbors:200-activation:['elu', 0.4]",
          "filters:[1024]-strides:[3]-kernel_size:[9]-drop:0.5-full:[512]-fulldrop:0.25-activation_full:['leaky', 0.2]-depth_multiplier:4-lag:3-radius:1.5-corr:[0.7, 0.9]-nneighbors:300-activation:['elu', 0.4]",
          "filters:[1024]-strides:[3]-kernel_size:[9]-drop:0.0-full:[512]-fulldrop:0.5-activation_full:['elu', 0.4]-depth_multiplier:5-lag:9-radius:0.5-corr:[0.75, 0.85]-nneighbors:150-activation:['elu', 0.4]",
          "filters:[1024]-strides:[3]-kernel_size:[7]-drop:0.0-full:[512]-fulldrop:0.5-activation_full:['elu', 0.4]-depth_multiplier:4-lag:12-radius:1-corr:[0.75, 0.85]-nneighbors:200-activation:['elu', 0.4]",
          "filters:[1024]-strides:[3]-kernel_size:[3]-drop:0.5-full:[512]-fulldrop:0.0-activation_full:['leaky', 0.2]-depth_multiplier:5-lag:3-radius:1.5-corr:[0.7, 0.8]-nneighbors:300-activation:['elu', 0.4]",
          "filters:[1024]-strides:[3]-kernel_size:[3]-drop:0.5-full:[512]-fulldrop:0.0-activation_full:['leaky', 0.2]-depth_multiplier:6-lag:6-radius:1-corr:[0.7, 0.8]-nneighbors:300-activation:['elu', 0.4]",
          "filters:[1024]-strides:[3]-kernel_size:[3]-drop:0.0-full:[512]-fulldrop:0.5-activation_full:['elu', 0.4]-depth_multiplier:4-lag:3-radius:2-corr:[0.7, 0.9]-nneighbors:250-activation:['elu', 0.4]",
          "filters:[1024]-strides:[3]-kernel_size:[3]-drop:0.0-full:[1024]-fulldrop:0.0-activation_full:['leaky', 0.2]-depth_multiplier:6-lag:6-radius:0.5-corr:[0.7, 0.8]-nneighbors:150-activation:['elu', 0.4]",
          "filters:[1024]-strides:[3]-kernel_size:[5]-drop:0.5-full:[512]-fulldrop:0.0-activation_full:['leaky', 0.2]-depth_multiplier:4-lag:3-radius:1-corr:[0.7, 0.9]-nneighbors:300-activation:['elu', 0.4]",
          "filters:[1024]-strides:[3]-kernel_size:[5]-drop:0.5-full:[1024]-fulldrop:0.5-activation_full:['leaky', 0.2]-depth_multiplier:4-lag:12-radius:2-corr:[0.85, 0.95]-nneighbors:250-activation:['elu', 0.4]",
          "filters:[1024]-strides:[3]-kernel_size:[5]-drop:0.25-full:[1024]-fulldrop:0.0-activation_full:['leaky', 0.2]-depth_multiplier:4-lag:12-radius:0.5-corr:[0.8, 0.9]-nneighbors:250-activation:['elu', 0.4]"
         ],
         "type": "scatter",
         "x": [
          7.639218518530875,
          7.632309549600913,
          7.632125037067206,
          7.627749428144719,
          7.633036073821553,
          7.628040120544853,
          7.627506975550642,
          7.635366551234348
         ],
         "y": [
          100,
          100,
          100,
          92,
          100,
          100,
          100,
          100
         ]
        },
        {
         "marker": {
          "size": 20
         },
         "mode": "markers",
         "name": "['leaky', 0.2]",
         "text": [
          "filters:[512]-strides:[1]-kernel_size:[7]-drop:0.0-full:[512]-fulldrop:0.0-activation_full:['leaky', 0.2]-depth_multiplier:6-lag:3-radius:0.5-corr:[0.85, 0.95]-nneighbors:250-activation:['leaky', 0.2]",
          "filters:[512]-strides:[1]-kernel_size:[3]-drop:0.5-full:[1024]-fulldrop:0.5-activation_full:['leaky', 0.2]-depth_multiplier:5-lag:12-radius:2-corr:[0.75, 0.95]-nneighbors:300-activation:['leaky', 0.2]",
          "filters:[512]-strides:[1]-kernel_size:[5]-drop:0.25-full:[512]-fulldrop:0.5-activation_full:['elu', 0.4]-depth_multiplier:5-lag:9-radius:1-corr:[0.7, 0.8]-nneighbors:250-activation:['leaky', 0.2]",
          "filters:[512]-strides:[1]-kernel_size:[5]-drop:0.25-full:[512]-fulldrop:0.25-activation_full:['leaky', 0.2]-depth_multiplier:5-lag:6-radius:1-corr:[0.75, 0.85]-nneighbors:200-activation:['leaky', 0.2]",
          "filters:[512]-strides:[1]-kernel_size:[5]-drop:0.25-full:[1024]-fulldrop:0.5-activation_full:['leaky', 0.2]-depth_multiplier:6-lag:9-radius:1.5-corr:[0.7, 0.9]-nneighbors:250-activation:['leaky', 0.2]",
          "filters:[512]-strides:[2]-kernel_size:[9]-drop:0.0-full:[512]-fulldrop:0.5-activation_full:['elu', 0.4]-depth_multiplier:5-lag:12-radius:0.5-corr:[0.7, 0.9]-nneighbors:250-activation:['leaky', 0.2]",
          "filters:[512]-strides:[2]-kernel_size:[7]-drop:0.5-full:[512]-fulldrop:0.0-activation_full:['elu', 0.4]-depth_multiplier:4-lag:9-radius:0.5-corr:[0.75, 0.85]-nneighbors:250-activation:['leaky', 0.2]",
          "filters:[512]-strides:[2]-kernel_size:[7]-drop:0.5-full:[1024]-fulldrop:0.25-activation_full:['leaky', 0.2]-depth_multiplier:4-lag:12-radius:1-corr:[0.75, 0.95]-nneighbors:300-activation:['leaky', 0.2]",
          "filters:[512]-strides:[2]-kernel_size:[3]-drop:0.25-full:[1024]-fulldrop:0.0-activation_full:['leaky', 0.2]-depth_multiplier:5-lag:9-radius:1.5-corr:[0.7, 0.8]-nneighbors:200-activation:['leaky', 0.2]",
          "filters:[512]-strides:[3]-kernel_size:[9]-drop:0.5-full:[512]-fulldrop:0.0-activation_full:['elu', 0.4]-depth_multiplier:5-lag:3-radius:2-corr:[0.7, 0.8]-nneighbors:300-activation:['leaky', 0.2]",
          "filters:[512]-strides:[3]-kernel_size:[9]-drop:0.5-full:[512]-fulldrop:0.0-activation_full:['elu', 0.4]-depth_multiplier:5-lag:3-radius:1.5-corr:[0.75, 0.95]-nneighbors:300-activation:['leaky', 0.2]",
          "filters:[512]-strides:[3]-kernel_size:[9]-drop:0.5-full:[512]-fulldrop:0.0-activation_full:['elu', 0.4]-depth_multiplier:5-lag:6-radius:2-corr:[0.75, 0.95]-nneighbors:300-activation:['leaky', 0.2]",
          "filters:[512]-strides:[3]-kernel_size:[9]-drop:0.5-full:[512]-fulldrop:0.0-activation_full:['leaky', 0.2]-depth_multiplier:5-lag:3-radius:1.5-corr:[0.75, 0.95]-nneighbors:300-activation:['leaky', 0.2]",
          "filters:[512]-strides:[3]-kernel_size:[9]-drop:0.5-full:[512]-fulldrop:0.0-activation_full:['leaky', 0.2]-depth_multiplier:5-lag:6-radius:2-corr:[0.75, 0.95]-nneighbors:300-activation:['leaky', 0.2]",
          "filters:[512]-strides:[3]-kernel_size:[9]-drop:0.5-full:[512]-fulldrop:0.0-activation_full:['leaky', 0.2]-depth_multiplier:5-lag:6-radius:1.5-corr:[0.7, 0.9]-nneighbors:300-activation:['leaky', 0.2]",
          "filters:[512]-strides:[3]-kernel_size:[9]-drop:0.5-full:[512]-fulldrop:0.0-activation_full:['leaky', 0.2]-depth_multiplier:5-lag:6-radius:1.5-corr:[0.75, 0.95]-nneighbors:300-activation:['leaky', 0.2]",
          "filters:[512]-strides:[3]-kernel_size:[9]-drop:0.5-full:[512]-fulldrop:0.0-activation_full:['leaky', 0.2]-depth_multiplier:4-lag:6-radius:1.5-corr:[0.7, 0.9]-nneighbors:300-activation:['leaky', 0.2]",
          "filters:[512]-strides:[3]-kernel_size:[9]-drop:0.5-full:[512]-fulldrop:0.0-activation_full:['leaky', 0.2]-depth_multiplier:6-lag:3-radius:1.5-corr:[0.7, 0.9]-nneighbors:300-activation:['leaky', 0.2]",
          "filters:[512]-strides:[3]-kernel_size:[9]-drop:0.5-full:[512]-fulldrop:0.0-activation_full:['leaky', 0.2]-depth_multiplier:6-lag:6-radius:1.5-corr:[0.7, 0.9]-nneighbors:300-activation:['leaky', 0.2]",
          "filters:[512]-strides:[3]-kernel_size:[9]-drop:0.0-full:[1024]-fulldrop:0.0-activation_full:['elu', 0.4]-depth_multiplier:6-lag:9-radius:2-corr:[0.75, 0.95]-nneighbors:300-activation:['leaky', 0.2]",
          "filters:[512]-strides:[3]-kernel_size:[7]-drop:0.5-full:[512]-fulldrop:0.0-activation_full:['elu', 0.4]-depth_multiplier:5-lag:3-radius:2-corr:[0.75, 0.95]-nneighbors:300-activation:['leaky', 0.2]",
          "filters:[512]-strides:[3]-kernel_size:[7]-drop:0.5-full:[512]-fulldrop:0.0-activation_full:['elu', 0.4]-depth_multiplier:5-lag:3-radius:1.5-corr:[0.75, 0.95]-nneighbors:300-activation:['leaky', 0.2]",
          "filters:[512]-strides:[3]-kernel_size:[7]-drop:0.5-full:[512]-fulldrop:0.0-activation_full:['elu', 0.4]-depth_multiplier:4-lag:3-radius:1.5-corr:[0.75, 0.95]-nneighbors:300-activation:['leaky', 0.2]",
          "filters:[512]-strides:[3]-kernel_size:[7]-drop:0.5-full:[512]-fulldrop:0.0-activation_full:['elu', 0.4]-depth_multiplier:4-lag:6-radius:1.5-corr:[0.75, 0.95]-nneighbors:300-activation:['leaky', 0.2]",
          "filters:[512]-strides:[3]-kernel_size:[7]-drop:0.5-full:[512]-fulldrop:0.0-activation_full:['elu', 0.4]-depth_multiplier:6-lag:3-radius:1.5-corr:[0.75, 0.95]-nneighbors:300-activation:['leaky', 0.2]",
          "filters:[512]-strides:[3]-kernel_size:[7]-drop:0.5-full:[512]-fulldrop:0.0-activation_full:['elu', 0.4]-depth_multiplier:6-lag:6-radius:1.5-corr:[0.75, 0.95]-nneighbors:300-activation:['leaky', 0.2]",
          "filters:[512]-strides:[3]-kernel_size:[7]-drop:0.5-full:[1024]-fulldrop:0.0-activation_full:['elu', 0.4]-depth_multiplier:5-lag:12-radius:1-corr:[0.8, 0.9]-nneighbors:300-activation:['leaky', 0.2]",
          "filters:[512]-strides:[3]-kernel_size:[7]-drop:0.5-full:[512]-fulldrop:0.25-activation_full:['leaky', 0.2]-depth_multiplier:6-lag:6-radius:2-corr:[0.7, 0.9]-nneighbors:300-activation:['leaky', 0.2]",
          "filters:[512]-strides:[3]-kernel_size:[7]-drop:0.5-full:[512]-fulldrop:0.0-activation_full:['leaky', 0.2]-depth_multiplier:5-lag:3-radius:2-corr:[0.75, 0.95]-nneighbors:300-activation:['leaky', 0.2]",
          "filters:[512]-strides:[3]-kernel_size:[7]-drop:0.5-full:[512]-fulldrop:0.0-activation_full:['leaky', 0.2]-depth_multiplier:5-lag:3-radius:1.5-corr:[0.75, 0.95]-nneighbors:300-activation:['leaky', 0.2]",
          "filters:[512]-strides:[3]-kernel_size:[7]-drop:0.5-full:[512]-fulldrop:0.0-activation_full:['leaky', 0.2]-depth_multiplier:5-lag:6-radius:2-corr:[0.75, 0.95]-nneighbors:300-activation:['leaky', 0.2]",
          "filters:[512]-strides:[3]-kernel_size:[7]-drop:0.5-full:[512]-fulldrop:0.0-activation_full:['leaky', 0.2]-depth_multiplier:5-lag:6-radius:1.5-corr:[0.75, 0.95]-nneighbors:300-activation:['leaky', 0.2]",
          "filters:[512]-strides:[3]-kernel_size:[7]-drop:0.5-full:[512]-fulldrop:0.0-activation_full:['leaky', 0.2]-depth_multiplier:4-lag:3-radius:1.5-corr:[0.75, 0.95]-nneighbors:300-activation:['leaky', 0.2]",
          "filters:[512]-strides:[3]-kernel_size:[7]-drop:0.5-full:[512]-fulldrop:0.0-activation_full:['leaky', 0.2]-depth_multiplier:4-lag:6-radius:1.5-corr:[0.75, 0.95]-nneighbors:300-activation:['leaky', 0.2]",
          "filters:[512]-strides:[3]-kernel_size:[7]-drop:0.5-full:[512]-fulldrop:0.0-activation_full:['leaky', 0.2]-depth_multiplier:6-lag:3-radius:1.5-corr:[0.7, 0.9]-nneighbors:300-activation:['leaky', 0.2]",
          "filters:[512]-strides:[3]-kernel_size:[7]-drop:0.5-full:[512]-fulldrop:0.0-activation_full:['leaky', 0.2]-depth_multiplier:6-lag:3-radius:1.5-corr:[0.75, 0.95]-nneighbors:300-activation:['leaky', 0.2]",
          "filters:[512]-strides:[3]-kernel_size:[7]-drop:0.5-full:[512]-fulldrop:0.0-activation_full:['leaky', 0.2]-depth_multiplier:6-lag:6-radius:2-corr:[0.7, 0.9]-nneighbors:300-activation:['leaky', 0.2]",
          "filters:[512]-strides:[3]-kernel_size:[7]-drop:0.5-full:[512]-fulldrop:0.0-activation_full:['leaky', 0.2]-depth_multiplier:6-lag:6-radius:1.5-corr:[0.7, 0.9]-nneighbors:300-activation:['leaky', 0.2]",
          "filters:[512]-strides:[3]-kernel_size:[7]-drop:0.5-full:[512]-fulldrop:0.0-activation_full:['leaky', 0.2]-depth_multiplier:6-lag:6-radius:1.5-corr:[0.75, 0.95]-nneighbors:300-activation:['leaky', 0.2]",
          "filters:[512]-strides:[3]-kernel_size:[7]-drop:0.5-full:[1024]-fulldrop:0.0-activation_full:['leaky', 0.2]-depth_multiplier:4-lag:3-radius:2-corr:[0.7, 0.8]-nneighbors:300-activation:['leaky', 0.2]",
          "filters:[512]-strides:[3]-kernel_size:[7]-drop:0.5-full:[1024]-fulldrop:0.0-activation_full:['leaky', 0.2]-depth_multiplier:6-lag:3-radius:1.5-corr:[0.75, 0.95]-nneighbors:300-activation:['leaky', 0.2]",
          "filters:[512]-strides:[3]-kernel_size:[3]-drop:0.5-full:[512]-fulldrop:0.0-activation_full:['elu', 0.4]-depth_multiplier:5-lag:6-radius:1.5-corr:[0.75, 0.95]-nneighbors:300-activation:['leaky', 0.2]",
          "filters:[512]-strides:[3]-kernel_size:[3]-drop:0.5-full:[1024]-fulldrop:0.0-activation_full:['elu', 0.4]-depth_multiplier:4-lag:12-radius:1.5-corr:[0.85, 0.95]-nneighbors:300-activation:['leaky', 0.2]",
          "filters:[512]-strides:[3]-kernel_size:[3]-drop:0.5-full:[512]-fulldrop:0.0-activation_full:['leaky', 0.2]-depth_multiplier:5-lag:6-radius:1.5-corr:[0.75, 0.95]-nneighbors:300-activation:['leaky', 0.2]",
          "filters:[512]-strides:[3]-kernel_size:[5]-drop:0.5-full:[512]-fulldrop:0.5-activation_full:['elu', 0.4]-depth_multiplier:5-lag:6-radius:1.5-corr:[0.75, 0.95]-nneighbors:300-activation:['leaky', 0.2]",
          "filters:[512]-strides:[3]-kernel_size:[5]-drop:0.5-full:[512]-fulldrop:0.0-activation_full:['elu', 0.4]-depth_multiplier:5-lag:6-radius:1.5-corr:[0.75, 0.95]-nneighbors:300-activation:['leaky', 0.2]",
          "filters:[512]-strides:[3]-kernel_size:[5]-drop:0.5-full:[512]-fulldrop:0.0-activation_full:['leaky', 0.2]-depth_multiplier:5-lag:6-radius:1.5-corr:[0.7, 0.9]-nneighbors:300-activation:['leaky', 0.2]",
          "filters:[512]-strides:[3]-kernel_size:[5]-drop:0.5-full:[512]-fulldrop:0.0-activation_full:['leaky', 0.2]-depth_multiplier:5-lag:6-radius:1.5-corr:[0.75, 0.95]-nneighbors:300-activation:['leaky', 0.2]",
          "filters:[512]-strides:[3]-kernel_size:[5]-drop:0.5-full:[512]-fulldrop:0.0-activation_full:['leaky', 0.2]-depth_multiplier:4-lag:6-radius:1.5-corr:[0.7, 0.9]-nneighbors:300-activation:['leaky', 0.2]",
          "filters:[512]-strides:[3]-kernel_size:[5]-drop:0.5-full:[512]-fulldrop:0.0-activation_full:['leaky', 0.2]-depth_multiplier:6-lag:3-radius:1.5-corr:[0.7, 0.9]-nneighbors:300-activation:['leaky', 0.2]",
          "filters:[512]-strides:[3]-kernel_size:[5]-drop:0.5-full:[512]-fulldrop:0.0-activation_full:['leaky', 0.2]-depth_multiplier:6-lag:9-radius:1.5-corr:[0.75, 0.95]-nneighbors:250-activation:['leaky', 0.2]",
          "filters:[512]-strides:[3]-kernel_size:[5]-drop:0.5-full:[512]-fulldrop:0.0-activation_full:['leaky', 0.2]-depth_multiplier:6-lag:6-radius:1-corr:[0.75, 0.85]-nneighbors:300-activation:['leaky', 0.2]",
          "filters:[512]-strides:[3]-kernel_size:[5]-drop:0.5-full:[512]-fulldrop:0.0-activation_full:['leaky', 0.2]-depth_multiplier:6-lag:6-radius:1.5-corr:[0.7, 0.9]-nneighbors:300-activation:['leaky', 0.2]",
          "filters:[512]-strides:[3]-kernel_size:[5]-drop:0.5-full:[1024]-fulldrop:0.0-activation_full:['leaky', 0.2]-depth_multiplier:5-lag:6-radius:1.5-corr:[0.75, 0.95]-nneighbors:300-activation:['leaky', 0.2]",
          "filters:[256]-strides:[1]-kernel_size:[9]-drop:0.25-full:[512]-fulldrop:0.5-activation_full:['elu', 0.4]-depth_multiplier:5-lag:9-radius:1-corr:[0.75, 0.95]-nneighbors:250-activation:['leaky', 0.2]",
          "filters:[256]-strides:[1]-kernel_size:[9]-drop:0.25-full:[512]-fulldrop:0.25-activation_full:['elu', 0.4]-depth_multiplier:6-lag:6-radius:2-corr:[0.75, 0.85]-nneighbors:300-activation:['leaky', 0.2]",
          "filters:[256]-strides:[1]-kernel_size:[9]-drop:0.0-full:[512]-fulldrop:0.0-activation_full:['elu', 0.4]-depth_multiplier:4-lag:6-radius:1-corr:[0.85, 0.95]-nneighbors:150-activation:['leaky', 0.2]",
          "filters:[256]-strides:[1]-kernel_size:[9]-drop:0.0-full:[1024]-fulldrop:0.0-activation_full:['elu', 0.4]-depth_multiplier:6-lag:9-radius:2-corr:[0.75, 0.85]-nneighbors:300-activation:['leaky', 0.2]",
          "filters:[256]-strides:[1]-kernel_size:[3]-drop:0.5-full:[1024]-fulldrop:0.25-activation_full:['elu', 0.4]-depth_multiplier:6-lag:12-radius:1.5-corr:[0.75, 0.95]-nneighbors:300-activation:['leaky', 0.2]",
          "filters:[256]-strides:[1]-kernel_size:[5]-drop:0.25-full:[512]-fulldrop:0.5-activation_full:['leaky', 0.2]-depth_multiplier:4-lag:6-radius:1-corr:[0.7, 0.9]-nneighbors:250-activation:['leaky', 0.2]",
          "filters:[256]-strides:[2]-kernel_size:[9]-drop:0.5-full:[512]-fulldrop:0.0-activation_full:['elu', 0.4]-depth_multiplier:4-lag:3-radius:2-corr:[0.85, 0.95]-nneighbors:300-activation:['leaky', 0.2]",
          "filters:[256]-strides:[2]-kernel_size:[7]-drop:0.5-full:[512]-fulldrop:0.25-activation_full:['leaky', 0.2]-depth_multiplier:6-lag:9-radius:0.5-corr:[0.8, 0.9]-nneighbors:300-activation:['leaky', 0.2]",
          "filters:[256]-strides:[2]-kernel_size:[7]-drop:0.25-full:[512]-fulldrop:0.0-activation_full:['elu', 0.4]-depth_multiplier:6-lag:6-radius:1.5-corr:[0.7, 0.9]-nneighbors:250-activation:['leaky', 0.2]",
          "filters:[256]-strides:[2]-kernel_size:[7]-drop:0.25-full:[1024]-fulldrop:0.0-activation_full:['elu', 0.4]-depth_multiplier:6-lag:6-radius:1.5-corr:[0.75, 0.95]-nneighbors:200-activation:['leaky', 0.2]",
          "filters:[256]-strides:[2]-kernel_size:[7]-drop:0.25-full:[1024]-fulldrop:0.0-activation_full:['leaky', 0.2]-depth_multiplier:5-lag:12-radius:1-corr:[0.7, 0.9]-nneighbors:250-activation:['leaky', 0.2]",
          "filters:[256]-strides:[2]-kernel_size:[3]-drop:0.5-full:[512]-fulldrop:0.5-activation_full:['leaky', 0.2]-depth_multiplier:5-lag:3-radius:0.5-corr:[0.75, 0.85]-nneighbors:300-activation:['leaky', 0.2]",
          "filters:[256]-strides:[2]-kernel_size:[3]-drop:0.25-full:[1024]-fulldrop:0.25-activation_full:['leaky', 0.2]-depth_multiplier:4-lag:12-radius:0.5-corr:[0.75, 0.95]-nneighbors:250-activation:['leaky', 0.2]",
          "filters:[256]-strides:[2]-kernel_size:[3]-drop:0.0-full:[1024]-fulldrop:0.25-activation_full:['elu', 0.4]-depth_multiplier:4-lag:9-radius:0.5-corr:[0.7, 0.8]-nneighbors:300-activation:['leaky', 0.2]",
          "filters:[256]-strides:[3]-kernel_size:[9]-drop:0.5-full:[512]-fulldrop:0.0-activation_full:['leaky', 0.2]-depth_multiplier:5-lag:6-radius:1.5-corr:[0.75, 0.95]-nneighbors:300-activation:['leaky', 0.2]",
          "filters:[256]-strides:[3]-kernel_size:[9]-drop:0.25-full:[1024]-fulldrop:0.0-activation_full:['leaky', 0.2]-depth_multiplier:5-lag:9-radius:1-corr:[0.85, 0.95]-nneighbors:250-activation:['leaky', 0.2]",
          "filters:[256]-strides:[3]-kernel_size:[7]-drop:0.5-full:[512]-fulldrop:0.0-activation_full:['leaky', 0.2]-depth_multiplier:5-lag:3-radius:1.5-corr:[0.75, 0.95]-nneighbors:300-activation:['leaky', 0.2]",
          "filters:[256]-strides:[3]-kernel_size:[7]-drop:0.5-full:[512]-fulldrop:0.0-activation_full:['leaky', 0.2]-depth_multiplier:5-lag:6-radius:1.5-corr:[0.75, 0.95]-nneighbors:300-activation:['leaky', 0.2]",
          "filters:[256]-strides:[3]-kernel_size:[7]-drop:0.5-full:[512]-fulldrop:0.0-activation_full:['leaky', 0.2]-depth_multiplier:4-lag:6-radius:1.5-corr:[0.75, 0.95]-nneighbors:300-activation:['leaky', 0.2]",
          "filters:[256]-strides:[3]-kernel_size:[7]-drop:0.5-full:[512]-fulldrop:0.0-activation_full:['leaky', 0.2]-depth_multiplier:6-lag:6-radius:1.5-corr:[0.75, 0.95]-nneighbors:300-activation:['leaky', 0.2]",
          "filters:[256]-strides:[3]-kernel_size:[7]-drop:0.25-full:[512]-fulldrop:0.0-activation_full:['elu', 0.4]-depth_multiplier:6-lag:6-radius:1-corr:[0.8, 0.9]-nneighbors:200-activation:['leaky', 0.2]",
          "filters:[256]-strides:[3]-kernel_size:[3]-drop:0.0-full:[1024]-fulldrop:0.25-activation_full:['leaky', 0.2]-depth_multiplier:6-lag:6-radius:0.5-corr:[0.75, 0.95]-nneighbors:300-activation:['leaky', 0.2]",
          "filters:[256]-strides:[3]-kernel_size:[5]-drop:0.5-full:[512]-fulldrop:0.25-activation_full:['leaky', 0.2]-depth_multiplier:4-lag:12-radius:2-corr:[0.75, 0.95]-nneighbors:250-activation:['leaky', 0.2]",
          "filters:[256]-strides:[3]-kernel_size:[5]-drop:0.25-full:[1024]-fulldrop:0.5-activation_full:['leaky', 0.2]-depth_multiplier:4-lag:12-radius:0.5-corr:[0.85, 0.95]-nneighbors:300-activation:['leaky', 0.2]",
          "filters:[1024]-strides:[1]-kernel_size:[7]-drop:0.0-full:[512]-fulldrop:0.5-activation_full:['leaky', 0.2]-depth_multiplier:4-lag:12-radius:2-corr:[0.7, 0.9]-nneighbors:200-activation:['leaky', 0.2]",
          "filters:[1024]-strides:[1]-kernel_size:[3]-drop:0.5-full:[1024]-fulldrop:0.25-activation_full:['leaky', 0.2]-depth_multiplier:4-lag:12-radius:2-corr:[0.7, 0.8]-nneighbors:200-activation:['leaky', 0.2]",
          "filters:[1024]-strides:[1]-kernel_size:[5]-drop:0.5-full:[512]-fulldrop:0.5-activation_full:['elu', 0.4]-depth_multiplier:6-lag:6-radius:1-corr:[0.7, 0.9]-nneighbors:200-activation:['leaky', 0.2]",
          "filters:[1024]-strides:[1]-kernel_size:[5]-drop:0.5-full:[512]-fulldrop:0.0-activation_full:['elu', 0.4]-depth_multiplier:4-lag:6-radius:1.5-corr:[0.8, 0.9]-nneighbors:150-activation:['leaky', 0.2]",
          "filters:[1024]-strides:[1]-kernel_size:[5]-drop:0.5-full:[1024]-fulldrop:0.5-activation_full:['elu', 0.4]-depth_multiplier:4-lag:6-radius:2-corr:[0.7, 0.9]-nneighbors:250-activation:['leaky', 0.2]",
          "filters:[1024]-strides:[2]-kernel_size:[7]-drop:0.5-full:[512]-fulldrop:0.5-activation_full:['leaky', 0.2]-depth_multiplier:4-lag:3-radius:0.5-corr:[0.7, 0.8]-nneighbors:300-activation:['leaky', 0.2]",
          "filters:[1024]-strides:[2]-kernel_size:[7]-drop:0.25-full:[1024]-fulldrop:0.5-activation_full:['leaky', 0.2]-depth_multiplier:5-lag:3-radius:0.5-corr:[0.7, 0.8]-nneighbors:250-activation:['leaky', 0.2]",
          "filters:[1024]-strides:[2]-kernel_size:[3]-drop:0.0-full:[512]-fulldrop:0.5-activation_full:['elu', 0.4]-depth_multiplier:6-lag:3-radius:2-corr:[0.8, 0.9]-nneighbors:300-activation:['leaky', 0.2]",
          "filters:[1024]-strides:[2]-kernel_size:[3]-drop:0.0-full:[512]-fulldrop:0.0-activation_full:['leaky', 0.2]-depth_multiplier:4-lag:6-radius:0.5-corr:[0.7, 0.9]-nneighbors:250-activation:['leaky', 0.2]",
          "filters:[1024]-strides:[2]-kernel_size:[5]-drop:0.0-full:[512]-fulldrop:0.5-activation_full:['elu', 0.4]-depth_multiplier:6-lag:12-radius:0.5-corr:[0.75, 0.95]-nneighbors:250-activation:['leaky', 0.2]",
          "filters:[1024]-strides:[3]-kernel_size:[9]-drop:0.25-full:[512]-fulldrop:0.0-activation_full:['leaky', 0.2]-depth_multiplier:6-lag:12-radius:1.5-corr:[0.85, 0.95]-nneighbors:150-activation:['leaky', 0.2]",
          "filters:[1024]-strides:[3]-kernel_size:[7]-drop:0.5-full:[512]-fulldrop:0.0-activation_full:['leaky', 0.2]-depth_multiplier:5-lag:6-radius:1-corr:[0.8, 0.9]-nneighbors:200-activation:['leaky', 0.2]",
          "filters:[1024]-strides:[3]-kernel_size:[7]-drop:0.5-full:[512]-fulldrop:0.0-activation_full:['leaky', 0.2]-depth_multiplier:5-lag:6-radius:1.5-corr:[0.75, 0.95]-nneighbors:300-activation:['leaky', 0.2]",
          "filters:[1024]-strides:[3]-kernel_size:[3]-drop:0.25-full:[512]-fulldrop:0.5-activation_full:['elu', 0.4]-depth_multiplier:4-lag:3-radius:0.5-corr:[0.75, 0.95]-nneighbors:150-activation:['leaky', 0.2]",
          "filters:[1024]-strides:[3]-kernel_size:[5]-drop:0.5-full:[512]-fulldrop:0.0-activation_full:['leaky', 0.2]-depth_multiplier:5-lag:6-radius:1.5-corr:[0.75, 0.95]-nneighbors:300-activation:['leaky', 0.2]",
          "filters:[1024]-strides:[3]-kernel_size:[5]-drop:0.5-full:[512]-fulldrop:0.0-activation_full:['leaky', 0.2]-depth_multiplier:6-lag:6-radius:1.5-corr:[0.75, 0.95]-nneighbors:300-activation:['leaky', 0.2]",
          "filters:[1024]-strides:[3]-kernel_size:[5]-drop:0.25-full:[1024]-fulldrop:0.25-activation_full:['elu', 0.4]-depth_multiplier:4-lag:3-radius:1.5-corr:[0.7, 0.8]-nneighbors:150-activation:['leaky', 0.2]"
         ],
         "type": "scatter",
         "x": [
          7.6466234832871445,
          7.653971278924464,
          7.650630240497428,
          7.653072962051095,
          7.649686370255195,
          7.646925577068028,
          7.643295395054326,
          7.636244919487558,
          7.654402827776044,
          7.644009365502282,
          7.654095021027723,
          7.652338306125366,
          7.653566628042967,
          7.6469235815496175,
          7.647643456937495,
          7.654871606891678,
          7.652119982326075,
          7.656630511489069,
          7.652155195962971,
          7.6512520965594835,
          7.649536987909394,
          7.658257660151303,
          7.65858703943042,
          7.6455074821592115,
          7.651348524154483,
          7.6400436230534785,
          7.639166368747061,
          7.64277426441153,
          7.641672812276654,
          7.648468025688216,
          7.64855403386732
         ],
         "y": [
          100,
          100,
          100,
          100,
          100,
          100,
          100,
          100,
          79,
          100,
          100,
          100,
          100,
          100,
          100,
          100,
          100,
          100,
          100,
          99,
          100,
          100,
          100,
          95,
          100,
          100,
          100,
          100,
          100,
          100,
          100
         ]
        }
       ],
       "layout": {
        "template": {
         "data": {
          "bar": [
           {
            "error_x": {
             "color": "#2a3f5f"
            },
            "error_y": {
             "color": "#2a3f5f"
            },
            "marker": {
             "line": {
              "color": "#E5ECF6",
              "width": 0.5
             },
             "pattern": {
              "fillmode": "overlay",
              "size": 10,
              "solidity": 0.2
             }
            },
            "type": "bar"
           }
          ],
          "barpolar": [
           {
            "marker": {
             "line": {
              "color": "#E5ECF6",
              "width": 0.5
             },
             "pattern": {
              "fillmode": "overlay",
              "size": 10,
              "solidity": 0.2
             }
            },
            "type": "barpolar"
           }
          ],
          "carpet": [
           {
            "aaxis": {
             "endlinecolor": "#2a3f5f",
             "gridcolor": "white",
             "linecolor": "white",
             "minorgridcolor": "white",
             "startlinecolor": "#2a3f5f"
            },
            "baxis": {
             "endlinecolor": "#2a3f5f",
             "gridcolor": "white",
             "linecolor": "white",
             "minorgridcolor": "white",
             "startlinecolor": "#2a3f5f"
            },
            "type": "carpet"
           }
          ],
          "choropleth": [
           {
            "colorbar": {
             "outlinewidth": 0,
             "ticks": ""
            },
            "type": "choropleth"
           }
          ],
          "contour": [
           {
            "colorbar": {
             "outlinewidth": 0,
             "ticks": ""
            },
            "colorscale": [
             [
              0,
              "#0d0887"
             ],
             [
              0.1111111111111111,
              "#46039f"
             ],
             [
              0.2222222222222222,
              "#7201a8"
             ],
             [
              0.3333333333333333,
              "#9c179e"
             ],
             [
              0.4444444444444444,
              "#bd3786"
             ],
             [
              0.5555555555555556,
              "#d8576b"
             ],
             [
              0.6666666666666666,
              "#ed7953"
             ],
             [
              0.7777777777777778,
              "#fb9f3a"
             ],
             [
              0.8888888888888888,
              "#fdca26"
             ],
             [
              1,
              "#f0f921"
             ]
            ],
            "type": "contour"
           }
          ],
          "contourcarpet": [
           {
            "colorbar": {
             "outlinewidth": 0,
             "ticks": ""
            },
            "type": "contourcarpet"
           }
          ],
          "heatmap": [
           {
            "colorbar": {
             "outlinewidth": 0,
             "ticks": ""
            },
            "colorscale": [
             [
              0,
              "#0d0887"
             ],
             [
              0.1111111111111111,
              "#46039f"
             ],
             [
              0.2222222222222222,
              "#7201a8"
             ],
             [
              0.3333333333333333,
              "#9c179e"
             ],
             [
              0.4444444444444444,
              "#bd3786"
             ],
             [
              0.5555555555555556,
              "#d8576b"
             ],
             [
              0.6666666666666666,
              "#ed7953"
             ],
             [
              0.7777777777777778,
              "#fb9f3a"
             ],
             [
              0.8888888888888888,
              "#fdca26"
             ],
             [
              1,
              "#f0f921"
             ]
            ],
            "type": "heatmap"
           }
          ],
          "heatmapgl": [
           {
            "colorbar": {
             "outlinewidth": 0,
             "ticks": ""
            },
            "colorscale": [
             [
              0,
              "#0d0887"
             ],
             [
              0.1111111111111111,
              "#46039f"
             ],
             [
              0.2222222222222222,
              "#7201a8"
             ],
             [
              0.3333333333333333,
              "#9c179e"
             ],
             [
              0.4444444444444444,
              "#bd3786"
             ],
             [
              0.5555555555555556,
              "#d8576b"
             ],
             [
              0.6666666666666666,
              "#ed7953"
             ],
             [
              0.7777777777777778,
              "#fb9f3a"
             ],
             [
              0.8888888888888888,
              "#fdca26"
             ],
             [
              1,
              "#f0f921"
             ]
            ],
            "type": "heatmapgl"
           }
          ],
          "histogram": [
           {
            "marker": {
             "pattern": {
              "fillmode": "overlay",
              "size": 10,
              "solidity": 0.2
             }
            },
            "type": "histogram"
           }
          ],
          "histogram2d": [
           {
            "colorbar": {
             "outlinewidth": 0,
             "ticks": ""
            },
            "colorscale": [
             [
              0,
              "#0d0887"
             ],
             [
              0.1111111111111111,
              "#46039f"
             ],
             [
              0.2222222222222222,
              "#7201a8"
             ],
             [
              0.3333333333333333,
              "#9c179e"
             ],
             [
              0.4444444444444444,
              "#bd3786"
             ],
             [
              0.5555555555555556,
              "#d8576b"
             ],
             [
              0.6666666666666666,
              "#ed7953"
             ],
             [
              0.7777777777777778,
              "#fb9f3a"
             ],
             [
              0.8888888888888888,
              "#fdca26"
             ],
             [
              1,
              "#f0f921"
             ]
            ],
            "type": "histogram2d"
           }
          ],
          "histogram2dcontour": [
           {
            "colorbar": {
             "outlinewidth": 0,
             "ticks": ""
            },
            "colorscale": [
             [
              0,
              "#0d0887"
             ],
             [
              0.1111111111111111,
              "#46039f"
             ],
             [
              0.2222222222222222,
              "#7201a8"
             ],
             [
              0.3333333333333333,
              "#9c179e"
             ],
             [
              0.4444444444444444,
              "#bd3786"
             ],
             [
              0.5555555555555556,
              "#d8576b"
             ],
             [
              0.6666666666666666,
              "#ed7953"
             ],
             [
              0.7777777777777778,
              "#fb9f3a"
             ],
             [
              0.8888888888888888,
              "#fdca26"
             ],
             [
              1,
              "#f0f921"
             ]
            ],
            "type": "histogram2dcontour"
           }
          ],
          "mesh3d": [
           {
            "colorbar": {
             "outlinewidth": 0,
             "ticks": ""
            },
            "type": "mesh3d"
           }
          ],
          "parcoords": [
           {
            "line": {
             "colorbar": {
              "outlinewidth": 0,
              "ticks": ""
             }
            },
            "type": "parcoords"
           }
          ],
          "pie": [
           {
            "automargin": true,
            "type": "pie"
           }
          ],
          "scatter": [
           {
            "marker": {
             "colorbar": {
              "outlinewidth": 0,
              "ticks": ""
             }
            },
            "type": "scatter"
           }
          ],
          "scatter3d": [
           {
            "line": {
             "colorbar": {
              "outlinewidth": 0,
              "ticks": ""
             }
            },
            "marker": {
             "colorbar": {
              "outlinewidth": 0,
              "ticks": ""
             }
            },
            "type": "scatter3d"
           }
          ],
          "scattercarpet": [
           {
            "marker": {
             "colorbar": {
              "outlinewidth": 0,
              "ticks": ""
             }
            },
            "type": "scattercarpet"
           }
          ],
          "scattergeo": [
           {
            "marker": {
             "colorbar": {
              "outlinewidth": 0,
              "ticks": ""
             }
            },
            "type": "scattergeo"
           }
          ],
          "scattergl": [
           {
            "marker": {
             "colorbar": {
              "outlinewidth": 0,
              "ticks": ""
             }
            },
            "type": "scattergl"
           }
          ],
          "scattermapbox": [
           {
            "marker": {
             "colorbar": {
              "outlinewidth": 0,
              "ticks": ""
             }
            },
            "type": "scattermapbox"
           }
          ],
          "scatterpolar": [
           {
            "marker": {
             "colorbar": {
              "outlinewidth": 0,
              "ticks": ""
             }
            },
            "type": "scatterpolar"
           }
          ],
          "scatterpolargl": [
           {
            "marker": {
             "colorbar": {
              "outlinewidth": 0,
              "ticks": ""
             }
            },
            "type": "scatterpolargl"
           }
          ],
          "scatterternary": [
           {
            "marker": {
             "colorbar": {
              "outlinewidth": 0,
              "ticks": ""
             }
            },
            "type": "scatterternary"
           }
          ],
          "surface": [
           {
            "colorbar": {
             "outlinewidth": 0,
             "ticks": ""
            },
            "colorscale": [
             [
              0,
              "#0d0887"
             ],
             [
              0.1111111111111111,
              "#46039f"
             ],
             [
              0.2222222222222222,
              "#7201a8"
             ],
             [
              0.3333333333333333,
              "#9c179e"
             ],
             [
              0.4444444444444444,
              "#bd3786"
             ],
             [
              0.5555555555555556,
              "#d8576b"
             ],
             [
              0.6666666666666666,
              "#ed7953"
             ],
             [
              0.7777777777777778,
              "#fb9f3a"
             ],
             [
              0.8888888888888888,
              "#fdca26"
             ],
             [
              1,
              "#f0f921"
             ]
            ],
            "type": "surface"
           }
          ],
          "table": [
           {
            "cells": {
             "fill": {
              "color": "#EBF0F8"
             },
             "line": {
              "color": "white"
             }
            },
            "header": {
             "fill": {
              "color": "#C8D4E3"
             },
             "line": {
              "color": "white"
             }
            },
            "type": "table"
           }
          ]
         },
         "layout": {
          "annotationdefaults": {
           "arrowcolor": "#2a3f5f",
           "arrowhead": 0,
           "arrowwidth": 1
          },
          "autotypenumbers": "strict",
          "coloraxis": {
           "colorbar": {
            "outlinewidth": 0,
            "ticks": ""
           }
          },
          "colorscale": {
           "diverging": [
            [
             0,
             "#8e0152"
            ],
            [
             0.1,
             "#c51b7d"
            ],
            [
             0.2,
             "#de77ae"
            ],
            [
             0.3,
             "#f1b6da"
            ],
            [
             0.4,
             "#fde0ef"
            ],
            [
             0.5,
             "#f7f7f7"
            ],
            [
             0.6,
             "#e6f5d0"
            ],
            [
             0.7,
             "#b8e186"
            ],
            [
             0.8,
             "#7fbc41"
            ],
            [
             0.9,
             "#4d9221"
            ],
            [
             1,
             "#276419"
            ]
           ],
           "sequential": [
            [
             0,
             "#0d0887"
            ],
            [
             0.1111111111111111,
             "#46039f"
            ],
            [
             0.2222222222222222,
             "#7201a8"
            ],
            [
             0.3333333333333333,
             "#9c179e"
            ],
            [
             0.4444444444444444,
             "#bd3786"
            ],
            [
             0.5555555555555556,
             "#d8576b"
            ],
            [
             0.6666666666666666,
             "#ed7953"
            ],
            [
             0.7777777777777778,
             "#fb9f3a"
            ],
            [
             0.8888888888888888,
             "#fdca26"
            ],
            [
             1,
             "#f0f921"
            ]
           ],
           "sequentialminus": [
            [
             0,
             "#0d0887"
            ],
            [
             0.1111111111111111,
             "#46039f"
            ],
            [
             0.2222222222222222,
             "#7201a8"
            ],
            [
             0.3333333333333333,
             "#9c179e"
            ],
            [
             0.4444444444444444,
             "#bd3786"
            ],
            [
             0.5555555555555556,
             "#d8576b"
            ],
            [
             0.6666666666666666,
             "#ed7953"
            ],
            [
             0.7777777777777778,
             "#fb9f3a"
            ],
            [
             0.8888888888888888,
             "#fdca26"
            ],
            [
             1,
             "#f0f921"
            ]
           ]
          },
          "colorway": [
           "#636efa",
           "#EF553B",
           "#00cc96",
           "#ab63fa",
           "#FFA15A",
           "#19d3f3",
           "#FF6692",
           "#B6E880",
           "#FF97FF",
           "#FECB52"
          ],
          "font": {
           "color": "#2a3f5f"
          },
          "geo": {
           "bgcolor": "white",
           "lakecolor": "white",
           "landcolor": "#E5ECF6",
           "showlakes": true,
           "showland": true,
           "subunitcolor": "white"
          },
          "hoverlabel": {
           "align": "left"
          },
          "hovermode": "closest",
          "mapbox": {
           "style": "light"
          },
          "paper_bgcolor": "white",
          "plot_bgcolor": "#E5ECF6",
          "polar": {
           "angularaxis": {
            "gridcolor": "white",
            "linecolor": "white",
            "ticks": ""
           },
           "bgcolor": "#E5ECF6",
           "radialaxis": {
            "gridcolor": "white",
            "linecolor": "white",
            "ticks": ""
           }
          },
          "scene": {
           "xaxis": {
            "backgroundcolor": "#E5ECF6",
            "gridcolor": "white",
            "gridwidth": 2,
            "linecolor": "white",
            "showbackground": true,
            "ticks": "",
            "zerolinecolor": "white"
           },
           "yaxis": {
            "backgroundcolor": "#E5ECF6",
            "gridcolor": "white",
            "gridwidth": 2,
            "linecolor": "white",
            "showbackground": true,
            "ticks": "",
            "zerolinecolor": "white"
           },
           "zaxis": {
            "backgroundcolor": "#E5ECF6",
            "gridcolor": "white",
            "gridwidth": 2,
            "linecolor": "white",
            "showbackground": true,
            "ticks": "",
            "zerolinecolor": "white"
           }
          },
          "shapedefaults": {
           "line": {
            "color": "#2a3f5f"
           }
          },
          "ternary": {
           "aaxis": {
            "gridcolor": "white",
            "linecolor": "white",
            "ticks": ""
           },
           "baxis": {
            "gridcolor": "white",
            "linecolor": "white",
            "ticks": ""
           },
           "bgcolor": "#E5ECF6",
           "caxis": {
            "gridcolor": "white",
            "linecolor": "white",
            "ticks": ""
           }
          },
          "title": {
           "x": 0.05
          },
          "xaxis": {
           "automargin": true,
           "gridcolor": "white",
           "linecolor": "white",
           "ticks": "",
           "title": {
            "standoff": 15
           },
           "zerolinecolor": "white",
           "zerolinewidth": 2
          },
          "yaxis": {
           "automargin": true,
           "gridcolor": "white",
           "linecolor": "white",
           "ticks": "",
           "title": {
            "standoff": 15
           },
           "zerolinecolor": "white",
           "zerolinewidth": 2
          }
         }
        }
       }
      },
      "text/html": [
       "<div>                            <div id=\"c14c946d-4848-45fa-b42f-45c3cfe9eaa4\" class=\"plotly-graph-div\" style=\"height:525px; width:100%;\"></div>            <script type=\"text/javascript\">                require([\"plotly\"], function(Plotly) {                    window.PLOTLYENV=window.PLOTLYENV || {};                                    if (document.getElementById(\"c14c946d-4848-45fa-b42f-45c3cfe9eaa4\")) {                    Plotly.newPlot(                        \"c14c946d-4848-45fa-b42f-45c3cfe9eaa4\",                        [{\"marker\":{\"size\":20},\"mode\":\"markers\",\"name\":\"['elu', 0.4]\",\"text\":[\"filters:[512]-strides:[1]-kernel_size:[9]-drop:0.5-full:[512]-fulldrop:0.5-activation_full:['elu', 0.4]-depth_multiplier:5-lag:3-radius:0.5-corr:[0.75, 0.85]-nneighbors:200-activation:['elu', 0.4]\",\"filters:[512]-strides:[1]-kernel_size:[9]-drop:0.25-full:[512]-fulldrop:0.5-activation_full:['leaky', 0.2]-depth_multiplier:4-lag:12-radius:0.5-corr:[0.8, 0.9]-nneighbors:250-activation:['elu', 0.4]\",\"filters:[512]-strides:[1]-kernel_size:[9]-drop:0.25-full:[512]-fulldrop:0.25-activation_full:['leaky', 0.2]-depth_multiplier:4-lag:9-radius:1-corr:[0.85, 0.95]-nneighbors:200-activation:['elu', 0.4]\",\"filters:[512]-strides:[1]-kernel_size:[7]-drop:0.5-full:[512]-fulldrop:0.5-activation_full:['leaky', 0.2]-depth_multiplier:6-lag:12-radius:2-corr:[0.7, 0.9]-nneighbors:150-activation:['elu', 0.4]\",\"filters:[512]-strides:[1]-kernel_size:[3]-drop:0.5-full:[512]-fulldrop:0.0-activation_full:['elu', 0.4]-depth_multiplier:5-lag:9-radius:1.5-corr:[0.7, 0.8]-nneighbors:150-activation:['elu', 0.4]\",\"filters:[512]-strides:[1]-kernel_size:[3]-drop:0.5-full:[1024]-fulldrop:0.0-activation_full:['elu', 0.4]-depth_multiplier:5-lag:6-radius:1.5-corr:[0.8, 0.9]-nneighbors:300-activation:['elu', 0.4]\",\"filters:[512]-strides:[1]-kernel_size:[3]-drop:0.25-full:[512]-fulldrop:0.25-activation_full:['elu', 0.4]-depth_multiplier:5-lag:6-radius:0.5-corr:[0.75, 0.95]-nneighbors:150-activation:['elu', 0.4]\",\"filters:[512]-strides:[1]-kernel_size:[3]-drop:0.25-full:[512]-fulldrop:0.25-activation_full:['elu', 0.4]-depth_multiplier:4-lag:3-radius:0.5-corr:[0.7, 0.9]-nneighbors:150-activation:['elu', 0.4]\",\"filters:[512]-strides:[1]-kernel_size:[3]-drop:0.0-full:[512]-fulldrop:0.5-activation_full:['elu', 0.4]-depth_multiplier:4-lag:6-radius:0.5-corr:[0.7, 0.9]-nneighbors:150-activation:['elu', 0.4]\",\"filters:[512]-strides:[1]-kernel_size:[5]-drop:0.0-full:[512]-fulldrop:0.25-activation_full:['leaky', 0.2]-depth_multiplier:6-lag:6-radius:1.5-corr:[0.85, 0.95]-nneighbors:200-activation:['elu', 0.4]\",\"filters:[512]-strides:[2]-kernel_size:[9]-drop:0.25-full:[512]-fulldrop:0.25-activation_full:['elu', 0.4]-depth_multiplier:6-lag:12-radius:1-corr:[0.85, 0.95]-nneighbors:150-activation:['elu', 0.4]\",\"filters:[512]-strides:[2]-kernel_size:[3]-drop:0.0-full:[1024]-fulldrop:0.0-activation_full:['leaky', 0.2]-depth_multiplier:5-lag:9-radius:1-corr:[0.7, 0.9]-nneighbors:300-activation:['elu', 0.4]\",\"filters:[512]-strides:[3]-kernel_size:[9]-drop:0.5-full:[1024]-fulldrop:0.25-activation_full:['elu', 0.4]-depth_multiplier:4-lag:3-radius:0.5-corr:[0.7, 0.8]-nneighbors:150-activation:['elu', 0.4]\",\"filters:[512]-strides:[3]-kernel_size:[9]-drop:0.5-full:[512]-fulldrop:0.0-activation_full:['leaky', 0.2]-depth_multiplier:5-lag:3-radius:1.5-corr:[0.75, 0.95]-nneighbors:300-activation:['elu', 0.4]\",\"filters:[512]-strides:[3]-kernel_size:[9]-drop:0.5-full:[512]-fulldrop:0.0-activation_full:['leaky', 0.2]-depth_multiplier:5-lag:6-radius:2-corr:[0.75, 0.95]-nneighbors:300-activation:['elu', 0.4]\",\"filters:[512]-strides:[3]-kernel_size:[9]-drop:0.25-full:[1024]-fulldrop:0.25-activation_full:['elu', 0.4]-depth_multiplier:4-lag:9-radius:0.5-corr:[0.7, 0.9]-nneighbors:250-activation:['elu', 0.4]\",\"filters:[512]-strides:[3]-kernel_size:[9]-drop:0.0-full:[512]-fulldrop:0.5-activation_full:['elu', 0.4]-depth_multiplier:4-lag:3-radius:1-corr:[0.7, 0.9]-nneighbors:150-activation:['elu', 0.4]\",\"filters:[512]-strides:[3]-kernel_size:[7]-drop:0.5-full:[512]-fulldrop:0.0-activation_full:['leaky', 0.2]-depth_multiplier:5-lag:3-radius:2-corr:[0.75, 0.95]-nneighbors:300-activation:['elu', 0.4]\",\"filters:[512]-strides:[3]-kernel_size:[7]-drop:0.5-full:[512]-fulldrop:0.0-activation_full:['leaky', 0.2]-depth_multiplier:5-lag:3-radius:1.5-corr:[0.75, 0.95]-nneighbors:300-activation:['elu', 0.4]\",\"filters:[512]-strides:[3]-kernel_size:[7]-drop:0.5-full:[512]-fulldrop:0.0-activation_full:['leaky', 0.2]-depth_multiplier:5-lag:6-radius:1.5-corr:[0.7, 0.8]-nneighbors:300-activation:['elu', 0.4]\",\"filters:[512]-strides:[3]-kernel_size:[7]-drop:0.5-full:[512]-fulldrop:0.0-activation_full:['leaky', 0.2]-depth_multiplier:4-lag:3-radius:1.5-corr:[0.75, 0.95]-nneighbors:300-activation:['elu', 0.4]\",\"filters:[512]-strides:[3]-kernel_size:[7]-drop:0.5-full:[512]-fulldrop:0.0-activation_full:['leaky', 0.2]-depth_multiplier:4-lag:6-radius:1.5-corr:[0.75, 0.95]-nneighbors:300-activation:['elu', 0.4]\",\"filters:[512]-strides:[3]-kernel_size:[7]-drop:0.5-full:[512]-fulldrop:0.0-activation_full:['leaky', 0.2]-depth_multiplier:6-lag:3-radius:1.5-corr:[0.75, 0.95]-nneighbors:300-activation:['elu', 0.4]\",\"filters:[512]-strides:[3]-kernel_size:[7]-drop:0.5-full:[512]-fulldrop:0.0-activation_full:['leaky', 0.2]-depth_multiplier:6-lag:6-radius:1.5-corr:[0.75, 0.95]-nneighbors:300-activation:['elu', 0.4]\",\"filters:[512]-strides:[3]-kernel_size:[7]-drop:0.25-full:[512]-fulldrop:0.5-activation_full:['elu', 0.4]-depth_multiplier:5-lag:12-radius:0.5-corr:[0.85, 0.95]-nneighbors:200-activation:['elu', 0.4]\",\"filters:[512]-strides:[3]-kernel_size:[7]-drop:0.0-full:[512]-fulldrop:0.25-activation_full:['leaky', 0.2]-depth_multiplier:4-lag:9-radius:1-corr:[0.7, 0.9]-nneighbors:300-activation:['elu', 0.4]\",\"filters:[512]-strides:[3]-kernel_size:[3]-drop:0.25-full:[1024]-fulldrop:0.5-activation_full:['leaky', 0.2]-depth_multiplier:4-lag:12-radius:2-corr:[0.75, 0.85]-nneighbors:300-activation:['elu', 0.4]\",\"filters:[512]-strides:[3]-kernel_size:[3]-drop:0.0-full:[1024]-fulldrop:0.25-activation_full:['leaky', 0.2]-depth_multiplier:5-lag:6-radius:0.5-corr:[0.75, 0.85]-nneighbors:200-activation:['elu', 0.4]\",\"filters:[512]-strides:[3]-kernel_size:[5]-drop:0.5-full:[512]-fulldrop:0.0-activation_full:['leaky', 0.2]-depth_multiplier:5-lag:6-radius:1.5-corr:[0.75, 0.95]-nneighbors:300-activation:['elu', 0.4]\",\"filters:[256]-strides:[1]-kernel_size:[9]-drop:0.5-full:[512]-fulldrop:0.5-activation_full:['leaky', 0.2]-depth_multiplier:6-lag:9-radius:1.5-corr:[0.8, 0.9]-nneighbors:150-activation:['elu', 0.4]\",\"filters:[256]-strides:[1]-kernel_size:[9]-drop:0.0-full:[512]-fulldrop:0.25-activation_full:['leaky', 0.2]-depth_multiplier:4-lag:12-radius:1-corr:[0.85, 0.95]-nneighbors:300-activation:['elu', 0.4]\",\"filters:[256]-strides:[1]-kernel_size:[9]-drop:0.0-full:[512]-fulldrop:0.0-activation_full:['leaky', 0.2]-depth_multiplier:4-lag:9-radius:1-corr:[0.75, 0.85]-nneighbors:150-activation:['elu', 0.4]\",\"filters:[256]-strides:[1]-kernel_size:[7]-drop:0.0-full:[512]-fulldrop:0.0-activation_full:['elu', 0.4]-depth_multiplier:5-lag:3-radius:0.5-corr:[0.75, 0.85]-nneighbors:200-activation:['elu', 0.4]\",\"filters:[256]-strides:[2]-kernel_size:[9]-drop:0.25-full:[1024]-fulldrop:0.0-activation_full:['leaky', 0.2]-depth_multiplier:4-lag:9-radius:2-corr:[0.85, 0.95]-nneighbors:300-activation:['elu', 0.4]\",\"filters:[256]-strides:[2]-kernel_size:[5]-drop:0.25-full:[1024]-fulldrop:0.25-activation_full:['leaky', 0.2]-depth_multiplier:5-lag:9-radius:0.5-corr:[0.75, 0.95]-nneighbors:150-activation:['elu', 0.4]\",\"filters:[256]-strides:[3]-kernel_size:[9]-drop:0.25-full:[1024]-fulldrop:0.0-activation_full:['leaky', 0.2]-depth_multiplier:6-lag:9-radius:1-corr:[0.8, 0.9]-nneighbors:250-activation:['elu', 0.4]\",\"filters:[256]-strides:[3]-kernel_size:[7]-drop:0.25-full:[1024]-fulldrop:0.5-activation_full:['elu', 0.4]-depth_multiplier:4-lag:6-radius:0.5-corr:[0.8, 0.9]-nneighbors:200-activation:['elu', 0.4]\",\"filters:[256]-strides:[3]-kernel_size:[7]-drop:0.25-full:[1024]-fulldrop:0.25-activation_full:['elu', 0.4]-depth_multiplier:5-lag:6-radius:1-corr:[0.75, 0.85]-nneighbors:200-activation:['elu', 0.4]\",\"filters:[256]-strides:[3]-kernel_size:[7]-drop:0.0-full:[512]-fulldrop:0.25-activation_full:['elu', 0.4]-depth_multiplier:4-lag:6-radius:1-corr:[0.7, 0.9]-nneighbors:150-activation:['elu', 0.4]\",\"filters:[256]-strides:[3]-kernel_size:[3]-drop:0.0-full:[512]-fulldrop:0.5-activation_full:['leaky', 0.2]-depth_multiplier:5-lag:3-radius:1.5-corr:[0.7, 0.8]-nneighbors:150-activation:['elu', 0.4]\",\"filters:[256]-strides:[3]-kernel_size:[3]-drop:0.0-full:[512]-fulldrop:0.0-activation_full:['leaky', 0.2]-depth_multiplier:6-lag:12-radius:1-corr:[0.8, 0.9]-nneighbors:250-activation:['elu', 0.4]\",\"filters:[256]-strides:[3]-kernel_size:[5]-drop:0.5-full:[1024]-fulldrop:0.5-activation_full:['elu', 0.4]-depth_multiplier:4-lag:12-radius:1-corr:[0.75, 0.85]-nneighbors:200-activation:['elu', 0.4]\",\"filters:[256]-strides:[3]-kernel_size:[5]-drop:0.5-full:[512]-fulldrop:0.5-activation_full:['leaky', 0.2]-depth_multiplier:5-lag:6-radius:1.5-corr:[0.85, 0.95]-nneighbors:200-activation:['elu', 0.4]\",\"filters:[1024]-strides:[1]-kernel_size:[9]-drop:0.5-full:[512]-fulldrop:0.5-activation_full:['elu', 0.4]-depth_multiplier:6-lag:6-radius:0.5-corr:[0.75, 0.85]-nneighbors:200-activation:['elu', 0.4]\",\"filters:[1024]-strides:[1]-kernel_size:[9]-drop:0.25-full:[512]-fulldrop:0.25-activation_full:['elu', 0.4]-depth_multiplier:5-lag:9-radius:1.5-corr:[0.7, 0.8]-nneighbors:150-activation:['elu', 0.4]\",\"filters:[1024]-strides:[1]-kernel_size:[7]-drop:0.5-full:[512]-fulldrop:0.25-activation_full:['elu', 0.4]-depth_multiplier:4-lag:6-radius:2-corr:[0.8, 0.9]-nneighbors:250-activation:['elu', 0.4]\",\"filters:[1024]-strides:[1]-kernel_size:[7]-drop:0.25-full:[1024]-fulldrop:0.5-activation_full:['leaky', 0.2]-depth_multiplier:4-lag:9-radius:0.5-corr:[0.75, 0.85]-nneighbors:300-activation:['elu', 0.4]\",\"filters:[1024]-strides:[1]-kernel_size:[7]-drop:0.25-full:[1024]-fulldrop:0.0-activation_full:['leaky', 0.2]-depth_multiplier:5-lag:3-radius:1.5-corr:[0.85, 0.95]-nneighbors:250-activation:['elu', 0.4]\",\"filters:[1024]-strides:[1]-kernel_size:[7]-drop:0.0-full:[512]-fulldrop:0.0-activation_full:['elu', 0.4]-depth_multiplier:5-lag:12-radius:2-corr:[0.75, 0.85]-nneighbors:300-activation:['elu', 0.4]\",\"filters:[1024]-strides:[1]-kernel_size:[5]-drop:0.5-full:[512]-fulldrop:0.5-activation_full:['leaky', 0.2]-depth_multiplier:6-lag:3-radius:1.5-corr:[0.75, 0.85]-nneighbors:200-activation:['elu', 0.4]\",\"filters:[1024]-strides:[1]-kernel_size:[5]-drop:0.25-full:[1024]-fulldrop:0.25-activation_full:['elu', 0.4]-depth_multiplier:4-lag:12-radius:0.5-corr:[0.85, 0.95]-nneighbors:250-activation:['elu', 0.4]\",\"filters:[1024]-strides:[1]-kernel_size:[5]-drop:0.25-full:[1024]-fulldrop:0.0-activation_full:['leaky', 0.2]-depth_multiplier:4-lag:9-radius:2-corr:[0.75, 0.85]-nneighbors:200-activation:['elu', 0.4]\",\"filters:[1024]-strides:[2]-kernel_size:[9]-drop:0.0-full:[512]-fulldrop:0.5-activation_full:['elu', 0.4]-depth_multiplier:5-lag:9-radius:1-corr:[0.8, 0.9]-nneighbors:300-activation:['elu', 0.4]\",\"filters:[1024]-strides:[2]-kernel_size:[7]-drop:0.5-full:[1024]-fulldrop:0.25-activation_full:['leaky', 0.2]-depth_multiplier:6-lag:9-radius:2-corr:[0.75, 0.85]-nneighbors:200-activation:['elu', 0.4]\",\"filters:[1024]-strides:[2]-kernel_size:[3]-drop:0.5-full:[512]-fulldrop:0.5-activation_full:['elu', 0.4]-depth_multiplier:4-lag:6-radius:0.5-corr:[0.75, 0.85]-nneighbors:250-activation:['elu', 0.4]\",\"filters:[1024]-strides:[2]-kernel_size:[5]-drop:0.25-full:[1024]-fulldrop:0.5-activation_full:['leaky', 0.2]-depth_multiplier:6-lag:3-radius:2-corr:[0.85, 0.95]-nneighbors:300-activation:['elu', 0.4]\",\"filters:[1024]-strides:[3]-kernel_size:[9]-drop:0.5-full:[512]-fulldrop:0.25-activation_full:['leaky', 0.2]-depth_multiplier:5-lag:12-radius:2-corr:[0.7, 0.9]-nneighbors:200-activation:['elu', 0.4]\",\"filters:[1024]-strides:[3]-kernel_size:[9]-drop:0.5-full:[512]-fulldrop:0.25-activation_full:['leaky', 0.2]-depth_multiplier:4-lag:3-radius:1.5-corr:[0.7, 0.9]-nneighbors:300-activation:['elu', 0.4]\",\"filters:[1024]-strides:[3]-kernel_size:[9]-drop:0.0-full:[512]-fulldrop:0.5-activation_full:['elu', 0.4]-depth_multiplier:5-lag:9-radius:0.5-corr:[0.75, 0.85]-nneighbors:150-activation:['elu', 0.4]\",\"filters:[1024]-strides:[3]-kernel_size:[7]-drop:0.0-full:[512]-fulldrop:0.5-activation_full:['elu', 0.4]-depth_multiplier:4-lag:12-radius:1-corr:[0.75, 0.85]-nneighbors:200-activation:['elu', 0.4]\",\"filters:[1024]-strides:[3]-kernel_size:[3]-drop:0.5-full:[512]-fulldrop:0.0-activation_full:['leaky', 0.2]-depth_multiplier:5-lag:3-radius:1.5-corr:[0.7, 0.8]-nneighbors:300-activation:['elu', 0.4]\",\"filters:[1024]-strides:[3]-kernel_size:[3]-drop:0.5-full:[512]-fulldrop:0.0-activation_full:['leaky', 0.2]-depth_multiplier:6-lag:6-radius:1-corr:[0.7, 0.8]-nneighbors:300-activation:['elu', 0.4]\",\"filters:[1024]-strides:[3]-kernel_size:[3]-drop:0.0-full:[512]-fulldrop:0.5-activation_full:['elu', 0.4]-depth_multiplier:4-lag:3-radius:2-corr:[0.7, 0.9]-nneighbors:250-activation:['elu', 0.4]\",\"filters:[1024]-strides:[3]-kernel_size:[3]-drop:0.0-full:[1024]-fulldrop:0.0-activation_full:['leaky', 0.2]-depth_multiplier:6-lag:6-radius:0.5-corr:[0.7, 0.8]-nneighbors:150-activation:['elu', 0.4]\",\"filters:[1024]-strides:[3]-kernel_size:[5]-drop:0.5-full:[512]-fulldrop:0.0-activation_full:['leaky', 0.2]-depth_multiplier:4-lag:3-radius:1-corr:[0.7, 0.9]-nneighbors:300-activation:['elu', 0.4]\",\"filters:[1024]-strides:[3]-kernel_size:[5]-drop:0.5-full:[1024]-fulldrop:0.5-activation_full:['leaky', 0.2]-depth_multiplier:4-lag:12-radius:2-corr:[0.85, 0.95]-nneighbors:250-activation:['elu', 0.4]\",\"filters:[1024]-strides:[3]-kernel_size:[5]-drop:0.25-full:[1024]-fulldrop:0.0-activation_full:['leaky', 0.2]-depth_multiplier:4-lag:12-radius:0.5-corr:[0.8, 0.9]-nneighbors:250-activation:['elu', 0.4]\"],\"type\":\"scatter\",\"x\":[7.639218518530875,7.632309549600913,7.632125037067206,7.627749428144719,7.633036073821553,7.628040120544853,7.627506975550642,7.635366551234348],\"y\":[100,100,100,92,100,100,100,100]},{\"marker\":{\"size\":20},\"mode\":\"markers\",\"name\":\"['leaky', 0.2]\",\"text\":[\"filters:[512]-strides:[1]-kernel_size:[7]-drop:0.0-full:[512]-fulldrop:0.0-activation_full:['leaky', 0.2]-depth_multiplier:6-lag:3-radius:0.5-corr:[0.85, 0.95]-nneighbors:250-activation:['leaky', 0.2]\",\"filters:[512]-strides:[1]-kernel_size:[3]-drop:0.5-full:[1024]-fulldrop:0.5-activation_full:['leaky', 0.2]-depth_multiplier:5-lag:12-radius:2-corr:[0.75, 0.95]-nneighbors:300-activation:['leaky', 0.2]\",\"filters:[512]-strides:[1]-kernel_size:[5]-drop:0.25-full:[512]-fulldrop:0.5-activation_full:['elu', 0.4]-depth_multiplier:5-lag:9-radius:1-corr:[0.7, 0.8]-nneighbors:250-activation:['leaky', 0.2]\",\"filters:[512]-strides:[1]-kernel_size:[5]-drop:0.25-full:[512]-fulldrop:0.25-activation_full:['leaky', 0.2]-depth_multiplier:5-lag:6-radius:1-corr:[0.75, 0.85]-nneighbors:200-activation:['leaky', 0.2]\",\"filters:[512]-strides:[1]-kernel_size:[5]-drop:0.25-full:[1024]-fulldrop:0.5-activation_full:['leaky', 0.2]-depth_multiplier:6-lag:9-radius:1.5-corr:[0.7, 0.9]-nneighbors:250-activation:['leaky', 0.2]\",\"filters:[512]-strides:[2]-kernel_size:[9]-drop:0.0-full:[512]-fulldrop:0.5-activation_full:['elu', 0.4]-depth_multiplier:5-lag:12-radius:0.5-corr:[0.7, 0.9]-nneighbors:250-activation:['leaky', 0.2]\",\"filters:[512]-strides:[2]-kernel_size:[7]-drop:0.5-full:[512]-fulldrop:0.0-activation_full:['elu', 0.4]-depth_multiplier:4-lag:9-radius:0.5-corr:[0.75, 0.85]-nneighbors:250-activation:['leaky', 0.2]\",\"filters:[512]-strides:[2]-kernel_size:[7]-drop:0.5-full:[1024]-fulldrop:0.25-activation_full:['leaky', 0.2]-depth_multiplier:4-lag:12-radius:1-corr:[0.75, 0.95]-nneighbors:300-activation:['leaky', 0.2]\",\"filters:[512]-strides:[2]-kernel_size:[3]-drop:0.25-full:[1024]-fulldrop:0.0-activation_full:['leaky', 0.2]-depth_multiplier:5-lag:9-radius:1.5-corr:[0.7, 0.8]-nneighbors:200-activation:['leaky', 0.2]\",\"filters:[512]-strides:[3]-kernel_size:[9]-drop:0.5-full:[512]-fulldrop:0.0-activation_full:['elu', 0.4]-depth_multiplier:5-lag:3-radius:2-corr:[0.7, 0.8]-nneighbors:300-activation:['leaky', 0.2]\",\"filters:[512]-strides:[3]-kernel_size:[9]-drop:0.5-full:[512]-fulldrop:0.0-activation_full:['elu', 0.4]-depth_multiplier:5-lag:3-radius:1.5-corr:[0.75, 0.95]-nneighbors:300-activation:['leaky', 0.2]\",\"filters:[512]-strides:[3]-kernel_size:[9]-drop:0.5-full:[512]-fulldrop:0.0-activation_full:['elu', 0.4]-depth_multiplier:5-lag:6-radius:2-corr:[0.75, 0.95]-nneighbors:300-activation:['leaky', 0.2]\",\"filters:[512]-strides:[3]-kernel_size:[9]-drop:0.5-full:[512]-fulldrop:0.0-activation_full:['leaky', 0.2]-depth_multiplier:5-lag:3-radius:1.5-corr:[0.75, 0.95]-nneighbors:300-activation:['leaky', 0.2]\",\"filters:[512]-strides:[3]-kernel_size:[9]-drop:0.5-full:[512]-fulldrop:0.0-activation_full:['leaky', 0.2]-depth_multiplier:5-lag:6-radius:2-corr:[0.75, 0.95]-nneighbors:300-activation:['leaky', 0.2]\",\"filters:[512]-strides:[3]-kernel_size:[9]-drop:0.5-full:[512]-fulldrop:0.0-activation_full:['leaky', 0.2]-depth_multiplier:5-lag:6-radius:1.5-corr:[0.7, 0.9]-nneighbors:300-activation:['leaky', 0.2]\",\"filters:[512]-strides:[3]-kernel_size:[9]-drop:0.5-full:[512]-fulldrop:0.0-activation_full:['leaky', 0.2]-depth_multiplier:5-lag:6-radius:1.5-corr:[0.75, 0.95]-nneighbors:300-activation:['leaky', 0.2]\",\"filters:[512]-strides:[3]-kernel_size:[9]-drop:0.5-full:[512]-fulldrop:0.0-activation_full:['leaky', 0.2]-depth_multiplier:4-lag:6-radius:1.5-corr:[0.7, 0.9]-nneighbors:300-activation:['leaky', 0.2]\",\"filters:[512]-strides:[3]-kernel_size:[9]-drop:0.5-full:[512]-fulldrop:0.0-activation_full:['leaky', 0.2]-depth_multiplier:6-lag:3-radius:1.5-corr:[0.7, 0.9]-nneighbors:300-activation:['leaky', 0.2]\",\"filters:[512]-strides:[3]-kernel_size:[9]-drop:0.5-full:[512]-fulldrop:0.0-activation_full:['leaky', 0.2]-depth_multiplier:6-lag:6-radius:1.5-corr:[0.7, 0.9]-nneighbors:300-activation:['leaky', 0.2]\",\"filters:[512]-strides:[3]-kernel_size:[9]-drop:0.0-full:[1024]-fulldrop:0.0-activation_full:['elu', 0.4]-depth_multiplier:6-lag:9-radius:2-corr:[0.75, 0.95]-nneighbors:300-activation:['leaky', 0.2]\",\"filters:[512]-strides:[3]-kernel_size:[7]-drop:0.5-full:[512]-fulldrop:0.0-activation_full:['elu', 0.4]-depth_multiplier:5-lag:3-radius:2-corr:[0.75, 0.95]-nneighbors:300-activation:['leaky', 0.2]\",\"filters:[512]-strides:[3]-kernel_size:[7]-drop:0.5-full:[512]-fulldrop:0.0-activation_full:['elu', 0.4]-depth_multiplier:5-lag:3-radius:1.5-corr:[0.75, 0.95]-nneighbors:300-activation:['leaky', 0.2]\",\"filters:[512]-strides:[3]-kernel_size:[7]-drop:0.5-full:[512]-fulldrop:0.0-activation_full:['elu', 0.4]-depth_multiplier:4-lag:3-radius:1.5-corr:[0.75, 0.95]-nneighbors:300-activation:['leaky', 0.2]\",\"filters:[512]-strides:[3]-kernel_size:[7]-drop:0.5-full:[512]-fulldrop:0.0-activation_full:['elu', 0.4]-depth_multiplier:4-lag:6-radius:1.5-corr:[0.75, 0.95]-nneighbors:300-activation:['leaky', 0.2]\",\"filters:[512]-strides:[3]-kernel_size:[7]-drop:0.5-full:[512]-fulldrop:0.0-activation_full:['elu', 0.4]-depth_multiplier:6-lag:3-radius:1.5-corr:[0.75, 0.95]-nneighbors:300-activation:['leaky', 0.2]\",\"filters:[512]-strides:[3]-kernel_size:[7]-drop:0.5-full:[512]-fulldrop:0.0-activation_full:['elu', 0.4]-depth_multiplier:6-lag:6-radius:1.5-corr:[0.75, 0.95]-nneighbors:300-activation:['leaky', 0.2]\",\"filters:[512]-strides:[3]-kernel_size:[7]-drop:0.5-full:[1024]-fulldrop:0.0-activation_full:['elu', 0.4]-depth_multiplier:5-lag:12-radius:1-corr:[0.8, 0.9]-nneighbors:300-activation:['leaky', 0.2]\",\"filters:[512]-strides:[3]-kernel_size:[7]-drop:0.5-full:[512]-fulldrop:0.25-activation_full:['leaky', 0.2]-depth_multiplier:6-lag:6-radius:2-corr:[0.7, 0.9]-nneighbors:300-activation:['leaky', 0.2]\",\"filters:[512]-strides:[3]-kernel_size:[7]-drop:0.5-full:[512]-fulldrop:0.0-activation_full:['leaky', 0.2]-depth_multiplier:5-lag:3-radius:2-corr:[0.75, 0.95]-nneighbors:300-activation:['leaky', 0.2]\",\"filters:[512]-strides:[3]-kernel_size:[7]-drop:0.5-full:[512]-fulldrop:0.0-activation_full:['leaky', 0.2]-depth_multiplier:5-lag:3-radius:1.5-corr:[0.75, 0.95]-nneighbors:300-activation:['leaky', 0.2]\",\"filters:[512]-strides:[3]-kernel_size:[7]-drop:0.5-full:[512]-fulldrop:0.0-activation_full:['leaky', 0.2]-depth_multiplier:5-lag:6-radius:2-corr:[0.75, 0.95]-nneighbors:300-activation:['leaky', 0.2]\",\"filters:[512]-strides:[3]-kernel_size:[7]-drop:0.5-full:[512]-fulldrop:0.0-activation_full:['leaky', 0.2]-depth_multiplier:5-lag:6-radius:1.5-corr:[0.75, 0.95]-nneighbors:300-activation:['leaky', 0.2]\",\"filters:[512]-strides:[3]-kernel_size:[7]-drop:0.5-full:[512]-fulldrop:0.0-activation_full:['leaky', 0.2]-depth_multiplier:4-lag:3-radius:1.5-corr:[0.75, 0.95]-nneighbors:300-activation:['leaky', 0.2]\",\"filters:[512]-strides:[3]-kernel_size:[7]-drop:0.5-full:[512]-fulldrop:0.0-activation_full:['leaky', 0.2]-depth_multiplier:4-lag:6-radius:1.5-corr:[0.75, 0.95]-nneighbors:300-activation:['leaky', 0.2]\",\"filters:[512]-strides:[3]-kernel_size:[7]-drop:0.5-full:[512]-fulldrop:0.0-activation_full:['leaky', 0.2]-depth_multiplier:6-lag:3-radius:1.5-corr:[0.7, 0.9]-nneighbors:300-activation:['leaky', 0.2]\",\"filters:[512]-strides:[3]-kernel_size:[7]-drop:0.5-full:[512]-fulldrop:0.0-activation_full:['leaky', 0.2]-depth_multiplier:6-lag:3-radius:1.5-corr:[0.75, 0.95]-nneighbors:300-activation:['leaky', 0.2]\",\"filters:[512]-strides:[3]-kernel_size:[7]-drop:0.5-full:[512]-fulldrop:0.0-activation_full:['leaky', 0.2]-depth_multiplier:6-lag:6-radius:2-corr:[0.7, 0.9]-nneighbors:300-activation:['leaky', 0.2]\",\"filters:[512]-strides:[3]-kernel_size:[7]-drop:0.5-full:[512]-fulldrop:0.0-activation_full:['leaky', 0.2]-depth_multiplier:6-lag:6-radius:1.5-corr:[0.7, 0.9]-nneighbors:300-activation:['leaky', 0.2]\",\"filters:[512]-strides:[3]-kernel_size:[7]-drop:0.5-full:[512]-fulldrop:0.0-activation_full:['leaky', 0.2]-depth_multiplier:6-lag:6-radius:1.5-corr:[0.75, 0.95]-nneighbors:300-activation:['leaky', 0.2]\",\"filters:[512]-strides:[3]-kernel_size:[7]-drop:0.5-full:[1024]-fulldrop:0.0-activation_full:['leaky', 0.2]-depth_multiplier:4-lag:3-radius:2-corr:[0.7, 0.8]-nneighbors:300-activation:['leaky', 0.2]\",\"filters:[512]-strides:[3]-kernel_size:[7]-drop:0.5-full:[1024]-fulldrop:0.0-activation_full:['leaky', 0.2]-depth_multiplier:6-lag:3-radius:1.5-corr:[0.75, 0.95]-nneighbors:300-activation:['leaky', 0.2]\",\"filters:[512]-strides:[3]-kernel_size:[3]-drop:0.5-full:[512]-fulldrop:0.0-activation_full:['elu', 0.4]-depth_multiplier:5-lag:6-radius:1.5-corr:[0.75, 0.95]-nneighbors:300-activation:['leaky', 0.2]\",\"filters:[512]-strides:[3]-kernel_size:[3]-drop:0.5-full:[1024]-fulldrop:0.0-activation_full:['elu', 0.4]-depth_multiplier:4-lag:12-radius:1.5-corr:[0.85, 0.95]-nneighbors:300-activation:['leaky', 0.2]\",\"filters:[512]-strides:[3]-kernel_size:[3]-drop:0.5-full:[512]-fulldrop:0.0-activation_full:['leaky', 0.2]-depth_multiplier:5-lag:6-radius:1.5-corr:[0.75, 0.95]-nneighbors:300-activation:['leaky', 0.2]\",\"filters:[512]-strides:[3]-kernel_size:[5]-drop:0.5-full:[512]-fulldrop:0.5-activation_full:['elu', 0.4]-depth_multiplier:5-lag:6-radius:1.5-corr:[0.75, 0.95]-nneighbors:300-activation:['leaky', 0.2]\",\"filters:[512]-strides:[3]-kernel_size:[5]-drop:0.5-full:[512]-fulldrop:0.0-activation_full:['elu', 0.4]-depth_multiplier:5-lag:6-radius:1.5-corr:[0.75, 0.95]-nneighbors:300-activation:['leaky', 0.2]\",\"filters:[512]-strides:[3]-kernel_size:[5]-drop:0.5-full:[512]-fulldrop:0.0-activation_full:['leaky', 0.2]-depth_multiplier:5-lag:6-radius:1.5-corr:[0.7, 0.9]-nneighbors:300-activation:['leaky', 0.2]\",\"filters:[512]-strides:[3]-kernel_size:[5]-drop:0.5-full:[512]-fulldrop:0.0-activation_full:['leaky', 0.2]-depth_multiplier:5-lag:6-radius:1.5-corr:[0.75, 0.95]-nneighbors:300-activation:['leaky', 0.2]\",\"filters:[512]-strides:[3]-kernel_size:[5]-drop:0.5-full:[512]-fulldrop:0.0-activation_full:['leaky', 0.2]-depth_multiplier:4-lag:6-radius:1.5-corr:[0.7, 0.9]-nneighbors:300-activation:['leaky', 0.2]\",\"filters:[512]-strides:[3]-kernel_size:[5]-drop:0.5-full:[512]-fulldrop:0.0-activation_full:['leaky', 0.2]-depth_multiplier:6-lag:3-radius:1.5-corr:[0.7, 0.9]-nneighbors:300-activation:['leaky', 0.2]\",\"filters:[512]-strides:[3]-kernel_size:[5]-drop:0.5-full:[512]-fulldrop:0.0-activation_full:['leaky', 0.2]-depth_multiplier:6-lag:9-radius:1.5-corr:[0.75, 0.95]-nneighbors:250-activation:['leaky', 0.2]\",\"filters:[512]-strides:[3]-kernel_size:[5]-drop:0.5-full:[512]-fulldrop:0.0-activation_full:['leaky', 0.2]-depth_multiplier:6-lag:6-radius:1-corr:[0.75, 0.85]-nneighbors:300-activation:['leaky', 0.2]\",\"filters:[512]-strides:[3]-kernel_size:[5]-drop:0.5-full:[512]-fulldrop:0.0-activation_full:['leaky', 0.2]-depth_multiplier:6-lag:6-radius:1.5-corr:[0.7, 0.9]-nneighbors:300-activation:['leaky', 0.2]\",\"filters:[512]-strides:[3]-kernel_size:[5]-drop:0.5-full:[1024]-fulldrop:0.0-activation_full:['leaky', 0.2]-depth_multiplier:5-lag:6-radius:1.5-corr:[0.75, 0.95]-nneighbors:300-activation:['leaky', 0.2]\",\"filters:[256]-strides:[1]-kernel_size:[9]-drop:0.25-full:[512]-fulldrop:0.5-activation_full:['elu', 0.4]-depth_multiplier:5-lag:9-radius:1-corr:[0.75, 0.95]-nneighbors:250-activation:['leaky', 0.2]\",\"filters:[256]-strides:[1]-kernel_size:[9]-drop:0.25-full:[512]-fulldrop:0.25-activation_full:['elu', 0.4]-depth_multiplier:6-lag:6-radius:2-corr:[0.75, 0.85]-nneighbors:300-activation:['leaky', 0.2]\",\"filters:[256]-strides:[1]-kernel_size:[9]-drop:0.0-full:[512]-fulldrop:0.0-activation_full:['elu', 0.4]-depth_multiplier:4-lag:6-radius:1-corr:[0.85, 0.95]-nneighbors:150-activation:['leaky', 0.2]\",\"filters:[256]-strides:[1]-kernel_size:[9]-drop:0.0-full:[1024]-fulldrop:0.0-activation_full:['elu', 0.4]-depth_multiplier:6-lag:9-radius:2-corr:[0.75, 0.85]-nneighbors:300-activation:['leaky', 0.2]\",\"filters:[256]-strides:[1]-kernel_size:[3]-drop:0.5-full:[1024]-fulldrop:0.25-activation_full:['elu', 0.4]-depth_multiplier:6-lag:12-radius:1.5-corr:[0.75, 0.95]-nneighbors:300-activation:['leaky', 0.2]\",\"filters:[256]-strides:[1]-kernel_size:[5]-drop:0.25-full:[512]-fulldrop:0.5-activation_full:['leaky', 0.2]-depth_multiplier:4-lag:6-radius:1-corr:[0.7, 0.9]-nneighbors:250-activation:['leaky', 0.2]\",\"filters:[256]-strides:[2]-kernel_size:[9]-drop:0.5-full:[512]-fulldrop:0.0-activation_full:['elu', 0.4]-depth_multiplier:4-lag:3-radius:2-corr:[0.85, 0.95]-nneighbors:300-activation:['leaky', 0.2]\",\"filters:[256]-strides:[2]-kernel_size:[7]-drop:0.5-full:[512]-fulldrop:0.25-activation_full:['leaky', 0.2]-depth_multiplier:6-lag:9-radius:0.5-corr:[0.8, 0.9]-nneighbors:300-activation:['leaky', 0.2]\",\"filters:[256]-strides:[2]-kernel_size:[7]-drop:0.25-full:[512]-fulldrop:0.0-activation_full:['elu', 0.4]-depth_multiplier:6-lag:6-radius:1.5-corr:[0.7, 0.9]-nneighbors:250-activation:['leaky', 0.2]\",\"filters:[256]-strides:[2]-kernel_size:[7]-drop:0.25-full:[1024]-fulldrop:0.0-activation_full:['elu', 0.4]-depth_multiplier:6-lag:6-radius:1.5-corr:[0.75, 0.95]-nneighbors:200-activation:['leaky', 0.2]\",\"filters:[256]-strides:[2]-kernel_size:[7]-drop:0.25-full:[1024]-fulldrop:0.0-activation_full:['leaky', 0.2]-depth_multiplier:5-lag:12-radius:1-corr:[0.7, 0.9]-nneighbors:250-activation:['leaky', 0.2]\",\"filters:[256]-strides:[2]-kernel_size:[3]-drop:0.5-full:[512]-fulldrop:0.5-activation_full:['leaky', 0.2]-depth_multiplier:5-lag:3-radius:0.5-corr:[0.75, 0.85]-nneighbors:300-activation:['leaky', 0.2]\",\"filters:[256]-strides:[2]-kernel_size:[3]-drop:0.25-full:[1024]-fulldrop:0.25-activation_full:['leaky', 0.2]-depth_multiplier:4-lag:12-radius:0.5-corr:[0.75, 0.95]-nneighbors:250-activation:['leaky', 0.2]\",\"filters:[256]-strides:[2]-kernel_size:[3]-drop:0.0-full:[1024]-fulldrop:0.25-activation_full:['elu', 0.4]-depth_multiplier:4-lag:9-radius:0.5-corr:[0.7, 0.8]-nneighbors:300-activation:['leaky', 0.2]\",\"filters:[256]-strides:[3]-kernel_size:[9]-drop:0.5-full:[512]-fulldrop:0.0-activation_full:['leaky', 0.2]-depth_multiplier:5-lag:6-radius:1.5-corr:[0.75, 0.95]-nneighbors:300-activation:['leaky', 0.2]\",\"filters:[256]-strides:[3]-kernel_size:[9]-drop:0.25-full:[1024]-fulldrop:0.0-activation_full:['leaky', 0.2]-depth_multiplier:5-lag:9-radius:1-corr:[0.85, 0.95]-nneighbors:250-activation:['leaky', 0.2]\",\"filters:[256]-strides:[3]-kernel_size:[7]-drop:0.5-full:[512]-fulldrop:0.0-activation_full:['leaky', 0.2]-depth_multiplier:5-lag:3-radius:1.5-corr:[0.75, 0.95]-nneighbors:300-activation:['leaky', 0.2]\",\"filters:[256]-strides:[3]-kernel_size:[7]-drop:0.5-full:[512]-fulldrop:0.0-activation_full:['leaky', 0.2]-depth_multiplier:5-lag:6-radius:1.5-corr:[0.75, 0.95]-nneighbors:300-activation:['leaky', 0.2]\",\"filters:[256]-strides:[3]-kernel_size:[7]-drop:0.5-full:[512]-fulldrop:0.0-activation_full:['leaky', 0.2]-depth_multiplier:4-lag:6-radius:1.5-corr:[0.75, 0.95]-nneighbors:300-activation:['leaky', 0.2]\",\"filters:[256]-strides:[3]-kernel_size:[7]-drop:0.5-full:[512]-fulldrop:0.0-activation_full:['leaky', 0.2]-depth_multiplier:6-lag:6-radius:1.5-corr:[0.75, 0.95]-nneighbors:300-activation:['leaky', 0.2]\",\"filters:[256]-strides:[3]-kernel_size:[7]-drop:0.25-full:[512]-fulldrop:0.0-activation_full:['elu', 0.4]-depth_multiplier:6-lag:6-radius:1-corr:[0.8, 0.9]-nneighbors:200-activation:['leaky', 0.2]\",\"filters:[256]-strides:[3]-kernel_size:[3]-drop:0.0-full:[1024]-fulldrop:0.25-activation_full:['leaky', 0.2]-depth_multiplier:6-lag:6-radius:0.5-corr:[0.75, 0.95]-nneighbors:300-activation:['leaky', 0.2]\",\"filters:[256]-strides:[3]-kernel_size:[5]-drop:0.5-full:[512]-fulldrop:0.25-activation_full:['leaky', 0.2]-depth_multiplier:4-lag:12-radius:2-corr:[0.75, 0.95]-nneighbors:250-activation:['leaky', 0.2]\",\"filters:[256]-strides:[3]-kernel_size:[5]-drop:0.25-full:[1024]-fulldrop:0.5-activation_full:['leaky', 0.2]-depth_multiplier:4-lag:12-radius:0.5-corr:[0.85, 0.95]-nneighbors:300-activation:['leaky', 0.2]\",\"filters:[1024]-strides:[1]-kernel_size:[7]-drop:0.0-full:[512]-fulldrop:0.5-activation_full:['leaky', 0.2]-depth_multiplier:4-lag:12-radius:2-corr:[0.7, 0.9]-nneighbors:200-activation:['leaky', 0.2]\",\"filters:[1024]-strides:[1]-kernel_size:[3]-drop:0.5-full:[1024]-fulldrop:0.25-activation_full:['leaky', 0.2]-depth_multiplier:4-lag:12-radius:2-corr:[0.7, 0.8]-nneighbors:200-activation:['leaky', 0.2]\",\"filters:[1024]-strides:[1]-kernel_size:[5]-drop:0.5-full:[512]-fulldrop:0.5-activation_full:['elu', 0.4]-depth_multiplier:6-lag:6-radius:1-corr:[0.7, 0.9]-nneighbors:200-activation:['leaky', 0.2]\",\"filters:[1024]-strides:[1]-kernel_size:[5]-drop:0.5-full:[512]-fulldrop:0.0-activation_full:['elu', 0.4]-depth_multiplier:4-lag:6-radius:1.5-corr:[0.8, 0.9]-nneighbors:150-activation:['leaky', 0.2]\",\"filters:[1024]-strides:[1]-kernel_size:[5]-drop:0.5-full:[1024]-fulldrop:0.5-activation_full:['elu', 0.4]-depth_multiplier:4-lag:6-radius:2-corr:[0.7, 0.9]-nneighbors:250-activation:['leaky', 0.2]\",\"filters:[1024]-strides:[2]-kernel_size:[7]-drop:0.5-full:[512]-fulldrop:0.5-activation_full:['leaky', 0.2]-depth_multiplier:4-lag:3-radius:0.5-corr:[0.7, 0.8]-nneighbors:300-activation:['leaky', 0.2]\",\"filters:[1024]-strides:[2]-kernel_size:[7]-drop:0.25-full:[1024]-fulldrop:0.5-activation_full:['leaky', 0.2]-depth_multiplier:5-lag:3-radius:0.5-corr:[0.7, 0.8]-nneighbors:250-activation:['leaky', 0.2]\",\"filters:[1024]-strides:[2]-kernel_size:[3]-drop:0.0-full:[512]-fulldrop:0.5-activation_full:['elu', 0.4]-depth_multiplier:6-lag:3-radius:2-corr:[0.8, 0.9]-nneighbors:300-activation:['leaky', 0.2]\",\"filters:[1024]-strides:[2]-kernel_size:[3]-drop:0.0-full:[512]-fulldrop:0.0-activation_full:['leaky', 0.2]-depth_multiplier:4-lag:6-radius:0.5-corr:[0.7, 0.9]-nneighbors:250-activation:['leaky', 0.2]\",\"filters:[1024]-strides:[2]-kernel_size:[5]-drop:0.0-full:[512]-fulldrop:0.5-activation_full:['elu', 0.4]-depth_multiplier:6-lag:12-radius:0.5-corr:[0.75, 0.95]-nneighbors:250-activation:['leaky', 0.2]\",\"filters:[1024]-strides:[3]-kernel_size:[9]-drop:0.25-full:[512]-fulldrop:0.0-activation_full:['leaky', 0.2]-depth_multiplier:6-lag:12-radius:1.5-corr:[0.85, 0.95]-nneighbors:150-activation:['leaky', 0.2]\",\"filters:[1024]-strides:[3]-kernel_size:[7]-drop:0.5-full:[512]-fulldrop:0.0-activation_full:['leaky', 0.2]-depth_multiplier:5-lag:6-radius:1-corr:[0.8, 0.9]-nneighbors:200-activation:['leaky', 0.2]\",\"filters:[1024]-strides:[3]-kernel_size:[7]-drop:0.5-full:[512]-fulldrop:0.0-activation_full:['leaky', 0.2]-depth_multiplier:5-lag:6-radius:1.5-corr:[0.75, 0.95]-nneighbors:300-activation:['leaky', 0.2]\",\"filters:[1024]-strides:[3]-kernel_size:[3]-drop:0.25-full:[512]-fulldrop:0.5-activation_full:['elu', 0.4]-depth_multiplier:4-lag:3-radius:0.5-corr:[0.75, 0.95]-nneighbors:150-activation:['leaky', 0.2]\",\"filters:[1024]-strides:[3]-kernel_size:[5]-drop:0.5-full:[512]-fulldrop:0.0-activation_full:['leaky', 0.2]-depth_multiplier:5-lag:6-radius:1.5-corr:[0.75, 0.95]-nneighbors:300-activation:['leaky', 0.2]\",\"filters:[1024]-strides:[3]-kernel_size:[5]-drop:0.5-full:[512]-fulldrop:0.0-activation_full:['leaky', 0.2]-depth_multiplier:6-lag:6-radius:1.5-corr:[0.75, 0.95]-nneighbors:300-activation:['leaky', 0.2]\",\"filters:[1024]-strides:[3]-kernel_size:[5]-drop:0.25-full:[1024]-fulldrop:0.25-activation_full:['elu', 0.4]-depth_multiplier:4-lag:3-radius:1.5-corr:[0.7, 0.8]-nneighbors:150-activation:['leaky', 0.2]\"],\"type\":\"scatter\",\"x\":[7.6466234832871445,7.653971278924464,7.650630240497428,7.653072962051095,7.649686370255195,7.646925577068028,7.643295395054326,7.636244919487558,7.654402827776044,7.644009365502282,7.654095021027723,7.652338306125366,7.653566628042967,7.6469235815496175,7.647643456937495,7.654871606891678,7.652119982326075,7.656630511489069,7.652155195962971,7.6512520965594835,7.649536987909394,7.658257660151303,7.65858703943042,7.6455074821592115,7.651348524154483,7.6400436230534785,7.639166368747061,7.64277426441153,7.641672812276654,7.648468025688216,7.64855403386732],\"y\":[100,100,100,100,100,100,100,100,79,100,100,100,100,100,100,100,100,100,100,99,100,100,100,95,100,100,100,100,100,100,100]}],                        {\"template\":{\"data\":{\"bar\":[{\"error_x\":{\"color\":\"#2a3f5f\"},\"error_y\":{\"color\":\"#2a3f5f\"},\"marker\":{\"line\":{\"color\":\"#E5ECF6\",\"width\":0.5},\"pattern\":{\"fillmode\":\"overlay\",\"size\":10,\"solidity\":0.2}},\"type\":\"bar\"}],\"barpolar\":[{\"marker\":{\"line\":{\"color\":\"#E5ECF6\",\"width\":0.5},\"pattern\":{\"fillmode\":\"overlay\",\"size\":10,\"solidity\":0.2}},\"type\":\"barpolar\"}],\"carpet\":[{\"aaxis\":{\"endlinecolor\":\"#2a3f5f\",\"gridcolor\":\"white\",\"linecolor\":\"white\",\"minorgridcolor\":\"white\",\"startlinecolor\":\"#2a3f5f\"},\"baxis\":{\"endlinecolor\":\"#2a3f5f\",\"gridcolor\":\"white\",\"linecolor\":\"white\",\"minorgridcolor\":\"white\",\"startlinecolor\":\"#2a3f5f\"},\"type\":\"carpet\"}],\"choropleth\":[{\"colorbar\":{\"outlinewidth\":0,\"ticks\":\"\"},\"type\":\"choropleth\"}],\"contour\":[{\"colorbar\":{\"outlinewidth\":0,\"ticks\":\"\"},\"colorscale\":[[0.0,\"#0d0887\"],[0.1111111111111111,\"#46039f\"],[0.2222222222222222,\"#7201a8\"],[0.3333333333333333,\"#9c179e\"],[0.4444444444444444,\"#bd3786\"],[0.5555555555555556,\"#d8576b\"],[0.6666666666666666,\"#ed7953\"],[0.7777777777777778,\"#fb9f3a\"],[0.8888888888888888,\"#fdca26\"],[1.0,\"#f0f921\"]],\"type\":\"contour\"}],\"contourcarpet\":[{\"colorbar\":{\"outlinewidth\":0,\"ticks\":\"\"},\"type\":\"contourcarpet\"}],\"heatmap\":[{\"colorbar\":{\"outlinewidth\":0,\"ticks\":\"\"},\"colorscale\":[[0.0,\"#0d0887\"],[0.1111111111111111,\"#46039f\"],[0.2222222222222222,\"#7201a8\"],[0.3333333333333333,\"#9c179e\"],[0.4444444444444444,\"#bd3786\"],[0.5555555555555556,\"#d8576b\"],[0.6666666666666666,\"#ed7953\"],[0.7777777777777778,\"#fb9f3a\"],[0.8888888888888888,\"#fdca26\"],[1.0,\"#f0f921\"]],\"type\":\"heatmap\"}],\"heatmapgl\":[{\"colorbar\":{\"outlinewidth\":0,\"ticks\":\"\"},\"colorscale\":[[0.0,\"#0d0887\"],[0.1111111111111111,\"#46039f\"],[0.2222222222222222,\"#7201a8\"],[0.3333333333333333,\"#9c179e\"],[0.4444444444444444,\"#bd3786\"],[0.5555555555555556,\"#d8576b\"],[0.6666666666666666,\"#ed7953\"],[0.7777777777777778,\"#fb9f3a\"],[0.8888888888888888,\"#fdca26\"],[1.0,\"#f0f921\"]],\"type\":\"heatmapgl\"}],\"histogram\":[{\"marker\":{\"pattern\":{\"fillmode\":\"overlay\",\"size\":10,\"solidity\":0.2}},\"type\":\"histogram\"}],\"histogram2d\":[{\"colorbar\":{\"outlinewidth\":0,\"ticks\":\"\"},\"colorscale\":[[0.0,\"#0d0887\"],[0.1111111111111111,\"#46039f\"],[0.2222222222222222,\"#7201a8\"],[0.3333333333333333,\"#9c179e\"],[0.4444444444444444,\"#bd3786\"],[0.5555555555555556,\"#d8576b\"],[0.6666666666666666,\"#ed7953\"],[0.7777777777777778,\"#fb9f3a\"],[0.8888888888888888,\"#fdca26\"],[1.0,\"#f0f921\"]],\"type\":\"histogram2d\"}],\"histogram2dcontour\":[{\"colorbar\":{\"outlinewidth\":0,\"ticks\":\"\"},\"colorscale\":[[0.0,\"#0d0887\"],[0.1111111111111111,\"#46039f\"],[0.2222222222222222,\"#7201a8\"],[0.3333333333333333,\"#9c179e\"],[0.4444444444444444,\"#bd3786\"],[0.5555555555555556,\"#d8576b\"],[0.6666666666666666,\"#ed7953\"],[0.7777777777777778,\"#fb9f3a\"],[0.8888888888888888,\"#fdca26\"],[1.0,\"#f0f921\"]],\"type\":\"histogram2dcontour\"}],\"mesh3d\":[{\"colorbar\":{\"outlinewidth\":0,\"ticks\":\"\"},\"type\":\"mesh3d\"}],\"parcoords\":[{\"line\":{\"colorbar\":{\"outlinewidth\":0,\"ticks\":\"\"}},\"type\":\"parcoords\"}],\"pie\":[{\"automargin\":true,\"type\":\"pie\"}],\"scatter\":[{\"marker\":{\"colorbar\":{\"outlinewidth\":0,\"ticks\":\"\"}},\"type\":\"scatter\"}],\"scatter3d\":[{\"line\":{\"colorbar\":{\"outlinewidth\":0,\"ticks\":\"\"}},\"marker\":{\"colorbar\":{\"outlinewidth\":0,\"ticks\":\"\"}},\"type\":\"scatter3d\"}],\"scattercarpet\":[{\"marker\":{\"colorbar\":{\"outlinewidth\":0,\"ticks\":\"\"}},\"type\":\"scattercarpet\"}],\"scattergeo\":[{\"marker\":{\"colorbar\":{\"outlinewidth\":0,\"ticks\":\"\"}},\"type\":\"scattergeo\"}],\"scattergl\":[{\"marker\":{\"colorbar\":{\"outlinewidth\":0,\"ticks\":\"\"}},\"type\":\"scattergl\"}],\"scattermapbox\":[{\"marker\":{\"colorbar\":{\"outlinewidth\":0,\"ticks\":\"\"}},\"type\":\"scattermapbox\"}],\"scatterpolar\":[{\"marker\":{\"colorbar\":{\"outlinewidth\":0,\"ticks\":\"\"}},\"type\":\"scatterpolar\"}],\"scatterpolargl\":[{\"marker\":{\"colorbar\":{\"outlinewidth\":0,\"ticks\":\"\"}},\"type\":\"scatterpolargl\"}],\"scatterternary\":[{\"marker\":{\"colorbar\":{\"outlinewidth\":0,\"ticks\":\"\"}},\"type\":\"scatterternary\"}],\"surface\":[{\"colorbar\":{\"outlinewidth\":0,\"ticks\":\"\"},\"colorscale\":[[0.0,\"#0d0887\"],[0.1111111111111111,\"#46039f\"],[0.2222222222222222,\"#7201a8\"],[0.3333333333333333,\"#9c179e\"],[0.4444444444444444,\"#bd3786\"],[0.5555555555555556,\"#d8576b\"],[0.6666666666666666,\"#ed7953\"],[0.7777777777777778,\"#fb9f3a\"],[0.8888888888888888,\"#fdca26\"],[1.0,\"#f0f921\"]],\"type\":\"surface\"}],\"table\":[{\"cells\":{\"fill\":{\"color\":\"#EBF0F8\"},\"line\":{\"color\":\"white\"}},\"header\":{\"fill\":{\"color\":\"#C8D4E3\"},\"line\":{\"color\":\"white\"}},\"type\":\"table\"}]},\"layout\":{\"annotationdefaults\":{\"arrowcolor\":\"#2a3f5f\",\"arrowhead\":0,\"arrowwidth\":1},\"autotypenumbers\":\"strict\",\"coloraxis\":{\"colorbar\":{\"outlinewidth\":0,\"ticks\":\"\"}},\"colorscale\":{\"diverging\":[[0,\"#8e0152\"],[0.1,\"#c51b7d\"],[0.2,\"#de77ae\"],[0.3,\"#f1b6da\"],[0.4,\"#fde0ef\"],[0.5,\"#f7f7f7\"],[0.6,\"#e6f5d0\"],[0.7,\"#b8e186\"],[0.8,\"#7fbc41\"],[0.9,\"#4d9221\"],[1,\"#276419\"]],\"sequential\":[[0.0,\"#0d0887\"],[0.1111111111111111,\"#46039f\"],[0.2222222222222222,\"#7201a8\"],[0.3333333333333333,\"#9c179e\"],[0.4444444444444444,\"#bd3786\"],[0.5555555555555556,\"#d8576b\"],[0.6666666666666666,\"#ed7953\"],[0.7777777777777778,\"#fb9f3a\"],[0.8888888888888888,\"#fdca26\"],[1.0,\"#f0f921\"]],\"sequentialminus\":[[0.0,\"#0d0887\"],[0.1111111111111111,\"#46039f\"],[0.2222222222222222,\"#7201a8\"],[0.3333333333333333,\"#9c179e\"],[0.4444444444444444,\"#bd3786\"],[0.5555555555555556,\"#d8576b\"],[0.6666666666666666,\"#ed7953\"],[0.7777777777777778,\"#fb9f3a\"],[0.8888888888888888,\"#fdca26\"],[1.0,\"#f0f921\"]]},\"colorway\":[\"#636efa\",\"#EF553B\",\"#00cc96\",\"#ab63fa\",\"#FFA15A\",\"#19d3f3\",\"#FF6692\",\"#B6E880\",\"#FF97FF\",\"#FECB52\"],\"font\":{\"color\":\"#2a3f5f\"},\"geo\":{\"bgcolor\":\"white\",\"lakecolor\":\"white\",\"landcolor\":\"#E5ECF6\",\"showlakes\":true,\"showland\":true,\"subunitcolor\":\"white\"},\"hoverlabel\":{\"align\":\"left\"},\"hovermode\":\"closest\",\"mapbox\":{\"style\":\"light\"},\"paper_bgcolor\":\"white\",\"plot_bgcolor\":\"#E5ECF6\",\"polar\":{\"angularaxis\":{\"gridcolor\":\"white\",\"linecolor\":\"white\",\"ticks\":\"\"},\"bgcolor\":\"#E5ECF6\",\"radialaxis\":{\"gridcolor\":\"white\",\"linecolor\":\"white\",\"ticks\":\"\"}},\"scene\":{\"xaxis\":{\"backgroundcolor\":\"#E5ECF6\",\"gridcolor\":\"white\",\"gridwidth\":2,\"linecolor\":\"white\",\"showbackground\":true,\"ticks\":\"\",\"zerolinecolor\":\"white\"},\"yaxis\":{\"backgroundcolor\":\"#E5ECF6\",\"gridcolor\":\"white\",\"gridwidth\":2,\"linecolor\":\"white\",\"showbackground\":true,\"ticks\":\"\",\"zerolinecolor\":\"white\"},\"zaxis\":{\"backgroundcolor\":\"#E5ECF6\",\"gridcolor\":\"white\",\"gridwidth\":2,\"linecolor\":\"white\",\"showbackground\":true,\"ticks\":\"\",\"zerolinecolor\":\"white\"}},\"shapedefaults\":{\"line\":{\"color\":\"#2a3f5f\"}},\"ternary\":{\"aaxis\":{\"gridcolor\":\"white\",\"linecolor\":\"white\",\"ticks\":\"\"},\"baxis\":{\"gridcolor\":\"white\",\"linecolor\":\"white\",\"ticks\":\"\"},\"bgcolor\":\"#E5ECF6\",\"caxis\":{\"gridcolor\":\"white\",\"linecolor\":\"white\",\"ticks\":\"\"}},\"title\":{\"x\":0.05},\"xaxis\":{\"automargin\":true,\"gridcolor\":\"white\",\"linecolor\":\"white\",\"ticks\":\"\",\"title\":{\"standoff\":15},\"zerolinecolor\":\"white\",\"zerolinewidth\":2},\"yaxis\":{\"automargin\":true,\"gridcolor\":\"white\",\"linecolor\":\"white\",\"ticks\":\"\",\"title\":{\"standoff\":15},\"zerolinecolor\":\"white\",\"zerolinewidth\":2}}}},                        {\"responsive\": true}                    ).then(function(){\n",
       "                            \n",
       "var gd = document.getElementById('c14c946d-4848-45fa-b42f-45c3cfe9eaa4');\n",
       "var x = new MutationObserver(function (mutations, observer) {{\n",
       "        var display = window.getComputedStyle(gd).display;\n",
       "        if (!display || display === 'none') {{\n",
       "            console.log([gd, 'removed!']);\n",
       "            Plotly.purge(gd);\n",
       "            observer.disconnect();\n",
       "        }}\n",
       "}});\n",
       "\n",
       "// Listen for the removal of the full notebook cells\n",
       "var notebookContainer = gd.closest('#notebook-container');\n",
       "if (notebookContainer) {{\n",
       "    x.observe(notebookContainer, {childList: true});\n",
       "}}\n",
       "\n",
       "// Listen for the clearing of the current output cell\n",
       "var outputEl = gd.closest('.output');\n",
       "if (outputEl) {{\n",
       "    x.observe(outputEl, {childList: true});\n",
       "}}\n",
       "\n",
       "                        })                };                });            </script>        </div>"
      ]
     },
     "metadata": {},
     "output_type": "display_data"
    }
   ],
   "source": [
    "results.results_dataframe_graph(facet='activation',att=['filters','strides','kernel_size','drop','full','fulldrop', 'activation_full', 'depth_multiplier','lag','radius','corr','nneighbors'], count=True, threshold=7.6)"
   ]
  },
  {
   "cell_type": "markdown",
   "metadata": {},
   "source": [
    "# CNN s2s sep causal padding"
   ]
  },
  {
   "cell_type": "code",
   "execution_count": null,
   "metadata": {},
   "outputs": [],
   "source": [
    "query={'experiment':'cnnseps2scausal','status':'done'}\n",
    "\n",
    "results = DBResults(conn=mongolocaltest)\n",
    "#results = DBResults()\n",
    "results.results_dataframe_retrieve(query, arch=['filters','strides','kernel_size', 'activation','drop', 'activation_full','full','fulldrop', 'depth_multiplier'], data=['lag'])"
   ]
  },
  {
   "cell_type": "code",
   "execution_count": null,
   "metadata": {},
   "outputs": [],
   "source": [
    "results.results_dataframe_aggregate(threshold=5)"
   ]
  },
  {
   "cell_type": "code",
   "execution_count": null,
   "metadata": {},
   "outputs": [],
   "source": [
    "results.results_dataframe_graph(facet='activation',att=['filters','strides','kernel_size','drop','full','fulldrop', 'activation_full', 'depth_multiplier','lag'], count=True, threshold=7.24)"
   ]
  },
  {
   "cell_type": "markdown",
   "metadata": {},
   "source": [
    "# CNN s2s Sep other activations"
   ]
  },
  {
   "cell_type": "code",
   "execution_count": null,
   "metadata": {},
   "outputs": [],
   "source": [
    "query={'experiment':'CNNSEPnewact','status':'done'}\n",
    "\n",
    "results = DBResults(conn=mongolocaltest)\n",
    "#results = DBResults()\n",
    "results.results_dataframe_retrieve(query, arch=['filters','strides','kernel_size', 'activation','drop', 'activation_full','full','fulldrop', 'depth_multiplier'], data=['lag'])\n"
   ]
  },
  {
   "cell_type": "code",
   "execution_count": null,
   "metadata": {},
   "outputs": [],
   "source": [
    "results.results_dataframe_aggregate(threshold=7.25)"
   ]
  },
  {
   "cell_type": "code",
   "execution_count": null,
   "metadata": {},
   "outputs": [],
   "source": [
    "results.results_dataframe_graph(facet='activation',att=['filters','strides','kernel_size','drop','full','fulldrop', 'activation_full', 'depth_multiplier','lag'], count=True, threshold=7.24)"
   ]
  },
  {
   "cell_type": "markdown",
   "metadata": {},
   "source": [
    "# CNN s2s Sep periodic attributes"
   ]
  },
  {
   "cell_type": "code",
   "execution_count": null,
   "metadata": {},
   "outputs": [],
   "source": [
    "query={'experiment':'CNNSEPperiod','status':'done'}\n",
    "\n",
    "results = DBResults(conn=mongolocaltest)\n",
    "#results = DBResults()\n",
    "results.results_dataframe_retrieve(query, arch=['filters','strides','kernel_size', 'activation','drop', 'activation_full','full','fulldrop', 'depth_multiplier'], data=['lag'])\n"
   ]
  },
  {
   "cell_type": "code",
   "execution_count": null,
   "metadata": {},
   "outputs": [],
   "source": [
    "results.results_dataframe_aggregate(threshold=7.2)"
   ]
  },
  {
   "cell_type": "code",
   "execution_count": null,
   "metadata": {
    "scrolled": false
   },
   "outputs": [],
   "source": [
    "results.results_dataframe_graph(facet='activation',att=['filters','strides','kernel_size','drop','full','fulldrop', 'activation_full', 'depth_multiplier','lag'], count=True, threshold=7.1)"
   ]
  },
  {
   "cell_type": "markdown",
   "metadata": {},
   "source": [
    "# CNN s2s sep 5min"
   ]
  },
  {
   "cell_type": "code",
   "execution_count": null,
   "metadata": {
    "ExecuteTime": {
     "end_time": "2019-10-09T08:17:44.477476Z",
     "start_time": "2019-10-09T08:17:30.092895Z"
    }
   },
   "outputs": [],
   "source": [
    "query={'experiment':'cnn_sep_12_smac','status':'done'}\n",
    "\n",
    "results = DBResults(conn=mongolocaltest)\n",
    "#results = DBResults()\n",
    "results.results_dataframe_retrieve(query, arch=['filters','strides','kernel_size', 'activation','drop', 'activation_full','full','fulldrop', 'depth_multiplier'], data=['lag'])\n"
   ]
  },
  {
   "cell_type": "code",
   "execution_count": null,
   "metadata": {
    "ExecuteTime": {
     "end_time": "2019-10-09T08:17:45.760108Z",
     "start_time": "2019-10-09T08:17:44.480456Z"
    },
    "scrolled": true
   },
   "outputs": [],
   "source": [
    "results.results_dataframe_aggregate(threshold=7.47)"
   ]
  },
  {
   "cell_type": "code",
   "execution_count": null,
   "metadata": {
    "ExecuteTime": {
     "end_time": "2019-10-09T08:17:46.651928Z",
     "start_time": "2019-10-09T08:17:45.763277Z"
    }
   },
   "outputs": [],
   "source": [
    "results.results_dataframe_graph(facet='activation',att=['filters','strides','kernel_size','drop','full','fulldrop', 'activation_full', 'depth_multiplier','lag'], count=True, threshold=7.4)"
   ]
  },
  {
   "cell_type": "markdown",
   "metadata": {},
   "source": [
    "# CNN 2 Layers s2s sep"
   ]
  },
  {
   "cell_type": "code",
   "execution_count": 24,
   "metadata": {
    "ExecuteTime": {
     "end_time": "2019-07-31T03:34:06.593014Z",
     "start_time": "2019-07-31T03:33:24.758928Z"
    }
   },
   "outputs": [],
   "source": [
    "query={'experiment':'cnnsep2ls2ssmac','status':'done'}\n",
    "\n",
    "results = DBResults(conn=mongolocaltest)\n",
    "#results = DBResults()\n",
    "results.results_dataframe_retrieve(query, arch=['filters','strides','kernel_size', 'activation','drop', 'depth_multiplier','filters2','strides2','kernel_size2', 'activation2','drop2', 'depth_multiplier2', 'activation_full','full','fulldrop'], data=['lag'])\n"
   ]
  },
  {
   "cell_type": "code",
   "execution_count": 25,
   "metadata": {
    "ExecuteTime": {
     "end_time": "2019-07-31T03:34:12.365205Z",
     "start_time": "2019-07-31T03:34:06.596224Z"
    },
    "scrolled": false
   },
   "outputs": [
    {
     "name": "stdout",
     "output_type": "stream",
     "text": [
      "95639\n",
      "Total=331 Thres=16\n"
     ]
    },
    {
     "data": {
      "text/html": [
       "<style type=\"text/css\">\n",
       "#T_e8819_row0_col1, #T_e8819_row0_col2, #T_e8819_row0_col4, #T_e8819_row0_col5, #T_e8819_row0_col6, #T_e8819_row0_col7, #T_e8819_row0_col8, #T_e8819_row0_col10, #T_e8819_row0_col12, #T_e8819_row0_col14, #T_e8819_row0_col15, #T_e8819_row0_col17, #T_e8819_row1_col1, #T_e8819_row1_col2, #T_e8819_row1_col4, #T_e8819_row1_col5, #T_e8819_row1_col6, #T_e8819_row1_col7, #T_e8819_row1_col8, #T_e8819_row1_col10, #T_e8819_row1_col14, #T_e8819_row1_col15, #T_e8819_row2_col1, #T_e8819_row2_col2, #T_e8819_row2_col4, #T_e8819_row2_col5, #T_e8819_row2_col7, #T_e8819_row2_col8, #T_e8819_row2_col10, #T_e8819_row2_col12, #T_e8819_row2_col14, #T_e8819_row2_col15, #T_e8819_row2_col16, #T_e8819_row2_col18, #T_e8819_row3_col1, #T_e8819_row3_col2, #T_e8819_row3_col3, #T_e8819_row3_col4, #T_e8819_row3_col5, #T_e8819_row3_col6, #T_e8819_row3_col7, #T_e8819_row3_col8, #T_e8819_row3_col9, #T_e8819_row3_col10, #T_e8819_row3_col12, #T_e8819_row3_col14, #T_e8819_row3_col15, #T_e8819_row3_col17, #T_e8819_row4_col1, #T_e8819_row4_col2, #T_e8819_row4_col3, #T_e8819_row4_col4, #T_e8819_row4_col5, #T_e8819_row4_col6, #T_e8819_row4_col7, #T_e8819_row4_col8, #T_e8819_row4_col10, #T_e8819_row4_col12, #T_e8819_row4_col14, #T_e8819_row4_col15, #T_e8819_row4_col17, #T_e8819_row5_col1, #T_e8819_row5_col2, #T_e8819_row5_col3, #T_e8819_row5_col4, #T_e8819_row5_col5, #T_e8819_row5_col6, #T_e8819_row5_col7, #T_e8819_row5_col8, #T_e8819_row5_col10, #T_e8819_row5_col14, #T_e8819_row5_col15, #T_e8819_row6_col1, #T_e8819_row6_col2, #T_e8819_row6_col3, #T_e8819_row6_col4, #T_e8819_row6_col5, #T_e8819_row6_col7, #T_e8819_row6_col8, #T_e8819_row6_col9, #T_e8819_row6_col10, #T_e8819_row6_col12, #T_e8819_row6_col14, #T_e8819_row6_col15, #T_e8819_row6_col17, #T_e8819_row7_col0, #T_e8819_row7_col1, #T_e8819_row7_col2, #T_e8819_row7_col5, #T_e8819_row7_col6, #T_e8819_row7_col7, #T_e8819_row7_col8, #T_e8819_row7_col9, #T_e8819_row7_col10, #T_e8819_row7_col12, #T_e8819_row7_col14, #T_e8819_row7_col15, #T_e8819_row8_col0, #T_e8819_row8_col1, #T_e8819_row8_col2, #T_e8819_row8_col5, #T_e8819_row8_col6, #T_e8819_row8_col7, #T_e8819_row8_col8, #T_e8819_row8_col10, #T_e8819_row8_col12, #T_e8819_row8_col14, #T_e8819_row8_col15, #T_e8819_row9_col0, #T_e8819_row9_col1, #T_e8819_row9_col2, #T_e8819_row9_col5, #T_e8819_row9_col7, #T_e8819_row9_col8, #T_e8819_row9_col10, #T_e8819_row9_col12, #T_e8819_row9_col14, #T_e8819_row9_col15, #T_e8819_row10_col0, #T_e8819_row10_col1, #T_e8819_row10_col2, #T_e8819_row10_col5, #T_e8819_row10_col7, #T_e8819_row10_col8, #T_e8819_row10_col10, #T_e8819_row10_col14, #T_e8819_row10_col15, #T_e8819_row11_col0, #T_e8819_row11_col1, #T_e8819_row11_col2, #T_e8819_row11_col3, #T_e8819_row11_col5, #T_e8819_row11_col6, #T_e8819_row11_col7, #T_e8819_row11_col8, #T_e8819_row11_col10, #T_e8819_row11_col11, #T_e8819_row11_col14, #T_e8819_row11_col15, #T_e8819_row12_col0, #T_e8819_row12_col1, #T_e8819_row12_col2, #T_e8819_row12_col3, #T_e8819_row12_col5, #T_e8819_row12_col6, #T_e8819_row12_col7, #T_e8819_row12_col8, #T_e8819_row12_col10, #T_e8819_row12_col12, #T_e8819_row12_col14, #T_e8819_row12_col15, #T_e8819_row13_col0, #T_e8819_row13_col1, #T_e8819_row13_col2, #T_e8819_row13_col3, #T_e8819_row13_col5, #T_e8819_row13_col7, #T_e8819_row13_col8, #T_e8819_row13_col10, #T_e8819_row13_col12, #T_e8819_row13_col13, #T_e8819_row13_col14, #T_e8819_row13_col15, #T_e8819_row14_col1, #T_e8819_row14_col2, #T_e8819_row14_col4, #T_e8819_row14_col5, #T_e8819_row14_col6, #T_e8819_row14_col7, #T_e8819_row14_col8, #T_e8819_row14_col10, #T_e8819_row14_col12, #T_e8819_row14_col14, #T_e8819_row14_col15, #T_e8819_row15_col1, #T_e8819_row15_col2, #T_e8819_row15_col3, #T_e8819_row15_col4, #T_e8819_row15_col5, #T_e8819_row15_col7, #T_e8819_row15_col8, #T_e8819_row15_col9, #T_e8819_row15_col10, #T_e8819_row15_col12, #T_e8819_row15_col14, #T_e8819_row15_col15 {\n",
       "  background-color: yellow;\n",
       "}\n",
       "</style>\n",
       "<table id=\"T_e8819_\">\n",
       "  <thead>\n",
       "    <tr>\n",
       "      <th class=\"blank level0\" >&nbsp;</th>\n",
       "      <th class=\"col_heading level0 col0\" >filters</th>\n",
       "      <th class=\"col_heading level0 col1\" >strides</th>\n",
       "      <th class=\"col_heading level0 col2\" >kernel_size</th>\n",
       "      <th class=\"col_heading level0 col3\" >activation</th>\n",
       "      <th class=\"col_heading level0 col4\" >drop</th>\n",
       "      <th class=\"col_heading level0 col5\" >depth_multiplier</th>\n",
       "      <th class=\"col_heading level0 col6\" >filters2</th>\n",
       "      <th class=\"col_heading level0 col7\" >strides2</th>\n",
       "      <th class=\"col_heading level0 col8\" >kernel_size2</th>\n",
       "      <th class=\"col_heading level0 col9\" >activation2</th>\n",
       "      <th class=\"col_heading level0 col10\" >drop2</th>\n",
       "      <th class=\"col_heading level0 col11\" >depth_multiplier2</th>\n",
       "      <th class=\"col_heading level0 col12\" >activation_full</th>\n",
       "      <th class=\"col_heading level0 col13\" >full</th>\n",
       "      <th class=\"col_heading level0 col14\" >fulldrop</th>\n",
       "      <th class=\"col_heading level0 col15\" >lag</th>\n",
       "      <th class=\"col_heading level0 col16\" colspan=\"2\">test</th>\n",
       "      <th class=\"col_heading level0 col18\" >val</th>\n",
       "    </tr>\n",
       "    <tr>\n",
       "      <th class=\"blank level1\" >&nbsp;</th>\n",
       "      <th class=\"col_heading level1 col0\" ></th>\n",
       "      <th class=\"col_heading level1 col1\" ></th>\n",
       "      <th class=\"col_heading level1 col2\" ></th>\n",
       "      <th class=\"col_heading level1 col3\" ></th>\n",
       "      <th class=\"col_heading level1 col4\" ></th>\n",
       "      <th class=\"col_heading level1 col5\" ></th>\n",
       "      <th class=\"col_heading level1 col6\" ></th>\n",
       "      <th class=\"col_heading level1 col7\" ></th>\n",
       "      <th class=\"col_heading level1 col8\" ></th>\n",
       "      <th class=\"col_heading level1 col9\" ></th>\n",
       "      <th class=\"col_heading level1 col10\" ></th>\n",
       "      <th class=\"col_heading level1 col11\" ></th>\n",
       "      <th class=\"col_heading level1 col12\" ></th>\n",
       "      <th class=\"col_heading level1 col13\" ></th>\n",
       "      <th class=\"col_heading level1 col14\" ></th>\n",
       "      <th class=\"col_heading level1 col15\" ></th>\n",
       "      <th class=\"col_heading level1 col16\" >mean</th>\n",
       "      <th class=\"col_heading level1 col17\" >count</th>\n",
       "      <th class=\"col_heading level1 col18\" >mean</th>\n",
       "    </tr>\n",
       "  </thead>\n",
       "  <tbody>\n",
       "    <tr>\n",
       "      <th id=\"T_e8819_level0_row0\" class=\"row_heading level0 row0\" >110</th>\n",
       "      <td id=\"T_e8819_row0_col0\" class=\"data row0 col0\" >[1024]</td>\n",
       "      <td id=\"T_e8819_row0_col1\" class=\"data row0 col1\" >[2]</td>\n",
       "      <td id=\"T_e8819_row0_col2\" class=\"data row0 col2\" >[9]</td>\n",
       "      <td id=\"T_e8819_row0_col3\" class=\"data row0 col3\" >['elu', 0.3]</td>\n",
       "      <td id=\"T_e8819_row0_col4\" class=\"data row0 col4\" >0.6</td>\n",
       "      <td id=\"T_e8819_row0_col5\" class=\"data row0 col5\" >8</td>\n",
       "      <td id=\"T_e8819_row0_col6\" class=\"data row0 col6\" >[2048]</td>\n",
       "      <td id=\"T_e8819_row0_col7\" class=\"data row0 col7\" >[4]</td>\n",
       "      <td id=\"T_e8819_row0_col8\" class=\"data row0 col8\" >[1]</td>\n",
       "      <td id=\"T_e8819_row0_col9\" class=\"data row0 col9\" >['elu', 0.3]</td>\n",
       "      <td id=\"T_e8819_row0_col10\" class=\"data row0 col10\" >0.6</td>\n",
       "      <td id=\"T_e8819_row0_col11\" class=\"data row0 col11\" >7</td>\n",
       "      <td id=\"T_e8819_row0_col12\" class=\"data row0 col12\" >['elu', 0.4]</td>\n",
       "      <td id=\"T_e8819_row0_col13\" class=\"data row0 col13\" >[1024]</td>\n",
       "      <td id=\"T_e8819_row0_col14\" class=\"data row0 col14\" >0.1</td>\n",
       "      <td id=\"T_e8819_row0_col15\" class=\"data row0 col15\" >12</td>\n",
       "      <td id=\"T_e8819_row0_col16\" class=\"data row0 col16\" >7.319570</td>\n",
       "      <td id=\"T_e8819_row0_col17\" class=\"data row0 col17\" >950</td>\n",
       "      <td id=\"T_e8819_row0_col18\" class=\"data row0 col18\" >7.007733</td>\n",
       "    </tr>\n",
       "    <tr>\n",
       "      <th id=\"T_e8819_level0_row1\" class=\"row_heading level0 row1\" >111</th>\n",
       "      <td id=\"T_e8819_row1_col0\" class=\"data row1 col0\" >[1024]</td>\n",
       "      <td id=\"T_e8819_row1_col1\" class=\"data row1 col1\" >[2]</td>\n",
       "      <td id=\"T_e8819_row1_col2\" class=\"data row1 col2\" >[9]</td>\n",
       "      <td id=\"T_e8819_row1_col3\" class=\"data row1 col3\" >['elu', 0.3]</td>\n",
       "      <td id=\"T_e8819_row1_col4\" class=\"data row1 col4\" >0.6</td>\n",
       "      <td id=\"T_e8819_row1_col5\" class=\"data row1 col5\" >8</td>\n",
       "      <td id=\"T_e8819_row1_col6\" class=\"data row1 col6\" >[2048]</td>\n",
       "      <td id=\"T_e8819_row1_col7\" class=\"data row1 col7\" >[4]</td>\n",
       "      <td id=\"T_e8819_row1_col8\" class=\"data row1 col8\" >[1]</td>\n",
       "      <td id=\"T_e8819_row1_col9\" class=\"data row1 col9\" >['elu', 0.3]</td>\n",
       "      <td id=\"T_e8819_row1_col10\" class=\"data row1 col10\" >0.6</td>\n",
       "      <td id=\"T_e8819_row1_col11\" class=\"data row1 col11\" >7</td>\n",
       "      <td id=\"T_e8819_row1_col12\" class=\"data row1 col12\" >['elu', 0.3]</td>\n",
       "      <td id=\"T_e8819_row1_col13\" class=\"data row1 col13\" >[1024]</td>\n",
       "      <td id=\"T_e8819_row1_col14\" class=\"data row1 col14\" >0.1</td>\n",
       "      <td id=\"T_e8819_row1_col15\" class=\"data row1 col15\" >12</td>\n",
       "      <td id=\"T_e8819_row1_col16\" class=\"data row1 col16\" >7.308436</td>\n",
       "      <td id=\"T_e8819_row1_col17\" class=\"data row1 col17\" >850</td>\n",
       "      <td id=\"T_e8819_row1_col18\" class=\"data row1 col18\" >6.989644</td>\n",
       "    </tr>\n",
       "    <tr>\n",
       "      <th id=\"T_e8819_level0_row2\" class=\"row_heading level0 row2\" >112</th>\n",
       "      <td id=\"T_e8819_row2_col0\" class=\"data row2 col0\" >[1024]</td>\n",
       "      <td id=\"T_e8819_row2_col1\" class=\"data row2 col1\" >[2]</td>\n",
       "      <td id=\"T_e8819_row2_col2\" class=\"data row2 col2\" >[9]</td>\n",
       "      <td id=\"T_e8819_row2_col3\" class=\"data row2 col3\" >['elu', 0.3]</td>\n",
       "      <td id=\"T_e8819_row2_col4\" class=\"data row2 col4\" >0.6</td>\n",
       "      <td id=\"T_e8819_row2_col5\" class=\"data row2 col5\" >8</td>\n",
       "      <td id=\"T_e8819_row2_col6\" class=\"data row2 col6\" >[1024]</td>\n",
       "      <td id=\"T_e8819_row2_col7\" class=\"data row2 col7\" >[4]</td>\n",
       "      <td id=\"T_e8819_row2_col8\" class=\"data row2 col8\" >[1]</td>\n",
       "      <td id=\"T_e8819_row2_col9\" class=\"data row2 col9\" >['elu', 0.3]</td>\n",
       "      <td id=\"T_e8819_row2_col10\" class=\"data row2 col10\" >0.6</td>\n",
       "      <td id=\"T_e8819_row2_col11\" class=\"data row2 col11\" >7</td>\n",
       "      <td id=\"T_e8819_row2_col12\" class=\"data row2 col12\" >['elu', 0.4]</td>\n",
       "      <td id=\"T_e8819_row2_col13\" class=\"data row2 col13\" >[1024]</td>\n",
       "      <td id=\"T_e8819_row2_col14\" class=\"data row2 col14\" >0.1</td>\n",
       "      <td id=\"T_e8819_row2_col15\" class=\"data row2 col15\" >12</td>\n",
       "      <td id=\"T_e8819_row2_col16\" class=\"data row2 col16\" >7.321989</td>\n",
       "      <td id=\"T_e8819_row2_col17\" class=\"data row2 col17\" >939</td>\n",
       "      <td id=\"T_e8819_row2_col18\" class=\"data row2 col18\" >7.015070</td>\n",
       "    </tr>\n",
       "    <tr>\n",
       "      <th id=\"T_e8819_level0_row3\" class=\"row_heading level0 row3\" >119</th>\n",
       "      <td id=\"T_e8819_row3_col0\" class=\"data row3 col0\" >[1024]</td>\n",
       "      <td id=\"T_e8819_row3_col1\" class=\"data row3 col1\" >[2]</td>\n",
       "      <td id=\"T_e8819_row3_col2\" class=\"data row3 col2\" >[9]</td>\n",
       "      <td id=\"T_e8819_row3_col3\" class=\"data row3 col3\" >['leaky', 0.2]</td>\n",
       "      <td id=\"T_e8819_row3_col4\" class=\"data row3 col4\" >0.6</td>\n",
       "      <td id=\"T_e8819_row3_col5\" class=\"data row3 col5\" >8</td>\n",
       "      <td id=\"T_e8819_row3_col6\" class=\"data row3 col6\" >[2048]</td>\n",
       "      <td id=\"T_e8819_row3_col7\" class=\"data row3 col7\" >[4]</td>\n",
       "      <td id=\"T_e8819_row3_col8\" class=\"data row3 col8\" >[1]</td>\n",
       "      <td id=\"T_e8819_row3_col9\" class=\"data row3 col9\" >['elu', 0.4]</td>\n",
       "      <td id=\"T_e8819_row3_col10\" class=\"data row3 col10\" >0.6</td>\n",
       "      <td id=\"T_e8819_row3_col11\" class=\"data row3 col11\" >7</td>\n",
       "      <td id=\"T_e8819_row3_col12\" class=\"data row3 col12\" >['elu', 0.4]</td>\n",
       "      <td id=\"T_e8819_row3_col13\" class=\"data row3 col13\" >[256]</td>\n",
       "      <td id=\"T_e8819_row3_col14\" class=\"data row3 col14\" >0.1</td>\n",
       "      <td id=\"T_e8819_row3_col15\" class=\"data row3 col15\" >12</td>\n",
       "      <td id=\"T_e8819_row3_col16\" class=\"data row3 col16\" >7.317432</td>\n",
       "      <td id=\"T_e8819_row3_col17\" class=\"data row3 col17\" >950</td>\n",
       "      <td id=\"T_e8819_row3_col18\" class=\"data row3 col18\" >7.008519</td>\n",
       "    </tr>\n",
       "    <tr>\n",
       "      <th id=\"T_e8819_level0_row4\" class=\"row_heading level0 row4\" >120</th>\n",
       "      <td id=\"T_e8819_row4_col0\" class=\"data row4 col0\" >[1024]</td>\n",
       "      <td id=\"T_e8819_row4_col1\" class=\"data row4 col1\" >[2]</td>\n",
       "      <td id=\"T_e8819_row4_col2\" class=\"data row4 col2\" >[9]</td>\n",
       "      <td id=\"T_e8819_row4_col3\" class=\"data row4 col3\" >['leaky', 0.2]</td>\n",
       "      <td id=\"T_e8819_row4_col4\" class=\"data row4 col4\" >0.6</td>\n",
       "      <td id=\"T_e8819_row4_col5\" class=\"data row4 col5\" >8</td>\n",
       "      <td id=\"T_e8819_row4_col6\" class=\"data row4 col6\" >[2048]</td>\n",
       "      <td id=\"T_e8819_row4_col7\" class=\"data row4 col7\" >[4]</td>\n",
       "      <td id=\"T_e8819_row4_col8\" class=\"data row4 col8\" >[1]</td>\n",
       "      <td id=\"T_e8819_row4_col9\" class=\"data row4 col9\" >['elu', 0.3]</td>\n",
       "      <td id=\"T_e8819_row4_col10\" class=\"data row4 col10\" >0.6</td>\n",
       "      <td id=\"T_e8819_row4_col11\" class=\"data row4 col11\" >7</td>\n",
       "      <td id=\"T_e8819_row4_col12\" class=\"data row4 col12\" >['elu', 0.4]</td>\n",
       "      <td id=\"T_e8819_row4_col13\" class=\"data row4 col13\" >[1024]</td>\n",
       "      <td id=\"T_e8819_row4_col14\" class=\"data row4 col14\" >0.1</td>\n",
       "      <td id=\"T_e8819_row4_col15\" class=\"data row4 col15\" >12</td>\n",
       "      <td id=\"T_e8819_row4_col16\" class=\"data row4 col16\" >7.319725</td>\n",
       "      <td id=\"T_e8819_row4_col17\" class=\"data row4 col17\" >950</td>\n",
       "      <td id=\"T_e8819_row4_col18\" class=\"data row4 col18\" >7.010488</td>\n",
       "    </tr>\n",
       "    <tr>\n",
       "      <th id=\"T_e8819_level0_row5\" class=\"row_heading level0 row5\" >121</th>\n",
       "      <td id=\"T_e8819_row5_col0\" class=\"data row5 col0\" >[1024]</td>\n",
       "      <td id=\"T_e8819_row5_col1\" class=\"data row5 col1\" >[2]</td>\n",
       "      <td id=\"T_e8819_row5_col2\" class=\"data row5 col2\" >[9]</td>\n",
       "      <td id=\"T_e8819_row5_col3\" class=\"data row5 col3\" >['leaky', 0.2]</td>\n",
       "      <td id=\"T_e8819_row5_col4\" class=\"data row5 col4\" >0.6</td>\n",
       "      <td id=\"T_e8819_row5_col5\" class=\"data row5 col5\" >8</td>\n",
       "      <td id=\"T_e8819_row5_col6\" class=\"data row5 col6\" >[2048]</td>\n",
       "      <td id=\"T_e8819_row5_col7\" class=\"data row5 col7\" >[4]</td>\n",
       "      <td id=\"T_e8819_row5_col8\" class=\"data row5 col8\" >[1]</td>\n",
       "      <td id=\"T_e8819_row5_col9\" class=\"data row5 col9\" >['elu', 0.3]</td>\n",
       "      <td id=\"T_e8819_row5_col10\" class=\"data row5 col10\" >0.6</td>\n",
       "      <td id=\"T_e8819_row5_col11\" class=\"data row5 col11\" >7</td>\n",
       "      <td id=\"T_e8819_row5_col12\" class=\"data row5 col12\" >['elu', 0.3]</td>\n",
       "      <td id=\"T_e8819_row5_col13\" class=\"data row5 col13\" >[1024]</td>\n",
       "      <td id=\"T_e8819_row5_col14\" class=\"data row5 col14\" >0.1</td>\n",
       "      <td id=\"T_e8819_row5_col15\" class=\"data row5 col15\" >12</td>\n",
       "      <td id=\"T_e8819_row5_col16\" class=\"data row5 col16\" >7.307707</td>\n",
       "      <td id=\"T_e8819_row5_col17\" class=\"data row5 col17\" >900</td>\n",
       "      <td id=\"T_e8819_row5_col18\" class=\"data row5 col18\" >6.997554</td>\n",
       "    </tr>\n",
       "    <tr>\n",
       "      <th id=\"T_e8819_level0_row6\" class=\"row_heading level0 row6\" >123</th>\n",
       "      <td id=\"T_e8819_row6_col0\" class=\"data row6 col0\" >[1024]</td>\n",
       "      <td id=\"T_e8819_row6_col1\" class=\"data row6 col1\" >[2]</td>\n",
       "      <td id=\"T_e8819_row6_col2\" class=\"data row6 col2\" >[9]</td>\n",
       "      <td id=\"T_e8819_row6_col3\" class=\"data row6 col3\" >['leaky', 0.2]</td>\n",
       "      <td id=\"T_e8819_row6_col4\" class=\"data row6 col4\" >0.6</td>\n",
       "      <td id=\"T_e8819_row6_col5\" class=\"data row6 col5\" >8</td>\n",
       "      <td id=\"T_e8819_row6_col6\" class=\"data row6 col6\" >[1024]</td>\n",
       "      <td id=\"T_e8819_row6_col7\" class=\"data row6 col7\" >[4]</td>\n",
       "      <td id=\"T_e8819_row6_col8\" class=\"data row6 col8\" >[1]</td>\n",
       "      <td id=\"T_e8819_row6_col9\" class=\"data row6 col9\" >['elu', 0.4]</td>\n",
       "      <td id=\"T_e8819_row6_col10\" class=\"data row6 col10\" >0.6</td>\n",
       "      <td id=\"T_e8819_row6_col11\" class=\"data row6 col11\" >7</td>\n",
       "      <td id=\"T_e8819_row6_col12\" class=\"data row6 col12\" >['elu', 0.4]</td>\n",
       "      <td id=\"T_e8819_row6_col13\" class=\"data row6 col13\" >[1024]</td>\n",
       "      <td id=\"T_e8819_row6_col14\" class=\"data row6 col14\" >0.1</td>\n",
       "      <td id=\"T_e8819_row6_col15\" class=\"data row6 col15\" >12</td>\n",
       "      <td id=\"T_e8819_row6_col16\" class=\"data row6 col16\" >7.321277</td>\n",
       "      <td id=\"T_e8819_row6_col17\" class=\"data row6 col17\" >950</td>\n",
       "      <td id=\"T_e8819_row6_col18\" class=\"data row6 col18\" >7.013945</td>\n",
       "    </tr>\n",
       "    <tr>\n",
       "      <th id=\"T_e8819_level0_row7\" class=\"row_heading level0 row7\" >244</th>\n",
       "      <td id=\"T_e8819_row7_col0\" class=\"data row7 col0\" >[256]</td>\n",
       "      <td id=\"T_e8819_row7_col1\" class=\"data row7 col1\" >[2]</td>\n",
       "      <td id=\"T_e8819_row7_col2\" class=\"data row7 col2\" >[9]</td>\n",
       "      <td id=\"T_e8819_row7_col3\" class=\"data row7 col3\" >['elu', 0.3]</td>\n",
       "      <td id=\"T_e8819_row7_col4\" class=\"data row7 col4\" >0.5</td>\n",
       "      <td id=\"T_e8819_row7_col5\" class=\"data row7 col5\" >8</td>\n",
       "      <td id=\"T_e8819_row7_col6\" class=\"data row7 col6\" >[2048]</td>\n",
       "      <td id=\"T_e8819_row7_col7\" class=\"data row7 col7\" >[4]</td>\n",
       "      <td id=\"T_e8819_row7_col8\" class=\"data row7 col8\" >[1]</td>\n",
       "      <td id=\"T_e8819_row7_col9\" class=\"data row7 col9\" >['elu', 0.4]</td>\n",
       "      <td id=\"T_e8819_row7_col10\" class=\"data row7 col10\" >0.6</td>\n",
       "      <td id=\"T_e8819_row7_col11\" class=\"data row7 col11\" >7</td>\n",
       "      <td id=\"T_e8819_row7_col12\" class=\"data row7 col12\" >['elu', 0.4]</td>\n",
       "      <td id=\"T_e8819_row7_col13\" class=\"data row7 col13\" >[1024]</td>\n",
       "      <td id=\"T_e8819_row7_col14\" class=\"data row7 col14\" >0.1</td>\n",
       "      <td id=\"T_e8819_row7_col15\" class=\"data row7 col15\" >12</td>\n",
       "      <td id=\"T_e8819_row7_col16\" class=\"data row7 col16\" >7.306217</td>\n",
       "      <td id=\"T_e8819_row7_col17\" class=\"data row7 col17\" >850</td>\n",
       "      <td id=\"T_e8819_row7_col18\" class=\"data row7 col18\" >6.984519</td>\n",
       "    </tr>\n",
       "    <tr>\n",
       "      <th id=\"T_e8819_level0_row8\" class=\"row_heading level0 row8\" >246</th>\n",
       "      <td id=\"T_e8819_row8_col0\" class=\"data row8 col0\" >[256]</td>\n",
       "      <td id=\"T_e8819_row8_col1\" class=\"data row8 col1\" >[2]</td>\n",
       "      <td id=\"T_e8819_row8_col2\" class=\"data row8 col2\" >[9]</td>\n",
       "      <td id=\"T_e8819_row8_col3\" class=\"data row8 col3\" >['elu', 0.3]</td>\n",
       "      <td id=\"T_e8819_row8_col4\" class=\"data row8 col4\" >0.5</td>\n",
       "      <td id=\"T_e8819_row8_col5\" class=\"data row8 col5\" >8</td>\n",
       "      <td id=\"T_e8819_row8_col6\" class=\"data row8 col6\" >[2048]</td>\n",
       "      <td id=\"T_e8819_row8_col7\" class=\"data row8 col7\" >[4]</td>\n",
       "      <td id=\"T_e8819_row8_col8\" class=\"data row8 col8\" >[1]</td>\n",
       "      <td id=\"T_e8819_row8_col9\" class=\"data row8 col9\" >['elu', 0.3]</td>\n",
       "      <td id=\"T_e8819_row8_col10\" class=\"data row8 col10\" >0.6</td>\n",
       "      <td id=\"T_e8819_row8_col11\" class=\"data row8 col11\" >7</td>\n",
       "      <td id=\"T_e8819_row8_col12\" class=\"data row8 col12\" >['elu', 0.4]</td>\n",
       "      <td id=\"T_e8819_row8_col13\" class=\"data row8 col13\" >[1024]</td>\n",
       "      <td id=\"T_e8819_row8_col14\" class=\"data row8 col14\" >0.1</td>\n",
       "      <td id=\"T_e8819_row8_col15\" class=\"data row8 col15\" >12</td>\n",
       "      <td id=\"T_e8819_row8_col16\" class=\"data row8 col16\" >7.309357</td>\n",
       "      <td id=\"T_e8819_row8_col17\" class=\"data row8 col17\" >900</td>\n",
       "      <td id=\"T_e8819_row8_col18\" class=\"data row8 col18\" >6.998639</td>\n",
       "    </tr>\n",
       "    <tr>\n",
       "      <th id=\"T_e8819_level0_row9\" class=\"row_heading level0 row9\" >247</th>\n",
       "      <td id=\"T_e8819_row9_col0\" class=\"data row9 col0\" >[256]</td>\n",
       "      <td id=\"T_e8819_row9_col1\" class=\"data row9 col1\" >[2]</td>\n",
       "      <td id=\"T_e8819_row9_col2\" class=\"data row9 col2\" >[9]</td>\n",
       "      <td id=\"T_e8819_row9_col3\" class=\"data row9 col3\" >['elu', 0.3]</td>\n",
       "      <td id=\"T_e8819_row9_col4\" class=\"data row9 col4\" >0.5</td>\n",
       "      <td id=\"T_e8819_row9_col5\" class=\"data row9 col5\" >8</td>\n",
       "      <td id=\"T_e8819_row9_col6\" class=\"data row9 col6\" >[1024]</td>\n",
       "      <td id=\"T_e8819_row9_col7\" class=\"data row9 col7\" >[4]</td>\n",
       "      <td id=\"T_e8819_row9_col8\" class=\"data row9 col8\" >[1]</td>\n",
       "      <td id=\"T_e8819_row9_col9\" class=\"data row9 col9\" >['elu', 0.3]</td>\n",
       "      <td id=\"T_e8819_row9_col10\" class=\"data row9 col10\" >0.6</td>\n",
       "      <td id=\"T_e8819_row9_col11\" class=\"data row9 col11\" >7</td>\n",
       "      <td id=\"T_e8819_row9_col12\" class=\"data row9 col12\" >['elu', 0.4]</td>\n",
       "      <td id=\"T_e8819_row9_col13\" class=\"data row9 col13\" >[1024]</td>\n",
       "      <td id=\"T_e8819_row9_col14\" class=\"data row9 col14\" >0.1</td>\n",
       "      <td id=\"T_e8819_row9_col15\" class=\"data row9 col15\" >12</td>\n",
       "      <td id=\"T_e8819_row9_col16\" class=\"data row9 col16\" >7.309718</td>\n",
       "      <td id=\"T_e8819_row9_col17\" class=\"data row9 col17\" >900</td>\n",
       "      <td id=\"T_e8819_row9_col18\" class=\"data row9 col18\" >7.004357</td>\n",
       "    </tr>\n",
       "    <tr>\n",
       "      <th id=\"T_e8819_level0_row10\" class=\"row_heading level0 row10\" >248</th>\n",
       "      <td id=\"T_e8819_row10_col0\" class=\"data row10 col0\" >[256]</td>\n",
       "      <td id=\"T_e8819_row10_col1\" class=\"data row10 col1\" >[2]</td>\n",
       "      <td id=\"T_e8819_row10_col2\" class=\"data row10 col2\" >[9]</td>\n",
       "      <td id=\"T_e8819_row10_col3\" class=\"data row10 col3\" >['elu', 0.3]</td>\n",
       "      <td id=\"T_e8819_row10_col4\" class=\"data row10 col4\" >0.5</td>\n",
       "      <td id=\"T_e8819_row10_col5\" class=\"data row10 col5\" >8</td>\n",
       "      <td id=\"T_e8819_row10_col6\" class=\"data row10 col6\" >[1024]</td>\n",
       "      <td id=\"T_e8819_row10_col7\" class=\"data row10 col7\" >[4]</td>\n",
       "      <td id=\"T_e8819_row10_col8\" class=\"data row10 col8\" >[1]</td>\n",
       "      <td id=\"T_e8819_row10_col9\" class=\"data row10 col9\" >['elu', 0.3]</td>\n",
       "      <td id=\"T_e8819_row10_col10\" class=\"data row10 col10\" >0.6</td>\n",
       "      <td id=\"T_e8819_row10_col11\" class=\"data row10 col11\" >7</td>\n",
       "      <td id=\"T_e8819_row10_col12\" class=\"data row10 col12\" >['elu', 0.3]</td>\n",
       "      <td id=\"T_e8819_row10_col13\" class=\"data row10 col13\" >[1024]</td>\n",
       "      <td id=\"T_e8819_row10_col14\" class=\"data row10 col14\" >0.1</td>\n",
       "      <td id=\"T_e8819_row10_col15\" class=\"data row10 col15\" >12</td>\n",
       "      <td id=\"T_e8819_row10_col16\" class=\"data row10 col16\" >7.310873</td>\n",
       "      <td id=\"T_e8819_row10_col17\" class=\"data row10 col17\" >900</td>\n",
       "      <td id=\"T_e8819_row10_col18\" class=\"data row10 col18\" >7.003417</td>\n",
       "    </tr>\n",
       "    <tr>\n",
       "      <th id=\"T_e8819_level0_row11\" class=\"row_heading level0 row11\" >264</th>\n",
       "      <td id=\"T_e8819_row11_col0\" class=\"data row11 col0\" >[256]</td>\n",
       "      <td id=\"T_e8819_row11_col1\" class=\"data row11 col1\" >[2]</td>\n",
       "      <td id=\"T_e8819_row11_col2\" class=\"data row11 col2\" >[9]</td>\n",
       "      <td id=\"T_e8819_row11_col3\" class=\"data row11 col3\" >['leaky', 0.2]</td>\n",
       "      <td id=\"T_e8819_row11_col4\" class=\"data row11 col4\" >0.5</td>\n",
       "      <td id=\"T_e8819_row11_col5\" class=\"data row11 col5\" >8</td>\n",
       "      <td id=\"T_e8819_row11_col6\" class=\"data row11 col6\" >[2048]</td>\n",
       "      <td id=\"T_e8819_row11_col7\" class=\"data row11 col7\" >[4]</td>\n",
       "      <td id=\"T_e8819_row11_col8\" class=\"data row11 col8\" >[1]</td>\n",
       "      <td id=\"T_e8819_row11_col9\" class=\"data row11 col9\" >['elu', 0.3]</td>\n",
       "      <td id=\"T_e8819_row11_col10\" class=\"data row11 col10\" >0.6</td>\n",
       "      <td id=\"T_e8819_row11_col11\" class=\"data row11 col11\" >8</td>\n",
       "      <td id=\"T_e8819_row11_col12\" class=\"data row11 col12\" >['elu', 0.3]</td>\n",
       "      <td id=\"T_e8819_row11_col13\" class=\"data row11 col13\" >[1024]</td>\n",
       "      <td id=\"T_e8819_row11_col14\" class=\"data row11 col14\" >0.1</td>\n",
       "      <td id=\"T_e8819_row11_col15\" class=\"data row11 col15\" >12</td>\n",
       "      <td id=\"T_e8819_row11_col16\" class=\"data row11 col16\" >7.300183</td>\n",
       "      <td id=\"T_e8819_row11_col17\" class=\"data row11 col17\" >800</td>\n",
       "      <td id=\"T_e8819_row11_col18\" class=\"data row11 col18\" >6.985299</td>\n",
       "    </tr>\n",
       "    <tr>\n",
       "      <th id=\"T_e8819_level0_row12\" class=\"row_heading level0 row12\" >265</th>\n",
       "      <td id=\"T_e8819_row12_col0\" class=\"data row12 col0\" >[256]</td>\n",
       "      <td id=\"T_e8819_row12_col1\" class=\"data row12 col1\" >[2]</td>\n",
       "      <td id=\"T_e8819_row12_col2\" class=\"data row12 col2\" >[9]</td>\n",
       "      <td id=\"T_e8819_row12_col3\" class=\"data row12 col3\" >['leaky', 0.2]</td>\n",
       "      <td id=\"T_e8819_row12_col4\" class=\"data row12 col4\" >0.5</td>\n",
       "      <td id=\"T_e8819_row12_col5\" class=\"data row12 col5\" >8</td>\n",
       "      <td id=\"T_e8819_row12_col6\" class=\"data row12 col6\" >[2048]</td>\n",
       "      <td id=\"T_e8819_row12_col7\" class=\"data row12 col7\" >[4]</td>\n",
       "      <td id=\"T_e8819_row12_col8\" class=\"data row12 col8\" >[1]</td>\n",
       "      <td id=\"T_e8819_row12_col9\" class=\"data row12 col9\" >['elu', 0.3]</td>\n",
       "      <td id=\"T_e8819_row12_col10\" class=\"data row12 col10\" >0.6</td>\n",
       "      <td id=\"T_e8819_row12_col11\" class=\"data row12 col11\" >7</td>\n",
       "      <td id=\"T_e8819_row12_col12\" class=\"data row12 col12\" >['elu', 0.4]</td>\n",
       "      <td id=\"T_e8819_row12_col13\" class=\"data row12 col13\" >[1024]</td>\n",
       "      <td id=\"T_e8819_row12_col14\" class=\"data row12 col14\" >0.1</td>\n",
       "      <td id=\"T_e8819_row12_col15\" class=\"data row12 col15\" >12</td>\n",
       "      <td id=\"T_e8819_row12_col16\" class=\"data row12 col16\" >7.308617</td>\n",
       "      <td id=\"T_e8819_row12_col17\" class=\"data row12 col17\" >850</td>\n",
       "      <td id=\"T_e8819_row12_col18\" class=\"data row12 col18\" >6.994889</td>\n",
       "    </tr>\n",
       "    <tr>\n",
       "      <th id=\"T_e8819_level0_row13\" class=\"row_heading level0 row13\" >267</th>\n",
       "      <td id=\"T_e8819_row13_col0\" class=\"data row13 col0\" >[256]</td>\n",
       "      <td id=\"T_e8819_row13_col1\" class=\"data row13 col1\" >[2]</td>\n",
       "      <td id=\"T_e8819_row13_col2\" class=\"data row13 col2\" >[9]</td>\n",
       "      <td id=\"T_e8819_row13_col3\" class=\"data row13 col3\" >['leaky', 0.2]</td>\n",
       "      <td id=\"T_e8819_row13_col4\" class=\"data row13 col4\" >0.5</td>\n",
       "      <td id=\"T_e8819_row13_col5\" class=\"data row13 col5\" >8</td>\n",
       "      <td id=\"T_e8819_row13_col6\" class=\"data row13 col6\" >[1024]</td>\n",
       "      <td id=\"T_e8819_row13_col7\" class=\"data row13 col7\" >[4]</td>\n",
       "      <td id=\"T_e8819_row13_col8\" class=\"data row13 col8\" >[1]</td>\n",
       "      <td id=\"T_e8819_row13_col9\" class=\"data row13 col9\" >['elu', 0.3]</td>\n",
       "      <td id=\"T_e8819_row13_col10\" class=\"data row13 col10\" >0.6</td>\n",
       "      <td id=\"T_e8819_row13_col11\" class=\"data row13 col11\" >7</td>\n",
       "      <td id=\"T_e8819_row13_col12\" class=\"data row13 col12\" >['elu', 0.4]</td>\n",
       "      <td id=\"T_e8819_row13_col13\" class=\"data row13 col13\" >[4096]</td>\n",
       "      <td id=\"T_e8819_row13_col14\" class=\"data row13 col14\" >0.1</td>\n",
       "      <td id=\"T_e8819_row13_col15\" class=\"data row13 col15\" >12</td>\n",
       "      <td id=\"T_e8819_row13_col16\" class=\"data row13 col16\" >7.305490</td>\n",
       "      <td id=\"T_e8819_row13_col17\" class=\"data row13 col17\" >850</td>\n",
       "      <td id=\"T_e8819_row13_col18\" class=\"data row13 col18\" >6.992442</td>\n",
       "    </tr>\n",
       "    <tr>\n",
       "      <th id=\"T_e8819_level0_row14\" class=\"row_heading level0 row14\" >313</th>\n",
       "      <td id=\"T_e8819_row14_col0\" class=\"data row14 col0\" >[2048]</td>\n",
       "      <td id=\"T_e8819_row14_col1\" class=\"data row14 col1\" >[2]</td>\n",
       "      <td id=\"T_e8819_row14_col2\" class=\"data row14 col2\" >[9]</td>\n",
       "      <td id=\"T_e8819_row14_col3\" class=\"data row14 col3\" >['elu', 0.3]</td>\n",
       "      <td id=\"T_e8819_row14_col4\" class=\"data row14 col4\" >0.6</td>\n",
       "      <td id=\"T_e8819_row14_col5\" class=\"data row14 col5\" >8</td>\n",
       "      <td id=\"T_e8819_row14_col6\" class=\"data row14 col6\" >[2048]</td>\n",
       "      <td id=\"T_e8819_row14_col7\" class=\"data row14 col7\" >[4]</td>\n",
       "      <td id=\"T_e8819_row14_col8\" class=\"data row14 col8\" >[1]</td>\n",
       "      <td id=\"T_e8819_row14_col9\" class=\"data row14 col9\" >['elu', 0.3]</td>\n",
       "      <td id=\"T_e8819_row14_col10\" class=\"data row14 col10\" >0.6</td>\n",
       "      <td id=\"T_e8819_row14_col11\" class=\"data row14 col11\" >7</td>\n",
       "      <td id=\"T_e8819_row14_col12\" class=\"data row14 col12\" >['elu', 0.4]</td>\n",
       "      <td id=\"T_e8819_row14_col13\" class=\"data row14 col13\" >[1024]</td>\n",
       "      <td id=\"T_e8819_row14_col14\" class=\"data row14 col14\" >0.1</td>\n",
       "      <td id=\"T_e8819_row14_col15\" class=\"data row14 col15\" >12</td>\n",
       "      <td id=\"T_e8819_row14_col16\" class=\"data row14 col16\" >7.310066</td>\n",
       "      <td id=\"T_e8819_row14_col17\" class=\"data row14 col17\" >900</td>\n",
       "      <td id=\"T_e8819_row14_col18\" class=\"data row14 col18\" >6.995982</td>\n",
       "    </tr>\n",
       "    <tr>\n",
       "      <th id=\"T_e8819_level0_row15\" class=\"row_heading level0 row15\" >316</th>\n",
       "      <td id=\"T_e8819_row15_col0\" class=\"data row15 col0\" >[2048]</td>\n",
       "      <td id=\"T_e8819_row15_col1\" class=\"data row15 col1\" >[2]</td>\n",
       "      <td id=\"T_e8819_row15_col2\" class=\"data row15 col2\" >[9]</td>\n",
       "      <td id=\"T_e8819_row15_col3\" class=\"data row15 col3\" >['leaky', 0.2]</td>\n",
       "      <td id=\"T_e8819_row15_col4\" class=\"data row15 col4\" >0.6</td>\n",
       "      <td id=\"T_e8819_row15_col5\" class=\"data row15 col5\" >8</td>\n",
       "      <td id=\"T_e8819_row15_col6\" class=\"data row15 col6\" >[1024]</td>\n",
       "      <td id=\"T_e8819_row15_col7\" class=\"data row15 col7\" >[4]</td>\n",
       "      <td id=\"T_e8819_row15_col8\" class=\"data row15 col8\" >[1]</td>\n",
       "      <td id=\"T_e8819_row15_col9\" class=\"data row15 col9\" >['elu', 0.4]</td>\n",
       "      <td id=\"T_e8819_row15_col10\" class=\"data row15 col10\" >0.6</td>\n",
       "      <td id=\"T_e8819_row15_col11\" class=\"data row15 col11\" >7</td>\n",
       "      <td id=\"T_e8819_row15_col12\" class=\"data row15 col12\" >['elu', 0.4]</td>\n",
       "      <td id=\"T_e8819_row15_col13\" class=\"data row15 col13\" >[1024]</td>\n",
       "      <td id=\"T_e8819_row15_col14\" class=\"data row15 col14\" >0.1</td>\n",
       "      <td id=\"T_e8819_row15_col15\" class=\"data row15 col15\" >12</td>\n",
       "      <td id=\"T_e8819_row15_col16\" class=\"data row15 col16\" >7.307171</td>\n",
       "      <td id=\"T_e8819_row15_col17\" class=\"data row15 col17\" >850</td>\n",
       "      <td id=\"T_e8819_row15_col18\" class=\"data row15 col18\" >6.989979</td>\n",
       "    </tr>\n",
       "  </tbody>\n",
       "</table>\n"
      ],
      "text/plain": [
       "<pandas.io.formats.style.Styler at 0x7fa95e002b20>"
      ]
     },
     "execution_count": 25,
     "metadata": {},
     "output_type": "execute_result"
    }
   ],
   "source": [
    "results.results_dataframe_aggregate(threshold=7.30)"
   ]
  },
  {
   "cell_type": "code",
   "execution_count": 26,
   "metadata": {
    "ExecuteTime": {
     "end_time": "2019-07-31T03:34:13.623859Z",
     "start_time": "2019-07-31T03:34:12.374198Z"
    }
   },
   "outputs": [
    {
     "data": {
      "application/vnd.plotly.v1+json": {
       "config": {
        "linkText": "Export to plot.ly",
        "plotlyServerURL": "https://plot.ly",
        "showLink": false
       },
       "data": [
        {
         "marker": {
          "size": 20
         },
         "mode": "markers",
         "name": "['elu', 0.2]",
         "text": [
          "filters:[512]-strides:[2]-kernel_size:[9]-activation:tanh-drop:0.6-depth_multiplier:1-filters2:[256]-strides2:[4]-kernel_size2:[9]-activation2:relu-drop2:0.6-depth_multiplier2:6-activation_full:['elu', 0.2]-full:[256, 128, 64]-fulldrop:0.3-lag:24-activation_full:['elu', 0.2]",
          "filters:[512]-strides:[5]-kernel_size:[7]-activation:tanh-drop:0.0-depth_multiplier:7-filters2:[128]-strides2:[1]-kernel_size2:[1]-activation2:['elu', 0.4]-drop2:0.5-depth_multiplier2:3-activation_full:['elu', 0.2]-full:[64]-fulldrop:0.4-lag:12-activation_full:['elu', 0.2]",
          "filters:[512]-strides:[4]-kernel_size:[9]-activation:linear-drop:0.4-depth_multiplier:6-filters2:[256]-strides2:[5]-kernel_size2:[1]-activation2:relu-drop2:0.2-depth_multiplier2:5-activation_full:['elu', 0.2]-full:[64]-fulldrop:0.3-lag:24-activation_full:['elu', 0.2]",
          "filters:[512]-strides:[4]-kernel_size:[9]-activation:linear-drop:0.4-depth_multiplier:6-filters2:[256]-strides2:[5]-kernel_size2:[1]-activation2:relu-drop2:0.2-depth_multiplier2:8-activation_full:['elu', 0.2]-full:[64]-fulldrop:0.3-lag:30-activation_full:['elu', 0.2]",
          "filters:[512]-strides:[4]-kernel_size:[9]-activation:['elu', 0.4]-drop:0.4-depth_multiplier:4-filters2:[512]-strides2:[1]-kernel_size2:[3]-activation2:relu-drop2:0.3-depth_multiplier2:2-activation_full:['elu', 0.2]-full:[256]-fulldrop:0.5-lag:12-activation_full:['elu', 0.2]",
          "filters:[512]-strides:[4]-kernel_size:[9]-activation:['elu', 0.4]-drop:0.0-depth_multiplier:4-filters2:[512]-strides2:[1]-kernel_size2:[3]-activation2:relu-drop2:0.3-depth_multiplier2:8-activation_full:['elu', 0.2]-full:[256]-fulldrop:0.5-lag:6-activation_full:['elu', 0.2]",
          "filters:[512]-strides:[4]-kernel_size:[9]-activation:['elu', 0.4]-drop:0.1-depth_multiplier:4-filters2:[512]-strides2:[1]-kernel_size2:[3]-activation2:relu-drop2:0.3-depth_multiplier2:8-activation_full:['elu', 0.2]-full:[256]-fulldrop:0.5-lag:6-activation_full:['elu', 0.2]",
          "filters:[512]-strides:[4]-kernel_size:[7]-activation:linear-drop:0.3-depth_multiplier:1-filters2:[1024]-strides2:[1]-kernel_size2:[9]-activation2:relu-drop2:0.3-depth_multiplier2:3-activation_full:['elu', 0.2]-full:[2048]-fulldrop:0.5-lag:6-activation_full:['elu', 0.2]",
          "filters:[512]-strides:[4]-kernel_size:[5]-activation:linear-drop:0.6-depth_multiplier:7-filters2:[256]-strides2:[4]-kernel_size2:[1]-activation2:relu-drop2:0.3-depth_multiplier2:6-activation_full:['elu', 0.2]-full:[2048]-fulldrop:0.3-lag:6-activation_full:['elu', 0.2]",
          "filters:[128]-strides:[1]-kernel_size:[7]-activation:['elu', 0.3]-drop:0.6-depth_multiplier:4-filters2:[128]-strides2:[4]-kernel_size2:[7]-activation2:['leaky', 0.2]-drop2:0.0-depth_multiplier2:7-activation_full:['elu', 0.2]-full:[4096]-fulldrop:0.3-lag:6-activation_full:['elu', 0.2]",
          "filters:[128]-strides:[3]-kernel_size:[9]-activation:['elu', 0.3]-drop:0.4-depth_multiplier:2-filters2:[64]-strides2:[2]-kernel_size2:[1]-activation2:relu-drop2:0.4-depth_multiplier2:6-activation_full:['elu', 0.2]-full:[256, 128, 64]-fulldrop:0.0-lag:6-activation_full:['elu', 0.2]",
          "filters:[128]-strides:[2]-kernel_size:[9]-activation:linear-drop:0.6-depth_multiplier:8-filters2:[64]-strides2:[1]-kernel_size2:[1]-activation2:['leaky', 0.2]-drop2:0.6-depth_multiplier2:1-activation_full:['elu', 0.2]-full:[128]-fulldrop:0.2-lag:12-activation_full:['elu', 0.2]",
          "filters:[128]-strides:[2]-kernel_size:[9]-activation:['elu', 0.3]-drop:0.6-depth_multiplier:8-filters2:[64]-strides2:[1]-kernel_size2:[1]-activation2:['leaky', 0.2]-drop2:0.6-depth_multiplier2:1-activation_full:['elu', 0.2]-full:[1024, 512, 256]-fulldrop:0.2-lag:12-activation_full:['elu', 0.2]",
          "filters:[128]-strides:[2]-kernel_size:[9]-activation:['elu', 0.3]-drop:0.5-depth_multiplier:8-filters2:[64]-strides2:[1]-kernel_size2:[1]-activation2:['leaky', 0.2]-drop2:0.6-depth_multiplier2:1-activation_full:['elu', 0.2]-full:[128]-fulldrop:0.2-lag:12-activation_full:['elu', 0.2]",
          "filters:[128]-strides:[2]-kernel_size:[9]-activation:['elu', 0.2]-drop:0.1-depth_multiplier:2-filters2:[512]-strides2:[1]-kernel_size2:[7]-activation2:['leaky', 0.2]-drop2:0.1-depth_multiplier2:7-activation_full:['elu', 0.2]-full:[256]-fulldrop:0.5-lag:18-activation_full:['elu', 0.2]",
          "filters:[128]-strides:[5]-kernel_size:[9]-activation:linear-drop:0.5-depth_multiplier:2-filters2:[64]-strides2:[1]-kernel_size2:[1]-activation2:['leaky', 0.2]-drop2:0.3-depth_multiplier2:3-activation_full:['elu', 0.2]-full:[1024]-fulldrop:0.2-lag:24-activation_full:['elu', 0.2]",
          "filters:[128]-strides:[4]-kernel_size:[9]-activation:linear-drop:0.4-depth_multiplier:4-filters2:[256]-strides2:[5]-kernel_size2:[5]-activation2:relu-drop2:0.2-depth_multiplier2:8-activation_full:['elu', 0.2]-full:[64]-fulldrop:0.1-lag:6-activation_full:['elu', 0.2]",
          "filters:[128]-strides:[4]-kernel_size:[9]-activation:linear-drop:0.4-depth_multiplier:4-filters2:[256]-strides2:[5]-kernel_size2:[3]-activation2:relu-drop2:0.2-depth_multiplier2:8-activation_full:['elu', 0.2]-full:[64]-fulldrop:0.1-lag:6-activation_full:['elu', 0.2]",
          "filters:[128]-strides:[4]-kernel_size:[9]-activation:linear-drop:0.4-depth_multiplier:2-filters2:[256]-strides2:[5]-kernel_size2:[1]-activation2:relu-drop2:0.0-depth_multiplier2:8-activation_full:['elu', 0.2]-full:[64]-fulldrop:0.3-lag:24-activation_full:['elu', 0.2]",
          "filters:[128]-strides:[4]-kernel_size:[9]-activation:linear-drop:0.4-depth_multiplier:2-filters2:[256]-strides2:[5]-kernel_size2:[1]-activation2:relu-drop2:0.2-depth_multiplier2:8-activation_full:['elu', 0.2]-full:[64]-fulldrop:0.3-lag:24-activation_full:['elu', 0.2]",
          "filters:[128]-strides:[4]-kernel_size:[9]-activation:linear-drop:0.4-depth_multiplier:6-filters2:[256]-strides2:[5]-kernel_size2:[1]-activation2:relu-drop2:0.0-depth_multiplier2:3-activation_full:['elu', 0.2]-full:[64]-fulldrop:0.2-lag:24-activation_full:['elu', 0.2]",
          "filters:[128]-strides:[4]-kernel_size:[9]-activation:linear-drop:0.4-depth_multiplier:6-filters2:[256]-strides2:[5]-kernel_size2:[1]-activation2:relu-drop2:0.2-depth_multiplier2:8-activation_full:['elu', 0.2]-full:[64]-fulldrop:0.3-lag:24-activation_full:['elu', 0.2]",
          "filters:[128]-strides:[4]-kernel_size:[9]-activation:linear-drop:0.1-depth_multiplier:6-filters2:[256]-strides2:[5]-kernel_size2:[1]-activation2:relu-drop2:0.2-depth_multiplier2:5-activation_full:['elu', 0.2]-full:[64]-fulldrop:0.3-lag:24-activation_full:['elu', 0.2]",
          "filters:[128]-strides:[4]-kernel_size:[9]-activation:linear-drop:0.1-depth_multiplier:6-filters2:[256]-strides2:[1]-kernel_size2:[3]-activation2:relu-drop2:0.3-depth_multiplier2:5-activation_full:['elu', 0.2]-full:[64]-fulldrop:0.3-lag:12-activation_full:['elu', 0.2]",
          "filters:[128]-strides:[4]-kernel_size:[9]-activation:['leaky', 0.2]-drop:0.4-depth_multiplier:6-filters2:[256]-strides2:[5]-kernel_size2:[3]-activation2:relu-drop2:0.2-depth_multiplier2:8-activation_full:['elu', 0.2]-full:[64]-fulldrop:0.3-lag:6-activation_full:['elu', 0.2]",
          "filters:[128]-strides:[4]-kernel_size:[9]-activation:['leaky', 0.2]-drop:0.4-depth_multiplier:6-filters2:[256]-strides2:[5]-kernel_size2:[1]-activation2:relu-drop2:0.2-depth_multiplier2:8-activation_full:['elu', 0.2]-full:[64]-fulldrop:0.3-lag:24-activation_full:['elu', 0.2]",
          "filters:[128]-strides:[4]-kernel_size:[9]-activation:['elu', 0.2]-drop:0.6-depth_multiplier:1-filters2:[128]-strides2:[5]-kernel_size2:[1]-activation2:relu-drop2:0.1-depth_multiplier2:3-activation_full:['elu', 0.2]-full:[256]-fulldrop:0.2-lag:30-activation_full:['elu', 0.2]",
          "filters:[128]-strides:[4]-kernel_size:[7]-activation:['elu', 0.3]-drop:0.5-depth_multiplier:7-filters2:[1024]-strides2:[2]-kernel_size2:[9]-activation2:['elu', 0.3]-drop2:0.0-depth_multiplier2:6-activation_full:['elu', 0.2]-full:[2048]-fulldrop:0.5-lag:6-activation_full:['elu', 0.2]",
          "filters:[1024]-strides:[1]-kernel_size:[9]-activation:tanh-drop:0.4-depth_multiplier:4-filters2:[512]-strides2:[5]-kernel_size2:[3]-activation2:relu-drop2:0.2-depth_multiplier2:8-activation_full:['elu', 0.2]-full:[64]-fulldrop:0.3-lag:6-activation_full:['elu', 0.2]",
          "filters:[1024]-strides:[1]-kernel_size:[5]-activation:linear-drop:0.5-depth_multiplier:7-filters2:[256]-strides2:[3]-kernel_size2:[7]-activation2:relu-drop2:0.1-depth_multiplier2:7-activation_full:['elu', 0.2]-full:[128]-fulldrop:0.5-lag:6-activation_full:['elu', 0.2]",
          "filters:[1024]-strides:[2]-kernel_size:[9]-activation:linear-drop:0.4-depth_multiplier:6-filters2:[256]-strides2:[5]-kernel_size2:[3]-activation2:relu-drop2:0.2-depth_multiplier2:8-activation_full:['elu', 0.2]-full:[128]-fulldrop:0.3-lag:6-activation_full:['elu', 0.2]",
          "filters:[1024]-strides:[2]-kernel_size:[5]-activation:['leaky', 0.2]-drop:0.2-depth_multiplier:1-filters2:[512]-strides2:[1]-kernel_size2:[1]-activation2:relu-drop2:0.4-depth_multiplier2:3-activation_full:['elu', 0.2]-full:[64, 32, 16]-fulldrop:0.1-lag:18-activation_full:['elu', 0.2]",
          "filters:[1024]-strides:[5]-kernel_size:[5]-activation:['leaky', 0.2]-drop:0.5-depth_multiplier:2-filters2:[2048]-strides2:[5]-kernel_size2:[2]-activation2:relu-drop2:0.3-depth_multiplier2:3-activation_full:['elu', 0.2]-full:[256, 128, 64]-fulldrop:0.4-lag:12-activation_full:['elu', 0.2]",
          "filters:[1024]-strides:[4]-kernel_size:[9]-activation:linear-drop:0.4-depth_multiplier:8-filters2:[256]-strides2:[5]-kernel_size2:[1]-activation2:relu-drop2:0.0-depth_multiplier2:2-activation_full:['elu', 0.2]-full:[64]-fulldrop:0.4-lag:24-activation_full:['elu', 0.2]",
          "filters:[1024]-strides:[4]-kernel_size:[9]-activation:linear-drop:0.4-depth_multiplier:4-filters2:[256]-strides2:[5]-kernel_size2:[1]-activation2:relu-drop2:0.2-depth_multiplier2:8-activation_full:['elu', 0.2]-full:[64]-fulldrop:0.3-lag:24-activation_full:['elu', 0.2]",
          "filters:[1024]-strides:[4]-kernel_size:[9]-activation:linear-drop:0.4-depth_multiplier:6-filters2:[256]-strides2:[5]-kernel_size2:[3]-activation2:relu-drop2:0.2-depth_multiplier2:8-activation_full:['elu', 0.2]-full:[64]-fulldrop:0.1-lag:18-activation_full:['elu', 0.2]",
          "filters:[1024]-strides:[4]-kernel_size:[9]-activation:linear-drop:0.4-depth_multiplier:6-filters2:[256]-strides2:[5]-kernel_size2:[1]-activation2:relu-drop2:0.1-depth_multiplier2:2-activation_full:['elu', 0.2]-full:[64]-fulldrop:0.4-lag:24-activation_full:['elu', 0.2]",
          "filters:[1024]-strides:[4]-kernel_size:[9]-activation:linear-drop:0.4-depth_multiplier:6-filters2:[256]-strides2:[5]-kernel_size2:[1]-activation2:relu-drop2:0.0-depth_multiplier2:2-activation_full:['elu', 0.2]-full:[64]-fulldrop:0.4-lag:24-activation_full:['elu', 0.2]",
          "filters:[1024]-strides:[4]-kernel_size:[9]-activation:linear-drop:0.4-depth_multiplier:6-filters2:[256]-strides2:[5]-kernel_size2:[1]-activation2:relu-drop2:0.0-depth_multiplier2:8-activation_full:['elu', 0.2]-full:[64]-fulldrop:0.2-lag:24-activation_full:['elu', 0.2]",
          "filters:[1024]-strides:[4]-kernel_size:[9]-activation:linear-drop:0.4-depth_multiplier:6-filters2:[256]-strides2:[5]-kernel_size2:[1]-activation2:relu-drop2:0.2-depth_multiplier2:2-activation_full:['elu', 0.2]-full:[64]-fulldrop:0.4-lag:24-activation_full:['elu', 0.2]",
          "filters:[1024]-strides:[4]-kernel_size:[9]-activation:linear-drop:0.4-depth_multiplier:6-filters2:[256]-strides2:[5]-kernel_size2:[1]-activation2:relu-drop2:0.2-depth_multiplier2:2-activation_full:['elu', 0.2]-full:[64]-fulldrop:0.3-lag:24-activation_full:['elu', 0.2]",
          "filters:[1024]-strides:[4]-kernel_size:[9]-activation:linear-drop:0.4-depth_multiplier:6-filters2:[256]-strides2:[5]-kernel_size2:[1]-activation2:relu-drop2:0.2-depth_multiplier2:8-activation_full:['elu', 0.2]-full:[2048]-fulldrop:0.0-lag:24-activation_full:['elu', 0.2]",
          "filters:[1024]-strides:[4]-kernel_size:[9]-activation:linear-drop:0.4-depth_multiplier:6-filters2:[256]-strides2:[5]-kernel_size2:[1]-activation2:relu-drop2:0.2-depth_multiplier2:8-activation_full:['elu', 0.2]-full:[1024]-fulldrop:0.3-lag:24-activation_full:['elu', 0.2]",
          "filters:[1024]-strides:[4]-kernel_size:[9]-activation:linear-drop:0.4-depth_multiplier:6-filters2:[256]-strides2:[5]-kernel_size2:[1]-activation2:relu-drop2:0.2-depth_multiplier2:8-activation_full:['elu', 0.2]-full:[64]-fulldrop:0.4-lag:24-activation_full:['elu', 0.2]",
          "filters:[1024]-strides:[4]-kernel_size:[9]-activation:linear-drop:0.4-depth_multiplier:6-filters2:[256]-strides2:[5]-kernel_size2:[1]-activation2:relu-drop2:0.2-depth_multiplier2:8-activation_full:['elu', 0.2]-full:[64]-fulldrop:0.4-lag:30-activation_full:['elu', 0.2]",
          "filters:[1024]-strides:[4]-kernel_size:[9]-activation:linear-drop:0.4-depth_multiplier:6-filters2:[256]-strides2:[5]-kernel_size2:[1]-activation2:relu-drop2:0.2-depth_multiplier2:8-activation_full:['elu', 0.2]-full:[64]-fulldrop:0.2-lag:24-activation_full:['elu', 0.2]",
          "filters:[1024]-strides:[4]-kernel_size:[9]-activation:linear-drop:0.4-depth_multiplier:6-filters2:[256]-strides2:[5]-kernel_size2:[1]-activation2:relu-drop2:0.2-depth_multiplier2:8-activation_full:['elu', 0.2]-full:[64]-fulldrop:0.5-lag:24-activation_full:['elu', 0.2]",
          "filters:[1024]-strides:[4]-kernel_size:[9]-activation:linear-drop:0.4-depth_multiplier:6-filters2:[256]-strides2:[5]-kernel_size2:[1]-activation2:relu-drop2:0.2-depth_multiplier2:8-activation_full:['elu', 0.2]-full:[64]-fulldrop:0.3-lag:24-activation_full:['elu', 0.2]",
          "filters:[1024]-strides:[4]-kernel_size:[9]-activation:linear-drop:0.4-depth_multiplier:6-filters2:[256]-strides2:[5]-kernel_size2:[1]-activation2:relu-drop2:0.2-depth_multiplier2:8-activation_full:['elu', 0.2]-full:[64]-fulldrop:0.3-lag:18-activation_full:['elu', 0.2]",
          "filters:[1024]-strides:[4]-kernel_size:[9]-activation:linear-drop:0.4-depth_multiplier:6-filters2:[256]-strides2:[5]-kernel_size2:[1]-activation2:relu-drop2:0.2-depth_multiplier2:8-activation_full:['elu', 0.2]-full:[64]-fulldrop:0.3-lag:30-activation_full:['elu', 0.2]",
          "filters:[1024]-strides:[4]-kernel_size:[9]-activation:linear-drop:0.4-depth_multiplier:6-filters2:[256]-strides2:[5]-kernel_size2:[1]-activation2:relu-drop2:0.2-depth_multiplier2:8-activation_full:['elu', 0.2]-full:[64]-fulldrop:0.1-lag:24-activation_full:['elu', 0.2]",
          "filters:[1024]-strides:[4]-kernel_size:[9]-activation:linear-drop:0.4-depth_multiplier:6-filters2:[256]-strides2:[5]-kernel_size2:[1]-activation2:relu-drop2:0.2-depth_multiplier2:8-activation_full:['elu', 0.2]-full:[128]-fulldrop:0.3-lag:24-activation_full:['elu', 0.2]",
          "filters:[1024]-strides:[4]-kernel_size:[9]-activation:linear-drop:0.4-depth_multiplier:6-filters2:[256]-strides2:[5]-kernel_size2:[1]-activation2:relu-drop2:0.2-depth_multiplier2:3-activation_full:['elu', 0.2]-full:[64]-fulldrop:0.3-lag:24-activation_full:['elu', 0.2]",
          "filters:[1024]-strides:[4]-kernel_size:[9]-activation:linear-drop:0.4-depth_multiplier:6-filters2:[256]-strides2:[5]-kernel_size2:[1]-activation2:relu-drop2:0.2-depth_multiplier2:7-activation_full:['elu', 0.2]-full:[64]-fulldrop:0.3-lag:24-activation_full:['elu', 0.2]",
          "filters:[1024]-strides:[4]-kernel_size:[9]-activation:linear-drop:0.4-depth_multiplier:6-filters2:[256]-strides2:[5]-kernel_size2:[1]-activation2:['leaky', 0.2]-drop2:0.0-depth_multiplier2:2-activation_full:['elu', 0.2]-full:[64]-fulldrop:0.4-lag:24-activation_full:['elu', 0.2]",
          "filters:[1024]-strides:[4]-kernel_size:[9]-activation:linear-drop:0.4-depth_multiplier:6-filters2:[256]-strides2:[5]-kernel_size2:[1]-activation2:['elu', 0.3]-drop2:0.0-depth_multiplier2:2-activation_full:['elu', 0.2]-full:[64]-fulldrop:0.4-lag:24-activation_full:['elu', 0.2]",
          "filters:[1024]-strides:[4]-kernel_size:[9]-activation:linear-drop:0.4-depth_multiplier:6-filters2:[64]-strides2:[5]-kernel_size2:[1]-activation2:relu-drop2:0.2-depth_multiplier2:4-activation_full:['elu', 0.2]-full:[64]-fulldrop:0.3-lag:30-activation_full:['elu', 0.2]",
          "filters:[1024]-strides:[4]-kernel_size:[9]-activation:linear-drop:0.4-depth_multiplier:6-filters2:[512]-strides2:[5]-kernel_size2:[5]-activation2:relu-drop2:0.2-depth_multiplier2:8-activation_full:['elu', 0.2]-full:[64]-fulldrop:0.4-lag:6-activation_full:['elu', 0.2]",
          "filters:[1024]-strides:[4]-kernel_size:[9]-activation:linear-drop:0.4-depth_multiplier:6-filters2:[512]-strides2:[5]-kernel_size2:[3]-activation2:relu-drop2:0.2-depth_multiplier2:8-activation_full:['elu', 0.2]-full:[64]-fulldrop:0.3-lag:6-activation_full:['elu', 0.2]",
          "filters:[1024]-strides:[4]-kernel_size:[9]-activation:linear-drop:0.4-depth_multiplier:6-filters2:[512]-strides2:[5]-kernel_size2:[1]-activation2:relu-drop2:0.2-depth_multiplier2:8-activation_full:['elu', 0.2]-full:[64]-fulldrop:0.3-lag:24-activation_full:['elu', 0.2]",
          "filters:[1024]-strides:[4]-kernel_size:[9]-activation:linear-drop:0.4-depth_multiplier:6-filters2:[512]-strides2:[5]-kernel_size2:[1]-activation2:relu-drop2:0.2-depth_multiplier2:8-activation_full:['elu', 0.2]-full:[64]-fulldrop:0.1-lag:24-activation_full:['elu', 0.2]",
          "filters:[1024]-strides:[4]-kernel_size:[9]-activation:linear-drop:0.3-depth_multiplier:4-filters2:[256]-strides2:[5]-kernel_size2:[1]-activation2:relu-drop2:0.2-depth_multiplier2:8-activation_full:['elu', 0.2]-full:[64]-fulldrop:0.3-lag:24-activation_full:['elu', 0.2]",
          "filters:[1024]-strides:[4]-kernel_size:[9]-activation:linear-drop:0.3-depth_multiplier:6-filters2:[128]-strides2:[5]-kernel_size2:[1]-activation2:relu-drop2:0.2-depth_multiplier2:8-activation_full:['elu', 0.2]-full:[64]-fulldrop:0.3-lag:24-activation_full:['elu', 0.2]",
          "filters:[1024]-strides:[4]-kernel_size:[9]-activation:linear-drop:0.6-depth_multiplier:6-filters2:[256]-strides2:[5]-kernel_size2:[1]-activation2:relu-drop2:0.0-depth_multiplier2:2-activation_full:['elu', 0.2]-full:[64]-fulldrop:0.4-lag:24-activation_full:['elu', 0.2]",
          "filters:[1024]-strides:[4]-kernel_size:[9]-activation:linear-drop:0.5-depth_multiplier:6-filters2:[256]-strides2:[5]-kernel_size2:[1]-activation2:relu-drop2:0.2-depth_multiplier2:8-activation_full:['elu', 0.2]-full:[64]-fulldrop:0.3-lag:30-activation_full:['elu', 0.2]",
          "filters:[1024]-strides:[4]-kernel_size:[9]-activation:linear-drop:0.5-depth_multiplier:6-filters2:[256]-strides2:[5]-kernel_size2:[1]-activation2:relu-drop2:0.2-depth_multiplier2:8-activation_full:['elu', 0.2]-full:[64]-fulldrop:0.1-lag:24-activation_full:['elu', 0.2]",
          "filters:[1024]-strides:[4]-kernel_size:[9]-activation:tanh-drop:0.4-depth_multiplier:6-filters2:[256]-strides2:[5]-kernel_size2:[1]-activation2:relu-drop2:0.0-depth_multiplier2:2-activation_full:['elu', 0.2]-full:[64]-fulldrop:0.4-lag:24-activation_full:['elu', 0.2]",
          "filters:[1024]-strides:[4]-kernel_size:[9]-activation:tanh-drop:0.4-depth_multiplier:6-filters2:[256]-strides2:[5]-kernel_size2:[1]-activation2:relu-drop2:0.2-depth_multiplier2:8-activation_full:['elu', 0.2]-full:[64]-fulldrop:0.3-lag:24-activation_full:['elu', 0.2]",
          "filters:[1024]-strides:[4]-kernel_size:[9]-activation:['leaky', 0.2]-drop:0.4-depth_multiplier:6-filters2:[256]-strides2:[5]-kernel_size2:[1]-activation2:relu-drop2:0.2-depth_multiplier2:8-activation_full:['elu', 0.2]-full:[64]-fulldrop:0.3-lag:24-activation_full:['elu', 0.2]",
          "filters:[1024]-strides:[4]-kernel_size:[9]-activation:['leaky', 0.2]-drop:0.4-depth_multiplier:6-filters2:[256]-strides2:[5]-kernel_size2:[1]-activation2:relu-drop2:0.2-depth_multiplier2:8-activation_full:['elu', 0.2]-full:[64]-fulldrop:0.1-lag:24-activation_full:['elu', 0.2]",
          "filters:[1024]-strides:[4]-kernel_size:[9]-activation:['leaky', 0.2]-drop:0.1-depth_multiplier:6-filters2:[256]-strides2:[1]-kernel_size2:[5]-activation2:relu-drop2:0.5-depth_multiplier2:8-activation_full:['elu', 0.2]-full:[64, 32]-fulldrop:0.0-lag:12-activation_full:['elu', 0.2]",
          "filters:[1024]-strides:[4]-kernel_size:[9]-activation:['leaky', 0.2]-drop:0.1-depth_multiplier:6-filters2:[256]-strides2:[1]-kernel_size2:[3]-activation2:relu-drop2:0.2-depth_multiplier2:8-activation_full:['elu', 0.2]-full:[64, 32]-fulldrop:0.0-lag:12-activation_full:['elu', 0.2]",
          "filters:[256]-strides:[1]-kernel_size:[7]-activation:tanh-drop:0.4-depth_multiplier:5-filters2:[512]-strides2:[5]-kernel_size2:[3]-activation2:relu-drop2:0.6-depth_multiplier2:7-activation_full:['elu', 0.2]-full:[64]-fulldrop:0.3-lag:6-activation_full:['elu', 0.2]",
          "filters:[64]-strides:[1]-kernel_size:[9]-activation:relu-drop:0.2-depth_multiplier:4-filters2:[2048]-strides2:[4]-kernel_size2:[7]-activation2:relu-drop2:0.4-depth_multiplier2:7-activation_full:['elu', 0.2]-full:[128, 64]-fulldrop:0.5-lag:12-activation_full:['elu', 0.2]",
          "filters:[64]-strides:[1]-kernel_size:[5]-activation:['elu', 0.2]-drop:0.5-depth_multiplier:5-filters2:[2048]-strides2:[3]-kernel_size2:[5]-activation2:['leaky', 0.2]-drop2:0.1-depth_multiplier2:7-activation_full:['elu', 0.2]-full:[2048, 1024]-fulldrop:0.3-lag:18-activation_full:['elu', 0.2]",
          "filters:[64]-strides:[3]-kernel_size:[7]-activation:tanh-drop:0.2-depth_multiplier:1-filters2:[1024]-strides2:[2]-kernel_size2:[3]-activation2:relu-drop2:0.6-depth_multiplier2:1-activation_full:['elu', 0.2]-full:[128]-fulldrop:0.0-lag:30-activation_full:['elu', 0.2]",
          "filters:[64]-strides:[3]-kernel_size:[5]-activation:['leaky', 0.2]-drop:0.5-depth_multiplier:3-filters2:[1024]-strides2:[3]-kernel_size2:[1]-activation2:relu-drop2:0.3-depth_multiplier2:8-activation_full:['elu', 0.2]-full:[1024, 512]-fulldrop:0.5-lag:24-activation_full:['elu', 0.2]",
          "filters:[64]-strides:[2]-kernel_size:[9]-activation:tanh-drop:0.2-depth_multiplier:7-filters2:[512]-strides2:[3]-kernel_size2:[3]-activation2:relu-drop2:0.2-depth_multiplier2:8-activation_full:['elu', 0.2]-full:[512]-fulldrop:0.0-lag:18-activation_full:['elu', 0.2]",
          "filters:[64]-strides:[4]-kernel_size:[9]-activation:linear-drop:0.2-depth_multiplier:5-filters2:[256]-strides2:[5]-kernel_size2:[5]-activation2:relu-drop2:0.0-depth_multiplier2:7-activation_full:['elu', 0.2]-full:[512, 256, 128]-fulldrop:0.4-lag:12-activation_full:['elu', 0.2]",
          "filters:[2048]-strides:[1]-kernel_size:[7]-activation:linear-drop:0.6-depth_multiplier:2-filters2:[64]-strides2:[4]-kernel_size2:[1]-activation2:relu-drop2:0.0-depth_multiplier2:7-activation_full:['elu', 0.2]-full:[2048, 1024]-fulldrop:0.2-lag:6-activation_full:['elu', 0.2]",
          "filters:[2048]-strides:[1]-kernel_size:[7]-activation:['elu', 0.3]-drop:0.0-depth_multiplier:6-filters2:[1024]-strides2:[4]-kernel_size2:[5]-activation2:relu-drop2:0.4-depth_multiplier2:5-activation_full:['elu', 0.2]-full:[512]-fulldrop:0.2-lag:12-activation_full:['elu', 0.2]",
          "filters:[2048]-strides:[1]-kernel_size:[5]-activation:relu-drop:0.3-depth_multiplier:3-filters2:[2048]-strides2:[2]-kernel_size2:[5]-activation2:['elu', 0.4]-drop2:0.0-depth_multiplier2:2-activation_full:['elu', 0.2]-full:[64, 32, 16]-fulldrop:0.2-lag:18-activation_full:['elu', 0.2]",
          "filters:[2048]-strides:[3]-kernel_size:[9]-activation:['elu', 0.2]-drop:0.3-depth_multiplier:8-filters2:[512]-strides2:[4]-kernel_size2:[1]-activation2:['elu', 0.4]-drop2:0.0-depth_multiplier2:7-activation_full:['elu', 0.2]-full:[256]-fulldrop:0.4-lag:24-activation_full:['elu', 0.2]",
          "filters:[2048]-strides:[5]-kernel_size:[7]-activation:tanh-drop:0.2-depth_multiplier:7-filters2:[1024]-strides2:[2]-kernel_size2:[7]-activation2:['elu', 0.3]-drop2:0.2-depth_multiplier2:8-activation_full:['elu', 0.2]-full:[2048, 1024]-fulldrop:0.5-lag:12-activation_full:['elu', 0.2]"
         ],
         "type": "scatter",
         "x": [],
         "y": []
        },
        {
         "marker": {
          "size": 20
         },
         "mode": "markers",
         "name": "['elu', 0.3]",
         "text": [
          "filters:[512]-strides:[1]-kernel_size:[9]-activation:linear-drop:0.4-depth_multiplier:3-filters2:[2048]-strides2:[3]-kernel_size2:[9]-activation2:relu-drop2:0.3-depth_multiplier2:5-activation_full:['elu', 0.3]-full:[256, 128]-fulldrop:0.2-lag:6-activation_full:['elu', 0.3]",
          "filters:[512]-strides:[2]-kernel_size:[5]-activation:['leaky', 0.2]-drop:0.2-depth_multiplier:1-filters2:[128]-strides2:[3]-kernel_size2:[7]-activation2:relu-drop2:0.6-depth_multiplier2:5-activation_full:['elu', 0.3]-full:[128, 64, 32]-fulldrop:0.5-lag:12-activation_full:['elu', 0.3]",
          "filters:[512]-strides:[5]-kernel_size:[7]-activation:relu-drop:0.5-depth_multiplier:6-filters2:[2048]-strides2:[2]-kernel_size2:[7]-activation2:relu-drop2:0.3-depth_multiplier2:4-activation_full:['elu', 0.3]-full:[2048]-fulldrop:0.1-lag:18-activation_full:['elu', 0.3]",
          "filters:[512]-strides:[4]-kernel_size:[9]-activation:['elu', 0.4]-drop:0.4-depth_multiplier:4-filters2:[512]-strides2:[1]-kernel_size2:[3]-activation2:relu-drop2:0.3-depth_multiplier2:2-activation_full:['elu', 0.3]-full:[256]-fulldrop:0.5-lag:12-activation_full:['elu', 0.3]",
          "filters:[128]-strides:[1]-kernel_size:[9]-activation:['elu', 0.3]-drop:0.6-depth_multiplier:1-filters2:[512]-strides2:[3]-kernel_size2:[1]-activation2:relu-drop2:0.5-depth_multiplier2:2-activation_full:['elu', 0.3]-full:[1024]-fulldrop:0.5-lag:12-activation_full:['elu', 0.3]",
          "filters:[128]-strides:[1]-kernel_size:[9]-activation:['leaky', 0.2]-drop:0.6-depth_multiplier:3-filters2:[128]-strides2:[1]-kernel_size2:[7]-activation2:relu-drop2:0.0-depth_multiplier2:4-activation_full:['elu', 0.3]-full:[128]-fulldrop:0.3-lag:12-activation_full:['elu', 0.3]",
          "filters:[128]-strides:[3]-kernel_size:[7]-activation:['leaky', 0.2]-drop:0.2-depth_multiplier:2-filters2:[2048]-strides2:[5]-kernel_size2:[3]-activation2:relu-drop2:0.1-depth_multiplier2:5-activation_full:['elu', 0.3]-full:[256, 128]-fulldrop:0.4-lag:18-activation_full:['elu', 0.3]",
          "filters:[128]-strides:[3]-kernel_size:[5]-activation:tanh-drop:0.2-depth_multiplier:5-filters2:[1024]-strides2:[4]-kernel_size2:[2]-activation2:['leaky', 0.2]-drop2:0.0-depth_multiplier2:7-activation_full:['elu', 0.3]-full:[1024]-fulldrop:0.4-lag:12-activation_full:['elu', 0.3]",
          "filters:[128]-strides:[5]-kernel_size:[7]-activation:linear-drop:0.6-depth_multiplier:3-filters2:[2048]-strides2:[3]-kernel_size2:[9]-activation2:relu-drop2:0.1-depth_multiplier2:7-activation_full:['elu', 0.3]-full:[512]-fulldrop:0.5-lag:30-activation_full:['elu', 0.3]",
          "filters:[128]-strides:[4]-kernel_size:[9]-activation:linear-drop:0.4-depth_multiplier:6-filters2:[512]-strides2:[5]-kernel_size2:[1]-activation2:relu-drop2:0.2-depth_multiplier2:8-activation_full:['elu', 0.3]-full:[1024]-fulldrop:0.3-lag:24-activation_full:['elu', 0.3]",
          "filters:[1024]-strides:[3]-kernel_size:[9]-activation:relu-drop:0.4-depth_multiplier:1-filters2:[128]-strides2:[1]-kernel_size2:[2]-activation2:relu-drop2:0.2-depth_multiplier2:2-activation_full:['elu', 0.3]-full:[128, 64]-fulldrop:0.4-lag:18-activation_full:['elu', 0.3]",
          "filters:[1024]-strides:[3]-kernel_size:[9]-activation:['elu', 0.4]-drop:0.0-depth_multiplier:1-filters2:[128]-strides2:[2]-kernel_size2:[3]-activation2:relu-drop2:0.3-depth_multiplier2:3-activation_full:['elu', 0.3]-full:[256, 128]-fulldrop:0.3-lag:24-activation_full:['elu', 0.3]",
          "filters:[1024]-strides:[3]-kernel_size:[5]-activation:['leaky', 0.2]-drop:0.5-depth_multiplier:7-filters2:[128]-strides2:[5]-kernel_size2:[3]-activation2:['elu', 0.4]-drop2:0.0-depth_multiplier2:8-activation_full:['elu', 0.3]-full:[64, 32]-fulldrop:0.3-lag:30-activation_full:['elu', 0.3]",
          "filters:[1024]-strides:[2]-kernel_size:[9]-activation:['elu', 0.3]-drop:0.6-depth_multiplier:8-filters2:[2048]-strides2:[4]-kernel_size2:[1]-activation2:['elu', 0.3]-drop2:0.6-depth_multiplier2:7-activation_full:['elu', 0.3]-full:[1024]-fulldrop:0.1-lag:12-activation_full:['elu', 0.3]",
          "filters:[1024]-strides:[2]-kernel_size:[9]-activation:['leaky', 0.2]-drop:0.6-depth_multiplier:8-filters2:[2048]-strides2:[4]-kernel_size2:[1]-activation2:['elu', 0.3]-drop2:0.6-depth_multiplier2:7-activation_full:['elu', 0.3]-full:[1024]-fulldrop:0.1-lag:12-activation_full:['elu', 0.3]",
          "filters:[1024]-strides:[5]-kernel_size:[9]-activation:['elu', 0.3]-drop:0.2-depth_multiplier:7-filters2:[128]-strides2:[4]-kernel_size2:[1]-activation2:relu-drop2:0.6-depth_multiplier2:2-activation_full:['elu', 0.3]-full:[128, 64]-fulldrop:0.0-lag:6-activation_full:['elu', 0.3]",
          "filters:[1024]-strides:[4]-kernel_size:[9]-activation:linear-drop:0.4-depth_multiplier:6-filters2:[256]-strides2:[5]-kernel_size2:[1]-activation2:relu-drop2:0.2-depth_multiplier2:8-activation_full:['elu', 0.3]-full:[64]-fulldrop:0.3-lag:24-activation_full:['elu', 0.3]",
          "filters:[1024]-strides:[4]-kernel_size:[9]-activation:linear-drop:0.4-depth_multiplier:6-filters2:[512]-strides2:[5]-kernel_size2:[1]-activation2:relu-drop2:0.2-depth_multiplier2:8-activation_full:['elu', 0.3]-full:[64]-fulldrop:0.1-lag:24-activation_full:['elu', 0.3]",
          "filters:[256]-strides:[1]-kernel_size:[7]-activation:['elu', 0.2]-drop:0.0-depth_multiplier:6-filters2:[512]-strides2:[5]-kernel_size2:[7]-activation2:relu-drop2:0.1-depth_multiplier2:2-activation_full:['elu', 0.3]-full:[64]-fulldrop:0.2-lag:18-activation_full:['elu', 0.3]",
          "filters:[256]-strides:[3]-kernel_size:[7]-activation:['elu', 0.2]-drop:0.3-depth_multiplier:4-filters2:[128]-strides2:[4]-kernel_size2:[9]-activation2:relu-drop2:0.3-depth_multiplier2:5-activation_full:['elu', 0.3]-full:[64]-fulldrop:0.0-lag:6-activation_full:['elu', 0.3]",
          "filters:[256]-strides:[2]-kernel_size:[9]-activation:linear-drop:0.6-depth_multiplier:8-filters2:[256]-strides2:[4]-kernel_size2:[1]-activation2:relu-drop2:0.6-depth_multiplier2:8-activation_full:['elu', 0.3]-full:[1024]-fulldrop:0.1-lag:12-activation_full:['elu', 0.3]",
          "filters:[256]-strides:[2]-kernel_size:[9]-activation:linear-drop:0.0-depth_multiplier:3-filters2:[64]-strides2:[3]-kernel_size2:[1]-activation2:relu-drop2:0.6-depth_multiplier2:2-activation_full:['elu', 0.3]-full:[128, 64, 32]-fulldrop:0.0-lag:30-activation_full:['elu', 0.3]",
          "filters:[256]-strides:[2]-kernel_size:[9]-activation:['elu', 0.3]-drop:0.5-depth_multiplier:8-filters2:[1024]-strides2:[4]-kernel_size2:[1]-activation2:['elu', 0.3]-drop2:0.6-depth_multiplier2:7-activation_full:['elu', 0.3]-full:[1024]-fulldrop:0.1-lag:12-activation_full:['elu', 0.3]",
          "filters:[256]-strides:[2]-kernel_size:[9]-activation:['leaky', 0.2]-drop:0.5-depth_multiplier:8-filters2:[2048]-strides2:[4]-kernel_size2:[1]-activation2:['elu', 0.3]-drop2:0.6-depth_multiplier2:8-activation_full:['elu', 0.3]-full:[1024]-fulldrop:0.1-lag:12-activation_full:['elu', 0.3]",
          "filters:[256]-strides:[2]-kernel_size:[7]-activation:['leaky', 0.2]-drop:0.3-depth_multiplier:4-filters2:[512]-strides2:[2]-kernel_size2:[5]-activation2:relu-drop2:0.3-depth_multiplier2:5-activation_full:['elu', 0.3]-full:[64]-fulldrop:0.1-lag:12-activation_full:['elu', 0.3]",
          "filters:[256]-strides:[2]-kernel_size:[5]-activation:linear-drop:0.1-depth_multiplier:1-filters2:[256]-strides2:[3]-kernel_size2:[5]-activation2:['elu', 0.4]-drop2:0.2-depth_multiplier2:2-activation_full:['elu', 0.3]-full:[2048, 1024]-fulldrop:0.0-lag:12-activation_full:['elu', 0.3]",
          "filters:[256]-strides:[5]-kernel_size:[5]-activation:['leaky', 0.2]-drop:0.2-depth_multiplier:1-filters2:[2048]-strides2:[2]-kernel_size2:[1]-activation2:relu-drop2:0.5-depth_multiplier2:3-activation_full:['elu', 0.3]-full:[128]-fulldrop:0.2-lag:30-activation_full:['elu', 0.3]",
          "filters:[64]-strides:[1]-kernel_size:[5]-activation:relu-drop:0.0-depth_multiplier:4-filters2:[512]-strides2:[1]-kernel_size2:[2]-activation2:relu-drop2:0.3-depth_multiplier2:8-activation_full:['elu', 0.3]-full:[64]-fulldrop:0.0-lag:30-activation_full:['elu', 0.3]",
          "filters:[64]-strides:[2]-kernel_size:[5]-activation:['elu', 0.4]-drop:0.6-depth_multiplier:1-filters2:[64]-strides2:[5]-kernel_size2:[7]-activation2:['leaky', 0.2]-drop2:0.4-depth_multiplier2:3-activation_full:['elu', 0.3]-full:[256, 128, 64]-fulldrop:0.5-lag:6-activation_full:['elu', 0.3]",
          "filters:[64]-strides:[2]-kernel_size:[5]-activation:['elu', 0.2]-drop:0.6-depth_multiplier:3-filters2:[64]-strides2:[2]-kernel_size2:[2]-activation2:relu-drop2:0.6-depth_multiplier2:1-activation_full:['elu', 0.3]-full:[128]-fulldrop:0.4-lag:24-activation_full:['elu', 0.3]",
          "filters:[64]-strides:[4]-kernel_size:[9]-activation:['elu', 0.2]-drop:0.6-depth_multiplier:1-filters2:[1024]-strides2:[3]-kernel_size2:[3]-activation2:relu-drop2:0.2-depth_multiplier2:2-activation_full:['elu', 0.3]-full:[2048, 1024]-fulldrop:0.0-lag:12-activation_full:['elu', 0.3]",
          "filters:[2048]-strides:[1]-kernel_size:[9]-activation:['leaky', 0.2]-drop:0.5-depth_multiplier:6-filters2:[2048]-strides2:[2]-kernel_size2:[7]-activation2:relu-drop2:0.4-depth_multiplier2:8-activation_full:['elu', 0.3]-full:[512]-fulldrop:0.1-lag:6-activation_full:['elu', 0.3]",
          "filters:[2048]-strides:[1]-kernel_size:[9]-activation:['leaky', 0.2]-drop:0.5-depth_multiplier:6-filters2:[2048]-strides2:[2]-kernel_size2:[3]-activation2:relu-drop2:0.4-depth_multiplier2:8-activation_full:['elu', 0.3]-full:[512]-fulldrop:0.3-lag:6-activation_full:['elu', 0.3]",
          "filters:[2048]-strides:[1]-kernel_size:[7]-activation:['elu', 0.3]-drop:0.4-depth_multiplier:1-filters2:[1024]-strides2:[1]-kernel_size2:[2]-activation2:relu-drop2:0.5-depth_multiplier2:8-activation_full:['elu', 0.3]-full:[1024, 512, 256]-fulldrop:0.2-lag:6-activation_full:['elu', 0.3]",
          "filters:[2048]-strides:[1]-kernel_size:[7]-activation:['elu', 0.4]-drop:0.3-depth_multiplier:2-filters2:[256]-strides2:[3]-kernel_size2:[3]-activation2:relu-drop2:0.2-depth_multiplier2:5-activation_full:['elu', 0.3]-full:[256]-fulldrop:0.1-lag:6-activation_full:['elu', 0.3]",
          "filters:[2048]-strides:[3]-kernel_size:[7]-activation:['elu', 0.3]-drop:0.3-depth_multiplier:6-filters2:[256]-strides2:[5]-kernel_size2:[2]-activation2:['leaky', 0.2]-drop2:0.3-depth_multiplier2:8-activation_full:['elu', 0.3]-full:[4096]-fulldrop:0.4-lag:30-activation_full:['elu', 0.3]",
          "filters:[2048]-strides:[2]-kernel_size:[9]-activation:linear-drop:0.0-depth_multiplier:8-filters2:[1024]-strides2:[5]-kernel_size2:[1]-activation2:relu-drop2:0.4-depth_multiplier2:3-activation_full:['elu', 0.3]-full:[64, 32, 16]-fulldrop:0.5-lag:18-activation_full:['elu', 0.3]",
          "filters:[2048]-strides:[2]-kernel_size:[5]-activation:['leaky', 0.2]-drop:0.1-depth_multiplier:5-filters2:[2048]-strides2:[1]-kernel_size2:[1]-activation2:['leaky', 0.2]-drop2:0.4-depth_multiplier2:6-activation_full:['elu', 0.3]-full:[1024]-fulldrop:0.0-lag:18-activation_full:['elu', 0.3]",
          "filters:[2048]-strides:[5]-kernel_size:[9]-activation:linear-drop:0.2-depth_multiplier:7-filters2:[1024]-strides2:[5]-kernel_size2:[1]-activation2:relu-drop2:0.4-depth_multiplier2:6-activation_full:['elu', 0.3]-full:[64, 32]-fulldrop:0.2-lag:18-activation_full:['elu', 0.3]",
          "filters:[2048]-strides:[4]-kernel_size:[7]-activation:tanh-drop:0.6-depth_multiplier:6-filters2:[256]-strides2:[1]-kernel_size2:[3]-activation2:['elu', 0.3]-drop2:0.4-depth_multiplier2:8-activation_full:['elu', 0.3]-full:[1024]-fulldrop:0.1-lag:12-activation_full:['elu', 0.3]",
          "filters:[2048]-strides:[4]-kernel_size:[7]-activation:['leaky', 0.2]-drop:0.3-depth_multiplier:8-filters2:[2048]-strides2:[1]-kernel_size2:[1]-activation2:['leaky', 0.2]-drop2:0.4-depth_multiplier2:6-activation_full:['elu', 0.3]-full:[4096]-fulldrop:0.3-lag:6-activation_full:['elu', 0.3]"
         ],
         "type": "scatter",
         "x": [
          7.308436092373183,
          7.307706747926959,
          7.310872501467496,
          7.300183111389194
         ],
         "y": [
          850,
          900,
          900,
          800
         ]
        },
        {
         "marker": {
          "size": 20
         },
         "mode": "markers",
         "name": "['elu', 0.4]",
         "text": [
          "filters:[512]-strides:[1]-kernel_size:[9]-activation:relu-drop:0.2-depth_multiplier:1-filters2:[256]-strides2:[2]-kernel_size2:[5]-activation2:relu-drop2:0.1-depth_multiplier2:5-activation_full:['elu', 0.4]-full:[256]-fulldrop:0.4-lag:24-activation_full:['elu', 0.4]",
          "filters:[512]-strides:[3]-kernel_size:[9]-activation:['elu', 0.3]-drop:0.2-depth_multiplier:8-filters2:[1024]-strides2:[5]-kernel_size2:[7]-activation2:relu-drop2:0.0-depth_multiplier2:5-activation_full:['elu', 0.4]-full:[256, 128]-fulldrop:0.5-lag:18-activation_full:['elu', 0.4]",
          "filters:[512]-strides:[3]-kernel_size:[5]-activation:['elu', 0.3]-drop:0.2-depth_multiplier:5-filters2:[64]-strides2:[1]-kernel_size2:[3]-activation2:relu-drop2:0.2-depth_multiplier2:5-activation_full:['elu', 0.4]-full:[4096]-fulldrop:0.5-lag:30-activation_full:['elu', 0.4]",
          "filters:[512]-strides:[2]-kernel_size:[9]-activation:tanh-drop:0.4-depth_multiplier:7-filters2:[512]-strides2:[2]-kernel_size2:[3]-activation2:relu-drop2:0.2-depth_multiplier2:8-activation_full:['elu', 0.4]-full:[512]-fulldrop:0.0-lag:18-activation_full:['elu', 0.4]",
          "filters:[512]-strides:[2]-kernel_size:[5]-activation:['elu', 0.3]-drop:0.3-depth_multiplier:4-filters2:[64]-strides2:[4]-kernel_size2:[5]-activation2:relu-drop2:0.3-depth_multiplier2:5-activation_full:['elu', 0.4]-full:[64]-fulldrop:0.2-lag:18-activation_full:['elu', 0.4]",
          "filters:[512]-strides:[4]-kernel_size:[9]-activation:['elu', 0.4]-drop:0.2-depth_multiplier:8-filters2:[128]-strides2:[5]-kernel_size2:[2]-activation2:relu-drop2:0.6-depth_multiplier2:6-activation_full:['elu', 0.4]-full:[1024, 512]-fulldrop:0.3-lag:24-activation_full:['elu', 0.4]",
          "filters:[512]-strides:[4]-kernel_size:[9]-activation:['elu', 0.4]-drop:0.4-depth_multiplier:4-filters2:[512]-strides2:[1]-kernel_size2:[3]-activation2:relu-drop2:0.3-depth_multiplier2:2-activation_full:['elu', 0.4]-full:[256]-fulldrop:0.5-lag:12-activation_full:['elu', 0.4]",
          "filters:[512]-strides:[4]-kernel_size:[7]-activation:linear-drop:0.2-depth_multiplier:5-filters2:[128]-strides2:[5]-kernel_size2:[9]-activation2:relu-drop2:0.6-depth_multiplier2:3-activation_full:['elu', 0.4]-full:[64, 32]-fulldrop:0.4-lag:18-activation_full:['elu', 0.4]",
          "filters:[512]-strides:[4]-kernel_size:[5]-activation:['elu', 0.4]-drop:0.0-depth_multiplier:3-filters2:[512]-strides2:[5]-kernel_size2:[9]-activation2:['elu', 0.4]-drop2:0.6-depth_multiplier2:2-activation_full:['elu', 0.4]-full:[4096]-fulldrop:0.4-lag:12-activation_full:['elu', 0.4]",
          "filters:[128]-strides:[1]-kernel_size:[5]-activation:tanh-drop:0.1-depth_multiplier:2-filters2:[2048]-strides2:[4]-kernel_size2:[1]-activation2:relu-drop2:0.2-depth_multiplier2:8-activation_full:['elu', 0.4]-full:[128, 64, 32]-fulldrop:0.4-lag:24-activation_full:['elu', 0.4]",
          "filters:[128]-strides:[3]-kernel_size:[5]-activation:relu-drop:0.1-depth_multiplier:3-filters2:[512]-strides2:[1]-kernel_size2:[1]-activation2:relu-drop2:0.3-depth_multiplier2:3-activation_full:['elu', 0.4]-full:[64, 32]-fulldrop:0.2-lag:30-activation_full:['elu', 0.4]",
          "filters:[128]-strides:[2]-kernel_size:[9]-activation:linear-drop:0.2-depth_multiplier:2-filters2:[64]-strides2:[2]-kernel_size2:[1]-activation2:relu-drop2:0.4-depth_multiplier2:5-activation_full:['elu', 0.4]-full:[4096]-fulldrop:0.4-lag:24-activation_full:['elu', 0.4]",
          "filters:[128]-strides:[2]-kernel_size:[9]-activation:['elu', 0.2]-drop:0.6-depth_multiplier:8-filters2:[2048]-strides2:[4]-kernel_size2:[2]-activation2:relu-drop2:0.6-depth_multiplier2:4-activation_full:['elu', 0.4]-full:[1024]-fulldrop:0.0-lag:6-activation_full:['elu', 0.4]",
          "filters:[128]-strides:[2]-kernel_size:[7]-activation:['leaky', 0.2]-drop:0.4-depth_multiplier:6-filters2:[2048]-strides2:[4]-kernel_size2:[2]-activation2:relu-drop2:0.6-depth_multiplier2:7-activation_full:['elu', 0.4]-full:[1024, 512, 256]-fulldrop:0.5-lag:6-activation_full:['elu', 0.4]",
          "filters:[128]-strides:[2]-kernel_size:[5]-activation:tanh-drop:0.4-depth_multiplier:1-filters2:[1024]-strides2:[5]-kernel_size2:[5]-activation2:relu-drop2:0.3-depth_multiplier2:4-activation_full:['elu', 0.4]-full:[4096]-fulldrop:0.0-lag:30-activation_full:['elu', 0.4]",
          "filters:[128]-strides:[2]-kernel_size:[5]-activation:tanh-drop:0.1-depth_multiplier:7-filters2:[1024]-strides2:[3]-kernel_size2:[1]-activation2:['elu', 0.4]-drop2:0.0-depth_multiplier2:1-activation_full:['elu', 0.4]-full:[64, 32]-fulldrop:0.2-lag:30-activation_full:['elu', 0.4]",
          "filters:[128]-strides:[5]-kernel_size:[7]-activation:['leaky', 0.2]-drop:0.6-depth_multiplier:8-filters2:[128]-strides2:[3]-kernel_size2:[5]-activation2:relu-drop2:0.5-depth_multiplier2:1-activation_full:['elu', 0.4]-full:[512, 256, 128]-fulldrop:0.0-lag:30-activation_full:['elu', 0.4]",
          "filters:[128]-strides:[4]-kernel_size:[7]-activation:['elu', 0.4]-drop:0.3-depth_multiplier:4-filters2:[64]-strides2:[4]-kernel_size2:[7]-activation2:relu-drop2:0.2-depth_multiplier2:7-activation_full:['elu', 0.4]-full:[4096]-fulldrop:0.5-lag:24-activation_full:['elu', 0.4]",
          "filters:[1024]-strides:[3]-kernel_size:[7]-activation:relu-drop:0.0-depth_multiplier:2-filters2:[64]-strides2:[3]-kernel_size2:[3]-activation2:relu-drop2:0.3-depth_multiplier2:2-activation_full:['elu', 0.4]-full:[128, 64]-fulldrop:0.4-lag:24-activation_full:['elu', 0.4]",
          "filters:[1024]-strides:[3]-kernel_size:[5]-activation:linear-drop:0.3-depth_multiplier:5-filters2:[512]-strides2:[4]-kernel_size2:[3]-activation2:relu-drop2:0.6-depth_multiplier2:7-activation_full:['elu', 0.4]-full:[512]-fulldrop:0.3-lag:18-activation_full:['elu', 0.4]",
          "filters:[1024]-strides:[2]-kernel_size:[9]-activation:linear-drop:0.5-depth_multiplier:5-filters2:[2048]-strides2:[2]-kernel_size2:[5]-activation2:['elu', 0.4]-drop2:0.4-depth_multiplier2:5-activation_full:['elu', 0.4]-full:[512, 256]-fulldrop:0.1-lag:6-activation_full:['elu', 0.4]",
          "filters:[1024]-strides:[2]-kernel_size:[9]-activation:['elu', 0.3]-drop:0.6-depth_multiplier:8-filters2:[2048]-strides2:[4]-kernel_size2:[1]-activation2:['elu', 0.3]-drop2:0.6-depth_multiplier2:7-activation_full:['elu', 0.4]-full:[1024]-fulldrop:0.1-lag:12-activation_full:['elu', 0.4]",
          "filters:[1024]-strides:[2]-kernel_size:[9]-activation:['elu', 0.3]-drop:0.6-depth_multiplier:8-filters2:[1024]-strides2:[4]-kernel_size2:[1]-activation2:['elu', 0.3]-drop2:0.6-depth_multiplier2:7-activation_full:['elu', 0.4]-full:[1024]-fulldrop:0.1-lag:12-activation_full:['elu', 0.4]",
          "filters:[1024]-strides:[2]-kernel_size:[9]-activation:['elu', 0.3]-drop:0.6-depth_multiplier:8-filters2:[1024]-strides2:[4]-kernel_size2:[1]-activation2:['elu', 0.3]-drop2:0.6-depth_multiplier2:7-activation_full:['elu', 0.4]-full:[64, 32]-fulldrop:0.1-lag:12-activation_full:['elu', 0.4]",
          "filters:[1024]-strides:[2]-kernel_size:[9]-activation:['leaky', 0.2]-drop:0.4-depth_multiplier:5-filters2:[1024]-strides2:[5]-kernel_size2:[5]-activation2:['elu', 0.4]-drop2:0.4-depth_multiplier2:8-activation_full:['elu', 0.4]-full:[512, 256]-fulldrop:0.1-lag:6-activation_full:['elu', 0.4]",
          "filters:[1024]-strides:[2]-kernel_size:[9]-activation:['leaky', 0.2]-drop:0.6-depth_multiplier:5-filters2:[1024]-strides2:[2]-kernel_size2:[5]-activation2:['elu', 0.4]-drop2:0.4-depth_multiplier2:8-activation_full:['elu', 0.4]-full:[512, 256]-fulldrop:0.1-lag:6-activation_full:['elu', 0.4]",
          "filters:[1024]-strides:[2]-kernel_size:[9]-activation:['leaky', 0.2]-drop:0.6-depth_multiplier:5-filters2:[1024]-strides2:[2]-kernel_size2:[5]-activation2:['elu', 0.4]-drop2:0.4-depth_multiplier2:7-activation_full:['elu', 0.4]-full:[1024]-fulldrop:0.1-lag:6-activation_full:['elu', 0.4]",
          "filters:[1024]-strides:[2]-kernel_size:[9]-activation:['leaky', 0.2]-drop:0.6-depth_multiplier:5-filters2:[1024]-strides2:[2]-kernel_size2:[5]-activation2:['elu', 0.4]-drop2:0.4-depth_multiplier2:7-activation_full:['elu', 0.4]-full:[512, 256]-fulldrop:0.0-lag:6-activation_full:['elu', 0.4]",
          "filters:[1024]-strides:[2]-kernel_size:[9]-activation:['leaky', 0.2]-drop:0.6-depth_multiplier:8-filters2:[2048]-strides2:[2]-kernel_size2:[5]-activation2:['elu', 0.4]-drop2:0.4-depth_multiplier2:5-activation_full:['elu', 0.4]-full:[1024]-fulldrop:0.1-lag:6-activation_full:['elu', 0.4]",
          "filters:[1024]-strides:[2]-kernel_size:[9]-activation:['leaky', 0.2]-drop:0.6-depth_multiplier:8-filters2:[2048]-strides2:[4]-kernel_size2:[1]-activation2:['elu', 0.4]-drop2:0.6-depth_multiplier2:7-activation_full:['elu', 0.4]-full:[256]-fulldrop:0.1-lag:12-activation_full:['elu', 0.4]",
          "filters:[1024]-strides:[2]-kernel_size:[9]-activation:['leaky', 0.2]-drop:0.6-depth_multiplier:8-filters2:[2048]-strides2:[4]-kernel_size2:[1]-activation2:['elu', 0.3]-drop2:0.6-depth_multiplier2:7-activation_full:['elu', 0.4]-full:[1024]-fulldrop:0.1-lag:12-activation_full:['elu', 0.4]",
          "filters:[1024]-strides:[2]-kernel_size:[9]-activation:['leaky', 0.2]-drop:0.6-depth_multiplier:8-filters2:[1024]-strides2:[2]-kernel_size2:[5]-activation2:['elu', 0.4]-drop2:0.3-depth_multiplier2:5-activation_full:['elu', 0.4]-full:[1024]-fulldrop:0.1-lag:6-activation_full:['elu', 0.4]",
          "filters:[1024]-strides:[2]-kernel_size:[9]-activation:['leaky', 0.2]-drop:0.6-depth_multiplier:8-filters2:[1024]-strides2:[4]-kernel_size2:[1]-activation2:['elu', 0.4]-drop2:0.6-depth_multiplier2:7-activation_full:['elu', 0.4]-full:[1024]-fulldrop:0.1-lag:12-activation_full:['elu', 0.4]",
          "filters:[1024]-strides:[2]-kernel_size:[9]-activation:['leaky', 0.2]-drop:0.5-depth_multiplier:5-filters2:[256]-strides2:[2]-kernel_size2:[5]-activation2:['elu', 0.4]-drop2:0.4-depth_multiplier2:5-activation_full:['elu', 0.4]-full:[512, 256]-fulldrop:0.0-lag:6-activation_full:['elu', 0.4]",
          "filters:[1024]-strides:[2]-kernel_size:[9]-activation:['leaky', 0.2]-drop:0.5-depth_multiplier:5-filters2:[1024]-strides2:[2]-kernel_size2:[5]-activation2:['elu', 0.4]-drop2:0.6-depth_multiplier2:5-activation_full:['elu', 0.4]-full:[1024]-fulldrop:0.1-lag:6-activation_full:['elu', 0.4]",
          "filters:[1024]-strides:[2]-kernel_size:[9]-activation:['leaky', 0.2]-drop:0.5-depth_multiplier:5-filters2:[1024]-strides2:[2]-kernel_size2:[5]-activation2:['elu', 0.4]-drop2:0.4-depth_multiplier2:5-activation_full:['elu', 0.4]-full:[512, 256]-fulldrop:0.0-lag:6-activation_full:['elu', 0.4]",
          "filters:[1024]-strides:[2]-kernel_size:[9]-activation:['leaky', 0.2]-drop:0.5-depth_multiplier:5-filters2:[1024]-strides2:[2]-kernel_size2:[5]-activation2:['elu', 0.4]-drop2:0.4-depth_multiplier2:5-activation_full:['elu', 0.4]-full:[512, 256]-fulldrop:0.1-lag:6-activation_full:['elu', 0.4]",
          "filters:[1024]-strides:[2]-kernel_size:[9]-activation:['leaky', 0.2]-drop:0.5-depth_multiplier:5-filters2:[1024]-strides2:[2]-kernel_size2:[5]-activation2:['elu', 0.4]-drop2:0.4-depth_multiplier2:8-activation_full:['elu', 0.4]-full:[512, 256]-fulldrop:0.1-lag:6-activation_full:['elu', 0.4]",
          "filters:[1024]-strides:[2]-kernel_size:[9]-activation:['leaky', 0.2]-drop:0.5-depth_multiplier:5-filters2:[1024]-strides2:[2]-kernel_size2:[3]-activation2:['elu', 0.4]-drop2:0.4-depth_multiplier2:8-activation_full:['elu', 0.4]-full:[1024]-fulldrop:0.1-lag:6-activation_full:['elu', 0.4]",
          "filters:[1024]-strides:[2]-kernel_size:[9]-activation:['leaky', 0.2]-drop:0.5-depth_multiplier:8-filters2:[256]-strides2:[2]-kernel_size2:[5]-activation2:['elu', 0.4]-drop2:0.4-depth_multiplier2:5-activation_full:['elu', 0.4]-full:[1024]-fulldrop:0.0-lag:6-activation_full:['elu', 0.4]",
          "filters:[1024]-strides:[2]-kernel_size:[9]-activation:['leaky', 0.2]-drop:0.5-depth_multiplier:8-filters2:[1024]-strides2:[2]-kernel_size2:[5]-activation2:['elu', 0.4]-drop2:0.4-depth_multiplier2:5-activation_full:['elu', 0.4]-full:[1024]-fulldrop:0.1-lag:6-activation_full:['elu', 0.4]",
          "filters:[1024]-strides:[2]-kernel_size:[9]-activation:['leaky', 0.2]-drop:0.5-depth_multiplier:6-filters2:[2048]-strides2:[2]-kernel_size2:[5]-activation2:['elu', 0.4]-drop2:0.4-depth_multiplier2:5-activation_full:['elu', 0.4]-full:[512, 256]-fulldrop:0.1-lag:6-activation_full:['elu', 0.4]",
          "filters:[1024]-strides:[2]-kernel_size:[9]-activation:['leaky', 0.2]-drop:0.5-depth_multiplier:6-filters2:[1024]-strides2:[2]-kernel_size2:[5]-activation2:['elu', 0.4]-drop2:0.4-depth_multiplier2:8-activation_full:['elu', 0.4]-full:[512, 256]-fulldrop:0.1-lag:6-activation_full:['elu', 0.4]",
          "filters:[1024]-strides:[2]-kernel_size:[7]-activation:['leaky', 0.2]-drop:0.6-depth_multiplier:2-filters2:[128]-strides2:[3]-kernel_size2:[9]-activation2:relu-drop2:0.2-depth_multiplier2:6-activation_full:['elu', 0.4]-full:[64, 32]-fulldrop:0.3-lag:18-activation_full:['elu', 0.4]",
          "filters:[1024]-strides:[2]-kernel_size:[5]-activation:['elu', 0.3]-drop:0.6-depth_multiplier:4-filters2:[512]-strides2:[2]-kernel_size2:[5]-activation2:['elu', 0.4]-drop2:0.6-depth_multiplier2:6-activation_full:['elu', 0.4]-full:[128, 64, 32]-fulldrop:0.5-lag:24-activation_full:['elu', 0.4]",
          "filters:[1024]-strides:[4]-kernel_size:[9]-activation:linear-drop:0.4-depth_multiplier:6-filters2:[512]-strides2:[5]-kernel_size2:[1]-activation2:relu-drop2:0.2-depth_multiplier2:8-activation_full:['elu', 0.4]-full:[64]-fulldrop:0.1-lag:24-activation_full:['elu', 0.4]",
          "filters:[1024]-strides:[4]-kernel_size:[9]-activation:linear-drop:0.5-depth_multiplier:3-filters2:[1024]-strides2:[3]-kernel_size2:[9]-activation2:['elu', 0.4]-drop2:0.4-depth_multiplier2:7-activation_full:['elu', 0.4]-full:[256]-fulldrop:0.5-lag:30-activation_full:['elu', 0.4]",
          "filters:[1024]-strides:[4]-kernel_size:[9]-activation:tanh-drop:0.4-depth_multiplier:6-filters2:[256]-strides2:[5]-kernel_size2:[1]-activation2:relu-drop2:0.2-depth_multiplier2:8-activation_full:['elu', 0.4]-full:[64]-fulldrop:0.3-lag:24-activation_full:['elu', 0.4]",
          "filters:[1024]-strides:[4]-kernel_size:[9]-activation:['leaky', 0.2]-drop:0.5-depth_multiplier:5-filters2:[1024]-strides2:[2]-kernel_size2:[5]-activation2:['elu', 0.4]-drop2:0.4-depth_multiplier2:5-activation_full:['elu', 0.4]-full:[1024]-fulldrop:0.1-lag:6-activation_full:['elu', 0.4]",
          "filters:[256]-strides:[3]-kernel_size:[9]-activation:['leaky', 0.2]-drop:0.6-depth_multiplier:8-filters2:[2048]-strides2:[4]-kernel_size2:[1]-activation2:relu-drop2:0.6-depth_multiplier2:7-activation_full:['elu', 0.4]-full:[1024]-fulldrop:0.1-lag:12-activation_full:['elu', 0.4]",
          "filters:[256]-strides:[2]-kernel_size:[9]-activation:relu-drop:0.6-depth_multiplier:8-filters2:[2048]-strides2:[4]-kernel_size2:[1]-activation2:relu-drop2:0.6-depth_multiplier2:8-activation_full:['elu', 0.4]-full:[1024]-fulldrop:0.0-lag:12-activation_full:['elu', 0.4]",
          "filters:[256]-strides:[2]-kernel_size:[9]-activation:relu-drop:0.6-depth_multiplier:8-filters2:[2048]-strides2:[4]-kernel_size2:[1]-activation2:relu-drop2:0.6-depth_multiplier2:7-activation_full:['elu', 0.4]-full:[1024]-fulldrop:0.1-lag:12-activation_full:['elu', 0.4]",
          "filters:[256]-strides:[2]-kernel_size:[9]-activation:relu-drop:0.1-depth_multiplier:5-filters2:[64]-strides2:[1]-kernel_size2:[9]-activation2:relu-drop2:0.2-depth_multiplier2:4-activation_full:['elu', 0.4]-full:[1024]-fulldrop:0.2-lag:6-activation_full:['elu', 0.4]",
          "filters:[256]-strides:[2]-kernel_size:[9]-activation:linear-drop:0.6-depth_multiplier:8-filters2:[2048]-strides2:[4]-kernel_size2:[1]-activation2:relu-drop2:0.6-depth_multiplier2:8-activation_full:['elu', 0.4]-full:[1024]-fulldrop:0.0-lag:12-activation_full:['elu', 0.4]",
          "filters:[256]-strides:[2]-kernel_size:[9]-activation:['elu', 0.3]-drop:0.6-depth_multiplier:8-filters2:[2048]-strides2:[4]-kernel_size2:[1]-activation2:['elu', 0.4]-drop2:0.6-depth_multiplier2:7-activation_full:['elu', 0.4]-full:[1024]-fulldrop:0.1-lag:12-activation_full:['elu', 0.4]",
          "filters:[256]-strides:[2]-kernel_size:[9]-activation:['elu', 0.3]-drop:0.6-depth_multiplier:8-filters2:[2048]-strides2:[4]-kernel_size2:[1]-activation2:['elu', 0.3]-drop2:0.6-depth_multiplier2:7-activation_full:['elu', 0.4]-full:[1024]-fulldrop:0.1-lag:12-activation_full:['elu', 0.4]",
          "filters:[256]-strides:[2]-kernel_size:[9]-activation:['elu', 0.3]-drop:0.6-depth_multiplier:8-filters2:[1024]-strides2:[4]-kernel_size2:[1]-activation2:['elu', 0.3]-drop2:0.6-depth_multiplier2:7-activation_full:['elu', 0.4]-full:[1024]-fulldrop:0.1-lag:12-activation_full:['elu', 0.4]",
          "filters:[256]-strides:[2]-kernel_size:[9]-activation:['elu', 0.3]-drop:0.5-depth_multiplier:8-filters2:[2048]-strides2:[4]-kernel_size2:[1]-activation2:['elu', 0.4]-drop2:0.6-depth_multiplier2:7-activation_full:['elu', 0.4]-full:[1024]-fulldrop:0.1-lag:12-activation_full:['elu', 0.4]",
          "filters:[256]-strides:[2]-kernel_size:[9]-activation:['elu', 0.3]-drop:0.5-depth_multiplier:8-filters2:[2048]-strides2:[4]-kernel_size2:[1]-activation2:['elu', 0.3]-drop2:0.6-depth_multiplier2:7-activation_full:['elu', 0.4]-full:[4096]-fulldrop:0.1-lag:12-activation_full:['elu', 0.4]",
          "filters:[256]-strides:[2]-kernel_size:[9]-activation:['elu', 0.3]-drop:0.5-depth_multiplier:8-filters2:[2048]-strides2:[4]-kernel_size2:[1]-activation2:['elu', 0.3]-drop2:0.6-depth_multiplier2:7-activation_full:['elu', 0.4]-full:[1024]-fulldrop:0.1-lag:12-activation_full:['elu', 0.4]",
          "filters:[256]-strides:[2]-kernel_size:[9]-activation:['elu', 0.3]-drop:0.5-depth_multiplier:8-filters2:[1024]-strides2:[4]-kernel_size2:[1]-activation2:['elu', 0.3]-drop2:0.6-depth_multiplier2:7-activation_full:['elu', 0.4]-full:[1024]-fulldrop:0.1-lag:12-activation_full:['elu', 0.4]",
          "filters:[256]-strides:[2]-kernel_size:[9]-activation:['leaky', 0.2]-drop:0.3-depth_multiplier:8-filters2:[2048]-strides2:[4]-kernel_size2:[1]-activation2:relu-drop2:0.6-depth_multiplier2:7-activation_full:['elu', 0.4]-full:[1024]-fulldrop:0.1-lag:12-activation_full:['elu', 0.4]",
          "filters:[256]-strides:[2]-kernel_size:[9]-activation:['leaky', 0.2]-drop:0.6-depth_multiplier:8-filters2:[2048]-strides2:[3]-kernel_size2:[1]-activation2:['elu', 0.3]-drop2:0.6-depth_multiplier2:7-activation_full:['elu', 0.4]-full:[1024]-fulldrop:0.0-lag:12-activation_full:['elu', 0.4]",
          "filters:[256]-strides:[2]-kernel_size:[9]-activation:['leaky', 0.2]-drop:0.6-depth_multiplier:8-filters2:[2048]-strides2:[4]-kernel_size2:[1]-activation2:relu-drop2:0.6-depth_multiplier2:6-activation_full:['elu', 0.4]-full:[1024]-fulldrop:0.1-lag:12-activation_full:['elu', 0.4]",
          "filters:[256]-strides:[2]-kernel_size:[9]-activation:['leaky', 0.2]-drop:0.6-depth_multiplier:8-filters2:[2048]-strides2:[4]-kernel_size2:[1]-activation2:relu-drop2:0.6-depth_multiplier2:7-activation_full:['elu', 0.4]-full:[1024]-fulldrop:0.1-lag:12-activation_full:['elu', 0.4]",
          "filters:[256]-strides:[2]-kernel_size:[9]-activation:['leaky', 0.2]-drop:0.6-depth_multiplier:8-filters2:[2048]-strides2:[4]-kernel_size2:[1]-activation2:['elu', 0.4]-drop2:0.6-depth_multiplier2:7-activation_full:['elu', 0.4]-full:[1024]-fulldrop:0.1-lag:12-activation_full:['elu', 0.4]",
          "filters:[256]-strides:[2]-kernel_size:[9]-activation:['leaky', 0.2]-drop:0.6-depth_multiplier:8-filters2:[2048]-strides2:[4]-kernel_size2:[1]-activation2:['elu', 0.3]-drop2:0.6-depth_multiplier2:2-activation_full:['elu', 0.4]-full:[1024]-fulldrop:0.1-lag:12-activation_full:['elu', 0.4]",
          "filters:[256]-strides:[2]-kernel_size:[9]-activation:['leaky', 0.2]-drop:0.6-depth_multiplier:8-filters2:[2048]-strides2:[4]-kernel_size2:[1]-activation2:['elu', 0.3]-drop2:0.6-depth_multiplier2:7-activation_full:['elu', 0.4]-full:[256]-fulldrop:0.1-lag:12-activation_full:['elu', 0.4]",
          "filters:[256]-strides:[2]-kernel_size:[9]-activation:['leaky', 0.2]-drop:0.6-depth_multiplier:8-filters2:[2048]-strides2:[4]-kernel_size2:[1]-activation2:['elu', 0.3]-drop2:0.6-depth_multiplier2:7-activation_full:['elu', 0.4]-full:[1024]-fulldrop:0.1-lag:12-activation_full:['elu', 0.4]",
          "filters:[256]-strides:[2]-kernel_size:[9]-activation:['leaky', 0.2]-drop:0.6-depth_multiplier:8-filters2:[1024]-strides2:[4]-kernel_size2:[1]-activation2:relu-drop2:0.6-depth_multiplier2:8-activation_full:['elu', 0.4]-full:[1024]-fulldrop:0.2-lag:12-activation_full:['elu', 0.4]",
          "filters:[256]-strides:[2]-kernel_size:[9]-activation:['leaky', 0.2]-drop:0.6-depth_multiplier:8-filters2:[1024]-strides2:[4]-kernel_size2:[1]-activation2:['elu', 0.4]-drop2:0.6-depth_multiplier2:7-activation_full:['elu', 0.4]-full:[1024]-fulldrop:0.1-lag:12-activation_full:['elu', 0.4]",
          "filters:[256]-strides:[2]-kernel_size:[9]-activation:['leaky', 0.2]-drop:0.6-depth_multiplier:8-filters2:[1024]-strides2:[4]-kernel_size2:[1]-activation2:['elu', 0.3]-drop2:0.6-depth_multiplier2:7-activation_full:['elu', 0.4]-full:[1024]-fulldrop:0.1-lag:12-activation_full:['elu', 0.4]",
          "filters:[256]-strides:[2]-kernel_size:[9]-activation:['leaky', 0.2]-drop:0.6-depth_multiplier:7-filters2:[2048]-strides2:[4]-kernel_size2:[1]-activation2:['elu', 0.3]-drop2:0.6-depth_multiplier2:7-activation_full:['elu', 0.4]-full:[1024]-fulldrop:0.1-lag:12-activation_full:['elu', 0.4]",
          "filters:[256]-strides:[2]-kernel_size:[9]-activation:['leaky', 0.2]-drop:0.5-depth_multiplier:8-filters2:[2048]-strides2:[4]-kernel_size2:[1]-activation2:['elu', 0.3]-drop2:0.6-depth_multiplier2:7-activation_full:['elu', 0.4]-full:[1024]-fulldrop:0.1-lag:12-activation_full:['elu', 0.4]",
          "filters:[256]-strides:[2]-kernel_size:[9]-activation:['leaky', 0.2]-drop:0.5-depth_multiplier:8-filters2:[1024]-strides2:[4]-kernel_size2:[1]-activation2:['elu', 0.3]-drop2:0.6-depth_multiplier2:7-activation_full:['elu', 0.4]-full:[4096]-fulldrop:0.1-lag:12-activation_full:['elu', 0.4]",
          "filters:[256]-strides:[2]-kernel_size:[7]-activation:['elu', 0.3]-drop:0.4-depth_multiplier:7-filters2:[64]-strides2:[3]-kernel_size2:[2]-activation2:['elu', 0.3]-drop2:0.4-depth_multiplier2:7-activation_full:['elu', 0.4]-full:[128]-fulldrop:0.2-lag:18-activation_full:['elu', 0.4]",
          "filters:[256]-strides:[4]-kernel_size:[5]-activation:linear-drop:0.6-depth_multiplier:2-filters2:[128]-strides2:[2]-kernel_size2:[7]-activation2:relu-drop2:0.5-depth_multiplier2:2-activation_full:['elu', 0.4]-full:[1024, 512, 256]-fulldrop:0.2-lag:30-activation_full:['elu', 0.4]",
          "filters:[64]-strides:[1]-kernel_size:[9]-activation:['elu', 0.4]-drop:0.5-depth_multiplier:4-filters2:[256]-strides2:[2]-kernel_size2:[9]-activation2:relu-drop2:0.1-depth_multiplier2:2-activation_full:['elu', 0.4]-full:[256, 128]-fulldrop:0.0-lag:30-activation_full:['elu', 0.4]",
          "filters:[64]-strides:[2]-kernel_size:[9]-activation:tanh-drop:0.4-depth_multiplier:3-filters2:[512]-strides2:[3]-kernel_size2:[3]-activation2:relu-drop2:0.2-depth_multiplier2:5-activation_full:['elu', 0.4]-full:[64]-fulldrop:0.0-lag:12-activation_full:['elu', 0.4]",
          "filters:[64]-strides:[2]-kernel_size:[9]-activation:tanh-drop:0.4-depth_multiplier:7-filters2:[512]-strides2:[3]-kernel_size2:[3]-activation2:relu-drop2:0.2-depth_multiplier2:5-activation_full:['elu', 0.4]-full:[64]-fulldrop:0.0-lag:18-activation_full:['elu', 0.4]",
          "filters:[64]-strides:[2]-kernel_size:[9]-activation:tanh-drop:0.4-depth_multiplier:7-filters2:[512]-strides2:[3]-kernel_size2:[3]-activation2:relu-drop2:0.2-depth_multiplier2:5-activation_full:['elu', 0.4]-full:[512]-fulldrop:0.0-lag:18-activation_full:['elu', 0.4]",
          "filters:[64]-strides:[2]-kernel_size:[9]-activation:tanh-drop:0.4-depth_multiplier:7-filters2:[512]-strides2:[3]-kernel_size2:[3]-activation2:relu-drop2:0.2-depth_multiplier2:8-activation_full:['elu', 0.4]-full:[512]-fulldrop:0.0-lag:6-activation_full:['elu', 0.4]",
          "filters:[2048]-strides:[1]-kernel_size:[5]-activation:tanh-drop:0.4-depth_multiplier:6-filters2:[64]-strides2:[4]-kernel_size2:[9]-activation2:['elu', 0.3]-drop2:0.3-depth_multiplier2:5-activation_full:['elu', 0.4]-full:[1024, 512, 256]-fulldrop:0.4-lag:24-activation_full:['elu', 0.4]",
          "filters:[2048]-strides:[2]-kernel_size:[9]-activation:['elu', 0.3]-drop:0.6-depth_multiplier:8-filters2:[2048]-strides2:[4]-kernel_size2:[1]-activation2:['elu', 0.3]-drop2:0.6-depth_multiplier2:7-activation_full:['elu', 0.4]-full:[1024]-fulldrop:0.1-lag:12-activation_full:['elu', 0.4]",
          "filters:[2048]-strides:[2]-kernel_size:[9]-activation:['elu', 0.3]-drop:0.6-depth_multiplier:7-filters2:[256]-strides2:[5]-kernel_size2:[2]-activation2:relu-drop2:0.3-depth_multiplier2:3-activation_full:['elu', 0.4]-full:[4096]-fulldrop:0.5-lag:30-activation_full:['elu', 0.4]",
          "filters:[2048]-strides:[2]-kernel_size:[9]-activation:['elu', 0.3]-drop:0.5-depth_multiplier:8-filters2:[2048]-strides2:[4]-kernel_size2:[1]-activation2:['elu', 0.3]-drop2:0.6-depth_multiplier2:7-activation_full:['elu', 0.4]-full:[1024]-fulldrop:0.1-lag:12-activation_full:['elu', 0.4]",
          "filters:[2048]-strides:[2]-kernel_size:[9]-activation:['leaky', 0.2]-drop:0.6-depth_multiplier:8-filters2:[1024]-strides2:[4]-kernel_size2:[1]-activation2:['elu', 0.4]-drop2:0.6-depth_multiplier2:7-activation_full:['elu', 0.4]-full:[1024]-fulldrop:0.1-lag:12-activation_full:['elu', 0.4]",
          "filters:[2048]-strides:[2]-kernel_size:[9]-activation:['leaky', 0.2]-drop:0.5-depth_multiplier:5-filters2:[1024]-strides2:[2]-kernel_size2:[5]-activation2:['elu', 0.4]-drop2:0.4-depth_multiplier2:5-activation_full:['elu', 0.4]-full:[512, 256]-fulldrop:0.1-lag:6-activation_full:['elu', 0.4]",
          "filters:[2048]-strides:[2]-kernel_size:[9]-activation:['leaky', 0.2]-drop:0.5-depth_multiplier:8-filters2:[2048]-strides2:[4]-kernel_size2:[1]-activation2:['elu', 0.3]-drop2:0.6-depth_multiplier2:7-activation_full:['elu', 0.4]-full:[1024]-fulldrop:0.1-lag:12-activation_full:['elu', 0.4]",
          "filters:[2048]-strides:[2]-kernel_size:[9]-activation:['leaky', 0.2]-drop:0.5-depth_multiplier:6-filters2:[1024]-strides2:[2]-kernel_size2:[5]-activation2:['elu', 0.4]-drop2:0.4-depth_multiplier2:5-activation_full:['elu', 0.4]-full:[512, 256]-fulldrop:0.1-lag:6-activation_full:['elu', 0.4]",
          "filters:[2048]-strides:[2]-kernel_size:[7]-activation:['elu', 0.3]-drop:0.3-depth_multiplier:5-filters2:[1024]-strides2:[2]-kernel_size2:[5]-activation2:relu-drop2:0.1-depth_multiplier2:3-activation_full:['elu', 0.4]-full:[256]-fulldrop:0.0-lag:18-activation_full:['elu', 0.4]",
          "filters:[2048]-strides:[4]-kernel_size:[5]-activation:tanh-drop:0.2-depth_multiplier:5-filters2:[256]-strides2:[5]-kernel_size2:[7]-activation2:relu-drop2:0.3-depth_multiplier2:5-activation_full:['elu', 0.4]-full:[512]-fulldrop:0.3-lag:12-activation_full:['elu', 0.4]",
          "filters:[2048]-strides:[4]-kernel_size:[5]-activation:tanh-drop:0.2-depth_multiplier:5-filters2:[256]-strides2:[5]-kernel_size2:[3]-activation2:relu-drop2:0.3-depth_multiplier2:5-activation_full:['elu', 0.4]-full:[512]-fulldrop:0.3-lag:12-activation_full:['elu', 0.4]"
         ],
         "type": "scatter",
         "x": [
          7.319569559051765,
          7.32198910815238,
          7.317431996615892,
          7.319725416143146,
          7.3212773422088855,
          7.306217147307741,
          7.309357162837682,
          7.3097178957578555,
          7.3086168566317244,
          7.3054898328334215,
          7.310065592060872,
          7.307170558506494
         ],
         "y": [
          950,
          939,
          950,
          950,
          950,
          850,
          900,
          900,
          850,
          850,
          900,
          850
         ]
        },
        {
         "marker": {
          "size": 20
         },
         "mode": "markers",
         "name": "['leaky', 0.2]",
         "text": [
          "filters:[512]-strides:[1]-kernel_size:[7]-activation:tanh-drop:0.3-depth_multiplier:5-filters2:[2048]-strides2:[5]-kernel_size2:[7]-activation2:relu-drop2:0.3-depth_multiplier2:5-activation_full:['leaky', 0.2]-full:[2048]-fulldrop:0.2-lag:6-activation_full:['leaky', 0.2]",
          "filters:[512]-strides:[2]-kernel_size:[9]-activation:linear-drop:0.4-depth_multiplier:8-filters2:[2048]-strides2:[4]-kernel_size2:[1]-activation2:relu-drop2:0.6-depth_multiplier2:4-activation_full:['leaky', 0.2]-full:[1024]-fulldrop:0.0-lag:12-activation_full:['leaky', 0.2]",
          "filters:[512]-strides:[2]-kernel_size:[9]-activation:linear-drop:0.6-depth_multiplier:5-filters2:[2048]-strides2:[5]-kernel_size2:[1]-activation2:relu-drop2:0.6-depth_multiplier2:2-activation_full:['leaky', 0.2]-full:[1024]-fulldrop:0.0-lag:12-activation_full:['leaky', 0.2]",
          "filters:[512]-strides:[2]-kernel_size:[9]-activation:linear-drop:0.6-depth_multiplier:8-filters2:[2048]-strides2:[4]-kernel_size2:[1]-activation2:relu-drop2:0.6-depth_multiplier2:4-activation_full:['leaky', 0.2]-full:[1024]-fulldrop:0.0-lag:18-activation_full:['leaky', 0.2]",
          "filters:[512]-strides:[2]-kernel_size:[9]-activation:linear-drop:0.6-depth_multiplier:8-filters2:[2048]-strides2:[4]-kernel_size2:[1]-activation2:relu-drop2:0.6-depth_multiplier2:8-activation_full:['leaky', 0.2]-full:[256]-fulldrop:0.0-lag:12-activation_full:['leaky', 0.2]",
          "filters:[512]-strides:[2]-kernel_size:[9]-activation:linear-drop:0.6-depth_multiplier:8-filters2:[2048]-strides2:[4]-kernel_size2:[2]-activation2:relu-drop2:0.6-depth_multiplier2:3-activation_full:['leaky', 0.2]-full:[1024]-fulldrop:0.0-lag:12-activation_full:['leaky', 0.2]",
          "filters:[512]-strides:[2]-kernel_size:[9]-activation:tanh-drop:0.3-depth_multiplier:7-filters2:[128]-strides2:[3]-kernel_size2:[1]-activation2:relu-drop2:0.2-depth_multiplier2:6-activation_full:['leaky', 0.2]-full:[256, 128]-fulldrop:0.1-lag:6-activation_full:['leaky', 0.2]",
          "filters:[512]-strides:[2]-kernel_size:[9]-activation:tanh-drop:0.3-depth_multiplier:7-filters2:[128]-strides2:[3]-kernel_size2:[1]-activation2:relu-drop2:0.2-depth_multiplier2:6-activation_full:['leaky', 0.2]-full:[64]-fulldrop:0.1-lag:18-activation_full:['leaky', 0.2]",
          "filters:[512]-strides:[2]-kernel_size:[5]-activation:['elu', 0.4]-drop:0.6-depth_multiplier:2-filters2:[512]-strides2:[3]-kernel_size2:[9]-activation2:['elu', 0.4]-drop2:0.2-depth_multiplier2:5-activation_full:['leaky', 0.2]-full:[128, 64, 32]-fulldrop:0.2-lag:18-activation_full:['leaky', 0.2]",
          "filters:[128]-strides:[1]-kernel_size:[9]-activation:['leaky', 0.2]-drop:0.4-depth_multiplier:2-filters2:[128]-strides2:[3]-kernel_size2:[5]-activation2:relu-drop2:0.2-depth_multiplier2:2-activation_full:['leaky', 0.2]-full:[4096]-fulldrop:0.0-lag:18-activation_full:['leaky', 0.2]",
          "filters:[128]-strides:[1]-kernel_size:[5]-activation:tanh-drop:0.6-depth_multiplier:6-filters2:[512]-strides2:[4]-kernel_size2:[7]-activation2:relu-drop2:0.5-depth_multiplier2:2-activation_full:['leaky', 0.2]-full:[2048, 1024]-fulldrop:0.1-lag:6-activation_full:['leaky', 0.2]",
          "filters:[128]-strides:[3]-kernel_size:[9]-activation:linear-drop:0.6-depth_multiplier:8-filters2:[2048]-strides2:[4]-kernel_size2:[2]-activation2:relu-drop2:0.6-depth_multiplier2:4-activation_full:['leaky', 0.2]-full:[1024]-fulldrop:0.0-lag:12-activation_full:['leaky', 0.2]",
          "filters:[128]-strides:[3]-kernel_size:[9]-activation:tanh-drop:0.4-depth_multiplier:7-filters2:[256]-strides2:[5]-kernel_size2:[5]-activation2:relu-drop2:0.0-depth_multiplier2:8-activation_full:['leaky', 0.2]-full:[128]-fulldrop:0.5-lag:30-activation_full:['leaky', 0.2]",
          "filters:[128]-strides:[3]-kernel_size:[9]-activation:['elu', 0.3]-drop:0.1-depth_multiplier:2-filters2:[512]-strides2:[2]-kernel_size2:[5]-activation2:['leaky', 0.2]-drop2:0.0-depth_multiplier2:3-activation_full:['leaky', 0.2]-full:[128, 64, 32]-fulldrop:0.3-lag:12-activation_full:['leaky', 0.2]",
          "filters:[128]-strides:[2]-kernel_size:[9]-activation:linear-drop:0.4-depth_multiplier:8-filters2:[1024]-strides2:[4]-kernel_size2:[2]-activation2:relu-drop2:0.6-depth_multiplier2:4-activation_full:['leaky', 0.2]-full:[256]-fulldrop:0.0-lag:12-activation_full:['leaky', 0.2]",
          "filters:[128]-strides:[2]-kernel_size:[9]-activation:linear-drop:0.3-depth_multiplier:8-filters2:[1024]-strides2:[4]-kernel_size2:[2]-activation2:relu-drop2:0.6-depth_multiplier2:4-activation_full:['leaky', 0.2]-full:[1024]-fulldrop:0.0-lag:12-activation_full:['leaky', 0.2]",
          "filters:[128]-strides:[2]-kernel_size:[9]-activation:linear-drop:0.6-depth_multiplier:8-filters2:[2048]-strides2:[3]-kernel_size2:[2]-activation2:relu-drop2:0.6-depth_multiplier2:4-activation_full:['leaky', 0.2]-full:[1024]-fulldrop:0.0-lag:12-activation_full:['leaky', 0.2]",
          "filters:[128]-strides:[2]-kernel_size:[9]-activation:linear-drop:0.6-depth_multiplier:8-filters2:[2048]-strides2:[4]-kernel_size2:[2]-activation2:relu-drop2:0.6-depth_multiplier2:4-activation_full:['leaky', 0.2]-full:[256]-fulldrop:0.0-lag:12-activation_full:['leaky', 0.2]",
          "filters:[128]-strides:[2]-kernel_size:[9]-activation:linear-drop:0.6-depth_multiplier:8-filters2:[2048]-strides2:[4]-kernel_size2:[2]-activation2:relu-drop2:0.6-depth_multiplier2:4-activation_full:['leaky', 0.2]-full:[2048]-fulldrop:0.0-lag:12-activation_full:['leaky', 0.2]",
          "filters:[128]-strides:[2]-kernel_size:[9]-activation:linear-drop:0.6-depth_multiplier:8-filters2:[2048]-strides2:[4]-kernel_size2:[2]-activation2:relu-drop2:0.6-depth_multiplier2:4-activation_full:['leaky', 0.2]-full:[1024]-fulldrop:0.0-lag:12-activation_full:['leaky', 0.2]",
          "filters:[128]-strides:[2]-kernel_size:[9]-activation:linear-drop:0.6-depth_multiplier:8-filters2:[2048]-strides2:[4]-kernel_size2:[2]-activation2:['elu', 0.3]-drop2:0.6-depth_multiplier2:4-activation_full:['leaky', 0.2]-full:[1024]-fulldrop:0.0-lag:12-activation_full:['leaky', 0.2]",
          "filters:[128]-strides:[2]-kernel_size:[9]-activation:linear-drop:0.6-depth_multiplier:8-filters2:[1024]-strides2:[4]-kernel_size2:[1]-activation2:relu-drop2:0.6-depth_multiplier2:8-activation_full:['leaky', 0.2]-full:[1024]-fulldrop:0.0-lag:12-activation_full:['leaky', 0.2]",
          "filters:[128]-strides:[2]-kernel_size:[9]-activation:linear-drop:0.6-depth_multiplier:8-filters2:[1024]-strides2:[4]-kernel_size2:[2]-activation2:['elu', 0.3]-drop2:0.6-depth_multiplier2:4-activation_full:['leaky', 0.2]-full:[1024]-fulldrop:0.0-lag:12-activation_full:['leaky', 0.2]",
          "filters:[128]-strides:[4]-kernel_size:[7]-activation:linear-drop:0.1-depth_multiplier:1-filters2:[512]-strides2:[3]-kernel_size2:[1]-activation2:['elu', 0.4]-drop2:0.5-depth_multiplier2:8-activation_full:['leaky', 0.2]-full:[64, 32]-fulldrop:0.2-lag:24-activation_full:['leaky', 0.2]",
          "filters:[1024]-strides:[1]-kernel_size:[9]-activation:['elu', 0.3]-drop:0.4-depth_multiplier:4-filters2:[1024]-strides2:[4]-kernel_size2:[5]-activation2:relu-drop2:0.4-depth_multiplier2:2-activation_full:['leaky', 0.2]-full:[1024]-fulldrop:0.2-lag:18-activation_full:['leaky', 0.2]",
          "filters:[1024]-strides:[1]-kernel_size:[7]-activation:['elu', 0.3]-drop:0.4-depth_multiplier:4-filters2:[128]-strides2:[3]-kernel_size2:[7]-activation2:relu-drop2:0.3-depth_multiplier2:2-activation_full:['leaky', 0.2]-full:[128, 64]-fulldrop:0.5-lag:30-activation_full:['leaky', 0.2]",
          "filters:[1024]-strides:[3]-kernel_size:[5]-activation:linear-drop:0.3-depth_multiplier:5-filters2:[512]-strides2:[4]-kernel_size2:[3]-activation2:relu-drop2:0.6-depth_multiplier2:7-activation_full:['leaky', 0.2]-full:[512]-fulldrop:0.3-lag:18-activation_full:['leaky', 0.2]",
          "filters:[1024]-strides:[3]-kernel_size:[5]-activation:['elu', 0.3]-drop:0.5-depth_multiplier:3-filters2:[256]-strides2:[3]-kernel_size2:[5]-activation2:relu-drop2:0.2-depth_multiplier2:2-activation_full:['leaky', 0.2]-full:[512]-fulldrop:0.0-lag:6-activation_full:['leaky', 0.2]",
          "filters:[1024]-strides:[2]-kernel_size:[9]-activation:linear-drop:0.6-depth_multiplier:8-filters2:[2048]-strides2:[4]-kernel_size2:[1]-activation2:relu-drop2:0.6-depth_multiplier2:5-activation_full:['leaky', 0.2]-full:[1024]-fulldrop:0.0-lag:18-activation_full:['leaky', 0.2]",
          "filters:[1024]-strides:[2]-kernel_size:[9]-activation:linear-drop:0.6-depth_multiplier:8-filters2:[2048]-strides2:[4]-kernel_size2:[1]-activation2:relu-drop2:0.6-depth_multiplier2:5-activation_full:['leaky', 0.2]-full:[1024]-fulldrop:0.1-lag:18-activation_full:['leaky', 0.2]",
          "filters:[1024]-strides:[2]-kernel_size:[9]-activation:tanh-drop:0.6-depth_multiplier:8-filters2:[2048]-strides2:[4]-kernel_size2:[1]-activation2:relu-drop2:0.6-depth_multiplier2:5-activation_full:['leaky', 0.2]-full:[1024]-fulldrop:0.0-lag:12-activation_full:['leaky', 0.2]",
          "filters:[1024]-strides:[2]-kernel_size:[9]-activation:['elu', 0.2]-drop:0.0-depth_multiplier:2-filters2:[2048]-strides2:[3]-kernel_size2:[9]-activation2:relu-drop2:0.6-depth_multiplier2:6-activation_full:['leaky', 0.2]-full:[128, 64]-fulldrop:0.2-lag:6-activation_full:['leaky', 0.2]",
          "filters:[1024]-strides:[2]-kernel_size:[7]-activation:linear-drop:0.2-depth_multiplier:3-filters2:[256]-strides2:[5]-kernel_size2:[9]-activation2:relu-drop2:0.3-depth_multiplier2:6-activation_full:['leaky', 0.2]-full:[512]-fulldrop:0.3-lag:18-activation_full:['leaky', 0.2]",
          "filters:[1024]-strides:[4]-kernel_size:[9]-activation:linear-drop:0.4-depth_multiplier:6-filters2:[256]-strides2:[5]-kernel_size2:[9]-activation2:relu-drop2:0.2-depth_multiplier2:8-activation_full:['leaky', 0.2]-full:[64]-fulldrop:0.3-lag:6-activation_full:['leaky', 0.2]",
          "filters:[1024]-strides:[4]-kernel_size:[9]-activation:linear-drop:0.4-depth_multiplier:6-filters2:[256]-strides2:[5]-kernel_size2:[1]-activation2:relu-drop2:0.2-depth_multiplier2:8-activation_full:['leaky', 0.2]-full:[64]-fulldrop:0.3-lag:24-activation_full:['leaky', 0.2]",
          "filters:[1024]-strides:[4]-kernel_size:[9]-activation:linear-drop:0.4-depth_multiplier:6-filters2:[512]-strides2:[5]-kernel_size2:[1]-activation2:relu-drop2:0.2-depth_multiplier2:8-activation_full:['leaky', 0.2]-full:[64]-fulldrop:0.1-lag:24-activation_full:['leaky', 0.2]",
          "filters:[1024]-strides:[4]-kernel_size:[9]-activation:['leaky', 0.2]-drop:0.2-depth_multiplier:6-filters2:[128]-strides2:[5]-kernel_size2:[9]-activation2:relu-drop2:0.0-depth_multiplier2:7-activation_full:['leaky', 0.2]-full:[1024]-fulldrop:0.5-lag:12-activation_full:['leaky', 0.2]",
          "filters:[1024]-strides:[4]-kernel_size:[9]-activation:['elu', 0.4]-drop:0.4-depth_multiplier:6-filters2:[256]-strides2:[5]-kernel_size2:[1]-activation2:relu-drop2:0.2-depth_multiplier2:8-activation_full:['leaky', 0.2]-full:[64]-fulldrop:0.3-lag:24-activation_full:['leaky', 0.2]",
          "filters:[1024]-strides:[4]-kernel_size:[5]-activation:['elu', 0.4]-drop:0.3-depth_multiplier:1-filters2:[2048]-strides2:[5]-kernel_size2:[2]-activation2:relu-drop2:0.5-depth_multiplier2:4-activation_full:['leaky', 0.2]-full:[256, 128, 64]-fulldrop:0.0-lag:18-activation_full:['leaky', 0.2]",
          "filters:[256]-strides:[1]-kernel_size:[9]-activation:linear-drop:0.6-depth_multiplier:8-filters2:[2048]-strides2:[4]-kernel_size2:[1]-activation2:relu-drop2:0.6-depth_multiplier2:8-activation_full:['leaky', 0.2]-full:[1024]-fulldrop:0.0-lag:12-activation_full:['leaky', 0.2]",
          "filters:[256]-strides:[1]-kernel_size:[7]-activation:linear-drop:0.3-depth_multiplier:7-filters2:[256]-strides2:[5]-kernel_size2:[3]-activation2:relu-drop2:0.5-depth_multiplier2:3-activation_full:['leaky', 0.2]-full:[64]-fulldrop:0.3-lag:12-activation_full:['leaky', 0.2]",
          "filters:[256]-strides:[1]-kernel_size:[7]-activation:['elu', 0.2]-drop:0.3-depth_multiplier:7-filters2:[256]-strides2:[5]-kernel_size2:[3]-activation2:relu-drop2:0.5-depth_multiplier2:2-activation_full:['leaky', 0.2]-full:[256]-fulldrop:0.3-lag:12-activation_full:['leaky', 0.2]",
          "filters:[256]-strides:[1]-kernel_size:[5]-activation:['elu', 0.3]-drop:0.6-depth_multiplier:8-filters2:[64]-strides2:[5]-kernel_size2:[3]-activation2:relu-drop2:0.4-depth_multiplier2:1-activation_full:['leaky', 0.2]-full:[2048, 1024]-fulldrop:0.2-lag:12-activation_full:['leaky', 0.2]",
          "filters:[256]-strides:[3]-kernel_size:[9]-activation:linear-drop:0.6-depth_multiplier:8-filters2:[2048]-strides2:[4]-kernel_size2:[1]-activation2:relu-drop2:0.6-depth_multiplier2:8-activation_full:['leaky', 0.2]-full:[1024]-fulldrop:0.0-lag:12-activation_full:['leaky', 0.2]",
          "filters:[256]-strides:[3]-kernel_size:[9]-activation:linear-drop:0.6-depth_multiplier:8-filters2:[2048]-strides2:[4]-kernel_size2:[1]-activation2:relu-drop2:0.6-depth_multiplier2:7-activation_full:['leaky', 0.2]-full:[1024]-fulldrop:0.0-lag:12-activation_full:['leaky', 0.2]",
          "filters:[256]-strides:[3]-kernel_size:[9]-activation:['elu', 0.2]-drop:0.2-depth_multiplier:7-filters2:[1024]-strides2:[3]-kernel_size2:[7]-activation2:relu-drop2:0.2-depth_multiplier2:4-activation_full:['leaky', 0.2]-full:[128]-fulldrop:0.1-lag:12-activation_full:['leaky', 0.2]",
          "filters:[256]-strides:[2]-kernel_size:[9]-activation:relu-drop:0.6-depth_multiplier:8-filters2:[2048]-strides2:[4]-kernel_size2:[2]-activation2:relu-drop2:0.6-depth_multiplier2:4-activation_full:['leaky', 0.2]-full:[1024]-fulldrop:0.0-lag:12-activation_full:['leaky', 0.2]",
          "filters:[256]-strides:[2]-kernel_size:[9]-activation:linear-drop:0.4-depth_multiplier:5-filters2:[2048]-strides2:[5]-kernel_size2:[1]-activation2:relu-drop2:0.6-depth_multiplier2:2-activation_full:['leaky', 0.2]-full:[1024]-fulldrop:0.0-lag:18-activation_full:['leaky', 0.2]",
          "filters:[256]-strides:[2]-kernel_size:[9]-activation:linear-drop:0.4-depth_multiplier:8-filters2:[2048]-strides2:[4]-kernel_size2:[1]-activation2:relu-drop2:0.6-depth_multiplier2:8-activation_full:['leaky', 0.2]-full:[256]-fulldrop:0.0-lag:12-activation_full:['leaky', 0.2]",
          "filters:[256]-strides:[2]-kernel_size:[9]-activation:linear-drop:0.4-depth_multiplier:8-filters2:[2048]-strides2:[4]-kernel_size2:[1]-activation2:relu-drop2:0.6-depth_multiplier2:8-activation_full:['leaky', 0.2]-full:[1024]-fulldrop:0.0-lag:12-activation_full:['leaky', 0.2]",
          "filters:[256]-strides:[2]-kernel_size:[9]-activation:linear-drop:0.4-depth_multiplier:8-filters2:[2048]-strides2:[4]-kernel_size2:[2]-activation2:relu-drop2:0.6-depth_multiplier2:8-activation_full:['leaky', 0.2]-full:[1024]-fulldrop:0.0-lag:12-activation_full:['leaky', 0.2]",
          "filters:[256]-strides:[2]-kernel_size:[9]-activation:linear-drop:0.3-depth_multiplier:8-filters2:[2048]-strides2:[4]-kernel_size2:[2]-activation2:relu-drop2:0.6-depth_multiplier2:4-activation_full:['leaky', 0.2]-full:[1024]-fulldrop:0.0-lag:12-activation_full:['leaky', 0.2]",
          "filters:[256]-strides:[2]-kernel_size:[9]-activation:linear-drop:0.3-depth_multiplier:8-filters2:[2048]-strides2:[4]-kernel_size2:[2]-activation2:relu-drop2:0.6-depth_multiplier2:4-activation_full:['leaky', 0.2]-full:[1024]-fulldrop:0.1-lag:12-activation_full:['leaky', 0.2]",
          "filters:[256]-strides:[2]-kernel_size:[9]-activation:linear-drop:0.3-depth_multiplier:8-filters2:[2048]-strides2:[4]-kernel_size2:[2]-activation2:relu-drop2:0.6-depth_multiplier2:7-activation_full:['leaky', 0.2]-full:[1024]-fulldrop:0.0-lag:12-activation_full:['leaky', 0.2]",
          "filters:[256]-strides:[2]-kernel_size:[9]-activation:linear-drop:0.6-depth_multiplier:5-filters2:[2048]-strides2:[5]-kernel_size2:[1]-activation2:relu-drop2:0.6-depth_multiplier2:2-activation_full:['leaky', 0.2]-full:[1024]-fulldrop:0.0-lag:18-activation_full:['leaky', 0.2]",
          "filters:[256]-strides:[2]-kernel_size:[9]-activation:linear-drop:0.6-depth_multiplier:5-filters2:[2048]-strides2:[4]-kernel_size2:[1]-activation2:relu-drop2:0.6-depth_multiplier2:2-activation_full:['leaky', 0.2]-full:[1024]-fulldrop:0.0-lag:18-activation_full:['leaky', 0.2]",
          "filters:[256]-strides:[2]-kernel_size:[9]-activation:linear-drop:0.6-depth_multiplier:5-filters2:[2048]-strides2:[4]-kernel_size2:[1]-activation2:relu-drop2:0.6-depth_multiplier2:8-activation_full:['leaky', 0.2]-full:[1024]-fulldrop:0.0-lag:6-activation_full:['leaky', 0.2]",
          "filters:[256]-strides:[2]-kernel_size:[9]-activation:linear-drop:0.6-depth_multiplier:5-filters2:[2048]-strides2:[4]-kernel_size2:[2]-activation2:relu-drop2:0.6-depth_multiplier2:7-activation_full:['leaky', 0.2]-full:[1024]-fulldrop:0.0-lag:12-activation_full:['leaky', 0.2]",
          "filters:[256]-strides:[2]-kernel_size:[9]-activation:linear-drop:0.6-depth_multiplier:8-filters2:[256]-strides2:[4]-kernel_size2:[1]-activation2:relu-drop2:0.6-depth_multiplier2:8-activation_full:['leaky', 0.2]-full:[1024]-fulldrop:0.0-lag:6-activation_full:['leaky', 0.2]",
          "filters:[256]-strides:[2]-kernel_size:[9]-activation:linear-drop:0.6-depth_multiplier:8-filters2:[2048]-strides2:[3]-kernel_size2:[1]-activation2:relu-drop2:0.6-depth_multiplier2:8-activation_full:['leaky', 0.2]-full:[1024]-fulldrop:0.0-lag:12-activation_full:['leaky', 0.2]",
          "filters:[256]-strides:[2]-kernel_size:[9]-activation:linear-drop:0.6-depth_multiplier:8-filters2:[2048]-strides2:[3]-kernel_size2:[2]-activation2:relu-drop2:0.6-depth_multiplier2:4-activation_full:['leaky', 0.2]-full:[1024]-fulldrop:0.0-lag:12-activation_full:['leaky', 0.2]",
          "filters:[256]-strides:[2]-kernel_size:[9]-activation:linear-drop:0.6-depth_multiplier:8-filters2:[2048]-strides2:[4]-kernel_size2:[1]-activation2:relu-drop2:0.6-depth_multiplier2:5-activation_full:['leaky', 0.2]-full:[1024]-fulldrop:0.0-lag:18-activation_full:['leaky', 0.2]",
          "filters:[256]-strides:[2]-kernel_size:[9]-activation:linear-drop:0.6-depth_multiplier:8-filters2:[2048]-strides2:[4]-kernel_size2:[1]-activation2:relu-drop2:0.6-depth_multiplier2:4-activation_full:['leaky', 0.2]-full:[1024]-fulldrop:0.0-lag:18-activation_full:['leaky', 0.2]",
          "filters:[256]-strides:[2]-kernel_size:[9]-activation:linear-drop:0.6-depth_multiplier:8-filters2:[2048]-strides2:[4]-kernel_size2:[1]-activation2:relu-drop2:0.6-depth_multiplier2:8-activation_full:['leaky', 0.2]-full:[256]-fulldrop:0.0-lag:12-activation_full:['leaky', 0.2]",
          "filters:[256]-strides:[2]-kernel_size:[9]-activation:linear-drop:0.6-depth_multiplier:8-filters2:[2048]-strides2:[4]-kernel_size2:[1]-activation2:relu-drop2:0.6-depth_multiplier2:8-activation_full:['leaky', 0.2]-full:[1024]-fulldrop:0.0-lag:12-activation_full:['leaky', 0.2]",
          "filters:[256]-strides:[2]-kernel_size:[9]-activation:linear-drop:0.6-depth_multiplier:8-filters2:[2048]-strides2:[4]-kernel_size2:[1]-activation2:relu-drop2:0.6-depth_multiplier2:8-activation_full:['leaky', 0.2]-full:[512]-fulldrop:0.0-lag:12-activation_full:['leaky', 0.2]",
          "filters:[256]-strides:[2]-kernel_size:[9]-activation:linear-drop:0.6-depth_multiplier:8-filters2:[2048]-strides2:[4]-kernel_size2:[1]-activation2:['elu', 0.3]-drop2:0.6-depth_multiplier2:8-activation_full:['leaky', 0.2]-full:[1024]-fulldrop:0.0-lag:12-activation_full:['leaky', 0.2]",
          "filters:[256]-strides:[2]-kernel_size:[9]-activation:linear-drop:0.6-depth_multiplier:8-filters2:[2048]-strides2:[4]-kernel_size2:[2]-activation2:relu-drop2:0.6-depth_multiplier2:4-activation_full:['leaky', 0.2]-full:[1024]-fulldrop:0.0-lag:12-activation_full:['leaky', 0.2]",
          "filters:[256]-strides:[2]-kernel_size:[9]-activation:linear-drop:0.6-depth_multiplier:8-filters2:[2048]-strides2:[4]-kernel_size2:[2]-activation2:['elu', 0.3]-drop2:0.6-depth_multiplier2:4-activation_full:['leaky', 0.2]-full:[1024]-fulldrop:0.0-lag:12-activation_full:['leaky', 0.2]",
          "filters:[256]-strides:[2]-kernel_size:[9]-activation:linear-drop:0.6-depth_multiplier:8-filters2:[1024]-strides2:[4]-kernel_size2:[2]-activation2:relu-drop2:0.6-depth_multiplier2:4-activation_full:['leaky', 0.2]-full:[2048]-fulldrop:0.0-lag:12-activation_full:['leaky', 0.2]",
          "filters:[256]-strides:[2]-kernel_size:[9]-activation:linear-drop:0.5-depth_multiplier:8-filters2:[2048]-strides2:[4]-kernel_size2:[1]-activation2:relu-drop2:0.6-depth_multiplier2:5-activation_full:['leaky', 0.2]-full:[1024]-fulldrop:0.0-lag:18-activation_full:['leaky', 0.2]",
          "filters:[256]-strides:[2]-kernel_size:[9]-activation:linear-drop:0.5-depth_multiplier:8-filters2:[2048]-strides2:[4]-kernel_size2:[1]-activation2:relu-drop2:0.6-depth_multiplier2:8-activation_full:['leaky', 0.2]-full:[1024]-fulldrop:0.0-lag:12-activation_full:['leaky', 0.2]",
          "filters:[256]-strides:[2]-kernel_size:[9]-activation:linear-drop:0.5-depth_multiplier:8-filters2:[2048]-strides2:[4]-kernel_size2:[1]-activation2:relu-drop2:0.6-depth_multiplier2:8-activation_full:['leaky', 0.2]-full:[1024]-fulldrop:0.1-lag:12-activation_full:['leaky', 0.2]",
          "filters:[256]-strides:[2]-kernel_size:[9]-activation:linear-drop:0.5-depth_multiplier:8-filters2:[2048]-strides2:[4]-kernel_size2:[1]-activation2:['elu', 0.4]-drop2:0.6-depth_multiplier2:8-activation_full:['leaky', 0.2]-full:[1024]-fulldrop:0.1-lag:12-activation_full:['leaky', 0.2]",
          "filters:[256]-strides:[2]-kernel_size:[9]-activation:['elu', 0.3]-drop:0.6-depth_multiplier:8-filters2:[2048]-strides2:[4]-kernel_size2:[1]-activation2:['elu', 0.3]-drop2:0.6-depth_multiplier2:7-activation_full:['leaky', 0.2]-full:[1024]-fulldrop:0.1-lag:12-activation_full:['leaky', 0.2]",
          "filters:[256]-strides:[2]-kernel_size:[9]-activation:['leaky', 0.2]-drop:0.6-depth_multiplier:8-filters2:[2048]-strides2:[4]-kernel_size2:[1]-activation2:relu-drop2:0.6-depth_multiplier2:8-activation_full:['leaky', 0.2]-full:[256]-fulldrop:0.0-lag:12-activation_full:['leaky', 0.2]",
          "filters:[256]-strides:[2]-kernel_size:[9]-activation:['leaky', 0.2]-drop:0.6-depth_multiplier:8-filters2:[2048]-strides2:[4]-kernel_size2:[1]-activation2:['elu', 0.3]-drop2:0.6-depth_multiplier2:7-activation_full:['leaky', 0.2]-full:[1024]-fulldrop:0.1-lag:12-activation_full:['leaky', 0.2]",
          "filters:[256]-strides:[2]-kernel_size:[9]-activation:['leaky', 0.2]-drop:0.5-depth_multiplier:8-filters2:[2048]-strides2:[4]-kernel_size2:[1]-activation2:relu-drop2:0.6-depth_multiplier2:8-activation_full:['leaky', 0.2]-full:[1024]-fulldrop:0.0-lag:12-activation_full:['leaky', 0.2]",
          "filters:[256]-strides:[2]-kernel_size:[9]-activation:['leaky', 0.2]-drop:0.5-depth_multiplier:8-filters2:[2048]-strides2:[4]-kernel_size2:[1]-activation2:['elu', 0.3]-drop2:0.6-depth_multiplier2:7-activation_full:['leaky', 0.2]-full:[1024]-fulldrop:0.1-lag:12-activation_full:['leaky', 0.2]",
          "filters:[256]-strides:[2]-kernel_size:[9]-activation:['elu', 0.2]-drop:0.6-depth_multiplier:8-filters2:[2048]-strides2:[4]-kernel_size2:[2]-activation2:['elu', 0.3]-drop2:0.6-depth_multiplier2:4-activation_full:['leaky', 0.2]-full:[1024]-fulldrop:0.0-lag:12-activation_full:['leaky', 0.2]",
          "filters:[256]-strides:[5]-kernel_size:[5]-activation:['elu', 0.4]-drop:0.4-depth_multiplier:5-filters2:[2048]-strides2:[3]-kernel_size2:[1]-activation2:relu-drop2:0.4-depth_multiplier2:1-activation_full:['leaky', 0.2]-full:[128, 64]-fulldrop:0.3-lag:30-activation_full:['leaky', 0.2]",
          "filters:[256]-strides:[4]-kernel_size:[7]-activation:['elu', 0.2]-drop:0.6-depth_multiplier:7-filters2:[256]-strides2:[5]-kernel_size2:[3]-activation2:relu-drop2:0.5-depth_multiplier2:2-activation_full:['leaky', 0.2]-full:[256]-fulldrop:0.3-lag:12-activation_full:['leaky', 0.2]",
          "filters:[64]-strides:[1]-kernel_size:[5]-activation:relu-drop:0.3-depth_multiplier:4-filters2:[128]-strides2:[1]-kernel_size2:[3]-activation2:relu-drop2:0.1-depth_multiplier2:6-activation_full:['leaky', 0.2]-full:[256, 128]-fulldrop:0.2-lag:12-activation_full:['leaky', 0.2]",
          "filters:[64]-strides:[4]-kernel_size:[5]-activation:['elu', 0.2]-drop:0.0-depth_multiplier:1-filters2:[64]-strides2:[2]-kernel_size2:[9]-activation2:relu-drop2:0.0-depth_multiplier2:4-activation_full:['leaky', 0.2]-full:[4096]-fulldrop:0.3-lag:30-activation_full:['leaky', 0.2]",
          "filters:[2048]-strides:[1]-kernel_size:[7]-activation:['elu', 0.3]-drop:0.1-depth_multiplier:6-filters2:[64]-strides2:[1]-kernel_size2:[9]-activation2:relu-drop2:0.6-depth_multiplier2:2-activation_full:['leaky', 0.2]-full:[1024]-fulldrop:0.3-lag:30-activation_full:['leaky', 0.2]",
          "filters:[2048]-strides:[2]-kernel_size:[7]-activation:['leaky', 0.2]-drop:0.0-depth_multiplier:8-filters2:[128]-strides2:[4]-kernel_size2:[1]-activation2:relu-drop2:0.3-depth_multiplier2:4-activation_full:['leaky', 0.2]-full:[4096]-fulldrop:0.4-lag:18-activation_full:['leaky', 0.2]"
         ],
         "type": "scatter",
         "x": [],
         "y": []
        },
        {
         "marker": {
          "size": 20
         },
         "mode": "markers",
         "name": "tanh",
         "text": [
          "filters:[512]-strides:[5]-kernel_size:[5]-activation:['leaky', 0.2]-drop:0.2-depth_multiplier:4-filters2:[512]-strides2:[3]-kernel_size2:[9]-activation2:relu-drop2:0.1-depth_multiplier2:7-activation_full:tanh-full:[64]-fulldrop:0.0-lag:12-activation_full:tanh",
          "filters:[512]-strides:[5]-kernel_size:[5]-activation:['leaky', 0.2]-drop:0.2-depth_multiplier:6-filters2:[512]-strides2:[5]-kernel_size2:[3]-activation2:relu-drop2:0.1-depth_multiplier2:7-activation_full:tanh-full:[64]-fulldrop:0.0-lag:12-activation_full:tanh",
          "filters:[128]-strides:[1]-kernel_size:[7]-activation:['elu', 0.3]-drop:0.6-depth_multiplier:5-filters2:[512]-strides2:[2]-kernel_size2:[2]-activation2:['elu', 0.4]-drop2:0.4-depth_multiplier2:1-activation_full:tanh-full:[256, 128]-fulldrop:0.5-lag:6-activation_full:tanh",
          "filters:[128]-strides:[1]-kernel_size:[5]-activation:linear-drop:0.3-depth_multiplier:7-filters2:[2048]-strides2:[2]-kernel_size2:[5]-activation2:relu-drop2:0.3-depth_multiplier2:6-activation_full:tanh-full:[64, 32]-fulldrop:0.1-lag:6-activation_full:tanh",
          "filters:[128]-strides:[1]-kernel_size:[5]-activation:tanh-drop:0.2-depth_multiplier:1-filters2:[64]-strides2:[4]-kernel_size2:[9]-activation2:relu-drop2:0.0-depth_multiplier2:8-activation_full:tanh-full:[512, 256]-fulldrop:0.4-lag:30-activation_full:tanh",
          "filters:[128]-strides:[1]-kernel_size:[5]-activation:['leaky', 0.2]-drop:0.6-depth_multiplier:2-filters2:[1024]-strides2:[3]-kernel_size2:[9]-activation2:relu-drop2:0.0-depth_multiplier2:3-activation_full:tanh-full:[512, 256, 128]-fulldrop:0.4-lag:18-activation_full:tanh",
          "filters:[128]-strides:[3]-kernel_size:[9]-activation:tanh-drop:0.6-depth_multiplier:5-filters2:[256]-strides2:[5]-kernel_size2:[5]-activation2:relu-drop2:0.3-depth_multiplier2:3-activation_full:tanh-full:[256]-fulldrop:0.3-lag:6-activation_full:tanh",
          "filters:[128]-strides:[2]-kernel_size:[9]-activation:['elu', 0.2]-drop:0.5-depth_multiplier:1-filters2:[256]-strides2:[2]-kernel_size2:[1]-activation2:relu-drop2:0.3-depth_multiplier2:7-activation_full:tanh-full:[128, 64]-fulldrop:0.0-lag:24-activation_full:tanh",
          "filters:[128]-strides:[5]-kernel_size:[5]-activation:linear-drop:0.3-depth_multiplier:1-filters2:[1024]-strides2:[4]-kernel_size2:[9]-activation2:relu-drop2:0.4-depth_multiplier2:5-activation_full:tanh-full:[256, 128, 64]-fulldrop:0.1-lag:24-activation_full:tanh",
          "filters:[128]-strides:[5]-kernel_size:[5]-activation:linear-drop:0.5-depth_multiplier:3-filters2:[1024]-strides2:[3]-kernel_size2:[3]-activation2:relu-drop2:0.1-depth_multiplier2:3-activation_full:tanh-full:[512, 256, 128]-fulldrop:0.1-lag:18-activation_full:tanh",
          "filters:[128]-strides:[4]-kernel_size:[9]-activation:linear-drop:0.4-depth_multiplier:6-filters2:[128]-strides2:[5]-kernel_size2:[1]-activation2:relu-drop2:0.2-depth_multiplier2:8-activation_full:tanh-full:[64]-fulldrop:0.3-lag:24-activation_full:tanh",
          "filters:[1024]-strides:[1]-kernel_size:[9]-activation:['leaky', 0.2]-drop:0.1-depth_multiplier:7-filters2:[256]-strides2:[3]-kernel_size2:[1]-activation2:relu-drop2:0.0-depth_multiplier2:1-activation_full:tanh-full:[128, 64]-fulldrop:0.3-lag:12-activation_full:tanh",
          "filters:[1024]-strides:[3]-kernel_size:[5]-activation:linear-drop:0.3-depth_multiplier:5-filters2:[512]-strides2:[4]-kernel_size2:[9]-activation2:relu-drop2:0.6-depth_multiplier2:7-activation_full:tanh-full:[512]-fulldrop:0.3-lag:18-activation_full:tanh",
          "filters:[1024]-strides:[2]-kernel_size:[9]-activation:tanh-drop:0.4-depth_multiplier:2-filters2:[512]-strides2:[2]-kernel_size2:[9]-activation2:['leaky', 0.2]-drop2:0.2-depth_multiplier2:3-activation_full:tanh-full:[64, 32]-fulldrop:0.0-lag:24-activation_full:tanh",
          "filters:[1024]-strides:[4]-kernel_size:[9]-activation:linear-drop:0.4-depth_multiplier:6-filters2:[256]-strides2:[5]-kernel_size2:[1]-activation2:relu-drop2:0.2-depth_multiplier2:8-activation_full:tanh-full:[64]-fulldrop:0.3-lag:24-activation_full:tanh",
          "filters:[1024]-strides:[4]-kernel_size:[9]-activation:linear-drop:0.4-depth_multiplier:6-filters2:[256]-strides2:[5]-kernel_size2:[1]-activation2:relu-drop2:0.2-depth_multiplier2:3-activation_full:tanh-full:[64]-fulldrop:0.3-lag:24-activation_full:tanh",
          "filters:[256]-strides:[2]-kernel_size:[9]-activation:relu-drop:0.3-depth_multiplier:2-filters2:[128]-strides2:[4]-kernel_size2:[2]-activation2:relu-drop2:0.5-depth_multiplier2:4-activation_full:tanh-full:[64, 32]-fulldrop:0.5-lag:18-activation_full:tanh",
          "filters:[256]-strides:[2]-kernel_size:[5]-activation:relu-drop:0.1-depth_multiplier:3-filters2:[1024]-strides2:[2]-kernel_size2:[5]-activation2:['elu', 0.3]-drop2:0.5-depth_multiplier2:4-activation_full:tanh-full:[1024, 512, 256]-fulldrop:0.3-lag:6-activation_full:tanh",
          "filters:[256]-strides:[5]-kernel_size:[5]-activation:['elu', 0.3]-drop:0.5-depth_multiplier:2-filters2:[512]-strides2:[5]-kernel_size2:[7]-activation2:['elu', 0.3]-drop2:0.1-depth_multiplier2:7-activation_full:tanh-full:[4096]-fulldrop:0.0-lag:6-activation_full:tanh",
          "filters:[256]-strides:[4]-kernel_size:[9]-activation:tanh-drop:0.1-depth_multiplier:6-filters2:[512]-strides2:[5]-kernel_size2:[3]-activation2:relu-drop2:0.6-depth_multiplier2:7-activation_full:tanh-full:[64]-fulldrop:0.3-lag:6-activation_full:tanh",
          "filters:[256]-strides:[4]-kernel_size:[9]-activation:['elu', 0.2]-drop:0.3-depth_multiplier:8-filters2:[256]-strides2:[1]-kernel_size2:[7]-activation2:relu-drop2:0.0-depth_multiplier2:8-activation_full:tanh-full:[128]-fulldrop:0.2-lag:6-activation_full:tanh",
          "filters:[256]-strides:[4]-kernel_size:[9]-activation:['elu', 0.2]-drop:0.3-depth_multiplier:8-filters2:[256]-strides2:[4]-kernel_size2:[3]-activation2:relu-drop2:0.0-depth_multiplier2:8-activation_full:tanh-full:[128]-fulldrop:0.2-lag:6-activation_full:tanh",
          "filters:[64]-strides:[2]-kernel_size:[7]-activation:['elu', 0.3]-drop:0.4-depth_multiplier:3-filters2:[512]-strides2:[1]-kernel_size2:[3]-activation2:relu-drop2:0.5-depth_multiplier2:5-activation_full:tanh-full:[64]-fulldrop:0.1-lag:6-activation_full:tanh",
          "filters:[64]-strides:[2]-kernel_size:[5]-activation:['elu', 0.2]-drop:0.3-depth_multiplier:3-filters2:[64]-strides2:[3]-kernel_size2:[7]-activation2:['elu', 0.3]-drop2:0.6-depth_multiplier2:3-activation_full:tanh-full:[512, 256, 128]-fulldrop:0.3-lag:30-activation_full:tanh",
          "filters:[2048]-strides:[1]-kernel_size:[9]-activation:['elu', 0.4]-drop:0.6-depth_multiplier:8-filters2:[512]-strides2:[4]-kernel_size2:[1]-activation2:relu-drop2:0.2-depth_multiplier2:7-activation_full:tanh-full:[256, 128, 64]-fulldrop:0.4-lag:24-activation_full:tanh",
          "filters:[2048]-strides:[2]-kernel_size:[9]-activation:['elu', 0.4]-drop:0.2-depth_multiplier:8-filters2:[512]-strides2:[4]-kernel_size2:[1]-activation2:relu-drop2:0.0-depth_multiplier2:8-activation_full:tanh-full:[64, 32, 16]-fulldrop:0.4-lag:30-activation_full:tanh",
          "filters:[2048]-strides:[2]-kernel_size:[7]-activation:['elu', 0.4]-drop:0.0-depth_multiplier:5-filters2:[1024]-strides2:[1]-kernel_size2:[1]-activation2:relu-drop2:0.6-depth_multiplier2:2-activation_full:tanh-full:[64, 32, 16]-fulldrop:0.2-lag:12-activation_full:tanh"
         ],
         "type": "scatter",
         "x": [],
         "y": []
        }
       ],
       "layout": {
        "template": {
         "data": {
          "bar": [
           {
            "error_x": {
             "color": "#2a3f5f"
            },
            "error_y": {
             "color": "#2a3f5f"
            },
            "marker": {
             "line": {
              "color": "#E5ECF6",
              "width": 0.5
             },
             "pattern": {
              "fillmode": "overlay",
              "size": 10,
              "solidity": 0.2
             }
            },
            "type": "bar"
           }
          ],
          "barpolar": [
           {
            "marker": {
             "line": {
              "color": "#E5ECF6",
              "width": 0.5
             },
             "pattern": {
              "fillmode": "overlay",
              "size": 10,
              "solidity": 0.2
             }
            },
            "type": "barpolar"
           }
          ],
          "carpet": [
           {
            "aaxis": {
             "endlinecolor": "#2a3f5f",
             "gridcolor": "white",
             "linecolor": "white",
             "minorgridcolor": "white",
             "startlinecolor": "#2a3f5f"
            },
            "baxis": {
             "endlinecolor": "#2a3f5f",
             "gridcolor": "white",
             "linecolor": "white",
             "minorgridcolor": "white",
             "startlinecolor": "#2a3f5f"
            },
            "type": "carpet"
           }
          ],
          "choropleth": [
           {
            "colorbar": {
             "outlinewidth": 0,
             "ticks": ""
            },
            "type": "choropleth"
           }
          ],
          "contour": [
           {
            "colorbar": {
             "outlinewidth": 0,
             "ticks": ""
            },
            "colorscale": [
             [
              0,
              "#0d0887"
             ],
             [
              0.1111111111111111,
              "#46039f"
             ],
             [
              0.2222222222222222,
              "#7201a8"
             ],
             [
              0.3333333333333333,
              "#9c179e"
             ],
             [
              0.4444444444444444,
              "#bd3786"
             ],
             [
              0.5555555555555556,
              "#d8576b"
             ],
             [
              0.6666666666666666,
              "#ed7953"
             ],
             [
              0.7777777777777778,
              "#fb9f3a"
             ],
             [
              0.8888888888888888,
              "#fdca26"
             ],
             [
              1,
              "#f0f921"
             ]
            ],
            "type": "contour"
           }
          ],
          "contourcarpet": [
           {
            "colorbar": {
             "outlinewidth": 0,
             "ticks": ""
            },
            "type": "contourcarpet"
           }
          ],
          "heatmap": [
           {
            "colorbar": {
             "outlinewidth": 0,
             "ticks": ""
            },
            "colorscale": [
             [
              0,
              "#0d0887"
             ],
             [
              0.1111111111111111,
              "#46039f"
             ],
             [
              0.2222222222222222,
              "#7201a8"
             ],
             [
              0.3333333333333333,
              "#9c179e"
             ],
             [
              0.4444444444444444,
              "#bd3786"
             ],
             [
              0.5555555555555556,
              "#d8576b"
             ],
             [
              0.6666666666666666,
              "#ed7953"
             ],
             [
              0.7777777777777778,
              "#fb9f3a"
             ],
             [
              0.8888888888888888,
              "#fdca26"
             ],
             [
              1,
              "#f0f921"
             ]
            ],
            "type": "heatmap"
           }
          ],
          "heatmapgl": [
           {
            "colorbar": {
             "outlinewidth": 0,
             "ticks": ""
            },
            "colorscale": [
             [
              0,
              "#0d0887"
             ],
             [
              0.1111111111111111,
              "#46039f"
             ],
             [
              0.2222222222222222,
              "#7201a8"
             ],
             [
              0.3333333333333333,
              "#9c179e"
             ],
             [
              0.4444444444444444,
              "#bd3786"
             ],
             [
              0.5555555555555556,
              "#d8576b"
             ],
             [
              0.6666666666666666,
              "#ed7953"
             ],
             [
              0.7777777777777778,
              "#fb9f3a"
             ],
             [
              0.8888888888888888,
              "#fdca26"
             ],
             [
              1,
              "#f0f921"
             ]
            ],
            "type": "heatmapgl"
           }
          ],
          "histogram": [
           {
            "marker": {
             "pattern": {
              "fillmode": "overlay",
              "size": 10,
              "solidity": 0.2
             }
            },
            "type": "histogram"
           }
          ],
          "histogram2d": [
           {
            "colorbar": {
             "outlinewidth": 0,
             "ticks": ""
            },
            "colorscale": [
             [
              0,
              "#0d0887"
             ],
             [
              0.1111111111111111,
              "#46039f"
             ],
             [
              0.2222222222222222,
              "#7201a8"
             ],
             [
              0.3333333333333333,
              "#9c179e"
             ],
             [
              0.4444444444444444,
              "#bd3786"
             ],
             [
              0.5555555555555556,
              "#d8576b"
             ],
             [
              0.6666666666666666,
              "#ed7953"
             ],
             [
              0.7777777777777778,
              "#fb9f3a"
             ],
             [
              0.8888888888888888,
              "#fdca26"
             ],
             [
              1,
              "#f0f921"
             ]
            ],
            "type": "histogram2d"
           }
          ],
          "histogram2dcontour": [
           {
            "colorbar": {
             "outlinewidth": 0,
             "ticks": ""
            },
            "colorscale": [
             [
              0,
              "#0d0887"
             ],
             [
              0.1111111111111111,
              "#46039f"
             ],
             [
              0.2222222222222222,
              "#7201a8"
             ],
             [
              0.3333333333333333,
              "#9c179e"
             ],
             [
              0.4444444444444444,
              "#bd3786"
             ],
             [
              0.5555555555555556,
              "#d8576b"
             ],
             [
              0.6666666666666666,
              "#ed7953"
             ],
             [
              0.7777777777777778,
              "#fb9f3a"
             ],
             [
              0.8888888888888888,
              "#fdca26"
             ],
             [
              1,
              "#f0f921"
             ]
            ],
            "type": "histogram2dcontour"
           }
          ],
          "mesh3d": [
           {
            "colorbar": {
             "outlinewidth": 0,
             "ticks": ""
            },
            "type": "mesh3d"
           }
          ],
          "parcoords": [
           {
            "line": {
             "colorbar": {
              "outlinewidth": 0,
              "ticks": ""
             }
            },
            "type": "parcoords"
           }
          ],
          "pie": [
           {
            "automargin": true,
            "type": "pie"
           }
          ],
          "scatter": [
           {
            "marker": {
             "colorbar": {
              "outlinewidth": 0,
              "ticks": ""
             }
            },
            "type": "scatter"
           }
          ],
          "scatter3d": [
           {
            "line": {
             "colorbar": {
              "outlinewidth": 0,
              "ticks": ""
             }
            },
            "marker": {
             "colorbar": {
              "outlinewidth": 0,
              "ticks": ""
             }
            },
            "type": "scatter3d"
           }
          ],
          "scattercarpet": [
           {
            "marker": {
             "colorbar": {
              "outlinewidth": 0,
              "ticks": ""
             }
            },
            "type": "scattercarpet"
           }
          ],
          "scattergeo": [
           {
            "marker": {
             "colorbar": {
              "outlinewidth": 0,
              "ticks": ""
             }
            },
            "type": "scattergeo"
           }
          ],
          "scattergl": [
           {
            "marker": {
             "colorbar": {
              "outlinewidth": 0,
              "ticks": ""
             }
            },
            "type": "scattergl"
           }
          ],
          "scattermapbox": [
           {
            "marker": {
             "colorbar": {
              "outlinewidth": 0,
              "ticks": ""
             }
            },
            "type": "scattermapbox"
           }
          ],
          "scatterpolar": [
           {
            "marker": {
             "colorbar": {
              "outlinewidth": 0,
              "ticks": ""
             }
            },
            "type": "scatterpolar"
           }
          ],
          "scatterpolargl": [
           {
            "marker": {
             "colorbar": {
              "outlinewidth": 0,
              "ticks": ""
             }
            },
            "type": "scatterpolargl"
           }
          ],
          "scatterternary": [
           {
            "marker": {
             "colorbar": {
              "outlinewidth": 0,
              "ticks": ""
             }
            },
            "type": "scatterternary"
           }
          ],
          "surface": [
           {
            "colorbar": {
             "outlinewidth": 0,
             "ticks": ""
            },
            "colorscale": [
             [
              0,
              "#0d0887"
             ],
             [
              0.1111111111111111,
              "#46039f"
             ],
             [
              0.2222222222222222,
              "#7201a8"
             ],
             [
              0.3333333333333333,
              "#9c179e"
             ],
             [
              0.4444444444444444,
              "#bd3786"
             ],
             [
              0.5555555555555556,
              "#d8576b"
             ],
             [
              0.6666666666666666,
              "#ed7953"
             ],
             [
              0.7777777777777778,
              "#fb9f3a"
             ],
             [
              0.8888888888888888,
              "#fdca26"
             ],
             [
              1,
              "#f0f921"
             ]
            ],
            "type": "surface"
           }
          ],
          "table": [
           {
            "cells": {
             "fill": {
              "color": "#EBF0F8"
             },
             "line": {
              "color": "white"
             }
            },
            "header": {
             "fill": {
              "color": "#C8D4E3"
             },
             "line": {
              "color": "white"
             }
            },
            "type": "table"
           }
          ]
         },
         "layout": {
          "annotationdefaults": {
           "arrowcolor": "#2a3f5f",
           "arrowhead": 0,
           "arrowwidth": 1
          },
          "autotypenumbers": "strict",
          "coloraxis": {
           "colorbar": {
            "outlinewidth": 0,
            "ticks": ""
           }
          },
          "colorscale": {
           "diverging": [
            [
             0,
             "#8e0152"
            ],
            [
             0.1,
             "#c51b7d"
            ],
            [
             0.2,
             "#de77ae"
            ],
            [
             0.3,
             "#f1b6da"
            ],
            [
             0.4,
             "#fde0ef"
            ],
            [
             0.5,
             "#f7f7f7"
            ],
            [
             0.6,
             "#e6f5d0"
            ],
            [
             0.7,
             "#b8e186"
            ],
            [
             0.8,
             "#7fbc41"
            ],
            [
             0.9,
             "#4d9221"
            ],
            [
             1,
             "#276419"
            ]
           ],
           "sequential": [
            [
             0,
             "#0d0887"
            ],
            [
             0.1111111111111111,
             "#46039f"
            ],
            [
             0.2222222222222222,
             "#7201a8"
            ],
            [
             0.3333333333333333,
             "#9c179e"
            ],
            [
             0.4444444444444444,
             "#bd3786"
            ],
            [
             0.5555555555555556,
             "#d8576b"
            ],
            [
             0.6666666666666666,
             "#ed7953"
            ],
            [
             0.7777777777777778,
             "#fb9f3a"
            ],
            [
             0.8888888888888888,
             "#fdca26"
            ],
            [
             1,
             "#f0f921"
            ]
           ],
           "sequentialminus": [
            [
             0,
             "#0d0887"
            ],
            [
             0.1111111111111111,
             "#46039f"
            ],
            [
             0.2222222222222222,
             "#7201a8"
            ],
            [
             0.3333333333333333,
             "#9c179e"
            ],
            [
             0.4444444444444444,
             "#bd3786"
            ],
            [
             0.5555555555555556,
             "#d8576b"
            ],
            [
             0.6666666666666666,
             "#ed7953"
            ],
            [
             0.7777777777777778,
             "#fb9f3a"
            ],
            [
             0.8888888888888888,
             "#fdca26"
            ],
            [
             1,
             "#f0f921"
            ]
           ]
          },
          "colorway": [
           "#636efa",
           "#EF553B",
           "#00cc96",
           "#ab63fa",
           "#FFA15A",
           "#19d3f3",
           "#FF6692",
           "#B6E880",
           "#FF97FF",
           "#FECB52"
          ],
          "font": {
           "color": "#2a3f5f"
          },
          "geo": {
           "bgcolor": "white",
           "lakecolor": "white",
           "landcolor": "#E5ECF6",
           "showlakes": true,
           "showland": true,
           "subunitcolor": "white"
          },
          "hoverlabel": {
           "align": "left"
          },
          "hovermode": "closest",
          "mapbox": {
           "style": "light"
          },
          "paper_bgcolor": "white",
          "plot_bgcolor": "#E5ECF6",
          "polar": {
           "angularaxis": {
            "gridcolor": "white",
            "linecolor": "white",
            "ticks": ""
           },
           "bgcolor": "#E5ECF6",
           "radialaxis": {
            "gridcolor": "white",
            "linecolor": "white",
            "ticks": ""
           }
          },
          "scene": {
           "xaxis": {
            "backgroundcolor": "#E5ECF6",
            "gridcolor": "white",
            "gridwidth": 2,
            "linecolor": "white",
            "showbackground": true,
            "ticks": "",
            "zerolinecolor": "white"
           },
           "yaxis": {
            "backgroundcolor": "#E5ECF6",
            "gridcolor": "white",
            "gridwidth": 2,
            "linecolor": "white",
            "showbackground": true,
            "ticks": "",
            "zerolinecolor": "white"
           },
           "zaxis": {
            "backgroundcolor": "#E5ECF6",
            "gridcolor": "white",
            "gridwidth": 2,
            "linecolor": "white",
            "showbackground": true,
            "ticks": "",
            "zerolinecolor": "white"
           }
          },
          "shapedefaults": {
           "line": {
            "color": "#2a3f5f"
           }
          },
          "ternary": {
           "aaxis": {
            "gridcolor": "white",
            "linecolor": "white",
            "ticks": ""
           },
           "baxis": {
            "gridcolor": "white",
            "linecolor": "white",
            "ticks": ""
           },
           "bgcolor": "#E5ECF6",
           "caxis": {
            "gridcolor": "white",
            "linecolor": "white",
            "ticks": ""
           }
          },
          "title": {
           "x": 0.05
          },
          "xaxis": {
           "automargin": true,
           "gridcolor": "white",
           "linecolor": "white",
           "ticks": "",
           "title": {
            "standoff": 15
           },
           "zerolinecolor": "white",
           "zerolinewidth": 2
          },
          "yaxis": {
           "automargin": true,
           "gridcolor": "white",
           "linecolor": "white",
           "ticks": "",
           "title": {
            "standoff": 15
           },
           "zerolinecolor": "white",
           "zerolinewidth": 2
          }
         }
        }
       }
      },
      "text/html": [
       "<div>                            <div id=\"f0156b66-75d5-4a04-9f27-9c5d951f1fb8\" class=\"plotly-graph-div\" style=\"height:525px; width:100%;\"></div>            <script type=\"text/javascript\">                require([\"plotly\"], function(Plotly) {                    window.PLOTLYENV=window.PLOTLYENV || {};                                    if (document.getElementById(\"f0156b66-75d5-4a04-9f27-9c5d951f1fb8\")) {                    Plotly.newPlot(                        \"f0156b66-75d5-4a04-9f27-9c5d951f1fb8\",                        [{\"marker\":{\"size\":20},\"mode\":\"markers\",\"name\":\"['elu', 0.2]\",\"text\":[\"filters:[512]-strides:[2]-kernel_size:[9]-activation:tanh-drop:0.6-depth_multiplier:1-filters2:[256]-strides2:[4]-kernel_size2:[9]-activation2:relu-drop2:0.6-depth_multiplier2:6-activation_full:['elu', 0.2]-full:[256, 128, 64]-fulldrop:0.3-lag:24-activation_full:['elu', 0.2]\",\"filters:[512]-strides:[5]-kernel_size:[7]-activation:tanh-drop:0.0-depth_multiplier:7-filters2:[128]-strides2:[1]-kernel_size2:[1]-activation2:['elu', 0.4]-drop2:0.5-depth_multiplier2:3-activation_full:['elu', 0.2]-full:[64]-fulldrop:0.4-lag:12-activation_full:['elu', 0.2]\",\"filters:[512]-strides:[4]-kernel_size:[9]-activation:linear-drop:0.4-depth_multiplier:6-filters2:[256]-strides2:[5]-kernel_size2:[1]-activation2:relu-drop2:0.2-depth_multiplier2:5-activation_full:['elu', 0.2]-full:[64]-fulldrop:0.3-lag:24-activation_full:['elu', 0.2]\",\"filters:[512]-strides:[4]-kernel_size:[9]-activation:linear-drop:0.4-depth_multiplier:6-filters2:[256]-strides2:[5]-kernel_size2:[1]-activation2:relu-drop2:0.2-depth_multiplier2:8-activation_full:['elu', 0.2]-full:[64]-fulldrop:0.3-lag:30-activation_full:['elu', 0.2]\",\"filters:[512]-strides:[4]-kernel_size:[9]-activation:['elu', 0.4]-drop:0.4-depth_multiplier:4-filters2:[512]-strides2:[1]-kernel_size2:[3]-activation2:relu-drop2:0.3-depth_multiplier2:2-activation_full:['elu', 0.2]-full:[256]-fulldrop:0.5-lag:12-activation_full:['elu', 0.2]\",\"filters:[512]-strides:[4]-kernel_size:[9]-activation:['elu', 0.4]-drop:0.0-depth_multiplier:4-filters2:[512]-strides2:[1]-kernel_size2:[3]-activation2:relu-drop2:0.3-depth_multiplier2:8-activation_full:['elu', 0.2]-full:[256]-fulldrop:0.5-lag:6-activation_full:['elu', 0.2]\",\"filters:[512]-strides:[4]-kernel_size:[9]-activation:['elu', 0.4]-drop:0.1-depth_multiplier:4-filters2:[512]-strides2:[1]-kernel_size2:[3]-activation2:relu-drop2:0.3-depth_multiplier2:8-activation_full:['elu', 0.2]-full:[256]-fulldrop:0.5-lag:6-activation_full:['elu', 0.2]\",\"filters:[512]-strides:[4]-kernel_size:[7]-activation:linear-drop:0.3-depth_multiplier:1-filters2:[1024]-strides2:[1]-kernel_size2:[9]-activation2:relu-drop2:0.3-depth_multiplier2:3-activation_full:['elu', 0.2]-full:[2048]-fulldrop:0.5-lag:6-activation_full:['elu', 0.2]\",\"filters:[512]-strides:[4]-kernel_size:[5]-activation:linear-drop:0.6-depth_multiplier:7-filters2:[256]-strides2:[4]-kernel_size2:[1]-activation2:relu-drop2:0.3-depth_multiplier2:6-activation_full:['elu', 0.2]-full:[2048]-fulldrop:0.3-lag:6-activation_full:['elu', 0.2]\",\"filters:[128]-strides:[1]-kernel_size:[7]-activation:['elu', 0.3]-drop:0.6-depth_multiplier:4-filters2:[128]-strides2:[4]-kernel_size2:[7]-activation2:['leaky', 0.2]-drop2:0.0-depth_multiplier2:7-activation_full:['elu', 0.2]-full:[4096]-fulldrop:0.3-lag:6-activation_full:['elu', 0.2]\",\"filters:[128]-strides:[3]-kernel_size:[9]-activation:['elu', 0.3]-drop:0.4-depth_multiplier:2-filters2:[64]-strides2:[2]-kernel_size2:[1]-activation2:relu-drop2:0.4-depth_multiplier2:6-activation_full:['elu', 0.2]-full:[256, 128, 64]-fulldrop:0.0-lag:6-activation_full:['elu', 0.2]\",\"filters:[128]-strides:[2]-kernel_size:[9]-activation:linear-drop:0.6-depth_multiplier:8-filters2:[64]-strides2:[1]-kernel_size2:[1]-activation2:['leaky', 0.2]-drop2:0.6-depth_multiplier2:1-activation_full:['elu', 0.2]-full:[128]-fulldrop:0.2-lag:12-activation_full:['elu', 0.2]\",\"filters:[128]-strides:[2]-kernel_size:[9]-activation:['elu', 0.3]-drop:0.6-depth_multiplier:8-filters2:[64]-strides2:[1]-kernel_size2:[1]-activation2:['leaky', 0.2]-drop2:0.6-depth_multiplier2:1-activation_full:['elu', 0.2]-full:[1024, 512, 256]-fulldrop:0.2-lag:12-activation_full:['elu', 0.2]\",\"filters:[128]-strides:[2]-kernel_size:[9]-activation:['elu', 0.3]-drop:0.5-depth_multiplier:8-filters2:[64]-strides2:[1]-kernel_size2:[1]-activation2:['leaky', 0.2]-drop2:0.6-depth_multiplier2:1-activation_full:['elu', 0.2]-full:[128]-fulldrop:0.2-lag:12-activation_full:['elu', 0.2]\",\"filters:[128]-strides:[2]-kernel_size:[9]-activation:['elu', 0.2]-drop:0.1-depth_multiplier:2-filters2:[512]-strides2:[1]-kernel_size2:[7]-activation2:['leaky', 0.2]-drop2:0.1-depth_multiplier2:7-activation_full:['elu', 0.2]-full:[256]-fulldrop:0.5-lag:18-activation_full:['elu', 0.2]\",\"filters:[128]-strides:[5]-kernel_size:[9]-activation:linear-drop:0.5-depth_multiplier:2-filters2:[64]-strides2:[1]-kernel_size2:[1]-activation2:['leaky', 0.2]-drop2:0.3-depth_multiplier2:3-activation_full:['elu', 0.2]-full:[1024]-fulldrop:0.2-lag:24-activation_full:['elu', 0.2]\",\"filters:[128]-strides:[4]-kernel_size:[9]-activation:linear-drop:0.4-depth_multiplier:4-filters2:[256]-strides2:[5]-kernel_size2:[5]-activation2:relu-drop2:0.2-depth_multiplier2:8-activation_full:['elu', 0.2]-full:[64]-fulldrop:0.1-lag:6-activation_full:['elu', 0.2]\",\"filters:[128]-strides:[4]-kernel_size:[9]-activation:linear-drop:0.4-depth_multiplier:4-filters2:[256]-strides2:[5]-kernel_size2:[3]-activation2:relu-drop2:0.2-depth_multiplier2:8-activation_full:['elu', 0.2]-full:[64]-fulldrop:0.1-lag:6-activation_full:['elu', 0.2]\",\"filters:[128]-strides:[4]-kernel_size:[9]-activation:linear-drop:0.4-depth_multiplier:2-filters2:[256]-strides2:[5]-kernel_size2:[1]-activation2:relu-drop2:0.0-depth_multiplier2:8-activation_full:['elu', 0.2]-full:[64]-fulldrop:0.3-lag:24-activation_full:['elu', 0.2]\",\"filters:[128]-strides:[4]-kernel_size:[9]-activation:linear-drop:0.4-depth_multiplier:2-filters2:[256]-strides2:[5]-kernel_size2:[1]-activation2:relu-drop2:0.2-depth_multiplier2:8-activation_full:['elu', 0.2]-full:[64]-fulldrop:0.3-lag:24-activation_full:['elu', 0.2]\",\"filters:[128]-strides:[4]-kernel_size:[9]-activation:linear-drop:0.4-depth_multiplier:6-filters2:[256]-strides2:[5]-kernel_size2:[1]-activation2:relu-drop2:0.0-depth_multiplier2:3-activation_full:['elu', 0.2]-full:[64]-fulldrop:0.2-lag:24-activation_full:['elu', 0.2]\",\"filters:[128]-strides:[4]-kernel_size:[9]-activation:linear-drop:0.4-depth_multiplier:6-filters2:[256]-strides2:[5]-kernel_size2:[1]-activation2:relu-drop2:0.2-depth_multiplier2:8-activation_full:['elu', 0.2]-full:[64]-fulldrop:0.3-lag:24-activation_full:['elu', 0.2]\",\"filters:[128]-strides:[4]-kernel_size:[9]-activation:linear-drop:0.1-depth_multiplier:6-filters2:[256]-strides2:[5]-kernel_size2:[1]-activation2:relu-drop2:0.2-depth_multiplier2:5-activation_full:['elu', 0.2]-full:[64]-fulldrop:0.3-lag:24-activation_full:['elu', 0.2]\",\"filters:[128]-strides:[4]-kernel_size:[9]-activation:linear-drop:0.1-depth_multiplier:6-filters2:[256]-strides2:[1]-kernel_size2:[3]-activation2:relu-drop2:0.3-depth_multiplier2:5-activation_full:['elu', 0.2]-full:[64]-fulldrop:0.3-lag:12-activation_full:['elu', 0.2]\",\"filters:[128]-strides:[4]-kernel_size:[9]-activation:['leaky', 0.2]-drop:0.4-depth_multiplier:6-filters2:[256]-strides2:[5]-kernel_size2:[3]-activation2:relu-drop2:0.2-depth_multiplier2:8-activation_full:['elu', 0.2]-full:[64]-fulldrop:0.3-lag:6-activation_full:['elu', 0.2]\",\"filters:[128]-strides:[4]-kernel_size:[9]-activation:['leaky', 0.2]-drop:0.4-depth_multiplier:6-filters2:[256]-strides2:[5]-kernel_size2:[1]-activation2:relu-drop2:0.2-depth_multiplier2:8-activation_full:['elu', 0.2]-full:[64]-fulldrop:0.3-lag:24-activation_full:['elu', 0.2]\",\"filters:[128]-strides:[4]-kernel_size:[9]-activation:['elu', 0.2]-drop:0.6-depth_multiplier:1-filters2:[128]-strides2:[5]-kernel_size2:[1]-activation2:relu-drop2:0.1-depth_multiplier2:3-activation_full:['elu', 0.2]-full:[256]-fulldrop:0.2-lag:30-activation_full:['elu', 0.2]\",\"filters:[128]-strides:[4]-kernel_size:[7]-activation:['elu', 0.3]-drop:0.5-depth_multiplier:7-filters2:[1024]-strides2:[2]-kernel_size2:[9]-activation2:['elu', 0.3]-drop2:0.0-depth_multiplier2:6-activation_full:['elu', 0.2]-full:[2048]-fulldrop:0.5-lag:6-activation_full:['elu', 0.2]\",\"filters:[1024]-strides:[1]-kernel_size:[9]-activation:tanh-drop:0.4-depth_multiplier:4-filters2:[512]-strides2:[5]-kernel_size2:[3]-activation2:relu-drop2:0.2-depth_multiplier2:8-activation_full:['elu', 0.2]-full:[64]-fulldrop:0.3-lag:6-activation_full:['elu', 0.2]\",\"filters:[1024]-strides:[1]-kernel_size:[5]-activation:linear-drop:0.5-depth_multiplier:7-filters2:[256]-strides2:[3]-kernel_size2:[7]-activation2:relu-drop2:0.1-depth_multiplier2:7-activation_full:['elu', 0.2]-full:[128]-fulldrop:0.5-lag:6-activation_full:['elu', 0.2]\",\"filters:[1024]-strides:[2]-kernel_size:[9]-activation:linear-drop:0.4-depth_multiplier:6-filters2:[256]-strides2:[5]-kernel_size2:[3]-activation2:relu-drop2:0.2-depth_multiplier2:8-activation_full:['elu', 0.2]-full:[128]-fulldrop:0.3-lag:6-activation_full:['elu', 0.2]\",\"filters:[1024]-strides:[2]-kernel_size:[5]-activation:['leaky', 0.2]-drop:0.2-depth_multiplier:1-filters2:[512]-strides2:[1]-kernel_size2:[1]-activation2:relu-drop2:0.4-depth_multiplier2:3-activation_full:['elu', 0.2]-full:[64, 32, 16]-fulldrop:0.1-lag:18-activation_full:['elu', 0.2]\",\"filters:[1024]-strides:[5]-kernel_size:[5]-activation:['leaky', 0.2]-drop:0.5-depth_multiplier:2-filters2:[2048]-strides2:[5]-kernel_size2:[2]-activation2:relu-drop2:0.3-depth_multiplier2:3-activation_full:['elu', 0.2]-full:[256, 128, 64]-fulldrop:0.4-lag:12-activation_full:['elu', 0.2]\",\"filters:[1024]-strides:[4]-kernel_size:[9]-activation:linear-drop:0.4-depth_multiplier:8-filters2:[256]-strides2:[5]-kernel_size2:[1]-activation2:relu-drop2:0.0-depth_multiplier2:2-activation_full:['elu', 0.2]-full:[64]-fulldrop:0.4-lag:24-activation_full:['elu', 0.2]\",\"filters:[1024]-strides:[4]-kernel_size:[9]-activation:linear-drop:0.4-depth_multiplier:4-filters2:[256]-strides2:[5]-kernel_size2:[1]-activation2:relu-drop2:0.2-depth_multiplier2:8-activation_full:['elu', 0.2]-full:[64]-fulldrop:0.3-lag:24-activation_full:['elu', 0.2]\",\"filters:[1024]-strides:[4]-kernel_size:[9]-activation:linear-drop:0.4-depth_multiplier:6-filters2:[256]-strides2:[5]-kernel_size2:[3]-activation2:relu-drop2:0.2-depth_multiplier2:8-activation_full:['elu', 0.2]-full:[64]-fulldrop:0.1-lag:18-activation_full:['elu', 0.2]\",\"filters:[1024]-strides:[4]-kernel_size:[9]-activation:linear-drop:0.4-depth_multiplier:6-filters2:[256]-strides2:[5]-kernel_size2:[1]-activation2:relu-drop2:0.1-depth_multiplier2:2-activation_full:['elu', 0.2]-full:[64]-fulldrop:0.4-lag:24-activation_full:['elu', 0.2]\",\"filters:[1024]-strides:[4]-kernel_size:[9]-activation:linear-drop:0.4-depth_multiplier:6-filters2:[256]-strides2:[5]-kernel_size2:[1]-activation2:relu-drop2:0.0-depth_multiplier2:2-activation_full:['elu', 0.2]-full:[64]-fulldrop:0.4-lag:24-activation_full:['elu', 0.2]\",\"filters:[1024]-strides:[4]-kernel_size:[9]-activation:linear-drop:0.4-depth_multiplier:6-filters2:[256]-strides2:[5]-kernel_size2:[1]-activation2:relu-drop2:0.0-depth_multiplier2:8-activation_full:['elu', 0.2]-full:[64]-fulldrop:0.2-lag:24-activation_full:['elu', 0.2]\",\"filters:[1024]-strides:[4]-kernel_size:[9]-activation:linear-drop:0.4-depth_multiplier:6-filters2:[256]-strides2:[5]-kernel_size2:[1]-activation2:relu-drop2:0.2-depth_multiplier2:2-activation_full:['elu', 0.2]-full:[64]-fulldrop:0.4-lag:24-activation_full:['elu', 0.2]\",\"filters:[1024]-strides:[4]-kernel_size:[9]-activation:linear-drop:0.4-depth_multiplier:6-filters2:[256]-strides2:[5]-kernel_size2:[1]-activation2:relu-drop2:0.2-depth_multiplier2:2-activation_full:['elu', 0.2]-full:[64]-fulldrop:0.3-lag:24-activation_full:['elu', 0.2]\",\"filters:[1024]-strides:[4]-kernel_size:[9]-activation:linear-drop:0.4-depth_multiplier:6-filters2:[256]-strides2:[5]-kernel_size2:[1]-activation2:relu-drop2:0.2-depth_multiplier2:8-activation_full:['elu', 0.2]-full:[2048]-fulldrop:0.0-lag:24-activation_full:['elu', 0.2]\",\"filters:[1024]-strides:[4]-kernel_size:[9]-activation:linear-drop:0.4-depth_multiplier:6-filters2:[256]-strides2:[5]-kernel_size2:[1]-activation2:relu-drop2:0.2-depth_multiplier2:8-activation_full:['elu', 0.2]-full:[1024]-fulldrop:0.3-lag:24-activation_full:['elu', 0.2]\",\"filters:[1024]-strides:[4]-kernel_size:[9]-activation:linear-drop:0.4-depth_multiplier:6-filters2:[256]-strides2:[5]-kernel_size2:[1]-activation2:relu-drop2:0.2-depth_multiplier2:8-activation_full:['elu', 0.2]-full:[64]-fulldrop:0.4-lag:24-activation_full:['elu', 0.2]\",\"filters:[1024]-strides:[4]-kernel_size:[9]-activation:linear-drop:0.4-depth_multiplier:6-filters2:[256]-strides2:[5]-kernel_size2:[1]-activation2:relu-drop2:0.2-depth_multiplier2:8-activation_full:['elu', 0.2]-full:[64]-fulldrop:0.4-lag:30-activation_full:['elu', 0.2]\",\"filters:[1024]-strides:[4]-kernel_size:[9]-activation:linear-drop:0.4-depth_multiplier:6-filters2:[256]-strides2:[5]-kernel_size2:[1]-activation2:relu-drop2:0.2-depth_multiplier2:8-activation_full:['elu', 0.2]-full:[64]-fulldrop:0.2-lag:24-activation_full:['elu', 0.2]\",\"filters:[1024]-strides:[4]-kernel_size:[9]-activation:linear-drop:0.4-depth_multiplier:6-filters2:[256]-strides2:[5]-kernel_size2:[1]-activation2:relu-drop2:0.2-depth_multiplier2:8-activation_full:['elu', 0.2]-full:[64]-fulldrop:0.5-lag:24-activation_full:['elu', 0.2]\",\"filters:[1024]-strides:[4]-kernel_size:[9]-activation:linear-drop:0.4-depth_multiplier:6-filters2:[256]-strides2:[5]-kernel_size2:[1]-activation2:relu-drop2:0.2-depth_multiplier2:8-activation_full:['elu', 0.2]-full:[64]-fulldrop:0.3-lag:24-activation_full:['elu', 0.2]\",\"filters:[1024]-strides:[4]-kernel_size:[9]-activation:linear-drop:0.4-depth_multiplier:6-filters2:[256]-strides2:[5]-kernel_size2:[1]-activation2:relu-drop2:0.2-depth_multiplier2:8-activation_full:['elu', 0.2]-full:[64]-fulldrop:0.3-lag:18-activation_full:['elu', 0.2]\",\"filters:[1024]-strides:[4]-kernel_size:[9]-activation:linear-drop:0.4-depth_multiplier:6-filters2:[256]-strides2:[5]-kernel_size2:[1]-activation2:relu-drop2:0.2-depth_multiplier2:8-activation_full:['elu', 0.2]-full:[64]-fulldrop:0.3-lag:30-activation_full:['elu', 0.2]\",\"filters:[1024]-strides:[4]-kernel_size:[9]-activation:linear-drop:0.4-depth_multiplier:6-filters2:[256]-strides2:[5]-kernel_size2:[1]-activation2:relu-drop2:0.2-depth_multiplier2:8-activation_full:['elu', 0.2]-full:[64]-fulldrop:0.1-lag:24-activation_full:['elu', 0.2]\",\"filters:[1024]-strides:[4]-kernel_size:[9]-activation:linear-drop:0.4-depth_multiplier:6-filters2:[256]-strides2:[5]-kernel_size2:[1]-activation2:relu-drop2:0.2-depth_multiplier2:8-activation_full:['elu', 0.2]-full:[128]-fulldrop:0.3-lag:24-activation_full:['elu', 0.2]\",\"filters:[1024]-strides:[4]-kernel_size:[9]-activation:linear-drop:0.4-depth_multiplier:6-filters2:[256]-strides2:[5]-kernel_size2:[1]-activation2:relu-drop2:0.2-depth_multiplier2:3-activation_full:['elu', 0.2]-full:[64]-fulldrop:0.3-lag:24-activation_full:['elu', 0.2]\",\"filters:[1024]-strides:[4]-kernel_size:[9]-activation:linear-drop:0.4-depth_multiplier:6-filters2:[256]-strides2:[5]-kernel_size2:[1]-activation2:relu-drop2:0.2-depth_multiplier2:7-activation_full:['elu', 0.2]-full:[64]-fulldrop:0.3-lag:24-activation_full:['elu', 0.2]\",\"filters:[1024]-strides:[4]-kernel_size:[9]-activation:linear-drop:0.4-depth_multiplier:6-filters2:[256]-strides2:[5]-kernel_size2:[1]-activation2:['leaky', 0.2]-drop2:0.0-depth_multiplier2:2-activation_full:['elu', 0.2]-full:[64]-fulldrop:0.4-lag:24-activation_full:['elu', 0.2]\",\"filters:[1024]-strides:[4]-kernel_size:[9]-activation:linear-drop:0.4-depth_multiplier:6-filters2:[256]-strides2:[5]-kernel_size2:[1]-activation2:['elu', 0.3]-drop2:0.0-depth_multiplier2:2-activation_full:['elu', 0.2]-full:[64]-fulldrop:0.4-lag:24-activation_full:['elu', 0.2]\",\"filters:[1024]-strides:[4]-kernel_size:[9]-activation:linear-drop:0.4-depth_multiplier:6-filters2:[64]-strides2:[5]-kernel_size2:[1]-activation2:relu-drop2:0.2-depth_multiplier2:4-activation_full:['elu', 0.2]-full:[64]-fulldrop:0.3-lag:30-activation_full:['elu', 0.2]\",\"filters:[1024]-strides:[4]-kernel_size:[9]-activation:linear-drop:0.4-depth_multiplier:6-filters2:[512]-strides2:[5]-kernel_size2:[5]-activation2:relu-drop2:0.2-depth_multiplier2:8-activation_full:['elu', 0.2]-full:[64]-fulldrop:0.4-lag:6-activation_full:['elu', 0.2]\",\"filters:[1024]-strides:[4]-kernel_size:[9]-activation:linear-drop:0.4-depth_multiplier:6-filters2:[512]-strides2:[5]-kernel_size2:[3]-activation2:relu-drop2:0.2-depth_multiplier2:8-activation_full:['elu', 0.2]-full:[64]-fulldrop:0.3-lag:6-activation_full:['elu', 0.2]\",\"filters:[1024]-strides:[4]-kernel_size:[9]-activation:linear-drop:0.4-depth_multiplier:6-filters2:[512]-strides2:[5]-kernel_size2:[1]-activation2:relu-drop2:0.2-depth_multiplier2:8-activation_full:['elu', 0.2]-full:[64]-fulldrop:0.3-lag:24-activation_full:['elu', 0.2]\",\"filters:[1024]-strides:[4]-kernel_size:[9]-activation:linear-drop:0.4-depth_multiplier:6-filters2:[512]-strides2:[5]-kernel_size2:[1]-activation2:relu-drop2:0.2-depth_multiplier2:8-activation_full:['elu', 0.2]-full:[64]-fulldrop:0.1-lag:24-activation_full:['elu', 0.2]\",\"filters:[1024]-strides:[4]-kernel_size:[9]-activation:linear-drop:0.3-depth_multiplier:4-filters2:[256]-strides2:[5]-kernel_size2:[1]-activation2:relu-drop2:0.2-depth_multiplier2:8-activation_full:['elu', 0.2]-full:[64]-fulldrop:0.3-lag:24-activation_full:['elu', 0.2]\",\"filters:[1024]-strides:[4]-kernel_size:[9]-activation:linear-drop:0.3-depth_multiplier:6-filters2:[128]-strides2:[5]-kernel_size2:[1]-activation2:relu-drop2:0.2-depth_multiplier2:8-activation_full:['elu', 0.2]-full:[64]-fulldrop:0.3-lag:24-activation_full:['elu', 0.2]\",\"filters:[1024]-strides:[4]-kernel_size:[9]-activation:linear-drop:0.6-depth_multiplier:6-filters2:[256]-strides2:[5]-kernel_size2:[1]-activation2:relu-drop2:0.0-depth_multiplier2:2-activation_full:['elu', 0.2]-full:[64]-fulldrop:0.4-lag:24-activation_full:['elu', 0.2]\",\"filters:[1024]-strides:[4]-kernel_size:[9]-activation:linear-drop:0.5-depth_multiplier:6-filters2:[256]-strides2:[5]-kernel_size2:[1]-activation2:relu-drop2:0.2-depth_multiplier2:8-activation_full:['elu', 0.2]-full:[64]-fulldrop:0.3-lag:30-activation_full:['elu', 0.2]\",\"filters:[1024]-strides:[4]-kernel_size:[9]-activation:linear-drop:0.5-depth_multiplier:6-filters2:[256]-strides2:[5]-kernel_size2:[1]-activation2:relu-drop2:0.2-depth_multiplier2:8-activation_full:['elu', 0.2]-full:[64]-fulldrop:0.1-lag:24-activation_full:['elu', 0.2]\",\"filters:[1024]-strides:[4]-kernel_size:[9]-activation:tanh-drop:0.4-depth_multiplier:6-filters2:[256]-strides2:[5]-kernel_size2:[1]-activation2:relu-drop2:0.0-depth_multiplier2:2-activation_full:['elu', 0.2]-full:[64]-fulldrop:0.4-lag:24-activation_full:['elu', 0.2]\",\"filters:[1024]-strides:[4]-kernel_size:[9]-activation:tanh-drop:0.4-depth_multiplier:6-filters2:[256]-strides2:[5]-kernel_size2:[1]-activation2:relu-drop2:0.2-depth_multiplier2:8-activation_full:['elu', 0.2]-full:[64]-fulldrop:0.3-lag:24-activation_full:['elu', 0.2]\",\"filters:[1024]-strides:[4]-kernel_size:[9]-activation:['leaky', 0.2]-drop:0.4-depth_multiplier:6-filters2:[256]-strides2:[5]-kernel_size2:[1]-activation2:relu-drop2:0.2-depth_multiplier2:8-activation_full:['elu', 0.2]-full:[64]-fulldrop:0.3-lag:24-activation_full:['elu', 0.2]\",\"filters:[1024]-strides:[4]-kernel_size:[9]-activation:['leaky', 0.2]-drop:0.4-depth_multiplier:6-filters2:[256]-strides2:[5]-kernel_size2:[1]-activation2:relu-drop2:0.2-depth_multiplier2:8-activation_full:['elu', 0.2]-full:[64]-fulldrop:0.1-lag:24-activation_full:['elu', 0.2]\",\"filters:[1024]-strides:[4]-kernel_size:[9]-activation:['leaky', 0.2]-drop:0.1-depth_multiplier:6-filters2:[256]-strides2:[1]-kernel_size2:[5]-activation2:relu-drop2:0.5-depth_multiplier2:8-activation_full:['elu', 0.2]-full:[64, 32]-fulldrop:0.0-lag:12-activation_full:['elu', 0.2]\",\"filters:[1024]-strides:[4]-kernel_size:[9]-activation:['leaky', 0.2]-drop:0.1-depth_multiplier:6-filters2:[256]-strides2:[1]-kernel_size2:[3]-activation2:relu-drop2:0.2-depth_multiplier2:8-activation_full:['elu', 0.2]-full:[64, 32]-fulldrop:0.0-lag:12-activation_full:['elu', 0.2]\",\"filters:[256]-strides:[1]-kernel_size:[7]-activation:tanh-drop:0.4-depth_multiplier:5-filters2:[512]-strides2:[5]-kernel_size2:[3]-activation2:relu-drop2:0.6-depth_multiplier2:7-activation_full:['elu', 0.2]-full:[64]-fulldrop:0.3-lag:6-activation_full:['elu', 0.2]\",\"filters:[64]-strides:[1]-kernel_size:[9]-activation:relu-drop:0.2-depth_multiplier:4-filters2:[2048]-strides2:[4]-kernel_size2:[7]-activation2:relu-drop2:0.4-depth_multiplier2:7-activation_full:['elu', 0.2]-full:[128, 64]-fulldrop:0.5-lag:12-activation_full:['elu', 0.2]\",\"filters:[64]-strides:[1]-kernel_size:[5]-activation:['elu', 0.2]-drop:0.5-depth_multiplier:5-filters2:[2048]-strides2:[3]-kernel_size2:[5]-activation2:['leaky', 0.2]-drop2:0.1-depth_multiplier2:7-activation_full:['elu', 0.2]-full:[2048, 1024]-fulldrop:0.3-lag:18-activation_full:['elu', 0.2]\",\"filters:[64]-strides:[3]-kernel_size:[7]-activation:tanh-drop:0.2-depth_multiplier:1-filters2:[1024]-strides2:[2]-kernel_size2:[3]-activation2:relu-drop2:0.6-depth_multiplier2:1-activation_full:['elu', 0.2]-full:[128]-fulldrop:0.0-lag:30-activation_full:['elu', 0.2]\",\"filters:[64]-strides:[3]-kernel_size:[5]-activation:['leaky', 0.2]-drop:0.5-depth_multiplier:3-filters2:[1024]-strides2:[3]-kernel_size2:[1]-activation2:relu-drop2:0.3-depth_multiplier2:8-activation_full:['elu', 0.2]-full:[1024, 512]-fulldrop:0.5-lag:24-activation_full:['elu', 0.2]\",\"filters:[64]-strides:[2]-kernel_size:[9]-activation:tanh-drop:0.2-depth_multiplier:7-filters2:[512]-strides2:[3]-kernel_size2:[3]-activation2:relu-drop2:0.2-depth_multiplier2:8-activation_full:['elu', 0.2]-full:[512]-fulldrop:0.0-lag:18-activation_full:['elu', 0.2]\",\"filters:[64]-strides:[4]-kernel_size:[9]-activation:linear-drop:0.2-depth_multiplier:5-filters2:[256]-strides2:[5]-kernel_size2:[5]-activation2:relu-drop2:0.0-depth_multiplier2:7-activation_full:['elu', 0.2]-full:[512, 256, 128]-fulldrop:0.4-lag:12-activation_full:['elu', 0.2]\",\"filters:[2048]-strides:[1]-kernel_size:[7]-activation:linear-drop:0.6-depth_multiplier:2-filters2:[64]-strides2:[4]-kernel_size2:[1]-activation2:relu-drop2:0.0-depth_multiplier2:7-activation_full:['elu', 0.2]-full:[2048, 1024]-fulldrop:0.2-lag:6-activation_full:['elu', 0.2]\",\"filters:[2048]-strides:[1]-kernel_size:[7]-activation:['elu', 0.3]-drop:0.0-depth_multiplier:6-filters2:[1024]-strides2:[4]-kernel_size2:[5]-activation2:relu-drop2:0.4-depth_multiplier2:5-activation_full:['elu', 0.2]-full:[512]-fulldrop:0.2-lag:12-activation_full:['elu', 0.2]\",\"filters:[2048]-strides:[1]-kernel_size:[5]-activation:relu-drop:0.3-depth_multiplier:3-filters2:[2048]-strides2:[2]-kernel_size2:[5]-activation2:['elu', 0.4]-drop2:0.0-depth_multiplier2:2-activation_full:['elu', 0.2]-full:[64, 32, 16]-fulldrop:0.2-lag:18-activation_full:['elu', 0.2]\",\"filters:[2048]-strides:[3]-kernel_size:[9]-activation:['elu', 0.2]-drop:0.3-depth_multiplier:8-filters2:[512]-strides2:[4]-kernel_size2:[1]-activation2:['elu', 0.4]-drop2:0.0-depth_multiplier2:7-activation_full:['elu', 0.2]-full:[256]-fulldrop:0.4-lag:24-activation_full:['elu', 0.2]\",\"filters:[2048]-strides:[5]-kernel_size:[7]-activation:tanh-drop:0.2-depth_multiplier:7-filters2:[1024]-strides2:[2]-kernel_size2:[7]-activation2:['elu', 0.3]-drop2:0.2-depth_multiplier2:8-activation_full:['elu', 0.2]-full:[2048, 1024]-fulldrop:0.5-lag:12-activation_full:['elu', 0.2]\"],\"type\":\"scatter\",\"x\":[],\"y\":[]},{\"marker\":{\"size\":20},\"mode\":\"markers\",\"name\":\"['elu', 0.3]\",\"text\":[\"filters:[512]-strides:[1]-kernel_size:[9]-activation:linear-drop:0.4-depth_multiplier:3-filters2:[2048]-strides2:[3]-kernel_size2:[9]-activation2:relu-drop2:0.3-depth_multiplier2:5-activation_full:['elu', 0.3]-full:[256, 128]-fulldrop:0.2-lag:6-activation_full:['elu', 0.3]\",\"filters:[512]-strides:[2]-kernel_size:[5]-activation:['leaky', 0.2]-drop:0.2-depth_multiplier:1-filters2:[128]-strides2:[3]-kernel_size2:[7]-activation2:relu-drop2:0.6-depth_multiplier2:5-activation_full:['elu', 0.3]-full:[128, 64, 32]-fulldrop:0.5-lag:12-activation_full:['elu', 0.3]\",\"filters:[512]-strides:[5]-kernel_size:[7]-activation:relu-drop:0.5-depth_multiplier:6-filters2:[2048]-strides2:[2]-kernel_size2:[7]-activation2:relu-drop2:0.3-depth_multiplier2:4-activation_full:['elu', 0.3]-full:[2048]-fulldrop:0.1-lag:18-activation_full:['elu', 0.3]\",\"filters:[512]-strides:[4]-kernel_size:[9]-activation:['elu', 0.4]-drop:0.4-depth_multiplier:4-filters2:[512]-strides2:[1]-kernel_size2:[3]-activation2:relu-drop2:0.3-depth_multiplier2:2-activation_full:['elu', 0.3]-full:[256]-fulldrop:0.5-lag:12-activation_full:['elu', 0.3]\",\"filters:[128]-strides:[1]-kernel_size:[9]-activation:['elu', 0.3]-drop:0.6-depth_multiplier:1-filters2:[512]-strides2:[3]-kernel_size2:[1]-activation2:relu-drop2:0.5-depth_multiplier2:2-activation_full:['elu', 0.3]-full:[1024]-fulldrop:0.5-lag:12-activation_full:['elu', 0.3]\",\"filters:[128]-strides:[1]-kernel_size:[9]-activation:['leaky', 0.2]-drop:0.6-depth_multiplier:3-filters2:[128]-strides2:[1]-kernel_size2:[7]-activation2:relu-drop2:0.0-depth_multiplier2:4-activation_full:['elu', 0.3]-full:[128]-fulldrop:0.3-lag:12-activation_full:['elu', 0.3]\",\"filters:[128]-strides:[3]-kernel_size:[7]-activation:['leaky', 0.2]-drop:0.2-depth_multiplier:2-filters2:[2048]-strides2:[5]-kernel_size2:[3]-activation2:relu-drop2:0.1-depth_multiplier2:5-activation_full:['elu', 0.3]-full:[256, 128]-fulldrop:0.4-lag:18-activation_full:['elu', 0.3]\",\"filters:[128]-strides:[3]-kernel_size:[5]-activation:tanh-drop:0.2-depth_multiplier:5-filters2:[1024]-strides2:[4]-kernel_size2:[2]-activation2:['leaky', 0.2]-drop2:0.0-depth_multiplier2:7-activation_full:['elu', 0.3]-full:[1024]-fulldrop:0.4-lag:12-activation_full:['elu', 0.3]\",\"filters:[128]-strides:[5]-kernel_size:[7]-activation:linear-drop:0.6-depth_multiplier:3-filters2:[2048]-strides2:[3]-kernel_size2:[9]-activation2:relu-drop2:0.1-depth_multiplier2:7-activation_full:['elu', 0.3]-full:[512]-fulldrop:0.5-lag:30-activation_full:['elu', 0.3]\",\"filters:[128]-strides:[4]-kernel_size:[9]-activation:linear-drop:0.4-depth_multiplier:6-filters2:[512]-strides2:[5]-kernel_size2:[1]-activation2:relu-drop2:0.2-depth_multiplier2:8-activation_full:['elu', 0.3]-full:[1024]-fulldrop:0.3-lag:24-activation_full:['elu', 0.3]\",\"filters:[1024]-strides:[3]-kernel_size:[9]-activation:relu-drop:0.4-depth_multiplier:1-filters2:[128]-strides2:[1]-kernel_size2:[2]-activation2:relu-drop2:0.2-depth_multiplier2:2-activation_full:['elu', 0.3]-full:[128, 64]-fulldrop:0.4-lag:18-activation_full:['elu', 0.3]\",\"filters:[1024]-strides:[3]-kernel_size:[9]-activation:['elu', 0.4]-drop:0.0-depth_multiplier:1-filters2:[128]-strides2:[2]-kernel_size2:[3]-activation2:relu-drop2:0.3-depth_multiplier2:3-activation_full:['elu', 0.3]-full:[256, 128]-fulldrop:0.3-lag:24-activation_full:['elu', 0.3]\",\"filters:[1024]-strides:[3]-kernel_size:[5]-activation:['leaky', 0.2]-drop:0.5-depth_multiplier:7-filters2:[128]-strides2:[5]-kernel_size2:[3]-activation2:['elu', 0.4]-drop2:0.0-depth_multiplier2:8-activation_full:['elu', 0.3]-full:[64, 32]-fulldrop:0.3-lag:30-activation_full:['elu', 0.3]\",\"filters:[1024]-strides:[2]-kernel_size:[9]-activation:['elu', 0.3]-drop:0.6-depth_multiplier:8-filters2:[2048]-strides2:[4]-kernel_size2:[1]-activation2:['elu', 0.3]-drop2:0.6-depth_multiplier2:7-activation_full:['elu', 0.3]-full:[1024]-fulldrop:0.1-lag:12-activation_full:['elu', 0.3]\",\"filters:[1024]-strides:[2]-kernel_size:[9]-activation:['leaky', 0.2]-drop:0.6-depth_multiplier:8-filters2:[2048]-strides2:[4]-kernel_size2:[1]-activation2:['elu', 0.3]-drop2:0.6-depth_multiplier2:7-activation_full:['elu', 0.3]-full:[1024]-fulldrop:0.1-lag:12-activation_full:['elu', 0.3]\",\"filters:[1024]-strides:[5]-kernel_size:[9]-activation:['elu', 0.3]-drop:0.2-depth_multiplier:7-filters2:[128]-strides2:[4]-kernel_size2:[1]-activation2:relu-drop2:0.6-depth_multiplier2:2-activation_full:['elu', 0.3]-full:[128, 64]-fulldrop:0.0-lag:6-activation_full:['elu', 0.3]\",\"filters:[1024]-strides:[4]-kernel_size:[9]-activation:linear-drop:0.4-depth_multiplier:6-filters2:[256]-strides2:[5]-kernel_size2:[1]-activation2:relu-drop2:0.2-depth_multiplier2:8-activation_full:['elu', 0.3]-full:[64]-fulldrop:0.3-lag:24-activation_full:['elu', 0.3]\",\"filters:[1024]-strides:[4]-kernel_size:[9]-activation:linear-drop:0.4-depth_multiplier:6-filters2:[512]-strides2:[5]-kernel_size2:[1]-activation2:relu-drop2:0.2-depth_multiplier2:8-activation_full:['elu', 0.3]-full:[64]-fulldrop:0.1-lag:24-activation_full:['elu', 0.3]\",\"filters:[256]-strides:[1]-kernel_size:[7]-activation:['elu', 0.2]-drop:0.0-depth_multiplier:6-filters2:[512]-strides2:[5]-kernel_size2:[7]-activation2:relu-drop2:0.1-depth_multiplier2:2-activation_full:['elu', 0.3]-full:[64]-fulldrop:0.2-lag:18-activation_full:['elu', 0.3]\",\"filters:[256]-strides:[3]-kernel_size:[7]-activation:['elu', 0.2]-drop:0.3-depth_multiplier:4-filters2:[128]-strides2:[4]-kernel_size2:[9]-activation2:relu-drop2:0.3-depth_multiplier2:5-activation_full:['elu', 0.3]-full:[64]-fulldrop:0.0-lag:6-activation_full:['elu', 0.3]\",\"filters:[256]-strides:[2]-kernel_size:[9]-activation:linear-drop:0.6-depth_multiplier:8-filters2:[256]-strides2:[4]-kernel_size2:[1]-activation2:relu-drop2:0.6-depth_multiplier2:8-activation_full:['elu', 0.3]-full:[1024]-fulldrop:0.1-lag:12-activation_full:['elu', 0.3]\",\"filters:[256]-strides:[2]-kernel_size:[9]-activation:linear-drop:0.0-depth_multiplier:3-filters2:[64]-strides2:[3]-kernel_size2:[1]-activation2:relu-drop2:0.6-depth_multiplier2:2-activation_full:['elu', 0.3]-full:[128, 64, 32]-fulldrop:0.0-lag:30-activation_full:['elu', 0.3]\",\"filters:[256]-strides:[2]-kernel_size:[9]-activation:['elu', 0.3]-drop:0.5-depth_multiplier:8-filters2:[1024]-strides2:[4]-kernel_size2:[1]-activation2:['elu', 0.3]-drop2:0.6-depth_multiplier2:7-activation_full:['elu', 0.3]-full:[1024]-fulldrop:0.1-lag:12-activation_full:['elu', 0.3]\",\"filters:[256]-strides:[2]-kernel_size:[9]-activation:['leaky', 0.2]-drop:0.5-depth_multiplier:8-filters2:[2048]-strides2:[4]-kernel_size2:[1]-activation2:['elu', 0.3]-drop2:0.6-depth_multiplier2:8-activation_full:['elu', 0.3]-full:[1024]-fulldrop:0.1-lag:12-activation_full:['elu', 0.3]\",\"filters:[256]-strides:[2]-kernel_size:[7]-activation:['leaky', 0.2]-drop:0.3-depth_multiplier:4-filters2:[512]-strides2:[2]-kernel_size2:[5]-activation2:relu-drop2:0.3-depth_multiplier2:5-activation_full:['elu', 0.3]-full:[64]-fulldrop:0.1-lag:12-activation_full:['elu', 0.3]\",\"filters:[256]-strides:[2]-kernel_size:[5]-activation:linear-drop:0.1-depth_multiplier:1-filters2:[256]-strides2:[3]-kernel_size2:[5]-activation2:['elu', 0.4]-drop2:0.2-depth_multiplier2:2-activation_full:['elu', 0.3]-full:[2048, 1024]-fulldrop:0.0-lag:12-activation_full:['elu', 0.3]\",\"filters:[256]-strides:[5]-kernel_size:[5]-activation:['leaky', 0.2]-drop:0.2-depth_multiplier:1-filters2:[2048]-strides2:[2]-kernel_size2:[1]-activation2:relu-drop2:0.5-depth_multiplier2:3-activation_full:['elu', 0.3]-full:[128]-fulldrop:0.2-lag:30-activation_full:['elu', 0.3]\",\"filters:[64]-strides:[1]-kernel_size:[5]-activation:relu-drop:0.0-depth_multiplier:4-filters2:[512]-strides2:[1]-kernel_size2:[2]-activation2:relu-drop2:0.3-depth_multiplier2:8-activation_full:['elu', 0.3]-full:[64]-fulldrop:0.0-lag:30-activation_full:['elu', 0.3]\",\"filters:[64]-strides:[2]-kernel_size:[5]-activation:['elu', 0.4]-drop:0.6-depth_multiplier:1-filters2:[64]-strides2:[5]-kernel_size2:[7]-activation2:['leaky', 0.2]-drop2:0.4-depth_multiplier2:3-activation_full:['elu', 0.3]-full:[256, 128, 64]-fulldrop:0.5-lag:6-activation_full:['elu', 0.3]\",\"filters:[64]-strides:[2]-kernel_size:[5]-activation:['elu', 0.2]-drop:0.6-depth_multiplier:3-filters2:[64]-strides2:[2]-kernel_size2:[2]-activation2:relu-drop2:0.6-depth_multiplier2:1-activation_full:['elu', 0.3]-full:[128]-fulldrop:0.4-lag:24-activation_full:['elu', 0.3]\",\"filters:[64]-strides:[4]-kernel_size:[9]-activation:['elu', 0.2]-drop:0.6-depth_multiplier:1-filters2:[1024]-strides2:[3]-kernel_size2:[3]-activation2:relu-drop2:0.2-depth_multiplier2:2-activation_full:['elu', 0.3]-full:[2048, 1024]-fulldrop:0.0-lag:12-activation_full:['elu', 0.3]\",\"filters:[2048]-strides:[1]-kernel_size:[9]-activation:['leaky', 0.2]-drop:0.5-depth_multiplier:6-filters2:[2048]-strides2:[2]-kernel_size2:[7]-activation2:relu-drop2:0.4-depth_multiplier2:8-activation_full:['elu', 0.3]-full:[512]-fulldrop:0.1-lag:6-activation_full:['elu', 0.3]\",\"filters:[2048]-strides:[1]-kernel_size:[9]-activation:['leaky', 0.2]-drop:0.5-depth_multiplier:6-filters2:[2048]-strides2:[2]-kernel_size2:[3]-activation2:relu-drop2:0.4-depth_multiplier2:8-activation_full:['elu', 0.3]-full:[512]-fulldrop:0.3-lag:6-activation_full:['elu', 0.3]\",\"filters:[2048]-strides:[1]-kernel_size:[7]-activation:['elu', 0.3]-drop:0.4-depth_multiplier:1-filters2:[1024]-strides2:[1]-kernel_size2:[2]-activation2:relu-drop2:0.5-depth_multiplier2:8-activation_full:['elu', 0.3]-full:[1024, 512, 256]-fulldrop:0.2-lag:6-activation_full:['elu', 0.3]\",\"filters:[2048]-strides:[1]-kernel_size:[7]-activation:['elu', 0.4]-drop:0.3-depth_multiplier:2-filters2:[256]-strides2:[3]-kernel_size2:[3]-activation2:relu-drop2:0.2-depth_multiplier2:5-activation_full:['elu', 0.3]-full:[256]-fulldrop:0.1-lag:6-activation_full:['elu', 0.3]\",\"filters:[2048]-strides:[3]-kernel_size:[7]-activation:['elu', 0.3]-drop:0.3-depth_multiplier:6-filters2:[256]-strides2:[5]-kernel_size2:[2]-activation2:['leaky', 0.2]-drop2:0.3-depth_multiplier2:8-activation_full:['elu', 0.3]-full:[4096]-fulldrop:0.4-lag:30-activation_full:['elu', 0.3]\",\"filters:[2048]-strides:[2]-kernel_size:[9]-activation:linear-drop:0.0-depth_multiplier:8-filters2:[1024]-strides2:[5]-kernel_size2:[1]-activation2:relu-drop2:0.4-depth_multiplier2:3-activation_full:['elu', 0.3]-full:[64, 32, 16]-fulldrop:0.5-lag:18-activation_full:['elu', 0.3]\",\"filters:[2048]-strides:[2]-kernel_size:[5]-activation:['leaky', 0.2]-drop:0.1-depth_multiplier:5-filters2:[2048]-strides2:[1]-kernel_size2:[1]-activation2:['leaky', 0.2]-drop2:0.4-depth_multiplier2:6-activation_full:['elu', 0.3]-full:[1024]-fulldrop:0.0-lag:18-activation_full:['elu', 0.3]\",\"filters:[2048]-strides:[5]-kernel_size:[9]-activation:linear-drop:0.2-depth_multiplier:7-filters2:[1024]-strides2:[5]-kernel_size2:[1]-activation2:relu-drop2:0.4-depth_multiplier2:6-activation_full:['elu', 0.3]-full:[64, 32]-fulldrop:0.2-lag:18-activation_full:['elu', 0.3]\",\"filters:[2048]-strides:[4]-kernel_size:[7]-activation:tanh-drop:0.6-depth_multiplier:6-filters2:[256]-strides2:[1]-kernel_size2:[3]-activation2:['elu', 0.3]-drop2:0.4-depth_multiplier2:8-activation_full:['elu', 0.3]-full:[1024]-fulldrop:0.1-lag:12-activation_full:['elu', 0.3]\",\"filters:[2048]-strides:[4]-kernel_size:[7]-activation:['leaky', 0.2]-drop:0.3-depth_multiplier:8-filters2:[2048]-strides2:[1]-kernel_size2:[1]-activation2:['leaky', 0.2]-drop2:0.4-depth_multiplier2:6-activation_full:['elu', 0.3]-full:[4096]-fulldrop:0.3-lag:6-activation_full:['elu', 0.3]\"],\"type\":\"scatter\",\"x\":[7.308436092373183,7.307706747926959,7.310872501467496,7.300183111389194],\"y\":[850,900,900,800]},{\"marker\":{\"size\":20},\"mode\":\"markers\",\"name\":\"['elu', 0.4]\",\"text\":[\"filters:[512]-strides:[1]-kernel_size:[9]-activation:relu-drop:0.2-depth_multiplier:1-filters2:[256]-strides2:[2]-kernel_size2:[5]-activation2:relu-drop2:0.1-depth_multiplier2:5-activation_full:['elu', 0.4]-full:[256]-fulldrop:0.4-lag:24-activation_full:['elu', 0.4]\",\"filters:[512]-strides:[3]-kernel_size:[9]-activation:['elu', 0.3]-drop:0.2-depth_multiplier:8-filters2:[1024]-strides2:[5]-kernel_size2:[7]-activation2:relu-drop2:0.0-depth_multiplier2:5-activation_full:['elu', 0.4]-full:[256, 128]-fulldrop:0.5-lag:18-activation_full:['elu', 0.4]\",\"filters:[512]-strides:[3]-kernel_size:[5]-activation:['elu', 0.3]-drop:0.2-depth_multiplier:5-filters2:[64]-strides2:[1]-kernel_size2:[3]-activation2:relu-drop2:0.2-depth_multiplier2:5-activation_full:['elu', 0.4]-full:[4096]-fulldrop:0.5-lag:30-activation_full:['elu', 0.4]\",\"filters:[512]-strides:[2]-kernel_size:[9]-activation:tanh-drop:0.4-depth_multiplier:7-filters2:[512]-strides2:[2]-kernel_size2:[3]-activation2:relu-drop2:0.2-depth_multiplier2:8-activation_full:['elu', 0.4]-full:[512]-fulldrop:0.0-lag:18-activation_full:['elu', 0.4]\",\"filters:[512]-strides:[2]-kernel_size:[5]-activation:['elu', 0.3]-drop:0.3-depth_multiplier:4-filters2:[64]-strides2:[4]-kernel_size2:[5]-activation2:relu-drop2:0.3-depth_multiplier2:5-activation_full:['elu', 0.4]-full:[64]-fulldrop:0.2-lag:18-activation_full:['elu', 0.4]\",\"filters:[512]-strides:[4]-kernel_size:[9]-activation:['elu', 0.4]-drop:0.2-depth_multiplier:8-filters2:[128]-strides2:[5]-kernel_size2:[2]-activation2:relu-drop2:0.6-depth_multiplier2:6-activation_full:['elu', 0.4]-full:[1024, 512]-fulldrop:0.3-lag:24-activation_full:['elu', 0.4]\",\"filters:[512]-strides:[4]-kernel_size:[9]-activation:['elu', 0.4]-drop:0.4-depth_multiplier:4-filters2:[512]-strides2:[1]-kernel_size2:[3]-activation2:relu-drop2:0.3-depth_multiplier2:2-activation_full:['elu', 0.4]-full:[256]-fulldrop:0.5-lag:12-activation_full:['elu', 0.4]\",\"filters:[512]-strides:[4]-kernel_size:[7]-activation:linear-drop:0.2-depth_multiplier:5-filters2:[128]-strides2:[5]-kernel_size2:[9]-activation2:relu-drop2:0.6-depth_multiplier2:3-activation_full:['elu', 0.4]-full:[64, 32]-fulldrop:0.4-lag:18-activation_full:['elu', 0.4]\",\"filters:[512]-strides:[4]-kernel_size:[5]-activation:['elu', 0.4]-drop:0.0-depth_multiplier:3-filters2:[512]-strides2:[5]-kernel_size2:[9]-activation2:['elu', 0.4]-drop2:0.6-depth_multiplier2:2-activation_full:['elu', 0.4]-full:[4096]-fulldrop:0.4-lag:12-activation_full:['elu', 0.4]\",\"filters:[128]-strides:[1]-kernel_size:[5]-activation:tanh-drop:0.1-depth_multiplier:2-filters2:[2048]-strides2:[4]-kernel_size2:[1]-activation2:relu-drop2:0.2-depth_multiplier2:8-activation_full:['elu', 0.4]-full:[128, 64, 32]-fulldrop:0.4-lag:24-activation_full:['elu', 0.4]\",\"filters:[128]-strides:[3]-kernel_size:[5]-activation:relu-drop:0.1-depth_multiplier:3-filters2:[512]-strides2:[1]-kernel_size2:[1]-activation2:relu-drop2:0.3-depth_multiplier2:3-activation_full:['elu', 0.4]-full:[64, 32]-fulldrop:0.2-lag:30-activation_full:['elu', 0.4]\",\"filters:[128]-strides:[2]-kernel_size:[9]-activation:linear-drop:0.2-depth_multiplier:2-filters2:[64]-strides2:[2]-kernel_size2:[1]-activation2:relu-drop2:0.4-depth_multiplier2:5-activation_full:['elu', 0.4]-full:[4096]-fulldrop:0.4-lag:24-activation_full:['elu', 0.4]\",\"filters:[128]-strides:[2]-kernel_size:[9]-activation:['elu', 0.2]-drop:0.6-depth_multiplier:8-filters2:[2048]-strides2:[4]-kernel_size2:[2]-activation2:relu-drop2:0.6-depth_multiplier2:4-activation_full:['elu', 0.4]-full:[1024]-fulldrop:0.0-lag:6-activation_full:['elu', 0.4]\",\"filters:[128]-strides:[2]-kernel_size:[7]-activation:['leaky', 0.2]-drop:0.4-depth_multiplier:6-filters2:[2048]-strides2:[4]-kernel_size2:[2]-activation2:relu-drop2:0.6-depth_multiplier2:7-activation_full:['elu', 0.4]-full:[1024, 512, 256]-fulldrop:0.5-lag:6-activation_full:['elu', 0.4]\",\"filters:[128]-strides:[2]-kernel_size:[5]-activation:tanh-drop:0.4-depth_multiplier:1-filters2:[1024]-strides2:[5]-kernel_size2:[5]-activation2:relu-drop2:0.3-depth_multiplier2:4-activation_full:['elu', 0.4]-full:[4096]-fulldrop:0.0-lag:30-activation_full:['elu', 0.4]\",\"filters:[128]-strides:[2]-kernel_size:[5]-activation:tanh-drop:0.1-depth_multiplier:7-filters2:[1024]-strides2:[3]-kernel_size2:[1]-activation2:['elu', 0.4]-drop2:0.0-depth_multiplier2:1-activation_full:['elu', 0.4]-full:[64, 32]-fulldrop:0.2-lag:30-activation_full:['elu', 0.4]\",\"filters:[128]-strides:[5]-kernel_size:[7]-activation:['leaky', 0.2]-drop:0.6-depth_multiplier:8-filters2:[128]-strides2:[3]-kernel_size2:[5]-activation2:relu-drop2:0.5-depth_multiplier2:1-activation_full:['elu', 0.4]-full:[512, 256, 128]-fulldrop:0.0-lag:30-activation_full:['elu', 0.4]\",\"filters:[128]-strides:[4]-kernel_size:[7]-activation:['elu', 0.4]-drop:0.3-depth_multiplier:4-filters2:[64]-strides2:[4]-kernel_size2:[7]-activation2:relu-drop2:0.2-depth_multiplier2:7-activation_full:['elu', 0.4]-full:[4096]-fulldrop:0.5-lag:24-activation_full:['elu', 0.4]\",\"filters:[1024]-strides:[3]-kernel_size:[7]-activation:relu-drop:0.0-depth_multiplier:2-filters2:[64]-strides2:[3]-kernel_size2:[3]-activation2:relu-drop2:0.3-depth_multiplier2:2-activation_full:['elu', 0.4]-full:[128, 64]-fulldrop:0.4-lag:24-activation_full:['elu', 0.4]\",\"filters:[1024]-strides:[3]-kernel_size:[5]-activation:linear-drop:0.3-depth_multiplier:5-filters2:[512]-strides2:[4]-kernel_size2:[3]-activation2:relu-drop2:0.6-depth_multiplier2:7-activation_full:['elu', 0.4]-full:[512]-fulldrop:0.3-lag:18-activation_full:['elu', 0.4]\",\"filters:[1024]-strides:[2]-kernel_size:[9]-activation:linear-drop:0.5-depth_multiplier:5-filters2:[2048]-strides2:[2]-kernel_size2:[5]-activation2:['elu', 0.4]-drop2:0.4-depth_multiplier2:5-activation_full:['elu', 0.4]-full:[512, 256]-fulldrop:0.1-lag:6-activation_full:['elu', 0.4]\",\"filters:[1024]-strides:[2]-kernel_size:[9]-activation:['elu', 0.3]-drop:0.6-depth_multiplier:8-filters2:[2048]-strides2:[4]-kernel_size2:[1]-activation2:['elu', 0.3]-drop2:0.6-depth_multiplier2:7-activation_full:['elu', 0.4]-full:[1024]-fulldrop:0.1-lag:12-activation_full:['elu', 0.4]\",\"filters:[1024]-strides:[2]-kernel_size:[9]-activation:['elu', 0.3]-drop:0.6-depth_multiplier:8-filters2:[1024]-strides2:[4]-kernel_size2:[1]-activation2:['elu', 0.3]-drop2:0.6-depth_multiplier2:7-activation_full:['elu', 0.4]-full:[1024]-fulldrop:0.1-lag:12-activation_full:['elu', 0.4]\",\"filters:[1024]-strides:[2]-kernel_size:[9]-activation:['elu', 0.3]-drop:0.6-depth_multiplier:8-filters2:[1024]-strides2:[4]-kernel_size2:[1]-activation2:['elu', 0.3]-drop2:0.6-depth_multiplier2:7-activation_full:['elu', 0.4]-full:[64, 32]-fulldrop:0.1-lag:12-activation_full:['elu', 0.4]\",\"filters:[1024]-strides:[2]-kernel_size:[9]-activation:['leaky', 0.2]-drop:0.4-depth_multiplier:5-filters2:[1024]-strides2:[5]-kernel_size2:[5]-activation2:['elu', 0.4]-drop2:0.4-depth_multiplier2:8-activation_full:['elu', 0.4]-full:[512, 256]-fulldrop:0.1-lag:6-activation_full:['elu', 0.4]\",\"filters:[1024]-strides:[2]-kernel_size:[9]-activation:['leaky', 0.2]-drop:0.6-depth_multiplier:5-filters2:[1024]-strides2:[2]-kernel_size2:[5]-activation2:['elu', 0.4]-drop2:0.4-depth_multiplier2:8-activation_full:['elu', 0.4]-full:[512, 256]-fulldrop:0.1-lag:6-activation_full:['elu', 0.4]\",\"filters:[1024]-strides:[2]-kernel_size:[9]-activation:['leaky', 0.2]-drop:0.6-depth_multiplier:5-filters2:[1024]-strides2:[2]-kernel_size2:[5]-activation2:['elu', 0.4]-drop2:0.4-depth_multiplier2:7-activation_full:['elu', 0.4]-full:[1024]-fulldrop:0.1-lag:6-activation_full:['elu', 0.4]\",\"filters:[1024]-strides:[2]-kernel_size:[9]-activation:['leaky', 0.2]-drop:0.6-depth_multiplier:5-filters2:[1024]-strides2:[2]-kernel_size2:[5]-activation2:['elu', 0.4]-drop2:0.4-depth_multiplier2:7-activation_full:['elu', 0.4]-full:[512, 256]-fulldrop:0.0-lag:6-activation_full:['elu', 0.4]\",\"filters:[1024]-strides:[2]-kernel_size:[9]-activation:['leaky', 0.2]-drop:0.6-depth_multiplier:8-filters2:[2048]-strides2:[2]-kernel_size2:[5]-activation2:['elu', 0.4]-drop2:0.4-depth_multiplier2:5-activation_full:['elu', 0.4]-full:[1024]-fulldrop:0.1-lag:6-activation_full:['elu', 0.4]\",\"filters:[1024]-strides:[2]-kernel_size:[9]-activation:['leaky', 0.2]-drop:0.6-depth_multiplier:8-filters2:[2048]-strides2:[4]-kernel_size2:[1]-activation2:['elu', 0.4]-drop2:0.6-depth_multiplier2:7-activation_full:['elu', 0.4]-full:[256]-fulldrop:0.1-lag:12-activation_full:['elu', 0.4]\",\"filters:[1024]-strides:[2]-kernel_size:[9]-activation:['leaky', 0.2]-drop:0.6-depth_multiplier:8-filters2:[2048]-strides2:[4]-kernel_size2:[1]-activation2:['elu', 0.3]-drop2:0.6-depth_multiplier2:7-activation_full:['elu', 0.4]-full:[1024]-fulldrop:0.1-lag:12-activation_full:['elu', 0.4]\",\"filters:[1024]-strides:[2]-kernel_size:[9]-activation:['leaky', 0.2]-drop:0.6-depth_multiplier:8-filters2:[1024]-strides2:[2]-kernel_size2:[5]-activation2:['elu', 0.4]-drop2:0.3-depth_multiplier2:5-activation_full:['elu', 0.4]-full:[1024]-fulldrop:0.1-lag:6-activation_full:['elu', 0.4]\",\"filters:[1024]-strides:[2]-kernel_size:[9]-activation:['leaky', 0.2]-drop:0.6-depth_multiplier:8-filters2:[1024]-strides2:[4]-kernel_size2:[1]-activation2:['elu', 0.4]-drop2:0.6-depth_multiplier2:7-activation_full:['elu', 0.4]-full:[1024]-fulldrop:0.1-lag:12-activation_full:['elu', 0.4]\",\"filters:[1024]-strides:[2]-kernel_size:[9]-activation:['leaky', 0.2]-drop:0.5-depth_multiplier:5-filters2:[256]-strides2:[2]-kernel_size2:[5]-activation2:['elu', 0.4]-drop2:0.4-depth_multiplier2:5-activation_full:['elu', 0.4]-full:[512, 256]-fulldrop:0.0-lag:6-activation_full:['elu', 0.4]\",\"filters:[1024]-strides:[2]-kernel_size:[9]-activation:['leaky', 0.2]-drop:0.5-depth_multiplier:5-filters2:[1024]-strides2:[2]-kernel_size2:[5]-activation2:['elu', 0.4]-drop2:0.6-depth_multiplier2:5-activation_full:['elu', 0.4]-full:[1024]-fulldrop:0.1-lag:6-activation_full:['elu', 0.4]\",\"filters:[1024]-strides:[2]-kernel_size:[9]-activation:['leaky', 0.2]-drop:0.5-depth_multiplier:5-filters2:[1024]-strides2:[2]-kernel_size2:[5]-activation2:['elu', 0.4]-drop2:0.4-depth_multiplier2:5-activation_full:['elu', 0.4]-full:[512, 256]-fulldrop:0.0-lag:6-activation_full:['elu', 0.4]\",\"filters:[1024]-strides:[2]-kernel_size:[9]-activation:['leaky', 0.2]-drop:0.5-depth_multiplier:5-filters2:[1024]-strides2:[2]-kernel_size2:[5]-activation2:['elu', 0.4]-drop2:0.4-depth_multiplier2:5-activation_full:['elu', 0.4]-full:[512, 256]-fulldrop:0.1-lag:6-activation_full:['elu', 0.4]\",\"filters:[1024]-strides:[2]-kernel_size:[9]-activation:['leaky', 0.2]-drop:0.5-depth_multiplier:5-filters2:[1024]-strides2:[2]-kernel_size2:[5]-activation2:['elu', 0.4]-drop2:0.4-depth_multiplier2:8-activation_full:['elu', 0.4]-full:[512, 256]-fulldrop:0.1-lag:6-activation_full:['elu', 0.4]\",\"filters:[1024]-strides:[2]-kernel_size:[9]-activation:['leaky', 0.2]-drop:0.5-depth_multiplier:5-filters2:[1024]-strides2:[2]-kernel_size2:[3]-activation2:['elu', 0.4]-drop2:0.4-depth_multiplier2:8-activation_full:['elu', 0.4]-full:[1024]-fulldrop:0.1-lag:6-activation_full:['elu', 0.4]\",\"filters:[1024]-strides:[2]-kernel_size:[9]-activation:['leaky', 0.2]-drop:0.5-depth_multiplier:8-filters2:[256]-strides2:[2]-kernel_size2:[5]-activation2:['elu', 0.4]-drop2:0.4-depth_multiplier2:5-activation_full:['elu', 0.4]-full:[1024]-fulldrop:0.0-lag:6-activation_full:['elu', 0.4]\",\"filters:[1024]-strides:[2]-kernel_size:[9]-activation:['leaky', 0.2]-drop:0.5-depth_multiplier:8-filters2:[1024]-strides2:[2]-kernel_size2:[5]-activation2:['elu', 0.4]-drop2:0.4-depth_multiplier2:5-activation_full:['elu', 0.4]-full:[1024]-fulldrop:0.1-lag:6-activation_full:['elu', 0.4]\",\"filters:[1024]-strides:[2]-kernel_size:[9]-activation:['leaky', 0.2]-drop:0.5-depth_multiplier:6-filters2:[2048]-strides2:[2]-kernel_size2:[5]-activation2:['elu', 0.4]-drop2:0.4-depth_multiplier2:5-activation_full:['elu', 0.4]-full:[512, 256]-fulldrop:0.1-lag:6-activation_full:['elu', 0.4]\",\"filters:[1024]-strides:[2]-kernel_size:[9]-activation:['leaky', 0.2]-drop:0.5-depth_multiplier:6-filters2:[1024]-strides2:[2]-kernel_size2:[5]-activation2:['elu', 0.4]-drop2:0.4-depth_multiplier2:8-activation_full:['elu', 0.4]-full:[512, 256]-fulldrop:0.1-lag:6-activation_full:['elu', 0.4]\",\"filters:[1024]-strides:[2]-kernel_size:[7]-activation:['leaky', 0.2]-drop:0.6-depth_multiplier:2-filters2:[128]-strides2:[3]-kernel_size2:[9]-activation2:relu-drop2:0.2-depth_multiplier2:6-activation_full:['elu', 0.4]-full:[64, 32]-fulldrop:0.3-lag:18-activation_full:['elu', 0.4]\",\"filters:[1024]-strides:[2]-kernel_size:[5]-activation:['elu', 0.3]-drop:0.6-depth_multiplier:4-filters2:[512]-strides2:[2]-kernel_size2:[5]-activation2:['elu', 0.4]-drop2:0.6-depth_multiplier2:6-activation_full:['elu', 0.4]-full:[128, 64, 32]-fulldrop:0.5-lag:24-activation_full:['elu', 0.4]\",\"filters:[1024]-strides:[4]-kernel_size:[9]-activation:linear-drop:0.4-depth_multiplier:6-filters2:[512]-strides2:[5]-kernel_size2:[1]-activation2:relu-drop2:0.2-depth_multiplier2:8-activation_full:['elu', 0.4]-full:[64]-fulldrop:0.1-lag:24-activation_full:['elu', 0.4]\",\"filters:[1024]-strides:[4]-kernel_size:[9]-activation:linear-drop:0.5-depth_multiplier:3-filters2:[1024]-strides2:[3]-kernel_size2:[9]-activation2:['elu', 0.4]-drop2:0.4-depth_multiplier2:7-activation_full:['elu', 0.4]-full:[256]-fulldrop:0.5-lag:30-activation_full:['elu', 0.4]\",\"filters:[1024]-strides:[4]-kernel_size:[9]-activation:tanh-drop:0.4-depth_multiplier:6-filters2:[256]-strides2:[5]-kernel_size2:[1]-activation2:relu-drop2:0.2-depth_multiplier2:8-activation_full:['elu', 0.4]-full:[64]-fulldrop:0.3-lag:24-activation_full:['elu', 0.4]\",\"filters:[1024]-strides:[4]-kernel_size:[9]-activation:['leaky', 0.2]-drop:0.5-depth_multiplier:5-filters2:[1024]-strides2:[2]-kernel_size2:[5]-activation2:['elu', 0.4]-drop2:0.4-depth_multiplier2:5-activation_full:['elu', 0.4]-full:[1024]-fulldrop:0.1-lag:6-activation_full:['elu', 0.4]\",\"filters:[256]-strides:[3]-kernel_size:[9]-activation:['leaky', 0.2]-drop:0.6-depth_multiplier:8-filters2:[2048]-strides2:[4]-kernel_size2:[1]-activation2:relu-drop2:0.6-depth_multiplier2:7-activation_full:['elu', 0.4]-full:[1024]-fulldrop:0.1-lag:12-activation_full:['elu', 0.4]\",\"filters:[256]-strides:[2]-kernel_size:[9]-activation:relu-drop:0.6-depth_multiplier:8-filters2:[2048]-strides2:[4]-kernel_size2:[1]-activation2:relu-drop2:0.6-depth_multiplier2:8-activation_full:['elu', 0.4]-full:[1024]-fulldrop:0.0-lag:12-activation_full:['elu', 0.4]\",\"filters:[256]-strides:[2]-kernel_size:[9]-activation:relu-drop:0.6-depth_multiplier:8-filters2:[2048]-strides2:[4]-kernel_size2:[1]-activation2:relu-drop2:0.6-depth_multiplier2:7-activation_full:['elu', 0.4]-full:[1024]-fulldrop:0.1-lag:12-activation_full:['elu', 0.4]\",\"filters:[256]-strides:[2]-kernel_size:[9]-activation:relu-drop:0.1-depth_multiplier:5-filters2:[64]-strides2:[1]-kernel_size2:[9]-activation2:relu-drop2:0.2-depth_multiplier2:4-activation_full:['elu', 0.4]-full:[1024]-fulldrop:0.2-lag:6-activation_full:['elu', 0.4]\",\"filters:[256]-strides:[2]-kernel_size:[9]-activation:linear-drop:0.6-depth_multiplier:8-filters2:[2048]-strides2:[4]-kernel_size2:[1]-activation2:relu-drop2:0.6-depth_multiplier2:8-activation_full:['elu', 0.4]-full:[1024]-fulldrop:0.0-lag:12-activation_full:['elu', 0.4]\",\"filters:[256]-strides:[2]-kernel_size:[9]-activation:['elu', 0.3]-drop:0.6-depth_multiplier:8-filters2:[2048]-strides2:[4]-kernel_size2:[1]-activation2:['elu', 0.4]-drop2:0.6-depth_multiplier2:7-activation_full:['elu', 0.4]-full:[1024]-fulldrop:0.1-lag:12-activation_full:['elu', 0.4]\",\"filters:[256]-strides:[2]-kernel_size:[9]-activation:['elu', 0.3]-drop:0.6-depth_multiplier:8-filters2:[2048]-strides2:[4]-kernel_size2:[1]-activation2:['elu', 0.3]-drop2:0.6-depth_multiplier2:7-activation_full:['elu', 0.4]-full:[1024]-fulldrop:0.1-lag:12-activation_full:['elu', 0.4]\",\"filters:[256]-strides:[2]-kernel_size:[9]-activation:['elu', 0.3]-drop:0.6-depth_multiplier:8-filters2:[1024]-strides2:[4]-kernel_size2:[1]-activation2:['elu', 0.3]-drop2:0.6-depth_multiplier2:7-activation_full:['elu', 0.4]-full:[1024]-fulldrop:0.1-lag:12-activation_full:['elu', 0.4]\",\"filters:[256]-strides:[2]-kernel_size:[9]-activation:['elu', 0.3]-drop:0.5-depth_multiplier:8-filters2:[2048]-strides2:[4]-kernel_size2:[1]-activation2:['elu', 0.4]-drop2:0.6-depth_multiplier2:7-activation_full:['elu', 0.4]-full:[1024]-fulldrop:0.1-lag:12-activation_full:['elu', 0.4]\",\"filters:[256]-strides:[2]-kernel_size:[9]-activation:['elu', 0.3]-drop:0.5-depth_multiplier:8-filters2:[2048]-strides2:[4]-kernel_size2:[1]-activation2:['elu', 0.3]-drop2:0.6-depth_multiplier2:7-activation_full:['elu', 0.4]-full:[4096]-fulldrop:0.1-lag:12-activation_full:['elu', 0.4]\",\"filters:[256]-strides:[2]-kernel_size:[9]-activation:['elu', 0.3]-drop:0.5-depth_multiplier:8-filters2:[2048]-strides2:[4]-kernel_size2:[1]-activation2:['elu', 0.3]-drop2:0.6-depth_multiplier2:7-activation_full:['elu', 0.4]-full:[1024]-fulldrop:0.1-lag:12-activation_full:['elu', 0.4]\",\"filters:[256]-strides:[2]-kernel_size:[9]-activation:['elu', 0.3]-drop:0.5-depth_multiplier:8-filters2:[1024]-strides2:[4]-kernel_size2:[1]-activation2:['elu', 0.3]-drop2:0.6-depth_multiplier2:7-activation_full:['elu', 0.4]-full:[1024]-fulldrop:0.1-lag:12-activation_full:['elu', 0.4]\",\"filters:[256]-strides:[2]-kernel_size:[9]-activation:['leaky', 0.2]-drop:0.3-depth_multiplier:8-filters2:[2048]-strides2:[4]-kernel_size2:[1]-activation2:relu-drop2:0.6-depth_multiplier2:7-activation_full:['elu', 0.4]-full:[1024]-fulldrop:0.1-lag:12-activation_full:['elu', 0.4]\",\"filters:[256]-strides:[2]-kernel_size:[9]-activation:['leaky', 0.2]-drop:0.6-depth_multiplier:8-filters2:[2048]-strides2:[3]-kernel_size2:[1]-activation2:['elu', 0.3]-drop2:0.6-depth_multiplier2:7-activation_full:['elu', 0.4]-full:[1024]-fulldrop:0.0-lag:12-activation_full:['elu', 0.4]\",\"filters:[256]-strides:[2]-kernel_size:[9]-activation:['leaky', 0.2]-drop:0.6-depth_multiplier:8-filters2:[2048]-strides2:[4]-kernel_size2:[1]-activation2:relu-drop2:0.6-depth_multiplier2:6-activation_full:['elu', 0.4]-full:[1024]-fulldrop:0.1-lag:12-activation_full:['elu', 0.4]\",\"filters:[256]-strides:[2]-kernel_size:[9]-activation:['leaky', 0.2]-drop:0.6-depth_multiplier:8-filters2:[2048]-strides2:[4]-kernel_size2:[1]-activation2:relu-drop2:0.6-depth_multiplier2:7-activation_full:['elu', 0.4]-full:[1024]-fulldrop:0.1-lag:12-activation_full:['elu', 0.4]\",\"filters:[256]-strides:[2]-kernel_size:[9]-activation:['leaky', 0.2]-drop:0.6-depth_multiplier:8-filters2:[2048]-strides2:[4]-kernel_size2:[1]-activation2:['elu', 0.4]-drop2:0.6-depth_multiplier2:7-activation_full:['elu', 0.4]-full:[1024]-fulldrop:0.1-lag:12-activation_full:['elu', 0.4]\",\"filters:[256]-strides:[2]-kernel_size:[9]-activation:['leaky', 0.2]-drop:0.6-depth_multiplier:8-filters2:[2048]-strides2:[4]-kernel_size2:[1]-activation2:['elu', 0.3]-drop2:0.6-depth_multiplier2:2-activation_full:['elu', 0.4]-full:[1024]-fulldrop:0.1-lag:12-activation_full:['elu', 0.4]\",\"filters:[256]-strides:[2]-kernel_size:[9]-activation:['leaky', 0.2]-drop:0.6-depth_multiplier:8-filters2:[2048]-strides2:[4]-kernel_size2:[1]-activation2:['elu', 0.3]-drop2:0.6-depth_multiplier2:7-activation_full:['elu', 0.4]-full:[256]-fulldrop:0.1-lag:12-activation_full:['elu', 0.4]\",\"filters:[256]-strides:[2]-kernel_size:[9]-activation:['leaky', 0.2]-drop:0.6-depth_multiplier:8-filters2:[2048]-strides2:[4]-kernel_size2:[1]-activation2:['elu', 0.3]-drop2:0.6-depth_multiplier2:7-activation_full:['elu', 0.4]-full:[1024]-fulldrop:0.1-lag:12-activation_full:['elu', 0.4]\",\"filters:[256]-strides:[2]-kernel_size:[9]-activation:['leaky', 0.2]-drop:0.6-depth_multiplier:8-filters2:[1024]-strides2:[4]-kernel_size2:[1]-activation2:relu-drop2:0.6-depth_multiplier2:8-activation_full:['elu', 0.4]-full:[1024]-fulldrop:0.2-lag:12-activation_full:['elu', 0.4]\",\"filters:[256]-strides:[2]-kernel_size:[9]-activation:['leaky', 0.2]-drop:0.6-depth_multiplier:8-filters2:[1024]-strides2:[4]-kernel_size2:[1]-activation2:['elu', 0.4]-drop2:0.6-depth_multiplier2:7-activation_full:['elu', 0.4]-full:[1024]-fulldrop:0.1-lag:12-activation_full:['elu', 0.4]\",\"filters:[256]-strides:[2]-kernel_size:[9]-activation:['leaky', 0.2]-drop:0.6-depth_multiplier:8-filters2:[1024]-strides2:[4]-kernel_size2:[1]-activation2:['elu', 0.3]-drop2:0.6-depth_multiplier2:7-activation_full:['elu', 0.4]-full:[1024]-fulldrop:0.1-lag:12-activation_full:['elu', 0.4]\",\"filters:[256]-strides:[2]-kernel_size:[9]-activation:['leaky', 0.2]-drop:0.6-depth_multiplier:7-filters2:[2048]-strides2:[4]-kernel_size2:[1]-activation2:['elu', 0.3]-drop2:0.6-depth_multiplier2:7-activation_full:['elu', 0.4]-full:[1024]-fulldrop:0.1-lag:12-activation_full:['elu', 0.4]\",\"filters:[256]-strides:[2]-kernel_size:[9]-activation:['leaky', 0.2]-drop:0.5-depth_multiplier:8-filters2:[2048]-strides2:[4]-kernel_size2:[1]-activation2:['elu', 0.3]-drop2:0.6-depth_multiplier2:7-activation_full:['elu', 0.4]-full:[1024]-fulldrop:0.1-lag:12-activation_full:['elu', 0.4]\",\"filters:[256]-strides:[2]-kernel_size:[9]-activation:['leaky', 0.2]-drop:0.5-depth_multiplier:8-filters2:[1024]-strides2:[4]-kernel_size2:[1]-activation2:['elu', 0.3]-drop2:0.6-depth_multiplier2:7-activation_full:['elu', 0.4]-full:[4096]-fulldrop:0.1-lag:12-activation_full:['elu', 0.4]\",\"filters:[256]-strides:[2]-kernel_size:[7]-activation:['elu', 0.3]-drop:0.4-depth_multiplier:7-filters2:[64]-strides2:[3]-kernel_size2:[2]-activation2:['elu', 0.3]-drop2:0.4-depth_multiplier2:7-activation_full:['elu', 0.4]-full:[128]-fulldrop:0.2-lag:18-activation_full:['elu', 0.4]\",\"filters:[256]-strides:[4]-kernel_size:[5]-activation:linear-drop:0.6-depth_multiplier:2-filters2:[128]-strides2:[2]-kernel_size2:[7]-activation2:relu-drop2:0.5-depth_multiplier2:2-activation_full:['elu', 0.4]-full:[1024, 512, 256]-fulldrop:0.2-lag:30-activation_full:['elu', 0.4]\",\"filters:[64]-strides:[1]-kernel_size:[9]-activation:['elu', 0.4]-drop:0.5-depth_multiplier:4-filters2:[256]-strides2:[2]-kernel_size2:[9]-activation2:relu-drop2:0.1-depth_multiplier2:2-activation_full:['elu', 0.4]-full:[256, 128]-fulldrop:0.0-lag:30-activation_full:['elu', 0.4]\",\"filters:[64]-strides:[2]-kernel_size:[9]-activation:tanh-drop:0.4-depth_multiplier:3-filters2:[512]-strides2:[3]-kernel_size2:[3]-activation2:relu-drop2:0.2-depth_multiplier2:5-activation_full:['elu', 0.4]-full:[64]-fulldrop:0.0-lag:12-activation_full:['elu', 0.4]\",\"filters:[64]-strides:[2]-kernel_size:[9]-activation:tanh-drop:0.4-depth_multiplier:7-filters2:[512]-strides2:[3]-kernel_size2:[3]-activation2:relu-drop2:0.2-depth_multiplier2:5-activation_full:['elu', 0.4]-full:[64]-fulldrop:0.0-lag:18-activation_full:['elu', 0.4]\",\"filters:[64]-strides:[2]-kernel_size:[9]-activation:tanh-drop:0.4-depth_multiplier:7-filters2:[512]-strides2:[3]-kernel_size2:[3]-activation2:relu-drop2:0.2-depth_multiplier2:5-activation_full:['elu', 0.4]-full:[512]-fulldrop:0.0-lag:18-activation_full:['elu', 0.4]\",\"filters:[64]-strides:[2]-kernel_size:[9]-activation:tanh-drop:0.4-depth_multiplier:7-filters2:[512]-strides2:[3]-kernel_size2:[3]-activation2:relu-drop2:0.2-depth_multiplier2:8-activation_full:['elu', 0.4]-full:[512]-fulldrop:0.0-lag:6-activation_full:['elu', 0.4]\",\"filters:[2048]-strides:[1]-kernel_size:[5]-activation:tanh-drop:0.4-depth_multiplier:6-filters2:[64]-strides2:[4]-kernel_size2:[9]-activation2:['elu', 0.3]-drop2:0.3-depth_multiplier2:5-activation_full:['elu', 0.4]-full:[1024, 512, 256]-fulldrop:0.4-lag:24-activation_full:['elu', 0.4]\",\"filters:[2048]-strides:[2]-kernel_size:[9]-activation:['elu', 0.3]-drop:0.6-depth_multiplier:8-filters2:[2048]-strides2:[4]-kernel_size2:[1]-activation2:['elu', 0.3]-drop2:0.6-depth_multiplier2:7-activation_full:['elu', 0.4]-full:[1024]-fulldrop:0.1-lag:12-activation_full:['elu', 0.4]\",\"filters:[2048]-strides:[2]-kernel_size:[9]-activation:['elu', 0.3]-drop:0.6-depth_multiplier:7-filters2:[256]-strides2:[5]-kernel_size2:[2]-activation2:relu-drop2:0.3-depth_multiplier2:3-activation_full:['elu', 0.4]-full:[4096]-fulldrop:0.5-lag:30-activation_full:['elu', 0.4]\",\"filters:[2048]-strides:[2]-kernel_size:[9]-activation:['elu', 0.3]-drop:0.5-depth_multiplier:8-filters2:[2048]-strides2:[4]-kernel_size2:[1]-activation2:['elu', 0.3]-drop2:0.6-depth_multiplier2:7-activation_full:['elu', 0.4]-full:[1024]-fulldrop:0.1-lag:12-activation_full:['elu', 0.4]\",\"filters:[2048]-strides:[2]-kernel_size:[9]-activation:['leaky', 0.2]-drop:0.6-depth_multiplier:8-filters2:[1024]-strides2:[4]-kernel_size2:[1]-activation2:['elu', 0.4]-drop2:0.6-depth_multiplier2:7-activation_full:['elu', 0.4]-full:[1024]-fulldrop:0.1-lag:12-activation_full:['elu', 0.4]\",\"filters:[2048]-strides:[2]-kernel_size:[9]-activation:['leaky', 0.2]-drop:0.5-depth_multiplier:5-filters2:[1024]-strides2:[2]-kernel_size2:[5]-activation2:['elu', 0.4]-drop2:0.4-depth_multiplier2:5-activation_full:['elu', 0.4]-full:[512, 256]-fulldrop:0.1-lag:6-activation_full:['elu', 0.4]\",\"filters:[2048]-strides:[2]-kernel_size:[9]-activation:['leaky', 0.2]-drop:0.5-depth_multiplier:8-filters2:[2048]-strides2:[4]-kernel_size2:[1]-activation2:['elu', 0.3]-drop2:0.6-depth_multiplier2:7-activation_full:['elu', 0.4]-full:[1024]-fulldrop:0.1-lag:12-activation_full:['elu', 0.4]\",\"filters:[2048]-strides:[2]-kernel_size:[9]-activation:['leaky', 0.2]-drop:0.5-depth_multiplier:6-filters2:[1024]-strides2:[2]-kernel_size2:[5]-activation2:['elu', 0.4]-drop2:0.4-depth_multiplier2:5-activation_full:['elu', 0.4]-full:[512, 256]-fulldrop:0.1-lag:6-activation_full:['elu', 0.4]\",\"filters:[2048]-strides:[2]-kernel_size:[7]-activation:['elu', 0.3]-drop:0.3-depth_multiplier:5-filters2:[1024]-strides2:[2]-kernel_size2:[5]-activation2:relu-drop2:0.1-depth_multiplier2:3-activation_full:['elu', 0.4]-full:[256]-fulldrop:0.0-lag:18-activation_full:['elu', 0.4]\",\"filters:[2048]-strides:[4]-kernel_size:[5]-activation:tanh-drop:0.2-depth_multiplier:5-filters2:[256]-strides2:[5]-kernel_size2:[7]-activation2:relu-drop2:0.3-depth_multiplier2:5-activation_full:['elu', 0.4]-full:[512]-fulldrop:0.3-lag:12-activation_full:['elu', 0.4]\",\"filters:[2048]-strides:[4]-kernel_size:[5]-activation:tanh-drop:0.2-depth_multiplier:5-filters2:[256]-strides2:[5]-kernel_size2:[3]-activation2:relu-drop2:0.3-depth_multiplier2:5-activation_full:['elu', 0.4]-full:[512]-fulldrop:0.3-lag:12-activation_full:['elu', 0.4]\"],\"type\":\"scatter\",\"x\":[7.319569559051765,7.32198910815238,7.317431996615892,7.319725416143146,7.3212773422088855,7.306217147307741,7.309357162837682,7.3097178957578555,7.3086168566317244,7.3054898328334215,7.310065592060872,7.307170558506494],\"y\":[950,939,950,950,950,850,900,900,850,850,900,850]},{\"marker\":{\"size\":20},\"mode\":\"markers\",\"name\":\"['leaky', 0.2]\",\"text\":[\"filters:[512]-strides:[1]-kernel_size:[7]-activation:tanh-drop:0.3-depth_multiplier:5-filters2:[2048]-strides2:[5]-kernel_size2:[7]-activation2:relu-drop2:0.3-depth_multiplier2:5-activation_full:['leaky', 0.2]-full:[2048]-fulldrop:0.2-lag:6-activation_full:['leaky', 0.2]\",\"filters:[512]-strides:[2]-kernel_size:[9]-activation:linear-drop:0.4-depth_multiplier:8-filters2:[2048]-strides2:[4]-kernel_size2:[1]-activation2:relu-drop2:0.6-depth_multiplier2:4-activation_full:['leaky', 0.2]-full:[1024]-fulldrop:0.0-lag:12-activation_full:['leaky', 0.2]\",\"filters:[512]-strides:[2]-kernel_size:[9]-activation:linear-drop:0.6-depth_multiplier:5-filters2:[2048]-strides2:[5]-kernel_size2:[1]-activation2:relu-drop2:0.6-depth_multiplier2:2-activation_full:['leaky', 0.2]-full:[1024]-fulldrop:0.0-lag:12-activation_full:['leaky', 0.2]\",\"filters:[512]-strides:[2]-kernel_size:[9]-activation:linear-drop:0.6-depth_multiplier:8-filters2:[2048]-strides2:[4]-kernel_size2:[1]-activation2:relu-drop2:0.6-depth_multiplier2:4-activation_full:['leaky', 0.2]-full:[1024]-fulldrop:0.0-lag:18-activation_full:['leaky', 0.2]\",\"filters:[512]-strides:[2]-kernel_size:[9]-activation:linear-drop:0.6-depth_multiplier:8-filters2:[2048]-strides2:[4]-kernel_size2:[1]-activation2:relu-drop2:0.6-depth_multiplier2:8-activation_full:['leaky', 0.2]-full:[256]-fulldrop:0.0-lag:12-activation_full:['leaky', 0.2]\",\"filters:[512]-strides:[2]-kernel_size:[9]-activation:linear-drop:0.6-depth_multiplier:8-filters2:[2048]-strides2:[4]-kernel_size2:[2]-activation2:relu-drop2:0.6-depth_multiplier2:3-activation_full:['leaky', 0.2]-full:[1024]-fulldrop:0.0-lag:12-activation_full:['leaky', 0.2]\",\"filters:[512]-strides:[2]-kernel_size:[9]-activation:tanh-drop:0.3-depth_multiplier:7-filters2:[128]-strides2:[3]-kernel_size2:[1]-activation2:relu-drop2:0.2-depth_multiplier2:6-activation_full:['leaky', 0.2]-full:[256, 128]-fulldrop:0.1-lag:6-activation_full:['leaky', 0.2]\",\"filters:[512]-strides:[2]-kernel_size:[9]-activation:tanh-drop:0.3-depth_multiplier:7-filters2:[128]-strides2:[3]-kernel_size2:[1]-activation2:relu-drop2:0.2-depth_multiplier2:6-activation_full:['leaky', 0.2]-full:[64]-fulldrop:0.1-lag:18-activation_full:['leaky', 0.2]\",\"filters:[512]-strides:[2]-kernel_size:[5]-activation:['elu', 0.4]-drop:0.6-depth_multiplier:2-filters2:[512]-strides2:[3]-kernel_size2:[9]-activation2:['elu', 0.4]-drop2:0.2-depth_multiplier2:5-activation_full:['leaky', 0.2]-full:[128, 64, 32]-fulldrop:0.2-lag:18-activation_full:['leaky', 0.2]\",\"filters:[128]-strides:[1]-kernel_size:[9]-activation:['leaky', 0.2]-drop:0.4-depth_multiplier:2-filters2:[128]-strides2:[3]-kernel_size2:[5]-activation2:relu-drop2:0.2-depth_multiplier2:2-activation_full:['leaky', 0.2]-full:[4096]-fulldrop:0.0-lag:18-activation_full:['leaky', 0.2]\",\"filters:[128]-strides:[1]-kernel_size:[5]-activation:tanh-drop:0.6-depth_multiplier:6-filters2:[512]-strides2:[4]-kernel_size2:[7]-activation2:relu-drop2:0.5-depth_multiplier2:2-activation_full:['leaky', 0.2]-full:[2048, 1024]-fulldrop:0.1-lag:6-activation_full:['leaky', 0.2]\",\"filters:[128]-strides:[3]-kernel_size:[9]-activation:linear-drop:0.6-depth_multiplier:8-filters2:[2048]-strides2:[4]-kernel_size2:[2]-activation2:relu-drop2:0.6-depth_multiplier2:4-activation_full:['leaky', 0.2]-full:[1024]-fulldrop:0.0-lag:12-activation_full:['leaky', 0.2]\",\"filters:[128]-strides:[3]-kernel_size:[9]-activation:tanh-drop:0.4-depth_multiplier:7-filters2:[256]-strides2:[5]-kernel_size2:[5]-activation2:relu-drop2:0.0-depth_multiplier2:8-activation_full:['leaky', 0.2]-full:[128]-fulldrop:0.5-lag:30-activation_full:['leaky', 0.2]\",\"filters:[128]-strides:[3]-kernel_size:[9]-activation:['elu', 0.3]-drop:0.1-depth_multiplier:2-filters2:[512]-strides2:[2]-kernel_size2:[5]-activation2:['leaky', 0.2]-drop2:0.0-depth_multiplier2:3-activation_full:['leaky', 0.2]-full:[128, 64, 32]-fulldrop:0.3-lag:12-activation_full:['leaky', 0.2]\",\"filters:[128]-strides:[2]-kernel_size:[9]-activation:linear-drop:0.4-depth_multiplier:8-filters2:[1024]-strides2:[4]-kernel_size2:[2]-activation2:relu-drop2:0.6-depth_multiplier2:4-activation_full:['leaky', 0.2]-full:[256]-fulldrop:0.0-lag:12-activation_full:['leaky', 0.2]\",\"filters:[128]-strides:[2]-kernel_size:[9]-activation:linear-drop:0.3-depth_multiplier:8-filters2:[1024]-strides2:[4]-kernel_size2:[2]-activation2:relu-drop2:0.6-depth_multiplier2:4-activation_full:['leaky', 0.2]-full:[1024]-fulldrop:0.0-lag:12-activation_full:['leaky', 0.2]\",\"filters:[128]-strides:[2]-kernel_size:[9]-activation:linear-drop:0.6-depth_multiplier:8-filters2:[2048]-strides2:[3]-kernel_size2:[2]-activation2:relu-drop2:0.6-depth_multiplier2:4-activation_full:['leaky', 0.2]-full:[1024]-fulldrop:0.0-lag:12-activation_full:['leaky', 0.2]\",\"filters:[128]-strides:[2]-kernel_size:[9]-activation:linear-drop:0.6-depth_multiplier:8-filters2:[2048]-strides2:[4]-kernel_size2:[2]-activation2:relu-drop2:0.6-depth_multiplier2:4-activation_full:['leaky', 0.2]-full:[256]-fulldrop:0.0-lag:12-activation_full:['leaky', 0.2]\",\"filters:[128]-strides:[2]-kernel_size:[9]-activation:linear-drop:0.6-depth_multiplier:8-filters2:[2048]-strides2:[4]-kernel_size2:[2]-activation2:relu-drop2:0.6-depth_multiplier2:4-activation_full:['leaky', 0.2]-full:[2048]-fulldrop:0.0-lag:12-activation_full:['leaky', 0.2]\",\"filters:[128]-strides:[2]-kernel_size:[9]-activation:linear-drop:0.6-depth_multiplier:8-filters2:[2048]-strides2:[4]-kernel_size2:[2]-activation2:relu-drop2:0.6-depth_multiplier2:4-activation_full:['leaky', 0.2]-full:[1024]-fulldrop:0.0-lag:12-activation_full:['leaky', 0.2]\",\"filters:[128]-strides:[2]-kernel_size:[9]-activation:linear-drop:0.6-depth_multiplier:8-filters2:[2048]-strides2:[4]-kernel_size2:[2]-activation2:['elu', 0.3]-drop2:0.6-depth_multiplier2:4-activation_full:['leaky', 0.2]-full:[1024]-fulldrop:0.0-lag:12-activation_full:['leaky', 0.2]\",\"filters:[128]-strides:[2]-kernel_size:[9]-activation:linear-drop:0.6-depth_multiplier:8-filters2:[1024]-strides2:[4]-kernel_size2:[1]-activation2:relu-drop2:0.6-depth_multiplier2:8-activation_full:['leaky', 0.2]-full:[1024]-fulldrop:0.0-lag:12-activation_full:['leaky', 0.2]\",\"filters:[128]-strides:[2]-kernel_size:[9]-activation:linear-drop:0.6-depth_multiplier:8-filters2:[1024]-strides2:[4]-kernel_size2:[2]-activation2:['elu', 0.3]-drop2:0.6-depth_multiplier2:4-activation_full:['leaky', 0.2]-full:[1024]-fulldrop:0.0-lag:12-activation_full:['leaky', 0.2]\",\"filters:[128]-strides:[4]-kernel_size:[7]-activation:linear-drop:0.1-depth_multiplier:1-filters2:[512]-strides2:[3]-kernel_size2:[1]-activation2:['elu', 0.4]-drop2:0.5-depth_multiplier2:8-activation_full:['leaky', 0.2]-full:[64, 32]-fulldrop:0.2-lag:24-activation_full:['leaky', 0.2]\",\"filters:[1024]-strides:[1]-kernel_size:[9]-activation:['elu', 0.3]-drop:0.4-depth_multiplier:4-filters2:[1024]-strides2:[4]-kernel_size2:[5]-activation2:relu-drop2:0.4-depth_multiplier2:2-activation_full:['leaky', 0.2]-full:[1024]-fulldrop:0.2-lag:18-activation_full:['leaky', 0.2]\",\"filters:[1024]-strides:[1]-kernel_size:[7]-activation:['elu', 0.3]-drop:0.4-depth_multiplier:4-filters2:[128]-strides2:[3]-kernel_size2:[7]-activation2:relu-drop2:0.3-depth_multiplier2:2-activation_full:['leaky', 0.2]-full:[128, 64]-fulldrop:0.5-lag:30-activation_full:['leaky', 0.2]\",\"filters:[1024]-strides:[3]-kernel_size:[5]-activation:linear-drop:0.3-depth_multiplier:5-filters2:[512]-strides2:[4]-kernel_size2:[3]-activation2:relu-drop2:0.6-depth_multiplier2:7-activation_full:['leaky', 0.2]-full:[512]-fulldrop:0.3-lag:18-activation_full:['leaky', 0.2]\",\"filters:[1024]-strides:[3]-kernel_size:[5]-activation:['elu', 0.3]-drop:0.5-depth_multiplier:3-filters2:[256]-strides2:[3]-kernel_size2:[5]-activation2:relu-drop2:0.2-depth_multiplier2:2-activation_full:['leaky', 0.2]-full:[512]-fulldrop:0.0-lag:6-activation_full:['leaky', 0.2]\",\"filters:[1024]-strides:[2]-kernel_size:[9]-activation:linear-drop:0.6-depth_multiplier:8-filters2:[2048]-strides2:[4]-kernel_size2:[1]-activation2:relu-drop2:0.6-depth_multiplier2:5-activation_full:['leaky', 0.2]-full:[1024]-fulldrop:0.0-lag:18-activation_full:['leaky', 0.2]\",\"filters:[1024]-strides:[2]-kernel_size:[9]-activation:linear-drop:0.6-depth_multiplier:8-filters2:[2048]-strides2:[4]-kernel_size2:[1]-activation2:relu-drop2:0.6-depth_multiplier2:5-activation_full:['leaky', 0.2]-full:[1024]-fulldrop:0.1-lag:18-activation_full:['leaky', 0.2]\",\"filters:[1024]-strides:[2]-kernel_size:[9]-activation:tanh-drop:0.6-depth_multiplier:8-filters2:[2048]-strides2:[4]-kernel_size2:[1]-activation2:relu-drop2:0.6-depth_multiplier2:5-activation_full:['leaky', 0.2]-full:[1024]-fulldrop:0.0-lag:12-activation_full:['leaky', 0.2]\",\"filters:[1024]-strides:[2]-kernel_size:[9]-activation:['elu', 0.2]-drop:0.0-depth_multiplier:2-filters2:[2048]-strides2:[3]-kernel_size2:[9]-activation2:relu-drop2:0.6-depth_multiplier2:6-activation_full:['leaky', 0.2]-full:[128, 64]-fulldrop:0.2-lag:6-activation_full:['leaky', 0.2]\",\"filters:[1024]-strides:[2]-kernel_size:[7]-activation:linear-drop:0.2-depth_multiplier:3-filters2:[256]-strides2:[5]-kernel_size2:[9]-activation2:relu-drop2:0.3-depth_multiplier2:6-activation_full:['leaky', 0.2]-full:[512]-fulldrop:0.3-lag:18-activation_full:['leaky', 0.2]\",\"filters:[1024]-strides:[4]-kernel_size:[9]-activation:linear-drop:0.4-depth_multiplier:6-filters2:[256]-strides2:[5]-kernel_size2:[9]-activation2:relu-drop2:0.2-depth_multiplier2:8-activation_full:['leaky', 0.2]-full:[64]-fulldrop:0.3-lag:6-activation_full:['leaky', 0.2]\",\"filters:[1024]-strides:[4]-kernel_size:[9]-activation:linear-drop:0.4-depth_multiplier:6-filters2:[256]-strides2:[5]-kernel_size2:[1]-activation2:relu-drop2:0.2-depth_multiplier2:8-activation_full:['leaky', 0.2]-full:[64]-fulldrop:0.3-lag:24-activation_full:['leaky', 0.2]\",\"filters:[1024]-strides:[4]-kernel_size:[9]-activation:linear-drop:0.4-depth_multiplier:6-filters2:[512]-strides2:[5]-kernel_size2:[1]-activation2:relu-drop2:0.2-depth_multiplier2:8-activation_full:['leaky', 0.2]-full:[64]-fulldrop:0.1-lag:24-activation_full:['leaky', 0.2]\",\"filters:[1024]-strides:[4]-kernel_size:[9]-activation:['leaky', 0.2]-drop:0.2-depth_multiplier:6-filters2:[128]-strides2:[5]-kernel_size2:[9]-activation2:relu-drop2:0.0-depth_multiplier2:7-activation_full:['leaky', 0.2]-full:[1024]-fulldrop:0.5-lag:12-activation_full:['leaky', 0.2]\",\"filters:[1024]-strides:[4]-kernel_size:[9]-activation:['elu', 0.4]-drop:0.4-depth_multiplier:6-filters2:[256]-strides2:[5]-kernel_size2:[1]-activation2:relu-drop2:0.2-depth_multiplier2:8-activation_full:['leaky', 0.2]-full:[64]-fulldrop:0.3-lag:24-activation_full:['leaky', 0.2]\",\"filters:[1024]-strides:[4]-kernel_size:[5]-activation:['elu', 0.4]-drop:0.3-depth_multiplier:1-filters2:[2048]-strides2:[5]-kernel_size2:[2]-activation2:relu-drop2:0.5-depth_multiplier2:4-activation_full:['leaky', 0.2]-full:[256, 128, 64]-fulldrop:0.0-lag:18-activation_full:['leaky', 0.2]\",\"filters:[256]-strides:[1]-kernel_size:[9]-activation:linear-drop:0.6-depth_multiplier:8-filters2:[2048]-strides2:[4]-kernel_size2:[1]-activation2:relu-drop2:0.6-depth_multiplier2:8-activation_full:['leaky', 0.2]-full:[1024]-fulldrop:0.0-lag:12-activation_full:['leaky', 0.2]\",\"filters:[256]-strides:[1]-kernel_size:[7]-activation:linear-drop:0.3-depth_multiplier:7-filters2:[256]-strides2:[5]-kernel_size2:[3]-activation2:relu-drop2:0.5-depth_multiplier2:3-activation_full:['leaky', 0.2]-full:[64]-fulldrop:0.3-lag:12-activation_full:['leaky', 0.2]\",\"filters:[256]-strides:[1]-kernel_size:[7]-activation:['elu', 0.2]-drop:0.3-depth_multiplier:7-filters2:[256]-strides2:[5]-kernel_size2:[3]-activation2:relu-drop2:0.5-depth_multiplier2:2-activation_full:['leaky', 0.2]-full:[256]-fulldrop:0.3-lag:12-activation_full:['leaky', 0.2]\",\"filters:[256]-strides:[1]-kernel_size:[5]-activation:['elu', 0.3]-drop:0.6-depth_multiplier:8-filters2:[64]-strides2:[5]-kernel_size2:[3]-activation2:relu-drop2:0.4-depth_multiplier2:1-activation_full:['leaky', 0.2]-full:[2048, 1024]-fulldrop:0.2-lag:12-activation_full:['leaky', 0.2]\",\"filters:[256]-strides:[3]-kernel_size:[9]-activation:linear-drop:0.6-depth_multiplier:8-filters2:[2048]-strides2:[4]-kernel_size2:[1]-activation2:relu-drop2:0.6-depth_multiplier2:8-activation_full:['leaky', 0.2]-full:[1024]-fulldrop:0.0-lag:12-activation_full:['leaky', 0.2]\",\"filters:[256]-strides:[3]-kernel_size:[9]-activation:linear-drop:0.6-depth_multiplier:8-filters2:[2048]-strides2:[4]-kernel_size2:[1]-activation2:relu-drop2:0.6-depth_multiplier2:7-activation_full:['leaky', 0.2]-full:[1024]-fulldrop:0.0-lag:12-activation_full:['leaky', 0.2]\",\"filters:[256]-strides:[3]-kernel_size:[9]-activation:['elu', 0.2]-drop:0.2-depth_multiplier:7-filters2:[1024]-strides2:[3]-kernel_size2:[7]-activation2:relu-drop2:0.2-depth_multiplier2:4-activation_full:['leaky', 0.2]-full:[128]-fulldrop:0.1-lag:12-activation_full:['leaky', 0.2]\",\"filters:[256]-strides:[2]-kernel_size:[9]-activation:relu-drop:0.6-depth_multiplier:8-filters2:[2048]-strides2:[4]-kernel_size2:[2]-activation2:relu-drop2:0.6-depth_multiplier2:4-activation_full:['leaky', 0.2]-full:[1024]-fulldrop:0.0-lag:12-activation_full:['leaky', 0.2]\",\"filters:[256]-strides:[2]-kernel_size:[9]-activation:linear-drop:0.4-depth_multiplier:5-filters2:[2048]-strides2:[5]-kernel_size2:[1]-activation2:relu-drop2:0.6-depth_multiplier2:2-activation_full:['leaky', 0.2]-full:[1024]-fulldrop:0.0-lag:18-activation_full:['leaky', 0.2]\",\"filters:[256]-strides:[2]-kernel_size:[9]-activation:linear-drop:0.4-depth_multiplier:8-filters2:[2048]-strides2:[4]-kernel_size2:[1]-activation2:relu-drop2:0.6-depth_multiplier2:8-activation_full:['leaky', 0.2]-full:[256]-fulldrop:0.0-lag:12-activation_full:['leaky', 0.2]\",\"filters:[256]-strides:[2]-kernel_size:[9]-activation:linear-drop:0.4-depth_multiplier:8-filters2:[2048]-strides2:[4]-kernel_size2:[1]-activation2:relu-drop2:0.6-depth_multiplier2:8-activation_full:['leaky', 0.2]-full:[1024]-fulldrop:0.0-lag:12-activation_full:['leaky', 0.2]\",\"filters:[256]-strides:[2]-kernel_size:[9]-activation:linear-drop:0.4-depth_multiplier:8-filters2:[2048]-strides2:[4]-kernel_size2:[2]-activation2:relu-drop2:0.6-depth_multiplier2:8-activation_full:['leaky', 0.2]-full:[1024]-fulldrop:0.0-lag:12-activation_full:['leaky', 0.2]\",\"filters:[256]-strides:[2]-kernel_size:[9]-activation:linear-drop:0.3-depth_multiplier:8-filters2:[2048]-strides2:[4]-kernel_size2:[2]-activation2:relu-drop2:0.6-depth_multiplier2:4-activation_full:['leaky', 0.2]-full:[1024]-fulldrop:0.0-lag:12-activation_full:['leaky', 0.2]\",\"filters:[256]-strides:[2]-kernel_size:[9]-activation:linear-drop:0.3-depth_multiplier:8-filters2:[2048]-strides2:[4]-kernel_size2:[2]-activation2:relu-drop2:0.6-depth_multiplier2:4-activation_full:['leaky', 0.2]-full:[1024]-fulldrop:0.1-lag:12-activation_full:['leaky', 0.2]\",\"filters:[256]-strides:[2]-kernel_size:[9]-activation:linear-drop:0.3-depth_multiplier:8-filters2:[2048]-strides2:[4]-kernel_size2:[2]-activation2:relu-drop2:0.6-depth_multiplier2:7-activation_full:['leaky', 0.2]-full:[1024]-fulldrop:0.0-lag:12-activation_full:['leaky', 0.2]\",\"filters:[256]-strides:[2]-kernel_size:[9]-activation:linear-drop:0.6-depth_multiplier:5-filters2:[2048]-strides2:[5]-kernel_size2:[1]-activation2:relu-drop2:0.6-depth_multiplier2:2-activation_full:['leaky', 0.2]-full:[1024]-fulldrop:0.0-lag:18-activation_full:['leaky', 0.2]\",\"filters:[256]-strides:[2]-kernel_size:[9]-activation:linear-drop:0.6-depth_multiplier:5-filters2:[2048]-strides2:[4]-kernel_size2:[1]-activation2:relu-drop2:0.6-depth_multiplier2:2-activation_full:['leaky', 0.2]-full:[1024]-fulldrop:0.0-lag:18-activation_full:['leaky', 0.2]\",\"filters:[256]-strides:[2]-kernel_size:[9]-activation:linear-drop:0.6-depth_multiplier:5-filters2:[2048]-strides2:[4]-kernel_size2:[1]-activation2:relu-drop2:0.6-depth_multiplier2:8-activation_full:['leaky', 0.2]-full:[1024]-fulldrop:0.0-lag:6-activation_full:['leaky', 0.2]\",\"filters:[256]-strides:[2]-kernel_size:[9]-activation:linear-drop:0.6-depth_multiplier:5-filters2:[2048]-strides2:[4]-kernel_size2:[2]-activation2:relu-drop2:0.6-depth_multiplier2:7-activation_full:['leaky', 0.2]-full:[1024]-fulldrop:0.0-lag:12-activation_full:['leaky', 0.2]\",\"filters:[256]-strides:[2]-kernel_size:[9]-activation:linear-drop:0.6-depth_multiplier:8-filters2:[256]-strides2:[4]-kernel_size2:[1]-activation2:relu-drop2:0.6-depth_multiplier2:8-activation_full:['leaky', 0.2]-full:[1024]-fulldrop:0.0-lag:6-activation_full:['leaky', 0.2]\",\"filters:[256]-strides:[2]-kernel_size:[9]-activation:linear-drop:0.6-depth_multiplier:8-filters2:[2048]-strides2:[3]-kernel_size2:[1]-activation2:relu-drop2:0.6-depth_multiplier2:8-activation_full:['leaky', 0.2]-full:[1024]-fulldrop:0.0-lag:12-activation_full:['leaky', 0.2]\",\"filters:[256]-strides:[2]-kernel_size:[9]-activation:linear-drop:0.6-depth_multiplier:8-filters2:[2048]-strides2:[3]-kernel_size2:[2]-activation2:relu-drop2:0.6-depth_multiplier2:4-activation_full:['leaky', 0.2]-full:[1024]-fulldrop:0.0-lag:12-activation_full:['leaky', 0.2]\",\"filters:[256]-strides:[2]-kernel_size:[9]-activation:linear-drop:0.6-depth_multiplier:8-filters2:[2048]-strides2:[4]-kernel_size2:[1]-activation2:relu-drop2:0.6-depth_multiplier2:5-activation_full:['leaky', 0.2]-full:[1024]-fulldrop:0.0-lag:18-activation_full:['leaky', 0.2]\",\"filters:[256]-strides:[2]-kernel_size:[9]-activation:linear-drop:0.6-depth_multiplier:8-filters2:[2048]-strides2:[4]-kernel_size2:[1]-activation2:relu-drop2:0.6-depth_multiplier2:4-activation_full:['leaky', 0.2]-full:[1024]-fulldrop:0.0-lag:18-activation_full:['leaky', 0.2]\",\"filters:[256]-strides:[2]-kernel_size:[9]-activation:linear-drop:0.6-depth_multiplier:8-filters2:[2048]-strides2:[4]-kernel_size2:[1]-activation2:relu-drop2:0.6-depth_multiplier2:8-activation_full:['leaky', 0.2]-full:[256]-fulldrop:0.0-lag:12-activation_full:['leaky', 0.2]\",\"filters:[256]-strides:[2]-kernel_size:[9]-activation:linear-drop:0.6-depth_multiplier:8-filters2:[2048]-strides2:[4]-kernel_size2:[1]-activation2:relu-drop2:0.6-depth_multiplier2:8-activation_full:['leaky', 0.2]-full:[1024]-fulldrop:0.0-lag:12-activation_full:['leaky', 0.2]\",\"filters:[256]-strides:[2]-kernel_size:[9]-activation:linear-drop:0.6-depth_multiplier:8-filters2:[2048]-strides2:[4]-kernel_size2:[1]-activation2:relu-drop2:0.6-depth_multiplier2:8-activation_full:['leaky', 0.2]-full:[512]-fulldrop:0.0-lag:12-activation_full:['leaky', 0.2]\",\"filters:[256]-strides:[2]-kernel_size:[9]-activation:linear-drop:0.6-depth_multiplier:8-filters2:[2048]-strides2:[4]-kernel_size2:[1]-activation2:['elu', 0.3]-drop2:0.6-depth_multiplier2:8-activation_full:['leaky', 0.2]-full:[1024]-fulldrop:0.0-lag:12-activation_full:['leaky', 0.2]\",\"filters:[256]-strides:[2]-kernel_size:[9]-activation:linear-drop:0.6-depth_multiplier:8-filters2:[2048]-strides2:[4]-kernel_size2:[2]-activation2:relu-drop2:0.6-depth_multiplier2:4-activation_full:['leaky', 0.2]-full:[1024]-fulldrop:0.0-lag:12-activation_full:['leaky', 0.2]\",\"filters:[256]-strides:[2]-kernel_size:[9]-activation:linear-drop:0.6-depth_multiplier:8-filters2:[2048]-strides2:[4]-kernel_size2:[2]-activation2:['elu', 0.3]-drop2:0.6-depth_multiplier2:4-activation_full:['leaky', 0.2]-full:[1024]-fulldrop:0.0-lag:12-activation_full:['leaky', 0.2]\",\"filters:[256]-strides:[2]-kernel_size:[9]-activation:linear-drop:0.6-depth_multiplier:8-filters2:[1024]-strides2:[4]-kernel_size2:[2]-activation2:relu-drop2:0.6-depth_multiplier2:4-activation_full:['leaky', 0.2]-full:[2048]-fulldrop:0.0-lag:12-activation_full:['leaky', 0.2]\",\"filters:[256]-strides:[2]-kernel_size:[9]-activation:linear-drop:0.5-depth_multiplier:8-filters2:[2048]-strides2:[4]-kernel_size2:[1]-activation2:relu-drop2:0.6-depth_multiplier2:5-activation_full:['leaky', 0.2]-full:[1024]-fulldrop:0.0-lag:18-activation_full:['leaky', 0.2]\",\"filters:[256]-strides:[2]-kernel_size:[9]-activation:linear-drop:0.5-depth_multiplier:8-filters2:[2048]-strides2:[4]-kernel_size2:[1]-activation2:relu-drop2:0.6-depth_multiplier2:8-activation_full:['leaky', 0.2]-full:[1024]-fulldrop:0.0-lag:12-activation_full:['leaky', 0.2]\",\"filters:[256]-strides:[2]-kernel_size:[9]-activation:linear-drop:0.5-depth_multiplier:8-filters2:[2048]-strides2:[4]-kernel_size2:[1]-activation2:relu-drop2:0.6-depth_multiplier2:8-activation_full:['leaky', 0.2]-full:[1024]-fulldrop:0.1-lag:12-activation_full:['leaky', 0.2]\",\"filters:[256]-strides:[2]-kernel_size:[9]-activation:linear-drop:0.5-depth_multiplier:8-filters2:[2048]-strides2:[4]-kernel_size2:[1]-activation2:['elu', 0.4]-drop2:0.6-depth_multiplier2:8-activation_full:['leaky', 0.2]-full:[1024]-fulldrop:0.1-lag:12-activation_full:['leaky', 0.2]\",\"filters:[256]-strides:[2]-kernel_size:[9]-activation:['elu', 0.3]-drop:0.6-depth_multiplier:8-filters2:[2048]-strides2:[4]-kernel_size2:[1]-activation2:['elu', 0.3]-drop2:0.6-depth_multiplier2:7-activation_full:['leaky', 0.2]-full:[1024]-fulldrop:0.1-lag:12-activation_full:['leaky', 0.2]\",\"filters:[256]-strides:[2]-kernel_size:[9]-activation:['leaky', 0.2]-drop:0.6-depth_multiplier:8-filters2:[2048]-strides2:[4]-kernel_size2:[1]-activation2:relu-drop2:0.6-depth_multiplier2:8-activation_full:['leaky', 0.2]-full:[256]-fulldrop:0.0-lag:12-activation_full:['leaky', 0.2]\",\"filters:[256]-strides:[2]-kernel_size:[9]-activation:['leaky', 0.2]-drop:0.6-depth_multiplier:8-filters2:[2048]-strides2:[4]-kernel_size2:[1]-activation2:['elu', 0.3]-drop2:0.6-depth_multiplier2:7-activation_full:['leaky', 0.2]-full:[1024]-fulldrop:0.1-lag:12-activation_full:['leaky', 0.2]\",\"filters:[256]-strides:[2]-kernel_size:[9]-activation:['leaky', 0.2]-drop:0.5-depth_multiplier:8-filters2:[2048]-strides2:[4]-kernel_size2:[1]-activation2:relu-drop2:0.6-depth_multiplier2:8-activation_full:['leaky', 0.2]-full:[1024]-fulldrop:0.0-lag:12-activation_full:['leaky', 0.2]\",\"filters:[256]-strides:[2]-kernel_size:[9]-activation:['leaky', 0.2]-drop:0.5-depth_multiplier:8-filters2:[2048]-strides2:[4]-kernel_size2:[1]-activation2:['elu', 0.3]-drop2:0.6-depth_multiplier2:7-activation_full:['leaky', 0.2]-full:[1024]-fulldrop:0.1-lag:12-activation_full:['leaky', 0.2]\",\"filters:[256]-strides:[2]-kernel_size:[9]-activation:['elu', 0.2]-drop:0.6-depth_multiplier:8-filters2:[2048]-strides2:[4]-kernel_size2:[2]-activation2:['elu', 0.3]-drop2:0.6-depth_multiplier2:4-activation_full:['leaky', 0.2]-full:[1024]-fulldrop:0.0-lag:12-activation_full:['leaky', 0.2]\",\"filters:[256]-strides:[5]-kernel_size:[5]-activation:['elu', 0.4]-drop:0.4-depth_multiplier:5-filters2:[2048]-strides2:[3]-kernel_size2:[1]-activation2:relu-drop2:0.4-depth_multiplier2:1-activation_full:['leaky', 0.2]-full:[128, 64]-fulldrop:0.3-lag:30-activation_full:['leaky', 0.2]\",\"filters:[256]-strides:[4]-kernel_size:[7]-activation:['elu', 0.2]-drop:0.6-depth_multiplier:7-filters2:[256]-strides2:[5]-kernel_size2:[3]-activation2:relu-drop2:0.5-depth_multiplier2:2-activation_full:['leaky', 0.2]-full:[256]-fulldrop:0.3-lag:12-activation_full:['leaky', 0.2]\",\"filters:[64]-strides:[1]-kernel_size:[5]-activation:relu-drop:0.3-depth_multiplier:4-filters2:[128]-strides2:[1]-kernel_size2:[3]-activation2:relu-drop2:0.1-depth_multiplier2:6-activation_full:['leaky', 0.2]-full:[256, 128]-fulldrop:0.2-lag:12-activation_full:['leaky', 0.2]\",\"filters:[64]-strides:[4]-kernel_size:[5]-activation:['elu', 0.2]-drop:0.0-depth_multiplier:1-filters2:[64]-strides2:[2]-kernel_size2:[9]-activation2:relu-drop2:0.0-depth_multiplier2:4-activation_full:['leaky', 0.2]-full:[4096]-fulldrop:0.3-lag:30-activation_full:['leaky', 0.2]\",\"filters:[2048]-strides:[1]-kernel_size:[7]-activation:['elu', 0.3]-drop:0.1-depth_multiplier:6-filters2:[64]-strides2:[1]-kernel_size2:[9]-activation2:relu-drop2:0.6-depth_multiplier2:2-activation_full:['leaky', 0.2]-full:[1024]-fulldrop:0.3-lag:30-activation_full:['leaky', 0.2]\",\"filters:[2048]-strides:[2]-kernel_size:[7]-activation:['leaky', 0.2]-drop:0.0-depth_multiplier:8-filters2:[128]-strides2:[4]-kernel_size2:[1]-activation2:relu-drop2:0.3-depth_multiplier2:4-activation_full:['leaky', 0.2]-full:[4096]-fulldrop:0.4-lag:18-activation_full:['leaky', 0.2]\"],\"type\":\"scatter\",\"x\":[],\"y\":[]},{\"marker\":{\"size\":20},\"mode\":\"markers\",\"name\":\"tanh\",\"text\":[\"filters:[512]-strides:[5]-kernel_size:[5]-activation:['leaky', 0.2]-drop:0.2-depth_multiplier:4-filters2:[512]-strides2:[3]-kernel_size2:[9]-activation2:relu-drop2:0.1-depth_multiplier2:7-activation_full:tanh-full:[64]-fulldrop:0.0-lag:12-activation_full:tanh\",\"filters:[512]-strides:[5]-kernel_size:[5]-activation:['leaky', 0.2]-drop:0.2-depth_multiplier:6-filters2:[512]-strides2:[5]-kernel_size2:[3]-activation2:relu-drop2:0.1-depth_multiplier2:7-activation_full:tanh-full:[64]-fulldrop:0.0-lag:12-activation_full:tanh\",\"filters:[128]-strides:[1]-kernel_size:[7]-activation:['elu', 0.3]-drop:0.6-depth_multiplier:5-filters2:[512]-strides2:[2]-kernel_size2:[2]-activation2:['elu', 0.4]-drop2:0.4-depth_multiplier2:1-activation_full:tanh-full:[256, 128]-fulldrop:0.5-lag:6-activation_full:tanh\",\"filters:[128]-strides:[1]-kernel_size:[5]-activation:linear-drop:0.3-depth_multiplier:7-filters2:[2048]-strides2:[2]-kernel_size2:[5]-activation2:relu-drop2:0.3-depth_multiplier2:6-activation_full:tanh-full:[64, 32]-fulldrop:0.1-lag:6-activation_full:tanh\",\"filters:[128]-strides:[1]-kernel_size:[5]-activation:tanh-drop:0.2-depth_multiplier:1-filters2:[64]-strides2:[4]-kernel_size2:[9]-activation2:relu-drop2:0.0-depth_multiplier2:8-activation_full:tanh-full:[512, 256]-fulldrop:0.4-lag:30-activation_full:tanh\",\"filters:[128]-strides:[1]-kernel_size:[5]-activation:['leaky', 0.2]-drop:0.6-depth_multiplier:2-filters2:[1024]-strides2:[3]-kernel_size2:[9]-activation2:relu-drop2:0.0-depth_multiplier2:3-activation_full:tanh-full:[512, 256, 128]-fulldrop:0.4-lag:18-activation_full:tanh\",\"filters:[128]-strides:[3]-kernel_size:[9]-activation:tanh-drop:0.6-depth_multiplier:5-filters2:[256]-strides2:[5]-kernel_size2:[5]-activation2:relu-drop2:0.3-depth_multiplier2:3-activation_full:tanh-full:[256]-fulldrop:0.3-lag:6-activation_full:tanh\",\"filters:[128]-strides:[2]-kernel_size:[9]-activation:['elu', 0.2]-drop:0.5-depth_multiplier:1-filters2:[256]-strides2:[2]-kernel_size2:[1]-activation2:relu-drop2:0.3-depth_multiplier2:7-activation_full:tanh-full:[128, 64]-fulldrop:0.0-lag:24-activation_full:tanh\",\"filters:[128]-strides:[5]-kernel_size:[5]-activation:linear-drop:0.3-depth_multiplier:1-filters2:[1024]-strides2:[4]-kernel_size2:[9]-activation2:relu-drop2:0.4-depth_multiplier2:5-activation_full:tanh-full:[256, 128, 64]-fulldrop:0.1-lag:24-activation_full:tanh\",\"filters:[128]-strides:[5]-kernel_size:[5]-activation:linear-drop:0.5-depth_multiplier:3-filters2:[1024]-strides2:[3]-kernel_size2:[3]-activation2:relu-drop2:0.1-depth_multiplier2:3-activation_full:tanh-full:[512, 256, 128]-fulldrop:0.1-lag:18-activation_full:tanh\",\"filters:[128]-strides:[4]-kernel_size:[9]-activation:linear-drop:0.4-depth_multiplier:6-filters2:[128]-strides2:[5]-kernel_size2:[1]-activation2:relu-drop2:0.2-depth_multiplier2:8-activation_full:tanh-full:[64]-fulldrop:0.3-lag:24-activation_full:tanh\",\"filters:[1024]-strides:[1]-kernel_size:[9]-activation:['leaky', 0.2]-drop:0.1-depth_multiplier:7-filters2:[256]-strides2:[3]-kernel_size2:[1]-activation2:relu-drop2:0.0-depth_multiplier2:1-activation_full:tanh-full:[128, 64]-fulldrop:0.3-lag:12-activation_full:tanh\",\"filters:[1024]-strides:[3]-kernel_size:[5]-activation:linear-drop:0.3-depth_multiplier:5-filters2:[512]-strides2:[4]-kernel_size2:[9]-activation2:relu-drop2:0.6-depth_multiplier2:7-activation_full:tanh-full:[512]-fulldrop:0.3-lag:18-activation_full:tanh\",\"filters:[1024]-strides:[2]-kernel_size:[9]-activation:tanh-drop:0.4-depth_multiplier:2-filters2:[512]-strides2:[2]-kernel_size2:[9]-activation2:['leaky', 0.2]-drop2:0.2-depth_multiplier2:3-activation_full:tanh-full:[64, 32]-fulldrop:0.0-lag:24-activation_full:tanh\",\"filters:[1024]-strides:[4]-kernel_size:[9]-activation:linear-drop:0.4-depth_multiplier:6-filters2:[256]-strides2:[5]-kernel_size2:[1]-activation2:relu-drop2:0.2-depth_multiplier2:8-activation_full:tanh-full:[64]-fulldrop:0.3-lag:24-activation_full:tanh\",\"filters:[1024]-strides:[4]-kernel_size:[9]-activation:linear-drop:0.4-depth_multiplier:6-filters2:[256]-strides2:[5]-kernel_size2:[1]-activation2:relu-drop2:0.2-depth_multiplier2:3-activation_full:tanh-full:[64]-fulldrop:0.3-lag:24-activation_full:tanh\",\"filters:[256]-strides:[2]-kernel_size:[9]-activation:relu-drop:0.3-depth_multiplier:2-filters2:[128]-strides2:[4]-kernel_size2:[2]-activation2:relu-drop2:0.5-depth_multiplier2:4-activation_full:tanh-full:[64, 32]-fulldrop:0.5-lag:18-activation_full:tanh\",\"filters:[256]-strides:[2]-kernel_size:[5]-activation:relu-drop:0.1-depth_multiplier:3-filters2:[1024]-strides2:[2]-kernel_size2:[5]-activation2:['elu', 0.3]-drop2:0.5-depth_multiplier2:4-activation_full:tanh-full:[1024, 512, 256]-fulldrop:0.3-lag:6-activation_full:tanh\",\"filters:[256]-strides:[5]-kernel_size:[5]-activation:['elu', 0.3]-drop:0.5-depth_multiplier:2-filters2:[512]-strides2:[5]-kernel_size2:[7]-activation2:['elu', 0.3]-drop2:0.1-depth_multiplier2:7-activation_full:tanh-full:[4096]-fulldrop:0.0-lag:6-activation_full:tanh\",\"filters:[256]-strides:[4]-kernel_size:[9]-activation:tanh-drop:0.1-depth_multiplier:6-filters2:[512]-strides2:[5]-kernel_size2:[3]-activation2:relu-drop2:0.6-depth_multiplier2:7-activation_full:tanh-full:[64]-fulldrop:0.3-lag:6-activation_full:tanh\",\"filters:[256]-strides:[4]-kernel_size:[9]-activation:['elu', 0.2]-drop:0.3-depth_multiplier:8-filters2:[256]-strides2:[1]-kernel_size2:[7]-activation2:relu-drop2:0.0-depth_multiplier2:8-activation_full:tanh-full:[128]-fulldrop:0.2-lag:6-activation_full:tanh\",\"filters:[256]-strides:[4]-kernel_size:[9]-activation:['elu', 0.2]-drop:0.3-depth_multiplier:8-filters2:[256]-strides2:[4]-kernel_size2:[3]-activation2:relu-drop2:0.0-depth_multiplier2:8-activation_full:tanh-full:[128]-fulldrop:0.2-lag:6-activation_full:tanh\",\"filters:[64]-strides:[2]-kernel_size:[7]-activation:['elu', 0.3]-drop:0.4-depth_multiplier:3-filters2:[512]-strides2:[1]-kernel_size2:[3]-activation2:relu-drop2:0.5-depth_multiplier2:5-activation_full:tanh-full:[64]-fulldrop:0.1-lag:6-activation_full:tanh\",\"filters:[64]-strides:[2]-kernel_size:[5]-activation:['elu', 0.2]-drop:0.3-depth_multiplier:3-filters2:[64]-strides2:[3]-kernel_size2:[7]-activation2:['elu', 0.3]-drop2:0.6-depth_multiplier2:3-activation_full:tanh-full:[512, 256, 128]-fulldrop:0.3-lag:30-activation_full:tanh\",\"filters:[2048]-strides:[1]-kernel_size:[9]-activation:['elu', 0.4]-drop:0.6-depth_multiplier:8-filters2:[512]-strides2:[4]-kernel_size2:[1]-activation2:relu-drop2:0.2-depth_multiplier2:7-activation_full:tanh-full:[256, 128, 64]-fulldrop:0.4-lag:24-activation_full:tanh\",\"filters:[2048]-strides:[2]-kernel_size:[9]-activation:['elu', 0.4]-drop:0.2-depth_multiplier:8-filters2:[512]-strides2:[4]-kernel_size2:[1]-activation2:relu-drop2:0.0-depth_multiplier2:8-activation_full:tanh-full:[64, 32, 16]-fulldrop:0.4-lag:30-activation_full:tanh\",\"filters:[2048]-strides:[2]-kernel_size:[7]-activation:['elu', 0.4]-drop:0.0-depth_multiplier:5-filters2:[1024]-strides2:[1]-kernel_size2:[1]-activation2:relu-drop2:0.6-depth_multiplier2:2-activation_full:tanh-full:[64, 32, 16]-fulldrop:0.2-lag:12-activation_full:tanh\"],\"type\":\"scatter\",\"x\":[],\"y\":[]}],                        {\"template\":{\"data\":{\"bar\":[{\"error_x\":{\"color\":\"#2a3f5f\"},\"error_y\":{\"color\":\"#2a3f5f\"},\"marker\":{\"line\":{\"color\":\"#E5ECF6\",\"width\":0.5},\"pattern\":{\"fillmode\":\"overlay\",\"size\":10,\"solidity\":0.2}},\"type\":\"bar\"}],\"barpolar\":[{\"marker\":{\"line\":{\"color\":\"#E5ECF6\",\"width\":0.5},\"pattern\":{\"fillmode\":\"overlay\",\"size\":10,\"solidity\":0.2}},\"type\":\"barpolar\"}],\"carpet\":[{\"aaxis\":{\"endlinecolor\":\"#2a3f5f\",\"gridcolor\":\"white\",\"linecolor\":\"white\",\"minorgridcolor\":\"white\",\"startlinecolor\":\"#2a3f5f\"},\"baxis\":{\"endlinecolor\":\"#2a3f5f\",\"gridcolor\":\"white\",\"linecolor\":\"white\",\"minorgridcolor\":\"white\",\"startlinecolor\":\"#2a3f5f\"},\"type\":\"carpet\"}],\"choropleth\":[{\"colorbar\":{\"outlinewidth\":0,\"ticks\":\"\"},\"type\":\"choropleth\"}],\"contour\":[{\"colorbar\":{\"outlinewidth\":0,\"ticks\":\"\"},\"colorscale\":[[0.0,\"#0d0887\"],[0.1111111111111111,\"#46039f\"],[0.2222222222222222,\"#7201a8\"],[0.3333333333333333,\"#9c179e\"],[0.4444444444444444,\"#bd3786\"],[0.5555555555555556,\"#d8576b\"],[0.6666666666666666,\"#ed7953\"],[0.7777777777777778,\"#fb9f3a\"],[0.8888888888888888,\"#fdca26\"],[1.0,\"#f0f921\"]],\"type\":\"contour\"}],\"contourcarpet\":[{\"colorbar\":{\"outlinewidth\":0,\"ticks\":\"\"},\"type\":\"contourcarpet\"}],\"heatmap\":[{\"colorbar\":{\"outlinewidth\":0,\"ticks\":\"\"},\"colorscale\":[[0.0,\"#0d0887\"],[0.1111111111111111,\"#46039f\"],[0.2222222222222222,\"#7201a8\"],[0.3333333333333333,\"#9c179e\"],[0.4444444444444444,\"#bd3786\"],[0.5555555555555556,\"#d8576b\"],[0.6666666666666666,\"#ed7953\"],[0.7777777777777778,\"#fb9f3a\"],[0.8888888888888888,\"#fdca26\"],[1.0,\"#f0f921\"]],\"type\":\"heatmap\"}],\"heatmapgl\":[{\"colorbar\":{\"outlinewidth\":0,\"ticks\":\"\"},\"colorscale\":[[0.0,\"#0d0887\"],[0.1111111111111111,\"#46039f\"],[0.2222222222222222,\"#7201a8\"],[0.3333333333333333,\"#9c179e\"],[0.4444444444444444,\"#bd3786\"],[0.5555555555555556,\"#d8576b\"],[0.6666666666666666,\"#ed7953\"],[0.7777777777777778,\"#fb9f3a\"],[0.8888888888888888,\"#fdca26\"],[1.0,\"#f0f921\"]],\"type\":\"heatmapgl\"}],\"histogram\":[{\"marker\":{\"pattern\":{\"fillmode\":\"overlay\",\"size\":10,\"solidity\":0.2}},\"type\":\"histogram\"}],\"histogram2d\":[{\"colorbar\":{\"outlinewidth\":0,\"ticks\":\"\"},\"colorscale\":[[0.0,\"#0d0887\"],[0.1111111111111111,\"#46039f\"],[0.2222222222222222,\"#7201a8\"],[0.3333333333333333,\"#9c179e\"],[0.4444444444444444,\"#bd3786\"],[0.5555555555555556,\"#d8576b\"],[0.6666666666666666,\"#ed7953\"],[0.7777777777777778,\"#fb9f3a\"],[0.8888888888888888,\"#fdca26\"],[1.0,\"#f0f921\"]],\"type\":\"histogram2d\"}],\"histogram2dcontour\":[{\"colorbar\":{\"outlinewidth\":0,\"ticks\":\"\"},\"colorscale\":[[0.0,\"#0d0887\"],[0.1111111111111111,\"#46039f\"],[0.2222222222222222,\"#7201a8\"],[0.3333333333333333,\"#9c179e\"],[0.4444444444444444,\"#bd3786\"],[0.5555555555555556,\"#d8576b\"],[0.6666666666666666,\"#ed7953\"],[0.7777777777777778,\"#fb9f3a\"],[0.8888888888888888,\"#fdca26\"],[1.0,\"#f0f921\"]],\"type\":\"histogram2dcontour\"}],\"mesh3d\":[{\"colorbar\":{\"outlinewidth\":0,\"ticks\":\"\"},\"type\":\"mesh3d\"}],\"parcoords\":[{\"line\":{\"colorbar\":{\"outlinewidth\":0,\"ticks\":\"\"}},\"type\":\"parcoords\"}],\"pie\":[{\"automargin\":true,\"type\":\"pie\"}],\"scatter\":[{\"marker\":{\"colorbar\":{\"outlinewidth\":0,\"ticks\":\"\"}},\"type\":\"scatter\"}],\"scatter3d\":[{\"line\":{\"colorbar\":{\"outlinewidth\":0,\"ticks\":\"\"}},\"marker\":{\"colorbar\":{\"outlinewidth\":0,\"ticks\":\"\"}},\"type\":\"scatter3d\"}],\"scattercarpet\":[{\"marker\":{\"colorbar\":{\"outlinewidth\":0,\"ticks\":\"\"}},\"type\":\"scattercarpet\"}],\"scattergeo\":[{\"marker\":{\"colorbar\":{\"outlinewidth\":0,\"ticks\":\"\"}},\"type\":\"scattergeo\"}],\"scattergl\":[{\"marker\":{\"colorbar\":{\"outlinewidth\":0,\"ticks\":\"\"}},\"type\":\"scattergl\"}],\"scattermapbox\":[{\"marker\":{\"colorbar\":{\"outlinewidth\":0,\"ticks\":\"\"}},\"type\":\"scattermapbox\"}],\"scatterpolar\":[{\"marker\":{\"colorbar\":{\"outlinewidth\":0,\"ticks\":\"\"}},\"type\":\"scatterpolar\"}],\"scatterpolargl\":[{\"marker\":{\"colorbar\":{\"outlinewidth\":0,\"ticks\":\"\"}},\"type\":\"scatterpolargl\"}],\"scatterternary\":[{\"marker\":{\"colorbar\":{\"outlinewidth\":0,\"ticks\":\"\"}},\"type\":\"scatterternary\"}],\"surface\":[{\"colorbar\":{\"outlinewidth\":0,\"ticks\":\"\"},\"colorscale\":[[0.0,\"#0d0887\"],[0.1111111111111111,\"#46039f\"],[0.2222222222222222,\"#7201a8\"],[0.3333333333333333,\"#9c179e\"],[0.4444444444444444,\"#bd3786\"],[0.5555555555555556,\"#d8576b\"],[0.6666666666666666,\"#ed7953\"],[0.7777777777777778,\"#fb9f3a\"],[0.8888888888888888,\"#fdca26\"],[1.0,\"#f0f921\"]],\"type\":\"surface\"}],\"table\":[{\"cells\":{\"fill\":{\"color\":\"#EBF0F8\"},\"line\":{\"color\":\"white\"}},\"header\":{\"fill\":{\"color\":\"#C8D4E3\"},\"line\":{\"color\":\"white\"}},\"type\":\"table\"}]},\"layout\":{\"annotationdefaults\":{\"arrowcolor\":\"#2a3f5f\",\"arrowhead\":0,\"arrowwidth\":1},\"autotypenumbers\":\"strict\",\"coloraxis\":{\"colorbar\":{\"outlinewidth\":0,\"ticks\":\"\"}},\"colorscale\":{\"diverging\":[[0,\"#8e0152\"],[0.1,\"#c51b7d\"],[0.2,\"#de77ae\"],[0.3,\"#f1b6da\"],[0.4,\"#fde0ef\"],[0.5,\"#f7f7f7\"],[0.6,\"#e6f5d0\"],[0.7,\"#b8e186\"],[0.8,\"#7fbc41\"],[0.9,\"#4d9221\"],[1,\"#276419\"]],\"sequential\":[[0.0,\"#0d0887\"],[0.1111111111111111,\"#46039f\"],[0.2222222222222222,\"#7201a8\"],[0.3333333333333333,\"#9c179e\"],[0.4444444444444444,\"#bd3786\"],[0.5555555555555556,\"#d8576b\"],[0.6666666666666666,\"#ed7953\"],[0.7777777777777778,\"#fb9f3a\"],[0.8888888888888888,\"#fdca26\"],[1.0,\"#f0f921\"]],\"sequentialminus\":[[0.0,\"#0d0887\"],[0.1111111111111111,\"#46039f\"],[0.2222222222222222,\"#7201a8\"],[0.3333333333333333,\"#9c179e\"],[0.4444444444444444,\"#bd3786\"],[0.5555555555555556,\"#d8576b\"],[0.6666666666666666,\"#ed7953\"],[0.7777777777777778,\"#fb9f3a\"],[0.8888888888888888,\"#fdca26\"],[1.0,\"#f0f921\"]]},\"colorway\":[\"#636efa\",\"#EF553B\",\"#00cc96\",\"#ab63fa\",\"#FFA15A\",\"#19d3f3\",\"#FF6692\",\"#B6E880\",\"#FF97FF\",\"#FECB52\"],\"font\":{\"color\":\"#2a3f5f\"},\"geo\":{\"bgcolor\":\"white\",\"lakecolor\":\"white\",\"landcolor\":\"#E5ECF6\",\"showlakes\":true,\"showland\":true,\"subunitcolor\":\"white\"},\"hoverlabel\":{\"align\":\"left\"},\"hovermode\":\"closest\",\"mapbox\":{\"style\":\"light\"},\"paper_bgcolor\":\"white\",\"plot_bgcolor\":\"#E5ECF6\",\"polar\":{\"angularaxis\":{\"gridcolor\":\"white\",\"linecolor\":\"white\",\"ticks\":\"\"},\"bgcolor\":\"#E5ECF6\",\"radialaxis\":{\"gridcolor\":\"white\",\"linecolor\":\"white\",\"ticks\":\"\"}},\"scene\":{\"xaxis\":{\"backgroundcolor\":\"#E5ECF6\",\"gridcolor\":\"white\",\"gridwidth\":2,\"linecolor\":\"white\",\"showbackground\":true,\"ticks\":\"\",\"zerolinecolor\":\"white\"},\"yaxis\":{\"backgroundcolor\":\"#E5ECF6\",\"gridcolor\":\"white\",\"gridwidth\":2,\"linecolor\":\"white\",\"showbackground\":true,\"ticks\":\"\",\"zerolinecolor\":\"white\"},\"zaxis\":{\"backgroundcolor\":\"#E5ECF6\",\"gridcolor\":\"white\",\"gridwidth\":2,\"linecolor\":\"white\",\"showbackground\":true,\"ticks\":\"\",\"zerolinecolor\":\"white\"}},\"shapedefaults\":{\"line\":{\"color\":\"#2a3f5f\"}},\"ternary\":{\"aaxis\":{\"gridcolor\":\"white\",\"linecolor\":\"white\",\"ticks\":\"\"},\"baxis\":{\"gridcolor\":\"white\",\"linecolor\":\"white\",\"ticks\":\"\"},\"bgcolor\":\"#E5ECF6\",\"caxis\":{\"gridcolor\":\"white\",\"linecolor\":\"white\",\"ticks\":\"\"}},\"title\":{\"x\":0.05},\"xaxis\":{\"automargin\":true,\"gridcolor\":\"white\",\"linecolor\":\"white\",\"ticks\":\"\",\"title\":{\"standoff\":15},\"zerolinecolor\":\"white\",\"zerolinewidth\":2},\"yaxis\":{\"automargin\":true,\"gridcolor\":\"white\",\"linecolor\":\"white\",\"ticks\":\"\",\"title\":{\"standoff\":15},\"zerolinecolor\":\"white\",\"zerolinewidth\":2}}}},                        {\"responsive\": true}                    ).then(function(){\n",
       "                            \n",
       "var gd = document.getElementById('f0156b66-75d5-4a04-9f27-9c5d951f1fb8');\n",
       "var x = new MutationObserver(function (mutations, observer) {{\n",
       "        var display = window.getComputedStyle(gd).display;\n",
       "        if (!display || display === 'none') {{\n",
       "            console.log([gd, 'removed!']);\n",
       "            Plotly.purge(gd);\n",
       "            observer.disconnect();\n",
       "        }}\n",
       "}});\n",
       "\n",
       "// Listen for the removal of the full notebook cells\n",
       "var notebookContainer = gd.closest('#notebook-container');\n",
       "if (notebookContainer) {{\n",
       "    x.observe(notebookContainer, {childList: true});\n",
       "}}\n",
       "\n",
       "// Listen for the clearing of the current output cell\n",
       "var outputEl = gd.closest('.output');\n",
       "if (outputEl) {{\n",
       "    x.observe(outputEl, {childList: true});\n",
       "}}\n",
       "\n",
       "                        })                };                });            </script>        </div>"
      ]
     },
     "metadata": {},
     "output_type": "display_data"
    }
   ],
   "source": [
    "results.results_dataframe_graph(facet='activation_full',att=['filters','strides','kernel_size', 'activation','drop', 'depth_multiplier','filters2','strides2','kernel_size2', 'activation2','drop2', 'depth_multiplier2', 'activation_full','full','fulldrop','lag'], count=True, threshold=7.30)"
   ]
  },
  {
   "cell_type": "markdown",
   "metadata": {},
   "source": [
    "# CNN 2 Layers s2s sep neigh"
   ]
  },
  {
   "cell_type": "code",
   "execution_count": 27,
   "metadata": {},
   "outputs": [],
   "source": [
    "query={'experiment':'cnnsep2ls2sneigh','status':'done'}\n",
    "\n",
    "results = DBResults(conn=mongolocaltest)\n",
    "\n",
    "results.results_dataframe_retrieve(query, arch=['filters','strides','kernel_size', 'activation','drop', 'depth_multiplier','filters2','strides2','kernel_size2', 'activation2','drop2', 'depth_multiplier2', 'activation_full','full','fulldrop'], data=['lag', 'nneighbors'])"
   ]
  },
  {
   "cell_type": "code",
   "execution_count": 28,
   "metadata": {},
   "outputs": [
    {
     "name": "stdout",
     "output_type": "stream",
     "text": [
      "0\n",
      "Total=0 Thres=0\n"
     ]
    },
    {
     "data": {
      "text/html": [
       "<style type=\"text/css\">\n",
       "</style>\n",
       "<table id=\"T_17641_\">\n",
       "  <thead>\n",
       "    <tr>\n",
       "      <th class=\"blank level0\" >&nbsp;</th>\n",
       "      <th class=\"col_heading level0 col0\" >filters</th>\n",
       "      <th class=\"col_heading level0 col1\" >strides</th>\n",
       "      <th class=\"col_heading level0 col2\" >kernel_size</th>\n",
       "      <th class=\"col_heading level0 col3\" >activation</th>\n",
       "      <th class=\"col_heading level0 col4\" >drop</th>\n",
       "      <th class=\"col_heading level0 col5\" >depth_multiplier</th>\n",
       "      <th class=\"col_heading level0 col6\" >filters2</th>\n",
       "      <th class=\"col_heading level0 col7\" >strides2</th>\n",
       "      <th class=\"col_heading level0 col8\" >kernel_size2</th>\n",
       "      <th class=\"col_heading level0 col9\" >activation2</th>\n",
       "      <th class=\"col_heading level0 col10\" >drop2</th>\n",
       "      <th class=\"col_heading level0 col11\" >depth_multiplier2</th>\n",
       "      <th class=\"col_heading level0 col12\" >activation_full</th>\n",
       "      <th class=\"col_heading level0 col13\" >full</th>\n",
       "      <th class=\"col_heading level0 col14\" >fulldrop</th>\n",
       "      <th class=\"col_heading level0 col15\" >lag</th>\n",
       "      <th class=\"col_heading level0 col16\" >nneighbors</th>\n",
       "      <th class=\"col_heading level0 col17\" colspan=\"2\">test</th>\n",
       "      <th class=\"col_heading level0 col19\" >val</th>\n",
       "    </tr>\n",
       "    <tr>\n",
       "      <th class=\"blank level1\" >&nbsp;</th>\n",
       "      <th class=\"col_heading level1 col0\" ></th>\n",
       "      <th class=\"col_heading level1 col1\" ></th>\n",
       "      <th class=\"col_heading level1 col2\" ></th>\n",
       "      <th class=\"col_heading level1 col3\" ></th>\n",
       "      <th class=\"col_heading level1 col4\" ></th>\n",
       "      <th class=\"col_heading level1 col5\" ></th>\n",
       "      <th class=\"col_heading level1 col6\" ></th>\n",
       "      <th class=\"col_heading level1 col7\" ></th>\n",
       "      <th class=\"col_heading level1 col8\" ></th>\n",
       "      <th class=\"col_heading level1 col9\" ></th>\n",
       "      <th class=\"col_heading level1 col10\" ></th>\n",
       "      <th class=\"col_heading level1 col11\" ></th>\n",
       "      <th class=\"col_heading level1 col12\" ></th>\n",
       "      <th class=\"col_heading level1 col13\" ></th>\n",
       "      <th class=\"col_heading level1 col14\" ></th>\n",
       "      <th class=\"col_heading level1 col15\" ></th>\n",
       "      <th class=\"col_heading level1 col16\" ></th>\n",
       "      <th class=\"col_heading level1 col17\" >mean</th>\n",
       "      <th class=\"col_heading level1 col18\" >count</th>\n",
       "      <th class=\"col_heading level1 col19\" >mean</th>\n",
       "    </tr>\n",
       "  </thead>\n",
       "  <tbody>\n",
       "  </tbody>\n",
       "</table>\n"
      ],
      "text/plain": [
       "<pandas.io.formats.style.Styler at 0x7fa93cf8c460>"
      ]
     },
     "execution_count": 28,
     "metadata": {},
     "output_type": "execute_result"
    }
   ],
   "source": [
    "results.results_dataframe_aggregate(threshold=7.3)"
   ]
  },
  {
   "cell_type": "code",
   "execution_count": 29,
   "metadata": {},
   "outputs": [
    {
     "ename": "PlotlyEmptyDataError",
     "evalue": "Empty data list found. Make sure that you populated the list of data objects you're sending and try again.\nQuestions? Visit support.plot.ly",
     "output_type": "error",
     "traceback": [
      "\u001b[0;31m---------------------------------------------------------------------------\u001b[0m",
      "\u001b[0;31mPlotlyEmptyDataError\u001b[0m                      Traceback (most recent call last)",
      "\u001b[0;32m/tmp/ipykernel_1631969/1925743413.py\u001b[0m in \u001b[0;36m<module>\u001b[0;34m\u001b[0m\n\u001b[0;32m----> 1\u001b[0;31m \u001b[0mresults\u001b[0m\u001b[0;34m.\u001b[0m\u001b[0mresults_dataframe_graph\u001b[0m\u001b[0;34m(\u001b[0m\u001b[0mfacet\u001b[0m\u001b[0;34m=\u001b[0m\u001b[0;34m'activation_full'\u001b[0m\u001b[0;34m,\u001b[0m\u001b[0matt\u001b[0m\u001b[0;34m=\u001b[0m\u001b[0;34m[\u001b[0m\u001b[0;34m'filters'\u001b[0m\u001b[0;34m,\u001b[0m\u001b[0;34m'strides'\u001b[0m\u001b[0;34m,\u001b[0m\u001b[0;34m'kernel_size'\u001b[0m\u001b[0;34m,\u001b[0m \u001b[0;34m'activation'\u001b[0m\u001b[0;34m,\u001b[0m\u001b[0;34m'drop'\u001b[0m\u001b[0;34m,\u001b[0m \u001b[0;34m'depth_multiplier'\u001b[0m\u001b[0;34m,\u001b[0m\u001b[0;34m'filters2'\u001b[0m\u001b[0;34m,\u001b[0m\u001b[0;34m'strides2'\u001b[0m\u001b[0;34m,\u001b[0m\u001b[0;34m'kernel_size2'\u001b[0m\u001b[0;34m,\u001b[0m \u001b[0;34m'activation2'\u001b[0m\u001b[0;34m,\u001b[0m\u001b[0;34m'drop2'\u001b[0m\u001b[0;34m,\u001b[0m \u001b[0;34m'depth_multiplier2'\u001b[0m\u001b[0;34m,\u001b[0m \u001b[0;34m'activation_full'\u001b[0m\u001b[0;34m,\u001b[0m\u001b[0;34m'full'\u001b[0m\u001b[0;34m,\u001b[0m\u001b[0;34m'fulldrop'\u001b[0m\u001b[0;34m,\u001b[0m\u001b[0;34m'lag'\u001b[0m\u001b[0;34m,\u001b[0m \u001b[0;34m'nneighbors'\u001b[0m\u001b[0;34m]\u001b[0m\u001b[0;34m,\u001b[0m \u001b[0mcount\u001b[0m\u001b[0;34m=\u001b[0m\u001b[0;32mTrue\u001b[0m\u001b[0;34m,\u001b[0m \u001b[0mthreshold\u001b[0m\u001b[0;34m=\u001b[0m\u001b[0;36m7.30\u001b[0m\u001b[0;34m)\u001b[0m\u001b[0;34m\u001b[0m\u001b[0;34m\u001b[0m\u001b[0m\n\u001b[0m",
      "\u001b[0;32m~/PycharmProjects/Wind/Wind/Results/DBResults.py\u001b[0m in \u001b[0;36mresults_dataframe_graph\u001b[0;34m(self, facet, att, count, threshold)\u001b[0m\n\u001b[1;32m    405\u001b[0m                 ))\n\u001b[1;32m    406\u001b[0m \u001b[0;34m\u001b[0m\u001b[0m\n\u001b[0;32m--> 407\u001b[0;31m         \u001b[0mpy\u001b[0m\u001b[0;34m.\u001b[0m\u001b[0miplot\u001b[0m\u001b[0;34m(\u001b[0m\u001b[0mtrace\u001b[0m\u001b[0;34m,\u001b[0m \u001b[0mfilename\u001b[0m\u001b[0;34m=\u001b[0m\u001b[0;34m'basic-scatter'\u001b[0m\u001b[0;34m)\u001b[0m\u001b[0;34m\u001b[0m\u001b[0;34m\u001b[0m\u001b[0m\n\u001b[0m\u001b[1;32m    408\u001b[0m \u001b[0;34m\u001b[0m\u001b[0m\n\u001b[1;32m    409\u001b[0m     \u001b[0;32mdef\u001b[0m \u001b[0msize\u001b[0m\u001b[0;34m(\u001b[0m\u001b[0mself\u001b[0m\u001b[0;34m)\u001b[0m\u001b[0;34m:\u001b[0m\u001b[0;34m\u001b[0m\u001b[0;34m\u001b[0m\u001b[0m\n",
      "\u001b[0;32m~/.local/lib/python3.9/site-packages/plotly/offline/offline.py\u001b[0m in \u001b[0;36miplot\u001b[0;34m(figure_or_data, show_link, link_text, validate, image, filename, image_width, image_height, config, auto_play, animation_opts)\u001b[0m\n\u001b[1;32m    382\u001b[0m \u001b[0;34m\u001b[0m\u001b[0m\n\u001b[1;32m    383\u001b[0m     \u001b[0;31m# Get figure\u001b[0m\u001b[0;34m\u001b[0m\u001b[0;34m\u001b[0m\u001b[0;34m\u001b[0m\u001b[0m\n\u001b[0;32m--> 384\u001b[0;31m     \u001b[0mfigure\u001b[0m \u001b[0;34m=\u001b[0m \u001b[0mtools\u001b[0m\u001b[0;34m.\u001b[0m\u001b[0mreturn_figure_from_figure_or_data\u001b[0m\u001b[0;34m(\u001b[0m\u001b[0mfigure_or_data\u001b[0m\u001b[0;34m,\u001b[0m \u001b[0mvalidate\u001b[0m\u001b[0;34m)\u001b[0m\u001b[0;34m\u001b[0m\u001b[0;34m\u001b[0m\u001b[0m\n\u001b[0m\u001b[1;32m    385\u001b[0m \u001b[0;34m\u001b[0m\u001b[0m\n\u001b[1;32m    386\u001b[0m     \u001b[0;31m# Handle image request\u001b[0m\u001b[0;34m\u001b[0m\u001b[0;34m\u001b[0m\u001b[0;34m\u001b[0m\u001b[0m\n",
      "\u001b[0;32m~/.local/lib/python3.9/site-packages/plotly/tools.py\u001b[0m in \u001b[0;36mreturn_figure_from_figure_or_data\u001b[0;34m(figure_or_data, validate_figure)\u001b[0m\n\u001b[1;32m    565\u001b[0m             )\n\u001b[1;32m    566\u001b[0m         \u001b[0;32mif\u001b[0m \u001b[0;32mnot\u001b[0m \u001b[0mfigure\u001b[0m\u001b[0;34m[\u001b[0m\u001b[0;34m\"data\"\u001b[0m\u001b[0;34m]\u001b[0m\u001b[0;34m:\u001b[0m\u001b[0;34m\u001b[0m\u001b[0;34m\u001b[0m\u001b[0m\n\u001b[0;32m--> 567\u001b[0;31m             raise exceptions.PlotlyEmptyDataError(\n\u001b[0m\u001b[1;32m    568\u001b[0m                 \u001b[0;34m\"Empty data list found. Make sure that you populated the \"\u001b[0m\u001b[0;34m\u001b[0m\u001b[0;34m\u001b[0m\u001b[0m\n\u001b[1;32m    569\u001b[0m                 \u001b[0;34m\"list of data objects you're sending and try again.\\n\"\u001b[0m\u001b[0;34m\u001b[0m\u001b[0;34m\u001b[0m\u001b[0m\n",
      "\u001b[0;31mPlotlyEmptyDataError\u001b[0m: Empty data list found. Make sure that you populated the list of data objects you're sending and try again.\nQuestions? Visit support.plot.ly"
     ]
    }
   ],
   "source": [
    "results.results_dataframe_graph(facet='activation_full',att=['filters','strides','kernel_size', 'activation','drop', 'depth_multiplier','filters2','strides2','kernel_size2', 'activation2','drop2', 'depth_multiplier2', 'activation_full','full','fulldrop','lag', 'nneighbors'], count=True, threshold=7.30)"
   ]
  },
  {
   "cell_type": "markdown",
   "metadata": {},
   "source": [
    "# CNN s2s sep 2l 5min"
   ]
  },
  {
   "cell_type": "code",
   "execution_count": null,
   "metadata": {
    "ExecuteTime": {
     "end_time": "2019-10-23T08:52:14.906793Z",
     "start_time": "2019-10-23T08:51:40.333766Z"
    },
    "scrolled": true
   },
   "outputs": [],
   "source": [
    "query={'experiment':'cnn_sep_2l_12_smac','status':'done'}\n",
    "\n",
    "results = DBResults(conn=mongolocaltest)\n",
    "#results = DBResults()\n",
    "results.results_dataframe_retrieve(query, arch=['filters','strides','kernel_size', 'activation','drop', 'depth_multiplier','filters2','strides2','kernel_size2', 'activation2','drop2', 'depth_multiplier2', 'activation_full','full','fulldrop'], data=['lag'])\n"
   ]
  },
  {
   "cell_type": "code",
   "execution_count": null,
   "metadata": {
    "ExecuteTime": {
     "end_time": "2019-10-23T08:52:19.114490Z",
     "start_time": "2019-10-23T08:52:14.922796Z"
    },
    "scrolled": false
   },
   "outputs": [],
   "source": [
    "results.results_dataframe_aggregate(threshold=7.45)"
   ]
  },
  {
   "cell_type": "code",
   "execution_count": null,
   "metadata": {
    "ExecuteTime": {
     "end_time": "2019-10-23T08:52:20.073085Z",
     "start_time": "2019-10-23T08:52:19.117795Z"
    }
   },
   "outputs": [],
   "source": [
    "results.results_dataframe_graph(facet='activation',att=['filters','strides','kernel_size','drop','full','fulldrop', 'activation_full', 'depth_multiplier','lag','filters2','strides2','kernel_size2', 'activation2','drop2', 'depth_multiplier2'], count=True, threshold=7.3)"
   ]
  },
  {
   "cell_type": "markdown",
   "metadata": {},
   "source": [
    "# CNN 3 Layers s2s sep"
   ]
  },
  {
   "cell_type": "code",
   "execution_count": null,
   "metadata": {
    "ExecuteTime": {
     "end_time": "2019-08-11T03:04:04.907723Z",
     "start_time": "2019-08-11T03:02:21.701424Z"
    }
   },
   "outputs": [],
   "source": [
    "query={'experiment':'cnnsep3ls2ssmac','status':'done'}\n",
    "\n",
    "results = DBResults(conn=mongolocaltest)\n",
    "#results = DBResults()\n",
    "results.results_dataframe_retrieve(query, arch=['filters','strides','kernel_size', 'activation','drop', 'depth_multiplier','filters2','strides2','kernel_size2','drop2', 'depth_multiplier2','filters3','strides3','kernel_size3','drop3', 'depth_multiplier3', 'activation_full','full','fulldrop'], data=['lag'])\n"
   ]
  },
  {
   "cell_type": "code",
   "execution_count": null,
   "metadata": {
    "ExecuteTime": {
     "end_time": "2019-08-11T03:05:24.828173Z",
     "start_time": "2019-08-11T03:04:50.065658Z"
    },
    "scrolled": false
   },
   "outputs": [],
   "source": [
    "results.results_dataframe_aggregate(threshold=7.31)"
   ]
  },
  {
   "cell_type": "code",
   "execution_count": null,
   "metadata": {
    "ExecuteTime": {
     "end_time": "2019-08-11T03:05:41.434079Z",
     "start_time": "2019-08-11T03:05:38.260258Z"
    },
    "scrolled": false
   },
   "outputs": [],
   "source": [
    "results.results_dataframe_graph(facet='activation_full',att=['filters','strides','kernel_size', 'activation','drop', 'depth_multiplier','filters2','strides2','kernel_size2','drop2', 'depth_multiplier2','filters3','strides3','kernel_size3','drop3', 'depth_multiplier3', 'activation_full','full','fulldrop','lag'], count=True, threshold=7.25)"
   ]
  },
  {
   "cell_type": "markdown",
   "metadata": {},
   "source": [
    "# CNN 4 Layers s2s sep"
   ]
  },
  {
   "cell_type": "code",
   "execution_count": null,
   "metadata": {
    "ExecuteTime": {
     "end_time": "2019-08-12T14:12:09.994878Z",
     "start_time": "2019-08-12T14:10:59.156462Z"
    }
   },
   "outputs": [],
   "source": [
    "query={'experiment':'cnnsep4ls2ssmac','status':'done'}\n",
    "\n",
    "results = DBResults(conn=mongolocaltest)\n",
    "#results = DBResults()\n",
    "results.results_dataframe_retrieve(query, arch=['filters','strides','kernel_size', 'activation','drop', 'depth_multiplier','filters2','strides2','kernel_size2','drop2', 'depth_multiplier2','filters3','strides3','kernel_size3','drop3', 'depth_multiplier3','filters4','strides4','kernel_size4','drop4', 'depth_multiplier4', 'activation_full','full','fulldrop'], data=['lag'])\n"
   ]
  },
  {
   "cell_type": "code",
   "execution_count": null,
   "metadata": {
    "ExecuteTime": {
     "end_time": "2019-08-12T14:12:17.892796Z",
     "start_time": "2019-08-12T14:12:09.998376Z"
    }
   },
   "outputs": [],
   "source": [
    "results.results_dataframe_aggregate(threshold=7.3)"
   ]
  },
  {
   "cell_type": "code",
   "execution_count": null,
   "metadata": {
    "ExecuteTime": {
     "end_time": "2019-08-12T14:12:20.877478Z",
     "start_time": "2019-08-12T14:12:17.897052Z"
    }
   },
   "outputs": [],
   "source": [
    "results.results_dataframe_graph(facet='activation',att=['filters','strides','kernel_size', 'activation','drop', 'depth_multiplier','filters2','strides2','kernel_size2','drop2', 'depth_multiplier2','filters3','strides3','kernel_size3','drop3', 'depth_multiplier3','filters4','strides4','kernel_size4','drop4', 'depth_multiplier4', 'activation_full','full','fulldrop','lag'], count=True, threshold=7.28)"
   ]
  },
  {
   "cell_type": "markdown",
   "metadata": {},
   "source": [
    "# Random Forest s2s"
   ]
  },
  {
   "cell_type": "code",
   "execution_count": null,
   "metadata": {
    "ExecuteTime": {
     "end_time": "2019-08-12T09:27:13.287700Z",
     "start_time": "2019-08-12T09:27:07.244195Z"
    }
   },
   "outputs": [],
   "source": [
    "query={'experiment':'rfs2ssmac','status':'done'}\n",
    "\n",
    "results = DBResults(conn=mongolocaltest)\n",
    "#results = DBResults()\n",
    "results.results_dataframe_retrieve(query, arch=['n_estimators', 'max_features'], data=['lag'])"
   ]
  },
  {
   "cell_type": "code",
   "execution_count": null,
   "metadata": {
    "ExecuteTime": {
     "end_time": "2019-08-12T09:27:13.604533Z",
     "start_time": "2019-08-12T09:27:13.290862Z"
    }
   },
   "outputs": [],
   "source": [
    "results.results_dataframe_aggregate(threshold=6.74)"
   ]
  },
  {
   "cell_type": "code",
   "execution_count": null,
   "metadata": {
    "ExecuteTime": {
     "end_time": "2019-08-12T09:27:15.349006Z",
     "start_time": "2019-08-12T09:27:13.607521Z"
    }
   },
   "outputs": [],
   "source": [
    "results.results_dataframe_graph(facet='n_estimators',att=['n_estimators', 'max_features','lag'], count=True, threshold=6.7)"
   ]
  },
  {
   "cell_type": "markdown",
   "metadata": {},
   "source": [
    "# Extra Trees s2s"
   ]
  },
  {
   "cell_type": "code",
   "execution_count": null,
   "metadata": {
    "ExecuteTime": {
     "end_time": "2019-06-21T11:51:25.453015Z",
     "start_time": "2019-06-21T11:51:19.431558Z"
    }
   },
   "outputs": [],
   "source": [
    "query={'experiment':'ets2ssmac','status':'done'}\n",
    "\n",
    "results = DBResults(conn=mongolocaltest)\n",
    "#results = DBResults()\n",
    "results.results_dataframe_retrieve(query, arch=['n_estimators', 'max_features','max_depth'], data=['lag'])"
   ]
  },
  {
   "cell_type": "code",
   "execution_count": null,
   "metadata": {
    "ExecuteTime": {
     "end_time": "2019-06-21T11:51:25.943385Z",
     "start_time": "2019-06-21T11:51:25.456444Z"
    }
   },
   "outputs": [],
   "source": [
    "results.results_dataframe_aggregate(threshold=6.805)"
   ]
  },
  {
   "cell_type": "code",
   "execution_count": null,
   "metadata": {
    "ExecuteTime": {
     "end_time": "2019-06-21T11:51:27.103264Z",
     "start_time": "2019-06-21T11:51:25.945971Z"
    }
   },
   "outputs": [],
   "source": [
    "results.results_dataframe_graph(facet='max_depth',att=['max_depth','n_estimators', 'max_features','lag'], count=True, threshold=6.8)"
   ]
  },
  {
   "cell_type": "markdown",
   "metadata": {},
   "source": [
    "# KNN s2s"
   ]
  },
  {
   "cell_type": "code",
   "execution_count": null,
   "metadata": {
    "ExecuteTime": {
     "end_time": "2019-06-19T09:36:03.831137Z",
     "start_time": "2019-06-19T09:35:52.432179Z"
    }
   },
   "outputs": [],
   "source": [
    "query={'experiment':'knns2ssmac','status':'done'}\n",
    "\n",
    "results = DBResults(conn=mongolocaltest)\n",
    "#results = DBResults()\n",
    "results.results_dataframe_retrieve(query, arch=['n_neighbors', 'weights'], data=['lag'])"
   ]
  },
  {
   "cell_type": "code",
   "execution_count": null,
   "metadata": {
    "ExecuteTime": {
     "end_time": "2019-06-19T09:36:04.507761Z",
     "start_time": "2019-06-19T09:36:03.835308Z"
    }
   },
   "outputs": [],
   "source": [
    "results.results_dataframe_aggregate(threshold=5.22)"
   ]
  },
  {
   "cell_type": "code",
   "execution_count": null,
   "metadata": {
    "ExecuteTime": {
     "end_time": "2019-06-19T09:36:06.172467Z",
     "start_time": "2019-06-19T09:36:04.530446Z"
    }
   },
   "outputs": [],
   "source": [
    "results.results_dataframe_graph(facet='n_neighbors',att=['n_neighbors', 'weights','lag'], count=True, threshold=5.2)"
   ]
  },
  {
   "cell_type": "markdown",
   "metadata": {},
   "source": [
    "# ElasticNet S2S"
   ]
  },
  {
   "cell_type": "code",
   "execution_count": null,
   "metadata": {
    "ExecuteTime": {
     "end_time": "2019-07-09T11:35:21.517394Z",
     "start_time": "2019-07-09T11:35:18.806678Z"
    }
   },
   "outputs": [],
   "source": [
    "query={'experiment':'ens2ssmac','status':'done'}\n",
    "\n",
    "results = DBResults(conn=mongolocaltest)\n",
    "#results = DBResults()\n",
    "results.results_dataframe_retrieve(query, arch=['alpha', 'l1_ratio'], data=['lag'])"
   ]
  },
  {
   "cell_type": "code",
   "execution_count": null,
   "metadata": {
    "ExecuteTime": {
     "end_time": "2019-07-09T11:35:21.875014Z",
     "start_time": "2019-07-09T11:35:21.520242Z"
    }
   },
   "outputs": [],
   "source": [
    "results.results_dataframe_aggregate(threshold=6.2)"
   ]
  },
  {
   "cell_type": "code",
   "execution_count": null,
   "metadata": {
    "ExecuteTime": {
     "end_time": "2019-07-09T11:35:22.648926Z",
     "start_time": "2019-07-09T11:35:21.878295Z"
    }
   },
   "outputs": [],
   "source": [
    "results.results_dataframe_graph(facet='lag',att=['alpha', 'l1_ratio','lag'], count=True, threshold=6.1)"
   ]
  },
  {
   "cell_type": "code",
   "execution_count": null,
   "metadata": {},
   "outputs": [],
   "source": []
  },
  {
   "cell_type": "code",
   "execution_count": null,
   "metadata": {
    "ExecuteTime": {
     "end_time": "2020-03-10T08:25:14.776415Z",
     "start_time": "2020-03-10T08:25:14.588226Z"
    }
   },
   "outputs": [],
   "source": [
    "query={'experiment':'RNNEDvar1','status':'done'}\n",
    "\n",
    "results = DBResults(conn=mongolocaltest)\n",
    "#results = DBResults()\n",
    "results.results_dataframe_retrieve(query, arch=['neuronsE', 'neuronsD','nlayersE','nlayersD','activation', 'drop','activation_full', 'full', 'fulldrop'], data=['lag'])\n",
    "results.results_dataframe_aggregate()"
   ]
  },
  {
   "cell_type": "code",
   "execution_count": null,
   "metadata": {
    "ExecuteTime": {
     "end_time": "2020-03-10T08:29:51.176277Z",
     "start_time": "2020-03-10T08:29:51.006791Z"
    }
   },
   "outputs": [],
   "source": [
    "query={'experiment':'CNNSepvar1','status':'done'}\n",
    "\n",
    "results = DBResults(conn=mongolocaltest)\n",
    "#results = DBResults()\n",
    "results.results_dataframe_retrieve(query,  arch=['filters','strides','kernel_size', 'activation','drop', 'activation_full','full','fulldrop', 'depth_multiplier'], data=['lag'])\n",
    "results.results_dataframe_aggregate()"
   ]
  },
  {
   "cell_type": "code",
   "execution_count": null,
   "metadata": {},
   "outputs": [],
   "source": []
  }
 ],
 "metadata": {
  "interpreter": {
   "hash": "e7370f93d1d0cde622a1f8e1c04877d8463912d04d973331ad4851f04de6915a"
  },
  "kernelspec": {
   "display_name": "Python 3 (ipykernel)",
   "language": "python",
   "name": "python3"
  },
  "language_info": {
   "codemirror_mode": {
    "name": "ipython",
    "version": 3
   },
   "file_extension": ".py",
   "mimetype": "text/x-python",
   "name": "python",
   "nbconvert_exporter": "python",
   "pygments_lexer": "ipython3",
   "version": "3.9.6"
  },
  "latex_envs": {
   "LaTeX_envs_menu_present": true,
   "autoclose": false,
   "autocomplete": true,
   "bibliofile": "biblio.bib",
   "cite_by": "apalike",
   "current_citInitial": 1,
   "eqLabelWithNumbers": true,
   "eqNumInitial": 1,
   "hotkeys": {
    "equation": "Ctrl-E",
    "itemize": "Ctrl-I"
   },
   "labels_anchors": false,
   "latex_user_defs": false,
   "report_style_numbering": false,
   "user_envs_cfg": false
  },
  "toc": {
   "base_numbering": 1,
   "nav_menu": {},
   "number_sections": true,
   "sideBar": true,
   "skip_h1_title": false,
   "title_cell": "Table of Contents",
   "title_sidebar": "Contents",
   "toc_cell": false,
   "toc_position": {
    "height": "875px",
    "left": "0px",
    "right": "1514px",
    "top": "110px",
    "width": "212px"
   },
   "toc_section_display": "block",
   "toc_window_display": true
  }
 },
 "nbformat": 4,
 "nbformat_minor": 4
}
