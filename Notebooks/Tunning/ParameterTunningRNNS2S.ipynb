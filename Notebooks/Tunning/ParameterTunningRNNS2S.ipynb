{
 "cells": [
  {
   "cell_type": "code",
   "execution_count": 1,
   "metadata": {
    "extensions": {
     "jupyter_dashboards": {
      "version": 1,
      "views": {
       "grid_default": {},
       "report_default": {}
      }
     }
    }
   },
   "outputs": [],
   "source": [
    "%load_ext autoreload\n",
    "%autoreload 2"
   ]
  },
  {
   "cell_type": "code",
   "execution_count": 2,
   "metadata": {
    "extensions": {
     "jupyter_dashboards": {
      "version": 1,
      "views": {
       "grid_default": {},
       "report_default": {}
      }
     }
    }
   },
   "outputs": [
    {
     "data": {
      "text/html": [
       "<script type=\"text/javascript\">window.PlotlyConfig = {MathJaxConfig: 'local'};</script><script type=\"text/javascript\">if (window.MathJax) {MathJax.Hub.Config({SVG: {font: \"STIX-Web\"}});}</script><script>requirejs.config({paths: { 'plotly': ['https://cdn.plot.ly/plotly-latest.min']},});if(!window._Plotly) {require(['plotly'],function(plotly) {window._Plotly=plotly;});}</script>"
      ],
      "text/vnd.plotly.v1+html": [
       "<script type=\"text/javascript\">window.PlotlyConfig = {MathJaxConfig: 'local'};</script><script type=\"text/javascript\">if (window.MathJax) {MathJax.Hub.Config({SVG: {font: \"STIX-Web\"}});}</script><script>requirejs.config({paths: { 'plotly': ['https://cdn.plot.ly/plotly-latest.min']},});if(!window._Plotly) {require(['plotly'],function(plotly) {window._Plotly=plotly;});}</script>"
      ]
     },
     "metadata": {},
     "output_type": "display_data"
    }
   ],
   "source": [
    "from Wind.Results import DBResults\n",
    "from plotly.offline import init_notebook_mode\n",
    "init_notebook_mode(connected=True)\n",
    "from IPython.core.interactiveshell import InteractiveShell\n",
    "InteractiveShell.ast_node_interactivity = \"all\"\n",
    "import seaborn as sns\n",
    "from Wind.Private.DBConfig import mongolocaltest, mongolocal\n",
    "import matplotlib.pyplot as plt\n",
    "import plotly.offline as py\n",
    "import plotly.graph_objs as go\n",
    "import plotly.figure_factory as ff"
   ]
  },
  {
   "cell_type": "code",
   "execution_count": 59,
   "metadata": {},
   "outputs": [],
   "source": [
    "def graph_results(df, facet, att):\n",
    "    trace = []\n",
    "    for v in sorted(df[facet].unique()):\n",
    "        text = ''\n",
    "        for a in att:\n",
    "            text += f'{a}:'+df[df[facet]==v][a].astype(str)+'-'\n",
    "        text += f'{facet}:'+df[df[facet]==v][facet].astype(str)\n",
    "        trace.append(go.Scatter(\n",
    "            x = df[b[facet]==v]['test']['mean'],\n",
    "            y = df[b[facet]==v]['val']['mean'],\n",
    "            text = text,\n",
    "            mode = 'markers', name=v,\n",
    "            marker={'size':df[df[facet]==v]['test']['count']/5}\n",
    "        ))\n",
    "    py.iplot(trace, filename='basic-scatter')"
   ]
  },
  {
   "cell_type": "markdown",
   "metadata": {
    "extensions": {
     "jupyter_dashboards": {
      "version": 1,
      "views": {
       "grid_default": {},
       "report_default": {}
      }
     }
    }
   },
   "source": [
    "# Fitting RNN s2s"
   ]
  },
  {
   "cell_type": "markdown",
   "metadata": {
    "extensions": {
     "jupyter_dashboards": {
      "version": 1,
      "views": {
       "grid_default": {},
       "report_default": {}
      }
     }
    }
   },
   "source": [
    "## FIT 1"
   ]
  },
  {
   "cell_type": "markdown",
   "metadata": {
    "extensions": {
     "jupyter_dashboards": {
      "version": 1,
      "views": {
       "grid_default": {},
       "report_default": {}
      }
     }
    }
   },
   "source": [
    "First fit experiment RNN seq2seq, explore lag, dropout and number of input neurons, number of layers and number of neurons in the fully connected layer"
   ]
  },
  {
   "cell_type": "code",
   "execution_count": 85,
   "metadata": {
    "extensions": {
     "jupyter_dashboards": {
      "version": 1,
      "views": {
       "grid_default": {},
       "report_default": {}
      }
     }
    }
   },
   "outputs": [],
   "source": [
    "\n",
    "query={'experiment':'rnns2sfit'}\n",
    "\n",
    "results = DBResults(conn=mongolocaltest)\n",
    "#results = DBResults()\n",
    "\n",
    "results.results_dataframe_retrieve(query, arch=['drop', 'neurons', 'nlayers', 'full'], data=['lag'])"
   ]
  },
  {
   "cell_type": "code",
   "execution_count": 86,
   "metadata": {
    "extensions": {
     "jupyter_dashboards": {
      "version": 1,
      "views": {
       "grid_default": {},
       "report_default": {}
      }
     }
    }
   },
   "outputs": [],
   "source": [
    "a=results.exp_df.groupby(['site', 'drop', 'neurons', 'nlayers', 'lag', 'full'],as_index=False).sum()\n",
    "a.drop(columns=['hour', 'site'], inplace=True)\n"
   ]
  },
  {
   "cell_type": "code",
   "execution_count": 88,
   "metadata": {
    "extensions": {
     "jupyter_dashboards": {
      "version": 1,
      "views": {
       "grid_default": {},
       "report_default": {}
      }
     }
    }
   },
   "outputs": [
    {
     "data": {
      "text/html": [
       "<style  type=\"text/css\" >\n",
       "    #T_46ddf754_5130_11e9_975a_842b2bb021fdrow0_col6 {\n",
       "            background-color:  yellow;\n",
       "        }    #T_46ddf754_5130_11e9_975a_842b2bb021fdrow1_col6 {\n",
       "            background-color:  yellow;\n",
       "        }    #T_46ddf754_5130_11e9_975a_842b2bb021fdrow2_col6 {\n",
       "            background-color:  yellow;\n",
       "        }    #T_46ddf754_5130_11e9_975a_842b2bb021fdrow3_col6 {\n",
       "            background-color:  yellow;\n",
       "        }    #T_46ddf754_5130_11e9_975a_842b2bb021fdrow4_col6 {\n",
       "            background-color:  yellow;\n",
       "        }    #T_46ddf754_5130_11e9_975a_842b2bb021fdrow5_col6 {\n",
       "            background-color:  yellow;\n",
       "        }    #T_46ddf754_5130_11e9_975a_842b2bb021fdrow6_col6 {\n",
       "            background-color:  yellow;\n",
       "        }    #T_46ddf754_5130_11e9_975a_842b2bb021fdrow7_col6 {\n",
       "            background-color:  yellow;\n",
       "        }    #T_46ddf754_5130_11e9_975a_842b2bb021fdrow8_col6 {\n",
       "            background-color:  yellow;\n",
       "        }    #T_46ddf754_5130_11e9_975a_842b2bb021fdrow9_col6 {\n",
       "            background-color:  yellow;\n",
       "        }    #T_46ddf754_5130_11e9_975a_842b2bb021fdrow10_col6 {\n",
       "            background-color:  yellow;\n",
       "        }    #T_46ddf754_5130_11e9_975a_842b2bb021fdrow11_col6 {\n",
       "            background-color:  yellow;\n",
       "        }    #T_46ddf754_5130_11e9_975a_842b2bb021fdrow12_col6 {\n",
       "            background-color:  yellow;\n",
       "        }    #T_46ddf754_5130_11e9_975a_842b2bb021fdrow13_col6 {\n",
       "            background-color:  yellow;\n",
       "        }    #T_46ddf754_5130_11e9_975a_842b2bb021fdrow14_col5 {\n",
       "            background-color:  yellow;\n",
       "        }    #T_46ddf754_5130_11e9_975a_842b2bb021fdrow14_col6 {\n",
       "            background-color:  yellow;\n",
       "        }    #T_46ddf754_5130_11e9_975a_842b2bb021fdrow14_col7 {\n",
       "            background-color:  yellow;\n",
       "        }    #T_46ddf754_5130_11e9_975a_842b2bb021fdrow15_col6 {\n",
       "            background-color:  yellow;\n",
       "        }    #T_46ddf754_5130_11e9_975a_842b2bb021fdrow16_col6 {\n",
       "            background-color:  yellow;\n",
       "        }</style><table id=\"T_46ddf754_5130_11e9_975a_842b2bb021fd\" ><thead>    <tr>        <th class=\"blank level0\" ></th>        <th class=\"col_heading level0 col0\" >neurons</th>        <th class=\"col_heading level0 col1\" >nlayers</th>        <th class=\"col_heading level0 col2\" >drop</th>        <th class=\"col_heading level0 col3\" >lag</th>        <th class=\"col_heading level0 col4\" >full</th>        <th class=\"col_heading level0 col5\" colspan=2>test</th>        <th class=\"col_heading level0 col7\" >val</th>    </tr>    <tr>        <th class=\"blank level1\" ></th>        <th class=\"col_heading level1 col0\" ></th>        <th class=\"col_heading level1 col1\" ></th>        <th class=\"col_heading level1 col2\" ></th>        <th class=\"col_heading level1 col3\" ></th>        <th class=\"col_heading level1 col4\" ></th>        <th class=\"col_heading level1 col5\" >mean</th>        <th class=\"col_heading level1 col6\" >count</th>        <th class=\"col_heading level1 col7\" >mean</th>    </tr></thead><tbody>\n",
       "                <tr>\n",
       "                        <th id=\"T_46ddf754_5130_11e9_975a_842b2bb021fdlevel0_row0\" class=\"row_heading level0 row0\" >12</th>\n",
       "                        <td id=\"T_46ddf754_5130_11e9_975a_842b2bb021fdrow0_col0\" class=\"data row0 col0\" >128</td>\n",
       "                        <td id=\"T_46ddf754_5130_11e9_975a_842b2bb021fdrow0_col1\" class=\"data row0 col1\" >2</td>\n",
       "                        <td id=\"T_46ddf754_5130_11e9_975a_842b2bb021fdrow0_col2\" class=\"data row0 col2\" >0.0</td>\n",
       "                        <td id=\"T_46ddf754_5130_11e9_975a_842b2bb021fdrow0_col3\" class=\"data row0 col3\" >12</td>\n",
       "                        <td id=\"T_46ddf754_5130_11e9_975a_842b2bb021fdrow0_col4\" class=\"data row0 col4\" >[128]</td>\n",
       "                        <td id=\"T_46ddf754_5130_11e9_975a_842b2bb021fdrow0_col5\" class=\"data row0 col5\" >6.81196</td>\n",
       "                        <td id=\"T_46ddf754_5130_11e9_975a_842b2bb021fdrow0_col6\" class=\"data row0 col6\" >200</td>\n",
       "                        <td id=\"T_46ddf754_5130_11e9_975a_842b2bb021fdrow0_col7\" class=\"data row0 col7\" >6.50386</td>\n",
       "            </tr>\n",
       "            <tr>\n",
       "                        <th id=\"T_46ddf754_5130_11e9_975a_842b2bb021fdlevel0_row1\" class=\"row_heading level0 row1\" >18</th>\n",
       "                        <td id=\"T_46ddf754_5130_11e9_975a_842b2bb021fdrow1_col0\" class=\"data row1 col0\" >128</td>\n",
       "                        <td id=\"T_46ddf754_5130_11e9_975a_842b2bb021fdrow1_col1\" class=\"data row1 col1\" >2</td>\n",
       "                        <td id=\"T_46ddf754_5130_11e9_975a_842b2bb021fdrow1_col2\" class=\"data row1 col2\" >0.1</td>\n",
       "                        <td id=\"T_46ddf754_5130_11e9_975a_842b2bb021fdrow1_col3\" class=\"data row1 col3\" >12</td>\n",
       "                        <td id=\"T_46ddf754_5130_11e9_975a_842b2bb021fdrow1_col4\" class=\"data row1 col4\" >[128]</td>\n",
       "                        <td id=\"T_46ddf754_5130_11e9_975a_842b2bb021fdrow1_col5\" class=\"data row1 col5\" >6.8285</td>\n",
       "                        <td id=\"T_46ddf754_5130_11e9_975a_842b2bb021fdrow1_col6\" class=\"data row1 col6\" >200</td>\n",
       "                        <td id=\"T_46ddf754_5130_11e9_975a_842b2bb021fdrow1_col7\" class=\"data row1 col7\" >6.52441</td>\n",
       "            </tr>\n",
       "            <tr>\n",
       "                        <th id=\"T_46ddf754_5130_11e9_975a_842b2bb021fdlevel0_row2\" class=\"row_heading level0 row2\" >20</th>\n",
       "                        <td id=\"T_46ddf754_5130_11e9_975a_842b2bb021fdrow2_col0\" class=\"data row2 col0\" >128</td>\n",
       "                        <td id=\"T_46ddf754_5130_11e9_975a_842b2bb021fdrow2_col1\" class=\"data row2 col1\" >2</td>\n",
       "                        <td id=\"T_46ddf754_5130_11e9_975a_842b2bb021fdrow2_col2\" class=\"data row2 col2\" >0.1</td>\n",
       "                        <td id=\"T_46ddf754_5130_11e9_975a_842b2bb021fdrow2_col3\" class=\"data row2 col3\" >12</td>\n",
       "                        <td id=\"T_46ddf754_5130_11e9_975a_842b2bb021fdrow2_col4\" class=\"data row2 col4\" >[64]</td>\n",
       "                        <td id=\"T_46ddf754_5130_11e9_975a_842b2bb021fdrow2_col5\" class=\"data row2 col5\" >6.84745</td>\n",
       "                        <td id=\"T_46ddf754_5130_11e9_975a_842b2bb021fdrow2_col6\" class=\"data row2 col6\" >200</td>\n",
       "                        <td id=\"T_46ddf754_5130_11e9_975a_842b2bb021fdrow2_col7\" class=\"data row2 col7\" >6.54452</td>\n",
       "            </tr>\n",
       "            <tr>\n",
       "                        <th id=\"T_46ddf754_5130_11e9_975a_842b2bb021fdlevel0_row3\" class=\"row_heading level0 row3\" >30</th>\n",
       "                        <td id=\"T_46ddf754_5130_11e9_975a_842b2bb021fdrow3_col0\" class=\"data row3 col0\" >192</td>\n",
       "                        <td id=\"T_46ddf754_5130_11e9_975a_842b2bb021fdrow3_col1\" class=\"data row3 col1\" >1</td>\n",
       "                        <td id=\"T_46ddf754_5130_11e9_975a_842b2bb021fdrow3_col2\" class=\"data row3 col2\" >0.1</td>\n",
       "                        <td id=\"T_46ddf754_5130_11e9_975a_842b2bb021fdrow3_col3\" class=\"data row3 col3\" >12</td>\n",
       "                        <td id=\"T_46ddf754_5130_11e9_975a_842b2bb021fdrow3_col4\" class=\"data row3 col4\" >[128]</td>\n",
       "                        <td id=\"T_46ddf754_5130_11e9_975a_842b2bb021fdrow3_col5\" class=\"data row3 col5\" >6.84776</td>\n",
       "                        <td id=\"T_46ddf754_5130_11e9_975a_842b2bb021fdrow3_col6\" class=\"data row3 col6\" >200</td>\n",
       "                        <td id=\"T_46ddf754_5130_11e9_975a_842b2bb021fdrow3_col7\" class=\"data row3 col7\" >6.54923</td>\n",
       "            </tr>\n",
       "            <tr>\n",
       "                        <th id=\"T_46ddf754_5130_11e9_975a_842b2bb021fdlevel0_row4\" class=\"row_heading level0 row4\" >33</th>\n",
       "                        <td id=\"T_46ddf754_5130_11e9_975a_842b2bb021fdrow4_col0\" class=\"data row4 col0\" >192</td>\n",
       "                        <td id=\"T_46ddf754_5130_11e9_975a_842b2bb021fdrow4_col1\" class=\"data row4 col1\" >1</td>\n",
       "                        <td id=\"T_46ddf754_5130_11e9_975a_842b2bb021fdrow4_col2\" class=\"data row4 col2\" >0.1</td>\n",
       "                        <td id=\"T_46ddf754_5130_11e9_975a_842b2bb021fdrow4_col3\" class=\"data row4 col3\" >18</td>\n",
       "                        <td id=\"T_46ddf754_5130_11e9_975a_842b2bb021fdrow4_col4\" class=\"data row4 col4\" >[128]</td>\n",
       "                        <td id=\"T_46ddf754_5130_11e9_975a_842b2bb021fdrow4_col5\" class=\"data row4 col5\" >6.84483</td>\n",
       "                        <td id=\"T_46ddf754_5130_11e9_975a_842b2bb021fdrow4_col6\" class=\"data row4 col6\" >200</td>\n",
       "                        <td id=\"T_46ddf754_5130_11e9_975a_842b2bb021fdrow4_col7\" class=\"data row4 col7\" >6.54276</td>\n",
       "            </tr>\n",
       "            <tr>\n",
       "                        <th id=\"T_46ddf754_5130_11e9_975a_842b2bb021fdlevel0_row5\" class=\"row_heading level0 row5\" >36</th>\n",
       "                        <td id=\"T_46ddf754_5130_11e9_975a_842b2bb021fdrow5_col0\" class=\"data row5 col0\" >192</td>\n",
       "                        <td id=\"T_46ddf754_5130_11e9_975a_842b2bb021fdrow5_col1\" class=\"data row5 col1\" >2</td>\n",
       "                        <td id=\"T_46ddf754_5130_11e9_975a_842b2bb021fdrow5_col2\" class=\"data row5 col2\" >0.0</td>\n",
       "                        <td id=\"T_46ddf754_5130_11e9_975a_842b2bb021fdrow5_col3\" class=\"data row5 col3\" >12</td>\n",
       "                        <td id=\"T_46ddf754_5130_11e9_975a_842b2bb021fdrow5_col4\" class=\"data row5 col4\" >[128]</td>\n",
       "                        <td id=\"T_46ddf754_5130_11e9_975a_842b2bb021fdrow5_col5\" class=\"data row5 col5\" >6.81486</td>\n",
       "                        <td id=\"T_46ddf754_5130_11e9_975a_842b2bb021fdrow5_col6\" class=\"data row5 col6\" >200</td>\n",
       "                        <td id=\"T_46ddf754_5130_11e9_975a_842b2bb021fdrow5_col7\" class=\"data row5 col7\" >6.50925</td>\n",
       "            </tr>\n",
       "            <tr>\n",
       "                        <th id=\"T_46ddf754_5130_11e9_975a_842b2bb021fdlevel0_row6\" class=\"row_heading level0 row6\" >38</th>\n",
       "                        <td id=\"T_46ddf754_5130_11e9_975a_842b2bb021fdrow6_col0\" class=\"data row6 col0\" >192</td>\n",
       "                        <td id=\"T_46ddf754_5130_11e9_975a_842b2bb021fdrow6_col1\" class=\"data row6 col1\" >2</td>\n",
       "                        <td id=\"T_46ddf754_5130_11e9_975a_842b2bb021fdrow6_col2\" class=\"data row6 col2\" >0.0</td>\n",
       "                        <td id=\"T_46ddf754_5130_11e9_975a_842b2bb021fdrow6_col3\" class=\"data row6 col3\" >12</td>\n",
       "                        <td id=\"T_46ddf754_5130_11e9_975a_842b2bb021fdrow6_col4\" class=\"data row6 col4\" >[64]</td>\n",
       "                        <td id=\"T_46ddf754_5130_11e9_975a_842b2bb021fdrow6_col5\" class=\"data row6 col5\" >6.80376</td>\n",
       "                        <td id=\"T_46ddf754_5130_11e9_975a_842b2bb021fdrow6_col6\" class=\"data row6 col6\" >200</td>\n",
       "                        <td id=\"T_46ddf754_5130_11e9_975a_842b2bb021fdrow6_col7\" class=\"data row6 col7\" >6.51144</td>\n",
       "            </tr>\n",
       "            <tr>\n",
       "                        <th id=\"T_46ddf754_5130_11e9_975a_842b2bb021fdlevel0_row7\" class=\"row_heading level0 row7\" >42</th>\n",
       "                        <td id=\"T_46ddf754_5130_11e9_975a_842b2bb021fdrow7_col0\" class=\"data row7 col0\" >192</td>\n",
       "                        <td id=\"T_46ddf754_5130_11e9_975a_842b2bb021fdrow7_col1\" class=\"data row7 col1\" >2</td>\n",
       "                        <td id=\"T_46ddf754_5130_11e9_975a_842b2bb021fdrow7_col2\" class=\"data row7 col2\" >0.1</td>\n",
       "                        <td id=\"T_46ddf754_5130_11e9_975a_842b2bb021fdrow7_col3\" class=\"data row7 col3\" >12</td>\n",
       "                        <td id=\"T_46ddf754_5130_11e9_975a_842b2bb021fdrow7_col4\" class=\"data row7 col4\" >[128]</td>\n",
       "                        <td id=\"T_46ddf754_5130_11e9_975a_842b2bb021fdrow7_col5\" class=\"data row7 col5\" >6.81124</td>\n",
       "                        <td id=\"T_46ddf754_5130_11e9_975a_842b2bb021fdrow7_col6\" class=\"data row7 col6\" >200</td>\n",
       "                        <td id=\"T_46ddf754_5130_11e9_975a_842b2bb021fdrow7_col7\" class=\"data row7 col7\" >6.5089</td>\n",
       "            </tr>\n",
       "            <tr>\n",
       "                        <th id=\"T_46ddf754_5130_11e9_975a_842b2bb021fdlevel0_row8\" class=\"row_heading level0 row8\" >44</th>\n",
       "                        <td id=\"T_46ddf754_5130_11e9_975a_842b2bb021fdrow8_col0\" class=\"data row8 col0\" >192</td>\n",
       "                        <td id=\"T_46ddf754_5130_11e9_975a_842b2bb021fdrow8_col1\" class=\"data row8 col1\" >2</td>\n",
       "                        <td id=\"T_46ddf754_5130_11e9_975a_842b2bb021fdrow8_col2\" class=\"data row8 col2\" >0.1</td>\n",
       "                        <td id=\"T_46ddf754_5130_11e9_975a_842b2bb021fdrow8_col3\" class=\"data row8 col3\" >12</td>\n",
       "                        <td id=\"T_46ddf754_5130_11e9_975a_842b2bb021fdrow8_col4\" class=\"data row8 col4\" >[64]</td>\n",
       "                        <td id=\"T_46ddf754_5130_11e9_975a_842b2bb021fdrow8_col5\" class=\"data row8 col5\" >6.81614</td>\n",
       "                        <td id=\"T_46ddf754_5130_11e9_975a_842b2bb021fdrow8_col6\" class=\"data row8 col6\" >200</td>\n",
       "                        <td id=\"T_46ddf754_5130_11e9_975a_842b2bb021fdrow8_col7\" class=\"data row8 col7\" >6.52291</td>\n",
       "            </tr>\n",
       "            <tr>\n",
       "                        <th id=\"T_46ddf754_5130_11e9_975a_842b2bb021fdlevel0_row9\" class=\"row_heading level0 row9\" >47</th>\n",
       "                        <td id=\"T_46ddf754_5130_11e9_975a_842b2bb021fdrow9_col0\" class=\"data row9 col0\" >192</td>\n",
       "                        <td id=\"T_46ddf754_5130_11e9_975a_842b2bb021fdrow9_col1\" class=\"data row9 col1\" >2</td>\n",
       "                        <td id=\"T_46ddf754_5130_11e9_975a_842b2bb021fdrow9_col2\" class=\"data row9 col2\" >0.1</td>\n",
       "                        <td id=\"T_46ddf754_5130_11e9_975a_842b2bb021fdrow9_col3\" class=\"data row9 col3\" >18</td>\n",
       "                        <td id=\"T_46ddf754_5130_11e9_975a_842b2bb021fdrow9_col4\" class=\"data row9 col4\" >[64]</td>\n",
       "                        <td id=\"T_46ddf754_5130_11e9_975a_842b2bb021fdrow9_col5\" class=\"data row9 col5\" >6.80252</td>\n",
       "                        <td id=\"T_46ddf754_5130_11e9_975a_842b2bb021fdrow9_col6\" class=\"data row9 col6\" >200</td>\n",
       "                        <td id=\"T_46ddf754_5130_11e9_975a_842b2bb021fdrow9_col7\" class=\"data row9 col7\" >6.5083</td>\n",
       "            </tr>\n",
       "            <tr>\n",
       "                        <th id=\"T_46ddf754_5130_11e9_975a_842b2bb021fdlevel0_row10\" class=\"row_heading level0 row10\" >48</th>\n",
       "                        <td id=\"T_46ddf754_5130_11e9_975a_842b2bb021fdrow10_col0\" class=\"data row10 col0\" >64</td>\n",
       "                        <td id=\"T_46ddf754_5130_11e9_975a_842b2bb021fdrow10_col1\" class=\"data row10 col1\" >1</td>\n",
       "                        <td id=\"T_46ddf754_5130_11e9_975a_842b2bb021fdrow10_col2\" class=\"data row10 col2\" >0.0</td>\n",
       "                        <td id=\"T_46ddf754_5130_11e9_975a_842b2bb021fdrow10_col3\" class=\"data row10 col3\" >12</td>\n",
       "                        <td id=\"T_46ddf754_5130_11e9_975a_842b2bb021fdrow10_col4\" class=\"data row10 col4\" >[128]</td>\n",
       "                        <td id=\"T_46ddf754_5130_11e9_975a_842b2bb021fdrow10_col5\" class=\"data row10 col5\" >6.81122</td>\n",
       "                        <td id=\"T_46ddf754_5130_11e9_975a_842b2bb021fdrow10_col6\" class=\"data row10 col6\" >200</td>\n",
       "                        <td id=\"T_46ddf754_5130_11e9_975a_842b2bb021fdrow10_col7\" class=\"data row10 col7\" >6.50493</td>\n",
       "            </tr>\n",
       "            <tr>\n",
       "                        <th id=\"T_46ddf754_5130_11e9_975a_842b2bb021fdlevel0_row11\" class=\"row_heading level0 row11\" >50</th>\n",
       "                        <td id=\"T_46ddf754_5130_11e9_975a_842b2bb021fdrow11_col0\" class=\"data row11 col0\" >64</td>\n",
       "                        <td id=\"T_46ddf754_5130_11e9_975a_842b2bb021fdrow11_col1\" class=\"data row11 col1\" >1</td>\n",
       "                        <td id=\"T_46ddf754_5130_11e9_975a_842b2bb021fdrow11_col2\" class=\"data row11 col2\" >0.0</td>\n",
       "                        <td id=\"T_46ddf754_5130_11e9_975a_842b2bb021fdrow11_col3\" class=\"data row11 col3\" >12</td>\n",
       "                        <td id=\"T_46ddf754_5130_11e9_975a_842b2bb021fdrow11_col4\" class=\"data row11 col4\" >[64]</td>\n",
       "                        <td id=\"T_46ddf754_5130_11e9_975a_842b2bb021fdrow11_col5\" class=\"data row11 col5\" >6.80115</td>\n",
       "                        <td id=\"T_46ddf754_5130_11e9_975a_842b2bb021fdrow11_col6\" class=\"data row11 col6\" >200</td>\n",
       "                        <td id=\"T_46ddf754_5130_11e9_975a_842b2bb021fdrow11_col7\" class=\"data row11 col7\" >6.49167</td>\n",
       "            </tr>\n",
       "            <tr>\n",
       "                        <th id=\"T_46ddf754_5130_11e9_975a_842b2bb021fdlevel0_row12\" class=\"row_heading level0 row12\" >54</th>\n",
       "                        <td id=\"T_46ddf754_5130_11e9_975a_842b2bb021fdrow12_col0\" class=\"data row12 col0\" >64</td>\n",
       "                        <td id=\"T_46ddf754_5130_11e9_975a_842b2bb021fdrow12_col1\" class=\"data row12 col1\" >1</td>\n",
       "                        <td id=\"T_46ddf754_5130_11e9_975a_842b2bb021fdrow12_col2\" class=\"data row12 col2\" >0.1</td>\n",
       "                        <td id=\"T_46ddf754_5130_11e9_975a_842b2bb021fdrow12_col3\" class=\"data row12 col3\" >12</td>\n",
       "                        <td id=\"T_46ddf754_5130_11e9_975a_842b2bb021fdrow12_col4\" class=\"data row12 col4\" >[128]</td>\n",
       "                        <td id=\"T_46ddf754_5130_11e9_975a_842b2bb021fdrow12_col5\" class=\"data row12 col5\" >6.82903</td>\n",
       "                        <td id=\"T_46ddf754_5130_11e9_975a_842b2bb021fdrow12_col6\" class=\"data row12 col6\" >200</td>\n",
       "                        <td id=\"T_46ddf754_5130_11e9_975a_842b2bb021fdrow12_col7\" class=\"data row12 col7\" >6.51836</td>\n",
       "            </tr>\n",
       "            <tr>\n",
       "                        <th id=\"T_46ddf754_5130_11e9_975a_842b2bb021fdlevel0_row13\" class=\"row_heading level0 row13\" >60</th>\n",
       "                        <td id=\"T_46ddf754_5130_11e9_975a_842b2bb021fdrow13_col0\" class=\"data row13 col0\" >64</td>\n",
       "                        <td id=\"T_46ddf754_5130_11e9_975a_842b2bb021fdrow13_col1\" class=\"data row13 col1\" >2</td>\n",
       "                        <td id=\"T_46ddf754_5130_11e9_975a_842b2bb021fdrow13_col2\" class=\"data row13 col2\" >0.0</td>\n",
       "                        <td id=\"T_46ddf754_5130_11e9_975a_842b2bb021fdrow13_col3\" class=\"data row13 col3\" >12</td>\n",
       "                        <td id=\"T_46ddf754_5130_11e9_975a_842b2bb021fdrow13_col4\" class=\"data row13 col4\" >[128]</td>\n",
       "                        <td id=\"T_46ddf754_5130_11e9_975a_842b2bb021fdrow13_col5\" class=\"data row13 col5\" >6.80081</td>\n",
       "                        <td id=\"T_46ddf754_5130_11e9_975a_842b2bb021fdrow13_col6\" class=\"data row13 col6\" >200</td>\n",
       "                        <td id=\"T_46ddf754_5130_11e9_975a_842b2bb021fdrow13_col7\" class=\"data row13 col7\" >6.49484</td>\n",
       "            </tr>\n",
       "            <tr>\n",
       "                        <th id=\"T_46ddf754_5130_11e9_975a_842b2bb021fdlevel0_row14\" class=\"row_heading level0 row14\" >66</th>\n",
       "                        <td id=\"T_46ddf754_5130_11e9_975a_842b2bb021fdrow14_col0\" class=\"data row14 col0\" >64</td>\n",
       "                        <td id=\"T_46ddf754_5130_11e9_975a_842b2bb021fdrow14_col1\" class=\"data row14 col1\" >2</td>\n",
       "                        <td id=\"T_46ddf754_5130_11e9_975a_842b2bb021fdrow14_col2\" class=\"data row14 col2\" >0.1</td>\n",
       "                        <td id=\"T_46ddf754_5130_11e9_975a_842b2bb021fdrow14_col3\" class=\"data row14 col3\" >12</td>\n",
       "                        <td id=\"T_46ddf754_5130_11e9_975a_842b2bb021fdrow14_col4\" class=\"data row14 col4\" >[128]</td>\n",
       "                        <td id=\"T_46ddf754_5130_11e9_975a_842b2bb021fdrow14_col5\" class=\"data row14 col5\" >6.86837</td>\n",
       "                        <td id=\"T_46ddf754_5130_11e9_975a_842b2bb021fdrow14_col6\" class=\"data row14 col6\" >200</td>\n",
       "                        <td id=\"T_46ddf754_5130_11e9_975a_842b2bb021fdrow14_col7\" class=\"data row14 col7\" >6.56704</td>\n",
       "            </tr>\n",
       "            <tr>\n",
       "                        <th id=\"T_46ddf754_5130_11e9_975a_842b2bb021fdlevel0_row15\" class=\"row_heading level0 row15\" >69</th>\n",
       "                        <td id=\"T_46ddf754_5130_11e9_975a_842b2bb021fdrow15_col0\" class=\"data row15 col0\" >64</td>\n",
       "                        <td id=\"T_46ddf754_5130_11e9_975a_842b2bb021fdrow15_col1\" class=\"data row15 col1\" >2</td>\n",
       "                        <td id=\"T_46ddf754_5130_11e9_975a_842b2bb021fdrow15_col2\" class=\"data row15 col2\" >0.1</td>\n",
       "                        <td id=\"T_46ddf754_5130_11e9_975a_842b2bb021fdrow15_col3\" class=\"data row15 col3\" >18</td>\n",
       "                        <td id=\"T_46ddf754_5130_11e9_975a_842b2bb021fdrow15_col4\" class=\"data row15 col4\" >[128]</td>\n",
       "                        <td id=\"T_46ddf754_5130_11e9_975a_842b2bb021fdrow15_col5\" class=\"data row15 col5\" >6.85315</td>\n",
       "                        <td id=\"T_46ddf754_5130_11e9_975a_842b2bb021fdrow15_col6\" class=\"data row15 col6\" >200</td>\n",
       "                        <td id=\"T_46ddf754_5130_11e9_975a_842b2bb021fdrow15_col7\" class=\"data row15 col7\" >6.55769</td>\n",
       "            </tr>\n",
       "            <tr>\n",
       "                        <th id=\"T_46ddf754_5130_11e9_975a_842b2bb021fdlevel0_row16\" class=\"row_heading level0 row16\" >71</th>\n",
       "                        <td id=\"T_46ddf754_5130_11e9_975a_842b2bb021fdrow16_col0\" class=\"data row16 col0\" >64</td>\n",
       "                        <td id=\"T_46ddf754_5130_11e9_975a_842b2bb021fdrow16_col1\" class=\"data row16 col1\" >2</td>\n",
       "                        <td id=\"T_46ddf754_5130_11e9_975a_842b2bb021fdrow16_col2\" class=\"data row16 col2\" >0.1</td>\n",
       "                        <td id=\"T_46ddf754_5130_11e9_975a_842b2bb021fdrow16_col3\" class=\"data row16 col3\" >18</td>\n",
       "                        <td id=\"T_46ddf754_5130_11e9_975a_842b2bb021fdrow16_col4\" class=\"data row16 col4\" >[64]</td>\n",
       "                        <td id=\"T_46ddf754_5130_11e9_975a_842b2bb021fdrow16_col5\" class=\"data row16 col5\" >6.8178</td>\n",
       "                        <td id=\"T_46ddf754_5130_11e9_975a_842b2bb021fdrow16_col6\" class=\"data row16 col6\" >200</td>\n",
       "                        <td id=\"T_46ddf754_5130_11e9_975a_842b2bb021fdrow16_col7\" class=\"data row16 col7\" >6.52059</td>\n",
       "            </tr>\n",
       "    </tbody></table>"
      ],
      "text/plain": [
       "<pandas.io.formats.style.Styler at 0x7f3835ca4eb8>"
      ]
     },
     "execution_count": 88,
     "metadata": {},
     "output_type": "execute_result"
    }
   ],
   "source": [
    "\n",
    "b =a.groupby(by=['neurons', 'nlayers', 'drop', 'lag', 'full'],as_index=False).agg({'test':['mean','count'], 'val':'mean', })\n",
    "\n",
    "b[b['test']['mean'] > 6.8].style.highlight_max()"
   ]
  },
  {
   "cell_type": "code",
   "execution_count": 89,
   "metadata": {},
   "outputs": [
    {
     "data": {
      "application/vnd.plotly.v1+json": {
       "config": {
        "linkText": "Export to plot.ly",
        "plotlyServerURL": "https://plot.ly",
        "showLink": false
       },
       "data": [
        {
         "marker": {
          "size": [
           40,
           40,
           40,
           40,
           40,
           40,
           40,
           40,
           40,
           40,
           40,
           40,
           40,
           40,
           40,
           40,
           40,
           40,
           40,
           40,
           40,
           40,
           40,
           40
          ]
         },
         "mode": "markers",
         "name": "128",
         "text": [
          "full:[128]-nlayers:1-lag:12-neurons:128",
          "full:[32]-nlayers:1-lag:12-neurons:128",
          "full:[64]-nlayers:1-lag:12-neurons:128",
          "full:[128]-nlayers:1-lag:18-neurons:128",
          "full:[32]-nlayers:1-lag:18-neurons:128",
          "full:[64]-nlayers:1-lag:18-neurons:128",
          "full:[128]-nlayers:1-lag:12-neurons:128",
          "full:[32]-nlayers:1-lag:12-neurons:128",
          "full:[64]-nlayers:1-lag:12-neurons:128",
          "full:[128]-nlayers:1-lag:18-neurons:128",
          "full:[32]-nlayers:1-lag:18-neurons:128",
          "full:[64]-nlayers:1-lag:18-neurons:128",
          "full:[128]-nlayers:2-lag:12-neurons:128",
          "full:[32]-nlayers:2-lag:12-neurons:128",
          "full:[64]-nlayers:2-lag:12-neurons:128",
          "full:[128]-nlayers:2-lag:18-neurons:128",
          "full:[32]-nlayers:2-lag:18-neurons:128",
          "full:[64]-nlayers:2-lag:18-neurons:128",
          "full:[128]-nlayers:2-lag:12-neurons:128",
          "full:[32]-nlayers:2-lag:12-neurons:128",
          "full:[64]-nlayers:2-lag:12-neurons:128",
          "full:[128]-nlayers:2-lag:18-neurons:128",
          "full:[32]-nlayers:2-lag:18-neurons:128",
          "full:[64]-nlayers:2-lag:18-neurons:128"
         ],
         "type": "scatter",
         "uid": "2add38cb-973c-4c25-bc3a-c848b6411396",
         "x": [
          6.786426558925829,
          6.748759982821429,
          6.780277306286555,
          6.772822463330417,
          6.715801467992761,
          6.754520941806063,
          6.790245592259088,
          6.75249206952576,
          6.777254422468243,
          6.769418531259874,
          6.714980115572929,
          6.755448291939245,
          6.8119643739452025,
          6.764059883688143,
          6.799432363707405,
          6.794545228655296,
          6.728511608551005,
          6.78080557629876,
          6.828501612126223,
          6.773958750929721,
          6.847447536424835,
          6.792203136524824,
          6.730553160955674,
          6.771801810697843
         ],
         "y": [
          6.4804832330172335,
          6.456745626299886,
          6.479303182114202,
          6.469184072674045,
          6.426663060472622,
          6.451491936242325,
          6.48495554569446,
          6.457762336017653,
          6.475107350483227,
          6.463605291152328,
          6.422283120132828,
          6.4486262036297095,
          6.503861436683567,
          6.470780518812217,
          6.4965940588265605,
          6.491200039779327,
          6.4371534408651145,
          6.482923531314397,
          6.524413351740976,
          6.476302757025243,
          6.544516149332821,
          6.482718965684819,
          6.44122396852435,
          6.477193764209876
         ]
        },
        {
         "marker": {
          "size": [
           40,
           40,
           40,
           40,
           40,
           40,
           40,
           40,
           40,
           40,
           40,
           40,
           40,
           40,
           40,
           40,
           40,
           40,
           40,
           40,
           40,
           40,
           40,
           40
          ]
         },
         "mode": "markers",
         "name": "192",
         "text": [
          "full:[128]-nlayers:1-lag:12-neurons:192",
          "full:[32]-nlayers:1-lag:12-neurons:192",
          "full:[64]-nlayers:1-lag:12-neurons:192",
          "full:[128]-nlayers:1-lag:18-neurons:192",
          "full:[32]-nlayers:1-lag:18-neurons:192",
          "full:[64]-nlayers:1-lag:18-neurons:192",
          "full:[128]-nlayers:1-lag:12-neurons:192",
          "full:[32]-nlayers:1-lag:12-neurons:192",
          "full:[64]-nlayers:1-lag:12-neurons:192",
          "full:[128]-nlayers:1-lag:18-neurons:192",
          "full:[32]-nlayers:1-lag:18-neurons:192",
          "full:[64]-nlayers:1-lag:18-neurons:192",
          "full:[128]-nlayers:2-lag:12-neurons:192",
          "full:[32]-nlayers:2-lag:12-neurons:192",
          "full:[64]-nlayers:2-lag:12-neurons:192",
          "full:[128]-nlayers:2-lag:18-neurons:192",
          "full:[32]-nlayers:2-lag:18-neurons:192",
          "full:[64]-nlayers:2-lag:18-neurons:192",
          "full:[128]-nlayers:2-lag:12-neurons:192",
          "full:[32]-nlayers:2-lag:12-neurons:192",
          "full:[64]-nlayers:2-lag:12-neurons:192",
          "full:[128]-nlayers:2-lag:18-neurons:192",
          "full:[32]-nlayers:2-lag:18-neurons:192",
          "full:[64]-nlayers:2-lag:18-neurons:192"
         ],
         "type": "scatter",
         "uid": "e037ff8e-43f9-4571-af51-39424702f15f",
         "x": [
          6.779413643431664,
          6.733027898294851,
          6.769667171345963,
          6.76007597943292,
          6.689514210276773,
          6.7404386184813765,
          6.847763350342401,
          6.732644546389284,
          6.76719265110136,
          6.844834896798274,
          6.689583139889441,
          6.73665249596157,
          6.814856041406716,
          6.759988806404827,
          6.803758506825522,
          6.7963618814872255,
          6.716146574706039,
          6.77926818165497,
          6.811236295893064,
          6.760918458451474,
          6.816142501239398,
          6.789858780250001,
          6.718423669856787,
          6.802523631216432
         ],
         "y": [
          6.475043236008717,
          6.443292888672579,
          6.468344522129272,
          6.455632847379672,
          6.4061627300951045,
          6.446717739381565,
          6.54923321648863,
          6.446035827595189,
          6.4752725521450705,
          6.542762293593247,
          6.399914790462791,
          6.445044549637714,
          6.5092470226787995,
          6.4726386054647325,
          6.511443591819152,
          6.48630525440829,
          6.439124086839465,
          6.484945259313886,
          6.50889870803265,
          6.475862495009266,
          6.522910212722348,
          6.495609999646469,
          6.433615034816282,
          6.508298308303244
         ]
        },
        {
         "marker": {
          "size": [
           40,
           40,
           40,
           40,
           40,
           40,
           40,
           40,
           40,
           40,
           40,
           40,
           40,
           40,
           40,
           40,
           40,
           40,
           40,
           40,
           40,
           40,
           40,
           40
          ]
         },
         "mode": "markers",
         "name": "64",
         "text": [
          "full:[128]-nlayers:1-lag:12-neurons:64",
          "full:[32]-nlayers:1-lag:12-neurons:64",
          "full:[64]-nlayers:1-lag:12-neurons:64",
          "full:[128]-nlayers:1-lag:18-neurons:64",
          "full:[32]-nlayers:1-lag:18-neurons:64",
          "full:[64]-nlayers:1-lag:18-neurons:64",
          "full:[128]-nlayers:1-lag:12-neurons:64",
          "full:[32]-nlayers:1-lag:12-neurons:64",
          "full:[64]-nlayers:1-lag:12-neurons:64",
          "full:[128]-nlayers:1-lag:18-neurons:64",
          "full:[32]-nlayers:1-lag:18-neurons:64",
          "full:[64]-nlayers:1-lag:18-neurons:64",
          "full:[128]-nlayers:2-lag:12-neurons:64",
          "full:[32]-nlayers:2-lag:12-neurons:64",
          "full:[64]-nlayers:2-lag:12-neurons:64",
          "full:[128]-nlayers:2-lag:18-neurons:64",
          "full:[32]-nlayers:2-lag:18-neurons:64",
          "full:[64]-nlayers:2-lag:18-neurons:64",
          "full:[128]-nlayers:2-lag:12-neurons:64",
          "full:[32]-nlayers:2-lag:12-neurons:64",
          "full:[64]-nlayers:2-lag:12-neurons:64",
          "full:[128]-nlayers:2-lag:18-neurons:64",
          "full:[32]-nlayers:2-lag:18-neurons:64",
          "full:[64]-nlayers:2-lag:18-neurons:64"
         ],
         "type": "scatter",
         "uid": "4f12cce9-6904-4830-9a09-c4fac75feaa9",
         "x": [
          6.811220745035163,
          6.777185714372277,
          6.8011488136345495,
          6.794772158062771,
          6.750006851070392,
          6.784875016577616,
          6.829029697669391,
          6.778339199222465,
          6.796293751165449,
          6.796877696102672,
          6.757236813941435,
          6.776439915165692,
          6.800811668515423,
          6.7819179082839325,
          6.796165471889679,
          6.784650965093692,
          6.738370198564042,
          6.773251376831152,
          6.868369331238133,
          6.774196405039309,
          6.7982782713982814,
          6.853152621657215,
          6.741812177963983,
          6.817795834868571
         ],
         "y": [
          6.504925240573048,
          6.475107841065611,
          6.4916674588365515,
          6.4775251958082265,
          6.445907438094817,
          6.468124676250984,
          6.518358959459278,
          6.4760715465961765,
          6.496199429371457,
          6.480100063969233,
          6.441067138748782,
          6.46808035464378,
          6.49484113383679,
          6.478641684639999,
          6.493888100732346,
          6.4689787982120155,
          6.445125232823608,
          6.467309068839768,
          6.5670394244777786,
          6.472304653701077,
          6.489071326281519,
          6.557690121994153,
          6.448884975400608,
          6.520592609487116
         ]
        }
       ],
       "layout": {}
      },
      "text/html": [
       "<div id=\"936dcea7-970e-41db-a98b-6850a5bb59c4\" style=\"height: 525px; width: 100%;\" class=\"plotly-graph-div\"></div><script type=\"text/javascript\">require([\"plotly\"], function(Plotly) { window.PLOTLYENV=window.PLOTLYENV || {};window.PLOTLYENV.BASE_URL=\"https://plot.ly\";\n",
       "if (document.getElementById(\"936dcea7-970e-41db-a98b-6850a5bb59c4\")) {\n",
       "    Plotly.newPlot(\"936dcea7-970e-41db-a98b-6850a5bb59c4\", [{\"marker\": {\"size\": [40.0, 40.0, 40.0, 40.0, 40.0, 40.0, 40.0, 40.0, 40.0, 40.0, 40.0, 40.0, 40.0, 40.0, 40.0, 40.0, 40.0, 40.0, 40.0, 40.0, 40.0, 40.0, 40.0, 40.0]}, \"mode\": \"markers\", \"name\": \"128\", \"text\": [\"full:[128]-nlayers:1-lag:12-neurons:128\", \"full:[32]-nlayers:1-lag:12-neurons:128\", \"full:[64]-nlayers:1-lag:12-neurons:128\", \"full:[128]-nlayers:1-lag:18-neurons:128\", \"full:[32]-nlayers:1-lag:18-neurons:128\", \"full:[64]-nlayers:1-lag:18-neurons:128\", \"full:[128]-nlayers:1-lag:12-neurons:128\", \"full:[32]-nlayers:1-lag:12-neurons:128\", \"full:[64]-nlayers:1-lag:12-neurons:128\", \"full:[128]-nlayers:1-lag:18-neurons:128\", \"full:[32]-nlayers:1-lag:18-neurons:128\", \"full:[64]-nlayers:1-lag:18-neurons:128\", \"full:[128]-nlayers:2-lag:12-neurons:128\", \"full:[32]-nlayers:2-lag:12-neurons:128\", \"full:[64]-nlayers:2-lag:12-neurons:128\", \"full:[128]-nlayers:2-lag:18-neurons:128\", \"full:[32]-nlayers:2-lag:18-neurons:128\", \"full:[64]-nlayers:2-lag:18-neurons:128\", \"full:[128]-nlayers:2-lag:12-neurons:128\", \"full:[32]-nlayers:2-lag:12-neurons:128\", \"full:[64]-nlayers:2-lag:12-neurons:128\", \"full:[128]-nlayers:2-lag:18-neurons:128\", \"full:[32]-nlayers:2-lag:18-neurons:128\", \"full:[64]-nlayers:2-lag:18-neurons:128\"], \"x\": [6.786426558925829, 6.748759982821429, 6.780277306286555, 6.772822463330417, 6.715801467992761, 6.754520941806063, 6.790245592259088, 6.75249206952576, 6.777254422468243, 6.769418531259874, 6.714980115572929, 6.755448291939245, 6.8119643739452025, 6.764059883688143, 6.799432363707405, 6.794545228655296, 6.728511608551005, 6.78080557629876, 6.828501612126223, 6.773958750929721, 6.847447536424835, 6.792203136524824, 6.730553160955674, 6.771801810697843], \"y\": [6.4804832330172335, 6.456745626299886, 6.479303182114202, 6.469184072674045, 6.426663060472622, 6.451491936242325, 6.48495554569446, 6.457762336017653, 6.475107350483227, 6.463605291152328, 6.422283120132828, 6.4486262036297095, 6.503861436683567, 6.470780518812217, 6.4965940588265605, 6.491200039779327, 6.4371534408651145, 6.482923531314397, 6.524413351740976, 6.476302757025243, 6.544516149332821, 6.482718965684819, 6.44122396852435, 6.477193764209876], \"type\": \"scatter\", \"uid\": \"d695559e-cf29-478b-91a0-59251c716312\"}, {\"marker\": {\"size\": [40.0, 40.0, 40.0, 40.0, 40.0, 40.0, 40.0, 40.0, 40.0, 40.0, 40.0, 40.0, 40.0, 40.0, 40.0, 40.0, 40.0, 40.0, 40.0, 40.0, 40.0, 40.0, 40.0, 40.0]}, \"mode\": \"markers\", \"name\": \"192\", \"text\": [\"full:[128]-nlayers:1-lag:12-neurons:192\", \"full:[32]-nlayers:1-lag:12-neurons:192\", \"full:[64]-nlayers:1-lag:12-neurons:192\", \"full:[128]-nlayers:1-lag:18-neurons:192\", \"full:[32]-nlayers:1-lag:18-neurons:192\", \"full:[64]-nlayers:1-lag:18-neurons:192\", \"full:[128]-nlayers:1-lag:12-neurons:192\", \"full:[32]-nlayers:1-lag:12-neurons:192\", \"full:[64]-nlayers:1-lag:12-neurons:192\", \"full:[128]-nlayers:1-lag:18-neurons:192\", \"full:[32]-nlayers:1-lag:18-neurons:192\", \"full:[64]-nlayers:1-lag:18-neurons:192\", \"full:[128]-nlayers:2-lag:12-neurons:192\", \"full:[32]-nlayers:2-lag:12-neurons:192\", \"full:[64]-nlayers:2-lag:12-neurons:192\", \"full:[128]-nlayers:2-lag:18-neurons:192\", \"full:[32]-nlayers:2-lag:18-neurons:192\", \"full:[64]-nlayers:2-lag:18-neurons:192\", \"full:[128]-nlayers:2-lag:12-neurons:192\", \"full:[32]-nlayers:2-lag:12-neurons:192\", \"full:[64]-nlayers:2-lag:12-neurons:192\", \"full:[128]-nlayers:2-lag:18-neurons:192\", \"full:[32]-nlayers:2-lag:18-neurons:192\", \"full:[64]-nlayers:2-lag:18-neurons:192\"], \"x\": [6.779413643431664, 6.733027898294851, 6.769667171345963, 6.76007597943292, 6.689514210276773, 6.7404386184813765, 6.847763350342401, 6.732644546389284, 6.76719265110136, 6.844834896798274, 6.689583139889441, 6.73665249596157, 6.814856041406716, 6.759988806404827, 6.803758506825522, 6.7963618814872255, 6.716146574706039, 6.77926818165497, 6.811236295893064, 6.760918458451474, 6.816142501239398, 6.789858780250001, 6.718423669856787, 6.802523631216432], \"y\": [6.475043236008717, 6.443292888672579, 6.468344522129272, 6.455632847379672, 6.4061627300951045, 6.446717739381565, 6.54923321648863, 6.446035827595189, 6.4752725521450705, 6.542762293593247, 6.399914790462791, 6.445044549637714, 6.5092470226787995, 6.4726386054647325, 6.511443591819152, 6.48630525440829, 6.439124086839465, 6.484945259313886, 6.50889870803265, 6.475862495009266, 6.522910212722348, 6.495609999646469, 6.433615034816282, 6.508298308303244], \"type\": \"scatter\", \"uid\": \"58ebd6b9-1073-43d0-b1c3-67b1a68c9e65\"}, {\"marker\": {\"size\": [40.0, 40.0, 40.0, 40.0, 40.0, 40.0, 40.0, 40.0, 40.0, 40.0, 40.0, 40.0, 40.0, 40.0, 40.0, 40.0, 40.0, 40.0, 40.0, 40.0, 40.0, 40.0, 40.0, 40.0]}, \"mode\": \"markers\", \"name\": \"64\", \"text\": [\"full:[128]-nlayers:1-lag:12-neurons:64\", \"full:[32]-nlayers:1-lag:12-neurons:64\", \"full:[64]-nlayers:1-lag:12-neurons:64\", \"full:[128]-nlayers:1-lag:18-neurons:64\", \"full:[32]-nlayers:1-lag:18-neurons:64\", \"full:[64]-nlayers:1-lag:18-neurons:64\", \"full:[128]-nlayers:1-lag:12-neurons:64\", \"full:[32]-nlayers:1-lag:12-neurons:64\", \"full:[64]-nlayers:1-lag:12-neurons:64\", \"full:[128]-nlayers:1-lag:18-neurons:64\", \"full:[32]-nlayers:1-lag:18-neurons:64\", \"full:[64]-nlayers:1-lag:18-neurons:64\", \"full:[128]-nlayers:2-lag:12-neurons:64\", \"full:[32]-nlayers:2-lag:12-neurons:64\", \"full:[64]-nlayers:2-lag:12-neurons:64\", \"full:[128]-nlayers:2-lag:18-neurons:64\", \"full:[32]-nlayers:2-lag:18-neurons:64\", \"full:[64]-nlayers:2-lag:18-neurons:64\", \"full:[128]-nlayers:2-lag:12-neurons:64\", \"full:[32]-nlayers:2-lag:12-neurons:64\", \"full:[64]-nlayers:2-lag:12-neurons:64\", \"full:[128]-nlayers:2-lag:18-neurons:64\", \"full:[32]-nlayers:2-lag:18-neurons:64\", \"full:[64]-nlayers:2-lag:18-neurons:64\"], \"x\": [6.811220745035163, 6.777185714372277, 6.8011488136345495, 6.794772158062771, 6.750006851070392, 6.784875016577616, 6.829029697669391, 6.778339199222465, 6.796293751165449, 6.796877696102672, 6.757236813941435, 6.776439915165692, 6.800811668515423, 6.7819179082839325, 6.796165471889679, 6.784650965093692, 6.738370198564042, 6.773251376831152, 6.868369331238133, 6.774196405039309, 6.7982782713982814, 6.853152621657215, 6.741812177963983, 6.817795834868571], \"y\": [6.504925240573048, 6.475107841065611, 6.4916674588365515, 6.4775251958082265, 6.445907438094817, 6.468124676250984, 6.518358959459278, 6.4760715465961765, 6.496199429371457, 6.480100063969233, 6.441067138748782, 6.46808035464378, 6.49484113383679, 6.478641684639999, 6.493888100732346, 6.4689787982120155, 6.445125232823608, 6.467309068839768, 6.5670394244777786, 6.472304653701077, 6.489071326281519, 6.557690121994153, 6.448884975400608, 6.520592609487116], \"type\": \"scatter\", \"uid\": \"c8f95b78-25b7-47a3-9ded-bf4f074eae3d\"}], {}, {\"showLink\": false, \"linkText\": \"Export to plot.ly\", \"plotlyServerURL\": \"https://plot.ly\"}); \n",
       "}\n",
       "});</script><script type=\"text/javascript\">window.addEventListener(\"resize\", function(){if (document.getElementById(\"936dcea7-970e-41db-a98b-6850a5bb59c4\")) {window._Plotly.Plots.resize(document.getElementById(\"936dcea7-970e-41db-a98b-6850a5bb59c4\"));};})</script>"
      ],
      "text/vnd.plotly.v1+html": [
       "<div id=\"936dcea7-970e-41db-a98b-6850a5bb59c4\" style=\"height: 525px; width: 100%;\" class=\"plotly-graph-div\"></div><script type=\"text/javascript\">require([\"plotly\"], function(Plotly) { window.PLOTLYENV=window.PLOTLYENV || {};window.PLOTLYENV.BASE_URL=\"https://plot.ly\";\n",
       "if (document.getElementById(\"936dcea7-970e-41db-a98b-6850a5bb59c4\")) {\n",
       "    Plotly.newPlot(\"936dcea7-970e-41db-a98b-6850a5bb59c4\", [{\"marker\": {\"size\": [40.0, 40.0, 40.0, 40.0, 40.0, 40.0, 40.0, 40.0, 40.0, 40.0, 40.0, 40.0, 40.0, 40.0, 40.0, 40.0, 40.0, 40.0, 40.0, 40.0, 40.0, 40.0, 40.0, 40.0]}, \"mode\": \"markers\", \"name\": \"128\", \"text\": [\"full:[128]-nlayers:1-lag:12-neurons:128\", \"full:[32]-nlayers:1-lag:12-neurons:128\", \"full:[64]-nlayers:1-lag:12-neurons:128\", \"full:[128]-nlayers:1-lag:18-neurons:128\", \"full:[32]-nlayers:1-lag:18-neurons:128\", \"full:[64]-nlayers:1-lag:18-neurons:128\", \"full:[128]-nlayers:1-lag:12-neurons:128\", \"full:[32]-nlayers:1-lag:12-neurons:128\", \"full:[64]-nlayers:1-lag:12-neurons:128\", \"full:[128]-nlayers:1-lag:18-neurons:128\", \"full:[32]-nlayers:1-lag:18-neurons:128\", \"full:[64]-nlayers:1-lag:18-neurons:128\", \"full:[128]-nlayers:2-lag:12-neurons:128\", \"full:[32]-nlayers:2-lag:12-neurons:128\", \"full:[64]-nlayers:2-lag:12-neurons:128\", \"full:[128]-nlayers:2-lag:18-neurons:128\", \"full:[32]-nlayers:2-lag:18-neurons:128\", \"full:[64]-nlayers:2-lag:18-neurons:128\", \"full:[128]-nlayers:2-lag:12-neurons:128\", \"full:[32]-nlayers:2-lag:12-neurons:128\", \"full:[64]-nlayers:2-lag:12-neurons:128\", \"full:[128]-nlayers:2-lag:18-neurons:128\", \"full:[32]-nlayers:2-lag:18-neurons:128\", \"full:[64]-nlayers:2-lag:18-neurons:128\"], \"x\": [6.786426558925829, 6.748759982821429, 6.780277306286555, 6.772822463330417, 6.715801467992761, 6.754520941806063, 6.790245592259088, 6.75249206952576, 6.777254422468243, 6.769418531259874, 6.714980115572929, 6.755448291939245, 6.8119643739452025, 6.764059883688143, 6.799432363707405, 6.794545228655296, 6.728511608551005, 6.78080557629876, 6.828501612126223, 6.773958750929721, 6.847447536424835, 6.792203136524824, 6.730553160955674, 6.771801810697843], \"y\": [6.4804832330172335, 6.456745626299886, 6.479303182114202, 6.469184072674045, 6.426663060472622, 6.451491936242325, 6.48495554569446, 6.457762336017653, 6.475107350483227, 6.463605291152328, 6.422283120132828, 6.4486262036297095, 6.503861436683567, 6.470780518812217, 6.4965940588265605, 6.491200039779327, 6.4371534408651145, 6.482923531314397, 6.524413351740976, 6.476302757025243, 6.544516149332821, 6.482718965684819, 6.44122396852435, 6.477193764209876], \"type\": \"scatter\", \"uid\": \"d695559e-cf29-478b-91a0-59251c716312\"}, {\"marker\": {\"size\": [40.0, 40.0, 40.0, 40.0, 40.0, 40.0, 40.0, 40.0, 40.0, 40.0, 40.0, 40.0, 40.0, 40.0, 40.0, 40.0, 40.0, 40.0, 40.0, 40.0, 40.0, 40.0, 40.0, 40.0]}, \"mode\": \"markers\", \"name\": \"192\", \"text\": [\"full:[128]-nlayers:1-lag:12-neurons:192\", \"full:[32]-nlayers:1-lag:12-neurons:192\", \"full:[64]-nlayers:1-lag:12-neurons:192\", \"full:[128]-nlayers:1-lag:18-neurons:192\", \"full:[32]-nlayers:1-lag:18-neurons:192\", \"full:[64]-nlayers:1-lag:18-neurons:192\", \"full:[128]-nlayers:1-lag:12-neurons:192\", \"full:[32]-nlayers:1-lag:12-neurons:192\", \"full:[64]-nlayers:1-lag:12-neurons:192\", \"full:[128]-nlayers:1-lag:18-neurons:192\", \"full:[32]-nlayers:1-lag:18-neurons:192\", \"full:[64]-nlayers:1-lag:18-neurons:192\", \"full:[128]-nlayers:2-lag:12-neurons:192\", \"full:[32]-nlayers:2-lag:12-neurons:192\", \"full:[64]-nlayers:2-lag:12-neurons:192\", \"full:[128]-nlayers:2-lag:18-neurons:192\", \"full:[32]-nlayers:2-lag:18-neurons:192\", \"full:[64]-nlayers:2-lag:18-neurons:192\", \"full:[128]-nlayers:2-lag:12-neurons:192\", \"full:[32]-nlayers:2-lag:12-neurons:192\", \"full:[64]-nlayers:2-lag:12-neurons:192\", \"full:[128]-nlayers:2-lag:18-neurons:192\", \"full:[32]-nlayers:2-lag:18-neurons:192\", \"full:[64]-nlayers:2-lag:18-neurons:192\"], \"x\": [6.779413643431664, 6.733027898294851, 6.769667171345963, 6.76007597943292, 6.689514210276773, 6.7404386184813765, 6.847763350342401, 6.732644546389284, 6.76719265110136, 6.844834896798274, 6.689583139889441, 6.73665249596157, 6.814856041406716, 6.759988806404827, 6.803758506825522, 6.7963618814872255, 6.716146574706039, 6.77926818165497, 6.811236295893064, 6.760918458451474, 6.816142501239398, 6.789858780250001, 6.718423669856787, 6.802523631216432], \"y\": [6.475043236008717, 6.443292888672579, 6.468344522129272, 6.455632847379672, 6.4061627300951045, 6.446717739381565, 6.54923321648863, 6.446035827595189, 6.4752725521450705, 6.542762293593247, 6.399914790462791, 6.445044549637714, 6.5092470226787995, 6.4726386054647325, 6.511443591819152, 6.48630525440829, 6.439124086839465, 6.484945259313886, 6.50889870803265, 6.475862495009266, 6.522910212722348, 6.495609999646469, 6.433615034816282, 6.508298308303244], \"type\": \"scatter\", \"uid\": \"58ebd6b9-1073-43d0-b1c3-67b1a68c9e65\"}, {\"marker\": {\"size\": [40.0, 40.0, 40.0, 40.0, 40.0, 40.0, 40.0, 40.0, 40.0, 40.0, 40.0, 40.0, 40.0, 40.0, 40.0, 40.0, 40.0, 40.0, 40.0, 40.0, 40.0, 40.0, 40.0, 40.0]}, \"mode\": \"markers\", \"name\": \"64\", \"text\": [\"full:[128]-nlayers:1-lag:12-neurons:64\", \"full:[32]-nlayers:1-lag:12-neurons:64\", \"full:[64]-nlayers:1-lag:12-neurons:64\", \"full:[128]-nlayers:1-lag:18-neurons:64\", \"full:[32]-nlayers:1-lag:18-neurons:64\", \"full:[64]-nlayers:1-lag:18-neurons:64\", \"full:[128]-nlayers:1-lag:12-neurons:64\", \"full:[32]-nlayers:1-lag:12-neurons:64\", \"full:[64]-nlayers:1-lag:12-neurons:64\", \"full:[128]-nlayers:1-lag:18-neurons:64\", \"full:[32]-nlayers:1-lag:18-neurons:64\", \"full:[64]-nlayers:1-lag:18-neurons:64\", \"full:[128]-nlayers:2-lag:12-neurons:64\", \"full:[32]-nlayers:2-lag:12-neurons:64\", \"full:[64]-nlayers:2-lag:12-neurons:64\", \"full:[128]-nlayers:2-lag:18-neurons:64\", \"full:[32]-nlayers:2-lag:18-neurons:64\", \"full:[64]-nlayers:2-lag:18-neurons:64\", \"full:[128]-nlayers:2-lag:12-neurons:64\", \"full:[32]-nlayers:2-lag:12-neurons:64\", \"full:[64]-nlayers:2-lag:12-neurons:64\", \"full:[128]-nlayers:2-lag:18-neurons:64\", \"full:[32]-nlayers:2-lag:18-neurons:64\", \"full:[64]-nlayers:2-lag:18-neurons:64\"], \"x\": [6.811220745035163, 6.777185714372277, 6.8011488136345495, 6.794772158062771, 6.750006851070392, 6.784875016577616, 6.829029697669391, 6.778339199222465, 6.796293751165449, 6.796877696102672, 6.757236813941435, 6.776439915165692, 6.800811668515423, 6.7819179082839325, 6.796165471889679, 6.784650965093692, 6.738370198564042, 6.773251376831152, 6.868369331238133, 6.774196405039309, 6.7982782713982814, 6.853152621657215, 6.741812177963983, 6.817795834868571], \"y\": [6.504925240573048, 6.475107841065611, 6.4916674588365515, 6.4775251958082265, 6.445907438094817, 6.468124676250984, 6.518358959459278, 6.4760715465961765, 6.496199429371457, 6.480100063969233, 6.441067138748782, 6.46808035464378, 6.49484113383679, 6.478641684639999, 6.493888100732346, 6.4689787982120155, 6.445125232823608, 6.467309068839768, 6.5670394244777786, 6.472304653701077, 6.489071326281519, 6.557690121994153, 6.448884975400608, 6.520592609487116], \"type\": \"scatter\", \"uid\": \"c8f95b78-25b7-47a3-9ded-bf4f074eae3d\"}], {}, {\"showLink\": false, \"linkText\": \"Export to plot.ly\", \"plotlyServerURL\": \"https://plot.ly\"}); \n",
       "}\n",
       "});</script><script type=\"text/javascript\">window.addEventListener(\"resize\", function(){if (document.getElementById(\"936dcea7-970e-41db-a98b-6850a5bb59c4\")) {window._Plotly.Plots.resize(document.getElementById(\"936dcea7-970e-41db-a98b-6850a5bb59c4\"));};})</script>"
      ]
     },
     "metadata": {},
     "output_type": "display_data"
    }
   ],
   "source": [
    "graph_results(b,'neurons',['full', 'nlayers', 'lag'])"
   ]
  },
  {
   "cell_type": "markdown",
   "metadata": {
    "extensions": {
     "jupyter_dashboards": {
      "version": 1,
      "views": {
       "grid_default": {},
       "report_default": {}
      }
     }
    }
   },
   "source": [
    "Best results  64/2/0.1/12/128"
   ]
  },
  {
   "cell_type": "markdown",
   "metadata": {
    "extensions": {
     "jupyter_dashboards": {
      "version": 1,
      "views": {
       "grid_default": {},
       "report_default": {}
      }
     }
    }
   },
   "source": [
    "## Fit 2"
   ]
  },
  {
   "cell_type": "markdown",
   "metadata": {
    "extensions": {
     "jupyter_dashboards": {
      "version": 1,
      "views": {
       "grid_default": {},
       "report_default": {}
      }
     }
    }
   },
   "source": [
    "Second fit of RNN, explore type of unit, lag and some more neuronsE and neuronsD"
   ]
  },
  {
   "cell_type": "code",
   "execution_count": 93,
   "metadata": {
    "extensions": {
     "jupyter_dashboards": {
      "version": 1,
      "views": {
       "grid_default": {},
       "report_default": {}
      }
     }
    }
   },
   "outputs": [],
   "source": [
    "query={'experiment':'rnns2sfit2'}\n",
    "\n",
    "results = DBResults(conn=mongolocaltest)\n",
    "#results = DBResults()\n",
    "\n",
    "results.results_dataframe_retrieve(query, arch=['drop', 'neurons', 'nlayers', 'full'], data=['lag'])"
   ]
  },
  {
   "cell_type": "code",
   "execution_count": 94,
   "metadata": {
    "extensions": {
     "jupyter_dashboards": {
      "version": 1,
      "views": {
       "grid_default": {},
       "report_default": {}
      }
     }
    }
   },
   "outputs": [
    {
     "data": {
      "text/plain": [
       "7200"
      ]
     },
     "execution_count": 94,
     "metadata": {},
     "output_type": "execute_result"
    }
   ],
   "source": [
    "a=results.exp_df.groupby(['site', 'drop', 'neurons', 'nlayers', 'lag', 'full'],as_index=False).sum()\n",
    "a.drop(columns=['hour', 'site'], inplace=True)\n",
    "len(a)"
   ]
  },
  {
   "cell_type": "code",
   "execution_count": 97,
   "metadata": {
    "extensions": {
     "jupyter_dashboards": {
      "version": 1,
      "views": {
       "grid_default": {},
       "report_default": {}
      }
     }
    }
   },
   "outputs": [
    {
     "data": {
      "text/html": [
       "<style  type=\"text/css\" >\n",
       "    #T_a5fee784_5130_11e9_975a_842b2bb021fdrow0_col6 {\n",
       "            background-color:  yellow;\n",
       "        }    #T_a5fee784_5130_11e9_975a_842b2bb021fdrow1_col6 {\n",
       "            background-color:  yellow;\n",
       "        }    #T_a5fee784_5130_11e9_975a_842b2bb021fdrow2_col6 {\n",
       "            background-color:  yellow;\n",
       "        }    #T_a5fee784_5130_11e9_975a_842b2bb021fdrow3_col6 {\n",
       "            background-color:  yellow;\n",
       "        }    #T_a5fee784_5130_11e9_975a_842b2bb021fdrow4_col6 {\n",
       "            background-color:  yellow;\n",
       "        }    #T_a5fee784_5130_11e9_975a_842b2bb021fdrow5_col6 {\n",
       "            background-color:  yellow;\n",
       "        }    #T_a5fee784_5130_11e9_975a_842b2bb021fdrow6_col5 {\n",
       "            background-color:  yellow;\n",
       "        }    #T_a5fee784_5130_11e9_975a_842b2bb021fdrow6_col6 {\n",
       "            background-color:  yellow;\n",
       "        }    #T_a5fee784_5130_11e9_975a_842b2bb021fdrow6_col7 {\n",
       "            background-color:  yellow;\n",
       "        }</style><table id=\"T_a5fee784_5130_11e9_975a_842b2bb021fd\" ><thead>    <tr>        <th class=\"blank level0\" ></th>        <th class=\"col_heading level0 col0\" >neurons</th>        <th class=\"col_heading level0 col1\" >nlayers</th>        <th class=\"col_heading level0 col2\" >drop</th>        <th class=\"col_heading level0 col3\" >lag</th>        <th class=\"col_heading level0 col4\" >full</th>        <th class=\"col_heading level0 col5\" colspan=2>test</th>        <th class=\"col_heading level0 col7\" >val</th>    </tr>    <tr>        <th class=\"blank level1\" ></th>        <th class=\"col_heading level1 col0\" ></th>        <th class=\"col_heading level1 col1\" ></th>        <th class=\"col_heading level1 col2\" ></th>        <th class=\"col_heading level1 col3\" ></th>        <th class=\"col_heading level1 col4\" ></th>        <th class=\"col_heading level1 col5\" >mean</th>        <th class=\"col_heading level1 col6\" >count</th>        <th class=\"col_heading level1 col7\" >mean</th>    </tr></thead><tbody>\n",
       "                <tr>\n",
       "                        <th id=\"T_a5fee784_5130_11e9_975a_842b2bb021fdlevel0_row0\" class=\"row_heading level0 row0\" >1</th>\n",
       "                        <td id=\"T_a5fee784_5130_11e9_975a_842b2bb021fdrow0_col0\" class=\"data row0 col0\" >32</td>\n",
       "                        <td id=\"T_a5fee784_5130_11e9_975a_842b2bb021fdrow0_col1\" class=\"data row0 col1\" >2</td>\n",
       "                        <td id=\"T_a5fee784_5130_11e9_975a_842b2bb021fdrow0_col2\" class=\"data row0 col2\" >0.1</td>\n",
       "                        <td id=\"T_a5fee784_5130_11e9_975a_842b2bb021fdrow0_col3\" class=\"data row0 col3\" >12</td>\n",
       "                        <td id=\"T_a5fee784_5130_11e9_975a_842b2bb021fdrow0_col4\" class=\"data row0 col4\" >[128, 64]</td>\n",
       "                        <td id=\"T_a5fee784_5130_11e9_975a_842b2bb021fdrow0_col5\" class=\"data row0 col5\" >6.88045</td>\n",
       "                        <td id=\"T_a5fee784_5130_11e9_975a_842b2bb021fdrow0_col6\" class=\"data row0 col6\" >200</td>\n",
       "                        <td id=\"T_a5fee784_5130_11e9_975a_842b2bb021fdrow0_col7\" class=\"data row0 col7\" >6.5908</td>\n",
       "            </tr>\n",
       "            <tr>\n",
       "                        <th id=\"T_a5fee784_5130_11e9_975a_842b2bb021fdlevel0_row1\" class=\"row_heading level0 row1\" >2</th>\n",
       "                        <td id=\"T_a5fee784_5130_11e9_975a_842b2bb021fdrow1_col0\" class=\"data row1 col0\" >32</td>\n",
       "                        <td id=\"T_a5fee784_5130_11e9_975a_842b2bb021fdrow1_col1\" class=\"data row1 col1\" >2</td>\n",
       "                        <td id=\"T_a5fee784_5130_11e9_975a_842b2bb021fdrow1_col2\" class=\"data row1 col2\" >0.1</td>\n",
       "                        <td id=\"T_a5fee784_5130_11e9_975a_842b2bb021fdrow1_col3\" class=\"data row1 col3\" >12</td>\n",
       "                        <td id=\"T_a5fee784_5130_11e9_975a_842b2bb021fdrow1_col4\" class=\"data row1 col4\" >[128]</td>\n",
       "                        <td id=\"T_a5fee784_5130_11e9_975a_842b2bb021fdrow1_col5\" class=\"data row1 col5\" >6.88756</td>\n",
       "                        <td id=\"T_a5fee784_5130_11e9_975a_842b2bb021fdrow1_col6\" class=\"data row1 col6\" >200</td>\n",
       "                        <td id=\"T_a5fee784_5130_11e9_975a_842b2bb021fdrow1_col7\" class=\"data row1 col7\" >6.58674</td>\n",
       "            </tr>\n",
       "            <tr>\n",
       "                        <th id=\"T_a5fee784_5130_11e9_975a_842b2bb021fdlevel0_row2\" class=\"row_heading level0 row2\" >3</th>\n",
       "                        <td id=\"T_a5fee784_5130_11e9_975a_842b2bb021fdrow2_col0\" class=\"data row2 col0\" >32</td>\n",
       "                        <td id=\"T_a5fee784_5130_11e9_975a_842b2bb021fdrow2_col1\" class=\"data row2 col1\" >2</td>\n",
       "                        <td id=\"T_a5fee784_5130_11e9_975a_842b2bb021fdrow2_col2\" class=\"data row2 col2\" >0.1</td>\n",
       "                        <td id=\"T_a5fee784_5130_11e9_975a_842b2bb021fdrow2_col3\" class=\"data row2 col3\" >12</td>\n",
       "                        <td id=\"T_a5fee784_5130_11e9_975a_842b2bb021fdrow2_col4\" class=\"data row2 col4\" >[256]</td>\n",
       "                        <td id=\"T_a5fee784_5130_11e9_975a_842b2bb021fdrow2_col5\" class=\"data row2 col5\" >6.88434</td>\n",
       "                        <td id=\"T_a5fee784_5130_11e9_975a_842b2bb021fdrow2_col6\" class=\"data row2 col6\" >200</td>\n",
       "                        <td id=\"T_a5fee784_5130_11e9_975a_842b2bb021fdrow2_col7\" class=\"data row2 col7\" >6.58162</td>\n",
       "            </tr>\n",
       "            <tr>\n",
       "                        <th id=\"T_a5fee784_5130_11e9_975a_842b2bb021fdlevel0_row3\" class=\"row_heading level0 row3\" >6</th>\n",
       "                        <td id=\"T_a5fee784_5130_11e9_975a_842b2bb021fdrow3_col0\" class=\"data row3 col0\" >32</td>\n",
       "                        <td id=\"T_a5fee784_5130_11e9_975a_842b2bb021fdrow3_col1\" class=\"data row3 col1\" >2</td>\n",
       "                        <td id=\"T_a5fee784_5130_11e9_975a_842b2bb021fdrow3_col2\" class=\"data row3 col2\" >0.2</td>\n",
       "                        <td id=\"T_a5fee784_5130_11e9_975a_842b2bb021fdrow3_col3\" class=\"data row3 col3\" >12</td>\n",
       "                        <td id=\"T_a5fee784_5130_11e9_975a_842b2bb021fdrow3_col4\" class=\"data row3 col4\" >[128]</td>\n",
       "                        <td id=\"T_a5fee784_5130_11e9_975a_842b2bb021fdrow3_col5\" class=\"data row3 col5\" >6.88677</td>\n",
       "                        <td id=\"T_a5fee784_5130_11e9_975a_842b2bb021fdrow3_col6\" class=\"data row3 col6\" >200</td>\n",
       "                        <td id=\"T_a5fee784_5130_11e9_975a_842b2bb021fdrow3_col7\" class=\"data row3 col7\" >6.60004</td>\n",
       "            </tr>\n",
       "            <tr>\n",
       "                        <th id=\"T_a5fee784_5130_11e9_975a_842b2bb021fdlevel0_row4\" class=\"row_heading level0 row4\" >7</th>\n",
       "                        <td id=\"T_a5fee784_5130_11e9_975a_842b2bb021fdrow4_col0\" class=\"data row4 col0\" >32</td>\n",
       "                        <td id=\"T_a5fee784_5130_11e9_975a_842b2bb021fdrow4_col1\" class=\"data row4 col1\" >2</td>\n",
       "                        <td id=\"T_a5fee784_5130_11e9_975a_842b2bb021fdrow4_col2\" class=\"data row4 col2\" >0.2</td>\n",
       "                        <td id=\"T_a5fee784_5130_11e9_975a_842b2bb021fdrow4_col3\" class=\"data row4 col3\" >12</td>\n",
       "                        <td id=\"T_a5fee784_5130_11e9_975a_842b2bb021fdrow4_col4\" class=\"data row4 col4\" >[256]</td>\n",
       "                        <td id=\"T_a5fee784_5130_11e9_975a_842b2bb021fdrow4_col5\" class=\"data row4 col5\" >6.89097</td>\n",
       "                        <td id=\"T_a5fee784_5130_11e9_975a_842b2bb021fdrow4_col6\" class=\"data row4 col6\" >200</td>\n",
       "                        <td id=\"T_a5fee784_5130_11e9_975a_842b2bb021fdrow4_col7\" class=\"data row4 col7\" >6.59325</td>\n",
       "            </tr>\n",
       "            <tr>\n",
       "                        <th id=\"T_a5fee784_5130_11e9_975a_842b2bb021fdlevel0_row5\" class=\"row_heading level0 row5\" >10</th>\n",
       "                        <td id=\"T_a5fee784_5130_11e9_975a_842b2bb021fdrow5_col0\" class=\"data row5 col0\" >32</td>\n",
       "                        <td id=\"T_a5fee784_5130_11e9_975a_842b2bb021fdrow5_col1\" class=\"data row5 col1\" >2</td>\n",
       "                        <td id=\"T_a5fee784_5130_11e9_975a_842b2bb021fdrow5_col2\" class=\"data row5 col2\" >0.3</td>\n",
       "                        <td id=\"T_a5fee784_5130_11e9_975a_842b2bb021fdrow5_col3\" class=\"data row5 col3\" >12</td>\n",
       "                        <td id=\"T_a5fee784_5130_11e9_975a_842b2bb021fdrow5_col4\" class=\"data row5 col4\" >[128]</td>\n",
       "                        <td id=\"T_a5fee784_5130_11e9_975a_842b2bb021fdrow5_col5\" class=\"data row5 col5\" >6.89473</td>\n",
       "                        <td id=\"T_a5fee784_5130_11e9_975a_842b2bb021fdrow5_col6\" class=\"data row5 col6\" >200</td>\n",
       "                        <td id=\"T_a5fee784_5130_11e9_975a_842b2bb021fdrow5_col7\" class=\"data row5 col7\" >6.60621</td>\n",
       "            </tr>\n",
       "            <tr>\n",
       "                        <th id=\"T_a5fee784_5130_11e9_975a_842b2bb021fdlevel0_row6\" class=\"row_heading level0 row6\" >11</th>\n",
       "                        <td id=\"T_a5fee784_5130_11e9_975a_842b2bb021fdrow6_col0\" class=\"data row6 col0\" >32</td>\n",
       "                        <td id=\"T_a5fee784_5130_11e9_975a_842b2bb021fdrow6_col1\" class=\"data row6 col1\" >2</td>\n",
       "                        <td id=\"T_a5fee784_5130_11e9_975a_842b2bb021fdrow6_col2\" class=\"data row6 col2\" >0.3</td>\n",
       "                        <td id=\"T_a5fee784_5130_11e9_975a_842b2bb021fdrow6_col3\" class=\"data row6 col3\" >12</td>\n",
       "                        <td id=\"T_a5fee784_5130_11e9_975a_842b2bb021fdrow6_col4\" class=\"data row6 col4\" >[256]</td>\n",
       "                        <td id=\"T_a5fee784_5130_11e9_975a_842b2bb021fdrow6_col5\" class=\"data row6 col5\" >6.89605</td>\n",
       "                        <td id=\"T_a5fee784_5130_11e9_975a_842b2bb021fdrow6_col6\" class=\"data row6 col6\" >200</td>\n",
       "                        <td id=\"T_a5fee784_5130_11e9_975a_842b2bb021fdrow6_col7\" class=\"data row6 col7\" >6.60762</td>\n",
       "            </tr>\n",
       "    </tbody></table>"
      ],
      "text/plain": [
       "<pandas.io.formats.style.Styler at 0x7f383f592d68>"
      ]
     },
     "execution_count": 97,
     "metadata": {},
     "output_type": "execute_result"
    }
   ],
   "source": [
    "\n",
    "b =a.groupby(by=['neurons', 'nlayers', 'drop', 'lag', 'full'],as_index=False).agg({'test':['mean','count'], 'val':'mean', })\n",
    "\n",
    "b[b['test']['mean'] > 6.88].style.highlight_max()"
   ]
  },
  {
   "cell_type": "code",
   "execution_count": 98,
   "metadata": {
    "extensions": {
     "jupyter_dashboards": {
      "version": 1,
      "views": {
       "grid_default": {},
       "report_default": {}
      }
     }
    }
   },
   "outputs": [
    {
     "data": {
      "application/vnd.plotly.v1+json": {
       "config": {
        "linkText": "Export to plot.ly",
        "plotlyServerURL": "https://plot.ly",
        "showLink": false
       },
       "data": [
        {
         "marker": {
          "size": [
           40,
           40,
           40,
           40,
           40,
           40,
           40,
           40,
           40,
           40,
           40,
           40
          ]
         },
         "mode": "markers",
         "name": "32",
         "text": [
          "full:[128, 32]-nlayers:2-lag:12-neurons:32",
          "full:[128, 64]-nlayers:2-lag:12-neurons:32",
          "full:[128]-nlayers:2-lag:12-neurons:32",
          "full:[256]-nlayers:2-lag:12-neurons:32",
          "full:[128, 32]-nlayers:2-lag:12-neurons:32",
          "full:[128, 64]-nlayers:2-lag:12-neurons:32",
          "full:[128]-nlayers:2-lag:12-neurons:32",
          "full:[256]-nlayers:2-lag:12-neurons:32",
          "full:[128, 32]-nlayers:2-lag:12-neurons:32",
          "full:[128, 64]-nlayers:2-lag:12-neurons:32",
          "full:[128]-nlayers:2-lag:12-neurons:32",
          "full:[256]-nlayers:2-lag:12-neurons:32"
         ],
         "type": "scatter",
         "uid": "d30a1bd2-9605-4cd8-a459-51673b3948de",
         "x": [
          6.868900165619147,
          6.880448475476888,
          6.887557408154619,
          6.884337763313226,
          6.871713931302583,
          6.874462857464043,
          6.886765077300811,
          6.890972188630198,
          6.8693276097884794,
          6.8784405782804185,
          6.8947317333616045,
          6.896048868888013
         ],
         "y": [
          6.580629127632364,
          6.59080139513951,
          6.586739151046644,
          6.581617807876195,
          6.592610308923968,
          6.595075416801742,
          6.600036527690617,
          6.593247284885349,
          6.5910060111523485,
          6.599960983463989,
          6.606212562874889,
          6.607622085668507
         ]
        },
        {
         "marker": {
          "size": [
           40,
           40,
           40,
           40,
           40,
           40,
           40,
           40,
           40,
           40,
           40,
           40
          ]
         },
         "mode": "markers",
         "name": "64",
         "text": [
          "full:[128, 32]-nlayers:2-lag:12-neurons:64",
          "full:[128, 64]-nlayers:2-lag:12-neurons:64",
          "full:[128]-nlayers:2-lag:12-neurons:64",
          "full:[256]-nlayers:2-lag:12-neurons:64",
          "full:[128, 32]-nlayers:2-lag:12-neurons:64",
          "full:[128, 64]-nlayers:2-lag:12-neurons:64",
          "full:[128]-nlayers:2-lag:12-neurons:64",
          "full:[256]-nlayers:2-lag:12-neurons:64",
          "full:[128, 32]-nlayers:2-lag:12-neurons:64",
          "full:[128, 64]-nlayers:2-lag:12-neurons:64",
          "full:[128]-nlayers:2-lag:12-neurons:64",
          "full:[256]-nlayers:2-lag:12-neurons:64"
         ],
         "type": "scatter",
         "uid": "4e8e0033-6306-44d9-a1c0-1c735b9003a2",
         "x": [
          6.85939136921482,
          6.8739217182818,
          6.875888068502275,
          6.876238112951835,
          6.843616930819125,
          6.855256482826577,
          6.869293893016955,
          6.858948517200934,
          6.836451430094443,
          6.844464615456237,
          6.8669151545388525,
          6.858396500242614
         ],
         "y": [
          6.565140045812814,
          6.573170417746792,
          6.57290046066957,
          6.571303867155354,
          6.562137287901252,
          6.56950427702768,
          6.577510160214221,
          6.565646071975501,
          6.568694254493734,
          6.569018376251416,
          6.580752330891915,
          6.576897456747226
         ]
        },
        {
         "marker": {
          "size": [
           40,
           40,
           40,
           40,
           40,
           40,
           40,
           40,
           40,
           40,
           40,
           40
          ]
         },
         "mode": "markers",
         "name": "96",
         "text": [
          "full:[128, 32]-nlayers:2-lag:12-neurons:96",
          "full:[128, 64]-nlayers:2-lag:12-neurons:96",
          "full:[128]-nlayers:2-lag:12-neurons:96",
          "full:[256]-nlayers:2-lag:12-neurons:96",
          "full:[128, 32]-nlayers:2-lag:12-neurons:96",
          "full:[128, 64]-nlayers:2-lag:12-neurons:96",
          "full:[128]-nlayers:2-lag:12-neurons:96",
          "full:[256]-nlayers:2-lag:12-neurons:96",
          "full:[128, 32]-nlayers:2-lag:12-neurons:96",
          "full:[128, 64]-nlayers:2-lag:12-neurons:96",
          "full:[128]-nlayers:2-lag:12-neurons:96",
          "full:[256]-nlayers:2-lag:12-neurons:96"
         ],
         "type": "scatter",
         "uid": "b1865750-0ff5-48f6-a415-94c716fc0d41",
         "x": [
          6.841271757216244,
          6.862066003833491,
          6.8718735544297544,
          6.866642244964956,
          6.811761807464485,
          6.827250144900921,
          6.844990226452255,
          6.839853832462748,
          6.7736976228556305,
          6.804880775954237,
          6.8322609984072615,
          6.825147918047519
         ],
         "y": [
          6.542279831498649,
          6.561588430088266,
          6.574982615648421,
          6.56076697232061,
          6.532216061900364,
          6.555929155749677,
          6.555989034734004,
          6.5503070428312,
          6.515851905171453,
          6.534015036335677,
          6.550727463493965,
          6.540213039546009
         ]
        }
       ],
       "layout": {}
      },
      "text/html": [
       "<div id=\"88ebebad-cae9-4f83-9049-1a6e4e1c286a\" style=\"height: 525px; width: 100%;\" class=\"plotly-graph-div\"></div><script type=\"text/javascript\">require([\"plotly\"], function(Plotly) { window.PLOTLYENV=window.PLOTLYENV || {};window.PLOTLYENV.BASE_URL=\"https://plot.ly\";\n",
       "if (document.getElementById(\"88ebebad-cae9-4f83-9049-1a6e4e1c286a\")) {\n",
       "    Plotly.newPlot(\"88ebebad-cae9-4f83-9049-1a6e4e1c286a\", [{\"marker\": {\"size\": [40.0, 40.0, 40.0, 40.0, 40.0, 40.0, 40.0, 40.0, 40.0, 40.0, 40.0, 40.0]}, \"mode\": \"markers\", \"name\": \"32\", \"text\": [\"full:[128, 32]-nlayers:2-lag:12-neurons:32\", \"full:[128, 64]-nlayers:2-lag:12-neurons:32\", \"full:[128]-nlayers:2-lag:12-neurons:32\", \"full:[256]-nlayers:2-lag:12-neurons:32\", \"full:[128, 32]-nlayers:2-lag:12-neurons:32\", \"full:[128, 64]-nlayers:2-lag:12-neurons:32\", \"full:[128]-nlayers:2-lag:12-neurons:32\", \"full:[256]-nlayers:2-lag:12-neurons:32\", \"full:[128, 32]-nlayers:2-lag:12-neurons:32\", \"full:[128, 64]-nlayers:2-lag:12-neurons:32\", \"full:[128]-nlayers:2-lag:12-neurons:32\", \"full:[256]-nlayers:2-lag:12-neurons:32\"], \"x\": [6.868900165619147, 6.880448475476888, 6.887557408154619, 6.884337763313226, 6.871713931302583, 6.874462857464043, 6.886765077300811, 6.890972188630198, 6.8693276097884794, 6.8784405782804185, 6.8947317333616045, 6.896048868888013], \"y\": [6.580629127632364, 6.59080139513951, 6.586739151046644, 6.581617807876195, 6.592610308923968, 6.595075416801742, 6.600036527690617, 6.593247284885349, 6.5910060111523485, 6.599960983463989, 6.606212562874889, 6.607622085668507], \"type\": \"scatter\", \"uid\": \"99187edf-1bdd-4785-b300-69506a0fc214\"}, {\"marker\": {\"size\": [40.0, 40.0, 40.0, 40.0, 40.0, 40.0, 40.0, 40.0, 40.0, 40.0, 40.0, 40.0]}, \"mode\": \"markers\", \"name\": \"64\", \"text\": [\"full:[128, 32]-nlayers:2-lag:12-neurons:64\", \"full:[128, 64]-nlayers:2-lag:12-neurons:64\", \"full:[128]-nlayers:2-lag:12-neurons:64\", \"full:[256]-nlayers:2-lag:12-neurons:64\", \"full:[128, 32]-nlayers:2-lag:12-neurons:64\", \"full:[128, 64]-nlayers:2-lag:12-neurons:64\", \"full:[128]-nlayers:2-lag:12-neurons:64\", \"full:[256]-nlayers:2-lag:12-neurons:64\", \"full:[128, 32]-nlayers:2-lag:12-neurons:64\", \"full:[128, 64]-nlayers:2-lag:12-neurons:64\", \"full:[128]-nlayers:2-lag:12-neurons:64\", \"full:[256]-nlayers:2-lag:12-neurons:64\"], \"x\": [6.85939136921482, 6.8739217182818, 6.875888068502275, 6.876238112951835, 6.843616930819125, 6.855256482826577, 6.869293893016955, 6.858948517200934, 6.836451430094443, 6.844464615456237, 6.8669151545388525, 6.858396500242614], \"y\": [6.565140045812814, 6.573170417746792, 6.57290046066957, 6.571303867155354, 6.562137287901252, 6.56950427702768, 6.577510160214221, 6.565646071975501, 6.568694254493734, 6.569018376251416, 6.580752330891915, 6.576897456747226], \"type\": \"scatter\", \"uid\": \"61548c04-34de-4bd5-bdf1-8aec594e78d2\"}, {\"marker\": {\"size\": [40.0, 40.0, 40.0, 40.0, 40.0, 40.0, 40.0, 40.0, 40.0, 40.0, 40.0, 40.0]}, \"mode\": \"markers\", \"name\": \"96\", \"text\": [\"full:[128, 32]-nlayers:2-lag:12-neurons:96\", \"full:[128, 64]-nlayers:2-lag:12-neurons:96\", \"full:[128]-nlayers:2-lag:12-neurons:96\", \"full:[256]-nlayers:2-lag:12-neurons:96\", \"full:[128, 32]-nlayers:2-lag:12-neurons:96\", \"full:[128, 64]-nlayers:2-lag:12-neurons:96\", \"full:[128]-nlayers:2-lag:12-neurons:96\", \"full:[256]-nlayers:2-lag:12-neurons:96\", \"full:[128, 32]-nlayers:2-lag:12-neurons:96\", \"full:[128, 64]-nlayers:2-lag:12-neurons:96\", \"full:[128]-nlayers:2-lag:12-neurons:96\", \"full:[256]-nlayers:2-lag:12-neurons:96\"], \"x\": [6.841271757216244, 6.862066003833491, 6.8718735544297544, 6.866642244964956, 6.811761807464485, 6.827250144900921, 6.844990226452255, 6.839853832462748, 6.7736976228556305, 6.804880775954237, 6.8322609984072615, 6.825147918047519], \"y\": [6.542279831498649, 6.561588430088266, 6.574982615648421, 6.56076697232061, 6.532216061900364, 6.555929155749677, 6.555989034734004, 6.5503070428312, 6.515851905171453, 6.534015036335677, 6.550727463493965, 6.540213039546009], \"type\": \"scatter\", \"uid\": \"05b05c6f-beee-4533-a29e-f24e906a4f82\"}], {}, {\"showLink\": false, \"linkText\": \"Export to plot.ly\", \"plotlyServerURL\": \"https://plot.ly\"}); \n",
       "}\n",
       "});</script><script type=\"text/javascript\">window.addEventListener(\"resize\", function(){if (document.getElementById(\"88ebebad-cae9-4f83-9049-1a6e4e1c286a\")) {window._Plotly.Plots.resize(document.getElementById(\"88ebebad-cae9-4f83-9049-1a6e4e1c286a\"));};})</script>"
      ],
      "text/vnd.plotly.v1+html": [
       "<div id=\"88ebebad-cae9-4f83-9049-1a6e4e1c286a\" style=\"height: 525px; width: 100%;\" class=\"plotly-graph-div\"></div><script type=\"text/javascript\">require([\"plotly\"], function(Plotly) { window.PLOTLYENV=window.PLOTLYENV || {};window.PLOTLYENV.BASE_URL=\"https://plot.ly\";\n",
       "if (document.getElementById(\"88ebebad-cae9-4f83-9049-1a6e4e1c286a\")) {\n",
       "    Plotly.newPlot(\"88ebebad-cae9-4f83-9049-1a6e4e1c286a\", [{\"marker\": {\"size\": [40.0, 40.0, 40.0, 40.0, 40.0, 40.0, 40.0, 40.0, 40.0, 40.0, 40.0, 40.0]}, \"mode\": \"markers\", \"name\": \"32\", \"text\": [\"full:[128, 32]-nlayers:2-lag:12-neurons:32\", \"full:[128, 64]-nlayers:2-lag:12-neurons:32\", \"full:[128]-nlayers:2-lag:12-neurons:32\", \"full:[256]-nlayers:2-lag:12-neurons:32\", \"full:[128, 32]-nlayers:2-lag:12-neurons:32\", \"full:[128, 64]-nlayers:2-lag:12-neurons:32\", \"full:[128]-nlayers:2-lag:12-neurons:32\", \"full:[256]-nlayers:2-lag:12-neurons:32\", \"full:[128, 32]-nlayers:2-lag:12-neurons:32\", \"full:[128, 64]-nlayers:2-lag:12-neurons:32\", \"full:[128]-nlayers:2-lag:12-neurons:32\", \"full:[256]-nlayers:2-lag:12-neurons:32\"], \"x\": [6.868900165619147, 6.880448475476888, 6.887557408154619, 6.884337763313226, 6.871713931302583, 6.874462857464043, 6.886765077300811, 6.890972188630198, 6.8693276097884794, 6.8784405782804185, 6.8947317333616045, 6.896048868888013], \"y\": [6.580629127632364, 6.59080139513951, 6.586739151046644, 6.581617807876195, 6.592610308923968, 6.595075416801742, 6.600036527690617, 6.593247284885349, 6.5910060111523485, 6.599960983463989, 6.606212562874889, 6.607622085668507], \"type\": \"scatter\", \"uid\": \"99187edf-1bdd-4785-b300-69506a0fc214\"}, {\"marker\": {\"size\": [40.0, 40.0, 40.0, 40.0, 40.0, 40.0, 40.0, 40.0, 40.0, 40.0, 40.0, 40.0]}, \"mode\": \"markers\", \"name\": \"64\", \"text\": [\"full:[128, 32]-nlayers:2-lag:12-neurons:64\", \"full:[128, 64]-nlayers:2-lag:12-neurons:64\", \"full:[128]-nlayers:2-lag:12-neurons:64\", \"full:[256]-nlayers:2-lag:12-neurons:64\", \"full:[128, 32]-nlayers:2-lag:12-neurons:64\", \"full:[128, 64]-nlayers:2-lag:12-neurons:64\", \"full:[128]-nlayers:2-lag:12-neurons:64\", \"full:[256]-nlayers:2-lag:12-neurons:64\", \"full:[128, 32]-nlayers:2-lag:12-neurons:64\", \"full:[128, 64]-nlayers:2-lag:12-neurons:64\", \"full:[128]-nlayers:2-lag:12-neurons:64\", \"full:[256]-nlayers:2-lag:12-neurons:64\"], \"x\": [6.85939136921482, 6.8739217182818, 6.875888068502275, 6.876238112951835, 6.843616930819125, 6.855256482826577, 6.869293893016955, 6.858948517200934, 6.836451430094443, 6.844464615456237, 6.8669151545388525, 6.858396500242614], \"y\": [6.565140045812814, 6.573170417746792, 6.57290046066957, 6.571303867155354, 6.562137287901252, 6.56950427702768, 6.577510160214221, 6.565646071975501, 6.568694254493734, 6.569018376251416, 6.580752330891915, 6.576897456747226], \"type\": \"scatter\", \"uid\": \"61548c04-34de-4bd5-bdf1-8aec594e78d2\"}, {\"marker\": {\"size\": [40.0, 40.0, 40.0, 40.0, 40.0, 40.0, 40.0, 40.0, 40.0, 40.0, 40.0, 40.0]}, \"mode\": \"markers\", \"name\": \"96\", \"text\": [\"full:[128, 32]-nlayers:2-lag:12-neurons:96\", \"full:[128, 64]-nlayers:2-lag:12-neurons:96\", \"full:[128]-nlayers:2-lag:12-neurons:96\", \"full:[256]-nlayers:2-lag:12-neurons:96\", \"full:[128, 32]-nlayers:2-lag:12-neurons:96\", \"full:[128, 64]-nlayers:2-lag:12-neurons:96\", \"full:[128]-nlayers:2-lag:12-neurons:96\", \"full:[256]-nlayers:2-lag:12-neurons:96\", \"full:[128, 32]-nlayers:2-lag:12-neurons:96\", \"full:[128, 64]-nlayers:2-lag:12-neurons:96\", \"full:[128]-nlayers:2-lag:12-neurons:96\", \"full:[256]-nlayers:2-lag:12-neurons:96\"], \"x\": [6.841271757216244, 6.862066003833491, 6.8718735544297544, 6.866642244964956, 6.811761807464485, 6.827250144900921, 6.844990226452255, 6.839853832462748, 6.7736976228556305, 6.804880775954237, 6.8322609984072615, 6.825147918047519], \"y\": [6.542279831498649, 6.561588430088266, 6.574982615648421, 6.56076697232061, 6.532216061900364, 6.555929155749677, 6.555989034734004, 6.5503070428312, 6.515851905171453, 6.534015036335677, 6.550727463493965, 6.540213039546009], \"type\": \"scatter\", \"uid\": \"05b05c6f-beee-4533-a29e-f24e906a4f82\"}], {}, {\"showLink\": false, \"linkText\": \"Export to plot.ly\", \"plotlyServerURL\": \"https://plot.ly\"}); \n",
       "}\n",
       "});</script><script type=\"text/javascript\">window.addEventListener(\"resize\", function(){if (document.getElementById(\"88ebebad-cae9-4f83-9049-1a6e4e1c286a\")) {window._Plotly.Plots.resize(document.getElementById(\"88ebebad-cae9-4f83-9049-1a6e4e1c286a\"));};})</script>"
      ]
     },
     "metadata": {},
     "output_type": "display_data"
    }
   ],
   "source": [
    "graph_results(b,'neurons',['full', 'nlayers', 'lag'])"
   ]
  },
  {
   "cell_type": "markdown",
   "metadata": {
    "extensions": {
     "jupyter_dashboards": {
      "version": 1,
      "views": {
       "grid_default": {},
       "report_default": {}
      }
     }
    }
   },
   "source": [
    "Best results 32/2/0.3/12/256/GRU"
   ]
  },
  {
   "cell_type": "markdown",
   "metadata": {
    "extensions": {
     "jupyter_dashboards": {
      "version": 1,
      "views": {
       "grid_default": {},
       "report_default": {}
      }
     }
    }
   },
   "source": [
    "## Fit 3"
   ]
  },
  {
   "cell_type": "markdown",
   "metadata": {
    "extensions": {
     "jupyter_dashboards": {
      "version": 1,
      "views": {
       "grid_default": {},
       "report_default": {}
      }
     }
    }
   },
   "source": [
    "Third fit of RNN, explore number of layers"
   ]
  },
  {
   "cell_type": "code",
   "execution_count": 99,
   "metadata": {
    "extensions": {
     "jupyter_dashboards": {
      "version": 1,
      "views": {
       "grid_default": {},
       "report_default": {}
      }
     }
    }
   },
   "outputs": [],
   "source": [
    "query={'experiment':'rnns2sfit3'}\n",
    "\n",
    "results = DBResults(conn=mongolocaltest)\n",
    "#results = DBResults()\n",
    "\n",
    "results.results_dataframe_retrieve(query, arch=['drop', 'neurons', 'nlayers', 'full', 'fulldrop'], data=['lag'])\n"
   ]
  },
  {
   "cell_type": "code",
   "execution_count": 100,
   "metadata": {
    "extensions": {
     "jupyter_dashboards": {
      "version": 1,
      "views": {
       "grid_default": {},
       "report_default": {}
      }
     }
    }
   },
   "outputs": [
    {
     "data": {
      "text/plain": [
       "7200"
      ]
     },
     "execution_count": 100,
     "metadata": {},
     "output_type": "execute_result"
    }
   ],
   "source": [
    "a=results.exp_df.groupby(['site', 'drop', 'neurons', 'nlayers', 'lag', 'full', 'fulldrop'],as_index=False).sum()\n",
    "a.drop(columns=['hour', 'site'], inplace=True)\n",
    "len(a)"
   ]
  },
  {
   "cell_type": "code",
   "execution_count": 101,
   "metadata": {
    "extensions": {
     "jupyter_dashboards": {
      "version": 1,
      "views": {
       "grid_default": {},
       "report_default": {}
      }
     }
    }
   },
   "outputs": [
    {
     "data": {
      "text/html": [
       "<style  type=\"text/css\" >\n",
       "    #T_e265fa14_5130_11e9_975a_842b2bb021fdrow0_col7 {\n",
       "            background-color:  yellow;\n",
       "        }    #T_e265fa14_5130_11e9_975a_842b2bb021fdrow1_col7 {\n",
       "            background-color:  yellow;\n",
       "        }    #T_e265fa14_5130_11e9_975a_842b2bb021fdrow2_col7 {\n",
       "            background-color:  yellow;\n",
       "        }    #T_e265fa14_5130_11e9_975a_842b2bb021fdrow3_col7 {\n",
       "            background-color:  yellow;\n",
       "        }    #T_e265fa14_5130_11e9_975a_842b2bb021fdrow4_col7 {\n",
       "            background-color:  yellow;\n",
       "        }    #T_e265fa14_5130_11e9_975a_842b2bb021fdrow5_col7 {\n",
       "            background-color:  yellow;\n",
       "        }    #T_e265fa14_5130_11e9_975a_842b2bb021fdrow6_col6 {\n",
       "            background-color:  yellow;\n",
       "        }    #T_e265fa14_5130_11e9_975a_842b2bb021fdrow6_col7 {\n",
       "            background-color:  yellow;\n",
       "        }    #T_e265fa14_5130_11e9_975a_842b2bb021fdrow6_col8 {\n",
       "            background-color:  yellow;\n",
       "        }</style><table id=\"T_e265fa14_5130_11e9_975a_842b2bb021fd\" ><thead>    <tr>        <th class=\"blank level0\" ></th>        <th class=\"col_heading level0 col0\" >neurons</th>        <th class=\"col_heading level0 col1\" >nlayers</th>        <th class=\"col_heading level0 col2\" >drop</th>        <th class=\"col_heading level0 col3\" >lag</th>        <th class=\"col_heading level0 col4\" >full</th>        <th class=\"col_heading level0 col5\" >fulldrop</th>        <th class=\"col_heading level0 col6\" colspan=2>test</th>        <th class=\"col_heading level0 col8\" >val</th>    </tr>    <tr>        <th class=\"blank level1\" ></th>        <th class=\"col_heading level1 col0\" ></th>        <th class=\"col_heading level1 col1\" ></th>        <th class=\"col_heading level1 col2\" ></th>        <th class=\"col_heading level1 col3\" ></th>        <th class=\"col_heading level1 col4\" ></th>        <th class=\"col_heading level1 col5\" ></th>        <th class=\"col_heading level1 col6\" >mean</th>        <th class=\"col_heading level1 col7\" >count</th>        <th class=\"col_heading level1 col8\" >mean</th>    </tr></thead><tbody>\n",
       "                <tr>\n",
       "                        <th id=\"T_e265fa14_5130_11e9_975a_842b2bb021fdlevel0_row0\" class=\"row_heading level0 row0\" >1</th>\n",
       "                        <td id=\"T_e265fa14_5130_11e9_975a_842b2bb021fdrow0_col0\" class=\"data row0 col0\" >32</td>\n",
       "                        <td id=\"T_e265fa14_5130_11e9_975a_842b2bb021fdrow0_col1\" class=\"data row0 col1\" >2</td>\n",
       "                        <td id=\"T_e265fa14_5130_11e9_975a_842b2bb021fdrow0_col2\" class=\"data row0 col2\" >0.3</td>\n",
       "                        <td id=\"T_e265fa14_5130_11e9_975a_842b2bb021fdrow0_col3\" class=\"data row0 col3\" >12</td>\n",
       "                        <td id=\"T_e265fa14_5130_11e9_975a_842b2bb021fdrow0_col4\" class=\"data row0 col4\" >[256, 128]</td>\n",
       "                        <td id=\"T_e265fa14_5130_11e9_975a_842b2bb021fdrow0_col5\" class=\"data row0 col5\" >0.05</td>\n",
       "                        <td id=\"T_e265fa14_5130_11e9_975a_842b2bb021fdrow0_col6\" class=\"data row0 col6\" >6.89042</td>\n",
       "                        <td id=\"T_e265fa14_5130_11e9_975a_842b2bb021fdrow0_col7\" class=\"data row0 col7\" >200</td>\n",
       "                        <td id=\"T_e265fa14_5130_11e9_975a_842b2bb021fdrow0_col8\" class=\"data row0 col8\" >6.60166</td>\n",
       "            </tr>\n",
       "            <tr>\n",
       "                        <th id=\"T_e265fa14_5130_11e9_975a_842b2bb021fdlevel0_row1\" class=\"row_heading level0 row1\" >2</th>\n",
       "                        <td id=\"T_e265fa14_5130_11e9_975a_842b2bb021fdrow1_col0\" class=\"data row1 col0\" >32</td>\n",
       "                        <td id=\"T_e265fa14_5130_11e9_975a_842b2bb021fdrow1_col1\" class=\"data row1 col1\" >2</td>\n",
       "                        <td id=\"T_e265fa14_5130_11e9_975a_842b2bb021fdrow1_col2\" class=\"data row1 col2\" >0.3</td>\n",
       "                        <td id=\"T_e265fa14_5130_11e9_975a_842b2bb021fdrow1_col3\" class=\"data row1 col3\" >12</td>\n",
       "                        <td id=\"T_e265fa14_5130_11e9_975a_842b2bb021fdrow1_col4\" class=\"data row1 col4\" >[256, 128]</td>\n",
       "                        <td id=\"T_e265fa14_5130_11e9_975a_842b2bb021fdrow1_col5\" class=\"data row1 col5\" >0.1</td>\n",
       "                        <td id=\"T_e265fa14_5130_11e9_975a_842b2bb021fdrow1_col6\" class=\"data row1 col6\" >6.88703</td>\n",
       "                        <td id=\"T_e265fa14_5130_11e9_975a_842b2bb021fdrow1_col7\" class=\"data row1 col7\" >200</td>\n",
       "                        <td id=\"T_e265fa14_5130_11e9_975a_842b2bb021fdrow1_col8\" class=\"data row1 col8\" >6.60549</td>\n",
       "            </tr>\n",
       "            <tr>\n",
       "                        <th id=\"T_e265fa14_5130_11e9_975a_842b2bb021fdlevel0_row2\" class=\"row_heading level0 row2\" >4</th>\n",
       "                        <td id=\"T_e265fa14_5130_11e9_975a_842b2bb021fdrow2_col0\" class=\"data row2 col0\" >32</td>\n",
       "                        <td id=\"T_e265fa14_5130_11e9_975a_842b2bb021fdrow2_col1\" class=\"data row2 col1\" >2</td>\n",
       "                        <td id=\"T_e265fa14_5130_11e9_975a_842b2bb021fdrow2_col2\" class=\"data row2 col2\" >0.3</td>\n",
       "                        <td id=\"T_e265fa14_5130_11e9_975a_842b2bb021fdrow2_col3\" class=\"data row2 col3\" >12</td>\n",
       "                        <td id=\"T_e265fa14_5130_11e9_975a_842b2bb021fdrow2_col4\" class=\"data row2 col4\" >[256]</td>\n",
       "                        <td id=\"T_e265fa14_5130_11e9_975a_842b2bb021fdrow2_col5\" class=\"data row2 col5\" >0.05</td>\n",
       "                        <td id=\"T_e265fa14_5130_11e9_975a_842b2bb021fdrow2_col6\" class=\"data row2 col6\" >6.89018</td>\n",
       "                        <td id=\"T_e265fa14_5130_11e9_975a_842b2bb021fdrow2_col7\" class=\"data row2 col7\" >200</td>\n",
       "                        <td id=\"T_e265fa14_5130_11e9_975a_842b2bb021fdrow2_col8\" class=\"data row2 col8\" >6.60443</td>\n",
       "            </tr>\n",
       "            <tr>\n",
       "                        <th id=\"T_e265fa14_5130_11e9_975a_842b2bb021fdlevel0_row3\" class=\"row_heading level0 row3\" >8</th>\n",
       "                        <td id=\"T_e265fa14_5130_11e9_975a_842b2bb021fdrow3_col0\" class=\"data row3 col0\" >32</td>\n",
       "                        <td id=\"T_e265fa14_5130_11e9_975a_842b2bb021fdrow3_col1\" class=\"data row3 col1\" >2</td>\n",
       "                        <td id=\"T_e265fa14_5130_11e9_975a_842b2bb021fdrow3_col2\" class=\"data row3 col2\" >0.3</td>\n",
       "                        <td id=\"T_e265fa14_5130_11e9_975a_842b2bb021fdrow3_col3\" class=\"data row3 col3\" >12</td>\n",
       "                        <td id=\"T_e265fa14_5130_11e9_975a_842b2bb021fdrow3_col4\" class=\"data row3 col4\" >[512]</td>\n",
       "                        <td id=\"T_e265fa14_5130_11e9_975a_842b2bb021fdrow3_col5\" class=\"data row3 col5\" >0.1</td>\n",
       "                        <td id=\"T_e265fa14_5130_11e9_975a_842b2bb021fdrow3_col6\" class=\"data row3 col6\" >6.90227</td>\n",
       "                        <td id=\"T_e265fa14_5130_11e9_975a_842b2bb021fdrow3_col7\" class=\"data row3 col7\" >200</td>\n",
       "                        <td id=\"T_e265fa14_5130_11e9_975a_842b2bb021fdrow3_col8\" class=\"data row3 col8\" >6.60626</td>\n",
       "            </tr>\n",
       "            <tr>\n",
       "                        <th id=\"T_e265fa14_5130_11e9_975a_842b2bb021fdlevel0_row4\" class=\"row_heading level0 row4\" >14</th>\n",
       "                        <td id=\"T_e265fa14_5130_11e9_975a_842b2bb021fdrow4_col0\" class=\"data row4 col0\" >32</td>\n",
       "                        <td id=\"T_e265fa14_5130_11e9_975a_842b2bb021fdrow4_col1\" class=\"data row4 col1\" >2</td>\n",
       "                        <td id=\"T_e265fa14_5130_11e9_975a_842b2bb021fdrow4_col2\" class=\"data row4 col2\" >0.3</td>\n",
       "                        <td id=\"T_e265fa14_5130_11e9_975a_842b2bb021fdrow4_col3\" class=\"data row4 col3\" >18</td>\n",
       "                        <td id=\"T_e265fa14_5130_11e9_975a_842b2bb021fdrow4_col4\" class=\"data row4 col4\" >[256]</td>\n",
       "                        <td id=\"T_e265fa14_5130_11e9_975a_842b2bb021fdrow4_col5\" class=\"data row4 col5\" >0.1</td>\n",
       "                        <td id=\"T_e265fa14_5130_11e9_975a_842b2bb021fdrow4_col6\" class=\"data row4 col6\" >6.88684</td>\n",
       "                        <td id=\"T_e265fa14_5130_11e9_975a_842b2bb021fdrow4_col7\" class=\"data row4 col7\" >200</td>\n",
       "                        <td id=\"T_e265fa14_5130_11e9_975a_842b2bb021fdrow4_col8\" class=\"data row4 col8\" >6.59576</td>\n",
       "            </tr>\n",
       "            <tr>\n",
       "                        <th id=\"T_e265fa14_5130_11e9_975a_842b2bb021fdlevel0_row5\" class=\"row_heading level0 row5\" >19</th>\n",
       "                        <td id=\"T_e265fa14_5130_11e9_975a_842b2bb021fdrow5_col0\" class=\"data row5 col0\" >32</td>\n",
       "                        <td id=\"T_e265fa14_5130_11e9_975a_842b2bb021fdrow5_col1\" class=\"data row5 col1\" >2</td>\n",
       "                        <td id=\"T_e265fa14_5130_11e9_975a_842b2bb021fdrow5_col2\" class=\"data row5 col2\" >0.4</td>\n",
       "                        <td id=\"T_e265fa14_5130_11e9_975a_842b2bb021fdrow5_col3\" class=\"data row5 col3\" >12</td>\n",
       "                        <td id=\"T_e265fa14_5130_11e9_975a_842b2bb021fdrow5_col4\" class=\"data row5 col4\" >[256, 128]</td>\n",
       "                        <td id=\"T_e265fa14_5130_11e9_975a_842b2bb021fdrow5_col5\" class=\"data row5 col5\" >0.05</td>\n",
       "                        <td id=\"T_e265fa14_5130_11e9_975a_842b2bb021fdrow5_col6\" class=\"data row5 col6\" >6.8867</td>\n",
       "                        <td id=\"T_e265fa14_5130_11e9_975a_842b2bb021fdrow5_col7\" class=\"data row5 col7\" >200</td>\n",
       "                        <td id=\"T_e265fa14_5130_11e9_975a_842b2bb021fdrow5_col8\" class=\"data row5 col8\" >6.60287</td>\n",
       "            </tr>\n",
       "            <tr>\n",
       "                        <th id=\"T_e265fa14_5130_11e9_975a_842b2bb021fdlevel0_row6\" class=\"row_heading level0 row6\" >26</th>\n",
       "                        <td id=\"T_e265fa14_5130_11e9_975a_842b2bb021fdrow6_col0\" class=\"data row6 col0\" >32</td>\n",
       "                        <td id=\"T_e265fa14_5130_11e9_975a_842b2bb021fdrow6_col1\" class=\"data row6 col1\" >2</td>\n",
       "                        <td id=\"T_e265fa14_5130_11e9_975a_842b2bb021fdrow6_col2\" class=\"data row6 col2\" >0.4</td>\n",
       "                        <td id=\"T_e265fa14_5130_11e9_975a_842b2bb021fdrow6_col3\" class=\"data row6 col3\" >12</td>\n",
       "                        <td id=\"T_e265fa14_5130_11e9_975a_842b2bb021fdrow6_col4\" class=\"data row6 col4\" >[512]</td>\n",
       "                        <td id=\"T_e265fa14_5130_11e9_975a_842b2bb021fdrow6_col5\" class=\"data row6 col5\" >0.1</td>\n",
       "                        <td id=\"T_e265fa14_5130_11e9_975a_842b2bb021fdrow6_col6\" class=\"data row6 col6\" >6.9099</td>\n",
       "                        <td id=\"T_e265fa14_5130_11e9_975a_842b2bb021fdrow6_col7\" class=\"data row6 col7\" >200</td>\n",
       "                        <td id=\"T_e265fa14_5130_11e9_975a_842b2bb021fdrow6_col8\" class=\"data row6 col8\" >6.61137</td>\n",
       "            </tr>\n",
       "    </tbody></table>"
      ],
      "text/plain": [
       "<pandas.io.formats.style.Styler at 0x7f383f475048>"
      ]
     },
     "execution_count": 101,
     "metadata": {},
     "output_type": "execute_result"
    }
   ],
   "source": [
    "\n",
    "b =a.groupby(by=['neurons', 'nlayers', 'drop', 'lag', 'full', 'fulldrop'],as_index=False).agg({'test':['mean','count'], 'val':'mean', })\n",
    "\n",
    "b[b['test']['mean'] > 6.88].style.highlight_max()"
   ]
  },
  {
   "cell_type": "code",
   "execution_count": 103,
   "metadata": {
    "extensions": {
     "jupyter_dashboards": {
      "version": 1,
      "views": {
       "grid_default": {},
       "report_default": {}
      }
     }
    }
   },
   "outputs": [
    {
     "data": {
      "application/vnd.plotly.v1+json": {
       "config": {
        "linkText": "Export to plot.ly",
        "plotlyServerURL": "https://plot.ly",
        "showLink": false
       },
       "data": [
        {
         "marker": {
          "size": [
           40,
           40,
           40,
           40,
           40,
           40,
           40,
           40,
           40,
           40,
           40,
           40
          ]
         },
         "mode": "markers",
         "name": "[256, 128]",
         "text": [
          "drop:0.3-fulldrop:0.0-nlayers:2-lag:12-full:[256, 128]",
          "drop:0.3-fulldrop:0.05-nlayers:2-lag:12-full:[256, 128]",
          "drop:0.3-fulldrop:0.1-nlayers:2-lag:12-full:[256, 128]",
          "drop:0.3-fulldrop:0.0-nlayers:2-lag:18-full:[256, 128]",
          "drop:0.3-fulldrop:0.05-nlayers:2-lag:18-full:[256, 128]",
          "drop:0.3-fulldrop:0.1-nlayers:2-lag:18-full:[256, 128]",
          "drop:0.4-fulldrop:0.0-nlayers:2-lag:12-full:[256, 128]",
          "drop:0.4-fulldrop:0.05-nlayers:2-lag:12-full:[256, 128]",
          "drop:0.4-fulldrop:0.1-nlayers:2-lag:12-full:[256, 128]",
          "drop:0.4-fulldrop:0.0-nlayers:2-lag:18-full:[256, 128]",
          "drop:0.4-fulldrop:0.05-nlayers:2-lag:18-full:[256, 128]",
          "drop:0.4-fulldrop:0.1-nlayers:2-lag:18-full:[256, 128]"
         ],
         "type": "scatter",
         "uid": "2941fb03-b928-4d86-9b1c-ec5d13dc25e4",
         "x": [
          6.866421452920926,
          6.890418099328247,
          6.887034490560592,
          6.804062685623538,
          6.835703825234265,
          6.87770800684256,
          6.873678708032012,
          6.886696256211992,
          6.85255659075139,
          6.800978080139719,
          6.850669300714004,
          6.855767515105778
         ],
         "y": [
          6.576026413348693,
          6.6016619195013595,
          6.605494835946046,
          6.504118580551753,
          6.531705444134932,
          6.593211549226279,
          6.574974995351491,
          6.602868890789588,
          6.565695128634655,
          6.484797774068146,
          6.543051498800703,
          6.563057358130817
         ]
        },
        {
         "marker": {
          "size": [
           40,
           40,
           40,
           40,
           40,
           40,
           40,
           40,
           40,
           40,
           40,
           40
          ]
         },
         "mode": "markers",
         "name": "[256]",
         "text": [
          "drop:0.3-fulldrop:0.0-nlayers:2-lag:12-full:[256]",
          "drop:0.3-fulldrop:0.05-nlayers:2-lag:12-full:[256]",
          "drop:0.3-fulldrop:0.1-nlayers:2-lag:12-full:[256]",
          "drop:0.3-fulldrop:0.0-nlayers:2-lag:18-full:[256]",
          "drop:0.3-fulldrop:0.05-nlayers:2-lag:18-full:[256]",
          "drop:0.3-fulldrop:0.1-nlayers:2-lag:18-full:[256]",
          "drop:0.4-fulldrop:0.0-nlayers:2-lag:12-full:[256]",
          "drop:0.4-fulldrop:0.05-nlayers:2-lag:12-full:[256]",
          "drop:0.4-fulldrop:0.1-nlayers:2-lag:12-full:[256]",
          "drop:0.4-fulldrop:0.0-nlayers:2-lag:18-full:[256]",
          "drop:0.4-fulldrop:0.05-nlayers:2-lag:18-full:[256]",
          "drop:0.4-fulldrop:0.1-nlayers:2-lag:18-full:[256]"
         ],
         "type": "scatter",
         "uid": "7f2bc1f4-6064-4d5f-8075-2366cbc30df1",
         "x": [
          6.849681265270037,
          6.890176928873871,
          6.852371053456235,
          6.843026037642424,
          6.879822454432417,
          6.88683806900877,
          6.849576454740643,
          6.868310212948049,
          6.867629970921453,
          6.785111838184489,
          6.848790724812329,
          6.846584162961781
         ],
         "y": [
          6.565940772397459,
          6.604433696116972,
          6.553291232005721,
          6.552807438225202,
          6.579822158553555,
          6.595756909131499,
          6.544966476518938,
          6.568455364634091,
          6.565608450634645,
          6.478153503117353,
          6.545387241382324,
          6.553245524509107
         ]
        },
        {
         "marker": {
          "size": [
           40,
           40,
           40,
           40,
           40,
           40,
           40,
           40,
           40,
           40,
           40,
           40
          ]
         },
         "mode": "markers",
         "name": "[512]",
         "text": [
          "drop:0.3-fulldrop:0.0-nlayers:2-lag:12-full:[512]",
          "drop:0.3-fulldrop:0.05-nlayers:2-lag:12-full:[512]",
          "drop:0.3-fulldrop:0.1-nlayers:2-lag:12-full:[512]",
          "drop:0.3-fulldrop:0.0-nlayers:2-lag:18-full:[512]",
          "drop:0.3-fulldrop:0.05-nlayers:2-lag:18-full:[512]",
          "drop:0.3-fulldrop:0.1-nlayers:2-lag:18-full:[512]",
          "drop:0.4-fulldrop:0.0-nlayers:2-lag:12-full:[512]",
          "drop:0.4-fulldrop:0.05-nlayers:2-lag:12-full:[512]",
          "drop:0.4-fulldrop:0.1-nlayers:2-lag:12-full:[512]",
          "drop:0.4-fulldrop:0.0-nlayers:2-lag:18-full:[512]",
          "drop:0.4-fulldrop:0.05-nlayers:2-lag:18-full:[512]",
          "drop:0.4-fulldrop:0.1-nlayers:2-lag:18-full:[512]"
         ],
         "type": "scatter",
         "uid": "6cba356f-a499-4444-aef3-b684f3c43635",
         "x": [
          6.835046781339119,
          6.840567504805754,
          6.90227027329075,
          6.831782398000266,
          6.874792158682061,
          6.830013793106925,
          6.789454378722106,
          6.8420592832971545,
          6.909904168458654,
          6.811538804436169,
          6.799402128981126,
          6.8156746163066115
         ],
         "y": [
          6.541033602870031,
          6.528153887221364,
          6.606258743962502,
          6.531071771226541,
          6.572316030710962,
          6.527578717550771,
          6.473467999296504,
          6.532195205788247,
          6.611367732011866,
          6.502282746528742,
          6.49738374652137,
          6.491704965631986
         ]
        }
       ],
       "layout": {}
      },
      "text/html": [
       "<div id=\"ab9887b1-5cf9-486a-be7e-d25dc39fb47b\" style=\"height: 525px; width: 100%;\" class=\"plotly-graph-div\"></div><script type=\"text/javascript\">require([\"plotly\"], function(Plotly) { window.PLOTLYENV=window.PLOTLYENV || {};window.PLOTLYENV.BASE_URL=\"https://plot.ly\";\n",
       "if (document.getElementById(\"ab9887b1-5cf9-486a-be7e-d25dc39fb47b\")) {\n",
       "    Plotly.newPlot(\"ab9887b1-5cf9-486a-be7e-d25dc39fb47b\", [{\"marker\": {\"size\": [40.0, 40.0, 40.0, 40.0, 40.0, 40.0, 40.0, 40.0, 40.0, 40.0, 40.0, 40.0]}, \"mode\": \"markers\", \"name\": \"[256, 128]\", \"text\": [\"drop:0.3-fulldrop:0.0-nlayers:2-lag:12-full:[256, 128]\", \"drop:0.3-fulldrop:0.05-nlayers:2-lag:12-full:[256, 128]\", \"drop:0.3-fulldrop:0.1-nlayers:2-lag:12-full:[256, 128]\", \"drop:0.3-fulldrop:0.0-nlayers:2-lag:18-full:[256, 128]\", \"drop:0.3-fulldrop:0.05-nlayers:2-lag:18-full:[256, 128]\", \"drop:0.3-fulldrop:0.1-nlayers:2-lag:18-full:[256, 128]\", \"drop:0.4-fulldrop:0.0-nlayers:2-lag:12-full:[256, 128]\", \"drop:0.4-fulldrop:0.05-nlayers:2-lag:12-full:[256, 128]\", \"drop:0.4-fulldrop:0.1-nlayers:2-lag:12-full:[256, 128]\", \"drop:0.4-fulldrop:0.0-nlayers:2-lag:18-full:[256, 128]\", \"drop:0.4-fulldrop:0.05-nlayers:2-lag:18-full:[256, 128]\", \"drop:0.4-fulldrop:0.1-nlayers:2-lag:18-full:[256, 128]\"], \"x\": [6.866421452920926, 6.890418099328247, 6.887034490560592, 6.804062685623538, 6.835703825234265, 6.87770800684256, 6.873678708032012, 6.886696256211992, 6.85255659075139, 6.800978080139719, 6.850669300714004, 6.855767515105778], \"y\": [6.576026413348693, 6.6016619195013595, 6.605494835946046, 6.504118580551753, 6.531705444134932, 6.593211549226279, 6.574974995351491, 6.602868890789588, 6.565695128634655, 6.484797774068146, 6.543051498800703, 6.563057358130817], \"type\": \"scatter\", \"uid\": \"d1f7e613-f279-4295-a629-7a4a4f2723e1\"}, {\"marker\": {\"size\": [40.0, 40.0, 40.0, 40.0, 40.0, 40.0, 40.0, 40.0, 40.0, 40.0, 40.0, 40.0]}, \"mode\": \"markers\", \"name\": \"[256]\", \"text\": [\"drop:0.3-fulldrop:0.0-nlayers:2-lag:12-full:[256]\", \"drop:0.3-fulldrop:0.05-nlayers:2-lag:12-full:[256]\", \"drop:0.3-fulldrop:0.1-nlayers:2-lag:12-full:[256]\", \"drop:0.3-fulldrop:0.0-nlayers:2-lag:18-full:[256]\", \"drop:0.3-fulldrop:0.05-nlayers:2-lag:18-full:[256]\", \"drop:0.3-fulldrop:0.1-nlayers:2-lag:18-full:[256]\", \"drop:0.4-fulldrop:0.0-nlayers:2-lag:12-full:[256]\", \"drop:0.4-fulldrop:0.05-nlayers:2-lag:12-full:[256]\", \"drop:0.4-fulldrop:0.1-nlayers:2-lag:12-full:[256]\", \"drop:0.4-fulldrop:0.0-nlayers:2-lag:18-full:[256]\", \"drop:0.4-fulldrop:0.05-nlayers:2-lag:18-full:[256]\", \"drop:0.4-fulldrop:0.1-nlayers:2-lag:18-full:[256]\"], \"x\": [6.849681265270037, 6.890176928873871, 6.852371053456235, 6.843026037642424, 6.879822454432417, 6.88683806900877, 6.849576454740643, 6.868310212948049, 6.867629970921453, 6.785111838184489, 6.848790724812329, 6.846584162961781], \"y\": [6.565940772397459, 6.604433696116972, 6.553291232005721, 6.552807438225202, 6.579822158553555, 6.595756909131499, 6.544966476518938, 6.568455364634091, 6.565608450634645, 6.478153503117353, 6.545387241382324, 6.553245524509107], \"type\": \"scatter\", \"uid\": \"77d953d7-7c65-4896-ad94-cd25da21f0f4\"}, {\"marker\": {\"size\": [40.0, 40.0, 40.0, 40.0, 40.0, 40.0, 40.0, 40.0, 40.0, 40.0, 40.0, 40.0]}, \"mode\": \"markers\", \"name\": \"[512]\", \"text\": [\"drop:0.3-fulldrop:0.0-nlayers:2-lag:12-full:[512]\", \"drop:0.3-fulldrop:0.05-nlayers:2-lag:12-full:[512]\", \"drop:0.3-fulldrop:0.1-nlayers:2-lag:12-full:[512]\", \"drop:0.3-fulldrop:0.0-nlayers:2-lag:18-full:[512]\", \"drop:0.3-fulldrop:0.05-nlayers:2-lag:18-full:[512]\", \"drop:0.3-fulldrop:0.1-nlayers:2-lag:18-full:[512]\", \"drop:0.4-fulldrop:0.0-nlayers:2-lag:12-full:[512]\", \"drop:0.4-fulldrop:0.05-nlayers:2-lag:12-full:[512]\", \"drop:0.4-fulldrop:0.1-nlayers:2-lag:12-full:[512]\", \"drop:0.4-fulldrop:0.0-nlayers:2-lag:18-full:[512]\", \"drop:0.4-fulldrop:0.05-nlayers:2-lag:18-full:[512]\", \"drop:0.4-fulldrop:0.1-nlayers:2-lag:18-full:[512]\"], \"x\": [6.835046781339119, 6.840567504805754, 6.90227027329075, 6.831782398000266, 6.874792158682061, 6.830013793106925, 6.789454378722106, 6.8420592832971545, 6.909904168458654, 6.811538804436169, 6.799402128981126, 6.8156746163066115], \"y\": [6.541033602870031, 6.528153887221364, 6.606258743962502, 6.531071771226541, 6.572316030710962, 6.527578717550771, 6.473467999296504, 6.532195205788247, 6.611367732011866, 6.502282746528742, 6.49738374652137, 6.491704965631986], \"type\": \"scatter\", \"uid\": \"3d58fbe8-e8a6-4db1-aa4b-3610d630f5d3\"}], {}, {\"showLink\": false, \"linkText\": \"Export to plot.ly\", \"plotlyServerURL\": \"https://plot.ly\"}); \n",
       "}\n",
       "});</script><script type=\"text/javascript\">window.addEventListener(\"resize\", function(){if (document.getElementById(\"ab9887b1-5cf9-486a-be7e-d25dc39fb47b\")) {window._Plotly.Plots.resize(document.getElementById(\"ab9887b1-5cf9-486a-be7e-d25dc39fb47b\"));};})</script>"
      ],
      "text/vnd.plotly.v1+html": [
       "<div id=\"ab9887b1-5cf9-486a-be7e-d25dc39fb47b\" style=\"height: 525px; width: 100%;\" class=\"plotly-graph-div\"></div><script type=\"text/javascript\">require([\"plotly\"], function(Plotly) { window.PLOTLYENV=window.PLOTLYENV || {};window.PLOTLYENV.BASE_URL=\"https://plot.ly\";\n",
       "if (document.getElementById(\"ab9887b1-5cf9-486a-be7e-d25dc39fb47b\")) {\n",
       "    Plotly.newPlot(\"ab9887b1-5cf9-486a-be7e-d25dc39fb47b\", [{\"marker\": {\"size\": [40.0, 40.0, 40.0, 40.0, 40.0, 40.0, 40.0, 40.0, 40.0, 40.0, 40.0, 40.0]}, \"mode\": \"markers\", \"name\": \"[256, 128]\", \"text\": [\"drop:0.3-fulldrop:0.0-nlayers:2-lag:12-full:[256, 128]\", \"drop:0.3-fulldrop:0.05-nlayers:2-lag:12-full:[256, 128]\", \"drop:0.3-fulldrop:0.1-nlayers:2-lag:12-full:[256, 128]\", \"drop:0.3-fulldrop:0.0-nlayers:2-lag:18-full:[256, 128]\", \"drop:0.3-fulldrop:0.05-nlayers:2-lag:18-full:[256, 128]\", \"drop:0.3-fulldrop:0.1-nlayers:2-lag:18-full:[256, 128]\", \"drop:0.4-fulldrop:0.0-nlayers:2-lag:12-full:[256, 128]\", \"drop:0.4-fulldrop:0.05-nlayers:2-lag:12-full:[256, 128]\", \"drop:0.4-fulldrop:0.1-nlayers:2-lag:12-full:[256, 128]\", \"drop:0.4-fulldrop:0.0-nlayers:2-lag:18-full:[256, 128]\", \"drop:0.4-fulldrop:0.05-nlayers:2-lag:18-full:[256, 128]\", \"drop:0.4-fulldrop:0.1-nlayers:2-lag:18-full:[256, 128]\"], \"x\": [6.866421452920926, 6.890418099328247, 6.887034490560592, 6.804062685623538, 6.835703825234265, 6.87770800684256, 6.873678708032012, 6.886696256211992, 6.85255659075139, 6.800978080139719, 6.850669300714004, 6.855767515105778], \"y\": [6.576026413348693, 6.6016619195013595, 6.605494835946046, 6.504118580551753, 6.531705444134932, 6.593211549226279, 6.574974995351491, 6.602868890789588, 6.565695128634655, 6.484797774068146, 6.543051498800703, 6.563057358130817], \"type\": \"scatter\", \"uid\": \"d1f7e613-f279-4295-a629-7a4a4f2723e1\"}, {\"marker\": {\"size\": [40.0, 40.0, 40.0, 40.0, 40.0, 40.0, 40.0, 40.0, 40.0, 40.0, 40.0, 40.0]}, \"mode\": \"markers\", \"name\": \"[256]\", \"text\": [\"drop:0.3-fulldrop:0.0-nlayers:2-lag:12-full:[256]\", \"drop:0.3-fulldrop:0.05-nlayers:2-lag:12-full:[256]\", \"drop:0.3-fulldrop:0.1-nlayers:2-lag:12-full:[256]\", \"drop:0.3-fulldrop:0.0-nlayers:2-lag:18-full:[256]\", \"drop:0.3-fulldrop:0.05-nlayers:2-lag:18-full:[256]\", \"drop:0.3-fulldrop:0.1-nlayers:2-lag:18-full:[256]\", \"drop:0.4-fulldrop:0.0-nlayers:2-lag:12-full:[256]\", \"drop:0.4-fulldrop:0.05-nlayers:2-lag:12-full:[256]\", \"drop:0.4-fulldrop:0.1-nlayers:2-lag:12-full:[256]\", \"drop:0.4-fulldrop:0.0-nlayers:2-lag:18-full:[256]\", \"drop:0.4-fulldrop:0.05-nlayers:2-lag:18-full:[256]\", \"drop:0.4-fulldrop:0.1-nlayers:2-lag:18-full:[256]\"], \"x\": [6.849681265270037, 6.890176928873871, 6.852371053456235, 6.843026037642424, 6.879822454432417, 6.88683806900877, 6.849576454740643, 6.868310212948049, 6.867629970921453, 6.785111838184489, 6.848790724812329, 6.846584162961781], \"y\": [6.565940772397459, 6.604433696116972, 6.553291232005721, 6.552807438225202, 6.579822158553555, 6.595756909131499, 6.544966476518938, 6.568455364634091, 6.565608450634645, 6.478153503117353, 6.545387241382324, 6.553245524509107], \"type\": \"scatter\", \"uid\": \"77d953d7-7c65-4896-ad94-cd25da21f0f4\"}, {\"marker\": {\"size\": [40.0, 40.0, 40.0, 40.0, 40.0, 40.0, 40.0, 40.0, 40.0, 40.0, 40.0, 40.0]}, \"mode\": \"markers\", \"name\": \"[512]\", \"text\": [\"drop:0.3-fulldrop:0.0-nlayers:2-lag:12-full:[512]\", \"drop:0.3-fulldrop:0.05-nlayers:2-lag:12-full:[512]\", \"drop:0.3-fulldrop:0.1-nlayers:2-lag:12-full:[512]\", \"drop:0.3-fulldrop:0.0-nlayers:2-lag:18-full:[512]\", \"drop:0.3-fulldrop:0.05-nlayers:2-lag:18-full:[512]\", \"drop:0.3-fulldrop:0.1-nlayers:2-lag:18-full:[512]\", \"drop:0.4-fulldrop:0.0-nlayers:2-lag:12-full:[512]\", \"drop:0.4-fulldrop:0.05-nlayers:2-lag:12-full:[512]\", \"drop:0.4-fulldrop:0.1-nlayers:2-lag:12-full:[512]\", \"drop:0.4-fulldrop:0.0-nlayers:2-lag:18-full:[512]\", \"drop:0.4-fulldrop:0.05-nlayers:2-lag:18-full:[512]\", \"drop:0.4-fulldrop:0.1-nlayers:2-lag:18-full:[512]\"], \"x\": [6.835046781339119, 6.840567504805754, 6.90227027329075, 6.831782398000266, 6.874792158682061, 6.830013793106925, 6.789454378722106, 6.8420592832971545, 6.909904168458654, 6.811538804436169, 6.799402128981126, 6.8156746163066115], \"y\": [6.541033602870031, 6.528153887221364, 6.606258743962502, 6.531071771226541, 6.572316030710962, 6.527578717550771, 6.473467999296504, 6.532195205788247, 6.611367732011866, 6.502282746528742, 6.49738374652137, 6.491704965631986], \"type\": \"scatter\", \"uid\": \"3d58fbe8-e8a6-4db1-aa4b-3610d630f5d3\"}], {}, {\"showLink\": false, \"linkText\": \"Export to plot.ly\", \"plotlyServerURL\": \"https://plot.ly\"}); \n",
       "}\n",
       "});</script><script type=\"text/javascript\">window.addEventListener(\"resize\", function(){if (document.getElementById(\"ab9887b1-5cf9-486a-be7e-d25dc39fb47b\")) {window._Plotly.Plots.resize(document.getElementById(\"ab9887b1-5cf9-486a-be7e-d25dc39fb47b\"));};})</script>"
      ]
     },
     "metadata": {},
     "output_type": "display_data"
    }
   ],
   "source": [
    "graph_results(b,'full',['drop', 'fulldrop','nlayers', 'lag'])"
   ]
  },
  {
   "cell_type": "markdown",
   "metadata": {
    "extensions": {
     "jupyter_dashboards": {
      "version": 1,
      "views": {
       "grid_default": {},
       "report_default": {}
      }
     }
    }
   },
   "source": [
    "## Fit 4"
   ]
  },
  {
   "cell_type": "markdown",
   "metadata": {
    "extensions": {
     "jupyter_dashboards": {
      "version": 1,
      "views": {
       "grid_default": {},
       "report_default": {}
      }
     }
    }
   },
   "source": [
    "Fourth fit of RNN, reexplore lag, decoder neurons, dropout and decoder layers"
   ]
  },
  {
   "cell_type": "code",
   "execution_count": 104,
   "metadata": {
    "extensions": {
     "jupyter_dashboards": {
      "version": 1,
      "views": {
       "grid_default": {},
       "report_default": {}
      }
     }
    }
   },
   "outputs": [],
   "source": [
    "query={'experiment':'rnns2sfit4'}\n",
    "\n",
    "results = DBResults(conn=mongolocaltest)\n",
    "#results = DBResults()\n",
    "\n",
    "\n",
    "results.results_dataframe_retrieve(query, arch=['drop', 'neurons', 'nlayers', 'full', 'fulldrop'], data=['lag'])\n"
   ]
  },
  {
   "cell_type": "code",
   "execution_count": 105,
   "metadata": {
    "extensions": {
     "jupyter_dashboards": {
      "version": 1,
      "views": {
       "grid_default": {},
       "report_default": {}
      }
     }
    }
   },
   "outputs": [
    {
     "data": {
      "text/plain": [
       "7200"
      ]
     },
     "execution_count": 105,
     "metadata": {},
     "output_type": "execute_result"
    }
   ],
   "source": [
    "a=results.exp_df.groupby(['site', 'drop', 'neurons', 'nlayers', 'lag', 'full', 'fulldrop'],as_index=False).sum()\n",
    "a.drop(columns=['hour', 'site'], inplace=True)\n",
    "len(a)"
   ]
  },
  {
   "cell_type": "code",
   "execution_count": 106,
   "metadata": {
    "extensions": {
     "jupyter_dashboards": {
      "version": 1,
      "views": {
       "grid_default": {},
       "report_default": {}
      }
     }
    }
   },
   "outputs": [
    {
     "data": {
      "text/html": [
       "<style  type=\"text/css\" >\n",
       "    #T_1d2e32b0_5131_11e9_975a_842b2bb021fdrow0_col7 {\n",
       "            background-color:  yellow;\n",
       "        }    #T_1d2e32b0_5131_11e9_975a_842b2bb021fdrow1_col7 {\n",
       "            background-color:  yellow;\n",
       "        }    #T_1d2e32b0_5131_11e9_975a_842b2bb021fdrow2_col7 {\n",
       "            background-color:  yellow;\n",
       "        }    #T_1d2e32b0_5131_11e9_975a_842b2bb021fdrow2_col8 {\n",
       "            background-color:  yellow;\n",
       "        }    #T_1d2e32b0_5131_11e9_975a_842b2bb021fdrow3_col7 {\n",
       "            background-color:  yellow;\n",
       "        }    #T_1d2e32b0_5131_11e9_975a_842b2bb021fdrow4_col6 {\n",
       "            background-color:  yellow;\n",
       "        }    #T_1d2e32b0_5131_11e9_975a_842b2bb021fdrow4_col7 {\n",
       "            background-color:  yellow;\n",
       "        }</style><table id=\"T_1d2e32b0_5131_11e9_975a_842b2bb021fd\" ><thead>    <tr>        <th class=\"blank level0\" ></th>        <th class=\"col_heading level0 col0\" >neurons</th>        <th class=\"col_heading level0 col1\" >nlayers</th>        <th class=\"col_heading level0 col2\" >drop</th>        <th class=\"col_heading level0 col3\" >lag</th>        <th class=\"col_heading level0 col4\" >full</th>        <th class=\"col_heading level0 col5\" >fulldrop</th>        <th class=\"col_heading level0 col6\" colspan=2>test</th>        <th class=\"col_heading level0 col8\" >val</th>    </tr>    <tr>        <th class=\"blank level1\" ></th>        <th class=\"col_heading level1 col0\" ></th>        <th class=\"col_heading level1 col1\" ></th>        <th class=\"col_heading level1 col2\" ></th>        <th class=\"col_heading level1 col3\" ></th>        <th class=\"col_heading level1 col4\" ></th>        <th class=\"col_heading level1 col5\" ></th>        <th class=\"col_heading level1 col6\" >mean</th>        <th class=\"col_heading level1 col7\" >count</th>        <th class=\"col_heading level1 col8\" >mean</th>    </tr></thead><tbody>\n",
       "                <tr>\n",
       "                        <th id=\"T_1d2e32b0_5131_11e9_975a_842b2bb021fdlevel0_row0\" class=\"row_heading level0 row0\" >7</th>\n",
       "                        <td id=\"T_1d2e32b0_5131_11e9_975a_842b2bb021fdrow0_col0\" class=\"data row0 col0\" >16</td>\n",
       "                        <td id=\"T_1d2e32b0_5131_11e9_975a_842b2bb021fdrow0_col1\" class=\"data row0 col1\" >2</td>\n",
       "                        <td id=\"T_1d2e32b0_5131_11e9_975a_842b2bb021fdrow0_col2\" class=\"data row0 col2\" >0.4</td>\n",
       "                        <td id=\"T_1d2e32b0_5131_11e9_975a_842b2bb021fdrow0_col3\" class=\"data row0 col3\" >12</td>\n",
       "                        <td id=\"T_1d2e32b0_5131_11e9_975a_842b2bb021fdrow0_col4\" class=\"data row0 col4\" >[512]</td>\n",
       "                        <td id=\"T_1d2e32b0_5131_11e9_975a_842b2bb021fdrow0_col5\" class=\"data row0 col5\" >0.2</td>\n",
       "                        <td id=\"T_1d2e32b0_5131_11e9_975a_842b2bb021fdrow0_col6\" class=\"data row0 col6\" >6.88307</td>\n",
       "                        <td id=\"T_1d2e32b0_5131_11e9_975a_842b2bb021fdrow0_col7\" class=\"data row0 col7\" >200</td>\n",
       "                        <td id=\"T_1d2e32b0_5131_11e9_975a_842b2bb021fdrow0_col8\" class=\"data row0 col8\" >6.59668</td>\n",
       "            </tr>\n",
       "            <tr>\n",
       "                        <th id=\"T_1d2e32b0_5131_11e9_975a_842b2bb021fdlevel0_row1\" class=\"row_heading level0 row1\" >13</th>\n",
       "                        <td id=\"T_1d2e32b0_5131_11e9_975a_842b2bb021fdrow1_col0\" class=\"data row1 col0\" >32</td>\n",
       "                        <td id=\"T_1d2e32b0_5131_11e9_975a_842b2bb021fdrow1_col1\" class=\"data row1 col1\" >2</td>\n",
       "                        <td id=\"T_1d2e32b0_5131_11e9_975a_842b2bb021fdrow1_col2\" class=\"data row1 col2\" >0.3</td>\n",
       "                        <td id=\"T_1d2e32b0_5131_11e9_975a_842b2bb021fdrow1_col3\" class=\"data row1 col3\" >12</td>\n",
       "                        <td id=\"T_1d2e32b0_5131_11e9_975a_842b2bb021fdrow1_col4\" class=\"data row1 col4\" >[1024]</td>\n",
       "                        <td id=\"T_1d2e32b0_5131_11e9_975a_842b2bb021fdrow1_col5\" class=\"data row1 col5\" >0.2</td>\n",
       "                        <td id=\"T_1d2e32b0_5131_11e9_975a_842b2bb021fdrow1_col6\" class=\"data row1 col6\" >6.89582</td>\n",
       "                        <td id=\"T_1d2e32b0_5131_11e9_975a_842b2bb021fdrow1_col7\" class=\"data row1 col7\" >200</td>\n",
       "                        <td id=\"T_1d2e32b0_5131_11e9_975a_842b2bb021fdrow1_col8\" class=\"data row1 col8\" >6.60089</td>\n",
       "            </tr>\n",
       "            <tr>\n",
       "                        <th id=\"T_1d2e32b0_5131_11e9_975a_842b2bb021fdlevel0_row2\" class=\"row_heading level0 row2\" >27</th>\n",
       "                        <td id=\"T_1d2e32b0_5131_11e9_975a_842b2bb021fdrow2_col0\" class=\"data row2 col0\" >64</td>\n",
       "                        <td id=\"T_1d2e32b0_5131_11e9_975a_842b2bb021fdrow2_col1\" class=\"data row2 col1\" >2</td>\n",
       "                        <td id=\"T_1d2e32b0_5131_11e9_975a_842b2bb021fdrow2_col2\" class=\"data row2 col2\" >0.3</td>\n",
       "                        <td id=\"T_1d2e32b0_5131_11e9_975a_842b2bb021fdrow2_col3\" class=\"data row2 col3\" >12</td>\n",
       "                        <td id=\"T_1d2e32b0_5131_11e9_975a_842b2bb021fdrow2_col4\" class=\"data row2 col4\" >[512]</td>\n",
       "                        <td id=\"T_1d2e32b0_5131_11e9_975a_842b2bb021fdrow2_col5\" class=\"data row2 col5\" >0.2</td>\n",
       "                        <td id=\"T_1d2e32b0_5131_11e9_975a_842b2bb021fdrow2_col6\" class=\"data row2 col6\" >6.88377</td>\n",
       "                        <td id=\"T_1d2e32b0_5131_11e9_975a_842b2bb021fdrow2_col7\" class=\"data row2 col7\" >200</td>\n",
       "                        <td id=\"T_1d2e32b0_5131_11e9_975a_842b2bb021fdrow2_col8\" class=\"data row2 col8\" >6.6052</td>\n",
       "            </tr>\n",
       "            <tr>\n",
       "                        <th id=\"T_1d2e32b0_5131_11e9_975a_842b2bb021fdlevel0_row3\" class=\"row_heading level0 row3\" >29</th>\n",
       "                        <td id=\"T_1d2e32b0_5131_11e9_975a_842b2bb021fdrow3_col0\" class=\"data row3 col0\" >64</td>\n",
       "                        <td id=\"T_1d2e32b0_5131_11e9_975a_842b2bb021fdrow3_col1\" class=\"data row3 col1\" >2</td>\n",
       "                        <td id=\"T_1d2e32b0_5131_11e9_975a_842b2bb021fdrow3_col2\" class=\"data row3 col2\" >0.4</td>\n",
       "                        <td id=\"T_1d2e32b0_5131_11e9_975a_842b2bb021fdrow3_col3\" class=\"data row3 col3\" >12</td>\n",
       "                        <td id=\"T_1d2e32b0_5131_11e9_975a_842b2bb021fdrow3_col4\" class=\"data row3 col4\" >[1024]</td>\n",
       "                        <td id=\"T_1d2e32b0_5131_11e9_975a_842b2bb021fdrow3_col5\" class=\"data row3 col5\" >0.2</td>\n",
       "                        <td id=\"T_1d2e32b0_5131_11e9_975a_842b2bb021fdrow3_col6\" class=\"data row3 col6\" >6.894</td>\n",
       "                        <td id=\"T_1d2e32b0_5131_11e9_975a_842b2bb021fdrow3_col7\" class=\"data row3 col7\" >200</td>\n",
       "                        <td id=\"T_1d2e32b0_5131_11e9_975a_842b2bb021fdrow3_col8\" class=\"data row3 col8\" >6.59277</td>\n",
       "            </tr>\n",
       "            <tr>\n",
       "                        <th id=\"T_1d2e32b0_5131_11e9_975a_842b2bb021fdlevel0_row4\" class=\"row_heading level0 row4\" >31</th>\n",
       "                        <td id=\"T_1d2e32b0_5131_11e9_975a_842b2bb021fdrow4_col0\" class=\"data row4 col0\" >64</td>\n",
       "                        <td id=\"T_1d2e32b0_5131_11e9_975a_842b2bb021fdrow4_col1\" class=\"data row4 col1\" >2</td>\n",
       "                        <td id=\"T_1d2e32b0_5131_11e9_975a_842b2bb021fdrow4_col2\" class=\"data row4 col2\" >0.4</td>\n",
       "                        <td id=\"T_1d2e32b0_5131_11e9_975a_842b2bb021fdrow4_col3\" class=\"data row4 col3\" >12</td>\n",
       "                        <td id=\"T_1d2e32b0_5131_11e9_975a_842b2bb021fdrow4_col4\" class=\"data row4 col4\" >[512]</td>\n",
       "                        <td id=\"T_1d2e32b0_5131_11e9_975a_842b2bb021fdrow4_col5\" class=\"data row4 col5\" >0.2</td>\n",
       "                        <td id=\"T_1d2e32b0_5131_11e9_975a_842b2bb021fdrow4_col6\" class=\"data row4 col6\" >6.90236</td>\n",
       "                        <td id=\"T_1d2e32b0_5131_11e9_975a_842b2bb021fdrow4_col7\" class=\"data row4 col7\" >200</td>\n",
       "                        <td id=\"T_1d2e32b0_5131_11e9_975a_842b2bb021fdrow4_col8\" class=\"data row4 col8\" >6.60493</td>\n",
       "            </tr>\n",
       "    </tbody></table>"
      ],
      "text/plain": [
       "<pandas.io.formats.style.Styler at 0x7f383f339780>"
      ]
     },
     "execution_count": 106,
     "metadata": {},
     "output_type": "execute_result"
    }
   ],
   "source": [
    "b =a.groupby(by=['neurons', 'nlayers', 'drop', 'lag', 'full', 'fulldrop'],as_index=False).agg({'test':['mean','count'], 'val':'mean', })\n",
    "\n",
    "b[b['test']['mean'] > 6.88].style.highlight_max()"
   ]
  },
  {
   "cell_type": "code",
   "execution_count": 107,
   "metadata": {
    "extensions": {
     "jupyter_dashboards": {
      "version": 1,
      "views": {
       "grid_default": {},
       "report_default": {}
      }
     }
    }
   },
   "outputs": [
    {
     "data": {
      "application/vnd.plotly.v1+json": {
       "config": {
        "linkText": "Export to plot.ly",
        "plotlyServerURL": "https://plot.ly",
        "showLink": false
       },
       "data": [
        {
         "marker": {
          "size": [
           40,
           40,
           40,
           40,
           40,
           40,
           40,
           40,
           40,
           40,
           40,
           40,
           40,
           40,
           40,
           40,
           40,
           40
          ]
         },
         "mode": "markers",
         "name": "[1024]",
         "text": [
          "drop:0.3-fulldrop:0.1-nlayers:2-lag:12-full:[1024]",
          "drop:0.3-fulldrop:0.2-nlayers:2-lag:12-full:[1024]",
          "drop:0.4-fulldrop:0.1-nlayers:2-lag:12-full:[1024]",
          "drop:0.4-fulldrop:0.2-nlayers:2-lag:12-full:[1024]",
          "drop:0.5-fulldrop:0.1-nlayers:2-lag:12-full:[1024]",
          "drop:0.5-fulldrop:0.2-nlayers:2-lag:12-full:[1024]",
          "drop:0.3-fulldrop:0.1-nlayers:2-lag:12-full:[1024]",
          "drop:0.3-fulldrop:0.2-nlayers:2-lag:12-full:[1024]",
          "drop:0.4-fulldrop:0.1-nlayers:2-lag:12-full:[1024]",
          "drop:0.4-fulldrop:0.2-nlayers:2-lag:12-full:[1024]",
          "drop:0.5-fulldrop:0.1-nlayers:2-lag:12-full:[1024]",
          "drop:0.5-fulldrop:0.2-nlayers:2-lag:12-full:[1024]",
          "drop:0.3-fulldrop:0.1-nlayers:2-lag:12-full:[1024]",
          "drop:0.3-fulldrop:0.2-nlayers:2-lag:12-full:[1024]",
          "drop:0.4-fulldrop:0.1-nlayers:2-lag:12-full:[1024]",
          "drop:0.4-fulldrop:0.2-nlayers:2-lag:12-full:[1024]",
          "drop:0.5-fulldrop:0.1-nlayers:2-lag:12-full:[1024]",
          "drop:0.5-fulldrop:0.2-nlayers:2-lag:12-full:[1024]"
         ],
         "type": "scatter",
         "uid": "cac4a74a-23b7-4dec-b6e4-5c32c5a4d9da",
         "x": [
          6.793541417438919,
          6.87116874909283,
          6.788016656739914,
          6.859056655162351,
          6.7914778706040355,
          6.851997830048793,
          6.790718637798501,
          6.895818507663744,
          6.7841465130796745,
          6.851267623423635,
          6.772314394435641,
          6.815524601690961,
          6.783214496365628,
          6.877742790956043,
          6.7934310943961735,
          6.894000794549108,
          6.8148111868952235,
          6.799595373890656
         ],
         "y": [
          6.482430381597621,
          6.582335835985444,
          6.476900509392384,
          6.55660430662243,
          6.478267630312002,
          6.553591146132021,
          6.477011479065419,
          6.600886990968024,
          6.4680482123838665,
          6.55158248644236,
          6.467277715766239,
          6.497186362313699,
          6.4669779593991334,
          6.590489733642127,
          6.467606558512862,
          6.5927722442838945,
          6.504384221181278,
          6.4950462746114725
         ]
        },
        {
         "marker": {
          "size": [
           40,
           40,
           40,
           40,
           40,
           40,
           40,
           40,
           40,
           40,
           40,
           40,
           40,
           40,
           40,
           40,
           40,
           40
          ]
         },
         "mode": "markers",
         "name": "[512]",
         "text": [
          "drop:0.3-fulldrop:0.1-nlayers:2-lag:12-full:[512]",
          "drop:0.3-fulldrop:0.2-nlayers:2-lag:12-full:[512]",
          "drop:0.4-fulldrop:0.1-nlayers:2-lag:12-full:[512]",
          "drop:0.4-fulldrop:0.2-nlayers:2-lag:12-full:[512]",
          "drop:0.5-fulldrop:0.1-nlayers:2-lag:12-full:[512]",
          "drop:0.5-fulldrop:0.2-nlayers:2-lag:12-full:[512]",
          "drop:0.3-fulldrop:0.1-nlayers:2-lag:12-full:[512]",
          "drop:0.3-fulldrop:0.2-nlayers:2-lag:12-full:[512]",
          "drop:0.4-fulldrop:0.1-nlayers:2-lag:12-full:[512]",
          "drop:0.4-fulldrop:0.2-nlayers:2-lag:12-full:[512]",
          "drop:0.5-fulldrop:0.1-nlayers:2-lag:12-full:[512]",
          "drop:0.5-fulldrop:0.2-nlayers:2-lag:12-full:[512]",
          "drop:0.3-fulldrop:0.1-nlayers:2-lag:12-full:[512]",
          "drop:0.3-fulldrop:0.2-nlayers:2-lag:12-full:[512]",
          "drop:0.4-fulldrop:0.1-nlayers:2-lag:12-full:[512]",
          "drop:0.4-fulldrop:0.2-nlayers:2-lag:12-full:[512]",
          "drop:0.5-fulldrop:0.1-nlayers:2-lag:12-full:[512]",
          "drop:0.5-fulldrop:0.2-nlayers:2-lag:12-full:[512]"
         ],
         "type": "scatter",
         "uid": "f1d6c999-d094-4281-9d71-61c8e51b697e",
         "x": [
          6.807346276344028,
          6.857875475494683,
          6.793838126172252,
          6.883065011219486,
          6.807482541469966,
          6.846169625739975,
          6.799803315358945,
          6.8779595033467755,
          6.7970411180517,
          6.871151269446444,
          6.801365944660165,
          6.87853848573096,
          6.801369819999294,
          6.883769234774573,
          6.798219762862395,
          6.90235803044683,
          6.801173191374306,
          6.86276164324638
         ],
         "y": [
          6.503389574065982,
          6.566146412342058,
          6.485407565191066,
          6.596684145224816,
          6.498573330471565,
          6.552336335619075,
          6.4809288717041476,
          6.590043978908935,
          6.4856273169054655,
          6.569522903398581,
          6.491517351000401,
          6.574943653289473,
          6.488212205008449,
          6.605196308285639,
          6.484577200891284,
          6.6049263358676775,
          6.487840241833324,
          6.560840150500244
         ]
        }
       ],
       "layout": {}
      },
      "text/html": [
       "<div id=\"7b3e2b42-4e5c-4745-939a-85947415cfc3\" style=\"height: 525px; width: 100%;\" class=\"plotly-graph-div\"></div><script type=\"text/javascript\">require([\"plotly\"], function(Plotly) { window.PLOTLYENV=window.PLOTLYENV || {};window.PLOTLYENV.BASE_URL=\"https://plot.ly\";\n",
       "if (document.getElementById(\"7b3e2b42-4e5c-4745-939a-85947415cfc3\")) {\n",
       "    Plotly.newPlot(\"7b3e2b42-4e5c-4745-939a-85947415cfc3\", [{\"marker\": {\"size\": [40.0, 40.0, 40.0, 40.0, 40.0, 40.0, 40.0, 40.0, 40.0, 40.0, 40.0, 40.0, 40.0, 40.0, 40.0, 40.0, 40.0, 40.0]}, \"mode\": \"markers\", \"name\": \"[1024]\", \"text\": [\"drop:0.3-fulldrop:0.1-nlayers:2-lag:12-full:[1024]\", \"drop:0.3-fulldrop:0.2-nlayers:2-lag:12-full:[1024]\", \"drop:0.4-fulldrop:0.1-nlayers:2-lag:12-full:[1024]\", \"drop:0.4-fulldrop:0.2-nlayers:2-lag:12-full:[1024]\", \"drop:0.5-fulldrop:0.1-nlayers:2-lag:12-full:[1024]\", \"drop:0.5-fulldrop:0.2-nlayers:2-lag:12-full:[1024]\", \"drop:0.3-fulldrop:0.1-nlayers:2-lag:12-full:[1024]\", \"drop:0.3-fulldrop:0.2-nlayers:2-lag:12-full:[1024]\", \"drop:0.4-fulldrop:0.1-nlayers:2-lag:12-full:[1024]\", \"drop:0.4-fulldrop:0.2-nlayers:2-lag:12-full:[1024]\", \"drop:0.5-fulldrop:0.1-nlayers:2-lag:12-full:[1024]\", \"drop:0.5-fulldrop:0.2-nlayers:2-lag:12-full:[1024]\", \"drop:0.3-fulldrop:0.1-nlayers:2-lag:12-full:[1024]\", \"drop:0.3-fulldrop:0.2-nlayers:2-lag:12-full:[1024]\", \"drop:0.4-fulldrop:0.1-nlayers:2-lag:12-full:[1024]\", \"drop:0.4-fulldrop:0.2-nlayers:2-lag:12-full:[1024]\", \"drop:0.5-fulldrop:0.1-nlayers:2-lag:12-full:[1024]\", \"drop:0.5-fulldrop:0.2-nlayers:2-lag:12-full:[1024]\"], \"x\": [6.793541417438919, 6.87116874909283, 6.788016656739914, 6.859056655162351, 6.7914778706040355, 6.851997830048793, 6.790718637798501, 6.895818507663744, 6.7841465130796745, 6.851267623423635, 6.772314394435641, 6.815524601690961, 6.783214496365628, 6.877742790956043, 6.7934310943961735, 6.894000794549108, 6.8148111868952235, 6.799595373890656], \"y\": [6.482430381597621, 6.582335835985444, 6.476900509392384, 6.55660430662243, 6.478267630312002, 6.553591146132021, 6.477011479065419, 6.600886990968024, 6.4680482123838665, 6.55158248644236, 6.467277715766239, 6.497186362313699, 6.4669779593991334, 6.590489733642127, 6.467606558512862, 6.5927722442838945, 6.504384221181278, 6.4950462746114725], \"type\": \"scatter\", \"uid\": \"e8431fe2-1490-4cf4-ad14-d87f6a237908\"}, {\"marker\": {\"size\": [40.0, 40.0, 40.0, 40.0, 40.0, 40.0, 40.0, 40.0, 40.0, 40.0, 40.0, 40.0, 40.0, 40.0, 40.0, 40.0, 40.0, 40.0]}, \"mode\": \"markers\", \"name\": \"[512]\", \"text\": [\"drop:0.3-fulldrop:0.1-nlayers:2-lag:12-full:[512]\", \"drop:0.3-fulldrop:0.2-nlayers:2-lag:12-full:[512]\", \"drop:0.4-fulldrop:0.1-nlayers:2-lag:12-full:[512]\", \"drop:0.4-fulldrop:0.2-nlayers:2-lag:12-full:[512]\", \"drop:0.5-fulldrop:0.1-nlayers:2-lag:12-full:[512]\", \"drop:0.5-fulldrop:0.2-nlayers:2-lag:12-full:[512]\", \"drop:0.3-fulldrop:0.1-nlayers:2-lag:12-full:[512]\", \"drop:0.3-fulldrop:0.2-nlayers:2-lag:12-full:[512]\", \"drop:0.4-fulldrop:0.1-nlayers:2-lag:12-full:[512]\", \"drop:0.4-fulldrop:0.2-nlayers:2-lag:12-full:[512]\", \"drop:0.5-fulldrop:0.1-nlayers:2-lag:12-full:[512]\", \"drop:0.5-fulldrop:0.2-nlayers:2-lag:12-full:[512]\", \"drop:0.3-fulldrop:0.1-nlayers:2-lag:12-full:[512]\", \"drop:0.3-fulldrop:0.2-nlayers:2-lag:12-full:[512]\", \"drop:0.4-fulldrop:0.1-nlayers:2-lag:12-full:[512]\", \"drop:0.4-fulldrop:0.2-nlayers:2-lag:12-full:[512]\", \"drop:0.5-fulldrop:0.1-nlayers:2-lag:12-full:[512]\", \"drop:0.5-fulldrop:0.2-nlayers:2-lag:12-full:[512]\"], \"x\": [6.807346276344028, 6.857875475494683, 6.793838126172252, 6.883065011219486, 6.807482541469966, 6.846169625739975, 6.799803315358945, 6.8779595033467755, 6.7970411180517, 6.871151269446444, 6.801365944660165, 6.87853848573096, 6.801369819999294, 6.883769234774573, 6.798219762862395, 6.90235803044683, 6.801173191374306, 6.86276164324638], \"y\": [6.503389574065982, 6.566146412342058, 6.485407565191066, 6.596684145224816, 6.498573330471565, 6.552336335619075, 6.4809288717041476, 6.590043978908935, 6.4856273169054655, 6.569522903398581, 6.491517351000401, 6.574943653289473, 6.488212205008449, 6.605196308285639, 6.484577200891284, 6.6049263358676775, 6.487840241833324, 6.560840150500244], \"type\": \"scatter\", \"uid\": \"953fd725-5793-4b38-812c-c94bb8f3eb9e\"}], {}, {\"showLink\": false, \"linkText\": \"Export to plot.ly\", \"plotlyServerURL\": \"https://plot.ly\"}); \n",
       "}\n",
       "});</script><script type=\"text/javascript\">window.addEventListener(\"resize\", function(){if (document.getElementById(\"7b3e2b42-4e5c-4745-939a-85947415cfc3\")) {window._Plotly.Plots.resize(document.getElementById(\"7b3e2b42-4e5c-4745-939a-85947415cfc3\"));};})</script>"
      ],
      "text/vnd.plotly.v1+html": [
       "<div id=\"7b3e2b42-4e5c-4745-939a-85947415cfc3\" style=\"height: 525px; width: 100%;\" class=\"plotly-graph-div\"></div><script type=\"text/javascript\">require([\"plotly\"], function(Plotly) { window.PLOTLYENV=window.PLOTLYENV || {};window.PLOTLYENV.BASE_URL=\"https://plot.ly\";\n",
       "if (document.getElementById(\"7b3e2b42-4e5c-4745-939a-85947415cfc3\")) {\n",
       "    Plotly.newPlot(\"7b3e2b42-4e5c-4745-939a-85947415cfc3\", [{\"marker\": {\"size\": [40.0, 40.0, 40.0, 40.0, 40.0, 40.0, 40.0, 40.0, 40.0, 40.0, 40.0, 40.0, 40.0, 40.0, 40.0, 40.0, 40.0, 40.0]}, \"mode\": \"markers\", \"name\": \"[1024]\", \"text\": [\"drop:0.3-fulldrop:0.1-nlayers:2-lag:12-full:[1024]\", \"drop:0.3-fulldrop:0.2-nlayers:2-lag:12-full:[1024]\", \"drop:0.4-fulldrop:0.1-nlayers:2-lag:12-full:[1024]\", \"drop:0.4-fulldrop:0.2-nlayers:2-lag:12-full:[1024]\", \"drop:0.5-fulldrop:0.1-nlayers:2-lag:12-full:[1024]\", \"drop:0.5-fulldrop:0.2-nlayers:2-lag:12-full:[1024]\", \"drop:0.3-fulldrop:0.1-nlayers:2-lag:12-full:[1024]\", \"drop:0.3-fulldrop:0.2-nlayers:2-lag:12-full:[1024]\", \"drop:0.4-fulldrop:0.1-nlayers:2-lag:12-full:[1024]\", \"drop:0.4-fulldrop:0.2-nlayers:2-lag:12-full:[1024]\", \"drop:0.5-fulldrop:0.1-nlayers:2-lag:12-full:[1024]\", \"drop:0.5-fulldrop:0.2-nlayers:2-lag:12-full:[1024]\", \"drop:0.3-fulldrop:0.1-nlayers:2-lag:12-full:[1024]\", \"drop:0.3-fulldrop:0.2-nlayers:2-lag:12-full:[1024]\", \"drop:0.4-fulldrop:0.1-nlayers:2-lag:12-full:[1024]\", \"drop:0.4-fulldrop:0.2-nlayers:2-lag:12-full:[1024]\", \"drop:0.5-fulldrop:0.1-nlayers:2-lag:12-full:[1024]\", \"drop:0.5-fulldrop:0.2-nlayers:2-lag:12-full:[1024]\"], \"x\": [6.793541417438919, 6.87116874909283, 6.788016656739914, 6.859056655162351, 6.7914778706040355, 6.851997830048793, 6.790718637798501, 6.895818507663744, 6.7841465130796745, 6.851267623423635, 6.772314394435641, 6.815524601690961, 6.783214496365628, 6.877742790956043, 6.7934310943961735, 6.894000794549108, 6.8148111868952235, 6.799595373890656], \"y\": [6.482430381597621, 6.582335835985444, 6.476900509392384, 6.55660430662243, 6.478267630312002, 6.553591146132021, 6.477011479065419, 6.600886990968024, 6.4680482123838665, 6.55158248644236, 6.467277715766239, 6.497186362313699, 6.4669779593991334, 6.590489733642127, 6.467606558512862, 6.5927722442838945, 6.504384221181278, 6.4950462746114725], \"type\": \"scatter\", \"uid\": \"e8431fe2-1490-4cf4-ad14-d87f6a237908\"}, {\"marker\": {\"size\": [40.0, 40.0, 40.0, 40.0, 40.0, 40.0, 40.0, 40.0, 40.0, 40.0, 40.0, 40.0, 40.0, 40.0, 40.0, 40.0, 40.0, 40.0]}, \"mode\": \"markers\", \"name\": \"[512]\", \"text\": [\"drop:0.3-fulldrop:0.1-nlayers:2-lag:12-full:[512]\", \"drop:0.3-fulldrop:0.2-nlayers:2-lag:12-full:[512]\", \"drop:0.4-fulldrop:0.1-nlayers:2-lag:12-full:[512]\", \"drop:0.4-fulldrop:0.2-nlayers:2-lag:12-full:[512]\", \"drop:0.5-fulldrop:0.1-nlayers:2-lag:12-full:[512]\", \"drop:0.5-fulldrop:0.2-nlayers:2-lag:12-full:[512]\", \"drop:0.3-fulldrop:0.1-nlayers:2-lag:12-full:[512]\", \"drop:0.3-fulldrop:0.2-nlayers:2-lag:12-full:[512]\", \"drop:0.4-fulldrop:0.1-nlayers:2-lag:12-full:[512]\", \"drop:0.4-fulldrop:0.2-nlayers:2-lag:12-full:[512]\", \"drop:0.5-fulldrop:0.1-nlayers:2-lag:12-full:[512]\", \"drop:0.5-fulldrop:0.2-nlayers:2-lag:12-full:[512]\", \"drop:0.3-fulldrop:0.1-nlayers:2-lag:12-full:[512]\", \"drop:0.3-fulldrop:0.2-nlayers:2-lag:12-full:[512]\", \"drop:0.4-fulldrop:0.1-nlayers:2-lag:12-full:[512]\", \"drop:0.4-fulldrop:0.2-nlayers:2-lag:12-full:[512]\", \"drop:0.5-fulldrop:0.1-nlayers:2-lag:12-full:[512]\", \"drop:0.5-fulldrop:0.2-nlayers:2-lag:12-full:[512]\"], \"x\": [6.807346276344028, 6.857875475494683, 6.793838126172252, 6.883065011219486, 6.807482541469966, 6.846169625739975, 6.799803315358945, 6.8779595033467755, 6.7970411180517, 6.871151269446444, 6.801365944660165, 6.87853848573096, 6.801369819999294, 6.883769234774573, 6.798219762862395, 6.90235803044683, 6.801173191374306, 6.86276164324638], \"y\": [6.503389574065982, 6.566146412342058, 6.485407565191066, 6.596684145224816, 6.498573330471565, 6.552336335619075, 6.4809288717041476, 6.590043978908935, 6.4856273169054655, 6.569522903398581, 6.491517351000401, 6.574943653289473, 6.488212205008449, 6.605196308285639, 6.484577200891284, 6.6049263358676775, 6.487840241833324, 6.560840150500244], \"type\": \"scatter\", \"uid\": \"953fd725-5793-4b38-812c-c94bb8f3eb9e\"}], {}, {\"showLink\": false, \"linkText\": \"Export to plot.ly\", \"plotlyServerURL\": \"https://plot.ly\"}); \n",
       "}\n",
       "});</script><script type=\"text/javascript\">window.addEventListener(\"resize\", function(){if (document.getElementById(\"7b3e2b42-4e5c-4745-939a-85947415cfc3\")) {window._Plotly.Plots.resize(document.getElementById(\"7b3e2b42-4e5c-4745-939a-85947415cfc3\"));};})</script>"
      ]
     },
     "metadata": {},
     "output_type": "display_data"
    }
   ],
   "source": [
    "graph_results(b,'full',['drop', 'fulldrop','nlayers', 'lag'])"
   ]
  },
  {
   "cell_type": "markdown",
   "metadata": {
    "extensions": {
     "jupyter_dashboards": {
      "version": 1,
      "views": {
       "grid_default": {},
       "report_default": {}
      }
     }
    }
   },
   "source": [
    "final best configuration GRU/64/0.4/512/0.2"
   ]
  },
  {
   "cell_type": "markdown",
   "metadata": {
    "extensions": {
     "jupyter_dashboards": {
      "version": 1,
      "views": {
       "grid_default": {},
       "report_default": {}
      }
     }
    }
   },
   "source": [
    "## Fit 5"
   ]
  },
  {
   "cell_type": "code",
   "execution_count": 108,
   "metadata": {
    "extensions": {
     "jupyter_dashboards": {
      "version": 1,
      "views": {
       "grid_default": {},
       "report_default": {}
      }
     }
    }
   },
   "outputs": [],
   "source": [
    "query={'experiment':'rnns2sfit5'}\n",
    "\n",
    "results = DBResults(conn=mongolocaltest)\n",
    "#results = DBResults()\n",
    "results.results_dataframe_retrieve(query, arch=['drop', 'neurons', 'nlayers', 'full', 'fulldrop'], data=['lag'])\n"
   ]
  },
  {
   "cell_type": "code",
   "execution_count": 109,
   "metadata": {
    "extensions": {
     "jupyter_dashboards": {
      "version": 1,
      "views": {
       "grid_default": {},
       "report_default": {}
      }
     }
    }
   },
   "outputs": [
    {
     "data": {
      "text/plain": [
       "28800"
      ]
     },
     "execution_count": 109,
     "metadata": {},
     "output_type": "execute_result"
    }
   ],
   "source": [
    "a=results.exp_df.groupby(['site', 'drop', 'neurons', 'nlayers', 'lag', 'full', 'fulldrop'],as_index=False).sum()\n",
    "a.drop(columns=['hour', 'site'], inplace=True)\n",
    "len(a)"
   ]
  },
  {
   "cell_type": "code",
   "execution_count": 110,
   "metadata": {
    "extensions": {
     "jupyter_dashboards": {
      "version": 1,
      "views": {
       "grid_default": {},
       "report_default": {}
      }
     }
    }
   },
   "outputs": [
    {
     "data": {
      "text/html": [
       "<style  type=\"text/css\" >\n",
       "    #T_40b8c11e_5131_11e9_975a_842b2bb021fdrow0_col7 {\n",
       "            background-color:  yellow;\n",
       "        }    #T_40b8c11e_5131_11e9_975a_842b2bb021fdrow1_col6 {\n",
       "            background-color:  yellow;\n",
       "        }    #T_40b8c11e_5131_11e9_975a_842b2bb021fdrow1_col7 {\n",
       "            background-color:  yellow;\n",
       "        }    #T_40b8c11e_5131_11e9_975a_842b2bb021fdrow1_col8 {\n",
       "            background-color:  yellow;\n",
       "        }    #T_40b8c11e_5131_11e9_975a_842b2bb021fdrow2_col7 {\n",
       "            background-color:  yellow;\n",
       "        }    #T_40b8c11e_5131_11e9_975a_842b2bb021fdrow3_col7 {\n",
       "            background-color:  yellow;\n",
       "        }    #T_40b8c11e_5131_11e9_975a_842b2bb021fdrow4_col7 {\n",
       "            background-color:  yellow;\n",
       "        }    #T_40b8c11e_5131_11e9_975a_842b2bb021fdrow5_col7 {\n",
       "            background-color:  yellow;\n",
       "        }    #T_40b8c11e_5131_11e9_975a_842b2bb021fdrow6_col7 {\n",
       "            background-color:  yellow;\n",
       "        }    #T_40b8c11e_5131_11e9_975a_842b2bb021fdrow7_col7 {\n",
       "            background-color:  yellow;\n",
       "        }    #T_40b8c11e_5131_11e9_975a_842b2bb021fdrow8_col7 {\n",
       "            background-color:  yellow;\n",
       "        }</style><table id=\"T_40b8c11e_5131_11e9_975a_842b2bb021fd\" ><thead>    <tr>        <th class=\"blank level0\" ></th>        <th class=\"col_heading level0 col0\" >neurons</th>        <th class=\"col_heading level0 col1\" >nlayers</th>        <th class=\"col_heading level0 col2\" >drop</th>        <th class=\"col_heading level0 col3\" >lag</th>        <th class=\"col_heading level0 col4\" >full</th>        <th class=\"col_heading level0 col5\" >fulldrop</th>        <th class=\"col_heading level0 col6\" colspan=2>test</th>        <th class=\"col_heading level0 col8\" >val</th>    </tr>    <tr>        <th class=\"blank level1\" ></th>        <th class=\"col_heading level1 col0\" ></th>        <th class=\"col_heading level1 col1\" ></th>        <th class=\"col_heading level1 col2\" ></th>        <th class=\"col_heading level1 col3\" ></th>        <th class=\"col_heading level1 col4\" ></th>        <th class=\"col_heading level1 col5\" ></th>        <th class=\"col_heading level1 col6\" >mean</th>        <th class=\"col_heading level1 col7\" >count</th>        <th class=\"col_heading level1 col8\" >mean</th>    </tr></thead><tbody>\n",
       "                <tr>\n",
       "                        <th id=\"T_40b8c11e_5131_11e9_975a_842b2bb021fdlevel0_row0\" class=\"row_heading level0 row0\" >2</th>\n",
       "                        <td id=\"T_40b8c11e_5131_11e9_975a_842b2bb021fdrow0_col0\" class=\"data row0 col0\" >32</td>\n",
       "                        <td id=\"T_40b8c11e_5131_11e9_975a_842b2bb021fdrow0_col1\" class=\"data row0 col1\" >2</td>\n",
       "                        <td id=\"T_40b8c11e_5131_11e9_975a_842b2bb021fdrow0_col2\" class=\"data row0 col2\" >0.4</td>\n",
       "                        <td id=\"T_40b8c11e_5131_11e9_975a_842b2bb021fdrow0_col3\" class=\"data row0 col3\" >12</td>\n",
       "                        <td id=\"T_40b8c11e_5131_11e9_975a_842b2bb021fdrow0_col4\" class=\"data row0 col4\" >[1024, 256]</td>\n",
       "                        <td id=\"T_40b8c11e_5131_11e9_975a_842b2bb021fdrow0_col5\" class=\"data row0 col5\" >0.4</td>\n",
       "                        <td id=\"T_40b8c11e_5131_11e9_975a_842b2bb021fdrow0_col6\" class=\"data row0 col6\" >6.89058</td>\n",
       "                        <td id=\"T_40b8c11e_5131_11e9_975a_842b2bb021fdrow0_col7\" class=\"data row0 col7\" >200</td>\n",
       "                        <td id=\"T_40b8c11e_5131_11e9_975a_842b2bb021fdrow0_col8\" class=\"data row0 col8\" >6.60534</td>\n",
       "            </tr>\n",
       "            <tr>\n",
       "                        <th id=\"T_40b8c11e_5131_11e9_975a_842b2bb021fdlevel0_row1\" class=\"row_heading level0 row1\" >5</th>\n",
       "                        <td id=\"T_40b8c11e_5131_11e9_975a_842b2bb021fdrow1_col0\" class=\"data row1 col0\" >32</td>\n",
       "                        <td id=\"T_40b8c11e_5131_11e9_975a_842b2bb021fdrow1_col1\" class=\"data row1 col1\" >2</td>\n",
       "                        <td id=\"T_40b8c11e_5131_11e9_975a_842b2bb021fdrow1_col2\" class=\"data row1 col2\" >0.4</td>\n",
       "                        <td id=\"T_40b8c11e_5131_11e9_975a_842b2bb021fdrow1_col3\" class=\"data row1 col3\" >12</td>\n",
       "                        <td id=\"T_40b8c11e_5131_11e9_975a_842b2bb021fdrow1_col4\" class=\"data row1 col4\" >[1024]</td>\n",
       "                        <td id=\"T_40b8c11e_5131_11e9_975a_842b2bb021fdrow1_col5\" class=\"data row1 col5\" >0.4</td>\n",
       "                        <td id=\"T_40b8c11e_5131_11e9_975a_842b2bb021fdrow1_col6\" class=\"data row1 col6\" >6.90807</td>\n",
       "                        <td id=\"T_40b8c11e_5131_11e9_975a_842b2bb021fdrow1_col7\" class=\"data row1 col7\" >200</td>\n",
       "                        <td id=\"T_40b8c11e_5131_11e9_975a_842b2bb021fdrow1_col8\" class=\"data row1 col8\" >6.60577</td>\n",
       "            </tr>\n",
       "            <tr>\n",
       "                        <th id=\"T_40b8c11e_5131_11e9_975a_842b2bb021fdlevel0_row2\" class=\"row_heading level0 row2\" >7</th>\n",
       "                        <td id=\"T_40b8c11e_5131_11e9_975a_842b2bb021fdrow2_col0\" class=\"data row2 col0\" >32</td>\n",
       "                        <td id=\"T_40b8c11e_5131_11e9_975a_842b2bb021fdrow2_col1\" class=\"data row2 col1\" >2</td>\n",
       "                        <td id=\"T_40b8c11e_5131_11e9_975a_842b2bb021fdrow2_col2\" class=\"data row2 col2\" >0.4</td>\n",
       "                        <td id=\"T_40b8c11e_5131_11e9_975a_842b2bb021fdrow2_col3\" class=\"data row2 col3\" >12</td>\n",
       "                        <td id=\"T_40b8c11e_5131_11e9_975a_842b2bb021fdrow2_col4\" class=\"data row2 col4\" >[2048]</td>\n",
       "                        <td id=\"T_40b8c11e_5131_11e9_975a_842b2bb021fdrow2_col5\" class=\"data row2 col5\" >0.3</td>\n",
       "                        <td id=\"T_40b8c11e_5131_11e9_975a_842b2bb021fdrow2_col6\" class=\"data row2 col6\" >6.89759</td>\n",
       "                        <td id=\"T_40b8c11e_5131_11e9_975a_842b2bb021fdrow2_col7\" class=\"data row2 col7\" >200</td>\n",
       "                        <td id=\"T_40b8c11e_5131_11e9_975a_842b2bb021fdrow2_col8\" class=\"data row2 col8\" >6.59593</td>\n",
       "            </tr>\n",
       "            <tr>\n",
       "                        <th id=\"T_40b8c11e_5131_11e9_975a_842b2bb021fdlevel0_row3\" class=\"row_heading level0 row3\" >8</th>\n",
       "                        <td id=\"T_40b8c11e_5131_11e9_975a_842b2bb021fdrow3_col0\" class=\"data row3 col0\" >32</td>\n",
       "                        <td id=\"T_40b8c11e_5131_11e9_975a_842b2bb021fdrow3_col1\" class=\"data row3 col1\" >2</td>\n",
       "                        <td id=\"T_40b8c11e_5131_11e9_975a_842b2bb021fdrow3_col2\" class=\"data row3 col2\" >0.4</td>\n",
       "                        <td id=\"T_40b8c11e_5131_11e9_975a_842b2bb021fdrow3_col3\" class=\"data row3 col3\" >12</td>\n",
       "                        <td id=\"T_40b8c11e_5131_11e9_975a_842b2bb021fdrow3_col4\" class=\"data row3 col4\" >[2048]</td>\n",
       "                        <td id=\"T_40b8c11e_5131_11e9_975a_842b2bb021fdrow3_col5\" class=\"data row3 col5\" >0.4</td>\n",
       "                        <td id=\"T_40b8c11e_5131_11e9_975a_842b2bb021fdrow3_col6\" class=\"data row3 col6\" >6.90224</td>\n",
       "                        <td id=\"T_40b8c11e_5131_11e9_975a_842b2bb021fdrow3_col7\" class=\"data row3 col7\" >200</td>\n",
       "                        <td id=\"T_40b8c11e_5131_11e9_975a_842b2bb021fdrow3_col8\" class=\"data row3 col8\" >6.60046</td>\n",
       "            </tr>\n",
       "            <tr>\n",
       "                        <th id=\"T_40b8c11e_5131_11e9_975a_842b2bb021fdlevel0_row4\" class=\"row_heading level0 row4\" >23</th>\n",
       "                        <td id=\"T_40b8c11e_5131_11e9_975a_842b2bb021fdrow4_col0\" class=\"data row4 col0\" >32</td>\n",
       "                        <td id=\"T_40b8c11e_5131_11e9_975a_842b2bb021fdrow4_col1\" class=\"data row4 col1\" >2</td>\n",
       "                        <td id=\"T_40b8c11e_5131_11e9_975a_842b2bb021fdrow4_col2\" class=\"data row4 col2\" >0.5</td>\n",
       "                        <td id=\"T_40b8c11e_5131_11e9_975a_842b2bb021fdrow4_col3\" class=\"data row4 col3\" >12</td>\n",
       "                        <td id=\"T_40b8c11e_5131_11e9_975a_842b2bb021fdrow4_col4\" class=\"data row4 col4\" >[1024]</td>\n",
       "                        <td id=\"T_40b8c11e_5131_11e9_975a_842b2bb021fdrow4_col5\" class=\"data row4 col5\" >0.4</td>\n",
       "                        <td id=\"T_40b8c11e_5131_11e9_975a_842b2bb021fdrow4_col6\" class=\"data row4 col6\" >6.8872</td>\n",
       "                        <td id=\"T_40b8c11e_5131_11e9_975a_842b2bb021fdrow4_col7\" class=\"data row4 col7\" >200</td>\n",
       "                        <td id=\"T_40b8c11e_5131_11e9_975a_842b2bb021fdrow4_col8\" class=\"data row4 col8\" >6.58253</td>\n",
       "            </tr>\n",
       "            <tr>\n",
       "                        <th id=\"T_40b8c11e_5131_11e9_975a_842b2bb021fdlevel0_row5\" class=\"row_heading level0 row5\" >76</th>\n",
       "                        <td id=\"T_40b8c11e_5131_11e9_975a_842b2bb021fdrow5_col0\" class=\"data row5 col0\" >32</td>\n",
       "                        <td id=\"T_40b8c11e_5131_11e9_975a_842b2bb021fdrow5_col1\" class=\"data row5 col1\" >3</td>\n",
       "                        <td id=\"T_40b8c11e_5131_11e9_975a_842b2bb021fdrow5_col2\" class=\"data row5 col2\" >0.4</td>\n",
       "                        <td id=\"T_40b8c11e_5131_11e9_975a_842b2bb021fdrow5_col3\" class=\"data row5 col3\" >12</td>\n",
       "                        <td id=\"T_40b8c11e_5131_11e9_975a_842b2bb021fdrow5_col4\" class=\"data row5 col4\" >[1024]</td>\n",
       "                        <td id=\"T_40b8c11e_5131_11e9_975a_842b2bb021fdrow5_col5\" class=\"data row5 col5\" >0.3</td>\n",
       "                        <td id=\"T_40b8c11e_5131_11e9_975a_842b2bb021fdrow5_col6\" class=\"data row5 col6\" >6.8925</td>\n",
       "                        <td id=\"T_40b8c11e_5131_11e9_975a_842b2bb021fdrow5_col7\" class=\"data row5 col7\" >200</td>\n",
       "                        <td id=\"T_40b8c11e_5131_11e9_975a_842b2bb021fdrow5_col8\" class=\"data row5 col8\" >6.5874</td>\n",
       "            </tr>\n",
       "            <tr>\n",
       "                        <th id=\"T_40b8c11e_5131_11e9_975a_842b2bb021fdlevel0_row6\" class=\"row_heading level0 row6\" >77</th>\n",
       "                        <td id=\"T_40b8c11e_5131_11e9_975a_842b2bb021fdrow6_col0\" class=\"data row6 col0\" >32</td>\n",
       "                        <td id=\"T_40b8c11e_5131_11e9_975a_842b2bb021fdrow6_col1\" class=\"data row6 col1\" >3</td>\n",
       "                        <td id=\"T_40b8c11e_5131_11e9_975a_842b2bb021fdrow6_col2\" class=\"data row6 col2\" >0.4</td>\n",
       "                        <td id=\"T_40b8c11e_5131_11e9_975a_842b2bb021fdrow6_col3\" class=\"data row6 col3\" >12</td>\n",
       "                        <td id=\"T_40b8c11e_5131_11e9_975a_842b2bb021fdrow6_col4\" class=\"data row6 col4\" >[1024]</td>\n",
       "                        <td id=\"T_40b8c11e_5131_11e9_975a_842b2bb021fdrow6_col5\" class=\"data row6 col5\" >0.4</td>\n",
       "                        <td id=\"T_40b8c11e_5131_11e9_975a_842b2bb021fdrow6_col6\" class=\"data row6 col6\" >6.89192</td>\n",
       "                        <td id=\"T_40b8c11e_5131_11e9_975a_842b2bb021fdrow6_col7\" class=\"data row6 col7\" >200</td>\n",
       "                        <td id=\"T_40b8c11e_5131_11e9_975a_842b2bb021fdrow6_col8\" class=\"data row6 col8\" >6.58644</td>\n",
       "            </tr>\n",
       "            <tr>\n",
       "                        <th id=\"T_40b8c11e_5131_11e9_975a_842b2bb021fdlevel0_row7\" class=\"row_heading level0 row7\" >79</th>\n",
       "                        <td id=\"T_40b8c11e_5131_11e9_975a_842b2bb021fdrow7_col0\" class=\"data row7 col0\" >32</td>\n",
       "                        <td id=\"T_40b8c11e_5131_11e9_975a_842b2bb021fdrow7_col1\" class=\"data row7 col1\" >3</td>\n",
       "                        <td id=\"T_40b8c11e_5131_11e9_975a_842b2bb021fdrow7_col2\" class=\"data row7 col2\" >0.4</td>\n",
       "                        <td id=\"T_40b8c11e_5131_11e9_975a_842b2bb021fdrow7_col3\" class=\"data row7 col3\" >12</td>\n",
       "                        <td id=\"T_40b8c11e_5131_11e9_975a_842b2bb021fdrow7_col4\" class=\"data row7 col4\" >[2048]</td>\n",
       "                        <td id=\"T_40b8c11e_5131_11e9_975a_842b2bb021fdrow7_col5\" class=\"data row7 col5\" >0.3</td>\n",
       "                        <td id=\"T_40b8c11e_5131_11e9_975a_842b2bb021fdrow7_col6\" class=\"data row7 col6\" >6.88654</td>\n",
       "                        <td id=\"T_40b8c11e_5131_11e9_975a_842b2bb021fdrow7_col7\" class=\"data row7 col7\" >200</td>\n",
       "                        <td id=\"T_40b8c11e_5131_11e9_975a_842b2bb021fdrow7_col8\" class=\"data row7 col8\" >6.57023</td>\n",
       "            </tr>\n",
       "            <tr>\n",
       "                        <th id=\"T_40b8c11e_5131_11e9_975a_842b2bb021fdlevel0_row8\" class=\"row_heading level0 row8\" >80</th>\n",
       "                        <td id=\"T_40b8c11e_5131_11e9_975a_842b2bb021fdrow8_col0\" class=\"data row8 col0\" >32</td>\n",
       "                        <td id=\"T_40b8c11e_5131_11e9_975a_842b2bb021fdrow8_col1\" class=\"data row8 col1\" >3</td>\n",
       "                        <td id=\"T_40b8c11e_5131_11e9_975a_842b2bb021fdrow8_col2\" class=\"data row8 col2\" >0.4</td>\n",
       "                        <td id=\"T_40b8c11e_5131_11e9_975a_842b2bb021fdrow8_col3\" class=\"data row8 col3\" >12</td>\n",
       "                        <td id=\"T_40b8c11e_5131_11e9_975a_842b2bb021fdrow8_col4\" class=\"data row8 col4\" >[2048]</td>\n",
       "                        <td id=\"T_40b8c11e_5131_11e9_975a_842b2bb021fdrow8_col5\" class=\"data row8 col5\" >0.4</td>\n",
       "                        <td id=\"T_40b8c11e_5131_11e9_975a_842b2bb021fdrow8_col6\" class=\"data row8 col6\" >6.8857</td>\n",
       "                        <td id=\"T_40b8c11e_5131_11e9_975a_842b2bb021fdrow8_col7\" class=\"data row8 col7\" >200</td>\n",
       "                        <td id=\"T_40b8c11e_5131_11e9_975a_842b2bb021fdrow8_col8\" class=\"data row8 col8\" >6.58117</td>\n",
       "            </tr>\n",
       "    </tbody></table>"
      ],
      "text/plain": [
       "<pandas.io.formats.style.Styler at 0x7f382bfc5518>"
      ]
     },
     "execution_count": 110,
     "metadata": {},
     "output_type": "execute_result"
    }
   ],
   "source": [
    "b =a.groupby(by=['neurons', 'nlayers', 'drop', 'lag', 'full', 'fulldrop'],as_index=False).agg({'test':['mean','count'], 'val':'mean', })\n",
    "\n",
    "b[b['test']['mean'] > 6.88].style.highlight_max()"
   ]
  },
  {
   "cell_type": "code",
   "execution_count": 111,
   "metadata": {
    "extensions": {
     "jupyter_dashboards": {
      "version": 1,
      "views": {
       "grid_default": {},
       "report_default": {}
      }
     }
    }
   },
   "outputs": [
    {
     "data": {
      "application/vnd.plotly.v1+json": {
       "config": {
        "linkText": "Export to plot.ly",
        "plotlyServerURL": "https://plot.ly",
        "showLink": false
       },
       "data": [
        {
         "marker": {
          "size": [
           40,
           40,
           40,
           40,
           40,
           40,
           40,
           40,
           40,
           40,
           40,
           40,
           40,
           40,
           40,
           40,
           40,
           40,
           40,
           40,
           40,
           40,
           40,
           40,
           40,
           40,
           40,
           40,
           40,
           40,
           40,
           40,
           40,
           40,
           40,
           40,
           40,
           40,
           40,
           40,
           40,
           40,
           40,
           40,
           40,
           40,
           40,
           40
          ]
         },
         "mode": "markers",
         "name": "[1024, 256]",
         "text": [
          "drop:0.4-fulldrop:0.2-nlayers:2-lag:12-full:[1024, 256]",
          "drop:0.4-fulldrop:0.3-nlayers:2-lag:12-full:[1024, 256]",
          "drop:0.4-fulldrop:0.4-nlayers:2-lag:12-full:[1024, 256]",
          "drop:0.4-fulldrop:0.2-nlayers:2-lag:18-full:[1024, 256]",
          "drop:0.4-fulldrop:0.3-nlayers:2-lag:18-full:[1024, 256]",
          "drop:0.4-fulldrop:0.4-nlayers:2-lag:18-full:[1024, 256]",
          "drop:0.5-fulldrop:0.2-nlayers:2-lag:12-full:[1024, 256]",
          "drop:0.5-fulldrop:0.3-nlayers:2-lag:12-full:[1024, 256]",
          "drop:0.5-fulldrop:0.4-nlayers:2-lag:12-full:[1024, 256]",
          "drop:0.5-fulldrop:0.2-nlayers:2-lag:18-full:[1024, 256]",
          "drop:0.5-fulldrop:0.3-nlayers:2-lag:18-full:[1024, 256]",
          "drop:0.5-fulldrop:0.4-nlayers:2-lag:18-full:[1024, 256]",
          "drop:0.6-fulldrop:0.2-nlayers:2-lag:12-full:[1024, 256]",
          "drop:0.6-fulldrop:0.3-nlayers:2-lag:12-full:[1024, 256]",
          "drop:0.6-fulldrop:0.4-nlayers:2-lag:12-full:[1024, 256]",
          "drop:0.6-fulldrop:0.2-nlayers:2-lag:18-full:[1024, 256]",
          "drop:0.6-fulldrop:0.3-nlayers:2-lag:18-full:[1024, 256]",
          "drop:0.6-fulldrop:0.4-nlayers:2-lag:18-full:[1024, 256]",
          "drop:0.7-fulldrop:0.2-nlayers:2-lag:12-full:[1024, 256]",
          "drop:0.7-fulldrop:0.3-nlayers:2-lag:12-full:[1024, 256]",
          "drop:0.7-fulldrop:0.4-nlayers:2-lag:12-full:[1024, 256]",
          "drop:0.7-fulldrop:0.2-nlayers:2-lag:18-full:[1024, 256]",
          "drop:0.7-fulldrop:0.3-nlayers:2-lag:18-full:[1024, 256]",
          "drop:0.7-fulldrop:0.4-nlayers:2-lag:18-full:[1024, 256]",
          "drop:0.4-fulldrop:0.2-nlayers:3-lag:12-full:[1024, 256]",
          "drop:0.4-fulldrop:0.3-nlayers:3-lag:12-full:[1024, 256]",
          "drop:0.4-fulldrop:0.4-nlayers:3-lag:12-full:[1024, 256]",
          "drop:0.4-fulldrop:0.2-nlayers:3-lag:18-full:[1024, 256]",
          "drop:0.4-fulldrop:0.3-nlayers:3-lag:18-full:[1024, 256]",
          "drop:0.4-fulldrop:0.4-nlayers:3-lag:18-full:[1024, 256]",
          "drop:0.5-fulldrop:0.2-nlayers:3-lag:12-full:[1024, 256]",
          "drop:0.5-fulldrop:0.3-nlayers:3-lag:12-full:[1024, 256]",
          "drop:0.5-fulldrop:0.4-nlayers:3-lag:12-full:[1024, 256]",
          "drop:0.5-fulldrop:0.2-nlayers:3-lag:18-full:[1024, 256]",
          "drop:0.5-fulldrop:0.3-nlayers:3-lag:18-full:[1024, 256]",
          "drop:0.5-fulldrop:0.4-nlayers:3-lag:18-full:[1024, 256]",
          "drop:0.6-fulldrop:0.2-nlayers:3-lag:12-full:[1024, 256]",
          "drop:0.6-fulldrop:0.3-nlayers:3-lag:12-full:[1024, 256]",
          "drop:0.6-fulldrop:0.4-nlayers:3-lag:12-full:[1024, 256]",
          "drop:0.6-fulldrop:0.2-nlayers:3-lag:18-full:[1024, 256]",
          "drop:0.6-fulldrop:0.3-nlayers:3-lag:18-full:[1024, 256]",
          "drop:0.6-fulldrop:0.4-nlayers:3-lag:18-full:[1024, 256]",
          "drop:0.7-fulldrop:0.2-nlayers:3-lag:12-full:[1024, 256]",
          "drop:0.7-fulldrop:0.3-nlayers:3-lag:12-full:[1024, 256]",
          "drop:0.7-fulldrop:0.4-nlayers:3-lag:12-full:[1024, 256]",
          "drop:0.7-fulldrop:0.2-nlayers:3-lag:18-full:[1024, 256]",
          "drop:0.7-fulldrop:0.3-nlayers:3-lag:18-full:[1024, 256]",
          "drop:0.7-fulldrop:0.4-nlayers:3-lag:18-full:[1024, 256]"
         ],
         "type": "scatter",
         "uid": "14a38707-089e-40a2-b8e5-d379fb778479",
         "x": [
          6.822212241240335,
          6.81831054073622,
          6.890584894261054,
          6.809521813622049,
          6.798796410416408,
          6.850368807577008,
          6.816696611201237,
          6.8699991566442975,
          6.875682874148738,
          6.802407985614466,
          6.790773206239778,
          6.7859062589708765,
          6.814988045899787,
          6.722429523355402,
          6.651136792979314,
          6.7993386933606965,
          6.797073554574318,
          6.785470544600144,
          6.823655242265036,
          6.813737133047819,
          6.8075225044200876,
          6.798111004686108,
          6.802337351652991,
          6.790156964873081,
          6.790715087867984,
          6.8483919073588595,
          6.863430107413833,
          6.765338604730545,
          6.820091996869495,
          6.808113448539235,
          6.786657487617943,
          6.78397036399964,
          6.822505240630157,
          6.7658488037037285,
          6.761897555329905,
          6.749939150073892,
          6.78377655359053,
          6.769510493656817,
          6.773327528706305,
          6.763281447591493,
          6.759788967302623,
          6.75621035421991,
          6.783964587456833,
          6.783966300227057,
          6.77358092610456,
          6.764168665919774,
          6.755398425001281,
          6.750671121876064
         ],
         "y": [
          6.513972891418986,
          6.519992516295925,
          6.605337123453242,
          6.4964963146766195,
          6.4933873101667805,
          6.5593442050694035,
          6.512552444758469,
          6.575089595144422,
          6.584123831661047,
          6.493463245925266,
          6.495110283343859,
          6.4844913132767985,
          6.519092970209669,
          6.450512316126944,
          6.388321672781014,
          6.484968283015199,
          6.495165721322715,
          6.48930099291685,
          6.515462123628975,
          6.515029360322217,
          6.512750249001879,
          6.4884501494891245,
          6.495976239779635,
          6.496847834001677,
          6.481643489987009,
          6.549890895724479,
          6.573656708397473,
          6.450395798227952,
          6.524870031094285,
          6.520453373030896,
          6.484966861343708,
          6.483272666230232,
          6.539437002378745,
          6.458380042370524,
          6.462281924236274,
          6.464648288932426,
          6.481631667706001,
          6.471314955425344,
          6.4777475641532885,
          6.460741277552906,
          6.460831481069074,
          6.4577004273457055,
          6.468557159244269,
          6.480524088353798,
          6.4773041786516785,
          6.457521007771535,
          6.456763223919884,
          6.453763396715948
         ]
        },
        {
         "marker": {
          "size": [
           40,
           40,
           40,
           40,
           40,
           40,
           40,
           40,
           40,
           40,
           40,
           40,
           40,
           40,
           40,
           40,
           40,
           40,
           40,
           40,
           40,
           40,
           40,
           40,
           40,
           40,
           40,
           40,
           40,
           40,
           40,
           40,
           40,
           40,
           40,
           40,
           40,
           40,
           40,
           40,
           40,
           40,
           40,
           40,
           40,
           40,
           40,
           40
          ]
         },
         "mode": "markers",
         "name": "[1024]",
         "text": [
          "drop:0.4-fulldrop:0.2-nlayers:2-lag:12-full:[1024]",
          "drop:0.4-fulldrop:0.3-nlayers:2-lag:12-full:[1024]",
          "drop:0.4-fulldrop:0.4-nlayers:2-lag:12-full:[1024]",
          "drop:0.4-fulldrop:0.2-nlayers:2-lag:18-full:[1024]",
          "drop:0.4-fulldrop:0.3-nlayers:2-lag:18-full:[1024]",
          "drop:0.4-fulldrop:0.4-nlayers:2-lag:18-full:[1024]",
          "drop:0.5-fulldrop:0.2-nlayers:2-lag:12-full:[1024]",
          "drop:0.5-fulldrop:0.3-nlayers:2-lag:12-full:[1024]",
          "drop:0.5-fulldrop:0.4-nlayers:2-lag:12-full:[1024]",
          "drop:0.5-fulldrop:0.2-nlayers:2-lag:18-full:[1024]",
          "drop:0.5-fulldrop:0.3-nlayers:2-lag:18-full:[1024]",
          "drop:0.5-fulldrop:0.4-nlayers:2-lag:18-full:[1024]",
          "drop:0.6-fulldrop:0.2-nlayers:2-lag:12-full:[1024]",
          "drop:0.6-fulldrop:0.3-nlayers:2-lag:12-full:[1024]",
          "drop:0.6-fulldrop:0.4-nlayers:2-lag:12-full:[1024]",
          "drop:0.6-fulldrop:0.2-nlayers:2-lag:18-full:[1024]",
          "drop:0.6-fulldrop:0.3-nlayers:2-lag:18-full:[1024]",
          "drop:0.6-fulldrop:0.4-nlayers:2-lag:18-full:[1024]",
          "drop:0.7-fulldrop:0.2-nlayers:2-lag:12-full:[1024]",
          "drop:0.7-fulldrop:0.3-nlayers:2-lag:12-full:[1024]",
          "drop:0.7-fulldrop:0.4-nlayers:2-lag:12-full:[1024]",
          "drop:0.7-fulldrop:0.2-nlayers:2-lag:18-full:[1024]",
          "drop:0.7-fulldrop:0.3-nlayers:2-lag:18-full:[1024]",
          "drop:0.7-fulldrop:0.4-nlayers:2-lag:18-full:[1024]",
          "drop:0.4-fulldrop:0.2-nlayers:3-lag:12-full:[1024]",
          "drop:0.4-fulldrop:0.3-nlayers:3-lag:12-full:[1024]",
          "drop:0.4-fulldrop:0.4-nlayers:3-lag:12-full:[1024]",
          "drop:0.4-fulldrop:0.2-nlayers:3-lag:18-full:[1024]",
          "drop:0.4-fulldrop:0.3-nlayers:3-lag:18-full:[1024]",
          "drop:0.4-fulldrop:0.4-nlayers:3-lag:18-full:[1024]",
          "drop:0.5-fulldrop:0.2-nlayers:3-lag:12-full:[1024]",
          "drop:0.5-fulldrop:0.3-nlayers:3-lag:12-full:[1024]",
          "drop:0.5-fulldrop:0.4-nlayers:3-lag:12-full:[1024]",
          "drop:0.5-fulldrop:0.2-nlayers:3-lag:18-full:[1024]",
          "drop:0.5-fulldrop:0.3-nlayers:3-lag:18-full:[1024]",
          "drop:0.5-fulldrop:0.4-nlayers:3-lag:18-full:[1024]",
          "drop:0.6-fulldrop:0.2-nlayers:3-lag:12-full:[1024]",
          "drop:0.6-fulldrop:0.3-nlayers:3-lag:12-full:[1024]",
          "drop:0.6-fulldrop:0.4-nlayers:3-lag:12-full:[1024]",
          "drop:0.6-fulldrop:0.2-nlayers:3-lag:18-full:[1024]",
          "drop:0.6-fulldrop:0.3-nlayers:3-lag:18-full:[1024]",
          "drop:0.6-fulldrop:0.4-nlayers:3-lag:18-full:[1024]",
          "drop:0.7-fulldrop:0.2-nlayers:3-lag:12-full:[1024]",
          "drop:0.7-fulldrop:0.3-nlayers:3-lag:12-full:[1024]",
          "drop:0.7-fulldrop:0.4-nlayers:3-lag:12-full:[1024]",
          "drop:0.7-fulldrop:0.2-nlayers:3-lag:18-full:[1024]",
          "drop:0.7-fulldrop:0.3-nlayers:3-lag:18-full:[1024]",
          "drop:0.7-fulldrop:0.4-nlayers:3-lag:18-full:[1024]"
         ],
         "type": "scatter",
         "uid": "4d6e29fb-2c8f-4d05-b48c-e6217ddb7e45",
         "x": [
          6.799834993860574,
          6.811684477198802,
          6.9080683707822255,
          6.784539198732882,
          6.79744274992692,
          6.859103217077047,
          6.802209344990517,
          6.847415153246142,
          6.887204305232341,
          6.783462842927636,
          6.78615042819283,
          6.796691436804696,
          6.80218979117268,
          6.776712775790217,
          6.76406407301857,
          6.783562935713621,
          6.790486520463387,
          6.798053744465346,
          6.799912237203099,
          6.8132082663710385,
          6.818932808824683,
          6.777945679933096,
          6.7929442221955245,
          6.802161470853474,
          6.7726196544972925,
          6.892499379365054,
          6.891923579870077,
          6.752135650811978,
          6.835636480227132,
          6.836018585417918,
          6.780745018155484,
          6.862080716988234,
          6.808445354484924,
          6.753047467492049,
          6.760379009055503,
          6.767702476570074,
          6.77537995131371,
          6.765745260425715,
          6.785956633000674,
          6.75711722636819,
          6.762313399165898,
          6.7607317739947215,
          6.773511528665784,
          6.786756666142303,
          6.793541349636554,
          6.748830112335313,
          6.763445549488921,
          6.7620589716740644
         ],
         "y": [
          6.492774566622514,
          6.501326788475693,
          6.605766703839353,
          6.464440437742976,
          6.489612058969814,
          6.551189586183395,
          6.498485325403906,
          6.548330681209486,
          6.582533485189258,
          6.4762343369244455,
          6.478537870346352,
          6.483152286946785,
          6.491315720270046,
          6.470467813890938,
          6.465388099615459,
          6.4679443925980635,
          6.4925731553878565,
          6.489891829982351,
          6.491026053712116,
          6.499042010398039,
          6.513813329348059,
          6.462770543533528,
          6.479639132669571,
          6.49294741568534,
          6.4619516137820945,
          6.587399824660281,
          6.586444627041719,
          6.4334833615601426,
          6.530657178870913,
          6.536603311990154,
          6.469216531743126,
          6.561767913654368,
          6.492153322705857,
          6.433444240371113,
          6.456098979778652,
          6.45829090347231,
          6.4625389281638865,
          6.468318721349398,
          6.483184203705525,
          6.443866047950349,
          6.451601515893599,
          6.4535502673935605,
          6.459848930449329,
          6.471423372416525,
          6.480159532843271,
          6.4433935411198,
          6.450205190023664,
          6.458171910912764
         ]
        },
        {
         "marker": {
          "size": [
           40,
           40,
           40,
           40,
           40,
           40,
           40,
           40,
           40,
           40,
           40,
           40,
           40,
           40,
           40,
           40,
           40,
           40,
           40,
           40,
           40,
           40,
           40,
           40,
           40,
           40,
           40,
           40,
           40,
           40,
           40,
           40,
           40,
           40,
           40,
           40,
           40,
           40,
           40,
           40,
           40,
           40,
           40,
           40,
           40,
           40,
           40,
           40
          ]
         },
         "mode": "markers",
         "name": "[2048]",
         "text": [
          "drop:0.4-fulldrop:0.2-nlayers:2-lag:12-full:[2048]",
          "drop:0.4-fulldrop:0.3-nlayers:2-lag:12-full:[2048]",
          "drop:0.4-fulldrop:0.4-nlayers:2-lag:12-full:[2048]",
          "drop:0.4-fulldrop:0.2-nlayers:2-lag:18-full:[2048]",
          "drop:0.4-fulldrop:0.3-nlayers:2-lag:18-full:[2048]",
          "drop:0.4-fulldrop:0.4-nlayers:2-lag:18-full:[2048]",
          "drop:0.5-fulldrop:0.2-nlayers:2-lag:12-full:[2048]",
          "drop:0.5-fulldrop:0.3-nlayers:2-lag:12-full:[2048]",
          "drop:0.5-fulldrop:0.4-nlayers:2-lag:12-full:[2048]",
          "drop:0.5-fulldrop:0.2-nlayers:2-lag:18-full:[2048]",
          "drop:0.5-fulldrop:0.3-nlayers:2-lag:18-full:[2048]",
          "drop:0.5-fulldrop:0.4-nlayers:2-lag:18-full:[2048]",
          "drop:0.6-fulldrop:0.2-nlayers:2-lag:12-full:[2048]",
          "drop:0.6-fulldrop:0.3-nlayers:2-lag:12-full:[2048]",
          "drop:0.6-fulldrop:0.4-nlayers:2-lag:12-full:[2048]",
          "drop:0.6-fulldrop:0.2-nlayers:2-lag:18-full:[2048]",
          "drop:0.6-fulldrop:0.3-nlayers:2-lag:18-full:[2048]",
          "drop:0.6-fulldrop:0.4-nlayers:2-lag:18-full:[2048]",
          "drop:0.7-fulldrop:0.2-nlayers:2-lag:12-full:[2048]",
          "drop:0.7-fulldrop:0.3-nlayers:2-lag:12-full:[2048]",
          "drop:0.7-fulldrop:0.4-nlayers:2-lag:12-full:[2048]",
          "drop:0.7-fulldrop:0.2-nlayers:2-lag:18-full:[2048]",
          "drop:0.7-fulldrop:0.3-nlayers:2-lag:18-full:[2048]",
          "drop:0.7-fulldrop:0.4-nlayers:2-lag:18-full:[2048]",
          "drop:0.4-fulldrop:0.2-nlayers:3-lag:12-full:[2048]",
          "drop:0.4-fulldrop:0.3-nlayers:3-lag:12-full:[2048]",
          "drop:0.4-fulldrop:0.4-nlayers:3-lag:12-full:[2048]",
          "drop:0.4-fulldrop:0.2-nlayers:3-lag:18-full:[2048]",
          "drop:0.4-fulldrop:0.3-nlayers:3-lag:18-full:[2048]",
          "drop:0.4-fulldrop:0.4-nlayers:3-lag:18-full:[2048]",
          "drop:0.5-fulldrop:0.2-nlayers:3-lag:12-full:[2048]",
          "drop:0.5-fulldrop:0.3-nlayers:3-lag:12-full:[2048]",
          "drop:0.5-fulldrop:0.4-nlayers:3-lag:12-full:[2048]",
          "drop:0.5-fulldrop:0.2-nlayers:3-lag:18-full:[2048]",
          "drop:0.5-fulldrop:0.3-nlayers:3-lag:18-full:[2048]",
          "drop:0.5-fulldrop:0.4-nlayers:3-lag:18-full:[2048]",
          "drop:0.6-fulldrop:0.2-nlayers:3-lag:12-full:[2048]",
          "drop:0.6-fulldrop:0.3-nlayers:3-lag:12-full:[2048]",
          "drop:0.6-fulldrop:0.4-nlayers:3-lag:12-full:[2048]",
          "drop:0.6-fulldrop:0.2-nlayers:3-lag:18-full:[2048]",
          "drop:0.6-fulldrop:0.3-nlayers:3-lag:18-full:[2048]",
          "drop:0.6-fulldrop:0.4-nlayers:3-lag:18-full:[2048]",
          "drop:0.7-fulldrop:0.2-nlayers:3-lag:12-full:[2048]",
          "drop:0.7-fulldrop:0.3-nlayers:3-lag:12-full:[2048]",
          "drop:0.7-fulldrop:0.4-nlayers:3-lag:12-full:[2048]",
          "drop:0.7-fulldrop:0.2-nlayers:3-lag:18-full:[2048]",
          "drop:0.7-fulldrop:0.3-nlayers:3-lag:18-full:[2048]",
          "drop:0.7-fulldrop:0.4-nlayers:3-lag:18-full:[2048]"
         ],
         "type": "scatter",
         "uid": "04c590f4-e2a0-4ea0-b680-ff71e7e3e3f5",
         "x": [
          6.788229127612115,
          6.897591827661469,
          6.902240349664717,
          6.761823733039162,
          6.845307264381572,
          6.8568190062959395,
          6.783771024962159,
          6.87259818028875,
          6.8756875387679335,
          6.7684294589804646,
          6.776029129954139,
          6.78629994600175,
          6.794251322120136,
          6.783405607682535,
          6.79351840101858,
          6.7659362863048385,
          6.783277296336389,
          6.784872445318293,
          6.787109431098584,
          6.801470990153061,
          6.809854998703155,
          6.7708729144753805,
          6.782585185046433,
          6.787755941228523,
          6.759690433138807,
          6.886540167805144,
          6.885702499315732,
          6.734547744939916,
          6.7675607215177624,
          6.820076323165705,
          6.761061945639727,
          6.780132939772845,
          6.804399256061596,
          6.743794864362575,
          6.757500596565128,
          6.759436715752729,
          6.76613524995563,
          6.773143989748888,
          6.767106186366378,
          6.739967937251715,
          6.747037008767509,
          6.7510191888159765,
          6.764473313264944,
          6.773746462870999,
          6.782502733864037,
          6.7390948019235415,
          6.747813755086941,
          6.75894059867789
         ],
         "y": [
          6.47736530536082,
          6.595934453462129,
          6.60045747754078,
          6.452208480842963,
          6.528078414165327,
          6.543841396455241,
          6.480940352189913,
          6.571769369049098,
          6.577778573237468,
          6.458264888966685,
          6.468570398734744,
          6.483767788990666,
          6.484635234555563,
          6.478105222624419,
          6.490771509347527,
          6.4491125367830735,
          6.465912100123756,
          6.479450397642097,
          6.475567056061484,
          6.493532270467605,
          6.497299673529588,
          6.452908992761914,
          6.469579710449093,
          6.481429076589836,
          6.450090842260705,
          6.570231192138947,
          6.581169882192914,
          6.42350669338453,
          6.446254188439313,
          6.511069023594979,
          6.448803463648428,
          6.459082509397003,
          6.504868728639783,
          6.42656220653,
          6.447494391381035,
          6.442021522454396,
          6.453609748493317,
          6.460902640021548,
          6.463631389799603,
          6.423085853283689,
          6.438719424965675,
          6.448523346054486,
          6.4529697261077645,
          6.467205424507636,
          6.468370981422114,
          6.42397908809986,
          6.438028060243512,
          6.453833598192457
         ]
        }
       ],
       "layout": {}
      },
      "text/html": [
       "<div id=\"2d43539b-5fd9-438a-8870-c6e576359539\" style=\"height: 525px; width: 100%;\" class=\"plotly-graph-div\"></div><script type=\"text/javascript\">require([\"plotly\"], function(Plotly) { window.PLOTLYENV=window.PLOTLYENV || {};window.PLOTLYENV.BASE_URL=\"https://plot.ly\";\n",
       "if (document.getElementById(\"2d43539b-5fd9-438a-8870-c6e576359539\")) {\n",
       "    Plotly.newPlot(\"2d43539b-5fd9-438a-8870-c6e576359539\", [{\"marker\": {\"size\": [40.0, 40.0, 40.0, 40.0, 40.0, 40.0, 40.0, 40.0, 40.0, 40.0, 40.0, 40.0, 40.0, 40.0, 40.0, 40.0, 40.0, 40.0, 40.0, 40.0, 40.0, 40.0, 40.0, 40.0, 40.0, 40.0, 40.0, 40.0, 40.0, 40.0, 40.0, 40.0, 40.0, 40.0, 40.0, 40.0, 40.0, 40.0, 40.0, 40.0, 40.0, 40.0, 40.0, 40.0, 40.0, 40.0, 40.0, 40.0]}, \"mode\": \"markers\", \"name\": \"[1024, 256]\", \"text\": [\"drop:0.4-fulldrop:0.2-nlayers:2-lag:12-full:[1024, 256]\", \"drop:0.4-fulldrop:0.3-nlayers:2-lag:12-full:[1024, 256]\", \"drop:0.4-fulldrop:0.4-nlayers:2-lag:12-full:[1024, 256]\", \"drop:0.4-fulldrop:0.2-nlayers:2-lag:18-full:[1024, 256]\", \"drop:0.4-fulldrop:0.3-nlayers:2-lag:18-full:[1024, 256]\", \"drop:0.4-fulldrop:0.4-nlayers:2-lag:18-full:[1024, 256]\", \"drop:0.5-fulldrop:0.2-nlayers:2-lag:12-full:[1024, 256]\", \"drop:0.5-fulldrop:0.3-nlayers:2-lag:12-full:[1024, 256]\", \"drop:0.5-fulldrop:0.4-nlayers:2-lag:12-full:[1024, 256]\", \"drop:0.5-fulldrop:0.2-nlayers:2-lag:18-full:[1024, 256]\", \"drop:0.5-fulldrop:0.3-nlayers:2-lag:18-full:[1024, 256]\", \"drop:0.5-fulldrop:0.4-nlayers:2-lag:18-full:[1024, 256]\", \"drop:0.6-fulldrop:0.2-nlayers:2-lag:12-full:[1024, 256]\", \"drop:0.6-fulldrop:0.3-nlayers:2-lag:12-full:[1024, 256]\", \"drop:0.6-fulldrop:0.4-nlayers:2-lag:12-full:[1024, 256]\", \"drop:0.6-fulldrop:0.2-nlayers:2-lag:18-full:[1024, 256]\", \"drop:0.6-fulldrop:0.3-nlayers:2-lag:18-full:[1024, 256]\", \"drop:0.6-fulldrop:0.4-nlayers:2-lag:18-full:[1024, 256]\", \"drop:0.7-fulldrop:0.2-nlayers:2-lag:12-full:[1024, 256]\", \"drop:0.7-fulldrop:0.3-nlayers:2-lag:12-full:[1024, 256]\", \"drop:0.7-fulldrop:0.4-nlayers:2-lag:12-full:[1024, 256]\", \"drop:0.7-fulldrop:0.2-nlayers:2-lag:18-full:[1024, 256]\", \"drop:0.7-fulldrop:0.3-nlayers:2-lag:18-full:[1024, 256]\", \"drop:0.7-fulldrop:0.4-nlayers:2-lag:18-full:[1024, 256]\", \"drop:0.4-fulldrop:0.2-nlayers:3-lag:12-full:[1024, 256]\", \"drop:0.4-fulldrop:0.3-nlayers:3-lag:12-full:[1024, 256]\", \"drop:0.4-fulldrop:0.4-nlayers:3-lag:12-full:[1024, 256]\", \"drop:0.4-fulldrop:0.2-nlayers:3-lag:18-full:[1024, 256]\", \"drop:0.4-fulldrop:0.3-nlayers:3-lag:18-full:[1024, 256]\", \"drop:0.4-fulldrop:0.4-nlayers:3-lag:18-full:[1024, 256]\", \"drop:0.5-fulldrop:0.2-nlayers:3-lag:12-full:[1024, 256]\", \"drop:0.5-fulldrop:0.3-nlayers:3-lag:12-full:[1024, 256]\", \"drop:0.5-fulldrop:0.4-nlayers:3-lag:12-full:[1024, 256]\", \"drop:0.5-fulldrop:0.2-nlayers:3-lag:18-full:[1024, 256]\", \"drop:0.5-fulldrop:0.3-nlayers:3-lag:18-full:[1024, 256]\", \"drop:0.5-fulldrop:0.4-nlayers:3-lag:18-full:[1024, 256]\", \"drop:0.6-fulldrop:0.2-nlayers:3-lag:12-full:[1024, 256]\", \"drop:0.6-fulldrop:0.3-nlayers:3-lag:12-full:[1024, 256]\", \"drop:0.6-fulldrop:0.4-nlayers:3-lag:12-full:[1024, 256]\", \"drop:0.6-fulldrop:0.2-nlayers:3-lag:18-full:[1024, 256]\", \"drop:0.6-fulldrop:0.3-nlayers:3-lag:18-full:[1024, 256]\", \"drop:0.6-fulldrop:0.4-nlayers:3-lag:18-full:[1024, 256]\", \"drop:0.7-fulldrop:0.2-nlayers:3-lag:12-full:[1024, 256]\", \"drop:0.7-fulldrop:0.3-nlayers:3-lag:12-full:[1024, 256]\", \"drop:0.7-fulldrop:0.4-nlayers:3-lag:12-full:[1024, 256]\", \"drop:0.7-fulldrop:0.2-nlayers:3-lag:18-full:[1024, 256]\", \"drop:0.7-fulldrop:0.3-nlayers:3-lag:18-full:[1024, 256]\", \"drop:0.7-fulldrop:0.4-nlayers:3-lag:18-full:[1024, 256]\"], \"x\": [6.822212241240335, 6.81831054073622, 6.890584894261054, 6.809521813622049, 6.798796410416408, 6.850368807577008, 6.816696611201237, 6.8699991566442975, 6.875682874148738, 6.802407985614466, 6.790773206239778, 6.7859062589708765, 6.814988045899787, 6.722429523355402, 6.651136792979314, 6.7993386933606965, 6.797073554574318, 6.785470544600144, 6.823655242265036, 6.813737133047819, 6.8075225044200876, 6.798111004686108, 6.802337351652991, 6.790156964873081, 6.790715087867984, 6.8483919073588595, 6.863430107413833, 6.765338604730545, 6.820091996869495, 6.808113448539235, 6.786657487617943, 6.78397036399964, 6.822505240630157, 6.7658488037037285, 6.761897555329905, 6.749939150073892, 6.78377655359053, 6.769510493656817, 6.773327528706305, 6.763281447591493, 6.759788967302623, 6.75621035421991, 6.783964587456833, 6.783966300227057, 6.77358092610456, 6.764168665919774, 6.755398425001281, 6.750671121876064], \"y\": [6.513972891418986, 6.519992516295925, 6.605337123453242, 6.4964963146766195, 6.4933873101667805, 6.5593442050694035, 6.512552444758469, 6.575089595144422, 6.584123831661047, 6.493463245925266, 6.495110283343859, 6.4844913132767985, 6.519092970209669, 6.450512316126944, 6.388321672781014, 6.484968283015199, 6.495165721322715, 6.48930099291685, 6.515462123628975, 6.515029360322217, 6.512750249001879, 6.4884501494891245, 6.495976239779635, 6.496847834001677, 6.481643489987009, 6.549890895724479, 6.573656708397473, 6.450395798227952, 6.524870031094285, 6.520453373030896, 6.484966861343708, 6.483272666230232, 6.539437002378745, 6.458380042370524, 6.462281924236274, 6.464648288932426, 6.481631667706001, 6.471314955425344, 6.4777475641532885, 6.460741277552906, 6.460831481069074, 6.4577004273457055, 6.468557159244269, 6.480524088353798, 6.4773041786516785, 6.457521007771535, 6.456763223919884, 6.453763396715948], \"type\": \"scatter\", \"uid\": \"f4bf3ad5-3862-442c-8337-b068509d503f\"}, {\"marker\": {\"size\": [40.0, 40.0, 40.0, 40.0, 40.0, 40.0, 40.0, 40.0, 40.0, 40.0, 40.0, 40.0, 40.0, 40.0, 40.0, 40.0, 40.0, 40.0, 40.0, 40.0, 40.0, 40.0, 40.0, 40.0, 40.0, 40.0, 40.0, 40.0, 40.0, 40.0, 40.0, 40.0, 40.0, 40.0, 40.0, 40.0, 40.0, 40.0, 40.0, 40.0, 40.0, 40.0, 40.0, 40.0, 40.0, 40.0, 40.0, 40.0]}, \"mode\": \"markers\", \"name\": \"[1024]\", \"text\": [\"drop:0.4-fulldrop:0.2-nlayers:2-lag:12-full:[1024]\", \"drop:0.4-fulldrop:0.3-nlayers:2-lag:12-full:[1024]\", \"drop:0.4-fulldrop:0.4-nlayers:2-lag:12-full:[1024]\", \"drop:0.4-fulldrop:0.2-nlayers:2-lag:18-full:[1024]\", \"drop:0.4-fulldrop:0.3-nlayers:2-lag:18-full:[1024]\", \"drop:0.4-fulldrop:0.4-nlayers:2-lag:18-full:[1024]\", \"drop:0.5-fulldrop:0.2-nlayers:2-lag:12-full:[1024]\", \"drop:0.5-fulldrop:0.3-nlayers:2-lag:12-full:[1024]\", \"drop:0.5-fulldrop:0.4-nlayers:2-lag:12-full:[1024]\", \"drop:0.5-fulldrop:0.2-nlayers:2-lag:18-full:[1024]\", \"drop:0.5-fulldrop:0.3-nlayers:2-lag:18-full:[1024]\", \"drop:0.5-fulldrop:0.4-nlayers:2-lag:18-full:[1024]\", \"drop:0.6-fulldrop:0.2-nlayers:2-lag:12-full:[1024]\", \"drop:0.6-fulldrop:0.3-nlayers:2-lag:12-full:[1024]\", \"drop:0.6-fulldrop:0.4-nlayers:2-lag:12-full:[1024]\", \"drop:0.6-fulldrop:0.2-nlayers:2-lag:18-full:[1024]\", \"drop:0.6-fulldrop:0.3-nlayers:2-lag:18-full:[1024]\", \"drop:0.6-fulldrop:0.4-nlayers:2-lag:18-full:[1024]\", \"drop:0.7-fulldrop:0.2-nlayers:2-lag:12-full:[1024]\", \"drop:0.7-fulldrop:0.3-nlayers:2-lag:12-full:[1024]\", \"drop:0.7-fulldrop:0.4-nlayers:2-lag:12-full:[1024]\", \"drop:0.7-fulldrop:0.2-nlayers:2-lag:18-full:[1024]\", \"drop:0.7-fulldrop:0.3-nlayers:2-lag:18-full:[1024]\", \"drop:0.7-fulldrop:0.4-nlayers:2-lag:18-full:[1024]\", \"drop:0.4-fulldrop:0.2-nlayers:3-lag:12-full:[1024]\", \"drop:0.4-fulldrop:0.3-nlayers:3-lag:12-full:[1024]\", \"drop:0.4-fulldrop:0.4-nlayers:3-lag:12-full:[1024]\", \"drop:0.4-fulldrop:0.2-nlayers:3-lag:18-full:[1024]\", \"drop:0.4-fulldrop:0.3-nlayers:3-lag:18-full:[1024]\", \"drop:0.4-fulldrop:0.4-nlayers:3-lag:18-full:[1024]\", \"drop:0.5-fulldrop:0.2-nlayers:3-lag:12-full:[1024]\", \"drop:0.5-fulldrop:0.3-nlayers:3-lag:12-full:[1024]\", \"drop:0.5-fulldrop:0.4-nlayers:3-lag:12-full:[1024]\", \"drop:0.5-fulldrop:0.2-nlayers:3-lag:18-full:[1024]\", \"drop:0.5-fulldrop:0.3-nlayers:3-lag:18-full:[1024]\", \"drop:0.5-fulldrop:0.4-nlayers:3-lag:18-full:[1024]\", \"drop:0.6-fulldrop:0.2-nlayers:3-lag:12-full:[1024]\", \"drop:0.6-fulldrop:0.3-nlayers:3-lag:12-full:[1024]\", \"drop:0.6-fulldrop:0.4-nlayers:3-lag:12-full:[1024]\", \"drop:0.6-fulldrop:0.2-nlayers:3-lag:18-full:[1024]\", \"drop:0.6-fulldrop:0.3-nlayers:3-lag:18-full:[1024]\", \"drop:0.6-fulldrop:0.4-nlayers:3-lag:18-full:[1024]\", \"drop:0.7-fulldrop:0.2-nlayers:3-lag:12-full:[1024]\", \"drop:0.7-fulldrop:0.3-nlayers:3-lag:12-full:[1024]\", \"drop:0.7-fulldrop:0.4-nlayers:3-lag:12-full:[1024]\", \"drop:0.7-fulldrop:0.2-nlayers:3-lag:18-full:[1024]\", \"drop:0.7-fulldrop:0.3-nlayers:3-lag:18-full:[1024]\", \"drop:0.7-fulldrop:0.4-nlayers:3-lag:18-full:[1024]\"], \"x\": [6.799834993860574, 6.811684477198802, 6.9080683707822255, 6.784539198732882, 6.79744274992692, 6.859103217077047, 6.802209344990517, 6.847415153246142, 6.887204305232341, 6.783462842927636, 6.78615042819283, 6.796691436804696, 6.80218979117268, 6.776712775790217, 6.76406407301857, 6.783562935713621, 6.790486520463387, 6.798053744465346, 6.799912237203099, 6.8132082663710385, 6.818932808824683, 6.777945679933096, 6.7929442221955245, 6.802161470853474, 6.7726196544972925, 6.892499379365054, 6.891923579870077, 6.752135650811978, 6.835636480227132, 6.836018585417918, 6.780745018155484, 6.862080716988234, 6.808445354484924, 6.753047467492049, 6.760379009055503, 6.767702476570074, 6.77537995131371, 6.765745260425715, 6.785956633000674, 6.75711722636819, 6.762313399165898, 6.7607317739947215, 6.773511528665784, 6.786756666142303, 6.793541349636554, 6.748830112335313, 6.763445549488921, 6.7620589716740644], \"y\": [6.492774566622514, 6.501326788475693, 6.605766703839353, 6.464440437742976, 6.489612058969814, 6.551189586183395, 6.498485325403906, 6.548330681209486, 6.582533485189258, 6.4762343369244455, 6.478537870346352, 6.483152286946785, 6.491315720270046, 6.470467813890938, 6.465388099615459, 6.4679443925980635, 6.4925731553878565, 6.489891829982351, 6.491026053712116, 6.499042010398039, 6.513813329348059, 6.462770543533528, 6.479639132669571, 6.49294741568534, 6.4619516137820945, 6.587399824660281, 6.586444627041719, 6.4334833615601426, 6.530657178870913, 6.536603311990154, 6.469216531743126, 6.561767913654368, 6.492153322705857, 6.433444240371113, 6.456098979778652, 6.45829090347231, 6.4625389281638865, 6.468318721349398, 6.483184203705525, 6.443866047950349, 6.451601515893599, 6.4535502673935605, 6.459848930449329, 6.471423372416525, 6.480159532843271, 6.4433935411198, 6.450205190023664, 6.458171910912764], \"type\": \"scatter\", \"uid\": \"815e0f83-125a-41f4-8b4c-0de1bd03494e\"}, {\"marker\": {\"size\": [40.0, 40.0, 40.0, 40.0, 40.0, 40.0, 40.0, 40.0, 40.0, 40.0, 40.0, 40.0, 40.0, 40.0, 40.0, 40.0, 40.0, 40.0, 40.0, 40.0, 40.0, 40.0, 40.0, 40.0, 40.0, 40.0, 40.0, 40.0, 40.0, 40.0, 40.0, 40.0, 40.0, 40.0, 40.0, 40.0, 40.0, 40.0, 40.0, 40.0, 40.0, 40.0, 40.0, 40.0, 40.0, 40.0, 40.0, 40.0]}, \"mode\": \"markers\", \"name\": \"[2048]\", \"text\": [\"drop:0.4-fulldrop:0.2-nlayers:2-lag:12-full:[2048]\", \"drop:0.4-fulldrop:0.3-nlayers:2-lag:12-full:[2048]\", \"drop:0.4-fulldrop:0.4-nlayers:2-lag:12-full:[2048]\", \"drop:0.4-fulldrop:0.2-nlayers:2-lag:18-full:[2048]\", \"drop:0.4-fulldrop:0.3-nlayers:2-lag:18-full:[2048]\", \"drop:0.4-fulldrop:0.4-nlayers:2-lag:18-full:[2048]\", \"drop:0.5-fulldrop:0.2-nlayers:2-lag:12-full:[2048]\", \"drop:0.5-fulldrop:0.3-nlayers:2-lag:12-full:[2048]\", \"drop:0.5-fulldrop:0.4-nlayers:2-lag:12-full:[2048]\", \"drop:0.5-fulldrop:0.2-nlayers:2-lag:18-full:[2048]\", \"drop:0.5-fulldrop:0.3-nlayers:2-lag:18-full:[2048]\", \"drop:0.5-fulldrop:0.4-nlayers:2-lag:18-full:[2048]\", \"drop:0.6-fulldrop:0.2-nlayers:2-lag:12-full:[2048]\", \"drop:0.6-fulldrop:0.3-nlayers:2-lag:12-full:[2048]\", \"drop:0.6-fulldrop:0.4-nlayers:2-lag:12-full:[2048]\", \"drop:0.6-fulldrop:0.2-nlayers:2-lag:18-full:[2048]\", \"drop:0.6-fulldrop:0.3-nlayers:2-lag:18-full:[2048]\", \"drop:0.6-fulldrop:0.4-nlayers:2-lag:18-full:[2048]\", \"drop:0.7-fulldrop:0.2-nlayers:2-lag:12-full:[2048]\", \"drop:0.7-fulldrop:0.3-nlayers:2-lag:12-full:[2048]\", \"drop:0.7-fulldrop:0.4-nlayers:2-lag:12-full:[2048]\", \"drop:0.7-fulldrop:0.2-nlayers:2-lag:18-full:[2048]\", \"drop:0.7-fulldrop:0.3-nlayers:2-lag:18-full:[2048]\", \"drop:0.7-fulldrop:0.4-nlayers:2-lag:18-full:[2048]\", \"drop:0.4-fulldrop:0.2-nlayers:3-lag:12-full:[2048]\", \"drop:0.4-fulldrop:0.3-nlayers:3-lag:12-full:[2048]\", \"drop:0.4-fulldrop:0.4-nlayers:3-lag:12-full:[2048]\", \"drop:0.4-fulldrop:0.2-nlayers:3-lag:18-full:[2048]\", \"drop:0.4-fulldrop:0.3-nlayers:3-lag:18-full:[2048]\", \"drop:0.4-fulldrop:0.4-nlayers:3-lag:18-full:[2048]\", \"drop:0.5-fulldrop:0.2-nlayers:3-lag:12-full:[2048]\", \"drop:0.5-fulldrop:0.3-nlayers:3-lag:12-full:[2048]\", \"drop:0.5-fulldrop:0.4-nlayers:3-lag:12-full:[2048]\", \"drop:0.5-fulldrop:0.2-nlayers:3-lag:18-full:[2048]\", \"drop:0.5-fulldrop:0.3-nlayers:3-lag:18-full:[2048]\", \"drop:0.5-fulldrop:0.4-nlayers:3-lag:18-full:[2048]\", \"drop:0.6-fulldrop:0.2-nlayers:3-lag:12-full:[2048]\", \"drop:0.6-fulldrop:0.3-nlayers:3-lag:12-full:[2048]\", \"drop:0.6-fulldrop:0.4-nlayers:3-lag:12-full:[2048]\", \"drop:0.6-fulldrop:0.2-nlayers:3-lag:18-full:[2048]\", \"drop:0.6-fulldrop:0.3-nlayers:3-lag:18-full:[2048]\", \"drop:0.6-fulldrop:0.4-nlayers:3-lag:18-full:[2048]\", \"drop:0.7-fulldrop:0.2-nlayers:3-lag:12-full:[2048]\", \"drop:0.7-fulldrop:0.3-nlayers:3-lag:12-full:[2048]\", \"drop:0.7-fulldrop:0.4-nlayers:3-lag:12-full:[2048]\", \"drop:0.7-fulldrop:0.2-nlayers:3-lag:18-full:[2048]\", \"drop:0.7-fulldrop:0.3-nlayers:3-lag:18-full:[2048]\", \"drop:0.7-fulldrop:0.4-nlayers:3-lag:18-full:[2048]\"], \"x\": [6.788229127612115, 6.897591827661469, 6.902240349664717, 6.761823733039162, 6.845307264381572, 6.8568190062959395, 6.783771024962159, 6.87259818028875, 6.8756875387679335, 6.7684294589804646, 6.776029129954139, 6.78629994600175, 6.794251322120136, 6.783405607682535, 6.79351840101858, 6.7659362863048385, 6.783277296336389, 6.784872445318293, 6.787109431098584, 6.801470990153061, 6.809854998703155, 6.7708729144753805, 6.782585185046433, 6.787755941228523, 6.759690433138807, 6.886540167805144, 6.885702499315732, 6.734547744939916, 6.7675607215177624, 6.820076323165705, 6.761061945639727, 6.780132939772845, 6.804399256061596, 6.743794864362575, 6.757500596565128, 6.759436715752729, 6.76613524995563, 6.773143989748888, 6.767106186366378, 6.739967937251715, 6.747037008767509, 6.7510191888159765, 6.764473313264944, 6.773746462870999, 6.782502733864037, 6.7390948019235415, 6.747813755086941, 6.75894059867789], \"y\": [6.47736530536082, 6.595934453462129, 6.60045747754078, 6.452208480842963, 6.528078414165327, 6.543841396455241, 6.480940352189913, 6.571769369049098, 6.577778573237468, 6.458264888966685, 6.468570398734744, 6.483767788990666, 6.484635234555563, 6.478105222624419, 6.490771509347527, 6.4491125367830735, 6.465912100123756, 6.479450397642097, 6.475567056061484, 6.493532270467605, 6.497299673529588, 6.452908992761914, 6.469579710449093, 6.481429076589836, 6.450090842260705, 6.570231192138947, 6.581169882192914, 6.42350669338453, 6.446254188439313, 6.511069023594979, 6.448803463648428, 6.459082509397003, 6.504868728639783, 6.42656220653, 6.447494391381035, 6.442021522454396, 6.453609748493317, 6.460902640021548, 6.463631389799603, 6.423085853283689, 6.438719424965675, 6.448523346054486, 6.4529697261077645, 6.467205424507636, 6.468370981422114, 6.42397908809986, 6.438028060243512, 6.453833598192457], \"type\": \"scatter\", \"uid\": \"73da56c1-a5aa-44fe-996a-618393a2c6b8\"}], {}, {\"showLink\": false, \"linkText\": \"Export to plot.ly\", \"plotlyServerURL\": \"https://plot.ly\"}); \n",
       "}\n",
       "});</script><script type=\"text/javascript\">window.addEventListener(\"resize\", function(){if (document.getElementById(\"2d43539b-5fd9-438a-8870-c6e576359539\")) {window._Plotly.Plots.resize(document.getElementById(\"2d43539b-5fd9-438a-8870-c6e576359539\"));};})</script>"
      ],
      "text/vnd.plotly.v1+html": [
       "<div id=\"2d43539b-5fd9-438a-8870-c6e576359539\" style=\"height: 525px; width: 100%;\" class=\"plotly-graph-div\"></div><script type=\"text/javascript\">require([\"plotly\"], function(Plotly) { window.PLOTLYENV=window.PLOTLYENV || {};window.PLOTLYENV.BASE_URL=\"https://plot.ly\";\n",
       "if (document.getElementById(\"2d43539b-5fd9-438a-8870-c6e576359539\")) {\n",
       "    Plotly.newPlot(\"2d43539b-5fd9-438a-8870-c6e576359539\", [{\"marker\": {\"size\": [40.0, 40.0, 40.0, 40.0, 40.0, 40.0, 40.0, 40.0, 40.0, 40.0, 40.0, 40.0, 40.0, 40.0, 40.0, 40.0, 40.0, 40.0, 40.0, 40.0, 40.0, 40.0, 40.0, 40.0, 40.0, 40.0, 40.0, 40.0, 40.0, 40.0, 40.0, 40.0, 40.0, 40.0, 40.0, 40.0, 40.0, 40.0, 40.0, 40.0, 40.0, 40.0, 40.0, 40.0, 40.0, 40.0, 40.0, 40.0]}, \"mode\": \"markers\", \"name\": \"[1024, 256]\", \"text\": [\"drop:0.4-fulldrop:0.2-nlayers:2-lag:12-full:[1024, 256]\", \"drop:0.4-fulldrop:0.3-nlayers:2-lag:12-full:[1024, 256]\", \"drop:0.4-fulldrop:0.4-nlayers:2-lag:12-full:[1024, 256]\", \"drop:0.4-fulldrop:0.2-nlayers:2-lag:18-full:[1024, 256]\", \"drop:0.4-fulldrop:0.3-nlayers:2-lag:18-full:[1024, 256]\", \"drop:0.4-fulldrop:0.4-nlayers:2-lag:18-full:[1024, 256]\", \"drop:0.5-fulldrop:0.2-nlayers:2-lag:12-full:[1024, 256]\", \"drop:0.5-fulldrop:0.3-nlayers:2-lag:12-full:[1024, 256]\", \"drop:0.5-fulldrop:0.4-nlayers:2-lag:12-full:[1024, 256]\", \"drop:0.5-fulldrop:0.2-nlayers:2-lag:18-full:[1024, 256]\", \"drop:0.5-fulldrop:0.3-nlayers:2-lag:18-full:[1024, 256]\", \"drop:0.5-fulldrop:0.4-nlayers:2-lag:18-full:[1024, 256]\", \"drop:0.6-fulldrop:0.2-nlayers:2-lag:12-full:[1024, 256]\", \"drop:0.6-fulldrop:0.3-nlayers:2-lag:12-full:[1024, 256]\", \"drop:0.6-fulldrop:0.4-nlayers:2-lag:12-full:[1024, 256]\", \"drop:0.6-fulldrop:0.2-nlayers:2-lag:18-full:[1024, 256]\", \"drop:0.6-fulldrop:0.3-nlayers:2-lag:18-full:[1024, 256]\", \"drop:0.6-fulldrop:0.4-nlayers:2-lag:18-full:[1024, 256]\", \"drop:0.7-fulldrop:0.2-nlayers:2-lag:12-full:[1024, 256]\", \"drop:0.7-fulldrop:0.3-nlayers:2-lag:12-full:[1024, 256]\", \"drop:0.7-fulldrop:0.4-nlayers:2-lag:12-full:[1024, 256]\", \"drop:0.7-fulldrop:0.2-nlayers:2-lag:18-full:[1024, 256]\", \"drop:0.7-fulldrop:0.3-nlayers:2-lag:18-full:[1024, 256]\", \"drop:0.7-fulldrop:0.4-nlayers:2-lag:18-full:[1024, 256]\", \"drop:0.4-fulldrop:0.2-nlayers:3-lag:12-full:[1024, 256]\", \"drop:0.4-fulldrop:0.3-nlayers:3-lag:12-full:[1024, 256]\", \"drop:0.4-fulldrop:0.4-nlayers:3-lag:12-full:[1024, 256]\", \"drop:0.4-fulldrop:0.2-nlayers:3-lag:18-full:[1024, 256]\", \"drop:0.4-fulldrop:0.3-nlayers:3-lag:18-full:[1024, 256]\", \"drop:0.4-fulldrop:0.4-nlayers:3-lag:18-full:[1024, 256]\", \"drop:0.5-fulldrop:0.2-nlayers:3-lag:12-full:[1024, 256]\", \"drop:0.5-fulldrop:0.3-nlayers:3-lag:12-full:[1024, 256]\", \"drop:0.5-fulldrop:0.4-nlayers:3-lag:12-full:[1024, 256]\", \"drop:0.5-fulldrop:0.2-nlayers:3-lag:18-full:[1024, 256]\", \"drop:0.5-fulldrop:0.3-nlayers:3-lag:18-full:[1024, 256]\", \"drop:0.5-fulldrop:0.4-nlayers:3-lag:18-full:[1024, 256]\", \"drop:0.6-fulldrop:0.2-nlayers:3-lag:12-full:[1024, 256]\", \"drop:0.6-fulldrop:0.3-nlayers:3-lag:12-full:[1024, 256]\", \"drop:0.6-fulldrop:0.4-nlayers:3-lag:12-full:[1024, 256]\", \"drop:0.6-fulldrop:0.2-nlayers:3-lag:18-full:[1024, 256]\", \"drop:0.6-fulldrop:0.3-nlayers:3-lag:18-full:[1024, 256]\", \"drop:0.6-fulldrop:0.4-nlayers:3-lag:18-full:[1024, 256]\", \"drop:0.7-fulldrop:0.2-nlayers:3-lag:12-full:[1024, 256]\", \"drop:0.7-fulldrop:0.3-nlayers:3-lag:12-full:[1024, 256]\", \"drop:0.7-fulldrop:0.4-nlayers:3-lag:12-full:[1024, 256]\", \"drop:0.7-fulldrop:0.2-nlayers:3-lag:18-full:[1024, 256]\", \"drop:0.7-fulldrop:0.3-nlayers:3-lag:18-full:[1024, 256]\", \"drop:0.7-fulldrop:0.4-nlayers:3-lag:18-full:[1024, 256]\"], \"x\": [6.822212241240335, 6.81831054073622, 6.890584894261054, 6.809521813622049, 6.798796410416408, 6.850368807577008, 6.816696611201237, 6.8699991566442975, 6.875682874148738, 6.802407985614466, 6.790773206239778, 6.7859062589708765, 6.814988045899787, 6.722429523355402, 6.651136792979314, 6.7993386933606965, 6.797073554574318, 6.785470544600144, 6.823655242265036, 6.813737133047819, 6.8075225044200876, 6.798111004686108, 6.802337351652991, 6.790156964873081, 6.790715087867984, 6.8483919073588595, 6.863430107413833, 6.765338604730545, 6.820091996869495, 6.808113448539235, 6.786657487617943, 6.78397036399964, 6.822505240630157, 6.7658488037037285, 6.761897555329905, 6.749939150073892, 6.78377655359053, 6.769510493656817, 6.773327528706305, 6.763281447591493, 6.759788967302623, 6.75621035421991, 6.783964587456833, 6.783966300227057, 6.77358092610456, 6.764168665919774, 6.755398425001281, 6.750671121876064], \"y\": [6.513972891418986, 6.519992516295925, 6.605337123453242, 6.4964963146766195, 6.4933873101667805, 6.5593442050694035, 6.512552444758469, 6.575089595144422, 6.584123831661047, 6.493463245925266, 6.495110283343859, 6.4844913132767985, 6.519092970209669, 6.450512316126944, 6.388321672781014, 6.484968283015199, 6.495165721322715, 6.48930099291685, 6.515462123628975, 6.515029360322217, 6.512750249001879, 6.4884501494891245, 6.495976239779635, 6.496847834001677, 6.481643489987009, 6.549890895724479, 6.573656708397473, 6.450395798227952, 6.524870031094285, 6.520453373030896, 6.484966861343708, 6.483272666230232, 6.539437002378745, 6.458380042370524, 6.462281924236274, 6.464648288932426, 6.481631667706001, 6.471314955425344, 6.4777475641532885, 6.460741277552906, 6.460831481069074, 6.4577004273457055, 6.468557159244269, 6.480524088353798, 6.4773041786516785, 6.457521007771535, 6.456763223919884, 6.453763396715948], \"type\": \"scatter\", \"uid\": \"f4bf3ad5-3862-442c-8337-b068509d503f\"}, {\"marker\": {\"size\": [40.0, 40.0, 40.0, 40.0, 40.0, 40.0, 40.0, 40.0, 40.0, 40.0, 40.0, 40.0, 40.0, 40.0, 40.0, 40.0, 40.0, 40.0, 40.0, 40.0, 40.0, 40.0, 40.0, 40.0, 40.0, 40.0, 40.0, 40.0, 40.0, 40.0, 40.0, 40.0, 40.0, 40.0, 40.0, 40.0, 40.0, 40.0, 40.0, 40.0, 40.0, 40.0, 40.0, 40.0, 40.0, 40.0, 40.0, 40.0]}, \"mode\": \"markers\", \"name\": \"[1024]\", \"text\": [\"drop:0.4-fulldrop:0.2-nlayers:2-lag:12-full:[1024]\", \"drop:0.4-fulldrop:0.3-nlayers:2-lag:12-full:[1024]\", \"drop:0.4-fulldrop:0.4-nlayers:2-lag:12-full:[1024]\", \"drop:0.4-fulldrop:0.2-nlayers:2-lag:18-full:[1024]\", \"drop:0.4-fulldrop:0.3-nlayers:2-lag:18-full:[1024]\", \"drop:0.4-fulldrop:0.4-nlayers:2-lag:18-full:[1024]\", \"drop:0.5-fulldrop:0.2-nlayers:2-lag:12-full:[1024]\", \"drop:0.5-fulldrop:0.3-nlayers:2-lag:12-full:[1024]\", \"drop:0.5-fulldrop:0.4-nlayers:2-lag:12-full:[1024]\", \"drop:0.5-fulldrop:0.2-nlayers:2-lag:18-full:[1024]\", \"drop:0.5-fulldrop:0.3-nlayers:2-lag:18-full:[1024]\", \"drop:0.5-fulldrop:0.4-nlayers:2-lag:18-full:[1024]\", \"drop:0.6-fulldrop:0.2-nlayers:2-lag:12-full:[1024]\", \"drop:0.6-fulldrop:0.3-nlayers:2-lag:12-full:[1024]\", \"drop:0.6-fulldrop:0.4-nlayers:2-lag:12-full:[1024]\", \"drop:0.6-fulldrop:0.2-nlayers:2-lag:18-full:[1024]\", \"drop:0.6-fulldrop:0.3-nlayers:2-lag:18-full:[1024]\", \"drop:0.6-fulldrop:0.4-nlayers:2-lag:18-full:[1024]\", \"drop:0.7-fulldrop:0.2-nlayers:2-lag:12-full:[1024]\", \"drop:0.7-fulldrop:0.3-nlayers:2-lag:12-full:[1024]\", \"drop:0.7-fulldrop:0.4-nlayers:2-lag:12-full:[1024]\", \"drop:0.7-fulldrop:0.2-nlayers:2-lag:18-full:[1024]\", \"drop:0.7-fulldrop:0.3-nlayers:2-lag:18-full:[1024]\", \"drop:0.7-fulldrop:0.4-nlayers:2-lag:18-full:[1024]\", \"drop:0.4-fulldrop:0.2-nlayers:3-lag:12-full:[1024]\", \"drop:0.4-fulldrop:0.3-nlayers:3-lag:12-full:[1024]\", \"drop:0.4-fulldrop:0.4-nlayers:3-lag:12-full:[1024]\", \"drop:0.4-fulldrop:0.2-nlayers:3-lag:18-full:[1024]\", \"drop:0.4-fulldrop:0.3-nlayers:3-lag:18-full:[1024]\", \"drop:0.4-fulldrop:0.4-nlayers:3-lag:18-full:[1024]\", \"drop:0.5-fulldrop:0.2-nlayers:3-lag:12-full:[1024]\", \"drop:0.5-fulldrop:0.3-nlayers:3-lag:12-full:[1024]\", \"drop:0.5-fulldrop:0.4-nlayers:3-lag:12-full:[1024]\", \"drop:0.5-fulldrop:0.2-nlayers:3-lag:18-full:[1024]\", \"drop:0.5-fulldrop:0.3-nlayers:3-lag:18-full:[1024]\", \"drop:0.5-fulldrop:0.4-nlayers:3-lag:18-full:[1024]\", \"drop:0.6-fulldrop:0.2-nlayers:3-lag:12-full:[1024]\", \"drop:0.6-fulldrop:0.3-nlayers:3-lag:12-full:[1024]\", \"drop:0.6-fulldrop:0.4-nlayers:3-lag:12-full:[1024]\", \"drop:0.6-fulldrop:0.2-nlayers:3-lag:18-full:[1024]\", \"drop:0.6-fulldrop:0.3-nlayers:3-lag:18-full:[1024]\", \"drop:0.6-fulldrop:0.4-nlayers:3-lag:18-full:[1024]\", \"drop:0.7-fulldrop:0.2-nlayers:3-lag:12-full:[1024]\", \"drop:0.7-fulldrop:0.3-nlayers:3-lag:12-full:[1024]\", \"drop:0.7-fulldrop:0.4-nlayers:3-lag:12-full:[1024]\", \"drop:0.7-fulldrop:0.2-nlayers:3-lag:18-full:[1024]\", \"drop:0.7-fulldrop:0.3-nlayers:3-lag:18-full:[1024]\", \"drop:0.7-fulldrop:0.4-nlayers:3-lag:18-full:[1024]\"], \"x\": [6.799834993860574, 6.811684477198802, 6.9080683707822255, 6.784539198732882, 6.79744274992692, 6.859103217077047, 6.802209344990517, 6.847415153246142, 6.887204305232341, 6.783462842927636, 6.78615042819283, 6.796691436804696, 6.80218979117268, 6.776712775790217, 6.76406407301857, 6.783562935713621, 6.790486520463387, 6.798053744465346, 6.799912237203099, 6.8132082663710385, 6.818932808824683, 6.777945679933096, 6.7929442221955245, 6.802161470853474, 6.7726196544972925, 6.892499379365054, 6.891923579870077, 6.752135650811978, 6.835636480227132, 6.836018585417918, 6.780745018155484, 6.862080716988234, 6.808445354484924, 6.753047467492049, 6.760379009055503, 6.767702476570074, 6.77537995131371, 6.765745260425715, 6.785956633000674, 6.75711722636819, 6.762313399165898, 6.7607317739947215, 6.773511528665784, 6.786756666142303, 6.793541349636554, 6.748830112335313, 6.763445549488921, 6.7620589716740644], \"y\": [6.492774566622514, 6.501326788475693, 6.605766703839353, 6.464440437742976, 6.489612058969814, 6.551189586183395, 6.498485325403906, 6.548330681209486, 6.582533485189258, 6.4762343369244455, 6.478537870346352, 6.483152286946785, 6.491315720270046, 6.470467813890938, 6.465388099615459, 6.4679443925980635, 6.4925731553878565, 6.489891829982351, 6.491026053712116, 6.499042010398039, 6.513813329348059, 6.462770543533528, 6.479639132669571, 6.49294741568534, 6.4619516137820945, 6.587399824660281, 6.586444627041719, 6.4334833615601426, 6.530657178870913, 6.536603311990154, 6.469216531743126, 6.561767913654368, 6.492153322705857, 6.433444240371113, 6.456098979778652, 6.45829090347231, 6.4625389281638865, 6.468318721349398, 6.483184203705525, 6.443866047950349, 6.451601515893599, 6.4535502673935605, 6.459848930449329, 6.471423372416525, 6.480159532843271, 6.4433935411198, 6.450205190023664, 6.458171910912764], \"type\": \"scatter\", \"uid\": \"815e0f83-125a-41f4-8b4c-0de1bd03494e\"}, {\"marker\": {\"size\": [40.0, 40.0, 40.0, 40.0, 40.0, 40.0, 40.0, 40.0, 40.0, 40.0, 40.0, 40.0, 40.0, 40.0, 40.0, 40.0, 40.0, 40.0, 40.0, 40.0, 40.0, 40.0, 40.0, 40.0, 40.0, 40.0, 40.0, 40.0, 40.0, 40.0, 40.0, 40.0, 40.0, 40.0, 40.0, 40.0, 40.0, 40.0, 40.0, 40.0, 40.0, 40.0, 40.0, 40.0, 40.0, 40.0, 40.0, 40.0]}, \"mode\": \"markers\", \"name\": \"[2048]\", \"text\": [\"drop:0.4-fulldrop:0.2-nlayers:2-lag:12-full:[2048]\", \"drop:0.4-fulldrop:0.3-nlayers:2-lag:12-full:[2048]\", \"drop:0.4-fulldrop:0.4-nlayers:2-lag:12-full:[2048]\", \"drop:0.4-fulldrop:0.2-nlayers:2-lag:18-full:[2048]\", \"drop:0.4-fulldrop:0.3-nlayers:2-lag:18-full:[2048]\", \"drop:0.4-fulldrop:0.4-nlayers:2-lag:18-full:[2048]\", \"drop:0.5-fulldrop:0.2-nlayers:2-lag:12-full:[2048]\", \"drop:0.5-fulldrop:0.3-nlayers:2-lag:12-full:[2048]\", \"drop:0.5-fulldrop:0.4-nlayers:2-lag:12-full:[2048]\", \"drop:0.5-fulldrop:0.2-nlayers:2-lag:18-full:[2048]\", \"drop:0.5-fulldrop:0.3-nlayers:2-lag:18-full:[2048]\", \"drop:0.5-fulldrop:0.4-nlayers:2-lag:18-full:[2048]\", \"drop:0.6-fulldrop:0.2-nlayers:2-lag:12-full:[2048]\", \"drop:0.6-fulldrop:0.3-nlayers:2-lag:12-full:[2048]\", \"drop:0.6-fulldrop:0.4-nlayers:2-lag:12-full:[2048]\", \"drop:0.6-fulldrop:0.2-nlayers:2-lag:18-full:[2048]\", \"drop:0.6-fulldrop:0.3-nlayers:2-lag:18-full:[2048]\", \"drop:0.6-fulldrop:0.4-nlayers:2-lag:18-full:[2048]\", \"drop:0.7-fulldrop:0.2-nlayers:2-lag:12-full:[2048]\", \"drop:0.7-fulldrop:0.3-nlayers:2-lag:12-full:[2048]\", \"drop:0.7-fulldrop:0.4-nlayers:2-lag:12-full:[2048]\", \"drop:0.7-fulldrop:0.2-nlayers:2-lag:18-full:[2048]\", \"drop:0.7-fulldrop:0.3-nlayers:2-lag:18-full:[2048]\", \"drop:0.7-fulldrop:0.4-nlayers:2-lag:18-full:[2048]\", \"drop:0.4-fulldrop:0.2-nlayers:3-lag:12-full:[2048]\", \"drop:0.4-fulldrop:0.3-nlayers:3-lag:12-full:[2048]\", \"drop:0.4-fulldrop:0.4-nlayers:3-lag:12-full:[2048]\", \"drop:0.4-fulldrop:0.2-nlayers:3-lag:18-full:[2048]\", \"drop:0.4-fulldrop:0.3-nlayers:3-lag:18-full:[2048]\", \"drop:0.4-fulldrop:0.4-nlayers:3-lag:18-full:[2048]\", \"drop:0.5-fulldrop:0.2-nlayers:3-lag:12-full:[2048]\", \"drop:0.5-fulldrop:0.3-nlayers:3-lag:12-full:[2048]\", \"drop:0.5-fulldrop:0.4-nlayers:3-lag:12-full:[2048]\", \"drop:0.5-fulldrop:0.2-nlayers:3-lag:18-full:[2048]\", \"drop:0.5-fulldrop:0.3-nlayers:3-lag:18-full:[2048]\", \"drop:0.5-fulldrop:0.4-nlayers:3-lag:18-full:[2048]\", \"drop:0.6-fulldrop:0.2-nlayers:3-lag:12-full:[2048]\", \"drop:0.6-fulldrop:0.3-nlayers:3-lag:12-full:[2048]\", \"drop:0.6-fulldrop:0.4-nlayers:3-lag:12-full:[2048]\", \"drop:0.6-fulldrop:0.2-nlayers:3-lag:18-full:[2048]\", \"drop:0.6-fulldrop:0.3-nlayers:3-lag:18-full:[2048]\", \"drop:0.6-fulldrop:0.4-nlayers:3-lag:18-full:[2048]\", \"drop:0.7-fulldrop:0.2-nlayers:3-lag:12-full:[2048]\", \"drop:0.7-fulldrop:0.3-nlayers:3-lag:12-full:[2048]\", \"drop:0.7-fulldrop:0.4-nlayers:3-lag:12-full:[2048]\", \"drop:0.7-fulldrop:0.2-nlayers:3-lag:18-full:[2048]\", \"drop:0.7-fulldrop:0.3-nlayers:3-lag:18-full:[2048]\", \"drop:0.7-fulldrop:0.4-nlayers:3-lag:18-full:[2048]\"], \"x\": [6.788229127612115, 6.897591827661469, 6.902240349664717, 6.761823733039162, 6.845307264381572, 6.8568190062959395, 6.783771024962159, 6.87259818028875, 6.8756875387679335, 6.7684294589804646, 6.776029129954139, 6.78629994600175, 6.794251322120136, 6.783405607682535, 6.79351840101858, 6.7659362863048385, 6.783277296336389, 6.784872445318293, 6.787109431098584, 6.801470990153061, 6.809854998703155, 6.7708729144753805, 6.782585185046433, 6.787755941228523, 6.759690433138807, 6.886540167805144, 6.885702499315732, 6.734547744939916, 6.7675607215177624, 6.820076323165705, 6.761061945639727, 6.780132939772845, 6.804399256061596, 6.743794864362575, 6.757500596565128, 6.759436715752729, 6.76613524995563, 6.773143989748888, 6.767106186366378, 6.739967937251715, 6.747037008767509, 6.7510191888159765, 6.764473313264944, 6.773746462870999, 6.782502733864037, 6.7390948019235415, 6.747813755086941, 6.75894059867789], \"y\": [6.47736530536082, 6.595934453462129, 6.60045747754078, 6.452208480842963, 6.528078414165327, 6.543841396455241, 6.480940352189913, 6.571769369049098, 6.577778573237468, 6.458264888966685, 6.468570398734744, 6.483767788990666, 6.484635234555563, 6.478105222624419, 6.490771509347527, 6.4491125367830735, 6.465912100123756, 6.479450397642097, 6.475567056061484, 6.493532270467605, 6.497299673529588, 6.452908992761914, 6.469579710449093, 6.481429076589836, 6.450090842260705, 6.570231192138947, 6.581169882192914, 6.42350669338453, 6.446254188439313, 6.511069023594979, 6.448803463648428, 6.459082509397003, 6.504868728639783, 6.42656220653, 6.447494391381035, 6.442021522454396, 6.453609748493317, 6.460902640021548, 6.463631389799603, 6.423085853283689, 6.438719424965675, 6.448523346054486, 6.4529697261077645, 6.467205424507636, 6.468370981422114, 6.42397908809986, 6.438028060243512, 6.453833598192457], \"type\": \"scatter\", \"uid\": \"73da56c1-a5aa-44fe-996a-618393a2c6b8\"}], {}, {\"showLink\": false, \"linkText\": \"Export to plot.ly\", \"plotlyServerURL\": \"https://plot.ly\"}); \n",
       "}\n",
       "});</script><script type=\"text/javascript\">window.addEventListener(\"resize\", function(){if (document.getElementById(\"2d43539b-5fd9-438a-8870-c6e576359539\")) {window._Plotly.Plots.resize(document.getElementById(\"2d43539b-5fd9-438a-8870-c6e576359539\"));};})</script>"
      ]
     },
     "metadata": {},
     "output_type": "display_data"
    }
   ],
   "source": [
    "graph_results(b,'full',['drop', 'fulldrop','nlayers', 'lag'])"
   ]
  },
  {
   "cell_type": "markdown",
   "metadata": {
    "extensions": {
     "jupyter_dashboards": {
      "version": 1,
      "views": {
       "grid_default": {},
       "report_default": {}
      }
     }
    }
   },
   "source": [
    "Best configuration 32/0.4/1024/0.4/L12"
   ]
  },
  {
   "cell_type": "markdown",
   "metadata": {
    "extensions": {
     "jupyter_dashboards": {
      "version": 1,
      "views": {
       "grid_default": {},
       "report_default": {}
      }
     }
    }
   },
   "source": [
    "## Fit 6"
   ]
  },
  {
   "cell_type": "code",
   "execution_count": 112,
   "metadata": {
    "extensions": {
     "jupyter_dashboards": {
      "version": 1,
      "views": {
       "grid_default": {},
       "report_default": {}
      }
     }
    }
   },
   "outputs": [],
   "source": [
    "query={'experiment':'rnns2sfit6'}\n",
    "\n",
    "results = DBResults(conn=mongolocaltest)\n",
    "#results = DBResults()\n",
    "\n",
    "results.results_dataframe_retrieve(query, arch=['drop', 'neurons', 'nlayers', 'full', 'fulldrop'], data=['lag'])"
   ]
  },
  {
   "cell_type": "code",
   "execution_count": 32,
   "metadata": {
    "extensions": {
     "jupyter_dashboards": {
      "version": 1,
      "views": {
       "grid_default": {},
       "report_default": {}
      }
     }
    }
   },
   "outputs": [],
   "source": [
    "a=results.exp_df.groupby(['site', 'drop', 'neurons', 'nlayers', 'lag', 'full', 'fulldrop'],as_index=False).sum()\n",
    "a.drop(columns=['hour', 'site'], inplace=True)\n",
    "len(a)"
   ]
  },
  {
   "cell_type": "code",
   "execution_count": 113,
   "metadata": {
    "extensions": {
     "jupyter_dashboards": {
      "version": 1,
      "views": {
       "grid_default": {},
       "report_default": {}
      }
     }
    }
   },
   "outputs": [
    {
     "data": {
      "text/html": [
       "<style  type=\"text/css\" >\n",
       "    #T_619384dc_5131_11e9_975a_842b2bb021fdrow0_col7 {\n",
       "            background-color:  yellow;\n",
       "        }    #T_619384dc_5131_11e9_975a_842b2bb021fdrow1_col6 {\n",
       "            background-color:  yellow;\n",
       "        }    #T_619384dc_5131_11e9_975a_842b2bb021fdrow1_col7 {\n",
       "            background-color:  yellow;\n",
       "        }    #T_619384dc_5131_11e9_975a_842b2bb021fdrow1_col8 {\n",
       "            background-color:  yellow;\n",
       "        }    #T_619384dc_5131_11e9_975a_842b2bb021fdrow2_col7 {\n",
       "            background-color:  yellow;\n",
       "        }    #T_619384dc_5131_11e9_975a_842b2bb021fdrow3_col7 {\n",
       "            background-color:  yellow;\n",
       "        }    #T_619384dc_5131_11e9_975a_842b2bb021fdrow4_col7 {\n",
       "            background-color:  yellow;\n",
       "        }    #T_619384dc_5131_11e9_975a_842b2bb021fdrow5_col7 {\n",
       "            background-color:  yellow;\n",
       "        }    #T_619384dc_5131_11e9_975a_842b2bb021fdrow6_col7 {\n",
       "            background-color:  yellow;\n",
       "        }    #T_619384dc_5131_11e9_975a_842b2bb021fdrow7_col7 {\n",
       "            background-color:  yellow;\n",
       "        }    #T_619384dc_5131_11e9_975a_842b2bb021fdrow8_col7 {\n",
       "            background-color:  yellow;\n",
       "        }</style><table id=\"T_619384dc_5131_11e9_975a_842b2bb021fd\" ><thead>    <tr>        <th class=\"blank level0\" ></th>        <th class=\"col_heading level0 col0\" >neurons</th>        <th class=\"col_heading level0 col1\" >nlayers</th>        <th class=\"col_heading level0 col2\" >drop</th>        <th class=\"col_heading level0 col3\" >lag</th>        <th class=\"col_heading level0 col4\" >full</th>        <th class=\"col_heading level0 col5\" >fulldrop</th>        <th class=\"col_heading level0 col6\" colspan=2>test</th>        <th class=\"col_heading level0 col8\" >val</th>    </tr>    <tr>        <th class=\"blank level1\" ></th>        <th class=\"col_heading level1 col0\" ></th>        <th class=\"col_heading level1 col1\" ></th>        <th class=\"col_heading level1 col2\" ></th>        <th class=\"col_heading level1 col3\" ></th>        <th class=\"col_heading level1 col4\" ></th>        <th class=\"col_heading level1 col5\" ></th>        <th class=\"col_heading level1 col6\" >mean</th>        <th class=\"col_heading level1 col7\" >count</th>        <th class=\"col_heading level1 col8\" >mean</th>    </tr></thead><tbody>\n",
       "                <tr>\n",
       "                        <th id=\"T_619384dc_5131_11e9_975a_842b2bb021fdlevel0_row0\" class=\"row_heading level0 row0\" >2</th>\n",
       "                        <td id=\"T_619384dc_5131_11e9_975a_842b2bb021fdrow0_col0\" class=\"data row0 col0\" >32</td>\n",
       "                        <td id=\"T_619384dc_5131_11e9_975a_842b2bb021fdrow0_col1\" class=\"data row0 col1\" >2</td>\n",
       "                        <td id=\"T_619384dc_5131_11e9_975a_842b2bb021fdrow0_col2\" class=\"data row0 col2\" >0.4</td>\n",
       "                        <td id=\"T_619384dc_5131_11e9_975a_842b2bb021fdrow0_col3\" class=\"data row0 col3\" >12</td>\n",
       "                        <td id=\"T_619384dc_5131_11e9_975a_842b2bb021fdrow0_col4\" class=\"data row0 col4\" >[1024, 256]</td>\n",
       "                        <td id=\"T_619384dc_5131_11e9_975a_842b2bb021fdrow0_col5\" class=\"data row0 col5\" >0.4</td>\n",
       "                        <td id=\"T_619384dc_5131_11e9_975a_842b2bb021fdrow0_col6\" class=\"data row0 col6\" >6.89058</td>\n",
       "                        <td id=\"T_619384dc_5131_11e9_975a_842b2bb021fdrow0_col7\" class=\"data row0 col7\" >200</td>\n",
       "                        <td id=\"T_619384dc_5131_11e9_975a_842b2bb021fdrow0_col8\" class=\"data row0 col8\" >6.60534</td>\n",
       "            </tr>\n",
       "            <tr>\n",
       "                        <th id=\"T_619384dc_5131_11e9_975a_842b2bb021fdlevel0_row1\" class=\"row_heading level0 row1\" >5</th>\n",
       "                        <td id=\"T_619384dc_5131_11e9_975a_842b2bb021fdrow1_col0\" class=\"data row1 col0\" >32</td>\n",
       "                        <td id=\"T_619384dc_5131_11e9_975a_842b2bb021fdrow1_col1\" class=\"data row1 col1\" >2</td>\n",
       "                        <td id=\"T_619384dc_5131_11e9_975a_842b2bb021fdrow1_col2\" class=\"data row1 col2\" >0.4</td>\n",
       "                        <td id=\"T_619384dc_5131_11e9_975a_842b2bb021fdrow1_col3\" class=\"data row1 col3\" >12</td>\n",
       "                        <td id=\"T_619384dc_5131_11e9_975a_842b2bb021fdrow1_col4\" class=\"data row1 col4\" >[1024]</td>\n",
       "                        <td id=\"T_619384dc_5131_11e9_975a_842b2bb021fdrow1_col5\" class=\"data row1 col5\" >0.4</td>\n",
       "                        <td id=\"T_619384dc_5131_11e9_975a_842b2bb021fdrow1_col6\" class=\"data row1 col6\" >6.90807</td>\n",
       "                        <td id=\"T_619384dc_5131_11e9_975a_842b2bb021fdrow1_col7\" class=\"data row1 col7\" >200</td>\n",
       "                        <td id=\"T_619384dc_5131_11e9_975a_842b2bb021fdrow1_col8\" class=\"data row1 col8\" >6.60577</td>\n",
       "            </tr>\n",
       "            <tr>\n",
       "                        <th id=\"T_619384dc_5131_11e9_975a_842b2bb021fdlevel0_row2\" class=\"row_heading level0 row2\" >7</th>\n",
       "                        <td id=\"T_619384dc_5131_11e9_975a_842b2bb021fdrow2_col0\" class=\"data row2 col0\" >32</td>\n",
       "                        <td id=\"T_619384dc_5131_11e9_975a_842b2bb021fdrow2_col1\" class=\"data row2 col1\" >2</td>\n",
       "                        <td id=\"T_619384dc_5131_11e9_975a_842b2bb021fdrow2_col2\" class=\"data row2 col2\" >0.4</td>\n",
       "                        <td id=\"T_619384dc_5131_11e9_975a_842b2bb021fdrow2_col3\" class=\"data row2 col3\" >12</td>\n",
       "                        <td id=\"T_619384dc_5131_11e9_975a_842b2bb021fdrow2_col4\" class=\"data row2 col4\" >[2048]</td>\n",
       "                        <td id=\"T_619384dc_5131_11e9_975a_842b2bb021fdrow2_col5\" class=\"data row2 col5\" >0.3</td>\n",
       "                        <td id=\"T_619384dc_5131_11e9_975a_842b2bb021fdrow2_col6\" class=\"data row2 col6\" >6.89759</td>\n",
       "                        <td id=\"T_619384dc_5131_11e9_975a_842b2bb021fdrow2_col7\" class=\"data row2 col7\" >200</td>\n",
       "                        <td id=\"T_619384dc_5131_11e9_975a_842b2bb021fdrow2_col8\" class=\"data row2 col8\" >6.59593</td>\n",
       "            </tr>\n",
       "            <tr>\n",
       "                        <th id=\"T_619384dc_5131_11e9_975a_842b2bb021fdlevel0_row3\" class=\"row_heading level0 row3\" >8</th>\n",
       "                        <td id=\"T_619384dc_5131_11e9_975a_842b2bb021fdrow3_col0\" class=\"data row3 col0\" >32</td>\n",
       "                        <td id=\"T_619384dc_5131_11e9_975a_842b2bb021fdrow3_col1\" class=\"data row3 col1\" >2</td>\n",
       "                        <td id=\"T_619384dc_5131_11e9_975a_842b2bb021fdrow3_col2\" class=\"data row3 col2\" >0.4</td>\n",
       "                        <td id=\"T_619384dc_5131_11e9_975a_842b2bb021fdrow3_col3\" class=\"data row3 col3\" >12</td>\n",
       "                        <td id=\"T_619384dc_5131_11e9_975a_842b2bb021fdrow3_col4\" class=\"data row3 col4\" >[2048]</td>\n",
       "                        <td id=\"T_619384dc_5131_11e9_975a_842b2bb021fdrow3_col5\" class=\"data row3 col5\" >0.4</td>\n",
       "                        <td id=\"T_619384dc_5131_11e9_975a_842b2bb021fdrow3_col6\" class=\"data row3 col6\" >6.90224</td>\n",
       "                        <td id=\"T_619384dc_5131_11e9_975a_842b2bb021fdrow3_col7\" class=\"data row3 col7\" >200</td>\n",
       "                        <td id=\"T_619384dc_5131_11e9_975a_842b2bb021fdrow3_col8\" class=\"data row3 col8\" >6.60046</td>\n",
       "            </tr>\n",
       "            <tr>\n",
       "                        <th id=\"T_619384dc_5131_11e9_975a_842b2bb021fdlevel0_row4\" class=\"row_heading level0 row4\" >23</th>\n",
       "                        <td id=\"T_619384dc_5131_11e9_975a_842b2bb021fdrow4_col0\" class=\"data row4 col0\" >32</td>\n",
       "                        <td id=\"T_619384dc_5131_11e9_975a_842b2bb021fdrow4_col1\" class=\"data row4 col1\" >2</td>\n",
       "                        <td id=\"T_619384dc_5131_11e9_975a_842b2bb021fdrow4_col2\" class=\"data row4 col2\" >0.5</td>\n",
       "                        <td id=\"T_619384dc_5131_11e9_975a_842b2bb021fdrow4_col3\" class=\"data row4 col3\" >12</td>\n",
       "                        <td id=\"T_619384dc_5131_11e9_975a_842b2bb021fdrow4_col4\" class=\"data row4 col4\" >[1024]</td>\n",
       "                        <td id=\"T_619384dc_5131_11e9_975a_842b2bb021fdrow4_col5\" class=\"data row4 col5\" >0.4</td>\n",
       "                        <td id=\"T_619384dc_5131_11e9_975a_842b2bb021fdrow4_col6\" class=\"data row4 col6\" >6.8872</td>\n",
       "                        <td id=\"T_619384dc_5131_11e9_975a_842b2bb021fdrow4_col7\" class=\"data row4 col7\" >200</td>\n",
       "                        <td id=\"T_619384dc_5131_11e9_975a_842b2bb021fdrow4_col8\" class=\"data row4 col8\" >6.58253</td>\n",
       "            </tr>\n",
       "            <tr>\n",
       "                        <th id=\"T_619384dc_5131_11e9_975a_842b2bb021fdlevel0_row5\" class=\"row_heading level0 row5\" >76</th>\n",
       "                        <td id=\"T_619384dc_5131_11e9_975a_842b2bb021fdrow5_col0\" class=\"data row5 col0\" >32</td>\n",
       "                        <td id=\"T_619384dc_5131_11e9_975a_842b2bb021fdrow5_col1\" class=\"data row5 col1\" >3</td>\n",
       "                        <td id=\"T_619384dc_5131_11e9_975a_842b2bb021fdrow5_col2\" class=\"data row5 col2\" >0.4</td>\n",
       "                        <td id=\"T_619384dc_5131_11e9_975a_842b2bb021fdrow5_col3\" class=\"data row5 col3\" >12</td>\n",
       "                        <td id=\"T_619384dc_5131_11e9_975a_842b2bb021fdrow5_col4\" class=\"data row5 col4\" >[1024]</td>\n",
       "                        <td id=\"T_619384dc_5131_11e9_975a_842b2bb021fdrow5_col5\" class=\"data row5 col5\" >0.3</td>\n",
       "                        <td id=\"T_619384dc_5131_11e9_975a_842b2bb021fdrow5_col6\" class=\"data row5 col6\" >6.8925</td>\n",
       "                        <td id=\"T_619384dc_5131_11e9_975a_842b2bb021fdrow5_col7\" class=\"data row5 col7\" >200</td>\n",
       "                        <td id=\"T_619384dc_5131_11e9_975a_842b2bb021fdrow5_col8\" class=\"data row5 col8\" >6.5874</td>\n",
       "            </tr>\n",
       "            <tr>\n",
       "                        <th id=\"T_619384dc_5131_11e9_975a_842b2bb021fdlevel0_row6\" class=\"row_heading level0 row6\" >77</th>\n",
       "                        <td id=\"T_619384dc_5131_11e9_975a_842b2bb021fdrow6_col0\" class=\"data row6 col0\" >32</td>\n",
       "                        <td id=\"T_619384dc_5131_11e9_975a_842b2bb021fdrow6_col1\" class=\"data row6 col1\" >3</td>\n",
       "                        <td id=\"T_619384dc_5131_11e9_975a_842b2bb021fdrow6_col2\" class=\"data row6 col2\" >0.4</td>\n",
       "                        <td id=\"T_619384dc_5131_11e9_975a_842b2bb021fdrow6_col3\" class=\"data row6 col3\" >12</td>\n",
       "                        <td id=\"T_619384dc_5131_11e9_975a_842b2bb021fdrow6_col4\" class=\"data row6 col4\" >[1024]</td>\n",
       "                        <td id=\"T_619384dc_5131_11e9_975a_842b2bb021fdrow6_col5\" class=\"data row6 col5\" >0.4</td>\n",
       "                        <td id=\"T_619384dc_5131_11e9_975a_842b2bb021fdrow6_col6\" class=\"data row6 col6\" >6.89192</td>\n",
       "                        <td id=\"T_619384dc_5131_11e9_975a_842b2bb021fdrow6_col7\" class=\"data row6 col7\" >200</td>\n",
       "                        <td id=\"T_619384dc_5131_11e9_975a_842b2bb021fdrow6_col8\" class=\"data row6 col8\" >6.58644</td>\n",
       "            </tr>\n",
       "            <tr>\n",
       "                        <th id=\"T_619384dc_5131_11e9_975a_842b2bb021fdlevel0_row7\" class=\"row_heading level0 row7\" >79</th>\n",
       "                        <td id=\"T_619384dc_5131_11e9_975a_842b2bb021fdrow7_col0\" class=\"data row7 col0\" >32</td>\n",
       "                        <td id=\"T_619384dc_5131_11e9_975a_842b2bb021fdrow7_col1\" class=\"data row7 col1\" >3</td>\n",
       "                        <td id=\"T_619384dc_5131_11e9_975a_842b2bb021fdrow7_col2\" class=\"data row7 col2\" >0.4</td>\n",
       "                        <td id=\"T_619384dc_5131_11e9_975a_842b2bb021fdrow7_col3\" class=\"data row7 col3\" >12</td>\n",
       "                        <td id=\"T_619384dc_5131_11e9_975a_842b2bb021fdrow7_col4\" class=\"data row7 col4\" >[2048]</td>\n",
       "                        <td id=\"T_619384dc_5131_11e9_975a_842b2bb021fdrow7_col5\" class=\"data row7 col5\" >0.3</td>\n",
       "                        <td id=\"T_619384dc_5131_11e9_975a_842b2bb021fdrow7_col6\" class=\"data row7 col6\" >6.88654</td>\n",
       "                        <td id=\"T_619384dc_5131_11e9_975a_842b2bb021fdrow7_col7\" class=\"data row7 col7\" >200</td>\n",
       "                        <td id=\"T_619384dc_5131_11e9_975a_842b2bb021fdrow7_col8\" class=\"data row7 col8\" >6.57023</td>\n",
       "            </tr>\n",
       "            <tr>\n",
       "                        <th id=\"T_619384dc_5131_11e9_975a_842b2bb021fdlevel0_row8\" class=\"row_heading level0 row8\" >80</th>\n",
       "                        <td id=\"T_619384dc_5131_11e9_975a_842b2bb021fdrow8_col0\" class=\"data row8 col0\" >32</td>\n",
       "                        <td id=\"T_619384dc_5131_11e9_975a_842b2bb021fdrow8_col1\" class=\"data row8 col1\" >3</td>\n",
       "                        <td id=\"T_619384dc_5131_11e9_975a_842b2bb021fdrow8_col2\" class=\"data row8 col2\" >0.4</td>\n",
       "                        <td id=\"T_619384dc_5131_11e9_975a_842b2bb021fdrow8_col3\" class=\"data row8 col3\" >12</td>\n",
       "                        <td id=\"T_619384dc_5131_11e9_975a_842b2bb021fdrow8_col4\" class=\"data row8 col4\" >[2048]</td>\n",
       "                        <td id=\"T_619384dc_5131_11e9_975a_842b2bb021fdrow8_col5\" class=\"data row8 col5\" >0.4</td>\n",
       "                        <td id=\"T_619384dc_5131_11e9_975a_842b2bb021fdrow8_col6\" class=\"data row8 col6\" >6.8857</td>\n",
       "                        <td id=\"T_619384dc_5131_11e9_975a_842b2bb021fdrow8_col7\" class=\"data row8 col7\" >200</td>\n",
       "                        <td id=\"T_619384dc_5131_11e9_975a_842b2bb021fdrow8_col8\" class=\"data row8 col8\" >6.58117</td>\n",
       "            </tr>\n",
       "    </tbody></table>"
      ],
      "text/plain": [
       "<pandas.io.formats.style.Styler at 0x7f382c5f9588>"
      ]
     },
     "execution_count": 113,
     "metadata": {},
     "output_type": "execute_result"
    }
   ],
   "source": [
    "b =a.groupby(by=['neurons', 'nlayers', 'drop', 'lag', 'full', 'fulldrop'],as_index=False).agg({'test':['mean','count'], 'val':'mean', })\n",
    "\n",
    "b[b['test']['mean'] > 6.88].style.highlight_max()"
   ]
  },
  {
   "cell_type": "code",
   "execution_count": 114,
   "metadata": {
    "extensions": {
     "jupyter_dashboards": {
      "version": 1,
      "views": {
       "grid_default": {},
       "report_default": {}
      }
     }
    }
   },
   "outputs": [
    {
     "data": {
      "application/vnd.plotly.v1+json": {
       "config": {
        "linkText": "Export to plot.ly",
        "plotlyServerURL": "https://plot.ly",
        "showLink": false
       },
       "data": [
        {
         "marker": {
          "size": [
           40,
           40,
           40,
           40,
           40,
           40,
           40,
           40,
           40,
           40,
           40,
           40,
           40,
           40,
           40,
           40,
           40,
           40,
           40,
           40,
           40,
           40,
           40,
           40,
           40,
           40,
           40,
           40,
           40,
           40,
           40,
           40,
           40,
           40,
           40,
           40,
           40,
           40,
           40,
           40,
           40,
           40,
           40,
           40,
           40,
           40,
           40,
           40
          ]
         },
         "mode": "markers",
         "name": "[1024, 256]",
         "text": [
          "drop:0.4-fulldrop:0.2-nlayers:2-lag:12-full:[1024, 256]",
          "drop:0.4-fulldrop:0.3-nlayers:2-lag:12-full:[1024, 256]",
          "drop:0.4-fulldrop:0.4-nlayers:2-lag:12-full:[1024, 256]",
          "drop:0.4-fulldrop:0.2-nlayers:2-lag:18-full:[1024, 256]",
          "drop:0.4-fulldrop:0.3-nlayers:2-lag:18-full:[1024, 256]",
          "drop:0.4-fulldrop:0.4-nlayers:2-lag:18-full:[1024, 256]",
          "drop:0.5-fulldrop:0.2-nlayers:2-lag:12-full:[1024, 256]",
          "drop:0.5-fulldrop:0.3-nlayers:2-lag:12-full:[1024, 256]",
          "drop:0.5-fulldrop:0.4-nlayers:2-lag:12-full:[1024, 256]",
          "drop:0.5-fulldrop:0.2-nlayers:2-lag:18-full:[1024, 256]",
          "drop:0.5-fulldrop:0.3-nlayers:2-lag:18-full:[1024, 256]",
          "drop:0.5-fulldrop:0.4-nlayers:2-lag:18-full:[1024, 256]",
          "drop:0.6-fulldrop:0.2-nlayers:2-lag:12-full:[1024, 256]",
          "drop:0.6-fulldrop:0.3-nlayers:2-lag:12-full:[1024, 256]",
          "drop:0.6-fulldrop:0.4-nlayers:2-lag:12-full:[1024, 256]",
          "drop:0.6-fulldrop:0.2-nlayers:2-lag:18-full:[1024, 256]",
          "drop:0.6-fulldrop:0.3-nlayers:2-lag:18-full:[1024, 256]",
          "drop:0.6-fulldrop:0.4-nlayers:2-lag:18-full:[1024, 256]",
          "drop:0.7-fulldrop:0.2-nlayers:2-lag:12-full:[1024, 256]",
          "drop:0.7-fulldrop:0.3-nlayers:2-lag:12-full:[1024, 256]",
          "drop:0.7-fulldrop:0.4-nlayers:2-lag:12-full:[1024, 256]",
          "drop:0.7-fulldrop:0.2-nlayers:2-lag:18-full:[1024, 256]",
          "drop:0.7-fulldrop:0.3-nlayers:2-lag:18-full:[1024, 256]",
          "drop:0.7-fulldrop:0.4-nlayers:2-lag:18-full:[1024, 256]",
          "drop:0.4-fulldrop:0.2-nlayers:3-lag:12-full:[1024, 256]",
          "drop:0.4-fulldrop:0.3-nlayers:3-lag:12-full:[1024, 256]",
          "drop:0.4-fulldrop:0.4-nlayers:3-lag:12-full:[1024, 256]",
          "drop:0.4-fulldrop:0.2-nlayers:3-lag:18-full:[1024, 256]",
          "drop:0.4-fulldrop:0.3-nlayers:3-lag:18-full:[1024, 256]",
          "drop:0.4-fulldrop:0.4-nlayers:3-lag:18-full:[1024, 256]",
          "drop:0.5-fulldrop:0.2-nlayers:3-lag:12-full:[1024, 256]",
          "drop:0.5-fulldrop:0.3-nlayers:3-lag:12-full:[1024, 256]",
          "drop:0.5-fulldrop:0.4-nlayers:3-lag:12-full:[1024, 256]",
          "drop:0.5-fulldrop:0.2-nlayers:3-lag:18-full:[1024, 256]",
          "drop:0.5-fulldrop:0.3-nlayers:3-lag:18-full:[1024, 256]",
          "drop:0.5-fulldrop:0.4-nlayers:3-lag:18-full:[1024, 256]",
          "drop:0.6-fulldrop:0.2-nlayers:3-lag:12-full:[1024, 256]",
          "drop:0.6-fulldrop:0.3-nlayers:3-lag:12-full:[1024, 256]",
          "drop:0.6-fulldrop:0.4-nlayers:3-lag:12-full:[1024, 256]",
          "drop:0.6-fulldrop:0.2-nlayers:3-lag:18-full:[1024, 256]",
          "drop:0.6-fulldrop:0.3-nlayers:3-lag:18-full:[1024, 256]",
          "drop:0.6-fulldrop:0.4-nlayers:3-lag:18-full:[1024, 256]",
          "drop:0.7-fulldrop:0.2-nlayers:3-lag:12-full:[1024, 256]",
          "drop:0.7-fulldrop:0.3-nlayers:3-lag:12-full:[1024, 256]",
          "drop:0.7-fulldrop:0.4-nlayers:3-lag:12-full:[1024, 256]",
          "drop:0.7-fulldrop:0.2-nlayers:3-lag:18-full:[1024, 256]",
          "drop:0.7-fulldrop:0.3-nlayers:3-lag:18-full:[1024, 256]",
          "drop:0.7-fulldrop:0.4-nlayers:3-lag:18-full:[1024, 256]"
         ],
         "type": "scatter",
         "uid": "0cb8e33a-0652-46a1-b3f6-4cb29cf8f0a7",
         "x": [
          6.822212241240335,
          6.81831054073622,
          6.890584894261054,
          6.809521813622049,
          6.798796410416408,
          6.850368807577008,
          6.816696611201237,
          6.8699991566442975,
          6.875682874148738,
          6.802407985614466,
          6.790773206239778,
          6.7859062589708765,
          6.814988045899787,
          6.722429523355402,
          6.651136792979314,
          6.7993386933606965,
          6.797073554574318,
          6.785470544600144,
          6.823655242265036,
          6.813737133047819,
          6.8075225044200876,
          6.798111004686108,
          6.802337351652991,
          6.790156964873081,
          6.790715087867984,
          6.8483919073588595,
          6.863430107413833,
          6.765338604730545,
          6.820091996869495,
          6.808113448539235,
          6.786657487617943,
          6.78397036399964,
          6.822505240630157,
          6.7658488037037285,
          6.761897555329905,
          6.749939150073892,
          6.78377655359053,
          6.769510493656817,
          6.773327528706305,
          6.763281447591493,
          6.759788967302623,
          6.75621035421991,
          6.783964587456833,
          6.783966300227057,
          6.77358092610456,
          6.764168665919774,
          6.755398425001281,
          6.750671121876064
         ],
         "y": [
          6.513972891418986,
          6.519992516295925,
          6.605337123453242,
          6.4964963146766195,
          6.4933873101667805,
          6.5593442050694035,
          6.512552444758469,
          6.575089595144422,
          6.584123831661047,
          6.493463245925266,
          6.495110283343859,
          6.4844913132767985,
          6.519092970209669,
          6.450512316126944,
          6.388321672781014,
          6.484968283015199,
          6.495165721322715,
          6.48930099291685,
          6.515462123628975,
          6.515029360322217,
          6.512750249001879,
          6.4884501494891245,
          6.495976239779635,
          6.496847834001677,
          6.481643489987009,
          6.549890895724479,
          6.573656708397473,
          6.450395798227952,
          6.524870031094285,
          6.520453373030896,
          6.484966861343708,
          6.483272666230232,
          6.539437002378745,
          6.458380042370524,
          6.462281924236274,
          6.464648288932426,
          6.481631667706001,
          6.471314955425344,
          6.4777475641532885,
          6.460741277552906,
          6.460831481069074,
          6.4577004273457055,
          6.468557159244269,
          6.480524088353798,
          6.4773041786516785,
          6.457521007771535,
          6.456763223919884,
          6.453763396715948
         ]
        },
        {
         "marker": {
          "size": [
           40,
           40,
           40,
           40,
           40,
           40,
           40,
           40,
           40,
           40,
           40,
           40,
           40,
           40,
           40,
           40,
           40,
           40,
           40,
           40,
           40,
           40,
           40,
           40,
           40,
           40,
           40,
           40,
           40,
           40,
           40,
           40,
           40,
           40,
           40,
           40,
           40,
           40,
           40,
           40,
           40,
           40,
           40,
           40,
           40,
           40,
           40,
           40
          ]
         },
         "mode": "markers",
         "name": "[1024]",
         "text": [
          "drop:0.4-fulldrop:0.2-nlayers:2-lag:12-full:[1024]",
          "drop:0.4-fulldrop:0.3-nlayers:2-lag:12-full:[1024]",
          "drop:0.4-fulldrop:0.4-nlayers:2-lag:12-full:[1024]",
          "drop:0.4-fulldrop:0.2-nlayers:2-lag:18-full:[1024]",
          "drop:0.4-fulldrop:0.3-nlayers:2-lag:18-full:[1024]",
          "drop:0.4-fulldrop:0.4-nlayers:2-lag:18-full:[1024]",
          "drop:0.5-fulldrop:0.2-nlayers:2-lag:12-full:[1024]",
          "drop:0.5-fulldrop:0.3-nlayers:2-lag:12-full:[1024]",
          "drop:0.5-fulldrop:0.4-nlayers:2-lag:12-full:[1024]",
          "drop:0.5-fulldrop:0.2-nlayers:2-lag:18-full:[1024]",
          "drop:0.5-fulldrop:0.3-nlayers:2-lag:18-full:[1024]",
          "drop:0.5-fulldrop:0.4-nlayers:2-lag:18-full:[1024]",
          "drop:0.6-fulldrop:0.2-nlayers:2-lag:12-full:[1024]",
          "drop:0.6-fulldrop:0.3-nlayers:2-lag:12-full:[1024]",
          "drop:0.6-fulldrop:0.4-nlayers:2-lag:12-full:[1024]",
          "drop:0.6-fulldrop:0.2-nlayers:2-lag:18-full:[1024]",
          "drop:0.6-fulldrop:0.3-nlayers:2-lag:18-full:[1024]",
          "drop:0.6-fulldrop:0.4-nlayers:2-lag:18-full:[1024]",
          "drop:0.7-fulldrop:0.2-nlayers:2-lag:12-full:[1024]",
          "drop:0.7-fulldrop:0.3-nlayers:2-lag:12-full:[1024]",
          "drop:0.7-fulldrop:0.4-nlayers:2-lag:12-full:[1024]",
          "drop:0.7-fulldrop:0.2-nlayers:2-lag:18-full:[1024]",
          "drop:0.7-fulldrop:0.3-nlayers:2-lag:18-full:[1024]",
          "drop:0.7-fulldrop:0.4-nlayers:2-lag:18-full:[1024]",
          "drop:0.4-fulldrop:0.2-nlayers:3-lag:12-full:[1024]",
          "drop:0.4-fulldrop:0.3-nlayers:3-lag:12-full:[1024]",
          "drop:0.4-fulldrop:0.4-nlayers:3-lag:12-full:[1024]",
          "drop:0.4-fulldrop:0.2-nlayers:3-lag:18-full:[1024]",
          "drop:0.4-fulldrop:0.3-nlayers:3-lag:18-full:[1024]",
          "drop:0.4-fulldrop:0.4-nlayers:3-lag:18-full:[1024]",
          "drop:0.5-fulldrop:0.2-nlayers:3-lag:12-full:[1024]",
          "drop:0.5-fulldrop:0.3-nlayers:3-lag:12-full:[1024]",
          "drop:0.5-fulldrop:0.4-nlayers:3-lag:12-full:[1024]",
          "drop:0.5-fulldrop:0.2-nlayers:3-lag:18-full:[1024]",
          "drop:0.5-fulldrop:0.3-nlayers:3-lag:18-full:[1024]",
          "drop:0.5-fulldrop:0.4-nlayers:3-lag:18-full:[1024]",
          "drop:0.6-fulldrop:0.2-nlayers:3-lag:12-full:[1024]",
          "drop:0.6-fulldrop:0.3-nlayers:3-lag:12-full:[1024]",
          "drop:0.6-fulldrop:0.4-nlayers:3-lag:12-full:[1024]",
          "drop:0.6-fulldrop:0.2-nlayers:3-lag:18-full:[1024]",
          "drop:0.6-fulldrop:0.3-nlayers:3-lag:18-full:[1024]",
          "drop:0.6-fulldrop:0.4-nlayers:3-lag:18-full:[1024]",
          "drop:0.7-fulldrop:0.2-nlayers:3-lag:12-full:[1024]",
          "drop:0.7-fulldrop:0.3-nlayers:3-lag:12-full:[1024]",
          "drop:0.7-fulldrop:0.4-nlayers:3-lag:12-full:[1024]",
          "drop:0.7-fulldrop:0.2-nlayers:3-lag:18-full:[1024]",
          "drop:0.7-fulldrop:0.3-nlayers:3-lag:18-full:[1024]",
          "drop:0.7-fulldrop:0.4-nlayers:3-lag:18-full:[1024]"
         ],
         "type": "scatter",
         "uid": "f74b1955-dca2-4038-8bab-d20b7a6818be",
         "x": [
          6.799834993860574,
          6.811684477198802,
          6.9080683707822255,
          6.784539198732882,
          6.79744274992692,
          6.859103217077047,
          6.802209344990517,
          6.847415153246142,
          6.887204305232341,
          6.783462842927636,
          6.78615042819283,
          6.796691436804696,
          6.80218979117268,
          6.776712775790217,
          6.76406407301857,
          6.783562935713621,
          6.790486520463387,
          6.798053744465346,
          6.799912237203099,
          6.8132082663710385,
          6.818932808824683,
          6.777945679933096,
          6.7929442221955245,
          6.802161470853474,
          6.7726196544972925,
          6.892499379365054,
          6.891923579870077,
          6.752135650811978,
          6.835636480227132,
          6.836018585417918,
          6.780745018155484,
          6.862080716988234,
          6.808445354484924,
          6.753047467492049,
          6.760379009055503,
          6.767702476570074,
          6.77537995131371,
          6.765745260425715,
          6.785956633000674,
          6.75711722636819,
          6.762313399165898,
          6.7607317739947215,
          6.773511528665784,
          6.786756666142303,
          6.793541349636554,
          6.748830112335313,
          6.763445549488921,
          6.7620589716740644
         ],
         "y": [
          6.492774566622514,
          6.501326788475693,
          6.605766703839353,
          6.464440437742976,
          6.489612058969814,
          6.551189586183395,
          6.498485325403906,
          6.548330681209486,
          6.582533485189258,
          6.4762343369244455,
          6.478537870346352,
          6.483152286946785,
          6.491315720270046,
          6.470467813890938,
          6.465388099615459,
          6.4679443925980635,
          6.4925731553878565,
          6.489891829982351,
          6.491026053712116,
          6.499042010398039,
          6.513813329348059,
          6.462770543533528,
          6.479639132669571,
          6.49294741568534,
          6.4619516137820945,
          6.587399824660281,
          6.586444627041719,
          6.4334833615601426,
          6.530657178870913,
          6.536603311990154,
          6.469216531743126,
          6.561767913654368,
          6.492153322705857,
          6.433444240371113,
          6.456098979778652,
          6.45829090347231,
          6.4625389281638865,
          6.468318721349398,
          6.483184203705525,
          6.443866047950349,
          6.451601515893599,
          6.4535502673935605,
          6.459848930449329,
          6.471423372416525,
          6.480159532843271,
          6.4433935411198,
          6.450205190023664,
          6.458171910912764
         ]
        },
        {
         "marker": {
          "size": [
           40,
           40,
           40,
           40,
           40,
           40,
           40,
           40,
           40,
           40,
           40,
           40,
           40,
           40,
           40,
           40,
           40,
           40,
           40,
           40,
           40,
           40,
           40,
           40,
           40,
           40,
           40,
           40,
           40,
           40,
           40,
           40,
           40,
           40,
           40,
           40,
           40,
           40,
           40,
           40,
           40,
           40,
           40,
           40,
           40,
           40,
           40,
           40
          ]
         },
         "mode": "markers",
         "name": "[2048]",
         "text": [
          "drop:0.4-fulldrop:0.2-nlayers:2-lag:12-full:[2048]",
          "drop:0.4-fulldrop:0.3-nlayers:2-lag:12-full:[2048]",
          "drop:0.4-fulldrop:0.4-nlayers:2-lag:12-full:[2048]",
          "drop:0.4-fulldrop:0.2-nlayers:2-lag:18-full:[2048]",
          "drop:0.4-fulldrop:0.3-nlayers:2-lag:18-full:[2048]",
          "drop:0.4-fulldrop:0.4-nlayers:2-lag:18-full:[2048]",
          "drop:0.5-fulldrop:0.2-nlayers:2-lag:12-full:[2048]",
          "drop:0.5-fulldrop:0.3-nlayers:2-lag:12-full:[2048]",
          "drop:0.5-fulldrop:0.4-nlayers:2-lag:12-full:[2048]",
          "drop:0.5-fulldrop:0.2-nlayers:2-lag:18-full:[2048]",
          "drop:0.5-fulldrop:0.3-nlayers:2-lag:18-full:[2048]",
          "drop:0.5-fulldrop:0.4-nlayers:2-lag:18-full:[2048]",
          "drop:0.6-fulldrop:0.2-nlayers:2-lag:12-full:[2048]",
          "drop:0.6-fulldrop:0.3-nlayers:2-lag:12-full:[2048]",
          "drop:0.6-fulldrop:0.4-nlayers:2-lag:12-full:[2048]",
          "drop:0.6-fulldrop:0.2-nlayers:2-lag:18-full:[2048]",
          "drop:0.6-fulldrop:0.3-nlayers:2-lag:18-full:[2048]",
          "drop:0.6-fulldrop:0.4-nlayers:2-lag:18-full:[2048]",
          "drop:0.7-fulldrop:0.2-nlayers:2-lag:12-full:[2048]",
          "drop:0.7-fulldrop:0.3-nlayers:2-lag:12-full:[2048]",
          "drop:0.7-fulldrop:0.4-nlayers:2-lag:12-full:[2048]",
          "drop:0.7-fulldrop:0.2-nlayers:2-lag:18-full:[2048]",
          "drop:0.7-fulldrop:0.3-nlayers:2-lag:18-full:[2048]",
          "drop:0.7-fulldrop:0.4-nlayers:2-lag:18-full:[2048]",
          "drop:0.4-fulldrop:0.2-nlayers:3-lag:12-full:[2048]",
          "drop:0.4-fulldrop:0.3-nlayers:3-lag:12-full:[2048]",
          "drop:0.4-fulldrop:0.4-nlayers:3-lag:12-full:[2048]",
          "drop:0.4-fulldrop:0.2-nlayers:3-lag:18-full:[2048]",
          "drop:0.4-fulldrop:0.3-nlayers:3-lag:18-full:[2048]",
          "drop:0.4-fulldrop:0.4-nlayers:3-lag:18-full:[2048]",
          "drop:0.5-fulldrop:0.2-nlayers:3-lag:12-full:[2048]",
          "drop:0.5-fulldrop:0.3-nlayers:3-lag:12-full:[2048]",
          "drop:0.5-fulldrop:0.4-nlayers:3-lag:12-full:[2048]",
          "drop:0.5-fulldrop:0.2-nlayers:3-lag:18-full:[2048]",
          "drop:0.5-fulldrop:0.3-nlayers:3-lag:18-full:[2048]",
          "drop:0.5-fulldrop:0.4-nlayers:3-lag:18-full:[2048]",
          "drop:0.6-fulldrop:0.2-nlayers:3-lag:12-full:[2048]",
          "drop:0.6-fulldrop:0.3-nlayers:3-lag:12-full:[2048]",
          "drop:0.6-fulldrop:0.4-nlayers:3-lag:12-full:[2048]",
          "drop:0.6-fulldrop:0.2-nlayers:3-lag:18-full:[2048]",
          "drop:0.6-fulldrop:0.3-nlayers:3-lag:18-full:[2048]",
          "drop:0.6-fulldrop:0.4-nlayers:3-lag:18-full:[2048]",
          "drop:0.7-fulldrop:0.2-nlayers:3-lag:12-full:[2048]",
          "drop:0.7-fulldrop:0.3-nlayers:3-lag:12-full:[2048]",
          "drop:0.7-fulldrop:0.4-nlayers:3-lag:12-full:[2048]",
          "drop:0.7-fulldrop:0.2-nlayers:3-lag:18-full:[2048]",
          "drop:0.7-fulldrop:0.3-nlayers:3-lag:18-full:[2048]",
          "drop:0.7-fulldrop:0.4-nlayers:3-lag:18-full:[2048]"
         ],
         "type": "scatter",
         "uid": "9bcd620c-4a08-4341-b936-6b86518f7b5d",
         "x": [
          6.788229127612115,
          6.897591827661469,
          6.902240349664717,
          6.761823733039162,
          6.845307264381572,
          6.8568190062959395,
          6.783771024962159,
          6.87259818028875,
          6.8756875387679335,
          6.7684294589804646,
          6.776029129954139,
          6.78629994600175,
          6.794251322120136,
          6.783405607682535,
          6.79351840101858,
          6.7659362863048385,
          6.783277296336389,
          6.784872445318293,
          6.787109431098584,
          6.801470990153061,
          6.809854998703155,
          6.7708729144753805,
          6.782585185046433,
          6.787755941228523,
          6.759690433138807,
          6.886540167805144,
          6.885702499315732,
          6.734547744939916,
          6.7675607215177624,
          6.820076323165705,
          6.761061945639727,
          6.780132939772845,
          6.804399256061596,
          6.743794864362575,
          6.757500596565128,
          6.759436715752729,
          6.76613524995563,
          6.773143989748888,
          6.767106186366378,
          6.739967937251715,
          6.747037008767509,
          6.7510191888159765,
          6.764473313264944,
          6.773746462870999,
          6.782502733864037,
          6.7390948019235415,
          6.747813755086941,
          6.75894059867789
         ],
         "y": [
          6.47736530536082,
          6.595934453462129,
          6.60045747754078,
          6.452208480842963,
          6.528078414165327,
          6.543841396455241,
          6.480940352189913,
          6.571769369049098,
          6.577778573237468,
          6.458264888966685,
          6.468570398734744,
          6.483767788990666,
          6.484635234555563,
          6.478105222624419,
          6.490771509347527,
          6.4491125367830735,
          6.465912100123756,
          6.479450397642097,
          6.475567056061484,
          6.493532270467605,
          6.497299673529588,
          6.452908992761914,
          6.469579710449093,
          6.481429076589836,
          6.450090842260705,
          6.570231192138947,
          6.581169882192914,
          6.42350669338453,
          6.446254188439313,
          6.511069023594979,
          6.448803463648428,
          6.459082509397003,
          6.504868728639783,
          6.42656220653,
          6.447494391381035,
          6.442021522454396,
          6.453609748493317,
          6.460902640021548,
          6.463631389799603,
          6.423085853283689,
          6.438719424965675,
          6.448523346054486,
          6.4529697261077645,
          6.467205424507636,
          6.468370981422114,
          6.42397908809986,
          6.438028060243512,
          6.453833598192457
         ]
        }
       ],
       "layout": {}
      },
      "text/html": [
       "<div id=\"082296ce-3926-4b8e-919c-718a0c7287d0\" style=\"height: 525px; width: 100%;\" class=\"plotly-graph-div\"></div><script type=\"text/javascript\">require([\"plotly\"], function(Plotly) { window.PLOTLYENV=window.PLOTLYENV || {};window.PLOTLYENV.BASE_URL=\"https://plot.ly\";\n",
       "if (document.getElementById(\"082296ce-3926-4b8e-919c-718a0c7287d0\")) {\n",
       "    Plotly.newPlot(\"082296ce-3926-4b8e-919c-718a0c7287d0\", [{\"marker\": {\"size\": [40.0, 40.0, 40.0, 40.0, 40.0, 40.0, 40.0, 40.0, 40.0, 40.0, 40.0, 40.0, 40.0, 40.0, 40.0, 40.0, 40.0, 40.0, 40.0, 40.0, 40.0, 40.0, 40.0, 40.0, 40.0, 40.0, 40.0, 40.0, 40.0, 40.0, 40.0, 40.0, 40.0, 40.0, 40.0, 40.0, 40.0, 40.0, 40.0, 40.0, 40.0, 40.0, 40.0, 40.0, 40.0, 40.0, 40.0, 40.0]}, \"mode\": \"markers\", \"name\": \"[1024, 256]\", \"text\": [\"drop:0.4-fulldrop:0.2-nlayers:2-lag:12-full:[1024, 256]\", \"drop:0.4-fulldrop:0.3-nlayers:2-lag:12-full:[1024, 256]\", \"drop:0.4-fulldrop:0.4-nlayers:2-lag:12-full:[1024, 256]\", \"drop:0.4-fulldrop:0.2-nlayers:2-lag:18-full:[1024, 256]\", \"drop:0.4-fulldrop:0.3-nlayers:2-lag:18-full:[1024, 256]\", \"drop:0.4-fulldrop:0.4-nlayers:2-lag:18-full:[1024, 256]\", \"drop:0.5-fulldrop:0.2-nlayers:2-lag:12-full:[1024, 256]\", \"drop:0.5-fulldrop:0.3-nlayers:2-lag:12-full:[1024, 256]\", \"drop:0.5-fulldrop:0.4-nlayers:2-lag:12-full:[1024, 256]\", \"drop:0.5-fulldrop:0.2-nlayers:2-lag:18-full:[1024, 256]\", \"drop:0.5-fulldrop:0.3-nlayers:2-lag:18-full:[1024, 256]\", \"drop:0.5-fulldrop:0.4-nlayers:2-lag:18-full:[1024, 256]\", \"drop:0.6-fulldrop:0.2-nlayers:2-lag:12-full:[1024, 256]\", \"drop:0.6-fulldrop:0.3-nlayers:2-lag:12-full:[1024, 256]\", \"drop:0.6-fulldrop:0.4-nlayers:2-lag:12-full:[1024, 256]\", \"drop:0.6-fulldrop:0.2-nlayers:2-lag:18-full:[1024, 256]\", \"drop:0.6-fulldrop:0.3-nlayers:2-lag:18-full:[1024, 256]\", \"drop:0.6-fulldrop:0.4-nlayers:2-lag:18-full:[1024, 256]\", \"drop:0.7-fulldrop:0.2-nlayers:2-lag:12-full:[1024, 256]\", \"drop:0.7-fulldrop:0.3-nlayers:2-lag:12-full:[1024, 256]\", \"drop:0.7-fulldrop:0.4-nlayers:2-lag:12-full:[1024, 256]\", \"drop:0.7-fulldrop:0.2-nlayers:2-lag:18-full:[1024, 256]\", \"drop:0.7-fulldrop:0.3-nlayers:2-lag:18-full:[1024, 256]\", \"drop:0.7-fulldrop:0.4-nlayers:2-lag:18-full:[1024, 256]\", \"drop:0.4-fulldrop:0.2-nlayers:3-lag:12-full:[1024, 256]\", \"drop:0.4-fulldrop:0.3-nlayers:3-lag:12-full:[1024, 256]\", \"drop:0.4-fulldrop:0.4-nlayers:3-lag:12-full:[1024, 256]\", \"drop:0.4-fulldrop:0.2-nlayers:3-lag:18-full:[1024, 256]\", \"drop:0.4-fulldrop:0.3-nlayers:3-lag:18-full:[1024, 256]\", \"drop:0.4-fulldrop:0.4-nlayers:3-lag:18-full:[1024, 256]\", \"drop:0.5-fulldrop:0.2-nlayers:3-lag:12-full:[1024, 256]\", \"drop:0.5-fulldrop:0.3-nlayers:3-lag:12-full:[1024, 256]\", \"drop:0.5-fulldrop:0.4-nlayers:3-lag:12-full:[1024, 256]\", \"drop:0.5-fulldrop:0.2-nlayers:3-lag:18-full:[1024, 256]\", \"drop:0.5-fulldrop:0.3-nlayers:3-lag:18-full:[1024, 256]\", \"drop:0.5-fulldrop:0.4-nlayers:3-lag:18-full:[1024, 256]\", \"drop:0.6-fulldrop:0.2-nlayers:3-lag:12-full:[1024, 256]\", \"drop:0.6-fulldrop:0.3-nlayers:3-lag:12-full:[1024, 256]\", \"drop:0.6-fulldrop:0.4-nlayers:3-lag:12-full:[1024, 256]\", \"drop:0.6-fulldrop:0.2-nlayers:3-lag:18-full:[1024, 256]\", \"drop:0.6-fulldrop:0.3-nlayers:3-lag:18-full:[1024, 256]\", \"drop:0.6-fulldrop:0.4-nlayers:3-lag:18-full:[1024, 256]\", \"drop:0.7-fulldrop:0.2-nlayers:3-lag:12-full:[1024, 256]\", \"drop:0.7-fulldrop:0.3-nlayers:3-lag:12-full:[1024, 256]\", \"drop:0.7-fulldrop:0.4-nlayers:3-lag:12-full:[1024, 256]\", \"drop:0.7-fulldrop:0.2-nlayers:3-lag:18-full:[1024, 256]\", \"drop:0.7-fulldrop:0.3-nlayers:3-lag:18-full:[1024, 256]\", \"drop:0.7-fulldrop:0.4-nlayers:3-lag:18-full:[1024, 256]\"], \"x\": [6.822212241240335, 6.81831054073622, 6.890584894261054, 6.809521813622049, 6.798796410416408, 6.850368807577008, 6.816696611201237, 6.8699991566442975, 6.875682874148738, 6.802407985614466, 6.790773206239778, 6.7859062589708765, 6.814988045899787, 6.722429523355402, 6.651136792979314, 6.7993386933606965, 6.797073554574318, 6.785470544600144, 6.823655242265036, 6.813737133047819, 6.8075225044200876, 6.798111004686108, 6.802337351652991, 6.790156964873081, 6.790715087867984, 6.8483919073588595, 6.863430107413833, 6.765338604730545, 6.820091996869495, 6.808113448539235, 6.786657487617943, 6.78397036399964, 6.822505240630157, 6.7658488037037285, 6.761897555329905, 6.749939150073892, 6.78377655359053, 6.769510493656817, 6.773327528706305, 6.763281447591493, 6.759788967302623, 6.75621035421991, 6.783964587456833, 6.783966300227057, 6.77358092610456, 6.764168665919774, 6.755398425001281, 6.750671121876064], \"y\": [6.513972891418986, 6.519992516295925, 6.605337123453242, 6.4964963146766195, 6.4933873101667805, 6.5593442050694035, 6.512552444758469, 6.575089595144422, 6.584123831661047, 6.493463245925266, 6.495110283343859, 6.4844913132767985, 6.519092970209669, 6.450512316126944, 6.388321672781014, 6.484968283015199, 6.495165721322715, 6.48930099291685, 6.515462123628975, 6.515029360322217, 6.512750249001879, 6.4884501494891245, 6.495976239779635, 6.496847834001677, 6.481643489987009, 6.549890895724479, 6.573656708397473, 6.450395798227952, 6.524870031094285, 6.520453373030896, 6.484966861343708, 6.483272666230232, 6.539437002378745, 6.458380042370524, 6.462281924236274, 6.464648288932426, 6.481631667706001, 6.471314955425344, 6.4777475641532885, 6.460741277552906, 6.460831481069074, 6.4577004273457055, 6.468557159244269, 6.480524088353798, 6.4773041786516785, 6.457521007771535, 6.456763223919884, 6.453763396715948], \"type\": \"scatter\", \"uid\": \"8a4457d1-f74e-46ad-ba82-564de9bf9890\"}, {\"marker\": {\"size\": [40.0, 40.0, 40.0, 40.0, 40.0, 40.0, 40.0, 40.0, 40.0, 40.0, 40.0, 40.0, 40.0, 40.0, 40.0, 40.0, 40.0, 40.0, 40.0, 40.0, 40.0, 40.0, 40.0, 40.0, 40.0, 40.0, 40.0, 40.0, 40.0, 40.0, 40.0, 40.0, 40.0, 40.0, 40.0, 40.0, 40.0, 40.0, 40.0, 40.0, 40.0, 40.0, 40.0, 40.0, 40.0, 40.0, 40.0, 40.0]}, \"mode\": \"markers\", \"name\": \"[1024]\", \"text\": [\"drop:0.4-fulldrop:0.2-nlayers:2-lag:12-full:[1024]\", \"drop:0.4-fulldrop:0.3-nlayers:2-lag:12-full:[1024]\", \"drop:0.4-fulldrop:0.4-nlayers:2-lag:12-full:[1024]\", \"drop:0.4-fulldrop:0.2-nlayers:2-lag:18-full:[1024]\", \"drop:0.4-fulldrop:0.3-nlayers:2-lag:18-full:[1024]\", \"drop:0.4-fulldrop:0.4-nlayers:2-lag:18-full:[1024]\", \"drop:0.5-fulldrop:0.2-nlayers:2-lag:12-full:[1024]\", \"drop:0.5-fulldrop:0.3-nlayers:2-lag:12-full:[1024]\", \"drop:0.5-fulldrop:0.4-nlayers:2-lag:12-full:[1024]\", \"drop:0.5-fulldrop:0.2-nlayers:2-lag:18-full:[1024]\", \"drop:0.5-fulldrop:0.3-nlayers:2-lag:18-full:[1024]\", \"drop:0.5-fulldrop:0.4-nlayers:2-lag:18-full:[1024]\", \"drop:0.6-fulldrop:0.2-nlayers:2-lag:12-full:[1024]\", \"drop:0.6-fulldrop:0.3-nlayers:2-lag:12-full:[1024]\", \"drop:0.6-fulldrop:0.4-nlayers:2-lag:12-full:[1024]\", \"drop:0.6-fulldrop:0.2-nlayers:2-lag:18-full:[1024]\", \"drop:0.6-fulldrop:0.3-nlayers:2-lag:18-full:[1024]\", \"drop:0.6-fulldrop:0.4-nlayers:2-lag:18-full:[1024]\", \"drop:0.7-fulldrop:0.2-nlayers:2-lag:12-full:[1024]\", \"drop:0.7-fulldrop:0.3-nlayers:2-lag:12-full:[1024]\", \"drop:0.7-fulldrop:0.4-nlayers:2-lag:12-full:[1024]\", \"drop:0.7-fulldrop:0.2-nlayers:2-lag:18-full:[1024]\", \"drop:0.7-fulldrop:0.3-nlayers:2-lag:18-full:[1024]\", \"drop:0.7-fulldrop:0.4-nlayers:2-lag:18-full:[1024]\", \"drop:0.4-fulldrop:0.2-nlayers:3-lag:12-full:[1024]\", \"drop:0.4-fulldrop:0.3-nlayers:3-lag:12-full:[1024]\", \"drop:0.4-fulldrop:0.4-nlayers:3-lag:12-full:[1024]\", \"drop:0.4-fulldrop:0.2-nlayers:3-lag:18-full:[1024]\", \"drop:0.4-fulldrop:0.3-nlayers:3-lag:18-full:[1024]\", \"drop:0.4-fulldrop:0.4-nlayers:3-lag:18-full:[1024]\", \"drop:0.5-fulldrop:0.2-nlayers:3-lag:12-full:[1024]\", \"drop:0.5-fulldrop:0.3-nlayers:3-lag:12-full:[1024]\", \"drop:0.5-fulldrop:0.4-nlayers:3-lag:12-full:[1024]\", \"drop:0.5-fulldrop:0.2-nlayers:3-lag:18-full:[1024]\", \"drop:0.5-fulldrop:0.3-nlayers:3-lag:18-full:[1024]\", \"drop:0.5-fulldrop:0.4-nlayers:3-lag:18-full:[1024]\", \"drop:0.6-fulldrop:0.2-nlayers:3-lag:12-full:[1024]\", \"drop:0.6-fulldrop:0.3-nlayers:3-lag:12-full:[1024]\", \"drop:0.6-fulldrop:0.4-nlayers:3-lag:12-full:[1024]\", \"drop:0.6-fulldrop:0.2-nlayers:3-lag:18-full:[1024]\", \"drop:0.6-fulldrop:0.3-nlayers:3-lag:18-full:[1024]\", \"drop:0.6-fulldrop:0.4-nlayers:3-lag:18-full:[1024]\", \"drop:0.7-fulldrop:0.2-nlayers:3-lag:12-full:[1024]\", \"drop:0.7-fulldrop:0.3-nlayers:3-lag:12-full:[1024]\", \"drop:0.7-fulldrop:0.4-nlayers:3-lag:12-full:[1024]\", \"drop:0.7-fulldrop:0.2-nlayers:3-lag:18-full:[1024]\", \"drop:0.7-fulldrop:0.3-nlayers:3-lag:18-full:[1024]\", \"drop:0.7-fulldrop:0.4-nlayers:3-lag:18-full:[1024]\"], \"x\": [6.799834993860574, 6.811684477198802, 6.9080683707822255, 6.784539198732882, 6.79744274992692, 6.859103217077047, 6.802209344990517, 6.847415153246142, 6.887204305232341, 6.783462842927636, 6.78615042819283, 6.796691436804696, 6.80218979117268, 6.776712775790217, 6.76406407301857, 6.783562935713621, 6.790486520463387, 6.798053744465346, 6.799912237203099, 6.8132082663710385, 6.818932808824683, 6.777945679933096, 6.7929442221955245, 6.802161470853474, 6.7726196544972925, 6.892499379365054, 6.891923579870077, 6.752135650811978, 6.835636480227132, 6.836018585417918, 6.780745018155484, 6.862080716988234, 6.808445354484924, 6.753047467492049, 6.760379009055503, 6.767702476570074, 6.77537995131371, 6.765745260425715, 6.785956633000674, 6.75711722636819, 6.762313399165898, 6.7607317739947215, 6.773511528665784, 6.786756666142303, 6.793541349636554, 6.748830112335313, 6.763445549488921, 6.7620589716740644], \"y\": [6.492774566622514, 6.501326788475693, 6.605766703839353, 6.464440437742976, 6.489612058969814, 6.551189586183395, 6.498485325403906, 6.548330681209486, 6.582533485189258, 6.4762343369244455, 6.478537870346352, 6.483152286946785, 6.491315720270046, 6.470467813890938, 6.465388099615459, 6.4679443925980635, 6.4925731553878565, 6.489891829982351, 6.491026053712116, 6.499042010398039, 6.513813329348059, 6.462770543533528, 6.479639132669571, 6.49294741568534, 6.4619516137820945, 6.587399824660281, 6.586444627041719, 6.4334833615601426, 6.530657178870913, 6.536603311990154, 6.469216531743126, 6.561767913654368, 6.492153322705857, 6.433444240371113, 6.456098979778652, 6.45829090347231, 6.4625389281638865, 6.468318721349398, 6.483184203705525, 6.443866047950349, 6.451601515893599, 6.4535502673935605, 6.459848930449329, 6.471423372416525, 6.480159532843271, 6.4433935411198, 6.450205190023664, 6.458171910912764], \"type\": \"scatter\", \"uid\": \"b7918d22-6cec-4bb5-8453-a9f0dcd470be\"}, {\"marker\": {\"size\": [40.0, 40.0, 40.0, 40.0, 40.0, 40.0, 40.0, 40.0, 40.0, 40.0, 40.0, 40.0, 40.0, 40.0, 40.0, 40.0, 40.0, 40.0, 40.0, 40.0, 40.0, 40.0, 40.0, 40.0, 40.0, 40.0, 40.0, 40.0, 40.0, 40.0, 40.0, 40.0, 40.0, 40.0, 40.0, 40.0, 40.0, 40.0, 40.0, 40.0, 40.0, 40.0, 40.0, 40.0, 40.0, 40.0, 40.0, 40.0]}, \"mode\": \"markers\", \"name\": \"[2048]\", \"text\": [\"drop:0.4-fulldrop:0.2-nlayers:2-lag:12-full:[2048]\", \"drop:0.4-fulldrop:0.3-nlayers:2-lag:12-full:[2048]\", \"drop:0.4-fulldrop:0.4-nlayers:2-lag:12-full:[2048]\", \"drop:0.4-fulldrop:0.2-nlayers:2-lag:18-full:[2048]\", \"drop:0.4-fulldrop:0.3-nlayers:2-lag:18-full:[2048]\", \"drop:0.4-fulldrop:0.4-nlayers:2-lag:18-full:[2048]\", \"drop:0.5-fulldrop:0.2-nlayers:2-lag:12-full:[2048]\", \"drop:0.5-fulldrop:0.3-nlayers:2-lag:12-full:[2048]\", \"drop:0.5-fulldrop:0.4-nlayers:2-lag:12-full:[2048]\", \"drop:0.5-fulldrop:0.2-nlayers:2-lag:18-full:[2048]\", \"drop:0.5-fulldrop:0.3-nlayers:2-lag:18-full:[2048]\", \"drop:0.5-fulldrop:0.4-nlayers:2-lag:18-full:[2048]\", \"drop:0.6-fulldrop:0.2-nlayers:2-lag:12-full:[2048]\", \"drop:0.6-fulldrop:0.3-nlayers:2-lag:12-full:[2048]\", \"drop:0.6-fulldrop:0.4-nlayers:2-lag:12-full:[2048]\", \"drop:0.6-fulldrop:0.2-nlayers:2-lag:18-full:[2048]\", \"drop:0.6-fulldrop:0.3-nlayers:2-lag:18-full:[2048]\", \"drop:0.6-fulldrop:0.4-nlayers:2-lag:18-full:[2048]\", \"drop:0.7-fulldrop:0.2-nlayers:2-lag:12-full:[2048]\", \"drop:0.7-fulldrop:0.3-nlayers:2-lag:12-full:[2048]\", \"drop:0.7-fulldrop:0.4-nlayers:2-lag:12-full:[2048]\", \"drop:0.7-fulldrop:0.2-nlayers:2-lag:18-full:[2048]\", \"drop:0.7-fulldrop:0.3-nlayers:2-lag:18-full:[2048]\", \"drop:0.7-fulldrop:0.4-nlayers:2-lag:18-full:[2048]\", \"drop:0.4-fulldrop:0.2-nlayers:3-lag:12-full:[2048]\", \"drop:0.4-fulldrop:0.3-nlayers:3-lag:12-full:[2048]\", \"drop:0.4-fulldrop:0.4-nlayers:3-lag:12-full:[2048]\", \"drop:0.4-fulldrop:0.2-nlayers:3-lag:18-full:[2048]\", \"drop:0.4-fulldrop:0.3-nlayers:3-lag:18-full:[2048]\", \"drop:0.4-fulldrop:0.4-nlayers:3-lag:18-full:[2048]\", \"drop:0.5-fulldrop:0.2-nlayers:3-lag:12-full:[2048]\", \"drop:0.5-fulldrop:0.3-nlayers:3-lag:12-full:[2048]\", \"drop:0.5-fulldrop:0.4-nlayers:3-lag:12-full:[2048]\", \"drop:0.5-fulldrop:0.2-nlayers:3-lag:18-full:[2048]\", \"drop:0.5-fulldrop:0.3-nlayers:3-lag:18-full:[2048]\", \"drop:0.5-fulldrop:0.4-nlayers:3-lag:18-full:[2048]\", \"drop:0.6-fulldrop:0.2-nlayers:3-lag:12-full:[2048]\", \"drop:0.6-fulldrop:0.3-nlayers:3-lag:12-full:[2048]\", \"drop:0.6-fulldrop:0.4-nlayers:3-lag:12-full:[2048]\", \"drop:0.6-fulldrop:0.2-nlayers:3-lag:18-full:[2048]\", \"drop:0.6-fulldrop:0.3-nlayers:3-lag:18-full:[2048]\", \"drop:0.6-fulldrop:0.4-nlayers:3-lag:18-full:[2048]\", \"drop:0.7-fulldrop:0.2-nlayers:3-lag:12-full:[2048]\", \"drop:0.7-fulldrop:0.3-nlayers:3-lag:12-full:[2048]\", \"drop:0.7-fulldrop:0.4-nlayers:3-lag:12-full:[2048]\", \"drop:0.7-fulldrop:0.2-nlayers:3-lag:18-full:[2048]\", \"drop:0.7-fulldrop:0.3-nlayers:3-lag:18-full:[2048]\", \"drop:0.7-fulldrop:0.4-nlayers:3-lag:18-full:[2048]\"], \"x\": [6.788229127612115, 6.897591827661469, 6.902240349664717, 6.761823733039162, 6.845307264381572, 6.8568190062959395, 6.783771024962159, 6.87259818028875, 6.8756875387679335, 6.7684294589804646, 6.776029129954139, 6.78629994600175, 6.794251322120136, 6.783405607682535, 6.79351840101858, 6.7659362863048385, 6.783277296336389, 6.784872445318293, 6.787109431098584, 6.801470990153061, 6.809854998703155, 6.7708729144753805, 6.782585185046433, 6.787755941228523, 6.759690433138807, 6.886540167805144, 6.885702499315732, 6.734547744939916, 6.7675607215177624, 6.820076323165705, 6.761061945639727, 6.780132939772845, 6.804399256061596, 6.743794864362575, 6.757500596565128, 6.759436715752729, 6.76613524995563, 6.773143989748888, 6.767106186366378, 6.739967937251715, 6.747037008767509, 6.7510191888159765, 6.764473313264944, 6.773746462870999, 6.782502733864037, 6.7390948019235415, 6.747813755086941, 6.75894059867789], \"y\": [6.47736530536082, 6.595934453462129, 6.60045747754078, 6.452208480842963, 6.528078414165327, 6.543841396455241, 6.480940352189913, 6.571769369049098, 6.577778573237468, 6.458264888966685, 6.468570398734744, 6.483767788990666, 6.484635234555563, 6.478105222624419, 6.490771509347527, 6.4491125367830735, 6.465912100123756, 6.479450397642097, 6.475567056061484, 6.493532270467605, 6.497299673529588, 6.452908992761914, 6.469579710449093, 6.481429076589836, 6.450090842260705, 6.570231192138947, 6.581169882192914, 6.42350669338453, 6.446254188439313, 6.511069023594979, 6.448803463648428, 6.459082509397003, 6.504868728639783, 6.42656220653, 6.447494391381035, 6.442021522454396, 6.453609748493317, 6.460902640021548, 6.463631389799603, 6.423085853283689, 6.438719424965675, 6.448523346054486, 6.4529697261077645, 6.467205424507636, 6.468370981422114, 6.42397908809986, 6.438028060243512, 6.453833598192457], \"type\": \"scatter\", \"uid\": \"da17269d-0202-48b2-8d78-854b4c03fd58\"}], {}, {\"showLink\": false, \"linkText\": \"Export to plot.ly\", \"plotlyServerURL\": \"https://plot.ly\"}); \n",
       "}\n",
       "});</script><script type=\"text/javascript\">window.addEventListener(\"resize\", function(){if (document.getElementById(\"082296ce-3926-4b8e-919c-718a0c7287d0\")) {window._Plotly.Plots.resize(document.getElementById(\"082296ce-3926-4b8e-919c-718a0c7287d0\"));};})</script>"
      ],
      "text/vnd.plotly.v1+html": [
       "<div id=\"082296ce-3926-4b8e-919c-718a0c7287d0\" style=\"height: 525px; width: 100%;\" class=\"plotly-graph-div\"></div><script type=\"text/javascript\">require([\"plotly\"], function(Plotly) { window.PLOTLYENV=window.PLOTLYENV || {};window.PLOTLYENV.BASE_URL=\"https://plot.ly\";\n",
       "if (document.getElementById(\"082296ce-3926-4b8e-919c-718a0c7287d0\")) {\n",
       "    Plotly.newPlot(\"082296ce-3926-4b8e-919c-718a0c7287d0\", [{\"marker\": {\"size\": [40.0, 40.0, 40.0, 40.0, 40.0, 40.0, 40.0, 40.0, 40.0, 40.0, 40.0, 40.0, 40.0, 40.0, 40.0, 40.0, 40.0, 40.0, 40.0, 40.0, 40.0, 40.0, 40.0, 40.0, 40.0, 40.0, 40.0, 40.0, 40.0, 40.0, 40.0, 40.0, 40.0, 40.0, 40.0, 40.0, 40.0, 40.0, 40.0, 40.0, 40.0, 40.0, 40.0, 40.0, 40.0, 40.0, 40.0, 40.0]}, \"mode\": \"markers\", \"name\": \"[1024, 256]\", \"text\": [\"drop:0.4-fulldrop:0.2-nlayers:2-lag:12-full:[1024, 256]\", \"drop:0.4-fulldrop:0.3-nlayers:2-lag:12-full:[1024, 256]\", \"drop:0.4-fulldrop:0.4-nlayers:2-lag:12-full:[1024, 256]\", \"drop:0.4-fulldrop:0.2-nlayers:2-lag:18-full:[1024, 256]\", \"drop:0.4-fulldrop:0.3-nlayers:2-lag:18-full:[1024, 256]\", \"drop:0.4-fulldrop:0.4-nlayers:2-lag:18-full:[1024, 256]\", \"drop:0.5-fulldrop:0.2-nlayers:2-lag:12-full:[1024, 256]\", \"drop:0.5-fulldrop:0.3-nlayers:2-lag:12-full:[1024, 256]\", \"drop:0.5-fulldrop:0.4-nlayers:2-lag:12-full:[1024, 256]\", \"drop:0.5-fulldrop:0.2-nlayers:2-lag:18-full:[1024, 256]\", \"drop:0.5-fulldrop:0.3-nlayers:2-lag:18-full:[1024, 256]\", \"drop:0.5-fulldrop:0.4-nlayers:2-lag:18-full:[1024, 256]\", \"drop:0.6-fulldrop:0.2-nlayers:2-lag:12-full:[1024, 256]\", \"drop:0.6-fulldrop:0.3-nlayers:2-lag:12-full:[1024, 256]\", \"drop:0.6-fulldrop:0.4-nlayers:2-lag:12-full:[1024, 256]\", \"drop:0.6-fulldrop:0.2-nlayers:2-lag:18-full:[1024, 256]\", \"drop:0.6-fulldrop:0.3-nlayers:2-lag:18-full:[1024, 256]\", \"drop:0.6-fulldrop:0.4-nlayers:2-lag:18-full:[1024, 256]\", \"drop:0.7-fulldrop:0.2-nlayers:2-lag:12-full:[1024, 256]\", \"drop:0.7-fulldrop:0.3-nlayers:2-lag:12-full:[1024, 256]\", \"drop:0.7-fulldrop:0.4-nlayers:2-lag:12-full:[1024, 256]\", \"drop:0.7-fulldrop:0.2-nlayers:2-lag:18-full:[1024, 256]\", \"drop:0.7-fulldrop:0.3-nlayers:2-lag:18-full:[1024, 256]\", \"drop:0.7-fulldrop:0.4-nlayers:2-lag:18-full:[1024, 256]\", \"drop:0.4-fulldrop:0.2-nlayers:3-lag:12-full:[1024, 256]\", \"drop:0.4-fulldrop:0.3-nlayers:3-lag:12-full:[1024, 256]\", \"drop:0.4-fulldrop:0.4-nlayers:3-lag:12-full:[1024, 256]\", \"drop:0.4-fulldrop:0.2-nlayers:3-lag:18-full:[1024, 256]\", \"drop:0.4-fulldrop:0.3-nlayers:3-lag:18-full:[1024, 256]\", \"drop:0.4-fulldrop:0.4-nlayers:3-lag:18-full:[1024, 256]\", \"drop:0.5-fulldrop:0.2-nlayers:3-lag:12-full:[1024, 256]\", \"drop:0.5-fulldrop:0.3-nlayers:3-lag:12-full:[1024, 256]\", \"drop:0.5-fulldrop:0.4-nlayers:3-lag:12-full:[1024, 256]\", \"drop:0.5-fulldrop:0.2-nlayers:3-lag:18-full:[1024, 256]\", \"drop:0.5-fulldrop:0.3-nlayers:3-lag:18-full:[1024, 256]\", \"drop:0.5-fulldrop:0.4-nlayers:3-lag:18-full:[1024, 256]\", \"drop:0.6-fulldrop:0.2-nlayers:3-lag:12-full:[1024, 256]\", \"drop:0.6-fulldrop:0.3-nlayers:3-lag:12-full:[1024, 256]\", \"drop:0.6-fulldrop:0.4-nlayers:3-lag:12-full:[1024, 256]\", \"drop:0.6-fulldrop:0.2-nlayers:3-lag:18-full:[1024, 256]\", \"drop:0.6-fulldrop:0.3-nlayers:3-lag:18-full:[1024, 256]\", \"drop:0.6-fulldrop:0.4-nlayers:3-lag:18-full:[1024, 256]\", \"drop:0.7-fulldrop:0.2-nlayers:3-lag:12-full:[1024, 256]\", \"drop:0.7-fulldrop:0.3-nlayers:3-lag:12-full:[1024, 256]\", \"drop:0.7-fulldrop:0.4-nlayers:3-lag:12-full:[1024, 256]\", \"drop:0.7-fulldrop:0.2-nlayers:3-lag:18-full:[1024, 256]\", \"drop:0.7-fulldrop:0.3-nlayers:3-lag:18-full:[1024, 256]\", \"drop:0.7-fulldrop:0.4-nlayers:3-lag:18-full:[1024, 256]\"], \"x\": [6.822212241240335, 6.81831054073622, 6.890584894261054, 6.809521813622049, 6.798796410416408, 6.850368807577008, 6.816696611201237, 6.8699991566442975, 6.875682874148738, 6.802407985614466, 6.790773206239778, 6.7859062589708765, 6.814988045899787, 6.722429523355402, 6.651136792979314, 6.7993386933606965, 6.797073554574318, 6.785470544600144, 6.823655242265036, 6.813737133047819, 6.8075225044200876, 6.798111004686108, 6.802337351652991, 6.790156964873081, 6.790715087867984, 6.8483919073588595, 6.863430107413833, 6.765338604730545, 6.820091996869495, 6.808113448539235, 6.786657487617943, 6.78397036399964, 6.822505240630157, 6.7658488037037285, 6.761897555329905, 6.749939150073892, 6.78377655359053, 6.769510493656817, 6.773327528706305, 6.763281447591493, 6.759788967302623, 6.75621035421991, 6.783964587456833, 6.783966300227057, 6.77358092610456, 6.764168665919774, 6.755398425001281, 6.750671121876064], \"y\": [6.513972891418986, 6.519992516295925, 6.605337123453242, 6.4964963146766195, 6.4933873101667805, 6.5593442050694035, 6.512552444758469, 6.575089595144422, 6.584123831661047, 6.493463245925266, 6.495110283343859, 6.4844913132767985, 6.519092970209669, 6.450512316126944, 6.388321672781014, 6.484968283015199, 6.495165721322715, 6.48930099291685, 6.515462123628975, 6.515029360322217, 6.512750249001879, 6.4884501494891245, 6.495976239779635, 6.496847834001677, 6.481643489987009, 6.549890895724479, 6.573656708397473, 6.450395798227952, 6.524870031094285, 6.520453373030896, 6.484966861343708, 6.483272666230232, 6.539437002378745, 6.458380042370524, 6.462281924236274, 6.464648288932426, 6.481631667706001, 6.471314955425344, 6.4777475641532885, 6.460741277552906, 6.460831481069074, 6.4577004273457055, 6.468557159244269, 6.480524088353798, 6.4773041786516785, 6.457521007771535, 6.456763223919884, 6.453763396715948], \"type\": \"scatter\", \"uid\": \"8a4457d1-f74e-46ad-ba82-564de9bf9890\"}, {\"marker\": {\"size\": [40.0, 40.0, 40.0, 40.0, 40.0, 40.0, 40.0, 40.0, 40.0, 40.0, 40.0, 40.0, 40.0, 40.0, 40.0, 40.0, 40.0, 40.0, 40.0, 40.0, 40.0, 40.0, 40.0, 40.0, 40.0, 40.0, 40.0, 40.0, 40.0, 40.0, 40.0, 40.0, 40.0, 40.0, 40.0, 40.0, 40.0, 40.0, 40.0, 40.0, 40.0, 40.0, 40.0, 40.0, 40.0, 40.0, 40.0, 40.0]}, \"mode\": \"markers\", \"name\": \"[1024]\", \"text\": [\"drop:0.4-fulldrop:0.2-nlayers:2-lag:12-full:[1024]\", \"drop:0.4-fulldrop:0.3-nlayers:2-lag:12-full:[1024]\", \"drop:0.4-fulldrop:0.4-nlayers:2-lag:12-full:[1024]\", \"drop:0.4-fulldrop:0.2-nlayers:2-lag:18-full:[1024]\", \"drop:0.4-fulldrop:0.3-nlayers:2-lag:18-full:[1024]\", \"drop:0.4-fulldrop:0.4-nlayers:2-lag:18-full:[1024]\", \"drop:0.5-fulldrop:0.2-nlayers:2-lag:12-full:[1024]\", \"drop:0.5-fulldrop:0.3-nlayers:2-lag:12-full:[1024]\", \"drop:0.5-fulldrop:0.4-nlayers:2-lag:12-full:[1024]\", \"drop:0.5-fulldrop:0.2-nlayers:2-lag:18-full:[1024]\", \"drop:0.5-fulldrop:0.3-nlayers:2-lag:18-full:[1024]\", \"drop:0.5-fulldrop:0.4-nlayers:2-lag:18-full:[1024]\", \"drop:0.6-fulldrop:0.2-nlayers:2-lag:12-full:[1024]\", \"drop:0.6-fulldrop:0.3-nlayers:2-lag:12-full:[1024]\", \"drop:0.6-fulldrop:0.4-nlayers:2-lag:12-full:[1024]\", \"drop:0.6-fulldrop:0.2-nlayers:2-lag:18-full:[1024]\", \"drop:0.6-fulldrop:0.3-nlayers:2-lag:18-full:[1024]\", \"drop:0.6-fulldrop:0.4-nlayers:2-lag:18-full:[1024]\", \"drop:0.7-fulldrop:0.2-nlayers:2-lag:12-full:[1024]\", \"drop:0.7-fulldrop:0.3-nlayers:2-lag:12-full:[1024]\", \"drop:0.7-fulldrop:0.4-nlayers:2-lag:12-full:[1024]\", \"drop:0.7-fulldrop:0.2-nlayers:2-lag:18-full:[1024]\", \"drop:0.7-fulldrop:0.3-nlayers:2-lag:18-full:[1024]\", \"drop:0.7-fulldrop:0.4-nlayers:2-lag:18-full:[1024]\", \"drop:0.4-fulldrop:0.2-nlayers:3-lag:12-full:[1024]\", \"drop:0.4-fulldrop:0.3-nlayers:3-lag:12-full:[1024]\", \"drop:0.4-fulldrop:0.4-nlayers:3-lag:12-full:[1024]\", \"drop:0.4-fulldrop:0.2-nlayers:3-lag:18-full:[1024]\", \"drop:0.4-fulldrop:0.3-nlayers:3-lag:18-full:[1024]\", \"drop:0.4-fulldrop:0.4-nlayers:3-lag:18-full:[1024]\", \"drop:0.5-fulldrop:0.2-nlayers:3-lag:12-full:[1024]\", \"drop:0.5-fulldrop:0.3-nlayers:3-lag:12-full:[1024]\", \"drop:0.5-fulldrop:0.4-nlayers:3-lag:12-full:[1024]\", \"drop:0.5-fulldrop:0.2-nlayers:3-lag:18-full:[1024]\", \"drop:0.5-fulldrop:0.3-nlayers:3-lag:18-full:[1024]\", \"drop:0.5-fulldrop:0.4-nlayers:3-lag:18-full:[1024]\", \"drop:0.6-fulldrop:0.2-nlayers:3-lag:12-full:[1024]\", \"drop:0.6-fulldrop:0.3-nlayers:3-lag:12-full:[1024]\", \"drop:0.6-fulldrop:0.4-nlayers:3-lag:12-full:[1024]\", \"drop:0.6-fulldrop:0.2-nlayers:3-lag:18-full:[1024]\", \"drop:0.6-fulldrop:0.3-nlayers:3-lag:18-full:[1024]\", \"drop:0.6-fulldrop:0.4-nlayers:3-lag:18-full:[1024]\", \"drop:0.7-fulldrop:0.2-nlayers:3-lag:12-full:[1024]\", \"drop:0.7-fulldrop:0.3-nlayers:3-lag:12-full:[1024]\", \"drop:0.7-fulldrop:0.4-nlayers:3-lag:12-full:[1024]\", \"drop:0.7-fulldrop:0.2-nlayers:3-lag:18-full:[1024]\", \"drop:0.7-fulldrop:0.3-nlayers:3-lag:18-full:[1024]\", \"drop:0.7-fulldrop:0.4-nlayers:3-lag:18-full:[1024]\"], \"x\": [6.799834993860574, 6.811684477198802, 6.9080683707822255, 6.784539198732882, 6.79744274992692, 6.859103217077047, 6.802209344990517, 6.847415153246142, 6.887204305232341, 6.783462842927636, 6.78615042819283, 6.796691436804696, 6.80218979117268, 6.776712775790217, 6.76406407301857, 6.783562935713621, 6.790486520463387, 6.798053744465346, 6.799912237203099, 6.8132082663710385, 6.818932808824683, 6.777945679933096, 6.7929442221955245, 6.802161470853474, 6.7726196544972925, 6.892499379365054, 6.891923579870077, 6.752135650811978, 6.835636480227132, 6.836018585417918, 6.780745018155484, 6.862080716988234, 6.808445354484924, 6.753047467492049, 6.760379009055503, 6.767702476570074, 6.77537995131371, 6.765745260425715, 6.785956633000674, 6.75711722636819, 6.762313399165898, 6.7607317739947215, 6.773511528665784, 6.786756666142303, 6.793541349636554, 6.748830112335313, 6.763445549488921, 6.7620589716740644], \"y\": [6.492774566622514, 6.501326788475693, 6.605766703839353, 6.464440437742976, 6.489612058969814, 6.551189586183395, 6.498485325403906, 6.548330681209486, 6.582533485189258, 6.4762343369244455, 6.478537870346352, 6.483152286946785, 6.491315720270046, 6.470467813890938, 6.465388099615459, 6.4679443925980635, 6.4925731553878565, 6.489891829982351, 6.491026053712116, 6.499042010398039, 6.513813329348059, 6.462770543533528, 6.479639132669571, 6.49294741568534, 6.4619516137820945, 6.587399824660281, 6.586444627041719, 6.4334833615601426, 6.530657178870913, 6.536603311990154, 6.469216531743126, 6.561767913654368, 6.492153322705857, 6.433444240371113, 6.456098979778652, 6.45829090347231, 6.4625389281638865, 6.468318721349398, 6.483184203705525, 6.443866047950349, 6.451601515893599, 6.4535502673935605, 6.459848930449329, 6.471423372416525, 6.480159532843271, 6.4433935411198, 6.450205190023664, 6.458171910912764], \"type\": \"scatter\", \"uid\": \"b7918d22-6cec-4bb5-8453-a9f0dcd470be\"}, {\"marker\": {\"size\": [40.0, 40.0, 40.0, 40.0, 40.0, 40.0, 40.0, 40.0, 40.0, 40.0, 40.0, 40.0, 40.0, 40.0, 40.0, 40.0, 40.0, 40.0, 40.0, 40.0, 40.0, 40.0, 40.0, 40.0, 40.0, 40.0, 40.0, 40.0, 40.0, 40.0, 40.0, 40.0, 40.0, 40.0, 40.0, 40.0, 40.0, 40.0, 40.0, 40.0, 40.0, 40.0, 40.0, 40.0, 40.0, 40.0, 40.0, 40.0]}, \"mode\": \"markers\", \"name\": \"[2048]\", \"text\": [\"drop:0.4-fulldrop:0.2-nlayers:2-lag:12-full:[2048]\", \"drop:0.4-fulldrop:0.3-nlayers:2-lag:12-full:[2048]\", \"drop:0.4-fulldrop:0.4-nlayers:2-lag:12-full:[2048]\", \"drop:0.4-fulldrop:0.2-nlayers:2-lag:18-full:[2048]\", \"drop:0.4-fulldrop:0.3-nlayers:2-lag:18-full:[2048]\", \"drop:0.4-fulldrop:0.4-nlayers:2-lag:18-full:[2048]\", \"drop:0.5-fulldrop:0.2-nlayers:2-lag:12-full:[2048]\", \"drop:0.5-fulldrop:0.3-nlayers:2-lag:12-full:[2048]\", \"drop:0.5-fulldrop:0.4-nlayers:2-lag:12-full:[2048]\", \"drop:0.5-fulldrop:0.2-nlayers:2-lag:18-full:[2048]\", \"drop:0.5-fulldrop:0.3-nlayers:2-lag:18-full:[2048]\", \"drop:0.5-fulldrop:0.4-nlayers:2-lag:18-full:[2048]\", \"drop:0.6-fulldrop:0.2-nlayers:2-lag:12-full:[2048]\", \"drop:0.6-fulldrop:0.3-nlayers:2-lag:12-full:[2048]\", \"drop:0.6-fulldrop:0.4-nlayers:2-lag:12-full:[2048]\", \"drop:0.6-fulldrop:0.2-nlayers:2-lag:18-full:[2048]\", \"drop:0.6-fulldrop:0.3-nlayers:2-lag:18-full:[2048]\", \"drop:0.6-fulldrop:0.4-nlayers:2-lag:18-full:[2048]\", \"drop:0.7-fulldrop:0.2-nlayers:2-lag:12-full:[2048]\", \"drop:0.7-fulldrop:0.3-nlayers:2-lag:12-full:[2048]\", \"drop:0.7-fulldrop:0.4-nlayers:2-lag:12-full:[2048]\", \"drop:0.7-fulldrop:0.2-nlayers:2-lag:18-full:[2048]\", \"drop:0.7-fulldrop:0.3-nlayers:2-lag:18-full:[2048]\", \"drop:0.7-fulldrop:0.4-nlayers:2-lag:18-full:[2048]\", \"drop:0.4-fulldrop:0.2-nlayers:3-lag:12-full:[2048]\", \"drop:0.4-fulldrop:0.3-nlayers:3-lag:12-full:[2048]\", \"drop:0.4-fulldrop:0.4-nlayers:3-lag:12-full:[2048]\", \"drop:0.4-fulldrop:0.2-nlayers:3-lag:18-full:[2048]\", \"drop:0.4-fulldrop:0.3-nlayers:3-lag:18-full:[2048]\", \"drop:0.4-fulldrop:0.4-nlayers:3-lag:18-full:[2048]\", \"drop:0.5-fulldrop:0.2-nlayers:3-lag:12-full:[2048]\", \"drop:0.5-fulldrop:0.3-nlayers:3-lag:12-full:[2048]\", \"drop:0.5-fulldrop:0.4-nlayers:3-lag:12-full:[2048]\", \"drop:0.5-fulldrop:0.2-nlayers:3-lag:18-full:[2048]\", \"drop:0.5-fulldrop:0.3-nlayers:3-lag:18-full:[2048]\", \"drop:0.5-fulldrop:0.4-nlayers:3-lag:18-full:[2048]\", \"drop:0.6-fulldrop:0.2-nlayers:3-lag:12-full:[2048]\", \"drop:0.6-fulldrop:0.3-nlayers:3-lag:12-full:[2048]\", \"drop:0.6-fulldrop:0.4-nlayers:3-lag:12-full:[2048]\", \"drop:0.6-fulldrop:0.2-nlayers:3-lag:18-full:[2048]\", \"drop:0.6-fulldrop:0.3-nlayers:3-lag:18-full:[2048]\", \"drop:0.6-fulldrop:0.4-nlayers:3-lag:18-full:[2048]\", \"drop:0.7-fulldrop:0.2-nlayers:3-lag:12-full:[2048]\", \"drop:0.7-fulldrop:0.3-nlayers:3-lag:12-full:[2048]\", \"drop:0.7-fulldrop:0.4-nlayers:3-lag:12-full:[2048]\", \"drop:0.7-fulldrop:0.2-nlayers:3-lag:18-full:[2048]\", \"drop:0.7-fulldrop:0.3-nlayers:3-lag:18-full:[2048]\", \"drop:0.7-fulldrop:0.4-nlayers:3-lag:18-full:[2048]\"], \"x\": [6.788229127612115, 6.897591827661469, 6.902240349664717, 6.761823733039162, 6.845307264381572, 6.8568190062959395, 6.783771024962159, 6.87259818028875, 6.8756875387679335, 6.7684294589804646, 6.776029129954139, 6.78629994600175, 6.794251322120136, 6.783405607682535, 6.79351840101858, 6.7659362863048385, 6.783277296336389, 6.784872445318293, 6.787109431098584, 6.801470990153061, 6.809854998703155, 6.7708729144753805, 6.782585185046433, 6.787755941228523, 6.759690433138807, 6.886540167805144, 6.885702499315732, 6.734547744939916, 6.7675607215177624, 6.820076323165705, 6.761061945639727, 6.780132939772845, 6.804399256061596, 6.743794864362575, 6.757500596565128, 6.759436715752729, 6.76613524995563, 6.773143989748888, 6.767106186366378, 6.739967937251715, 6.747037008767509, 6.7510191888159765, 6.764473313264944, 6.773746462870999, 6.782502733864037, 6.7390948019235415, 6.747813755086941, 6.75894059867789], \"y\": [6.47736530536082, 6.595934453462129, 6.60045747754078, 6.452208480842963, 6.528078414165327, 6.543841396455241, 6.480940352189913, 6.571769369049098, 6.577778573237468, 6.458264888966685, 6.468570398734744, 6.483767788990666, 6.484635234555563, 6.478105222624419, 6.490771509347527, 6.4491125367830735, 6.465912100123756, 6.479450397642097, 6.475567056061484, 6.493532270467605, 6.497299673529588, 6.452908992761914, 6.469579710449093, 6.481429076589836, 6.450090842260705, 6.570231192138947, 6.581169882192914, 6.42350669338453, 6.446254188439313, 6.511069023594979, 6.448803463648428, 6.459082509397003, 6.504868728639783, 6.42656220653, 6.447494391381035, 6.442021522454396, 6.453609748493317, 6.460902640021548, 6.463631389799603, 6.423085853283689, 6.438719424965675, 6.448523346054486, 6.4529697261077645, 6.467205424507636, 6.468370981422114, 6.42397908809986, 6.438028060243512, 6.453833598192457], \"type\": \"scatter\", \"uid\": \"da17269d-0202-48b2-8d78-854b4c03fd58\"}], {}, {\"showLink\": false, \"linkText\": \"Export to plot.ly\", \"plotlyServerURL\": \"https://plot.ly\"}); \n",
       "}\n",
       "});</script><script type=\"text/javascript\">window.addEventListener(\"resize\", function(){if (document.getElementById(\"082296ce-3926-4b8e-919c-718a0c7287d0\")) {window._Plotly.Plots.resize(document.getElementById(\"082296ce-3926-4b8e-919c-718a0c7287d0\"));};})</script>"
      ]
     },
     "metadata": {},
     "output_type": "display_data"
    }
   ],
   "source": [
    "graph_results(b,'full',['drop', 'fulldrop','nlayers', 'lag'])"
   ]
  },
  {
   "cell_type": "markdown",
   "metadata": {
    "extensions": {
     "jupyter_dashboards": {
      "version": 1,
      "views": {
       "grid_default": {},
       "report_default": {}
      }
     }
    }
   },
   "source": [
    "## Fit 7"
   ]
  },
  {
   "cell_type": "code",
   "execution_count": 115,
   "metadata": {
    "extensions": {
     "jupyter_dashboards": {
      "version": 1,
      "views": {
       "grid_default": {},
       "report_default": {}
      }
     }
    }
   },
   "outputs": [],
   "source": [
    "query={'experiment':'RNNs2sbi'}\n",
    "\n",
    "results = DBResults(conn=mongolocaltest)\n",
    "#results = DBResults()\n",
    "results.results_dataframe_retrieve(query, arch=['drop', 'neurons', 'nlayers', 'full', 'fulldrop','bimerge'], data=['lag'])\n"
   ]
  },
  {
   "cell_type": "code",
   "execution_count": 116,
   "metadata": {
    "extensions": {
     "jupyter_dashboards": {
      "version": 1,
      "views": {
       "grid_default": {},
       "report_default": {}
      }
     }
    }
   },
   "outputs": [
    {
     "data": {
      "text/plain": [
       "800"
      ]
     },
     "execution_count": 116,
     "metadata": {},
     "output_type": "execute_result"
    }
   ],
   "source": [
    "\n",
    "a=results.exp_df.groupby(['site', 'drop', 'neurons', 'nlayers', 'lag', 'full', 'fulldrop','bimerge'],as_index=False).sum()\n",
    "a.drop(columns=['hour', 'site'], inplace=True)\n",
    "len(a)"
   ]
  },
  {
   "cell_type": "code",
   "execution_count": 119,
   "metadata": {
    "extensions": {
     "jupyter_dashboards": {
      "version": 1,
      "views": {
       "grid_default": {},
       "report_default": {}
      }
     }
    }
   },
   "outputs": [
    {
     "data": {
      "text/html": [
       "<style  type=\"text/css\" >\n",
       "    #T_965287e0_5131_11e9_975a_842b2bb021fdrow0_col8 {\n",
       "            background-color:  yellow;\n",
       "        }    #T_965287e0_5131_11e9_975a_842b2bb021fdrow1_col7 {\n",
       "            background-color:  yellow;\n",
       "        }    #T_965287e0_5131_11e9_975a_842b2bb021fdrow1_col8 {\n",
       "            background-color:  yellow;\n",
       "        }    #T_965287e0_5131_11e9_975a_842b2bb021fdrow1_col9 {\n",
       "            background-color:  yellow;\n",
       "        }</style><table id=\"T_965287e0_5131_11e9_975a_842b2bb021fd\" ><thead>    <tr>        <th class=\"blank level0\" ></th>        <th class=\"col_heading level0 col0\" >neurons</th>        <th class=\"col_heading level0 col1\" >nlayers</th>        <th class=\"col_heading level0 col2\" >drop</th>        <th class=\"col_heading level0 col3\" >lag</th>        <th class=\"col_heading level0 col4\" >full</th>        <th class=\"col_heading level0 col5\" >fulldrop</th>        <th class=\"col_heading level0 col6\" >bimerge</th>        <th class=\"col_heading level0 col7\" colspan=2>test</th>        <th class=\"col_heading level0 col9\" >val</th>    </tr>    <tr>        <th class=\"blank level1\" ></th>        <th class=\"col_heading level1 col0\" ></th>        <th class=\"col_heading level1 col1\" ></th>        <th class=\"col_heading level1 col2\" ></th>        <th class=\"col_heading level1 col3\" ></th>        <th class=\"col_heading level1 col4\" ></th>        <th class=\"col_heading level1 col5\" ></th>        <th class=\"col_heading level1 col6\" ></th>        <th class=\"col_heading level1 col7\" >mean</th>        <th class=\"col_heading level1 col8\" >count</th>        <th class=\"col_heading level1 col9\" >mean</th>    </tr></thead><tbody>\n",
       "                <tr>\n",
       "                        <th id=\"T_965287e0_5131_11e9_975a_842b2bb021fdlevel0_row0\" class=\"row_heading level0 row0\" >1</th>\n",
       "                        <td id=\"T_965287e0_5131_11e9_975a_842b2bb021fdrow0_col0\" class=\"data row0 col0\" >32</td>\n",
       "                        <td id=\"T_965287e0_5131_11e9_975a_842b2bb021fdrow0_col1\" class=\"data row0 col1\" >2</td>\n",
       "                        <td id=\"T_965287e0_5131_11e9_975a_842b2bb021fdrow0_col2\" class=\"data row0 col2\" >0.1</td>\n",
       "                        <td id=\"T_965287e0_5131_11e9_975a_842b2bb021fdrow0_col3\" class=\"data row0 col3\" >12</td>\n",
       "                        <td id=\"T_965287e0_5131_11e9_975a_842b2bb021fdrow0_col4\" class=\"data row0 col4\" >[512]</td>\n",
       "                        <td id=\"T_965287e0_5131_11e9_975a_842b2bb021fdrow0_col5\" class=\"data row0 col5\" >0.05</td>\n",
       "                        <td id=\"T_965287e0_5131_11e9_975a_842b2bb021fdrow0_col6\" class=\"data row0 col6\" >concat</td>\n",
       "                        <td id=\"T_965287e0_5131_11e9_975a_842b2bb021fdrow0_col7\" class=\"data row0 col7\" >6.81174</td>\n",
       "                        <td id=\"T_965287e0_5131_11e9_975a_842b2bb021fdrow0_col8\" class=\"data row0 col8\" >200</td>\n",
       "                        <td id=\"T_965287e0_5131_11e9_975a_842b2bb021fdrow0_col9\" class=\"data row0 col9\" >6.46351</td>\n",
       "            </tr>\n",
       "            <tr>\n",
       "                        <th id=\"T_965287e0_5131_11e9_975a_842b2bb021fdlevel0_row1\" class=\"row_heading level0 row1\" >3</th>\n",
       "                        <td id=\"T_965287e0_5131_11e9_975a_842b2bb021fdrow1_col0\" class=\"data row1 col0\" >32</td>\n",
       "                        <td id=\"T_965287e0_5131_11e9_975a_842b2bb021fdrow1_col1\" class=\"data row1 col1\" >2</td>\n",
       "                        <td id=\"T_965287e0_5131_11e9_975a_842b2bb021fdrow1_col2\" class=\"data row1 col2\" >0.1</td>\n",
       "                        <td id=\"T_965287e0_5131_11e9_975a_842b2bb021fdrow1_col3\" class=\"data row1 col3\" >12</td>\n",
       "                        <td id=\"T_965287e0_5131_11e9_975a_842b2bb021fdrow1_col4\" class=\"data row1 col4\" >[512]</td>\n",
       "                        <td id=\"T_965287e0_5131_11e9_975a_842b2bb021fdrow1_col5\" class=\"data row1 col5\" >0.05</td>\n",
       "                        <td id=\"T_965287e0_5131_11e9_975a_842b2bb021fdrow1_col6\" class=\"data row1 col6\" >sum</td>\n",
       "                        <td id=\"T_965287e0_5131_11e9_975a_842b2bb021fdrow1_col7\" class=\"data row1 col7\" >6.82058</td>\n",
       "                        <td id=\"T_965287e0_5131_11e9_975a_842b2bb021fdrow1_col8\" class=\"data row1 col8\" >200</td>\n",
       "                        <td id=\"T_965287e0_5131_11e9_975a_842b2bb021fdrow1_col9\" class=\"data row1 col9\" >6.48531</td>\n",
       "            </tr>\n",
       "    </tbody></table>"
      ],
      "text/plain": [
       "<pandas.io.formats.style.Styler at 0x7f3837f3a7b8>"
      ]
     },
     "execution_count": 119,
     "metadata": {},
     "output_type": "execute_result"
    }
   ],
   "source": [
    "b =a.groupby(by=['neurons', 'nlayers', 'drop', 'lag', 'full', 'fulldrop','bimerge'],as_index=False).agg({'test':['mean','count'], 'val':'mean', })\n",
    "\n",
    "b[b['test']['mean'] > 6.8].style.highlight_max()"
   ]
  },
  {
   "cell_type": "code",
   "execution_count": 120,
   "metadata": {
    "extensions": {
     "jupyter_dashboards": {
      "version": 1,
      "views": {
       "grid_default": {},
       "report_default": {}
      }
     }
    }
   },
   "outputs": [
    {
     "data": {
      "application/vnd.plotly.v1+json": {
       "config": {
        "linkText": "Export to plot.ly",
        "plotlyServerURL": "https://plot.ly",
        "showLink": false
       },
       "data": [
        {
         "marker": {
          "size": [
           40
          ]
         },
         "mode": "markers",
         "name": "ave",
         "text": [
          "full:[512]-drop:0.1-fulldrop:0.05-nlayers:2-lag:12-bimerge:ave"
         ],
         "type": "scatter",
         "uid": "f3a24671-9370-4253-83e7-1b7b43e7541b",
         "x": [
          6.648714081664073
         ],
         "y": [
          6.2852017037663055
         ]
        },
        {
         "marker": {
          "size": [
           40
          ]
         },
         "mode": "markers",
         "name": "concat",
         "text": [
          "full:[512]-drop:0.1-fulldrop:0.05-nlayers:2-lag:12-bimerge:concat"
         ],
         "type": "scatter",
         "uid": "ee17ac56-88a8-44b6-8894-4ad489e5ae84",
         "x": [
          6.8117358094280664
         ],
         "y": [
          6.463505569487066
         ]
        },
        {
         "marker": {
          "size": [
           40
          ]
         },
         "mode": "markers",
         "name": "mul",
         "text": [
          "full:[512]-drop:0.1-fulldrop:0.05-nlayers:2-lag:12-bimerge:mul"
         ],
         "type": "scatter",
         "uid": "3b2ada40-a70c-473a-9412-01fb7adf046a",
         "x": [
          6.713393330296083
         ],
         "y": [
          6.428329299038717
         ]
        },
        {
         "marker": {
          "size": [
           40
          ]
         },
         "mode": "markers",
         "name": "sum",
         "text": [
          "full:[512]-drop:0.1-fulldrop:0.05-nlayers:2-lag:12-bimerge:sum"
         ],
         "type": "scatter",
         "uid": "3cfe1fc8-b680-4b0b-9a7f-c3320123a902",
         "x": [
          6.820582076487788
         ],
         "y": [
          6.485310939816973
         ]
        }
       ],
       "layout": {}
      },
      "text/html": [
       "<div id=\"63c6ae73-2cd5-478e-ab9c-e044140dcac3\" style=\"height: 525px; width: 100%;\" class=\"plotly-graph-div\"></div><script type=\"text/javascript\">require([\"plotly\"], function(Plotly) { window.PLOTLYENV=window.PLOTLYENV || {};window.PLOTLYENV.BASE_URL=\"https://plot.ly\";\n",
       "if (document.getElementById(\"63c6ae73-2cd5-478e-ab9c-e044140dcac3\")) {\n",
       "    Plotly.newPlot(\"63c6ae73-2cd5-478e-ab9c-e044140dcac3\", [{\"marker\": {\"size\": [40.0]}, \"mode\": \"markers\", \"name\": \"ave\", \"text\": [\"full:[512]-drop:0.1-fulldrop:0.05-nlayers:2-lag:12-bimerge:ave\"], \"x\": [6.648714081664073], \"y\": [6.2852017037663055], \"type\": \"scatter\", \"uid\": \"987c6869-2838-47d3-ab37-146f323145ca\"}, {\"marker\": {\"size\": [40.0]}, \"mode\": \"markers\", \"name\": \"concat\", \"text\": [\"full:[512]-drop:0.1-fulldrop:0.05-nlayers:2-lag:12-bimerge:concat\"], \"x\": [6.8117358094280664], \"y\": [6.463505569487066], \"type\": \"scatter\", \"uid\": \"336beb18-b2c3-49a1-b117-52fc819afecc\"}, {\"marker\": {\"size\": [40.0]}, \"mode\": \"markers\", \"name\": \"mul\", \"text\": [\"full:[512]-drop:0.1-fulldrop:0.05-nlayers:2-lag:12-bimerge:mul\"], \"x\": [6.713393330296083], \"y\": [6.428329299038717], \"type\": \"scatter\", \"uid\": \"305e08da-4f39-45ec-9c13-bdfb99d6c839\"}, {\"marker\": {\"size\": [40.0]}, \"mode\": \"markers\", \"name\": \"sum\", \"text\": [\"full:[512]-drop:0.1-fulldrop:0.05-nlayers:2-lag:12-bimerge:sum\"], \"x\": [6.820582076487788], \"y\": [6.485310939816973], \"type\": \"scatter\", \"uid\": \"5b07fefc-574d-4673-aa48-96aa785ce59b\"}], {}, {\"showLink\": false, \"linkText\": \"Export to plot.ly\", \"plotlyServerURL\": \"https://plot.ly\"}); \n",
       "}\n",
       "});</script><script type=\"text/javascript\">window.addEventListener(\"resize\", function(){if (document.getElementById(\"63c6ae73-2cd5-478e-ab9c-e044140dcac3\")) {window._Plotly.Plots.resize(document.getElementById(\"63c6ae73-2cd5-478e-ab9c-e044140dcac3\"));};})</script>"
      ],
      "text/vnd.plotly.v1+html": [
       "<div id=\"63c6ae73-2cd5-478e-ab9c-e044140dcac3\" style=\"height: 525px; width: 100%;\" class=\"plotly-graph-div\"></div><script type=\"text/javascript\">require([\"plotly\"], function(Plotly) { window.PLOTLYENV=window.PLOTLYENV || {};window.PLOTLYENV.BASE_URL=\"https://plot.ly\";\n",
       "if (document.getElementById(\"63c6ae73-2cd5-478e-ab9c-e044140dcac3\")) {\n",
       "    Plotly.newPlot(\"63c6ae73-2cd5-478e-ab9c-e044140dcac3\", [{\"marker\": {\"size\": [40.0]}, \"mode\": \"markers\", \"name\": \"ave\", \"text\": [\"full:[512]-drop:0.1-fulldrop:0.05-nlayers:2-lag:12-bimerge:ave\"], \"x\": [6.648714081664073], \"y\": [6.2852017037663055], \"type\": \"scatter\", \"uid\": \"987c6869-2838-47d3-ab37-146f323145ca\"}, {\"marker\": {\"size\": [40.0]}, \"mode\": \"markers\", \"name\": \"concat\", \"text\": [\"full:[512]-drop:0.1-fulldrop:0.05-nlayers:2-lag:12-bimerge:concat\"], \"x\": [6.8117358094280664], \"y\": [6.463505569487066], \"type\": \"scatter\", \"uid\": \"336beb18-b2c3-49a1-b117-52fc819afecc\"}, {\"marker\": {\"size\": [40.0]}, \"mode\": \"markers\", \"name\": \"mul\", \"text\": [\"full:[512]-drop:0.1-fulldrop:0.05-nlayers:2-lag:12-bimerge:mul\"], \"x\": [6.713393330296083], \"y\": [6.428329299038717], \"type\": \"scatter\", \"uid\": \"305e08da-4f39-45ec-9c13-bdfb99d6c839\"}, {\"marker\": {\"size\": [40.0]}, \"mode\": \"markers\", \"name\": \"sum\", \"text\": [\"full:[512]-drop:0.1-fulldrop:0.05-nlayers:2-lag:12-bimerge:sum\"], \"x\": [6.820582076487788], \"y\": [6.485310939816973], \"type\": \"scatter\", \"uid\": \"5b07fefc-574d-4673-aa48-96aa785ce59b\"}], {}, {\"showLink\": false, \"linkText\": \"Export to plot.ly\", \"plotlyServerURL\": \"https://plot.ly\"}); \n",
       "}\n",
       "});</script><script type=\"text/javascript\">window.addEventListener(\"resize\", function(){if (document.getElementById(\"63c6ae73-2cd5-478e-ab9c-e044140dcac3\")) {window._Plotly.Plots.resize(document.getElementById(\"63c6ae73-2cd5-478e-ab9c-e044140dcac3\"));};})</script>"
      ]
     },
     "metadata": {},
     "output_type": "display_data"
    }
   ],
   "source": [
    "graph_results(b,'bimerge',['full','drop', 'fulldrop','nlayers', 'lag'])"
   ]
  },
  {
   "cell_type": "markdown",
   "metadata": {
    "extensions": {
     "jupyter_dashboards": {
      "version": 1,
      "views": {
       "grid_default": {},
       "report_default": {}
      }
     }
    }
   },
   "source": [
    "## Fit8 (elu/leaky)"
   ]
  },
  {
   "cell_type": "code",
   "execution_count": 121,
   "metadata": {
    "extensions": {
     "jupyter_dashboards": {
      "version": 1,
      "views": {
       "grid_default": {},
       "report_default": {}
      }
     }
    }
   },
   "outputs": [],
   "source": [
    "query={'experiment':'rnns2sactiv'}\n",
    "\n",
    "results = DBResults(conn=mongolocaltest)\n",
    "#results = DBResults()\n",
    "\n",
    "results.results_dataframe_retrieve(query, arch=['neurons', 'nlayers', 'drop', 'full', 'fulldrop','activation_full'], data=['lag'])"
   ]
  },
  {
   "cell_type": "code",
   "execution_count": 122,
   "metadata": {},
   "outputs": [
    {
     "data": {
      "text/plain": [
       "18692"
      ]
     },
     "execution_count": 122,
     "metadata": {},
     "output_type": "execute_result"
    }
   ],
   "source": [
    "a=results.exp_df.groupby(['site', 'neurons', 'nlayers', 'drop', 'full', 'fulldrop','activation_full',   'lag'],as_index=False).sum()\n",
    "a.drop(columns=['hour', 'site'], inplace=True)\n",
    "len(a)"
   ]
  },
  {
   "cell_type": "code",
   "execution_count": 123,
   "metadata": {},
   "outputs": [
    {
     "data": {
      "text/html": [
       "<style  type=\"text/css\" >\n",
       "    #T_af7bab0c_5131_11e9_975a_842b2bb021fdrow0_col7 {\n",
       "            background-color:  yellow;\n",
       "        }    #T_af7bab0c_5131_11e9_975a_842b2bb021fdrow1_col8 {\n",
       "            background-color:  yellow;\n",
       "        }    #T_af7bab0c_5131_11e9_975a_842b2bb021fdrow1_col9 {\n",
       "            background-color:  yellow;\n",
       "        }</style><table id=\"T_af7bab0c_5131_11e9_975a_842b2bb021fd\" ><thead>    <tr>        <th class=\"blank level0\" ></th>        <th class=\"col_heading level0 col0\" >neurons</th>        <th class=\"col_heading level0 col1\" >nlayers</th>        <th class=\"col_heading level0 col2\" >drop</th>        <th class=\"col_heading level0 col3\" >full</th>        <th class=\"col_heading level0 col4\" >fulldrop</th>        <th class=\"col_heading level0 col5\" >activation_full</th>        <th class=\"col_heading level0 col6\" >lag</th>        <th class=\"col_heading level0 col7\" colspan=2>test</th>        <th class=\"col_heading level0 col9\" >val</th>    </tr>    <tr>        <th class=\"blank level1\" ></th>        <th class=\"col_heading level1 col0\" ></th>        <th class=\"col_heading level1 col1\" ></th>        <th class=\"col_heading level1 col2\" ></th>        <th class=\"col_heading level1 col3\" ></th>        <th class=\"col_heading level1 col4\" ></th>        <th class=\"col_heading level1 col5\" ></th>        <th class=\"col_heading level1 col6\" ></th>        <th class=\"col_heading level1 col7\" >mean</th>        <th class=\"col_heading level1 col8\" >count</th>        <th class=\"col_heading level1 col9\" >mean</th>    </tr></thead><tbody>\n",
       "                <tr>\n",
       "                        <th id=\"T_af7bab0c_5131_11e9_975a_842b2bb021fdlevel0_row0\" class=\"row_heading level0 row0\" >27</th>\n",
       "                        <td id=\"T_af7bab0c_5131_11e9_975a_842b2bb021fdrow0_col0\" class=\"data row0 col0\" >32</td>\n",
       "                        <td id=\"T_af7bab0c_5131_11e9_975a_842b2bb021fdrow0_col1\" class=\"data row0 col1\" >1</td>\n",
       "                        <td id=\"T_af7bab0c_5131_11e9_975a_842b2bb021fdrow0_col2\" class=\"data row0 col2\" >0.2</td>\n",
       "                        <td id=\"T_af7bab0c_5131_11e9_975a_842b2bb021fdrow0_col3\" class=\"data row0 col3\" >[256]</td>\n",
       "                        <td id=\"T_af7bab0c_5131_11e9_975a_842b2bb021fdrow0_col4\" class=\"data row0 col4\" >0.3</td>\n",
       "                        <td id=\"T_af7bab0c_5131_11e9_975a_842b2bb021fdrow0_col5\" class=\"data row0 col5\" >['leaky', 0.2]</td>\n",
       "                        <td id=\"T_af7bab0c_5131_11e9_975a_842b2bb021fdrow0_col6\" class=\"data row0 col6\" >12</td>\n",
       "                        <td id=\"T_af7bab0c_5131_11e9_975a_842b2bb021fdrow0_col7\" class=\"data row0 col7\" >7.21389</td>\n",
       "                        <td id=\"T_af7bab0c_5131_11e9_975a_842b2bb021fdrow0_col8\" class=\"data row0 col8\" >6</td>\n",
       "                        <td id=\"T_af7bab0c_5131_11e9_975a_842b2bb021fdrow0_col9\" class=\"data row0 col9\" >6.48011</td>\n",
       "            </tr>\n",
       "            <tr>\n",
       "                        <th id=\"T_af7bab0c_5131_11e9_975a_842b2bb021fdlevel0_row1\" class=\"row_heading level0 row1\" >28</th>\n",
       "                        <td id=\"T_af7bab0c_5131_11e9_975a_842b2bb021fdrow1_col0\" class=\"data row1 col0\" >32</td>\n",
       "                        <td id=\"T_af7bab0c_5131_11e9_975a_842b2bb021fdrow1_col1\" class=\"data row1 col1\" >1</td>\n",
       "                        <td id=\"T_af7bab0c_5131_11e9_975a_842b2bb021fdrow1_col2\" class=\"data row1 col2\" >0.2</td>\n",
       "                        <td id=\"T_af7bab0c_5131_11e9_975a_842b2bb021fdrow1_col3\" class=\"data row1 col3\" >[512]</td>\n",
       "                        <td id=\"T_af7bab0c_5131_11e9_975a_842b2bb021fdrow1_col4\" class=\"data row1 col4\" >0.3</td>\n",
       "                        <td id=\"T_af7bab0c_5131_11e9_975a_842b2bb021fdrow1_col5\" class=\"data row1 col5\" >['elu', 0.4]</td>\n",
       "                        <td id=\"T_af7bab0c_5131_11e9_975a_842b2bb021fdrow1_col6\" class=\"data row1 col6\" >12</td>\n",
       "                        <td id=\"T_af7bab0c_5131_11e9_975a_842b2bb021fdrow1_col7\" class=\"data row1 col7\" >6.90076</td>\n",
       "                        <td id=\"T_af7bab0c_5131_11e9_975a_842b2bb021fdrow1_col8\" class=\"data row1 col8\" >200</td>\n",
       "                        <td id=\"T_af7bab0c_5131_11e9_975a_842b2bb021fdrow1_col9\" class=\"data row1 col9\" >6.58442</td>\n",
       "            </tr>\n",
       "    </tbody></table>"
      ],
      "text/plain": [
       "<pandas.io.formats.style.Styler at 0x7f382eaaae80>"
      ]
     },
     "execution_count": 123,
     "metadata": {},
     "output_type": "execute_result"
    }
   ],
   "source": [
    "\n",
    "b =a.groupby(by=['neurons', 'nlayers', 'drop', 'full', 'fulldrop','activation_full', 'lag'],as_index=False).agg({'test':['mean','count'], 'val':'mean', })\n",
    "b[b['test']['mean'] > 6.9].style.highlight_max()\n",
    "#b.style.highlight_max()\n",
    "\n"
   ]
  },
  {
   "cell_type": "code",
   "execution_count": 124,
   "metadata": {},
   "outputs": [
    {
     "data": {
      "application/vnd.plotly.v1+json": {
       "config": {
        "linkText": "Export to plot.ly",
        "plotlyServerURL": "https://plot.ly",
        "showLink": false
       },
       "data": [
        {
         "marker": {
          "size": [
           40,
           40,
           40,
           40,
           40,
           40,
           40,
           40,
           40,
           40,
           37.6,
           40,
           38.8,
           40,
           37.2,
           40,
           36,
           36.4,
           36.8,
           36.4,
           37.2,
           37.6,
           40,
           40,
           40,
           40,
           39.8,
           40,
           40,
           40,
           35.4,
           36.2,
           36.2,
           35.4,
           37.2,
           37.6
          ]
         },
         "mode": "markers",
         "name": "['elu', 0.4]",
         "text": [
          "F-[512, 128]D-0.0-L12-F12",
          "F-[512, 128]D-0.3-L12-F12",
          "F-[512, 256]D-0.0-L12-F12",
          "F-[512, 256]D-0.3-L12-F12",
          "F-[512, 128]D-0.0-L12-F12",
          "F-[512, 128]D-0.3-L12-F12",
          "F-[512, 256]D-0.0-L12-F12",
          "F-[512, 256]D-0.3-L12-F12",
          "F-[256]D-0.3-L12-F12",
          "F-[512]D-0.3-L12-F12",
          "F-[256]D-0.3-L12-F12",
          "F-[512]D-0.3-L12-F12",
          "F-[256]D-0.3-L12-F12",
          "F-[512]D-0.3-L12-F12",
          "F-[256]D-0.3-L12-F12",
          "F-[512]D-0.3-L12-F12",
          "F-[1024]D-0.3-L12-F12",
          "F-[1024]D-0.3-L18-F18",
          "F-[256]D-0.3-L12-F12",
          "F-[256]D-0.3-L18-F18",
          "F-[512]D-0.3-L12-F12",
          "F-[512]D-0.3-L18-F18",
          "F-[512, 128]D-0.0-L12-F12",
          "F-[512, 128]D-0.3-L12-F12",
          "F-[512, 256]D-0.0-L12-F12",
          "F-[512, 256]D-0.3-L12-F12",
          "F-[512, 128]D-0.0-L12-F12",
          "F-[512, 128]D-0.3-L12-F12",
          "F-[512, 256]D-0.0-L12-F12",
          "F-[512, 256]D-0.3-L12-F12",
          "F-[1024]D-0.3-L12-F12",
          "F-[1024]D-0.3-L18-F18",
          "F-[256]D-0.3-L12-F12",
          "F-[256]D-0.3-L18-F18",
          "F-[512]D-0.3-L12-F12",
          "F-[512]D-0.3-L18-F18"
         ],
         "type": "scatter",
         "uid": "2285f3a9-6520-4e6a-aea5-8595125e641d",
         "x": [
          6.7446251871217315,
          6.7230376510003,
          6.740092864887601,
          6.7144838967674385,
          6.7484623650114095,
          6.7139383168634685,
          6.74065990374633,
          6.717587042138158,
          6.855273727726022,
          6.8573974461556135,
          6.886105298361389,
          6.9007599779850155,
          6.726527730833364,
          6.74452406032282,
          6.814422985441563,
          6.802496185973762,
          6.792923460561009,
          6.723923536772119,
          6.8034217335735345,
          6.748588664408173,
          6.805378626192321,
          6.724011897238915,
          6.7328183184455845,
          6.709131130928902,
          6.721164559053847,
          6.703527298789043,
          6.727046891783307,
          6.704234728596732,
          6.717031681152317,
          6.708177327540749,
          6.779945851802821,
          6.7147685600552,
          6.797690106257317,
          6.7123950976484545,
          6.763470738891134,
          6.7333560396094665
         ],
         "y": [
          6.421745397090066,
          6.408840901239825,
          6.414949431229828,
          6.407619138482404,
          6.418798787365801,
          6.404524398086827,
          6.414175382762592,
          6.393927896906747,
          6.5383071527898595,
          6.536431981819194,
          6.578424139354044,
          6.584423129396806,
          6.40858622579502,
          6.420120205134314,
          6.502409794753842,
          6.495409409234992,
          6.485727434403286,
          6.418653010830527,
          6.5019733860061395,
          6.426386787872256,
          6.500168161441755,
          6.413774700152941,
          6.415781803015485,
          6.401976744130907,
          6.387475823873258,
          6.390829871465736,
          6.400576415517149,
          6.403785253177253,
          6.391260126264679,
          6.395517414344837,
          6.457518119889913,
          6.413219423758629,
          6.478940177516351,
          6.4191812453317585,
          6.443551917560539,
          6.40806346577166
         ]
        },
        {
         "marker": {
          "size": [
           40,
           40,
           40,
           40,
           40,
           40,
           40,
           40,
           40,
           40,
           40,
           40,
           40,
           40,
           2.8,
           1.8,
           1.2,
           2.4,
           40,
           40,
           37.2,
           37.8,
           38,
           36.6,
           36.4,
           36.4,
           34.8,
           36,
           36.2,
           35.8,
           40,
           40,
           40,
           40,
           40,
           40,
           40,
           40,
           40,
           40,
           40,
           40,
           40,
           40,
           40,
           40,
           40,
           40,
           40,
           40,
           40,
           40,
           40,
           40,
           40,
           40,
           40,
           40,
           35.4,
           35.6,
           36.4,
           33.6,
           36,
           36.2
          ]
         },
         "mode": "markers",
         "name": "['leaky', 0.2]",
         "text": [
          "F-[256]D-0.3-L12-F12",
          "F-[512]D-0.3-L12-F12",
          "F-[256]D-0.3-L12-F12",
          "F-[512]D-0.3-L12-F12",
          "F-[256]D-0.3-L12-F12",
          "F-[512]D-0.3-L12-F12",
          "F-[512, 128]D-0.0-L12-F12",
          "F-[512, 128]D-0.3-L12-F12",
          "F-[512, 256]D-0.0-L12-F12",
          "F-[512, 256]D-0.3-L12-F12",
          "F-[512, 128]D-0.0-L12-F12",
          "F-[512, 128]D-0.3-L12-F12",
          "F-[512, 256]D-0.0-L12-F12",
          "F-[512, 256]D-0.3-L12-F12",
          "F-[256]D-0.3-L12-F12",
          "F-[512]D-0.3-L12-F12",
          "F-[256]D-0.3-L12-F12",
          "F-[512]D-0.3-L12-F12",
          "F-[256]D-0.3-L12-F12",
          "F-[512]D-0.3-L12-F12",
          "F-[256]D-0.3-L12-F12",
          "F-[512]D-0.3-L12-F12",
          "F-[256]D-0.3-L12-F12",
          "F-[512]D-0.3-L12-F12",
          "F-[1024]D-0.3-L12-F12",
          "F-[1024]D-0.3-L18-F18",
          "F-[256]D-0.3-L12-F12",
          "F-[256]D-0.3-L18-F18",
          "F-[512]D-0.3-L12-F12",
          "F-[512]D-0.3-L18-F18",
          "F-[128]D-0.3-L12-F12",
          "F-[256]D-0.3-L12-F12",
          "F-[512]D-0.3-L12-F12",
          "F-[128]D-0.3-L12-F12",
          "F-[256]D-0.3-L12-F12",
          "F-[512]D-0.3-L12-F12",
          "F-[256]D-0.3-L12-F12",
          "F-[512]D-0.3-L12-F12",
          "F-[256]D-0.3-L12-F12",
          "F-[512]D-0.3-L12-F12",
          "F-[256]D-0.3-L12-F12",
          "F-[512]D-0.3-L12-F12",
          "F-[256]D-0.3-L12-F12",
          "F-[256]D-0.4-L12-F12",
          "F-[512, 128]D-0.0-L12-F12",
          "F-[512, 128]D-0.3-L12-F12",
          "F-[512, 256]D-0.0-L12-F12",
          "F-[512, 256]D-0.3-L12-F12",
          "F-[512]D-0.3-L12-F12",
          "F-[512]D-0.4-L12-F12",
          "F-[256]D-0.3-L12-F12",
          "F-[256]D-0.4-L12-F12",
          "F-[512, 128]D-0.0-L12-F12",
          "F-[512, 128]D-0.3-L12-F12",
          "F-[512, 256]D-0.0-L12-F12",
          "F-[512, 256]D-0.3-L12-F12",
          "F-[512]D-0.3-L12-F12",
          "F-[512]D-0.4-L12-F12",
          "F-[1024]D-0.3-L12-F12",
          "F-[1024]D-0.3-L18-F18",
          "F-[256]D-0.3-L12-F12",
          "F-[256]D-0.3-L18-F18",
          "F-[512]D-0.3-L12-F12",
          "F-[512]D-0.3-L18-F18"
         ],
         "type": "scatter",
         "uid": "0dc693cc-3a60-4ca0-8630-7e2dfeb3a8fb",
         "x": [
          6.851450906812155,
          6.861539450372495,
          6.854238099346975,
          6.8604003655095935,
          6.854211268233038,
          6.861946910700318,
          6.763865146703893,
          6.754721454519048,
          6.761246859908036,
          6.750338436019288,
          6.760308072247276,
          6.749337825806112,
          6.756821975879269,
          6.745631708527174,
          6.786758245259073,
          6.837601708803827,
          7.213886413527585,
          6.4115065986706945,
          6.87860841514697,
          6.886668686369326,
          6.788294332032781,
          6.7670039838496425,
          6.823371791110082,
          6.806116543523324,
          6.823872844300646,
          6.749830801557599,
          6.829306935639341,
          6.766915556025645,
          6.797639584412073,
          6.730233930207944,
          6.798663348835122,
          6.804931581408258,
          6.814636339683091,
          6.807240716930206,
          6.804852794695847,
          6.794958177383836,
          6.869273780401826,
          6.874048942731118,
          6.868466222012013,
          6.872831755867333,
          6.8669851840261185,
          6.875561985017614,
          6.77407197464905,
          6.772139376644954,
          6.743330592280415,
          6.739708177357597,
          6.738339031630961,
          6.734216752721063,
          6.770062924380783,
          6.766360919001657,
          6.7783705631063595,
          6.770707410600928,
          6.745264866343583,
          6.739288341261028,
          6.733614002240809,
          6.739943580267191,
          6.769345980213654,
          6.763194616013643,
          6.818355757178413,
          6.699682812840366,
          6.813446471863536,
          6.744577373515708,
          6.828475433354584,
          6.709081936833563
         ],
         "y": [
          6.537573782548696,
          6.546930784588435,
          6.535541503487228,
          6.542467421408199,
          6.537938125345402,
          6.539761951506633,
          6.449346997342628,
          6.446758919630054,
          6.443898636734321,
          6.445541037991291,
          6.439643570251114,
          6.440351367972519,
          6.435196091962803,
          6.444220568344742,
          6.456281435026084,
          6.442058794464516,
          6.480112628683254,
          6.212907874682181,
          6.569526600545123,
          6.567666666200325,
          6.466920695581781,
          6.441853314845658,
          6.516985346303206,
          6.4906385755262095,
          6.511621884442855,
          6.426850503576581,
          6.517292426438988,
          6.454753930090781,
          6.478544655316494,
          6.425605003516706,
          6.496564475837224,
          6.505789624084872,
          6.504027083692669,
          6.508308718816298,
          6.502368751472694,
          6.495827856250149,
          6.559106210511078,
          6.553689830470733,
          6.5551445547797185,
          6.5541988254875125,
          6.546522229660272,
          6.555588028934803,
          6.458353893432954,
          6.453545577392287,
          6.417185009411071,
          6.432341896287454,
          6.399547885138153,
          6.419105804839178,
          6.446365758492175,
          6.450464706934313,
          6.465914665692498,
          6.459353370785059,
          6.420490595288721,
          6.427520777070356,
          6.409635216279903,
          6.423220787224454,
          6.447988167177141,
          6.4529016817999425,
          6.52371359771944,
          6.394239981745625,
          6.5117417616423285,
          6.449732238059569,
          6.513526942579547,
          6.408908397506788
         ]
        }
       ],
       "layout": {}
      },
      "text/html": [
       "<div id=\"00536b9d-eac7-46e0-a6f4-d3811784ebf1\" style=\"height: 525px; width: 100%;\" class=\"plotly-graph-div\"></div><script type=\"text/javascript\">require([\"plotly\"], function(Plotly) { window.PLOTLYENV=window.PLOTLYENV || {};window.PLOTLYENV.BASE_URL=\"https://plot.ly\";\n",
       "if (document.getElementById(\"00536b9d-eac7-46e0-a6f4-d3811784ebf1\")) {\n",
       "    Plotly.newPlot(\"00536b9d-eac7-46e0-a6f4-d3811784ebf1\", [{\"marker\": {\"size\": [40.0, 40.0, 40.0, 40.0, 40.0, 40.0, 40.0, 40.0, 40.0, 40.0, 37.6, 40.0, 38.8, 40.0, 37.2, 40.0, 36.0, 36.4, 36.8, 36.4, 37.2, 37.6, 40.0, 40.0, 40.0, 40.0, 39.8, 40.0, 40.0, 40.0, 35.4, 36.2, 36.2, 35.4, 37.2, 37.6]}, \"mode\": \"markers\", \"name\": \"['elu', 0.4]\", \"text\": [\"F-[512, 128]D-0.0-L12-F12\", \"F-[512, 128]D-0.3-L12-F12\", \"F-[512, 256]D-0.0-L12-F12\", \"F-[512, 256]D-0.3-L12-F12\", \"F-[512, 128]D-0.0-L12-F12\", \"F-[512, 128]D-0.3-L12-F12\", \"F-[512, 256]D-0.0-L12-F12\", \"F-[512, 256]D-0.3-L12-F12\", \"F-[256]D-0.3-L12-F12\", \"F-[512]D-0.3-L12-F12\", \"F-[256]D-0.3-L12-F12\", \"F-[512]D-0.3-L12-F12\", \"F-[256]D-0.3-L12-F12\", \"F-[512]D-0.3-L12-F12\", \"F-[256]D-0.3-L12-F12\", \"F-[512]D-0.3-L12-F12\", \"F-[1024]D-0.3-L12-F12\", \"F-[1024]D-0.3-L18-F18\", \"F-[256]D-0.3-L12-F12\", \"F-[256]D-0.3-L18-F18\", \"F-[512]D-0.3-L12-F12\", \"F-[512]D-0.3-L18-F18\", \"F-[512, 128]D-0.0-L12-F12\", \"F-[512, 128]D-0.3-L12-F12\", \"F-[512, 256]D-0.0-L12-F12\", \"F-[512, 256]D-0.3-L12-F12\", \"F-[512, 128]D-0.0-L12-F12\", \"F-[512, 128]D-0.3-L12-F12\", \"F-[512, 256]D-0.0-L12-F12\", \"F-[512, 256]D-0.3-L12-F12\", \"F-[1024]D-0.3-L12-F12\", \"F-[1024]D-0.3-L18-F18\", \"F-[256]D-0.3-L12-F12\", \"F-[256]D-0.3-L18-F18\", \"F-[512]D-0.3-L12-F12\", \"F-[512]D-0.3-L18-F18\"], \"x\": [6.7446251871217315, 6.7230376510003, 6.740092864887601, 6.7144838967674385, 6.7484623650114095, 6.7139383168634685, 6.74065990374633, 6.717587042138158, 6.855273727726022, 6.8573974461556135, 6.886105298361389, 6.9007599779850155, 6.726527730833364, 6.74452406032282, 6.814422985441563, 6.802496185973762, 6.792923460561009, 6.723923536772119, 6.8034217335735345, 6.748588664408173, 6.805378626192321, 6.724011897238915, 6.7328183184455845, 6.709131130928902, 6.721164559053847, 6.703527298789043, 6.727046891783307, 6.704234728596732, 6.717031681152317, 6.708177327540749, 6.779945851802821, 6.7147685600552, 6.797690106257317, 6.7123950976484545, 6.763470738891134, 6.7333560396094665], \"y\": [6.421745397090066, 6.408840901239825, 6.414949431229828, 6.407619138482404, 6.418798787365801, 6.404524398086827, 6.414175382762592, 6.393927896906747, 6.5383071527898595, 6.536431981819194, 6.578424139354044, 6.584423129396806, 6.40858622579502, 6.420120205134314, 6.502409794753842, 6.495409409234992, 6.485727434403286, 6.418653010830527, 6.5019733860061395, 6.426386787872256, 6.500168161441755, 6.413774700152941, 6.415781803015485, 6.401976744130907, 6.387475823873258, 6.390829871465736, 6.400576415517149, 6.403785253177253, 6.391260126264679, 6.395517414344837, 6.457518119889913, 6.413219423758629, 6.478940177516351, 6.4191812453317585, 6.443551917560539, 6.40806346577166], \"type\": \"scatter\", \"uid\": \"568fb2ca-238d-4db6-8bc1-167579c950e9\"}, {\"marker\": {\"size\": [40.0, 40.0, 40.0, 40.0, 40.0, 40.0, 40.0, 40.0, 40.0, 40.0, 40.0, 40.0, 40.0, 40.0, 2.8, 1.8, 1.2, 2.4, 40.0, 40.0, 37.2, 37.8, 38.0, 36.6, 36.4, 36.4, 34.8, 36.0, 36.2, 35.8, 40.0, 40.0, 40.0, 40.0, 40.0, 40.0, 40.0, 40.0, 40.0, 40.0, 40.0, 40.0, 40.0, 40.0, 40.0, 40.0, 40.0, 40.0, 40.0, 40.0, 40.0, 40.0, 40.0, 40.0, 40.0, 40.0, 40.0, 40.0, 35.4, 35.6, 36.4, 33.6, 36.0, 36.2]}, \"mode\": \"markers\", \"name\": \"['leaky', 0.2]\", \"text\": [\"F-[256]D-0.3-L12-F12\", \"F-[512]D-0.3-L12-F12\", \"F-[256]D-0.3-L12-F12\", \"F-[512]D-0.3-L12-F12\", \"F-[256]D-0.3-L12-F12\", \"F-[512]D-0.3-L12-F12\", \"F-[512, 128]D-0.0-L12-F12\", \"F-[512, 128]D-0.3-L12-F12\", \"F-[512, 256]D-0.0-L12-F12\", \"F-[512, 256]D-0.3-L12-F12\", \"F-[512, 128]D-0.0-L12-F12\", \"F-[512, 128]D-0.3-L12-F12\", \"F-[512, 256]D-0.0-L12-F12\", \"F-[512, 256]D-0.3-L12-F12\", \"F-[256]D-0.3-L12-F12\", \"F-[512]D-0.3-L12-F12\", \"F-[256]D-0.3-L12-F12\", \"F-[512]D-0.3-L12-F12\", \"F-[256]D-0.3-L12-F12\", \"F-[512]D-0.3-L12-F12\", \"F-[256]D-0.3-L12-F12\", \"F-[512]D-0.3-L12-F12\", \"F-[256]D-0.3-L12-F12\", \"F-[512]D-0.3-L12-F12\", \"F-[1024]D-0.3-L12-F12\", \"F-[1024]D-0.3-L18-F18\", \"F-[256]D-0.3-L12-F12\", \"F-[256]D-0.3-L18-F18\", \"F-[512]D-0.3-L12-F12\", \"F-[512]D-0.3-L18-F18\", \"F-[128]D-0.3-L12-F12\", \"F-[256]D-0.3-L12-F12\", \"F-[512]D-0.3-L12-F12\", \"F-[128]D-0.3-L12-F12\", \"F-[256]D-0.3-L12-F12\", \"F-[512]D-0.3-L12-F12\", \"F-[256]D-0.3-L12-F12\", \"F-[512]D-0.3-L12-F12\", \"F-[256]D-0.3-L12-F12\", \"F-[512]D-0.3-L12-F12\", \"F-[256]D-0.3-L12-F12\", \"F-[512]D-0.3-L12-F12\", \"F-[256]D-0.3-L12-F12\", \"F-[256]D-0.4-L12-F12\", \"F-[512, 128]D-0.0-L12-F12\", \"F-[512, 128]D-0.3-L12-F12\", \"F-[512, 256]D-0.0-L12-F12\", \"F-[512, 256]D-0.3-L12-F12\", \"F-[512]D-0.3-L12-F12\", \"F-[512]D-0.4-L12-F12\", \"F-[256]D-0.3-L12-F12\", \"F-[256]D-0.4-L12-F12\", \"F-[512, 128]D-0.0-L12-F12\", \"F-[512, 128]D-0.3-L12-F12\", \"F-[512, 256]D-0.0-L12-F12\", \"F-[512, 256]D-0.3-L12-F12\", \"F-[512]D-0.3-L12-F12\", \"F-[512]D-0.4-L12-F12\", \"F-[1024]D-0.3-L12-F12\", \"F-[1024]D-0.3-L18-F18\", \"F-[256]D-0.3-L12-F12\", \"F-[256]D-0.3-L18-F18\", \"F-[512]D-0.3-L12-F12\", \"F-[512]D-0.3-L18-F18\"], \"x\": [6.851450906812155, 6.861539450372495, 6.854238099346975, 6.8604003655095935, 6.854211268233038, 6.861946910700318, 6.763865146703893, 6.754721454519048, 6.761246859908036, 6.750338436019288, 6.760308072247276, 6.749337825806112, 6.756821975879269, 6.745631708527174, 6.786758245259073, 6.837601708803827, 7.213886413527585, 6.4115065986706945, 6.87860841514697, 6.886668686369326, 6.788294332032781, 6.7670039838496425, 6.823371791110082, 6.806116543523324, 6.823872844300646, 6.749830801557599, 6.829306935639341, 6.766915556025645, 6.797639584412073, 6.730233930207944, 6.798663348835122, 6.804931581408258, 6.814636339683091, 6.807240716930206, 6.804852794695847, 6.794958177383836, 6.869273780401826, 6.874048942731118, 6.868466222012013, 6.872831755867333, 6.8669851840261185, 6.875561985017614, 6.77407197464905, 6.772139376644954, 6.743330592280415, 6.739708177357597, 6.738339031630961, 6.734216752721063, 6.770062924380783, 6.766360919001657, 6.7783705631063595, 6.770707410600928, 6.745264866343583, 6.739288341261028, 6.733614002240809, 6.739943580267191, 6.769345980213654, 6.763194616013643, 6.818355757178413, 6.699682812840366, 6.813446471863536, 6.744577373515708, 6.828475433354584, 6.709081936833563], \"y\": [6.537573782548696, 6.546930784588435, 6.535541503487228, 6.542467421408199, 6.537938125345402, 6.539761951506633, 6.449346997342628, 6.446758919630054, 6.443898636734321, 6.445541037991291, 6.439643570251114, 6.440351367972519, 6.435196091962803, 6.444220568344742, 6.456281435026084, 6.442058794464516, 6.480112628683254, 6.212907874682181, 6.569526600545123, 6.567666666200325, 6.466920695581781, 6.441853314845658, 6.516985346303206, 6.4906385755262095, 6.511621884442855, 6.426850503576581, 6.517292426438988, 6.454753930090781, 6.478544655316494, 6.425605003516706, 6.496564475837224, 6.505789624084872, 6.504027083692669, 6.508308718816298, 6.502368751472694, 6.495827856250149, 6.559106210511078, 6.553689830470733, 6.5551445547797185, 6.5541988254875125, 6.546522229660272, 6.555588028934803, 6.458353893432954, 6.453545577392287, 6.417185009411071, 6.432341896287454, 6.399547885138153, 6.419105804839178, 6.446365758492175, 6.450464706934313, 6.465914665692498, 6.459353370785059, 6.420490595288721, 6.427520777070356, 6.409635216279903, 6.423220787224454, 6.447988167177141, 6.4529016817999425, 6.52371359771944, 6.394239981745625, 6.5117417616423285, 6.449732238059569, 6.513526942579547, 6.408908397506788], \"type\": \"scatter\", \"uid\": \"a2082b84-4fb2-42cb-947e-3f7833a1467a\"}], {}, {\"showLink\": false, \"linkText\": \"Export to plot.ly\", \"plotlyServerURL\": \"https://plot.ly\"}); \n",
       "}\n",
       "});</script><script type=\"text/javascript\">window.addEventListener(\"resize\", function(){if (document.getElementById(\"00536b9d-eac7-46e0-a6f4-d3811784ebf1\")) {window._Plotly.Plots.resize(document.getElementById(\"00536b9d-eac7-46e0-a6f4-d3811784ebf1\"));};})</script>"
      ],
      "text/vnd.plotly.v1+html": [
       "<div id=\"00536b9d-eac7-46e0-a6f4-d3811784ebf1\" style=\"height: 525px; width: 100%;\" class=\"plotly-graph-div\"></div><script type=\"text/javascript\">require([\"plotly\"], function(Plotly) { window.PLOTLYENV=window.PLOTLYENV || {};window.PLOTLYENV.BASE_URL=\"https://plot.ly\";\n",
       "if (document.getElementById(\"00536b9d-eac7-46e0-a6f4-d3811784ebf1\")) {\n",
       "    Plotly.newPlot(\"00536b9d-eac7-46e0-a6f4-d3811784ebf1\", [{\"marker\": {\"size\": [40.0, 40.0, 40.0, 40.0, 40.0, 40.0, 40.0, 40.0, 40.0, 40.0, 37.6, 40.0, 38.8, 40.0, 37.2, 40.0, 36.0, 36.4, 36.8, 36.4, 37.2, 37.6, 40.0, 40.0, 40.0, 40.0, 39.8, 40.0, 40.0, 40.0, 35.4, 36.2, 36.2, 35.4, 37.2, 37.6]}, \"mode\": \"markers\", \"name\": \"['elu', 0.4]\", \"text\": [\"F-[512, 128]D-0.0-L12-F12\", \"F-[512, 128]D-0.3-L12-F12\", \"F-[512, 256]D-0.0-L12-F12\", \"F-[512, 256]D-0.3-L12-F12\", \"F-[512, 128]D-0.0-L12-F12\", \"F-[512, 128]D-0.3-L12-F12\", \"F-[512, 256]D-0.0-L12-F12\", \"F-[512, 256]D-0.3-L12-F12\", \"F-[256]D-0.3-L12-F12\", \"F-[512]D-0.3-L12-F12\", \"F-[256]D-0.3-L12-F12\", \"F-[512]D-0.3-L12-F12\", \"F-[256]D-0.3-L12-F12\", \"F-[512]D-0.3-L12-F12\", \"F-[256]D-0.3-L12-F12\", \"F-[512]D-0.3-L12-F12\", \"F-[1024]D-0.3-L12-F12\", \"F-[1024]D-0.3-L18-F18\", \"F-[256]D-0.3-L12-F12\", \"F-[256]D-0.3-L18-F18\", \"F-[512]D-0.3-L12-F12\", \"F-[512]D-0.3-L18-F18\", \"F-[512, 128]D-0.0-L12-F12\", \"F-[512, 128]D-0.3-L12-F12\", \"F-[512, 256]D-0.0-L12-F12\", \"F-[512, 256]D-0.3-L12-F12\", \"F-[512, 128]D-0.0-L12-F12\", \"F-[512, 128]D-0.3-L12-F12\", \"F-[512, 256]D-0.0-L12-F12\", \"F-[512, 256]D-0.3-L12-F12\", \"F-[1024]D-0.3-L12-F12\", \"F-[1024]D-0.3-L18-F18\", \"F-[256]D-0.3-L12-F12\", \"F-[256]D-0.3-L18-F18\", \"F-[512]D-0.3-L12-F12\", \"F-[512]D-0.3-L18-F18\"], \"x\": [6.7446251871217315, 6.7230376510003, 6.740092864887601, 6.7144838967674385, 6.7484623650114095, 6.7139383168634685, 6.74065990374633, 6.717587042138158, 6.855273727726022, 6.8573974461556135, 6.886105298361389, 6.9007599779850155, 6.726527730833364, 6.74452406032282, 6.814422985441563, 6.802496185973762, 6.792923460561009, 6.723923536772119, 6.8034217335735345, 6.748588664408173, 6.805378626192321, 6.724011897238915, 6.7328183184455845, 6.709131130928902, 6.721164559053847, 6.703527298789043, 6.727046891783307, 6.704234728596732, 6.717031681152317, 6.708177327540749, 6.779945851802821, 6.7147685600552, 6.797690106257317, 6.7123950976484545, 6.763470738891134, 6.7333560396094665], \"y\": [6.421745397090066, 6.408840901239825, 6.414949431229828, 6.407619138482404, 6.418798787365801, 6.404524398086827, 6.414175382762592, 6.393927896906747, 6.5383071527898595, 6.536431981819194, 6.578424139354044, 6.584423129396806, 6.40858622579502, 6.420120205134314, 6.502409794753842, 6.495409409234992, 6.485727434403286, 6.418653010830527, 6.5019733860061395, 6.426386787872256, 6.500168161441755, 6.413774700152941, 6.415781803015485, 6.401976744130907, 6.387475823873258, 6.390829871465736, 6.400576415517149, 6.403785253177253, 6.391260126264679, 6.395517414344837, 6.457518119889913, 6.413219423758629, 6.478940177516351, 6.4191812453317585, 6.443551917560539, 6.40806346577166], \"type\": \"scatter\", \"uid\": \"568fb2ca-238d-4db6-8bc1-167579c950e9\"}, {\"marker\": {\"size\": [40.0, 40.0, 40.0, 40.0, 40.0, 40.0, 40.0, 40.0, 40.0, 40.0, 40.0, 40.0, 40.0, 40.0, 2.8, 1.8, 1.2, 2.4, 40.0, 40.0, 37.2, 37.8, 38.0, 36.6, 36.4, 36.4, 34.8, 36.0, 36.2, 35.8, 40.0, 40.0, 40.0, 40.0, 40.0, 40.0, 40.0, 40.0, 40.0, 40.0, 40.0, 40.0, 40.0, 40.0, 40.0, 40.0, 40.0, 40.0, 40.0, 40.0, 40.0, 40.0, 40.0, 40.0, 40.0, 40.0, 40.0, 40.0, 35.4, 35.6, 36.4, 33.6, 36.0, 36.2]}, \"mode\": \"markers\", \"name\": \"['leaky', 0.2]\", \"text\": [\"F-[256]D-0.3-L12-F12\", \"F-[512]D-0.3-L12-F12\", \"F-[256]D-0.3-L12-F12\", \"F-[512]D-0.3-L12-F12\", \"F-[256]D-0.3-L12-F12\", \"F-[512]D-0.3-L12-F12\", \"F-[512, 128]D-0.0-L12-F12\", \"F-[512, 128]D-0.3-L12-F12\", \"F-[512, 256]D-0.0-L12-F12\", \"F-[512, 256]D-0.3-L12-F12\", \"F-[512, 128]D-0.0-L12-F12\", \"F-[512, 128]D-0.3-L12-F12\", \"F-[512, 256]D-0.0-L12-F12\", \"F-[512, 256]D-0.3-L12-F12\", \"F-[256]D-0.3-L12-F12\", \"F-[512]D-0.3-L12-F12\", \"F-[256]D-0.3-L12-F12\", \"F-[512]D-0.3-L12-F12\", \"F-[256]D-0.3-L12-F12\", \"F-[512]D-0.3-L12-F12\", \"F-[256]D-0.3-L12-F12\", \"F-[512]D-0.3-L12-F12\", \"F-[256]D-0.3-L12-F12\", \"F-[512]D-0.3-L12-F12\", \"F-[1024]D-0.3-L12-F12\", \"F-[1024]D-0.3-L18-F18\", \"F-[256]D-0.3-L12-F12\", \"F-[256]D-0.3-L18-F18\", \"F-[512]D-0.3-L12-F12\", \"F-[512]D-0.3-L18-F18\", \"F-[128]D-0.3-L12-F12\", \"F-[256]D-0.3-L12-F12\", \"F-[512]D-0.3-L12-F12\", \"F-[128]D-0.3-L12-F12\", \"F-[256]D-0.3-L12-F12\", \"F-[512]D-0.3-L12-F12\", \"F-[256]D-0.3-L12-F12\", \"F-[512]D-0.3-L12-F12\", \"F-[256]D-0.3-L12-F12\", \"F-[512]D-0.3-L12-F12\", \"F-[256]D-0.3-L12-F12\", \"F-[512]D-0.3-L12-F12\", \"F-[256]D-0.3-L12-F12\", \"F-[256]D-0.4-L12-F12\", \"F-[512, 128]D-0.0-L12-F12\", \"F-[512, 128]D-0.3-L12-F12\", \"F-[512, 256]D-0.0-L12-F12\", \"F-[512, 256]D-0.3-L12-F12\", \"F-[512]D-0.3-L12-F12\", \"F-[512]D-0.4-L12-F12\", \"F-[256]D-0.3-L12-F12\", \"F-[256]D-0.4-L12-F12\", \"F-[512, 128]D-0.0-L12-F12\", \"F-[512, 128]D-0.3-L12-F12\", \"F-[512, 256]D-0.0-L12-F12\", \"F-[512, 256]D-0.3-L12-F12\", \"F-[512]D-0.3-L12-F12\", \"F-[512]D-0.4-L12-F12\", \"F-[1024]D-0.3-L12-F12\", \"F-[1024]D-0.3-L18-F18\", \"F-[256]D-0.3-L12-F12\", \"F-[256]D-0.3-L18-F18\", \"F-[512]D-0.3-L12-F12\", \"F-[512]D-0.3-L18-F18\"], \"x\": [6.851450906812155, 6.861539450372495, 6.854238099346975, 6.8604003655095935, 6.854211268233038, 6.861946910700318, 6.763865146703893, 6.754721454519048, 6.761246859908036, 6.750338436019288, 6.760308072247276, 6.749337825806112, 6.756821975879269, 6.745631708527174, 6.786758245259073, 6.837601708803827, 7.213886413527585, 6.4115065986706945, 6.87860841514697, 6.886668686369326, 6.788294332032781, 6.7670039838496425, 6.823371791110082, 6.806116543523324, 6.823872844300646, 6.749830801557599, 6.829306935639341, 6.766915556025645, 6.797639584412073, 6.730233930207944, 6.798663348835122, 6.804931581408258, 6.814636339683091, 6.807240716930206, 6.804852794695847, 6.794958177383836, 6.869273780401826, 6.874048942731118, 6.868466222012013, 6.872831755867333, 6.8669851840261185, 6.875561985017614, 6.77407197464905, 6.772139376644954, 6.743330592280415, 6.739708177357597, 6.738339031630961, 6.734216752721063, 6.770062924380783, 6.766360919001657, 6.7783705631063595, 6.770707410600928, 6.745264866343583, 6.739288341261028, 6.733614002240809, 6.739943580267191, 6.769345980213654, 6.763194616013643, 6.818355757178413, 6.699682812840366, 6.813446471863536, 6.744577373515708, 6.828475433354584, 6.709081936833563], \"y\": [6.537573782548696, 6.546930784588435, 6.535541503487228, 6.542467421408199, 6.537938125345402, 6.539761951506633, 6.449346997342628, 6.446758919630054, 6.443898636734321, 6.445541037991291, 6.439643570251114, 6.440351367972519, 6.435196091962803, 6.444220568344742, 6.456281435026084, 6.442058794464516, 6.480112628683254, 6.212907874682181, 6.569526600545123, 6.567666666200325, 6.466920695581781, 6.441853314845658, 6.516985346303206, 6.4906385755262095, 6.511621884442855, 6.426850503576581, 6.517292426438988, 6.454753930090781, 6.478544655316494, 6.425605003516706, 6.496564475837224, 6.505789624084872, 6.504027083692669, 6.508308718816298, 6.502368751472694, 6.495827856250149, 6.559106210511078, 6.553689830470733, 6.5551445547797185, 6.5541988254875125, 6.546522229660272, 6.555588028934803, 6.458353893432954, 6.453545577392287, 6.417185009411071, 6.432341896287454, 6.399547885138153, 6.419105804839178, 6.446365758492175, 6.450464706934313, 6.465914665692498, 6.459353370785059, 6.420490595288721, 6.427520777070356, 6.409635216279903, 6.423220787224454, 6.447988167177141, 6.4529016817999425, 6.52371359771944, 6.394239981745625, 6.5117417616423285, 6.449732238059569, 6.513526942579547, 6.408908397506788], \"type\": \"scatter\", \"uid\": \"a2082b84-4fb2-42cb-947e-3f7833a1467a\"}], {}, {\"showLink\": false, \"linkText\": \"Export to plot.ly\", \"plotlyServerURL\": \"https://plot.ly\"}); \n",
       "}\n",
       "});</script><script type=\"text/javascript\">window.addEventListener(\"resize\", function(){if (document.getElementById(\"00536b9d-eac7-46e0-a6f4-d3811784ebf1\")) {window._Plotly.Plots.resize(document.getElementById(\"00536b9d-eac7-46e0-a6f4-d3811784ebf1\"));};})</script>"
      ]
     },
     "metadata": {},
     "output_type": "display_data"
    }
   ],
   "source": [
    "trace = []\n",
    "facet = 'activation_full'\n",
    "for v in sorted(b[facet].unique()):\n",
    "    trace.append(go.Scatter(\n",
    "        x = b[b[facet]==v]['test']['mean'],\n",
    "        y = b[b[facet]==v]['val']['mean'],\n",
    "        text='F-'+b[b[facet]==v]['full'].astype(str) + 'D-' + b[b[facet]==v]['fulldrop'].astype(str) + '-L' + b[b[facet]==v]['lag'].astype(str)+ '-F' + b[b[facet]==v]['lag'].astype(str), \n",
    "        mode = 'markers', name=v,\n",
    "        marker={'size':b[b[facet]==v]['test']['count']/5}\n",
    "    ))\n",
    "py.iplot(trace, filename='basic-scatter')"
   ]
  },
  {
   "cell_type": "markdown",
   "metadata": {
    "extensions": {
     "jupyter_dashboards": {
      "version": 1,
      "views": {
       "grid_default": {
        "hidden": true
       },
       "report_default": {
        "hidden": true
       }
      }
     }
    }
   },
   "source": [
    "## Fit9 (elu 2)"
   ]
  },
  {
   "cell_type": "code",
   "execution_count": 457,
   "metadata": {
    "extensions": {
     "jupyter_dashboards": {
      "version": 1,
      "views": {
       "grid_default": {
        "hidden": true
       },
       "report_default": {
        "hidden": true
       }
      }
     }
    }
   },
   "outputs": [],
   "source": [
    "query={'experiment':'rnns2sactiv2'}\n",
    "\n",
    "results = DBResults(conn=mongolocaltest)\n",
    "#results = DBResults()\n",
    "\n",
    "results.results_dataframe_retrieve(query, arch=['neurons', 'nlayers', 'drop', 'full', 'fulldrop','activation_full'], data=['lag'])"
   ]
  },
  {
   "cell_type": "code",
   "execution_count": 458,
   "metadata": {},
   "outputs": [
    {
     "name": "stdout",
     "output_type": "stream",
     "text": [
      "27727\n"
     ]
    },
    {
     "data": {
      "text/html": [
       "<style  type=\"text/css\" >\n",
       "    #T_7ee45a96_51e2_11e9_975a_842b2bb021fdrow0_col8 {\n",
       "            background-color:  yellow;\n",
       "        }    #T_7ee45a96_51e2_11e9_975a_842b2bb021fdrow1_col8 {\n",
       "            background-color:  yellow;\n",
       "        }    #T_7ee45a96_51e2_11e9_975a_842b2bb021fdrow2_col8 {\n",
       "            background-color:  yellow;\n",
       "        }    #T_7ee45a96_51e2_11e9_975a_842b2bb021fdrow3_col8 {\n",
       "            background-color:  yellow;\n",
       "        }    #T_7ee45a96_51e2_11e9_975a_842b2bb021fdrow4_col8 {\n",
       "            background-color:  yellow;\n",
       "        }    #T_7ee45a96_51e2_11e9_975a_842b2bb021fdrow5_col7 {\n",
       "            background-color:  yellow;\n",
       "        }    #T_7ee45a96_51e2_11e9_975a_842b2bb021fdrow5_col8 {\n",
       "            background-color:  yellow;\n",
       "        }    #T_7ee45a96_51e2_11e9_975a_842b2bb021fdrow5_col9 {\n",
       "            background-color:  yellow;\n",
       "        }    #T_7ee45a96_51e2_11e9_975a_842b2bb021fdrow6_col8 {\n",
       "            background-color:  yellow;\n",
       "        }    #T_7ee45a96_51e2_11e9_975a_842b2bb021fdrow7_col8 {\n",
       "            background-color:  yellow;\n",
       "        }    #T_7ee45a96_51e2_11e9_975a_842b2bb021fdrow8_col8 {\n",
       "            background-color:  yellow;\n",
       "        }    #T_7ee45a96_51e2_11e9_975a_842b2bb021fdrow9_col8 {\n",
       "            background-color:  yellow;\n",
       "        }    #T_7ee45a96_51e2_11e9_975a_842b2bb021fdrow10_col8 {\n",
       "            background-color:  yellow;\n",
       "        }    #T_7ee45a96_51e2_11e9_975a_842b2bb021fdrow11_col8 {\n",
       "            background-color:  yellow;\n",
       "        }</style><table id=\"T_7ee45a96_51e2_11e9_975a_842b2bb021fd\" ><thead>    <tr>        <th class=\"blank level0\" ></th>        <th class=\"col_heading level0 col0\" >neurons</th>        <th class=\"col_heading level0 col1\" >nlayers</th>        <th class=\"col_heading level0 col2\" >drop</th>        <th class=\"col_heading level0 col3\" >full</th>        <th class=\"col_heading level0 col4\" >fulldrop</th>        <th class=\"col_heading level0 col5\" >activation_full</th>        <th class=\"col_heading level0 col6\" >lag</th>        <th class=\"col_heading level0 col7\" colspan=2>test</th>        <th class=\"col_heading level0 col9\" >val</th>    </tr>    <tr>        <th class=\"blank level1\" ></th>        <th class=\"col_heading level1 col0\" ></th>        <th class=\"col_heading level1 col1\" ></th>        <th class=\"col_heading level1 col2\" ></th>        <th class=\"col_heading level1 col3\" ></th>        <th class=\"col_heading level1 col4\" ></th>        <th class=\"col_heading level1 col5\" ></th>        <th class=\"col_heading level1 col6\" ></th>        <th class=\"col_heading level1 col7\" >mean</th>        <th class=\"col_heading level1 col8\" >count</th>        <th class=\"col_heading level1 col9\" >mean</th>    </tr></thead><tbody>\n",
       "                <tr>\n",
       "                        <th id=\"T_7ee45a96_51e2_11e9_975a_842b2bb021fdlevel0_row0\" class=\"row_heading level0 row0\" >46</th>\n",
       "                        <td id=\"T_7ee45a96_51e2_11e9_975a_842b2bb021fdrow0_col0\" class=\"data row0 col0\" >32</td>\n",
       "                        <td id=\"T_7ee45a96_51e2_11e9_975a_842b2bb021fdrow0_col1\" class=\"data row0 col1\" >1</td>\n",
       "                        <td id=\"T_7ee45a96_51e2_11e9_975a_842b2bb021fdrow0_col2\" class=\"data row0 col2\" >0.3</td>\n",
       "                        <td id=\"T_7ee45a96_51e2_11e9_975a_842b2bb021fdrow0_col3\" class=\"data row0 col3\" >[128]</td>\n",
       "                        <td id=\"T_7ee45a96_51e2_11e9_975a_842b2bb021fdrow0_col4\" class=\"data row0 col4\" >0.2</td>\n",
       "                        <td id=\"T_7ee45a96_51e2_11e9_975a_842b2bb021fdrow0_col5\" class=\"data row0 col5\" >['elu', 0.4]</td>\n",
       "                        <td id=\"T_7ee45a96_51e2_11e9_975a_842b2bb021fdrow0_col6\" class=\"data row0 col6\" >12</td>\n",
       "                        <td id=\"T_7ee45a96_51e2_11e9_975a_842b2bb021fdrow0_col7\" class=\"data row0 col7\" >6.95091</td>\n",
       "                        <td id=\"T_7ee45a96_51e2_11e9_975a_842b2bb021fdrow0_col8\" class=\"data row0 col8\" >200</td>\n",
       "                        <td id=\"T_7ee45a96_51e2_11e9_975a_842b2bb021fdrow0_col9\" class=\"data row0 col9\" >6.6462</td>\n",
       "            </tr>\n",
       "            <tr>\n",
       "                        <th id=\"T_7ee45a96_51e2_11e9_975a_842b2bb021fdlevel0_row1\" class=\"row_heading level0 row1\" >57</th>\n",
       "                        <td id=\"T_7ee45a96_51e2_11e9_975a_842b2bb021fdrow1_col0\" class=\"data row1 col0\" >32</td>\n",
       "                        <td id=\"T_7ee45a96_51e2_11e9_975a_842b2bb021fdrow1_col1\" class=\"data row1 col1\" >1</td>\n",
       "                        <td id=\"T_7ee45a96_51e2_11e9_975a_842b2bb021fdrow1_col2\" class=\"data row1 col2\" >0.3</td>\n",
       "                        <td id=\"T_7ee45a96_51e2_11e9_975a_842b2bb021fdrow1_col3\" class=\"data row1 col3\" >[256]</td>\n",
       "                        <td id=\"T_7ee45a96_51e2_11e9_975a_842b2bb021fdrow1_col4\" class=\"data row1 col4\" >0.2</td>\n",
       "                        <td id=\"T_7ee45a96_51e2_11e9_975a_842b2bb021fdrow1_col5\" class=\"data row1 col5\" >['elu', 0.4]</td>\n",
       "                        <td id=\"T_7ee45a96_51e2_11e9_975a_842b2bb021fdrow1_col6\" class=\"data row1 col6\" >12</td>\n",
       "                        <td id=\"T_7ee45a96_51e2_11e9_975a_842b2bb021fdrow1_col7\" class=\"data row1 col7\" >6.95922</td>\n",
       "                        <td id=\"T_7ee45a96_51e2_11e9_975a_842b2bb021fdrow1_col8\" class=\"data row1 col8\" >200</td>\n",
       "                        <td id=\"T_7ee45a96_51e2_11e9_975a_842b2bb021fdrow1_col9\" class=\"data row1 col9\" >6.65153</td>\n",
       "            </tr>\n",
       "            <tr>\n",
       "                        <th id=\"T_7ee45a96_51e2_11e9_975a_842b2bb021fdlevel0_row2\" class=\"row_heading level0 row2\" >59</th>\n",
       "                        <td id=\"T_7ee45a96_51e2_11e9_975a_842b2bb021fdrow2_col0\" class=\"data row2 col0\" >32</td>\n",
       "                        <td id=\"T_7ee45a96_51e2_11e9_975a_842b2bb021fdrow2_col1\" class=\"data row2 col1\" >1</td>\n",
       "                        <td id=\"T_7ee45a96_51e2_11e9_975a_842b2bb021fdrow2_col2\" class=\"data row2 col2\" >0.3</td>\n",
       "                        <td id=\"T_7ee45a96_51e2_11e9_975a_842b2bb021fdrow2_col3\" class=\"data row2 col3\" >[256]</td>\n",
       "                        <td id=\"T_7ee45a96_51e2_11e9_975a_842b2bb021fdrow2_col4\" class=\"data row2 col4\" >0.3</td>\n",
       "                        <td id=\"T_7ee45a96_51e2_11e9_975a_842b2bb021fdrow2_col5\" class=\"data row2 col5\" >['elu', 0.4]</td>\n",
       "                        <td id=\"T_7ee45a96_51e2_11e9_975a_842b2bb021fdrow2_col6\" class=\"data row2 col6\" >12</td>\n",
       "                        <td id=\"T_7ee45a96_51e2_11e9_975a_842b2bb021fdrow2_col7\" class=\"data row2 col7\" >6.95586</td>\n",
       "                        <td id=\"T_7ee45a96_51e2_11e9_975a_842b2bb021fdrow2_col8\" class=\"data row2 col8\" >200</td>\n",
       "                        <td id=\"T_7ee45a96_51e2_11e9_975a_842b2bb021fdrow2_col9\" class=\"data row2 col9\" >6.65</td>\n",
       "            </tr>\n",
       "            <tr>\n",
       "                        <th id=\"T_7ee45a96_51e2_11e9_975a_842b2bb021fdlevel0_row3\" class=\"row_heading level0 row3\" >63</th>\n",
       "                        <td id=\"T_7ee45a96_51e2_11e9_975a_842b2bb021fdrow3_col0\" class=\"data row3 col0\" >32</td>\n",
       "                        <td id=\"T_7ee45a96_51e2_11e9_975a_842b2bb021fdrow3_col1\" class=\"data row3 col1\" >1</td>\n",
       "                        <td id=\"T_7ee45a96_51e2_11e9_975a_842b2bb021fdrow3_col2\" class=\"data row3 col2\" >0.3</td>\n",
       "                        <td id=\"T_7ee45a96_51e2_11e9_975a_842b2bb021fdrow3_col3\" class=\"data row3 col3\" >[512]</td>\n",
       "                        <td id=\"T_7ee45a96_51e2_11e9_975a_842b2bb021fdrow3_col4\" class=\"data row3 col4\" >0.2</td>\n",
       "                        <td id=\"T_7ee45a96_51e2_11e9_975a_842b2bb021fdrow3_col5\" class=\"data row3 col5\" >['elu', 0.4]</td>\n",
       "                        <td id=\"T_7ee45a96_51e2_11e9_975a_842b2bb021fdrow3_col6\" class=\"data row3 col6\" >12</td>\n",
       "                        <td id=\"T_7ee45a96_51e2_11e9_975a_842b2bb021fdrow3_col7\" class=\"data row3 col7\" >6.95515</td>\n",
       "                        <td id=\"T_7ee45a96_51e2_11e9_975a_842b2bb021fdrow3_col8\" class=\"data row3 col8\" >200</td>\n",
       "                        <td id=\"T_7ee45a96_51e2_11e9_975a_842b2bb021fdrow3_col9\" class=\"data row3 col9\" >6.6371</td>\n",
       "            </tr>\n",
       "            <tr>\n",
       "                        <th id=\"T_7ee45a96_51e2_11e9_975a_842b2bb021fdlevel0_row4\" class=\"row_heading level0 row4\" >67</th>\n",
       "                        <td id=\"T_7ee45a96_51e2_11e9_975a_842b2bb021fdrow4_col0\" class=\"data row4 col0\" >32</td>\n",
       "                        <td id=\"T_7ee45a96_51e2_11e9_975a_842b2bb021fdrow4_col1\" class=\"data row4 col1\" >1</td>\n",
       "                        <td id=\"T_7ee45a96_51e2_11e9_975a_842b2bb021fdrow4_col2\" class=\"data row4 col2\" >0.3</td>\n",
       "                        <td id=\"T_7ee45a96_51e2_11e9_975a_842b2bb021fdrow4_col3\" class=\"data row4 col3\" >[512]</td>\n",
       "                        <td id=\"T_7ee45a96_51e2_11e9_975a_842b2bb021fdrow4_col4\" class=\"data row4 col4\" >0.3</td>\n",
       "                        <td id=\"T_7ee45a96_51e2_11e9_975a_842b2bb021fdrow4_col5\" class=\"data row4 col5\" >['elu', 0.4]</td>\n",
       "                        <td id=\"T_7ee45a96_51e2_11e9_975a_842b2bb021fdrow4_col6\" class=\"data row4 col6\" >12</td>\n",
       "                        <td id=\"T_7ee45a96_51e2_11e9_975a_842b2bb021fdrow4_col7\" class=\"data row4 col7\" >6.95399</td>\n",
       "                        <td id=\"T_7ee45a96_51e2_11e9_975a_842b2bb021fdrow4_col8\" class=\"data row4 col8\" >200</td>\n",
       "                        <td id=\"T_7ee45a96_51e2_11e9_975a_842b2bb021fdrow4_col9\" class=\"data row4 col9\" >6.64539</td>\n",
       "            </tr>\n",
       "            <tr>\n",
       "                        <th id=\"T_7ee45a96_51e2_11e9_975a_842b2bb021fdlevel0_row5\" class=\"row_heading level0 row5\" >72</th>\n",
       "                        <td id=\"T_7ee45a96_51e2_11e9_975a_842b2bb021fdrow5_col0\" class=\"data row5 col0\" >32</td>\n",
       "                        <td id=\"T_7ee45a96_51e2_11e9_975a_842b2bb021fdrow5_col1\" class=\"data row5 col1\" >1</td>\n",
       "                        <td id=\"T_7ee45a96_51e2_11e9_975a_842b2bb021fdrow5_col2\" class=\"data row5 col2\" >0.3</td>\n",
       "                        <td id=\"T_7ee45a96_51e2_11e9_975a_842b2bb021fdrow5_col3\" class=\"data row5 col3\" >[512]</td>\n",
       "                        <td id=\"T_7ee45a96_51e2_11e9_975a_842b2bb021fdrow5_col4\" class=\"data row5 col4\" >0.4</td>\n",
       "                        <td id=\"T_7ee45a96_51e2_11e9_975a_842b2bb021fdrow5_col5\" class=\"data row5 col5\" >['elu', 0.4]</td>\n",
       "                        <td id=\"T_7ee45a96_51e2_11e9_975a_842b2bb021fdrow5_col6\" class=\"data row5 col6\" >12</td>\n",
       "                        <td id=\"T_7ee45a96_51e2_11e9_975a_842b2bb021fdrow5_col7\" class=\"data row5 col7\" >6.96023</td>\n",
       "                        <td id=\"T_7ee45a96_51e2_11e9_975a_842b2bb021fdrow5_col8\" class=\"data row5 col8\" >200</td>\n",
       "                        <td id=\"T_7ee45a96_51e2_11e9_975a_842b2bb021fdrow5_col9\" class=\"data row5 col9\" >6.6561</td>\n",
       "            </tr>\n",
       "            <tr>\n",
       "                        <th id=\"T_7ee45a96_51e2_11e9_975a_842b2bb021fdlevel0_row6\" class=\"row_heading level0 row6\" >118</th>\n",
       "                        <td id=\"T_7ee45a96_51e2_11e9_975a_842b2bb021fdrow6_col0\" class=\"data row6 col0\" >64</td>\n",
       "                        <td id=\"T_7ee45a96_51e2_11e9_975a_842b2bb021fdrow6_col1\" class=\"data row6 col1\" >1</td>\n",
       "                        <td id=\"T_7ee45a96_51e2_11e9_975a_842b2bb021fdrow6_col2\" class=\"data row6 col2\" >0.3</td>\n",
       "                        <td id=\"T_7ee45a96_51e2_11e9_975a_842b2bb021fdrow6_col3\" class=\"data row6 col3\" >[256]</td>\n",
       "                        <td id=\"T_7ee45a96_51e2_11e9_975a_842b2bb021fdrow6_col4\" class=\"data row6 col4\" >0.2</td>\n",
       "                        <td id=\"T_7ee45a96_51e2_11e9_975a_842b2bb021fdrow6_col5\" class=\"data row6 col5\" >['elu', 0.4]</td>\n",
       "                        <td id=\"T_7ee45a96_51e2_11e9_975a_842b2bb021fdrow6_col6\" class=\"data row6 col6\" >12</td>\n",
       "                        <td id=\"T_7ee45a96_51e2_11e9_975a_842b2bb021fdrow6_col7\" class=\"data row6 col7\" >6.95282</td>\n",
       "                        <td id=\"T_7ee45a96_51e2_11e9_975a_842b2bb021fdrow6_col8\" class=\"data row6 col8\" >200</td>\n",
       "                        <td id=\"T_7ee45a96_51e2_11e9_975a_842b2bb021fdrow6_col9\" class=\"data row6 col9\" >6.64491</td>\n",
       "            </tr>\n",
       "            <tr>\n",
       "                        <th id=\"T_7ee45a96_51e2_11e9_975a_842b2bb021fdlevel0_row7\" class=\"row_heading level0 row7\" >119</th>\n",
       "                        <td id=\"T_7ee45a96_51e2_11e9_975a_842b2bb021fdrow7_col0\" class=\"data row7 col0\" >64</td>\n",
       "                        <td id=\"T_7ee45a96_51e2_11e9_975a_842b2bb021fdrow7_col1\" class=\"data row7 col1\" >1</td>\n",
       "                        <td id=\"T_7ee45a96_51e2_11e9_975a_842b2bb021fdrow7_col2\" class=\"data row7 col2\" >0.3</td>\n",
       "                        <td id=\"T_7ee45a96_51e2_11e9_975a_842b2bb021fdrow7_col3\" class=\"data row7 col3\" >[256]</td>\n",
       "                        <td id=\"T_7ee45a96_51e2_11e9_975a_842b2bb021fdrow7_col4\" class=\"data row7 col4\" >0.3</td>\n",
       "                        <td id=\"T_7ee45a96_51e2_11e9_975a_842b2bb021fdrow7_col5\" class=\"data row7 col5\" >['elu', 0.4]</td>\n",
       "                        <td id=\"T_7ee45a96_51e2_11e9_975a_842b2bb021fdrow7_col6\" class=\"data row7 col6\" >12</td>\n",
       "                        <td id=\"T_7ee45a96_51e2_11e9_975a_842b2bb021fdrow7_col7\" class=\"data row7 col7\" >6.9506</td>\n",
       "                        <td id=\"T_7ee45a96_51e2_11e9_975a_842b2bb021fdrow7_col8\" class=\"data row7 col8\" >200</td>\n",
       "                        <td id=\"T_7ee45a96_51e2_11e9_975a_842b2bb021fdrow7_col9\" class=\"data row7 col9\" >6.64017</td>\n",
       "            </tr>\n",
       "            <tr>\n",
       "                        <th id=\"T_7ee45a96_51e2_11e9_975a_842b2bb021fdlevel0_row8\" class=\"row_heading level0 row8\" >121</th>\n",
       "                        <td id=\"T_7ee45a96_51e2_11e9_975a_842b2bb021fdrow8_col0\" class=\"data row8 col0\" >64</td>\n",
       "                        <td id=\"T_7ee45a96_51e2_11e9_975a_842b2bb021fdrow8_col1\" class=\"data row8 col1\" >1</td>\n",
       "                        <td id=\"T_7ee45a96_51e2_11e9_975a_842b2bb021fdrow8_col2\" class=\"data row8 col2\" >0.3</td>\n",
       "                        <td id=\"T_7ee45a96_51e2_11e9_975a_842b2bb021fdrow8_col3\" class=\"data row8 col3\" >[512]</td>\n",
       "                        <td id=\"T_7ee45a96_51e2_11e9_975a_842b2bb021fdrow8_col4\" class=\"data row8 col4\" >0.2</td>\n",
       "                        <td id=\"T_7ee45a96_51e2_11e9_975a_842b2bb021fdrow8_col5\" class=\"data row8 col5\" >['elu', 0.4]</td>\n",
       "                        <td id=\"T_7ee45a96_51e2_11e9_975a_842b2bb021fdrow8_col6\" class=\"data row8 col6\" >12</td>\n",
       "                        <td id=\"T_7ee45a96_51e2_11e9_975a_842b2bb021fdrow8_col7\" class=\"data row8 col7\" >6.9523</td>\n",
       "                        <td id=\"T_7ee45a96_51e2_11e9_975a_842b2bb021fdrow8_col8\" class=\"data row8 col8\" >200</td>\n",
       "                        <td id=\"T_7ee45a96_51e2_11e9_975a_842b2bb021fdrow8_col9\" class=\"data row8 col9\" >6.63647</td>\n",
       "            </tr>\n",
       "            <tr>\n",
       "                        <th id=\"T_7ee45a96_51e2_11e9_975a_842b2bb021fdlevel0_row9\" class=\"row_heading level0 row9\" >122</th>\n",
       "                        <td id=\"T_7ee45a96_51e2_11e9_975a_842b2bb021fdrow9_col0\" class=\"data row9 col0\" >64</td>\n",
       "                        <td id=\"T_7ee45a96_51e2_11e9_975a_842b2bb021fdrow9_col1\" class=\"data row9 col1\" >1</td>\n",
       "                        <td id=\"T_7ee45a96_51e2_11e9_975a_842b2bb021fdrow9_col2\" class=\"data row9 col2\" >0.3</td>\n",
       "                        <td id=\"T_7ee45a96_51e2_11e9_975a_842b2bb021fdrow9_col3\" class=\"data row9 col3\" >[512]</td>\n",
       "                        <td id=\"T_7ee45a96_51e2_11e9_975a_842b2bb021fdrow9_col4\" class=\"data row9 col4\" >0.3</td>\n",
       "                        <td id=\"T_7ee45a96_51e2_11e9_975a_842b2bb021fdrow9_col5\" class=\"data row9 col5\" >['elu', 0.4]</td>\n",
       "                        <td id=\"T_7ee45a96_51e2_11e9_975a_842b2bb021fdrow9_col6\" class=\"data row9 col6\" >12</td>\n",
       "                        <td id=\"T_7ee45a96_51e2_11e9_975a_842b2bb021fdrow9_col7\" class=\"data row9 col7\" >6.9504</td>\n",
       "                        <td id=\"T_7ee45a96_51e2_11e9_975a_842b2bb021fdrow9_col8\" class=\"data row9 col8\" >200</td>\n",
       "                        <td id=\"T_7ee45a96_51e2_11e9_975a_842b2bb021fdrow9_col9\" class=\"data row9 col9\" >6.63556</td>\n",
       "            </tr>\n",
       "            <tr>\n",
       "                        <th id=\"T_7ee45a96_51e2_11e9_975a_842b2bb021fdlevel0_row10\" class=\"row_heading level0 row10\" >133</th>\n",
       "                        <td id=\"T_7ee45a96_51e2_11e9_975a_842b2bb021fdrow10_col0\" class=\"data row10 col0\" >64</td>\n",
       "                        <td id=\"T_7ee45a96_51e2_11e9_975a_842b2bb021fdrow10_col1\" class=\"data row10 col1\" >1</td>\n",
       "                        <td id=\"T_7ee45a96_51e2_11e9_975a_842b2bb021fdrow10_col2\" class=\"data row10 col2\" >0.4</td>\n",
       "                        <td id=\"T_7ee45a96_51e2_11e9_975a_842b2bb021fdrow10_col3\" class=\"data row10 col3\" >[512]</td>\n",
       "                        <td id=\"T_7ee45a96_51e2_11e9_975a_842b2bb021fdrow10_col4\" class=\"data row10 col4\" >0.2</td>\n",
       "                        <td id=\"T_7ee45a96_51e2_11e9_975a_842b2bb021fdrow10_col5\" class=\"data row10 col5\" >['elu', 0.4]</td>\n",
       "                        <td id=\"T_7ee45a96_51e2_11e9_975a_842b2bb021fdrow10_col6\" class=\"data row10 col6\" >12</td>\n",
       "                        <td id=\"T_7ee45a96_51e2_11e9_975a_842b2bb021fdrow10_col7\" class=\"data row10 col7\" >6.95249</td>\n",
       "                        <td id=\"T_7ee45a96_51e2_11e9_975a_842b2bb021fdrow10_col8\" class=\"data row10 col8\" >200</td>\n",
       "                        <td id=\"T_7ee45a96_51e2_11e9_975a_842b2bb021fdrow10_col9\" class=\"data row10 col9\" >6.63733</td>\n",
       "            </tr>\n",
       "            <tr>\n",
       "                        <th id=\"T_7ee45a96_51e2_11e9_975a_842b2bb021fdlevel0_row11\" class=\"row_heading level0 row11\" >134</th>\n",
       "                        <td id=\"T_7ee45a96_51e2_11e9_975a_842b2bb021fdrow11_col0\" class=\"data row11 col0\" >64</td>\n",
       "                        <td id=\"T_7ee45a96_51e2_11e9_975a_842b2bb021fdrow11_col1\" class=\"data row11 col1\" >1</td>\n",
       "                        <td id=\"T_7ee45a96_51e2_11e9_975a_842b2bb021fdrow11_col2\" class=\"data row11 col2\" >0.4</td>\n",
       "                        <td id=\"T_7ee45a96_51e2_11e9_975a_842b2bb021fdrow11_col3\" class=\"data row11 col3\" >[512]</td>\n",
       "                        <td id=\"T_7ee45a96_51e2_11e9_975a_842b2bb021fdrow11_col4\" class=\"data row11 col4\" >0.3</td>\n",
       "                        <td id=\"T_7ee45a96_51e2_11e9_975a_842b2bb021fdrow11_col5\" class=\"data row11 col5\" >['elu', 0.4]</td>\n",
       "                        <td id=\"T_7ee45a96_51e2_11e9_975a_842b2bb021fdrow11_col6\" class=\"data row11 col6\" >12</td>\n",
       "                        <td id=\"T_7ee45a96_51e2_11e9_975a_842b2bb021fdrow11_col7\" class=\"data row11 col7\" >6.95137</td>\n",
       "                        <td id=\"T_7ee45a96_51e2_11e9_975a_842b2bb021fdrow11_col8\" class=\"data row11 col8\" >200</td>\n",
       "                        <td id=\"T_7ee45a96_51e2_11e9_975a_842b2bb021fdrow11_col9\" class=\"data row11 col9\" >6.63661</td>\n",
       "            </tr>\n",
       "    </tbody></table>"
      ],
      "text/plain": [
       "<pandas.io.formats.style.Styler at 0x7f382e25f9b0>"
      ]
     },
     "execution_count": 458,
     "metadata": {},
     "output_type": "execute_result"
    }
   ],
   "source": [
    "results.results_dataframe_aggregate(threshold=6.95)"
   ]
  },
  {
   "cell_type": "code",
   "execution_count": 459,
   "metadata": {},
   "outputs": [
    {
     "data": {
      "application/vnd.plotly.v1+json": {
       "config": {
        "linkText": "Export to plot.ly",
        "plotlyServerURL": "https://plot.ly",
        "showLink": false
       },
       "data": [
        {
         "marker": {
          "size": [
           40,
           40,
           40,
           40
          ]
         },
         "mode": "markers",
         "name": "[1024]",
         "text": [
          "full:[1024]-fulldrop:0.3-drop:0.3-lag:12-full:[1024]",
          "full:[1024]-fulldrop:0.4-drop:0.3-lag:12-full:[1024]",
          "full:[1024]-fulldrop:0.3-drop:0.3-lag:12-full:[1024]",
          "full:[1024]-fulldrop:0.4-drop:0.3-lag:12-full:[1024]"
         ],
         "type": "scatter",
         "uid": "17189755-b0b4-4dc5-8931-0050fc879265",
         "x": [
          6.857475602501799,
          6.855184564149485,
          6.840379688061367,
          6.830057927534726
         ],
         "y": [
          6.539052073602097,
          6.536846043770598,
          6.51803939594916,
          6.513750789280193
         ]
        },
        {
         "marker": {
          "size": [
           40,
           40,
           40,
           40,
           40,
           40,
           40,
           40,
           40,
           40,
           40,
           40
          ]
         },
         "mode": "markers",
         "name": "[128]",
         "text": [
          "full:[128]-fulldrop:0.2-drop:0.3-lag:12-full:[128]",
          "full:[128]-fulldrop:0.3-drop:0.3-lag:12-full:[128]",
          "full:[128]-fulldrop:0.4-drop:0.3-lag:12-full:[128]",
          "full:[128]-fulldrop:0.2-drop:0.4-lag:12-full:[128]",
          "full:[128]-fulldrop:0.3-drop:0.4-lag:12-full:[128]",
          "full:[128]-fulldrop:0.4-drop:0.4-lag:12-full:[128]",
          "full:[128]-fulldrop:0.2-drop:0.3-lag:12-full:[128]",
          "full:[128]-fulldrop:0.3-drop:0.3-lag:12-full:[128]",
          "full:[128]-fulldrop:0.4-drop:0.3-lag:12-full:[128]",
          "full:[128]-fulldrop:0.2-drop:0.4-lag:12-full:[128]",
          "full:[128]-fulldrop:0.3-drop:0.4-lag:12-full:[128]",
          "full:[128]-fulldrop:0.4-drop:0.4-lag:12-full:[128]"
         ],
         "type": "scatter",
         "uid": "bc40cebf-ab56-4bd8-998f-3b348107364d",
         "x": [
          6.950906746047084,
          6.940809753358966,
          6.91470277355145,
          6.946033720178191,
          6.924870653054946,
          6.905364493536757,
          6.942716750486482,
          6.933376008639463,
          6.915961665501348,
          6.936229053571797,
          6.9245688032331465,
          6.900306767913211
         ],
         "y": [
          6.64620370165377,
          6.648061243182069,
          6.627648347128212,
          6.641599175597195,
          6.6266171403254415,
          6.618923644259899,
          6.6381859292533285,
          6.638101499635201,
          6.617099258794199,
          6.635049195772747,
          6.627062663294896,
          6.60706529055164
         ]
        },
        {
         "marker": {
          "size": [
           40,
           40,
           40,
           40
          ]
         },
         "mode": "markers",
         "name": "[2048]",
         "text": [
          "full:[2048]-fulldrop:0.3-drop:0.3-lag:12-full:[2048]",
          "full:[2048]-fulldrop:0.4-drop:0.3-lag:12-full:[2048]",
          "full:[2048]-fulldrop:0.3-drop:0.3-lag:12-full:[2048]",
          "full:[2048]-fulldrop:0.4-drop:0.3-lag:12-full:[2048]"
         ],
         "type": "scatter",
         "uid": "638a094c-0fcf-4ec1-9ec2-fd50bc7dc1b3",
         "x": [
          6.847973928554645,
          6.851738866195429,
          6.831554726995226,
          6.828870706962498
         ],
         "y": [
          6.528642293051701,
          6.532323497683883,
          6.499735503802487,
          6.511071000233202
         ]
        },
        {
         "marker": {
          "size": [
           40,
           40,
           40,
           40,
           40,
           40
          ]
         },
         "mode": "markers",
         "name": "[216]",
         "text": [
          "full:[216]-fulldrop:0.3-drop:0.3-lag:12-full:[216]",
          "full:[216]-fulldrop:0.3-drop:0.3-lag:12-full:[216]",
          "full:[216]-fulldrop:0.3-drop:0.3-lag:12-full:[216]",
          "full:[216]-fulldrop:0.4-drop:0.3-lag:12-full:[216]",
          "full:[216]-fulldrop:0.4-drop:0.3-lag:12-full:[216]",
          "full:[216]-fulldrop:0.4-drop:0.3-lag:12-full:[216]"
         ],
         "type": "scatter",
         "uid": "46cf551d-8b8c-4d42-80ff-4d9bbfc8edfc",
         "x": [
          6.889498611787432,
          6.874143527932378,
          6.815727612093488,
          6.884392501983756,
          6.863772290168047,
          6.817954005036222
         ],
         "y": [
          6.581045410438861,
          6.559664652967183,
          6.515524970852398,
          6.583237675681506,
          6.560199174603262,
          6.505892952987628
         ]
        },
        {
         "marker": {
          "size": [
           40,
           39.4,
           39.6,
           40,
           39.6,
           39.6,
           39.8,
           39.8,
           39.8,
           39.4,
           39.8,
           40,
           39.6,
           39.6,
           40,
           40,
           39.6,
           39,
           39.2,
           40,
           39.6,
           40,
           40,
           40,
           40,
           40,
           40,
           40,
           40,
           40,
           40,
           40,
           40,
           40,
           40,
           40,
           40,
           40,
           40,
           40,
           40,
           40,
           40,
           40,
           40,
           40
          ]
         },
         "mode": "markers",
         "name": "[256]",
         "text": [
          "full:[256]-fulldrop:0.2-drop:0.3-lag:12-full:[256]",
          "full:[256]-fulldrop:0.3-drop:0.3-lag:12-full:[256]",
          "full:[256]-fulldrop:0.4-drop:0.3-lag:12-full:[256]",
          "full:[256]-fulldrop:0.2-drop:0.4-lag:12-full:[256]",
          "full:[256]-fulldrop:0.3-drop:0.4-lag:12-full:[256]",
          "full:[256]-fulldrop:0.4-drop:0.4-lag:12-full:[256]",
          "full:[256]-fulldrop:0.2-drop:0.3-lag:12-full:[256]",
          "full:[256]-fulldrop:0.3-drop:0.3-lag:12-full:[256]",
          "full:[256]-fulldrop:0.4-drop:0.3-lag:12-full:[256]",
          "full:[256]-fulldrop:0.2-drop:0.4-lag:12-full:[256]",
          "full:[256]-fulldrop:0.3-drop:0.4-lag:12-full:[256]",
          "full:[256]-fulldrop:0.4-drop:0.4-lag:12-full:[256]",
          "full:[256]-fulldrop:0.2-drop:0.3-lag:12-full:[256]",
          "full:[256]-fulldrop:0.3-drop:0.3-lag:12-full:[256]",
          "full:[256]-fulldrop:0.2-drop:0.3-lag:12-full:[256]",
          "full:[256]-fulldrop:0.3-drop:0.3-lag:12-full:[256]",
          "full:[256]-fulldrop:0.2-drop:0.3-lag:12-full:[256]",
          "full:[256]-fulldrop:0.3-drop:0.3-lag:12-full:[256]",
          "full:[256]-fulldrop:0.4-drop:0.3-lag:12-full:[256]",
          "full:[256]-fulldrop:0.2-drop:0.4-lag:12-full:[256]",
          "full:[256]-fulldrop:0.3-drop:0.4-lag:12-full:[256]",
          "full:[256]-fulldrop:0.4-drop:0.4-lag:12-full:[256]",
          "full:[256]-fulldrop:0.2-drop:0.3-lag:12-full:[256]",
          "full:[256]-fulldrop:0.2-drop:0.3-lag:12-full:[256]",
          "full:[256]-fulldrop:0.3-drop:0.3-lag:12-full:[256]",
          "full:[256]-fulldrop:0.3-drop:0.3-lag:12-full:[256]",
          "full:[256]-fulldrop:0.4-drop:0.3-lag:12-full:[256]",
          "full:[256]-fulldrop:0.4-drop:0.3-lag:12-full:[256]",
          "full:[256]-fulldrop:0.2-drop:0.4-lag:12-full:[256]",
          "full:[256]-fulldrop:0.3-drop:0.4-lag:12-full:[256]",
          "full:[256]-fulldrop:0.4-drop:0.4-lag:12-full:[256]",
          "full:[256]-fulldrop:0.2-drop:0.3-lag:12-full:[256]",
          "full:[256]-fulldrop:0.3-drop:0.3-lag:12-full:[256]",
          "full:[256]-fulldrop:0.3-drop:0.3-lag:12-full:[256]",
          "full:[256]-fulldrop:0.3-drop:0.3-lag:12-full:[256]",
          "full:[256]-fulldrop:0.3-drop:0.3-lag:12-full:[256]",
          "full:[256]-fulldrop:0.4-drop:0.3-lag:12-full:[256]",
          "full:[256]-fulldrop:0.4-drop:0.3-lag:12-full:[256]",
          "full:[256]-fulldrop:0.4-drop:0.3-lag:12-full:[256]",
          "full:[256]-fulldrop:0.4-drop:0.3-lag:12-full:[256]",
          "full:[256]-fulldrop:0.2-drop:0.3-lag:12-full:[256]",
          "full:[256]-fulldrop:0.3-drop:0.3-lag:12-full:[256]",
          "full:[256]-fulldrop:0.4-drop:0.3-lag:12-full:[256]",
          "full:[256]-fulldrop:0.2-drop:0.4-lag:12-full:[256]",
          "full:[256]-fulldrop:0.3-drop:0.4-lag:12-full:[256]",
          "full:[256]-fulldrop:0.4-drop:0.4-lag:12-full:[256]"
         ],
         "type": "scatter",
         "uid": "fe4a1e34-9286-4e2a-b691-2f15fc12f734",
         "x": [
          6.879914915356471,
          6.876625959119287,
          6.861794428517507,
          6.875681922694352,
          6.869552280151389,
          6.860722284189181,
          6.904476478389225,
          6.890552109931034,
          6.888602149846361,
          6.89214841619188,
          6.872257265136282,
          6.867741021869564,
          6.811526031521197,
          6.814067257121391,
          6.777414770972914,
          6.773450983027385,
          6.8421260684176195,
          6.83416998570167,
          6.846999738538253,
          6.819381621243066,
          6.813973698097647,
          6.808169855436628,
          6.959217327005091,
          6.881720361497954,
          6.955863161849258,
          6.882581838404135,
          6.946400463995158,
          6.878337424217022,
          6.945211208516654,
          6.94091482035696,
          6.931564627864801,
          6.829910884325759,
          6.856253566767518,
          6.8331469734206705,
          6.830537338827557,
          6.788156548469959,
          6.821179616348201,
          6.798544040740433,
          6.812930162442559,
          6.750254702897117,
          6.9528195174084155,
          6.950595528788674,
          6.938619623142915,
          6.9484342785622,
          6.94468288238746,
          6.932289677808955
         ],
         "y": [
          6.555456417728241,
          6.556801811776047,
          6.546036005828651,
          6.558686320532026,
          6.550620501013285,
          6.547340763616222,
          6.602530876961763,
          6.596932640571227,
          6.602401685427087,
          6.584586912920623,
          6.579586719741437,
          6.57525986424005,
          6.5134234617847655,
          6.512998610262288,
          6.479246815032156,
          6.466420231777139,
          6.536046487547741,
          6.530747433204374,
          6.531010120783794,
          6.507728860069204,
          6.491613695817684,
          6.493764499738604,
          6.651534691850661,
          6.569200487222496,
          6.649999255411718,
          6.5739762414067515,
          6.650782586544333,
          6.570773698959122,
          6.636749131881835,
          6.644373342100971,
          6.637761506660331,
          6.52688857755948,
          6.54850463091021,
          6.528580010855299,
          6.5215650501528835,
          6.481601607746393,
          6.514308162733853,
          6.493373921902329,
          6.509945754663498,
          6.429923272423505,
          6.644914104882669,
          6.640172812007295,
          6.634421996250939,
          6.643841997587536,
          6.636027843502931,
          6.625665445797505
         ]
        },
        {
         "marker": {
          "size": [
           40,
           39.8,
           39.8,
           40,
           40,
           40,
           40,
           40,
           40,
           39.6,
           39.8,
           39.6,
           39,
           39.6,
           39.8,
           39.8,
           40,
           39.4,
           39.8,
           39.6,
           39.8,
           40,
           40,
           40,
           40,
           40,
           40,
           40,
           40,
           40,
           40,
           40,
           39.6,
           38.6,
           38.8,
           40,
           40,
           40,
           40,
           40,
           40,
           39.8,
           40,
           40,
           40,
           39.8,
           40,
           40,
           40,
           40,
           40,
           40,
           40,
           40,
           40
          ]
         },
         "mode": "markers",
         "name": "[512]",
         "text": [
          "full:[512]-fulldrop:0.2-drop:0.3-lag:12-full:[512]",
          "full:[512]-fulldrop:0.3-drop:0.3-lag:12-full:[512]",
          "full:[512]-fulldrop:0.4-drop:0.3-lag:12-full:[512]",
          "full:[512]-fulldrop:0.2-drop:0.4-lag:12-full:[512]",
          "full:[512]-fulldrop:0.3-drop:0.4-lag:12-full:[512]",
          "full:[512]-fulldrop:0.4-drop:0.4-lag:12-full:[512]",
          "full:[512]-fulldrop:0.2-drop:0.3-lag:12-full:[512]",
          "full:[512]-fulldrop:0.3-drop:0.3-lag:12-full:[512]",
          "full:[512]-fulldrop:0.4-drop:0.3-lag:12-full:[512]",
          "full:[512]-fulldrop:0.2-drop:0.4-lag:12-full:[512]",
          "full:[512]-fulldrop:0.3-drop:0.4-lag:12-full:[512]",
          "full:[512]-fulldrop:0.4-drop:0.4-lag:12-full:[512]",
          "full:[512]-fulldrop:0.2-drop:0.3-lag:12-full:[512]",
          "full:[512]-fulldrop:0.3-drop:0.3-lag:12-full:[512]",
          "full:[512]-fulldrop:0.2-drop:0.3-lag:12-full:[512]",
          "full:[512]-fulldrop:0.3-drop:0.3-lag:12-full:[512]",
          "full:[512]-fulldrop:0.2-drop:0.3-lag:12-full:[512]",
          "full:[512]-fulldrop:0.3-drop:0.3-lag:12-full:[512]",
          "full:[512]-fulldrop:0.4-drop:0.3-lag:12-full:[512]",
          "full:[512]-fulldrop:0.2-drop:0.4-lag:12-full:[512]",
          "full:[512]-fulldrop:0.3-drop:0.4-lag:12-full:[512]",
          "full:[512]-fulldrop:0.4-drop:0.4-lag:12-full:[512]",
          "full:[512]-fulldrop:0.2-drop:0.3-lag:12-full:[512]",
          "full:[512]-fulldrop:0.2-drop:0.3-lag:12-full:[512]",
          "full:[512]-fulldrop:0.3-drop:0.3-lag:12-full:[512]",
          "full:[512]-fulldrop:0.3-drop:0.3-lag:12-full:[512]",
          "full:[512]-fulldrop:0.3-drop:0.3-lag:12-full:[512]",
          "full:[512]-fulldrop:0.3-drop:0.3-lag:12-full:[512]",
          "full:[512]-fulldrop:0.3-drop:0.3-lag:12-full:[512]",
          "full:[512]-fulldrop:0.4-drop:0.3-lag:12-full:[512]",
          "full:[512]-fulldrop:0.4-drop:0.3-lag:12-full:[512]",
          "full:[512]-fulldrop:0.4-drop:0.3-lag:12-full:[512]",
          "full:[512]-fulldrop:0.4-drop:0.3-lag:15-full:[512]",
          "full:[512]-fulldrop:0.4-drop:0.3-lag:6-full:[512]",
          "full:[512]-fulldrop:0.4-drop:0.3-lag:9-full:[512]",
          "full:[512]-fulldrop:0.4-drop:0.3-lag:12-full:[512]",
          "full:[512]-fulldrop:0.4-drop:0.3-lag:12-full:[512]",
          "full:[512]-fulldrop:0.2-drop:0.4-lag:12-full:[512]",
          "full:[512]-fulldrop:0.3-drop:0.4-lag:12-full:[512]",
          "full:[512]-fulldrop:0.4-drop:0.4-lag:12-full:[512]",
          "full:[512]-fulldrop:0.2-drop:0.3-lag:12-full:[512]",
          "full:[512]-fulldrop:0.3-drop:0.3-lag:12-full:[512]",
          "full:[512]-fulldrop:0.3-drop:0.3-lag:12-full:[512]",
          "full:[512]-fulldrop:0.3-drop:0.3-lag:12-full:[512]",
          "full:[512]-fulldrop:0.3-drop:0.3-lag:12-full:[512]",
          "full:[512]-fulldrop:0.4-drop:0.3-lag:12-full:[512]",
          "full:[512]-fulldrop:0.4-drop:0.3-lag:12-full:[512]",
          "full:[512]-fulldrop:0.4-drop:0.3-lag:12-full:[512]",
          "full:[512]-fulldrop:0.4-drop:0.3-lag:12-full:[512]",
          "full:[512]-fulldrop:0.2-drop:0.3-lag:12-full:[512]",
          "full:[512]-fulldrop:0.3-drop:0.3-lag:12-full:[512]",
          "full:[512]-fulldrop:0.4-drop:0.3-lag:12-full:[512]",
          "full:[512]-fulldrop:0.2-drop:0.4-lag:12-full:[512]",
          "full:[512]-fulldrop:0.3-drop:0.4-lag:12-full:[512]",
          "full:[512]-fulldrop:0.4-drop:0.4-lag:12-full:[512]"
         ],
         "type": "scatter",
         "uid": "42f50436-ffe7-44a7-a93c-5ae65af6c22f",
         "x": [
          6.877297817189983,
          6.871596287747535,
          6.8728479472637405,
          6.872360280017649,
          6.870064519685955,
          6.85070173524285,
          6.880559357010113,
          6.899688007913731,
          6.889038985963468,
          6.888657037419817,
          6.882314034992135,
          6.890127792610322,
          6.802560574626576,
          6.816769182495819,
          6.776237042285406,
          6.7687528381930955,
          6.845351827595144,
          6.838592330019941,
          6.842910534602835,
          6.828327454719065,
          6.810630771635485,
          6.80840140245358,
          6.955147414973035,
          6.880425316205795,
          6.890085785575659,
          6.88451545795989,
          6.9539919095318545,
          6.831141642988838,
          6.887844187093631,
          6.895614116721724,
          6.8756283782454295,
          6.960229187780301,
          6.887487219420398,
          6.879886505624466,
          6.8832877225818825,
          6.823013795528522,
          6.882380943234603,
          6.945923158529012,
          6.94584948637152,
          6.940978660101433,
          6.825417529816871,
          6.850149298439993,
          6.827369110582119,
          6.817045396009863,
          6.799489440981733,
          6.841108431291229,
          6.795670944923829,
          6.80750914603031,
          6.745047976366049,
          6.952302050664591,
          6.950397485058641,
          6.948279983373528,
          6.952488307265221,
          6.95136697234808,
          6.941222228156859
         ],
         "y": [
          6.559911081428882,
          6.557881416127565,
          6.550150145862812,
          6.553132407702561,
          6.543613360499318,
          6.533425808863388,
          6.577605279623124,
          6.5983891300186075,
          6.589353529112555,
          6.578915030130464,
          6.573254251998653,
          6.5836696128715335,
          6.505365152869837,
          6.510651878203801,
          6.476042039886483,
          6.462961036510365,
          6.5177179317141585,
          6.527865060827734,
          6.523936497075091,
          6.51499532216794,
          6.499308034907836,
          6.489656306365891,
          6.637100085588827,
          6.5629104193850205,
          6.56835865592957,
          6.565111056433091,
          6.645394071989631,
          6.515326707946064,
          6.572248223364824,
          6.581127547104225,
          6.567633139426509,
          6.656101963440202,
          6.5791075864331825,
          6.564924756695658,
          6.579624894980747,
          6.510488084521006,
          6.5765732701480735,
          6.634634005338008,
          6.6406850136779925,
          6.63758696323148,
          6.51032291109804,
          6.538272981298641,
          6.51740052332479,
          6.5084393239368445,
          6.4788184994288756,
          6.53894994433309,
          6.478627354975994,
          6.497427275001417,
          6.4293096460075745,
          6.636471102825277,
          6.635559527682019,
          6.62778864470167,
          6.637325998146297,
          6.636611093759667,
          6.635043496930366
         ]
        },
        {
         "marker": {
          "size": [
           40,
           40,
           40,
           40,
           40,
           40,
           40,
           40,
           40,
           40,
           40,
           40
          ]
         },
         "mode": "markers",
         "name": "[64]",
         "text": [
          "full:[64]-fulldrop:0.2-drop:0.3-lag:12-full:[64]",
          "full:[64]-fulldrop:0.3-drop:0.3-lag:12-full:[64]",
          "full:[64]-fulldrop:0.4-drop:0.3-lag:12-full:[64]",
          "full:[64]-fulldrop:0.2-drop:0.4-lag:12-full:[64]",
          "full:[64]-fulldrop:0.3-drop:0.4-lag:12-full:[64]",
          "full:[64]-fulldrop:0.4-drop:0.4-lag:12-full:[64]",
          "full:[64]-fulldrop:0.2-drop:0.3-lag:12-full:[64]",
          "full:[64]-fulldrop:0.3-drop:0.3-lag:12-full:[64]",
          "full:[64]-fulldrop:0.4-drop:0.3-lag:12-full:[64]",
          "full:[64]-fulldrop:0.2-drop:0.4-lag:12-full:[64]",
          "full:[64]-fulldrop:0.3-drop:0.4-lag:12-full:[64]",
          "full:[64]-fulldrop:0.4-drop:0.4-lag:12-full:[64]"
         ],
         "type": "scatter",
         "uid": "669393d8-b816-4d8d-adf2-7035086bef87",
         "x": [
          6.9217931049928225,
          6.90313593600664,
          6.873351960817425,
          6.9208680340190485,
          6.882825582388746,
          6.848281741969848,
          6.925291183087527,
          6.906947548295539,
          6.881223430894368,
          6.907656101642714,
          6.888601371321427,
          6.858297084269838
         ],
         "y": [
          6.62980467713814,
          6.61816829918056,
          6.595009741433244,
          6.628883872158848,
          6.5994224542726405,
          6.5703079720875905,
          6.626601078126729,
          6.606311379592239,
          6.598636460297741,
          6.613670509888516,
          6.5937573820534805,
          6.571280124331602
         ]
        }
       ],
       "layout": {}
      },
      "text/html": [
       "<div id=\"cf7a5aef-97be-4d31-9620-653afa39100f\" style=\"height: 525px; width: 100%;\" class=\"plotly-graph-div\"></div><script type=\"text/javascript\">require([\"plotly\"], function(Plotly) { window.PLOTLYENV=window.PLOTLYENV || {};window.PLOTLYENV.BASE_URL=\"https://plot.ly\";\n",
       "if (document.getElementById(\"cf7a5aef-97be-4d31-9620-653afa39100f\")) {\n",
       "    Plotly.newPlot(\"cf7a5aef-97be-4d31-9620-653afa39100f\", [{\"marker\": {\"size\": [40.0, 40.0, 40.0, 40.0]}, \"mode\": \"markers\", \"name\": \"[1024]\", \"text\": [\"full:[1024]-fulldrop:0.3-drop:0.3-lag:12-full:[1024]\", \"full:[1024]-fulldrop:0.4-drop:0.3-lag:12-full:[1024]\", \"full:[1024]-fulldrop:0.3-drop:0.3-lag:12-full:[1024]\", \"full:[1024]-fulldrop:0.4-drop:0.3-lag:12-full:[1024]\"], \"x\": [6.857475602501799, 6.855184564149485, 6.840379688061367, 6.830057927534726], \"y\": [6.539052073602097, 6.536846043770598, 6.51803939594916, 6.513750789280193], \"type\": \"scatter\", \"uid\": \"bb7cde8f-4ae7-4791-af0e-1c4ac1a4c4ba\"}, {\"marker\": {\"size\": [40.0, 40.0, 40.0, 40.0, 40.0, 40.0, 40.0, 40.0, 40.0, 40.0, 40.0, 40.0]}, \"mode\": \"markers\", \"name\": \"[128]\", \"text\": [\"full:[128]-fulldrop:0.2-drop:0.3-lag:12-full:[128]\", \"full:[128]-fulldrop:0.3-drop:0.3-lag:12-full:[128]\", \"full:[128]-fulldrop:0.4-drop:0.3-lag:12-full:[128]\", \"full:[128]-fulldrop:0.2-drop:0.4-lag:12-full:[128]\", \"full:[128]-fulldrop:0.3-drop:0.4-lag:12-full:[128]\", \"full:[128]-fulldrop:0.4-drop:0.4-lag:12-full:[128]\", \"full:[128]-fulldrop:0.2-drop:0.3-lag:12-full:[128]\", \"full:[128]-fulldrop:0.3-drop:0.3-lag:12-full:[128]\", \"full:[128]-fulldrop:0.4-drop:0.3-lag:12-full:[128]\", \"full:[128]-fulldrop:0.2-drop:0.4-lag:12-full:[128]\", \"full:[128]-fulldrop:0.3-drop:0.4-lag:12-full:[128]\", \"full:[128]-fulldrop:0.4-drop:0.4-lag:12-full:[128]\"], \"x\": [6.950906746047084, 6.940809753358966, 6.91470277355145, 6.946033720178191, 6.924870653054946, 6.905364493536757, 6.942716750486482, 6.933376008639463, 6.915961665501348, 6.936229053571797, 6.9245688032331465, 6.900306767913211], \"y\": [6.64620370165377, 6.648061243182069, 6.627648347128212, 6.641599175597195, 6.6266171403254415, 6.618923644259899, 6.6381859292533285, 6.638101499635201, 6.617099258794199, 6.635049195772747, 6.627062663294896, 6.60706529055164], \"type\": \"scatter\", \"uid\": \"d9f9eca3-3f83-443f-adad-536d627ca510\"}, {\"marker\": {\"size\": [40.0, 40.0, 40.0, 40.0]}, \"mode\": \"markers\", \"name\": \"[2048]\", \"text\": [\"full:[2048]-fulldrop:0.3-drop:0.3-lag:12-full:[2048]\", \"full:[2048]-fulldrop:0.4-drop:0.3-lag:12-full:[2048]\", \"full:[2048]-fulldrop:0.3-drop:0.3-lag:12-full:[2048]\", \"full:[2048]-fulldrop:0.4-drop:0.3-lag:12-full:[2048]\"], \"x\": [6.847973928554645, 6.851738866195429, 6.831554726995226, 6.828870706962498], \"y\": [6.528642293051701, 6.532323497683883, 6.499735503802487, 6.511071000233202], \"type\": \"scatter\", \"uid\": \"dd017f2a-5b65-4fae-99fb-395c11aade30\"}, {\"marker\": {\"size\": [40.0, 40.0, 40.0, 40.0, 40.0, 40.0]}, \"mode\": \"markers\", \"name\": \"[216]\", \"text\": [\"full:[216]-fulldrop:0.3-drop:0.3-lag:12-full:[216]\", \"full:[216]-fulldrop:0.3-drop:0.3-lag:12-full:[216]\", \"full:[216]-fulldrop:0.3-drop:0.3-lag:12-full:[216]\", \"full:[216]-fulldrop:0.4-drop:0.3-lag:12-full:[216]\", \"full:[216]-fulldrop:0.4-drop:0.3-lag:12-full:[216]\", \"full:[216]-fulldrop:0.4-drop:0.3-lag:12-full:[216]\"], \"x\": [6.889498611787432, 6.874143527932378, 6.815727612093488, 6.884392501983756, 6.863772290168047, 6.817954005036222], \"y\": [6.581045410438861, 6.559664652967183, 6.515524970852398, 6.583237675681506, 6.560199174603262, 6.505892952987628], \"type\": \"scatter\", \"uid\": \"a3bb874e-d6e1-4c5e-8b2f-f981bde0cf00\"}, {\"marker\": {\"size\": [40.0, 39.4, 39.6, 40.0, 39.6, 39.6, 39.8, 39.8, 39.8, 39.4, 39.8, 40.0, 39.6, 39.6, 40.0, 40.0, 39.6, 39.0, 39.2, 40.0, 39.6, 40.0, 40.0, 40.0, 40.0, 40.0, 40.0, 40.0, 40.0, 40.0, 40.0, 40.0, 40.0, 40.0, 40.0, 40.0, 40.0, 40.0, 40.0, 40.0, 40.0, 40.0, 40.0, 40.0, 40.0, 40.0]}, \"mode\": \"markers\", \"name\": \"[256]\", \"text\": [\"full:[256]-fulldrop:0.2-drop:0.3-lag:12-full:[256]\", \"full:[256]-fulldrop:0.3-drop:0.3-lag:12-full:[256]\", \"full:[256]-fulldrop:0.4-drop:0.3-lag:12-full:[256]\", \"full:[256]-fulldrop:0.2-drop:0.4-lag:12-full:[256]\", \"full:[256]-fulldrop:0.3-drop:0.4-lag:12-full:[256]\", \"full:[256]-fulldrop:0.4-drop:0.4-lag:12-full:[256]\", \"full:[256]-fulldrop:0.2-drop:0.3-lag:12-full:[256]\", \"full:[256]-fulldrop:0.3-drop:0.3-lag:12-full:[256]\", \"full:[256]-fulldrop:0.4-drop:0.3-lag:12-full:[256]\", \"full:[256]-fulldrop:0.2-drop:0.4-lag:12-full:[256]\", \"full:[256]-fulldrop:0.3-drop:0.4-lag:12-full:[256]\", \"full:[256]-fulldrop:0.4-drop:0.4-lag:12-full:[256]\", \"full:[256]-fulldrop:0.2-drop:0.3-lag:12-full:[256]\", \"full:[256]-fulldrop:0.3-drop:0.3-lag:12-full:[256]\", \"full:[256]-fulldrop:0.2-drop:0.3-lag:12-full:[256]\", \"full:[256]-fulldrop:0.3-drop:0.3-lag:12-full:[256]\", \"full:[256]-fulldrop:0.2-drop:0.3-lag:12-full:[256]\", \"full:[256]-fulldrop:0.3-drop:0.3-lag:12-full:[256]\", \"full:[256]-fulldrop:0.4-drop:0.3-lag:12-full:[256]\", \"full:[256]-fulldrop:0.2-drop:0.4-lag:12-full:[256]\", \"full:[256]-fulldrop:0.3-drop:0.4-lag:12-full:[256]\", \"full:[256]-fulldrop:0.4-drop:0.4-lag:12-full:[256]\", \"full:[256]-fulldrop:0.2-drop:0.3-lag:12-full:[256]\", \"full:[256]-fulldrop:0.2-drop:0.3-lag:12-full:[256]\", \"full:[256]-fulldrop:0.3-drop:0.3-lag:12-full:[256]\", \"full:[256]-fulldrop:0.3-drop:0.3-lag:12-full:[256]\", \"full:[256]-fulldrop:0.4-drop:0.3-lag:12-full:[256]\", \"full:[256]-fulldrop:0.4-drop:0.3-lag:12-full:[256]\", \"full:[256]-fulldrop:0.2-drop:0.4-lag:12-full:[256]\", \"full:[256]-fulldrop:0.3-drop:0.4-lag:12-full:[256]\", \"full:[256]-fulldrop:0.4-drop:0.4-lag:12-full:[256]\", \"full:[256]-fulldrop:0.2-drop:0.3-lag:12-full:[256]\", \"full:[256]-fulldrop:0.3-drop:0.3-lag:12-full:[256]\", \"full:[256]-fulldrop:0.3-drop:0.3-lag:12-full:[256]\", \"full:[256]-fulldrop:0.3-drop:0.3-lag:12-full:[256]\", \"full:[256]-fulldrop:0.3-drop:0.3-lag:12-full:[256]\", \"full:[256]-fulldrop:0.4-drop:0.3-lag:12-full:[256]\", \"full:[256]-fulldrop:0.4-drop:0.3-lag:12-full:[256]\", \"full:[256]-fulldrop:0.4-drop:0.3-lag:12-full:[256]\", \"full:[256]-fulldrop:0.4-drop:0.3-lag:12-full:[256]\", \"full:[256]-fulldrop:0.2-drop:0.3-lag:12-full:[256]\", \"full:[256]-fulldrop:0.3-drop:0.3-lag:12-full:[256]\", \"full:[256]-fulldrop:0.4-drop:0.3-lag:12-full:[256]\", \"full:[256]-fulldrop:0.2-drop:0.4-lag:12-full:[256]\", \"full:[256]-fulldrop:0.3-drop:0.4-lag:12-full:[256]\", \"full:[256]-fulldrop:0.4-drop:0.4-lag:12-full:[256]\"], \"x\": [6.879914915356471, 6.876625959119287, 6.861794428517507, 6.875681922694352, 6.869552280151389, 6.860722284189181, 6.904476478389225, 6.890552109931034, 6.888602149846361, 6.89214841619188, 6.872257265136282, 6.867741021869564, 6.811526031521197, 6.814067257121391, 6.777414770972914, 6.773450983027385, 6.8421260684176195, 6.83416998570167, 6.846999738538253, 6.819381621243066, 6.813973698097647, 6.808169855436628, 6.959217327005091, 6.881720361497954, 6.955863161849258, 6.882581838404135, 6.946400463995158, 6.878337424217022, 6.945211208516654, 6.94091482035696, 6.931564627864801, 6.829910884325759, 6.856253566767518, 6.8331469734206705, 6.830537338827557, 6.788156548469959, 6.821179616348201, 6.798544040740433, 6.812930162442559, 6.750254702897117, 6.9528195174084155, 6.950595528788674, 6.938619623142915, 6.9484342785622, 6.94468288238746, 6.932289677808955], \"y\": [6.555456417728241, 6.556801811776047, 6.546036005828651, 6.558686320532026, 6.550620501013285, 6.547340763616222, 6.602530876961763, 6.596932640571227, 6.602401685427087, 6.584586912920623, 6.579586719741437, 6.57525986424005, 6.5134234617847655, 6.512998610262288, 6.479246815032156, 6.466420231777139, 6.536046487547741, 6.530747433204374, 6.531010120783794, 6.507728860069204, 6.491613695817684, 6.493764499738604, 6.651534691850661, 6.569200487222496, 6.649999255411718, 6.5739762414067515, 6.650782586544333, 6.570773698959122, 6.636749131881835, 6.644373342100971, 6.637761506660331, 6.52688857755948, 6.54850463091021, 6.528580010855299, 6.5215650501528835, 6.481601607746393, 6.514308162733853, 6.493373921902329, 6.509945754663498, 6.429923272423505, 6.644914104882669, 6.640172812007295, 6.634421996250939, 6.643841997587536, 6.636027843502931, 6.625665445797505], \"type\": \"scatter\", \"uid\": \"4dbb3528-b62a-4291-a531-21f68a66970d\"}, {\"marker\": {\"size\": [40.0, 39.8, 39.8, 40.0, 40.0, 40.0, 40.0, 40.0, 40.0, 39.6, 39.8, 39.6, 39.0, 39.6, 39.8, 39.8, 40.0, 39.4, 39.8, 39.6, 39.8, 40.0, 40.0, 40.0, 40.0, 40.0, 40.0, 40.0, 40.0, 40.0, 40.0, 40.0, 39.6, 38.6, 38.8, 40.0, 40.0, 40.0, 40.0, 40.0, 40.0, 39.8, 40.0, 40.0, 40.0, 39.8, 40.0, 40.0, 40.0, 40.0, 40.0, 40.0, 40.0, 40.0, 40.0]}, \"mode\": \"markers\", \"name\": \"[512]\", \"text\": [\"full:[512]-fulldrop:0.2-drop:0.3-lag:12-full:[512]\", \"full:[512]-fulldrop:0.3-drop:0.3-lag:12-full:[512]\", \"full:[512]-fulldrop:0.4-drop:0.3-lag:12-full:[512]\", \"full:[512]-fulldrop:0.2-drop:0.4-lag:12-full:[512]\", \"full:[512]-fulldrop:0.3-drop:0.4-lag:12-full:[512]\", \"full:[512]-fulldrop:0.4-drop:0.4-lag:12-full:[512]\", \"full:[512]-fulldrop:0.2-drop:0.3-lag:12-full:[512]\", \"full:[512]-fulldrop:0.3-drop:0.3-lag:12-full:[512]\", \"full:[512]-fulldrop:0.4-drop:0.3-lag:12-full:[512]\", \"full:[512]-fulldrop:0.2-drop:0.4-lag:12-full:[512]\", \"full:[512]-fulldrop:0.3-drop:0.4-lag:12-full:[512]\", \"full:[512]-fulldrop:0.4-drop:0.4-lag:12-full:[512]\", \"full:[512]-fulldrop:0.2-drop:0.3-lag:12-full:[512]\", \"full:[512]-fulldrop:0.3-drop:0.3-lag:12-full:[512]\", \"full:[512]-fulldrop:0.2-drop:0.3-lag:12-full:[512]\", \"full:[512]-fulldrop:0.3-drop:0.3-lag:12-full:[512]\", \"full:[512]-fulldrop:0.2-drop:0.3-lag:12-full:[512]\", \"full:[512]-fulldrop:0.3-drop:0.3-lag:12-full:[512]\", \"full:[512]-fulldrop:0.4-drop:0.3-lag:12-full:[512]\", \"full:[512]-fulldrop:0.2-drop:0.4-lag:12-full:[512]\", \"full:[512]-fulldrop:0.3-drop:0.4-lag:12-full:[512]\", \"full:[512]-fulldrop:0.4-drop:0.4-lag:12-full:[512]\", \"full:[512]-fulldrop:0.2-drop:0.3-lag:12-full:[512]\", \"full:[512]-fulldrop:0.2-drop:0.3-lag:12-full:[512]\", \"full:[512]-fulldrop:0.3-drop:0.3-lag:12-full:[512]\", \"full:[512]-fulldrop:0.3-drop:0.3-lag:12-full:[512]\", \"full:[512]-fulldrop:0.3-drop:0.3-lag:12-full:[512]\", \"full:[512]-fulldrop:0.3-drop:0.3-lag:12-full:[512]\", \"full:[512]-fulldrop:0.3-drop:0.3-lag:12-full:[512]\", \"full:[512]-fulldrop:0.4-drop:0.3-lag:12-full:[512]\", \"full:[512]-fulldrop:0.4-drop:0.3-lag:12-full:[512]\", \"full:[512]-fulldrop:0.4-drop:0.3-lag:12-full:[512]\", \"full:[512]-fulldrop:0.4-drop:0.3-lag:15-full:[512]\", \"full:[512]-fulldrop:0.4-drop:0.3-lag:6-full:[512]\", \"full:[512]-fulldrop:0.4-drop:0.3-lag:9-full:[512]\", \"full:[512]-fulldrop:0.4-drop:0.3-lag:12-full:[512]\", \"full:[512]-fulldrop:0.4-drop:0.3-lag:12-full:[512]\", \"full:[512]-fulldrop:0.2-drop:0.4-lag:12-full:[512]\", \"full:[512]-fulldrop:0.3-drop:0.4-lag:12-full:[512]\", \"full:[512]-fulldrop:0.4-drop:0.4-lag:12-full:[512]\", \"full:[512]-fulldrop:0.2-drop:0.3-lag:12-full:[512]\", \"full:[512]-fulldrop:0.3-drop:0.3-lag:12-full:[512]\", \"full:[512]-fulldrop:0.3-drop:0.3-lag:12-full:[512]\", \"full:[512]-fulldrop:0.3-drop:0.3-lag:12-full:[512]\", \"full:[512]-fulldrop:0.3-drop:0.3-lag:12-full:[512]\", \"full:[512]-fulldrop:0.4-drop:0.3-lag:12-full:[512]\", \"full:[512]-fulldrop:0.4-drop:0.3-lag:12-full:[512]\", \"full:[512]-fulldrop:0.4-drop:0.3-lag:12-full:[512]\", \"full:[512]-fulldrop:0.4-drop:0.3-lag:12-full:[512]\", \"full:[512]-fulldrop:0.2-drop:0.3-lag:12-full:[512]\", \"full:[512]-fulldrop:0.3-drop:0.3-lag:12-full:[512]\", \"full:[512]-fulldrop:0.4-drop:0.3-lag:12-full:[512]\", \"full:[512]-fulldrop:0.2-drop:0.4-lag:12-full:[512]\", \"full:[512]-fulldrop:0.3-drop:0.4-lag:12-full:[512]\", \"full:[512]-fulldrop:0.4-drop:0.4-lag:12-full:[512]\"], \"x\": [6.877297817189983, 6.871596287747535, 6.8728479472637405, 6.872360280017649, 6.870064519685955, 6.85070173524285, 6.880559357010113, 6.899688007913731, 6.889038985963468, 6.888657037419817, 6.882314034992135, 6.890127792610322, 6.802560574626576, 6.816769182495819, 6.776237042285406, 6.7687528381930955, 6.845351827595144, 6.838592330019941, 6.842910534602835, 6.828327454719065, 6.810630771635485, 6.80840140245358, 6.955147414973035, 6.880425316205795, 6.890085785575659, 6.88451545795989, 6.9539919095318545, 6.831141642988838, 6.887844187093631, 6.895614116721724, 6.8756283782454295, 6.960229187780301, 6.887487219420398, 6.879886505624466, 6.8832877225818825, 6.823013795528522, 6.882380943234603, 6.945923158529012, 6.94584948637152, 6.940978660101433, 6.825417529816871, 6.850149298439993, 6.827369110582119, 6.817045396009863, 6.799489440981733, 6.841108431291229, 6.795670944923829, 6.80750914603031, 6.745047976366049, 6.952302050664591, 6.950397485058641, 6.948279983373528, 6.952488307265221, 6.95136697234808, 6.941222228156859], \"y\": [6.559911081428882, 6.557881416127565, 6.550150145862812, 6.553132407702561, 6.543613360499318, 6.533425808863388, 6.577605279623124, 6.5983891300186075, 6.589353529112555, 6.578915030130464, 6.573254251998653, 6.5836696128715335, 6.505365152869837, 6.510651878203801, 6.476042039886483, 6.462961036510365, 6.5177179317141585, 6.527865060827734, 6.523936497075091, 6.51499532216794, 6.499308034907836, 6.489656306365891, 6.637100085588827, 6.5629104193850205, 6.56835865592957, 6.565111056433091, 6.645394071989631, 6.515326707946064, 6.572248223364824, 6.581127547104225, 6.567633139426509, 6.656101963440202, 6.5791075864331825, 6.564924756695658, 6.579624894980747, 6.510488084521006, 6.5765732701480735, 6.634634005338008, 6.6406850136779925, 6.63758696323148, 6.51032291109804, 6.538272981298641, 6.51740052332479, 6.5084393239368445, 6.4788184994288756, 6.53894994433309, 6.478627354975994, 6.497427275001417, 6.4293096460075745, 6.636471102825277, 6.635559527682019, 6.62778864470167, 6.637325998146297, 6.636611093759667, 6.635043496930366], \"type\": \"scatter\", \"uid\": \"94b1a56c-0ec4-4729-b3ce-94107963d54c\"}, {\"marker\": {\"size\": [40.0, 40.0, 40.0, 40.0, 40.0, 40.0, 40.0, 40.0, 40.0, 40.0, 40.0, 40.0]}, \"mode\": \"markers\", \"name\": \"[64]\", \"text\": [\"full:[64]-fulldrop:0.2-drop:0.3-lag:12-full:[64]\", \"full:[64]-fulldrop:0.3-drop:0.3-lag:12-full:[64]\", \"full:[64]-fulldrop:0.4-drop:0.3-lag:12-full:[64]\", \"full:[64]-fulldrop:0.2-drop:0.4-lag:12-full:[64]\", \"full:[64]-fulldrop:0.3-drop:0.4-lag:12-full:[64]\", \"full:[64]-fulldrop:0.4-drop:0.4-lag:12-full:[64]\", \"full:[64]-fulldrop:0.2-drop:0.3-lag:12-full:[64]\", \"full:[64]-fulldrop:0.3-drop:0.3-lag:12-full:[64]\", \"full:[64]-fulldrop:0.4-drop:0.3-lag:12-full:[64]\", \"full:[64]-fulldrop:0.2-drop:0.4-lag:12-full:[64]\", \"full:[64]-fulldrop:0.3-drop:0.4-lag:12-full:[64]\", \"full:[64]-fulldrop:0.4-drop:0.4-lag:12-full:[64]\"], \"x\": [6.9217931049928225, 6.90313593600664, 6.873351960817425, 6.9208680340190485, 6.882825582388746, 6.848281741969848, 6.925291183087527, 6.906947548295539, 6.881223430894368, 6.907656101642714, 6.888601371321427, 6.858297084269838], \"y\": [6.62980467713814, 6.61816829918056, 6.595009741433244, 6.628883872158848, 6.5994224542726405, 6.5703079720875905, 6.626601078126729, 6.606311379592239, 6.598636460297741, 6.613670509888516, 6.5937573820534805, 6.571280124331602], \"type\": \"scatter\", \"uid\": \"e74bb434-8b3f-4c26-a74d-6ac7ee98efe1\"}], {}, {\"showLink\": false, \"linkText\": \"Export to plot.ly\", \"plotlyServerURL\": \"https://plot.ly\"}); \n",
       "}\n",
       "});</script><script type=\"text/javascript\">window.addEventListener(\"resize\", function(){if (document.getElementById(\"cf7a5aef-97be-4d31-9620-653afa39100f\")) {window._Plotly.Plots.resize(document.getElementById(\"cf7a5aef-97be-4d31-9620-653afa39100f\"));};})</script>"
      ],
      "text/vnd.plotly.v1+html": [
       "<div id=\"cf7a5aef-97be-4d31-9620-653afa39100f\" style=\"height: 525px; width: 100%;\" class=\"plotly-graph-div\"></div><script type=\"text/javascript\">require([\"plotly\"], function(Plotly) { window.PLOTLYENV=window.PLOTLYENV || {};window.PLOTLYENV.BASE_URL=\"https://plot.ly\";\n",
       "if (document.getElementById(\"cf7a5aef-97be-4d31-9620-653afa39100f\")) {\n",
       "    Plotly.newPlot(\"cf7a5aef-97be-4d31-9620-653afa39100f\", [{\"marker\": {\"size\": [40.0, 40.0, 40.0, 40.0]}, \"mode\": \"markers\", \"name\": \"[1024]\", \"text\": [\"full:[1024]-fulldrop:0.3-drop:0.3-lag:12-full:[1024]\", \"full:[1024]-fulldrop:0.4-drop:0.3-lag:12-full:[1024]\", \"full:[1024]-fulldrop:0.3-drop:0.3-lag:12-full:[1024]\", \"full:[1024]-fulldrop:0.4-drop:0.3-lag:12-full:[1024]\"], \"x\": [6.857475602501799, 6.855184564149485, 6.840379688061367, 6.830057927534726], \"y\": [6.539052073602097, 6.536846043770598, 6.51803939594916, 6.513750789280193], \"type\": \"scatter\", \"uid\": \"bb7cde8f-4ae7-4791-af0e-1c4ac1a4c4ba\"}, {\"marker\": {\"size\": [40.0, 40.0, 40.0, 40.0, 40.0, 40.0, 40.0, 40.0, 40.0, 40.0, 40.0, 40.0]}, \"mode\": \"markers\", \"name\": \"[128]\", \"text\": [\"full:[128]-fulldrop:0.2-drop:0.3-lag:12-full:[128]\", \"full:[128]-fulldrop:0.3-drop:0.3-lag:12-full:[128]\", \"full:[128]-fulldrop:0.4-drop:0.3-lag:12-full:[128]\", \"full:[128]-fulldrop:0.2-drop:0.4-lag:12-full:[128]\", \"full:[128]-fulldrop:0.3-drop:0.4-lag:12-full:[128]\", \"full:[128]-fulldrop:0.4-drop:0.4-lag:12-full:[128]\", \"full:[128]-fulldrop:0.2-drop:0.3-lag:12-full:[128]\", \"full:[128]-fulldrop:0.3-drop:0.3-lag:12-full:[128]\", \"full:[128]-fulldrop:0.4-drop:0.3-lag:12-full:[128]\", \"full:[128]-fulldrop:0.2-drop:0.4-lag:12-full:[128]\", \"full:[128]-fulldrop:0.3-drop:0.4-lag:12-full:[128]\", \"full:[128]-fulldrop:0.4-drop:0.4-lag:12-full:[128]\"], \"x\": [6.950906746047084, 6.940809753358966, 6.91470277355145, 6.946033720178191, 6.924870653054946, 6.905364493536757, 6.942716750486482, 6.933376008639463, 6.915961665501348, 6.936229053571797, 6.9245688032331465, 6.900306767913211], \"y\": [6.64620370165377, 6.648061243182069, 6.627648347128212, 6.641599175597195, 6.6266171403254415, 6.618923644259899, 6.6381859292533285, 6.638101499635201, 6.617099258794199, 6.635049195772747, 6.627062663294896, 6.60706529055164], \"type\": \"scatter\", \"uid\": \"d9f9eca3-3f83-443f-adad-536d627ca510\"}, {\"marker\": {\"size\": [40.0, 40.0, 40.0, 40.0]}, \"mode\": \"markers\", \"name\": \"[2048]\", \"text\": [\"full:[2048]-fulldrop:0.3-drop:0.3-lag:12-full:[2048]\", \"full:[2048]-fulldrop:0.4-drop:0.3-lag:12-full:[2048]\", \"full:[2048]-fulldrop:0.3-drop:0.3-lag:12-full:[2048]\", \"full:[2048]-fulldrop:0.4-drop:0.3-lag:12-full:[2048]\"], \"x\": [6.847973928554645, 6.851738866195429, 6.831554726995226, 6.828870706962498], \"y\": [6.528642293051701, 6.532323497683883, 6.499735503802487, 6.511071000233202], \"type\": \"scatter\", \"uid\": \"dd017f2a-5b65-4fae-99fb-395c11aade30\"}, {\"marker\": {\"size\": [40.0, 40.0, 40.0, 40.0, 40.0, 40.0]}, \"mode\": \"markers\", \"name\": \"[216]\", \"text\": [\"full:[216]-fulldrop:0.3-drop:0.3-lag:12-full:[216]\", \"full:[216]-fulldrop:0.3-drop:0.3-lag:12-full:[216]\", \"full:[216]-fulldrop:0.3-drop:0.3-lag:12-full:[216]\", \"full:[216]-fulldrop:0.4-drop:0.3-lag:12-full:[216]\", \"full:[216]-fulldrop:0.4-drop:0.3-lag:12-full:[216]\", \"full:[216]-fulldrop:0.4-drop:0.3-lag:12-full:[216]\"], \"x\": [6.889498611787432, 6.874143527932378, 6.815727612093488, 6.884392501983756, 6.863772290168047, 6.817954005036222], \"y\": [6.581045410438861, 6.559664652967183, 6.515524970852398, 6.583237675681506, 6.560199174603262, 6.505892952987628], \"type\": \"scatter\", \"uid\": \"a3bb874e-d6e1-4c5e-8b2f-f981bde0cf00\"}, {\"marker\": {\"size\": [40.0, 39.4, 39.6, 40.0, 39.6, 39.6, 39.8, 39.8, 39.8, 39.4, 39.8, 40.0, 39.6, 39.6, 40.0, 40.0, 39.6, 39.0, 39.2, 40.0, 39.6, 40.0, 40.0, 40.0, 40.0, 40.0, 40.0, 40.0, 40.0, 40.0, 40.0, 40.0, 40.0, 40.0, 40.0, 40.0, 40.0, 40.0, 40.0, 40.0, 40.0, 40.0, 40.0, 40.0, 40.0, 40.0]}, \"mode\": \"markers\", \"name\": \"[256]\", \"text\": [\"full:[256]-fulldrop:0.2-drop:0.3-lag:12-full:[256]\", \"full:[256]-fulldrop:0.3-drop:0.3-lag:12-full:[256]\", \"full:[256]-fulldrop:0.4-drop:0.3-lag:12-full:[256]\", \"full:[256]-fulldrop:0.2-drop:0.4-lag:12-full:[256]\", \"full:[256]-fulldrop:0.3-drop:0.4-lag:12-full:[256]\", \"full:[256]-fulldrop:0.4-drop:0.4-lag:12-full:[256]\", \"full:[256]-fulldrop:0.2-drop:0.3-lag:12-full:[256]\", \"full:[256]-fulldrop:0.3-drop:0.3-lag:12-full:[256]\", \"full:[256]-fulldrop:0.4-drop:0.3-lag:12-full:[256]\", \"full:[256]-fulldrop:0.2-drop:0.4-lag:12-full:[256]\", \"full:[256]-fulldrop:0.3-drop:0.4-lag:12-full:[256]\", \"full:[256]-fulldrop:0.4-drop:0.4-lag:12-full:[256]\", \"full:[256]-fulldrop:0.2-drop:0.3-lag:12-full:[256]\", \"full:[256]-fulldrop:0.3-drop:0.3-lag:12-full:[256]\", \"full:[256]-fulldrop:0.2-drop:0.3-lag:12-full:[256]\", \"full:[256]-fulldrop:0.3-drop:0.3-lag:12-full:[256]\", \"full:[256]-fulldrop:0.2-drop:0.3-lag:12-full:[256]\", \"full:[256]-fulldrop:0.3-drop:0.3-lag:12-full:[256]\", \"full:[256]-fulldrop:0.4-drop:0.3-lag:12-full:[256]\", \"full:[256]-fulldrop:0.2-drop:0.4-lag:12-full:[256]\", \"full:[256]-fulldrop:0.3-drop:0.4-lag:12-full:[256]\", \"full:[256]-fulldrop:0.4-drop:0.4-lag:12-full:[256]\", \"full:[256]-fulldrop:0.2-drop:0.3-lag:12-full:[256]\", \"full:[256]-fulldrop:0.2-drop:0.3-lag:12-full:[256]\", \"full:[256]-fulldrop:0.3-drop:0.3-lag:12-full:[256]\", \"full:[256]-fulldrop:0.3-drop:0.3-lag:12-full:[256]\", \"full:[256]-fulldrop:0.4-drop:0.3-lag:12-full:[256]\", \"full:[256]-fulldrop:0.4-drop:0.3-lag:12-full:[256]\", \"full:[256]-fulldrop:0.2-drop:0.4-lag:12-full:[256]\", \"full:[256]-fulldrop:0.3-drop:0.4-lag:12-full:[256]\", \"full:[256]-fulldrop:0.4-drop:0.4-lag:12-full:[256]\", \"full:[256]-fulldrop:0.2-drop:0.3-lag:12-full:[256]\", \"full:[256]-fulldrop:0.3-drop:0.3-lag:12-full:[256]\", \"full:[256]-fulldrop:0.3-drop:0.3-lag:12-full:[256]\", \"full:[256]-fulldrop:0.3-drop:0.3-lag:12-full:[256]\", \"full:[256]-fulldrop:0.3-drop:0.3-lag:12-full:[256]\", \"full:[256]-fulldrop:0.4-drop:0.3-lag:12-full:[256]\", \"full:[256]-fulldrop:0.4-drop:0.3-lag:12-full:[256]\", \"full:[256]-fulldrop:0.4-drop:0.3-lag:12-full:[256]\", \"full:[256]-fulldrop:0.4-drop:0.3-lag:12-full:[256]\", \"full:[256]-fulldrop:0.2-drop:0.3-lag:12-full:[256]\", \"full:[256]-fulldrop:0.3-drop:0.3-lag:12-full:[256]\", \"full:[256]-fulldrop:0.4-drop:0.3-lag:12-full:[256]\", \"full:[256]-fulldrop:0.2-drop:0.4-lag:12-full:[256]\", \"full:[256]-fulldrop:0.3-drop:0.4-lag:12-full:[256]\", \"full:[256]-fulldrop:0.4-drop:0.4-lag:12-full:[256]\"], \"x\": [6.879914915356471, 6.876625959119287, 6.861794428517507, 6.875681922694352, 6.869552280151389, 6.860722284189181, 6.904476478389225, 6.890552109931034, 6.888602149846361, 6.89214841619188, 6.872257265136282, 6.867741021869564, 6.811526031521197, 6.814067257121391, 6.777414770972914, 6.773450983027385, 6.8421260684176195, 6.83416998570167, 6.846999738538253, 6.819381621243066, 6.813973698097647, 6.808169855436628, 6.959217327005091, 6.881720361497954, 6.955863161849258, 6.882581838404135, 6.946400463995158, 6.878337424217022, 6.945211208516654, 6.94091482035696, 6.931564627864801, 6.829910884325759, 6.856253566767518, 6.8331469734206705, 6.830537338827557, 6.788156548469959, 6.821179616348201, 6.798544040740433, 6.812930162442559, 6.750254702897117, 6.9528195174084155, 6.950595528788674, 6.938619623142915, 6.9484342785622, 6.94468288238746, 6.932289677808955], \"y\": [6.555456417728241, 6.556801811776047, 6.546036005828651, 6.558686320532026, 6.550620501013285, 6.547340763616222, 6.602530876961763, 6.596932640571227, 6.602401685427087, 6.584586912920623, 6.579586719741437, 6.57525986424005, 6.5134234617847655, 6.512998610262288, 6.479246815032156, 6.466420231777139, 6.536046487547741, 6.530747433204374, 6.531010120783794, 6.507728860069204, 6.491613695817684, 6.493764499738604, 6.651534691850661, 6.569200487222496, 6.649999255411718, 6.5739762414067515, 6.650782586544333, 6.570773698959122, 6.636749131881835, 6.644373342100971, 6.637761506660331, 6.52688857755948, 6.54850463091021, 6.528580010855299, 6.5215650501528835, 6.481601607746393, 6.514308162733853, 6.493373921902329, 6.509945754663498, 6.429923272423505, 6.644914104882669, 6.640172812007295, 6.634421996250939, 6.643841997587536, 6.636027843502931, 6.625665445797505], \"type\": \"scatter\", \"uid\": \"4dbb3528-b62a-4291-a531-21f68a66970d\"}, {\"marker\": {\"size\": [40.0, 39.8, 39.8, 40.0, 40.0, 40.0, 40.0, 40.0, 40.0, 39.6, 39.8, 39.6, 39.0, 39.6, 39.8, 39.8, 40.0, 39.4, 39.8, 39.6, 39.8, 40.0, 40.0, 40.0, 40.0, 40.0, 40.0, 40.0, 40.0, 40.0, 40.0, 40.0, 39.6, 38.6, 38.8, 40.0, 40.0, 40.0, 40.0, 40.0, 40.0, 39.8, 40.0, 40.0, 40.0, 39.8, 40.0, 40.0, 40.0, 40.0, 40.0, 40.0, 40.0, 40.0, 40.0]}, \"mode\": \"markers\", \"name\": \"[512]\", \"text\": [\"full:[512]-fulldrop:0.2-drop:0.3-lag:12-full:[512]\", \"full:[512]-fulldrop:0.3-drop:0.3-lag:12-full:[512]\", \"full:[512]-fulldrop:0.4-drop:0.3-lag:12-full:[512]\", \"full:[512]-fulldrop:0.2-drop:0.4-lag:12-full:[512]\", \"full:[512]-fulldrop:0.3-drop:0.4-lag:12-full:[512]\", \"full:[512]-fulldrop:0.4-drop:0.4-lag:12-full:[512]\", \"full:[512]-fulldrop:0.2-drop:0.3-lag:12-full:[512]\", \"full:[512]-fulldrop:0.3-drop:0.3-lag:12-full:[512]\", \"full:[512]-fulldrop:0.4-drop:0.3-lag:12-full:[512]\", \"full:[512]-fulldrop:0.2-drop:0.4-lag:12-full:[512]\", \"full:[512]-fulldrop:0.3-drop:0.4-lag:12-full:[512]\", \"full:[512]-fulldrop:0.4-drop:0.4-lag:12-full:[512]\", \"full:[512]-fulldrop:0.2-drop:0.3-lag:12-full:[512]\", \"full:[512]-fulldrop:0.3-drop:0.3-lag:12-full:[512]\", \"full:[512]-fulldrop:0.2-drop:0.3-lag:12-full:[512]\", \"full:[512]-fulldrop:0.3-drop:0.3-lag:12-full:[512]\", \"full:[512]-fulldrop:0.2-drop:0.3-lag:12-full:[512]\", \"full:[512]-fulldrop:0.3-drop:0.3-lag:12-full:[512]\", \"full:[512]-fulldrop:0.4-drop:0.3-lag:12-full:[512]\", \"full:[512]-fulldrop:0.2-drop:0.4-lag:12-full:[512]\", \"full:[512]-fulldrop:0.3-drop:0.4-lag:12-full:[512]\", \"full:[512]-fulldrop:0.4-drop:0.4-lag:12-full:[512]\", \"full:[512]-fulldrop:0.2-drop:0.3-lag:12-full:[512]\", \"full:[512]-fulldrop:0.2-drop:0.3-lag:12-full:[512]\", \"full:[512]-fulldrop:0.3-drop:0.3-lag:12-full:[512]\", \"full:[512]-fulldrop:0.3-drop:0.3-lag:12-full:[512]\", \"full:[512]-fulldrop:0.3-drop:0.3-lag:12-full:[512]\", \"full:[512]-fulldrop:0.3-drop:0.3-lag:12-full:[512]\", \"full:[512]-fulldrop:0.3-drop:0.3-lag:12-full:[512]\", \"full:[512]-fulldrop:0.4-drop:0.3-lag:12-full:[512]\", \"full:[512]-fulldrop:0.4-drop:0.3-lag:12-full:[512]\", \"full:[512]-fulldrop:0.4-drop:0.3-lag:12-full:[512]\", \"full:[512]-fulldrop:0.4-drop:0.3-lag:15-full:[512]\", \"full:[512]-fulldrop:0.4-drop:0.3-lag:6-full:[512]\", \"full:[512]-fulldrop:0.4-drop:0.3-lag:9-full:[512]\", \"full:[512]-fulldrop:0.4-drop:0.3-lag:12-full:[512]\", \"full:[512]-fulldrop:0.4-drop:0.3-lag:12-full:[512]\", \"full:[512]-fulldrop:0.2-drop:0.4-lag:12-full:[512]\", \"full:[512]-fulldrop:0.3-drop:0.4-lag:12-full:[512]\", \"full:[512]-fulldrop:0.4-drop:0.4-lag:12-full:[512]\", \"full:[512]-fulldrop:0.2-drop:0.3-lag:12-full:[512]\", \"full:[512]-fulldrop:0.3-drop:0.3-lag:12-full:[512]\", \"full:[512]-fulldrop:0.3-drop:0.3-lag:12-full:[512]\", \"full:[512]-fulldrop:0.3-drop:0.3-lag:12-full:[512]\", \"full:[512]-fulldrop:0.3-drop:0.3-lag:12-full:[512]\", \"full:[512]-fulldrop:0.4-drop:0.3-lag:12-full:[512]\", \"full:[512]-fulldrop:0.4-drop:0.3-lag:12-full:[512]\", \"full:[512]-fulldrop:0.4-drop:0.3-lag:12-full:[512]\", \"full:[512]-fulldrop:0.4-drop:0.3-lag:12-full:[512]\", \"full:[512]-fulldrop:0.2-drop:0.3-lag:12-full:[512]\", \"full:[512]-fulldrop:0.3-drop:0.3-lag:12-full:[512]\", \"full:[512]-fulldrop:0.4-drop:0.3-lag:12-full:[512]\", \"full:[512]-fulldrop:0.2-drop:0.4-lag:12-full:[512]\", \"full:[512]-fulldrop:0.3-drop:0.4-lag:12-full:[512]\", \"full:[512]-fulldrop:0.4-drop:0.4-lag:12-full:[512]\"], \"x\": [6.877297817189983, 6.871596287747535, 6.8728479472637405, 6.872360280017649, 6.870064519685955, 6.85070173524285, 6.880559357010113, 6.899688007913731, 6.889038985963468, 6.888657037419817, 6.882314034992135, 6.890127792610322, 6.802560574626576, 6.816769182495819, 6.776237042285406, 6.7687528381930955, 6.845351827595144, 6.838592330019941, 6.842910534602835, 6.828327454719065, 6.810630771635485, 6.80840140245358, 6.955147414973035, 6.880425316205795, 6.890085785575659, 6.88451545795989, 6.9539919095318545, 6.831141642988838, 6.887844187093631, 6.895614116721724, 6.8756283782454295, 6.960229187780301, 6.887487219420398, 6.879886505624466, 6.8832877225818825, 6.823013795528522, 6.882380943234603, 6.945923158529012, 6.94584948637152, 6.940978660101433, 6.825417529816871, 6.850149298439993, 6.827369110582119, 6.817045396009863, 6.799489440981733, 6.841108431291229, 6.795670944923829, 6.80750914603031, 6.745047976366049, 6.952302050664591, 6.950397485058641, 6.948279983373528, 6.952488307265221, 6.95136697234808, 6.941222228156859], \"y\": [6.559911081428882, 6.557881416127565, 6.550150145862812, 6.553132407702561, 6.543613360499318, 6.533425808863388, 6.577605279623124, 6.5983891300186075, 6.589353529112555, 6.578915030130464, 6.573254251998653, 6.5836696128715335, 6.505365152869837, 6.510651878203801, 6.476042039886483, 6.462961036510365, 6.5177179317141585, 6.527865060827734, 6.523936497075091, 6.51499532216794, 6.499308034907836, 6.489656306365891, 6.637100085588827, 6.5629104193850205, 6.56835865592957, 6.565111056433091, 6.645394071989631, 6.515326707946064, 6.572248223364824, 6.581127547104225, 6.567633139426509, 6.656101963440202, 6.5791075864331825, 6.564924756695658, 6.579624894980747, 6.510488084521006, 6.5765732701480735, 6.634634005338008, 6.6406850136779925, 6.63758696323148, 6.51032291109804, 6.538272981298641, 6.51740052332479, 6.5084393239368445, 6.4788184994288756, 6.53894994433309, 6.478627354975994, 6.497427275001417, 6.4293096460075745, 6.636471102825277, 6.635559527682019, 6.62778864470167, 6.637325998146297, 6.636611093759667, 6.635043496930366], \"type\": \"scatter\", \"uid\": \"94b1a56c-0ec4-4729-b3ce-94107963d54c\"}, {\"marker\": {\"size\": [40.0, 40.0, 40.0, 40.0, 40.0, 40.0, 40.0, 40.0, 40.0, 40.0, 40.0, 40.0]}, \"mode\": \"markers\", \"name\": \"[64]\", \"text\": [\"full:[64]-fulldrop:0.2-drop:0.3-lag:12-full:[64]\", \"full:[64]-fulldrop:0.3-drop:0.3-lag:12-full:[64]\", \"full:[64]-fulldrop:0.4-drop:0.3-lag:12-full:[64]\", \"full:[64]-fulldrop:0.2-drop:0.4-lag:12-full:[64]\", \"full:[64]-fulldrop:0.3-drop:0.4-lag:12-full:[64]\", \"full:[64]-fulldrop:0.4-drop:0.4-lag:12-full:[64]\", \"full:[64]-fulldrop:0.2-drop:0.3-lag:12-full:[64]\", \"full:[64]-fulldrop:0.3-drop:0.3-lag:12-full:[64]\", \"full:[64]-fulldrop:0.4-drop:0.3-lag:12-full:[64]\", \"full:[64]-fulldrop:0.2-drop:0.4-lag:12-full:[64]\", \"full:[64]-fulldrop:0.3-drop:0.4-lag:12-full:[64]\", \"full:[64]-fulldrop:0.4-drop:0.4-lag:12-full:[64]\"], \"x\": [6.9217931049928225, 6.90313593600664, 6.873351960817425, 6.9208680340190485, 6.882825582388746, 6.848281741969848, 6.925291183087527, 6.906947548295539, 6.881223430894368, 6.907656101642714, 6.888601371321427, 6.858297084269838], \"y\": [6.62980467713814, 6.61816829918056, 6.595009741433244, 6.628883872158848, 6.5994224542726405, 6.5703079720875905, 6.626601078126729, 6.606311379592239, 6.598636460297741, 6.613670509888516, 6.5937573820534805, 6.571280124331602], \"type\": \"scatter\", \"uid\": \"e74bb434-8b3f-4c26-a74d-6ac7ee98efe1\"}], {}, {\"showLink\": false, \"linkText\": \"Export to plot.ly\", \"plotlyServerURL\": \"https://plot.ly\"}); \n",
       "}\n",
       "});</script><script type=\"text/javascript\">window.addEventListener(\"resize\", function(){if (document.getElementById(\"cf7a5aef-97be-4d31-9620-653afa39100f\")) {window._Plotly.Plots.resize(document.getElementById(\"cf7a5aef-97be-4d31-9620-653afa39100f\"));};})</script>"
      ]
     },
     "metadata": {},
     "output_type": "display_data"
    }
   ],
   "source": [
    "results.results_dataframe_graph(facet='full',att=['full', 'fulldrop', 'drop', 'lag'])\n"
   ]
  },
  {
   "cell_type": "markdown",
   "metadata": {
    "extensions": {
     "jupyter_dashboards": {
      "version": 1,
      "views": {
       "grid_default": {
        "hidden": true
       },
       "report_default": {
        "hidden": true
       }
      }
     }
    }
   },
   "source": [
    "## Fit10 (elu 3)"
   ]
  },
  {
   "cell_type": "code",
   "execution_count": 460,
   "metadata": {
    "extensions": {
     "jupyter_dashboards": {
      "version": 1,
      "views": {
       "grid_default": {
        "hidden": true
       },
       "report_default": {
        "hidden": true
       }
      }
     }
    }
   },
   "outputs": [],
   "source": [
    "query={'experiment':'rnns2sactiv3'}\n",
    "\n",
    "results = DBResults(conn=mongolocaltest)\n",
    "#results = DBResults()\n",
    "\n",
    "results.results_dataframe_retrieve(query, arch=['neurons', 'nlayers', 'drop', 'full', 'fulldrop','activation_full'], data=['lag'])"
   ]
  },
  {
   "cell_type": "code",
   "execution_count": 461,
   "metadata": {},
   "outputs": [
    {
     "name": "stdout",
     "output_type": "stream",
     "text": [
      "12799\n"
     ]
    },
    {
     "data": {
      "text/html": [
       "<style  type=\"text/css\" >\n",
       "    #T_82cf337e_51e2_11e9_975a_842b2bb021fdrow0_col7 {\n",
       "            background-color:  yellow;\n",
       "        }    #T_82cf337e_51e2_11e9_975a_842b2bb021fdrow0_col8 {\n",
       "            background-color:  yellow;\n",
       "        }    #T_82cf337e_51e2_11e9_975a_842b2bb021fdrow1_col8 {\n",
       "            background-color:  yellow;\n",
       "        }    #T_82cf337e_51e2_11e9_975a_842b2bb021fdrow1_col9 {\n",
       "            background-color:  yellow;\n",
       "        }</style><table id=\"T_82cf337e_51e2_11e9_975a_842b2bb021fd\" ><thead>    <tr>        <th class=\"blank level0\" ></th>        <th class=\"col_heading level0 col0\" >neurons</th>        <th class=\"col_heading level0 col1\" >nlayers</th>        <th class=\"col_heading level0 col2\" >drop</th>        <th class=\"col_heading level0 col3\" >full</th>        <th class=\"col_heading level0 col4\" >fulldrop</th>        <th class=\"col_heading level0 col5\" >activation_full</th>        <th class=\"col_heading level0 col6\" >lag</th>        <th class=\"col_heading level0 col7\" colspan=2>test</th>        <th class=\"col_heading level0 col9\" >val</th>    </tr>    <tr>        <th class=\"blank level1\" ></th>        <th class=\"col_heading level1 col0\" ></th>        <th class=\"col_heading level1 col1\" ></th>        <th class=\"col_heading level1 col2\" ></th>        <th class=\"col_heading level1 col3\" ></th>        <th class=\"col_heading level1 col4\" ></th>        <th class=\"col_heading level1 col5\" ></th>        <th class=\"col_heading level1 col6\" ></th>        <th class=\"col_heading level1 col7\" >mean</th>        <th class=\"col_heading level1 col8\" >count</th>        <th class=\"col_heading level1 col9\" >mean</th>    </tr></thead><tbody>\n",
       "                <tr>\n",
       "                        <th id=\"T_82cf337e_51e2_11e9_975a_842b2bb021fdlevel0_row0\" class=\"row_heading level0 row0\" >8</th>\n",
       "                        <td id=\"T_82cf337e_51e2_11e9_975a_842b2bb021fdrow0_col0\" class=\"data row0 col0\" >32</td>\n",
       "                        <td id=\"T_82cf337e_51e2_11e9_975a_842b2bb021fdrow0_col1\" class=\"data row0 col1\" >1</td>\n",
       "                        <td id=\"T_82cf337e_51e2_11e9_975a_842b2bb021fdrow0_col2\" class=\"data row0 col2\" >0.3</td>\n",
       "                        <td id=\"T_82cf337e_51e2_11e9_975a_842b2bb021fdrow0_col3\" class=\"data row0 col3\" >[256]</td>\n",
       "                        <td id=\"T_82cf337e_51e2_11e9_975a_842b2bb021fdrow0_col4\" class=\"data row0 col4\" >0.2</td>\n",
       "                        <td id=\"T_82cf337e_51e2_11e9_975a_842b2bb021fdrow0_col5\" class=\"data row0 col5\" >['elu', 0.4]</td>\n",
       "                        <td id=\"T_82cf337e_51e2_11e9_975a_842b2bb021fdrow0_col6\" class=\"data row0 col6\" >12</td>\n",
       "                        <td id=\"T_82cf337e_51e2_11e9_975a_842b2bb021fdrow0_col7\" class=\"data row0 col7\" >6.90756</td>\n",
       "                        <td id=\"T_82cf337e_51e2_11e9_975a_842b2bb021fdrow0_col8\" class=\"data row0 col8\" >200</td>\n",
       "                        <td id=\"T_82cf337e_51e2_11e9_975a_842b2bb021fdrow0_col9\" class=\"data row0 col9\" >6.58759</td>\n",
       "            </tr>\n",
       "            <tr>\n",
       "                        <th id=\"T_82cf337e_51e2_11e9_975a_842b2bb021fdlevel0_row1\" class=\"row_heading level0 row1\" >15</th>\n",
       "                        <td id=\"T_82cf337e_51e2_11e9_975a_842b2bb021fdrow1_col0\" class=\"data row1 col0\" >32</td>\n",
       "                        <td id=\"T_82cf337e_51e2_11e9_975a_842b2bb021fdrow1_col1\" class=\"data row1 col1\" >1</td>\n",
       "                        <td id=\"T_82cf337e_51e2_11e9_975a_842b2bb021fdrow1_col2\" class=\"data row1 col2\" >0.3</td>\n",
       "                        <td id=\"T_82cf337e_51e2_11e9_975a_842b2bb021fdrow1_col3\" class=\"data row1 col3\" >[512]</td>\n",
       "                        <td id=\"T_82cf337e_51e2_11e9_975a_842b2bb021fdrow1_col4\" class=\"data row1 col4\" >0.5</td>\n",
       "                        <td id=\"T_82cf337e_51e2_11e9_975a_842b2bb021fdrow1_col5\" class=\"data row1 col5\" >['elu', 0.4]</td>\n",
       "                        <td id=\"T_82cf337e_51e2_11e9_975a_842b2bb021fdrow1_col6\" class=\"data row1 col6\" >12</td>\n",
       "                        <td id=\"T_82cf337e_51e2_11e9_975a_842b2bb021fdrow1_col7\" class=\"data row1 col7\" >6.90064</td>\n",
       "                        <td id=\"T_82cf337e_51e2_11e9_975a_842b2bb021fdrow1_col8\" class=\"data row1 col8\" >200</td>\n",
       "                        <td id=\"T_82cf337e_51e2_11e9_975a_842b2bb021fdrow1_col9\" class=\"data row1 col9\" >6.60017</td>\n",
       "            </tr>\n",
       "    </tbody></table>"
      ],
      "text/plain": [
       "<pandas.io.formats.style.Styler at 0x7f383dbd8208>"
      ]
     },
     "execution_count": 461,
     "metadata": {},
     "output_type": "execute_result"
    }
   ],
   "source": [
    "results.results_dataframe_aggregate(threshold=6.9)"
   ]
  },
  {
   "cell_type": "code",
   "execution_count": 462,
   "metadata": {},
   "outputs": [
    {
     "data": {
      "application/vnd.plotly.v1+json": {
       "config": {
        "linkText": "Export to plot.ly",
        "plotlyServerURL": "https://plot.ly",
        "showLink": false
       },
       "data": [
        {
         "marker": {
          "size": [
           40,
           40,
           40,
           40,
           40,
           40,
           40,
           40,
           40,
           40,
           40,
           40,
           40,
           40,
           40,
           40,
           40,
           40,
           40,
           40,
           40,
           40,
           40,
           40,
           40,
           40,
           40,
           40,
           40,
           40,
           40,
           40
          ]
         },
         "mode": "markers",
         "name": "32",
         "text": [
          "full:[256]-fulldrop:0.2-drop:0.2-lag:12-neurons:32",
          "full:[256]-fulldrop:0.3-drop:0.2-lag:12-neurons:32",
          "full:[256]-fulldrop:0.4-drop:0.2-lag:12-neurons:32",
          "full:[256]-fulldrop:0.5-drop:0.2-lag:12-neurons:32",
          "full:[512]-fulldrop:0.2-drop:0.2-lag:12-neurons:32",
          "full:[512]-fulldrop:0.3-drop:0.2-lag:12-neurons:32",
          "full:[512]-fulldrop:0.4-drop:0.2-lag:12-neurons:32",
          "full:[512]-fulldrop:0.5-drop:0.2-lag:12-neurons:32",
          "full:[256]-fulldrop:0.2-drop:0.3-lag:12-neurons:32",
          "full:[256]-fulldrop:0.3-drop:0.3-lag:12-neurons:32",
          "full:[256]-fulldrop:0.4-drop:0.3-lag:12-neurons:32",
          "full:[256]-fulldrop:0.5-drop:0.3-lag:12-neurons:32",
          "full:[512]-fulldrop:0.2-drop:0.3-lag:12-neurons:32",
          "full:[512]-fulldrop:0.3-drop:0.3-lag:12-neurons:32",
          "full:[512]-fulldrop:0.4-drop:0.3-lag:12-neurons:32",
          "full:[512]-fulldrop:0.5-drop:0.3-lag:12-neurons:32",
          "full:[256]-fulldrop:0.2-drop:0.4-lag:12-neurons:32",
          "full:[256]-fulldrop:0.3-drop:0.4-lag:12-neurons:32",
          "full:[256]-fulldrop:0.4-drop:0.4-lag:12-neurons:32",
          "full:[256]-fulldrop:0.5-drop:0.4-lag:12-neurons:32",
          "full:[512]-fulldrop:0.2-drop:0.4-lag:12-neurons:32",
          "full:[512]-fulldrop:0.3-drop:0.4-lag:12-neurons:32",
          "full:[512]-fulldrop:0.4-drop:0.4-lag:12-neurons:32",
          "full:[512]-fulldrop:0.5-drop:0.4-lag:12-neurons:32",
          "full:[256]-fulldrop:0.2-drop:0.5-lag:12-neurons:32",
          "full:[256]-fulldrop:0.3-drop:0.5-lag:12-neurons:32",
          "full:[256]-fulldrop:0.4-drop:0.5-lag:12-neurons:32",
          "full:[256]-fulldrop:0.5-drop:0.5-lag:12-neurons:32",
          "full:[512]-fulldrop:0.2-drop:0.5-lag:12-neurons:32",
          "full:[512]-fulldrop:0.3-drop:0.5-lag:12-neurons:32",
          "full:[512]-fulldrop:0.4-drop:0.5-lag:12-neurons:32",
          "full:[512]-fulldrop:0.5-drop:0.5-lag:12-neurons:32"
         ],
         "type": "scatter",
         "uid": "82f027a0-4e92-4a0e-8b0a-8690883d8c9f",
         "x": [
          6.899580954860925,
          6.894751159580917,
          6.875939642735793,
          6.872901643979855,
          6.898682433374136,
          6.892978629599753,
          6.888359246422234,
          6.887117730930746,
          6.9075624958760065,
          6.892516252402499,
          6.879104783362967,
          6.872975184732565,
          6.896607210384299,
          6.896750981693803,
          6.893664315815326,
          6.900638594424001,
          6.895219310384805,
          6.890156223074594,
          6.8855042640783175,
          6.878518543214657,
          6.88879677608022,
          6.893814493162106,
          6.884390840879734,
          6.8973261041442155,
          6.875341010225432,
          6.873769742700076,
          6.86701832431252,
          6.843415061916512,
          6.8632571373910665,
          6.8783559923321205,
          6.879196806678526,
          6.868227856457434
         ],
         "y": [
          6.581410954639158,
          6.589647699915784,
          6.573889258067177,
          6.575113427716737,
          6.581641563388093,
          6.582061653790811,
          6.581957367820379,
          6.5829985676838625,
          6.587587934155441,
          6.581940824097873,
          6.574012034152337,
          6.581817117883962,
          6.584043514450396,
          6.5859048556652375,
          6.580142793612939,
          6.600174845741923,
          6.580695888279714,
          6.580473406127843,
          6.588825703831037,
          6.585271599272818,
          6.568075166938651,
          6.583885193635243,
          6.568557267906893,
          6.593743927818207,
          6.566179728192878,
          6.573372043238486,
          6.567979698238339,
          6.556576129190443,
          6.561227530142668,
          6.565092626773293,
          6.570649100998364,
          6.568362647247613
         ]
        },
        {
         "marker": {
          "size": [
           40,
           40,
           40,
           40,
           40,
           40,
           40,
           40,
           40,
           40,
           40,
           40,
           40,
           40,
           40,
           40,
           40,
           40,
           40,
           40,
           40,
           40,
           40,
           39.8,
           40,
           40,
           40,
           40,
           40,
           40,
           40,
           40
          ]
         },
         "mode": "markers",
         "name": "64",
         "text": [
          "full:[256]-fulldrop:0.2-drop:0.2-lag:12-neurons:64",
          "full:[256]-fulldrop:0.3-drop:0.2-lag:12-neurons:64",
          "full:[256]-fulldrop:0.4-drop:0.2-lag:12-neurons:64",
          "full:[256]-fulldrop:0.5-drop:0.2-lag:12-neurons:64",
          "full:[512]-fulldrop:0.2-drop:0.2-lag:12-neurons:64",
          "full:[512]-fulldrop:0.3-drop:0.2-lag:12-neurons:64",
          "full:[512]-fulldrop:0.4-drop:0.2-lag:12-neurons:64",
          "full:[512]-fulldrop:0.5-drop:0.2-lag:12-neurons:64",
          "full:[256]-fulldrop:0.2-drop:0.3-lag:12-neurons:64",
          "full:[256]-fulldrop:0.3-drop:0.3-lag:12-neurons:64",
          "full:[256]-fulldrop:0.4-drop:0.3-lag:12-neurons:64",
          "full:[256]-fulldrop:0.5-drop:0.3-lag:12-neurons:64",
          "full:[512]-fulldrop:0.2-drop:0.3-lag:12-neurons:64",
          "full:[512]-fulldrop:0.3-drop:0.3-lag:12-neurons:64",
          "full:[512]-fulldrop:0.4-drop:0.3-lag:12-neurons:64",
          "full:[512]-fulldrop:0.5-drop:0.3-lag:12-neurons:64",
          "full:[256]-fulldrop:0.2-drop:0.4-lag:12-neurons:64",
          "full:[256]-fulldrop:0.3-drop:0.4-lag:12-neurons:64",
          "full:[256]-fulldrop:0.4-drop:0.4-lag:12-neurons:64",
          "full:[256]-fulldrop:0.5-drop:0.4-lag:12-neurons:64",
          "full:[512]-fulldrop:0.2-drop:0.4-lag:12-neurons:64",
          "full:[512]-fulldrop:0.3-drop:0.4-lag:12-neurons:64",
          "full:[512]-fulldrop:0.4-drop:0.4-lag:12-neurons:64",
          "full:[512]-fulldrop:0.5-drop:0.4-lag:12-neurons:64",
          "full:[256]-fulldrop:0.2-drop:0.5-lag:12-neurons:64",
          "full:[256]-fulldrop:0.3-drop:0.5-lag:12-neurons:64",
          "full:[256]-fulldrop:0.4-drop:0.5-lag:12-neurons:64",
          "full:[256]-fulldrop:0.5-drop:0.5-lag:12-neurons:64",
          "full:[512]-fulldrop:0.2-drop:0.5-lag:12-neurons:64",
          "full:[512]-fulldrop:0.3-drop:0.5-lag:12-neurons:64",
          "full:[512]-fulldrop:0.4-drop:0.5-lag:12-neurons:64",
          "full:[512]-fulldrop:0.5-drop:0.5-lag:12-neurons:64"
         ],
         "type": "scatter",
         "uid": "bc145a85-b869-469c-9979-921210252af9",
         "x": [
          6.881359564731656,
          6.874873825634049,
          6.874165101989439,
          6.872311396533859,
          6.88615527230755,
          6.88514644684253,
          6.86841375766803,
          6.875049906303838,
          6.886620500482913,
          6.893503542325018,
          6.877904988129429,
          6.869850422563913,
          6.882068290479654,
          6.892890757384009,
          6.879789042755983,
          6.891009283944064,
          6.888719624469734,
          6.882096288568655,
          6.8707680771980755,
          6.866773786796698,
          6.883353145289544,
          6.882646509410051,
          6.874984473937946,
          6.878720606412618,
          6.872908599107675,
          6.866373648763438,
          6.868679716320607,
          6.852720566605461,
          6.867641326278458,
          6.86397024786617,
          6.870393778306366,
          6.853388430354333
         ],
         "y": [
          6.5610081257105,
          6.567101944111147,
          6.562833504280502,
          6.569960815977499,
          6.572107755893718,
          6.568357813000979,
          6.557874040872616,
          6.56199355144326,
          6.577626857256462,
          6.58354428991393,
          6.56835008251734,
          6.564202808574893,
          6.563365847301783,
          6.577519129964261,
          6.565157855680337,
          6.572945532505576,
          6.570436799048607,
          6.571047240348287,
          6.570424222378915,
          6.569067471317771,
          6.565621378136845,
          6.573322221053533,
          6.564700303764301,
          6.568700221511945,
          6.549973523905433,
          6.556925237879016,
          6.559774485535951,
          6.54831044428405,
          6.545409537601457,
          6.555308732570254,
          6.564104839430351,
          6.550219164765079
         ]
        }
       ],
       "layout": {}
      },
      "text/html": [
       "<div id=\"33461fa7-db23-447d-b676-fd7e1875b81c\" style=\"height: 525px; width: 100%;\" class=\"plotly-graph-div\"></div><script type=\"text/javascript\">require([\"plotly\"], function(Plotly) { window.PLOTLYENV=window.PLOTLYENV || {};window.PLOTLYENV.BASE_URL=\"https://plot.ly\";\n",
       "if (document.getElementById(\"33461fa7-db23-447d-b676-fd7e1875b81c\")) {\n",
       "    Plotly.newPlot(\"33461fa7-db23-447d-b676-fd7e1875b81c\", [{\"marker\": {\"size\": [40.0, 40.0, 40.0, 40.0, 40.0, 40.0, 40.0, 40.0, 40.0, 40.0, 40.0, 40.0, 40.0, 40.0, 40.0, 40.0, 40.0, 40.0, 40.0, 40.0, 40.0, 40.0, 40.0, 40.0, 40.0, 40.0, 40.0, 40.0, 40.0, 40.0, 40.0, 40.0]}, \"mode\": \"markers\", \"name\": \"32\", \"text\": [\"full:[256]-fulldrop:0.2-drop:0.2-lag:12-neurons:32\", \"full:[256]-fulldrop:0.3-drop:0.2-lag:12-neurons:32\", \"full:[256]-fulldrop:0.4-drop:0.2-lag:12-neurons:32\", \"full:[256]-fulldrop:0.5-drop:0.2-lag:12-neurons:32\", \"full:[512]-fulldrop:0.2-drop:0.2-lag:12-neurons:32\", \"full:[512]-fulldrop:0.3-drop:0.2-lag:12-neurons:32\", \"full:[512]-fulldrop:0.4-drop:0.2-lag:12-neurons:32\", \"full:[512]-fulldrop:0.5-drop:0.2-lag:12-neurons:32\", \"full:[256]-fulldrop:0.2-drop:0.3-lag:12-neurons:32\", \"full:[256]-fulldrop:0.3-drop:0.3-lag:12-neurons:32\", \"full:[256]-fulldrop:0.4-drop:0.3-lag:12-neurons:32\", \"full:[256]-fulldrop:0.5-drop:0.3-lag:12-neurons:32\", \"full:[512]-fulldrop:0.2-drop:0.3-lag:12-neurons:32\", \"full:[512]-fulldrop:0.3-drop:0.3-lag:12-neurons:32\", \"full:[512]-fulldrop:0.4-drop:0.3-lag:12-neurons:32\", \"full:[512]-fulldrop:0.5-drop:0.3-lag:12-neurons:32\", \"full:[256]-fulldrop:0.2-drop:0.4-lag:12-neurons:32\", \"full:[256]-fulldrop:0.3-drop:0.4-lag:12-neurons:32\", \"full:[256]-fulldrop:0.4-drop:0.4-lag:12-neurons:32\", \"full:[256]-fulldrop:0.5-drop:0.4-lag:12-neurons:32\", \"full:[512]-fulldrop:0.2-drop:0.4-lag:12-neurons:32\", \"full:[512]-fulldrop:0.3-drop:0.4-lag:12-neurons:32\", \"full:[512]-fulldrop:0.4-drop:0.4-lag:12-neurons:32\", \"full:[512]-fulldrop:0.5-drop:0.4-lag:12-neurons:32\", \"full:[256]-fulldrop:0.2-drop:0.5-lag:12-neurons:32\", \"full:[256]-fulldrop:0.3-drop:0.5-lag:12-neurons:32\", \"full:[256]-fulldrop:0.4-drop:0.5-lag:12-neurons:32\", \"full:[256]-fulldrop:0.5-drop:0.5-lag:12-neurons:32\", \"full:[512]-fulldrop:0.2-drop:0.5-lag:12-neurons:32\", \"full:[512]-fulldrop:0.3-drop:0.5-lag:12-neurons:32\", \"full:[512]-fulldrop:0.4-drop:0.5-lag:12-neurons:32\", \"full:[512]-fulldrop:0.5-drop:0.5-lag:12-neurons:32\"], \"x\": [6.899580954860925, 6.894751159580917, 6.875939642735793, 6.872901643979855, 6.898682433374136, 6.892978629599753, 6.888359246422234, 6.887117730930746, 6.9075624958760065, 6.892516252402499, 6.879104783362967, 6.872975184732565, 6.896607210384299, 6.896750981693803, 6.893664315815326, 6.900638594424001, 6.895219310384805, 6.890156223074594, 6.8855042640783175, 6.878518543214657, 6.88879677608022, 6.893814493162106, 6.884390840879734, 6.8973261041442155, 6.875341010225432, 6.873769742700076, 6.86701832431252, 6.843415061916512, 6.8632571373910665, 6.8783559923321205, 6.879196806678526, 6.868227856457434], \"y\": [6.581410954639158, 6.589647699915784, 6.573889258067177, 6.575113427716737, 6.581641563388093, 6.582061653790811, 6.581957367820379, 6.5829985676838625, 6.587587934155441, 6.581940824097873, 6.574012034152337, 6.581817117883962, 6.584043514450396, 6.5859048556652375, 6.580142793612939, 6.600174845741923, 6.580695888279714, 6.580473406127843, 6.588825703831037, 6.585271599272818, 6.568075166938651, 6.583885193635243, 6.568557267906893, 6.593743927818207, 6.566179728192878, 6.573372043238486, 6.567979698238339, 6.556576129190443, 6.561227530142668, 6.565092626773293, 6.570649100998364, 6.568362647247613], \"type\": \"scatter\", \"uid\": \"4abc4649-adfa-4edc-956c-2363a72d9802\"}, {\"marker\": {\"size\": [40.0, 40.0, 40.0, 40.0, 40.0, 40.0, 40.0, 40.0, 40.0, 40.0, 40.0, 40.0, 40.0, 40.0, 40.0, 40.0, 40.0, 40.0, 40.0, 40.0, 40.0, 40.0, 40.0, 39.8, 40.0, 40.0, 40.0, 40.0, 40.0, 40.0, 40.0, 40.0]}, \"mode\": \"markers\", \"name\": \"64\", \"text\": [\"full:[256]-fulldrop:0.2-drop:0.2-lag:12-neurons:64\", \"full:[256]-fulldrop:0.3-drop:0.2-lag:12-neurons:64\", \"full:[256]-fulldrop:0.4-drop:0.2-lag:12-neurons:64\", \"full:[256]-fulldrop:0.5-drop:0.2-lag:12-neurons:64\", \"full:[512]-fulldrop:0.2-drop:0.2-lag:12-neurons:64\", \"full:[512]-fulldrop:0.3-drop:0.2-lag:12-neurons:64\", \"full:[512]-fulldrop:0.4-drop:0.2-lag:12-neurons:64\", \"full:[512]-fulldrop:0.5-drop:0.2-lag:12-neurons:64\", \"full:[256]-fulldrop:0.2-drop:0.3-lag:12-neurons:64\", \"full:[256]-fulldrop:0.3-drop:0.3-lag:12-neurons:64\", \"full:[256]-fulldrop:0.4-drop:0.3-lag:12-neurons:64\", \"full:[256]-fulldrop:0.5-drop:0.3-lag:12-neurons:64\", \"full:[512]-fulldrop:0.2-drop:0.3-lag:12-neurons:64\", \"full:[512]-fulldrop:0.3-drop:0.3-lag:12-neurons:64\", \"full:[512]-fulldrop:0.4-drop:0.3-lag:12-neurons:64\", \"full:[512]-fulldrop:0.5-drop:0.3-lag:12-neurons:64\", \"full:[256]-fulldrop:0.2-drop:0.4-lag:12-neurons:64\", \"full:[256]-fulldrop:0.3-drop:0.4-lag:12-neurons:64\", \"full:[256]-fulldrop:0.4-drop:0.4-lag:12-neurons:64\", \"full:[256]-fulldrop:0.5-drop:0.4-lag:12-neurons:64\", \"full:[512]-fulldrop:0.2-drop:0.4-lag:12-neurons:64\", \"full:[512]-fulldrop:0.3-drop:0.4-lag:12-neurons:64\", \"full:[512]-fulldrop:0.4-drop:0.4-lag:12-neurons:64\", \"full:[512]-fulldrop:0.5-drop:0.4-lag:12-neurons:64\", \"full:[256]-fulldrop:0.2-drop:0.5-lag:12-neurons:64\", \"full:[256]-fulldrop:0.3-drop:0.5-lag:12-neurons:64\", \"full:[256]-fulldrop:0.4-drop:0.5-lag:12-neurons:64\", \"full:[256]-fulldrop:0.5-drop:0.5-lag:12-neurons:64\", \"full:[512]-fulldrop:0.2-drop:0.5-lag:12-neurons:64\", \"full:[512]-fulldrop:0.3-drop:0.5-lag:12-neurons:64\", \"full:[512]-fulldrop:0.4-drop:0.5-lag:12-neurons:64\", \"full:[512]-fulldrop:0.5-drop:0.5-lag:12-neurons:64\"], \"x\": [6.881359564731656, 6.874873825634049, 6.874165101989439, 6.872311396533859, 6.88615527230755, 6.88514644684253, 6.86841375766803, 6.875049906303838, 6.886620500482913, 6.893503542325018, 6.877904988129429, 6.869850422563913, 6.882068290479654, 6.892890757384009, 6.879789042755983, 6.891009283944064, 6.888719624469734, 6.882096288568655, 6.8707680771980755, 6.866773786796698, 6.883353145289544, 6.882646509410051, 6.874984473937946, 6.878720606412618, 6.872908599107675, 6.866373648763438, 6.868679716320607, 6.852720566605461, 6.867641326278458, 6.86397024786617, 6.870393778306366, 6.853388430354333], \"y\": [6.5610081257105, 6.567101944111147, 6.562833504280502, 6.569960815977499, 6.572107755893718, 6.568357813000979, 6.557874040872616, 6.56199355144326, 6.577626857256462, 6.58354428991393, 6.56835008251734, 6.564202808574893, 6.563365847301783, 6.577519129964261, 6.565157855680337, 6.572945532505576, 6.570436799048607, 6.571047240348287, 6.570424222378915, 6.569067471317771, 6.565621378136845, 6.573322221053533, 6.564700303764301, 6.568700221511945, 6.549973523905433, 6.556925237879016, 6.559774485535951, 6.54831044428405, 6.545409537601457, 6.555308732570254, 6.564104839430351, 6.550219164765079], \"type\": \"scatter\", \"uid\": \"6574c397-c0bc-4eb0-a5f8-1b990a42466f\"}], {}, {\"showLink\": false, \"linkText\": \"Export to plot.ly\", \"plotlyServerURL\": \"https://plot.ly\"}); \n",
       "}\n",
       "});</script><script type=\"text/javascript\">window.addEventListener(\"resize\", function(){if (document.getElementById(\"33461fa7-db23-447d-b676-fd7e1875b81c\")) {window._Plotly.Plots.resize(document.getElementById(\"33461fa7-db23-447d-b676-fd7e1875b81c\"));};})</script>"
      ],
      "text/vnd.plotly.v1+html": [
       "<div id=\"33461fa7-db23-447d-b676-fd7e1875b81c\" style=\"height: 525px; width: 100%;\" class=\"plotly-graph-div\"></div><script type=\"text/javascript\">require([\"plotly\"], function(Plotly) { window.PLOTLYENV=window.PLOTLYENV || {};window.PLOTLYENV.BASE_URL=\"https://plot.ly\";\n",
       "if (document.getElementById(\"33461fa7-db23-447d-b676-fd7e1875b81c\")) {\n",
       "    Plotly.newPlot(\"33461fa7-db23-447d-b676-fd7e1875b81c\", [{\"marker\": {\"size\": [40.0, 40.0, 40.0, 40.0, 40.0, 40.0, 40.0, 40.0, 40.0, 40.0, 40.0, 40.0, 40.0, 40.0, 40.0, 40.0, 40.0, 40.0, 40.0, 40.0, 40.0, 40.0, 40.0, 40.0, 40.0, 40.0, 40.0, 40.0, 40.0, 40.0, 40.0, 40.0]}, \"mode\": \"markers\", \"name\": \"32\", \"text\": [\"full:[256]-fulldrop:0.2-drop:0.2-lag:12-neurons:32\", \"full:[256]-fulldrop:0.3-drop:0.2-lag:12-neurons:32\", \"full:[256]-fulldrop:0.4-drop:0.2-lag:12-neurons:32\", \"full:[256]-fulldrop:0.5-drop:0.2-lag:12-neurons:32\", \"full:[512]-fulldrop:0.2-drop:0.2-lag:12-neurons:32\", \"full:[512]-fulldrop:0.3-drop:0.2-lag:12-neurons:32\", \"full:[512]-fulldrop:0.4-drop:0.2-lag:12-neurons:32\", \"full:[512]-fulldrop:0.5-drop:0.2-lag:12-neurons:32\", \"full:[256]-fulldrop:0.2-drop:0.3-lag:12-neurons:32\", \"full:[256]-fulldrop:0.3-drop:0.3-lag:12-neurons:32\", \"full:[256]-fulldrop:0.4-drop:0.3-lag:12-neurons:32\", \"full:[256]-fulldrop:0.5-drop:0.3-lag:12-neurons:32\", \"full:[512]-fulldrop:0.2-drop:0.3-lag:12-neurons:32\", \"full:[512]-fulldrop:0.3-drop:0.3-lag:12-neurons:32\", \"full:[512]-fulldrop:0.4-drop:0.3-lag:12-neurons:32\", \"full:[512]-fulldrop:0.5-drop:0.3-lag:12-neurons:32\", \"full:[256]-fulldrop:0.2-drop:0.4-lag:12-neurons:32\", \"full:[256]-fulldrop:0.3-drop:0.4-lag:12-neurons:32\", \"full:[256]-fulldrop:0.4-drop:0.4-lag:12-neurons:32\", \"full:[256]-fulldrop:0.5-drop:0.4-lag:12-neurons:32\", \"full:[512]-fulldrop:0.2-drop:0.4-lag:12-neurons:32\", \"full:[512]-fulldrop:0.3-drop:0.4-lag:12-neurons:32\", \"full:[512]-fulldrop:0.4-drop:0.4-lag:12-neurons:32\", \"full:[512]-fulldrop:0.5-drop:0.4-lag:12-neurons:32\", \"full:[256]-fulldrop:0.2-drop:0.5-lag:12-neurons:32\", \"full:[256]-fulldrop:0.3-drop:0.5-lag:12-neurons:32\", \"full:[256]-fulldrop:0.4-drop:0.5-lag:12-neurons:32\", \"full:[256]-fulldrop:0.5-drop:0.5-lag:12-neurons:32\", \"full:[512]-fulldrop:0.2-drop:0.5-lag:12-neurons:32\", \"full:[512]-fulldrop:0.3-drop:0.5-lag:12-neurons:32\", \"full:[512]-fulldrop:0.4-drop:0.5-lag:12-neurons:32\", \"full:[512]-fulldrop:0.5-drop:0.5-lag:12-neurons:32\"], \"x\": [6.899580954860925, 6.894751159580917, 6.875939642735793, 6.872901643979855, 6.898682433374136, 6.892978629599753, 6.888359246422234, 6.887117730930746, 6.9075624958760065, 6.892516252402499, 6.879104783362967, 6.872975184732565, 6.896607210384299, 6.896750981693803, 6.893664315815326, 6.900638594424001, 6.895219310384805, 6.890156223074594, 6.8855042640783175, 6.878518543214657, 6.88879677608022, 6.893814493162106, 6.884390840879734, 6.8973261041442155, 6.875341010225432, 6.873769742700076, 6.86701832431252, 6.843415061916512, 6.8632571373910665, 6.8783559923321205, 6.879196806678526, 6.868227856457434], \"y\": [6.581410954639158, 6.589647699915784, 6.573889258067177, 6.575113427716737, 6.581641563388093, 6.582061653790811, 6.581957367820379, 6.5829985676838625, 6.587587934155441, 6.581940824097873, 6.574012034152337, 6.581817117883962, 6.584043514450396, 6.5859048556652375, 6.580142793612939, 6.600174845741923, 6.580695888279714, 6.580473406127843, 6.588825703831037, 6.585271599272818, 6.568075166938651, 6.583885193635243, 6.568557267906893, 6.593743927818207, 6.566179728192878, 6.573372043238486, 6.567979698238339, 6.556576129190443, 6.561227530142668, 6.565092626773293, 6.570649100998364, 6.568362647247613], \"type\": \"scatter\", \"uid\": \"4abc4649-adfa-4edc-956c-2363a72d9802\"}, {\"marker\": {\"size\": [40.0, 40.0, 40.0, 40.0, 40.0, 40.0, 40.0, 40.0, 40.0, 40.0, 40.0, 40.0, 40.0, 40.0, 40.0, 40.0, 40.0, 40.0, 40.0, 40.0, 40.0, 40.0, 40.0, 39.8, 40.0, 40.0, 40.0, 40.0, 40.0, 40.0, 40.0, 40.0]}, \"mode\": \"markers\", \"name\": \"64\", \"text\": [\"full:[256]-fulldrop:0.2-drop:0.2-lag:12-neurons:64\", \"full:[256]-fulldrop:0.3-drop:0.2-lag:12-neurons:64\", \"full:[256]-fulldrop:0.4-drop:0.2-lag:12-neurons:64\", \"full:[256]-fulldrop:0.5-drop:0.2-lag:12-neurons:64\", \"full:[512]-fulldrop:0.2-drop:0.2-lag:12-neurons:64\", \"full:[512]-fulldrop:0.3-drop:0.2-lag:12-neurons:64\", \"full:[512]-fulldrop:0.4-drop:0.2-lag:12-neurons:64\", \"full:[512]-fulldrop:0.5-drop:0.2-lag:12-neurons:64\", \"full:[256]-fulldrop:0.2-drop:0.3-lag:12-neurons:64\", \"full:[256]-fulldrop:0.3-drop:0.3-lag:12-neurons:64\", \"full:[256]-fulldrop:0.4-drop:0.3-lag:12-neurons:64\", \"full:[256]-fulldrop:0.5-drop:0.3-lag:12-neurons:64\", \"full:[512]-fulldrop:0.2-drop:0.3-lag:12-neurons:64\", \"full:[512]-fulldrop:0.3-drop:0.3-lag:12-neurons:64\", \"full:[512]-fulldrop:0.4-drop:0.3-lag:12-neurons:64\", \"full:[512]-fulldrop:0.5-drop:0.3-lag:12-neurons:64\", \"full:[256]-fulldrop:0.2-drop:0.4-lag:12-neurons:64\", \"full:[256]-fulldrop:0.3-drop:0.4-lag:12-neurons:64\", \"full:[256]-fulldrop:0.4-drop:0.4-lag:12-neurons:64\", \"full:[256]-fulldrop:0.5-drop:0.4-lag:12-neurons:64\", \"full:[512]-fulldrop:0.2-drop:0.4-lag:12-neurons:64\", \"full:[512]-fulldrop:0.3-drop:0.4-lag:12-neurons:64\", \"full:[512]-fulldrop:0.4-drop:0.4-lag:12-neurons:64\", \"full:[512]-fulldrop:0.5-drop:0.4-lag:12-neurons:64\", \"full:[256]-fulldrop:0.2-drop:0.5-lag:12-neurons:64\", \"full:[256]-fulldrop:0.3-drop:0.5-lag:12-neurons:64\", \"full:[256]-fulldrop:0.4-drop:0.5-lag:12-neurons:64\", \"full:[256]-fulldrop:0.5-drop:0.5-lag:12-neurons:64\", \"full:[512]-fulldrop:0.2-drop:0.5-lag:12-neurons:64\", \"full:[512]-fulldrop:0.3-drop:0.5-lag:12-neurons:64\", \"full:[512]-fulldrop:0.4-drop:0.5-lag:12-neurons:64\", \"full:[512]-fulldrop:0.5-drop:0.5-lag:12-neurons:64\"], \"x\": [6.881359564731656, 6.874873825634049, 6.874165101989439, 6.872311396533859, 6.88615527230755, 6.88514644684253, 6.86841375766803, 6.875049906303838, 6.886620500482913, 6.893503542325018, 6.877904988129429, 6.869850422563913, 6.882068290479654, 6.892890757384009, 6.879789042755983, 6.891009283944064, 6.888719624469734, 6.882096288568655, 6.8707680771980755, 6.866773786796698, 6.883353145289544, 6.882646509410051, 6.874984473937946, 6.878720606412618, 6.872908599107675, 6.866373648763438, 6.868679716320607, 6.852720566605461, 6.867641326278458, 6.86397024786617, 6.870393778306366, 6.853388430354333], \"y\": [6.5610081257105, 6.567101944111147, 6.562833504280502, 6.569960815977499, 6.572107755893718, 6.568357813000979, 6.557874040872616, 6.56199355144326, 6.577626857256462, 6.58354428991393, 6.56835008251734, 6.564202808574893, 6.563365847301783, 6.577519129964261, 6.565157855680337, 6.572945532505576, 6.570436799048607, 6.571047240348287, 6.570424222378915, 6.569067471317771, 6.565621378136845, 6.573322221053533, 6.564700303764301, 6.568700221511945, 6.549973523905433, 6.556925237879016, 6.559774485535951, 6.54831044428405, 6.545409537601457, 6.555308732570254, 6.564104839430351, 6.550219164765079], \"type\": \"scatter\", \"uid\": \"6574c397-c0bc-4eb0-a5f8-1b990a42466f\"}], {}, {\"showLink\": false, \"linkText\": \"Export to plot.ly\", \"plotlyServerURL\": \"https://plot.ly\"}); \n",
       "}\n",
       "});</script><script type=\"text/javascript\">window.addEventListener(\"resize\", function(){if (document.getElementById(\"33461fa7-db23-447d-b676-fd7e1875b81c\")) {window._Plotly.Plots.resize(document.getElementById(\"33461fa7-db23-447d-b676-fd7e1875b81c\"));};})</script>"
      ]
     },
     "metadata": {},
     "output_type": "display_data"
    }
   ],
   "source": [
    "results.results_dataframe_graph(facet='neurons',att=['full', 'fulldrop', 'drop', 'lag'])"
   ]
  },
  {
   "cell_type": "markdown",
   "metadata": {
    "extensions": {
     "jupyter_dashboards": {
      "version": 1,
      "views": {
       "grid_default": {
        "hidden": true
       },
       "report_default": {
        "hidden": true
       }
      }
     }
    }
   },
   "source": [
    "## Fit11 (linear activation)"
   ]
  },
  {
   "cell_type": "code",
   "execution_count": 244,
   "metadata": {
    "extensions": {
     "jupyter_dashboards": {
      "version": 1,
      "views": {
       "grid_default": {
        "hidden": true
       },
       "report_default": {
        "hidden": true
       }
      }
     }
    }
   },
   "outputs": [],
   "source": [
    "query={'experiment':'rnns2sactiv4'}\n",
    "\n",
    "results = DBResults(conn=mongolocaltest)\n",
    "#results = DBResults()\n",
    "\n",
    "results.results_dataframe_retrieve(query, arch=['neurons', 'nlayers', 'drop', 'full', 'fulldrop','activation_full', 'activation'], data=['lag'])"
   ]
  },
  {
   "cell_type": "code",
   "execution_count": 245,
   "metadata": {},
   "outputs": [
    {
     "name": "stdout",
     "output_type": "stream",
     "text": [
      "38463\n"
     ]
    },
    {
     "data": {
      "text/html": [
       "<style  type=\"text/css\" >\n",
       "    #T_e2f20472_5483_11e9_b3ce_842b2bb021fdrow2_col9 {\n",
       "            background-color:  yellow;\n",
       "        }    #T_e2f20472_5483_11e9_b3ce_842b2bb021fdrow4_col8 {\n",
       "            background-color:  yellow;\n",
       "        }    #T_e2f20472_5483_11e9_b3ce_842b2bb021fdrow4_col10 {\n",
       "            background-color:  yellow;\n",
       "        }    #T_e2f20472_5483_11e9_b3ce_842b2bb021fdrow9_col9 {\n",
       "            background-color:  yellow;\n",
       "        }</style><table id=\"T_e2f20472_5483_11e9_b3ce_842b2bb021fd\" ><thead>    <tr>        <th class=\"blank level0\" ></th>        <th class=\"col_heading level0 col0\" >neurons</th>        <th class=\"col_heading level0 col1\" >nlayers</th>        <th class=\"col_heading level0 col2\" >drop</th>        <th class=\"col_heading level0 col3\" >full</th>        <th class=\"col_heading level0 col4\" >fulldrop</th>        <th class=\"col_heading level0 col5\" >activation_full</th>        <th class=\"col_heading level0 col6\" >activation</th>        <th class=\"col_heading level0 col7\" >lag</th>        <th class=\"col_heading level0 col8\" colspan=2>test</th>        <th class=\"col_heading level0 col10\" >val</th>    </tr>    <tr>        <th class=\"blank level1\" ></th>        <th class=\"col_heading level1 col0\" ></th>        <th class=\"col_heading level1 col1\" ></th>        <th class=\"col_heading level1 col2\" ></th>        <th class=\"col_heading level1 col3\" ></th>        <th class=\"col_heading level1 col4\" ></th>        <th class=\"col_heading level1 col5\" ></th>        <th class=\"col_heading level1 col6\" ></th>        <th class=\"col_heading level1 col7\" ></th>        <th class=\"col_heading level1 col8\" >mean</th>        <th class=\"col_heading level1 col9\" >count</th>        <th class=\"col_heading level1 col10\" >mean</th>    </tr></thead><tbody>\n",
       "                <tr>\n",
       "                        <th id=\"T_e2f20472_5483_11e9_b3ce_842b2bb021fdlevel0_row0\" class=\"row_heading level0 row0\" >41</th>\n",
       "                        <td id=\"T_e2f20472_5483_11e9_b3ce_842b2bb021fdrow0_col0\" class=\"data row0 col0\" >32</td>\n",
       "                        <td id=\"T_e2f20472_5483_11e9_b3ce_842b2bb021fdrow0_col1\" class=\"data row0 col1\" >1</td>\n",
       "                        <td id=\"T_e2f20472_5483_11e9_b3ce_842b2bb021fdrow0_col2\" class=\"data row0 col2\" >0.3</td>\n",
       "                        <td id=\"T_e2f20472_5483_11e9_b3ce_842b2bb021fdrow0_col3\" class=\"data row0 col3\" >[4096, 2048]</td>\n",
       "                        <td id=\"T_e2f20472_5483_11e9_b3ce_842b2bb021fdrow0_col4\" class=\"data row0 col4\" >0.4</td>\n",
       "                        <td id=\"T_e2f20472_5483_11e9_b3ce_842b2bb021fdrow0_col5\" class=\"data row0 col5\" >['leaky', 0.2]</td>\n",
       "                        <td id=\"T_e2f20472_5483_11e9_b3ce_842b2bb021fdrow0_col6\" class=\"data row0 col6\" >['elu', 0.4]</td>\n",
       "                        <td id=\"T_e2f20472_5483_11e9_b3ce_842b2bb021fdrow0_col7\" class=\"data row0 col7\" >6</td>\n",
       "                        <td id=\"T_e2f20472_5483_11e9_b3ce_842b2bb021fdrow0_col8\" class=\"data row0 col8\" >7.02931</td>\n",
       "                        <td id=\"T_e2f20472_5483_11e9_b3ce_842b2bb021fdrow0_col9\" class=\"data row0 col9\" >173</td>\n",
       "                        <td id=\"T_e2f20472_5483_11e9_b3ce_842b2bb021fdrow0_col10\" class=\"data row0 col10\" >6.71026</td>\n",
       "            </tr>\n",
       "            <tr>\n",
       "                        <th id=\"T_e2f20472_5483_11e9_b3ce_842b2bb021fdlevel0_row1\" class=\"row_heading level0 row1\" >121</th>\n",
       "                        <td id=\"T_e2f20472_5483_11e9_b3ce_842b2bb021fdrow1_col0\" class=\"data row1 col0\" >64</td>\n",
       "                        <td id=\"T_e2f20472_5483_11e9_b3ce_842b2bb021fdrow1_col1\" class=\"data row1 col1\" >1</td>\n",
       "                        <td id=\"T_e2f20472_5483_11e9_b3ce_842b2bb021fdrow1_col2\" class=\"data row1 col2\" >0.3</td>\n",
       "                        <td id=\"T_e2f20472_5483_11e9_b3ce_842b2bb021fdrow1_col3\" class=\"data row1 col3\" >[1024, 512, 256]</td>\n",
       "                        <td id=\"T_e2f20472_5483_11e9_b3ce_842b2bb021fdrow1_col4\" class=\"data row1 col4\" >0.3</td>\n",
       "                        <td id=\"T_e2f20472_5483_11e9_b3ce_842b2bb021fdrow1_col5\" class=\"data row1 col5\" >['leaky', 0.2]</td>\n",
       "                        <td id=\"T_e2f20472_5483_11e9_b3ce_842b2bb021fdrow1_col6\" class=\"data row1 col6\" >['elu', 0.4]</td>\n",
       "                        <td id=\"T_e2f20472_5483_11e9_b3ce_842b2bb021fdrow1_col7\" class=\"data row1 col7\" >6</td>\n",
       "                        <td id=\"T_e2f20472_5483_11e9_b3ce_842b2bb021fdrow1_col8\" class=\"data row1 col8\" >7.03164</td>\n",
       "                        <td id=\"T_e2f20472_5483_11e9_b3ce_842b2bb021fdrow1_col9\" class=\"data row1 col9\" >191</td>\n",
       "                        <td id=\"T_e2f20472_5483_11e9_b3ce_842b2bb021fdrow1_col10\" class=\"data row1 col10\" >6.72038</td>\n",
       "            </tr>\n",
       "            <tr>\n",
       "                        <th id=\"T_e2f20472_5483_11e9_b3ce_842b2bb021fdlevel0_row2\" class=\"row_heading level0 row2\" >125</th>\n",
       "                        <td id=\"T_e2f20472_5483_11e9_b3ce_842b2bb021fdrow2_col0\" class=\"data row2 col0\" >64</td>\n",
       "                        <td id=\"T_e2f20472_5483_11e9_b3ce_842b2bb021fdrow2_col1\" class=\"data row2 col1\" >1</td>\n",
       "                        <td id=\"T_e2f20472_5483_11e9_b3ce_842b2bb021fdrow2_col2\" class=\"data row2 col2\" >0.3</td>\n",
       "                        <td id=\"T_e2f20472_5483_11e9_b3ce_842b2bb021fdrow2_col3\" class=\"data row2 col3\" >[1024, 512]</td>\n",
       "                        <td id=\"T_e2f20472_5483_11e9_b3ce_842b2bb021fdrow2_col4\" class=\"data row2 col4\" >0.4</td>\n",
       "                        <td id=\"T_e2f20472_5483_11e9_b3ce_842b2bb021fdrow2_col5\" class=\"data row2 col5\" >['leaky', 0.2]</td>\n",
       "                        <td id=\"T_e2f20472_5483_11e9_b3ce_842b2bb021fdrow2_col6\" class=\"data row2 col6\" >['elu', 0.4]</td>\n",
       "                        <td id=\"T_e2f20472_5483_11e9_b3ce_842b2bb021fdrow2_col7\" class=\"data row2 col7\" >12</td>\n",
       "                        <td id=\"T_e2f20472_5483_11e9_b3ce_842b2bb021fdrow2_col8\" class=\"data row2 col8\" >7.02598</td>\n",
       "                        <td id=\"T_e2f20472_5483_11e9_b3ce_842b2bb021fdrow2_col9\" class=\"data row2 col9\" >200</td>\n",
       "                        <td id=\"T_e2f20472_5483_11e9_b3ce_842b2bb021fdrow2_col10\" class=\"data row2 col10\" >6.71299</td>\n",
       "            </tr>\n",
       "            <tr>\n",
       "                        <th id=\"T_e2f20472_5483_11e9_b3ce_842b2bb021fdlevel0_row3\" class=\"row_heading level0 row3\" >131</th>\n",
       "                        <td id=\"T_e2f20472_5483_11e9_b3ce_842b2bb021fdrow3_col0\" class=\"data row3 col0\" >64</td>\n",
       "                        <td id=\"T_e2f20472_5483_11e9_b3ce_842b2bb021fdrow3_col1\" class=\"data row3 col1\" >1</td>\n",
       "                        <td id=\"T_e2f20472_5483_11e9_b3ce_842b2bb021fdrow3_col2\" class=\"data row3 col2\" >0.3</td>\n",
       "                        <td id=\"T_e2f20472_5483_11e9_b3ce_842b2bb021fdrow3_col3\" class=\"data row3 col3\" >[2048, 1024]</td>\n",
       "                        <td id=\"T_e2f20472_5483_11e9_b3ce_842b2bb021fdrow3_col4\" class=\"data row3 col4\" >0.4</td>\n",
       "                        <td id=\"T_e2f20472_5483_11e9_b3ce_842b2bb021fdrow3_col5\" class=\"data row3 col5\" >['leaky', 0.2]</td>\n",
       "                        <td id=\"T_e2f20472_5483_11e9_b3ce_842b2bb021fdrow3_col6\" class=\"data row3 col6\" >['elu', 0.4]</td>\n",
       "                        <td id=\"T_e2f20472_5483_11e9_b3ce_842b2bb021fdrow3_col7\" class=\"data row3 col7\" >6</td>\n",
       "                        <td id=\"T_e2f20472_5483_11e9_b3ce_842b2bb021fdrow3_col8\" class=\"data row3 col8\" >7.04034</td>\n",
       "                        <td id=\"T_e2f20472_5483_11e9_b3ce_842b2bb021fdrow3_col9\" class=\"data row3 col9\" >194</td>\n",
       "                        <td id=\"T_e2f20472_5483_11e9_b3ce_842b2bb021fdrow3_col10\" class=\"data row3 col10\" >6.72194</td>\n",
       "            </tr>\n",
       "            <tr>\n",
       "                        <th id=\"T_e2f20472_5483_11e9_b3ce_842b2bb021fdlevel0_row4\" class=\"row_heading level0 row4\" >137</th>\n",
       "                        <td id=\"T_e2f20472_5483_11e9_b3ce_842b2bb021fdrow4_col0\" class=\"data row4 col0\" >64</td>\n",
       "                        <td id=\"T_e2f20472_5483_11e9_b3ce_842b2bb021fdrow4_col1\" class=\"data row4 col1\" >1</td>\n",
       "                        <td id=\"T_e2f20472_5483_11e9_b3ce_842b2bb021fdrow4_col2\" class=\"data row4 col2\" >0.3</td>\n",
       "                        <td id=\"T_e2f20472_5483_11e9_b3ce_842b2bb021fdrow4_col3\" class=\"data row4 col3\" >[4096, 1024]</td>\n",
       "                        <td id=\"T_e2f20472_5483_11e9_b3ce_842b2bb021fdrow4_col4\" class=\"data row4 col4\" >0.4</td>\n",
       "                        <td id=\"T_e2f20472_5483_11e9_b3ce_842b2bb021fdrow4_col5\" class=\"data row4 col5\" >['leaky', 0.2]</td>\n",
       "                        <td id=\"T_e2f20472_5483_11e9_b3ce_842b2bb021fdrow4_col6\" class=\"data row4 col6\" >['elu', 0.4]</td>\n",
       "                        <td id=\"T_e2f20472_5483_11e9_b3ce_842b2bb021fdrow4_col7\" class=\"data row4 col7\" >6</td>\n",
       "                        <td id=\"T_e2f20472_5483_11e9_b3ce_842b2bb021fdrow4_col8\" class=\"data row4 col8\" >7.05821</td>\n",
       "                        <td id=\"T_e2f20472_5483_11e9_b3ce_842b2bb021fdrow4_col9\" class=\"data row4 col9\" >177</td>\n",
       "                        <td id=\"T_e2f20472_5483_11e9_b3ce_842b2bb021fdrow4_col10\" class=\"data row4 col10\" >6.73156</td>\n",
       "            </tr>\n",
       "            <tr>\n",
       "                        <th id=\"T_e2f20472_5483_11e9_b3ce_842b2bb021fdlevel0_row5\" class=\"row_heading level0 row5\" >141</th>\n",
       "                        <td id=\"T_e2f20472_5483_11e9_b3ce_842b2bb021fdrow5_col0\" class=\"data row5 col0\" >64</td>\n",
       "                        <td id=\"T_e2f20472_5483_11e9_b3ce_842b2bb021fdrow5_col1\" class=\"data row5 col1\" >1</td>\n",
       "                        <td id=\"T_e2f20472_5483_11e9_b3ce_842b2bb021fdrow5_col2\" class=\"data row5 col2\" >0.3</td>\n",
       "                        <td id=\"T_e2f20472_5483_11e9_b3ce_842b2bb021fdrow5_col3\" class=\"data row5 col3\" >[4096, 2048]</td>\n",
       "                        <td id=\"T_e2f20472_5483_11e9_b3ce_842b2bb021fdrow5_col4\" class=\"data row5 col4\" >0.4</td>\n",
       "                        <td id=\"T_e2f20472_5483_11e9_b3ce_842b2bb021fdrow5_col5\" class=\"data row5 col5\" >['leaky', 0.2]</td>\n",
       "                        <td id=\"T_e2f20472_5483_11e9_b3ce_842b2bb021fdrow5_col6\" class=\"data row5 col6\" >['elu', 0.4]</td>\n",
       "                        <td id=\"T_e2f20472_5483_11e9_b3ce_842b2bb021fdrow5_col7\" class=\"data row5 col7\" >6</td>\n",
       "                        <td id=\"T_e2f20472_5483_11e9_b3ce_842b2bb021fdrow5_col8\" class=\"data row5 col8\" >7.02637</td>\n",
       "                        <td id=\"T_e2f20472_5483_11e9_b3ce_842b2bb021fdrow5_col9\" class=\"data row5 col9\" >171</td>\n",
       "                        <td id=\"T_e2f20472_5483_11e9_b3ce_842b2bb021fdrow5_col10\" class=\"data row5 col10\" >6.68742</td>\n",
       "            </tr>\n",
       "            <tr>\n",
       "                        <th id=\"T_e2f20472_5483_11e9_b3ce_842b2bb021fdlevel0_row6\" class=\"row_heading level0 row6\" >143</th>\n",
       "                        <td id=\"T_e2f20472_5483_11e9_b3ce_842b2bb021fdrow6_col0\" class=\"data row6 col0\" >64</td>\n",
       "                        <td id=\"T_e2f20472_5483_11e9_b3ce_842b2bb021fdrow6_col1\" class=\"data row6 col1\" >1</td>\n",
       "                        <td id=\"T_e2f20472_5483_11e9_b3ce_842b2bb021fdrow6_col2\" class=\"data row6 col2\" >0.3</td>\n",
       "                        <td id=\"T_e2f20472_5483_11e9_b3ce_842b2bb021fdrow6_col3\" class=\"data row6 col3\" >[512, 256, 128]</td>\n",
       "                        <td id=\"T_e2f20472_5483_11e9_b3ce_842b2bb021fdrow6_col4\" class=\"data row6 col4\" >0.4</td>\n",
       "                        <td id=\"T_e2f20472_5483_11e9_b3ce_842b2bb021fdrow6_col5\" class=\"data row6 col5\" >['leaky', 0.2]</td>\n",
       "                        <td id=\"T_e2f20472_5483_11e9_b3ce_842b2bb021fdrow6_col6\" class=\"data row6 col6\" >['elu', 0.4]</td>\n",
       "                        <td id=\"T_e2f20472_5483_11e9_b3ce_842b2bb021fdrow6_col7\" class=\"data row6 col7\" >12</td>\n",
       "                        <td id=\"T_e2f20472_5483_11e9_b3ce_842b2bb021fdrow6_col8\" class=\"data row6 col8\" >7.03503</td>\n",
       "                        <td id=\"T_e2f20472_5483_11e9_b3ce_842b2bb021fdrow6_col9\" class=\"data row6 col9\" >144</td>\n",
       "                        <td id=\"T_e2f20472_5483_11e9_b3ce_842b2bb021fdrow6_col10\" class=\"data row6 col10\" >6.71121</td>\n",
       "            </tr>\n",
       "            <tr>\n",
       "                        <th id=\"T_e2f20472_5483_11e9_b3ce_842b2bb021fdlevel0_row7\" class=\"row_heading level0 row7\" >162</th>\n",
       "                        <td id=\"T_e2f20472_5483_11e9_b3ce_842b2bb021fdrow7_col0\" class=\"data row7 col0\" >64</td>\n",
       "                        <td id=\"T_e2f20472_5483_11e9_b3ce_842b2bb021fdrow7_col1\" class=\"data row7 col1\" >1</td>\n",
       "                        <td id=\"T_e2f20472_5483_11e9_b3ce_842b2bb021fdrow7_col2\" class=\"data row7 col2\" >0.4</td>\n",
       "                        <td id=\"T_e2f20472_5483_11e9_b3ce_842b2bb021fdrow7_col3\" class=\"data row7 col3\" >[1024, 512, 256]</td>\n",
       "                        <td id=\"T_e2f20472_5483_11e9_b3ce_842b2bb021fdrow7_col4\" class=\"data row7 col4\" >0.4</td>\n",
       "                        <td id=\"T_e2f20472_5483_11e9_b3ce_842b2bb021fdrow7_col5\" class=\"data row7 col5\" >['leaky', 0.2]</td>\n",
       "                        <td id=\"T_e2f20472_5483_11e9_b3ce_842b2bb021fdrow7_col6\" class=\"data row7 col6\" >['elu', 0.4]</td>\n",
       "                        <td id=\"T_e2f20472_5483_11e9_b3ce_842b2bb021fdrow7_col7\" class=\"data row7 col7\" >12</td>\n",
       "                        <td id=\"T_e2f20472_5483_11e9_b3ce_842b2bb021fdrow7_col8\" class=\"data row7 col8\" >7.02698</td>\n",
       "                        <td id=\"T_e2f20472_5483_11e9_b3ce_842b2bb021fdrow7_col9\" class=\"data row7 col9\" >186</td>\n",
       "                        <td id=\"T_e2f20472_5483_11e9_b3ce_842b2bb021fdrow7_col10\" class=\"data row7 col10\" >6.71805</td>\n",
       "            </tr>\n",
       "            <tr>\n",
       "                        <th id=\"T_e2f20472_5483_11e9_b3ce_842b2bb021fdlevel0_row8\" class=\"row_heading level0 row8\" >181</th>\n",
       "                        <td id=\"T_e2f20472_5483_11e9_b3ce_842b2bb021fdrow8_col0\" class=\"data row8 col0\" >64</td>\n",
       "                        <td id=\"T_e2f20472_5483_11e9_b3ce_842b2bb021fdrow8_col1\" class=\"data row8 col1\" >1</td>\n",
       "                        <td id=\"T_e2f20472_5483_11e9_b3ce_842b2bb021fdrow8_col2\" class=\"data row8 col2\" >0.4</td>\n",
       "                        <td id=\"T_e2f20472_5483_11e9_b3ce_842b2bb021fdrow8_col3\" class=\"data row8 col3\" >[4096, 2048]</td>\n",
       "                        <td id=\"T_e2f20472_5483_11e9_b3ce_842b2bb021fdrow8_col4\" class=\"data row8 col4\" >0.4</td>\n",
       "                        <td id=\"T_e2f20472_5483_11e9_b3ce_842b2bb021fdrow8_col5\" class=\"data row8 col5\" >['leaky', 0.2]</td>\n",
       "                        <td id=\"T_e2f20472_5483_11e9_b3ce_842b2bb021fdrow8_col6\" class=\"data row8 col6\" >['elu', 0.4]</td>\n",
       "                        <td id=\"T_e2f20472_5483_11e9_b3ce_842b2bb021fdrow8_col7\" class=\"data row8 col7\" >6</td>\n",
       "                        <td id=\"T_e2f20472_5483_11e9_b3ce_842b2bb021fdrow8_col8\" class=\"data row8 col8\" >7.03941</td>\n",
       "                        <td id=\"T_e2f20472_5483_11e9_b3ce_842b2bb021fdrow8_col9\" class=\"data row8 col9\" >184</td>\n",
       "                        <td id=\"T_e2f20472_5483_11e9_b3ce_842b2bb021fdrow8_col10\" class=\"data row8 col10\" >6.72112</td>\n",
       "            </tr>\n",
       "            <tr>\n",
       "                        <th id=\"T_e2f20472_5483_11e9_b3ce_842b2bb021fdlevel0_row9\" class=\"row_heading level0 row9\" >185</th>\n",
       "                        <td id=\"T_e2f20472_5483_11e9_b3ce_842b2bb021fdrow9_col0\" class=\"data row9 col0\" >64</td>\n",
       "                        <td id=\"T_e2f20472_5483_11e9_b3ce_842b2bb021fdrow9_col1\" class=\"data row9 col1\" >1</td>\n",
       "                        <td id=\"T_e2f20472_5483_11e9_b3ce_842b2bb021fdrow9_col2\" class=\"data row9 col2\" >0.4</td>\n",
       "                        <td id=\"T_e2f20472_5483_11e9_b3ce_842b2bb021fdrow9_col3\" class=\"data row9 col3\" >[512, 256]</td>\n",
       "                        <td id=\"T_e2f20472_5483_11e9_b3ce_842b2bb021fdrow9_col4\" class=\"data row9 col4\" >0.4</td>\n",
       "                        <td id=\"T_e2f20472_5483_11e9_b3ce_842b2bb021fdrow9_col5\" class=\"data row9 col5\" >['leaky', 0.2]</td>\n",
       "                        <td id=\"T_e2f20472_5483_11e9_b3ce_842b2bb021fdrow9_col6\" class=\"data row9 col6\" >['elu', 0.4]</td>\n",
       "                        <td id=\"T_e2f20472_5483_11e9_b3ce_842b2bb021fdrow9_col7\" class=\"data row9 col7\" >12</td>\n",
       "                        <td id=\"T_e2f20472_5483_11e9_b3ce_842b2bb021fdrow9_col8\" class=\"data row9 col8\" >7.02531</td>\n",
       "                        <td id=\"T_e2f20472_5483_11e9_b3ce_842b2bb021fdrow9_col9\" class=\"data row9 col9\" >200</td>\n",
       "                        <td id=\"T_e2f20472_5483_11e9_b3ce_842b2bb021fdrow9_col10\" class=\"data row9 col10\" >6.71508</td>\n",
       "            </tr>\n",
       "    </tbody></table>"
      ],
      "text/plain": [
       "<pandas.io.formats.style.Styler at 0x7fa0e9a4c128>"
      ]
     },
     "execution_count": 245,
     "metadata": {},
     "output_type": "execute_result"
    }
   ],
   "source": [
    "results.results_dataframe_aggregate(threshold=7.025)"
   ]
  },
  {
   "cell_type": "code",
   "execution_count": 246,
   "metadata": {},
   "outputs": [
    {
     "data": {
      "application/vnd.plotly.v1+json": {
       "config": {
        "linkText": "Export to plot.ly",
        "plotlyServerURL": "https://plot.ly",
        "showLink": false
       },
       "data": [
        {
         "marker": {
          "size": [
           37.6,
           38,
           37.8,
           39.6,
           38.8,
           39.2,
           38,
           38.2,
           37.8,
           38.2,
           38.6,
           38.6,
           38.6,
           38.4,
           37.2,
           38
          ]
         },
         "mode": "markers",
         "name": "[1024, 512, 256]",
         "text": [
          "neurons:32-fulldrop:0.3-drop:0.3-activation_full:['leaky', 0.2]-lag:12-full:[1024, 512, 256]",
          "neurons:32-fulldrop:0.3-drop:0.3-activation_full:['leaky', 0.2]-lag:6-full:[1024, 512, 256]",
          "neurons:32-fulldrop:0.4-drop:0.3-activation_full:['leaky', 0.2]-lag:12-full:[1024, 512, 256]",
          "neurons:32-fulldrop:0.4-drop:0.3-activation_full:['leaky', 0.2]-lag:6-full:[1024, 512, 256]",
          "neurons:32-fulldrop:0.3-drop:0.4-activation_full:['leaky', 0.2]-lag:12-full:[1024, 512, 256]",
          "neurons:32-fulldrop:0.3-drop:0.4-activation_full:['leaky', 0.2]-lag:6-full:[1024, 512, 256]",
          "neurons:32-fulldrop:0.4-drop:0.4-activation_full:['leaky', 0.2]-lag:12-full:[1024, 512, 256]",
          "neurons:32-fulldrop:0.4-drop:0.4-activation_full:['leaky', 0.2]-lag:6-full:[1024, 512, 256]",
          "neurons:64-fulldrop:0.3-drop:0.3-activation_full:['leaky', 0.2]-lag:12-full:[1024, 512, 256]",
          "neurons:64-fulldrop:0.3-drop:0.3-activation_full:['leaky', 0.2]-lag:6-full:[1024, 512, 256]",
          "neurons:64-fulldrop:0.4-drop:0.3-activation_full:['leaky', 0.2]-lag:12-full:[1024, 512, 256]",
          "neurons:64-fulldrop:0.4-drop:0.3-activation_full:['leaky', 0.2]-lag:6-full:[1024, 512, 256]",
          "neurons:64-fulldrop:0.3-drop:0.4-activation_full:['leaky', 0.2]-lag:12-full:[1024, 512, 256]",
          "neurons:64-fulldrop:0.3-drop:0.4-activation_full:['leaky', 0.2]-lag:6-full:[1024, 512, 256]",
          "neurons:64-fulldrop:0.4-drop:0.4-activation_full:['leaky', 0.2]-lag:12-full:[1024, 512, 256]",
          "neurons:64-fulldrop:0.4-drop:0.4-activation_full:['leaky', 0.2]-lag:6-full:[1024, 512, 256]"
         ],
         "type": "scatter",
         "uid": "df177769-3589-4050-a604-a426e6c177fb",
         "x": [
          6.993907432277661,
          6.988592724517381,
          6.988373122073269,
          7.003417253928609,
          6.954736774058717,
          7.014080068006802,
          6.991874127319382,
          7.008255386158221,
          7.018617089569584,
          7.031643008428158,
          7.000283850166323,
          7.021799649498643,
          6.994644467379113,
          7.017069247994406,
          7.026984458667133,
          7.018184283705798
         ],
         "y": [
          6.680443040110891,
          6.673557375301316,
          6.690264244010874,
          6.689753983123675,
          6.649529546569952,
          6.701569111477792,
          6.685513789938047,
          6.699994342350947,
          6.698683552379023,
          6.720375218780897,
          6.699974756359338,
          6.732802588628142,
          6.675576187926153,
          6.701841600475926,
          6.718049138170683,
          6.713771445110444
         ]
        },
        {
         "marker": {
          "size": [
           40,
           40,
           40,
           40,
           40,
           40,
           40,
           40,
           40,
           40,
           40,
           40,
           40,
           40,
           40,
           40
          ]
         },
         "mode": "markers",
         "name": "[1024, 512]",
         "text": [
          "neurons:32-fulldrop:0.3-drop:0.3-activation_full:['leaky', 0.2]-lag:12-full:[1024, 512]",
          "neurons:32-fulldrop:0.3-drop:0.3-activation_full:['leaky', 0.2]-lag:18-full:[1024, 512]",
          "neurons:32-fulldrop:0.3-drop:0.3-activation_full:['leaky', 0.2]-lag:6-full:[1024, 512]",
          "neurons:32-fulldrop:0.4-drop:0.3-activation_full:['leaky', 0.2]-lag:12-full:[1024, 512]",
          "neurons:32-fulldrop:0.4-drop:0.3-activation_full:['leaky', 0.2]-lag:18-full:[1024, 512]",
          "neurons:32-fulldrop:0.4-drop:0.3-activation_full:['leaky', 0.2]-lag:6-full:[1024, 512]",
          "neurons:32-fulldrop:0.3-drop:0.4-activation_full:['leaky', 0.2]-lag:12-full:[1024, 512]",
          "neurons:32-fulldrop:0.3-drop:0.4-activation_full:['leaky', 0.2]-lag:18-full:[1024, 512]",
          "neurons:32-fulldrop:0.3-drop:0.4-activation_full:['leaky', 0.2]-lag:6-full:[1024, 512]",
          "neurons:32-fulldrop:0.4-drop:0.4-activation_full:['leaky', 0.2]-lag:12-full:[1024, 512]",
          "neurons:32-fulldrop:0.4-drop:0.4-activation_full:['leaky', 0.2]-lag:18-full:[1024, 512]",
          "neurons:32-fulldrop:0.4-drop:0.4-activation_full:['leaky', 0.2]-lag:6-full:[1024, 512]",
          "neurons:64-fulldrop:0.3-drop:0.3-activation_full:['leaky', 0.2]-lag:12-full:[1024, 512]",
          "neurons:64-fulldrop:0.4-drop:0.3-activation_full:['leaky', 0.2]-lag:12-full:[1024, 512]",
          "neurons:64-fulldrop:0.3-drop:0.4-activation_full:['leaky', 0.2]-lag:12-full:[1024, 512]",
          "neurons:64-fulldrop:0.4-drop:0.4-activation_full:['leaky', 0.2]-lag:12-full:[1024, 512]"
         ],
         "type": "scatter",
         "uid": "6fb3bc15-da0f-40d7-9866-66f893ad4c71",
         "x": [
          6.989416680484834,
          6.916760433557228,
          7.007093168686122,
          7.005038236631747,
          6.9443832762854765,
          7.020651076834582,
          6.982015401074052,
          6.868758139571668,
          7.021885410063848,
          7.010542930578892,
          6.900961869680714,
          7.022911055955498,
          7.01411377517318,
          7.025976523869216,
          6.997935513523394,
          7.016438173484662
         ],
         "y": [
          6.666173403899067,
          6.602562740080982,
          6.691811405949324,
          6.695950570070953,
          6.6375463534693475,
          6.712920389969117,
          6.665577443418264,
          6.560011151773091,
          6.708941277977381,
          6.696460027745269,
          6.6037425225039,
          6.718503483856386,
          6.698068009594638,
          6.712994459205429,
          6.685109001204536,
          6.707940076701715
         ]
        },
        {
         "marker": {
          "size": [
           38.4,
           38.4,
           38.4,
           38.6,
           40,
           40,
           40,
           40,
           40,
           40,
           40,
           40
          ]
         },
         "mode": "markers",
         "name": "[1024]",
         "text": [
          "neurons:128-fulldrop:0.3-drop:0.3-activation_full:['leaky', 0.2]-lag:18-full:[1024]",
          "neurons:128-fulldrop:0.4-drop:0.3-activation_full:['leaky', 0.2]-lag:18-full:[1024]",
          "neurons:128-fulldrop:0.3-drop:0.4-activation_full:['leaky', 0.2]-lag:18-full:[1024]",
          "neurons:128-fulldrop:0.4-drop:0.4-activation_full:['leaky', 0.2]-lag:18-full:[1024]",
          "neurons:32-fulldrop:0.3-drop:0.3-activation_full:['leaky', 0.2]-lag:12-full:[1024]",
          "neurons:32-fulldrop:0.4-drop:0.3-activation_full:['leaky', 0.2]-lag:12-full:[1024]",
          "neurons:32-fulldrop:0.3-drop:0.4-activation_full:['leaky', 0.2]-lag:12-full:[1024]",
          "neurons:32-fulldrop:0.4-drop:0.4-activation_full:['leaky', 0.2]-lag:12-full:[1024]",
          "neurons:64-fulldrop:0.3-drop:0.3-activation_full:['leaky', 0.2]-lag:12-full:[1024]",
          "neurons:64-fulldrop:0.4-drop:0.3-activation_full:['leaky', 0.2]-lag:12-full:[1024]",
          "neurons:64-fulldrop:0.3-drop:0.4-activation_full:['leaky', 0.2]-lag:12-full:[1024]",
          "neurons:64-fulldrop:0.4-drop:0.4-activation_full:['leaky', 0.2]-lag:12-full:[1024]"
         ],
         "type": "scatter",
         "uid": "012d7613-a9ef-45a9-ad34-e775d613bce1",
         "x": [
          6.944945779760517,
          6.978046311135851,
          6.918361991709855,
          6.932560900142687,
          6.959136487264003,
          6.982265380559776,
          6.965408744981773,
          6.975517066658816,
          6.970407550087775,
          6.989215203347365,
          6.980618733359862,
          6.984121126750844
         ],
         "y": [
          6.630679386044012,
          6.660583035265116,
          6.5932156186297,
          6.615742397656953,
          6.646642812636566,
          6.664225641457568,
          6.6508991044909065,
          6.665064415966294,
          6.650232373870132,
          6.671456719791715,
          6.666516294558611,
          6.675467043331852
         ]
        },
        {
         "marker": {
          "size": [
           37.8,
           37.8,
           38.4,
           38.2,
           39.2,
           38.2,
           38,
           37.4,
           38.4,
           39,
           39.2,
           38.8,
           39.2,
           38.8,
           38.8,
           38
          ]
         },
         "mode": "markers",
         "name": "[2048, 1024]",
         "text": [
          "neurons:32-fulldrop:0.3-drop:0.3-activation_full:['leaky', 0.2]-lag:12-full:[2048, 1024]",
          "neurons:32-fulldrop:0.3-drop:0.3-activation_full:['leaky', 0.2]-lag:6-full:[2048, 1024]",
          "neurons:32-fulldrop:0.4-drop:0.3-activation_full:['leaky', 0.2]-lag:12-full:[2048, 1024]",
          "neurons:32-fulldrop:0.4-drop:0.3-activation_full:['leaky', 0.2]-lag:6-full:[2048, 1024]",
          "neurons:32-fulldrop:0.3-drop:0.4-activation_full:['leaky', 0.2]-lag:12-full:[2048, 1024]",
          "neurons:32-fulldrop:0.3-drop:0.4-activation_full:['leaky', 0.2]-lag:6-full:[2048, 1024]",
          "neurons:32-fulldrop:0.4-drop:0.4-activation_full:['leaky', 0.2]-lag:12-full:[2048, 1024]",
          "neurons:32-fulldrop:0.4-drop:0.4-activation_full:['leaky', 0.2]-lag:6-full:[2048, 1024]",
          "neurons:64-fulldrop:0.3-drop:0.3-activation_full:['leaky', 0.2]-lag:12-full:[2048, 1024]",
          "neurons:64-fulldrop:0.3-drop:0.3-activation_full:['leaky', 0.2]-lag:6-full:[2048, 1024]",
          "neurons:64-fulldrop:0.4-drop:0.3-activation_full:['leaky', 0.2]-lag:12-full:[2048, 1024]",
          "neurons:64-fulldrop:0.4-drop:0.3-activation_full:['leaky', 0.2]-lag:6-full:[2048, 1024]",
          "neurons:64-fulldrop:0.3-drop:0.4-activation_full:['leaky', 0.2]-lag:12-full:[2048, 1024]",
          "neurons:64-fulldrop:0.3-drop:0.4-activation_full:['leaky', 0.2]-lag:6-full:[2048, 1024]",
          "neurons:64-fulldrop:0.4-drop:0.4-activation_full:['leaky', 0.2]-lag:12-full:[2048, 1024]",
          "neurons:64-fulldrop:0.4-drop:0.4-activation_full:['leaky', 0.2]-lag:6-full:[2048, 1024]"
         ],
         "type": "scatter",
         "uid": "ee226f0d-18ca-489c-ab23-067f871078c0",
         "x": [
          6.928995305056621,
          6.988013212414107,
          6.97672883956336,
          7.019879503985912,
          6.91814785616771,
          6.993535634568828,
          6.942852610624332,
          7.018010699568866,
          6.97378868937225,
          7.021428799540395,
          7.0103709511569114,
          7.04033907679021,
          6.965790359397972,
          7.016163767324799,
          6.998900660771358,
          7.021811013779888
         ],
         "y": [
          6.598291381704682,
          6.673198261132639,
          6.657512449270773,
          6.709264921000054,
          6.604751854123798,
          6.664629708769204,
          6.624637295396925,
          6.70061280104049,
          6.650788751071464,
          6.691013641358729,
          6.694358198775342,
          6.721944927000179,
          6.647359632644004,
          6.696337940371993,
          6.681628734240188,
          6.717101642662369
         ]
        },
        {
         "marker": {
          "size": [
           38.4,
           38.2,
           38,
           39.2,
           40,
           40,
           40,
           40,
           40,
           40,
           40,
           40
          ]
         },
         "mode": "markers",
         "name": "[2048]",
         "text": [
          "neurons:128-fulldrop:0.3-drop:0.3-activation_full:['leaky', 0.2]-lag:18-full:[2048]",
          "neurons:128-fulldrop:0.4-drop:0.3-activation_full:['leaky', 0.2]-lag:18-full:[2048]",
          "neurons:128-fulldrop:0.3-drop:0.4-activation_full:['leaky', 0.2]-lag:18-full:[2048]",
          "neurons:128-fulldrop:0.4-drop:0.4-activation_full:['leaky', 0.2]-lag:18-full:[2048]",
          "neurons:32-fulldrop:0.3-drop:0.3-activation_full:['leaky', 0.2]-lag:12-full:[2048]",
          "neurons:32-fulldrop:0.4-drop:0.3-activation_full:['leaky', 0.2]-lag:12-full:[2048]",
          "neurons:32-fulldrop:0.3-drop:0.4-activation_full:['leaky', 0.2]-lag:12-full:[2048]",
          "neurons:32-fulldrop:0.4-drop:0.4-activation_full:['leaky', 0.2]-lag:12-full:[2048]",
          "neurons:64-fulldrop:0.3-drop:0.3-activation_full:['leaky', 0.2]-lag:12-full:[2048]",
          "neurons:64-fulldrop:0.4-drop:0.3-activation_full:['leaky', 0.2]-lag:12-full:[2048]",
          "neurons:64-fulldrop:0.3-drop:0.4-activation_full:['leaky', 0.2]-lag:12-full:[2048]",
          "neurons:64-fulldrop:0.4-drop:0.4-activation_full:['leaky', 0.2]-lag:12-full:[2048]"
         ],
         "type": "scatter",
         "uid": "10d95313-f1fe-45bc-8810-0c134549ead1",
         "x": [
          6.943410608752115,
          6.938617799601525,
          6.93197334756312,
          6.908742076463348,
          6.945426009317112,
          6.966294167231803,
          6.949134334351884,
          6.962920351026244,
          6.962747951806279,
          6.977921114868079,
          6.960948826090735,
          6.965086135099304
         ],
         "y": [
          6.621016788723247,
          6.618198402447328,
          6.610355004621957,
          6.592523120344787,
          6.634889925760887,
          6.648019192438905,
          6.640330146873295,
          6.651371077649085,
          6.641036010726594,
          6.662059569883353,
          6.6410007350670925,
          6.649624503340869
         ]
        },
        {
         "marker": {
          "size": [
           35.6,
           37,
           35.8,
           35.6,
           36.2,
           35.6,
           35,
           34.6,
           35.4,
           35.6,
           35.6,
           35.4,
           34.8,
           36.6,
           36.2,
           36.4
          ]
         },
         "mode": "markers",
         "name": "[4096, 1024]",
         "text": [
          "neurons:32-fulldrop:0.3-drop:0.3-activation_full:['leaky', 0.2]-lag:12-full:[4096, 1024]",
          "neurons:32-fulldrop:0.3-drop:0.3-activation_full:['leaky', 0.2]-lag:6-full:[4096, 1024]",
          "neurons:32-fulldrop:0.4-drop:0.3-activation_full:['leaky', 0.2]-lag:12-full:[4096, 1024]",
          "neurons:32-fulldrop:0.4-drop:0.3-activation_full:['leaky', 0.2]-lag:6-full:[4096, 1024]",
          "neurons:32-fulldrop:0.3-drop:0.4-activation_full:['leaky', 0.2]-lag:12-full:[4096, 1024]",
          "neurons:32-fulldrop:0.3-drop:0.4-activation_full:['leaky', 0.2]-lag:6-full:[4096, 1024]",
          "neurons:32-fulldrop:0.4-drop:0.4-activation_full:['leaky', 0.2]-lag:12-full:[4096, 1024]",
          "neurons:32-fulldrop:0.4-drop:0.4-activation_full:['leaky', 0.2]-lag:6-full:[4096, 1024]",
          "neurons:64-fulldrop:0.3-drop:0.3-activation_full:['leaky', 0.2]-lag:12-full:[4096, 1024]",
          "neurons:64-fulldrop:0.3-drop:0.3-activation_full:['leaky', 0.2]-lag:6-full:[4096, 1024]",
          "neurons:64-fulldrop:0.4-drop:0.3-activation_full:['leaky', 0.2]-lag:12-full:[4096, 1024]",
          "neurons:64-fulldrop:0.4-drop:0.3-activation_full:['leaky', 0.2]-lag:6-full:[4096, 1024]",
          "neurons:64-fulldrop:0.3-drop:0.4-activation_full:['leaky', 0.2]-lag:12-full:[4096, 1024]",
          "neurons:64-fulldrop:0.3-drop:0.4-activation_full:['leaky', 0.2]-lag:6-full:[4096, 1024]",
          "neurons:64-fulldrop:0.4-drop:0.4-activation_full:['leaky', 0.2]-lag:12-full:[4096, 1024]",
          "neurons:64-fulldrop:0.4-drop:0.4-activation_full:['leaky', 0.2]-lag:6-full:[4096, 1024]"
         ],
         "type": "scatter",
         "uid": "774a34d1-ab95-4774-b765-e0ad4e444a61",
         "x": [
          6.912659649341507,
          6.975505598519576,
          6.957674253040895,
          7.006362615083873,
          6.8414616142863,
          6.988242361789208,
          6.949656737908967,
          7.011531418782866,
          6.93190192650893,
          6.9977090055156115,
          6.980564969004042,
          7.05821199440821,
          6.915722784756589,
          7.0121614190519255,
          6.930926490929097,
          7.010201748824704
         ],
         "y": [
          6.595555614395058,
          6.659515623246749,
          6.6286478642013815,
          6.683351759369485,
          6.5256202225082145,
          6.664912507152243,
          6.640928837692195,
          6.67144257636516,
          6.620512479709336,
          6.673097590131592,
          6.689094438064382,
          6.731563796211773,
          6.6189560576168756,
          6.669413639051462,
          6.643608691740999,
          6.6989711799324105
         ]
        },
        {
         "marker": {
          "size": [
           35.6,
           33.2,
           36.8,
           34.6,
           35.4,
           36.2,
           36.6,
           36.4,
           36.8,
           35.6,
           35.6,
           34.2,
           34.8,
           34.4,
           35.2,
           36.8
          ]
         },
         "mode": "markers",
         "name": "[4096, 2048]",
         "text": [
          "neurons:32-fulldrop:0.3-drop:0.3-activation_full:['leaky', 0.2]-lag:12-full:[4096, 2048]",
          "neurons:32-fulldrop:0.3-drop:0.3-activation_full:['leaky', 0.2]-lag:6-full:[4096, 2048]",
          "neurons:32-fulldrop:0.4-drop:0.3-activation_full:['leaky', 0.2]-lag:12-full:[4096, 2048]",
          "neurons:32-fulldrop:0.4-drop:0.3-activation_full:['leaky', 0.2]-lag:6-full:[4096, 2048]",
          "neurons:32-fulldrop:0.3-drop:0.4-activation_full:['leaky', 0.2]-lag:12-full:[4096, 2048]",
          "neurons:32-fulldrop:0.3-drop:0.4-activation_full:['leaky', 0.2]-lag:6-full:[4096, 2048]",
          "neurons:32-fulldrop:0.4-drop:0.4-activation_full:['leaky', 0.2]-lag:12-full:[4096, 2048]",
          "neurons:32-fulldrop:0.4-drop:0.4-activation_full:['leaky', 0.2]-lag:6-full:[4096, 2048]",
          "neurons:64-fulldrop:0.3-drop:0.3-activation_full:['leaky', 0.2]-lag:12-full:[4096, 2048]",
          "neurons:64-fulldrop:0.3-drop:0.3-activation_full:['leaky', 0.2]-lag:6-full:[4096, 2048]",
          "neurons:64-fulldrop:0.4-drop:0.3-activation_full:['leaky', 0.2]-lag:12-full:[4096, 2048]",
          "neurons:64-fulldrop:0.4-drop:0.3-activation_full:['leaky', 0.2]-lag:6-full:[4096, 2048]",
          "neurons:64-fulldrop:0.3-drop:0.4-activation_full:['leaky', 0.2]-lag:12-full:[4096, 2048]",
          "neurons:64-fulldrop:0.3-drop:0.4-activation_full:['leaky', 0.2]-lag:6-full:[4096, 2048]",
          "neurons:64-fulldrop:0.4-drop:0.4-activation_full:['leaky', 0.2]-lag:12-full:[4096, 2048]",
          "neurons:64-fulldrop:0.4-drop:0.4-activation_full:['leaky', 0.2]-lag:6-full:[4096, 2048]"
         ],
         "type": "scatter",
         "uid": "02136779-984f-45d9-8363-0b2f5f1c1062",
         "x": [
          6.890773830080445,
          6.9334922852371195,
          6.926173878523346,
          7.029310547946275,
          6.8049701201876305,
          6.959108433744172,
          6.880017953603131,
          6.981942591017649,
          6.919127144374491,
          6.964916189477997,
          6.965076556282678,
          7.0263697732831325,
          6.904918254971648,
          7.004883219334753,
          6.945095733586293,
          7.039412056355809
         ],
         "y": [
          6.569877733421442,
          6.614156307329918,
          6.618757462690727,
          6.710260509888163,
          6.488208158172172,
          6.649527025051982,
          6.566869928570496,
          6.673439762521749,
          6.61976772759265,
          6.635311223537872,
          6.640037946727722,
          6.687423723495941,
          6.585596529625879,
          6.675725842174021,
          6.6396684003182935,
          6.721118034261085
         ]
        },
        {
         "marker": {
          "size": [
           28,
           28.6,
           30,
           29,
           27,
           28.8,
           29,
           29.2
          ]
         },
         "mode": "markers",
         "name": "[512, 256, 128]",
         "text": [
          "neurons:32-fulldrop:0.3-drop:0.3-activation_full:['leaky', 0.2]-lag:12-full:[512, 256, 128]",
          "neurons:32-fulldrop:0.4-drop:0.3-activation_full:['leaky', 0.2]-lag:12-full:[512, 256, 128]",
          "neurons:32-fulldrop:0.3-drop:0.4-activation_full:['leaky', 0.2]-lag:12-full:[512, 256, 128]",
          "neurons:32-fulldrop:0.4-drop:0.4-activation_full:['leaky', 0.2]-lag:12-full:[512, 256, 128]",
          "neurons:64-fulldrop:0.3-drop:0.3-activation_full:['leaky', 0.2]-lag:12-full:[512, 256, 128]",
          "neurons:64-fulldrop:0.4-drop:0.3-activation_full:['leaky', 0.2]-lag:12-full:[512, 256, 128]",
          "neurons:64-fulldrop:0.3-drop:0.4-activation_full:['leaky', 0.2]-lag:12-full:[512, 256, 128]",
          "neurons:64-fulldrop:0.4-drop:0.4-activation_full:['leaky', 0.2]-lag:12-full:[512, 256, 128]"
         ],
         "type": "scatter",
         "uid": "8c872823-b7da-452b-b580-a7d100e2b367",
         "x": [
          6.951026665205437,
          6.9612640351750725,
          6.956428597171021,
          6.9840319073539066,
          6.978402685332467,
          7.035027191567052,
          6.983564986257279,
          6.969994606995329
         ],
         "y": [
          6.646389984615791,
          6.673786274602349,
          6.634594743244041,
          6.66389672390111,
          6.678661083407625,
          6.711207960428792,
          6.667257479338295,
          6.679370600430428
         ]
        },
        {
         "marker": {
          "size": [
           38.2,
           38.6,
           38.6,
           38.4,
           40,
           40,
           40,
           40,
           40,
           40,
           40,
           40,
           40,
           40,
           40,
           40,
           40,
           40,
           40,
           40
          ]
         },
         "mode": "markers",
         "name": "[512, 256]",
         "text": [
          "neurons:128-fulldrop:0.3-drop:0.3-activation_full:['leaky', 0.2]-lag:18-full:[512, 256]",
          "neurons:128-fulldrop:0.4-drop:0.3-activation_full:['leaky', 0.2]-lag:18-full:[512, 256]",
          "neurons:128-fulldrop:0.3-drop:0.4-activation_full:['leaky', 0.2]-lag:18-full:[512, 256]",
          "neurons:128-fulldrop:0.4-drop:0.4-activation_full:['leaky', 0.2]-lag:18-full:[512, 256]",
          "neurons:32-fulldrop:0.3-drop:0.3-activation_full:['leaky', 0.2]-lag:12-full:[512, 256]",
          "neurons:32-fulldrop:0.3-drop:0.3-activation_full:['leaky', 0.2]-lag:18-full:[512, 256]",
          "neurons:32-fulldrop:0.3-drop:0.3-activation_full:['leaky', 0.2]-lag:6-full:[512, 256]",
          "neurons:32-fulldrop:0.4-drop:0.3-activation_full:['leaky', 0.2]-lag:12-full:[512, 256]",
          "neurons:32-fulldrop:0.4-drop:0.3-activation_full:['leaky', 0.2]-lag:18-full:[512, 256]",
          "neurons:32-fulldrop:0.4-drop:0.3-activation_full:['leaky', 0.2]-lag:6-full:[512, 256]",
          "neurons:32-fulldrop:0.3-drop:0.4-activation_full:['leaky', 0.2]-lag:12-full:[512, 256]",
          "neurons:32-fulldrop:0.3-drop:0.4-activation_full:['leaky', 0.2]-lag:18-full:[512, 256]",
          "neurons:32-fulldrop:0.3-drop:0.4-activation_full:['leaky', 0.2]-lag:6-full:[512, 256]",
          "neurons:32-fulldrop:0.4-drop:0.4-activation_full:['leaky', 0.2]-lag:12-full:[512, 256]",
          "neurons:32-fulldrop:0.4-drop:0.4-activation_full:['leaky', 0.2]-lag:18-full:[512, 256]",
          "neurons:32-fulldrop:0.4-drop:0.4-activation_full:['leaky', 0.2]-lag:6-full:[512, 256]",
          "neurons:64-fulldrop:0.3-drop:0.3-activation_full:['leaky', 0.2]-lag:12-full:[512, 256]",
          "neurons:64-fulldrop:0.4-drop:0.3-activation_full:['leaky', 0.2]-lag:12-full:[512, 256]",
          "neurons:64-fulldrop:0.3-drop:0.4-activation_full:['leaky', 0.2]-lag:12-full:[512, 256]",
          "neurons:64-fulldrop:0.4-drop:0.4-activation_full:['leaky', 0.2]-lag:12-full:[512, 256]"
         ],
         "type": "scatter",
         "uid": "a27c8d5a-8f42-497d-ab97-82cce666f907",
         "x": [
          6.98447507451112,
          6.983750481435923,
          6.945733860067015,
          6.961745251283524,
          7.006046440125806,
          6.959487719872449,
          7.013926472370757,
          7.0129778999681465,
          6.975430870177722,
          7.003050892916397,
          7.012819309365277,
          6.918183521926446,
          7.019726453177334,
          7.010631746280785,
          6.930542074331133,
          7.007206734100766,
          7.023871090606434,
          7.020210919922131,
          7.013085565895495,
          7.02530822693692
         ],
         "y": [
          6.65458328445265,
          6.667896392770152,
          6.631202845069978,
          6.649213796407495,
          6.692534852609392,
          6.64122316922938,
          6.706600330716383,
          6.702910752185613,
          6.662151216309305,
          6.702416785805274,
          6.700281099572874,
          6.613787745907967,
          6.715691259313059,
          6.702179979157343,
          6.635471721815858,
          6.707836460147763,
          6.7139065916917104,
          6.714591366746596,
          6.703408756098827,
          6.715076138656101
         ]
        },
        {
         "marker": {
          "size": [
           38.8,
           38.4,
           38.4,
           38.6,
           40,
           40,
           40,
           40,
           40,
           40,
           40,
           40,
           40,
           40,
           40,
           40,
           40,
           40,
           40,
           40,
           40,
           40,
           40,
           40,
           40,
           40,
           40,
           40,
           40,
           40,
           40,
           40,
           40,
           40,
           40,
           40,
           40,
           40,
           40,
           40,
           40,
           40,
           40,
           40,
           40,
           40,
           40,
           40,
           40,
           40,
           40,
           40,
           40,
           40,
           40,
           40,
           40,
           40,
           40,
           40,
           40,
           40,
           40,
           40,
           40,
           40,
           40,
           40
          ]
         },
         "mode": "markers",
         "name": "[512]",
         "text": [
          "neurons:128-fulldrop:0.3-drop:0.3-activation_full:['leaky', 0.2]-lag:18-full:[512]",
          "neurons:128-fulldrop:0.4-drop:0.3-activation_full:['leaky', 0.2]-lag:18-full:[512]",
          "neurons:128-fulldrop:0.3-drop:0.4-activation_full:['leaky', 0.2]-lag:18-full:[512]",
          "neurons:128-fulldrop:0.4-drop:0.4-activation_full:['leaky', 0.2]-lag:18-full:[512]",
          "neurons:32-fulldrop:0.3-drop:0.3-activation_full:['elu', 0.4]-lag:12-full:[512]",
          "neurons:32-fulldrop:0.3-drop:0.3-activation_full:['elu', 0.4]-lag:12-full:[512]",
          "neurons:32-fulldrop:0.3-drop:0.3-activation_full:['elu', 0.4]-lag:12-full:[512]",
          "neurons:32-fulldrop:0.3-drop:0.3-activation_full:['leaky', 0.2]-lag:12-full:[512]",
          "neurons:32-fulldrop:0.3-drop:0.3-activation_full:['leaky', 0.2]-lag:18-full:[512]",
          "neurons:32-fulldrop:0.3-drop:0.3-activation_full:['leaky', 0.2]-lag:6-full:[512]",
          "neurons:32-fulldrop:0.3-drop:0.3-activation_full:['leaky', 0.2]-lag:12-full:[512]",
          "neurons:32-fulldrop:0.3-drop:0.3-activation_full:['linear']-lag:12-full:[512]",
          "neurons:32-fulldrop:0.3-drop:0.3-activation_full:['linear']-lag:12-full:[512]",
          "neurons:32-fulldrop:0.4-drop:0.3-activation_full:['elu', 0.4]-lag:12-full:[512]",
          "neurons:32-fulldrop:0.4-drop:0.3-activation_full:['elu', 0.4]-lag:12-full:[512]",
          "neurons:32-fulldrop:0.4-drop:0.3-activation_full:['elu', 0.4]-lag:12-full:[512]",
          "neurons:32-fulldrop:0.4-drop:0.3-activation_full:['leaky', 0.2]-lag:12-full:[512]",
          "neurons:32-fulldrop:0.4-drop:0.3-activation_full:['leaky', 0.2]-lag:18-full:[512]",
          "neurons:32-fulldrop:0.4-drop:0.3-activation_full:['leaky', 0.2]-lag:6-full:[512]",
          "neurons:32-fulldrop:0.4-drop:0.3-activation_full:['leaky', 0.2]-lag:12-full:[512]",
          "neurons:32-fulldrop:0.4-drop:0.3-activation_full:['linear']-lag:12-full:[512]",
          "neurons:32-fulldrop:0.4-drop:0.3-activation_full:['linear']-lag:12-full:[512]",
          "neurons:32-fulldrop:0.3-drop:0.4-activation_full:['elu', 0.4]-lag:12-full:[512]",
          "neurons:32-fulldrop:0.3-drop:0.4-activation_full:['elu', 0.4]-lag:12-full:[512]",
          "neurons:32-fulldrop:0.3-drop:0.4-activation_full:['elu', 0.4]-lag:12-full:[512]",
          "neurons:32-fulldrop:0.3-drop:0.4-activation_full:['leaky', 0.2]-lag:12-full:[512]",
          "neurons:32-fulldrop:0.3-drop:0.4-activation_full:['leaky', 0.2]-lag:18-full:[512]",
          "neurons:32-fulldrop:0.3-drop:0.4-activation_full:['leaky', 0.2]-lag:6-full:[512]",
          "neurons:32-fulldrop:0.3-drop:0.4-activation_full:['leaky', 0.2]-lag:12-full:[512]",
          "neurons:32-fulldrop:0.3-drop:0.4-activation_full:['linear']-lag:12-full:[512]",
          "neurons:32-fulldrop:0.3-drop:0.4-activation_full:['linear']-lag:12-full:[512]",
          "neurons:32-fulldrop:0.4-drop:0.4-activation_full:['elu', 0.4]-lag:12-full:[512]",
          "neurons:32-fulldrop:0.4-drop:0.4-activation_full:['elu', 0.4]-lag:12-full:[512]",
          "neurons:32-fulldrop:0.4-drop:0.4-activation_full:['elu', 0.4]-lag:12-full:[512]",
          "neurons:32-fulldrop:0.4-drop:0.4-activation_full:['leaky', 0.2]-lag:12-full:[512]",
          "neurons:32-fulldrop:0.4-drop:0.4-activation_full:['leaky', 0.2]-lag:18-full:[512]",
          "neurons:32-fulldrop:0.4-drop:0.4-activation_full:['leaky', 0.2]-lag:6-full:[512]",
          "neurons:32-fulldrop:0.4-drop:0.4-activation_full:['leaky', 0.2]-lag:12-full:[512]",
          "neurons:32-fulldrop:0.4-drop:0.4-activation_full:['linear']-lag:12-full:[512]",
          "neurons:32-fulldrop:0.4-drop:0.4-activation_full:['linear']-lag:12-full:[512]",
          "neurons:64-fulldrop:0.3-drop:0.3-activation_full:['elu', 0.4]-lag:12-full:[512]",
          "neurons:64-fulldrop:0.3-drop:0.3-activation_full:['elu', 0.4]-lag:12-full:[512]",
          "neurons:64-fulldrop:0.3-drop:0.3-activation_full:['elu', 0.4]-lag:12-full:[512]",
          "neurons:64-fulldrop:0.3-drop:0.3-activation_full:['leaky', 0.2]-lag:12-full:[512]",
          "neurons:64-fulldrop:0.3-drop:0.3-activation_full:['leaky', 0.2]-lag:12-full:[512]",
          "neurons:64-fulldrop:0.3-drop:0.3-activation_full:['linear']-lag:12-full:[512]",
          "neurons:64-fulldrop:0.3-drop:0.3-activation_full:['linear']-lag:12-full:[512]",
          "neurons:64-fulldrop:0.4-drop:0.3-activation_full:['elu', 0.4]-lag:12-full:[512]",
          "neurons:64-fulldrop:0.4-drop:0.3-activation_full:['elu', 0.4]-lag:12-full:[512]",
          "neurons:64-fulldrop:0.4-drop:0.3-activation_full:['elu', 0.4]-lag:12-full:[512]",
          "neurons:64-fulldrop:0.4-drop:0.3-activation_full:['leaky', 0.2]-lag:12-full:[512]",
          "neurons:64-fulldrop:0.4-drop:0.3-activation_full:['leaky', 0.2]-lag:12-full:[512]",
          "neurons:64-fulldrop:0.4-drop:0.3-activation_full:['linear']-lag:12-full:[512]",
          "neurons:64-fulldrop:0.4-drop:0.3-activation_full:['linear']-lag:12-full:[512]",
          "neurons:64-fulldrop:0.3-drop:0.4-activation_full:['elu', 0.4]-lag:12-full:[512]",
          "neurons:64-fulldrop:0.3-drop:0.4-activation_full:['elu', 0.4]-lag:12-full:[512]",
          "neurons:64-fulldrop:0.3-drop:0.4-activation_full:['elu', 0.4]-lag:12-full:[512]",
          "neurons:64-fulldrop:0.3-drop:0.4-activation_full:['leaky', 0.2]-lag:12-full:[512]",
          "neurons:64-fulldrop:0.3-drop:0.4-activation_full:['leaky', 0.2]-lag:12-full:[512]",
          "neurons:64-fulldrop:0.3-drop:0.4-activation_full:['linear']-lag:12-full:[512]",
          "neurons:64-fulldrop:0.3-drop:0.4-activation_full:['linear']-lag:12-full:[512]",
          "neurons:64-fulldrop:0.4-drop:0.4-activation_full:['elu', 0.4]-lag:12-full:[512]",
          "neurons:64-fulldrop:0.4-drop:0.4-activation_full:['elu', 0.4]-lag:12-full:[512]",
          "neurons:64-fulldrop:0.4-drop:0.4-activation_full:['elu', 0.4]-lag:12-full:[512]",
          "neurons:64-fulldrop:0.4-drop:0.4-activation_full:['leaky', 0.2]-lag:12-full:[512]",
          "neurons:64-fulldrop:0.4-drop:0.4-activation_full:['leaky', 0.2]-lag:12-full:[512]",
          "neurons:64-fulldrop:0.4-drop:0.4-activation_full:['linear']-lag:12-full:[512]",
          "neurons:64-fulldrop:0.4-drop:0.4-activation_full:['linear']-lag:12-full:[512]"
         ],
         "type": "scatter",
         "uid": "4ce3890a-e69d-4501-b49f-b17eb5b6ca5e",
         "x": [
          6.93810623245331,
          6.964527621536035,
          6.929159742202845,
          6.952776897748952,
          6.937996145854209,
          6.9169912342172974,
          6.914404144321279,
          6.963360289723539,
          6.991093247917392,
          6.9964391923470775,
          6.94503799379787,
          6.726281594362548,
          6.722790630846722,
          6.930808531084214,
          6.9098316096281485,
          6.901773860387909,
          6.979834353366798,
          6.996823402882891,
          6.991701561386505,
          6.948998954536245,
          6.723096921547636,
          6.726232128636624,
          6.933286890650813,
          6.909560157293217,
          6.905118504661897,
          6.9699994655999005,
          6.91815235572431,
          6.99943460043146,
          6.934228172520232,
          6.6953911107312924,
          6.686017158438956,
          6.925442376673346,
          6.906600943836258,
          6.887709990826862,
          6.98165030911412,
          6.92151999553334,
          6.993199131883753,
          6.957264500149294,
          6.686261504404806,
          6.703407160808764,
          6.940239259813796,
          6.914725321567496,
          6.891427136712874,
          6.983566675972745,
          6.947878472751556,
          6.753158954075766,
          6.759517888138516,
          6.932983111609929,
          6.906800638320297,
          6.879500251804975,
          6.98386839073928,
          6.954538130572944,
          6.751138923947655,
          6.761179049419736,
          6.938701873322443,
          6.916159058948089,
          6.882516766045093,
          6.977448924282901,
          6.941665939040103,
          6.724355830901829,
          6.716885870790939,
          6.927515993756608,
          6.914804245016428,
          6.862463427236953,
          6.987435998316585,
          6.9584678904511925,
          6.7194501434078715,
          6.725122551502359
         ],
         "y": [
          6.626347425179458,
          6.639993659074796,
          6.606806443503835,
          6.6356410198790226,
          6.628190744909972,
          6.606934947389041,
          6.609420328019489,
          6.656861317878948,
          6.679650696054255,
          6.691185290764402,
          6.637318226558327,
          6.42097431797788,
          6.416748444772631,
          6.626122302713503,
          6.603220197629646,
          6.594865954126181,
          6.670252699293096,
          6.6936460113465905,
          6.687689329407636,
          6.650019579254368,
          6.418577894399736,
          6.427176080244433,
          6.622494766132215,
          6.600025116060648,
          6.5925313311126015,
          6.652569617203721,
          6.6179007702188395,
          6.69348826740064,
          6.619770991962928,
          6.393505366120677,
          6.380222092012863,
          6.619134454113288,
          6.602110788817491,
          6.580214729065237,
          6.670019852267167,
          6.627848698738391,
          6.695178238578278,
          6.658117797353026,
          6.390696913313674,
          6.406095416710303,
          6.628620248546874,
          6.5993477833127665,
          6.584046084799708,
          6.668416299815609,
          6.636145937170568,
          6.451184100421615,
          6.453818217000905,
          6.622810870306833,
          6.605177768450172,
          6.564004057075104,
          6.679544182582334,
          6.647818942594302,
          6.44312578388616,
          6.449583546741467,
          6.61638828296957,
          6.602108468299942,
          6.5733530640098214,
          6.6620632998551885,
          6.625029354125164,
          6.4116228858291935,
          6.413153114636475,
          6.621597419419203,
          6.600135299876058,
          6.554213495932852,
          6.680044367291623,
          6.651493532683722,
          6.411328450029671,
          6.404863423705328
         ]
        }
       ],
       "layout": {}
      },
      "text/html": [
       "<div id=\"da115eab-2917-4e83-a5fe-dad508756e68\" style=\"height: 525px; width: 100%;\" class=\"plotly-graph-div\"></div><script type=\"text/javascript\">require([\"plotly\"], function(Plotly) { window.PLOTLYENV=window.PLOTLYENV || {};window.PLOTLYENV.BASE_URL=\"https://plot.ly\";\n",
       "if (document.getElementById(\"da115eab-2917-4e83-a5fe-dad508756e68\")) {\n",
       "    Plotly.newPlot(\"da115eab-2917-4e83-a5fe-dad508756e68\", [{\"marker\": {\"size\": [37.6, 38.0, 37.8, 39.6, 38.8, 39.2, 38.0, 38.2, 37.8, 38.2, 38.6, 38.6, 38.6, 38.4, 37.2, 38.0]}, \"mode\": \"markers\", \"name\": \"[1024, 512, 256]\", \"text\": [\"neurons:32-fulldrop:0.3-drop:0.3-activation_full:['leaky', 0.2]-lag:12-full:[1024, 512, 256]\", \"neurons:32-fulldrop:0.3-drop:0.3-activation_full:['leaky', 0.2]-lag:6-full:[1024, 512, 256]\", \"neurons:32-fulldrop:0.4-drop:0.3-activation_full:['leaky', 0.2]-lag:12-full:[1024, 512, 256]\", \"neurons:32-fulldrop:0.4-drop:0.3-activation_full:['leaky', 0.2]-lag:6-full:[1024, 512, 256]\", \"neurons:32-fulldrop:0.3-drop:0.4-activation_full:['leaky', 0.2]-lag:12-full:[1024, 512, 256]\", \"neurons:32-fulldrop:0.3-drop:0.4-activation_full:['leaky', 0.2]-lag:6-full:[1024, 512, 256]\", \"neurons:32-fulldrop:0.4-drop:0.4-activation_full:['leaky', 0.2]-lag:12-full:[1024, 512, 256]\", \"neurons:32-fulldrop:0.4-drop:0.4-activation_full:['leaky', 0.2]-lag:6-full:[1024, 512, 256]\", \"neurons:64-fulldrop:0.3-drop:0.3-activation_full:['leaky', 0.2]-lag:12-full:[1024, 512, 256]\", \"neurons:64-fulldrop:0.3-drop:0.3-activation_full:['leaky', 0.2]-lag:6-full:[1024, 512, 256]\", \"neurons:64-fulldrop:0.4-drop:0.3-activation_full:['leaky', 0.2]-lag:12-full:[1024, 512, 256]\", \"neurons:64-fulldrop:0.4-drop:0.3-activation_full:['leaky', 0.2]-lag:6-full:[1024, 512, 256]\", \"neurons:64-fulldrop:0.3-drop:0.4-activation_full:['leaky', 0.2]-lag:12-full:[1024, 512, 256]\", \"neurons:64-fulldrop:0.3-drop:0.4-activation_full:['leaky', 0.2]-lag:6-full:[1024, 512, 256]\", \"neurons:64-fulldrop:0.4-drop:0.4-activation_full:['leaky', 0.2]-lag:12-full:[1024, 512, 256]\", \"neurons:64-fulldrop:0.4-drop:0.4-activation_full:['leaky', 0.2]-lag:6-full:[1024, 512, 256]\"], \"x\": [6.993907432277661, 6.988592724517381, 6.988373122073269, 7.003417253928609, 6.954736774058717, 7.014080068006802, 6.991874127319382, 7.008255386158221, 7.018617089569584, 7.031643008428158, 7.000283850166323, 7.021799649498643, 6.994644467379113, 7.017069247994406, 7.026984458667133, 7.018184283705798], \"y\": [6.680443040110891, 6.673557375301316, 6.690264244010874, 6.689753983123675, 6.649529546569952, 6.701569111477792, 6.685513789938047, 6.699994342350947, 6.698683552379023, 6.720375218780897, 6.699974756359338, 6.732802588628142, 6.675576187926153, 6.701841600475926, 6.718049138170683, 6.713771445110444], \"type\": \"scatter\", \"uid\": \"374466a2-300d-4d03-8054-116458cda68e\"}, {\"marker\": {\"size\": [40.0, 40.0, 40.0, 40.0, 40.0, 40.0, 40.0, 40.0, 40.0, 40.0, 40.0, 40.0, 40.0, 40.0, 40.0, 40.0]}, \"mode\": \"markers\", \"name\": \"[1024, 512]\", \"text\": [\"neurons:32-fulldrop:0.3-drop:0.3-activation_full:['leaky', 0.2]-lag:12-full:[1024, 512]\", \"neurons:32-fulldrop:0.3-drop:0.3-activation_full:['leaky', 0.2]-lag:18-full:[1024, 512]\", \"neurons:32-fulldrop:0.3-drop:0.3-activation_full:['leaky', 0.2]-lag:6-full:[1024, 512]\", \"neurons:32-fulldrop:0.4-drop:0.3-activation_full:['leaky', 0.2]-lag:12-full:[1024, 512]\", \"neurons:32-fulldrop:0.4-drop:0.3-activation_full:['leaky', 0.2]-lag:18-full:[1024, 512]\", \"neurons:32-fulldrop:0.4-drop:0.3-activation_full:['leaky', 0.2]-lag:6-full:[1024, 512]\", \"neurons:32-fulldrop:0.3-drop:0.4-activation_full:['leaky', 0.2]-lag:12-full:[1024, 512]\", \"neurons:32-fulldrop:0.3-drop:0.4-activation_full:['leaky', 0.2]-lag:18-full:[1024, 512]\", \"neurons:32-fulldrop:0.3-drop:0.4-activation_full:['leaky', 0.2]-lag:6-full:[1024, 512]\", \"neurons:32-fulldrop:0.4-drop:0.4-activation_full:['leaky', 0.2]-lag:12-full:[1024, 512]\", \"neurons:32-fulldrop:0.4-drop:0.4-activation_full:['leaky', 0.2]-lag:18-full:[1024, 512]\", \"neurons:32-fulldrop:0.4-drop:0.4-activation_full:['leaky', 0.2]-lag:6-full:[1024, 512]\", \"neurons:64-fulldrop:0.3-drop:0.3-activation_full:['leaky', 0.2]-lag:12-full:[1024, 512]\", \"neurons:64-fulldrop:0.4-drop:0.3-activation_full:['leaky', 0.2]-lag:12-full:[1024, 512]\", \"neurons:64-fulldrop:0.3-drop:0.4-activation_full:['leaky', 0.2]-lag:12-full:[1024, 512]\", \"neurons:64-fulldrop:0.4-drop:0.4-activation_full:['leaky', 0.2]-lag:12-full:[1024, 512]\"], \"x\": [6.989416680484834, 6.916760433557228, 7.007093168686122, 7.005038236631747, 6.9443832762854765, 7.020651076834582, 6.982015401074052, 6.868758139571668, 7.021885410063848, 7.010542930578892, 6.900961869680714, 7.022911055955498, 7.01411377517318, 7.025976523869216, 6.997935513523394, 7.016438173484662], \"y\": [6.666173403899067, 6.602562740080982, 6.691811405949324, 6.695950570070953, 6.6375463534693475, 6.712920389969117, 6.665577443418264, 6.560011151773091, 6.708941277977381, 6.696460027745269, 6.6037425225039, 6.718503483856386, 6.698068009594638, 6.712994459205429, 6.685109001204536, 6.707940076701715], \"type\": \"scatter\", \"uid\": \"26897468-42a3-4291-bcee-87ece6a1d99d\"}, {\"marker\": {\"size\": [38.4, 38.4, 38.4, 38.6, 40.0, 40.0, 40.0, 40.0, 40.0, 40.0, 40.0, 40.0]}, \"mode\": \"markers\", \"name\": \"[1024]\", \"text\": [\"neurons:128-fulldrop:0.3-drop:0.3-activation_full:['leaky', 0.2]-lag:18-full:[1024]\", \"neurons:128-fulldrop:0.4-drop:0.3-activation_full:['leaky', 0.2]-lag:18-full:[1024]\", \"neurons:128-fulldrop:0.3-drop:0.4-activation_full:['leaky', 0.2]-lag:18-full:[1024]\", \"neurons:128-fulldrop:0.4-drop:0.4-activation_full:['leaky', 0.2]-lag:18-full:[1024]\", \"neurons:32-fulldrop:0.3-drop:0.3-activation_full:['leaky', 0.2]-lag:12-full:[1024]\", \"neurons:32-fulldrop:0.4-drop:0.3-activation_full:['leaky', 0.2]-lag:12-full:[1024]\", \"neurons:32-fulldrop:0.3-drop:0.4-activation_full:['leaky', 0.2]-lag:12-full:[1024]\", \"neurons:32-fulldrop:0.4-drop:0.4-activation_full:['leaky', 0.2]-lag:12-full:[1024]\", \"neurons:64-fulldrop:0.3-drop:0.3-activation_full:['leaky', 0.2]-lag:12-full:[1024]\", \"neurons:64-fulldrop:0.4-drop:0.3-activation_full:['leaky', 0.2]-lag:12-full:[1024]\", \"neurons:64-fulldrop:0.3-drop:0.4-activation_full:['leaky', 0.2]-lag:12-full:[1024]\", \"neurons:64-fulldrop:0.4-drop:0.4-activation_full:['leaky', 0.2]-lag:12-full:[1024]\"], \"x\": [6.944945779760517, 6.978046311135851, 6.918361991709855, 6.932560900142687, 6.959136487264003, 6.982265380559776, 6.965408744981773, 6.975517066658816, 6.970407550087775, 6.989215203347365, 6.980618733359862, 6.984121126750844], \"y\": [6.630679386044012, 6.660583035265116, 6.5932156186297, 6.615742397656953, 6.646642812636566, 6.664225641457568, 6.6508991044909065, 6.665064415966294, 6.650232373870132, 6.671456719791715, 6.666516294558611, 6.675467043331852], \"type\": \"scatter\", \"uid\": \"16308eea-0ad6-4efd-bdcf-f51964d2733b\"}, {\"marker\": {\"size\": [37.8, 37.8, 38.4, 38.2, 39.2, 38.2, 38.0, 37.4, 38.4, 39.0, 39.2, 38.8, 39.2, 38.8, 38.8, 38.0]}, \"mode\": \"markers\", \"name\": \"[2048, 1024]\", \"text\": [\"neurons:32-fulldrop:0.3-drop:0.3-activation_full:['leaky', 0.2]-lag:12-full:[2048, 1024]\", \"neurons:32-fulldrop:0.3-drop:0.3-activation_full:['leaky', 0.2]-lag:6-full:[2048, 1024]\", \"neurons:32-fulldrop:0.4-drop:0.3-activation_full:['leaky', 0.2]-lag:12-full:[2048, 1024]\", \"neurons:32-fulldrop:0.4-drop:0.3-activation_full:['leaky', 0.2]-lag:6-full:[2048, 1024]\", \"neurons:32-fulldrop:0.3-drop:0.4-activation_full:['leaky', 0.2]-lag:12-full:[2048, 1024]\", \"neurons:32-fulldrop:0.3-drop:0.4-activation_full:['leaky', 0.2]-lag:6-full:[2048, 1024]\", \"neurons:32-fulldrop:0.4-drop:0.4-activation_full:['leaky', 0.2]-lag:12-full:[2048, 1024]\", \"neurons:32-fulldrop:0.4-drop:0.4-activation_full:['leaky', 0.2]-lag:6-full:[2048, 1024]\", \"neurons:64-fulldrop:0.3-drop:0.3-activation_full:['leaky', 0.2]-lag:12-full:[2048, 1024]\", \"neurons:64-fulldrop:0.3-drop:0.3-activation_full:['leaky', 0.2]-lag:6-full:[2048, 1024]\", \"neurons:64-fulldrop:0.4-drop:0.3-activation_full:['leaky', 0.2]-lag:12-full:[2048, 1024]\", \"neurons:64-fulldrop:0.4-drop:0.3-activation_full:['leaky', 0.2]-lag:6-full:[2048, 1024]\", \"neurons:64-fulldrop:0.3-drop:0.4-activation_full:['leaky', 0.2]-lag:12-full:[2048, 1024]\", \"neurons:64-fulldrop:0.3-drop:0.4-activation_full:['leaky', 0.2]-lag:6-full:[2048, 1024]\", \"neurons:64-fulldrop:0.4-drop:0.4-activation_full:['leaky', 0.2]-lag:12-full:[2048, 1024]\", \"neurons:64-fulldrop:0.4-drop:0.4-activation_full:['leaky', 0.2]-lag:6-full:[2048, 1024]\"], \"x\": [6.928995305056621, 6.988013212414107, 6.97672883956336, 7.019879503985912, 6.91814785616771, 6.993535634568828, 6.942852610624332, 7.018010699568866, 6.97378868937225, 7.021428799540395, 7.0103709511569114, 7.04033907679021, 6.965790359397972, 7.016163767324799, 6.998900660771358, 7.021811013779888], \"y\": [6.598291381704682, 6.673198261132639, 6.657512449270773, 6.709264921000054, 6.604751854123798, 6.664629708769204, 6.624637295396925, 6.70061280104049, 6.650788751071464, 6.691013641358729, 6.694358198775342, 6.721944927000179, 6.647359632644004, 6.696337940371993, 6.681628734240188, 6.717101642662369], \"type\": \"scatter\", \"uid\": \"9cf7ffc6-2d39-4ebe-8f44-4b3023a57e9d\"}, {\"marker\": {\"size\": [38.4, 38.2, 38.0, 39.2, 40.0, 40.0, 40.0, 40.0, 40.0, 40.0, 40.0, 40.0]}, \"mode\": \"markers\", \"name\": \"[2048]\", \"text\": [\"neurons:128-fulldrop:0.3-drop:0.3-activation_full:['leaky', 0.2]-lag:18-full:[2048]\", \"neurons:128-fulldrop:0.4-drop:0.3-activation_full:['leaky', 0.2]-lag:18-full:[2048]\", \"neurons:128-fulldrop:0.3-drop:0.4-activation_full:['leaky', 0.2]-lag:18-full:[2048]\", \"neurons:128-fulldrop:0.4-drop:0.4-activation_full:['leaky', 0.2]-lag:18-full:[2048]\", \"neurons:32-fulldrop:0.3-drop:0.3-activation_full:['leaky', 0.2]-lag:12-full:[2048]\", \"neurons:32-fulldrop:0.4-drop:0.3-activation_full:['leaky', 0.2]-lag:12-full:[2048]\", \"neurons:32-fulldrop:0.3-drop:0.4-activation_full:['leaky', 0.2]-lag:12-full:[2048]\", \"neurons:32-fulldrop:0.4-drop:0.4-activation_full:['leaky', 0.2]-lag:12-full:[2048]\", \"neurons:64-fulldrop:0.3-drop:0.3-activation_full:['leaky', 0.2]-lag:12-full:[2048]\", \"neurons:64-fulldrop:0.4-drop:0.3-activation_full:['leaky', 0.2]-lag:12-full:[2048]\", \"neurons:64-fulldrop:0.3-drop:0.4-activation_full:['leaky', 0.2]-lag:12-full:[2048]\", \"neurons:64-fulldrop:0.4-drop:0.4-activation_full:['leaky', 0.2]-lag:12-full:[2048]\"], \"x\": [6.943410608752115, 6.938617799601525, 6.93197334756312, 6.908742076463348, 6.945426009317112, 6.966294167231803, 6.949134334351884, 6.962920351026244, 6.962747951806279, 6.977921114868079, 6.960948826090735, 6.965086135099304], \"y\": [6.621016788723247, 6.618198402447328, 6.610355004621957, 6.592523120344787, 6.634889925760887, 6.648019192438905, 6.640330146873295, 6.651371077649085, 6.641036010726594, 6.662059569883353, 6.6410007350670925, 6.649624503340869], \"type\": \"scatter\", \"uid\": \"2ca59c13-bca5-4c90-8e2d-9e50d6960106\"}, {\"marker\": {\"size\": [35.6, 37.0, 35.8, 35.6, 36.2, 35.6, 35.0, 34.6, 35.4, 35.6, 35.6, 35.4, 34.8, 36.6, 36.2, 36.4]}, \"mode\": \"markers\", \"name\": \"[4096, 1024]\", \"text\": [\"neurons:32-fulldrop:0.3-drop:0.3-activation_full:['leaky', 0.2]-lag:12-full:[4096, 1024]\", \"neurons:32-fulldrop:0.3-drop:0.3-activation_full:['leaky', 0.2]-lag:6-full:[4096, 1024]\", \"neurons:32-fulldrop:0.4-drop:0.3-activation_full:['leaky', 0.2]-lag:12-full:[4096, 1024]\", \"neurons:32-fulldrop:0.4-drop:0.3-activation_full:['leaky', 0.2]-lag:6-full:[4096, 1024]\", \"neurons:32-fulldrop:0.3-drop:0.4-activation_full:['leaky', 0.2]-lag:12-full:[4096, 1024]\", \"neurons:32-fulldrop:0.3-drop:0.4-activation_full:['leaky', 0.2]-lag:6-full:[4096, 1024]\", \"neurons:32-fulldrop:0.4-drop:0.4-activation_full:['leaky', 0.2]-lag:12-full:[4096, 1024]\", \"neurons:32-fulldrop:0.4-drop:0.4-activation_full:['leaky', 0.2]-lag:6-full:[4096, 1024]\", \"neurons:64-fulldrop:0.3-drop:0.3-activation_full:['leaky', 0.2]-lag:12-full:[4096, 1024]\", \"neurons:64-fulldrop:0.3-drop:0.3-activation_full:['leaky', 0.2]-lag:6-full:[4096, 1024]\", \"neurons:64-fulldrop:0.4-drop:0.3-activation_full:['leaky', 0.2]-lag:12-full:[4096, 1024]\", \"neurons:64-fulldrop:0.4-drop:0.3-activation_full:['leaky', 0.2]-lag:6-full:[4096, 1024]\", \"neurons:64-fulldrop:0.3-drop:0.4-activation_full:['leaky', 0.2]-lag:12-full:[4096, 1024]\", \"neurons:64-fulldrop:0.3-drop:0.4-activation_full:['leaky', 0.2]-lag:6-full:[4096, 1024]\", \"neurons:64-fulldrop:0.4-drop:0.4-activation_full:['leaky', 0.2]-lag:12-full:[4096, 1024]\", \"neurons:64-fulldrop:0.4-drop:0.4-activation_full:['leaky', 0.2]-lag:6-full:[4096, 1024]\"], \"x\": [6.912659649341507, 6.975505598519576, 6.957674253040895, 7.006362615083873, 6.8414616142863, 6.988242361789208, 6.949656737908967, 7.011531418782866, 6.93190192650893, 6.9977090055156115, 6.980564969004042, 7.05821199440821, 6.915722784756589, 7.0121614190519255, 6.930926490929097, 7.010201748824704], \"y\": [6.595555614395058, 6.659515623246749, 6.6286478642013815, 6.683351759369485, 6.5256202225082145, 6.664912507152243, 6.640928837692195, 6.67144257636516, 6.620512479709336, 6.673097590131592, 6.689094438064382, 6.731563796211773, 6.6189560576168756, 6.669413639051462, 6.643608691740999, 6.6989711799324105], \"type\": \"scatter\", \"uid\": \"29b2e1f5-5c81-4aa3-a807-b51252f6179a\"}, {\"marker\": {\"size\": [35.6, 33.2, 36.8, 34.6, 35.4, 36.2, 36.6, 36.4, 36.8, 35.6, 35.6, 34.2, 34.8, 34.4, 35.2, 36.8]}, \"mode\": \"markers\", \"name\": \"[4096, 2048]\", \"text\": [\"neurons:32-fulldrop:0.3-drop:0.3-activation_full:['leaky', 0.2]-lag:12-full:[4096, 2048]\", \"neurons:32-fulldrop:0.3-drop:0.3-activation_full:['leaky', 0.2]-lag:6-full:[4096, 2048]\", \"neurons:32-fulldrop:0.4-drop:0.3-activation_full:['leaky', 0.2]-lag:12-full:[4096, 2048]\", \"neurons:32-fulldrop:0.4-drop:0.3-activation_full:['leaky', 0.2]-lag:6-full:[4096, 2048]\", \"neurons:32-fulldrop:0.3-drop:0.4-activation_full:['leaky', 0.2]-lag:12-full:[4096, 2048]\", \"neurons:32-fulldrop:0.3-drop:0.4-activation_full:['leaky', 0.2]-lag:6-full:[4096, 2048]\", \"neurons:32-fulldrop:0.4-drop:0.4-activation_full:['leaky', 0.2]-lag:12-full:[4096, 2048]\", \"neurons:32-fulldrop:0.4-drop:0.4-activation_full:['leaky', 0.2]-lag:6-full:[4096, 2048]\", \"neurons:64-fulldrop:0.3-drop:0.3-activation_full:['leaky', 0.2]-lag:12-full:[4096, 2048]\", \"neurons:64-fulldrop:0.3-drop:0.3-activation_full:['leaky', 0.2]-lag:6-full:[4096, 2048]\", \"neurons:64-fulldrop:0.4-drop:0.3-activation_full:['leaky', 0.2]-lag:12-full:[4096, 2048]\", \"neurons:64-fulldrop:0.4-drop:0.3-activation_full:['leaky', 0.2]-lag:6-full:[4096, 2048]\", \"neurons:64-fulldrop:0.3-drop:0.4-activation_full:['leaky', 0.2]-lag:12-full:[4096, 2048]\", \"neurons:64-fulldrop:0.3-drop:0.4-activation_full:['leaky', 0.2]-lag:6-full:[4096, 2048]\", \"neurons:64-fulldrop:0.4-drop:0.4-activation_full:['leaky', 0.2]-lag:12-full:[4096, 2048]\", \"neurons:64-fulldrop:0.4-drop:0.4-activation_full:['leaky', 0.2]-lag:6-full:[4096, 2048]\"], \"x\": [6.890773830080445, 6.9334922852371195, 6.926173878523346, 7.029310547946275, 6.8049701201876305, 6.959108433744172, 6.880017953603131, 6.981942591017649, 6.919127144374491, 6.964916189477997, 6.965076556282678, 7.0263697732831325, 6.904918254971648, 7.004883219334753, 6.945095733586293, 7.039412056355809], \"y\": [6.569877733421442, 6.614156307329918, 6.618757462690727, 6.710260509888163, 6.488208158172172, 6.649527025051982, 6.566869928570496, 6.673439762521749, 6.61976772759265, 6.635311223537872, 6.640037946727722, 6.687423723495941, 6.585596529625879, 6.675725842174021, 6.6396684003182935, 6.721118034261085], \"type\": \"scatter\", \"uid\": \"ed5894bd-58bd-4f5a-affc-ca823fa7d058\"}, {\"marker\": {\"size\": [28.0, 28.6, 30.0, 29.0, 27.0, 28.8, 29.0, 29.2]}, \"mode\": \"markers\", \"name\": \"[512, 256, 128]\", \"text\": [\"neurons:32-fulldrop:0.3-drop:0.3-activation_full:['leaky', 0.2]-lag:12-full:[512, 256, 128]\", \"neurons:32-fulldrop:0.4-drop:0.3-activation_full:['leaky', 0.2]-lag:12-full:[512, 256, 128]\", \"neurons:32-fulldrop:0.3-drop:0.4-activation_full:['leaky', 0.2]-lag:12-full:[512, 256, 128]\", \"neurons:32-fulldrop:0.4-drop:0.4-activation_full:['leaky', 0.2]-lag:12-full:[512, 256, 128]\", \"neurons:64-fulldrop:0.3-drop:0.3-activation_full:['leaky', 0.2]-lag:12-full:[512, 256, 128]\", \"neurons:64-fulldrop:0.4-drop:0.3-activation_full:['leaky', 0.2]-lag:12-full:[512, 256, 128]\", \"neurons:64-fulldrop:0.3-drop:0.4-activation_full:['leaky', 0.2]-lag:12-full:[512, 256, 128]\", \"neurons:64-fulldrop:0.4-drop:0.4-activation_full:['leaky', 0.2]-lag:12-full:[512, 256, 128]\"], \"x\": [6.951026665205437, 6.9612640351750725, 6.956428597171021, 6.9840319073539066, 6.978402685332467, 7.035027191567052, 6.983564986257279, 6.969994606995329], \"y\": [6.646389984615791, 6.673786274602349, 6.634594743244041, 6.66389672390111, 6.678661083407625, 6.711207960428792, 6.667257479338295, 6.679370600430428], \"type\": \"scatter\", \"uid\": \"b82f0934-026c-4dd0-b5af-56fcecd46e54\"}, {\"marker\": {\"size\": [38.2, 38.6, 38.6, 38.4, 40.0, 40.0, 40.0, 40.0, 40.0, 40.0, 40.0, 40.0, 40.0, 40.0, 40.0, 40.0, 40.0, 40.0, 40.0, 40.0]}, \"mode\": \"markers\", \"name\": \"[512, 256]\", \"text\": [\"neurons:128-fulldrop:0.3-drop:0.3-activation_full:['leaky', 0.2]-lag:18-full:[512, 256]\", \"neurons:128-fulldrop:0.4-drop:0.3-activation_full:['leaky', 0.2]-lag:18-full:[512, 256]\", \"neurons:128-fulldrop:0.3-drop:0.4-activation_full:['leaky', 0.2]-lag:18-full:[512, 256]\", \"neurons:128-fulldrop:0.4-drop:0.4-activation_full:['leaky', 0.2]-lag:18-full:[512, 256]\", \"neurons:32-fulldrop:0.3-drop:0.3-activation_full:['leaky', 0.2]-lag:12-full:[512, 256]\", \"neurons:32-fulldrop:0.3-drop:0.3-activation_full:['leaky', 0.2]-lag:18-full:[512, 256]\", \"neurons:32-fulldrop:0.3-drop:0.3-activation_full:['leaky', 0.2]-lag:6-full:[512, 256]\", \"neurons:32-fulldrop:0.4-drop:0.3-activation_full:['leaky', 0.2]-lag:12-full:[512, 256]\", \"neurons:32-fulldrop:0.4-drop:0.3-activation_full:['leaky', 0.2]-lag:18-full:[512, 256]\", \"neurons:32-fulldrop:0.4-drop:0.3-activation_full:['leaky', 0.2]-lag:6-full:[512, 256]\", \"neurons:32-fulldrop:0.3-drop:0.4-activation_full:['leaky', 0.2]-lag:12-full:[512, 256]\", \"neurons:32-fulldrop:0.3-drop:0.4-activation_full:['leaky', 0.2]-lag:18-full:[512, 256]\", \"neurons:32-fulldrop:0.3-drop:0.4-activation_full:['leaky', 0.2]-lag:6-full:[512, 256]\", \"neurons:32-fulldrop:0.4-drop:0.4-activation_full:['leaky', 0.2]-lag:12-full:[512, 256]\", \"neurons:32-fulldrop:0.4-drop:0.4-activation_full:['leaky', 0.2]-lag:18-full:[512, 256]\", \"neurons:32-fulldrop:0.4-drop:0.4-activation_full:['leaky', 0.2]-lag:6-full:[512, 256]\", \"neurons:64-fulldrop:0.3-drop:0.3-activation_full:['leaky', 0.2]-lag:12-full:[512, 256]\", \"neurons:64-fulldrop:0.4-drop:0.3-activation_full:['leaky', 0.2]-lag:12-full:[512, 256]\", \"neurons:64-fulldrop:0.3-drop:0.4-activation_full:['leaky', 0.2]-lag:12-full:[512, 256]\", \"neurons:64-fulldrop:0.4-drop:0.4-activation_full:['leaky', 0.2]-lag:12-full:[512, 256]\"], \"x\": [6.98447507451112, 6.983750481435923, 6.945733860067015, 6.961745251283524, 7.006046440125806, 6.959487719872449, 7.013926472370757, 7.0129778999681465, 6.975430870177722, 7.003050892916397, 7.012819309365277, 6.918183521926446, 7.019726453177334, 7.010631746280785, 6.930542074331133, 7.007206734100766, 7.023871090606434, 7.020210919922131, 7.013085565895495, 7.02530822693692], \"y\": [6.65458328445265, 6.667896392770152, 6.631202845069978, 6.649213796407495, 6.692534852609392, 6.64122316922938, 6.706600330716383, 6.702910752185613, 6.662151216309305, 6.702416785805274, 6.700281099572874, 6.613787745907967, 6.715691259313059, 6.702179979157343, 6.635471721815858, 6.707836460147763, 6.7139065916917104, 6.714591366746596, 6.703408756098827, 6.715076138656101], \"type\": \"scatter\", \"uid\": \"0e9aac3c-0594-4fe7-962c-fccbd95af551\"}, {\"marker\": {\"size\": [38.8, 38.4, 38.4, 38.6, 40.0, 40.0, 40.0, 40.0, 40.0, 40.0, 40.0, 40.0, 40.0, 40.0, 40.0, 40.0, 40.0, 40.0, 40.0, 40.0, 40.0, 40.0, 40.0, 40.0, 40.0, 40.0, 40.0, 40.0, 40.0, 40.0, 40.0, 40.0, 40.0, 40.0, 40.0, 40.0, 40.0, 40.0, 40.0, 40.0, 40.0, 40.0, 40.0, 40.0, 40.0, 40.0, 40.0, 40.0, 40.0, 40.0, 40.0, 40.0, 40.0, 40.0, 40.0, 40.0, 40.0, 40.0, 40.0, 40.0, 40.0, 40.0, 40.0, 40.0, 40.0, 40.0, 40.0, 40.0]}, \"mode\": \"markers\", \"name\": \"[512]\", \"text\": [\"neurons:128-fulldrop:0.3-drop:0.3-activation_full:['leaky', 0.2]-lag:18-full:[512]\", \"neurons:128-fulldrop:0.4-drop:0.3-activation_full:['leaky', 0.2]-lag:18-full:[512]\", \"neurons:128-fulldrop:0.3-drop:0.4-activation_full:['leaky', 0.2]-lag:18-full:[512]\", \"neurons:128-fulldrop:0.4-drop:0.4-activation_full:['leaky', 0.2]-lag:18-full:[512]\", \"neurons:32-fulldrop:0.3-drop:0.3-activation_full:['elu', 0.4]-lag:12-full:[512]\", \"neurons:32-fulldrop:0.3-drop:0.3-activation_full:['elu', 0.4]-lag:12-full:[512]\", \"neurons:32-fulldrop:0.3-drop:0.3-activation_full:['elu', 0.4]-lag:12-full:[512]\", \"neurons:32-fulldrop:0.3-drop:0.3-activation_full:['leaky', 0.2]-lag:12-full:[512]\", \"neurons:32-fulldrop:0.3-drop:0.3-activation_full:['leaky', 0.2]-lag:18-full:[512]\", \"neurons:32-fulldrop:0.3-drop:0.3-activation_full:['leaky', 0.2]-lag:6-full:[512]\", \"neurons:32-fulldrop:0.3-drop:0.3-activation_full:['leaky', 0.2]-lag:12-full:[512]\", \"neurons:32-fulldrop:0.3-drop:0.3-activation_full:['linear']-lag:12-full:[512]\", \"neurons:32-fulldrop:0.3-drop:0.3-activation_full:['linear']-lag:12-full:[512]\", \"neurons:32-fulldrop:0.4-drop:0.3-activation_full:['elu', 0.4]-lag:12-full:[512]\", \"neurons:32-fulldrop:0.4-drop:0.3-activation_full:['elu', 0.4]-lag:12-full:[512]\", \"neurons:32-fulldrop:0.4-drop:0.3-activation_full:['elu', 0.4]-lag:12-full:[512]\", \"neurons:32-fulldrop:0.4-drop:0.3-activation_full:['leaky', 0.2]-lag:12-full:[512]\", \"neurons:32-fulldrop:0.4-drop:0.3-activation_full:['leaky', 0.2]-lag:18-full:[512]\", \"neurons:32-fulldrop:0.4-drop:0.3-activation_full:['leaky', 0.2]-lag:6-full:[512]\", \"neurons:32-fulldrop:0.4-drop:0.3-activation_full:['leaky', 0.2]-lag:12-full:[512]\", \"neurons:32-fulldrop:0.4-drop:0.3-activation_full:['linear']-lag:12-full:[512]\", \"neurons:32-fulldrop:0.4-drop:0.3-activation_full:['linear']-lag:12-full:[512]\", \"neurons:32-fulldrop:0.3-drop:0.4-activation_full:['elu', 0.4]-lag:12-full:[512]\", \"neurons:32-fulldrop:0.3-drop:0.4-activation_full:['elu', 0.4]-lag:12-full:[512]\", \"neurons:32-fulldrop:0.3-drop:0.4-activation_full:['elu', 0.4]-lag:12-full:[512]\", \"neurons:32-fulldrop:0.3-drop:0.4-activation_full:['leaky', 0.2]-lag:12-full:[512]\", \"neurons:32-fulldrop:0.3-drop:0.4-activation_full:['leaky', 0.2]-lag:18-full:[512]\", \"neurons:32-fulldrop:0.3-drop:0.4-activation_full:['leaky', 0.2]-lag:6-full:[512]\", \"neurons:32-fulldrop:0.3-drop:0.4-activation_full:['leaky', 0.2]-lag:12-full:[512]\", \"neurons:32-fulldrop:0.3-drop:0.4-activation_full:['linear']-lag:12-full:[512]\", \"neurons:32-fulldrop:0.3-drop:0.4-activation_full:['linear']-lag:12-full:[512]\", \"neurons:32-fulldrop:0.4-drop:0.4-activation_full:['elu', 0.4]-lag:12-full:[512]\", \"neurons:32-fulldrop:0.4-drop:0.4-activation_full:['elu', 0.4]-lag:12-full:[512]\", \"neurons:32-fulldrop:0.4-drop:0.4-activation_full:['elu', 0.4]-lag:12-full:[512]\", \"neurons:32-fulldrop:0.4-drop:0.4-activation_full:['leaky', 0.2]-lag:12-full:[512]\", \"neurons:32-fulldrop:0.4-drop:0.4-activation_full:['leaky', 0.2]-lag:18-full:[512]\", \"neurons:32-fulldrop:0.4-drop:0.4-activation_full:['leaky', 0.2]-lag:6-full:[512]\", \"neurons:32-fulldrop:0.4-drop:0.4-activation_full:['leaky', 0.2]-lag:12-full:[512]\", \"neurons:32-fulldrop:0.4-drop:0.4-activation_full:['linear']-lag:12-full:[512]\", \"neurons:32-fulldrop:0.4-drop:0.4-activation_full:['linear']-lag:12-full:[512]\", \"neurons:64-fulldrop:0.3-drop:0.3-activation_full:['elu', 0.4]-lag:12-full:[512]\", \"neurons:64-fulldrop:0.3-drop:0.3-activation_full:['elu', 0.4]-lag:12-full:[512]\", \"neurons:64-fulldrop:0.3-drop:0.3-activation_full:['elu', 0.4]-lag:12-full:[512]\", \"neurons:64-fulldrop:0.3-drop:0.3-activation_full:['leaky', 0.2]-lag:12-full:[512]\", \"neurons:64-fulldrop:0.3-drop:0.3-activation_full:['leaky', 0.2]-lag:12-full:[512]\", \"neurons:64-fulldrop:0.3-drop:0.3-activation_full:['linear']-lag:12-full:[512]\", \"neurons:64-fulldrop:0.3-drop:0.3-activation_full:['linear']-lag:12-full:[512]\", \"neurons:64-fulldrop:0.4-drop:0.3-activation_full:['elu', 0.4]-lag:12-full:[512]\", \"neurons:64-fulldrop:0.4-drop:0.3-activation_full:['elu', 0.4]-lag:12-full:[512]\", \"neurons:64-fulldrop:0.4-drop:0.3-activation_full:['elu', 0.4]-lag:12-full:[512]\", \"neurons:64-fulldrop:0.4-drop:0.3-activation_full:['leaky', 0.2]-lag:12-full:[512]\", \"neurons:64-fulldrop:0.4-drop:0.3-activation_full:['leaky', 0.2]-lag:12-full:[512]\", \"neurons:64-fulldrop:0.4-drop:0.3-activation_full:['linear']-lag:12-full:[512]\", \"neurons:64-fulldrop:0.4-drop:0.3-activation_full:['linear']-lag:12-full:[512]\", \"neurons:64-fulldrop:0.3-drop:0.4-activation_full:['elu', 0.4]-lag:12-full:[512]\", \"neurons:64-fulldrop:0.3-drop:0.4-activation_full:['elu', 0.4]-lag:12-full:[512]\", \"neurons:64-fulldrop:0.3-drop:0.4-activation_full:['elu', 0.4]-lag:12-full:[512]\", \"neurons:64-fulldrop:0.3-drop:0.4-activation_full:['leaky', 0.2]-lag:12-full:[512]\", \"neurons:64-fulldrop:0.3-drop:0.4-activation_full:['leaky', 0.2]-lag:12-full:[512]\", \"neurons:64-fulldrop:0.3-drop:0.4-activation_full:['linear']-lag:12-full:[512]\", \"neurons:64-fulldrop:0.3-drop:0.4-activation_full:['linear']-lag:12-full:[512]\", \"neurons:64-fulldrop:0.4-drop:0.4-activation_full:['elu', 0.4]-lag:12-full:[512]\", \"neurons:64-fulldrop:0.4-drop:0.4-activation_full:['elu', 0.4]-lag:12-full:[512]\", \"neurons:64-fulldrop:0.4-drop:0.4-activation_full:['elu', 0.4]-lag:12-full:[512]\", \"neurons:64-fulldrop:0.4-drop:0.4-activation_full:['leaky', 0.2]-lag:12-full:[512]\", \"neurons:64-fulldrop:0.4-drop:0.4-activation_full:['leaky', 0.2]-lag:12-full:[512]\", \"neurons:64-fulldrop:0.4-drop:0.4-activation_full:['linear']-lag:12-full:[512]\", \"neurons:64-fulldrop:0.4-drop:0.4-activation_full:['linear']-lag:12-full:[512]\"], \"x\": [6.93810623245331, 6.964527621536035, 6.929159742202845, 6.952776897748952, 6.937996145854209, 6.9169912342172974, 6.914404144321279, 6.963360289723539, 6.991093247917392, 6.9964391923470775, 6.94503799379787, 6.726281594362548, 6.722790630846722, 6.930808531084214, 6.9098316096281485, 6.901773860387909, 6.979834353366798, 6.996823402882891, 6.991701561386505, 6.948998954536245, 6.723096921547636, 6.726232128636624, 6.933286890650813, 6.909560157293217, 6.905118504661897, 6.9699994655999005, 6.91815235572431, 6.99943460043146, 6.934228172520232, 6.6953911107312924, 6.686017158438956, 6.925442376673346, 6.906600943836258, 6.887709990826862, 6.98165030911412, 6.92151999553334, 6.993199131883753, 6.957264500149294, 6.686261504404806, 6.703407160808764, 6.940239259813796, 6.914725321567496, 6.891427136712874, 6.983566675972745, 6.947878472751556, 6.753158954075766, 6.759517888138516, 6.932983111609929, 6.906800638320297, 6.879500251804975, 6.98386839073928, 6.954538130572944, 6.751138923947655, 6.761179049419736, 6.938701873322443, 6.916159058948089, 6.882516766045093, 6.977448924282901, 6.941665939040103, 6.724355830901829, 6.716885870790939, 6.927515993756608, 6.914804245016428, 6.862463427236953, 6.987435998316585, 6.9584678904511925, 6.7194501434078715, 6.725122551502359], \"y\": [6.626347425179458, 6.639993659074796, 6.606806443503835, 6.6356410198790226, 6.628190744909972, 6.606934947389041, 6.609420328019489, 6.656861317878948, 6.679650696054255, 6.691185290764402, 6.637318226558327, 6.42097431797788, 6.416748444772631, 6.626122302713503, 6.603220197629646, 6.594865954126181, 6.670252699293096, 6.6936460113465905, 6.687689329407636, 6.650019579254368, 6.418577894399736, 6.427176080244433, 6.622494766132215, 6.600025116060648, 6.5925313311126015, 6.652569617203721, 6.6179007702188395, 6.69348826740064, 6.619770991962928, 6.393505366120677, 6.380222092012863, 6.619134454113288, 6.602110788817491, 6.580214729065237, 6.670019852267167, 6.627848698738391, 6.695178238578278, 6.658117797353026, 6.390696913313674, 6.406095416710303, 6.628620248546874, 6.5993477833127665, 6.584046084799708, 6.668416299815609, 6.636145937170568, 6.451184100421615, 6.453818217000905, 6.622810870306833, 6.605177768450172, 6.564004057075104, 6.679544182582334, 6.647818942594302, 6.44312578388616, 6.449583546741467, 6.61638828296957, 6.602108468299942, 6.5733530640098214, 6.6620632998551885, 6.625029354125164, 6.4116228858291935, 6.413153114636475, 6.621597419419203, 6.600135299876058, 6.554213495932852, 6.680044367291623, 6.651493532683722, 6.411328450029671, 6.404863423705328], \"type\": \"scatter\", \"uid\": \"bfb3eea9-79ee-47b9-b77c-ae0c319419ac\"}], {}, {\"showLink\": false, \"linkText\": \"Export to plot.ly\", \"plotlyServerURL\": \"https://plot.ly\"}); \n",
       "}\n",
       "});</script><script type=\"text/javascript\">window.addEventListener(\"resize\", function(){if (document.getElementById(\"da115eab-2917-4e83-a5fe-dad508756e68\")) {window._Plotly.Plots.resize(document.getElementById(\"da115eab-2917-4e83-a5fe-dad508756e68\"));};})</script>"
      ],
      "text/vnd.plotly.v1+html": [
       "<div id=\"da115eab-2917-4e83-a5fe-dad508756e68\" style=\"height: 525px; width: 100%;\" class=\"plotly-graph-div\"></div><script type=\"text/javascript\">require([\"plotly\"], function(Plotly) { window.PLOTLYENV=window.PLOTLYENV || {};window.PLOTLYENV.BASE_URL=\"https://plot.ly\";\n",
       "if (document.getElementById(\"da115eab-2917-4e83-a5fe-dad508756e68\")) {\n",
       "    Plotly.newPlot(\"da115eab-2917-4e83-a5fe-dad508756e68\", [{\"marker\": {\"size\": [37.6, 38.0, 37.8, 39.6, 38.8, 39.2, 38.0, 38.2, 37.8, 38.2, 38.6, 38.6, 38.6, 38.4, 37.2, 38.0]}, \"mode\": \"markers\", \"name\": \"[1024, 512, 256]\", \"text\": [\"neurons:32-fulldrop:0.3-drop:0.3-activation_full:['leaky', 0.2]-lag:12-full:[1024, 512, 256]\", \"neurons:32-fulldrop:0.3-drop:0.3-activation_full:['leaky', 0.2]-lag:6-full:[1024, 512, 256]\", \"neurons:32-fulldrop:0.4-drop:0.3-activation_full:['leaky', 0.2]-lag:12-full:[1024, 512, 256]\", \"neurons:32-fulldrop:0.4-drop:0.3-activation_full:['leaky', 0.2]-lag:6-full:[1024, 512, 256]\", \"neurons:32-fulldrop:0.3-drop:0.4-activation_full:['leaky', 0.2]-lag:12-full:[1024, 512, 256]\", \"neurons:32-fulldrop:0.3-drop:0.4-activation_full:['leaky', 0.2]-lag:6-full:[1024, 512, 256]\", \"neurons:32-fulldrop:0.4-drop:0.4-activation_full:['leaky', 0.2]-lag:12-full:[1024, 512, 256]\", \"neurons:32-fulldrop:0.4-drop:0.4-activation_full:['leaky', 0.2]-lag:6-full:[1024, 512, 256]\", \"neurons:64-fulldrop:0.3-drop:0.3-activation_full:['leaky', 0.2]-lag:12-full:[1024, 512, 256]\", \"neurons:64-fulldrop:0.3-drop:0.3-activation_full:['leaky', 0.2]-lag:6-full:[1024, 512, 256]\", \"neurons:64-fulldrop:0.4-drop:0.3-activation_full:['leaky', 0.2]-lag:12-full:[1024, 512, 256]\", \"neurons:64-fulldrop:0.4-drop:0.3-activation_full:['leaky', 0.2]-lag:6-full:[1024, 512, 256]\", \"neurons:64-fulldrop:0.3-drop:0.4-activation_full:['leaky', 0.2]-lag:12-full:[1024, 512, 256]\", \"neurons:64-fulldrop:0.3-drop:0.4-activation_full:['leaky', 0.2]-lag:6-full:[1024, 512, 256]\", \"neurons:64-fulldrop:0.4-drop:0.4-activation_full:['leaky', 0.2]-lag:12-full:[1024, 512, 256]\", \"neurons:64-fulldrop:0.4-drop:0.4-activation_full:['leaky', 0.2]-lag:6-full:[1024, 512, 256]\"], \"x\": [6.993907432277661, 6.988592724517381, 6.988373122073269, 7.003417253928609, 6.954736774058717, 7.014080068006802, 6.991874127319382, 7.008255386158221, 7.018617089569584, 7.031643008428158, 7.000283850166323, 7.021799649498643, 6.994644467379113, 7.017069247994406, 7.026984458667133, 7.018184283705798], \"y\": [6.680443040110891, 6.673557375301316, 6.690264244010874, 6.689753983123675, 6.649529546569952, 6.701569111477792, 6.685513789938047, 6.699994342350947, 6.698683552379023, 6.720375218780897, 6.699974756359338, 6.732802588628142, 6.675576187926153, 6.701841600475926, 6.718049138170683, 6.713771445110444], \"type\": \"scatter\", \"uid\": \"374466a2-300d-4d03-8054-116458cda68e\"}, {\"marker\": {\"size\": [40.0, 40.0, 40.0, 40.0, 40.0, 40.0, 40.0, 40.0, 40.0, 40.0, 40.0, 40.0, 40.0, 40.0, 40.0, 40.0]}, \"mode\": \"markers\", \"name\": \"[1024, 512]\", \"text\": [\"neurons:32-fulldrop:0.3-drop:0.3-activation_full:['leaky', 0.2]-lag:12-full:[1024, 512]\", \"neurons:32-fulldrop:0.3-drop:0.3-activation_full:['leaky', 0.2]-lag:18-full:[1024, 512]\", \"neurons:32-fulldrop:0.3-drop:0.3-activation_full:['leaky', 0.2]-lag:6-full:[1024, 512]\", \"neurons:32-fulldrop:0.4-drop:0.3-activation_full:['leaky', 0.2]-lag:12-full:[1024, 512]\", \"neurons:32-fulldrop:0.4-drop:0.3-activation_full:['leaky', 0.2]-lag:18-full:[1024, 512]\", \"neurons:32-fulldrop:0.4-drop:0.3-activation_full:['leaky', 0.2]-lag:6-full:[1024, 512]\", \"neurons:32-fulldrop:0.3-drop:0.4-activation_full:['leaky', 0.2]-lag:12-full:[1024, 512]\", \"neurons:32-fulldrop:0.3-drop:0.4-activation_full:['leaky', 0.2]-lag:18-full:[1024, 512]\", \"neurons:32-fulldrop:0.3-drop:0.4-activation_full:['leaky', 0.2]-lag:6-full:[1024, 512]\", \"neurons:32-fulldrop:0.4-drop:0.4-activation_full:['leaky', 0.2]-lag:12-full:[1024, 512]\", \"neurons:32-fulldrop:0.4-drop:0.4-activation_full:['leaky', 0.2]-lag:18-full:[1024, 512]\", \"neurons:32-fulldrop:0.4-drop:0.4-activation_full:['leaky', 0.2]-lag:6-full:[1024, 512]\", \"neurons:64-fulldrop:0.3-drop:0.3-activation_full:['leaky', 0.2]-lag:12-full:[1024, 512]\", \"neurons:64-fulldrop:0.4-drop:0.3-activation_full:['leaky', 0.2]-lag:12-full:[1024, 512]\", \"neurons:64-fulldrop:0.3-drop:0.4-activation_full:['leaky', 0.2]-lag:12-full:[1024, 512]\", \"neurons:64-fulldrop:0.4-drop:0.4-activation_full:['leaky', 0.2]-lag:12-full:[1024, 512]\"], \"x\": [6.989416680484834, 6.916760433557228, 7.007093168686122, 7.005038236631747, 6.9443832762854765, 7.020651076834582, 6.982015401074052, 6.868758139571668, 7.021885410063848, 7.010542930578892, 6.900961869680714, 7.022911055955498, 7.01411377517318, 7.025976523869216, 6.997935513523394, 7.016438173484662], \"y\": [6.666173403899067, 6.602562740080982, 6.691811405949324, 6.695950570070953, 6.6375463534693475, 6.712920389969117, 6.665577443418264, 6.560011151773091, 6.708941277977381, 6.696460027745269, 6.6037425225039, 6.718503483856386, 6.698068009594638, 6.712994459205429, 6.685109001204536, 6.707940076701715], \"type\": \"scatter\", \"uid\": \"26897468-42a3-4291-bcee-87ece6a1d99d\"}, {\"marker\": {\"size\": [38.4, 38.4, 38.4, 38.6, 40.0, 40.0, 40.0, 40.0, 40.0, 40.0, 40.0, 40.0]}, \"mode\": \"markers\", \"name\": \"[1024]\", \"text\": [\"neurons:128-fulldrop:0.3-drop:0.3-activation_full:['leaky', 0.2]-lag:18-full:[1024]\", \"neurons:128-fulldrop:0.4-drop:0.3-activation_full:['leaky', 0.2]-lag:18-full:[1024]\", \"neurons:128-fulldrop:0.3-drop:0.4-activation_full:['leaky', 0.2]-lag:18-full:[1024]\", \"neurons:128-fulldrop:0.4-drop:0.4-activation_full:['leaky', 0.2]-lag:18-full:[1024]\", \"neurons:32-fulldrop:0.3-drop:0.3-activation_full:['leaky', 0.2]-lag:12-full:[1024]\", \"neurons:32-fulldrop:0.4-drop:0.3-activation_full:['leaky', 0.2]-lag:12-full:[1024]\", \"neurons:32-fulldrop:0.3-drop:0.4-activation_full:['leaky', 0.2]-lag:12-full:[1024]\", \"neurons:32-fulldrop:0.4-drop:0.4-activation_full:['leaky', 0.2]-lag:12-full:[1024]\", \"neurons:64-fulldrop:0.3-drop:0.3-activation_full:['leaky', 0.2]-lag:12-full:[1024]\", \"neurons:64-fulldrop:0.4-drop:0.3-activation_full:['leaky', 0.2]-lag:12-full:[1024]\", \"neurons:64-fulldrop:0.3-drop:0.4-activation_full:['leaky', 0.2]-lag:12-full:[1024]\", \"neurons:64-fulldrop:0.4-drop:0.4-activation_full:['leaky', 0.2]-lag:12-full:[1024]\"], \"x\": [6.944945779760517, 6.978046311135851, 6.918361991709855, 6.932560900142687, 6.959136487264003, 6.982265380559776, 6.965408744981773, 6.975517066658816, 6.970407550087775, 6.989215203347365, 6.980618733359862, 6.984121126750844], \"y\": [6.630679386044012, 6.660583035265116, 6.5932156186297, 6.615742397656953, 6.646642812636566, 6.664225641457568, 6.6508991044909065, 6.665064415966294, 6.650232373870132, 6.671456719791715, 6.666516294558611, 6.675467043331852], \"type\": \"scatter\", \"uid\": \"16308eea-0ad6-4efd-bdcf-f51964d2733b\"}, {\"marker\": {\"size\": [37.8, 37.8, 38.4, 38.2, 39.2, 38.2, 38.0, 37.4, 38.4, 39.0, 39.2, 38.8, 39.2, 38.8, 38.8, 38.0]}, \"mode\": \"markers\", \"name\": \"[2048, 1024]\", \"text\": [\"neurons:32-fulldrop:0.3-drop:0.3-activation_full:['leaky', 0.2]-lag:12-full:[2048, 1024]\", \"neurons:32-fulldrop:0.3-drop:0.3-activation_full:['leaky', 0.2]-lag:6-full:[2048, 1024]\", \"neurons:32-fulldrop:0.4-drop:0.3-activation_full:['leaky', 0.2]-lag:12-full:[2048, 1024]\", \"neurons:32-fulldrop:0.4-drop:0.3-activation_full:['leaky', 0.2]-lag:6-full:[2048, 1024]\", \"neurons:32-fulldrop:0.3-drop:0.4-activation_full:['leaky', 0.2]-lag:12-full:[2048, 1024]\", \"neurons:32-fulldrop:0.3-drop:0.4-activation_full:['leaky', 0.2]-lag:6-full:[2048, 1024]\", \"neurons:32-fulldrop:0.4-drop:0.4-activation_full:['leaky', 0.2]-lag:12-full:[2048, 1024]\", \"neurons:32-fulldrop:0.4-drop:0.4-activation_full:['leaky', 0.2]-lag:6-full:[2048, 1024]\", \"neurons:64-fulldrop:0.3-drop:0.3-activation_full:['leaky', 0.2]-lag:12-full:[2048, 1024]\", \"neurons:64-fulldrop:0.3-drop:0.3-activation_full:['leaky', 0.2]-lag:6-full:[2048, 1024]\", \"neurons:64-fulldrop:0.4-drop:0.3-activation_full:['leaky', 0.2]-lag:12-full:[2048, 1024]\", \"neurons:64-fulldrop:0.4-drop:0.3-activation_full:['leaky', 0.2]-lag:6-full:[2048, 1024]\", \"neurons:64-fulldrop:0.3-drop:0.4-activation_full:['leaky', 0.2]-lag:12-full:[2048, 1024]\", \"neurons:64-fulldrop:0.3-drop:0.4-activation_full:['leaky', 0.2]-lag:6-full:[2048, 1024]\", \"neurons:64-fulldrop:0.4-drop:0.4-activation_full:['leaky', 0.2]-lag:12-full:[2048, 1024]\", \"neurons:64-fulldrop:0.4-drop:0.4-activation_full:['leaky', 0.2]-lag:6-full:[2048, 1024]\"], \"x\": [6.928995305056621, 6.988013212414107, 6.97672883956336, 7.019879503985912, 6.91814785616771, 6.993535634568828, 6.942852610624332, 7.018010699568866, 6.97378868937225, 7.021428799540395, 7.0103709511569114, 7.04033907679021, 6.965790359397972, 7.016163767324799, 6.998900660771358, 7.021811013779888], \"y\": [6.598291381704682, 6.673198261132639, 6.657512449270773, 6.709264921000054, 6.604751854123798, 6.664629708769204, 6.624637295396925, 6.70061280104049, 6.650788751071464, 6.691013641358729, 6.694358198775342, 6.721944927000179, 6.647359632644004, 6.696337940371993, 6.681628734240188, 6.717101642662369], \"type\": \"scatter\", \"uid\": \"9cf7ffc6-2d39-4ebe-8f44-4b3023a57e9d\"}, {\"marker\": {\"size\": [38.4, 38.2, 38.0, 39.2, 40.0, 40.0, 40.0, 40.0, 40.0, 40.0, 40.0, 40.0]}, \"mode\": \"markers\", \"name\": \"[2048]\", \"text\": [\"neurons:128-fulldrop:0.3-drop:0.3-activation_full:['leaky', 0.2]-lag:18-full:[2048]\", \"neurons:128-fulldrop:0.4-drop:0.3-activation_full:['leaky', 0.2]-lag:18-full:[2048]\", \"neurons:128-fulldrop:0.3-drop:0.4-activation_full:['leaky', 0.2]-lag:18-full:[2048]\", \"neurons:128-fulldrop:0.4-drop:0.4-activation_full:['leaky', 0.2]-lag:18-full:[2048]\", \"neurons:32-fulldrop:0.3-drop:0.3-activation_full:['leaky', 0.2]-lag:12-full:[2048]\", \"neurons:32-fulldrop:0.4-drop:0.3-activation_full:['leaky', 0.2]-lag:12-full:[2048]\", \"neurons:32-fulldrop:0.3-drop:0.4-activation_full:['leaky', 0.2]-lag:12-full:[2048]\", \"neurons:32-fulldrop:0.4-drop:0.4-activation_full:['leaky', 0.2]-lag:12-full:[2048]\", \"neurons:64-fulldrop:0.3-drop:0.3-activation_full:['leaky', 0.2]-lag:12-full:[2048]\", \"neurons:64-fulldrop:0.4-drop:0.3-activation_full:['leaky', 0.2]-lag:12-full:[2048]\", \"neurons:64-fulldrop:0.3-drop:0.4-activation_full:['leaky', 0.2]-lag:12-full:[2048]\", \"neurons:64-fulldrop:0.4-drop:0.4-activation_full:['leaky', 0.2]-lag:12-full:[2048]\"], \"x\": [6.943410608752115, 6.938617799601525, 6.93197334756312, 6.908742076463348, 6.945426009317112, 6.966294167231803, 6.949134334351884, 6.962920351026244, 6.962747951806279, 6.977921114868079, 6.960948826090735, 6.965086135099304], \"y\": [6.621016788723247, 6.618198402447328, 6.610355004621957, 6.592523120344787, 6.634889925760887, 6.648019192438905, 6.640330146873295, 6.651371077649085, 6.641036010726594, 6.662059569883353, 6.6410007350670925, 6.649624503340869], \"type\": \"scatter\", \"uid\": \"2ca59c13-bca5-4c90-8e2d-9e50d6960106\"}, {\"marker\": {\"size\": [35.6, 37.0, 35.8, 35.6, 36.2, 35.6, 35.0, 34.6, 35.4, 35.6, 35.6, 35.4, 34.8, 36.6, 36.2, 36.4]}, \"mode\": \"markers\", \"name\": \"[4096, 1024]\", \"text\": [\"neurons:32-fulldrop:0.3-drop:0.3-activation_full:['leaky', 0.2]-lag:12-full:[4096, 1024]\", \"neurons:32-fulldrop:0.3-drop:0.3-activation_full:['leaky', 0.2]-lag:6-full:[4096, 1024]\", \"neurons:32-fulldrop:0.4-drop:0.3-activation_full:['leaky', 0.2]-lag:12-full:[4096, 1024]\", \"neurons:32-fulldrop:0.4-drop:0.3-activation_full:['leaky', 0.2]-lag:6-full:[4096, 1024]\", \"neurons:32-fulldrop:0.3-drop:0.4-activation_full:['leaky', 0.2]-lag:12-full:[4096, 1024]\", \"neurons:32-fulldrop:0.3-drop:0.4-activation_full:['leaky', 0.2]-lag:6-full:[4096, 1024]\", \"neurons:32-fulldrop:0.4-drop:0.4-activation_full:['leaky', 0.2]-lag:12-full:[4096, 1024]\", \"neurons:32-fulldrop:0.4-drop:0.4-activation_full:['leaky', 0.2]-lag:6-full:[4096, 1024]\", \"neurons:64-fulldrop:0.3-drop:0.3-activation_full:['leaky', 0.2]-lag:12-full:[4096, 1024]\", \"neurons:64-fulldrop:0.3-drop:0.3-activation_full:['leaky', 0.2]-lag:6-full:[4096, 1024]\", \"neurons:64-fulldrop:0.4-drop:0.3-activation_full:['leaky', 0.2]-lag:12-full:[4096, 1024]\", \"neurons:64-fulldrop:0.4-drop:0.3-activation_full:['leaky', 0.2]-lag:6-full:[4096, 1024]\", \"neurons:64-fulldrop:0.3-drop:0.4-activation_full:['leaky', 0.2]-lag:12-full:[4096, 1024]\", \"neurons:64-fulldrop:0.3-drop:0.4-activation_full:['leaky', 0.2]-lag:6-full:[4096, 1024]\", \"neurons:64-fulldrop:0.4-drop:0.4-activation_full:['leaky', 0.2]-lag:12-full:[4096, 1024]\", \"neurons:64-fulldrop:0.4-drop:0.4-activation_full:['leaky', 0.2]-lag:6-full:[4096, 1024]\"], \"x\": [6.912659649341507, 6.975505598519576, 6.957674253040895, 7.006362615083873, 6.8414616142863, 6.988242361789208, 6.949656737908967, 7.011531418782866, 6.93190192650893, 6.9977090055156115, 6.980564969004042, 7.05821199440821, 6.915722784756589, 7.0121614190519255, 6.930926490929097, 7.010201748824704], \"y\": [6.595555614395058, 6.659515623246749, 6.6286478642013815, 6.683351759369485, 6.5256202225082145, 6.664912507152243, 6.640928837692195, 6.67144257636516, 6.620512479709336, 6.673097590131592, 6.689094438064382, 6.731563796211773, 6.6189560576168756, 6.669413639051462, 6.643608691740999, 6.6989711799324105], \"type\": \"scatter\", \"uid\": \"29b2e1f5-5c81-4aa3-a807-b51252f6179a\"}, {\"marker\": {\"size\": [35.6, 33.2, 36.8, 34.6, 35.4, 36.2, 36.6, 36.4, 36.8, 35.6, 35.6, 34.2, 34.8, 34.4, 35.2, 36.8]}, \"mode\": \"markers\", \"name\": \"[4096, 2048]\", \"text\": [\"neurons:32-fulldrop:0.3-drop:0.3-activation_full:['leaky', 0.2]-lag:12-full:[4096, 2048]\", \"neurons:32-fulldrop:0.3-drop:0.3-activation_full:['leaky', 0.2]-lag:6-full:[4096, 2048]\", \"neurons:32-fulldrop:0.4-drop:0.3-activation_full:['leaky', 0.2]-lag:12-full:[4096, 2048]\", \"neurons:32-fulldrop:0.4-drop:0.3-activation_full:['leaky', 0.2]-lag:6-full:[4096, 2048]\", \"neurons:32-fulldrop:0.3-drop:0.4-activation_full:['leaky', 0.2]-lag:12-full:[4096, 2048]\", \"neurons:32-fulldrop:0.3-drop:0.4-activation_full:['leaky', 0.2]-lag:6-full:[4096, 2048]\", \"neurons:32-fulldrop:0.4-drop:0.4-activation_full:['leaky', 0.2]-lag:12-full:[4096, 2048]\", \"neurons:32-fulldrop:0.4-drop:0.4-activation_full:['leaky', 0.2]-lag:6-full:[4096, 2048]\", \"neurons:64-fulldrop:0.3-drop:0.3-activation_full:['leaky', 0.2]-lag:12-full:[4096, 2048]\", \"neurons:64-fulldrop:0.3-drop:0.3-activation_full:['leaky', 0.2]-lag:6-full:[4096, 2048]\", \"neurons:64-fulldrop:0.4-drop:0.3-activation_full:['leaky', 0.2]-lag:12-full:[4096, 2048]\", \"neurons:64-fulldrop:0.4-drop:0.3-activation_full:['leaky', 0.2]-lag:6-full:[4096, 2048]\", \"neurons:64-fulldrop:0.3-drop:0.4-activation_full:['leaky', 0.2]-lag:12-full:[4096, 2048]\", \"neurons:64-fulldrop:0.3-drop:0.4-activation_full:['leaky', 0.2]-lag:6-full:[4096, 2048]\", \"neurons:64-fulldrop:0.4-drop:0.4-activation_full:['leaky', 0.2]-lag:12-full:[4096, 2048]\", \"neurons:64-fulldrop:0.4-drop:0.4-activation_full:['leaky', 0.2]-lag:6-full:[4096, 2048]\"], \"x\": [6.890773830080445, 6.9334922852371195, 6.926173878523346, 7.029310547946275, 6.8049701201876305, 6.959108433744172, 6.880017953603131, 6.981942591017649, 6.919127144374491, 6.964916189477997, 6.965076556282678, 7.0263697732831325, 6.904918254971648, 7.004883219334753, 6.945095733586293, 7.039412056355809], \"y\": [6.569877733421442, 6.614156307329918, 6.618757462690727, 6.710260509888163, 6.488208158172172, 6.649527025051982, 6.566869928570496, 6.673439762521749, 6.61976772759265, 6.635311223537872, 6.640037946727722, 6.687423723495941, 6.585596529625879, 6.675725842174021, 6.6396684003182935, 6.721118034261085], \"type\": \"scatter\", \"uid\": \"ed5894bd-58bd-4f5a-affc-ca823fa7d058\"}, {\"marker\": {\"size\": [28.0, 28.6, 30.0, 29.0, 27.0, 28.8, 29.0, 29.2]}, \"mode\": \"markers\", \"name\": \"[512, 256, 128]\", \"text\": [\"neurons:32-fulldrop:0.3-drop:0.3-activation_full:['leaky', 0.2]-lag:12-full:[512, 256, 128]\", \"neurons:32-fulldrop:0.4-drop:0.3-activation_full:['leaky', 0.2]-lag:12-full:[512, 256, 128]\", \"neurons:32-fulldrop:0.3-drop:0.4-activation_full:['leaky', 0.2]-lag:12-full:[512, 256, 128]\", \"neurons:32-fulldrop:0.4-drop:0.4-activation_full:['leaky', 0.2]-lag:12-full:[512, 256, 128]\", \"neurons:64-fulldrop:0.3-drop:0.3-activation_full:['leaky', 0.2]-lag:12-full:[512, 256, 128]\", \"neurons:64-fulldrop:0.4-drop:0.3-activation_full:['leaky', 0.2]-lag:12-full:[512, 256, 128]\", \"neurons:64-fulldrop:0.3-drop:0.4-activation_full:['leaky', 0.2]-lag:12-full:[512, 256, 128]\", \"neurons:64-fulldrop:0.4-drop:0.4-activation_full:['leaky', 0.2]-lag:12-full:[512, 256, 128]\"], \"x\": [6.951026665205437, 6.9612640351750725, 6.956428597171021, 6.9840319073539066, 6.978402685332467, 7.035027191567052, 6.983564986257279, 6.969994606995329], \"y\": [6.646389984615791, 6.673786274602349, 6.634594743244041, 6.66389672390111, 6.678661083407625, 6.711207960428792, 6.667257479338295, 6.679370600430428], \"type\": \"scatter\", \"uid\": \"b82f0934-026c-4dd0-b5af-56fcecd46e54\"}, {\"marker\": {\"size\": [38.2, 38.6, 38.6, 38.4, 40.0, 40.0, 40.0, 40.0, 40.0, 40.0, 40.0, 40.0, 40.0, 40.0, 40.0, 40.0, 40.0, 40.0, 40.0, 40.0]}, \"mode\": \"markers\", \"name\": \"[512, 256]\", \"text\": [\"neurons:128-fulldrop:0.3-drop:0.3-activation_full:['leaky', 0.2]-lag:18-full:[512, 256]\", \"neurons:128-fulldrop:0.4-drop:0.3-activation_full:['leaky', 0.2]-lag:18-full:[512, 256]\", \"neurons:128-fulldrop:0.3-drop:0.4-activation_full:['leaky', 0.2]-lag:18-full:[512, 256]\", \"neurons:128-fulldrop:0.4-drop:0.4-activation_full:['leaky', 0.2]-lag:18-full:[512, 256]\", \"neurons:32-fulldrop:0.3-drop:0.3-activation_full:['leaky', 0.2]-lag:12-full:[512, 256]\", \"neurons:32-fulldrop:0.3-drop:0.3-activation_full:['leaky', 0.2]-lag:18-full:[512, 256]\", \"neurons:32-fulldrop:0.3-drop:0.3-activation_full:['leaky', 0.2]-lag:6-full:[512, 256]\", \"neurons:32-fulldrop:0.4-drop:0.3-activation_full:['leaky', 0.2]-lag:12-full:[512, 256]\", \"neurons:32-fulldrop:0.4-drop:0.3-activation_full:['leaky', 0.2]-lag:18-full:[512, 256]\", \"neurons:32-fulldrop:0.4-drop:0.3-activation_full:['leaky', 0.2]-lag:6-full:[512, 256]\", \"neurons:32-fulldrop:0.3-drop:0.4-activation_full:['leaky', 0.2]-lag:12-full:[512, 256]\", \"neurons:32-fulldrop:0.3-drop:0.4-activation_full:['leaky', 0.2]-lag:18-full:[512, 256]\", \"neurons:32-fulldrop:0.3-drop:0.4-activation_full:['leaky', 0.2]-lag:6-full:[512, 256]\", \"neurons:32-fulldrop:0.4-drop:0.4-activation_full:['leaky', 0.2]-lag:12-full:[512, 256]\", \"neurons:32-fulldrop:0.4-drop:0.4-activation_full:['leaky', 0.2]-lag:18-full:[512, 256]\", \"neurons:32-fulldrop:0.4-drop:0.4-activation_full:['leaky', 0.2]-lag:6-full:[512, 256]\", \"neurons:64-fulldrop:0.3-drop:0.3-activation_full:['leaky', 0.2]-lag:12-full:[512, 256]\", \"neurons:64-fulldrop:0.4-drop:0.3-activation_full:['leaky', 0.2]-lag:12-full:[512, 256]\", \"neurons:64-fulldrop:0.3-drop:0.4-activation_full:['leaky', 0.2]-lag:12-full:[512, 256]\", \"neurons:64-fulldrop:0.4-drop:0.4-activation_full:['leaky', 0.2]-lag:12-full:[512, 256]\"], \"x\": [6.98447507451112, 6.983750481435923, 6.945733860067015, 6.961745251283524, 7.006046440125806, 6.959487719872449, 7.013926472370757, 7.0129778999681465, 6.975430870177722, 7.003050892916397, 7.012819309365277, 6.918183521926446, 7.019726453177334, 7.010631746280785, 6.930542074331133, 7.007206734100766, 7.023871090606434, 7.020210919922131, 7.013085565895495, 7.02530822693692], \"y\": [6.65458328445265, 6.667896392770152, 6.631202845069978, 6.649213796407495, 6.692534852609392, 6.64122316922938, 6.706600330716383, 6.702910752185613, 6.662151216309305, 6.702416785805274, 6.700281099572874, 6.613787745907967, 6.715691259313059, 6.702179979157343, 6.635471721815858, 6.707836460147763, 6.7139065916917104, 6.714591366746596, 6.703408756098827, 6.715076138656101], \"type\": \"scatter\", \"uid\": \"0e9aac3c-0594-4fe7-962c-fccbd95af551\"}, {\"marker\": {\"size\": [38.8, 38.4, 38.4, 38.6, 40.0, 40.0, 40.0, 40.0, 40.0, 40.0, 40.0, 40.0, 40.0, 40.0, 40.0, 40.0, 40.0, 40.0, 40.0, 40.0, 40.0, 40.0, 40.0, 40.0, 40.0, 40.0, 40.0, 40.0, 40.0, 40.0, 40.0, 40.0, 40.0, 40.0, 40.0, 40.0, 40.0, 40.0, 40.0, 40.0, 40.0, 40.0, 40.0, 40.0, 40.0, 40.0, 40.0, 40.0, 40.0, 40.0, 40.0, 40.0, 40.0, 40.0, 40.0, 40.0, 40.0, 40.0, 40.0, 40.0, 40.0, 40.0, 40.0, 40.0, 40.0, 40.0, 40.0, 40.0]}, \"mode\": \"markers\", \"name\": \"[512]\", \"text\": [\"neurons:128-fulldrop:0.3-drop:0.3-activation_full:['leaky', 0.2]-lag:18-full:[512]\", \"neurons:128-fulldrop:0.4-drop:0.3-activation_full:['leaky', 0.2]-lag:18-full:[512]\", \"neurons:128-fulldrop:0.3-drop:0.4-activation_full:['leaky', 0.2]-lag:18-full:[512]\", \"neurons:128-fulldrop:0.4-drop:0.4-activation_full:['leaky', 0.2]-lag:18-full:[512]\", \"neurons:32-fulldrop:0.3-drop:0.3-activation_full:['elu', 0.4]-lag:12-full:[512]\", \"neurons:32-fulldrop:0.3-drop:0.3-activation_full:['elu', 0.4]-lag:12-full:[512]\", \"neurons:32-fulldrop:0.3-drop:0.3-activation_full:['elu', 0.4]-lag:12-full:[512]\", \"neurons:32-fulldrop:0.3-drop:0.3-activation_full:['leaky', 0.2]-lag:12-full:[512]\", \"neurons:32-fulldrop:0.3-drop:0.3-activation_full:['leaky', 0.2]-lag:18-full:[512]\", \"neurons:32-fulldrop:0.3-drop:0.3-activation_full:['leaky', 0.2]-lag:6-full:[512]\", \"neurons:32-fulldrop:0.3-drop:0.3-activation_full:['leaky', 0.2]-lag:12-full:[512]\", \"neurons:32-fulldrop:0.3-drop:0.3-activation_full:['linear']-lag:12-full:[512]\", \"neurons:32-fulldrop:0.3-drop:0.3-activation_full:['linear']-lag:12-full:[512]\", \"neurons:32-fulldrop:0.4-drop:0.3-activation_full:['elu', 0.4]-lag:12-full:[512]\", \"neurons:32-fulldrop:0.4-drop:0.3-activation_full:['elu', 0.4]-lag:12-full:[512]\", \"neurons:32-fulldrop:0.4-drop:0.3-activation_full:['elu', 0.4]-lag:12-full:[512]\", \"neurons:32-fulldrop:0.4-drop:0.3-activation_full:['leaky', 0.2]-lag:12-full:[512]\", \"neurons:32-fulldrop:0.4-drop:0.3-activation_full:['leaky', 0.2]-lag:18-full:[512]\", \"neurons:32-fulldrop:0.4-drop:0.3-activation_full:['leaky', 0.2]-lag:6-full:[512]\", \"neurons:32-fulldrop:0.4-drop:0.3-activation_full:['leaky', 0.2]-lag:12-full:[512]\", \"neurons:32-fulldrop:0.4-drop:0.3-activation_full:['linear']-lag:12-full:[512]\", \"neurons:32-fulldrop:0.4-drop:0.3-activation_full:['linear']-lag:12-full:[512]\", \"neurons:32-fulldrop:0.3-drop:0.4-activation_full:['elu', 0.4]-lag:12-full:[512]\", \"neurons:32-fulldrop:0.3-drop:0.4-activation_full:['elu', 0.4]-lag:12-full:[512]\", \"neurons:32-fulldrop:0.3-drop:0.4-activation_full:['elu', 0.4]-lag:12-full:[512]\", \"neurons:32-fulldrop:0.3-drop:0.4-activation_full:['leaky', 0.2]-lag:12-full:[512]\", \"neurons:32-fulldrop:0.3-drop:0.4-activation_full:['leaky', 0.2]-lag:18-full:[512]\", \"neurons:32-fulldrop:0.3-drop:0.4-activation_full:['leaky', 0.2]-lag:6-full:[512]\", \"neurons:32-fulldrop:0.3-drop:0.4-activation_full:['leaky', 0.2]-lag:12-full:[512]\", \"neurons:32-fulldrop:0.3-drop:0.4-activation_full:['linear']-lag:12-full:[512]\", \"neurons:32-fulldrop:0.3-drop:0.4-activation_full:['linear']-lag:12-full:[512]\", \"neurons:32-fulldrop:0.4-drop:0.4-activation_full:['elu', 0.4]-lag:12-full:[512]\", \"neurons:32-fulldrop:0.4-drop:0.4-activation_full:['elu', 0.4]-lag:12-full:[512]\", \"neurons:32-fulldrop:0.4-drop:0.4-activation_full:['elu', 0.4]-lag:12-full:[512]\", \"neurons:32-fulldrop:0.4-drop:0.4-activation_full:['leaky', 0.2]-lag:12-full:[512]\", \"neurons:32-fulldrop:0.4-drop:0.4-activation_full:['leaky', 0.2]-lag:18-full:[512]\", \"neurons:32-fulldrop:0.4-drop:0.4-activation_full:['leaky', 0.2]-lag:6-full:[512]\", \"neurons:32-fulldrop:0.4-drop:0.4-activation_full:['leaky', 0.2]-lag:12-full:[512]\", \"neurons:32-fulldrop:0.4-drop:0.4-activation_full:['linear']-lag:12-full:[512]\", \"neurons:32-fulldrop:0.4-drop:0.4-activation_full:['linear']-lag:12-full:[512]\", \"neurons:64-fulldrop:0.3-drop:0.3-activation_full:['elu', 0.4]-lag:12-full:[512]\", \"neurons:64-fulldrop:0.3-drop:0.3-activation_full:['elu', 0.4]-lag:12-full:[512]\", \"neurons:64-fulldrop:0.3-drop:0.3-activation_full:['elu', 0.4]-lag:12-full:[512]\", \"neurons:64-fulldrop:0.3-drop:0.3-activation_full:['leaky', 0.2]-lag:12-full:[512]\", \"neurons:64-fulldrop:0.3-drop:0.3-activation_full:['leaky', 0.2]-lag:12-full:[512]\", \"neurons:64-fulldrop:0.3-drop:0.3-activation_full:['linear']-lag:12-full:[512]\", \"neurons:64-fulldrop:0.3-drop:0.3-activation_full:['linear']-lag:12-full:[512]\", \"neurons:64-fulldrop:0.4-drop:0.3-activation_full:['elu', 0.4]-lag:12-full:[512]\", \"neurons:64-fulldrop:0.4-drop:0.3-activation_full:['elu', 0.4]-lag:12-full:[512]\", \"neurons:64-fulldrop:0.4-drop:0.3-activation_full:['elu', 0.4]-lag:12-full:[512]\", \"neurons:64-fulldrop:0.4-drop:0.3-activation_full:['leaky', 0.2]-lag:12-full:[512]\", \"neurons:64-fulldrop:0.4-drop:0.3-activation_full:['leaky', 0.2]-lag:12-full:[512]\", \"neurons:64-fulldrop:0.4-drop:0.3-activation_full:['linear']-lag:12-full:[512]\", \"neurons:64-fulldrop:0.4-drop:0.3-activation_full:['linear']-lag:12-full:[512]\", \"neurons:64-fulldrop:0.3-drop:0.4-activation_full:['elu', 0.4]-lag:12-full:[512]\", \"neurons:64-fulldrop:0.3-drop:0.4-activation_full:['elu', 0.4]-lag:12-full:[512]\", \"neurons:64-fulldrop:0.3-drop:0.4-activation_full:['elu', 0.4]-lag:12-full:[512]\", \"neurons:64-fulldrop:0.3-drop:0.4-activation_full:['leaky', 0.2]-lag:12-full:[512]\", \"neurons:64-fulldrop:0.3-drop:0.4-activation_full:['leaky', 0.2]-lag:12-full:[512]\", \"neurons:64-fulldrop:0.3-drop:0.4-activation_full:['linear']-lag:12-full:[512]\", \"neurons:64-fulldrop:0.3-drop:0.4-activation_full:['linear']-lag:12-full:[512]\", \"neurons:64-fulldrop:0.4-drop:0.4-activation_full:['elu', 0.4]-lag:12-full:[512]\", \"neurons:64-fulldrop:0.4-drop:0.4-activation_full:['elu', 0.4]-lag:12-full:[512]\", \"neurons:64-fulldrop:0.4-drop:0.4-activation_full:['elu', 0.4]-lag:12-full:[512]\", \"neurons:64-fulldrop:0.4-drop:0.4-activation_full:['leaky', 0.2]-lag:12-full:[512]\", \"neurons:64-fulldrop:0.4-drop:0.4-activation_full:['leaky', 0.2]-lag:12-full:[512]\", \"neurons:64-fulldrop:0.4-drop:0.4-activation_full:['linear']-lag:12-full:[512]\", \"neurons:64-fulldrop:0.4-drop:0.4-activation_full:['linear']-lag:12-full:[512]\"], \"x\": [6.93810623245331, 6.964527621536035, 6.929159742202845, 6.952776897748952, 6.937996145854209, 6.9169912342172974, 6.914404144321279, 6.963360289723539, 6.991093247917392, 6.9964391923470775, 6.94503799379787, 6.726281594362548, 6.722790630846722, 6.930808531084214, 6.9098316096281485, 6.901773860387909, 6.979834353366798, 6.996823402882891, 6.991701561386505, 6.948998954536245, 6.723096921547636, 6.726232128636624, 6.933286890650813, 6.909560157293217, 6.905118504661897, 6.9699994655999005, 6.91815235572431, 6.99943460043146, 6.934228172520232, 6.6953911107312924, 6.686017158438956, 6.925442376673346, 6.906600943836258, 6.887709990826862, 6.98165030911412, 6.92151999553334, 6.993199131883753, 6.957264500149294, 6.686261504404806, 6.703407160808764, 6.940239259813796, 6.914725321567496, 6.891427136712874, 6.983566675972745, 6.947878472751556, 6.753158954075766, 6.759517888138516, 6.932983111609929, 6.906800638320297, 6.879500251804975, 6.98386839073928, 6.954538130572944, 6.751138923947655, 6.761179049419736, 6.938701873322443, 6.916159058948089, 6.882516766045093, 6.977448924282901, 6.941665939040103, 6.724355830901829, 6.716885870790939, 6.927515993756608, 6.914804245016428, 6.862463427236953, 6.987435998316585, 6.9584678904511925, 6.7194501434078715, 6.725122551502359], \"y\": [6.626347425179458, 6.639993659074796, 6.606806443503835, 6.6356410198790226, 6.628190744909972, 6.606934947389041, 6.609420328019489, 6.656861317878948, 6.679650696054255, 6.691185290764402, 6.637318226558327, 6.42097431797788, 6.416748444772631, 6.626122302713503, 6.603220197629646, 6.594865954126181, 6.670252699293096, 6.6936460113465905, 6.687689329407636, 6.650019579254368, 6.418577894399736, 6.427176080244433, 6.622494766132215, 6.600025116060648, 6.5925313311126015, 6.652569617203721, 6.6179007702188395, 6.69348826740064, 6.619770991962928, 6.393505366120677, 6.380222092012863, 6.619134454113288, 6.602110788817491, 6.580214729065237, 6.670019852267167, 6.627848698738391, 6.695178238578278, 6.658117797353026, 6.390696913313674, 6.406095416710303, 6.628620248546874, 6.5993477833127665, 6.584046084799708, 6.668416299815609, 6.636145937170568, 6.451184100421615, 6.453818217000905, 6.622810870306833, 6.605177768450172, 6.564004057075104, 6.679544182582334, 6.647818942594302, 6.44312578388616, 6.449583546741467, 6.61638828296957, 6.602108468299942, 6.5733530640098214, 6.6620632998551885, 6.625029354125164, 6.4116228858291935, 6.413153114636475, 6.621597419419203, 6.600135299876058, 6.554213495932852, 6.680044367291623, 6.651493532683722, 6.411328450029671, 6.404863423705328], \"type\": \"scatter\", \"uid\": \"bfb3eea9-79ee-47b9-b77c-ae0c319419ac\"}], {}, {\"showLink\": false, \"linkText\": \"Export to plot.ly\", \"plotlyServerURL\": \"https://plot.ly\"}); \n",
       "}\n",
       "});</script><script type=\"text/javascript\">window.addEventListener(\"resize\", function(){if (document.getElementById(\"da115eab-2917-4e83-a5fe-dad508756e68\")) {window._Plotly.Plots.resize(document.getElementById(\"da115eab-2917-4e83-a5fe-dad508756e68\"));};})</script>"
      ]
     },
     "metadata": {},
     "output_type": "display_data"
    }
   ],
   "source": [
    "results.results_dataframe_graph(facet='full',att=['neurons','fulldrop', 'drop', 'activation_full', 'lag'])"
   ]
  },
  {
   "cell_type": "code",
   "execution_count": null,
   "metadata": {},
   "outputs": [],
   "source": []
  }
 ],
 "metadata": {
  "extensions": {
   "jupyter_dashboards": {
    "activeView": "grid_default",
    "version": 1,
    "views": {
     "grid_default": {
      "cellMargin": 10,
      "defaultCellHeight": 20,
      "maxColumns": 12,
      "name": "grid",
      "type": "grid"
     },
     "report_default": {
      "name": "report",
      "type": "report"
     }
    }
   }
  },
  "kernelspec": {
   "display_name": "Python 3",
   "language": "python",
   "name": "python3"
  },
  "language_info": {
   "codemirror_mode": {
    "name": "ipython",
    "version": 3
   },
   "file_extension": ".py",
   "mimetype": "text/x-python",
   "name": "python",
   "nbconvert_exporter": "python",
   "pygments_lexer": "ipython3",
   "version": "3.6.8"
  },
  "latex_envs": {
   "LaTeX_envs_menu_present": true,
   "autoclose": false,
   "autocomplete": true,
   "bibliofile": "biblio.bib",
   "cite_by": "apalike",
   "current_citInitial": 1,
   "eqLabelWithNumbers": true,
   "eqNumInitial": 1,
   "hotkeys": {
    "equation": "Ctrl-E",
    "itemize": "Ctrl-I"
   },
   "labels_anchors": false,
   "latex_user_defs": false,
   "report_style_numbering": false,
   "user_envs_cfg": false
  },
  "toc": {
   "nav_menu": {},
   "number_sections": true,
   "sideBar": true,
   "skip_h1_title": false,
   "toc_cell": false,
   "toc_position": {
    "height": "877px",
    "left": "0px",
    "right": "1446px",
    "top": "110px",
    "width": "212px"
   },
   "toc_section_display": "block",
   "toc_window_display": true
  },
  "varInspector": {
   "cols": {
    "lenName": 16,
    "lenType": 16,
    "lenVar": 40
   },
   "kernels_config": {
    "python": {
     "delete_cmd_postfix": "",
     "delete_cmd_prefix": "del ",
     "library": "var_list.py",
     "varRefreshCmd": "print(var_dic_list())"
    },
    "r": {
     "delete_cmd_postfix": ") ",
     "delete_cmd_prefix": "rm(",
     "library": "var_list.r",
     "varRefreshCmd": "cat(var_dic_list()) "
    }
   },
   "types_to_exclude": [
    "module",
    "function",
    "builtin_function_or_method",
    "instance",
    "_Feature"
   ],
   "window_display": false
  }
 },
 "nbformat": 4,
 "nbformat_minor": 2
}
